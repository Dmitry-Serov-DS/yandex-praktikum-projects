{
 "cells": [
  {
   "cell_type": "markdown",
   "metadata": {
    "toc": true
   },
   "source": [
    "<h1>Содержание<span class=\"tocSkip\"></span></h1>\n",
    "<div class=\"toc\"><ul class=\"toc-item\"><li><span><a href=\"#Постановка-задачи:\" data-toc-modified-id=\"Постановка-задачи:-1\"><span class=\"toc-item-num\">1&nbsp;&nbsp;</span>Постановка задачи:</a></span></li><li><span><a href=\"#Подготовка-данных\" data-toc-modified-id=\"Подготовка-данных-2\"><span class=\"toc-item-num\">2&nbsp;&nbsp;</span>Подготовка данных</a></span><ul class=\"toc-item\"><li><span><a href=\"#Загрузка-и-исследование-данных\" data-toc-modified-id=\"Загрузка-и-исследование-данных-2.1\"><span class=\"toc-item-num\">2.1&nbsp;&nbsp;</span>Загрузка и исследование данных</a></span></li><li><span><a href=\"#Проверка-расчета-эффективности-обогащения\" data-toc-modified-id=\"Проверка-расчета-эффективности-обогащения-2.2\"><span class=\"toc-item-num\">2.2&nbsp;&nbsp;</span>Проверка расчета эффективности обогащения</a></span></li><li><span><a href=\"#Предобработка-данных\" data-toc-modified-id=\"Предобработка-данных-2.3\"><span class=\"toc-item-num\">2.3&nbsp;&nbsp;</span>Предобработка данных</a></span><ul class=\"toc-item\"><li><span><a href=\"#Проверим-какие-признаки-отсутствуют-в-тестовой-выборке:\" data-toc-modified-id=\"Проверим-какие-признаки-отсутствуют-в-тестовой-выборке:-2.3.1\"><span class=\"toc-item-num\">2.3.1&nbsp;&nbsp;</span>Проверим какие признаки отсутствуют в тестовой выборке:</a></span></li><li><span><a href=\"#Посмотрим,-в-каких-столбцах-есть-пропуски\" data-toc-modified-id=\"Посмотрим,-в-каких-столбцах-есть-пропуски-2.3.2\"><span class=\"toc-item-num\">2.3.2&nbsp;&nbsp;</span>Посмотрим, в каких столбцах есть пропуски</a></span></li><li><span><a href=\"#Проверим-данные-на-наличие-явных-дубликатов-и-в-случае-наличия---удалим-их\" data-toc-modified-id=\"Проверим-данные-на-наличие-явных-дубликатов-и-в-случае-наличия---удалим-их-2.3.3\"><span class=\"toc-item-num\">2.3.3&nbsp;&nbsp;</span>Проверим данные на наличие явных дубликатов и в случае наличия - удалим их</a></span></li><li><span><a href=\"#Посмотрим-корреляцию-признаков-используя-коррляцию-Пирсона\" data-toc-modified-id=\"Посмотрим-корреляцию-признаков-используя-коррляцию-Пирсона-2.3.4\"><span class=\"toc-item-num\">2.3.4&nbsp;&nbsp;</span>Посмотрим корреляцию признаков используя коррляцию Пирсона</a></span></li></ul></li></ul></li><li><span><a href=\"#Анализ-данных\" data-toc-modified-id=\"Анализ-данных-3\"><span class=\"toc-item-num\">3&nbsp;&nbsp;</span>Анализ данных</a></span><ul class=\"toc-item\"><li><span><a href=\"#Посмотрим,-как-меняется-концентрация-металлов-(Au,-Ag,-Pb)-на-различных-этапах-очистки.-Опишите-выводы.\" data-toc-modified-id=\"Посмотрим,-как-меняется-концентрация-металлов-(Au,-Ag,-Pb)-на-различных-этапах-очистки.-Опишите-выводы.-3.1\"><span class=\"toc-item-num\">3.1&nbsp;&nbsp;</span>Посмотрим, как меняется концентрация металлов (Au, Ag, Pb) на различных этапах очистки. Опишите выводы.</a></span><ul class=\"toc-item\"><li><span><a href=\"#концентрация-Ag\" data-toc-modified-id=\"концентрация-Ag-3.1.1\"><span class=\"toc-item-num\">3.1.1&nbsp;&nbsp;</span>концентрация Ag</a></span></li><li><span><a href=\"#концентрация-Pb\" data-toc-modified-id=\"концентрация-Pb-3.1.2\"><span class=\"toc-item-num\">3.1.2&nbsp;&nbsp;</span>концентрация Pb</a></span></li><li><span><a href=\"#концентрация-Au\" data-toc-modified-id=\"концентрация-Au-3.1.3\"><span class=\"toc-item-num\">3.1.3&nbsp;&nbsp;</span>концентрация Au</a></span></li></ul></li><li><span><a href=\"#Сравним-распределения-размеров-гранул-сырья-на-обучающей-и-тестовой-выборках\" data-toc-modified-id=\"Сравним-распределения-размеров-гранул-сырья-на-обучающей-и-тестовой-выборках-3.2\"><span class=\"toc-item-num\">3.2&nbsp;&nbsp;</span>Сравним распределения размеров гранул сырья на обучающей и тестовой выборках</a></span></li><li><span><a href=\"#Исследуем-суммарную-концентрацию-всех-веществ-на-разных-стадиях:-в-сырье,-в-черновом-и-финальном-концентратах.\" data-toc-modified-id=\"Исследуем-суммарную-концентрацию-всех-веществ-на-разных-стадиях:-в-сырье,-в-черновом-и-финальном-концентратах.-3.3\"><span class=\"toc-item-num\">3.3&nbsp;&nbsp;</span>Исследуем суммарную концентрацию всех веществ на разных стадиях: в сырье, в черновом и финальном концентратах.</a></span></li></ul></li><li><span><a href=\"#Модель\" data-toc-modified-id=\"Модель-4\"><span class=\"toc-item-num\">4&nbsp;&nbsp;</span>Модель</a></span><ul class=\"toc-item\"><li><span><a href=\"#Функция-sMAPE\" data-toc-modified-id=\"Функция-sMAPE-4.1\"><span class=\"toc-item-num\">4.1&nbsp;&nbsp;</span>Функция sMAPE</a></span></li><li><span><a href=\"#Разделим-данные-на-признаки-и-целевые-признаки\" data-toc-modified-id=\"Разделим-данные-на-признаки-и-целевые-признаки-4.2\"><span class=\"toc-item-num\">4.2&nbsp;&nbsp;</span>Разделим данные на признаки и целевые признаки</a></span></li><li><span><a href=\"#Подберем-гиперпараметры-используя-алгоритм--RandomizedSearchCV-для-модели-Случайного-леса\" data-toc-modified-id=\"Подберем-гиперпараметры-используя-алгоритм--RandomizedSearchCV-для-модели-Случайного-леса-4.3\"><span class=\"toc-item-num\">4.3&nbsp;&nbsp;</span>Подберем гиперпараметры используя алгоритм  <strong>RandomizedSearchCV</strong> для модели Случайного леса</a></span></li><li><span><a href=\"#произведем-уточнение-параметров-используя-алгоритм-GridSearchCV\" data-toc-modified-id=\"произведем-уточнение-параметров-используя-алгоритм-GridSearchCV-4.4\"><span class=\"toc-item-num\">4.4&nbsp;&nbsp;</span>произведем уточнение параметров используя алгоритм GridSearchCV</a></span><ul class=\"toc-item\"><li><span><a href=\"#Создадим-модели-Случайного-леса-с-лучшими-параметрами,-Дерево-и-Линейную-регрессию\" data-toc-modified-id=\"Создадим-модели-Случайного-леса-с-лучшими-параметрами,-Дерево-и-Линейную-регрессию-4.4.1\"><span class=\"toc-item-num\">4.4.1&nbsp;&nbsp;</span>Создадим модели Случайного леса с лучшими параметрами, Дерево и Линейную регрессию</a></span></li></ul></li><li><span><a href=\"#Обучим-модели-и-определим-лучшую-модель-по-метрике-sMAPE,-используя-кросс-валидацию:\" data-toc-modified-id=\"Обучим-модели-и-определим-лучшую-модель-по-метрике-sMAPE,-используя-кросс-валидацию:-4.5\"><span class=\"toc-item-num\">4.5&nbsp;&nbsp;</span>Обучим модели и определим лучшую модель по метрике sMAPE, используя кросс-валидацию:</a></span><ul class=\"toc-item\"><li><span><a href=\"#Спрогнозируем-эффективность-обогащения-чернового-концентрата\" data-toc-modified-id=\"Спрогнозируем-эффективность-обогащения-чернового-концентрата-4.5.1\"><span class=\"toc-item-num\">4.5.1&nbsp;&nbsp;</span>Спрогнозируем эффективность обогащения чернового концентрата</a></span></li><li><span><a href=\"#Спрогнозирую-эффективность-обогащения-финального-концентрата\" data-toc-modified-id=\"Спрогнозирую-эффективность-обогащения-финального-концентрата-4.5.2\"><span class=\"toc-item-num\">4.5.2&nbsp;&nbsp;</span>Спрогнозирую эффективность обогащения финального концентрата</a></span></li><li><span><a href=\"#Вычислю-Итоговое-sMAPE:\" data-toc-modified-id=\"Вычислю-Итоговое-sMAPE:-4.5.3\"><span class=\"toc-item-num\">4.5.3&nbsp;&nbsp;</span>Вычислю Итоговое sMAPE:</a></span><ul class=\"toc-item\"><li><span><a href=\"#Для-модели-случайного-леса:\" data-toc-modified-id=\"Для-модели-случайного-леса:-4.5.3.1\"><span class=\"toc-item-num\">4.5.3.1&nbsp;&nbsp;</span>Для модели случайного леса:</a></span></li><li><span><a href=\"#Для-линейной-модели:\" data-toc-modified-id=\"Для-линейной-модели:-4.5.3.2\"><span class=\"toc-item-num\">4.5.3.2&nbsp;&nbsp;</span>Для линейной модели:</a></span></li><li><span><a href=\"#Для-модели-дерева:\" data-toc-modified-id=\"Для-модели-дерева:-4.5.3.3\"><span class=\"toc-item-num\">4.5.3.3&nbsp;&nbsp;</span>Для модели дерева:</a></span></li></ul></li></ul></li></ul></li><li><span><a href=\"#Проверим-результаты-на-тестовой-выборке\" data-toc-modified-id=\"Проверим-результаты-на-тестовой-выборке-5\"><span class=\"toc-item-num\">5&nbsp;&nbsp;</span>Проверим результаты на тестовой выборке</a></span><ul class=\"toc-item\"><li><span><a href=\"#Спрогнозируем-эффективность-обогащения-чернового-концентрата\" data-toc-modified-id=\"Спрогнозируем-эффективность-обогащения-чернового-концентрата-5.1\"><span class=\"toc-item-num\">5.1&nbsp;&nbsp;</span>Спрогнозируем эффективность обогащения чернового концентрата</a></span></li><li><span><a href=\"#Спрогнозируем-эффективность-обогащения-финального-концентрата\" data-toc-modified-id=\"Спрогнозируем-эффективность-обогащения-финального-концентрата-5.2\"><span class=\"toc-item-num\">5.2&nbsp;&nbsp;</span>Спрогнозируем эффективность обогащения финального концентрата</a></span></li><li><span><a href=\"#Вычислим-Итоговое-sMAPE:\" data-toc-modified-id=\"Вычислим-Итоговое-sMAPE:-5.3\"><span class=\"toc-item-num\">5.3&nbsp;&nbsp;</span>Вычислим Итоговое sMAPE:</a></span></li><li><span><a href=\"#Сравним-результаты-с-константной-моделью\" data-toc-modified-id=\"Сравним-результаты-с-константной-моделью-5.4\"><span class=\"toc-item-num\">5.4&nbsp;&nbsp;</span>Сравним результаты с константной моделью</a></span></li></ul></li><li><span><a href=\"#Вывод\" data-toc-modified-id=\"Вывод-6\"><span class=\"toc-item-num\">6&nbsp;&nbsp;</span>Вывод</a></span></li><li><span><a href=\"#Чек-лист-готовности-проекта\" data-toc-modified-id=\"Чек-лист-готовности-проекта-7\"><span class=\"toc-item-num\">7&nbsp;&nbsp;</span>Чек-лист готовности проекта</a></span></li></ul></div>"
   ]
  },
  {
   "cell_type": "markdown",
   "metadata": {},
   "source": [
    "# Восстановление золота из руды"
   ]
  },
  {
   "cell_type": "markdown",
   "metadata": {},
   "source": [
    "Подготовьте прототип модели машинного обучения для «Цифры». Компания разрабатывает решения для эффективной работы промышленных предприятий.\n",
    "\n",
    "Модель должна предсказать коэффициент восстановления золота из золотосодержащей руды. Используйте данные с параметрами добычи и очистки. \n",
    "\n",
    "Модель поможет оптимизировать производство, чтобы не запускать предприятие с убыточными характеристиками.\n",
    "\n",
    "Вам нужно:\n",
    "\n",
    "1. Подготовить данные;\n",
    "2. Провести исследовательский анализ данных;\n",
    "3. Построить и обучить модель.\n",
    "\n",
    "Чтобы выполнить проект, обращайтесь к библиотекам *pandas*, *matplotlib* и *sklearn.* Вам поможет их документация."
   ]
  },
  {
   "cell_type": "markdown",
   "metadata": {},
   "source": [
    "## Постановка задачи:  \n",
    "В нашем распоряжении данные, выгруженные из хранилища, которые описывают и характеризуют технологический процесс восстановления золота из золотосодержащей руды.\n",
    "\n",
    "Необходимо подготовить прототип модели машинного обучения, который должна предсказать коэффициент восстановления золота из золотосодержащей руды.\n",
    "\n",
    "Для оценки эффективности будем использовать метрику sMAPE."
   ]
  },
  {
   "cell_type": "markdown",
   "metadata": {},
   "source": [
    "## Подготовка данных"
   ]
  },
  {
   "cell_type": "code",
   "execution_count": 128,
   "metadata": {},
   "outputs": [
    {
     "name": "stdout",
     "output_type": "stream",
     "text": [
      "Requirement already satisfied: phik in /opt/conda/lib/python3.9/site-packages (0.12.3)\n",
      "Requirement already satisfied: pandas>=0.25.1 in /opt/conda/lib/python3.9/site-packages (from phik) (1.2.4)\n",
      "Requirement already satisfied: scipy>=1.5.2 in /opt/conda/lib/python3.9/site-packages (from phik) (1.9.1)\n",
      "Requirement already satisfied: numpy>=1.18.0 in /opt/conda/lib/python3.9/site-packages (from phik) (1.21.1)\n",
      "Requirement already satisfied: matplotlib>=2.2.3 in /opt/conda/lib/python3.9/site-packages (from phik) (3.3.4)\n",
      "Requirement already satisfied: joblib>=0.14.1 in /opt/conda/lib/python3.9/site-packages (from phik) (1.1.0)\n",
      "Requirement already satisfied: kiwisolver>=1.0.1 in /opt/conda/lib/python3.9/site-packages (from matplotlib>=2.2.3->phik) (1.4.4)\n",
      "Requirement already satisfied: pillow>=6.2.0 in /opt/conda/lib/python3.9/site-packages (from matplotlib>=2.2.3->phik) (8.4.0)\n",
      "Requirement already satisfied: cycler>=0.10 in /opt/conda/lib/python3.9/site-packages (from matplotlib>=2.2.3->phik) (0.11.0)\n",
      "Requirement already satisfied: python-dateutil>=2.1 in /opt/conda/lib/python3.9/site-packages (from matplotlib>=2.2.3->phik) (2.8.1)\n",
      "Requirement already satisfied: pyparsing!=2.0.4,!=2.1.2,!=2.1.6,>=2.0.3 in /opt/conda/lib/python3.9/site-packages (from matplotlib>=2.2.3->phik) (2.4.7)\n",
      "Requirement already satisfied: pytz>=2017.3 in /opt/conda/lib/python3.9/site-packages (from pandas>=0.25.1->phik) (2021.1)\n",
      "Requirement already satisfied: six>=1.5 in /opt/conda/lib/python3.9/site-packages (from python-dateutil>=2.1->matplotlib>=2.2.3->phik) (1.16.0)\n"
     ]
    }
   ],
   "source": [
    "!pip install phik"
   ]
  },
  {
   "cell_type": "code",
   "execution_count": 129,
   "metadata": {},
   "outputs": [],
   "source": [
    "# импортируем библиотеки\n",
    "import warnings\n",
    "warnings.filterwarnings('ignore')\n",
    "\n",
    "\n",
    "import pandas as pd\n",
    "import seaborn as sns\n",
    "import matplotlib.pyplot as plt\n",
    "import numpy as np\n",
    "from matplotlib.pyplot import figure\n",
    "\n",
    "from sklearn.linear_model import LinearRegression\n",
    "from sklearn.ensemble import RandomForestRegressor\n",
    "from sklearn.tree import DecisionTreeRegressor\n",
    "from sklearn.metrics import mean_absolute_error\n",
    "from sklearn.impute import KNNImputer, SimpleImputer\n",
    "from sklearn.model_selection import KFold, train_test_split, RandomizedSearchCV, GridSearchCV\n",
    "from sklearn.preprocessing import StandardScaler\n",
    "from sklearn.dummy import DummyRegressor\n",
    "\n",
    "from pyod.models.knn import KNN\n",
    "from pyod.models.iforest import IForest\n",
    "\n",
    "import phik\n",
    "from phik.report import plot_correlation_matrix, correlation_report"
   ]
  },
  {
   "cell_type": "markdown",
   "metadata": {},
   "source": [
    "### Загрузка и исследование данных"
   ]
  },
  {
   "cell_type": "code",
   "execution_count": 130,
   "metadata": {},
   "outputs": [],
   "source": [
    "df_full = pd.read_csv('/datasets/gold_recovery_full_new.csv')\n",
    "df_train = pd.read_csv('/datasets/gold_recovery_train_new.csv')\n",
    "df_test = pd.read_csv('/datasets/gold_recovery_test_new.csv')"
   ]
  },
  {
   "cell_type": "markdown",
   "metadata": {},
   "source": [
    "Посмотрим информацию о датасетах, какие данные содержатся, типы, количество значений в каждом столбце и наличие пропусков"
   ]
  },
  {
   "cell_type": "markdown",
   "metadata": {},
   "source": [
    "Убедимся, что файлы корректно прочитались - выведем первые 5 строк датасетов"
   ]
  },
  {
   "cell_type": "code",
   "execution_count": 131,
   "metadata": {
    "scrolled": true
   },
   "outputs": [
    {
     "data": {
      "text/html": [
       "<div>\n",
       "<style scoped>\n",
       "    .dataframe tbody tr th:only-of-type {\n",
       "        vertical-align: middle;\n",
       "    }\n",
       "\n",
       "    .dataframe tbody tr th {\n",
       "        vertical-align: top;\n",
       "    }\n",
       "\n",
       "    .dataframe thead th {\n",
       "        text-align: right;\n",
       "    }\n",
       "</style>\n",
       "<table border=\"1\" class=\"dataframe\">\n",
       "  <thead>\n",
       "    <tr style=\"text-align: right;\">\n",
       "      <th></th>\n",
       "      <th>date</th>\n",
       "      <th>final.output.concentrate_ag</th>\n",
       "      <th>final.output.concentrate_pb</th>\n",
       "      <th>final.output.concentrate_sol</th>\n",
       "      <th>final.output.concentrate_au</th>\n",
       "      <th>final.output.recovery</th>\n",
       "      <th>final.output.tail_ag</th>\n",
       "      <th>final.output.tail_pb</th>\n",
       "      <th>final.output.tail_sol</th>\n",
       "      <th>final.output.tail_au</th>\n",
       "      <th>...</th>\n",
       "      <th>secondary_cleaner.state.floatbank4_a_air</th>\n",
       "      <th>secondary_cleaner.state.floatbank4_a_level</th>\n",
       "      <th>secondary_cleaner.state.floatbank4_b_air</th>\n",
       "      <th>secondary_cleaner.state.floatbank4_b_level</th>\n",
       "      <th>secondary_cleaner.state.floatbank5_a_air</th>\n",
       "      <th>secondary_cleaner.state.floatbank5_a_level</th>\n",
       "      <th>secondary_cleaner.state.floatbank5_b_air</th>\n",
       "      <th>secondary_cleaner.state.floatbank5_b_level</th>\n",
       "      <th>secondary_cleaner.state.floatbank6_a_air</th>\n",
       "      <th>secondary_cleaner.state.floatbank6_a_level</th>\n",
       "    </tr>\n",
       "  </thead>\n",
       "  <tbody>\n",
       "    <tr>\n",
       "      <th>0</th>\n",
       "      <td>2016-01-15 00:00:00</td>\n",
       "      <td>6.055403</td>\n",
       "      <td>9.889648</td>\n",
       "      <td>5.507324</td>\n",
       "      <td>42.192020</td>\n",
       "      <td>70.541216</td>\n",
       "      <td>10.411962</td>\n",
       "      <td>0.895447</td>\n",
       "      <td>16.904297</td>\n",
       "      <td>2.143149</td>\n",
       "      <td>...</td>\n",
       "      <td>14.016835</td>\n",
       "      <td>-502.488007</td>\n",
       "      <td>12.099931</td>\n",
       "      <td>-504.715942</td>\n",
       "      <td>9.925633</td>\n",
       "      <td>-498.310211</td>\n",
       "      <td>8.079666</td>\n",
       "      <td>-500.470978</td>\n",
       "      <td>14.151341</td>\n",
       "      <td>-605.841980</td>\n",
       "    </tr>\n",
       "    <tr>\n",
       "      <th>1</th>\n",
       "      <td>2016-01-15 01:00:00</td>\n",
       "      <td>6.029369</td>\n",
       "      <td>9.968944</td>\n",
       "      <td>5.257781</td>\n",
       "      <td>42.701629</td>\n",
       "      <td>69.266198</td>\n",
       "      <td>10.462676</td>\n",
       "      <td>0.927452</td>\n",
       "      <td>16.634514</td>\n",
       "      <td>2.224930</td>\n",
       "      <td>...</td>\n",
       "      <td>13.992281</td>\n",
       "      <td>-505.503262</td>\n",
       "      <td>11.950531</td>\n",
       "      <td>-501.331529</td>\n",
       "      <td>10.039245</td>\n",
       "      <td>-500.169983</td>\n",
       "      <td>7.984757</td>\n",
       "      <td>-500.582168</td>\n",
       "      <td>13.998353</td>\n",
       "      <td>-599.787184</td>\n",
       "    </tr>\n",
       "    <tr>\n",
       "      <th>2</th>\n",
       "      <td>2016-01-15 02:00:00</td>\n",
       "      <td>6.055926</td>\n",
       "      <td>10.213995</td>\n",
       "      <td>5.383759</td>\n",
       "      <td>42.657501</td>\n",
       "      <td>68.116445</td>\n",
       "      <td>10.507046</td>\n",
       "      <td>0.953716</td>\n",
       "      <td>16.208849</td>\n",
       "      <td>2.257889</td>\n",
       "      <td>...</td>\n",
       "      <td>14.015015</td>\n",
       "      <td>-502.520901</td>\n",
       "      <td>11.912783</td>\n",
       "      <td>-501.133383</td>\n",
       "      <td>10.070913</td>\n",
       "      <td>-500.129135</td>\n",
       "      <td>8.013877</td>\n",
       "      <td>-500.517572</td>\n",
       "      <td>14.028663</td>\n",
       "      <td>-601.427363</td>\n",
       "    </tr>\n",
       "    <tr>\n",
       "      <th>3</th>\n",
       "      <td>2016-01-15 03:00:00</td>\n",
       "      <td>6.047977</td>\n",
       "      <td>9.977019</td>\n",
       "      <td>4.858634</td>\n",
       "      <td>42.689819</td>\n",
       "      <td>68.347543</td>\n",
       "      <td>10.422762</td>\n",
       "      <td>0.883763</td>\n",
       "      <td>16.532835</td>\n",
       "      <td>2.146849</td>\n",
       "      <td>...</td>\n",
       "      <td>14.036510</td>\n",
       "      <td>-500.857308</td>\n",
       "      <td>11.999550</td>\n",
       "      <td>-501.193686</td>\n",
       "      <td>9.970366</td>\n",
       "      <td>-499.201640</td>\n",
       "      <td>7.977324</td>\n",
       "      <td>-500.255908</td>\n",
       "      <td>14.005551</td>\n",
       "      <td>-599.996129</td>\n",
       "    </tr>\n",
       "    <tr>\n",
       "      <th>4</th>\n",
       "      <td>2016-01-15 04:00:00</td>\n",
       "      <td>6.148599</td>\n",
       "      <td>10.142511</td>\n",
       "      <td>4.939416</td>\n",
       "      <td>42.774141</td>\n",
       "      <td>66.927016</td>\n",
       "      <td>10.360302</td>\n",
       "      <td>0.792826</td>\n",
       "      <td>16.525686</td>\n",
       "      <td>2.055292</td>\n",
       "      <td>...</td>\n",
       "      <td>14.027298</td>\n",
       "      <td>-499.838632</td>\n",
       "      <td>11.953070</td>\n",
       "      <td>-501.053894</td>\n",
       "      <td>9.925709</td>\n",
       "      <td>-501.686727</td>\n",
       "      <td>7.894242</td>\n",
       "      <td>-500.356035</td>\n",
       "      <td>13.996647</td>\n",
       "      <td>-601.496691</td>\n",
       "    </tr>\n",
       "  </tbody>\n",
       "</table>\n",
       "<p>5 rows × 87 columns</p>\n",
       "</div>"
      ],
      "text/plain": [
       "                  date  final.output.concentrate_ag  \\\n",
       "0  2016-01-15 00:00:00                     6.055403   \n",
       "1  2016-01-15 01:00:00                     6.029369   \n",
       "2  2016-01-15 02:00:00                     6.055926   \n",
       "3  2016-01-15 03:00:00                     6.047977   \n",
       "4  2016-01-15 04:00:00                     6.148599   \n",
       "\n",
       "   final.output.concentrate_pb  final.output.concentrate_sol  \\\n",
       "0                     9.889648                      5.507324   \n",
       "1                     9.968944                      5.257781   \n",
       "2                    10.213995                      5.383759   \n",
       "3                     9.977019                      4.858634   \n",
       "4                    10.142511                      4.939416   \n",
       "\n",
       "   final.output.concentrate_au  final.output.recovery  final.output.tail_ag  \\\n",
       "0                    42.192020              70.541216             10.411962   \n",
       "1                    42.701629              69.266198             10.462676   \n",
       "2                    42.657501              68.116445             10.507046   \n",
       "3                    42.689819              68.347543             10.422762   \n",
       "4                    42.774141              66.927016             10.360302   \n",
       "\n",
       "   final.output.tail_pb  final.output.tail_sol  final.output.tail_au  ...  \\\n",
       "0              0.895447              16.904297              2.143149  ...   \n",
       "1              0.927452              16.634514              2.224930  ...   \n",
       "2              0.953716              16.208849              2.257889  ...   \n",
       "3              0.883763              16.532835              2.146849  ...   \n",
       "4              0.792826              16.525686              2.055292  ...   \n",
       "\n",
       "   secondary_cleaner.state.floatbank4_a_air  \\\n",
       "0                                 14.016835   \n",
       "1                                 13.992281   \n",
       "2                                 14.015015   \n",
       "3                                 14.036510   \n",
       "4                                 14.027298   \n",
       "\n",
       "   secondary_cleaner.state.floatbank4_a_level  \\\n",
       "0                                 -502.488007   \n",
       "1                                 -505.503262   \n",
       "2                                 -502.520901   \n",
       "3                                 -500.857308   \n",
       "4                                 -499.838632   \n",
       "\n",
       "   secondary_cleaner.state.floatbank4_b_air  \\\n",
       "0                                 12.099931   \n",
       "1                                 11.950531   \n",
       "2                                 11.912783   \n",
       "3                                 11.999550   \n",
       "4                                 11.953070   \n",
       "\n",
       "   secondary_cleaner.state.floatbank4_b_level  \\\n",
       "0                                 -504.715942   \n",
       "1                                 -501.331529   \n",
       "2                                 -501.133383   \n",
       "3                                 -501.193686   \n",
       "4                                 -501.053894   \n",
       "\n",
       "   secondary_cleaner.state.floatbank5_a_air  \\\n",
       "0                                  9.925633   \n",
       "1                                 10.039245   \n",
       "2                                 10.070913   \n",
       "3                                  9.970366   \n",
       "4                                  9.925709   \n",
       "\n",
       "   secondary_cleaner.state.floatbank5_a_level  \\\n",
       "0                                 -498.310211   \n",
       "1                                 -500.169983   \n",
       "2                                 -500.129135   \n",
       "3                                 -499.201640   \n",
       "4                                 -501.686727   \n",
       "\n",
       "   secondary_cleaner.state.floatbank5_b_air  \\\n",
       "0                                  8.079666   \n",
       "1                                  7.984757   \n",
       "2                                  8.013877   \n",
       "3                                  7.977324   \n",
       "4                                  7.894242   \n",
       "\n",
       "   secondary_cleaner.state.floatbank5_b_level  \\\n",
       "0                                 -500.470978   \n",
       "1                                 -500.582168   \n",
       "2                                 -500.517572   \n",
       "3                                 -500.255908   \n",
       "4                                 -500.356035   \n",
       "\n",
       "   secondary_cleaner.state.floatbank6_a_air  \\\n",
       "0                                 14.151341   \n",
       "1                                 13.998353   \n",
       "2                                 14.028663   \n",
       "3                                 14.005551   \n",
       "4                                 13.996647   \n",
       "\n",
       "   secondary_cleaner.state.floatbank6_a_level  \n",
       "0                                 -605.841980  \n",
       "1                                 -599.787184  \n",
       "2                                 -601.427363  \n",
       "3                                 -599.996129  \n",
       "4                                 -601.496691  \n",
       "\n",
       "[5 rows x 87 columns]"
      ]
     },
     "execution_count": 131,
     "metadata": {},
     "output_type": "execute_result"
    }
   ],
   "source": [
    "df_full.head()"
   ]
  },
  {
   "cell_type": "code",
   "execution_count": 132,
   "metadata": {},
   "outputs": [
    {
     "name": "stdout",
     "output_type": "stream",
     "text": [
      "<class 'pandas.core.frame.DataFrame'>\n",
      "RangeIndex: 19439 entries, 0 to 19438\n",
      "Data columns (total 87 columns):\n",
      " #   Column                                              Non-Null Count  Dtype  \n",
      "---  ------                                              --------------  -----  \n",
      " 0   date                                                19439 non-null  object \n",
      " 1   final.output.concentrate_ag                         19438 non-null  float64\n",
      " 2   final.output.concentrate_pb                         19438 non-null  float64\n",
      " 3   final.output.concentrate_sol                        19228 non-null  float64\n",
      " 4   final.output.concentrate_au                         19439 non-null  float64\n",
      " 5   final.output.recovery                               19439 non-null  float64\n",
      " 6   final.output.tail_ag                                19438 non-null  float64\n",
      " 7   final.output.tail_pb                                19338 non-null  float64\n",
      " 8   final.output.tail_sol                               19433 non-null  float64\n",
      " 9   final.output.tail_au                                19439 non-null  float64\n",
      " 10  primary_cleaner.input.sulfate                       19415 non-null  float64\n",
      " 11  primary_cleaner.input.depressant                    19402 non-null  float64\n",
      " 12  primary_cleaner.input.feed_size                     19439 non-null  float64\n",
      " 13  primary_cleaner.input.xanthate                      19335 non-null  float64\n",
      " 14  primary_cleaner.output.concentrate_ag               19439 non-null  float64\n",
      " 15  primary_cleaner.output.concentrate_pb               19323 non-null  float64\n",
      " 16  primary_cleaner.output.concentrate_sol              19069 non-null  float64\n",
      " 17  primary_cleaner.output.concentrate_au               19439 non-null  float64\n",
      " 18  primary_cleaner.output.tail_ag                      19435 non-null  float64\n",
      " 19  primary_cleaner.output.tail_pb                      19418 non-null  float64\n",
      " 20  primary_cleaner.output.tail_sol                     19377 non-null  float64\n",
      " 21  primary_cleaner.output.tail_au                      19439 non-null  float64\n",
      " 22  primary_cleaner.state.floatbank8_a_air              19435 non-null  float64\n",
      " 23  primary_cleaner.state.floatbank8_a_level            19438 non-null  float64\n",
      " 24  primary_cleaner.state.floatbank8_b_air              19435 non-null  float64\n",
      " 25  primary_cleaner.state.floatbank8_b_level            19438 non-null  float64\n",
      " 26  primary_cleaner.state.floatbank8_c_air              19437 non-null  float64\n",
      " 27  primary_cleaner.state.floatbank8_c_level            19438 non-null  float64\n",
      " 28  primary_cleaner.state.floatbank8_d_air              19436 non-null  float64\n",
      " 29  primary_cleaner.state.floatbank8_d_level            19438 non-null  float64\n",
      " 30  rougher.calculation.sulfate_to_au_concentrate       19437 non-null  float64\n",
      " 31  rougher.calculation.floatbank10_sulfate_to_au_feed  19437 non-null  float64\n",
      " 32  rougher.calculation.floatbank11_sulfate_to_au_feed  19437 non-null  float64\n",
      " 33  rougher.calculation.au_pb_ratio                     19439 non-null  float64\n",
      " 34  rougher.input.feed_ag                               19439 non-null  float64\n",
      " 35  rougher.input.feed_pb                               19339 non-null  float64\n",
      " 36  rougher.input.feed_rate                             19428 non-null  float64\n",
      " 37  rougher.input.feed_size                             19294 non-null  float64\n",
      " 38  rougher.input.feed_sol                              19340 non-null  float64\n",
      " 39  rougher.input.feed_au                               19439 non-null  float64\n",
      " 40  rougher.input.floatbank10_sulfate                   19405 non-null  float64\n",
      " 41  rougher.input.floatbank10_xanthate                  19431 non-null  float64\n",
      " 42  rougher.input.floatbank11_sulfate                   19395 non-null  float64\n",
      " 43  rougher.input.floatbank11_xanthate                  18986 non-null  float64\n",
      " 44  rougher.output.concentrate_ag                       19439 non-null  float64\n",
      " 45  rougher.output.concentrate_pb                       19439 non-null  float64\n",
      " 46  rougher.output.concentrate_sol                      19416 non-null  float64\n",
      " 47  rougher.output.concentrate_au                       19439 non-null  float64\n",
      " 48  rougher.output.recovery                             19439 non-null  float64\n",
      " 49  rougher.output.tail_ag                              19438 non-null  float64\n",
      " 50  rougher.output.tail_pb                              19439 non-null  float64\n",
      " 51  rougher.output.tail_sol                             19439 non-null  float64\n",
      " 52  rougher.output.tail_au                              19439 non-null  float64\n",
      " 53  rougher.state.floatbank10_a_air                     19438 non-null  float64\n",
      " 54  rougher.state.floatbank10_a_level                   19438 non-null  float64\n",
      " 55  rougher.state.floatbank10_b_air                     19438 non-null  float64\n",
      " 56  rougher.state.floatbank10_b_level                   19438 non-null  float64\n",
      " 57  rougher.state.floatbank10_c_air                     19438 non-null  float64\n",
      " 58  rougher.state.floatbank10_c_level                   19438 non-null  float64\n",
      " 59  rougher.state.floatbank10_d_air                     19439 non-null  float64\n",
      " 60  rougher.state.floatbank10_d_level                   19439 non-null  float64\n",
      " 61  rougher.state.floatbank10_e_air                     19003 non-null  float64\n",
      " 62  rougher.state.floatbank10_e_level                   19439 non-null  float64\n",
      " 63  rougher.state.floatbank10_f_air                     19439 non-null  float64\n",
      " 64  rougher.state.floatbank10_f_level                   19439 non-null  float64\n",
      " 65  secondary_cleaner.output.tail_ag                    19437 non-null  float64\n",
      " 66  secondary_cleaner.output.tail_pb                    19427 non-null  float64\n",
      " 67  secondary_cleaner.output.tail_sol                   17691 non-null  float64\n",
      " 68  secondary_cleaner.output.tail_au                    19439 non-null  float64\n",
      " 69  secondary_cleaner.state.floatbank2_a_air            19219 non-null  float64\n",
      " 70  secondary_cleaner.state.floatbank2_a_level          19438 non-null  float64\n",
      " 71  secondary_cleaner.state.floatbank2_b_air            19416 non-null  float64\n",
      " 72  secondary_cleaner.state.floatbank2_b_level          19438 non-null  float64\n",
      " 73  secondary_cleaner.state.floatbank3_a_air            19426 non-null  float64\n",
      " 74  secondary_cleaner.state.floatbank3_a_level          19438 non-null  float64\n",
      " 75  secondary_cleaner.state.floatbank3_b_air            19438 non-null  float64\n",
      " 76  secondary_cleaner.state.floatbank3_b_level          19438 non-null  float64\n",
      " 77  secondary_cleaner.state.floatbank4_a_air            19433 non-null  float64\n",
      " 78  secondary_cleaner.state.floatbank4_a_level          19438 non-null  float64\n",
      " 79  secondary_cleaner.state.floatbank4_b_air            19438 non-null  float64\n",
      " 80  secondary_cleaner.state.floatbank4_b_level          19438 non-null  float64\n",
      " 81  secondary_cleaner.state.floatbank5_a_air            19438 non-null  float64\n",
      " 82  secondary_cleaner.state.floatbank5_a_level          19438 non-null  float64\n",
      " 83  secondary_cleaner.state.floatbank5_b_air            19438 non-null  float64\n",
      " 84  secondary_cleaner.state.floatbank5_b_level          19438 non-null  float64\n",
      " 85  secondary_cleaner.state.floatbank6_a_air            19437 non-null  float64\n",
      " 86  secondary_cleaner.state.floatbank6_a_level          19438 non-null  float64\n",
      "dtypes: float64(86), object(1)\n",
      "memory usage: 12.9+ MB\n"
     ]
    }
   ],
   "source": [
    "df_full.info()"
   ]
  },
  {
   "cell_type": "code",
   "execution_count": 133,
   "metadata": {},
   "outputs": [
    {
     "data": {
      "text/html": [
       "<div>\n",
       "<style scoped>\n",
       "    .dataframe tbody tr th:only-of-type {\n",
       "        vertical-align: middle;\n",
       "    }\n",
       "\n",
       "    .dataframe tbody tr th {\n",
       "        vertical-align: top;\n",
       "    }\n",
       "\n",
       "    .dataframe thead th {\n",
       "        text-align: right;\n",
       "    }\n",
       "</style>\n",
       "<table border=\"1\" class=\"dataframe\">\n",
       "  <thead>\n",
       "    <tr style=\"text-align: right;\">\n",
       "      <th></th>\n",
       "      <th>final.output.concentrate_ag</th>\n",
       "      <th>final.output.concentrate_pb</th>\n",
       "      <th>final.output.concentrate_sol</th>\n",
       "      <th>final.output.concentrate_au</th>\n",
       "      <th>final.output.recovery</th>\n",
       "      <th>final.output.tail_ag</th>\n",
       "      <th>final.output.tail_pb</th>\n",
       "      <th>final.output.tail_sol</th>\n",
       "      <th>final.output.tail_au</th>\n",
       "      <th>primary_cleaner.input.sulfate</th>\n",
       "      <th>...</th>\n",
       "      <th>secondary_cleaner.state.floatbank4_a_air</th>\n",
       "      <th>secondary_cleaner.state.floatbank4_a_level</th>\n",
       "      <th>secondary_cleaner.state.floatbank4_b_air</th>\n",
       "      <th>secondary_cleaner.state.floatbank4_b_level</th>\n",
       "      <th>secondary_cleaner.state.floatbank5_a_air</th>\n",
       "      <th>secondary_cleaner.state.floatbank5_a_level</th>\n",
       "      <th>secondary_cleaner.state.floatbank5_b_air</th>\n",
       "      <th>secondary_cleaner.state.floatbank5_b_level</th>\n",
       "      <th>secondary_cleaner.state.floatbank6_a_air</th>\n",
       "      <th>secondary_cleaner.state.floatbank6_a_level</th>\n",
       "    </tr>\n",
       "  </thead>\n",
       "  <tbody>\n",
       "    <tr>\n",
       "      <th>count</th>\n",
       "      <td>19438.000000</td>\n",
       "      <td>19438.000000</td>\n",
       "      <td>19228.000000</td>\n",
       "      <td>19439.000000</td>\n",
       "      <td>19439.000000</td>\n",
       "      <td>19438.000000</td>\n",
       "      <td>19338.000000</td>\n",
       "      <td>19433.000000</td>\n",
       "      <td>19439.000000</td>\n",
       "      <td>19415.000000</td>\n",
       "      <td>...</td>\n",
       "      <td>19433.000000</td>\n",
       "      <td>19438.000000</td>\n",
       "      <td>19438.000000</td>\n",
       "      <td>19438.000000</td>\n",
       "      <td>19438.000000</td>\n",
       "      <td>19438.000000</td>\n",
       "      <td>19438.000000</td>\n",
       "      <td>19438.000000</td>\n",
       "      <td>19437.000000</td>\n",
       "      <td>19438.000000</td>\n",
       "    </tr>\n",
       "    <tr>\n",
       "      <th>mean</th>\n",
       "      <td>5.168470</td>\n",
       "      <td>9.978895</td>\n",
       "      <td>9.501224</td>\n",
       "      <td>44.076513</td>\n",
       "      <td>67.050208</td>\n",
       "      <td>9.688589</td>\n",
       "      <td>2.705795</td>\n",
       "      <td>10.583728</td>\n",
       "      <td>3.042467</td>\n",
       "      <td>144.624774</td>\n",
       "      <td>...</td>\n",
       "      <td>18.987674</td>\n",
       "      <td>-485.894516</td>\n",
       "      <td>15.010366</td>\n",
       "      <td>-461.078636</td>\n",
       "      <td>15.694452</td>\n",
       "      <td>-488.684065</td>\n",
       "      <td>12.198224</td>\n",
       "      <td>-487.149827</td>\n",
       "      <td>18.959024</td>\n",
       "      <td>-505.436305</td>\n",
       "    </tr>\n",
       "    <tr>\n",
       "      <th>std</th>\n",
       "      <td>1.372348</td>\n",
       "      <td>1.669240</td>\n",
       "      <td>2.787537</td>\n",
       "      <td>5.129784</td>\n",
       "      <td>10.125840</td>\n",
       "      <td>2.328642</td>\n",
       "      <td>0.949077</td>\n",
       "      <td>2.868782</td>\n",
       "      <td>0.922808</td>\n",
       "      <td>44.464071</td>\n",
       "      <td>...</td>\n",
       "      <td>5.411058</td>\n",
       "      <td>47.758570</td>\n",
       "      <td>4.890228</td>\n",
       "      <td>67.405524</td>\n",
       "      <td>5.510974</td>\n",
       "      <td>34.533396</td>\n",
       "      <td>5.333024</td>\n",
       "      <td>38.347312</td>\n",
       "      <td>5.550498</td>\n",
       "      <td>37.689057</td>\n",
       "    </tr>\n",
       "    <tr>\n",
       "      <th>min</th>\n",
       "      <td>0.000000</td>\n",
       "      <td>0.000000</td>\n",
       "      <td>0.000000</td>\n",
       "      <td>0.000000</td>\n",
       "      <td>0.000000</td>\n",
       "      <td>0.000000</td>\n",
       "      <td>0.000000</td>\n",
       "      <td>0.000000</td>\n",
       "      <td>0.000000</td>\n",
       "      <td>0.003112</td>\n",
       "      <td>...</td>\n",
       "      <td>0.000000</td>\n",
       "      <td>-799.798523</td>\n",
       "      <td>0.000000</td>\n",
       "      <td>-800.836914</td>\n",
       "      <td>-0.372054</td>\n",
       "      <td>-797.323986</td>\n",
       "      <td>0.528083</td>\n",
       "      <td>-800.220337</td>\n",
       "      <td>-0.079426</td>\n",
       "      <td>-809.741464</td>\n",
       "    </tr>\n",
       "    <tr>\n",
       "      <th>25%</th>\n",
       "      <td>4.251240</td>\n",
       "      <td>9.137262</td>\n",
       "      <td>7.722820</td>\n",
       "      <td>43.402215</td>\n",
       "      <td>63.299712</td>\n",
       "      <td>8.062878</td>\n",
       "      <td>2.040119</td>\n",
       "      <td>8.938947</td>\n",
       "      <td>2.461138</td>\n",
       "      <td>114.107029</td>\n",
       "      <td>...</td>\n",
       "      <td>14.975734</td>\n",
       "      <td>-500.704892</td>\n",
       "      <td>11.940294</td>\n",
       "      <td>-500.187742</td>\n",
       "      <td>10.988606</td>\n",
       "      <td>-500.458467</td>\n",
       "      <td>8.971105</td>\n",
       "      <td>-500.129462</td>\n",
       "      <td>14.983037</td>\n",
       "      <td>-500.728067</td>\n",
       "    </tr>\n",
       "    <tr>\n",
       "      <th>50%</th>\n",
       "      <td>5.066094</td>\n",
       "      <td>10.102433</td>\n",
       "      <td>9.218961</td>\n",
       "      <td>45.011244</td>\n",
       "      <td>68.172738</td>\n",
       "      <td>9.743623</td>\n",
       "      <td>2.748730</td>\n",
       "      <td>10.622456</td>\n",
       "      <td>2.984909</td>\n",
       "      <td>143.232103</td>\n",
       "      <td>...</td>\n",
       "      <td>18.017481</td>\n",
       "      <td>-499.837793</td>\n",
       "      <td>14.971014</td>\n",
       "      <td>-499.459786</td>\n",
       "      <td>15.000036</td>\n",
       "      <td>-499.802605</td>\n",
       "      <td>11.019433</td>\n",
       "      <td>-499.935317</td>\n",
       "      <td>19.960541</td>\n",
       "      <td>-500.048400</td>\n",
       "    </tr>\n",
       "    <tr>\n",
       "      <th>75%</th>\n",
       "      <td>5.895527</td>\n",
       "      <td>11.035769</td>\n",
       "      <td>10.947813</td>\n",
       "      <td>46.275313</td>\n",
       "      <td>72.686642</td>\n",
       "      <td>11.134294</td>\n",
       "      <td>3.333216</td>\n",
       "      <td>12.104271</td>\n",
       "      <td>3.571351</td>\n",
       "      <td>175.075656</td>\n",
       "      <td>...</td>\n",
       "      <td>23.012470</td>\n",
       "      <td>-498.249730</td>\n",
       "      <td>19.034162</td>\n",
       "      <td>-400.118106</td>\n",
       "      <td>18.026190</td>\n",
       "      <td>-498.384187</td>\n",
       "      <td>14.019088</td>\n",
       "      <td>-499.436708</td>\n",
       "      <td>24.003170</td>\n",
       "      <td>-499.495378</td>\n",
       "    </tr>\n",
       "    <tr>\n",
       "      <th>max</th>\n",
       "      <td>16.001945</td>\n",
       "      <td>17.031899</td>\n",
       "      <td>19.615720</td>\n",
       "      <td>52.756638</td>\n",
       "      <td>100.000000</td>\n",
       "      <td>19.552149</td>\n",
       "      <td>5.804178</td>\n",
       "      <td>22.317730</td>\n",
       "      <td>8.245022</td>\n",
       "      <td>265.983123</td>\n",
       "      <td>...</td>\n",
       "      <td>30.115735</td>\n",
       "      <td>-245.239184</td>\n",
       "      <td>31.269706</td>\n",
       "      <td>-6.506986</td>\n",
       "      <td>43.709931</td>\n",
       "      <td>-244.483566</td>\n",
       "      <td>27.926001</td>\n",
       "      <td>-137.740004</td>\n",
       "      <td>32.188906</td>\n",
       "      <td>-104.427459</td>\n",
       "    </tr>\n",
       "  </tbody>\n",
       "</table>\n",
       "<p>8 rows × 86 columns</p>\n",
       "</div>"
      ],
      "text/plain": [
       "       final.output.concentrate_ag  final.output.concentrate_pb  \\\n",
       "count                 19438.000000                 19438.000000   \n",
       "mean                      5.168470                     9.978895   \n",
       "std                       1.372348                     1.669240   \n",
       "min                       0.000000                     0.000000   \n",
       "25%                       4.251240                     9.137262   \n",
       "50%                       5.066094                    10.102433   \n",
       "75%                       5.895527                    11.035769   \n",
       "max                      16.001945                    17.031899   \n",
       "\n",
       "       final.output.concentrate_sol  final.output.concentrate_au  \\\n",
       "count                  19228.000000                 19439.000000   \n",
       "mean                       9.501224                    44.076513   \n",
       "std                        2.787537                     5.129784   \n",
       "min                        0.000000                     0.000000   \n",
       "25%                        7.722820                    43.402215   \n",
       "50%                        9.218961                    45.011244   \n",
       "75%                       10.947813                    46.275313   \n",
       "max                       19.615720                    52.756638   \n",
       "\n",
       "       final.output.recovery  final.output.tail_ag  final.output.tail_pb  \\\n",
       "count           19439.000000          19438.000000          19338.000000   \n",
       "mean               67.050208              9.688589              2.705795   \n",
       "std                10.125840              2.328642              0.949077   \n",
       "min                 0.000000              0.000000              0.000000   \n",
       "25%                63.299712              8.062878              2.040119   \n",
       "50%                68.172738              9.743623              2.748730   \n",
       "75%                72.686642             11.134294              3.333216   \n",
       "max               100.000000             19.552149              5.804178   \n",
       "\n",
       "       final.output.tail_sol  final.output.tail_au  \\\n",
       "count           19433.000000          19439.000000   \n",
       "mean               10.583728              3.042467   \n",
       "std                 2.868782              0.922808   \n",
       "min                 0.000000              0.000000   \n",
       "25%                 8.938947              2.461138   \n",
       "50%                10.622456              2.984909   \n",
       "75%                12.104271              3.571351   \n",
       "max                22.317730              8.245022   \n",
       "\n",
       "       primary_cleaner.input.sulfate  ...  \\\n",
       "count                   19415.000000  ...   \n",
       "mean                      144.624774  ...   \n",
       "std                        44.464071  ...   \n",
       "min                         0.003112  ...   \n",
       "25%                       114.107029  ...   \n",
       "50%                       143.232103  ...   \n",
       "75%                       175.075656  ...   \n",
       "max                       265.983123  ...   \n",
       "\n",
       "       secondary_cleaner.state.floatbank4_a_air  \\\n",
       "count                              19433.000000   \n",
       "mean                                  18.987674   \n",
       "std                                    5.411058   \n",
       "min                                    0.000000   \n",
       "25%                                   14.975734   \n",
       "50%                                   18.017481   \n",
       "75%                                   23.012470   \n",
       "max                                   30.115735   \n",
       "\n",
       "       secondary_cleaner.state.floatbank4_a_level  \\\n",
       "count                                19438.000000   \n",
       "mean                                  -485.894516   \n",
       "std                                     47.758570   \n",
       "min                                   -799.798523   \n",
       "25%                                   -500.704892   \n",
       "50%                                   -499.837793   \n",
       "75%                                   -498.249730   \n",
       "max                                   -245.239184   \n",
       "\n",
       "       secondary_cleaner.state.floatbank4_b_air  \\\n",
       "count                              19438.000000   \n",
       "mean                                  15.010366   \n",
       "std                                    4.890228   \n",
       "min                                    0.000000   \n",
       "25%                                   11.940294   \n",
       "50%                                   14.971014   \n",
       "75%                                   19.034162   \n",
       "max                                   31.269706   \n",
       "\n",
       "       secondary_cleaner.state.floatbank4_b_level  \\\n",
       "count                                19438.000000   \n",
       "mean                                  -461.078636   \n",
       "std                                     67.405524   \n",
       "min                                   -800.836914   \n",
       "25%                                   -500.187742   \n",
       "50%                                   -499.459786   \n",
       "75%                                   -400.118106   \n",
       "max                                     -6.506986   \n",
       "\n",
       "       secondary_cleaner.state.floatbank5_a_air  \\\n",
       "count                              19438.000000   \n",
       "mean                                  15.694452   \n",
       "std                                    5.510974   \n",
       "min                                   -0.372054   \n",
       "25%                                   10.988606   \n",
       "50%                                   15.000036   \n",
       "75%                                   18.026190   \n",
       "max                                   43.709931   \n",
       "\n",
       "       secondary_cleaner.state.floatbank5_a_level  \\\n",
       "count                                19438.000000   \n",
       "mean                                  -488.684065   \n",
       "std                                     34.533396   \n",
       "min                                   -797.323986   \n",
       "25%                                   -500.458467   \n",
       "50%                                   -499.802605   \n",
       "75%                                   -498.384187   \n",
       "max                                   -244.483566   \n",
       "\n",
       "       secondary_cleaner.state.floatbank5_b_air  \\\n",
       "count                              19438.000000   \n",
       "mean                                  12.198224   \n",
       "std                                    5.333024   \n",
       "min                                    0.528083   \n",
       "25%                                    8.971105   \n",
       "50%                                   11.019433   \n",
       "75%                                   14.019088   \n",
       "max                                   27.926001   \n",
       "\n",
       "       secondary_cleaner.state.floatbank5_b_level  \\\n",
       "count                                19438.000000   \n",
       "mean                                  -487.149827   \n",
       "std                                     38.347312   \n",
       "min                                   -800.220337   \n",
       "25%                                   -500.129462   \n",
       "50%                                   -499.935317   \n",
       "75%                                   -499.436708   \n",
       "max                                   -137.740004   \n",
       "\n",
       "       secondary_cleaner.state.floatbank6_a_air  \\\n",
       "count                              19437.000000   \n",
       "mean                                  18.959024   \n",
       "std                                    5.550498   \n",
       "min                                   -0.079426   \n",
       "25%                                   14.983037   \n",
       "50%                                   19.960541   \n",
       "75%                                   24.003170   \n",
       "max                                   32.188906   \n",
       "\n",
       "       secondary_cleaner.state.floatbank6_a_level  \n",
       "count                                19438.000000  \n",
       "mean                                  -505.436305  \n",
       "std                                     37.689057  \n",
       "min                                   -809.741464  \n",
       "25%                                   -500.728067  \n",
       "50%                                   -500.048400  \n",
       "75%                                   -499.495378  \n",
       "max                                   -104.427459  \n",
       "\n",
       "[8 rows x 86 columns]"
      ]
     },
     "execution_count": 133,
     "metadata": {},
     "output_type": "execute_result"
    }
   ],
   "source": [
    "df_full.describe()"
   ]
  },
  {
   "cell_type": "code",
   "execution_count": 134,
   "metadata": {},
   "outputs": [
    {
     "data": {
      "text/html": [
       "<div>\n",
       "<style scoped>\n",
       "    .dataframe tbody tr th:only-of-type {\n",
       "        vertical-align: middle;\n",
       "    }\n",
       "\n",
       "    .dataframe tbody tr th {\n",
       "        vertical-align: top;\n",
       "    }\n",
       "\n",
       "    .dataframe thead th {\n",
       "        text-align: right;\n",
       "    }\n",
       "</style>\n",
       "<table border=\"1\" class=\"dataframe\">\n",
       "  <thead>\n",
       "    <tr style=\"text-align: right;\">\n",
       "      <th></th>\n",
       "      <th>date</th>\n",
       "      <th>final.output.concentrate_ag</th>\n",
       "      <th>final.output.concentrate_pb</th>\n",
       "      <th>final.output.concentrate_sol</th>\n",
       "      <th>final.output.concentrate_au</th>\n",
       "      <th>final.output.recovery</th>\n",
       "      <th>final.output.tail_ag</th>\n",
       "      <th>final.output.tail_pb</th>\n",
       "      <th>final.output.tail_sol</th>\n",
       "      <th>final.output.tail_au</th>\n",
       "      <th>...</th>\n",
       "      <th>secondary_cleaner.state.floatbank4_a_air</th>\n",
       "      <th>secondary_cleaner.state.floatbank4_a_level</th>\n",
       "      <th>secondary_cleaner.state.floatbank4_b_air</th>\n",
       "      <th>secondary_cleaner.state.floatbank4_b_level</th>\n",
       "      <th>secondary_cleaner.state.floatbank5_a_air</th>\n",
       "      <th>secondary_cleaner.state.floatbank5_a_level</th>\n",
       "      <th>secondary_cleaner.state.floatbank5_b_air</th>\n",
       "      <th>secondary_cleaner.state.floatbank5_b_level</th>\n",
       "      <th>secondary_cleaner.state.floatbank6_a_air</th>\n",
       "      <th>secondary_cleaner.state.floatbank6_a_level</th>\n",
       "    </tr>\n",
       "  </thead>\n",
       "  <tbody>\n",
       "    <tr>\n",
       "      <th>0</th>\n",
       "      <td>2016-01-15 00:00:00</td>\n",
       "      <td>6.055403</td>\n",
       "      <td>9.889648</td>\n",
       "      <td>5.507324</td>\n",
       "      <td>42.192020</td>\n",
       "      <td>70.541216</td>\n",
       "      <td>10.411962</td>\n",
       "      <td>0.895447</td>\n",
       "      <td>16.904297</td>\n",
       "      <td>2.143149</td>\n",
       "      <td>...</td>\n",
       "      <td>14.016835</td>\n",
       "      <td>-502.488007</td>\n",
       "      <td>12.099931</td>\n",
       "      <td>-504.715942</td>\n",
       "      <td>9.925633</td>\n",
       "      <td>-498.310211</td>\n",
       "      <td>8.079666</td>\n",
       "      <td>-500.470978</td>\n",
       "      <td>14.151341</td>\n",
       "      <td>-605.841980</td>\n",
       "    </tr>\n",
       "    <tr>\n",
       "      <th>1</th>\n",
       "      <td>2016-01-15 01:00:00</td>\n",
       "      <td>6.029369</td>\n",
       "      <td>9.968944</td>\n",
       "      <td>5.257781</td>\n",
       "      <td>42.701629</td>\n",
       "      <td>69.266198</td>\n",
       "      <td>10.462676</td>\n",
       "      <td>0.927452</td>\n",
       "      <td>16.634514</td>\n",
       "      <td>2.224930</td>\n",
       "      <td>...</td>\n",
       "      <td>13.992281</td>\n",
       "      <td>-505.503262</td>\n",
       "      <td>11.950531</td>\n",
       "      <td>-501.331529</td>\n",
       "      <td>10.039245</td>\n",
       "      <td>-500.169983</td>\n",
       "      <td>7.984757</td>\n",
       "      <td>-500.582168</td>\n",
       "      <td>13.998353</td>\n",
       "      <td>-599.787184</td>\n",
       "    </tr>\n",
       "    <tr>\n",
       "      <th>2</th>\n",
       "      <td>2016-01-15 02:00:00</td>\n",
       "      <td>6.055926</td>\n",
       "      <td>10.213995</td>\n",
       "      <td>5.383759</td>\n",
       "      <td>42.657501</td>\n",
       "      <td>68.116445</td>\n",
       "      <td>10.507046</td>\n",
       "      <td>0.953716</td>\n",
       "      <td>16.208849</td>\n",
       "      <td>2.257889</td>\n",
       "      <td>...</td>\n",
       "      <td>14.015015</td>\n",
       "      <td>-502.520901</td>\n",
       "      <td>11.912783</td>\n",
       "      <td>-501.133383</td>\n",
       "      <td>10.070913</td>\n",
       "      <td>-500.129135</td>\n",
       "      <td>8.013877</td>\n",
       "      <td>-500.517572</td>\n",
       "      <td>14.028663</td>\n",
       "      <td>-601.427363</td>\n",
       "    </tr>\n",
       "    <tr>\n",
       "      <th>3</th>\n",
       "      <td>2016-01-15 03:00:00</td>\n",
       "      <td>6.047977</td>\n",
       "      <td>9.977019</td>\n",
       "      <td>4.858634</td>\n",
       "      <td>42.689819</td>\n",
       "      <td>68.347543</td>\n",
       "      <td>10.422762</td>\n",
       "      <td>0.883763</td>\n",
       "      <td>16.532835</td>\n",
       "      <td>2.146849</td>\n",
       "      <td>...</td>\n",
       "      <td>14.036510</td>\n",
       "      <td>-500.857308</td>\n",
       "      <td>11.999550</td>\n",
       "      <td>-501.193686</td>\n",
       "      <td>9.970366</td>\n",
       "      <td>-499.201640</td>\n",
       "      <td>7.977324</td>\n",
       "      <td>-500.255908</td>\n",
       "      <td>14.005551</td>\n",
       "      <td>-599.996129</td>\n",
       "    </tr>\n",
       "    <tr>\n",
       "      <th>4</th>\n",
       "      <td>2016-01-15 04:00:00</td>\n",
       "      <td>6.148599</td>\n",
       "      <td>10.142511</td>\n",
       "      <td>4.939416</td>\n",
       "      <td>42.774141</td>\n",
       "      <td>66.927016</td>\n",
       "      <td>10.360302</td>\n",
       "      <td>0.792826</td>\n",
       "      <td>16.525686</td>\n",
       "      <td>2.055292</td>\n",
       "      <td>...</td>\n",
       "      <td>14.027298</td>\n",
       "      <td>-499.838632</td>\n",
       "      <td>11.953070</td>\n",
       "      <td>-501.053894</td>\n",
       "      <td>9.925709</td>\n",
       "      <td>-501.686727</td>\n",
       "      <td>7.894242</td>\n",
       "      <td>-500.356035</td>\n",
       "      <td>13.996647</td>\n",
       "      <td>-601.496691</td>\n",
       "    </tr>\n",
       "  </tbody>\n",
       "</table>\n",
       "<p>5 rows × 87 columns</p>\n",
       "</div>"
      ],
      "text/plain": [
       "                  date  final.output.concentrate_ag  \\\n",
       "0  2016-01-15 00:00:00                     6.055403   \n",
       "1  2016-01-15 01:00:00                     6.029369   \n",
       "2  2016-01-15 02:00:00                     6.055926   \n",
       "3  2016-01-15 03:00:00                     6.047977   \n",
       "4  2016-01-15 04:00:00                     6.148599   \n",
       "\n",
       "   final.output.concentrate_pb  final.output.concentrate_sol  \\\n",
       "0                     9.889648                      5.507324   \n",
       "1                     9.968944                      5.257781   \n",
       "2                    10.213995                      5.383759   \n",
       "3                     9.977019                      4.858634   \n",
       "4                    10.142511                      4.939416   \n",
       "\n",
       "   final.output.concentrate_au  final.output.recovery  final.output.tail_ag  \\\n",
       "0                    42.192020              70.541216             10.411962   \n",
       "1                    42.701629              69.266198             10.462676   \n",
       "2                    42.657501              68.116445             10.507046   \n",
       "3                    42.689819              68.347543             10.422762   \n",
       "4                    42.774141              66.927016             10.360302   \n",
       "\n",
       "   final.output.tail_pb  final.output.tail_sol  final.output.tail_au  ...  \\\n",
       "0              0.895447              16.904297              2.143149  ...   \n",
       "1              0.927452              16.634514              2.224930  ...   \n",
       "2              0.953716              16.208849              2.257889  ...   \n",
       "3              0.883763              16.532835              2.146849  ...   \n",
       "4              0.792826              16.525686              2.055292  ...   \n",
       "\n",
       "   secondary_cleaner.state.floatbank4_a_air  \\\n",
       "0                                 14.016835   \n",
       "1                                 13.992281   \n",
       "2                                 14.015015   \n",
       "3                                 14.036510   \n",
       "4                                 14.027298   \n",
       "\n",
       "   secondary_cleaner.state.floatbank4_a_level  \\\n",
       "0                                 -502.488007   \n",
       "1                                 -505.503262   \n",
       "2                                 -502.520901   \n",
       "3                                 -500.857308   \n",
       "4                                 -499.838632   \n",
       "\n",
       "   secondary_cleaner.state.floatbank4_b_air  \\\n",
       "0                                 12.099931   \n",
       "1                                 11.950531   \n",
       "2                                 11.912783   \n",
       "3                                 11.999550   \n",
       "4                                 11.953070   \n",
       "\n",
       "   secondary_cleaner.state.floatbank4_b_level  \\\n",
       "0                                 -504.715942   \n",
       "1                                 -501.331529   \n",
       "2                                 -501.133383   \n",
       "3                                 -501.193686   \n",
       "4                                 -501.053894   \n",
       "\n",
       "   secondary_cleaner.state.floatbank5_a_air  \\\n",
       "0                                  9.925633   \n",
       "1                                 10.039245   \n",
       "2                                 10.070913   \n",
       "3                                  9.970366   \n",
       "4                                  9.925709   \n",
       "\n",
       "   secondary_cleaner.state.floatbank5_a_level  \\\n",
       "0                                 -498.310211   \n",
       "1                                 -500.169983   \n",
       "2                                 -500.129135   \n",
       "3                                 -499.201640   \n",
       "4                                 -501.686727   \n",
       "\n",
       "   secondary_cleaner.state.floatbank5_b_air  \\\n",
       "0                                  8.079666   \n",
       "1                                  7.984757   \n",
       "2                                  8.013877   \n",
       "3                                  7.977324   \n",
       "4                                  7.894242   \n",
       "\n",
       "   secondary_cleaner.state.floatbank5_b_level  \\\n",
       "0                                 -500.470978   \n",
       "1                                 -500.582168   \n",
       "2                                 -500.517572   \n",
       "3                                 -500.255908   \n",
       "4                                 -500.356035   \n",
       "\n",
       "   secondary_cleaner.state.floatbank6_a_air  \\\n",
       "0                                 14.151341   \n",
       "1                                 13.998353   \n",
       "2                                 14.028663   \n",
       "3                                 14.005551   \n",
       "4                                 13.996647   \n",
       "\n",
       "   secondary_cleaner.state.floatbank6_a_level  \n",
       "0                                 -605.841980  \n",
       "1                                 -599.787184  \n",
       "2                                 -601.427363  \n",
       "3                                 -599.996129  \n",
       "4                                 -601.496691  \n",
       "\n",
       "[5 rows x 87 columns]"
      ]
     },
     "execution_count": 134,
     "metadata": {},
     "output_type": "execute_result"
    }
   ],
   "source": [
    "df_train.head()"
   ]
  },
  {
   "cell_type": "code",
   "execution_count": 135,
   "metadata": {},
   "outputs": [
    {
     "name": "stdout",
     "output_type": "stream",
     "text": [
      "<class 'pandas.core.frame.DataFrame'>\n",
      "RangeIndex: 14149 entries, 0 to 14148\n",
      "Data columns (total 87 columns):\n",
      " #   Column                                              Non-Null Count  Dtype  \n",
      "---  ------                                              --------------  -----  \n",
      " 0   date                                                14149 non-null  object \n",
      " 1   final.output.concentrate_ag                         14148 non-null  float64\n",
      " 2   final.output.concentrate_pb                         14148 non-null  float64\n",
      " 3   final.output.concentrate_sol                        13938 non-null  float64\n",
      " 4   final.output.concentrate_au                         14149 non-null  float64\n",
      " 5   final.output.recovery                               14149 non-null  float64\n",
      " 6   final.output.tail_ag                                14149 non-null  float64\n",
      " 7   final.output.tail_pb                                14049 non-null  float64\n",
      " 8   final.output.tail_sol                               14144 non-null  float64\n",
      " 9   final.output.tail_au                                14149 non-null  float64\n",
      " 10  primary_cleaner.input.sulfate                       14129 non-null  float64\n",
      " 11  primary_cleaner.input.depressant                    14117 non-null  float64\n",
      " 12  primary_cleaner.input.feed_size                     14149 non-null  float64\n",
      " 13  primary_cleaner.input.xanthate                      14049 non-null  float64\n",
      " 14  primary_cleaner.output.concentrate_ag               14149 non-null  float64\n",
      " 15  primary_cleaner.output.concentrate_pb               14063 non-null  float64\n",
      " 16  primary_cleaner.output.concentrate_sol              13863 non-null  float64\n",
      " 17  primary_cleaner.output.concentrate_au               14149 non-null  float64\n",
      " 18  primary_cleaner.output.tail_ag                      14148 non-null  float64\n",
      " 19  primary_cleaner.output.tail_pb                      14134 non-null  float64\n",
      " 20  primary_cleaner.output.tail_sol                     14103 non-null  float64\n",
      " 21  primary_cleaner.output.tail_au                      14149 non-null  float64\n",
      " 22  primary_cleaner.state.floatbank8_a_air              14145 non-null  float64\n",
      " 23  primary_cleaner.state.floatbank8_a_level            14148 non-null  float64\n",
      " 24  primary_cleaner.state.floatbank8_b_air              14145 non-null  float64\n",
      " 25  primary_cleaner.state.floatbank8_b_level            14148 non-null  float64\n",
      " 26  primary_cleaner.state.floatbank8_c_air              14147 non-null  float64\n",
      " 27  primary_cleaner.state.floatbank8_c_level            14148 non-null  float64\n",
      " 28  primary_cleaner.state.floatbank8_d_air              14146 non-null  float64\n",
      " 29  primary_cleaner.state.floatbank8_d_level            14148 non-null  float64\n",
      " 30  rougher.calculation.sulfate_to_au_concentrate       14148 non-null  float64\n",
      " 31  rougher.calculation.floatbank10_sulfate_to_au_feed  14148 non-null  float64\n",
      " 32  rougher.calculation.floatbank11_sulfate_to_au_feed  14148 non-null  float64\n",
      " 33  rougher.calculation.au_pb_ratio                     14149 non-null  float64\n",
      " 34  rougher.input.feed_ag                               14149 non-null  float64\n",
      " 35  rougher.input.feed_pb                               14049 non-null  float64\n",
      " 36  rougher.input.feed_rate                             14141 non-null  float64\n",
      " 37  rougher.input.feed_size                             14005 non-null  float64\n",
      " 38  rougher.input.feed_sol                              14071 non-null  float64\n",
      " 39  rougher.input.feed_au                               14149 non-null  float64\n",
      " 40  rougher.input.floatbank10_sulfate                   14120 non-null  float64\n",
      " 41  rougher.input.floatbank10_xanthate                  14141 non-null  float64\n",
      " 42  rougher.input.floatbank11_sulfate                   14113 non-null  float64\n",
      " 43  rougher.input.floatbank11_xanthate                  13721 non-null  float64\n",
      " 44  rougher.output.concentrate_ag                       14149 non-null  float64\n",
      " 45  rougher.output.concentrate_pb                       14149 non-null  float64\n",
      " 46  rougher.output.concentrate_sol                      14127 non-null  float64\n",
      " 47  rougher.output.concentrate_au                       14149 non-null  float64\n",
      " 48  rougher.output.recovery                             14149 non-null  float64\n",
      " 49  rougher.output.tail_ag                              14148 non-null  float64\n",
      " 50  rougher.output.tail_pb                              14149 non-null  float64\n",
      " 51  rougher.output.tail_sol                             14149 non-null  float64\n",
      " 52  rougher.output.tail_au                              14149 non-null  float64\n",
      " 53  rougher.state.floatbank10_a_air                     14148 non-null  float64\n",
      " 54  rougher.state.floatbank10_a_level                   14148 non-null  float64\n",
      " 55  rougher.state.floatbank10_b_air                     14148 non-null  float64\n",
      " 56  rougher.state.floatbank10_b_level                   14148 non-null  float64\n",
      " 57  rougher.state.floatbank10_c_air                     14148 non-null  float64\n",
      " 58  rougher.state.floatbank10_c_level                   14148 non-null  float64\n",
      " 59  rougher.state.floatbank10_d_air                     14149 non-null  float64\n",
      " 60  rougher.state.floatbank10_d_level                   14149 non-null  float64\n",
      " 61  rougher.state.floatbank10_e_air                     13713 non-null  float64\n",
      " 62  rougher.state.floatbank10_e_level                   14149 non-null  float64\n",
      " 63  rougher.state.floatbank10_f_air                     14149 non-null  float64\n",
      " 64  rougher.state.floatbank10_f_level                   14149 non-null  float64\n",
      " 65  secondary_cleaner.output.tail_ag                    14147 non-null  float64\n",
      " 66  secondary_cleaner.output.tail_pb                    14139 non-null  float64\n",
      " 67  secondary_cleaner.output.tail_sol                   12544 non-null  float64\n",
      " 68  secondary_cleaner.output.tail_au                    14149 non-null  float64\n",
      " 69  secondary_cleaner.state.floatbank2_a_air            13932 non-null  float64\n",
      " 70  secondary_cleaner.state.floatbank2_a_level          14148 non-null  float64\n",
      " 71  secondary_cleaner.state.floatbank2_b_air            14128 non-null  float64\n",
      " 72  secondary_cleaner.state.floatbank2_b_level          14148 non-null  float64\n",
      " 73  secondary_cleaner.state.floatbank3_a_air            14145 non-null  float64\n",
      " 74  secondary_cleaner.state.floatbank3_a_level          14148 non-null  float64\n",
      " 75  secondary_cleaner.state.floatbank3_b_air            14148 non-null  float64\n",
      " 76  secondary_cleaner.state.floatbank3_b_level          14148 non-null  float64\n",
      " 77  secondary_cleaner.state.floatbank4_a_air            14143 non-null  float64\n",
      " 78  secondary_cleaner.state.floatbank4_a_level          14148 non-null  float64\n",
      " 79  secondary_cleaner.state.floatbank4_b_air            14148 non-null  float64\n",
      " 80  secondary_cleaner.state.floatbank4_b_level          14148 non-null  float64\n",
      " 81  secondary_cleaner.state.floatbank5_a_air            14148 non-null  float64\n",
      " 82  secondary_cleaner.state.floatbank5_a_level          14148 non-null  float64\n",
      " 83  secondary_cleaner.state.floatbank5_b_air            14148 non-null  float64\n",
      " 84  secondary_cleaner.state.floatbank5_b_level          14148 non-null  float64\n",
      " 85  secondary_cleaner.state.floatbank6_a_air            14147 non-null  float64\n",
      " 86  secondary_cleaner.state.floatbank6_a_level          14148 non-null  float64\n",
      "dtypes: float64(86), object(1)\n",
      "memory usage: 9.4+ MB\n"
     ]
    }
   ],
   "source": [
    "df_train.info()"
   ]
  },
  {
   "cell_type": "code",
   "execution_count": 136,
   "metadata": {},
   "outputs": [
    {
     "data": {
      "text/html": [
       "<div>\n",
       "<style scoped>\n",
       "    .dataframe tbody tr th:only-of-type {\n",
       "        vertical-align: middle;\n",
       "    }\n",
       "\n",
       "    .dataframe tbody tr th {\n",
       "        vertical-align: top;\n",
       "    }\n",
       "\n",
       "    .dataframe thead th {\n",
       "        text-align: right;\n",
       "    }\n",
       "</style>\n",
       "<table border=\"1\" class=\"dataframe\">\n",
       "  <thead>\n",
       "    <tr style=\"text-align: right;\">\n",
       "      <th></th>\n",
       "      <th>final.output.concentrate_ag</th>\n",
       "      <th>final.output.concentrate_pb</th>\n",
       "      <th>final.output.concentrate_sol</th>\n",
       "      <th>final.output.concentrate_au</th>\n",
       "      <th>final.output.recovery</th>\n",
       "      <th>final.output.tail_ag</th>\n",
       "      <th>final.output.tail_pb</th>\n",
       "      <th>final.output.tail_sol</th>\n",
       "      <th>final.output.tail_au</th>\n",
       "      <th>primary_cleaner.input.sulfate</th>\n",
       "      <th>...</th>\n",
       "      <th>secondary_cleaner.state.floatbank4_a_air</th>\n",
       "      <th>secondary_cleaner.state.floatbank4_a_level</th>\n",
       "      <th>secondary_cleaner.state.floatbank4_b_air</th>\n",
       "      <th>secondary_cleaner.state.floatbank4_b_level</th>\n",
       "      <th>secondary_cleaner.state.floatbank5_a_air</th>\n",
       "      <th>secondary_cleaner.state.floatbank5_a_level</th>\n",
       "      <th>secondary_cleaner.state.floatbank5_b_air</th>\n",
       "      <th>secondary_cleaner.state.floatbank5_b_level</th>\n",
       "      <th>secondary_cleaner.state.floatbank6_a_air</th>\n",
       "      <th>secondary_cleaner.state.floatbank6_a_level</th>\n",
       "    </tr>\n",
       "  </thead>\n",
       "  <tbody>\n",
       "    <tr>\n",
       "      <th>count</th>\n",
       "      <td>14148.000000</td>\n",
       "      <td>14148.000000</td>\n",
       "      <td>13938.000000</td>\n",
       "      <td>14149.000000</td>\n",
       "      <td>14149.000000</td>\n",
       "      <td>14149.000000</td>\n",
       "      <td>14049.000000</td>\n",
       "      <td>14144.000000</td>\n",
       "      <td>14149.000000</td>\n",
       "      <td>14129.000000</td>\n",
       "      <td>...</td>\n",
       "      <td>14143.000000</td>\n",
       "      <td>14148.000000</td>\n",
       "      <td>14148.000000</td>\n",
       "      <td>14148.000000</td>\n",
       "      <td>14148.000000</td>\n",
       "      <td>14148.000000</td>\n",
       "      <td>14148.000000</td>\n",
       "      <td>14148.000000</td>\n",
       "      <td>14147.000000</td>\n",
       "      <td>14148.000000</td>\n",
       "    </tr>\n",
       "    <tr>\n",
       "      <th>mean</th>\n",
       "      <td>5.142034</td>\n",
       "      <td>10.132960</td>\n",
       "      <td>9.202849</td>\n",
       "      <td>44.003792</td>\n",
       "      <td>66.518832</td>\n",
       "      <td>9.607035</td>\n",
       "      <td>2.597298</td>\n",
       "      <td>10.512122</td>\n",
       "      <td>2.918421</td>\n",
       "      <td>133.320659</td>\n",
       "      <td>...</td>\n",
       "      <td>19.985454</td>\n",
       "      <td>-478.696836</td>\n",
       "      <td>15.487065</td>\n",
       "      <td>-460.229416</td>\n",
       "      <td>16.775136</td>\n",
       "      <td>-483.956022</td>\n",
       "      <td>13.064590</td>\n",
       "      <td>-483.966564</td>\n",
       "      <td>19.577539</td>\n",
       "      <td>-506.798480</td>\n",
       "    </tr>\n",
       "    <tr>\n",
       "      <th>std</th>\n",
       "      <td>1.369586</td>\n",
       "      <td>1.654930</td>\n",
       "      <td>2.790516</td>\n",
       "      <td>4.905261</td>\n",
       "      <td>10.295402</td>\n",
       "      <td>2.319069</td>\n",
       "      <td>0.971843</td>\n",
       "      <td>3.003617</td>\n",
       "      <td>0.903712</td>\n",
       "      <td>39.431659</td>\n",
       "      <td>...</td>\n",
       "      <td>5.657723</td>\n",
       "      <td>50.736021</td>\n",
       "      <td>5.255655</td>\n",
       "      <td>58.843586</td>\n",
       "      <td>5.831906</td>\n",
       "      <td>37.892788</td>\n",
       "      <td>5.765617</td>\n",
       "      <td>39.207913</td>\n",
       "      <td>5.764417</td>\n",
       "      <td>37.079249</td>\n",
       "    </tr>\n",
       "    <tr>\n",
       "      <th>min</th>\n",
       "      <td>0.000000</td>\n",
       "      <td>0.000000</td>\n",
       "      <td>0.000000</td>\n",
       "      <td>0.000000</td>\n",
       "      <td>0.000000</td>\n",
       "      <td>0.000000</td>\n",
       "      <td>0.000000</td>\n",
       "      <td>0.000000</td>\n",
       "      <td>0.000000</td>\n",
       "      <td>0.003112</td>\n",
       "      <td>...</td>\n",
       "      <td>0.000000</td>\n",
       "      <td>-799.709069</td>\n",
       "      <td>0.000000</td>\n",
       "      <td>-799.889113</td>\n",
       "      <td>-0.372054</td>\n",
       "      <td>-797.142475</td>\n",
       "      <td>0.646208</td>\n",
       "      <td>-800.006180</td>\n",
       "      <td>0.195324</td>\n",
       "      <td>-809.398668</td>\n",
       "    </tr>\n",
       "    <tr>\n",
       "      <th>25%</th>\n",
       "      <td>4.211620</td>\n",
       "      <td>9.297355</td>\n",
       "      <td>7.484645</td>\n",
       "      <td>43.276111</td>\n",
       "      <td>62.545817</td>\n",
       "      <td>7.997429</td>\n",
       "      <td>1.905973</td>\n",
       "      <td>8.811324</td>\n",
       "      <td>2.368607</td>\n",
       "      <td>107.006651</td>\n",
       "      <td>...</td>\n",
       "      <td>14.990775</td>\n",
       "      <td>-500.628656</td>\n",
       "      <td>11.894558</td>\n",
       "      <td>-500.149000</td>\n",
       "      <td>11.083980</td>\n",
       "      <td>-500.363177</td>\n",
       "      <td>8.994405</td>\n",
       "      <td>-500.105994</td>\n",
       "      <td>14.989304</td>\n",
       "      <td>-500.745104</td>\n",
       "    </tr>\n",
       "    <tr>\n",
       "      <th>50%</th>\n",
       "      <td>4.994652</td>\n",
       "      <td>10.297144</td>\n",
       "      <td>8.845462</td>\n",
       "      <td>44.872436</td>\n",
       "      <td>67.432775</td>\n",
       "      <td>9.480270</td>\n",
       "      <td>2.592022</td>\n",
       "      <td>10.514621</td>\n",
       "      <td>2.851025</td>\n",
       "      <td>133.018328</td>\n",
       "      <td>...</td>\n",
       "      <td>20.001789</td>\n",
       "      <td>-499.681450</td>\n",
       "      <td>14.975536</td>\n",
       "      <td>-499.388738</td>\n",
       "      <td>17.932223</td>\n",
       "      <td>-499.702452</td>\n",
       "      <td>11.997547</td>\n",
       "      <td>-499.914556</td>\n",
       "      <td>19.984175</td>\n",
       "      <td>-500.061431</td>\n",
       "    </tr>\n",
       "    <tr>\n",
       "      <th>75%</th>\n",
       "      <td>5.859540</td>\n",
       "      <td>11.170603</td>\n",
       "      <td>10.487508</td>\n",
       "      <td>46.166425</td>\n",
       "      <td>72.346428</td>\n",
       "      <td>11.003707</td>\n",
       "      <td>3.241723</td>\n",
       "      <td>11.933009</td>\n",
       "      <td>3.434764</td>\n",
       "      <td>159.825396</td>\n",
       "      <td>...</td>\n",
       "      <td>24.990826</td>\n",
       "      <td>-477.472413</td>\n",
       "      <td>20.059375</td>\n",
       "      <td>-400.039008</td>\n",
       "      <td>21.346550</td>\n",
       "      <td>-487.712108</td>\n",
       "      <td>17.982903</td>\n",
       "      <td>-453.186936</td>\n",
       "      <td>24.991623</td>\n",
       "      <td>-499.536466</td>\n",
       "    </tr>\n",
       "    <tr>\n",
       "      <th>max</th>\n",
       "      <td>16.001945</td>\n",
       "      <td>17.031899</td>\n",
       "      <td>18.124851</td>\n",
       "      <td>52.756638</td>\n",
       "      <td>100.000000</td>\n",
       "      <td>19.552149</td>\n",
       "      <td>5.639565</td>\n",
       "      <td>22.317730</td>\n",
       "      <td>8.197408</td>\n",
       "      <td>250.127834</td>\n",
       "      <td>...</td>\n",
       "      <td>30.115735</td>\n",
       "      <td>-245.239184</td>\n",
       "      <td>24.007913</td>\n",
       "      <td>-145.071088</td>\n",
       "      <td>43.709931</td>\n",
       "      <td>-275.073125</td>\n",
       "      <td>27.926001</td>\n",
       "      <td>-157.396071</td>\n",
       "      <td>32.188906</td>\n",
       "      <td>-104.427459</td>\n",
       "    </tr>\n",
       "  </tbody>\n",
       "</table>\n",
       "<p>8 rows × 86 columns</p>\n",
       "</div>"
      ],
      "text/plain": [
       "       final.output.concentrate_ag  final.output.concentrate_pb  \\\n",
       "count                 14148.000000                 14148.000000   \n",
       "mean                      5.142034                    10.132960   \n",
       "std                       1.369586                     1.654930   \n",
       "min                       0.000000                     0.000000   \n",
       "25%                       4.211620                     9.297355   \n",
       "50%                       4.994652                    10.297144   \n",
       "75%                       5.859540                    11.170603   \n",
       "max                      16.001945                    17.031899   \n",
       "\n",
       "       final.output.concentrate_sol  final.output.concentrate_au  \\\n",
       "count                  13938.000000                 14149.000000   \n",
       "mean                       9.202849                    44.003792   \n",
       "std                        2.790516                     4.905261   \n",
       "min                        0.000000                     0.000000   \n",
       "25%                        7.484645                    43.276111   \n",
       "50%                        8.845462                    44.872436   \n",
       "75%                       10.487508                    46.166425   \n",
       "max                       18.124851                    52.756638   \n",
       "\n",
       "       final.output.recovery  final.output.tail_ag  final.output.tail_pb  \\\n",
       "count           14149.000000          14149.000000          14049.000000   \n",
       "mean               66.518832              9.607035              2.597298   \n",
       "std                10.295402              2.319069              0.971843   \n",
       "min                 0.000000              0.000000              0.000000   \n",
       "25%                62.545817              7.997429              1.905973   \n",
       "50%                67.432775              9.480270              2.592022   \n",
       "75%                72.346428             11.003707              3.241723   \n",
       "max               100.000000             19.552149              5.639565   \n",
       "\n",
       "       final.output.tail_sol  final.output.tail_au  \\\n",
       "count           14144.000000          14149.000000   \n",
       "mean               10.512122              2.918421   \n",
       "std                 3.003617              0.903712   \n",
       "min                 0.000000              0.000000   \n",
       "25%                 8.811324              2.368607   \n",
       "50%                10.514621              2.851025   \n",
       "75%                11.933009              3.434764   \n",
       "max                22.317730              8.197408   \n",
       "\n",
       "       primary_cleaner.input.sulfate  ...  \\\n",
       "count                   14129.000000  ...   \n",
       "mean                      133.320659  ...   \n",
       "std                        39.431659  ...   \n",
       "min                         0.003112  ...   \n",
       "25%                       107.006651  ...   \n",
       "50%                       133.018328  ...   \n",
       "75%                       159.825396  ...   \n",
       "max                       250.127834  ...   \n",
       "\n",
       "       secondary_cleaner.state.floatbank4_a_air  \\\n",
       "count                              14143.000000   \n",
       "mean                                  19.985454   \n",
       "std                                    5.657723   \n",
       "min                                    0.000000   \n",
       "25%                                   14.990775   \n",
       "50%                                   20.001789   \n",
       "75%                                   24.990826   \n",
       "max                                   30.115735   \n",
       "\n",
       "       secondary_cleaner.state.floatbank4_a_level  \\\n",
       "count                                14148.000000   \n",
       "mean                                  -478.696836   \n",
       "std                                     50.736021   \n",
       "min                                   -799.709069   \n",
       "25%                                   -500.628656   \n",
       "50%                                   -499.681450   \n",
       "75%                                   -477.472413   \n",
       "max                                   -245.239184   \n",
       "\n",
       "       secondary_cleaner.state.floatbank4_b_air  \\\n",
       "count                              14148.000000   \n",
       "mean                                  15.487065   \n",
       "std                                    5.255655   \n",
       "min                                    0.000000   \n",
       "25%                                   11.894558   \n",
       "50%                                   14.975536   \n",
       "75%                                   20.059375   \n",
       "max                                   24.007913   \n",
       "\n",
       "       secondary_cleaner.state.floatbank4_b_level  \\\n",
       "count                                14148.000000   \n",
       "mean                                  -460.229416   \n",
       "std                                     58.843586   \n",
       "min                                   -799.889113   \n",
       "25%                                   -500.149000   \n",
       "50%                                   -499.388738   \n",
       "75%                                   -400.039008   \n",
       "max                                   -145.071088   \n",
       "\n",
       "       secondary_cleaner.state.floatbank5_a_air  \\\n",
       "count                              14148.000000   \n",
       "mean                                  16.775136   \n",
       "std                                    5.831906   \n",
       "min                                   -0.372054   \n",
       "25%                                   11.083980   \n",
       "50%                                   17.932223   \n",
       "75%                                   21.346550   \n",
       "max                                   43.709931   \n",
       "\n",
       "       secondary_cleaner.state.floatbank5_a_level  \\\n",
       "count                                14148.000000   \n",
       "mean                                  -483.956022   \n",
       "std                                     37.892788   \n",
       "min                                   -797.142475   \n",
       "25%                                   -500.363177   \n",
       "50%                                   -499.702452   \n",
       "75%                                   -487.712108   \n",
       "max                                   -275.073125   \n",
       "\n",
       "       secondary_cleaner.state.floatbank5_b_air  \\\n",
       "count                              14148.000000   \n",
       "mean                                  13.064590   \n",
       "std                                    5.765617   \n",
       "min                                    0.646208   \n",
       "25%                                    8.994405   \n",
       "50%                                   11.997547   \n",
       "75%                                   17.982903   \n",
       "max                                   27.926001   \n",
       "\n",
       "       secondary_cleaner.state.floatbank5_b_level  \\\n",
       "count                                14148.000000   \n",
       "mean                                  -483.966564   \n",
       "std                                     39.207913   \n",
       "min                                   -800.006180   \n",
       "25%                                   -500.105994   \n",
       "50%                                   -499.914556   \n",
       "75%                                   -453.186936   \n",
       "max                                   -157.396071   \n",
       "\n",
       "       secondary_cleaner.state.floatbank6_a_air  \\\n",
       "count                              14147.000000   \n",
       "mean                                  19.577539   \n",
       "std                                    5.764417   \n",
       "min                                    0.195324   \n",
       "25%                                   14.989304   \n",
       "50%                                   19.984175   \n",
       "75%                                   24.991623   \n",
       "max                                   32.188906   \n",
       "\n",
       "       secondary_cleaner.state.floatbank6_a_level  \n",
       "count                                14148.000000  \n",
       "mean                                  -506.798480  \n",
       "std                                     37.079249  \n",
       "min                                   -809.398668  \n",
       "25%                                   -500.745104  \n",
       "50%                                   -500.061431  \n",
       "75%                                   -499.536466  \n",
       "max                                   -104.427459  \n",
       "\n",
       "[8 rows x 86 columns]"
      ]
     },
     "execution_count": 136,
     "metadata": {},
     "output_type": "execute_result"
    }
   ],
   "source": [
    "df_train.describe()"
   ]
  },
  {
   "cell_type": "code",
   "execution_count": 137,
   "metadata": {
    "scrolled": true
   },
   "outputs": [
    {
     "data": {
      "text/html": [
       "<div>\n",
       "<style scoped>\n",
       "    .dataframe tbody tr th:only-of-type {\n",
       "        vertical-align: middle;\n",
       "    }\n",
       "\n",
       "    .dataframe tbody tr th {\n",
       "        vertical-align: top;\n",
       "    }\n",
       "\n",
       "    .dataframe thead th {\n",
       "        text-align: right;\n",
       "    }\n",
       "</style>\n",
       "<table border=\"1\" class=\"dataframe\">\n",
       "  <thead>\n",
       "    <tr style=\"text-align: right;\">\n",
       "      <th></th>\n",
       "      <th>date</th>\n",
       "      <th>primary_cleaner.input.sulfate</th>\n",
       "      <th>primary_cleaner.input.depressant</th>\n",
       "      <th>primary_cleaner.input.feed_size</th>\n",
       "      <th>primary_cleaner.input.xanthate</th>\n",
       "      <th>primary_cleaner.state.floatbank8_a_air</th>\n",
       "      <th>primary_cleaner.state.floatbank8_a_level</th>\n",
       "      <th>primary_cleaner.state.floatbank8_b_air</th>\n",
       "      <th>primary_cleaner.state.floatbank8_b_level</th>\n",
       "      <th>primary_cleaner.state.floatbank8_c_air</th>\n",
       "      <th>...</th>\n",
       "      <th>secondary_cleaner.state.floatbank4_a_air</th>\n",
       "      <th>secondary_cleaner.state.floatbank4_a_level</th>\n",
       "      <th>secondary_cleaner.state.floatbank4_b_air</th>\n",
       "      <th>secondary_cleaner.state.floatbank4_b_level</th>\n",
       "      <th>secondary_cleaner.state.floatbank5_a_air</th>\n",
       "      <th>secondary_cleaner.state.floatbank5_a_level</th>\n",
       "      <th>secondary_cleaner.state.floatbank5_b_air</th>\n",
       "      <th>secondary_cleaner.state.floatbank5_b_level</th>\n",
       "      <th>secondary_cleaner.state.floatbank6_a_air</th>\n",
       "      <th>secondary_cleaner.state.floatbank6_a_level</th>\n",
       "    </tr>\n",
       "  </thead>\n",
       "  <tbody>\n",
       "    <tr>\n",
       "      <th>0</th>\n",
       "      <td>2016-09-01 00:59:59</td>\n",
       "      <td>210.800909</td>\n",
       "      <td>14.993118</td>\n",
       "      <td>8.080000</td>\n",
       "      <td>1.005021</td>\n",
       "      <td>1398.981301</td>\n",
       "      <td>-500.225577</td>\n",
       "      <td>1399.144926</td>\n",
       "      <td>-499.919735</td>\n",
       "      <td>1400.102998</td>\n",
       "      <td>...</td>\n",
       "      <td>12.023554</td>\n",
       "      <td>-497.795834</td>\n",
       "      <td>8.016656</td>\n",
       "      <td>-501.289139</td>\n",
       "      <td>7.946562</td>\n",
       "      <td>-432.317850</td>\n",
       "      <td>4.872511</td>\n",
       "      <td>-500.037437</td>\n",
       "      <td>26.705889</td>\n",
       "      <td>-499.709414</td>\n",
       "    </tr>\n",
       "    <tr>\n",
       "      <th>1</th>\n",
       "      <td>2016-09-01 01:59:59</td>\n",
       "      <td>215.392455</td>\n",
       "      <td>14.987471</td>\n",
       "      <td>8.080000</td>\n",
       "      <td>0.990469</td>\n",
       "      <td>1398.777912</td>\n",
       "      <td>-500.057435</td>\n",
       "      <td>1398.055362</td>\n",
       "      <td>-499.778182</td>\n",
       "      <td>1396.151033</td>\n",
       "      <td>...</td>\n",
       "      <td>12.058140</td>\n",
       "      <td>-498.695773</td>\n",
       "      <td>8.130979</td>\n",
       "      <td>-499.634209</td>\n",
       "      <td>7.958270</td>\n",
       "      <td>-525.839648</td>\n",
       "      <td>4.878850</td>\n",
       "      <td>-500.162375</td>\n",
       "      <td>25.019940</td>\n",
       "      <td>-499.819438</td>\n",
       "    </tr>\n",
       "    <tr>\n",
       "      <th>2</th>\n",
       "      <td>2016-09-01 02:59:59</td>\n",
       "      <td>215.259946</td>\n",
       "      <td>12.884934</td>\n",
       "      <td>7.786667</td>\n",
       "      <td>0.996043</td>\n",
       "      <td>1398.493666</td>\n",
       "      <td>-500.868360</td>\n",
       "      <td>1398.860436</td>\n",
       "      <td>-499.764529</td>\n",
       "      <td>1398.075709</td>\n",
       "      <td>...</td>\n",
       "      <td>11.962366</td>\n",
       "      <td>-498.767484</td>\n",
       "      <td>8.096893</td>\n",
       "      <td>-500.827423</td>\n",
       "      <td>8.071056</td>\n",
       "      <td>-500.801673</td>\n",
       "      <td>4.905125</td>\n",
       "      <td>-499.828510</td>\n",
       "      <td>24.994862</td>\n",
       "      <td>-500.622559</td>\n",
       "    </tr>\n",
       "    <tr>\n",
       "      <th>3</th>\n",
       "      <td>2016-09-01 03:59:59</td>\n",
       "      <td>215.336236</td>\n",
       "      <td>12.006805</td>\n",
       "      <td>7.640000</td>\n",
       "      <td>0.863514</td>\n",
       "      <td>1399.618111</td>\n",
       "      <td>-498.863574</td>\n",
       "      <td>1397.440120</td>\n",
       "      <td>-499.211024</td>\n",
       "      <td>1400.129303</td>\n",
       "      <td>...</td>\n",
       "      <td>12.033091</td>\n",
       "      <td>-498.350935</td>\n",
       "      <td>8.074946</td>\n",
       "      <td>-499.474407</td>\n",
       "      <td>7.897085</td>\n",
       "      <td>-500.868509</td>\n",
       "      <td>4.931400</td>\n",
       "      <td>-499.963623</td>\n",
       "      <td>24.948919</td>\n",
       "      <td>-498.709987</td>\n",
       "    </tr>\n",
       "    <tr>\n",
       "      <th>4</th>\n",
       "      <td>2016-09-01 04:59:59</td>\n",
       "      <td>199.099327</td>\n",
       "      <td>10.682530</td>\n",
       "      <td>7.530000</td>\n",
       "      <td>0.805575</td>\n",
       "      <td>1401.268123</td>\n",
       "      <td>-500.808305</td>\n",
       "      <td>1398.128818</td>\n",
       "      <td>-499.504543</td>\n",
       "      <td>1402.172226</td>\n",
       "      <td>...</td>\n",
       "      <td>12.025367</td>\n",
       "      <td>-500.786497</td>\n",
       "      <td>8.054678</td>\n",
       "      <td>-500.397500</td>\n",
       "      <td>8.107890</td>\n",
       "      <td>-509.526725</td>\n",
       "      <td>4.957674</td>\n",
       "      <td>-500.360026</td>\n",
       "      <td>25.003331</td>\n",
       "      <td>-500.856333</td>\n",
       "    </tr>\n",
       "  </tbody>\n",
       "</table>\n",
       "<p>5 rows × 53 columns</p>\n",
       "</div>"
      ],
      "text/plain": [
       "                  date  primary_cleaner.input.sulfate  \\\n",
       "0  2016-09-01 00:59:59                     210.800909   \n",
       "1  2016-09-01 01:59:59                     215.392455   \n",
       "2  2016-09-01 02:59:59                     215.259946   \n",
       "3  2016-09-01 03:59:59                     215.336236   \n",
       "4  2016-09-01 04:59:59                     199.099327   \n",
       "\n",
       "   primary_cleaner.input.depressant  primary_cleaner.input.feed_size  \\\n",
       "0                         14.993118                         8.080000   \n",
       "1                         14.987471                         8.080000   \n",
       "2                         12.884934                         7.786667   \n",
       "3                         12.006805                         7.640000   \n",
       "4                         10.682530                         7.530000   \n",
       "\n",
       "   primary_cleaner.input.xanthate  primary_cleaner.state.floatbank8_a_air  \\\n",
       "0                        1.005021                             1398.981301   \n",
       "1                        0.990469                             1398.777912   \n",
       "2                        0.996043                             1398.493666   \n",
       "3                        0.863514                             1399.618111   \n",
       "4                        0.805575                             1401.268123   \n",
       "\n",
       "   primary_cleaner.state.floatbank8_a_level  \\\n",
       "0                               -500.225577   \n",
       "1                               -500.057435   \n",
       "2                               -500.868360   \n",
       "3                               -498.863574   \n",
       "4                               -500.808305   \n",
       "\n",
       "   primary_cleaner.state.floatbank8_b_air  \\\n",
       "0                             1399.144926   \n",
       "1                             1398.055362   \n",
       "2                             1398.860436   \n",
       "3                             1397.440120   \n",
       "4                             1398.128818   \n",
       "\n",
       "   primary_cleaner.state.floatbank8_b_level  \\\n",
       "0                               -499.919735   \n",
       "1                               -499.778182   \n",
       "2                               -499.764529   \n",
       "3                               -499.211024   \n",
       "4                               -499.504543   \n",
       "\n",
       "   primary_cleaner.state.floatbank8_c_air  ...  \\\n",
       "0                             1400.102998  ...   \n",
       "1                             1396.151033  ...   \n",
       "2                             1398.075709  ...   \n",
       "3                             1400.129303  ...   \n",
       "4                             1402.172226  ...   \n",
       "\n",
       "   secondary_cleaner.state.floatbank4_a_air  \\\n",
       "0                                 12.023554   \n",
       "1                                 12.058140   \n",
       "2                                 11.962366   \n",
       "3                                 12.033091   \n",
       "4                                 12.025367   \n",
       "\n",
       "   secondary_cleaner.state.floatbank4_a_level  \\\n",
       "0                                 -497.795834   \n",
       "1                                 -498.695773   \n",
       "2                                 -498.767484   \n",
       "3                                 -498.350935   \n",
       "4                                 -500.786497   \n",
       "\n",
       "   secondary_cleaner.state.floatbank4_b_air  \\\n",
       "0                                  8.016656   \n",
       "1                                  8.130979   \n",
       "2                                  8.096893   \n",
       "3                                  8.074946   \n",
       "4                                  8.054678   \n",
       "\n",
       "   secondary_cleaner.state.floatbank4_b_level  \\\n",
       "0                                 -501.289139   \n",
       "1                                 -499.634209   \n",
       "2                                 -500.827423   \n",
       "3                                 -499.474407   \n",
       "4                                 -500.397500   \n",
       "\n",
       "   secondary_cleaner.state.floatbank5_a_air  \\\n",
       "0                                  7.946562   \n",
       "1                                  7.958270   \n",
       "2                                  8.071056   \n",
       "3                                  7.897085   \n",
       "4                                  8.107890   \n",
       "\n",
       "   secondary_cleaner.state.floatbank5_a_level  \\\n",
       "0                                 -432.317850   \n",
       "1                                 -525.839648   \n",
       "2                                 -500.801673   \n",
       "3                                 -500.868509   \n",
       "4                                 -509.526725   \n",
       "\n",
       "   secondary_cleaner.state.floatbank5_b_air  \\\n",
       "0                                  4.872511   \n",
       "1                                  4.878850   \n",
       "2                                  4.905125   \n",
       "3                                  4.931400   \n",
       "4                                  4.957674   \n",
       "\n",
       "   secondary_cleaner.state.floatbank5_b_level  \\\n",
       "0                                 -500.037437   \n",
       "1                                 -500.162375   \n",
       "2                                 -499.828510   \n",
       "3                                 -499.963623   \n",
       "4                                 -500.360026   \n",
       "\n",
       "   secondary_cleaner.state.floatbank6_a_air  \\\n",
       "0                                 26.705889   \n",
       "1                                 25.019940   \n",
       "2                                 24.994862   \n",
       "3                                 24.948919   \n",
       "4                                 25.003331   \n",
       "\n",
       "   secondary_cleaner.state.floatbank6_a_level  \n",
       "0                                 -499.709414  \n",
       "1                                 -499.819438  \n",
       "2                                 -500.622559  \n",
       "3                                 -498.709987  \n",
       "4                                 -500.856333  \n",
       "\n",
       "[5 rows x 53 columns]"
      ]
     },
     "execution_count": 137,
     "metadata": {},
     "output_type": "execute_result"
    }
   ],
   "source": [
    "df_test.head()"
   ]
  },
  {
   "cell_type": "code",
   "execution_count": 138,
   "metadata": {
    "scrolled": true
   },
   "outputs": [
    {
     "name": "stdout",
     "output_type": "stream",
     "text": [
      "<class 'pandas.core.frame.DataFrame'>\n",
      "RangeIndex: 5290 entries, 0 to 5289\n",
      "Data columns (total 53 columns):\n",
      " #   Column                                      Non-Null Count  Dtype  \n",
      "---  ------                                      --------------  -----  \n",
      " 0   date                                        5290 non-null   object \n",
      " 1   primary_cleaner.input.sulfate               5286 non-null   float64\n",
      " 2   primary_cleaner.input.depressant            5285 non-null   float64\n",
      " 3   primary_cleaner.input.feed_size             5290 non-null   float64\n",
      " 4   primary_cleaner.input.xanthate              5286 non-null   float64\n",
      " 5   primary_cleaner.state.floatbank8_a_air      5290 non-null   float64\n",
      " 6   primary_cleaner.state.floatbank8_a_level    5290 non-null   float64\n",
      " 7   primary_cleaner.state.floatbank8_b_air      5290 non-null   float64\n",
      " 8   primary_cleaner.state.floatbank8_b_level    5290 non-null   float64\n",
      " 9   primary_cleaner.state.floatbank8_c_air      5290 non-null   float64\n",
      " 10  primary_cleaner.state.floatbank8_c_level    5290 non-null   float64\n",
      " 11  primary_cleaner.state.floatbank8_d_air      5290 non-null   float64\n",
      " 12  primary_cleaner.state.floatbank8_d_level    5290 non-null   float64\n",
      " 13  rougher.input.feed_ag                       5290 non-null   float64\n",
      " 14  rougher.input.feed_pb                       5290 non-null   float64\n",
      " 15  rougher.input.feed_rate                     5287 non-null   float64\n",
      " 16  rougher.input.feed_size                     5289 non-null   float64\n",
      " 17  rougher.input.feed_sol                      5269 non-null   float64\n",
      " 18  rougher.input.feed_au                       5290 non-null   float64\n",
      " 19  rougher.input.floatbank10_sulfate           5285 non-null   float64\n",
      " 20  rougher.input.floatbank10_xanthate          5290 non-null   float64\n",
      " 21  rougher.input.floatbank11_sulfate           5282 non-null   float64\n",
      " 22  rougher.input.floatbank11_xanthate          5265 non-null   float64\n",
      " 23  rougher.state.floatbank10_a_air             5290 non-null   float64\n",
      " 24  rougher.state.floatbank10_a_level           5290 non-null   float64\n",
      " 25  rougher.state.floatbank10_b_air             5290 non-null   float64\n",
      " 26  rougher.state.floatbank10_b_level           5290 non-null   float64\n",
      " 27  rougher.state.floatbank10_c_air             5290 non-null   float64\n",
      " 28  rougher.state.floatbank10_c_level           5290 non-null   float64\n",
      " 29  rougher.state.floatbank10_d_air             5290 non-null   float64\n",
      " 30  rougher.state.floatbank10_d_level           5290 non-null   float64\n",
      " 31  rougher.state.floatbank10_e_air             5290 non-null   float64\n",
      " 32  rougher.state.floatbank10_e_level           5290 non-null   float64\n",
      " 33  rougher.state.floatbank10_f_air             5290 non-null   float64\n",
      " 34  rougher.state.floatbank10_f_level           5290 non-null   float64\n",
      " 35  secondary_cleaner.state.floatbank2_a_air    5287 non-null   float64\n",
      " 36  secondary_cleaner.state.floatbank2_a_level  5290 non-null   float64\n",
      " 37  secondary_cleaner.state.floatbank2_b_air    5288 non-null   float64\n",
      " 38  secondary_cleaner.state.floatbank2_b_level  5290 non-null   float64\n",
      " 39  secondary_cleaner.state.floatbank3_a_air    5281 non-null   float64\n",
      " 40  secondary_cleaner.state.floatbank3_a_level  5290 non-null   float64\n",
      " 41  secondary_cleaner.state.floatbank3_b_air    5290 non-null   float64\n",
      " 42  secondary_cleaner.state.floatbank3_b_level  5290 non-null   float64\n",
      " 43  secondary_cleaner.state.floatbank4_a_air    5290 non-null   float64\n",
      " 44  secondary_cleaner.state.floatbank4_a_level  5290 non-null   float64\n",
      " 45  secondary_cleaner.state.floatbank4_b_air    5290 non-null   float64\n",
      " 46  secondary_cleaner.state.floatbank4_b_level  5290 non-null   float64\n",
      " 47  secondary_cleaner.state.floatbank5_a_air    5290 non-null   float64\n",
      " 48  secondary_cleaner.state.floatbank5_a_level  5290 non-null   float64\n",
      " 49  secondary_cleaner.state.floatbank5_b_air    5290 non-null   float64\n",
      " 50  secondary_cleaner.state.floatbank5_b_level  5290 non-null   float64\n",
      " 51  secondary_cleaner.state.floatbank6_a_air    5290 non-null   float64\n",
      " 52  secondary_cleaner.state.floatbank6_a_level  5290 non-null   float64\n",
      "dtypes: float64(52), object(1)\n",
      "memory usage: 2.1+ MB\n"
     ]
    }
   ],
   "source": [
    "df_test.info()"
   ]
  },
  {
   "cell_type": "code",
   "execution_count": 139,
   "metadata": {},
   "outputs": [
    {
     "data": {
      "text/html": [
       "<div>\n",
       "<style scoped>\n",
       "    .dataframe tbody tr th:only-of-type {\n",
       "        vertical-align: middle;\n",
       "    }\n",
       "\n",
       "    .dataframe tbody tr th {\n",
       "        vertical-align: top;\n",
       "    }\n",
       "\n",
       "    .dataframe thead th {\n",
       "        text-align: right;\n",
       "    }\n",
       "</style>\n",
       "<table border=\"1\" class=\"dataframe\">\n",
       "  <thead>\n",
       "    <tr style=\"text-align: right;\">\n",
       "      <th></th>\n",
       "      <th>primary_cleaner.input.sulfate</th>\n",
       "      <th>primary_cleaner.input.depressant</th>\n",
       "      <th>primary_cleaner.input.feed_size</th>\n",
       "      <th>primary_cleaner.input.xanthate</th>\n",
       "      <th>primary_cleaner.state.floatbank8_a_air</th>\n",
       "      <th>primary_cleaner.state.floatbank8_a_level</th>\n",
       "      <th>primary_cleaner.state.floatbank8_b_air</th>\n",
       "      <th>primary_cleaner.state.floatbank8_b_level</th>\n",
       "      <th>primary_cleaner.state.floatbank8_c_air</th>\n",
       "      <th>primary_cleaner.state.floatbank8_c_level</th>\n",
       "      <th>...</th>\n",
       "      <th>secondary_cleaner.state.floatbank4_a_air</th>\n",
       "      <th>secondary_cleaner.state.floatbank4_a_level</th>\n",
       "      <th>secondary_cleaner.state.floatbank4_b_air</th>\n",
       "      <th>secondary_cleaner.state.floatbank4_b_level</th>\n",
       "      <th>secondary_cleaner.state.floatbank5_a_air</th>\n",
       "      <th>secondary_cleaner.state.floatbank5_a_level</th>\n",
       "      <th>secondary_cleaner.state.floatbank5_b_air</th>\n",
       "      <th>secondary_cleaner.state.floatbank5_b_level</th>\n",
       "      <th>secondary_cleaner.state.floatbank6_a_air</th>\n",
       "      <th>secondary_cleaner.state.floatbank6_a_level</th>\n",
       "    </tr>\n",
       "  </thead>\n",
       "  <tbody>\n",
       "    <tr>\n",
       "      <th>count</th>\n",
       "      <td>5286.000000</td>\n",
       "      <td>5285.000000</td>\n",
       "      <td>5290.000000</td>\n",
       "      <td>5286.000000</td>\n",
       "      <td>5.290000e+03</td>\n",
       "      <td>5290.000000</td>\n",
       "      <td>5.290000e+03</td>\n",
       "      <td>5290.000000</td>\n",
       "      <td>5.290000e+03</td>\n",
       "      <td>5290.000000</td>\n",
       "      <td>...</td>\n",
       "      <td>5.290000e+03</td>\n",
       "      <td>5290.000000</td>\n",
       "      <td>5.290000e+03</td>\n",
       "      <td>5290.000000</td>\n",
       "      <td>5290.000000</td>\n",
       "      <td>5290.000000</td>\n",
       "      <td>5290.000000</td>\n",
       "      <td>5290.000000</td>\n",
       "      <td>5290.000000</td>\n",
       "      <td>5290.000000</td>\n",
       "    </tr>\n",
       "    <tr>\n",
       "      <th>mean</th>\n",
       "      <td>174.839652</td>\n",
       "      <td>8.683596</td>\n",
       "      <td>7.266339</td>\n",
       "      <td>1.383803</td>\n",
       "      <td>1.539494e+03</td>\n",
       "      <td>-497.665883</td>\n",
       "      <td>1.545174e+03</td>\n",
       "      <td>-500.273098</td>\n",
       "      <td>1.527272e+03</td>\n",
       "      <td>-498.330680</td>\n",
       "      <td>...</td>\n",
       "      <td>1.632007e+01</td>\n",
       "      <td>-505.144570</td>\n",
       "      <td>1.373544e+01</td>\n",
       "      <td>-463.349858</td>\n",
       "      <td>12.804186</td>\n",
       "      <td>-501.329122</td>\n",
       "      <td>9.881145</td>\n",
       "      <td>-495.663398</td>\n",
       "      <td>17.304935</td>\n",
       "      <td>-501.793193</td>\n",
       "    </tr>\n",
       "    <tr>\n",
       "      <th>std</th>\n",
       "      <td>43.027080</td>\n",
       "      <td>3.072050</td>\n",
       "      <td>0.610219</td>\n",
       "      <td>0.643474</td>\n",
       "      <td>1.167979e+02</td>\n",
       "      <td>19.952431</td>\n",
       "      <td>1.222246e+02</td>\n",
       "      <td>32.968307</td>\n",
       "      <td>1.225380e+02</td>\n",
       "      <td>21.964876</td>\n",
       "      <td>...</td>\n",
       "      <td>3.493583e+00</td>\n",
       "      <td>31.427337</td>\n",
       "      <td>3.430484e+00</td>\n",
       "      <td>86.189107</td>\n",
       "      <td>3.026591</td>\n",
       "      <td>17.951495</td>\n",
       "      <td>2.868205</td>\n",
       "      <td>34.535007</td>\n",
       "      <td>4.536544</td>\n",
       "      <td>39.044215</td>\n",
       "    </tr>\n",
       "    <tr>\n",
       "      <th>min</th>\n",
       "      <td>2.566156</td>\n",
       "      <td>0.003839</td>\n",
       "      <td>5.650000</td>\n",
       "      <td>0.004984</td>\n",
       "      <td>5.445860e-32</td>\n",
       "      <td>-795.316337</td>\n",
       "      <td>6.647490e-32</td>\n",
       "      <td>-799.997015</td>\n",
       "      <td>4.033736e-32</td>\n",
       "      <td>-799.960571</td>\n",
       "      <td>...</td>\n",
       "      <td>1.079872e-16</td>\n",
       "      <td>-799.798523</td>\n",
       "      <td>2.489718e-17</td>\n",
       "      <td>-800.836914</td>\n",
       "      <td>0.069227</td>\n",
       "      <td>-797.323986</td>\n",
       "      <td>0.528083</td>\n",
       "      <td>-800.220337</td>\n",
       "      <td>-0.079426</td>\n",
       "      <td>-809.741464</td>\n",
       "    </tr>\n",
       "    <tr>\n",
       "      <th>25%</th>\n",
       "      <td>147.121401</td>\n",
       "      <td>6.489555</td>\n",
       "      <td>6.890000</td>\n",
       "      <td>0.907623</td>\n",
       "      <td>1.498936e+03</td>\n",
       "      <td>-500.357298</td>\n",
       "      <td>1.498971e+03</td>\n",
       "      <td>-500.703002</td>\n",
       "      <td>1.473230e+03</td>\n",
       "      <td>-501.018117</td>\n",
       "      <td>...</td>\n",
       "      <td>1.403618e+01</td>\n",
       "      <td>-500.868258</td>\n",
       "      <td>1.202862e+01</td>\n",
       "      <td>-500.323028</td>\n",
       "      <td>10.914838</td>\n",
       "      <td>-500.726841</td>\n",
       "      <td>8.036719</td>\n",
       "      <td>-500.194668</td>\n",
       "      <td>13.997317</td>\n",
       "      <td>-500.690984</td>\n",
       "    </tr>\n",
       "    <tr>\n",
       "      <th>50%</th>\n",
       "      <td>177.828489</td>\n",
       "      <td>8.052207</td>\n",
       "      <td>7.250000</td>\n",
       "      <td>1.197610</td>\n",
       "      <td>1.585129e+03</td>\n",
       "      <td>-499.969164</td>\n",
       "      <td>1.595622e+03</td>\n",
       "      <td>-500.028514</td>\n",
       "      <td>1.549595e+03</td>\n",
       "      <td>-500.017711</td>\n",
       "      <td>...</td>\n",
       "      <td>1.700847e+01</td>\n",
       "      <td>-500.115727</td>\n",
       "      <td>1.496486e+01</td>\n",
       "      <td>-499.576513</td>\n",
       "      <td>12.954182</td>\n",
       "      <td>-499.990332</td>\n",
       "      <td>10.004301</td>\n",
       "      <td>-499.990535</td>\n",
       "      <td>16.014935</td>\n",
       "      <td>-500.007126</td>\n",
       "    </tr>\n",
       "    <tr>\n",
       "      <th>75%</th>\n",
       "      <td>208.125438</td>\n",
       "      <td>10.027764</td>\n",
       "      <td>7.600000</td>\n",
       "      <td>1.797819</td>\n",
       "      <td>1.602077e+03</td>\n",
       "      <td>-499.568951</td>\n",
       "      <td>1.602324e+03</td>\n",
       "      <td>-499.293257</td>\n",
       "      <td>1.601144e+03</td>\n",
       "      <td>-498.994130</td>\n",
       "      <td>...</td>\n",
       "      <td>1.803862e+01</td>\n",
       "      <td>-499.404224</td>\n",
       "      <td>1.596213e+01</td>\n",
       "      <td>-400.933805</td>\n",
       "      <td>15.097528</td>\n",
       "      <td>-499.283191</td>\n",
       "      <td>11.997467</td>\n",
       "      <td>-499.719913</td>\n",
       "      <td>21.020013</td>\n",
       "      <td>-499.373018</td>\n",
       "    </tr>\n",
       "    <tr>\n",
       "      <th>max</th>\n",
       "      <td>265.983123</td>\n",
       "      <td>40.000000</td>\n",
       "      <td>15.500000</td>\n",
       "      <td>4.102454</td>\n",
       "      <td>2.103104e+03</td>\n",
       "      <td>-57.195404</td>\n",
       "      <td>1.813084e+03</td>\n",
       "      <td>-142.527229</td>\n",
       "      <td>1.715054e+03</td>\n",
       "      <td>-150.937035</td>\n",
       "      <td>...</td>\n",
       "      <td>3.005180e+01</td>\n",
       "      <td>-401.565212</td>\n",
       "      <td>3.126971e+01</td>\n",
       "      <td>-6.506986</td>\n",
       "      <td>25.258848</td>\n",
       "      <td>-244.483566</td>\n",
       "      <td>14.086866</td>\n",
       "      <td>-137.740004</td>\n",
       "      <td>26.705889</td>\n",
       "      <td>-123.307487</td>\n",
       "    </tr>\n",
       "  </tbody>\n",
       "</table>\n",
       "<p>8 rows × 52 columns</p>\n",
       "</div>"
      ],
      "text/plain": [
       "       primary_cleaner.input.sulfate  primary_cleaner.input.depressant  \\\n",
       "count                    5286.000000                       5285.000000   \n",
       "mean                      174.839652                          8.683596   \n",
       "std                        43.027080                          3.072050   \n",
       "min                         2.566156                          0.003839   \n",
       "25%                       147.121401                          6.489555   \n",
       "50%                       177.828489                          8.052207   \n",
       "75%                       208.125438                         10.027764   \n",
       "max                       265.983123                         40.000000   \n",
       "\n",
       "       primary_cleaner.input.feed_size  primary_cleaner.input.xanthate  \\\n",
       "count                      5290.000000                     5286.000000   \n",
       "mean                          7.266339                        1.383803   \n",
       "std                           0.610219                        0.643474   \n",
       "min                           5.650000                        0.004984   \n",
       "25%                           6.890000                        0.907623   \n",
       "50%                           7.250000                        1.197610   \n",
       "75%                           7.600000                        1.797819   \n",
       "max                          15.500000                        4.102454   \n",
       "\n",
       "       primary_cleaner.state.floatbank8_a_air  \\\n",
       "count                            5.290000e+03   \n",
       "mean                             1.539494e+03   \n",
       "std                              1.167979e+02   \n",
       "min                              5.445860e-32   \n",
       "25%                              1.498936e+03   \n",
       "50%                              1.585129e+03   \n",
       "75%                              1.602077e+03   \n",
       "max                              2.103104e+03   \n",
       "\n",
       "       primary_cleaner.state.floatbank8_a_level  \\\n",
       "count                               5290.000000   \n",
       "mean                                -497.665883   \n",
       "std                                   19.952431   \n",
       "min                                 -795.316337   \n",
       "25%                                 -500.357298   \n",
       "50%                                 -499.969164   \n",
       "75%                                 -499.568951   \n",
       "max                                  -57.195404   \n",
       "\n",
       "       primary_cleaner.state.floatbank8_b_air  \\\n",
       "count                            5.290000e+03   \n",
       "mean                             1.545174e+03   \n",
       "std                              1.222246e+02   \n",
       "min                              6.647490e-32   \n",
       "25%                              1.498971e+03   \n",
       "50%                              1.595622e+03   \n",
       "75%                              1.602324e+03   \n",
       "max                              1.813084e+03   \n",
       "\n",
       "       primary_cleaner.state.floatbank8_b_level  \\\n",
       "count                               5290.000000   \n",
       "mean                                -500.273098   \n",
       "std                                   32.968307   \n",
       "min                                 -799.997015   \n",
       "25%                                 -500.703002   \n",
       "50%                                 -500.028514   \n",
       "75%                                 -499.293257   \n",
       "max                                 -142.527229   \n",
       "\n",
       "       primary_cleaner.state.floatbank8_c_air  \\\n",
       "count                            5.290000e+03   \n",
       "mean                             1.527272e+03   \n",
       "std                              1.225380e+02   \n",
       "min                              4.033736e-32   \n",
       "25%                              1.473230e+03   \n",
       "50%                              1.549595e+03   \n",
       "75%                              1.601144e+03   \n",
       "max                              1.715054e+03   \n",
       "\n",
       "       primary_cleaner.state.floatbank8_c_level  ...  \\\n",
       "count                               5290.000000  ...   \n",
       "mean                                -498.330680  ...   \n",
       "std                                   21.964876  ...   \n",
       "min                                 -799.960571  ...   \n",
       "25%                                 -501.018117  ...   \n",
       "50%                                 -500.017711  ...   \n",
       "75%                                 -498.994130  ...   \n",
       "max                                 -150.937035  ...   \n",
       "\n",
       "       secondary_cleaner.state.floatbank4_a_air  \\\n",
       "count                              5.290000e+03   \n",
       "mean                               1.632007e+01   \n",
       "std                                3.493583e+00   \n",
       "min                                1.079872e-16   \n",
       "25%                                1.403618e+01   \n",
       "50%                                1.700847e+01   \n",
       "75%                                1.803862e+01   \n",
       "max                                3.005180e+01   \n",
       "\n",
       "       secondary_cleaner.state.floatbank4_a_level  \\\n",
       "count                                 5290.000000   \n",
       "mean                                  -505.144570   \n",
       "std                                     31.427337   \n",
       "min                                   -799.798523   \n",
       "25%                                   -500.868258   \n",
       "50%                                   -500.115727   \n",
       "75%                                   -499.404224   \n",
       "max                                   -401.565212   \n",
       "\n",
       "       secondary_cleaner.state.floatbank4_b_air  \\\n",
       "count                              5.290000e+03   \n",
       "mean                               1.373544e+01   \n",
       "std                                3.430484e+00   \n",
       "min                                2.489718e-17   \n",
       "25%                                1.202862e+01   \n",
       "50%                                1.496486e+01   \n",
       "75%                                1.596213e+01   \n",
       "max                                3.126971e+01   \n",
       "\n",
       "       secondary_cleaner.state.floatbank4_b_level  \\\n",
       "count                                 5290.000000   \n",
       "mean                                  -463.349858   \n",
       "std                                     86.189107   \n",
       "min                                   -800.836914   \n",
       "25%                                   -500.323028   \n",
       "50%                                   -499.576513   \n",
       "75%                                   -400.933805   \n",
       "max                                     -6.506986   \n",
       "\n",
       "       secondary_cleaner.state.floatbank5_a_air  \\\n",
       "count                               5290.000000   \n",
       "mean                                  12.804186   \n",
       "std                                    3.026591   \n",
       "min                                    0.069227   \n",
       "25%                                   10.914838   \n",
       "50%                                   12.954182   \n",
       "75%                                   15.097528   \n",
       "max                                   25.258848   \n",
       "\n",
       "       secondary_cleaner.state.floatbank5_a_level  \\\n",
       "count                                 5290.000000   \n",
       "mean                                  -501.329122   \n",
       "std                                     17.951495   \n",
       "min                                   -797.323986   \n",
       "25%                                   -500.726841   \n",
       "50%                                   -499.990332   \n",
       "75%                                   -499.283191   \n",
       "max                                   -244.483566   \n",
       "\n",
       "       secondary_cleaner.state.floatbank5_b_air  \\\n",
       "count                               5290.000000   \n",
       "mean                                   9.881145   \n",
       "std                                    2.868205   \n",
       "min                                    0.528083   \n",
       "25%                                    8.036719   \n",
       "50%                                   10.004301   \n",
       "75%                                   11.997467   \n",
       "max                                   14.086866   \n",
       "\n",
       "       secondary_cleaner.state.floatbank5_b_level  \\\n",
       "count                                 5290.000000   \n",
       "mean                                  -495.663398   \n",
       "std                                     34.535007   \n",
       "min                                   -800.220337   \n",
       "25%                                   -500.194668   \n",
       "50%                                   -499.990535   \n",
       "75%                                   -499.719913   \n",
       "max                                   -137.740004   \n",
       "\n",
       "       secondary_cleaner.state.floatbank6_a_air  \\\n",
       "count                               5290.000000   \n",
       "mean                                  17.304935   \n",
       "std                                    4.536544   \n",
       "min                                   -0.079426   \n",
       "25%                                   13.997317   \n",
       "50%                                   16.014935   \n",
       "75%                                   21.020013   \n",
       "max                                   26.705889   \n",
       "\n",
       "       secondary_cleaner.state.floatbank6_a_level  \n",
       "count                                 5290.000000  \n",
       "mean                                  -501.793193  \n",
       "std                                     39.044215  \n",
       "min                                   -809.741464  \n",
       "25%                                   -500.690984  \n",
       "50%                                   -500.007126  \n",
       "75%                                   -499.373018  \n",
       "max                                   -123.307487  \n",
       "\n",
       "[8 rows x 52 columns]"
      ]
     },
     "execution_count": 139,
     "metadata": {},
     "output_type": "execute_result"
    }
   ],
   "source": [
    "df_test.describe()"
   ]
  },
  {
   "cell_type": "markdown",
   "metadata": {},
   "source": [
    "### Проверка расчета эффективности обогащения"
   ]
  },
  {
   "cell_type": "markdown",
   "metadata": {},
   "source": [
    "Расчитаем эффективность обогащения на тренировочных данных:"
   ]
  },
  {
   "cell_type": "code",
   "execution_count": 140,
   "metadata": {},
   "outputs": [],
   "source": [
    "df_train['check_recovery'] = (\n",
    "    (df_train['rougher.output.concentrate_au'] * (df_train['rougher.input.feed_au'] - df_train['rougher.output.tail_au'])) \n",
    "    /\n",
    "    (df_train['rougher.input.feed_au'] * (df_train['rougher.output.concentrate_au'] - df_train['rougher.output.tail_au'])) \n",
    "    *100)"
   ]
  },
  {
   "cell_type": "code",
   "execution_count": 141,
   "metadata": {},
   "outputs": [],
   "source": [
    "df_train = df_train[~(df_train['check_recovery'].isna())]"
   ]
  },
  {
   "cell_type": "code",
   "execution_count": 142,
   "metadata": {},
   "outputs": [
    {
     "name": "stdout",
     "output_type": "stream",
     "text": [
      "<class 'pandas.core.frame.DataFrame'>\n",
      "Int64Index: 14149 entries, 0 to 14148\n",
      "Data columns (total 88 columns):\n",
      " #   Column                                              Non-Null Count  Dtype  \n",
      "---  ------                                              --------------  -----  \n",
      " 0   date                                                14149 non-null  object \n",
      " 1   final.output.concentrate_ag                         14148 non-null  float64\n",
      " 2   final.output.concentrate_pb                         14148 non-null  float64\n",
      " 3   final.output.concentrate_sol                        13938 non-null  float64\n",
      " 4   final.output.concentrate_au                         14149 non-null  float64\n",
      " 5   final.output.recovery                               14149 non-null  float64\n",
      " 6   final.output.tail_ag                                14149 non-null  float64\n",
      " 7   final.output.tail_pb                                14049 non-null  float64\n",
      " 8   final.output.tail_sol                               14144 non-null  float64\n",
      " 9   final.output.tail_au                                14149 non-null  float64\n",
      " 10  primary_cleaner.input.sulfate                       14129 non-null  float64\n",
      " 11  primary_cleaner.input.depressant                    14117 non-null  float64\n",
      " 12  primary_cleaner.input.feed_size                     14149 non-null  float64\n",
      " 13  primary_cleaner.input.xanthate                      14049 non-null  float64\n",
      " 14  primary_cleaner.output.concentrate_ag               14149 non-null  float64\n",
      " 15  primary_cleaner.output.concentrate_pb               14063 non-null  float64\n",
      " 16  primary_cleaner.output.concentrate_sol              13863 non-null  float64\n",
      " 17  primary_cleaner.output.concentrate_au               14149 non-null  float64\n",
      " 18  primary_cleaner.output.tail_ag                      14148 non-null  float64\n",
      " 19  primary_cleaner.output.tail_pb                      14134 non-null  float64\n",
      " 20  primary_cleaner.output.tail_sol                     14103 non-null  float64\n",
      " 21  primary_cleaner.output.tail_au                      14149 non-null  float64\n",
      " 22  primary_cleaner.state.floatbank8_a_air              14145 non-null  float64\n",
      " 23  primary_cleaner.state.floatbank8_a_level            14148 non-null  float64\n",
      " 24  primary_cleaner.state.floatbank8_b_air              14145 non-null  float64\n",
      " 25  primary_cleaner.state.floatbank8_b_level            14148 non-null  float64\n",
      " 26  primary_cleaner.state.floatbank8_c_air              14147 non-null  float64\n",
      " 27  primary_cleaner.state.floatbank8_c_level            14148 non-null  float64\n",
      " 28  primary_cleaner.state.floatbank8_d_air              14146 non-null  float64\n",
      " 29  primary_cleaner.state.floatbank8_d_level            14148 non-null  float64\n",
      " 30  rougher.calculation.sulfate_to_au_concentrate       14148 non-null  float64\n",
      " 31  rougher.calculation.floatbank10_sulfate_to_au_feed  14148 non-null  float64\n",
      " 32  rougher.calculation.floatbank11_sulfate_to_au_feed  14148 non-null  float64\n",
      " 33  rougher.calculation.au_pb_ratio                     14149 non-null  float64\n",
      " 34  rougher.input.feed_ag                               14149 non-null  float64\n",
      " 35  rougher.input.feed_pb                               14049 non-null  float64\n",
      " 36  rougher.input.feed_rate                             14141 non-null  float64\n",
      " 37  rougher.input.feed_size                             14005 non-null  float64\n",
      " 38  rougher.input.feed_sol                              14071 non-null  float64\n",
      " 39  rougher.input.feed_au                               14149 non-null  float64\n",
      " 40  rougher.input.floatbank10_sulfate                   14120 non-null  float64\n",
      " 41  rougher.input.floatbank10_xanthate                  14141 non-null  float64\n",
      " 42  rougher.input.floatbank11_sulfate                   14113 non-null  float64\n",
      " 43  rougher.input.floatbank11_xanthate                  13721 non-null  float64\n",
      " 44  rougher.output.concentrate_ag                       14149 non-null  float64\n",
      " 45  rougher.output.concentrate_pb                       14149 non-null  float64\n",
      " 46  rougher.output.concentrate_sol                      14127 non-null  float64\n",
      " 47  rougher.output.concentrate_au                       14149 non-null  float64\n",
      " 48  rougher.output.recovery                             14149 non-null  float64\n",
      " 49  rougher.output.tail_ag                              14148 non-null  float64\n",
      " 50  rougher.output.tail_pb                              14149 non-null  float64\n",
      " 51  rougher.output.tail_sol                             14149 non-null  float64\n",
      " 52  rougher.output.tail_au                              14149 non-null  float64\n",
      " 53  rougher.state.floatbank10_a_air                     14148 non-null  float64\n",
      " 54  rougher.state.floatbank10_a_level                   14148 non-null  float64\n",
      " 55  rougher.state.floatbank10_b_air                     14148 non-null  float64\n",
      " 56  rougher.state.floatbank10_b_level                   14148 non-null  float64\n",
      " 57  rougher.state.floatbank10_c_air                     14148 non-null  float64\n",
      " 58  rougher.state.floatbank10_c_level                   14148 non-null  float64\n",
      " 59  rougher.state.floatbank10_d_air                     14149 non-null  float64\n",
      " 60  rougher.state.floatbank10_d_level                   14149 non-null  float64\n",
      " 61  rougher.state.floatbank10_e_air                     13713 non-null  float64\n",
      " 62  rougher.state.floatbank10_e_level                   14149 non-null  float64\n",
      " 63  rougher.state.floatbank10_f_air                     14149 non-null  float64\n",
      " 64  rougher.state.floatbank10_f_level                   14149 non-null  float64\n",
      " 65  secondary_cleaner.output.tail_ag                    14147 non-null  float64\n",
      " 66  secondary_cleaner.output.tail_pb                    14139 non-null  float64\n",
      " 67  secondary_cleaner.output.tail_sol                   12544 non-null  float64\n",
      " 68  secondary_cleaner.output.tail_au                    14149 non-null  float64\n",
      " 69  secondary_cleaner.state.floatbank2_a_air            13932 non-null  float64\n",
      " 70  secondary_cleaner.state.floatbank2_a_level          14148 non-null  float64\n",
      " 71  secondary_cleaner.state.floatbank2_b_air            14128 non-null  float64\n",
      " 72  secondary_cleaner.state.floatbank2_b_level          14148 non-null  float64\n",
      " 73  secondary_cleaner.state.floatbank3_a_air            14145 non-null  float64\n",
      " 74  secondary_cleaner.state.floatbank3_a_level          14148 non-null  float64\n",
      " 75  secondary_cleaner.state.floatbank3_b_air            14148 non-null  float64\n",
      " 76  secondary_cleaner.state.floatbank3_b_level          14148 non-null  float64\n",
      " 77  secondary_cleaner.state.floatbank4_a_air            14143 non-null  float64\n",
      " 78  secondary_cleaner.state.floatbank4_a_level          14148 non-null  float64\n",
      " 79  secondary_cleaner.state.floatbank4_b_air            14148 non-null  float64\n",
      " 80  secondary_cleaner.state.floatbank4_b_level          14148 non-null  float64\n",
      " 81  secondary_cleaner.state.floatbank5_a_air            14148 non-null  float64\n",
      " 82  secondary_cleaner.state.floatbank5_a_level          14148 non-null  float64\n",
      " 83  secondary_cleaner.state.floatbank5_b_air            14148 non-null  float64\n",
      " 84  secondary_cleaner.state.floatbank5_b_level          14148 non-null  float64\n",
      " 85  secondary_cleaner.state.floatbank6_a_air            14147 non-null  float64\n",
      " 86  secondary_cleaner.state.floatbank6_a_level          14148 non-null  float64\n",
      " 87  check_recovery                                      14149 non-null  float64\n",
      "dtypes: float64(87), object(1)\n",
      "memory usage: 9.6+ MB\n"
     ]
    }
   ],
   "source": [
    "df_train.info()"
   ]
  },
  {
   "cell_type": "markdown",
   "metadata": {},
   "source": [
    "Посчитаем метрику MAE для рассчитанной эффективности и фактической."
   ]
  },
  {
   "cell_type": "code",
   "execution_count": 143,
   "metadata": {},
   "outputs": [
    {
     "data": {
      "text/plain": [
       "9.73512347450521e-15"
      ]
     },
     "execution_count": 143,
     "metadata": {},
     "output_type": "execute_result"
    }
   ],
   "source": [
    "check_mae = mean_absolute_error(df_train['check_recovery'], df_train['rougher.output.recovery'])\n",
    "check_mae"
   ]
  },
  {
   "cell_type": "markdown",
   "metadata": {},
   "source": [
    "При расчете расчитанного показателя с таргетом **rougher.output.recovery** получили практически нулевую разницу, что говорит о том, что эффективность обогащения рассчитана правильно."
   ]
  },
  {
   "cell_type": "markdown",
   "metadata": {},
   "source": [
    "### Предобработка данных"
   ]
  },
  {
   "cell_type": "markdown",
   "metadata": {},
   "source": [
    "Добавим в тестовую выборку целевые признаки **final.output.recovery** и **rougher.output.recovery**"
   ]
  },
  {
   "cell_type": "markdown",
   "metadata": {},
   "source": [
    "используем метод **MERGE**, соединять будем по индексам:"
   ]
  },
  {
   "cell_type": "code",
   "execution_count": 144,
   "metadata": {},
   "outputs": [],
   "source": [
    "df_test = df_test\\\n",
    "    .merge(df_full.loc[:, ['date','rougher.output.recovery', 'final.output.recovery']], \n",
    "           how='left', left_on='date', right_on='date')"
   ]
  },
  {
   "cell_type": "markdown",
   "metadata": {},
   "source": [
    "#### Проверим какие признаки отсутствуют в тестовой выборке:"
   ]
  },
  {
   "cell_type": "code",
   "execution_count": 145,
   "metadata": {},
   "outputs": [],
   "source": [
    "different_columns = []\n",
    "for i in range(len(df_train.columns)):\n",
    "    if (df_train.columns[i] not in df_test.columns):\n",
    "        different_columns.append(df_train.columns[i])"
   ]
  },
  {
   "cell_type": "code",
   "execution_count": 146,
   "metadata": {
    "scrolled": true
   },
   "outputs": [
    {
     "data": {
      "text/plain": [
       "['final.output.concentrate_ag',\n",
       " 'final.output.concentrate_pb',\n",
       " 'final.output.concentrate_sol',\n",
       " 'final.output.concentrate_au',\n",
       " 'final.output.tail_ag',\n",
       " 'final.output.tail_pb',\n",
       " 'final.output.tail_sol',\n",
       " 'final.output.tail_au',\n",
       " 'primary_cleaner.output.concentrate_ag',\n",
       " 'primary_cleaner.output.concentrate_pb',\n",
       " 'primary_cleaner.output.concentrate_sol',\n",
       " 'primary_cleaner.output.concentrate_au',\n",
       " 'primary_cleaner.output.tail_ag',\n",
       " 'primary_cleaner.output.tail_pb',\n",
       " 'primary_cleaner.output.tail_sol',\n",
       " 'primary_cleaner.output.tail_au',\n",
       " 'rougher.calculation.sulfate_to_au_concentrate',\n",
       " 'rougher.calculation.floatbank10_sulfate_to_au_feed',\n",
       " 'rougher.calculation.floatbank11_sulfate_to_au_feed',\n",
       " 'rougher.calculation.au_pb_ratio',\n",
       " 'rougher.output.concentrate_ag',\n",
       " 'rougher.output.concentrate_pb',\n",
       " 'rougher.output.concentrate_sol',\n",
       " 'rougher.output.concentrate_au',\n",
       " 'rougher.output.tail_ag',\n",
       " 'rougher.output.tail_pb',\n",
       " 'rougher.output.tail_sol',\n",
       " 'rougher.output.tail_au',\n",
       " 'secondary_cleaner.output.tail_ag',\n",
       " 'secondary_cleaner.output.tail_pb',\n",
       " 'secondary_cleaner.output.tail_sol',\n",
       " 'secondary_cleaner.output.tail_au',\n",
       " 'check_recovery']"
      ]
     },
     "execution_count": 146,
     "metadata": {},
     "output_type": "execute_result"
    }
   ],
   "source": [
    "different_columns"
   ]
  },
  {
   "cell_type": "markdown",
   "metadata": {},
   "source": [
    "В тестовой выборке отсутствуют признаки:\n",
    "- финальные характеристики \"продукта\": концентрата, отвалов и эффективность обогащения;\n",
    "- характеристики \"продукта\" после первичной очистки: концентрата и отвалов;\n",
    "- характеристики \"продукта\" после вторичной очистки: отвалов;\n",
    "- характеристики \"продукта\" после флотации: концентрата и отвалов и эффективность обогащения;\n",
    "- расчетные характеристики флотации"
   ]
  },
  {
   "cell_type": "markdown",
   "metadata": {},
   "source": [
    "Удалим столбцы из тренировочного датасета, которых нет в тестовом."
   ]
  },
  {
   "cell_type": "code",
   "execution_count": 147,
   "metadata": {},
   "outputs": [],
   "source": [
    "df_train.drop(different_columns, axis=1, inplace=True)"
   ]
  },
  {
   "cell_type": "code",
   "execution_count": 148,
   "metadata": {},
   "outputs": [
    {
     "name": "stdout",
     "output_type": "stream",
     "text": [
      "<class 'pandas.core.frame.DataFrame'>\n",
      "Int64Index: 14149 entries, 0 to 14148\n",
      "Data columns (total 55 columns):\n",
      " #   Column                                      Non-Null Count  Dtype  \n",
      "---  ------                                      --------------  -----  \n",
      " 0   date                                        14149 non-null  object \n",
      " 1   final.output.recovery                       14149 non-null  float64\n",
      " 2   primary_cleaner.input.sulfate               14129 non-null  float64\n",
      " 3   primary_cleaner.input.depressant            14117 non-null  float64\n",
      " 4   primary_cleaner.input.feed_size             14149 non-null  float64\n",
      " 5   primary_cleaner.input.xanthate              14049 non-null  float64\n",
      " 6   primary_cleaner.state.floatbank8_a_air      14145 non-null  float64\n",
      " 7   primary_cleaner.state.floatbank8_a_level    14148 non-null  float64\n",
      " 8   primary_cleaner.state.floatbank8_b_air      14145 non-null  float64\n",
      " 9   primary_cleaner.state.floatbank8_b_level    14148 non-null  float64\n",
      " 10  primary_cleaner.state.floatbank8_c_air      14147 non-null  float64\n",
      " 11  primary_cleaner.state.floatbank8_c_level    14148 non-null  float64\n",
      " 12  primary_cleaner.state.floatbank8_d_air      14146 non-null  float64\n",
      " 13  primary_cleaner.state.floatbank8_d_level    14148 non-null  float64\n",
      " 14  rougher.input.feed_ag                       14149 non-null  float64\n",
      " 15  rougher.input.feed_pb                       14049 non-null  float64\n",
      " 16  rougher.input.feed_rate                     14141 non-null  float64\n",
      " 17  rougher.input.feed_size                     14005 non-null  float64\n",
      " 18  rougher.input.feed_sol                      14071 non-null  float64\n",
      " 19  rougher.input.feed_au                       14149 non-null  float64\n",
      " 20  rougher.input.floatbank10_sulfate           14120 non-null  float64\n",
      " 21  rougher.input.floatbank10_xanthate          14141 non-null  float64\n",
      " 22  rougher.input.floatbank11_sulfate           14113 non-null  float64\n",
      " 23  rougher.input.floatbank11_xanthate          13721 non-null  float64\n",
      " 24  rougher.output.recovery                     14149 non-null  float64\n",
      " 25  rougher.state.floatbank10_a_air             14148 non-null  float64\n",
      " 26  rougher.state.floatbank10_a_level           14148 non-null  float64\n",
      " 27  rougher.state.floatbank10_b_air             14148 non-null  float64\n",
      " 28  rougher.state.floatbank10_b_level           14148 non-null  float64\n",
      " 29  rougher.state.floatbank10_c_air             14148 non-null  float64\n",
      " 30  rougher.state.floatbank10_c_level           14148 non-null  float64\n",
      " 31  rougher.state.floatbank10_d_air             14149 non-null  float64\n",
      " 32  rougher.state.floatbank10_d_level           14149 non-null  float64\n",
      " 33  rougher.state.floatbank10_e_air             13713 non-null  float64\n",
      " 34  rougher.state.floatbank10_e_level           14149 non-null  float64\n",
      " 35  rougher.state.floatbank10_f_air             14149 non-null  float64\n",
      " 36  rougher.state.floatbank10_f_level           14149 non-null  float64\n",
      " 37  secondary_cleaner.state.floatbank2_a_air    13932 non-null  float64\n",
      " 38  secondary_cleaner.state.floatbank2_a_level  14148 non-null  float64\n",
      " 39  secondary_cleaner.state.floatbank2_b_air    14128 non-null  float64\n",
      " 40  secondary_cleaner.state.floatbank2_b_level  14148 non-null  float64\n",
      " 41  secondary_cleaner.state.floatbank3_a_air    14145 non-null  float64\n",
      " 42  secondary_cleaner.state.floatbank3_a_level  14148 non-null  float64\n",
      " 43  secondary_cleaner.state.floatbank3_b_air    14148 non-null  float64\n",
      " 44  secondary_cleaner.state.floatbank3_b_level  14148 non-null  float64\n",
      " 45  secondary_cleaner.state.floatbank4_a_air    14143 non-null  float64\n",
      " 46  secondary_cleaner.state.floatbank4_a_level  14148 non-null  float64\n",
      " 47  secondary_cleaner.state.floatbank4_b_air    14148 non-null  float64\n",
      " 48  secondary_cleaner.state.floatbank4_b_level  14148 non-null  float64\n",
      " 49  secondary_cleaner.state.floatbank5_a_air    14148 non-null  float64\n",
      " 50  secondary_cleaner.state.floatbank5_a_level  14148 non-null  float64\n",
      " 51  secondary_cleaner.state.floatbank5_b_air    14148 non-null  float64\n",
      " 52  secondary_cleaner.state.floatbank5_b_level  14148 non-null  float64\n",
      " 53  secondary_cleaner.state.floatbank6_a_air    14147 non-null  float64\n",
      " 54  secondary_cleaner.state.floatbank6_a_level  14148 non-null  float64\n",
      "dtypes: float64(54), object(1)\n",
      "memory usage: 6.0+ MB\n"
     ]
    }
   ],
   "source": [
    "df_train.info()"
   ]
  },
  {
   "cell_type": "markdown",
   "metadata": {},
   "source": [
    "#### Посмотрим, в каких столбцах есть пропуски"
   ]
  },
  {
   "cell_type": "code",
   "execution_count": 149,
   "metadata": {
    "scrolled": true
   },
   "outputs": [
    {
     "data": {
      "text/plain": [
       "date                                            0\n",
       "final.output.recovery                           0\n",
       "primary_cleaner.input.sulfate                  20\n",
       "primary_cleaner.input.depressant               32\n",
       "primary_cleaner.input.feed_size                 0\n",
       "primary_cleaner.input.xanthate                100\n",
       "primary_cleaner.state.floatbank8_a_air          4\n",
       "primary_cleaner.state.floatbank8_a_level        1\n",
       "primary_cleaner.state.floatbank8_b_air          4\n",
       "primary_cleaner.state.floatbank8_b_level        1\n",
       "primary_cleaner.state.floatbank8_c_air          2\n",
       "primary_cleaner.state.floatbank8_c_level        1\n",
       "primary_cleaner.state.floatbank8_d_air          3\n",
       "primary_cleaner.state.floatbank8_d_level        1\n",
       "rougher.input.feed_ag                           0\n",
       "rougher.input.feed_pb                         100\n",
       "rougher.input.feed_rate                         8\n",
       "rougher.input.feed_size                       144\n",
       "rougher.input.feed_sol                         78\n",
       "rougher.input.feed_au                           0\n",
       "rougher.input.floatbank10_sulfate              29\n",
       "rougher.input.floatbank10_xanthate              8\n",
       "rougher.input.floatbank11_sulfate              36\n",
       "rougher.input.floatbank11_xanthate            428\n",
       "rougher.output.recovery                         0\n",
       "rougher.state.floatbank10_a_air                 1\n",
       "rougher.state.floatbank10_a_level               1\n",
       "rougher.state.floatbank10_b_air                 1\n",
       "rougher.state.floatbank10_b_level               1\n",
       "rougher.state.floatbank10_c_air                 1\n",
       "rougher.state.floatbank10_c_level               1\n",
       "rougher.state.floatbank10_d_air                 0\n",
       "rougher.state.floatbank10_d_level               0\n",
       "rougher.state.floatbank10_e_air               436\n",
       "rougher.state.floatbank10_e_level               0\n",
       "rougher.state.floatbank10_f_air                 0\n",
       "rougher.state.floatbank10_f_level               0\n",
       "secondary_cleaner.state.floatbank2_a_air      217\n",
       "secondary_cleaner.state.floatbank2_a_level      1\n",
       "secondary_cleaner.state.floatbank2_b_air       21\n",
       "secondary_cleaner.state.floatbank2_b_level      1\n",
       "secondary_cleaner.state.floatbank3_a_air        4\n",
       "secondary_cleaner.state.floatbank3_a_level      1\n",
       "secondary_cleaner.state.floatbank3_b_air        1\n",
       "secondary_cleaner.state.floatbank3_b_level      1\n",
       "secondary_cleaner.state.floatbank4_a_air        6\n",
       "secondary_cleaner.state.floatbank4_a_level      1\n",
       "secondary_cleaner.state.floatbank4_b_air        1\n",
       "secondary_cleaner.state.floatbank4_b_level      1\n",
       "secondary_cleaner.state.floatbank5_a_air        1\n",
       "secondary_cleaner.state.floatbank5_a_level      1\n",
       "secondary_cleaner.state.floatbank5_b_air        1\n",
       "secondary_cleaner.state.floatbank5_b_level      1\n",
       "secondary_cleaner.state.floatbank6_a_air        2\n",
       "secondary_cleaner.state.floatbank6_a_level      1\n",
       "dtype: int64"
      ]
     },
     "execution_count": 149,
     "metadata": {},
     "output_type": "execute_result"
    }
   ],
   "source": [
    "df_train.isna().sum()"
   ]
  },
  {
   "cell_type": "markdown",
   "metadata": {},
   "source": [
    "Сохраним индексы строк, в которых есть пропуски.\n",
    "Выведем их на экран:"
   ]
  },
  {
   "cell_type": "code",
   "execution_count": 150,
   "metadata": {
    "scrolled": true
   },
   "outputs": [
    {
     "data": {
      "text/html": [
       "<div>\n",
       "<style scoped>\n",
       "    .dataframe tbody tr th:only-of-type {\n",
       "        vertical-align: middle;\n",
       "    }\n",
       "\n",
       "    .dataframe tbody tr th {\n",
       "        vertical-align: top;\n",
       "    }\n",
       "\n",
       "    .dataframe thead th {\n",
       "        text-align: right;\n",
       "    }\n",
       "</style>\n",
       "<table border=\"1\" class=\"dataframe\">\n",
       "  <thead>\n",
       "    <tr style=\"text-align: right;\">\n",
       "      <th></th>\n",
       "      <th>date</th>\n",
       "      <th>final.output.recovery</th>\n",
       "      <th>primary_cleaner.input.sulfate</th>\n",
       "      <th>primary_cleaner.input.depressant</th>\n",
       "      <th>primary_cleaner.input.feed_size</th>\n",
       "      <th>primary_cleaner.input.xanthate</th>\n",
       "      <th>primary_cleaner.state.floatbank8_a_air</th>\n",
       "      <th>primary_cleaner.state.floatbank8_a_level</th>\n",
       "      <th>primary_cleaner.state.floatbank8_b_air</th>\n",
       "      <th>primary_cleaner.state.floatbank8_b_level</th>\n",
       "      <th>...</th>\n",
       "      <th>secondary_cleaner.state.floatbank4_a_air</th>\n",
       "      <th>secondary_cleaner.state.floatbank4_a_level</th>\n",
       "      <th>secondary_cleaner.state.floatbank4_b_air</th>\n",
       "      <th>secondary_cleaner.state.floatbank4_b_level</th>\n",
       "      <th>secondary_cleaner.state.floatbank5_a_air</th>\n",
       "      <th>secondary_cleaner.state.floatbank5_a_level</th>\n",
       "      <th>secondary_cleaner.state.floatbank5_b_air</th>\n",
       "      <th>secondary_cleaner.state.floatbank5_b_level</th>\n",
       "      <th>secondary_cleaner.state.floatbank6_a_air</th>\n",
       "      <th>secondary_cleaner.state.floatbank6_a_level</th>\n",
       "    </tr>\n",
       "  </thead>\n",
       "  <tbody>\n",
       "    <tr>\n",
       "      <th>47</th>\n",
       "      <td>2016-01-16 23:00:00</td>\n",
       "      <td>55.088448</td>\n",
       "      <td>126.397495</td>\n",
       "      <td>12.709727</td>\n",
       "      <td>7.25</td>\n",
       "      <td>1.229626</td>\n",
       "      <td>1601.301169</td>\n",
       "      <td>-498.725777</td>\n",
       "      <td>1605.370031</td>\n",
       "      <td>-500.644437</td>\n",
       "      <td>...</td>\n",
       "      <td>13.997488</td>\n",
       "      <td>-551.224653</td>\n",
       "      <td>11.971272</td>\n",
       "      <td>-550.095619</td>\n",
       "      <td>9.981163</td>\n",
       "      <td>-502.869109</td>\n",
       "      <td>7.941184</td>\n",
       "      <td>-500.623610</td>\n",
       "      <td>12.018837</td>\n",
       "      <td>-600.916665</td>\n",
       "    </tr>\n",
       "    <tr>\n",
       "      <th>96</th>\n",
       "      <td>2016-01-19 02:00:00</td>\n",
       "      <td>58.017871</td>\n",
       "      <td>15.273131</td>\n",
       "      <td>1.940663</td>\n",
       "      <td>7.25</td>\n",
       "      <td>0.180119</td>\n",
       "      <td>1546.951271</td>\n",
       "      <td>-501.138590</td>\n",
       "      <td>1550.530280</td>\n",
       "      <td>-500.130616</td>\n",
       "      <td>...</td>\n",
       "      <td>13.947368</td>\n",
       "      <td>-703.993293</td>\n",
       "      <td>12.018188</td>\n",
       "      <td>-559.800324</td>\n",
       "      <td>9.999754</td>\n",
       "      <td>-512.673353</td>\n",
       "      <td>7.946763</td>\n",
       "      <td>-500.475471</td>\n",
       "      <td>11.963962</td>\n",
       "      <td>-607.847547</td>\n",
       "    </tr>\n",
       "    <tr>\n",
       "      <th>98</th>\n",
       "      <td>2016-01-20 17:00:00</td>\n",
       "      <td>49.836467</td>\n",
       "      <td>45.682471</td>\n",
       "      <td>4.025308</td>\n",
       "      <td>7.25</td>\n",
       "      <td>0.399221</td>\n",
       "      <td>1549.121877</td>\n",
       "      <td>-498.662929</td>\n",
       "      <td>1550.086558</td>\n",
       "      <td>-500.499551</td>\n",
       "      <td>...</td>\n",
       "      <td>14.055718</td>\n",
       "      <td>-549.694176</td>\n",
       "      <td>12.005398</td>\n",
       "      <td>-550.660760</td>\n",
       "      <td>10.019514</td>\n",
       "      <td>-501.677694</td>\n",
       "      <td>8.123011</td>\n",
       "      <td>-499.966297</td>\n",
       "      <td>11.995185</td>\n",
       "      <td>-601.176360</td>\n",
       "    </tr>\n",
       "    <tr>\n",
       "      <th>114</th>\n",
       "      <td>2016-01-21 10:00:00</td>\n",
       "      <td>74.257359</td>\n",
       "      <td>NaN</td>\n",
       "      <td>NaN</td>\n",
       "      <td>7.25</td>\n",
       "      <td>NaN</td>\n",
       "      <td>NaN</td>\n",
       "      <td>NaN</td>\n",
       "      <td>NaN</td>\n",
       "      <td>NaN</td>\n",
       "      <td>...</td>\n",
       "      <td>NaN</td>\n",
       "      <td>NaN</td>\n",
       "      <td>NaN</td>\n",
       "      <td>NaN</td>\n",
       "      <td>NaN</td>\n",
       "      <td>NaN</td>\n",
       "      <td>NaN</td>\n",
       "      <td>NaN</td>\n",
       "      <td>NaN</td>\n",
       "      <td>NaN</td>\n",
       "    </tr>\n",
       "    <tr>\n",
       "      <th>278</th>\n",
       "      <td>2016-01-28 06:00:00</td>\n",
       "      <td>55.235125</td>\n",
       "      <td>40.522905</td>\n",
       "      <td>3.921921</td>\n",
       "      <td>7.73</td>\n",
       "      <td>0.457748</td>\n",
       "      <td>1496.248961</td>\n",
       "      <td>-499.942859</td>\n",
       "      <td>1501.181155</td>\n",
       "      <td>-499.140333</td>\n",
       "      <td>...</td>\n",
       "      <td>14.962364</td>\n",
       "      <td>-552.603157</td>\n",
       "      <td>13.015154</td>\n",
       "      <td>-550.108720</td>\n",
       "      <td>10.050661</td>\n",
       "      <td>-605.892733</td>\n",
       "      <td>7.993430</td>\n",
       "      <td>-600.128409</td>\n",
       "      <td>11.973748</td>\n",
       "      <td>-603.013151</td>\n",
       "    </tr>\n",
       "    <tr>\n",
       "      <th>...</th>\n",
       "      <td>...</td>\n",
       "      <td>...</td>\n",
       "      <td>...</td>\n",
       "      <td>...</td>\n",
       "      <td>...</td>\n",
       "      <td>...</td>\n",
       "      <td>...</td>\n",
       "      <td>...</td>\n",
       "      <td>...</td>\n",
       "      <td>...</td>\n",
       "      <td>...</td>\n",
       "      <td>...</td>\n",
       "      <td>...</td>\n",
       "      <td>...</td>\n",
       "      <td>...</td>\n",
       "      <td>...</td>\n",
       "      <td>...</td>\n",
       "      <td>...</td>\n",
       "      <td>...</td>\n",
       "      <td>...</td>\n",
       "      <td>...</td>\n",
       "    </tr>\n",
       "    <tr>\n",
       "      <th>13820</th>\n",
       "      <td>2018-08-02 01:59:59</td>\n",
       "      <td>31.857970</td>\n",
       "      <td>26.627880</td>\n",
       "      <td>3.876366</td>\n",
       "      <td>7.28</td>\n",
       "      <td>0.541919</td>\n",
       "      <td>1651.661345</td>\n",
       "      <td>-499.740772</td>\n",
       "      <td>1650.028349</td>\n",
       "      <td>-499.578208</td>\n",
       "      <td>...</td>\n",
       "      <td>22.014042</td>\n",
       "      <td>-498.821781</td>\n",
       "      <td>16.877184</td>\n",
       "      <td>-500.094750</td>\n",
       "      <td>17.032602</td>\n",
       "      <td>-500.620851</td>\n",
       "      <td>13.032253</td>\n",
       "      <td>-500.067987</td>\n",
       "      <td>0.303590</td>\n",
       "      <td>-809.392602</td>\n",
       "    </tr>\n",
       "    <tr>\n",
       "      <th>13863</th>\n",
       "      <td>2018-08-05 01:59:59</td>\n",
       "      <td>98.526022</td>\n",
       "      <td>NaN</td>\n",
       "      <td>0.021981</td>\n",
       "      <td>7.01</td>\n",
       "      <td>NaN</td>\n",
       "      <td>1649.797359</td>\n",
       "      <td>-399.929550</td>\n",
       "      <td>1650.629704</td>\n",
       "      <td>-399.524149</td>\n",
       "      <td>...</td>\n",
       "      <td>27.012968</td>\n",
       "      <td>-498.231244</td>\n",
       "      <td>23.077248</td>\n",
       "      <td>-499.716588</td>\n",
       "      <td>22.971684</td>\n",
       "      <td>-536.476123</td>\n",
       "      <td>18.033204</td>\n",
       "      <td>-499.773532</td>\n",
       "      <td>22.989302</td>\n",
       "      <td>-793.831042</td>\n",
       "    </tr>\n",
       "    <tr>\n",
       "      <th>13975</th>\n",
       "      <td>2018-08-10 18:59:59</td>\n",
       "      <td>76.292027</td>\n",
       "      <td>50.773115</td>\n",
       "      <td>5.216329</td>\n",
       "      <td>6.58</td>\n",
       "      <td>0.535023</td>\n",
       "      <td>1651.234707</td>\n",
       "      <td>-399.589019</td>\n",
       "      <td>1649.605937</td>\n",
       "      <td>-398.922673</td>\n",
       "      <td>...</td>\n",
       "      <td>27.056582</td>\n",
       "      <td>-501.951961</td>\n",
       "      <td>23.039949</td>\n",
       "      <td>-500.144269</td>\n",
       "      <td>19.974934</td>\n",
       "      <td>-501.403661</td>\n",
       "      <td>15.033318</td>\n",
       "      <td>-500.085837</td>\n",
       "      <td>23.000363</td>\n",
       "      <td>-802.652300</td>\n",
       "    </tr>\n",
       "    <tr>\n",
       "      <th>13976</th>\n",
       "      <td>2018-08-10 19:59:59</td>\n",
       "      <td>44.680249</td>\n",
       "      <td>46.548467</td>\n",
       "      <td>4.832063</td>\n",
       "      <td>6.58</td>\n",
       "      <td>0.387332</td>\n",
       "      <td>1650.976389</td>\n",
       "      <td>-399.456804</td>\n",
       "      <td>1651.071923</td>\n",
       "      <td>-399.030806</td>\n",
       "      <td>...</td>\n",
       "      <td>26.998484</td>\n",
       "      <td>-501.817493</td>\n",
       "      <td>23.018917</td>\n",
       "      <td>-499.679734</td>\n",
       "      <td>19.982423</td>\n",
       "      <td>-498.973991</td>\n",
       "      <td>15.036297</td>\n",
       "      <td>-500.126003</td>\n",
       "      <td>22.999838</td>\n",
       "      <td>-800.484224</td>\n",
       "    </tr>\n",
       "    <tr>\n",
       "      <th>13992</th>\n",
       "      <td>2018-08-11 11:59:59</td>\n",
       "      <td>63.578521</td>\n",
       "      <td>31.961220</td>\n",
       "      <td>3.972422</td>\n",
       "      <td>6.65</td>\n",
       "      <td>0.403493</td>\n",
       "      <td>1651.474775</td>\n",
       "      <td>-399.457127</td>\n",
       "      <td>1650.653236</td>\n",
       "      <td>-399.337579</td>\n",
       "      <td>...</td>\n",
       "      <td>23.003740</td>\n",
       "      <td>-501.251044</td>\n",
       "      <td>20.062137</td>\n",
       "      <td>-500.062673</td>\n",
       "      <td>18.041536</td>\n",
       "      <td>-499.249045</td>\n",
       "      <td>13.003402</td>\n",
       "      <td>-500.102304</td>\n",
       "      <td>18.004969</td>\n",
       "      <td>-513.557809</td>\n",
       "    </tr>\n",
       "  </tbody>\n",
       "</table>\n",
       "<p>1470 rows × 55 columns</p>\n",
       "</div>"
      ],
      "text/plain": [
       "                      date  final.output.recovery  \\\n",
       "47     2016-01-16 23:00:00              55.088448   \n",
       "96     2016-01-19 02:00:00              58.017871   \n",
       "98     2016-01-20 17:00:00              49.836467   \n",
       "114    2016-01-21 10:00:00              74.257359   \n",
       "278    2016-01-28 06:00:00              55.235125   \n",
       "...                    ...                    ...   \n",
       "13820  2018-08-02 01:59:59              31.857970   \n",
       "13863  2018-08-05 01:59:59              98.526022   \n",
       "13975  2018-08-10 18:59:59              76.292027   \n",
       "13976  2018-08-10 19:59:59              44.680249   \n",
       "13992  2018-08-11 11:59:59              63.578521   \n",
       "\n",
       "       primary_cleaner.input.sulfate  primary_cleaner.input.depressant  \\\n",
       "47                        126.397495                         12.709727   \n",
       "96                         15.273131                          1.940663   \n",
       "98                         45.682471                          4.025308   \n",
       "114                              NaN                               NaN   \n",
       "278                        40.522905                          3.921921   \n",
       "...                              ...                               ...   \n",
       "13820                      26.627880                          3.876366   \n",
       "13863                            NaN                          0.021981   \n",
       "13975                      50.773115                          5.216329   \n",
       "13976                      46.548467                          4.832063   \n",
       "13992                      31.961220                          3.972422   \n",
       "\n",
       "       primary_cleaner.input.feed_size  primary_cleaner.input.xanthate  \\\n",
       "47                                7.25                        1.229626   \n",
       "96                                7.25                        0.180119   \n",
       "98                                7.25                        0.399221   \n",
       "114                               7.25                             NaN   \n",
       "278                               7.73                        0.457748   \n",
       "...                                ...                             ...   \n",
       "13820                             7.28                        0.541919   \n",
       "13863                             7.01                             NaN   \n",
       "13975                             6.58                        0.535023   \n",
       "13976                             6.58                        0.387332   \n",
       "13992                             6.65                        0.403493   \n",
       "\n",
       "       primary_cleaner.state.floatbank8_a_air  \\\n",
       "47                                1601.301169   \n",
       "96                                1546.951271   \n",
       "98                                1549.121877   \n",
       "114                                       NaN   \n",
       "278                               1496.248961   \n",
       "...                                       ...   \n",
       "13820                             1651.661345   \n",
       "13863                             1649.797359   \n",
       "13975                             1651.234707   \n",
       "13976                             1650.976389   \n",
       "13992                             1651.474775   \n",
       "\n",
       "       primary_cleaner.state.floatbank8_a_level  \\\n",
       "47                                  -498.725777   \n",
       "96                                  -501.138590   \n",
       "98                                  -498.662929   \n",
       "114                                         NaN   \n",
       "278                                 -499.942859   \n",
       "...                                         ...   \n",
       "13820                               -499.740772   \n",
       "13863                               -399.929550   \n",
       "13975                               -399.589019   \n",
       "13976                               -399.456804   \n",
       "13992                               -399.457127   \n",
       "\n",
       "       primary_cleaner.state.floatbank8_b_air  \\\n",
       "47                                1605.370031   \n",
       "96                                1550.530280   \n",
       "98                                1550.086558   \n",
       "114                                       NaN   \n",
       "278                               1501.181155   \n",
       "...                                       ...   \n",
       "13820                             1650.028349   \n",
       "13863                             1650.629704   \n",
       "13975                             1649.605937   \n",
       "13976                             1651.071923   \n",
       "13992                             1650.653236   \n",
       "\n",
       "       primary_cleaner.state.floatbank8_b_level  ...  \\\n",
       "47                                  -500.644437  ...   \n",
       "96                                  -500.130616  ...   \n",
       "98                                  -500.499551  ...   \n",
       "114                                         NaN  ...   \n",
       "278                                 -499.140333  ...   \n",
       "...                                         ...  ...   \n",
       "13820                               -499.578208  ...   \n",
       "13863                               -399.524149  ...   \n",
       "13975                               -398.922673  ...   \n",
       "13976                               -399.030806  ...   \n",
       "13992                               -399.337579  ...   \n",
       "\n",
       "       secondary_cleaner.state.floatbank4_a_air  \\\n",
       "47                                    13.997488   \n",
       "96                                    13.947368   \n",
       "98                                    14.055718   \n",
       "114                                         NaN   \n",
       "278                                   14.962364   \n",
       "...                                         ...   \n",
       "13820                                 22.014042   \n",
       "13863                                 27.012968   \n",
       "13975                                 27.056582   \n",
       "13976                                 26.998484   \n",
       "13992                                 23.003740   \n",
       "\n",
       "       secondary_cleaner.state.floatbank4_a_level  \\\n",
       "47                                    -551.224653   \n",
       "96                                    -703.993293   \n",
       "98                                    -549.694176   \n",
       "114                                           NaN   \n",
       "278                                   -552.603157   \n",
       "...                                           ...   \n",
       "13820                                 -498.821781   \n",
       "13863                                 -498.231244   \n",
       "13975                                 -501.951961   \n",
       "13976                                 -501.817493   \n",
       "13992                                 -501.251044   \n",
       "\n",
       "       secondary_cleaner.state.floatbank4_b_air  \\\n",
       "47                                    11.971272   \n",
       "96                                    12.018188   \n",
       "98                                    12.005398   \n",
       "114                                         NaN   \n",
       "278                                   13.015154   \n",
       "...                                         ...   \n",
       "13820                                 16.877184   \n",
       "13863                                 23.077248   \n",
       "13975                                 23.039949   \n",
       "13976                                 23.018917   \n",
       "13992                                 20.062137   \n",
       "\n",
       "       secondary_cleaner.state.floatbank4_b_level  \\\n",
       "47                                    -550.095619   \n",
       "96                                    -559.800324   \n",
       "98                                    -550.660760   \n",
       "114                                           NaN   \n",
       "278                                   -550.108720   \n",
       "...                                           ...   \n",
       "13820                                 -500.094750   \n",
       "13863                                 -499.716588   \n",
       "13975                                 -500.144269   \n",
       "13976                                 -499.679734   \n",
       "13992                                 -500.062673   \n",
       "\n",
       "       secondary_cleaner.state.floatbank5_a_air  \\\n",
       "47                                     9.981163   \n",
       "96                                     9.999754   \n",
       "98                                    10.019514   \n",
       "114                                         NaN   \n",
       "278                                   10.050661   \n",
       "...                                         ...   \n",
       "13820                                 17.032602   \n",
       "13863                                 22.971684   \n",
       "13975                                 19.974934   \n",
       "13976                                 19.982423   \n",
       "13992                                 18.041536   \n",
       "\n",
       "       secondary_cleaner.state.floatbank5_a_level  \\\n",
       "47                                    -502.869109   \n",
       "96                                    -512.673353   \n",
       "98                                    -501.677694   \n",
       "114                                           NaN   \n",
       "278                                   -605.892733   \n",
       "...                                           ...   \n",
       "13820                                 -500.620851   \n",
       "13863                                 -536.476123   \n",
       "13975                                 -501.403661   \n",
       "13976                                 -498.973991   \n",
       "13992                                 -499.249045   \n",
       "\n",
       "       secondary_cleaner.state.floatbank5_b_air  \\\n",
       "47                                     7.941184   \n",
       "96                                     7.946763   \n",
       "98                                     8.123011   \n",
       "114                                         NaN   \n",
       "278                                    7.993430   \n",
       "...                                         ...   \n",
       "13820                                 13.032253   \n",
       "13863                                 18.033204   \n",
       "13975                                 15.033318   \n",
       "13976                                 15.036297   \n",
       "13992                                 13.003402   \n",
       "\n",
       "       secondary_cleaner.state.floatbank5_b_level  \\\n",
       "47                                    -500.623610   \n",
       "96                                    -500.475471   \n",
       "98                                    -499.966297   \n",
       "114                                           NaN   \n",
       "278                                   -600.128409   \n",
       "...                                           ...   \n",
       "13820                                 -500.067987   \n",
       "13863                                 -499.773532   \n",
       "13975                                 -500.085837   \n",
       "13976                                 -500.126003   \n",
       "13992                                 -500.102304   \n",
       "\n",
       "       secondary_cleaner.state.floatbank6_a_air  \\\n",
       "47                                    12.018837   \n",
       "96                                    11.963962   \n",
       "98                                    11.995185   \n",
       "114                                         NaN   \n",
       "278                                   11.973748   \n",
       "...                                         ...   \n",
       "13820                                  0.303590   \n",
       "13863                                 22.989302   \n",
       "13975                                 23.000363   \n",
       "13976                                 22.999838   \n",
       "13992                                 18.004969   \n",
       "\n",
       "       secondary_cleaner.state.floatbank6_a_level  \n",
       "47                                    -600.916665  \n",
       "96                                    -607.847547  \n",
       "98                                    -601.176360  \n",
       "114                                           NaN  \n",
       "278                                   -603.013151  \n",
       "...                                           ...  \n",
       "13820                                 -809.392602  \n",
       "13863                                 -793.831042  \n",
       "13975                                 -802.652300  \n",
       "13976                                 -800.484224  \n",
       "13992                                 -513.557809  \n",
       "\n",
       "[1470 rows x 55 columns]"
      ]
     },
     "execution_count": 150,
     "metadata": {},
     "output_type": "execute_result"
    }
   ],
   "source": [
    "na_index = df_train.isna().any(1)\n",
    "df_train[na_index]"
   ]
  },
  {
   "cell_type": "markdown",
   "metadata": {},
   "source": [
    "Сохраним название столбцов, в которых есть пропуски.\n",
    "Выведем на экран:"
   ]
  },
  {
   "cell_type": "code",
   "execution_count": 151,
   "metadata": {},
   "outputs": [
    {
     "data": {
      "text/plain": [
       "Index(['primary_cleaner.input.sulfate', 'primary_cleaner.input.depressant',\n",
       "       'primary_cleaner.input.xanthate',\n",
       "       'primary_cleaner.state.floatbank8_a_air',\n",
       "       'primary_cleaner.state.floatbank8_a_level',\n",
       "       'primary_cleaner.state.floatbank8_b_air',\n",
       "       'primary_cleaner.state.floatbank8_b_level',\n",
       "       'primary_cleaner.state.floatbank8_c_air',\n",
       "       'primary_cleaner.state.floatbank8_c_level',\n",
       "       'primary_cleaner.state.floatbank8_d_air',\n",
       "       'primary_cleaner.state.floatbank8_d_level', 'rougher.input.feed_pb',\n",
       "       'rougher.input.feed_rate', 'rougher.input.feed_size',\n",
       "       'rougher.input.feed_sol', 'rougher.input.floatbank10_sulfate',\n",
       "       'rougher.input.floatbank10_xanthate',\n",
       "       'rougher.input.floatbank11_sulfate',\n",
       "       'rougher.input.floatbank11_xanthate', 'rougher.state.floatbank10_a_air',\n",
       "       'rougher.state.floatbank10_a_level', 'rougher.state.floatbank10_b_air',\n",
       "       'rougher.state.floatbank10_b_level', 'rougher.state.floatbank10_c_air',\n",
       "       'rougher.state.floatbank10_c_level', 'rougher.state.floatbank10_e_air',\n",
       "       'secondary_cleaner.state.floatbank2_a_air',\n",
       "       'secondary_cleaner.state.floatbank2_a_level',\n",
       "       'secondary_cleaner.state.floatbank2_b_air',\n",
       "       'secondary_cleaner.state.floatbank2_b_level',\n",
       "       'secondary_cleaner.state.floatbank3_a_air',\n",
       "       'secondary_cleaner.state.floatbank3_a_level',\n",
       "       'secondary_cleaner.state.floatbank3_b_air',\n",
       "       'secondary_cleaner.state.floatbank3_b_level',\n",
       "       'secondary_cleaner.state.floatbank4_a_air',\n",
       "       'secondary_cleaner.state.floatbank4_a_level',\n",
       "       'secondary_cleaner.state.floatbank4_b_air',\n",
       "       'secondary_cleaner.state.floatbank4_b_level',\n",
       "       'secondary_cleaner.state.floatbank5_a_air',\n",
       "       'secondary_cleaner.state.floatbank5_a_level',\n",
       "       'secondary_cleaner.state.floatbank5_b_air',\n",
       "       'secondary_cleaner.state.floatbank5_b_level',\n",
       "       'secondary_cleaner.state.floatbank6_a_air',\n",
       "       'secondary_cleaner.state.floatbank6_a_level'],\n",
       "      dtype='object')"
      ]
     },
     "execution_count": 151,
     "metadata": {},
     "output_type": "execute_result"
    }
   ],
   "source": [
    "na_columns  = df_train.loc[:,df_train.isna().any()].columns\n",
    "na_columns"
   ]
  },
  {
   "cell_type": "markdown",
   "metadata": {},
   "source": [
    "С помощью техники KNN обработаем пропуски. Алгоритм заполнит их информцией, используя технику \"ближайших соседей\"."
   ]
  },
  {
   "cell_type": "code",
   "execution_count": 152,
   "metadata": {},
   "outputs": [],
   "source": [
    "imputer = KNNImputer()\n",
    "df_train[na_columns] = imputer.fit_transform(df_train[na_columns])\n"
   ]
  },
  {
   "cell_type": "markdown",
   "metadata": {},
   "source": [
    "Проверим остались ли пропуски в датасете"
   ]
  },
  {
   "cell_type": "code",
   "execution_count": 153,
   "metadata": {},
   "outputs": [
    {
     "data": {
      "text/plain": [
       "date                                          0\n",
       "final.output.recovery                         0\n",
       "primary_cleaner.input.sulfate                 0\n",
       "primary_cleaner.input.depressant              0\n",
       "primary_cleaner.input.feed_size               0\n",
       "primary_cleaner.input.xanthate                0\n",
       "primary_cleaner.state.floatbank8_a_air        0\n",
       "primary_cleaner.state.floatbank8_a_level      0\n",
       "primary_cleaner.state.floatbank8_b_air        0\n",
       "primary_cleaner.state.floatbank8_b_level      0\n",
       "primary_cleaner.state.floatbank8_c_air        0\n",
       "primary_cleaner.state.floatbank8_c_level      0\n",
       "primary_cleaner.state.floatbank8_d_air        0\n",
       "primary_cleaner.state.floatbank8_d_level      0\n",
       "rougher.input.feed_ag                         0\n",
       "rougher.input.feed_pb                         0\n",
       "rougher.input.feed_rate                       0\n",
       "rougher.input.feed_size                       0\n",
       "rougher.input.feed_sol                        0\n",
       "rougher.input.feed_au                         0\n",
       "rougher.input.floatbank10_sulfate             0\n",
       "rougher.input.floatbank10_xanthate            0\n",
       "rougher.input.floatbank11_sulfate             0\n",
       "rougher.input.floatbank11_xanthate            0\n",
       "rougher.output.recovery                       0\n",
       "rougher.state.floatbank10_a_air               0\n",
       "rougher.state.floatbank10_a_level             0\n",
       "rougher.state.floatbank10_b_air               0\n",
       "rougher.state.floatbank10_b_level             0\n",
       "rougher.state.floatbank10_c_air               0\n",
       "rougher.state.floatbank10_c_level             0\n",
       "rougher.state.floatbank10_d_air               0\n",
       "rougher.state.floatbank10_d_level             0\n",
       "rougher.state.floatbank10_e_air               0\n",
       "rougher.state.floatbank10_e_level             0\n",
       "rougher.state.floatbank10_f_air               0\n",
       "rougher.state.floatbank10_f_level             0\n",
       "secondary_cleaner.state.floatbank2_a_air      0\n",
       "secondary_cleaner.state.floatbank2_a_level    0\n",
       "secondary_cleaner.state.floatbank2_b_air      0\n",
       "secondary_cleaner.state.floatbank2_b_level    0\n",
       "secondary_cleaner.state.floatbank3_a_air      0\n",
       "secondary_cleaner.state.floatbank3_a_level    0\n",
       "secondary_cleaner.state.floatbank3_b_air      0\n",
       "secondary_cleaner.state.floatbank3_b_level    0\n",
       "secondary_cleaner.state.floatbank4_a_air      0\n",
       "secondary_cleaner.state.floatbank4_a_level    0\n",
       "secondary_cleaner.state.floatbank4_b_air      0\n",
       "secondary_cleaner.state.floatbank4_b_level    0\n",
       "secondary_cleaner.state.floatbank5_a_air      0\n",
       "secondary_cleaner.state.floatbank5_a_level    0\n",
       "secondary_cleaner.state.floatbank5_b_air      0\n",
       "secondary_cleaner.state.floatbank5_b_level    0\n",
       "secondary_cleaner.state.floatbank6_a_air      0\n",
       "secondary_cleaner.state.floatbank6_a_level    0\n",
       "dtype: int64"
      ]
     },
     "execution_count": 153,
     "metadata": {},
     "output_type": "execute_result"
    }
   ],
   "source": [
    "df_train.isna().sum()"
   ]
  },
  {
   "cell_type": "markdown",
   "metadata": {},
   "source": [
    "Сделаем тоже саоме на тестовом датасете:"
   ]
  },
  {
   "cell_type": "code",
   "execution_count": 154,
   "metadata": {
    "scrolled": true
   },
   "outputs": [
    {
     "data": {
      "text/plain": [
       "date                                           0\n",
       "primary_cleaner.input.sulfate                  4\n",
       "primary_cleaner.input.depressant               5\n",
       "primary_cleaner.input.feed_size                0\n",
       "primary_cleaner.input.xanthate                 4\n",
       "primary_cleaner.state.floatbank8_a_air         0\n",
       "primary_cleaner.state.floatbank8_a_level       0\n",
       "primary_cleaner.state.floatbank8_b_air         0\n",
       "primary_cleaner.state.floatbank8_b_level       0\n",
       "primary_cleaner.state.floatbank8_c_air         0\n",
       "primary_cleaner.state.floatbank8_c_level       0\n",
       "primary_cleaner.state.floatbank8_d_air         0\n",
       "primary_cleaner.state.floatbank8_d_level       0\n",
       "rougher.input.feed_ag                          0\n",
       "rougher.input.feed_pb                          0\n",
       "rougher.input.feed_rate                        3\n",
       "rougher.input.feed_size                        1\n",
       "rougher.input.feed_sol                        21\n",
       "rougher.input.feed_au                          0\n",
       "rougher.input.floatbank10_sulfate              5\n",
       "rougher.input.floatbank10_xanthate             0\n",
       "rougher.input.floatbank11_sulfate              8\n",
       "rougher.input.floatbank11_xanthate            25\n",
       "rougher.state.floatbank10_a_air                0\n",
       "rougher.state.floatbank10_a_level              0\n",
       "rougher.state.floatbank10_b_air                0\n",
       "rougher.state.floatbank10_b_level              0\n",
       "rougher.state.floatbank10_c_air                0\n",
       "rougher.state.floatbank10_c_level              0\n",
       "rougher.state.floatbank10_d_air                0\n",
       "rougher.state.floatbank10_d_level              0\n",
       "rougher.state.floatbank10_e_air                0\n",
       "rougher.state.floatbank10_e_level              0\n",
       "rougher.state.floatbank10_f_air                0\n",
       "rougher.state.floatbank10_f_level              0\n",
       "secondary_cleaner.state.floatbank2_a_air       3\n",
       "secondary_cleaner.state.floatbank2_a_level     0\n",
       "secondary_cleaner.state.floatbank2_b_air       2\n",
       "secondary_cleaner.state.floatbank2_b_level     0\n",
       "secondary_cleaner.state.floatbank3_a_air       9\n",
       "secondary_cleaner.state.floatbank3_a_level     0\n",
       "secondary_cleaner.state.floatbank3_b_air       0\n",
       "secondary_cleaner.state.floatbank3_b_level     0\n",
       "secondary_cleaner.state.floatbank4_a_air       0\n",
       "secondary_cleaner.state.floatbank4_a_level     0\n",
       "secondary_cleaner.state.floatbank4_b_air       0\n",
       "secondary_cleaner.state.floatbank4_b_level     0\n",
       "secondary_cleaner.state.floatbank5_a_air       0\n",
       "secondary_cleaner.state.floatbank5_a_level     0\n",
       "secondary_cleaner.state.floatbank5_b_air       0\n",
       "secondary_cleaner.state.floatbank5_b_level     0\n",
       "secondary_cleaner.state.floatbank6_a_air       0\n",
       "secondary_cleaner.state.floatbank6_a_level     0\n",
       "rougher.output.recovery                        0\n",
       "final.output.recovery                          0\n",
       "dtype: int64"
      ]
     },
     "execution_count": 154,
     "metadata": {},
     "output_type": "execute_result"
    }
   ],
   "source": [
    "df_test.isna().sum()"
   ]
  },
  {
   "cell_type": "code",
   "execution_count": 155,
   "metadata": {
    "scrolled": true
   },
   "outputs": [
    {
     "data": {
      "text/html": [
       "<div>\n",
       "<style scoped>\n",
       "    .dataframe tbody tr th:only-of-type {\n",
       "        vertical-align: middle;\n",
       "    }\n",
       "\n",
       "    .dataframe tbody tr th {\n",
       "        vertical-align: top;\n",
       "    }\n",
       "\n",
       "    .dataframe thead th {\n",
       "        text-align: right;\n",
       "    }\n",
       "</style>\n",
       "<table border=\"1\" class=\"dataframe\">\n",
       "  <thead>\n",
       "    <tr style=\"text-align: right;\">\n",
       "      <th></th>\n",
       "      <th>date</th>\n",
       "      <th>primary_cleaner.input.sulfate</th>\n",
       "      <th>primary_cleaner.input.depressant</th>\n",
       "      <th>primary_cleaner.input.feed_size</th>\n",
       "      <th>primary_cleaner.input.xanthate</th>\n",
       "      <th>primary_cleaner.state.floatbank8_a_air</th>\n",
       "      <th>primary_cleaner.state.floatbank8_a_level</th>\n",
       "      <th>primary_cleaner.state.floatbank8_b_air</th>\n",
       "      <th>primary_cleaner.state.floatbank8_b_level</th>\n",
       "      <th>primary_cleaner.state.floatbank8_c_air</th>\n",
       "      <th>...</th>\n",
       "      <th>secondary_cleaner.state.floatbank4_b_air</th>\n",
       "      <th>secondary_cleaner.state.floatbank4_b_level</th>\n",
       "      <th>secondary_cleaner.state.floatbank5_a_air</th>\n",
       "      <th>secondary_cleaner.state.floatbank5_a_level</th>\n",
       "      <th>secondary_cleaner.state.floatbank5_b_air</th>\n",
       "      <th>secondary_cleaner.state.floatbank5_b_level</th>\n",
       "      <th>secondary_cleaner.state.floatbank6_a_air</th>\n",
       "      <th>secondary_cleaner.state.floatbank6_a_level</th>\n",
       "      <th>rougher.output.recovery</th>\n",
       "      <th>final.output.recovery</th>\n",
       "    </tr>\n",
       "  </thead>\n",
       "  <tbody>\n",
       "    <tr>\n",
       "      <th>30</th>\n",
       "      <td>2016-09-02 06:59:59</td>\n",
       "      <td>NaN</td>\n",
       "      <td>NaN</td>\n",
       "      <td>7.1600</td>\n",
       "      <td>NaN</td>\n",
       "      <td>4.126292e+02</td>\n",
       "      <td>-795.316337</td>\n",
       "      <td>4.137033e+02</td>\n",
       "      <td>-787.396567</td>\n",
       "      <td>4.416043e+02</td>\n",
       "      <td>...</td>\n",
       "      <td>4.625908e+00</td>\n",
       "      <td>-678.347958</td>\n",
       "      <td>4.451592</td>\n",
       "      <td>-795.337422</td>\n",
       "      <td>3.544708</td>\n",
       "      <td>-800.024373</td>\n",
       "      <td>5.914889</td>\n",
       "      <td>-799.501783</td>\n",
       "      <td>0.000000</td>\n",
       "      <td>0.000000</td>\n",
       "    </tr>\n",
       "    <tr>\n",
       "      <th>31</th>\n",
       "      <td>2016-09-02 10:59:59</td>\n",
       "      <td>64.558863</td>\n",
       "      <td>0.061864</td>\n",
       "      <td>7.1095</td>\n",
       "      <td>0.520084</td>\n",
       "      <td>1.433955e+03</td>\n",
       "      <td>-499.688476</td>\n",
       "      <td>1.553150e+03</td>\n",
       "      <td>-500.878552</td>\n",
       "      <td>1.517895e+03</td>\n",
       "      <td>...</td>\n",
       "      <td>8.129055e+00</td>\n",
       "      <td>-500.125308</td>\n",
       "      <td>8.031323</td>\n",
       "      <td>-486.756657</td>\n",
       "      <td>5.047491</td>\n",
       "      <td>-467.938124</td>\n",
       "      <td>10.047098</td>\n",
       "      <td>-499.813489</td>\n",
       "      <td>65.817436</td>\n",
       "      <td>96.148407</td>\n",
       "    </tr>\n",
       "    <tr>\n",
       "      <th>32</th>\n",
       "      <td>2016-09-02 11:59:59</td>\n",
       "      <td>112.768923</td>\n",
       "      <td>6.061414</td>\n",
       "      <td>6.1500</td>\n",
       "      <td>0.819723</td>\n",
       "      <td>1.426909e+03</td>\n",
       "      <td>-500.749720</td>\n",
       "      <td>1.544540e+03</td>\n",
       "      <td>-501.570124</td>\n",
       "      <td>1.509087e+03</td>\n",
       "      <td>...</td>\n",
       "      <td>8.100986e+00</td>\n",
       "      <td>-501.032511</td>\n",
       "      <td>8.053520</td>\n",
       "      <td>-506.002857</td>\n",
       "      <td>5.025161</td>\n",
       "      <td>-447.918397</td>\n",
       "      <td>9.911242</td>\n",
       "      <td>-497.922919</td>\n",
       "      <td>71.035116</td>\n",
       "      <td>56.440734</td>\n",
       "    </tr>\n",
       "    <tr>\n",
       "      <th>33</th>\n",
       "      <td>2016-09-02 12:59:59</td>\n",
       "      <td>132.526641</td>\n",
       "      <td>8.257739</td>\n",
       "      <td>6.6715</td>\n",
       "      <td>0.803072</td>\n",
       "      <td>1.419082e+03</td>\n",
       "      <td>-499.519835</td>\n",
       "      <td>1.530869e+03</td>\n",
       "      <td>-499.749240</td>\n",
       "      <td>1.494243e+03</td>\n",
       "      <td>...</td>\n",
       "      <td>8.075180e+00</td>\n",
       "      <td>-500.466176</td>\n",
       "      <td>8.077882</td>\n",
       "      <td>-509.265467</td>\n",
       "      <td>4.837108</td>\n",
       "      <td>-501.855340</td>\n",
       "      <td>9.891463</td>\n",
       "      <td>-504.150985</td>\n",
       "      <td>76.785779</td>\n",
       "      <td>58.476088</td>\n",
       "    </tr>\n",
       "    <tr>\n",
       "      <th>34</th>\n",
       "      <td>2016-09-02 13:59:59</td>\n",
       "      <td>138.109389</td>\n",
       "      <td>7.975929</td>\n",
       "      <td>7.6400</td>\n",
       "      <td>0.800642</td>\n",
       "      <td>1.420089e+03</td>\n",
       "      <td>-499.765691</td>\n",
       "      <td>1.522047e+03</td>\n",
       "      <td>-499.458234</td>\n",
       "      <td>1.483131e+03</td>\n",
       "      <td>...</td>\n",
       "      <td>8.049423e+00</td>\n",
       "      <td>-500.135072</td>\n",
       "      <td>7.905382</td>\n",
       "      <td>-503.020886</td>\n",
       "      <td>4.925342</td>\n",
       "      <td>-500.552419</td>\n",
       "      <td>10.045443</td>\n",
       "      <td>-500.501492</td>\n",
       "      <td>73.364628</td>\n",
       "      <td>57.269791</td>\n",
       "    </tr>\n",
       "    <tr>\n",
       "      <th>...</th>\n",
       "      <td>...</td>\n",
       "      <td>...</td>\n",
       "      <td>...</td>\n",
       "      <td>...</td>\n",
       "      <td>...</td>\n",
       "      <td>...</td>\n",
       "      <td>...</td>\n",
       "      <td>...</td>\n",
       "      <td>...</td>\n",
       "      <td>...</td>\n",
       "      <td>...</td>\n",
       "      <td>...</td>\n",
       "      <td>...</td>\n",
       "      <td>...</td>\n",
       "      <td>...</td>\n",
       "      <td>...</td>\n",
       "      <td>...</td>\n",
       "      <td>...</td>\n",
       "      <td>...</td>\n",
       "      <td>...</td>\n",
       "      <td>...</td>\n",
       "    </tr>\n",
       "    <tr>\n",
       "      <th>5177</th>\n",
       "      <td>2017-12-26 15:59:59</td>\n",
       "      <td>65.955281</td>\n",
       "      <td>4.987334</td>\n",
       "      <td>5.8000</td>\n",
       "      <td>0.432814</td>\n",
       "      <td>1.602115e+03</td>\n",
       "      <td>-399.129844</td>\n",
       "      <td>1.602575e+03</td>\n",
       "      <td>-401.095627</td>\n",
       "      <td>1.300212e+03</td>\n",
       "      <td>...</td>\n",
       "      <td>1.507806e+01</td>\n",
       "      <td>-499.553551</td>\n",
       "      <td>11.040759</td>\n",
       "      <td>-500.030707</td>\n",
       "      <td>8.939822</td>\n",
       "      <td>-499.982171</td>\n",
       "      <td>12.001369</td>\n",
       "      <td>-500.535695</td>\n",
       "      <td>83.553115</td>\n",
       "      <td>63.443918</td>\n",
       "    </tr>\n",
       "    <tr>\n",
       "      <th>5178</th>\n",
       "      <td>2017-12-26 16:59:59</td>\n",
       "      <td>68.748269</td>\n",
       "      <td>4.967088</td>\n",
       "      <td>5.8000</td>\n",
       "      <td>0.546002</td>\n",
       "      <td>1.601695e+03</td>\n",
       "      <td>-401.309128</td>\n",
       "      <td>1.603799e+03</td>\n",
       "      <td>-398.454978</td>\n",
       "      <td>1.306149e+03</td>\n",
       "      <td>...</td>\n",
       "      <td>1.511650e+01</td>\n",
       "      <td>-500.088520</td>\n",
       "      <td>11.053275</td>\n",
       "      <td>-500.223931</td>\n",
       "      <td>8.996529</td>\n",
       "      <td>-499.892002</td>\n",
       "      <td>12.003847</td>\n",
       "      <td>-500.072328</td>\n",
       "      <td>80.293245</td>\n",
       "      <td>64.787614</td>\n",
       "    </tr>\n",
       "    <tr>\n",
       "      <th>5179</th>\n",
       "      <td>2017-12-26 17:59:59</td>\n",
       "      <td>66.671316</td>\n",
       "      <td>4.982771</td>\n",
       "      <td>5.8000</td>\n",
       "      <td>0.546054</td>\n",
       "      <td>1.601798e+03</td>\n",
       "      <td>-399.342516</td>\n",
       "      <td>1.601004e+03</td>\n",
       "      <td>-399.589165</td>\n",
       "      <td>1.309597e+03</td>\n",
       "      <td>...</td>\n",
       "      <td>1.503472e+01</td>\n",
       "      <td>-499.893765</td>\n",
       "      <td>11.005241</td>\n",
       "      <td>-498.989282</td>\n",
       "      <td>9.046014</td>\n",
       "      <td>-499.756903</td>\n",
       "      <td>11.983336</td>\n",
       "      <td>-498.917245</td>\n",
       "      <td>75.476615</td>\n",
       "      <td>69.992544</td>\n",
       "    </tr>\n",
       "    <tr>\n",
       "      <th>5184</th>\n",
       "      <td>2017-12-27 10:59:59</td>\n",
       "      <td>NaN</td>\n",
       "      <td>NaN</td>\n",
       "      <td>7.2000</td>\n",
       "      <td>0.028131</td>\n",
       "      <td>7.805874e-32</td>\n",
       "      <td>-782.505268</td>\n",
       "      <td>9.528241e-32</td>\n",
       "      <td>-496.652939</td>\n",
       "      <td>5.781792e-32</td>\n",
       "      <td>...</td>\n",
       "      <td>2.030172e-10</td>\n",
       "      <td>-800.836914</td>\n",
       "      <td>0.069227</td>\n",
       "      <td>-796.857296</td>\n",
       "      <td>0.528083</td>\n",
       "      <td>-800.220337</td>\n",
       "      <td>-0.079426</td>\n",
       "      <td>-742.843140</td>\n",
       "      <td>93.288126</td>\n",
       "      <td>73.580496</td>\n",
       "    </tr>\n",
       "    <tr>\n",
       "      <th>5185</th>\n",
       "      <td>2017-12-27 11:59:59</td>\n",
       "      <td>7.469704</td>\n",
       "      <td>NaN</td>\n",
       "      <td>7.2000</td>\n",
       "      <td>0.004984</td>\n",
       "      <td>5.445860e-32</td>\n",
       "      <td>-782.195107</td>\n",
       "      <td>6.647490e-32</td>\n",
       "      <td>-496.247779</td>\n",
       "      <td>4.033736e-32</td>\n",
       "      <td>...</td>\n",
       "      <td>1.080343e+00</td>\n",
       "      <td>-799.879409</td>\n",
       "      <td>0.200600</td>\n",
       "      <td>-797.323986</td>\n",
       "      <td>1.420606</td>\n",
       "      <td>-800.118587</td>\n",
       "      <td>0.016815</td>\n",
       "      <td>-789.840007</td>\n",
       "      <td>93.288126</td>\n",
       "      <td>73.580496</td>\n",
       "    </tr>\n",
       "  </tbody>\n",
       "</table>\n",
       "<p>61 rows × 55 columns</p>\n",
       "</div>"
      ],
      "text/plain": [
       "                     date  primary_cleaner.input.sulfate  \\\n",
       "30    2016-09-02 06:59:59                            NaN   \n",
       "31    2016-09-02 10:59:59                      64.558863   \n",
       "32    2016-09-02 11:59:59                     112.768923   \n",
       "33    2016-09-02 12:59:59                     132.526641   \n",
       "34    2016-09-02 13:59:59                     138.109389   \n",
       "...                   ...                            ...   \n",
       "5177  2017-12-26 15:59:59                      65.955281   \n",
       "5178  2017-12-26 16:59:59                      68.748269   \n",
       "5179  2017-12-26 17:59:59                      66.671316   \n",
       "5184  2017-12-27 10:59:59                            NaN   \n",
       "5185  2017-12-27 11:59:59                       7.469704   \n",
       "\n",
       "      primary_cleaner.input.depressant  primary_cleaner.input.feed_size  \\\n",
       "30                                 NaN                           7.1600   \n",
       "31                            0.061864                           7.1095   \n",
       "32                            6.061414                           6.1500   \n",
       "33                            8.257739                           6.6715   \n",
       "34                            7.975929                           7.6400   \n",
       "...                                ...                              ...   \n",
       "5177                          4.987334                           5.8000   \n",
       "5178                          4.967088                           5.8000   \n",
       "5179                          4.982771                           5.8000   \n",
       "5184                               NaN                           7.2000   \n",
       "5185                               NaN                           7.2000   \n",
       "\n",
       "      primary_cleaner.input.xanthate  primary_cleaner.state.floatbank8_a_air  \\\n",
       "30                               NaN                            4.126292e+02   \n",
       "31                          0.520084                            1.433955e+03   \n",
       "32                          0.819723                            1.426909e+03   \n",
       "33                          0.803072                            1.419082e+03   \n",
       "34                          0.800642                            1.420089e+03   \n",
       "...                              ...                                     ...   \n",
       "5177                        0.432814                            1.602115e+03   \n",
       "5178                        0.546002                            1.601695e+03   \n",
       "5179                        0.546054                            1.601798e+03   \n",
       "5184                        0.028131                            7.805874e-32   \n",
       "5185                        0.004984                            5.445860e-32   \n",
       "\n",
       "      primary_cleaner.state.floatbank8_a_level  \\\n",
       "30                                 -795.316337   \n",
       "31                                 -499.688476   \n",
       "32                                 -500.749720   \n",
       "33                                 -499.519835   \n",
       "34                                 -499.765691   \n",
       "...                                        ...   \n",
       "5177                               -399.129844   \n",
       "5178                               -401.309128   \n",
       "5179                               -399.342516   \n",
       "5184                               -782.505268   \n",
       "5185                               -782.195107   \n",
       "\n",
       "      primary_cleaner.state.floatbank8_b_air  \\\n",
       "30                              4.137033e+02   \n",
       "31                              1.553150e+03   \n",
       "32                              1.544540e+03   \n",
       "33                              1.530869e+03   \n",
       "34                              1.522047e+03   \n",
       "...                                      ...   \n",
       "5177                            1.602575e+03   \n",
       "5178                            1.603799e+03   \n",
       "5179                            1.601004e+03   \n",
       "5184                            9.528241e-32   \n",
       "5185                            6.647490e-32   \n",
       "\n",
       "      primary_cleaner.state.floatbank8_b_level  \\\n",
       "30                                 -787.396567   \n",
       "31                                 -500.878552   \n",
       "32                                 -501.570124   \n",
       "33                                 -499.749240   \n",
       "34                                 -499.458234   \n",
       "...                                        ...   \n",
       "5177                               -401.095627   \n",
       "5178                               -398.454978   \n",
       "5179                               -399.589165   \n",
       "5184                               -496.652939   \n",
       "5185                               -496.247779   \n",
       "\n",
       "      primary_cleaner.state.floatbank8_c_air  ...  \\\n",
       "30                              4.416043e+02  ...   \n",
       "31                              1.517895e+03  ...   \n",
       "32                              1.509087e+03  ...   \n",
       "33                              1.494243e+03  ...   \n",
       "34                              1.483131e+03  ...   \n",
       "...                                      ...  ...   \n",
       "5177                            1.300212e+03  ...   \n",
       "5178                            1.306149e+03  ...   \n",
       "5179                            1.309597e+03  ...   \n",
       "5184                            5.781792e-32  ...   \n",
       "5185                            4.033736e-32  ...   \n",
       "\n",
       "      secondary_cleaner.state.floatbank4_b_air  \\\n",
       "30                                4.625908e+00   \n",
       "31                                8.129055e+00   \n",
       "32                                8.100986e+00   \n",
       "33                                8.075180e+00   \n",
       "34                                8.049423e+00   \n",
       "...                                        ...   \n",
       "5177                              1.507806e+01   \n",
       "5178                              1.511650e+01   \n",
       "5179                              1.503472e+01   \n",
       "5184                              2.030172e-10   \n",
       "5185                              1.080343e+00   \n",
       "\n",
       "      secondary_cleaner.state.floatbank4_b_level  \\\n",
       "30                                   -678.347958   \n",
       "31                                   -500.125308   \n",
       "32                                   -501.032511   \n",
       "33                                   -500.466176   \n",
       "34                                   -500.135072   \n",
       "...                                          ...   \n",
       "5177                                 -499.553551   \n",
       "5178                                 -500.088520   \n",
       "5179                                 -499.893765   \n",
       "5184                                 -800.836914   \n",
       "5185                                 -799.879409   \n",
       "\n",
       "      secondary_cleaner.state.floatbank5_a_air  \\\n",
       "30                                    4.451592   \n",
       "31                                    8.031323   \n",
       "32                                    8.053520   \n",
       "33                                    8.077882   \n",
       "34                                    7.905382   \n",
       "...                                        ...   \n",
       "5177                                 11.040759   \n",
       "5178                                 11.053275   \n",
       "5179                                 11.005241   \n",
       "5184                                  0.069227   \n",
       "5185                                  0.200600   \n",
       "\n",
       "      secondary_cleaner.state.floatbank5_a_level  \\\n",
       "30                                   -795.337422   \n",
       "31                                   -486.756657   \n",
       "32                                   -506.002857   \n",
       "33                                   -509.265467   \n",
       "34                                   -503.020886   \n",
       "...                                          ...   \n",
       "5177                                 -500.030707   \n",
       "5178                                 -500.223931   \n",
       "5179                                 -498.989282   \n",
       "5184                                 -796.857296   \n",
       "5185                                 -797.323986   \n",
       "\n",
       "      secondary_cleaner.state.floatbank5_b_air  \\\n",
       "30                                    3.544708   \n",
       "31                                    5.047491   \n",
       "32                                    5.025161   \n",
       "33                                    4.837108   \n",
       "34                                    4.925342   \n",
       "...                                        ...   \n",
       "5177                                  8.939822   \n",
       "5178                                  8.996529   \n",
       "5179                                  9.046014   \n",
       "5184                                  0.528083   \n",
       "5185                                  1.420606   \n",
       "\n",
       "      secondary_cleaner.state.floatbank5_b_level  \\\n",
       "30                                   -800.024373   \n",
       "31                                   -467.938124   \n",
       "32                                   -447.918397   \n",
       "33                                   -501.855340   \n",
       "34                                   -500.552419   \n",
       "...                                          ...   \n",
       "5177                                 -499.982171   \n",
       "5178                                 -499.892002   \n",
       "5179                                 -499.756903   \n",
       "5184                                 -800.220337   \n",
       "5185                                 -800.118587   \n",
       "\n",
       "      secondary_cleaner.state.floatbank6_a_air  \\\n",
       "30                                    5.914889   \n",
       "31                                   10.047098   \n",
       "32                                    9.911242   \n",
       "33                                    9.891463   \n",
       "34                                   10.045443   \n",
       "...                                        ...   \n",
       "5177                                 12.001369   \n",
       "5178                                 12.003847   \n",
       "5179                                 11.983336   \n",
       "5184                                 -0.079426   \n",
       "5185                                  0.016815   \n",
       "\n",
       "      secondary_cleaner.state.floatbank6_a_level  rougher.output.recovery  \\\n",
       "30                                   -799.501783                 0.000000   \n",
       "31                                   -499.813489                65.817436   \n",
       "32                                   -497.922919                71.035116   \n",
       "33                                   -504.150985                76.785779   \n",
       "34                                   -500.501492                73.364628   \n",
       "...                                          ...                      ...   \n",
       "5177                                 -500.535695                83.553115   \n",
       "5178                                 -500.072328                80.293245   \n",
       "5179                                 -498.917245                75.476615   \n",
       "5184                                 -742.843140                93.288126   \n",
       "5185                                 -789.840007                93.288126   \n",
       "\n",
       "      final.output.recovery  \n",
       "30                 0.000000  \n",
       "31                96.148407  \n",
       "32                56.440734  \n",
       "33                58.476088  \n",
       "34                57.269791  \n",
       "...                     ...  \n",
       "5177              63.443918  \n",
       "5178              64.787614  \n",
       "5179              69.992544  \n",
       "5184              73.580496  \n",
       "5185              73.580496  \n",
       "\n",
       "[61 rows x 55 columns]"
      ]
     },
     "execution_count": 155,
     "metadata": {},
     "output_type": "execute_result"
    }
   ],
   "source": [
    "na_test_index = df_test.isna().any(1)\n",
    "df_test[na_test_index]\n"
   ]
  },
  {
   "cell_type": "code",
   "execution_count": 156,
   "metadata": {},
   "outputs": [
    {
     "data": {
      "text/plain": [
       "Index(['primary_cleaner.input.sulfate', 'primary_cleaner.input.depressant',\n",
       "       'primary_cleaner.input.xanthate', 'rougher.input.feed_rate',\n",
       "       'rougher.input.feed_size', 'rougher.input.feed_sol',\n",
       "       'rougher.input.floatbank10_sulfate',\n",
       "       'rougher.input.floatbank11_sulfate',\n",
       "       'rougher.input.floatbank11_xanthate',\n",
       "       'secondary_cleaner.state.floatbank2_a_air',\n",
       "       'secondary_cleaner.state.floatbank2_b_air',\n",
       "       'secondary_cleaner.state.floatbank3_a_air'],\n",
       "      dtype='object')"
      ]
     },
     "execution_count": 156,
     "metadata": {},
     "output_type": "execute_result"
    }
   ],
   "source": [
    "na_test_columns  = df_test.loc[:,df_test.isna().any()].columns\n",
    "na_test_columns"
   ]
  },
  {
   "cell_type": "code",
   "execution_count": 157,
   "metadata": {},
   "outputs": [],
   "source": [
    "imputer = KNNImputer()\n",
    "df_test[na_test_columns] = imputer.fit_transform(df_test[na_test_columns])\n"
   ]
  },
  {
   "cell_type": "code",
   "execution_count": 158,
   "metadata": {},
   "outputs": [
    {
     "data": {
      "text/plain": [
       "date                                          0\n",
       "primary_cleaner.input.sulfate                 0\n",
       "primary_cleaner.input.depressant              0\n",
       "primary_cleaner.input.feed_size               0\n",
       "primary_cleaner.input.xanthate                0\n",
       "primary_cleaner.state.floatbank8_a_air        0\n",
       "primary_cleaner.state.floatbank8_a_level      0\n",
       "primary_cleaner.state.floatbank8_b_air        0\n",
       "primary_cleaner.state.floatbank8_b_level      0\n",
       "primary_cleaner.state.floatbank8_c_air        0\n",
       "primary_cleaner.state.floatbank8_c_level      0\n",
       "primary_cleaner.state.floatbank8_d_air        0\n",
       "primary_cleaner.state.floatbank8_d_level      0\n",
       "rougher.input.feed_ag                         0\n",
       "rougher.input.feed_pb                         0\n",
       "rougher.input.feed_rate                       0\n",
       "rougher.input.feed_size                       0\n",
       "rougher.input.feed_sol                        0\n",
       "rougher.input.feed_au                         0\n",
       "rougher.input.floatbank10_sulfate             0\n",
       "rougher.input.floatbank10_xanthate            0\n",
       "rougher.input.floatbank11_sulfate             0\n",
       "rougher.input.floatbank11_xanthate            0\n",
       "rougher.state.floatbank10_a_air               0\n",
       "rougher.state.floatbank10_a_level             0\n",
       "rougher.state.floatbank10_b_air               0\n",
       "rougher.state.floatbank10_b_level             0\n",
       "rougher.state.floatbank10_c_air               0\n",
       "rougher.state.floatbank10_c_level             0\n",
       "rougher.state.floatbank10_d_air               0\n",
       "rougher.state.floatbank10_d_level             0\n",
       "rougher.state.floatbank10_e_air               0\n",
       "rougher.state.floatbank10_e_level             0\n",
       "rougher.state.floatbank10_f_air               0\n",
       "rougher.state.floatbank10_f_level             0\n",
       "secondary_cleaner.state.floatbank2_a_air      0\n",
       "secondary_cleaner.state.floatbank2_a_level    0\n",
       "secondary_cleaner.state.floatbank2_b_air      0\n",
       "secondary_cleaner.state.floatbank2_b_level    0\n",
       "secondary_cleaner.state.floatbank3_a_air      0\n",
       "secondary_cleaner.state.floatbank3_a_level    0\n",
       "secondary_cleaner.state.floatbank3_b_air      0\n",
       "secondary_cleaner.state.floatbank3_b_level    0\n",
       "secondary_cleaner.state.floatbank4_a_air      0\n",
       "secondary_cleaner.state.floatbank4_a_level    0\n",
       "secondary_cleaner.state.floatbank4_b_air      0\n",
       "secondary_cleaner.state.floatbank4_b_level    0\n",
       "secondary_cleaner.state.floatbank5_a_air      0\n",
       "secondary_cleaner.state.floatbank5_a_level    0\n",
       "secondary_cleaner.state.floatbank5_b_air      0\n",
       "secondary_cleaner.state.floatbank5_b_level    0\n",
       "secondary_cleaner.state.floatbank6_a_air      0\n",
       "secondary_cleaner.state.floatbank6_a_level    0\n",
       "rougher.output.recovery                       0\n",
       "final.output.recovery                         0\n",
       "dtype: int64"
      ]
     },
     "execution_count": 158,
     "metadata": {},
     "output_type": "execute_result"
    }
   ],
   "source": [
    "df_test.isna().sum()"
   ]
  },
  {
   "cell_type": "markdown",
   "metadata": {},
   "source": [
    "#### Проверим данные на наличие явных дубликатов и в случае наличия - удалим их"
   ]
  },
  {
   "cell_type": "code",
   "execution_count": 159,
   "metadata": {},
   "outputs": [
    {
     "data": {
      "text/plain": [
       "0"
      ]
     },
     "execution_count": 159,
     "metadata": {},
     "output_type": "execute_result"
    }
   ],
   "source": [
    "df_train.duplicated().sum()"
   ]
  },
  {
   "cell_type": "code",
   "execution_count": 160,
   "metadata": {},
   "outputs": [],
   "source": [
    "df_train.drop_duplicates(inplace=True)"
   ]
  },
  {
   "cell_type": "markdown",
   "metadata": {},
   "source": [
    "#### Посмотрим корреляцию признаков используя коррляцию Пирсона"
   ]
  },
  {
   "cell_type": "code",
   "execution_count": 161,
   "metadata": {},
   "outputs": [
    {
     "name": "stdout",
     "output_type": "stream",
     "text": [
      "interval columns not set, guessing: ['final.output.concentrate_ag', 'final.output.concentrate_pb', 'final.output.concentrate_sol', 'final.output.concentrate_au', 'final.output.recovery', 'final.output.tail_ag', 'final.output.tail_pb', 'final.output.tail_sol', 'final.output.tail_au', 'primary_cleaner.input.sulfate', 'primary_cleaner.input.depressant', 'primary_cleaner.input.feed_size', 'primary_cleaner.input.xanthate', 'primary_cleaner.output.concentrate_ag', 'primary_cleaner.output.concentrate_pb', 'primary_cleaner.output.concentrate_sol', 'primary_cleaner.output.concentrate_au', 'primary_cleaner.output.tail_ag', 'primary_cleaner.output.tail_pb', 'primary_cleaner.output.tail_sol', 'primary_cleaner.output.tail_au', 'primary_cleaner.state.floatbank8_a_air', 'primary_cleaner.state.floatbank8_a_level', 'primary_cleaner.state.floatbank8_b_air', 'primary_cleaner.state.floatbank8_b_level', 'primary_cleaner.state.floatbank8_c_air', 'primary_cleaner.state.floatbank8_c_level', 'primary_cleaner.state.floatbank8_d_air', 'primary_cleaner.state.floatbank8_d_level', 'rougher.calculation.sulfate_to_au_concentrate', 'rougher.calculation.floatbank10_sulfate_to_au_feed', 'rougher.calculation.floatbank11_sulfate_to_au_feed', 'rougher.calculation.au_pb_ratio', 'rougher.input.feed_ag', 'rougher.input.feed_pb', 'rougher.input.feed_rate', 'rougher.input.feed_size', 'rougher.input.feed_sol', 'rougher.input.feed_au', 'rougher.input.floatbank10_sulfate', 'rougher.input.floatbank10_xanthate', 'rougher.input.floatbank11_sulfate', 'rougher.input.floatbank11_xanthate', 'rougher.output.concentrate_ag', 'rougher.output.concentrate_pb', 'rougher.output.concentrate_sol', 'rougher.output.concentrate_au', 'rougher.output.recovery', 'rougher.output.tail_ag', 'rougher.output.tail_pb', 'rougher.output.tail_sol', 'rougher.output.tail_au', 'rougher.state.floatbank10_a_air', 'rougher.state.floatbank10_a_level', 'rougher.state.floatbank10_b_air', 'rougher.state.floatbank10_b_level', 'rougher.state.floatbank10_c_air', 'rougher.state.floatbank10_c_level', 'rougher.state.floatbank10_d_air', 'rougher.state.floatbank10_d_level', 'rougher.state.floatbank10_e_air', 'rougher.state.floatbank10_e_level', 'rougher.state.floatbank10_f_air', 'rougher.state.floatbank10_f_level', 'secondary_cleaner.output.tail_ag', 'secondary_cleaner.output.tail_pb', 'secondary_cleaner.output.tail_sol', 'secondary_cleaner.output.tail_au', 'secondary_cleaner.state.floatbank2_a_air', 'secondary_cleaner.state.floatbank2_a_level', 'secondary_cleaner.state.floatbank2_b_air', 'secondary_cleaner.state.floatbank2_b_level', 'secondary_cleaner.state.floatbank3_a_air', 'secondary_cleaner.state.floatbank3_a_level', 'secondary_cleaner.state.floatbank3_b_air', 'secondary_cleaner.state.floatbank3_b_level', 'secondary_cleaner.state.floatbank4_a_air', 'secondary_cleaner.state.floatbank4_a_level', 'secondary_cleaner.state.floatbank4_b_air', 'secondary_cleaner.state.floatbank4_b_level', 'secondary_cleaner.state.floatbank5_a_air', 'secondary_cleaner.state.floatbank5_a_level', 'secondary_cleaner.state.floatbank5_b_air', 'secondary_cleaner.state.floatbank5_b_level', 'secondary_cleaner.state.floatbank6_a_air', 'secondary_cleaner.state.floatbank6_a_level']\n",
      "CPU times: user 4min 45s, sys: 4.58 s, total: 4min 50s\n",
      "Wall time: 4min 53s\n"
     ]
    }
   ],
   "source": [
    "%%time\n",
    "phik_overview = df_full.phik_matrix()"
   ]
  },
  {
   "cell_type": "markdown",
   "metadata": {},
   "source": [
    "Потроим матрицу корреляции"
   ]
  },
  {
   "cell_type": "code",
   "execution_count": 162,
   "metadata": {},
   "outputs": [],
   "source": [
    "corr = pd.DataFrame(phik_overview.values, index= phik_overview.index,  columns = phik_overview.columns)"
   ]
  },
  {
   "cell_type": "code",
   "execution_count": 163,
   "metadata": {
    "scrolled": false
   },
   "outputs": [
    {
     "data": {
      "text/plain": [
       "final.output.recovery             1.000000\n",
       "final.output.tail_ag              0.752307\n",
       "final.output.tail_au              0.750784\n",
       "final.output.concentrate_au       0.750466\n",
       "final.output.concentrate_pb       0.728693\n",
       "final.output.tail_sol             0.709751\n",
       "rougher.output.recovery           0.644514\n",
       "final.output.tail_pb              0.640999\n",
       "final.output.concentrate_sol      0.639677\n",
       "primary_cleaner.output.tail_au    0.535154\n",
       "Name: final.output.recovery, dtype: float64"
      ]
     },
     "execution_count": 163,
     "metadata": {},
     "output_type": "execute_result"
    }
   ],
   "source": [
    "corr['final.output.recovery'][2:].sort_values(ascending=False).head(10)"
   ]
  },
  {
   "cell_type": "markdown",
   "metadata": {},
   "source": [
    "Максимальная корреляция с целевым признаком у финальных характеристик параметров продукта в отвальных хвостах и концентрации металлов"
   ]
  },
  {
   "cell_type": "markdown",
   "metadata": {},
   "source": [
    "## Анализ данных"
   ]
  },
  {
   "cell_type": "markdown",
   "metadata": {},
   "source": [
    "### Посмотрим, как меняется концентрация металлов (Au, Ag, Pb) на различных этапах очистки. Опишите выводы."
   ]
  },
  {
   "cell_type": "markdown",
   "metadata": {},
   "source": [
    "#### концентрация Ag"
   ]
  },
  {
   "cell_type": "code",
   "execution_count": 164,
   "metadata": {},
   "outputs": [],
   "source": [
    "concentrate_ag = {'Флотация' : 'rougher.output.concentrate_ag' ,\n",
    "                  'Первичная очистка' : 'primary_cleaner.output.concentrate_ag',\n",
    "                  'Финальный концентрат' : 'final.output.concentrate_ag'}"
   ]
  },
  {
   "cell_type": "code",
   "execution_count": 165,
   "metadata": {
    "scrolled": false
   },
   "outputs": [
    {
     "data": {
      "text/plain": [
       "'Для этапа Флотация суммарный объем концентрата AG равен 233,166.1, средний  12.0 '"
      ]
     },
     "metadata": {},
     "output_type": "display_data"
    },
    {
     "data": {
      "text/plain": [
       "'Для этапа Первичная очистка суммарный объем концентрата AG равен 164,112.0, средний  8.4 '"
      ]
     },
     "metadata": {},
     "output_type": "display_data"
    },
    {
     "data": {
      "text/plain": [
       "'Для этапа Финальный концентрат суммарный объем концентрата AG равен 100,464.7, средний  5.2 '"
      ]
     },
     "metadata": {},
     "output_type": "display_data"
    },
    {
     "data": {
      "image/png": "[encoded data removed]",
      "text/plain": [
       "<Figure size 720x288 with 1 Axes>"
      ]
     },
     "metadata": {
      "needs_background": "light"
     },
     "output_type": "display_data"
    }
   ],
   "source": [
    "plt.figure(figsize=(10,4))\n",
    "for key, values in concentrate_ag.items():\n",
    "    display(f'Для этапа {key} суммарный объем концентрата AG равен {\"{:,.1f}\".format(df_full[values].sum())}, средний  {\"{:.1f}\".format(df_full[values].mean())} ')\n",
    "    df_full[values].plot(kind='hist',alpha=0.5)\n",
    "plt.legend(concentrate_ag.keys())\n",
    "plt.title('Распределение объема концентрата AG на различных этапах')\n",
    "plt.xlabel('Количество концентрата')\n",
    "plt.ylabel('Объем концентрата')\n",
    "plt.show()"
   ]
  },
  {
   "cell_type": "markdown",
   "metadata": {},
   "source": [
    "Вывод:  \n",
    "Количество концентрата AG (Серебро) уменьшается в процессе восстановления золота. Таким образом на этапе **Флотация** данный показатель более чем в 2 раза превышает количество концентрата на этапе **Финальный концентрат**"
   ]
  },
  {
   "cell_type": "markdown",
   "metadata": {},
   "source": [
    "#### концентрация Pb"
   ]
  },
  {
   "cell_type": "code",
   "execution_count": 166,
   "metadata": {},
   "outputs": [],
   "source": [
    "concentrate_pb = {'Флотация' : 'rougher.output.concentrate_pb' ,\n",
    "                  'Первичная очистка' : 'primary_cleaner.output.concentrate_pb',\n",
    "                  'Финальный концентрат' : 'final.output.concentrate_pb'}"
   ]
  },
  {
   "cell_type": "code",
   "execution_count": 167,
   "metadata": {
    "scrolled": false
   },
   "outputs": [
    {
     "data": {
      "text/plain": [
       "'Для этапа Флотация суммарный объем концентрата PB равен 147,858.3, средний  7.6 '"
      ]
     },
     "metadata": {},
     "output_type": "display_data"
    },
    {
     "data": {
      "text/plain": [
       "'Для этапа Первичная очистка суммарный объем концентрата PB равен 189,936.0, средний  9.8 '"
      ]
     },
     "metadata": {},
     "output_type": "display_data"
    },
    {
     "data": {
      "text/plain": [
       "'Для этапа Финальный концентрат суммарный объем концентрата PB равен 193,969.8, средний  10.0 '"
      ]
     },
     "metadata": {},
     "output_type": "display_data"
    },
    {
     "data": {
      "image/png": "[encoded data removed]",
      "text/plain": [
       "<Figure size 720x288 with 1 Axes>"
      ]
     },
     "metadata": {
      "needs_background": "light"
     },
     "output_type": "display_data"
    }
   ],
   "source": [
    "plt.figure(figsize=(10,4))\n",
    "for key, values in concentrate_pb.items():\n",
    "    display(f'Для этапа {key} суммарный объем концентрата PB равен {\"{:,.1f}\".format(df_full[values].sum())}, средний  {\"{:.1f}\".format(df_full[values].mean())} ')\n",
    "    df_full[values].plot(kind='hist',alpha=0.5)\n",
    "plt.legend(concentrate_pb.keys())\n",
    "plt.title('Распределение объема концентрата PB на различных этапах')\n",
    "plt.xlabel('Количество концентрата')\n",
    "plt.ylabel('Объем концентрата')\n",
    "plt.show()"
   ]
  },
  {
   "cell_type": "markdown",
   "metadata": {},
   "source": [
    "Вывод:  \n",
    "Количество концентрата Pb (Свинец) постепенно увеличивается в процессе восстановления золота. Таким образом на этапе **Финальный концентрат** данный показатель более на 31% превышает количество концентрата на этапе **Флотация**."
   ]
  },
  {
   "cell_type": "markdown",
   "metadata": {},
   "source": [
    "#### концентрация Au"
   ]
  },
  {
   "cell_type": "code",
   "execution_count": 168,
   "metadata": {},
   "outputs": [],
   "source": [
    "concentrate_au = {'Флотация' : 'rougher.output.concentrate_au' ,\n",
    "                  'Первичная очистка' : 'primary_cleaner.output.concentrate_au',\n",
    "                  'Финальный концентрат' : 'final.output.concentrate_au'}"
   ]
  },
  {
   "cell_type": "code",
   "execution_count": 169,
   "metadata": {},
   "outputs": [
    {
     "data": {
      "text/plain": [
       "'Для этапа Флотация суммарный объем концентрата AU равен 384,347.9, средний  19.8 '"
      ]
     },
     "metadata": {},
     "output_type": "display_data"
    },
    {
     "data": {
      "text/plain": [
       "'Для этапа Первичная очистка суммарный объем концентрата AU равен 624,369.0, средний  32.1 '"
      ]
     },
     "metadata": {},
     "output_type": "display_data"
    },
    {
     "data": {
      "text/plain": [
       "'Для этапа Финальный концентрат суммарный объем концентрата AU равен 856,803.3, средний  44.1 '"
      ]
     },
     "metadata": {},
     "output_type": "display_data"
    },
    {
     "data": {
      "image/png": "[encoded data removed]",
      "text/plain": [
       "<Figure size 720x288 with 1 Axes>"
      ]
     },
     "metadata": {
      "needs_background": "light"
     },
     "output_type": "display_data"
    }
   ],
   "source": [
    "plt.figure(figsize=(10,4))\n",
    "for key, values in concentrate_au.items():\n",
    "    display(f'Для этапа {key} суммарный объем концентрата AU равен {\"{:,.1f}\".format(df_full[values].sum())}, средний  {\"{:.1f}\".format(df_full[values].mean())} ')\n",
    "    df_full[values].plot(kind='hist',alpha=0.7)\n",
    "plt.legend(concentrate_au.keys())\n",
    "plt.title('Распределение объема концентрата Au на различных этапах')\n",
    "plt.xlabel('Количество концентрата')\n",
    "plt.ylabel('Объем концентрата')\n",
    "plt.show()"
   ]
  },
  {
   "cell_type": "markdown",
   "metadata": {},
   "source": [
    "Вывод:  \n",
    "Количество концентрата Au (Золото) значительно увеличивается в процессе восстановления золота. Таким образом на этапе **Финальный концентрат** данный показатель в 2,2 раза превышает количество концентрата на этапе **Флотация**."
   ]
  },
  {
   "cell_type": "markdown",
   "metadata": {},
   "source": [
    "### Сравним распределения размеров гранул сырья на обучающей и тестовой выборках"
   ]
  },
  {
   "cell_type": "markdown",
   "metadata": {},
   "source": [
    "Для этапа **Флотация**:"
   ]
  },
  {
   "cell_type": "code",
   "execution_count": 170,
   "metadata": {
    "scrolled": true
   },
   "outputs": [
    {
     "data": {
      "image/png": "[encoded data removed]",
      "text/plain": [
       "<Figure size 432x288 with 1 Axes>"
      ]
     },
     "metadata": {
      "needs_background": "light"
     },
     "output_type": "display_data"
    }
   ],
   "source": [
    "(\n",
    "    df_train['rougher.input.feed_size']\n",
    "    .hist(bins=(int(df_train['rougher.input.feed_size'].max()-df_train['rougher.input.feed_size'].min())),\n",
    "        range=(df_train['rougher.input.feed_size'].min(),df_train['rougher.input.feed_size'].max()), \n",
    "          density=True,\n",
    "         alpha=0.6)\n",
    ")\n",
    "(\n",
    "    df_test['rougher.input.feed_size']\n",
    "    .hist(bins=(int(df_test['rougher.input.feed_size'].max()-df_test['rougher.input.feed_size'].min())),\n",
    "        range=(df_test['rougher.input.feed_size'].min(),df_test['rougher.input.feed_size'].max()), \n",
    "          density=True,\n",
    "         alpha=0.6)\n",
    ")\n",
    "plt.title('Распределение размеров гранул сырья (Флотация')\n",
    "plt.legend(['тренировочная', 'тестовая'])\n",
    "plt.xlabel('Размер гранул')\n",
    "plt.ylabel('Количество')\n",
    "plt.show()"
   ]
  },
  {
   "cell_type": "markdown",
   "metadata": {},
   "source": [
    "Для этапа **Первичная очистка**:"
   ]
  },
  {
   "cell_type": "code",
   "execution_count": 171,
   "metadata": {},
   "outputs": [
    {
     "data": {
      "image/png": "[encoded data removed]",
      "text/plain": [
       "<Figure size 432x288 with 1 Axes>"
      ]
     },
     "metadata": {
      "needs_background": "light"
     },
     "output_type": "display_data"
    }
   ],
   "source": [
    "(\n",
    "    df_train['primary_cleaner.input.feed_size']\n",
    "    .hist(bins=50,\n",
    "        range=(df_train['primary_cleaner.input.feed_size'].min(),df_train['primary_cleaner.input.feed_size'].max()),\n",
    "         density=True,\n",
    "         alpha=0.6)\n",
    ")\n",
    "(\n",
    "    df_test['primary_cleaner.input.feed_size']\n",
    "    .hist(bins=50,\n",
    "        range=(df_test['primary_cleaner.input.feed_size'].min(),df_test['primary_cleaner.input.feed_size'].max()), \n",
    "          density=True,\n",
    "         alpha=0.6)\n",
    ")\n",
    "plt.title('Распределение размеров гранул сырья (первичная очистка)')\n",
    "plt.legend(['тренировочная', 'тестовая'])\n",
    "plt.xlabel('Размер гранул')\n",
    "plt.ylabel('Количество')\n",
    "plt.show()"
   ]
  },
  {
   "cell_type": "markdown",
   "metadata": {},
   "source": [
    "Вывод:  \n",
    "Распределения размеров гранул сырья на этапе **Флотация** и **Первичная очистка** имеют одинаковый вид."
   ]
  },
  {
   "cell_type": "markdown",
   "metadata": {},
   "source": [
    "\n",
    "### Исследуем суммарную концентрацию всех веществ на разных стадиях: в сырье, в черновом и финальном концентратах."
   ]
  },
  {
   "cell_type": "code",
   "execution_count": 172,
   "metadata": {},
   "outputs": [],
   "source": [
    "concentrate_full = {'В сырье' : ['rougher.input.feed_ag', 'rougher.input.feed_pb', 'rougher.input.feed_sol', 'rougher.input.feed_au'],\n",
    "                  'В черновом концентрате' : ['rougher.output.concentrate_ag', 'rougher.output.concentrate_pb', 'rougher.output.concentrate_sol', 'rougher.output.concentrate_au'],\n",
    "                  'В Финальном концентрате' : ['final.output.concentrate_ag', 'final.output.concentrate_pb', 'final.output.concentrate_sol', 'final.output.concentrate_au']}"
   ]
  },
  {
   "cell_type": "code",
   "execution_count": 173,
   "metadata": {},
   "outputs": [],
   "source": [
    "concentrate_sum = []"
   ]
  },
  {
   "cell_type": "code",
   "execution_count": 174,
   "metadata": {
    "scrolled": true
   },
   "outputs": [
    {
     "data": {
      "text/plain": [
       "'В сырье суммарный объем концентрации всех веществ равен 1,110,916.1'"
      ]
     },
     "metadata": {},
     "output_type": "display_data"
    },
    {
     "data": {
      "text/plain": [
       "'В черновом концентрате суммарный объем концентрации всех веществ равен 1,324,661.3'"
      ]
     },
     "metadata": {},
     "output_type": "display_data"
    },
    {
     "data": {
      "text/plain": [
       "'В Финальном концентрате суммарный объем концентрации всех веществ равен 1,333,927.4'"
      ]
     },
     "metadata": {},
     "output_type": "display_data"
    }
   ],
   "source": [
    "for key, values in concentrate_full.items():\n",
    "    concentrate_stage = []\n",
    "    for i in values:\n",
    "        concentrate_stage.append(df_full[i].sum())\n",
    "    concentrate_stage  = pd.Series(concentrate_stage)\n",
    "    display(f'{key} суммарный объем концентрации всех веществ равен {\"{:,.1f}\".format(concentrate_stage.sum())}')\n",
    "    concentrate_sum.append(concentrate_stage.sum())\n",
    "    #sns.barplot(data=concentrate_sum, x='key', y=)\n",
    "    "
   ]
  },
  {
   "cell_type": "code",
   "execution_count": 175,
   "metadata": {},
   "outputs": [],
   "source": [
    "concentrate_sum = pd.Series(concentrate_sum, index=concentrate_full.keys()).reset_index()\n",
    "concentrate_sum.columns = ['stage', 'concentrate_sum']"
   ]
  },
  {
   "cell_type": "code",
   "execution_count": 176,
   "metadata": {
    "scrolled": true
   },
   "outputs": [
    {
     "data": {
      "image/png": "[encoded data removed]",
      "text/plain": [
       "<Figure size 720x288 with 1 Axes>"
      ]
     },
     "metadata": {
      "needs_background": "light"
     },
     "output_type": "display_data"
    }
   ],
   "source": [
    "figure(figsize=(10,4))\n",
    "sns.barplot(data = concentrate_sum, x='stage', y='concentrate_sum')\n",
    "plt.title('Суммарная концентрация веществ по этапам')\n",
    "plt.xlabel('Этап')\n",
    "plt.ylabel('Суммарная концентрация')\n",
    "plt.show()"
   ]
  },
  {
   "cell_type": "markdown",
   "metadata": {},
   "source": [
    "Вывод:  \n",
    "Таким образом на стадиях  **В черновом концентрате** и **Финальный концентрат** суммарная концентрация веществ примерно одинаковая. В сырье на 19% меньше"
   ]
  },
  {
   "cell_type": "markdown",
   "metadata": {},
   "source": [
    "## Модель"
   ]
  },
  {
   "cell_type": "markdown",
   "metadata": {},
   "source": [
    "### Функция sMAPE"
   ]
  },
  {
   "cell_type": "markdown",
   "metadata": {},
   "source": [
    "Напишем функцию sMAPE, на вход которой будут поступать значения целевого признака и предсказания.  \n",
    "Далее эти значения сохраняем в новый датасет, чтобы не было \"конфликта\" индексов.  \n",
    "Функция возвращает симметричное среднее абсолютное процентное отклонение."
   ]
  },
  {
   "cell_type": "code",
   "execution_count": 177,
   "metadata": {},
   "outputs": [],
   "source": [
    "def sMAPE(target, predict):\n",
    "    num_den = [] #дробь\n",
    "    temp_data = pd.DataFrame(columns=['target','predict'])\n",
    "    temp_data['target']=pd.Series(target).reset_index(drop=True)\n",
    "    temp_data['predict']=pd.Series(predict).reset_index(drop=True)\n",
    "    numerator = np.abs(temp_data['target'] - temp_data['predict'])\n",
    "    denominator = (np.abs(temp_data['target']) + np.abs(temp_data['predict'])) / 2 \n",
    "    \n",
    "    return 1 / len(temp_data) * np.sum(numerator / denominator) * 100"
   ]
  },
  {
   "cell_type": "markdown",
   "metadata": {},
   "source": [
    "Напишем функцию расчета **Итогового sMAPE**"
   ]
  },
  {
   "cell_type": "code",
   "execution_count": 178,
   "metadata": {},
   "outputs": [],
   "source": [
    "def FINAL_sMAPE(sMAPE_rougher, sMAPE_final):\n",
    "    return 0.25*sMAPE_rougher + 0.75 * sMAPE_final\n"
   ]
  },
  {
   "cell_type": "markdown",
   "metadata": {},
   "source": [
    "### Разделим данные на признаки и целевые признаки"
   ]
  },
  {
   "cell_type": "code",
   "execution_count": 179,
   "metadata": {},
   "outputs": [],
   "source": [
    "X_train = df_train.drop(['date','rougher.output.recovery', 'final.output.recovery'], axis=1)\n",
    "X_test = pd.DataFrame(df_test.drop(['date','rougher.output.recovery', 'final.output.recovery'], axis=1))\n",
    "y_train_rougher = df_train['rougher.output.recovery']\n",
    "y_train_final = df_train['final.output.recovery']\n",
    "y_test_rougher = df_test['rougher.output.recovery']\n",
    "y_test_final = df_test['final.output.recovery']"
   ]
  },
  {
   "cell_type": "markdown",
   "metadata": {},
   "source": [
    "Стандартизирием данные в тренировочном и тестовом датасетах:"
   ]
  },
  {
   "cell_type": "code",
   "execution_count": 180,
   "metadata": {},
   "outputs": [],
   "source": [
    "scaler = StandardScaler()"
   ]
  },
  {
   "cell_type": "code",
   "execution_count": 181,
   "metadata": {},
   "outputs": [
    {
     "data": {
      "text/plain": [
       "StandardScaler()"
      ]
     },
     "execution_count": 181,
     "metadata": {},
     "output_type": "execute_result"
    }
   ],
   "source": [
    "scaler.fit(X_train)"
   ]
  },
  {
   "cell_type": "markdown",
   "metadata": {},
   "source": [
    "Трансформируем данные в тренировочном и тестовом датасете:"
   ]
  },
  {
   "cell_type": "code",
   "execution_count": 182,
   "metadata": {},
   "outputs": [],
   "source": [
    "X_train = pd.DataFrame(scaler.transform(X_train), columns=X_train.columns)\n",
    "X_test = pd.DataFrame(scaler.transform(X_test), columns=X_test.columns)"
   ]
  },
  {
   "cell_type": "markdown",
   "metadata": {},
   "source": [
    "### Подберем гиперпараметры используя алгоритм  **RandomizedSearchCV** для модели Случайного леса"
   ]
  },
  {
   "cell_type": "markdown",
   "metadata": {},
   "source": [
    "Создадим переменные, сохранюимв них списки значений для дальшейшего подбора гиперпараметров модели через алгоритмы **RandomizedSearchCV** и **GridSearchCV**"
   ]
  },
  {
   "cell_type": "code",
   "execution_count": 183,
   "metadata": {},
   "outputs": [],
   "source": [
    "n_estimators = [int(x) for x in np.linspace(start = 10, stop = 50, num = 5)]\n",
    "max_depth = [int(x) for x in np.linspace(start = 1, stop = 15, num = 15)]\n",
    "min_samples_split = [int(x) for x in np.linspace(start = 2, stop = 50, num = 10)]\n",
    "min_samples_leaf = [int(x) for x in np.linspace(start = 2, stop = 50, num = 10)]"
   ]
  },
  {
   "cell_type": "code",
   "execution_count": 184,
   "metadata": {},
   "outputs": [],
   "source": [
    "#опредеблим наилучшие параметры для модели\n",
    "#создадим словарь из параметров, которые буду подбирать\n",
    "parametrs = { 'n_estimators': n_estimators,\n",
    "              'max_depth': max_depth,\n",
    "              'max_features' : ['log2', 'sqrt'],\n",
    "              'min_samples_leaf': min_samples_split,\n",
    "              'min_samples_split': min_samples_leaf }"
   ]
  },
  {
   "cell_type": "code",
   "execution_count": 185,
   "metadata": {},
   "outputs": [],
   "source": [
    "model_rf = RandomForestRegressor(random_state=12345)"
   ]
  },
  {
   "cell_type": "markdown",
   "metadata": {},
   "source": [
    "Применим к этой модели алгоритм **RandomizedSearchCV** для оптимизации гиперпарамеров"
   ]
  },
  {
   "cell_type": "code",
   "execution_count": 186,
   "metadata": {},
   "outputs": [],
   "source": [
    "rs = RandomizedSearchCV(model_rf, \n",
    "                        parametrs, \n",
    "                        n_iter = 100, \n",
    "                        cv = 3, \n",
    "                        verbose = 1, \n",
    "                        n_jobs=-1, \n",
    "                        random_state=12345)"
   ]
  },
  {
   "cell_type": "code",
   "execution_count": 187,
   "metadata": {},
   "outputs": [
    {
     "name": "stdout",
     "output_type": "stream",
     "text": [
      "Fitting 3 folds for each of 100 candidates, totalling 300 fits\n",
      "CPU times: user 4min 7s, sys: 897 ms, total: 4min 8s\n",
      "Wall time: 4min 10s\n"
     ]
    },
    {
     "data": {
      "text/plain": [
       "RandomizedSearchCV(cv=3, estimator=RandomForestRegressor(random_state=12345),\n",
       "                   n_iter=100, n_jobs=-1,\n",
       "                   param_distributions={'max_depth': [1, 2, 3, 4, 5, 6, 7, 8, 9,\n",
       "                                                      10, 11, 12, 13, 14, 15],\n",
       "                                        'max_features': ['log2', 'sqrt'],\n",
       "                                        'min_samples_leaf': [2, 7, 12, 18, 23,\n",
       "                                                             28, 34, 39, 44,\n",
       "                                                             50],\n",
       "                                        'min_samples_split': [2, 7, 12, 18, 23,\n",
       "                                                              28, 34, 39, 44,\n",
       "                                                              50],\n",
       "                                        'n_estimators': [10, 20, 30, 40, 50]},\n",
       "                   random_state=12345, verbose=1)"
      ]
     },
     "execution_count": 187,
     "metadata": {},
     "output_type": "execute_result"
    }
   ],
   "source": [
    "%%time\n",
    "rs.fit(X_train, y_train_rougher);"
   ]
  },
  {
   "cell_type": "markdown",
   "metadata": {},
   "source": [
    "Выведем получившиеся \"лучшие\" гиперпараметры в результате работы алгоритма **RandomizedSearchCV**"
   ]
  },
  {
   "cell_type": "code",
   "execution_count": 188,
   "metadata": {},
   "outputs": [
    {
     "data": {
      "text/plain": [
       "{'n_estimators': 30,\n",
       " 'min_samples_split': 34,\n",
       " 'min_samples_leaf': 39,\n",
       " 'max_features': 'log2',\n",
       " 'max_depth': 12}"
      ]
     },
     "execution_count": 188,
     "metadata": {},
     "output_type": "execute_result"
    }
   ],
   "source": [
    "rs.best_params_"
   ]
  },
  {
   "cell_type": "markdown",
   "metadata": {},
   "source": [
    "Построим датафрейм результата работы алгоритма, чтобы полнять в каких диапозонах продолжать дальнейший поиск"
   ]
  },
  {
   "cell_type": "code",
   "execution_count": 189,
   "metadata": {},
   "outputs": [
    {
     "data": {
      "text/html": [
       "<div>\n",
       "<style scoped>\n",
       "    .dataframe tbody tr th:only-of-type {\n",
       "        vertical-align: middle;\n",
       "    }\n",
       "\n",
       "    .dataframe tbody tr th {\n",
       "        vertical-align: top;\n",
       "    }\n",
       "\n",
       "    .dataframe thead th {\n",
       "        text-align: right;\n",
       "    }\n",
       "</style>\n",
       "<table border=\"1\" class=\"dataframe\">\n",
       "  <thead>\n",
       "    <tr style=\"text-align: right;\">\n",
       "      <th></th>\n",
       "      <th>param_n_estimators</th>\n",
       "      <th>param_min_samples_split</th>\n",
       "      <th>param_min_samples_leaf</th>\n",
       "      <th>param_max_features</th>\n",
       "      <th>param_max_depth</th>\n",
       "      <th>mean_test_score</th>\n",
       "      <th>rank_test_score</th>\n",
       "    </tr>\n",
       "  </thead>\n",
       "  <tbody>\n",
       "    <tr>\n",
       "      <th>0</th>\n",
       "      <td>30</td>\n",
       "      <td>34</td>\n",
       "      <td>39</td>\n",
       "      <td>log2</td>\n",
       "      <td>12</td>\n",
       "      <td>-0.029102</td>\n",
       "      <td>1</td>\n",
       "    </tr>\n",
       "    <tr>\n",
       "      <th>1</th>\n",
       "      <td>50</td>\n",
       "      <td>18</td>\n",
       "      <td>39</td>\n",
       "      <td>log2</td>\n",
       "      <td>13</td>\n",
       "      <td>-0.033381</td>\n",
       "      <td>2</td>\n",
       "    </tr>\n",
       "    <tr>\n",
       "      <th>2</th>\n",
       "      <td>20</td>\n",
       "      <td>44</td>\n",
       "      <td>44</td>\n",
       "      <td>log2</td>\n",
       "      <td>7</td>\n",
       "      <td>-0.038319</td>\n",
       "      <td>3</td>\n",
       "    </tr>\n",
       "    <tr>\n",
       "      <th>3</th>\n",
       "      <td>20</td>\n",
       "      <td>7</td>\n",
       "      <td>28</td>\n",
       "      <td>log2</td>\n",
       "      <td>13</td>\n",
       "      <td>-0.038791</td>\n",
       "      <td>4</td>\n",
       "    </tr>\n",
       "    <tr>\n",
       "      <th>4</th>\n",
       "      <td>20</td>\n",
       "      <td>23</td>\n",
       "      <td>28</td>\n",
       "      <td>log2</td>\n",
       "      <td>13</td>\n",
       "      <td>-0.038791</td>\n",
       "      <td>4</td>\n",
       "    </tr>\n",
       "    <tr>\n",
       "      <th>5</th>\n",
       "      <td>20</td>\n",
       "      <td>2</td>\n",
       "      <td>44</td>\n",
       "      <td>log2</td>\n",
       "      <td>10</td>\n",
       "      <td>-0.039227</td>\n",
       "      <td>6</td>\n",
       "    </tr>\n",
       "    <tr>\n",
       "      <th>6</th>\n",
       "      <td>20</td>\n",
       "      <td>44</td>\n",
       "      <td>50</td>\n",
       "      <td>log2</td>\n",
       "      <td>12</td>\n",
       "      <td>-0.041378</td>\n",
       "      <td>7</td>\n",
       "    </tr>\n",
       "    <tr>\n",
       "      <th>7</th>\n",
       "      <td>10</td>\n",
       "      <td>18</td>\n",
       "      <td>23</td>\n",
       "      <td>log2</td>\n",
       "      <td>4</td>\n",
       "      <td>-0.042885</td>\n",
       "      <td>8</td>\n",
       "    </tr>\n",
       "    <tr>\n",
       "      <th>8</th>\n",
       "      <td>10</td>\n",
       "      <td>50</td>\n",
       "      <td>39</td>\n",
       "      <td>log2</td>\n",
       "      <td>11</td>\n",
       "      <td>-0.043277</td>\n",
       "      <td>9</td>\n",
       "    </tr>\n",
       "    <tr>\n",
       "      <th>9</th>\n",
       "      <td>30</td>\n",
       "      <td>18</td>\n",
       "      <td>34</td>\n",
       "      <td>log2</td>\n",
       "      <td>14</td>\n",
       "      <td>-0.046465</td>\n",
       "      <td>10</td>\n",
       "    </tr>\n",
       "  </tbody>\n",
       "</table>\n",
       "</div>"
      ],
      "text/plain": [
       "  param_n_estimators param_min_samples_split param_min_samples_leaf  \\\n",
       "0                 30                      34                     39   \n",
       "1                 50                      18                     39   \n",
       "2                 20                      44                     44   \n",
       "3                 20                       7                     28   \n",
       "4                 20                      23                     28   \n",
       "5                 20                       2                     44   \n",
       "6                 20                      44                     50   \n",
       "7                 10                      18                     23   \n",
       "8                 10                      50                     39   \n",
       "9                 30                      18                     34   \n",
       "\n",
       "  param_max_features param_max_depth  mean_test_score  rank_test_score  \n",
       "0               log2              12        -0.029102                1  \n",
       "1               log2              13        -0.033381                2  \n",
       "2               log2               7        -0.038319                3  \n",
       "3               log2              13        -0.038791                4  \n",
       "4               log2              13        -0.038791                4  \n",
       "5               log2              10        -0.039227                6  \n",
       "6               log2              12        -0.041378                7  \n",
       "7               log2               4        -0.042885                8  \n",
       "8               log2              11        -0.043277                9  \n",
       "9               log2              14        -0.046465               10  "
      ]
     },
     "execution_count": 189,
     "metadata": {},
     "output_type": "execute_result"
    }
   ],
   "source": [
    "rs_df = pd.DataFrame(rs.cv_results_).sort_values('rank_test_score').reset_index(drop=True)\n",
    "rs_df = rs_df.drop([\n",
    "            'mean_fit_time', \n",
    "            'std_fit_time', \n",
    "            'mean_score_time',\n",
    "            'std_score_time', \n",
    "            'params', \n",
    "            'split0_test_score', \n",
    "            'split1_test_score', \n",
    "            'split2_test_score', \n",
    "            'std_test_score'],\n",
    "            axis=1)\n",
    "rs_df.head(10)"
   ]
  },
  {
   "cell_type": "markdown",
   "metadata": {},
   "source": [
    "Создадим столбчатые графики, на которых, по оси Х, расположу значения гиперпараметров, а по оси Y — средние значения, показываемые моделью. Это позволит понять то, какие значения гиперпараметров, в среднем, лучше всего себя показывают."
   ]
  },
  {
   "cell_type": "code",
   "execution_count": 190,
   "metadata": {},
   "outputs": [
    {
     "data": {
      "image/png": "[encoded data removed]",
      "text/plain": [
       "<Figure size 2160x1800 with 6 Axes>"
      ]
     },
     "metadata": {
      "needs_background": "light"
     },
     "output_type": "display_data"
    }
   ],
   "source": [
    "fig, axs = plt.subplots(ncols=3, nrows=2)\n",
    "sns.set(style=\"whitegrid\", color_codes=True, font_scale = 2)\n",
    "fig.set_size_inches(30,25)\n",
    "sns.barplot(x='param_n_estimators', y='mean_test_score', data=rs_df, ax=axs[0,0], color='lightgrey')\n",
    "axs[0,0].set_ylim([-.1,.0])\n",
    "axs[0,0].set_title(label = 'n_estimators', size=30, weight='bold')\n",
    "sns.barplot(x='param_min_samples_split', y='mean_test_score', data=rs_df, ax=axs[0,1], color='coral')\n",
    "axs[0,1].set_ylim([-.1,.0])\n",
    "axs[0,1].set_title(label = 'min_samples_split', size=30, weight='bold')\n",
    "sns.barplot(x='param_min_samples_leaf', y='mean_test_score', data=rs_df, ax=axs[0,2], color='lightgreen')\n",
    "axs[0,2].set_ylim([-.2,.0])\n",
    "axs[0,2].set_title(label = 'min_samples_leaf', size=30, weight='bold')\n",
    "sns.barplot(x='param_max_features', y='mean_test_score', data=rs_df, ax=axs[1,0], color='wheat')\n",
    "axs[1,0].set_ylim([-.1,.0])\n",
    "axs[1,0].set_title(label = 'max_features', size=30, weight='bold')\n",
    "sns.barplot(x='param_max_depth', y='mean_test_score', data=rs_df, ax=axs[1,1], color='lightpink')\n",
    "axs[1,1].set_ylim([-.2,.0])\n",
    "axs[1,1].set_title(label = 'max_depth', size=30, weight='bold')\n",
    "plt.show()"
   ]
  },
  {
   "cell_type": "markdown",
   "metadata": {},
   "source": [
    "Вывод:  \n",
    "В результате работы алгоритма **RandomizedSearchCV** определили следующие диапозоны значений, для дальнейшего уточнения с помощью **GridSearchCV:**  \n",
    "n_estimators = [30,50]  \n",
    "max_features = ['log2']  \n",
    "max_depth = [4,8,12]  \n",
    "min_samples_split = [18,23,39]  \n",
    "min_samples_leaf = [18,44]  "
   ]
  },
  {
   "cell_type": "markdown",
   "metadata": {},
   "source": [
    "### произведем уточнение параметров используя алгоритм GridSearchCV"
   ]
  },
  {
   "cell_type": "code",
   "execution_count": 191,
   "metadata": {},
   "outputs": [],
   "source": [
    "n_estimators = [30,50]\n",
    "max_features = ['log2']\n",
    "max_depth = [4,8,12]\n",
    "min_samples_split = [18,23,39]\n",
    "min_samples_leaf = [18,44]\n",
    "param_grid = {'n_estimators': n_estimators,\n",
    "               'max_features': max_features,\n",
    "               'max_depth': max_depth,\n",
    "               'min_samples_split': min_samples_split,\n",
    "               'min_samples_leaf': min_samples_leaf}"
   ]
  },
  {
   "cell_type": "code",
   "execution_count": 192,
   "metadata": {},
   "outputs": [
    {
     "name": "stdout",
     "output_type": "stream",
     "text": [
      "CPU times: user 3min 3s, sys: 580 ms, total: 3min 3s\n",
      "Wall time: 3min 4s\n"
     ]
    },
    {
     "data": {
      "text/plain": [
       "GridSearchCV(cv=5, estimator=RandomForestRegressor(random_state=12345),\n",
       "             param_grid={'max_depth': [4, 8, 12], 'max_features': ['log2'],\n",
       "                         'min_samples_leaf': [18, 44],\n",
       "                         'min_samples_split': [18, 23, 39],\n",
       "                         'n_estimators': [30, 50]})"
      ]
     },
     "execution_count": 192,
     "metadata": {},
     "output_type": "execute_result"
    }
   ],
   "source": [
    "%%time\n",
    "grid = GridSearchCV(model_rf, param_grid, cv=5)\n",
    "grid.fit(X_train, y_train_rougher)"
   ]
  },
  {
   "cell_type": "markdown",
   "metadata": {},
   "source": [
    "Выведем получившиеся \"лучшие\" гиперпараметры в результате работы алгоритма **GridSearchCV**"
   ]
  },
  {
   "cell_type": "code",
   "execution_count": 193,
   "metadata": {},
   "outputs": [
    {
     "data": {
      "text/plain": [
       "{'max_depth': 8,\n",
       " 'max_features': 'log2',\n",
       " 'min_samples_leaf': 18,\n",
       " 'min_samples_split': 39,\n",
       " 'n_estimators': 30}"
      ]
     },
     "execution_count": 193,
     "metadata": {},
     "output_type": "execute_result"
    }
   ],
   "source": [
    "grid.best_params_"
   ]
  },
  {
   "cell_type": "markdown",
   "metadata": {},
   "source": [
    "#### Создадим модели Случайного леса с лучшими параметрами, Дерево и Линейную регрессию"
   ]
  },
  {
   "cell_type": "code",
   "execution_count": 194,
   "metadata": {},
   "outputs": [],
   "source": [
    "model_rf_best = RandomForestRegressor(n_estimators=30, \n",
    "                                            max_depth=8, \n",
    "                                            max_features='log2', \n",
    "                                            min_samples_leaf=18, \n",
    "                                            min_samples_split=39, \n",
    "                                            random_state=12345)"
   ]
  },
  {
   "cell_type": "code",
   "execution_count": 195,
   "metadata": {},
   "outputs": [],
   "source": [
    "model_linear = LinearRegression()"
   ]
  },
  {
   "cell_type": "code",
   "execution_count": 196,
   "metadata": {},
   "outputs": [],
   "source": [
    "model_tree = DecisionTreeRegressor(random_state=12345, max_depth=8, min_samples_leaf=18, min_samples_split=39,)"
   ]
  },
  {
   "cell_type": "markdown",
   "metadata": {},
   "source": [
    "### Обучим модели и определим лучшую модель по метрике sMAPE, используя кросс-валидацию:"
   ]
  },
  {
   "cell_type": "markdown",
   "metadata": {},
   "source": [
    "#### Спрогнозируем эффективность обогащения чернового концентрата"
   ]
  },
  {
   "cell_type": "code",
   "execution_count": 197,
   "metadata": {},
   "outputs": [],
   "source": [
    "kf = KFold(n_splits=5)"
   ]
  },
  {
   "cell_type": "code",
   "execution_count": 198,
   "metadata": {},
   "outputs": [],
   "source": [
    "predict_rf_rougher = []\n",
    "predict_linear_rougher = []\n",
    "predict_tree_rougher = []"
   ]
  },
  {
   "cell_type": "markdown",
   "metadata": {},
   "source": [
    "Используя кросс-валидацию проверим качество работы моделей:"
   ]
  },
  {
   "cell_type": "code",
   "execution_count": 199,
   "metadata": {},
   "outputs": [],
   "source": [
    "for train_index, test_index in kf.split(X_train):\n",
    "    #разобьем тренировочный датасет 2: на котором будут обучаться модели и на котором будут тестироваться.\n",
    "    X_train_kf, X_test_kf = X_train.loc[train_index], X_train.loc[test_index]\n",
    "    y_train_kf, y_test_kf = y_train_rougher.loc[train_index], y_train_rougher.loc[test_index]\n",
    "     \n",
    "    # Обучим модель случайного леса и сохраним результат в predict_rf_best\n",
    "    model_rf_best.fit(X_train_kf, y_train_kf)\n",
    "    predict_rf_best = pd.Series(model_rf_best.predict(X_test_kf), index=X_test_kf.index)\n",
    "    \n",
    "    # Обучим линейную модель и сохраним результат в predict_linear\n",
    "    model_linear.fit(X_train_kf, y_train_kf)\n",
    "    predict_linear = pd.Series(model_linear.predict(X_test_kf), index=X_test_kf.index)\n",
    "    \n",
    "    # Обучим модель дерева и сохраним результат в predict_tree\n",
    "    model_tree.fit(X_train_kf, y_train_kf)\n",
    "    predict_tree = pd.Series(model_tree.predict(X_test_kf), index=X_test_kf.index)\n",
    "    \n",
    "    # далее сохраним результаты работы функции sMAPE в списки предсказаний по моделям\n",
    "    predict_rf_rougher.append(sMAPE(y_test_kf, predict_rf_best))\n",
    "    predict_linear_rougher.append(sMAPE(y_test_kf, predict_linear))\n",
    "    predict_tree_rougher.append(sMAPE(y_test_kf, predict_tree))"
   ]
  },
  {
   "cell_type": "code",
   "execution_count": 200,
   "metadata": {
    "scrolled": true
   },
   "outputs": [
    {
     "data": {
      "text/plain": [
       "'Среднее значение функции sMAPE модели случайного леса для этапа Флотация 10.5'"
      ]
     },
     "execution_count": 200,
     "metadata": {},
     "output_type": "execute_result"
    }
   ],
   "source": [
    "sMAPE_rf_rougher_mean = sum(predict_rf_rougher)/len(predict_rf_rougher)\n",
    "f'Среднее значение функции sMAPE модели случайного леса для этапа Флотация {\"{:,.1f}\".format(sMAPE_rf_rougher_mean)}'"
   ]
  },
  {
   "cell_type": "code",
   "execution_count": 201,
   "metadata": {},
   "outputs": [
    {
     "data": {
      "text/plain": [
       "'Среднее значение функции sMAPE для линейной модели для этапа Флотация 12.8'"
      ]
     },
     "execution_count": 201,
     "metadata": {},
     "output_type": "execute_result"
    }
   ],
   "source": [
    "sMAPE_linear_rougher_mean = sum(predict_linear_rougher)/len(predict_linear_rougher)\n",
    "f'Среднее значение функции sMAPE для линейной модели для этапа Флотация {\"{:,.1f}\".format(sMAPE_linear_rougher_mean)}'"
   ]
  },
  {
   "cell_type": "code",
   "execution_count": 202,
   "metadata": {},
   "outputs": [
    {
     "data": {
      "text/plain": [
       "'Среднее значение функции sMAPE для модели дерева для этапа Флотация 11.8'"
      ]
     },
     "execution_count": 202,
     "metadata": {},
     "output_type": "execute_result"
    }
   ],
   "source": [
    "sMAPE_tree_rougher_mean = sum(predict_tree_rougher)/len(predict_tree_rougher)\n",
    "f'Среднее значение функции sMAPE для модели дерева для этапа Флотация {\"{:,.1f}\".format(sMAPE_tree_rougher_mean)}'"
   ]
  },
  {
   "cell_type": "markdown",
   "metadata": {},
   "source": [
    "#### Спрогнозирую эффективность обогащения финального концентрата"
   ]
  },
  {
   "cell_type": "code",
   "execution_count": 203,
   "metadata": {},
   "outputs": [],
   "source": [
    "predict_rf_final = []\n",
    "predict_linear_final = []\n",
    "predict_tree_final = []"
   ]
  },
  {
   "cell_type": "code",
   "execution_count": 204,
   "metadata": {},
   "outputs": [],
   "source": [
    "for train_index, test_index in kf.split(X_train):\n",
    "    X_train_kf, X_test_kf = X_train.loc[train_index], X_train.loc[test_index]\n",
    "    y_train_kf, y_test_kf = y_train_final.loc[train_index], y_train_final.loc[test_index]\n",
    "    # \n",
    "    \n",
    "    model_rf_best.fit(X_train_kf, y_train_kf)\n",
    "    predict_rf_best = pd.Series(model_rf_best.predict(X_test_kf), index=X_test_kf.index)\n",
    "    #\n",
    "    model_linear.fit(X_train_kf, y_train_kf)\n",
    "    predict_linear = pd.Series(model_linear.predict(X_test_kf), index=X_test_kf.index)\n",
    "    #\n",
    "    model_tree.fit(X_train_kf, y_train_kf)\n",
    "    predict_tree = pd.Series(model_tree.predict(X_test_kf), index=X_test_kf.index)\n",
    "    #\n",
    "    predict_rf_final.append(sMAPE(y_test_kf, predict_rf_best))\n",
    "    predict_linear_final.append(sMAPE(y_test_kf, predict_linear))\n",
    "    predict_tree_final.append(sMAPE(y_test_kf, predict_tree))"
   ]
  },
  {
   "cell_type": "code",
   "execution_count": 205,
   "metadata": {},
   "outputs": [
    {
     "data": {
      "text/plain": [
       "'Среднее значение функции sMAPE модели случайного леса для этапа Финальное концентрата 10.0'"
      ]
     },
     "execution_count": 205,
     "metadata": {},
     "output_type": "execute_result"
    }
   ],
   "source": [
    "sMAPE_rf_final_mean = sum(predict_rf_final)/len(predict_rf_final)\n",
    "f'Среднее значение функции sMAPE модели случайного леса для этапа Финальное концентрата {\"{:,.1f}\".format(sMAPE_rf_final_mean)}'"
   ]
  },
  {
   "cell_type": "code",
   "execution_count": 206,
   "metadata": {},
   "outputs": [
    {
     "data": {
      "text/plain": [
       "'Среднее значение функции sMAPE линейной модели для этапа Финальное концентрата 12.4'"
      ]
     },
     "execution_count": 206,
     "metadata": {},
     "output_type": "execute_result"
    }
   ],
   "source": [
    "sMAPE_linear_final_mean = (sum(predict_linear_final)/len(predict_linear_final))\n",
    "f'Среднее значение функции sMAPE линейной модели для этапа Финальное концентрата {\"{:,.1f}\".format(sMAPE_linear_final_mean)}'"
   ]
  },
  {
   "cell_type": "code",
   "execution_count": 207,
   "metadata": {},
   "outputs": [
    {
     "data": {
      "text/plain": [
       "'Среднее значение функции sMAPE модели дерева для этапа Финальное концентрата 11.8'"
      ]
     },
     "execution_count": 207,
     "metadata": {},
     "output_type": "execute_result"
    }
   ],
   "source": [
    "sMAPE_tree_final_mean = sum(predict_tree_final)/len(predict_tree_final)\n",
    "f'Среднее значение функции sMAPE модели дерева для этапа Финальное концентрата {\"{:,.1f}\".format(sMAPE_tree_final_mean)}'"
   ]
  },
  {
   "cell_type": "markdown",
   "metadata": {},
   "source": [
    "#### Вычислю Итоговое sMAPE:"
   ]
  },
  {
   "cell_type": "markdown",
   "metadata": {},
   "source": [
    "**Итоговое sMAPE** = 0.25 * **sMAPE(rougher)** + 0.75 * **sMAPE(final)**"
   ]
  },
  {
   "cell_type": "markdown",
   "metadata": {},
   "source": [
    "##### Для модели случайного леса:"
   ]
  },
  {
   "cell_type": "code",
   "execution_count": 208,
   "metadata": {},
   "outputs": [
    {
     "data": {
      "text/plain": [
       "'Итоговое sMAPE для модели случайного леса 10.1'"
      ]
     },
     "execution_count": 208,
     "metadata": {},
     "output_type": "execute_result"
    }
   ],
   "source": [
    "sMAPE_rf_Final = FINAL_sMAPE(sMAPE_rf_rougher_mean, sMAPE_rf_final_mean)\n",
    "f'Итоговое sMAPE для модели случайного леса {\"{:,.1f}\".format(sMAPE_rf_Final)}'"
   ]
  },
  {
   "cell_type": "markdown",
   "metadata": {},
   "source": [
    "##### Для линейной модели:"
   ]
  },
  {
   "cell_type": "code",
   "execution_count": 209,
   "metadata": {},
   "outputs": [
    {
     "data": {
      "text/plain": [
       "'Итоговое sMAPE для линейной модели 12.5'"
      ]
     },
     "execution_count": 209,
     "metadata": {},
     "output_type": "execute_result"
    }
   ],
   "source": [
    "sMAPE_linear_Final = FINAL_sMAPE(sMAPE_linear_rougher_mean, sMAPE_linear_final_mean)\n",
    "f'Итоговое sMAPE для линейной модели {\"{:,.1f}\".format(sMAPE_linear_Final)}'"
   ]
  },
  {
   "cell_type": "markdown",
   "metadata": {},
   "source": [
    "##### Для модели дерева:"
   ]
  },
  {
   "cell_type": "code",
   "execution_count": 210,
   "metadata": {},
   "outputs": [
    {
     "data": {
      "text/plain": [
       "'Итоговое sMAPE для модели дерева 11.8'"
      ]
     },
     "execution_count": 210,
     "metadata": {},
     "output_type": "execute_result"
    }
   ],
   "source": [
    "sMAPE_tree_Final = FINAL_sMAPE(sMAPE_tree_rougher_mean, sMAPE_tree_final_mean)\n",
    "f'Итоговое sMAPE для модели дерева {\"{:,.1f}\".format(sMAPE_tree_Final)}'"
   ]
  },
  {
   "cell_type": "markdown",
   "metadata": {},
   "source": [
    "Вывод: наилучшие результаты у модели Случайного леса. Проверять на тестовой выборе буду модель Случайного Леса"
   ]
  },
  {
   "cell_type": "markdown",
   "metadata": {},
   "source": [
    "## Проверим результаты на тестовой выборке"
   ]
  },
  {
   "cell_type": "markdown",
   "metadata": {},
   "source": [
    "### Спрогнозируем эффективность обогащения чернового концентрата"
   ]
  },
  {
   "cell_type": "code",
   "execution_count": 211,
   "metadata": {},
   "outputs": [
    {
     "data": {
      "text/plain": [
       "RandomForestRegressor(max_depth=8, max_features='log2', min_samples_leaf=18,\n",
       "                      min_samples_split=39, n_estimators=30,\n",
       "                      random_state=12345)"
      ]
     },
     "execution_count": 211,
     "metadata": {},
     "output_type": "execute_result"
    }
   ],
   "source": [
    "model_rf_best.fit(X_train, y_train_rougher)"
   ]
  },
  {
   "cell_type": "code",
   "execution_count": 212,
   "metadata": {},
   "outputs": [],
   "source": [
    "predict_test_rougher = model_rf_best.predict(X_test)"
   ]
  },
  {
   "cell_type": "code",
   "execution_count": 213,
   "metadata": {
    "scrolled": true
   },
   "outputs": [
    {
     "data": {
      "text/plain": [
       "'Значение функции sMAPE модели случайного леса для этапа Флотация на тестовом датасете 10.3'"
      ]
     },
     "execution_count": 213,
     "metadata": {},
     "output_type": "execute_result"
    }
   ],
   "source": [
    "sMAPE_test_rougher = sMAPE(y_test_rougher, predict_test_rougher)\n",
    "f'Значение функции sMAPE модели случайного леса для этапа Флотация на тестовом датасете {\"{:,.1f}\".format(sMAPE_test_rougher)}'"
   ]
  },
  {
   "cell_type": "markdown",
   "metadata": {},
   "source": [
    "### Спрогнозируем эффективность обогащения финального концентрата"
   ]
  },
  {
   "cell_type": "code",
   "execution_count": 214,
   "metadata": {
    "scrolled": true
   },
   "outputs": [
    {
     "data": {
      "text/plain": [
       "RandomForestRegressor(max_depth=8, max_features='log2', min_samples_leaf=18,\n",
       "                      min_samples_split=39, n_estimators=30,\n",
       "                      random_state=12345)"
      ]
     },
     "execution_count": 214,
     "metadata": {},
     "output_type": "execute_result"
    }
   ],
   "source": [
    "model_rf_best.fit(X_train, y_train_final)"
   ]
  },
  {
   "cell_type": "code",
   "execution_count": 215,
   "metadata": {},
   "outputs": [],
   "source": [
    "predict_test_final = model_rf_best.predict(X_test)"
   ]
  },
  {
   "cell_type": "code",
   "execution_count": 216,
   "metadata": {
    "scrolled": true
   },
   "outputs": [
    {
     "data": {
      "text/plain": [
       "'Значение функции sMAPE модели случайного леса для финального концентрата на тестовом датасете 9.1'"
      ]
     },
     "execution_count": 216,
     "metadata": {},
     "output_type": "execute_result"
    }
   ],
   "source": [
    "sMAPE_test_final = sMAPE(y_test_final, predict_test_final)\n",
    "f'Значение функции sMAPE модели случайного леса для финального концентрата на тестовом датасете {\"{:,.1f}\".format(sMAPE_test_final)}'"
   ]
  },
  {
   "cell_type": "markdown",
   "metadata": {},
   "source": [
    "### Вычислим Итоговое sMAPE:"
   ]
  },
  {
   "cell_type": "code",
   "execution_count": 217,
   "metadata": {},
   "outputs": [
    {
     "data": {
      "text/plain": [
       "'Итоговое sMAPE на тестовом датасете 9.4'"
      ]
     },
     "execution_count": 217,
     "metadata": {},
     "output_type": "execute_result"
    }
   ],
   "source": [
    "sMAPE_Final = FINAL_sMAPE(sMAPE_test_rougher, sMAPE_test_final)\n",
    "f'Итоговое sMAPE на тестовом датасете {\"{:,.1f}\".format(sMAPE_Final)}'"
   ]
  },
  {
   "cell_type": "markdown",
   "metadata": {},
   "source": [
    "### Сравним результаты с константной моделью"
   ]
  },
  {
   "cell_type": "code",
   "execution_count": 218,
   "metadata": {},
   "outputs": [],
   "source": [
    "model_dummy = DummyRegressor(strategy = 'mean')"
   ]
  },
  {
   "cell_type": "code",
   "execution_count": 219,
   "metadata": {},
   "outputs": [
    {
     "data": {
      "text/plain": [
       "DummyRegressor()"
      ]
     },
     "execution_count": 219,
     "metadata": {},
     "output_type": "execute_result"
    }
   ],
   "source": [
    "model_dummy.fit(X_train,y_train_rougher)"
   ]
  },
  {
   "cell_type": "code",
   "execution_count": 220,
   "metadata": {},
   "outputs": [
    {
     "data": {
      "text/plain": [
       "'Значение функции sMAPE константной модели для этапа Флотация на тестовом датасете 10.4'"
      ]
     },
     "execution_count": 220,
     "metadata": {},
     "output_type": "execute_result"
    }
   ],
   "source": [
    "dummy_rougher = sMAPE(y_test_rougher, model_dummy.predict(X_test))\n",
    "f'Значение функции sMAPE константной модели для этапа Флотация на тестовом датасете {\"{:,.1f}\".format(dummy_rougher)}'"
   ]
  },
  {
   "cell_type": "code",
   "execution_count": 221,
   "metadata": {},
   "outputs": [
    {
     "data": {
      "text/plain": [
       "DummyRegressor()"
      ]
     },
     "execution_count": 221,
     "metadata": {},
     "output_type": "execute_result"
    }
   ],
   "source": [
    "model_dummy.fit(X_train,y_train_final)"
   ]
  },
  {
   "cell_type": "code",
   "execution_count": 222,
   "metadata": {},
   "outputs": [
    {
     "data": {
      "text/plain": [
       "'Значение функции sMAPE константной модели для финального концентрата на тестовом датасете 10.3'"
      ]
     },
     "execution_count": 222,
     "metadata": {},
     "output_type": "execute_result"
    }
   ],
   "source": [
    "dummy_final = sMAPE(y_test_final, model_dummy.predict(X_test))\n",
    "f'Значение функции sMAPE константной модели для финального концентрата на тестовом датасете {\"{:,.1f}\".format(dummy_final)}'"
   ]
  },
  {
   "cell_type": "code",
   "execution_count": 223,
   "metadata": {},
   "outputs": [
    {
     "data": {
      "text/plain": [
       "'Итоговое sMAPE константной модели на тестовом датасете 10.3'"
      ]
     },
     "execution_count": 223,
     "metadata": {},
     "output_type": "execute_result"
    }
   ],
   "source": [
    "dummy_sMAPE_final = FINAL_sMAPE(dummy_rougher, dummy_final)\n",
    "f'Итоговое sMAPE константной модели на тестовом датасете {\"{:,.1f}\".format(dummy_sMAPE_final)}'"
   ]
  },
  {
   "cell_type": "markdown",
   "metadata": {},
   "source": [
    "Вывод:  \n",
    "Итоговое значение функции sMAPE *(симметричное среднее абсолютное процентное отклонение)* получили равным **9.4%,**.  \n",
    "Итоговое значение функции sMAPE на константной модели получил **10,3%**. \n",
    "\n",
    "Предсказания, полученные с помощью RandomForest лучше, чем в константной модели.\n"
   ]
  },
  {
   "cell_type": "markdown",
   "metadata": {},
   "source": [
    "## Вывод  "
   ]
  },
  {
   "cell_type": "markdown",
   "metadata": {},
   "source": [
    "В нашем распоряжении были данные, выгруженные из хранилища.  \n",
    "Данные описывают и характеризуют технологический процесс восстановления золота из золотосодержащей руды.  \n",
    "\n",
    "Необходимо было подготовить прототип модели машинного обучения, которая должна предсказать коэффициент восстановления золота из золотосодержащей руды.  \n",
    "\n",
    "Для оценки эффективности будем использовали метрику sMAPE.  \n",
    "\n",
    "В самом начале проекта ознакомились с данными, какие данные содержатся, посмотрел их типы, количество и наличие пропусков.  \n",
    "\n",
    "После чего произвели проверку расчета эффективности обогащения. В результате вычисления средней абсолютной ошибки предсказаний от фактических значений получили крайне малое значение, что говорит о корректном расчете данного показателя в исходных данных.  \n",
    "Далее в тестовые данные были добавлены 2 целевых признака:   \n",
    "- final.output.recovery;  \n",
    "- rougher.output.recovery;  \n",
    "для дальнейшего предсказания эффективности восстановления золота.\n",
    "\n",
    "Провели предобработку данных:\n",
    "- заполнили пропуски методом **KNN Imputer**;\n",
    "- проверили наличие явных дубликатов;\n",
    "- проверили корреляцию **Пирсона**.\n",
    "\n",
    "В рамках анализа данных посмотрели как меняется концентрация металлов на различных этапах очистки, получили:  \n",
    "- количество концентрата AG (Серебро) уменьшается в процессе восстановления золота. Таким образом на этапе **Флотация** данный показатель более чем в 2 раза превышает количество концентрата на этапе **Финальный концентрат**.  \n",
    "- количество концентрата Pb (Свинец) постепенно увеличивается в процессе восстановления золота. Таким образом на этапе **Финальный концентрат** данный показатель более на 31% превышает количество концентрата на этапе **Флотация**.  \n",
    "- количество концентрата Au (Золото) значительно увеличивается в процессе восстановления золота. Таким образом на этапе **Финальный концентрат** данный показатель в 2,2 раза превышает количество концентрата на этапе **Флотация**.  \n",
    "\n",
    "Сравнили распределения размеров гранул сырья на обучающей и тестовой выборках. Получили одинаковый вид распределения, что позволяет проводить дальнейший анализ.  \n",
    "\n",
    "Исследовали суммарную концентрацию всех веществ на разных стадиях: в сырье, в черновом и финальном концентратах. В результате увидели, что на стадиях Сырье и Финальный концентрат суммарная концентрация веществ примерно одинаковая. В черновом концентрате на 12% меньше\n",
    "\n",
    "Перед обучением модели и предсказаниями написали функции расчета метрики качества sMAPE и Итоговое sMAPE.  \n",
    "При обучении модели и проверки предсказаний методом кросс-валидации получили, что наилучший результат показывает модель **Случайного леса** с гиперпараметрами:\n",
    "- max_depth = 8,\n",
    "- max_features = 'log2',\n",
    "- min_samples_leaf = 18,\n",
    "- min_samples_split = 39,\n",
    "- n_estimators = 30}\n",
    "\n",
    "На тренировочных данных получили следующие результаты:  \n",
    "Итоговое sMAPE для модели случайного леса = 10.1%  \n",
    "Итоговое sMAPE для линейной модели = 12.5%  \n",
    "Итоговое sMAPE для модели дерева = 11.8%  \n",
    "\n",
    "\n",
    "При проверке на тестовых данных получили **Итоговое значение функции sMAPE (симметричное среднее абсолютное процентное отклонение)**  равным 9.4%.\n",
    "\n",
    "На константной модели получели значение **10,3%**, что хуже, чем для модели **RandomForest**\n"
   ]
  },
  {
   "cell_type": "code",
   "execution_count": null,
   "metadata": {},
   "outputs": [],
   "source": []
  }
 ],
 "metadata": {
  "ExecuteTimeLog": [
   {
    "duration": 1513,
    "start_time": "2022-11-29T11:53:08.008Z"
   },
   {
    "duration": 147,
    "start_time": "2022-11-29T11:54:04.598Z"
   },
   {
    "duration": 170,
    "start_time": "2022-11-29T11:56:29.284Z"
   },
   {
    "duration": 19,
    "start_time": "2022-11-29T11:56:34.216Z"
   },
   {
    "duration": 51,
    "start_time": "2022-11-29T11:56:40.250Z"
   },
   {
    "duration": 52,
    "start_time": "2022-11-29T11:56:48.156Z"
   },
   {
    "duration": 588,
    "start_time": "2022-11-29T11:58:20.966Z"
   },
   {
    "duration": 1672,
    "start_time": "2022-11-29T11:58:26.376Z"
   },
   {
    "duration": 22,
    "start_time": "2022-11-29T11:58:33.685Z"
   },
   {
    "duration": 20,
    "start_time": "2022-11-29T11:58:37.168Z"
   },
   {
    "duration": 25,
    "start_time": "2022-11-29T11:59:23.816Z"
   },
   {
    "duration": 12,
    "start_time": "2022-11-29T12:00:23.977Z"
   },
   {
    "duration": 23,
    "start_time": "2022-11-29T12:00:29.148Z"
   },
   {
    "duration": 9,
    "start_time": "2022-11-29T12:01:03.788Z"
   },
   {
    "duration": 4,
    "start_time": "2022-11-29T12:01:06.586Z"
   },
   {
    "duration": 248,
    "start_time": "2022-11-29T12:01:16.149Z"
   },
   {
    "duration": 5,
    "start_time": "2022-11-29T12:03:36.267Z"
   },
   {
    "duration": 13,
    "start_time": "2022-11-29T12:04:27.401Z"
   },
   {
    "duration": 5,
    "start_time": "2022-11-29T12:04:43.492Z"
   },
   {
    "duration": 9,
    "start_time": "2022-11-29T12:04:54.227Z"
   },
   {
    "duration": 4,
    "start_time": "2022-11-29T12:05:03.278Z"
   },
   {
    "duration": 3,
    "start_time": "2022-11-29T12:05:13.309Z"
   },
   {
    "duration": 28,
    "start_time": "2022-11-29T12:05:20.406Z"
   },
   {
    "duration": 16,
    "start_time": "2022-11-29T12:05:26.216Z"
   },
   {
    "duration": 14,
    "start_time": "2022-11-29T12:05:29.416Z"
   },
   {
    "duration": 10,
    "start_time": "2022-11-29T12:07:42.875Z"
   },
   {
    "duration": 4,
    "start_time": "2022-11-29T12:07:56.785Z"
   },
   {
    "duration": 3,
    "start_time": "2022-11-29T12:07:59.792Z"
   },
   {
    "duration": 3,
    "start_time": "2022-11-29T12:08:29.926Z"
   },
   {
    "duration": 4,
    "start_time": "2022-11-29T12:08:35.205Z"
   },
   {
    "duration": 8,
    "start_time": "2022-11-29T12:15:55.236Z"
   },
   {
    "duration": 156,
    "start_time": "2022-11-29T12:16:17.626Z"
   },
   {
    "duration": 1623,
    "start_time": "2022-11-29T16:56:53.633Z"
   },
   {
    "duration": 3627,
    "start_time": "2022-11-29T16:56:55.707Z"
   },
   {
    "duration": 4,
    "start_time": "2022-11-29T16:57:04.971Z"
   },
   {
    "duration": 127,
    "start_time": "2022-11-29T17:01:28.821Z"
   },
   {
    "duration": 23,
    "start_time": "2022-11-29T17:01:39.837Z"
   },
   {
    "duration": 1629,
    "start_time": "2022-11-29T20:26:25.595Z"
   },
   {
    "duration": 3144,
    "start_time": "2022-11-29T20:26:27.227Z"
   },
   {
    "duration": 3,
    "start_time": "2022-11-29T20:26:32.850Z"
   },
   {
    "duration": 3,
    "start_time": "2022-11-29T20:27:04.202Z"
   },
   {
    "duration": 2,
    "start_time": "2022-11-29T20:28:09.123Z"
   },
   {
    "duration": 7,
    "start_time": "2022-11-29T20:32:27.295Z"
   },
   {
    "duration": 8,
    "start_time": "2022-11-29T20:32:35.050Z"
   },
   {
    "duration": 4,
    "start_time": "2022-11-29T20:33:47.395Z"
   },
   {
    "duration": 4,
    "start_time": "2022-11-29T20:33:58.162Z"
   },
   {
    "duration": 107,
    "start_time": "2022-11-29T20:34:53.677Z"
   },
   {
    "duration": 3,
    "start_time": "2022-11-29T20:35:37.005Z"
   },
   {
    "duration": 4,
    "start_time": "2022-11-29T20:35:42.224Z"
   },
   {
    "duration": 6,
    "start_time": "2022-11-29T20:35:54.002Z"
   },
   {
    "duration": 5,
    "start_time": "2022-11-29T20:36:08.099Z"
   },
   {
    "duration": 34,
    "start_time": "2022-11-29T20:36:14.339Z"
   },
   {
    "duration": 44,
    "start_time": "2022-11-29T20:36:19.517Z"
   },
   {
    "duration": 18,
    "start_time": "2022-11-29T20:36:23.452Z"
   },
   {
    "duration": 4,
    "start_time": "2022-11-29T20:37:05.909Z"
   },
   {
    "duration": 5,
    "start_time": "2022-11-29T20:37:17.585Z"
   },
   {
    "duration": 5,
    "start_time": "2022-11-29T20:37:28.911Z"
   },
   {
    "duration": 10,
    "start_time": "2022-11-29T20:37:39.649Z"
   },
   {
    "duration": 5,
    "start_time": "2022-11-29T20:37:56.183Z"
   },
   {
    "duration": 4,
    "start_time": "2022-11-29T20:38:03.356Z"
   },
   {
    "duration": 4,
    "start_time": "2022-11-29T20:38:14.848Z"
   },
   {
    "duration": 5,
    "start_time": "2022-11-29T20:38:25.723Z"
   },
   {
    "duration": 3,
    "start_time": "2022-11-29T20:38:36.062Z"
   },
   {
    "duration": 16,
    "start_time": "2022-11-29T20:38:44.971Z"
   },
   {
    "duration": 6,
    "start_time": "2022-11-29T20:39:11.979Z"
   },
   {
    "duration": 5,
    "start_time": "2022-11-29T20:39:18.432Z"
   },
   {
    "duration": 29,
    "start_time": "2022-11-29T20:39:48.350Z"
   },
   {
    "duration": 17,
    "start_time": "2022-11-29T20:40:33.618Z"
   },
   {
    "duration": 8,
    "start_time": "2022-11-29T20:42:29.631Z"
   },
   {
    "duration": 17,
    "start_time": "2022-11-29T20:42:34.053Z"
   },
   {
    "duration": 4,
    "start_time": "2022-11-29T20:42:45.161Z"
   },
   {
    "duration": 4,
    "start_time": "2022-11-29T20:42:47.792Z"
   },
   {
    "duration": 4,
    "start_time": "2022-11-29T20:48:37.004Z"
   },
   {
    "duration": 4,
    "start_time": "2022-11-29T20:48:37.518Z"
   },
   {
    "duration": 3,
    "start_time": "2022-11-29T20:48:52.198Z"
   },
   {
    "duration": 707,
    "start_time": "2022-11-29T20:48:52.207Z"
   },
   {
    "duration": 4,
    "start_time": "2022-11-29T20:48:52.916Z"
   },
   {
    "duration": 6,
    "start_time": "2022-11-29T20:48:53.167Z"
   },
   {
    "duration": 17,
    "start_time": "2022-11-29T20:48:53.175Z"
   },
   {
    "duration": 18,
    "start_time": "2022-11-29T20:48:53.194Z"
   },
   {
    "duration": 12,
    "start_time": "2022-11-29T20:48:53.215Z"
   },
   {
    "duration": 5,
    "start_time": "2022-11-29T20:48:53.229Z"
   },
   {
    "duration": 4,
    "start_time": "2022-11-29T20:48:57.055Z"
   },
   {
    "duration": 3,
    "start_time": "2022-11-29T20:48:57.593Z"
   },
   {
    "duration": 3,
    "start_time": "2022-11-29T20:48:58.090Z"
   },
   {
    "duration": 6,
    "start_time": "2022-11-29T20:51:28.625Z"
   },
   {
    "duration": 8,
    "start_time": "2022-11-29T20:51:31.772Z"
   },
   {
    "duration": 18,
    "start_time": "2022-11-29T20:51:32.547Z"
   },
   {
    "duration": 13,
    "start_time": "2022-11-29T20:51:37.581Z"
   },
   {
    "duration": 4,
    "start_time": "2022-11-29T20:51:38.511Z"
   },
   {
    "duration": 4,
    "start_time": "2022-11-29T20:51:39.142Z"
   },
   {
    "duration": 4,
    "start_time": "2022-11-29T20:51:39.655Z"
   },
   {
    "duration": 6,
    "start_time": "2022-11-29T20:53:24.960Z"
   },
   {
    "duration": 4,
    "start_time": "2022-11-29T20:53:28.802Z"
   },
   {
    "duration": 5,
    "start_time": "2022-11-29T20:53:29.288Z"
   },
   {
    "duration": 3,
    "start_time": "2022-11-29T20:54:29.376Z"
   },
   {
    "duration": 739,
    "start_time": "2022-11-29T20:54:29.384Z"
   },
   {
    "duration": 4,
    "start_time": "2022-11-29T20:54:30.126Z"
   },
   {
    "duration": 8,
    "start_time": "2022-11-29T20:54:32.310Z"
   },
   {
    "duration": 14,
    "start_time": "2022-11-29T20:54:35.875Z"
   },
   {
    "duration": 27,
    "start_time": "2022-11-29T20:54:36.893Z"
   },
   {
    "duration": 6,
    "start_time": "2022-11-29T20:54:50.831Z"
   },
   {
    "duration": 6,
    "start_time": "2022-11-29T20:54:51.209Z"
   },
   {
    "duration": 4,
    "start_time": "2022-11-29T20:55:06.637Z"
   },
   {
    "duration": 5,
    "start_time": "2022-11-29T20:55:07.637Z"
   },
   {
    "duration": 4,
    "start_time": "2022-11-29T20:55:10.038Z"
   },
   {
    "duration": 3,
    "start_time": "2022-11-29T20:57:25.162Z"
   },
   {
    "duration": 14,
    "start_time": "2022-11-29T20:57:26.910Z"
   },
   {
    "duration": 2,
    "start_time": "2022-11-29T20:57:31.024Z"
   },
   {
    "duration": 4,
    "start_time": "2022-11-29T20:57:41.838Z"
   },
   {
    "duration": 6,
    "start_time": "2022-11-29T20:57:51.034Z"
   },
   {
    "duration": 3,
    "start_time": "2022-11-29T21:18:17.339Z"
   },
   {
    "duration": 936,
    "start_time": "2022-11-29T21:21:50.602Z"
   },
   {
    "duration": 866,
    "start_time": "2022-11-29T21:22:11.072Z"
   },
   {
    "duration": 783,
    "start_time": "2022-11-29T21:22:28.915Z"
   },
   {
    "duration": 18,
    "start_time": "2022-11-29T21:22:54.448Z"
   },
   {
    "duration": 771,
    "start_time": "2022-11-29T21:23:18.220Z"
   },
   {
    "duration": 42,
    "start_time": "2022-11-29T21:24:00.906Z"
   },
   {
    "duration": 51,
    "start_time": "2022-11-29T21:24:09.164Z"
   },
   {
    "duration": 44,
    "start_time": "2022-11-29T21:24:14.742Z"
   },
   {
    "duration": 751,
    "start_time": "2022-11-29T21:24:28.147Z"
   },
   {
    "duration": 760,
    "start_time": "2022-11-29T21:24:39.700Z"
   },
   {
    "duration": 44,
    "start_time": "2022-11-29T21:24:59.270Z"
   },
   {
    "duration": 760,
    "start_time": "2022-11-29T21:26:03.597Z"
   },
   {
    "duration": 9,
    "start_time": "2022-11-29T21:26:43.911Z"
   },
   {
    "duration": 3,
    "start_time": "2022-11-29T21:26:53.665Z"
   },
   {
    "duration": 236,
    "start_time": "2022-11-29T21:26:59.002Z"
   },
   {
    "duration": 726,
    "start_time": "2022-11-29T21:31:42.905Z"
   },
   {
    "duration": 67,
    "start_time": "2022-11-29T21:32:02.704Z"
   },
   {
    "duration": 16,
    "start_time": "2022-11-29T21:32:26.368Z"
   },
   {
    "duration": 15,
    "start_time": "2022-11-29T21:32:40.791Z"
   },
   {
    "duration": 14,
    "start_time": "2022-11-29T21:32:55.774Z"
   },
   {
    "duration": 15,
    "start_time": "2022-11-29T21:33:04.080Z"
   },
   {
    "duration": 10,
    "start_time": "2022-11-29T21:33:22.301Z"
   },
   {
    "duration": 7,
    "start_time": "2022-11-29T21:33:36.735Z"
   },
   {
    "duration": 82,
    "start_time": "2022-11-29T21:35:34.979Z"
   },
   {
    "duration": 64,
    "start_time": "2022-11-29T21:35:38.493Z"
   },
   {
    "duration": 82,
    "start_time": "2022-11-29T21:35:41.016Z"
   },
   {
    "duration": 12,
    "start_time": "2022-11-29T21:35:45.893Z"
   },
   {
    "duration": 5,
    "start_time": "2022-11-29T21:38:38.335Z"
   },
   {
    "duration": 11,
    "start_time": "2022-11-29T21:38:55.749Z"
   },
   {
    "duration": 1471,
    "start_time": "2022-11-30T05:24:10.950Z"
   },
   {
    "duration": 1770,
    "start_time": "2022-11-30T05:24:12.423Z"
   },
   {
    "duration": 7,
    "start_time": "2022-11-30T05:24:16.194Z"
   },
   {
    "duration": 19,
    "start_time": "2022-11-30T05:24:16.608Z"
   },
   {
    "duration": 18,
    "start_time": "2022-11-30T05:24:19.322Z"
   },
   {
    "duration": 4,
    "start_time": "2022-11-30T05:24:23.164Z"
   },
   {
    "duration": 9,
    "start_time": "2022-11-30T05:24:23.734Z"
   },
   {
    "duration": 4,
    "start_time": "2022-11-30T05:24:26.262Z"
   },
   {
    "duration": 5,
    "start_time": "2022-11-30T05:24:26.617Z"
   },
   {
    "duration": 5,
    "start_time": "2022-11-30T05:24:30.027Z"
   },
   {
    "duration": 14,
    "start_time": "2022-11-30T05:24:36.494Z"
   },
   {
    "duration": 12,
    "start_time": "2022-11-30T05:24:39.782Z"
   },
   {
    "duration": 3,
    "start_time": "2022-11-30T05:25:21.558Z"
   },
   {
    "duration": 4,
    "start_time": "2022-11-30T05:25:35.387Z"
   },
   {
    "duration": 102,
    "start_time": "2022-11-30T05:29:27.499Z"
   },
   {
    "duration": 9,
    "start_time": "2022-11-30T05:29:56.000Z"
   },
   {
    "duration": 11,
    "start_time": "2022-11-30T05:30:05.228Z"
   },
   {
    "duration": 11,
    "start_time": "2022-11-30T05:30:21.488Z"
   },
   {
    "duration": 10,
    "start_time": "2022-11-30T05:30:48.018Z"
   },
   {
    "duration": 5,
    "start_time": "2022-11-30T05:30:57.326Z"
   },
   {
    "duration": 5,
    "start_time": "2022-11-30T05:31:09.937Z"
   },
   {
    "duration": 1169,
    "start_time": "2022-11-30T05:31:19.688Z"
   },
   {
    "duration": 15,
    "start_time": "2022-11-30T05:31:29.896Z"
   },
   {
    "duration": 16,
    "start_time": "2022-11-30T05:32:17.865Z"
   },
   {
    "duration": 1466,
    "start_time": "2022-11-30T11:36:37.703Z"
   },
   {
    "duration": 1784,
    "start_time": "2022-11-30T11:36:39.171Z"
   },
   {
    "duration": 7,
    "start_time": "2022-11-30T11:36:40.957Z"
   },
   {
    "duration": 17,
    "start_time": "2022-11-30T11:36:40.989Z"
   },
   {
    "duration": 17,
    "start_time": "2022-11-30T11:36:41.253Z"
   },
   {
    "duration": 4,
    "start_time": "2022-11-30T11:36:44.125Z"
   },
   {
    "duration": 5,
    "start_time": "2022-11-30T11:36:45.306Z"
   },
   {
    "duration": 5,
    "start_time": "2022-11-30T11:36:47.471Z"
   },
   {
    "duration": 16,
    "start_time": "2022-11-30T11:36:53.726Z"
   },
   {
    "duration": 15,
    "start_time": "2022-11-30T11:37:42.889Z"
   },
   {
    "duration": 16,
    "start_time": "2022-11-30T11:37:47.401Z"
   },
   {
    "duration": 3,
    "start_time": "2022-11-30T11:37:47.872Z"
   },
   {
    "duration": 5,
    "start_time": "2022-11-30T11:37:48.761Z"
   },
   {
    "duration": 7,
    "start_time": "2022-11-30T11:37:52.150Z"
   },
   {
    "duration": 16,
    "start_time": "2022-11-30T11:37:52.437Z"
   },
   {
    "duration": 2,
    "start_time": "2022-11-30T11:38:31.992Z"
   },
   {
    "duration": 9,
    "start_time": "2022-11-30T11:41:13.122Z"
   },
   {
    "duration": 30,
    "start_time": "2022-11-30T11:43:56.133Z"
   },
   {
    "duration": 9,
    "start_time": "2022-11-30T11:45:40.132Z"
   },
   {
    "duration": 227,
    "start_time": "2022-11-30T11:46:05.152Z"
   },
   {
    "duration": 2,
    "start_time": "2022-11-30T11:46:14.157Z"
   },
   {
    "duration": 3,
    "start_time": "2022-11-30T11:47:04.221Z"
   },
   {
    "duration": 3359,
    "start_time": "2022-11-30T11:47:37.102Z"
   },
   {
    "duration": 4,
    "start_time": "2022-11-30T11:48:10.511Z"
   },
   {
    "duration": 3448,
    "start_time": "2022-11-30T11:49:01.201Z"
   },
   {
    "duration": 8,
    "start_time": "2022-11-30T11:49:24.011Z"
   },
   {
    "duration": 255,
    "start_time": "2022-11-30T11:51:37.812Z"
   },
   {
    "duration": 84,
    "start_time": "2022-11-30T11:52:10.064Z"
   },
   {
    "duration": 8,
    "start_time": "2022-11-30T11:52:21.672Z"
   },
   {
    "duration": 76,
    "start_time": "2022-11-30T11:54:20.900Z"
   },
   {
    "duration": 49,
    "start_time": "2022-11-30T11:54:55.402Z"
   },
   {
    "duration": 558,
    "start_time": "2022-11-30T11:55:06.675Z"
   },
   {
    "duration": 47,
    "start_time": "2022-11-30T11:55:22.198Z"
   },
   {
    "duration": 556,
    "start_time": "2022-11-30T11:55:51.644Z"
   },
   {
    "duration": 689,
    "start_time": "2022-11-30T11:56:10.598Z"
   },
   {
    "duration": 15,
    "start_time": "2022-11-30T11:56:28.361Z"
   },
   {
    "duration": 30,
    "start_time": "2022-11-30T11:56:44.583Z"
   },
   {
    "duration": 16,
    "start_time": "2022-11-30T11:56:51.432Z"
   },
   {
    "duration": 29,
    "start_time": "2022-11-30T11:56:57.085Z"
   },
   {
    "duration": 26,
    "start_time": "2022-11-30T11:57:12.843Z"
   },
   {
    "duration": 5158,
    "start_time": "2022-11-30T11:57:30.510Z"
   },
   {
    "duration": 1823,
    "start_time": "2022-11-30T16:15:50.785Z"
   },
   {
    "duration": 3,
    "start_time": "2022-11-30T16:15:55.360Z"
   },
   {
    "duration": 741,
    "start_time": "2022-11-30T16:15:55.364Z"
   },
   {
    "duration": 6,
    "start_time": "2022-11-30T16:15:57.035Z"
   },
   {
    "duration": 15,
    "start_time": "2022-11-30T16:15:57.344Z"
   },
   {
    "duration": 17,
    "start_time": "2022-11-30T16:15:57.948Z"
   },
   {
    "duration": 4,
    "start_time": "2022-11-30T16:15:58.240Z"
   },
   {
    "duration": 6,
    "start_time": "2022-11-30T16:15:58.423Z"
   },
   {
    "duration": 15,
    "start_time": "2022-11-30T16:15:58.863Z"
   },
   {
    "duration": 32,
    "start_time": "2022-11-30T16:15:58.879Z"
   },
   {
    "duration": 22,
    "start_time": "2022-11-30T16:15:58.913Z"
   },
   {
    "duration": 5,
    "start_time": "2022-11-30T16:15:59.017Z"
   },
   {
    "duration": 17,
    "start_time": "2022-11-30T16:15:59.231Z"
   },
   {
    "duration": 14,
    "start_time": "2022-11-30T16:15:59.296Z"
   },
   {
    "duration": 4,
    "start_time": "2022-11-30T16:15:59.368Z"
   },
   {
    "duration": 4,
    "start_time": "2022-11-30T16:15:59.438Z"
   },
   {
    "duration": 6,
    "start_time": "2022-11-30T16:15:59.509Z"
   },
   {
    "duration": 14,
    "start_time": "2022-11-30T16:15:59.580Z"
   },
   {
    "duration": 8,
    "start_time": "2022-11-30T16:15:59.691Z"
   },
   {
    "duration": 32,
    "start_time": "2022-11-30T16:15:59.768Z"
   },
   {
    "duration": 9,
    "start_time": "2022-11-30T16:15:59.834Z"
   },
   {
    "duration": 3412,
    "start_time": "2022-11-30T16:15:59.904Z"
   },
   {
    "duration": 9,
    "start_time": "2022-11-30T16:16:03.318Z"
   },
   {
    "duration": 5836,
    "start_time": "2022-11-30T16:16:03.329Z"
   },
   {
    "duration": 0,
    "start_time": "2022-11-30T16:16:09.167Z"
   },
   {
    "duration": 5907,
    "start_time": "2022-11-30T16:17:11.658Z"
   },
   {
    "duration": 6247,
    "start_time": "2022-11-30T16:18:03.042Z"
   },
   {
    "duration": 5814,
    "start_time": "2022-11-30T16:24:19.424Z"
   },
   {
    "duration": 17,
    "start_time": "2022-11-30T16:27:35.835Z"
   },
   {
    "duration": 14,
    "start_time": "2022-11-30T16:27:43.901Z"
   },
   {
    "duration": 13632,
    "start_time": "2022-11-30T16:27:55.674Z"
   },
   {
    "duration": 7,
    "start_time": "2022-11-30T16:29:22.887Z"
   },
   {
    "duration": 8,
    "start_time": "2022-11-30T16:29:38.726Z"
   },
   {
    "duration": 13,
    "start_time": "2022-11-30T16:30:13.814Z"
   },
   {
    "duration": 29,
    "start_time": "2022-11-30T16:30:44.410Z"
   },
   {
    "duration": 7,
    "start_time": "2022-11-30T16:31:10.958Z"
   },
   {
    "duration": 185,
    "start_time": "2022-11-30T16:31:54.125Z"
   },
   {
    "duration": 9,
    "start_time": "2022-11-30T16:31:56.452Z"
   },
   {
    "duration": 18379,
    "start_time": "2022-11-30T16:32:11.545Z"
   },
   {
    "duration": 2,
    "start_time": "2022-11-30T16:33:06.693Z"
   },
   {
    "duration": 10,
    "start_time": "2022-11-30T16:34:27.992Z"
   },
   {
    "duration": 3,
    "start_time": "2022-11-30T16:34:34.657Z"
   },
   {
    "duration": 16,
    "start_time": "2022-11-30T16:34:35.255Z"
   },
   {
    "duration": 7,
    "start_time": "2022-11-30T16:35:01.995Z"
   },
   {
    "duration": 6,
    "start_time": "2022-11-30T16:35:08.088Z"
   },
   {
    "duration": 4,
    "start_time": "2022-11-30T16:35:16.019Z"
   },
   {
    "duration": 4,
    "start_time": "2022-11-30T16:35:26.726Z"
   },
   {
    "duration": 4,
    "start_time": "2022-11-30T16:35:31.946Z"
   },
   {
    "duration": 3,
    "start_time": "2022-11-30T16:35:36.162Z"
   },
   {
    "duration": 10,
    "start_time": "2022-11-30T16:35:46.374Z"
   },
   {
    "duration": 4,
    "start_time": "2022-11-30T16:35:56.257Z"
   },
   {
    "duration": 4,
    "start_time": "2022-11-30T16:36:36.355Z"
   },
   {
    "duration": 4,
    "start_time": "2022-11-30T16:37:02.420Z"
   },
   {
    "duration": 14,
    "start_time": "2022-11-30T16:38:03.861Z"
   },
   {
    "duration": 14,
    "start_time": "2022-11-30T16:38:34.667Z"
   },
   {
    "duration": 375,
    "start_time": "2022-11-30T16:38:56.784Z"
   },
   {
    "duration": 28,
    "start_time": "2022-11-30T16:39:01.070Z"
   },
   {
    "duration": 19,
    "start_time": "2022-11-30T16:39:47.494Z"
   },
   {
    "duration": 144,
    "start_time": "2022-11-30T16:39:51.201Z"
   },
   {
    "duration": 1923,
    "start_time": "2022-11-30T20:24:02.312Z"
   },
   {
    "duration": 3,
    "start_time": "2022-11-30T20:25:54.609Z"
   },
   {
    "duration": 132,
    "start_time": "2022-11-30T20:33:51.255Z"
   },
   {
    "duration": 17,
    "start_time": "2022-11-30T20:33:57.488Z"
   },
   {
    "duration": 6,
    "start_time": "2022-11-30T20:34:12.923Z"
   },
   {
    "duration": 2736,
    "start_time": "2022-11-30T20:34:13.555Z"
   },
   {
    "duration": 7,
    "start_time": "2022-11-30T20:34:18.332Z"
   },
   {
    "duration": 23,
    "start_time": "2022-11-30T20:34:18.586Z"
   },
   {
    "duration": 25,
    "start_time": "2022-11-30T20:34:18.798Z"
   },
   {
    "duration": 3,
    "start_time": "2022-11-30T20:34:20.459Z"
   },
   {
    "duration": 6,
    "start_time": "2022-11-30T20:34:20.647Z"
   },
   {
    "duration": 6,
    "start_time": "2022-11-30T20:34:21.297Z"
   },
   {
    "duration": 35,
    "start_time": "2022-11-30T20:34:22.758Z"
   },
   {
    "duration": 15,
    "start_time": "2022-11-30T20:34:23.110Z"
   },
   {
    "duration": 3,
    "start_time": "2022-11-30T20:34:23.952Z"
   },
   {
    "duration": 4,
    "start_time": "2022-11-30T20:34:24.141Z"
   },
   {
    "duration": 7,
    "start_time": "2022-11-30T20:34:24.539Z"
   },
   {
    "duration": 16,
    "start_time": "2022-11-30T20:34:25.549Z"
   },
   {
    "duration": 9,
    "start_time": "2022-11-30T20:34:27.050Z"
   },
   {
    "duration": 30,
    "start_time": "2022-11-30T20:34:27.424Z"
   },
   {
    "duration": 8,
    "start_time": "2022-11-30T20:34:28.386Z"
   },
   {
    "duration": 3534,
    "start_time": "2022-11-30T20:34:28.855Z"
   },
   {
    "duration": 11,
    "start_time": "2022-11-30T20:34:32.391Z"
   },
   {
    "duration": 13,
    "start_time": "2022-11-30T20:34:32.405Z"
   },
   {
    "duration": 32,
    "start_time": "2022-11-30T20:34:32.420Z"
   },
   {
    "duration": 7,
    "start_time": "2022-11-30T20:34:35.340Z"
   },
   {
    "duration": 34,
    "start_time": "2022-11-30T20:34:37.311Z"
   },
   {
    "duration": 11,
    "start_time": "2022-11-30T20:34:37.571Z"
   },
   {
    "duration": 11,
    "start_time": "2022-11-30T20:34:50.284Z"
   },
   {
    "duration": 8,
    "start_time": "2022-11-30T20:35:47.535Z"
   },
   {
    "duration": 10,
    "start_time": "2022-11-30T20:35:48.667Z"
   },
   {
    "duration": 7,
    "start_time": "2022-11-30T20:36:02.264Z"
   },
   {
    "duration": 195,
    "start_time": "2022-11-30T20:36:02.908Z"
   },
   {
    "duration": 165,
    "start_time": "2022-11-30T20:36:12.214Z"
   },
   {
    "duration": 181,
    "start_time": "2022-11-30T20:37:24.258Z"
   },
   {
    "duration": 179,
    "start_time": "2022-11-30T20:37:39.428Z"
   },
   {
    "duration": 188,
    "start_time": "2022-11-30T20:38:26.999Z"
   },
   {
    "duration": 188,
    "start_time": "2022-11-30T20:38:47.923Z"
   },
   {
    "duration": 195,
    "start_time": "2022-11-30T20:39:24.522Z"
   },
   {
    "duration": 3,
    "start_time": "2022-11-30T20:40:41.982Z"
   },
   {
    "duration": 177,
    "start_time": "2022-11-30T20:40:54.292Z"
   },
   {
    "duration": 161,
    "start_time": "2022-11-30T20:41:16.341Z"
   },
   {
    "duration": 6,
    "start_time": "2022-11-30T20:41:33.046Z"
   },
   {
    "duration": 4,
    "start_time": "2022-11-30T20:42:26.022Z"
   },
   {
    "duration": 10,
    "start_time": "2022-11-30T20:49:29.310Z"
   },
   {
    "duration": 15,
    "start_time": "2022-11-30T20:54:34.275Z"
   },
   {
    "duration": 4,
    "start_time": "2022-11-30T20:54:39.018Z"
   },
   {
    "duration": 9,
    "start_time": "2022-11-30T20:54:39.487Z"
   },
   {
    "duration": 7,
    "start_time": "2022-11-30T20:56:24.504Z"
   },
   {
    "duration": 10,
    "start_time": "2022-11-30T20:56:57.500Z"
   },
   {
    "duration": 13,
    "start_time": "2022-11-30T20:57:05.475Z"
   },
   {
    "duration": 10,
    "start_time": "2022-11-30T20:57:12.332Z"
   },
   {
    "duration": 3,
    "start_time": "2022-11-30T20:58:59.436Z"
   },
   {
    "duration": 3,
    "start_time": "2022-11-30T20:59:35.658Z"
   },
   {
    "duration": 16,
    "start_time": "2022-11-30T21:04:54.278Z"
   },
   {
    "duration": 19,
    "start_time": "2022-11-30T21:05:06.268Z"
   },
   {
    "duration": 270,
    "start_time": "2022-11-30T21:05:33.055Z"
   },
   {
    "duration": 253,
    "start_time": "2022-11-30T21:05:55.198Z"
   },
   {
    "duration": 202,
    "start_time": "2022-11-30T21:06:26.586Z"
   },
   {
    "duration": 373,
    "start_time": "2022-11-30T21:06:36.103Z"
   },
   {
    "duration": 12,
    "start_time": "2022-11-30T21:07:46.436Z"
   },
   {
    "duration": 3,
    "start_time": "2022-11-30T21:08:15.705Z"
   },
   {
    "duration": 203,
    "start_time": "2022-11-30T21:08:22.527Z"
   },
   {
    "duration": 198,
    "start_time": "2022-11-30T21:08:27.120Z"
   },
   {
    "duration": 366,
    "start_time": "2022-11-30T21:08:31.359Z"
   },
   {
    "duration": 222,
    "start_time": "2022-11-30T21:08:45.661Z"
   },
   {
    "duration": 199,
    "start_time": "2022-11-30T21:09:14.086Z"
   },
   {
    "duration": 210,
    "start_time": "2022-11-30T21:09:21.769Z"
   },
   {
    "duration": 204,
    "start_time": "2022-11-30T21:10:12.043Z"
   },
   {
    "duration": 213,
    "start_time": "2022-11-30T21:10:20.845Z"
   },
   {
    "duration": 188,
    "start_time": "2022-11-30T21:10:48.049Z"
   },
   {
    "duration": 208,
    "start_time": "2022-11-30T21:10:56.445Z"
   },
   {
    "duration": 203,
    "start_time": "2022-11-30T21:11:48.831Z"
   },
   {
    "duration": 220,
    "start_time": "2022-11-30T21:11:53.800Z"
   },
   {
    "duration": 268,
    "start_time": "2022-11-30T21:12:13.831Z"
   },
   {
    "duration": 209,
    "start_time": "2022-11-30T21:12:39.662Z"
   },
   {
    "duration": 272,
    "start_time": "2022-11-30T21:12:44.651Z"
   },
   {
    "duration": 248,
    "start_time": "2022-11-30T21:13:25.448Z"
   },
   {
    "duration": 11,
    "start_time": "2022-11-30T21:15:18.695Z"
   },
   {
    "duration": 3,
    "start_time": "2022-11-30T21:15:23.414Z"
   },
   {
    "duration": 252,
    "start_time": "2022-11-30T21:15:23.819Z"
   },
   {
    "duration": 247,
    "start_time": "2022-11-30T21:15:42.926Z"
   },
   {
    "duration": 538,
    "start_time": "2022-11-30T21:15:55.746Z"
   },
   {
    "duration": 3,
    "start_time": "2022-11-30T21:17:19.170Z"
   },
   {
    "duration": 289,
    "start_time": "2022-11-30T21:17:30.877Z"
   },
   {
    "duration": 258,
    "start_time": "2022-11-30T21:18:55.543Z"
   },
   {
    "duration": 57,
    "start_time": "2022-11-30T21:19:13.469Z"
   },
   {
    "duration": 61,
    "start_time": "2022-11-30T21:19:30.639Z"
   },
   {
    "duration": 266,
    "start_time": "2022-11-30T21:19:38.003Z"
   },
   {
    "duration": 265,
    "start_time": "2022-11-30T21:20:05.696Z"
   },
   {
    "duration": 280,
    "start_time": "2022-11-30T21:20:30.143Z"
   },
   {
    "duration": 289,
    "start_time": "2022-11-30T21:20:37.783Z"
   },
   {
    "duration": 1994,
    "start_time": "2022-12-01T05:20:38.786Z"
   },
   {
    "duration": 2297,
    "start_time": "2022-12-01T05:20:40.782Z"
   },
   {
    "duration": 8,
    "start_time": "2022-12-01T05:20:43.081Z"
   },
   {
    "duration": 19,
    "start_time": "2022-12-01T05:20:43.091Z"
   },
   {
    "duration": 21,
    "start_time": "2022-12-01T05:20:43.112Z"
   },
   {
    "duration": 4,
    "start_time": "2022-12-01T05:20:43.135Z"
   },
   {
    "duration": 7,
    "start_time": "2022-12-01T05:20:43.141Z"
   },
   {
    "duration": 7,
    "start_time": "2022-12-01T05:20:43.150Z"
   },
   {
    "duration": 27,
    "start_time": "2022-12-01T05:20:43.159Z"
   },
   {
    "duration": 42,
    "start_time": "2022-12-01T05:20:43.189Z"
   },
   {
    "duration": 3,
    "start_time": "2022-12-01T05:20:43.233Z"
   },
   {
    "duration": 9,
    "start_time": "2022-12-01T05:20:43.238Z"
   },
   {
    "duration": 7,
    "start_time": "2022-12-01T05:20:43.249Z"
   },
   {
    "duration": 16,
    "start_time": "2022-12-01T05:20:43.258Z"
   },
   {
    "duration": 9,
    "start_time": "2022-12-01T05:20:43.276Z"
   },
   {
    "duration": 58,
    "start_time": "2022-12-01T05:20:43.287Z"
   },
   {
    "duration": 9,
    "start_time": "2022-12-01T05:20:43.347Z"
   },
   {
    "duration": 3467,
    "start_time": "2022-12-01T05:20:43.358Z"
   },
   {
    "duration": 8,
    "start_time": "2022-12-01T05:20:46.827Z"
   },
   {
    "duration": 8,
    "start_time": "2022-12-01T05:20:46.837Z"
   },
   {
    "duration": 29,
    "start_time": "2022-12-01T05:20:46.847Z"
   },
   {
    "duration": 8,
    "start_time": "2022-12-01T05:20:46.878Z"
   },
   {
    "duration": 241,
    "start_time": "2022-12-01T05:20:46.887Z"
   },
   {
    "duration": 2,
    "start_time": "2022-12-01T05:20:47.130Z"
   },
   {
    "duration": 286,
    "start_time": "2022-12-01T05:20:47.134Z"
   },
   {
    "duration": 3,
    "start_time": "2022-12-01T05:20:47.421Z"
   },
   {
    "duration": 291,
    "start_time": "2022-12-01T05:20:47.425Z"
   },
   {
    "duration": 3,
    "start_time": "2022-12-01T05:20:47.721Z"
   },
   {
    "duration": 281,
    "start_time": "2022-12-01T05:20:47.726Z"
   },
   {
    "duration": 123,
    "start_time": "2022-12-01T05:21:14.964Z"
   },
   {
    "duration": 475,
    "start_time": "2022-12-01T05:21:38.624Z"
   },
   {
    "duration": 163,
    "start_time": "2022-12-01T05:22:05.800Z"
   },
   {
    "duration": 195,
    "start_time": "2022-12-01T05:23:21.553Z"
   },
   {
    "duration": 158,
    "start_time": "2022-12-01T05:23:55.046Z"
   },
   {
    "duration": 236,
    "start_time": "2022-12-01T05:24:01.120Z"
   },
   {
    "duration": 167,
    "start_time": "2022-12-01T05:24:19.970Z"
   },
   {
    "duration": 166,
    "start_time": "2022-12-01T05:24:58.709Z"
   },
   {
    "duration": 364,
    "start_time": "2022-12-01T05:25:04.125Z"
   },
   {
    "duration": 162,
    "start_time": "2022-12-01T05:25:12.497Z"
   },
   {
    "duration": 166,
    "start_time": "2022-12-01T05:25:22.045Z"
   },
   {
    "duration": 153,
    "start_time": "2022-12-01T05:25:39.051Z"
   },
   {
    "duration": 3,
    "start_time": "2022-12-01T05:26:18.592Z"
   },
   {
    "duration": 163,
    "start_time": "2022-12-01T05:26:24.931Z"
   },
   {
    "duration": 4,
    "start_time": "2022-12-01T05:26:33.175Z"
   },
   {
    "duration": 636,
    "start_time": "2022-12-01T05:26:33.183Z"
   },
   {
    "duration": 7,
    "start_time": "2022-12-01T05:26:33.821Z"
   },
   {
    "duration": 29,
    "start_time": "2022-12-01T05:26:33.830Z"
   },
   {
    "duration": 17,
    "start_time": "2022-12-01T05:26:33.861Z"
   },
   {
    "duration": 4,
    "start_time": "2022-12-01T05:26:33.880Z"
   },
   {
    "duration": 14,
    "start_time": "2022-12-01T05:26:33.886Z"
   },
   {
    "duration": 22,
    "start_time": "2022-12-01T05:26:33.901Z"
   },
   {
    "duration": 25,
    "start_time": "2022-12-01T05:26:33.925Z"
   },
   {
    "duration": 15,
    "start_time": "2022-12-01T05:26:33.951Z"
   },
   {
    "duration": 4,
    "start_time": "2022-12-01T05:26:33.969Z"
   },
   {
    "duration": 13,
    "start_time": "2022-12-01T05:26:33.974Z"
   },
   {
    "duration": 12,
    "start_time": "2022-12-01T05:26:33.989Z"
   },
   {
    "duration": 26,
    "start_time": "2022-12-01T05:26:34.021Z"
   },
   {
    "duration": 20,
    "start_time": "2022-12-01T05:26:34.049Z"
   },
   {
    "duration": 37,
    "start_time": "2022-12-01T05:26:34.071Z"
   },
   {
    "duration": 19,
    "start_time": "2022-12-01T05:26:34.110Z"
   },
   {
    "duration": 3538,
    "start_time": "2022-12-01T05:26:34.131Z"
   },
   {
    "duration": 7,
    "start_time": "2022-12-01T05:26:37.671Z"
   },
   {
    "duration": 7,
    "start_time": "2022-12-01T05:26:37.680Z"
   },
   {
    "duration": 43,
    "start_time": "2022-12-01T05:26:37.688Z"
   },
   {
    "duration": 6,
    "start_time": "2022-12-01T05:26:37.733Z"
   },
   {
    "duration": 189,
    "start_time": "2022-12-01T05:26:37.741Z"
   },
   {
    "duration": 3,
    "start_time": "2022-12-01T05:26:37.932Z"
   },
   {
    "duration": 268,
    "start_time": "2022-12-01T05:26:37.936Z"
   },
   {
    "duration": 2,
    "start_time": "2022-12-01T05:26:38.206Z"
   },
   {
    "duration": 260,
    "start_time": "2022-12-01T05:26:38.210Z"
   },
   {
    "duration": 3,
    "start_time": "2022-12-01T05:26:38.472Z"
   },
   {
    "duration": 281,
    "start_time": "2022-12-01T05:26:38.477Z"
   },
   {
    "duration": 159,
    "start_time": "2022-12-01T05:27:08.882Z"
   },
   {
    "duration": 195,
    "start_time": "2022-12-01T05:27:29.332Z"
   },
   {
    "duration": 282,
    "start_time": "2022-12-01T05:27:37.910Z"
   },
   {
    "duration": 232,
    "start_time": "2022-12-01T05:27:46.801Z"
   },
   {
    "duration": 198,
    "start_time": "2022-12-01T05:27:51.943Z"
   },
   {
    "duration": 147,
    "start_time": "2022-12-01T05:28:08.228Z"
   },
   {
    "duration": 145,
    "start_time": "2022-12-01T05:28:15.363Z"
   },
   {
    "duration": 225,
    "start_time": "2022-12-01T05:28:19.118Z"
   },
   {
    "duration": 321,
    "start_time": "2022-12-01T05:28:24.008Z"
   },
   {
    "duration": 175,
    "start_time": "2022-12-01T05:28:50.173Z"
   },
   {
    "duration": 1170,
    "start_time": "2022-12-01T05:30:53.792Z"
   },
   {
    "duration": 75,
    "start_time": "2022-12-01T05:33:35.667Z"
   },
   {
    "duration": 77,
    "start_time": "2022-12-01T05:34:10.523Z"
   },
   {
    "duration": 169,
    "start_time": "2022-12-01T05:34:11.427Z"
   },
   {
    "duration": 744,
    "start_time": "2022-12-01T05:34:27.489Z"
   },
   {
    "duration": 1128,
    "start_time": "2022-12-01T05:35:47.775Z"
   },
   {
    "duration": 184,
    "start_time": "2022-12-01T05:35:48.905Z"
   },
   {
    "duration": 4110,
    "start_time": "2022-12-01T15:52:58.145Z"
   },
   {
    "duration": 10775,
    "start_time": "2022-12-01T15:53:02.258Z"
   },
   {
    "duration": 9,
    "start_time": "2022-12-01T15:53:13.035Z"
   },
   {
    "duration": 139,
    "start_time": "2022-12-01T15:53:13.047Z"
   },
   {
    "duration": 56,
    "start_time": "2022-12-01T15:53:13.190Z"
   },
   {
    "duration": 133,
    "start_time": "2022-12-01T15:53:13.253Z"
   },
   {
    "duration": 101,
    "start_time": "2022-12-01T15:53:13.393Z"
   },
   {
    "duration": 86,
    "start_time": "2022-12-01T15:53:13.496Z"
   },
   {
    "duration": 52,
    "start_time": "2022-12-01T15:53:13.587Z"
   },
   {
    "duration": 149,
    "start_time": "2022-12-01T15:53:13.646Z"
   },
   {
    "duration": 201,
    "start_time": "2022-12-01T15:53:13.803Z"
   },
   {
    "duration": 136,
    "start_time": "2022-12-01T15:53:14.018Z"
   },
   {
    "duration": 31,
    "start_time": "2022-12-01T15:53:14.160Z"
   },
   {
    "duration": 149,
    "start_time": "2022-12-01T15:53:14.198Z"
   },
   {
    "duration": 95,
    "start_time": "2022-12-01T15:53:14.357Z"
   },
   {
    "duration": 66,
    "start_time": "2022-12-01T15:53:14.459Z"
   },
   {
    "duration": 13,
    "start_time": "2022-12-01T15:53:14.527Z"
   },
   {
    "duration": 5615,
    "start_time": "2022-12-01T15:53:14.542Z"
   },
   {
    "duration": 16,
    "start_time": "2022-12-01T15:53:20.160Z"
   },
   {
    "duration": 139,
    "start_time": "2022-12-01T15:53:20.182Z"
   },
   {
    "duration": 59,
    "start_time": "2022-12-01T15:53:20.328Z"
   },
   {
    "duration": 70,
    "start_time": "2022-12-01T15:53:20.394Z"
   },
   {
    "duration": 165,
    "start_time": "2022-12-01T15:53:20.471Z"
   },
   {
    "duration": 21,
    "start_time": "2022-12-01T15:53:20.647Z"
   },
   {
    "duration": 441,
    "start_time": "2022-12-01T15:53:20.671Z"
   },
   {
    "duration": 4,
    "start_time": "2022-12-01T15:53:21.115Z"
   },
   {
    "duration": 437,
    "start_time": "2022-12-01T15:53:21.121Z"
   },
   {
    "duration": 5,
    "start_time": "2022-12-01T15:53:21.563Z"
   },
   {
    "duration": 316,
    "start_time": "2022-12-01T15:53:21.572Z"
   },
   {
    "duration": 1829,
    "start_time": "2022-12-01T15:53:21.890Z"
   },
   {
    "duration": 266,
    "start_time": "2022-12-01T15:53:23.721Z"
   },
   {
    "duration": 46,
    "start_time": "2022-12-01T15:59:23.818Z"
   },
   {
    "duration": 4,
    "start_time": "2022-12-01T15:59:32.722Z"
   },
   {
    "duration": 214,
    "start_time": "2022-12-01T16:03:05.347Z"
   },
   {
    "duration": 19,
    "start_time": "2022-12-01T16:03:12.775Z"
   },
   {
    "duration": 17,
    "start_time": "2022-12-01T16:03:23.302Z"
   },
   {
    "duration": 16,
    "start_time": "2022-12-01T16:03:44.345Z"
   },
   {
    "duration": 24,
    "start_time": "2022-12-01T16:03:55.885Z"
   },
   {
    "duration": 15,
    "start_time": "2022-12-01T16:04:03.000Z"
   },
   {
    "duration": 17,
    "start_time": "2022-12-01T16:04:26.406Z"
   },
   {
    "duration": 15,
    "start_time": "2022-12-01T16:05:29.372Z"
   },
   {
    "duration": 13,
    "start_time": "2022-12-01T16:05:55.432Z"
   },
   {
    "duration": 496,
    "start_time": "2022-12-01T16:10:45.649Z"
   },
   {
    "duration": 400,
    "start_time": "2022-12-01T16:12:00.182Z"
   },
   {
    "duration": 314,
    "start_time": "2022-12-01T16:12:16.834Z"
   },
   {
    "duration": 325,
    "start_time": "2022-12-01T16:12:49.881Z"
   },
   {
    "duration": 241,
    "start_time": "2022-12-01T16:13:10.707Z"
   },
   {
    "duration": 247,
    "start_time": "2022-12-01T16:14:30.137Z"
   },
   {
    "duration": 298,
    "start_time": "2022-12-01T16:14:48.157Z"
   },
   {
    "duration": 257,
    "start_time": "2022-12-01T16:15:01.468Z"
   },
   {
    "duration": 169,
    "start_time": "2022-12-01T16:15:10.915Z"
   },
   {
    "duration": 27,
    "start_time": "2022-12-01T16:15:51.882Z"
   },
   {
    "duration": 1980,
    "start_time": "2022-12-01T19:43:17.795Z"
   },
   {
    "duration": 2729,
    "start_time": "2022-12-01T19:43:19.777Z"
   },
   {
    "duration": 7,
    "start_time": "2022-12-01T19:43:22.508Z"
   },
   {
    "duration": 20,
    "start_time": "2022-12-01T19:43:22.517Z"
   },
   {
    "duration": 19,
    "start_time": "2022-12-01T19:43:22.538Z"
   },
   {
    "duration": 4,
    "start_time": "2022-12-01T19:43:22.559Z"
   },
   {
    "duration": 10,
    "start_time": "2022-12-01T19:43:22.565Z"
   },
   {
    "duration": 37,
    "start_time": "2022-12-01T19:43:22.576Z"
   },
   {
    "duration": 20,
    "start_time": "2022-12-01T19:43:22.616Z"
   },
   {
    "duration": 14,
    "start_time": "2022-12-01T19:43:22.639Z"
   },
   {
    "duration": 5,
    "start_time": "2022-12-01T19:43:22.655Z"
   },
   {
    "duration": 10,
    "start_time": "2022-12-01T19:43:22.661Z"
   },
   {
    "duration": 7,
    "start_time": "2022-12-01T19:43:22.673Z"
   },
   {
    "duration": 44,
    "start_time": "2022-12-01T19:43:22.682Z"
   },
   {
    "duration": 7,
    "start_time": "2022-12-01T19:43:22.728Z"
   },
   {
    "duration": 35,
    "start_time": "2022-12-01T19:43:22.736Z"
   },
   {
    "duration": 8,
    "start_time": "2022-12-01T19:43:22.773Z"
   },
   {
    "duration": 3682,
    "start_time": "2022-12-01T19:43:22.813Z"
   },
   {
    "duration": 14,
    "start_time": "2022-12-01T19:43:26.498Z"
   },
   {
    "duration": 25,
    "start_time": "2022-12-01T19:43:26.515Z"
   },
   {
    "duration": 49,
    "start_time": "2022-12-01T19:43:26.542Z"
   },
   {
    "duration": 8,
    "start_time": "2022-12-01T19:43:26.593Z"
   },
   {
    "duration": 232,
    "start_time": "2022-12-01T19:43:26.603Z"
   },
   {
    "duration": 4,
    "start_time": "2022-12-01T19:43:26.837Z"
   },
   {
    "duration": 317,
    "start_time": "2022-12-01T19:43:26.842Z"
   },
   {
    "duration": 3,
    "start_time": "2022-12-01T19:43:27.162Z"
   },
   {
    "duration": 293,
    "start_time": "2022-12-01T19:43:27.167Z"
   },
   {
    "duration": 2,
    "start_time": "2022-12-01T19:43:27.463Z"
   },
   {
    "duration": 273,
    "start_time": "2022-12-01T19:43:27.467Z"
   },
   {
    "duration": 1307,
    "start_time": "2022-12-01T19:43:27.742Z"
   },
   {
    "duration": 181,
    "start_time": "2022-12-01T19:43:29.051Z"
   },
   {
    "duration": 3,
    "start_time": "2022-12-01T19:43:29.233Z"
   },
   {
    "duration": 184,
    "start_time": "2022-12-01T19:43:29.238Z"
   },
   {
    "duration": 47,
    "start_time": "2022-12-01T19:49:54.543Z"
   },
   {
    "duration": 171,
    "start_time": "2022-12-01T19:49:59.564Z"
   },
   {
    "duration": 174,
    "start_time": "2022-12-01T19:50:18.610Z"
   },
   {
    "duration": 144,
    "start_time": "2022-12-01T19:50:44.088Z"
   },
   {
    "duration": 126,
    "start_time": "2022-12-01T19:50:52.799Z"
   },
   {
    "duration": 199,
    "start_time": "2022-12-01T19:50:57.827Z"
   },
   {
    "duration": 389,
    "start_time": "2022-12-01T19:51:07.143Z"
   },
   {
    "duration": 230,
    "start_time": "2022-12-01T19:51:18.551Z"
   },
   {
    "duration": 11,
    "start_time": "2022-12-01T19:51:22.087Z"
   },
   {
    "duration": 18,
    "start_time": "2022-12-01T19:51:30.548Z"
   },
   {
    "duration": 15,
    "start_time": "2022-12-01T19:51:58.813Z"
   },
   {
    "duration": 15,
    "start_time": "2022-12-01T19:52:21.847Z"
   },
   {
    "duration": 13,
    "start_time": "2022-12-01T19:52:58.412Z"
   },
   {
    "duration": 20,
    "start_time": "2022-12-01T19:53:10.757Z"
   },
   {
    "duration": 23,
    "start_time": "2022-12-01T19:55:26.198Z"
   },
   {
    "duration": 22,
    "start_time": "2022-12-01T19:55:42.899Z"
   },
   {
    "duration": 12,
    "start_time": "2022-12-01T19:57:25.463Z"
   },
   {
    "duration": 14,
    "start_time": "2022-12-01T19:57:56.201Z"
   },
   {
    "duration": 5,
    "start_time": "2022-12-01T20:08:06.865Z"
   },
   {
    "duration": 3,
    "start_time": "2022-12-01T20:10:28.242Z"
   },
   {
    "duration": 4,
    "start_time": "2022-12-01T20:28:31.446Z"
   },
   {
    "duration": 4,
    "start_time": "2022-12-01T20:28:44.374Z"
   },
   {
    "duration": 13,
    "start_time": "2022-12-01T20:35:43.241Z"
   },
   {
    "duration": 5,
    "start_time": "2022-12-01T20:35:59.998Z"
   },
   {
    "duration": 6,
    "start_time": "2022-12-01T20:36:05.983Z"
   },
   {
    "duration": 12,
    "start_time": "2022-12-01T20:36:47.809Z"
   },
   {
    "duration": 12,
    "start_time": "2022-12-01T20:37:00.790Z"
   },
   {
    "duration": 4,
    "start_time": "2022-12-01T20:37:32.991Z"
   },
   {
    "duration": 45,
    "start_time": "2022-12-01T20:37:42.854Z"
   },
   {
    "duration": 4,
    "start_time": "2022-12-01T20:37:47.402Z"
   },
   {
    "duration": 4,
    "start_time": "2022-12-01T20:38:06.163Z"
   },
   {
    "duration": 3,
    "start_time": "2022-12-01T20:38:06.743Z"
   },
   {
    "duration": 3,
    "start_time": "2022-12-01T20:38:41.203Z"
   },
   {
    "duration": 14,
    "start_time": "2022-12-01T20:38:42.375Z"
   },
   {
    "duration": 5,
    "start_time": "2022-12-01T20:39:33.430Z"
   },
   {
    "duration": 4,
    "start_time": "2022-12-01T20:39:38.771Z"
   },
   {
    "duration": 3,
    "start_time": "2022-12-01T20:40:00.728Z"
   },
   {
    "duration": 8,
    "start_time": "2022-12-01T20:40:01.212Z"
   },
   {
    "duration": 3,
    "start_time": "2022-12-01T20:41:08.333Z"
   },
   {
    "duration": 3,
    "start_time": "2022-12-01T20:41:16.083Z"
   },
   {
    "duration": 3,
    "start_time": "2022-12-01T20:43:46.145Z"
   },
   {
    "duration": 7,
    "start_time": "2022-12-01T20:44:12.142Z"
   },
   {
    "duration": 1751,
    "start_time": "2022-12-01T20:44:33.328Z"
   },
   {
    "duration": 11,
    "start_time": "2022-12-01T20:46:37.322Z"
   },
   {
    "duration": 35,
    "start_time": "2022-12-01T20:46:58.674Z"
   },
   {
    "duration": 4,
    "start_time": "2022-12-01T20:47:14.288Z"
   },
   {
    "duration": 3,
    "start_time": "2022-12-01T20:47:14.664Z"
   },
   {
    "duration": 6,
    "start_time": "2022-12-01T20:47:14.931Z"
   },
   {
    "duration": 1803,
    "start_time": "2022-12-01T20:47:15.403Z"
   },
   {
    "duration": 36,
    "start_time": "2022-12-01T20:47:49.415Z"
   },
   {
    "duration": 8,
    "start_time": "2022-12-01T20:48:08.524Z"
   },
   {
    "duration": 1839,
    "start_time": "2022-12-01T20:48:26.440Z"
   },
   {
    "duration": 4,
    "start_time": "2022-12-01T20:49:53.680Z"
   },
   {
    "duration": 56,
    "start_time": "2022-12-01T20:50:01.255Z"
   },
   {
    "duration": 7,
    "start_time": "2022-12-01T20:50:09.423Z"
   },
   {
    "duration": 3,
    "start_time": "2022-12-01T20:50:10.754Z"
   },
   {
    "duration": 236047,
    "start_time": "2022-12-01T20:50:18.494Z"
   },
   {
    "duration": 5,
    "start_time": "2022-12-01T20:54:14.544Z"
   },
   {
    "duration": 28,
    "start_time": "2022-12-01T20:54:14.551Z"
   },
   {
    "duration": 2800,
    "start_time": "2022-12-01T20:54:14.582Z"
   },
   {
    "duration": 2170,
    "start_time": "2022-12-01T20:55:26.514Z"
   },
   {
    "duration": 2024,
    "start_time": "2022-12-01T20:56:43.681Z"
   },
   {
    "duration": 17,
    "start_time": "2022-12-01T20:57:02.270Z"
   },
   {
    "duration": 2288,
    "start_time": "2022-12-01T20:57:47.340Z"
   },
   {
    "duration": 144,
    "start_time": "2022-12-01T20:58:56.892Z"
   },
   {
    "duration": 106,
    "start_time": "2022-12-01T20:59:08.977Z"
   },
   {
    "duration": 213,
    "start_time": "2022-12-01T20:59:41.588Z"
   },
   {
    "duration": 10,
    "start_time": "2022-12-01T21:02:30.408Z"
   },
   {
    "duration": 2470,
    "start_time": "2022-12-03T11:49:13.840Z"
   },
   {
    "duration": 2639,
    "start_time": "2022-12-03T11:49:16.312Z"
   },
   {
    "duration": 8,
    "start_time": "2022-12-03T11:49:18.953Z"
   },
   {
    "duration": 19,
    "start_time": "2022-12-03T11:49:18.963Z"
   },
   {
    "duration": 72,
    "start_time": "2022-12-03T11:49:18.984Z"
   },
   {
    "duration": 4,
    "start_time": "2022-12-03T11:49:19.058Z"
   },
   {
    "duration": 12,
    "start_time": "2022-12-03T11:49:19.064Z"
   },
   {
    "duration": 8,
    "start_time": "2022-12-03T11:49:19.079Z"
   },
   {
    "duration": 79,
    "start_time": "2022-12-03T11:49:19.089Z"
   },
   {
    "duration": 15,
    "start_time": "2022-12-03T11:49:19.172Z"
   },
   {
    "duration": 4,
    "start_time": "2022-12-03T11:49:19.189Z"
   },
   {
    "duration": 68,
    "start_time": "2022-12-03T11:49:19.195Z"
   },
   {
    "duration": 12,
    "start_time": "2022-12-03T11:49:19.265Z"
   },
   {
    "duration": 32,
    "start_time": "2022-12-03T11:49:19.279Z"
   },
   {
    "duration": 9,
    "start_time": "2022-12-03T11:49:19.351Z"
   },
   {
    "duration": 90,
    "start_time": "2022-12-03T11:49:19.362Z"
   },
   {
    "duration": 8,
    "start_time": "2022-12-03T11:49:19.454Z"
   },
   {
    "duration": 3660,
    "start_time": "2022-12-03T11:49:19.464Z"
   },
   {
    "duration": 9,
    "start_time": "2022-12-03T11:49:23.125Z"
   },
   {
    "duration": 17,
    "start_time": "2022-12-03T11:49:23.135Z"
   },
   {
    "duration": 28,
    "start_time": "2022-12-03T11:49:23.154Z"
   },
   {
    "duration": 6,
    "start_time": "2022-12-03T11:49:23.184Z"
   },
   {
    "duration": 267,
    "start_time": "2022-12-03T11:49:23.192Z"
   },
   {
    "duration": 3,
    "start_time": "2022-12-03T11:49:23.461Z"
   },
   {
    "duration": 298,
    "start_time": "2022-12-03T11:49:23.465Z"
   },
   {
    "duration": 3,
    "start_time": "2022-12-03T11:49:23.765Z"
   },
   {
    "duration": 295,
    "start_time": "2022-12-03T11:49:23.769Z"
   },
   {
    "duration": 3,
    "start_time": "2022-12-03T11:49:24.067Z"
   },
   {
    "duration": 287,
    "start_time": "2022-12-03T11:49:24.072Z"
   },
   {
    "duration": 1348,
    "start_time": "2022-12-03T11:49:24.361Z"
   },
   {
    "duration": 178,
    "start_time": "2022-12-03T11:49:25.711Z"
   },
   {
    "duration": 4,
    "start_time": "2022-12-03T11:49:25.890Z"
   },
   {
    "duration": 20,
    "start_time": "2022-12-03T11:49:25.896Z"
   },
   {
    "duration": 14,
    "start_time": "2022-12-03T11:49:25.918Z"
   },
   {
    "duration": 17,
    "start_time": "2022-12-03T11:49:25.934Z"
   },
   {
    "duration": 9,
    "start_time": "2022-12-03T11:49:25.953Z"
   },
   {
    "duration": 8,
    "start_time": "2022-12-03T11:49:25.964Z"
   },
   {
    "duration": 8,
    "start_time": "2022-12-03T11:49:25.974Z"
   },
   {
    "duration": 6,
    "start_time": "2022-12-03T11:49:25.984Z"
   },
   {
    "duration": 267065,
    "start_time": "2022-12-03T11:49:25.992Z"
   },
   {
    "duration": 6,
    "start_time": "2022-12-03T11:53:53.059Z"
   },
   {
    "duration": 39,
    "start_time": "2022-12-03T11:53:53.067Z"
   },
   {
    "duration": 316,
    "start_time": "2022-12-03T11:53:53.109Z"
   },
   {
    "duration": 3444,
    "start_time": "2022-12-03T11:53:53.428Z"
   },
   {
    "duration": 9,
    "start_time": "2022-12-03T11:53:56.874Z"
   },
   {
    "duration": 173,
    "start_time": "2022-12-03T11:53:56.885Z"
   },
   {
    "duration": 284,
    "start_time": "2022-12-03T11:55:11.424Z"
   },
   {
    "duration": 11,
    "start_time": "2022-12-03T12:01:45.645Z"
   },
   {
    "duration": 12,
    "start_time": "2022-12-03T12:01:54.292Z"
   },
   {
    "duration": 2292,
    "start_time": "2022-12-03T12:02:03.169Z"
   },
   {
    "duration": 2353,
    "start_time": "2022-12-03T12:02:22.220Z"
   },
   {
    "duration": 2697,
    "start_time": "2022-12-03T12:03:07.846Z"
   },
   {
    "duration": 2316,
    "start_time": "2022-12-03T12:03:30.147Z"
   },
   {
    "duration": 2338,
    "start_time": "2022-12-03T12:03:39.131Z"
   },
   {
    "duration": 4,
    "start_time": "2022-12-03T12:05:10.120Z"
   },
   {
    "duration": 89,
    "start_time": "2022-12-03T12:05:51.851Z"
   },
   {
    "duration": 382496,
    "start_time": "2022-12-03T12:06:08.523Z"
   },
   {
    "duration": 8,
    "start_time": "2022-12-03T12:12:31.021Z"
   },
   {
    "duration": 47,
    "start_time": "2022-12-03T20:08:43.814Z"
   },
   {
    "duration": 2258,
    "start_time": "2022-12-03T20:08:47.053Z"
   },
   {
    "duration": 2674,
    "start_time": "2022-12-03T20:08:49.313Z"
   },
   {
    "duration": 8,
    "start_time": "2022-12-03T20:08:51.988Z"
   },
   {
    "duration": 20,
    "start_time": "2022-12-03T20:08:51.998Z"
   },
   {
    "duration": 22,
    "start_time": "2022-12-03T20:08:52.020Z"
   },
   {
    "duration": 5,
    "start_time": "2022-12-03T20:08:52.044Z"
   },
   {
    "duration": 13,
    "start_time": "2022-12-03T20:08:52.051Z"
   },
   {
    "duration": 9,
    "start_time": "2022-12-03T20:08:52.066Z"
   },
   {
    "duration": 39,
    "start_time": "2022-12-03T20:08:52.077Z"
   },
   {
    "duration": 15,
    "start_time": "2022-12-03T20:08:52.119Z"
   },
   {
    "duration": 4,
    "start_time": "2022-12-03T20:08:52.136Z"
   },
   {
    "duration": 12,
    "start_time": "2022-12-03T20:08:52.142Z"
   },
   {
    "duration": 22,
    "start_time": "2022-12-03T20:08:52.155Z"
   },
   {
    "duration": 45,
    "start_time": "2022-12-03T20:08:52.179Z"
   },
   {
    "duration": 10,
    "start_time": "2022-12-03T20:08:52.226Z"
   },
   {
    "duration": 56,
    "start_time": "2022-12-03T20:08:52.238Z"
   },
   {
    "duration": 9,
    "start_time": "2022-12-03T20:08:52.295Z"
   },
   {
    "duration": 5111,
    "start_time": "2022-12-03T20:08:52.306Z"
   },
   {
    "duration": 10,
    "start_time": "2022-12-03T20:08:57.422Z"
   },
   {
    "duration": 11,
    "start_time": "2022-12-03T20:08:57.434Z"
   },
   {
    "duration": 44,
    "start_time": "2022-12-03T20:08:57.446Z"
   },
   {
    "duration": 28,
    "start_time": "2022-12-03T20:08:57.492Z"
   },
   {
    "duration": 317,
    "start_time": "2022-12-03T20:08:57.522Z"
   },
   {
    "duration": 4,
    "start_time": "2022-12-03T20:08:57.841Z"
   },
   {
    "duration": 285,
    "start_time": "2022-12-03T20:08:57.846Z"
   },
   {
    "duration": 2,
    "start_time": "2022-12-03T20:08:58.133Z"
   },
   {
    "duration": 300,
    "start_time": "2022-12-03T20:08:58.137Z"
   },
   {
    "duration": 3,
    "start_time": "2022-12-03T20:08:58.441Z"
   },
   {
    "duration": 283,
    "start_time": "2022-12-03T20:08:58.445Z"
   },
   {
    "duration": 1374,
    "start_time": "2022-12-03T20:08:58.730Z"
   },
   {
    "duration": 193,
    "start_time": "2022-12-03T20:09:00.106Z"
   },
   {
    "duration": 3,
    "start_time": "2022-12-03T20:09:00.301Z"
   },
   {
    "duration": 28,
    "start_time": "2022-12-03T20:09:00.305Z"
   },
   {
    "duration": 17,
    "start_time": "2022-12-03T20:09:00.335Z"
   },
   {
    "duration": 20,
    "start_time": "2022-12-03T20:09:00.354Z"
   },
   {
    "duration": 41,
    "start_time": "2022-12-03T20:09:00.376Z"
   },
   {
    "duration": 53,
    "start_time": "2022-12-03T20:09:00.419Z"
   },
   {
    "duration": 26,
    "start_time": "2022-12-03T20:09:00.473Z"
   },
   {
    "duration": 52,
    "start_time": "2022-12-03T20:09:00.500Z"
   },
   {
    "duration": 104,
    "start_time": "2022-12-03T20:09:00.554Z"
   },
   {
    "duration": 3,
    "start_time": "2022-12-03T20:10:14.392Z"
   },
   {
    "duration": 5,
    "start_time": "2022-12-03T20:10:47.016Z"
   },
   {
    "duration": 3,
    "start_time": "2022-12-03T20:11:06.073Z"
   },
   {
    "duration": 3,
    "start_time": "2022-12-03T20:12:06.171Z"
   },
   {
    "duration": 4,
    "start_time": "2022-12-03T20:12:07.196Z"
   },
   {
    "duration": 3,
    "start_time": "2022-12-03T20:12:12.528Z"
   },
   {
    "duration": 3,
    "start_time": "2022-12-03T20:12:38.450Z"
   },
   {
    "duration": 3,
    "start_time": "2022-12-03T20:12:50.134Z"
   },
   {
    "duration": 3,
    "start_time": "2022-12-03T20:15:25.475Z"
   },
   {
    "duration": 16,
    "start_time": "2022-12-03T20:18:36.377Z"
   },
   {
    "duration": 24,
    "start_time": "2022-12-03T20:19:19.321Z"
   },
   {
    "duration": 4,
    "start_time": "2022-12-03T20:21:44.239Z"
   },
   {
    "duration": 5,
    "start_time": "2022-12-03T20:21:56.214Z"
   },
   {
    "duration": 10,
    "start_time": "2022-12-03T20:22:37.360Z"
   },
   {
    "duration": 22,
    "start_time": "2022-12-03T20:22:50.391Z"
   },
   {
    "duration": 5,
    "start_time": "2022-12-03T20:23:09.462Z"
   },
   {
    "duration": 5,
    "start_time": "2022-12-03T20:23:23.559Z"
   },
   {
    "duration": 10,
    "start_time": "2022-12-03T20:23:29.590Z"
   },
   {
    "duration": 4,
    "start_time": "2022-12-03T20:23:33.115Z"
   },
   {
    "duration": 5,
    "start_time": "2022-12-03T20:23:39.311Z"
   },
   {
    "duration": 12,
    "start_time": "2022-12-03T20:24:53.961Z"
   },
   {
    "duration": 22,
    "start_time": "2022-12-03T20:25:07.380Z"
   },
   {
    "duration": 5,
    "start_time": "2022-12-03T20:25:30.669Z"
   },
   {
    "duration": 4,
    "start_time": "2022-12-03T20:25:42.899Z"
   },
   {
    "duration": 21,
    "start_time": "2022-12-03T20:26:36.408Z"
   },
   {
    "duration": 13,
    "start_time": "2022-12-03T20:26:51.792Z"
   },
   {
    "duration": 3,
    "start_time": "2022-12-03T20:27:33.750Z"
   },
   {
    "duration": 5,
    "start_time": "2022-12-03T20:27:44.788Z"
   },
   {
    "duration": 17,
    "start_time": "2022-12-03T20:28:22.399Z"
   },
   {
    "duration": 397,
    "start_time": "2022-12-03T20:30:17.771Z"
   },
   {
    "duration": 352,
    "start_time": "2022-12-03T20:30:35.214Z"
   },
   {
    "duration": 26,
    "start_time": "2022-12-03T20:30:45.744Z"
   },
   {
    "duration": 402,
    "start_time": "2022-12-03T20:30:54.516Z"
   },
   {
    "duration": 344,
    "start_time": "2022-12-03T20:30:57.031Z"
   },
   {
    "duration": 24,
    "start_time": "2022-12-03T20:31:02.394Z"
   },
   {
    "duration": 679,
    "start_time": "2022-12-03T20:31:08.263Z"
   },
   {
    "duration": 23,
    "start_time": "2022-12-03T20:31:12.903Z"
   },
   {
    "duration": 21,
    "start_time": "2022-12-03T20:31:23.710Z"
   },
   {
    "duration": 27,
    "start_time": "2022-12-03T20:31:33.353Z"
   },
   {
    "duration": 11,
    "start_time": "2022-12-03T20:32:59.712Z"
   },
   {
    "duration": 726,
    "start_time": "2022-12-03T20:33:05.550Z"
   },
   {
    "duration": 701,
    "start_time": "2022-12-03T20:33:17.755Z"
   },
   {
    "duration": 27,
    "start_time": "2022-12-03T20:33:36.022Z"
   },
   {
    "duration": 42,
    "start_time": "2022-12-03T20:33:46.234Z"
   },
   {
    "duration": 31,
    "start_time": "2022-12-03T20:33:49.984Z"
   },
   {
    "duration": 10,
    "start_time": "2022-12-03T20:34:00.470Z"
   },
   {
    "duration": 5,
    "start_time": "2022-12-03T20:34:05.303Z"
   },
   {
    "duration": 19,
    "start_time": "2022-12-03T20:34:12.473Z"
   },
   {
    "duration": 46,
    "start_time": "2022-12-03T20:34:36.697Z"
   },
   {
    "duration": 13,
    "start_time": "2022-12-03T20:34:40.864Z"
   },
   {
    "duration": 18,
    "start_time": "2022-12-03T20:35:33.404Z"
   },
   {
    "duration": 20,
    "start_time": "2022-12-03T20:36:36.811Z"
   },
   {
    "duration": 56,
    "start_time": "2022-12-03T20:38:30.098Z"
   },
   {
    "duration": 18,
    "start_time": "2022-12-03T20:38:59.321Z"
   },
   {
    "duration": 4,
    "start_time": "2022-12-03T20:39:16.079Z"
   },
   {
    "duration": 21,
    "start_time": "2022-12-03T20:40:13.936Z"
   },
   {
    "duration": 17,
    "start_time": "2022-12-03T20:41:29.366Z"
   },
   {
    "duration": 33,
    "start_time": "2022-12-03T20:42:01.200Z"
   },
   {
    "duration": 17,
    "start_time": "2022-12-03T20:42:05.589Z"
   },
   {
    "duration": 6,
    "start_time": "2022-12-03T20:42:15.726Z"
   },
   {
    "duration": 18,
    "start_time": "2022-12-03T20:42:17.576Z"
   },
   {
    "duration": 11,
    "start_time": "2022-12-03T20:43:37.017Z"
   },
   {
    "duration": 19,
    "start_time": "2022-12-03T20:43:49.141Z"
   },
   {
    "duration": 667,
    "start_time": "2022-12-03T20:44:09.490Z"
   },
   {
    "duration": 712,
    "start_time": "2022-12-03T20:44:21.991Z"
   },
   {
    "duration": 16,
    "start_time": "2022-12-03T20:44:38.804Z"
   },
   {
    "duration": 79,
    "start_time": "2022-12-03T20:45:07.322Z"
   },
   {
    "duration": 3,
    "start_time": "2022-12-03T20:46:17.747Z"
   },
   {
    "duration": 22,
    "start_time": "2022-12-03T20:46:20.338Z"
   },
   {
    "duration": 24,
    "start_time": "2022-12-03T20:46:53.570Z"
   },
   {
    "duration": 880,
    "start_time": "2022-12-03T20:53:47.991Z"
   },
   {
    "duration": 3,
    "start_time": "2022-12-03T20:53:50.990Z"
   },
   {
    "duration": 842,
    "start_time": "2022-12-03T20:54:08.105Z"
   },
   {
    "duration": 821,
    "start_time": "2022-12-03T20:56:03.309Z"
   },
   {
    "duration": 801,
    "start_time": "2022-12-03T20:56:33.707Z"
   },
   {
    "duration": 19,
    "start_time": "2022-12-03T20:56:45.411Z"
   },
   {
    "duration": 20,
    "start_time": "2022-12-03T20:56:51.886Z"
   },
   {
    "duration": 18,
    "start_time": "2022-12-03T20:58:33.299Z"
   },
   {
    "duration": 82,
    "start_time": "2022-12-03T20:58:49.002Z"
   },
   {
    "duration": 79,
    "start_time": "2022-12-03T20:59:11.347Z"
   },
   {
    "duration": 71,
    "start_time": "2022-12-03T20:59:19.116Z"
   },
   {
    "duration": 27,
    "start_time": "2022-12-03T20:59:41.088Z"
   },
   {
    "duration": 22,
    "start_time": "2022-12-03T20:59:57.578Z"
   },
   {
    "duration": 21,
    "start_time": "2022-12-03T21:00:41.810Z"
   },
   {
    "duration": 21,
    "start_time": "2022-12-03T21:00:59.956Z"
   },
   {
    "duration": 22,
    "start_time": "2022-12-03T21:01:15.203Z"
   },
   {
    "duration": 30,
    "start_time": "2022-12-03T21:01:22.540Z"
   },
   {
    "duration": 45,
    "start_time": "2022-12-03T21:01:45.333Z"
   },
   {
    "duration": 30,
    "start_time": "2022-12-03T21:01:49.955Z"
   },
   {
    "duration": 20,
    "start_time": "2022-12-03T21:02:08.560Z"
   },
   {
    "duration": 18,
    "start_time": "2022-12-03T21:03:03.777Z"
   },
   {
    "duration": 1681,
    "start_time": "2022-12-03T21:03:09.835Z"
   },
   {
    "duration": 1567,
    "start_time": "2022-12-03T21:03:22.332Z"
   },
   {
    "duration": 17,
    "start_time": "2022-12-03T21:03:59.766Z"
   },
   {
    "duration": 1469,
    "start_time": "2022-12-03T21:04:10.256Z"
   },
   {
    "duration": 1477,
    "start_time": "2022-12-03T21:04:50.054Z"
   },
   {
    "duration": 19,
    "start_time": "2022-12-03T21:04:58.369Z"
   },
   {
    "duration": 17,
    "start_time": "2022-12-03T21:05:12.061Z"
   },
   {
    "duration": 1496,
    "start_time": "2022-12-03T21:05:22.226Z"
   },
   {
    "duration": 826,
    "start_time": "2022-12-03T21:06:04.590Z"
   },
   {
    "duration": 1595,
    "start_time": "2022-12-03T21:06:34.410Z"
   },
   {
    "duration": 4,
    "start_time": "2022-12-03T21:08:22.496Z"
   },
   {
    "duration": 3776,
    "start_time": "2022-12-03T21:08:27.882Z"
   },
   {
    "duration": 3573,
    "start_time": "2022-12-03T21:09:41.038Z"
   },
   {
    "duration": 818,
    "start_time": "2022-12-03T21:10:18.881Z"
   },
   {
    "duration": 791,
    "start_time": "2022-12-03T21:10:26.419Z"
   },
   {
    "duration": 3806,
    "start_time": "2022-12-03T21:10:31.725Z"
   },
   {
    "duration": 4,
    "start_time": "2022-12-03T21:10:55.438Z"
   },
   {
    "duration": 6,
    "start_time": "2022-12-03T21:15:26.469Z"
   },
   {
    "duration": 6,
    "start_time": "2022-12-03T21:15:45.982Z"
   },
   {
    "duration": 4,
    "start_time": "2022-12-03T21:16:36.476Z"
   },
   {
    "duration": 3745,
    "start_time": "2022-12-03T21:16:39.259Z"
   },
   {
    "duration": 18,
    "start_time": "2022-12-03T21:18:31.384Z"
   },
   {
    "duration": 3545,
    "start_time": "2022-12-03T21:18:58.572Z"
   },
   {
    "duration": 742,
    "start_time": "2022-12-03T21:21:31.673Z"
   },
   {
    "duration": 3587,
    "start_time": "2022-12-03T21:21:46.939Z"
   },
   {
    "duration": 3646,
    "start_time": "2022-12-03T21:22:05.856Z"
   },
   {
    "duration": 718,
    "start_time": "2022-12-03T21:22:34.295Z"
   },
   {
    "duration": 3494,
    "start_time": "2022-12-03T21:23:01.653Z"
   },
   {
    "duration": 4,
    "start_time": "2022-12-03T21:25:02.419Z"
   },
   {
    "duration": 1359,
    "start_time": "2022-12-03T21:25:06.741Z"
   },
   {
    "duration": 4,
    "start_time": "2022-12-03T21:25:22.112Z"
   },
   {
    "duration": 2119,
    "start_time": "2022-12-03T21:25:28.308Z"
   },
   {
    "duration": 4,
    "start_time": "2022-12-03T21:25:53.868Z"
   },
   {
    "duration": 4,
    "start_time": "2022-12-03T21:25:55.672Z"
   },
   {
    "duration": 4,
    "start_time": "2022-12-03T21:25:56.893Z"
   },
   {
    "duration": 3,
    "start_time": "2022-12-03T21:26:16.853Z"
   },
   {
    "duration": 3,
    "start_time": "2022-12-03T21:26:20.455Z"
   },
   {
    "duration": 5,
    "start_time": "2022-12-03T21:26:25.521Z"
   },
   {
    "duration": 4,
    "start_time": "2022-12-03T21:26:26.642Z"
   },
   {
    "duration": 4,
    "start_time": "2022-12-03T21:26:27.214Z"
   },
   {
    "duration": 4,
    "start_time": "2022-12-03T21:26:27.676Z"
   },
   {
    "duration": 2149,
    "start_time": "2022-12-03T21:26:28.328Z"
   },
   {
    "duration": 5,
    "start_time": "2022-12-03T21:26:35.242Z"
   },
   {
    "duration": 3,
    "start_time": "2022-12-03T21:26:36.325Z"
   },
   {
    "duration": 5,
    "start_time": "2022-12-03T21:26:36.554Z"
   },
   {
    "duration": 2399,
    "start_time": "2022-12-03T21:29:39.686Z"
   },
   {
    "duration": 6,
    "start_time": "2022-12-03T21:30:25.033Z"
   },
   {
    "duration": 3,
    "start_time": "2022-12-03T21:30:30.340Z"
   },
   {
    "duration": 5,
    "start_time": "2022-12-03T21:30:30.614Z"
   },
   {
    "duration": 4,
    "start_time": "2022-12-03T21:30:30.943Z"
   },
   {
    "duration": 5,
    "start_time": "2022-12-03T21:30:31.265Z"
   },
   {
    "duration": 3716,
    "start_time": "2022-12-03T21:30:31.979Z"
   },
   {
    "duration": 1545,
    "start_time": "2022-12-03T21:32:32.297Z"
   },
   {
    "duration": 4328,
    "start_time": "2022-12-03T21:32:49.405Z"
   },
   {
    "duration": 1560,
    "start_time": "2022-12-03T21:34:26.876Z"
   },
   {
    "duration": 2202,
    "start_time": "2022-12-03T21:35:11.556Z"
   },
   {
    "duration": 2317,
    "start_time": "2022-12-03T21:35:31.079Z"
   },
   {
    "duration": 1532,
    "start_time": "2022-12-03T21:36:03.348Z"
   },
   {
    "duration": 17650,
    "start_time": "2022-12-03T21:36:12.806Z"
   },
   {
    "duration": 3799,
    "start_time": "2022-12-03T21:37:41.611Z"
   },
   {
    "duration": 3,
    "start_time": "2022-12-03T21:37:56.225Z"
   },
   {
    "duration": 5,
    "start_time": "2022-12-03T21:37:56.665Z"
   },
   {
    "duration": 4,
    "start_time": "2022-12-03T21:37:56.817Z"
   },
   {
    "duration": 4,
    "start_time": "2022-12-03T21:37:57.074Z"
   },
   {
    "duration": 3606,
    "start_time": "2022-12-03T21:37:57.250Z"
   },
   {
    "duration": 4,
    "start_time": "2022-12-03T21:38:21.304Z"
   },
   {
    "duration": 4,
    "start_time": "2022-12-03T21:38:22.522Z"
   },
   {
    "duration": 4,
    "start_time": "2022-12-03T21:38:22.841Z"
   },
   {
    "duration": 8,
    "start_time": "2022-12-03T21:38:46.531Z"
   },
   {
    "duration": 5,
    "start_time": "2022-12-03T21:41:51.488Z"
   },
   {
    "duration": 8423,
    "start_time": "2022-12-03T21:42:06.371Z"
   },
   {
    "duration": 7778,
    "start_time": "2022-12-03T21:42:23.889Z"
   },
   {
    "duration": 5,
    "start_time": "2022-12-03T21:42:33.642Z"
   },
   {
    "duration": 3,
    "start_time": "2022-12-03T21:42:37.277Z"
   },
   {
    "duration": 3,
    "start_time": "2022-12-03T21:42:37.483Z"
   },
   {
    "duration": 4,
    "start_time": "2022-12-03T21:42:37.629Z"
   },
   {
    "duration": 4,
    "start_time": "2022-12-03T21:42:38.101Z"
   },
   {
    "duration": 6,
    "start_time": "2022-12-03T21:42:38.279Z"
   },
   {
    "duration": 8018,
    "start_time": "2022-12-03T21:42:39.062Z"
   },
   {
    "duration": 4,
    "start_time": "2022-12-03T21:42:47.082Z"
   },
   {
    "duration": 10,
    "start_time": "2022-12-03T21:42:59.256Z"
   },
   {
    "duration": 11,
    "start_time": "2022-12-03T21:43:17.114Z"
   },
   {
    "duration": 4,
    "start_time": "2022-12-03T21:44:09.732Z"
   },
   {
    "duration": 5,
    "start_time": "2022-12-03T21:44:32.366Z"
   },
   {
    "duration": 4,
    "start_time": "2022-12-03T21:44:36.066Z"
   },
   {
    "duration": 4,
    "start_time": "2022-12-03T21:45:19.470Z"
   },
   {
    "duration": 4,
    "start_time": "2022-12-03T21:45:24.102Z"
   },
   {
    "duration": 4,
    "start_time": "2022-12-03T21:45:30.446Z"
   },
   {
    "duration": 4,
    "start_time": "2022-12-03T21:45:53.708Z"
   },
   {
    "duration": 55,
    "start_time": "2022-12-03T21:46:54.425Z"
   },
   {
    "duration": 11,
    "start_time": "2022-12-03T21:46:57.614Z"
   },
   {
    "duration": 5,
    "start_time": "2022-12-03T21:47:10.195Z"
   },
   {
    "duration": 4,
    "start_time": "2022-12-03T21:47:13.574Z"
   },
   {
    "duration": 5,
    "start_time": "2022-12-03T21:47:18.430Z"
   },
   {
    "duration": 5,
    "start_time": "2022-12-03T21:47:59.726Z"
   },
   {
    "duration": 5,
    "start_time": "2022-12-03T21:48:00.275Z"
   },
   {
    "duration": 4,
    "start_time": "2022-12-03T21:48:05.022Z"
   },
   {
    "duration": 1834,
    "start_time": "2022-12-04T11:02:55.776Z"
   },
   {
    "duration": 2670,
    "start_time": "2022-12-04T11:02:57.612Z"
   },
   {
    "duration": 7,
    "start_time": "2022-12-04T11:03:00.284Z"
   },
   {
    "duration": 68,
    "start_time": "2022-12-04T11:03:00.293Z"
   },
   {
    "duration": 17,
    "start_time": "2022-12-04T11:03:00.363Z"
   },
   {
    "duration": 19,
    "start_time": "2022-12-04T11:03:00.381Z"
   },
   {
    "duration": 54,
    "start_time": "2022-12-04T11:03:00.402Z"
   },
   {
    "duration": 19,
    "start_time": "2022-12-04T11:03:00.458Z"
   },
   {
    "duration": 88,
    "start_time": "2022-12-04T11:03:00.480Z"
   },
   {
    "duration": 32,
    "start_time": "2022-12-04T11:03:00.571Z"
   },
   {
    "duration": 51,
    "start_time": "2022-12-04T11:03:00.604Z"
   },
   {
    "duration": 22,
    "start_time": "2022-12-04T11:03:00.657Z"
   },
   {
    "duration": 30,
    "start_time": "2022-12-04T11:03:00.681Z"
   },
   {
    "duration": 50,
    "start_time": "2022-12-04T11:03:00.713Z"
   },
   {
    "duration": 43,
    "start_time": "2022-12-04T11:03:00.765Z"
   },
   {
    "duration": 79,
    "start_time": "2022-12-04T11:03:00.810Z"
   },
   {
    "duration": 65,
    "start_time": "2022-12-04T11:03:00.891Z"
   },
   {
    "duration": 4099,
    "start_time": "2022-12-04T11:03:00.958Z"
   },
   {
    "duration": 8,
    "start_time": "2022-12-04T11:03:05.059Z"
   },
   {
    "duration": 8,
    "start_time": "2022-12-04T11:03:05.068Z"
   },
   {
    "duration": 33,
    "start_time": "2022-12-04T11:03:05.078Z"
   },
   {
    "duration": 6,
    "start_time": "2022-12-04T11:03:05.113Z"
   },
   {
    "duration": 252,
    "start_time": "2022-12-04T11:03:05.120Z"
   },
   {
    "duration": 3,
    "start_time": "2022-12-04T11:03:05.373Z"
   },
   {
    "duration": 276,
    "start_time": "2022-12-04T11:03:05.378Z"
   },
   {
    "duration": 2,
    "start_time": "2022-12-04T11:03:05.656Z"
   },
   {
    "duration": 268,
    "start_time": "2022-12-04T11:03:05.660Z"
   },
   {
    "duration": 3,
    "start_time": "2022-12-04T11:03:05.931Z"
   },
   {
    "duration": 253,
    "start_time": "2022-12-04T11:03:05.935Z"
   },
   {
    "duration": 1254,
    "start_time": "2022-12-04T11:03:06.189Z"
   },
   {
    "duration": 173,
    "start_time": "2022-12-04T11:03:07.445Z"
   },
   {
    "duration": 3,
    "start_time": "2022-12-04T11:03:07.620Z"
   },
   {
    "duration": 14,
    "start_time": "2022-12-04T11:03:07.624Z"
   },
   {
    "duration": 18,
    "start_time": "2022-12-04T11:03:07.640Z"
   },
   {
    "duration": 20,
    "start_time": "2022-12-04T11:03:07.659Z"
   },
   {
    "duration": 9,
    "start_time": "2022-12-04T11:03:07.681Z"
   },
   {
    "duration": 8,
    "start_time": "2022-12-04T11:03:07.692Z"
   },
   {
    "duration": 12,
    "start_time": "2022-12-04T11:03:07.702Z"
   },
   {
    "duration": 10,
    "start_time": "2022-12-04T11:03:07.715Z"
   },
   {
    "duration": 7,
    "start_time": "2022-12-04T11:03:07.727Z"
   },
   {
    "duration": 13,
    "start_time": "2022-12-04T11:03:07.736Z"
   },
   {
    "duration": 5,
    "start_time": "2022-12-04T11:03:07.750Z"
   },
   {
    "duration": 5,
    "start_time": "2022-12-04T11:03:07.757Z"
   },
   {
    "duration": 9,
    "start_time": "2022-12-04T11:03:07.763Z"
   },
   {
    "duration": 13,
    "start_time": "2022-12-04T11:03:07.773Z"
   },
   {
    "duration": 9,
    "start_time": "2022-12-04T11:03:07.788Z"
   },
   {
    "duration": 6,
    "start_time": "2022-12-04T11:03:07.798Z"
   },
   {
    "duration": 8,
    "start_time": "2022-12-04T11:03:07.805Z"
   },
   {
    "duration": 129,
    "start_time": "2022-12-04T11:03:07.815Z"
   },
   {
    "duration": 0,
    "start_time": "2022-12-04T11:03:07.946Z"
   },
   {
    "duration": 0,
    "start_time": "2022-12-04T11:03:07.947Z"
   },
   {
    "duration": 0,
    "start_time": "2022-12-04T11:03:07.948Z"
   },
   {
    "duration": 0,
    "start_time": "2022-12-04T11:03:07.954Z"
   },
   {
    "duration": 8266,
    "start_time": "2022-12-04T11:03:25.792Z"
   },
   {
    "duration": 4,
    "start_time": "2022-12-04T11:03:34.060Z"
   },
   {
    "duration": 20,
    "start_time": "2022-12-04T11:03:34.065Z"
   },
   {
    "duration": 16,
    "start_time": "2022-12-04T11:03:34.087Z"
   },
   {
    "duration": 5,
    "start_time": "2022-12-04T11:04:26.630Z"
   },
   {
    "duration": 3,
    "start_time": "2022-12-04T11:04:33.925Z"
   },
   {
    "duration": 4,
    "start_time": "2022-12-04T11:04:34.167Z"
   },
   {
    "duration": 3,
    "start_time": "2022-12-04T11:04:34.352Z"
   },
   {
    "duration": 4,
    "start_time": "2022-12-04T11:04:34.576Z"
   },
   {
    "duration": 8085,
    "start_time": "2022-12-04T11:04:34.817Z"
   },
   {
    "duration": 5,
    "start_time": "2022-12-04T11:04:42.904Z"
   },
   {
    "duration": 13,
    "start_time": "2022-12-04T11:04:42.910Z"
   },
   {
    "duration": 14,
    "start_time": "2022-12-04T11:04:42.926Z"
   },
   {
    "duration": 3,
    "start_time": "2022-12-04T11:05:25.609Z"
   },
   {
    "duration": 8136,
    "start_time": "2022-12-04T11:08:38.580Z"
   },
   {
    "duration": 5,
    "start_time": "2022-12-04T11:08:46.719Z"
   },
   {
    "duration": 3,
    "start_time": "2022-12-04T11:08:48.907Z"
   },
   {
    "duration": 8190,
    "start_time": "2022-12-04T11:08:49.229Z"
   },
   {
    "duration": 5,
    "start_time": "2022-12-04T11:08:57.421Z"
   },
   {
    "duration": 15,
    "start_time": "2022-12-04T11:08:57.427Z"
   },
   {
    "duration": 11,
    "start_time": "2022-12-04T11:08:57.444Z"
   },
   {
    "duration": 3,
    "start_time": "2022-12-04T11:09:42.698Z"
   },
   {
    "duration": 8078,
    "start_time": "2022-12-04T11:11:33.892Z"
   },
   {
    "duration": 4,
    "start_time": "2022-12-04T11:12:17.802Z"
   },
   {
    "duration": 4,
    "start_time": "2022-12-04T11:12:18.253Z"
   },
   {
    "duration": 3,
    "start_time": "2022-12-04T11:12:18.514Z"
   },
   {
    "duration": 4,
    "start_time": "2022-12-04T11:20:19.150Z"
   },
   {
    "duration": 3,
    "start_time": "2022-12-04T11:20:25.633Z"
   },
   {
    "duration": 10,
    "start_time": "2022-12-04T11:21:36.021Z"
   },
   {
    "duration": 3,
    "start_time": "2022-12-04T11:21:38.264Z"
   },
   {
    "duration": 4,
    "start_time": "2022-12-04T11:21:38.429Z"
   },
   {
    "duration": 47,
    "start_time": "2022-12-04T11:21:55.404Z"
   },
   {
    "duration": 2,
    "start_time": "2022-12-04T11:22:00.413Z"
   },
   {
    "duration": 3,
    "start_time": "2022-12-04T11:22:06.673Z"
   },
   {
    "duration": 4,
    "start_time": "2022-12-04T11:22:09.815Z"
   },
   {
    "duration": 4,
    "start_time": "2022-12-04T11:22:11.034Z"
   },
   {
    "duration": 3,
    "start_time": "2022-12-04T11:22:24.574Z"
   },
   {
    "duration": 3,
    "start_time": "2022-12-04T11:22:32.932Z"
   },
   {
    "duration": 4,
    "start_time": "2022-12-04T11:22:41.699Z"
   },
   {
    "duration": 3,
    "start_time": "2022-12-04T11:22:47.931Z"
   },
   {
    "duration": 4,
    "start_time": "2022-12-04T11:22:50.332Z"
   },
   {
    "duration": 10,
    "start_time": "2022-12-04T11:24:31.858Z"
   },
   {
    "duration": 4,
    "start_time": "2022-12-04T11:24:36.959Z"
   },
   {
    "duration": 9,
    "start_time": "2022-12-04T11:24:53.600Z"
   },
   {
    "duration": 4,
    "start_time": "2022-12-04T11:24:58.974Z"
   },
   {
    "duration": 10,
    "start_time": "2022-12-04T11:25:12.946Z"
   },
   {
    "duration": 10,
    "start_time": "2022-12-04T11:25:18.080Z"
   },
   {
    "duration": 4,
    "start_time": "2022-12-04T11:25:21.716Z"
   },
   {
    "duration": 3,
    "start_time": "2022-12-04T11:25:47.947Z"
   },
   {
    "duration": 4,
    "start_time": "2022-12-04T11:25:51.799Z"
   },
   {
    "duration": 4,
    "start_time": "2022-12-04T11:26:00.043Z"
   },
   {
    "duration": 2,
    "start_time": "2022-12-04T11:27:18.244Z"
   },
   {
    "duration": 4,
    "start_time": "2022-12-04T11:27:23.055Z"
   },
   {
    "duration": 5,
    "start_time": "2022-12-04T11:27:54.874Z"
   },
   {
    "duration": 5,
    "start_time": "2022-12-04T11:27:56.588Z"
   },
   {
    "duration": 4,
    "start_time": "2022-12-04T11:27:58.102Z"
   },
   {
    "duration": 4,
    "start_time": "2022-12-04T11:28:02.595Z"
   },
   {
    "duration": 5,
    "start_time": "2022-12-04T11:28:19.250Z"
   },
   {
    "duration": 2,
    "start_time": "2022-12-04T11:28:49.667Z"
   },
   {
    "duration": 992,
    "start_time": "2022-12-04T11:33:58.151Z"
   },
   {
    "duration": 14,
    "start_time": "2022-12-04T11:34:01.531Z"
   },
   {
    "duration": 10,
    "start_time": "2022-12-04T11:34:02.873Z"
   },
   {
    "duration": 102,
    "start_time": "2022-12-04T11:34:10.734Z"
   },
   {
    "duration": 1000,
    "start_time": "2022-12-04T11:36:16.929Z"
   },
   {
    "duration": 14,
    "start_time": "2022-12-04T11:36:17.989Z"
   },
   {
    "duration": 97,
    "start_time": "2022-12-04T11:36:44.074Z"
   },
   {
    "duration": 99,
    "start_time": "2022-12-04T11:39:12.349Z"
   },
   {
    "duration": 90,
    "start_time": "2022-12-04T11:39:21.464Z"
   },
   {
    "duration": 89,
    "start_time": "2022-12-04T11:39:23.907Z"
   },
   {
    "duration": 4,
    "start_time": "2022-12-04T11:40:34.355Z"
   },
   {
    "duration": 12,
    "start_time": "2022-12-04T11:40:34.976Z"
   },
   {
    "duration": 4,
    "start_time": "2022-12-04T11:40:35.208Z"
   },
   {
    "duration": 4,
    "start_time": "2022-12-04T11:40:43.555Z"
   },
   {
    "duration": 4,
    "start_time": "2022-12-04T11:40:45.416Z"
   },
   {
    "duration": 4,
    "start_time": "2022-12-04T11:41:09.586Z"
   },
   {
    "duration": 5,
    "start_time": "2022-12-04T11:41:09.778Z"
   },
   {
    "duration": 3,
    "start_time": "2022-12-04T11:41:09.982Z"
   },
   {
    "duration": 4,
    "start_time": "2022-12-04T11:41:34.254Z"
   },
   {
    "duration": 4,
    "start_time": "2022-12-04T11:41:36.136Z"
   },
   {
    "duration": 4,
    "start_time": "2022-12-04T11:41:52.170Z"
   },
   {
    "duration": 4,
    "start_time": "2022-12-04T11:42:12.198Z"
   },
   {
    "duration": 5,
    "start_time": "2022-12-04T11:42:25.593Z"
   },
   {
    "duration": 779,
    "start_time": "2022-12-04T11:42:25.602Z"
   },
   {
    "duration": 6,
    "start_time": "2022-12-04T11:42:26.383Z"
   },
   {
    "duration": 28,
    "start_time": "2022-12-04T11:42:26.391Z"
   },
   {
    "duration": 21,
    "start_time": "2022-12-04T11:42:26.421Z"
   },
   {
    "duration": 13,
    "start_time": "2022-12-04T11:42:26.443Z"
   },
   {
    "duration": 21,
    "start_time": "2022-12-04T11:42:26.458Z"
   },
   {
    "duration": 13,
    "start_time": "2022-12-04T11:42:26.480Z"
   },
   {
    "duration": 30,
    "start_time": "2022-12-04T11:42:26.495Z"
   },
   {
    "duration": 20,
    "start_time": "2022-12-04T11:42:26.527Z"
   },
   {
    "duration": 12,
    "start_time": "2022-12-04T11:42:26.551Z"
   },
   {
    "duration": 33,
    "start_time": "2022-12-04T11:42:26.564Z"
   },
   {
    "duration": 24,
    "start_time": "2022-12-04T11:42:26.598Z"
   },
   {
    "duration": 29,
    "start_time": "2022-12-04T11:42:26.623Z"
   },
   {
    "duration": 15,
    "start_time": "2022-12-04T11:42:26.653Z"
   },
   {
    "duration": 35,
    "start_time": "2022-12-04T11:42:26.670Z"
   },
   {
    "duration": 8,
    "start_time": "2022-12-04T11:42:26.706Z"
   },
   {
    "duration": 3498,
    "start_time": "2022-12-04T11:42:26.715Z"
   },
   {
    "duration": 8,
    "start_time": "2022-12-04T11:42:30.214Z"
   },
   {
    "duration": 43,
    "start_time": "2022-12-04T11:42:30.224Z"
   },
   {
    "duration": 54,
    "start_time": "2022-12-04T11:42:30.268Z"
   },
   {
    "duration": 7,
    "start_time": "2022-12-04T11:42:30.323Z"
   },
   {
    "duration": 234,
    "start_time": "2022-12-04T11:42:30.332Z"
   },
   {
    "duration": 3,
    "start_time": "2022-12-04T11:42:30.568Z"
   },
   {
    "duration": 291,
    "start_time": "2022-12-04T11:42:30.572Z"
   },
   {
    "duration": 3,
    "start_time": "2022-12-04T11:42:30.864Z"
   },
   {
    "duration": 276,
    "start_time": "2022-12-04T11:42:30.868Z"
   },
   {
    "duration": 10,
    "start_time": "2022-12-04T11:42:31.145Z"
   },
   {
    "duration": 252,
    "start_time": "2022-12-04T11:42:31.159Z"
   },
   {
    "duration": 1346,
    "start_time": "2022-12-04T11:42:31.412Z"
   },
   {
    "duration": 177,
    "start_time": "2022-12-04T11:42:32.759Z"
   },
   {
    "duration": 3,
    "start_time": "2022-12-04T11:42:32.938Z"
   },
   {
    "duration": 27,
    "start_time": "2022-12-04T11:42:32.943Z"
   },
   {
    "duration": 17,
    "start_time": "2022-12-04T11:42:32.972Z"
   },
   {
    "duration": 50,
    "start_time": "2022-12-04T11:42:32.991Z"
   },
   {
    "duration": 21,
    "start_time": "2022-12-04T11:42:33.043Z"
   },
   {
    "duration": 32,
    "start_time": "2022-12-04T11:42:33.066Z"
   },
   {
    "duration": 12,
    "start_time": "2022-12-04T11:42:33.099Z"
   },
   {
    "duration": 16,
    "start_time": "2022-12-04T11:42:33.113Z"
   },
   {
    "duration": 24,
    "start_time": "2022-12-04T11:42:33.131Z"
   },
   {
    "duration": 16,
    "start_time": "2022-12-04T11:42:33.157Z"
   },
   {
    "duration": 28,
    "start_time": "2022-12-04T11:42:33.174Z"
   },
   {
    "duration": 19,
    "start_time": "2022-12-04T11:42:33.203Z"
   },
   {
    "duration": 18,
    "start_time": "2022-12-04T11:42:33.223Z"
   },
   {
    "duration": 9174,
    "start_time": "2022-12-04T11:42:33.242Z"
   },
   {
    "duration": 4,
    "start_time": "2022-12-04T11:42:42.418Z"
   },
   {
    "duration": 8,
    "start_time": "2022-12-04T11:42:42.423Z"
   },
   {
    "duration": 7,
    "start_time": "2022-12-04T11:42:42.433Z"
   },
   {
    "duration": 16,
    "start_time": "2022-12-04T11:42:42.442Z"
   },
   {
    "duration": 8036,
    "start_time": "2022-12-04T11:42:42.460Z"
   },
   {
    "duration": 5,
    "start_time": "2022-12-04T11:42:50.497Z"
   },
   {
    "duration": 17,
    "start_time": "2022-12-04T11:42:50.503Z"
   },
   {
    "duration": 20,
    "start_time": "2022-12-04T11:42:50.521Z"
   },
   {
    "duration": 20,
    "start_time": "2022-12-04T11:42:50.542Z"
   },
   {
    "duration": 33,
    "start_time": "2022-12-04T11:42:50.563Z"
   },
   {
    "duration": 25,
    "start_time": "2022-12-04T11:42:50.597Z"
   },
   {
    "duration": 966,
    "start_time": "2022-12-04T11:42:50.623Z"
   },
   {
    "duration": 13,
    "start_time": "2022-12-04T11:42:51.590Z"
   },
   {
    "duration": 105,
    "start_time": "2022-12-04T11:42:51.604Z"
   },
   {
    "duration": 976,
    "start_time": "2022-12-04T11:42:51.710Z"
   },
   {
    "duration": 13,
    "start_time": "2022-12-04T11:42:52.688Z"
   },
   {
    "duration": 109,
    "start_time": "2022-12-04T11:42:52.703Z"
   },
   {
    "duration": 4,
    "start_time": "2022-12-04T11:42:52.814Z"
   },
   {
    "duration": 94,
    "start_time": "2022-12-04T11:43:18.099Z"
   },
   {
    "duration": 99,
    "start_time": "2022-12-04T11:43:30.581Z"
   },
   {
    "duration": 13,
    "start_time": "2022-12-04T11:46:43.538Z"
   },
   {
    "duration": 20,
    "start_time": "2022-12-04T11:50:03.913Z"
   },
   {
    "duration": 858,
    "start_time": "2022-12-04T11:53:10.690Z"
   },
   {
    "duration": 3201,
    "start_time": "2022-12-04T11:53:18.645Z"
   },
   {
    "duration": 23,
    "start_time": "2022-12-04T11:53:23.768Z"
   },
   {
    "duration": 4,
    "start_time": "2022-12-04T11:56:22.225Z"
   },
   {
    "duration": 19,
    "start_time": "2022-12-04T11:56:42.489Z"
   },
   {
    "duration": 353,
    "start_time": "2022-12-04T11:56:49.905Z"
   },
   {
    "duration": 351,
    "start_time": "2022-12-04T11:57:55.829Z"
   },
   {
    "duration": 332129,
    "start_time": "2022-12-04T12:01:51.811Z"
   },
   {
    "duration": 2,
    "start_time": "2022-12-04T12:07:24.202Z"
   },
   {
    "duration": 326158,
    "start_time": "2022-12-04T12:08:09.430Z"
   },
   {
    "duration": 2,
    "start_time": "2022-12-04T12:13:35.591Z"
   },
   {
    "duration": 92,
    "start_time": "2022-12-04T12:22:10.061Z"
   },
   {
    "duration": 2258,
    "start_time": "2022-12-04T12:22:25.685Z"
   },
   {
    "duration": 1745,
    "start_time": "2022-12-04T12:22:27.945Z"
   },
   {
    "duration": 2785,
    "start_time": "2022-12-04T12:22:29.691Z"
   },
   {
    "duration": 6,
    "start_time": "2022-12-04T12:22:32.478Z"
   },
   {
    "duration": 73,
    "start_time": "2022-12-04T12:22:32.486Z"
   },
   {
    "duration": 16,
    "start_time": "2022-12-04T12:22:32.561Z"
   },
   {
    "duration": 10,
    "start_time": "2022-12-04T12:22:32.578Z"
   },
   {
    "duration": 67,
    "start_time": "2022-12-04T12:22:32.589Z"
   },
   {
    "duration": 27,
    "start_time": "2022-12-04T12:22:32.658Z"
   },
   {
    "duration": 68,
    "start_time": "2022-12-04T12:22:32.688Z"
   },
   {
    "duration": 14,
    "start_time": "2022-12-04T12:22:32.757Z"
   },
   {
    "duration": 23,
    "start_time": "2022-12-04T12:22:32.773Z"
   },
   {
    "duration": 58,
    "start_time": "2022-12-04T12:22:32.798Z"
   },
   {
    "duration": 44,
    "start_time": "2022-12-04T12:22:32.858Z"
   },
   {
    "duration": 64,
    "start_time": "2022-12-04T12:22:32.903Z"
   },
   {
    "duration": 11,
    "start_time": "2022-12-04T12:22:32.968Z"
   },
   {
    "duration": 95,
    "start_time": "2022-12-04T12:22:32.980Z"
   },
   {
    "duration": 7,
    "start_time": "2022-12-04T12:22:33.077Z"
   },
   {
    "duration": 4627,
    "start_time": "2022-12-04T12:22:33.086Z"
   },
   {
    "duration": 7,
    "start_time": "2022-12-04T12:22:37.714Z"
   },
   {
    "duration": 6,
    "start_time": "2022-12-04T12:22:37.723Z"
   },
   {
    "duration": 42,
    "start_time": "2022-12-04T12:22:37.730Z"
   },
   {
    "duration": 6,
    "start_time": "2022-12-04T12:22:37.774Z"
   },
   {
    "duration": 194,
    "start_time": "2022-12-04T12:22:37.781Z"
   },
   {
    "duration": 372,
    "start_time": "2022-12-04T12:22:37.977Z"
   },
   {
    "duration": 1060,
    "start_time": "2022-12-04T12:22:41.995Z"
   },
   {
    "duration": 252980,
    "start_time": "2022-12-04T12:22:57.304Z"
   },
   {
    "duration": 76387,
    "start_time": "2022-12-04T12:31:32.151Z"
   },
   {
    "duration": 3034,
    "start_time": "2022-12-04T20:07:00.154Z"
   },
   {
    "duration": 1880,
    "start_time": "2022-12-04T20:07:03.190Z"
   },
   {
    "duration": 2872,
    "start_time": "2022-12-04T20:07:05.072Z"
   },
   {
    "duration": 7,
    "start_time": "2022-12-04T20:07:07.946Z"
   },
   {
    "duration": 19,
    "start_time": "2022-12-04T20:07:08.506Z"
   },
   {
    "duration": 4,
    "start_time": "2022-12-04T20:07:23.273Z"
   },
   {
    "duration": 6,
    "start_time": "2022-12-04T20:07:23.750Z"
   },
   {
    "duration": 5,
    "start_time": "2022-12-04T20:07:27.279Z"
   },
   {
    "duration": 20,
    "start_time": "2022-12-04T20:07:41.598Z"
   },
   {
    "duration": 14,
    "start_time": "2022-12-04T20:07:57.082Z"
   },
   {
    "duration": 3,
    "start_time": "2022-12-04T20:07:57.631Z"
   },
   {
    "duration": 2,
    "start_time": "2022-12-04T20:08:56.714Z"
   },
   {
    "duration": 16,
    "start_time": "2022-12-04T20:09:44.384Z"
   },
   {
    "duration": 9,
    "start_time": "2022-12-04T20:09:47.302Z"
   },
   {
    "duration": 14,
    "start_time": "2022-12-04T20:09:48.283Z"
   },
   {
    "duration": 7,
    "start_time": "2022-12-04T20:09:55.833Z"
   },
   {
    "duration": 50,
    "start_time": "2022-12-04T20:09:58.253Z"
   },
   {
    "duration": 11,
    "start_time": "2022-12-04T20:10:08.683Z"
   },
   {
    "duration": 3593,
    "start_time": "2022-12-04T20:10:18.119Z"
   },
   {
    "duration": 7,
    "start_time": "2022-12-04T20:10:21.714Z"
   },
   {
    "duration": 30,
    "start_time": "2022-12-04T20:10:35.309Z"
   },
   {
    "duration": 7,
    "start_time": "2022-12-04T20:10:36.605Z"
   },
   {
    "duration": 179,
    "start_time": "2022-12-04T20:10:37.329Z"
   },
   {
    "duration": 18,
    "start_time": "2022-12-04T20:10:45.992Z"
   },
   {
    "duration": 385,
    "start_time": "2022-12-04T20:10:50.684Z"
   },
   {
    "duration": 1114,
    "start_time": "2022-12-04T20:10:54.816Z"
   },
   {
    "duration": 16488,
    "start_time": "2022-12-04T20:11:59.055Z"
   },
   {
    "duration": 51558,
    "start_time": "2022-12-04T20:12:35.427Z"
   },
   {
    "duration": 277201,
    "start_time": "2022-12-04T20:14:20.627Z"
   },
   {
    "duration": 5,
    "start_time": "2022-12-04T20:21:05.158Z"
   },
   {
    "duration": 2,
    "start_time": "2022-12-04T20:23:24.540Z"
   },
   {
    "duration": 121,
    "start_time": "2022-12-04T20:24:40.540Z"
   },
   {
    "duration": 3,
    "start_time": "2022-12-04T20:24:52.384Z"
   },
   {
    "duration": 50,
    "start_time": "2022-12-04T20:24:52.994Z"
   },
   {
    "duration": 53,
    "start_time": "2022-12-04T20:25:36.822Z"
   },
   {
    "duration": 70,
    "start_time": "2022-12-04T20:25:49.102Z"
   },
   {
    "duration": 10,
    "start_time": "2022-12-04T20:25:53.268Z"
   },
   {
    "duration": 3,
    "start_time": "2022-12-04T20:27:12.990Z"
   },
   {
    "duration": 11,
    "start_time": "2022-12-04T20:28:15.436Z"
   },
   {
    "duration": 3,
    "start_time": "2022-12-04T20:28:21.614Z"
   },
   {
    "duration": 315,
    "start_time": "2022-12-04T20:28:22.189Z"
   },
   {
    "duration": 6,
    "start_time": "2022-12-04T20:28:36.265Z"
   },
   {
    "duration": 278,
    "start_time": "2022-12-04T20:28:36.597Z"
   },
   {
    "duration": 3,
    "start_time": "2022-12-04T20:28:42.726Z"
   },
   {
    "duration": 266,
    "start_time": "2022-12-04T20:28:43.396Z"
   },
   {
    "duration": 1427,
    "start_time": "2022-12-04T20:28:47.520Z"
   },
   {
    "duration": 169,
    "start_time": "2022-12-04T20:29:00.868Z"
   },
   {
    "duration": 153,
    "start_time": "2022-12-04T20:29:36.523Z"
   },
   {
    "duration": 158,
    "start_time": "2022-12-04T20:30:01.115Z"
   },
   {
    "duration": 1502,
    "start_time": "2022-12-04T20:30:58.534Z"
   },
   {
    "duration": 1393,
    "start_time": "2022-12-04T20:31:22.193Z"
   },
   {
    "duration": 1772,
    "start_time": "2022-12-04T20:31:48.205Z"
   },
   {
    "duration": 1649,
    "start_time": "2022-12-04T20:32:43.922Z"
   },
   {
    "duration": 1746,
    "start_time": "2022-12-04T20:33:03.840Z"
   },
   {
    "duration": 1688,
    "start_time": "2022-12-04T20:34:12.508Z"
   },
   {
    "duration": 1832,
    "start_time": "2022-12-04T20:34:40.282Z"
   },
   {
    "duration": 1832,
    "start_time": "2022-12-04T20:35:17.717Z"
   },
   {
    "duration": 1775,
    "start_time": "2022-12-04T20:35:38.250Z"
   },
   {
    "duration": 3072,
    "start_time": "2022-12-05T04:54:04.203Z"
   },
   {
    "duration": 1817,
    "start_time": "2022-12-05T04:54:07.277Z"
   },
   {
    "duration": 121,
    "start_time": "2022-12-05T04:54:39.156Z"
   },
   {
    "duration": 9,
    "start_time": "2022-12-05T04:54:39.668Z"
   },
   {
    "duration": 2710,
    "start_time": "2022-12-05T04:54:44.100Z"
   },
   {
    "duration": 15,
    "start_time": "2022-12-05T04:54:46.812Z"
   },
   {
    "duration": 27,
    "start_time": "2022-12-05T04:54:46.828Z"
   },
   {
    "duration": 8,
    "start_time": "2022-12-05T04:54:54.574Z"
   },
   {
    "duration": 22,
    "start_time": "2022-12-05T04:54:55.065Z"
   },
   {
    "duration": 16,
    "start_time": "2022-12-05T04:54:55.713Z"
   },
   {
    "duration": 3,
    "start_time": "2022-12-05T04:56:33.528Z"
   },
   {
    "duration": 5,
    "start_time": "2022-12-05T04:56:34.049Z"
   },
   {
    "duration": 16,
    "start_time": "2022-12-05T04:56:38.513Z"
   },
   {
    "duration": 15,
    "start_time": "2022-12-05T04:56:45.613Z"
   },
   {
    "duration": 3,
    "start_time": "2022-12-05T04:56:47.951Z"
   },
   {
    "duration": 5,
    "start_time": "2022-12-05T04:56:49.083Z"
   },
   {
    "duration": 8,
    "start_time": "2022-12-05T04:56:55.335Z"
   },
   {
    "duration": 13,
    "start_time": "2022-12-05T04:56:56.956Z"
   },
   {
    "duration": 10,
    "start_time": "2022-12-05T04:57:03.191Z"
   },
   {
    "duration": 42,
    "start_time": "2022-12-05T04:57:04.040Z"
   },
   {
    "duration": 8,
    "start_time": "2022-12-05T04:57:04.836Z"
   },
   {
    "duration": 3478,
    "start_time": "2022-12-05T04:57:07.748Z"
   },
   {
    "duration": 8,
    "start_time": "2022-12-05T04:57:11.228Z"
   },
   {
    "duration": 8,
    "start_time": "2022-12-05T04:57:11.434Z"
   },
   {
    "duration": 27,
    "start_time": "2022-12-05T04:57:12.852Z"
   },
   {
    "duration": 6,
    "start_time": "2022-12-05T04:57:15.086Z"
   },
   {
    "duration": 162,
    "start_time": "2022-12-05T04:57:15.964Z"
   },
   {
    "duration": 3,
    "start_time": "2022-12-05T04:57:41.039Z"
   },
   {
    "duration": 283,
    "start_time": "2022-12-05T04:57:41.901Z"
   },
   {
    "duration": 3,
    "start_time": "2022-12-05T04:57:44.978Z"
   },
   {
    "duration": 248,
    "start_time": "2022-12-05T04:57:45.966Z"
   },
   {
    "duration": 3,
    "start_time": "2022-12-05T04:57:59.246Z"
   },
   {
    "duration": 237,
    "start_time": "2022-12-05T04:57:59.882Z"
   },
   {
    "duration": 1457,
    "start_time": "2022-12-05T04:58:04.173Z"
   },
   {
    "duration": 160,
    "start_time": "2022-12-05T04:58:35.689Z"
   },
   {
    "duration": 3,
    "start_time": "2022-12-05T04:58:39.650Z"
   },
   {
    "duration": 10,
    "start_time": "2022-12-05T04:58:40.936Z"
   },
   {
    "duration": 9,
    "start_time": "2022-12-05T04:59:36.939Z"
   },
   {
    "duration": 4,
    "start_time": "2022-12-05T04:59:40.306Z"
   },
   {
    "duration": 9,
    "start_time": "2022-12-05T05:01:07.735Z"
   },
   {
    "duration": 4,
    "start_time": "2022-12-05T05:01:19.572Z"
   },
   {
    "duration": 8,
    "start_time": "2022-12-05T05:01:33.035Z"
   },
   {
    "duration": 3,
    "start_time": "2022-12-05T05:01:36.164Z"
   },
   {
    "duration": 23,
    "start_time": "2022-12-05T05:01:36.984Z"
   },
   {
    "duration": 5,
    "start_time": "2022-12-05T05:01:46.649Z"
   },
   {
    "duration": 4,
    "start_time": "2022-12-05T05:01:47.354Z"
   },
   {
    "duration": 3,
    "start_time": "2022-12-05T05:01:48.017Z"
   },
   {
    "duration": 4,
    "start_time": "2022-12-05T05:01:54.889Z"
   },
   {
    "duration": 216904,
    "start_time": "2022-12-05T05:02:02.033Z"
   },
   {
    "duration": 5,
    "start_time": "2022-12-05T05:05:38.939Z"
   },
   {
    "duration": 16,
    "start_time": "2022-12-05T05:06:42.480Z"
   },
   {
    "duration": 2400,
    "start_time": "2022-12-05T05:06:50.600Z"
   },
   {
    "duration": 4,
    "start_time": "2022-12-05T05:07:12.427Z"
   },
   {
    "duration": 4,
    "start_time": "2022-12-05T05:07:46.670Z"
   },
   {
    "duration": 3,
    "start_time": "2022-12-05T05:22:37.993Z"
   },
   {
    "duration": 168900,
    "start_time": "2022-12-05T05:23:22.082Z"
   },
   {
    "duration": 5,
    "start_time": "2022-12-05T05:26:10.984Z"
   },
   {
    "duration": 3,
    "start_time": "2022-12-05T05:27:01.138Z"
   },
   {
    "duration": 3,
    "start_time": "2022-12-05T05:27:01.851Z"
   },
   {
    "duration": 2,
    "start_time": "2022-12-05T05:27:03.293Z"
   },
   {
    "duration": 3,
    "start_time": "2022-12-05T05:27:16.805Z"
   },
   {
    "duration": 3,
    "start_time": "2022-12-05T05:27:23.143Z"
   },
   {
    "duration": 3,
    "start_time": "2022-12-05T05:27:24.058Z"
   },
   {
    "duration": 7993,
    "start_time": "2022-12-05T05:27:24.953Z"
   },
   {
    "duration": 4,
    "start_time": "2022-12-05T05:27:35.455Z"
   },
   {
    "duration": 4,
    "start_time": "2022-12-05T05:27:36.881Z"
   },
   {
    "duration": 4,
    "start_time": "2022-12-05T05:27:38.190Z"
   },
   {
    "duration": 2,
    "start_time": "2022-12-05T05:27:42.685Z"
   },
   {
    "duration": 7855,
    "start_time": "2022-12-05T05:27:44.311Z"
   },
   {
    "duration": 3,
    "start_time": "2022-12-05T05:27:52.168Z"
   },
   {
    "duration": 11,
    "start_time": "2022-12-05T05:27:52.173Z"
   },
   {
    "duration": 4,
    "start_time": "2022-12-05T05:27:54.525Z"
   },
   {
    "duration": 4,
    "start_time": "2022-12-05T05:28:03.666Z"
   },
   {
    "duration": 4,
    "start_time": "2022-12-05T05:28:05.990Z"
   },
   {
    "duration": 3,
    "start_time": "2022-12-05T05:28:07.757Z"
   },
   {
    "duration": 917,
    "start_time": "2022-12-05T05:28:14.197Z"
   },
   {
    "duration": 13,
    "start_time": "2022-12-05T05:28:23.660Z"
   },
   {
    "duration": 88,
    "start_time": "2022-12-05T05:28:24.753Z"
   },
   {
    "duration": 924,
    "start_time": "2022-12-05T05:28:37.623Z"
   },
   {
    "duration": 14,
    "start_time": "2022-12-05T05:28:38.724Z"
   },
   {
    "duration": 88,
    "start_time": "2022-12-05T05:28:42.110Z"
   },
   {
    "duration": 5,
    "start_time": "2022-12-05T05:28:52.334Z"
   },
   {
    "duration": 1539,
    "start_time": "2022-12-05T05:30:35.760Z"
   },
   {
    "duration": 43,
    "start_time": "2022-12-05T05:31:34.978Z"
   },
   {
    "duration": 43,
    "start_time": "2022-12-05T05:31:45.641Z"
   },
   {
    "duration": 189,
    "start_time": "2022-12-05T05:38:18.090Z"
   },
   {
    "duration": 2042,
    "start_time": "2022-12-05T05:38:38.417Z"
   },
   {
    "duration": 5,
    "start_time": "2022-12-05T05:38:40.461Z"
   },
   {
    "duration": 697,
    "start_time": "2022-12-05T05:38:40.467Z"
   },
   {
    "duration": 13,
    "start_time": "2022-12-05T05:38:41.166Z"
   },
   {
    "duration": 23,
    "start_time": "2022-12-05T05:38:41.180Z"
   },
   {
    "duration": 5,
    "start_time": "2022-12-05T05:38:41.215Z"
   },
   {
    "duration": 20,
    "start_time": "2022-12-05T05:38:41.221Z"
   },
   {
    "duration": 31,
    "start_time": "2022-12-05T05:38:41.242Z"
   },
   {
    "duration": 4,
    "start_time": "2022-12-05T05:38:41.370Z"
   },
   {
    "duration": 4,
    "start_time": "2022-12-05T05:38:41.653Z"
   },
   {
    "duration": 14,
    "start_time": "2022-12-05T05:38:42.753Z"
   },
   {
    "duration": 13,
    "start_time": "2022-12-05T05:38:43.182Z"
   },
   {
    "duration": 4,
    "start_time": "2022-12-05T05:38:43.699Z"
   },
   {
    "duration": 5,
    "start_time": "2022-12-05T05:38:44.051Z"
   },
   {
    "duration": 7,
    "start_time": "2022-12-05T05:38:45.517Z"
   },
   {
    "duration": 19,
    "start_time": "2022-12-05T05:38:46.178Z"
   },
   {
    "duration": 9,
    "start_time": "2022-12-05T05:38:47.819Z"
   },
   {
    "duration": 31,
    "start_time": "2022-12-05T05:38:48.993Z"
   },
   {
    "duration": 9,
    "start_time": "2022-12-05T05:38:50.965Z"
   },
   {
    "duration": 3566,
    "start_time": "2022-12-05T05:38:51.350Z"
   },
   {
    "duration": 7,
    "start_time": "2022-12-05T05:38:54.918Z"
   },
   {
    "duration": 11,
    "start_time": "2022-12-05T05:38:54.927Z"
   },
   {
    "duration": 32,
    "start_time": "2022-12-05T05:38:54.940Z"
   },
   {
    "duration": 8,
    "start_time": "2022-12-05T05:38:55.068Z"
   },
   {
    "duration": 185,
    "start_time": "2022-12-05T05:38:56.046Z"
   },
   {
    "duration": 3,
    "start_time": "2022-12-05T05:39:09.757Z"
   },
   {
    "duration": 267,
    "start_time": "2022-12-05T05:39:10.184Z"
   },
   {
    "duration": 2031,
    "start_time": "2022-12-05T05:39:39.348Z"
   },
   {
    "duration": 5,
    "start_time": "2022-12-05T05:39:41.381Z"
   },
   {
    "duration": 1332,
    "start_time": "2022-12-05T05:39:41.388Z"
   },
   {
    "duration": 13,
    "start_time": "2022-12-05T05:39:42.722Z"
   },
   {
    "duration": 20,
    "start_time": "2022-12-05T05:39:42.737Z"
   },
   {
    "duration": 59,
    "start_time": "2022-12-05T05:39:42.758Z"
   },
   {
    "duration": 19,
    "start_time": "2022-12-05T05:39:42.818Z"
   },
   {
    "duration": 16,
    "start_time": "2022-12-05T05:39:42.839Z"
   },
   {
    "duration": 3,
    "start_time": "2022-12-05T05:39:42.857Z"
   },
   {
    "duration": 4,
    "start_time": "2022-12-05T05:39:42.916Z"
   },
   {
    "duration": 21,
    "start_time": "2022-12-05T05:39:42.921Z"
   },
   {
    "duration": 12,
    "start_time": "2022-12-05T05:39:42.943Z"
   },
   {
    "duration": 3,
    "start_time": "2022-12-05T05:39:42.957Z"
   },
   {
    "duration": 58,
    "start_time": "2022-12-05T05:39:42.961Z"
   },
   {
    "duration": 15,
    "start_time": "2022-12-05T05:39:43.021Z"
   },
   {
    "duration": 23,
    "start_time": "2022-12-05T05:39:43.038Z"
   },
   {
    "duration": 54,
    "start_time": "2022-12-05T05:39:43.063Z"
   },
   {
    "duration": 38,
    "start_time": "2022-12-05T05:39:43.118Z"
   },
   {
    "duration": 58,
    "start_time": "2022-12-05T05:39:43.158Z"
   },
   {
    "duration": 4095,
    "start_time": "2022-12-05T05:39:43.218Z"
   },
   {
    "duration": 7,
    "start_time": "2022-12-05T05:39:47.315Z"
   },
   {
    "duration": 7,
    "start_time": "2022-12-05T05:39:47.323Z"
   },
   {
    "duration": 28,
    "start_time": "2022-12-05T05:39:47.331Z"
   },
   {
    "duration": 7,
    "start_time": "2022-12-05T05:39:47.360Z"
   },
   {
    "duration": 261,
    "start_time": "2022-12-05T05:39:47.369Z"
   },
   {
    "duration": 3,
    "start_time": "2022-12-05T05:39:55.160Z"
   },
   {
    "duration": 440,
    "start_time": "2022-12-05T05:39:55.691Z"
   },
   {
    "duration": 2,
    "start_time": "2022-12-05T05:40:27.786Z"
   },
   {
    "duration": 267,
    "start_time": "2022-12-05T05:40:28.150Z"
   },
   {
    "duration": 69,
    "start_time": "2022-12-05T05:40:31.060Z"
   },
   {
    "duration": 254,
    "start_time": "2022-12-05T05:41:40.078Z"
   },
   {
    "duration": 3211,
    "start_time": "2022-12-05T11:07:38.504Z"
   },
   {
    "duration": 1911,
    "start_time": "2022-12-05T11:07:41.717Z"
   },
   {
    "duration": 2103,
    "start_time": "2022-12-05T11:08:33.926Z"
   },
   {
    "duration": 5,
    "start_time": "2022-12-05T11:08:36.032Z"
   },
   {
    "duration": 2669,
    "start_time": "2022-12-05T11:08:36.039Z"
   },
   {
    "duration": 14,
    "start_time": "2022-12-05T11:08:38.711Z"
   },
   {
    "duration": 18,
    "start_time": "2022-12-05T11:08:38.727Z"
   },
   {
    "duration": 6,
    "start_time": "2022-12-05T11:08:38.747Z"
   },
   {
    "duration": 23,
    "start_time": "2022-12-05T11:08:38.755Z"
   },
   {
    "duration": 35,
    "start_time": "2022-12-05T11:08:38.780Z"
   },
   {
    "duration": 4,
    "start_time": "2022-12-05T11:08:38.817Z"
   },
   {
    "duration": 9,
    "start_time": "2022-12-05T11:08:38.824Z"
   },
   {
    "duration": 20,
    "start_time": "2022-12-05T11:08:38.835Z"
   },
   {
    "duration": 14,
    "start_time": "2022-12-05T11:08:38.857Z"
   },
   {
    "duration": 6,
    "start_time": "2022-12-05T11:08:38.873Z"
   },
   {
    "duration": 7,
    "start_time": "2022-12-05T11:08:38.881Z"
   },
   {
    "duration": 6,
    "start_time": "2022-12-05T11:08:38.913Z"
   },
   {
    "duration": 19,
    "start_time": "2022-12-05T11:08:38.921Z"
   },
   {
    "duration": 9,
    "start_time": "2022-12-05T11:08:38.942Z"
   },
   {
    "duration": 40,
    "start_time": "2022-12-05T11:08:38.953Z"
   },
   {
    "duration": 9,
    "start_time": "2022-12-05T11:08:39.011Z"
   },
   {
    "duration": 3631,
    "start_time": "2022-12-05T11:08:39.022Z"
   },
   {
    "duration": 8,
    "start_time": "2022-12-05T11:08:42.654Z"
   },
   {
    "duration": 15,
    "start_time": "2022-12-05T11:08:42.664Z"
   },
   {
    "duration": 41,
    "start_time": "2022-12-05T11:08:42.680Z"
   },
   {
    "duration": 7,
    "start_time": "2022-12-05T11:08:42.723Z"
   },
   {
    "duration": 197,
    "start_time": "2022-12-05T11:08:42.731Z"
   },
   {
    "duration": 3,
    "start_time": "2022-12-05T11:08:42.930Z"
   },
   {
    "duration": 313,
    "start_time": "2022-12-05T11:08:42.934Z"
   },
   {
    "duration": 3,
    "start_time": "2022-12-05T11:08:43.252Z"
   },
   {
    "duration": 313,
    "start_time": "2022-12-05T11:08:43.257Z"
   },
   {
    "duration": 3,
    "start_time": "2022-12-05T11:08:43.572Z"
   },
   {
    "duration": 272,
    "start_time": "2022-12-05T11:08:43.577Z"
   },
   {
    "duration": 48,
    "start_time": "2022-12-05T11:08:43.852Z"
   },
   {
    "duration": 0,
    "start_time": "2022-12-05T11:08:43.902Z"
   },
   {
    "duration": 0,
    "start_time": "2022-12-05T11:08:43.903Z"
   },
   {
    "duration": 0,
    "start_time": "2022-12-05T11:08:43.904Z"
   },
   {
    "duration": 0,
    "start_time": "2022-12-05T11:08:43.906Z"
   },
   {
    "duration": 0,
    "start_time": "2022-12-05T11:08:43.907Z"
   },
   {
    "duration": 0,
    "start_time": "2022-12-05T11:08:43.908Z"
   },
   {
    "duration": 0,
    "start_time": "2022-12-05T11:08:43.909Z"
   },
   {
    "duration": 0,
    "start_time": "2022-12-05T11:08:43.910Z"
   },
   {
    "duration": 0,
    "start_time": "2022-12-05T11:08:43.911Z"
   },
   {
    "duration": 0,
    "start_time": "2022-12-05T11:08:43.912Z"
   },
   {
    "duration": 0,
    "start_time": "2022-12-05T11:08:43.913Z"
   },
   {
    "duration": 0,
    "start_time": "2022-12-05T11:08:43.914Z"
   },
   {
    "duration": 0,
    "start_time": "2022-12-05T11:08:43.915Z"
   },
   {
    "duration": 0,
    "start_time": "2022-12-05T11:08:43.916Z"
   },
   {
    "duration": 0,
    "start_time": "2022-12-05T11:08:43.917Z"
   },
   {
    "duration": 0,
    "start_time": "2022-12-05T11:08:43.918Z"
   },
   {
    "duration": 0,
    "start_time": "2022-12-05T11:08:43.919Z"
   },
   {
    "duration": 0,
    "start_time": "2022-12-05T11:08:43.920Z"
   },
   {
    "duration": 0,
    "start_time": "2022-12-05T11:08:43.921Z"
   },
   {
    "duration": 0,
    "start_time": "2022-12-05T11:08:43.922Z"
   },
   {
    "duration": 0,
    "start_time": "2022-12-05T11:08:43.923Z"
   },
   {
    "duration": 0,
    "start_time": "2022-12-05T11:08:43.925Z"
   },
   {
    "duration": 0,
    "start_time": "2022-12-05T11:08:43.926Z"
   },
   {
    "duration": 0,
    "start_time": "2022-12-05T11:08:43.927Z"
   },
   {
    "duration": 0,
    "start_time": "2022-12-05T11:08:43.928Z"
   },
   {
    "duration": 0,
    "start_time": "2022-12-05T11:08:43.930Z"
   },
   {
    "duration": 1,
    "start_time": "2022-12-05T11:08:43.930Z"
   },
   {
    "duration": 0,
    "start_time": "2022-12-05T11:08:43.931Z"
   },
   {
    "duration": 0,
    "start_time": "2022-12-05T11:08:43.932Z"
   },
   {
    "duration": 0,
    "start_time": "2022-12-05T11:08:43.933Z"
   },
   {
    "duration": 0,
    "start_time": "2022-12-05T11:08:43.934Z"
   },
   {
    "duration": 0,
    "start_time": "2022-12-05T11:08:43.935Z"
   },
   {
    "duration": 0,
    "start_time": "2022-12-05T11:08:43.936Z"
   },
   {
    "duration": 0,
    "start_time": "2022-12-05T11:08:43.937Z"
   },
   {
    "duration": 0,
    "start_time": "2022-12-05T11:08:43.938Z"
   },
   {
    "duration": 0,
    "start_time": "2022-12-05T11:08:43.939Z"
   },
   {
    "duration": 0,
    "start_time": "2022-12-05T11:08:43.940Z"
   },
   {
    "duration": 0,
    "start_time": "2022-12-05T11:08:43.941Z"
   },
   {
    "duration": 0,
    "start_time": "2022-12-05T11:08:43.942Z"
   },
   {
    "duration": 0,
    "start_time": "2022-12-05T11:08:43.943Z"
   },
   {
    "duration": 0,
    "start_time": "2022-12-05T11:08:43.944Z"
   },
   {
    "duration": 0,
    "start_time": "2022-12-05T11:08:43.945Z"
   },
   {
    "duration": 0,
    "start_time": "2022-12-05T11:08:43.946Z"
   },
   {
    "duration": 0,
    "start_time": "2022-12-05T11:08:43.947Z"
   },
   {
    "duration": 1719,
    "start_time": "2022-12-05T11:09:31.356Z"
   },
   {
    "duration": 1764,
    "start_time": "2022-12-05T11:09:38.364Z"
   },
   {
    "duration": 227,
    "start_time": "2022-12-05T11:09:42.968Z"
   },
   {
    "duration": 189,
    "start_time": "2022-12-05T11:10:12.354Z"
   },
   {
    "duration": 2104,
    "start_time": "2022-12-05T11:10:32.663Z"
   },
   {
    "duration": 7,
    "start_time": "2022-12-05T11:10:34.770Z"
   },
   {
    "duration": 650,
    "start_time": "2022-12-05T11:10:34.779Z"
   },
   {
    "duration": 16,
    "start_time": "2022-12-05T11:10:35.432Z"
   },
   {
    "duration": 19,
    "start_time": "2022-12-05T11:10:35.450Z"
   },
   {
    "duration": 7,
    "start_time": "2022-12-05T11:10:35.470Z"
   },
   {
    "duration": 36,
    "start_time": "2022-12-05T11:10:35.478Z"
   },
   {
    "duration": 18,
    "start_time": "2022-12-05T11:10:35.516Z"
   },
   {
    "duration": 5,
    "start_time": "2022-12-05T11:10:35.535Z"
   },
   {
    "duration": 6,
    "start_time": "2022-12-05T11:10:35.543Z"
   },
   {
    "duration": 21,
    "start_time": "2022-12-05T11:10:35.551Z"
   },
   {
    "duration": 46,
    "start_time": "2022-12-05T11:10:35.575Z"
   },
   {
    "duration": 4,
    "start_time": "2022-12-05T11:10:35.623Z"
   },
   {
    "duration": 8,
    "start_time": "2022-12-05T11:10:35.629Z"
   },
   {
    "duration": 7,
    "start_time": "2022-12-05T11:10:35.639Z"
   },
   {
    "duration": 19,
    "start_time": "2022-12-05T11:10:35.648Z"
   },
   {
    "duration": 8,
    "start_time": "2022-12-05T11:10:35.669Z"
   },
   {
    "duration": 60,
    "start_time": "2022-12-05T11:10:35.678Z"
   },
   {
    "duration": 8,
    "start_time": "2022-12-05T11:10:35.740Z"
   },
   {
    "duration": 5518,
    "start_time": "2022-12-05T11:10:35.750Z"
   },
   {
    "duration": 11,
    "start_time": "2022-12-05T11:10:41.270Z"
   },
   {
    "duration": 7,
    "start_time": "2022-12-05T11:10:41.283Z"
   },
   {
    "duration": 46,
    "start_time": "2022-12-05T11:10:41.292Z"
   },
   {
    "duration": 8,
    "start_time": "2022-12-05T11:10:41.340Z"
   },
   {
    "duration": 286,
    "start_time": "2022-12-05T11:10:41.350Z"
   },
   {
    "duration": 3,
    "start_time": "2022-12-05T11:10:41.638Z"
   },
   {
    "duration": 511,
    "start_time": "2022-12-05T11:10:41.643Z"
   },
   {
    "duration": 3,
    "start_time": "2022-12-05T11:10:42.159Z"
   },
   {
    "duration": 347,
    "start_time": "2022-12-05T11:10:42.165Z"
   },
   {
    "duration": 3,
    "start_time": "2022-12-05T11:10:42.515Z"
   },
   {
    "duration": 279,
    "start_time": "2022-12-05T11:10:42.519Z"
   },
   {
    "duration": 1705,
    "start_time": "2022-12-05T11:10:42.800Z"
   },
   {
    "duration": 225,
    "start_time": "2022-12-05T11:10:44.507Z"
   },
   {
    "duration": 4,
    "start_time": "2022-12-05T11:10:44.733Z"
   },
   {
    "duration": 13,
    "start_time": "2022-12-05T11:10:44.739Z"
   },
   {
    "duration": 6,
    "start_time": "2022-12-05T11:10:44.754Z"
   },
   {
    "duration": 21,
    "start_time": "2022-12-05T11:10:44.762Z"
   },
   {
    "duration": 28,
    "start_time": "2022-12-05T11:10:44.785Z"
   },
   {
    "duration": 22,
    "start_time": "2022-12-05T11:10:44.815Z"
   },
   {
    "duration": 12,
    "start_time": "2022-12-05T11:10:44.840Z"
   },
   {
    "duration": 7,
    "start_time": "2022-12-05T11:10:44.854Z"
   },
   {
    "duration": 8,
    "start_time": "2022-12-05T11:10:44.864Z"
   },
   {
    "duration": 8,
    "start_time": "2022-12-05T11:10:44.874Z"
   },
   {
    "duration": 30,
    "start_time": "2022-12-05T11:10:44.885Z"
   },
   {
    "duration": 237853,
    "start_time": "2022-12-05T11:10:44.917Z"
   },
   {
    "duration": 4,
    "start_time": "2022-12-05T11:14:42.772Z"
   },
   {
    "duration": 38,
    "start_time": "2022-12-05T11:14:42.777Z"
   },
   {
    "duration": 2650,
    "start_time": "2022-12-05T11:14:42.818Z"
   },
   {
    "duration": 4,
    "start_time": "2022-12-05T11:14:45.469Z"
   },
   {
    "duration": 175544,
    "start_time": "2022-12-05T11:14:45.475Z"
   },
   {
    "duration": 5,
    "start_time": "2022-12-05T11:17:41.021Z"
   },
   {
    "duration": 6,
    "start_time": "2022-12-05T11:17:41.027Z"
   },
   {
    "duration": 4,
    "start_time": "2022-12-05T11:17:41.035Z"
   },
   {
    "duration": 4,
    "start_time": "2022-12-05T11:17:41.041Z"
   },
   {
    "duration": 5,
    "start_time": "2022-12-05T11:17:41.047Z"
   },
   {
    "duration": 4,
    "start_time": "2022-12-05T11:17:41.053Z"
   },
   {
    "duration": 149,
    "start_time": "2022-12-05T11:17:41.059Z"
   },
   {
    "duration": 1,
    "start_time": "2022-12-05T11:17:41.209Z"
   },
   {
    "duration": 0,
    "start_time": "2022-12-05T11:17:41.212Z"
   },
   {
    "duration": 0,
    "start_time": "2022-12-05T11:17:41.213Z"
   },
   {
    "duration": 0,
    "start_time": "2022-12-05T11:17:41.214Z"
   },
   {
    "duration": 0,
    "start_time": "2022-12-05T11:17:41.216Z"
   },
   {
    "duration": 0,
    "start_time": "2022-12-05T11:17:41.216Z"
   },
   {
    "duration": 0,
    "start_time": "2022-12-05T11:17:41.217Z"
   },
   {
    "duration": 0,
    "start_time": "2022-12-05T11:17:41.219Z"
   },
   {
    "duration": 0,
    "start_time": "2022-12-05T11:17:41.220Z"
   },
   {
    "duration": 0,
    "start_time": "2022-12-05T11:17:41.221Z"
   },
   {
    "duration": 0,
    "start_time": "2022-12-05T11:17:41.221Z"
   },
   {
    "duration": 0,
    "start_time": "2022-12-05T11:17:41.222Z"
   },
   {
    "duration": 0,
    "start_time": "2022-12-05T11:17:41.224Z"
   },
   {
    "duration": 0,
    "start_time": "2022-12-05T11:17:41.224Z"
   },
   {
    "duration": 0,
    "start_time": "2022-12-05T11:17:41.226Z"
   },
   {
    "duration": 0,
    "start_time": "2022-12-05T11:17:41.227Z"
   },
   {
    "duration": 0,
    "start_time": "2022-12-05T11:17:41.228Z"
   },
   {
    "duration": 0,
    "start_time": "2022-12-05T11:17:41.229Z"
   },
   {
    "duration": 0,
    "start_time": "2022-12-05T11:17:41.230Z"
   },
   {
    "duration": 0,
    "start_time": "2022-12-05T11:17:41.231Z"
   },
   {
    "duration": 0,
    "start_time": "2022-12-05T11:17:41.232Z"
   },
   {
    "duration": 0,
    "start_time": "2022-12-05T11:17:41.233Z"
   },
   {
    "duration": 0,
    "start_time": "2022-12-05T11:17:41.234Z"
   },
   {
    "duration": 0,
    "start_time": "2022-12-05T11:17:41.235Z"
   },
   {
    "duration": 0,
    "start_time": "2022-12-05T11:17:41.237Z"
   },
   {
    "duration": 0,
    "start_time": "2022-12-05T11:17:41.238Z"
   },
   {
    "duration": 0,
    "start_time": "2022-12-05T11:17:41.239Z"
   },
   {
    "duration": 54,
    "start_time": "2022-12-05T11:18:09.755Z"
   },
   {
    "duration": 922,
    "start_time": "2022-12-05T11:19:52.544Z"
   },
   {
    "duration": 9,
    "start_time": "2022-12-05T11:22:56.344Z"
   },
   {
    "duration": 9,
    "start_time": "2022-12-05T11:26:34.207Z"
   },
   {
    "duration": 240357,
    "start_time": "2022-12-05T11:28:18.382Z"
   },
   {
    "duration": 4,
    "start_time": "2022-12-05T11:32:18.742Z"
   },
   {
    "duration": 73,
    "start_time": "2022-12-05T11:36:06.721Z"
   },
   {
    "duration": 3,
    "start_time": "2022-12-05T11:42:33.427Z"
   },
   {
    "duration": 12,
    "start_time": "2022-12-05T11:42:42.426Z"
   },
   {
    "duration": 11,
    "start_time": "2022-12-05T11:42:54.706Z"
   },
   {
    "duration": 4,
    "start_time": "2022-12-05T11:43:12.884Z"
   },
   {
    "duration": 3,
    "start_time": "2022-12-05T11:43:18.198Z"
   },
   {
    "duration": 11,
    "start_time": "2022-12-05T11:43:19.827Z"
   },
   {
    "duration": 4,
    "start_time": "2022-12-05T11:47:45.664Z"
   },
   {
    "duration": 49,
    "start_time": "2022-12-05T11:47:54.058Z"
   },
   {
    "duration": 2311,
    "start_time": "2022-12-05T11:55:03.076Z"
   },
   {
    "duration": 6,
    "start_time": "2022-12-05T11:55:05.390Z"
   },
   {
    "duration": 760,
    "start_time": "2022-12-05T11:55:05.398Z"
   },
   {
    "duration": 33,
    "start_time": "2022-12-05T11:55:06.160Z"
   },
   {
    "duration": 39,
    "start_time": "2022-12-05T11:55:06.196Z"
   },
   {
    "duration": 66,
    "start_time": "2022-12-05T11:55:06.237Z"
   },
   {
    "duration": 83,
    "start_time": "2022-12-05T11:55:06.305Z"
   },
   {
    "duration": 74,
    "start_time": "2022-12-05T11:55:06.390Z"
   },
   {
    "duration": 53,
    "start_time": "2022-12-05T11:55:06.467Z"
   },
   {
    "duration": 49,
    "start_time": "2022-12-05T11:55:06.522Z"
   },
   {
    "duration": 37,
    "start_time": "2022-12-05T11:55:06.574Z"
   },
   {
    "duration": 43,
    "start_time": "2022-12-05T11:55:06.613Z"
   },
   {
    "duration": 22,
    "start_time": "2022-12-05T11:55:06.659Z"
   },
   {
    "duration": 56,
    "start_time": "2022-12-05T11:55:06.686Z"
   },
   {
    "duration": 51,
    "start_time": "2022-12-05T11:55:06.744Z"
   },
   {
    "duration": 56,
    "start_time": "2022-12-05T11:55:06.797Z"
   },
   {
    "duration": 31,
    "start_time": "2022-12-05T11:55:06.855Z"
   },
   {
    "duration": 41,
    "start_time": "2022-12-05T11:55:06.888Z"
   },
   {
    "duration": 21,
    "start_time": "2022-12-05T11:55:06.931Z"
   },
   {
    "duration": 72,
    "start_time": "2022-12-05T11:55:06.953Z"
   },
   {
    "duration": 8,
    "start_time": "2022-12-05T11:55:07.027Z"
   },
   {
    "duration": 3854,
    "start_time": "2022-12-05T11:55:07.037Z"
   },
   {
    "duration": 10,
    "start_time": "2022-12-05T11:55:10.892Z"
   },
   {
    "duration": 22,
    "start_time": "2022-12-05T11:55:10.913Z"
   },
   {
    "duration": 47,
    "start_time": "2022-12-05T11:55:10.937Z"
   },
   {
    "duration": 8,
    "start_time": "2022-12-05T11:55:10.985Z"
   },
   {
    "duration": 226,
    "start_time": "2022-12-05T11:55:10.994Z"
   },
   {
    "duration": 8,
    "start_time": "2022-12-05T11:55:11.222Z"
   },
   {
    "duration": 43,
    "start_time": "2022-12-05T11:55:11.233Z"
   },
   {
    "duration": 49,
    "start_time": "2022-12-05T11:55:11.278Z"
   },
   {
    "duration": 334,
    "start_time": "2022-12-05T11:55:11.329Z"
   },
   {
    "duration": 3,
    "start_time": "2022-12-05T11:55:11.665Z"
   },
   {
    "duration": 360,
    "start_time": "2022-12-05T11:55:11.670Z"
   },
   {
    "duration": 4,
    "start_time": "2022-12-05T11:55:12.032Z"
   },
   {
    "duration": 384,
    "start_time": "2022-12-05T11:55:12.038Z"
   },
   {
    "duration": 1803,
    "start_time": "2022-12-05T11:55:12.424Z"
   },
   {
    "duration": 403,
    "start_time": "2022-12-05T11:55:14.229Z"
   },
   {
    "duration": 178,
    "start_time": "2022-12-05T11:55:14.634Z"
   },
   {
    "duration": 4,
    "start_time": "2022-12-05T11:55:14.814Z"
   },
   {
    "duration": 31,
    "start_time": "2022-12-05T11:55:14.820Z"
   },
   {
    "duration": 6,
    "start_time": "2022-12-05T11:55:14.855Z"
   },
   {
    "duration": 20,
    "start_time": "2022-12-05T11:55:14.862Z"
   },
   {
    "duration": 14,
    "start_time": "2022-12-05T11:55:14.883Z"
   },
   {
    "duration": 40,
    "start_time": "2022-12-05T11:55:14.899Z"
   },
   {
    "duration": 55,
    "start_time": "2022-12-05T11:55:14.941Z"
   },
   {
    "duration": 0,
    "start_time": "2022-12-05T11:55:14.998Z"
   },
   {
    "duration": 0,
    "start_time": "2022-12-05T11:55:15.000Z"
   },
   {
    "duration": 0,
    "start_time": "2022-12-05T11:55:15.001Z"
   },
   {
    "duration": 0,
    "start_time": "2022-12-05T11:55:15.003Z"
   },
   {
    "duration": 0,
    "start_time": "2022-12-05T11:55:15.004Z"
   },
   {
    "duration": 0,
    "start_time": "2022-12-05T11:55:15.006Z"
   },
   {
    "duration": 0,
    "start_time": "2022-12-05T11:55:15.007Z"
   },
   {
    "duration": 0,
    "start_time": "2022-12-05T11:55:15.009Z"
   },
   {
    "duration": 0,
    "start_time": "2022-12-05T11:55:15.011Z"
   },
   {
    "duration": 0,
    "start_time": "2022-12-05T11:55:15.012Z"
   },
   {
    "duration": 0,
    "start_time": "2022-12-05T11:55:15.014Z"
   },
   {
    "duration": 11,
    "start_time": "2022-12-05T11:55:29.536Z"
   },
   {
    "duration": 5,
    "start_time": "2022-12-05T11:55:31.566Z"
   },
   {
    "duration": 3,
    "start_time": "2022-12-05T11:55:31.767Z"
   },
   {
    "duration": 3,
    "start_time": "2022-12-05T11:55:31.964Z"
   },
   {
    "duration": 4,
    "start_time": "2022-12-05T11:55:32.365Z"
   },
   {
    "duration": 4,
    "start_time": "2022-12-05T11:55:34.794Z"
   },
   {
    "duration": 3,
    "start_time": "2022-12-05T11:55:37.106Z"
   },
   {
    "duration": 3,
    "start_time": "2022-12-05T11:55:37.301Z"
   },
   {
    "duration": 3,
    "start_time": "2022-12-05T11:55:37.515Z"
   },
   {
    "duration": 3,
    "start_time": "2022-12-05T11:55:38.934Z"
   },
   {
    "duration": 3,
    "start_time": "2022-12-05T11:55:39.416Z"
   },
   {
    "duration": 19,
    "start_time": "2022-12-05T11:55:42.185Z"
   },
   {
    "duration": 5,
    "start_time": "2022-12-05T11:56:00.535Z"
   },
   {
    "duration": 2284,
    "start_time": "2022-12-05T20:06:21.209Z"
   },
   {
    "duration": 5,
    "start_time": "2022-12-05T20:06:23.496Z"
   },
   {
    "duration": 687,
    "start_time": "2022-12-05T20:06:23.502Z"
   },
   {
    "duration": 21,
    "start_time": "2022-12-05T20:06:24.191Z"
   },
   {
    "duration": 40,
    "start_time": "2022-12-05T20:06:24.214Z"
   },
   {
    "duration": 39,
    "start_time": "2022-12-05T20:06:24.255Z"
   },
   {
    "duration": 40,
    "start_time": "2022-12-05T20:06:24.295Z"
   },
   {
    "duration": 15,
    "start_time": "2022-12-05T20:06:24.336Z"
   },
   {
    "duration": 11,
    "start_time": "2022-12-05T20:06:24.353Z"
   },
   {
    "duration": 5,
    "start_time": "2022-12-05T20:06:24.367Z"
   },
   {
    "duration": 20,
    "start_time": "2022-12-05T20:06:24.373Z"
   },
   {
    "duration": 28,
    "start_time": "2022-12-05T20:06:24.395Z"
   },
   {
    "duration": 13,
    "start_time": "2022-12-05T20:06:24.425Z"
   },
   {
    "duration": 18,
    "start_time": "2022-12-05T20:06:24.440Z"
   },
   {
    "duration": 3,
    "start_time": "2022-12-05T20:06:24.460Z"
   },
   {
    "duration": 20,
    "start_time": "2022-12-05T20:06:24.465Z"
   },
   {
    "duration": 11,
    "start_time": "2022-12-05T20:06:24.487Z"
   },
   {
    "duration": 24,
    "start_time": "2022-12-05T20:06:24.500Z"
   },
   {
    "duration": 10,
    "start_time": "2022-12-05T20:06:24.526Z"
   },
   {
    "duration": 35,
    "start_time": "2022-12-05T20:06:24.538Z"
   },
   {
    "duration": 8,
    "start_time": "2022-12-05T20:06:24.574Z"
   },
   {
    "duration": 3549,
    "start_time": "2022-12-05T20:06:24.584Z"
   },
   {
    "duration": 7,
    "start_time": "2022-12-05T20:06:28.136Z"
   },
   {
    "duration": 38,
    "start_time": "2022-12-05T20:06:28.145Z"
   },
   {
    "duration": 45,
    "start_time": "2022-12-05T20:06:28.185Z"
   },
   {
    "duration": 16,
    "start_time": "2022-12-05T20:06:28.232Z"
   },
   {
    "duration": 195,
    "start_time": "2022-12-05T20:06:28.250Z"
   },
   {
    "duration": 7,
    "start_time": "2022-12-05T20:06:28.448Z"
   },
   {
    "duration": 153,
    "start_time": "2022-12-05T20:06:28.457Z"
   },
   {
    "duration": 0,
    "start_time": "2022-12-05T20:06:28.612Z"
   },
   {
    "duration": 0,
    "start_time": "2022-12-05T20:06:28.613Z"
   },
   {
    "duration": 0,
    "start_time": "2022-12-05T20:06:28.615Z"
   },
   {
    "duration": 0,
    "start_time": "2022-12-05T20:06:28.616Z"
   },
   {
    "duration": 0,
    "start_time": "2022-12-05T20:06:28.618Z"
   },
   {
    "duration": 0,
    "start_time": "2022-12-05T20:06:28.620Z"
   },
   {
    "duration": 0,
    "start_time": "2022-12-05T20:06:28.621Z"
   },
   {
    "duration": 0,
    "start_time": "2022-12-05T20:06:28.635Z"
   },
   {
    "duration": 0,
    "start_time": "2022-12-05T20:06:28.637Z"
   },
   {
    "duration": 0,
    "start_time": "2022-12-05T20:06:28.638Z"
   },
   {
    "duration": 0,
    "start_time": "2022-12-05T20:06:28.640Z"
   },
   {
    "duration": 0,
    "start_time": "2022-12-05T20:06:28.642Z"
   },
   {
    "duration": 3,
    "start_time": "2022-12-05T20:06:49.104Z"
   },
   {
    "duration": 262,
    "start_time": "2022-12-05T20:06:49.297Z"
   },
   {
    "duration": 3,
    "start_time": "2022-12-05T20:06:50.237Z"
   },
   {
    "duration": 244,
    "start_time": "2022-12-05T20:06:50.670Z"
   },
   {
    "duration": 3,
    "start_time": "2022-12-05T20:06:51.905Z"
   },
   {
    "duration": 273,
    "start_time": "2022-12-05T20:06:52.265Z"
   },
   {
    "duration": 1483,
    "start_time": "2022-12-05T20:06:58.928Z"
   },
   {
    "duration": 199,
    "start_time": "2022-12-05T20:07:00.413Z"
   },
   {
    "duration": 163,
    "start_time": "2022-12-05T20:07:00.614Z"
   },
   {
    "duration": 3,
    "start_time": "2022-12-05T20:07:13.868Z"
   },
   {
    "duration": 9,
    "start_time": "2022-12-05T20:07:14.553Z"
   },
   {
    "duration": 6,
    "start_time": "2022-12-05T20:07:18.150Z"
   },
   {
    "duration": 30,
    "start_time": "2022-12-05T20:07:29.618Z"
   },
   {
    "duration": 11,
    "start_time": "2022-12-05T20:07:47.682Z"
   },
   {
    "duration": 6,
    "start_time": "2022-12-05T20:07:54.557Z"
   },
   {
    "duration": 7,
    "start_time": "2022-12-05T20:08:22.192Z"
   },
   {
    "duration": 28,
    "start_time": "2022-12-05T20:08:23.413Z"
   },
   {
    "duration": 6,
    "start_time": "2022-12-05T20:08:48.108Z"
   },
   {
    "duration": 4,
    "start_time": "2022-12-05T20:08:56.610Z"
   },
   {
    "duration": 3,
    "start_time": "2022-12-05T20:08:59.760Z"
   },
   {
    "duration": 13,
    "start_time": "2022-12-05T20:09:04.109Z"
   },
   {
    "duration": 6,
    "start_time": "2022-12-05T20:09:08.235Z"
   },
   {
    "duration": 7,
    "start_time": "2022-12-05T20:09:15.063Z"
   },
   {
    "duration": 3,
    "start_time": "2022-12-05T20:09:16.686Z"
   },
   {
    "duration": 15,
    "start_time": "2022-12-05T20:09:17.144Z"
   },
   {
    "duration": 13,
    "start_time": "2022-12-05T20:09:18.917Z"
   },
   {
    "duration": 4,
    "start_time": "2022-12-05T20:09:25.113Z"
   },
   {
    "duration": 7,
    "start_time": "2022-12-05T20:09:51.049Z"
   },
   {
    "duration": 10,
    "start_time": "2022-12-05T20:10:00.124Z"
   },
   {
    "duration": 24,
    "start_time": "2022-12-05T20:10:03.932Z"
   },
   {
    "duration": 10,
    "start_time": "2022-12-05T20:10:22.974Z"
   },
   {
    "duration": 24,
    "start_time": "2022-12-05T20:10:24.067Z"
   },
   {
    "duration": 10,
    "start_time": "2022-12-05T20:10:42.197Z"
   },
   {
    "duration": 25,
    "start_time": "2022-12-05T20:10:42.915Z"
   },
   {
    "duration": 8,
    "start_time": "2022-12-05T20:10:51.510Z"
   },
   {
    "duration": 3,
    "start_time": "2022-12-05T20:10:52.491Z"
   },
   {
    "duration": 14,
    "start_time": "2022-12-05T20:10:53.081Z"
   },
   {
    "duration": 10,
    "start_time": "2022-12-05T20:10:56.336Z"
   },
   {
    "duration": 25,
    "start_time": "2022-12-05T20:10:56.937Z"
   },
   {
    "duration": 8,
    "start_time": "2022-12-05T20:11:12.294Z"
   },
   {
    "duration": 2,
    "start_time": "2022-12-05T20:11:13.129Z"
   },
   {
    "duration": 13,
    "start_time": "2022-12-05T20:11:13.394Z"
   },
   {
    "duration": 11,
    "start_time": "2022-12-05T20:11:15.563Z"
   },
   {
    "duration": 28,
    "start_time": "2022-12-05T20:11:15.901Z"
   },
   {
    "duration": 24,
    "start_time": "2022-12-05T20:11:20.242Z"
   },
   {
    "duration": 5,
    "start_time": "2022-12-05T20:11:32.323Z"
   },
   {
    "duration": 3,
    "start_time": "2022-12-05T20:11:32.821Z"
   },
   {
    "duration": 2,
    "start_time": "2022-12-05T20:11:33.519Z"
   },
   {
    "duration": 3,
    "start_time": "2022-12-05T20:11:35.293Z"
   },
   {
    "duration": 4,
    "start_time": "2022-12-05T20:11:39.193Z"
   },
   {
    "duration": 3,
    "start_time": "2022-12-05T20:11:42.146Z"
   },
   {
    "duration": 2,
    "start_time": "2022-12-05T20:11:42.758Z"
   },
   {
    "duration": 3,
    "start_time": "2022-12-05T20:11:43.217Z"
   },
   {
    "duration": 2,
    "start_time": "2022-12-05T20:11:44.744Z"
   },
   {
    "duration": 3,
    "start_time": "2022-12-05T20:11:45.330Z"
   },
   {
    "duration": 8197,
    "start_time": "2022-12-05T20:11:46.392Z"
   },
   {
    "duration": 4,
    "start_time": "2022-12-05T20:11:54.591Z"
   },
   {
    "duration": 4,
    "start_time": "2022-12-05T20:11:54.716Z"
   },
   {
    "duration": 5,
    "start_time": "2022-12-05T20:11:55.023Z"
   },
   {
    "duration": 41,
    "start_time": "2022-12-05T20:12:07.604Z"
   },
   {
    "duration": 47,
    "start_time": "2022-12-05T20:20:27.636Z"
   },
   {
    "duration": 50,
    "start_time": "2022-12-05T20:20:36.154Z"
   },
   {
    "duration": 43,
    "start_time": "2022-12-05T20:20:40.528Z"
   },
   {
    "duration": 55,
    "start_time": "2022-12-05T20:20:44.909Z"
   },
   {
    "duration": 52,
    "start_time": "2022-12-05T20:20:49.446Z"
   },
   {
    "duration": 45,
    "start_time": "2022-12-05T20:20:54.929Z"
   },
   {
    "duration": 4,
    "start_time": "2022-12-05T20:21:21.965Z"
   },
   {
    "duration": 5,
    "start_time": "2022-12-05T20:21:47.059Z"
   },
   {
    "duration": 5,
    "start_time": "2022-12-05T20:22:05.013Z"
   },
   {
    "duration": 4,
    "start_time": "2022-12-05T20:22:39.378Z"
   },
   {
    "duration": 4,
    "start_time": "2022-12-05T20:22:54.385Z"
   },
   {
    "duration": 4,
    "start_time": "2022-12-05T20:23:27.613Z"
   },
   {
    "duration": 3,
    "start_time": "2022-12-05T20:23:43.672Z"
   },
   {
    "duration": 8125,
    "start_time": "2022-12-05T20:23:44.041Z"
   },
   {
    "duration": 3,
    "start_time": "2022-12-05T20:24:20.823Z"
   },
   {
    "duration": 4,
    "start_time": "2022-12-05T20:24:28.701Z"
   },
   {
    "duration": 4,
    "start_time": "2022-12-05T20:24:55.501Z"
   },
   {
    "duration": 4,
    "start_time": "2022-12-05T20:25:14.483Z"
   },
   {
    "duration": 4,
    "start_time": "2022-12-05T20:25:27.671Z"
   },
   {
    "duration": 3,
    "start_time": "2022-12-05T20:25:28.482Z"
   },
   {
    "duration": 4,
    "start_time": "2022-12-05T20:25:30.481Z"
   },
   {
    "duration": 5,
    "start_time": "2022-12-05T20:26:19.857Z"
   },
   {
    "duration": 4,
    "start_time": "2022-12-05T20:26:44.669Z"
   },
   {
    "duration": 4,
    "start_time": "2022-12-05T20:26:59.135Z"
   },
   {
    "duration": 939,
    "start_time": "2022-12-05T20:27:44.571Z"
   },
   {
    "duration": 14,
    "start_time": "2022-12-05T20:27:50.164Z"
   },
   {
    "duration": 91,
    "start_time": "2022-12-05T20:27:53.208Z"
   },
   {
    "duration": 90,
    "start_time": "2022-12-05T20:29:27.361Z"
   },
   {
    "duration": 1039,
    "start_time": "2022-12-05T20:29:36.097Z"
   },
   {
    "duration": 15,
    "start_time": "2022-12-05T20:29:37.138Z"
   },
   {
    "duration": 142,
    "start_time": "2022-12-05T20:29:37.909Z"
   },
   {
    "duration": 90,
    "start_time": "2022-12-05T20:30:01.599Z"
   },
   {
    "duration": 4,
    "start_time": "2022-12-05T20:30:39.300Z"
   },
   {
    "duration": 5,
    "start_time": "2022-12-05T20:30:45.596Z"
   },
   {
    "duration": 5,
    "start_time": "2022-12-05T20:34:08.450Z"
   },
   {
    "duration": 8213,
    "start_time": "2022-12-05T20:34:18.271Z"
   },
   {
    "duration": 4,
    "start_time": "2022-12-05T20:34:26.486Z"
   },
   {
    "duration": 11,
    "start_time": "2022-12-05T20:34:26.491Z"
   },
   {
    "duration": 10,
    "start_time": "2022-12-05T20:34:26.504Z"
   },
   {
    "duration": 5,
    "start_time": "2022-12-05T20:34:49.543Z"
   },
   {
    "duration": 8386,
    "start_time": "2022-12-05T20:34:57.458Z"
   },
   {
    "duration": 4,
    "start_time": "2022-12-05T20:35:05.846Z"
   },
   {
    "duration": 10,
    "start_time": "2022-12-05T20:35:05.851Z"
   },
   {
    "duration": 9,
    "start_time": "2022-12-05T20:35:05.863Z"
   },
   {
    "duration": 3,
    "start_time": "2022-12-05T20:35:11.545Z"
   },
   {
    "duration": 8301,
    "start_time": "2022-12-05T20:35:12.416Z"
   },
   {
    "duration": 5,
    "start_time": "2022-12-05T20:35:20.719Z"
   },
   {
    "duration": 30,
    "start_time": "2022-12-05T20:35:20.725Z"
   },
   {
    "duration": 35,
    "start_time": "2022-12-05T20:35:20.757Z"
   },
   {
    "duration": 11,
    "start_time": "2022-12-05T20:37:49.739Z"
   },
   {
    "duration": 148,
    "start_time": "2022-12-05T20:38:07.538Z"
   },
   {
    "duration": 140,
    "start_time": "2022-12-05T20:38:20.284Z"
   },
   {
    "duration": 136,
    "start_time": "2022-12-05T20:38:53.770Z"
   },
   {
    "duration": 168,
    "start_time": "2022-12-05T20:39:06.565Z"
   },
   {
    "duration": 6,
    "start_time": "2022-12-05T20:39:12.736Z"
   },
   {
    "duration": 6,
    "start_time": "2022-12-05T20:39:22.461Z"
   },
   {
    "duration": 7,
    "start_time": "2022-12-05T20:39:31.243Z"
   },
   {
    "duration": 4,
    "start_time": "2022-12-05T20:39:50.246Z"
   },
   {
    "duration": 5,
    "start_time": "2022-12-05T20:39:56.043Z"
   },
   {
    "duration": 5,
    "start_time": "2022-12-05T20:40:02.689Z"
   },
   {
    "duration": 4,
    "start_time": "2022-12-05T20:40:08.198Z"
   },
   {
    "duration": 47,
    "start_time": "2022-12-05T20:50:06.575Z"
   },
   {
    "duration": 2,
    "start_time": "2022-12-05T20:50:09.269Z"
   },
   {
    "duration": 4,
    "start_time": "2022-12-05T20:51:01.351Z"
   },
   {
    "duration": 3,
    "start_time": "2022-12-05T20:51:24.505Z"
   },
   {
    "duration": 4,
    "start_time": "2022-12-05T20:51:54.040Z"
   },
   {
    "duration": 5,
    "start_time": "2022-12-05T20:52:42.505Z"
   },
   {
    "duration": 3,
    "start_time": "2022-12-05T20:53:26.531Z"
   },
   {
    "duration": 2912,
    "start_time": "2022-12-06T11:26:07.208Z"
   },
   {
    "duration": 1971,
    "start_time": "2022-12-06T11:26:10.122Z"
   },
   {
    "duration": 2040,
    "start_time": "2022-12-06T11:26:12.094Z"
   },
   {
    "duration": 32,
    "start_time": "2022-12-06T11:26:14.137Z"
   },
   {
    "duration": 30,
    "start_time": "2022-12-06T11:26:14.171Z"
   },
   {
    "duration": 40,
    "start_time": "2022-12-06T11:26:14.203Z"
   },
   {
    "duration": 24,
    "start_time": "2022-12-06T11:26:14.246Z"
   },
   {
    "duration": 23,
    "start_time": "2022-12-06T11:26:14.272Z"
   },
   {
    "duration": 13,
    "start_time": "2022-12-06T11:26:14.323Z"
   },
   {
    "duration": 8,
    "start_time": "2022-12-06T11:26:14.339Z"
   },
   {
    "duration": 20,
    "start_time": "2022-12-06T11:26:14.348Z"
   },
   {
    "duration": 18,
    "start_time": "2022-12-06T11:26:14.370Z"
   },
   {
    "duration": 6,
    "start_time": "2022-12-06T11:26:14.422Z"
   },
   {
    "duration": 16,
    "start_time": "2022-12-06T11:26:14.430Z"
   },
   {
    "duration": 3,
    "start_time": "2022-12-06T11:26:14.448Z"
   },
   {
    "duration": 7,
    "start_time": "2022-12-06T11:26:14.453Z"
   },
   {
    "duration": 9,
    "start_time": "2022-12-06T11:26:14.461Z"
   },
   {
    "duration": 20,
    "start_time": "2022-12-06T11:26:14.471Z"
   },
   {
    "duration": 36,
    "start_time": "2022-12-06T11:26:14.493Z"
   },
   {
    "duration": 32,
    "start_time": "2022-12-06T11:26:14.531Z"
   },
   {
    "duration": 9,
    "start_time": "2022-12-06T11:26:14.565Z"
   },
   {
    "duration": 3506,
    "start_time": "2022-12-06T11:26:14.576Z"
   },
   {
    "duration": 9,
    "start_time": "2022-12-06T11:26:18.083Z"
   },
   {
    "duration": 9,
    "start_time": "2022-12-06T11:26:18.094Z"
   },
   {
    "duration": 44,
    "start_time": "2022-12-06T11:26:18.104Z"
   },
   {
    "duration": 7,
    "start_time": "2022-12-06T11:26:18.150Z"
   },
   {
    "duration": 266,
    "start_time": "2022-12-06T11:26:18.159Z"
   },
   {
    "duration": 6,
    "start_time": "2022-12-06T11:26:18.429Z"
   },
   {
    "duration": 4,
    "start_time": "2022-12-06T11:26:18.437Z"
   },
   {
    "duration": 286,
    "start_time": "2022-12-06T11:26:18.442Z"
   },
   {
    "duration": 3,
    "start_time": "2022-12-06T11:26:18.729Z"
   },
   {
    "duration": 291,
    "start_time": "2022-12-06T11:26:18.733Z"
   },
   {
    "duration": 2,
    "start_time": "2022-12-06T11:26:19.026Z"
   },
   {
    "duration": 292,
    "start_time": "2022-12-06T11:26:19.030Z"
   },
   {
    "duration": 1633,
    "start_time": "2022-12-06T11:26:19.324Z"
   },
   {
    "duration": 205,
    "start_time": "2022-12-06T11:26:20.959Z"
   },
   {
    "duration": 3,
    "start_time": "2022-12-06T11:26:21.166Z"
   },
   {
    "duration": 16,
    "start_time": "2022-12-06T11:26:21.170Z"
   },
   {
    "duration": 13,
    "start_time": "2022-12-06T11:26:21.187Z"
   },
   {
    "duration": 10,
    "start_time": "2022-12-06T11:26:21.202Z"
   },
   {
    "duration": 12,
    "start_time": "2022-12-06T11:26:21.223Z"
   },
   {
    "duration": 7,
    "start_time": "2022-12-06T11:26:21.236Z"
   },
   {
    "duration": 21,
    "start_time": "2022-12-06T11:26:21.245Z"
   },
   {
    "duration": 11,
    "start_time": "2022-12-06T11:26:21.268Z"
   },
   {
    "duration": 4,
    "start_time": "2022-12-06T11:26:21.281Z"
   },
   {
    "duration": 10,
    "start_time": "2022-12-06T11:26:21.287Z"
   },
   {
    "duration": 7,
    "start_time": "2022-12-06T11:26:21.299Z"
   },
   {
    "duration": 3,
    "start_time": "2022-12-06T11:26:21.324Z"
   },
   {
    "duration": 221378,
    "start_time": "2022-12-06T11:26:21.328Z"
   },
   {
    "duration": 4,
    "start_time": "2022-12-06T11:30:02.707Z"
   },
   {
    "duration": 16,
    "start_time": "2022-12-06T11:30:02.722Z"
   },
   {
    "duration": 2596,
    "start_time": "2022-12-06T11:30:02.740Z"
   },
   {
    "duration": 4,
    "start_time": "2022-12-06T11:30:05.337Z"
   },
   {
    "duration": 170236,
    "start_time": "2022-12-06T11:30:05.342Z"
   },
   {
    "duration": 3,
    "start_time": "2022-12-06T11:32:55.580Z"
   },
   {
    "duration": 16,
    "start_time": "2022-12-06T11:32:55.585Z"
   },
   {
    "duration": 10,
    "start_time": "2022-12-06T11:32:55.603Z"
   },
   {
    "duration": 13,
    "start_time": "2022-12-06T11:32:55.615Z"
   },
   {
    "duration": 11,
    "start_time": "2022-12-06T11:32:55.630Z"
   },
   {
    "duration": 14,
    "start_time": "2022-12-06T11:32:55.642Z"
   },
   {
    "duration": 7903,
    "start_time": "2022-12-06T11:32:55.657Z"
   },
   {
    "duration": 4,
    "start_time": "2022-12-06T11:33:03.561Z"
   },
   {
    "duration": 21,
    "start_time": "2022-12-06T11:33:03.567Z"
   },
   {
    "duration": 28,
    "start_time": "2022-12-06T11:33:03.589Z"
   },
   {
    "duration": 30,
    "start_time": "2022-12-06T11:33:03.619Z"
   },
   {
    "duration": 8228,
    "start_time": "2022-12-06T11:33:03.651Z"
   },
   {
    "duration": 5,
    "start_time": "2022-12-06T11:33:11.880Z"
   },
   {
    "duration": 13,
    "start_time": "2022-12-06T11:33:11.887Z"
   },
   {
    "duration": 7,
    "start_time": "2022-12-06T11:33:11.902Z"
   },
   {
    "duration": 24,
    "start_time": "2022-12-06T11:33:11.911Z"
   },
   {
    "duration": 35,
    "start_time": "2022-12-06T11:33:11.937Z"
   },
   {
    "duration": 24,
    "start_time": "2022-12-06T11:33:11.973Z"
   },
   {
    "duration": 1142,
    "start_time": "2022-12-06T11:33:11.999Z"
   },
   {
    "duration": 13,
    "start_time": "2022-12-06T11:33:13.143Z"
   },
   {
    "duration": 141,
    "start_time": "2022-12-06T11:33:13.158Z"
   },
   {
    "duration": 1347,
    "start_time": "2022-12-06T11:33:13.300Z"
   },
   {
    "duration": 13,
    "start_time": "2022-12-06T11:33:14.649Z"
   },
   {
    "duration": 197,
    "start_time": "2022-12-06T11:33:14.664Z"
   },
   {
    "duration": 4,
    "start_time": "2022-12-06T11:33:14.863Z"
   },
   {
    "duration": 16,
    "start_time": "2022-12-06T11:34:52.397Z"
   },
   {
    "duration": 264,
    "start_time": "2022-12-06T11:34:52.943Z"
   },
   {
    "duration": 15,
    "start_time": "2022-12-06T11:35:46.433Z"
   },
   {
    "duration": 145,
    "start_time": "2022-12-06T11:35:46.656Z"
   },
   {
    "duration": 133,
    "start_time": "2022-12-06T11:36:33.232Z"
   },
   {
    "duration": 15,
    "start_time": "2022-12-06T11:36:34.844Z"
   },
   {
    "duration": 147,
    "start_time": "2022-12-06T11:45:35.535Z"
   },
   {
    "duration": 98,
    "start_time": "2022-12-06T11:45:49.215Z"
   },
   {
    "duration": 79,
    "start_time": "2022-12-06T11:45:54.725Z"
   },
   {
    "duration": 75,
    "start_time": "2022-12-06T11:45:55.536Z"
   },
   {
    "duration": 2893,
    "start_time": "2022-12-06T20:11:01.496Z"
   },
   {
    "duration": 1960,
    "start_time": "2022-12-06T20:11:04.392Z"
   },
   {
    "duration": 2730,
    "start_time": "2022-12-06T20:11:06.354Z"
   },
   {
    "duration": 27,
    "start_time": "2022-12-06T20:11:09.086Z"
   },
   {
    "duration": 20,
    "start_time": "2022-12-06T20:11:09.114Z"
   },
   {
    "duration": 278,
    "start_time": "2022-12-06T20:11:09.136Z"
   },
   {
    "duration": 25,
    "start_time": "2022-12-06T20:11:09.416Z"
   },
   {
    "duration": 35,
    "start_time": "2022-12-06T20:11:09.443Z"
   },
   {
    "duration": 237,
    "start_time": "2022-12-06T20:11:09.480Z"
   },
   {
    "duration": 22,
    "start_time": "2022-12-06T20:11:09.719Z"
   },
   {
    "duration": 17,
    "start_time": "2022-12-06T20:11:09.743Z"
   },
   {
    "duration": 146,
    "start_time": "2022-12-06T20:11:09.779Z"
   },
   {
    "duration": 7,
    "start_time": "2022-12-06T20:11:09.927Z"
   },
   {
    "duration": 14,
    "start_time": "2022-12-06T20:11:09.935Z"
   },
   {
    "duration": 35,
    "start_time": "2022-12-06T20:11:09.951Z"
   },
   {
    "duration": 6,
    "start_time": "2022-12-06T20:11:09.988Z"
   },
   {
    "duration": 33,
    "start_time": "2022-12-06T20:11:09.996Z"
   },
   {
    "duration": 8,
    "start_time": "2022-12-06T20:11:10.030Z"
   },
   {
    "duration": 9,
    "start_time": "2022-12-06T20:11:10.039Z"
   },
   {
    "duration": 9,
    "start_time": "2022-12-06T20:11:10.049Z"
   },
   {
    "duration": 29,
    "start_time": "2022-12-06T20:11:10.060Z"
   },
   {
    "duration": 9,
    "start_time": "2022-12-06T20:11:10.090Z"
   },
   {
    "duration": 32,
    "start_time": "2022-12-06T20:11:10.100Z"
   },
   {
    "duration": 9,
    "start_time": "2022-12-06T20:11:10.134Z"
   },
   {
    "duration": 3829,
    "start_time": "2022-12-06T20:11:10.144Z"
   },
   {
    "duration": 8,
    "start_time": "2022-12-06T20:11:13.975Z"
   },
   {
    "duration": 9,
    "start_time": "2022-12-06T20:11:13.985Z"
   },
   {
    "duration": 33,
    "start_time": "2022-12-06T20:11:13.999Z"
   },
   {
    "duration": 6,
    "start_time": "2022-12-06T20:11:14.034Z"
   },
   {
    "duration": 239,
    "start_time": "2022-12-06T20:11:14.042Z"
   },
   {
    "duration": 7,
    "start_time": "2022-12-06T20:11:14.283Z"
   },
   {
    "duration": 102,
    "start_time": "2022-12-06T20:11:14.292Z"
   },
   {
    "duration": 85,
    "start_time": "2022-12-06T20:11:14.396Z"
   },
   {
    "duration": 294795,
    "start_time": "2022-12-06T20:11:14.483Z"
   },
   {
    "duration": 12,
    "start_time": "2022-12-06T20:17:29.625Z"
   },
   {
    "duration": 404,
    "start_time": "2022-12-06T20:17:29.638Z"
   },
   {
    "duration": 3,
    "start_time": "2022-12-06T20:17:30.044Z"
   },
   {
    "duration": 304,
    "start_time": "2022-12-06T20:17:30.049Z"
   },
   {
    "duration": 3,
    "start_time": "2022-12-06T20:17:30.355Z"
   },
   {
    "duration": 349,
    "start_time": "2022-12-06T20:17:30.360Z"
   },
   {
    "duration": 1791,
    "start_time": "2022-12-06T20:17:30.712Z"
   },
   {
    "duration": 399,
    "start_time": "2022-12-06T20:17:32.505Z"
   },
   {
    "duration": 3,
    "start_time": "2022-12-06T20:17:32.906Z"
   },
   {
    "duration": 15,
    "start_time": "2022-12-06T20:17:32.911Z"
   },
   {
    "duration": 5,
    "start_time": "2022-12-06T20:17:32.928Z"
   },
   {
    "duration": 12,
    "start_time": "2022-12-06T20:17:32.935Z"
   },
   {
    "duration": 29,
    "start_time": "2022-12-06T20:17:32.949Z"
   },
   {
    "duration": 9,
    "start_time": "2022-12-06T20:17:32.980Z"
   },
   {
    "duration": 20,
    "start_time": "2022-12-06T20:17:32.991Z"
   },
   {
    "duration": 13,
    "start_time": "2022-12-06T20:17:33.012Z"
   },
   {
    "duration": 6,
    "start_time": "2022-12-06T20:17:33.027Z"
   },
   {
    "duration": 10,
    "start_time": "2022-12-06T20:17:33.035Z"
   },
   {
    "duration": 32,
    "start_time": "2022-12-06T20:17:33.046Z"
   },
   {
    "duration": 12,
    "start_time": "2022-12-06T20:17:33.080Z"
   },
   {
    "duration": 240440,
    "start_time": "2022-12-06T20:17:33.094Z"
   },
   {
    "duration": 4,
    "start_time": "2022-12-06T20:21:33.536Z"
   },
   {
    "duration": 37,
    "start_time": "2022-12-06T20:21:33.542Z"
   },
   {
    "duration": 2799,
    "start_time": "2022-12-06T20:21:33.587Z"
   },
   {
    "duration": 6,
    "start_time": "2022-12-06T20:21:36.388Z"
   },
   {
    "duration": 183850,
    "start_time": "2022-12-06T20:21:36.395Z"
   },
   {
    "duration": 4,
    "start_time": "2022-12-06T20:24:40.247Z"
   },
   {
    "duration": 7,
    "start_time": "2022-12-06T20:24:40.252Z"
   },
   {
    "duration": 21,
    "start_time": "2022-12-06T20:24:40.260Z"
   },
   {
    "duration": 35,
    "start_time": "2022-12-06T20:24:40.284Z"
   },
   {
    "duration": 7,
    "start_time": "2022-12-06T20:24:40.321Z"
   },
   {
    "duration": 7,
    "start_time": "2022-12-06T20:24:40.330Z"
   },
   {
    "duration": 11204,
    "start_time": "2022-12-06T20:24:40.339Z"
   },
   {
    "duration": 5,
    "start_time": "2022-12-06T20:24:51.545Z"
   },
   {
    "duration": 8,
    "start_time": "2022-12-06T20:24:51.552Z"
   },
   {
    "duration": 22,
    "start_time": "2022-12-06T20:24:51.562Z"
   },
   {
    "duration": 21,
    "start_time": "2022-12-06T20:24:51.586Z"
   },
   {
    "duration": 12118,
    "start_time": "2022-12-06T20:24:51.609Z"
   },
   {
    "duration": 4,
    "start_time": "2022-12-06T20:25:03.729Z"
   },
   {
    "duration": 9,
    "start_time": "2022-12-06T20:25:03.735Z"
   },
   {
    "duration": 8,
    "start_time": "2022-12-06T20:25:03.746Z"
   },
   {
    "duration": 12,
    "start_time": "2022-12-06T20:25:03.756Z"
   },
   {
    "duration": 13,
    "start_time": "2022-12-06T20:25:03.782Z"
   },
   {
    "duration": 13,
    "start_time": "2022-12-06T20:25:03.796Z"
   },
   {
    "duration": 1081,
    "start_time": "2022-12-06T20:25:03.811Z"
   },
   {
    "duration": 22,
    "start_time": "2022-12-06T20:25:04.899Z"
   },
   {
    "duration": 179,
    "start_time": "2022-12-06T20:25:04.923Z"
   },
   {
    "duration": 1123,
    "start_time": "2022-12-06T20:25:05.105Z"
   },
   {
    "duration": 15,
    "start_time": "2022-12-06T20:25:06.229Z"
   },
   {
    "duration": 140,
    "start_time": "2022-12-06T20:25:06.246Z"
   },
   {
    "duration": 6,
    "start_time": "2022-12-06T20:25:06.391Z"
   },
   {
    "duration": 87999,
    "start_time": "2022-12-06T20:25:06.399Z"
   },
   {
    "duration": 5,
    "start_time": "2022-12-06T20:26:34.400Z"
   },
   {
    "duration": 303,
    "start_time": "2022-12-06T20:26:34.408Z"
   },
   {
    "duration": 9,
    "start_time": "2022-12-06T20:27:53.051Z"
   },
   {
    "duration": 7,
    "start_time": "2022-12-06T20:28:05.813Z"
   },
   {
    "duration": 5,
    "start_time": "2022-12-06T20:28:13.751Z"
   },
   {
    "duration": 6,
    "start_time": "2022-12-06T20:28:18.811Z"
   },
   {
    "duration": 827,
    "start_time": "2022-12-06T20:28:36.636Z"
   },
   {
    "duration": 9,
    "start_time": "2022-12-06T20:30:58.472Z"
   },
   {
    "duration": 5,
    "start_time": "2022-12-06T20:31:11.478Z"
   },
   {
    "duration": 3,
    "start_time": "2022-12-06T20:32:15.934Z"
   },
   {
    "duration": 47,
    "start_time": "2022-12-06T20:33:10.491Z"
   },
   {
    "duration": 51,
    "start_time": "2022-12-06T20:33:16.755Z"
   },
   {
    "duration": 2387,
    "start_time": "2022-12-06T20:33:20.755Z"
   },
   {
    "duration": 2614,
    "start_time": "2022-12-06T20:33:30.548Z"
   },
   {
    "duration": 2458,
    "start_time": "2022-12-06T20:33:41.554Z"
   },
   {
    "duration": 2878,
    "start_time": "2022-12-06T20:34:02.019Z"
   },
   {
    "duration": 2817,
    "start_time": "2022-12-06T20:34:40.477Z"
   },
   {
    "duration": 3830,
    "start_time": "2022-12-06T20:34:56.968Z"
   },
   {
    "duration": 4,
    "start_time": "2022-12-06T20:37:23.221Z"
   },
   {
    "duration": 674,
    "start_time": "2022-12-06T20:37:23.556Z"
   },
   {
    "duration": 693,
    "start_time": "2022-12-06T20:37:43.811Z"
   },
   {
    "duration": 714,
    "start_time": "2022-12-06T20:38:01.701Z"
   },
   {
    "duration": 5497,
    "start_time": "2022-12-06T20:38:12.786Z"
   },
   {
    "duration": 6311,
    "start_time": "2022-12-06T20:38:18.988Z"
   },
   {
    "duration": 5,
    "start_time": "2022-12-06T20:38:25.301Z"
   },
   {
    "duration": 3,
    "start_time": "2022-12-06T20:40:22.015Z"
   },
   {
    "duration": 29,
    "start_time": "2022-12-06T20:40:26.249Z"
   },
   {
    "duration": 3,
    "start_time": "2022-12-06T20:41:18.259Z"
   },
   {
    "duration": 33,
    "start_time": "2022-12-06T20:41:19.166Z"
   },
   {
    "duration": 22,
    "start_time": "2022-12-06T20:42:45.410Z"
   },
   {
    "duration": 27,
    "start_time": "2022-12-06T20:42:54.666Z"
   },
   {
    "duration": 743,
    "start_time": "2022-12-06T20:43:14.925Z"
   },
   {
    "duration": 29,
    "start_time": "2022-12-06T20:43:19.124Z"
   },
   {
    "duration": 6,
    "start_time": "2022-12-06T20:43:42.111Z"
   },
   {
    "duration": 7,
    "start_time": "2022-12-06T20:44:10.081Z"
   },
   {
    "duration": 7,
    "start_time": "2022-12-06T20:44:19.020Z"
   },
   {
    "duration": 6,
    "start_time": "2022-12-06T20:44:44.673Z"
   },
   {
    "duration": 6,
    "start_time": "2022-12-06T20:44:51.218Z"
   },
   {
    "duration": 7,
    "start_time": "2022-12-06T20:44:56.691Z"
   },
   {
    "duration": 7,
    "start_time": "2022-12-06T20:45:08.692Z"
   },
   {
    "duration": 6,
    "start_time": "2022-12-06T20:45:11.948Z"
   },
   {
    "duration": 7,
    "start_time": "2022-12-06T20:45:18.368Z"
   },
   {
    "duration": 7,
    "start_time": "2022-12-06T20:45:25.098Z"
   },
   {
    "duration": 6,
    "start_time": "2022-12-06T20:45:31.411Z"
   },
   {
    "duration": 7,
    "start_time": "2022-12-06T20:45:43.488Z"
   },
   {
    "duration": 126,
    "start_time": "2022-12-06T20:46:07.498Z"
   },
   {
    "duration": 108,
    "start_time": "2022-12-06T20:46:22.783Z"
   },
   {
    "duration": 141,
    "start_time": "2022-12-06T20:46:32.447Z"
   },
   {
    "duration": 7,
    "start_time": "2022-12-06T20:46:46.127Z"
   },
   {
    "duration": 123,
    "start_time": "2022-12-06T20:46:58.391Z"
   },
   {
    "duration": 4,
    "start_time": "2022-12-06T20:47:27.579Z"
   },
   {
    "duration": 7,
    "start_time": "2022-12-06T20:47:30.553Z"
   },
   {
    "duration": 42,
    "start_time": "2022-12-06T20:53:25.215Z"
   },
   {
    "duration": 135,
    "start_time": "2022-12-06T20:53:40.065Z"
   },
   {
    "duration": 154,
    "start_time": "2022-12-06T20:53:50.161Z"
   },
   {
    "duration": 173,
    "start_time": "2022-12-06T20:54:05.509Z"
   },
   {
    "duration": 5,
    "start_time": "2022-12-06T20:54:39.612Z"
   },
   {
    "duration": 6,
    "start_time": "2022-12-06T20:54:45.662Z"
   },
   {
    "duration": 7,
    "start_time": "2022-12-06T20:55:16.861Z"
   },
   {
    "duration": 6,
    "start_time": "2022-12-06T20:55:25.636Z"
   },
   {
    "duration": 7,
    "start_time": "2022-12-06T20:55:37.420Z"
   },
   {
    "duration": 172,
    "start_time": "2022-12-06T20:55:50.634Z"
   },
   {
    "duration": 256,
    "start_time": "2022-12-06T20:56:10.038Z"
   },
   {
    "duration": 57,
    "start_time": "2022-12-06T20:56:21.679Z"
   },
   {
    "duration": 43,
    "start_time": "2022-12-06T20:56:25.427Z"
   },
   {
    "duration": 155,
    "start_time": "2022-12-06T20:56:34.069Z"
   },
   {
    "duration": 13,
    "start_time": "2022-12-06T20:57:33.468Z"
   },
   {
    "duration": 20,
    "start_time": "2022-12-06T20:57:39.245Z"
   },
   {
    "duration": 24,
    "start_time": "2022-12-06T20:57:50.931Z"
   },
   {
    "duration": 25,
    "start_time": "2022-12-06T20:58:00.905Z"
   },
   {
    "duration": 6,
    "start_time": "2022-12-06T20:58:23.607Z"
   },
   {
    "duration": 115,
    "start_time": "2022-12-06T20:58:33.735Z"
   },
   {
    "duration": 8,
    "start_time": "2022-12-06T20:58:41.358Z"
   },
   {
    "duration": 6,
    "start_time": "2022-12-06T20:58:47.670Z"
   },
   {
    "duration": 19,
    "start_time": "2022-12-06T20:59:01.938Z"
   },
   {
    "duration": 142,
    "start_time": "2022-12-06T20:59:10.728Z"
   },
   {
    "duration": 212,
    "start_time": "2022-12-06T20:59:21.451Z"
   },
   {
    "duration": 311,
    "start_time": "2022-12-06T20:59:49.130Z"
   },
   {
    "duration": 275,
    "start_time": "2022-12-06T20:59:56.277Z"
   },
   {
    "duration": 253,
    "start_time": "2022-12-06T21:00:03.358Z"
   },
   {
    "duration": 261,
    "start_time": "2022-12-06T21:00:36.344Z"
   },
   {
    "duration": 283,
    "start_time": "2022-12-06T21:01:06.261Z"
   },
   {
    "duration": 255,
    "start_time": "2022-12-06T21:01:10.356Z"
   },
   {
    "duration": 219,
    "start_time": "2022-12-06T21:01:17.649Z"
   },
   {
    "duration": 138,
    "start_time": "2022-12-06T21:01:24.063Z"
   },
   {
    "duration": 257,
    "start_time": "2022-12-06T21:01:30.361Z"
   },
   {
    "duration": 280,
    "start_time": "2022-12-06T21:01:38.208Z"
   },
   {
    "duration": 239,
    "start_time": "2022-12-06T21:01:45.718Z"
   },
   {
    "duration": 387,
    "start_time": "2022-12-06T21:02:03.189Z"
   },
   {
    "duration": 2269,
    "start_time": "2022-12-06T21:04:59.939Z"
   },
   {
    "duration": 5,
    "start_time": "2022-12-06T21:05:02.211Z"
   },
   {
    "duration": 1597,
    "start_time": "2022-12-06T21:05:02.218Z"
   },
   {
    "duration": 25,
    "start_time": "2022-12-06T21:05:03.816Z"
   },
   {
    "duration": 37,
    "start_time": "2022-12-06T21:05:03.844Z"
   },
   {
    "duration": 271,
    "start_time": "2022-12-06T21:05:03.883Z"
   },
   {
    "duration": 25,
    "start_time": "2022-12-06T21:05:04.155Z"
   },
   {
    "duration": 23,
    "start_time": "2022-12-06T21:05:04.182Z"
   },
   {
    "duration": 252,
    "start_time": "2022-12-06T21:05:04.207Z"
   },
   {
    "duration": 27,
    "start_time": "2022-12-06T21:05:04.461Z"
   },
   {
    "duration": 31,
    "start_time": "2022-12-06T21:05:04.490Z"
   },
   {
    "duration": 134,
    "start_time": "2022-12-06T21:05:04.523Z"
   },
   {
    "duration": 7,
    "start_time": "2022-12-06T21:05:04.659Z"
   },
   {
    "duration": 25,
    "start_time": "2022-12-06T21:05:04.680Z"
   },
   {
    "duration": 20,
    "start_time": "2022-12-06T21:05:04.707Z"
   },
   {
    "duration": 8,
    "start_time": "2022-12-06T21:05:04.729Z"
   },
   {
    "duration": 16,
    "start_time": "2022-12-06T21:05:04.739Z"
   },
   {
    "duration": 5,
    "start_time": "2022-12-06T21:05:04.757Z"
   },
   {
    "duration": 20,
    "start_time": "2022-12-06T21:05:04.764Z"
   },
   {
    "duration": 10,
    "start_time": "2022-12-06T21:05:04.786Z"
   },
   {
    "duration": 27,
    "start_time": "2022-12-06T21:05:04.798Z"
   },
   {
    "duration": 8,
    "start_time": "2022-12-06T21:05:04.827Z"
   },
   {
    "duration": 37,
    "start_time": "2022-12-06T21:05:04.837Z"
   },
   {
    "duration": 10,
    "start_time": "2022-12-06T21:05:04.877Z"
   },
   {
    "duration": 2914,
    "start_time": "2022-12-06T21:05:04.889Z"
   },
   {
    "duration": 0,
    "start_time": "2022-12-06T21:05:07.807Z"
   },
   {
    "duration": 0,
    "start_time": "2022-12-06T21:05:07.808Z"
   },
   {
    "duration": 0,
    "start_time": "2022-12-06T21:05:07.809Z"
   },
   {
    "duration": 0,
    "start_time": "2022-12-06T21:05:07.811Z"
   },
   {
    "duration": 0,
    "start_time": "2022-12-06T21:05:07.813Z"
   },
   {
    "duration": 0,
    "start_time": "2022-12-06T21:05:07.814Z"
   },
   {
    "duration": 0,
    "start_time": "2022-12-06T21:05:07.815Z"
   },
   {
    "duration": 0,
    "start_time": "2022-12-06T21:05:07.817Z"
   },
   {
    "duration": 0,
    "start_time": "2022-12-06T21:05:07.818Z"
   },
   {
    "duration": 0,
    "start_time": "2022-12-06T21:05:07.820Z"
   },
   {
    "duration": 0,
    "start_time": "2022-12-06T21:05:07.821Z"
   },
   {
    "duration": 0,
    "start_time": "2022-12-06T21:05:07.823Z"
   },
   {
    "duration": 0,
    "start_time": "2022-12-06T21:05:07.824Z"
   },
   {
    "duration": 0,
    "start_time": "2022-12-06T21:05:07.825Z"
   },
   {
    "duration": 0,
    "start_time": "2022-12-06T21:05:07.827Z"
   },
   {
    "duration": 0,
    "start_time": "2022-12-06T21:05:07.828Z"
   },
   {
    "duration": 0,
    "start_time": "2022-12-06T21:05:07.830Z"
   },
   {
    "duration": 0,
    "start_time": "2022-12-06T21:05:07.832Z"
   },
   {
    "duration": 0,
    "start_time": "2022-12-06T21:05:07.878Z"
   },
   {
    "duration": 0,
    "start_time": "2022-12-06T21:05:07.880Z"
   },
   {
    "duration": 0,
    "start_time": "2022-12-06T21:05:07.881Z"
   },
   {
    "duration": 0,
    "start_time": "2022-12-06T21:05:07.883Z"
   },
   {
    "duration": 0,
    "start_time": "2022-12-06T21:05:07.884Z"
   },
   {
    "duration": 0,
    "start_time": "2022-12-06T21:05:07.886Z"
   },
   {
    "duration": 0,
    "start_time": "2022-12-06T21:05:07.887Z"
   },
   {
    "duration": 0,
    "start_time": "2022-12-06T21:05:07.888Z"
   },
   {
    "duration": 0,
    "start_time": "2022-12-06T21:05:07.890Z"
   },
   {
    "duration": 0,
    "start_time": "2022-12-06T21:05:07.891Z"
   },
   {
    "duration": 0,
    "start_time": "2022-12-06T21:05:07.893Z"
   },
   {
    "duration": 0,
    "start_time": "2022-12-06T21:05:07.894Z"
   },
   {
    "duration": 0,
    "start_time": "2022-12-06T21:05:07.895Z"
   },
   {
    "duration": 0,
    "start_time": "2022-12-06T21:05:07.897Z"
   },
   {
    "duration": 0,
    "start_time": "2022-12-06T21:05:07.898Z"
   },
   {
    "duration": 0,
    "start_time": "2022-12-06T21:05:07.899Z"
   },
   {
    "duration": 0,
    "start_time": "2022-12-06T21:05:07.901Z"
   },
   {
    "duration": 0,
    "start_time": "2022-12-06T21:05:07.902Z"
   },
   {
    "duration": 0,
    "start_time": "2022-12-06T21:05:07.903Z"
   },
   {
    "duration": 0,
    "start_time": "2022-12-06T21:05:07.904Z"
   },
   {
    "duration": 0,
    "start_time": "2022-12-06T21:05:07.905Z"
   },
   {
    "duration": 0,
    "start_time": "2022-12-06T21:05:07.906Z"
   },
   {
    "duration": 0,
    "start_time": "2022-12-06T21:05:07.907Z"
   },
   {
    "duration": 0,
    "start_time": "2022-12-06T21:05:07.908Z"
   },
   {
    "duration": 0,
    "start_time": "2022-12-06T21:05:07.909Z"
   },
   {
    "duration": 0,
    "start_time": "2022-12-06T21:05:07.910Z"
   },
   {
    "duration": 0,
    "start_time": "2022-12-06T21:05:07.911Z"
   },
   {
    "duration": 0,
    "start_time": "2022-12-06T21:05:07.912Z"
   },
   {
    "duration": 0,
    "start_time": "2022-12-06T21:05:07.913Z"
   },
   {
    "duration": 0,
    "start_time": "2022-12-06T21:05:07.914Z"
   },
   {
    "duration": 0,
    "start_time": "2022-12-06T21:05:07.978Z"
   },
   {
    "duration": 0,
    "start_time": "2022-12-06T21:05:07.981Z"
   },
   {
    "duration": 0,
    "start_time": "2022-12-06T21:05:07.982Z"
   },
   {
    "duration": 0,
    "start_time": "2022-12-06T21:05:07.983Z"
   },
   {
    "duration": 1,
    "start_time": "2022-12-06T21:05:07.984Z"
   },
   {
    "duration": 0,
    "start_time": "2022-12-06T21:05:07.986Z"
   },
   {
    "duration": 0,
    "start_time": "2022-12-06T21:05:07.987Z"
   },
   {
    "duration": 0,
    "start_time": "2022-12-06T21:05:07.988Z"
   },
   {
    "duration": 0,
    "start_time": "2022-12-06T21:05:07.989Z"
   },
   {
    "duration": 0,
    "start_time": "2022-12-06T21:05:07.990Z"
   },
   {
    "duration": 0,
    "start_time": "2022-12-06T21:05:07.991Z"
   },
   {
    "duration": 0,
    "start_time": "2022-12-06T21:05:07.992Z"
   },
   {
    "duration": 0,
    "start_time": "2022-12-06T21:05:07.993Z"
   },
   {
    "duration": 0,
    "start_time": "2022-12-06T21:05:07.994Z"
   },
   {
    "duration": 2226,
    "start_time": "2022-12-06T21:05:20.793Z"
   },
   {
    "duration": 1877,
    "start_time": "2022-12-06T21:05:23.021Z"
   },
   {
    "duration": 735,
    "start_time": "2022-12-06T21:05:24.900Z"
   },
   {
    "duration": 27,
    "start_time": "2022-12-06T21:05:25.637Z"
   },
   {
    "duration": 26,
    "start_time": "2022-12-06T21:05:25.666Z"
   },
   {
    "duration": 299,
    "start_time": "2022-12-06T21:05:25.694Z"
   },
   {
    "duration": 23,
    "start_time": "2022-12-06T21:05:25.995Z"
   },
   {
    "duration": 23,
    "start_time": "2022-12-06T21:05:26.020Z"
   },
   {
    "duration": 265,
    "start_time": "2022-12-06T21:05:26.044Z"
   },
   {
    "duration": 21,
    "start_time": "2022-12-06T21:05:26.311Z"
   },
   {
    "duration": 15,
    "start_time": "2022-12-06T21:05:26.334Z"
   },
   {
    "duration": 156,
    "start_time": "2022-12-06T21:05:26.351Z"
   },
   {
    "duration": 7,
    "start_time": "2022-12-06T21:05:26.509Z"
   },
   {
    "duration": 15,
    "start_time": "2022-12-06T21:05:26.519Z"
   },
   {
    "duration": 18,
    "start_time": "2022-12-06T21:05:26.536Z"
   },
   {
    "duration": 26,
    "start_time": "2022-12-06T21:05:26.555Z"
   },
   {
    "duration": 16,
    "start_time": "2022-12-06T21:05:26.582Z"
   },
   {
    "duration": 3,
    "start_time": "2022-12-06T21:05:26.600Z"
   },
   {
    "duration": 10,
    "start_time": "2022-12-06T21:05:26.605Z"
   },
   {
    "duration": 10,
    "start_time": "2022-12-06T21:05:26.617Z"
   },
   {
    "duration": 25,
    "start_time": "2022-12-06T21:05:26.629Z"
   },
   {
    "duration": 26,
    "start_time": "2022-12-06T21:05:26.656Z"
   },
   {
    "duration": 30,
    "start_time": "2022-12-06T21:05:26.684Z"
   },
   {
    "duration": 9,
    "start_time": "2022-12-06T21:05:26.715Z"
   },
   {
    "duration": 3736,
    "start_time": "2022-12-06T21:05:26.725Z"
   },
   {
    "duration": 9,
    "start_time": "2022-12-06T21:05:30.463Z"
   },
   {
    "duration": 54,
    "start_time": "2022-12-06T21:05:30.478Z"
   },
   {
    "duration": 41,
    "start_time": "2022-12-06T21:05:30.534Z"
   },
   {
    "duration": 8,
    "start_time": "2022-12-06T21:05:30.578Z"
   },
   {
    "duration": 204,
    "start_time": "2022-12-06T21:05:30.588Z"
   },
   {
    "duration": 8,
    "start_time": "2022-12-06T21:05:30.794Z"
   },
   {
    "duration": 104,
    "start_time": "2022-12-06T21:05:30.804Z"
   },
   {
    "duration": 96,
    "start_time": "2022-12-06T21:05:30.910Z"
   },
   {
    "duration": 282540,
    "start_time": "2022-12-06T21:05:31.008Z"
   },
   {
    "duration": 3,
    "start_time": "2022-12-06T21:10:13.550Z"
   },
   {
    "duration": 15,
    "start_time": "2022-12-06T21:10:13.555Z"
   },
   {
    "duration": 3,
    "start_time": "2022-12-06T21:10:13.578Z"
   },
   {
    "duration": 310,
    "start_time": "2022-12-06T21:10:13.583Z"
   },
   {
    "duration": 2,
    "start_time": "2022-12-06T21:10:13.895Z"
   },
   {
    "duration": 310,
    "start_time": "2022-12-06T21:10:13.899Z"
   },
   {
    "duration": 3,
    "start_time": "2022-12-06T21:10:14.214Z"
   },
   {
    "duration": 407,
    "start_time": "2022-12-06T21:10:14.218Z"
   },
   {
    "duration": 1710,
    "start_time": "2022-12-06T21:10:14.627Z"
   },
   {
    "duration": 216,
    "start_time": "2022-12-06T21:10:16.340Z"
   },
   {
    "duration": 4,
    "start_time": "2022-12-06T21:10:16.558Z"
   },
   {
    "duration": 21,
    "start_time": "2022-12-06T21:10:16.563Z"
   },
   {
    "duration": 4,
    "start_time": "2022-12-06T21:10:16.586Z"
   },
   {
    "duration": 11,
    "start_time": "2022-12-06T21:10:16.592Z"
   },
   {
    "duration": 10,
    "start_time": "2022-12-06T21:10:16.605Z"
   },
   {
    "duration": 6,
    "start_time": "2022-12-06T21:10:16.617Z"
   },
   {
    "duration": 19,
    "start_time": "2022-12-06T21:10:16.624Z"
   },
   {
    "duration": 44,
    "start_time": "2022-12-06T21:10:16.645Z"
   },
   {
    "duration": 6,
    "start_time": "2022-12-06T21:10:16.690Z"
   },
   {
    "duration": 5,
    "start_time": "2022-12-06T21:10:16.698Z"
   },
   {
    "duration": 7,
    "start_time": "2022-12-06T21:10:16.705Z"
   },
   {
    "duration": 5,
    "start_time": "2022-12-06T21:10:16.714Z"
   },
   {
    "duration": 230064,
    "start_time": "2022-12-06T21:10:16.720Z"
   },
   {
    "duration": 4,
    "start_time": "2022-12-06T21:14:06.786Z"
   },
   {
    "duration": 29,
    "start_time": "2022-12-06T21:14:06.791Z"
   },
   {
    "duration": 2875,
    "start_time": "2022-12-06T21:14:06.822Z"
   },
   {
    "duration": 4,
    "start_time": "2022-12-06T21:14:09.698Z"
   },
   {
    "duration": 175446,
    "start_time": "2022-12-06T21:14:09.704Z"
   },
   {
    "duration": 4,
    "start_time": "2022-12-06T21:17:05.152Z"
   },
   {
    "duration": 6,
    "start_time": "2022-12-06T21:17:05.158Z"
   },
   {
    "duration": 15,
    "start_time": "2022-12-06T21:17:05.165Z"
   },
   {
    "duration": 8,
    "start_time": "2022-12-06T21:17:05.181Z"
   },
   {
    "duration": 7,
    "start_time": "2022-12-06T21:17:05.191Z"
   },
   {
    "duration": 5,
    "start_time": "2022-12-06T21:17:05.200Z"
   },
   {
    "duration": 8389,
    "start_time": "2022-12-06T21:17:05.207Z"
   },
   {
    "duration": 4,
    "start_time": "2022-12-06T21:17:13.598Z"
   },
   {
    "duration": 9,
    "start_time": "2022-12-06T21:17:13.604Z"
   },
   {
    "duration": 12,
    "start_time": "2022-12-06T21:17:13.614Z"
   },
   {
    "duration": 7,
    "start_time": "2022-12-06T21:17:13.627Z"
   },
   {
    "duration": 8002,
    "start_time": "2022-12-06T21:17:13.636Z"
   },
   {
    "duration": 5,
    "start_time": "2022-12-06T21:17:21.639Z"
   },
   {
    "duration": 8,
    "start_time": "2022-12-06T21:17:21.645Z"
   },
   {
    "duration": 17,
    "start_time": "2022-12-06T21:17:21.655Z"
   },
   {
    "duration": 16,
    "start_time": "2022-12-06T21:17:21.673Z"
   },
   {
    "duration": 19,
    "start_time": "2022-12-06T21:17:21.690Z"
   },
   {
    "duration": 5,
    "start_time": "2022-12-06T21:17:21.711Z"
   },
   {
    "duration": 977,
    "start_time": "2022-12-06T21:17:21.717Z"
   },
   {
    "duration": 14,
    "start_time": "2022-12-06T21:17:22.696Z"
   },
   {
    "duration": 131,
    "start_time": "2022-12-06T21:17:22.711Z"
   },
   {
    "duration": 1062,
    "start_time": "2022-12-06T21:17:22.844Z"
   },
   {
    "duration": 17,
    "start_time": "2022-12-06T21:17:23.908Z"
   },
   {
    "duration": 111,
    "start_time": "2022-12-06T21:17:23.927Z"
   },
   {
    "duration": 5,
    "start_time": "2022-12-06T21:17:24.040Z"
   },
   {
    "duration": 53,
    "start_time": "2022-12-06T21:19:17.104Z"
   },
   {
    "duration": 48,
    "start_time": "2022-12-06T21:19:38.249Z"
   },
   {
    "duration": 4,
    "start_time": "2022-12-06T21:19:43.061Z"
   },
   {
    "duration": 3,
    "start_time": "2022-12-06T21:19:50.442Z"
   },
   {
    "duration": 3,
    "start_time": "2022-12-06T21:19:56.013Z"
   },
   {
    "duration": 1846,
    "start_time": "2022-12-06T21:19:56.962Z"
   },
   {
    "duration": 1391,
    "start_time": "2022-12-06T21:19:59.107Z"
   },
   {
    "duration": 5,
    "start_time": "2022-12-06T21:20:18.723Z"
   },
   {
    "duration": 3,
    "start_time": "2022-12-06T21:20:25.315Z"
   },
   {
    "duration": 1622,
    "start_time": "2022-12-06T21:20:26.189Z"
   },
   {
    "duration": 50,
    "start_time": "2022-12-06T21:21:30.528Z"
   },
   {
    "duration": 60,
    "start_time": "2022-12-06T21:21:46.460Z"
   },
   {
    "duration": 48,
    "start_time": "2022-12-06T21:22:46.460Z"
   },
   {
    "duration": 5,
    "start_time": "2022-12-06T21:23:39.077Z"
   },
   {
    "duration": 3,
    "start_time": "2022-12-06T21:23:44.953Z"
   },
   {
    "duration": 8252,
    "start_time": "2022-12-06T21:23:46.182Z"
   },
   {
    "duration": 4,
    "start_time": "2022-12-06T21:23:54.437Z"
   },
   {
    "duration": 11,
    "start_time": "2022-12-06T21:23:54.443Z"
   },
   {
    "duration": 7,
    "start_time": "2022-12-06T21:23:54.456Z"
   },
   {
    "duration": 6,
    "start_time": "2022-12-06T21:24:15.508Z"
   },
   {
    "duration": 4,
    "start_time": "2022-12-06T21:24:42.513Z"
   },
   {
    "duration": 5,
    "start_time": "2022-12-06T21:25:06.152Z"
   },
   {
    "duration": 4,
    "start_time": "2022-12-06T21:25:11.138Z"
   },
   {
    "duration": 4,
    "start_time": "2022-12-06T21:25:38.236Z"
   },
   {
    "duration": 3,
    "start_time": "2022-12-06T21:25:38.554Z"
   },
   {
    "duration": 8161,
    "start_time": "2022-12-06T21:25:39.419Z"
   },
   {
    "duration": 4,
    "start_time": "2022-12-06T21:25:47.582Z"
   },
   {
    "duration": 8,
    "start_time": "2022-12-06T21:25:47.588Z"
   },
   {
    "duration": 6,
    "start_time": "2022-12-06T21:25:47.598Z"
   },
   {
    "duration": 4,
    "start_time": "2022-12-06T21:26:08.339Z"
   },
   {
    "duration": 8012,
    "start_time": "2022-12-06T21:26:08.728Z"
   },
   {
    "duration": 4,
    "start_time": "2022-12-06T21:26:16.742Z"
   },
   {
    "duration": 6,
    "start_time": "2022-12-06T21:26:16.748Z"
   },
   {
    "duration": 6,
    "start_time": "2022-12-06T21:26:16.756Z"
   },
   {
    "duration": 4,
    "start_time": "2022-12-06T21:26:26.026Z"
   },
   {
    "duration": 4,
    "start_time": "2022-12-06T21:26:36.039Z"
   },
   {
    "duration": 5,
    "start_time": "2022-12-06T21:27:52.939Z"
   },
   {
    "duration": 3,
    "start_time": "2022-12-06T21:27:57.515Z"
   },
   {
    "duration": 3,
    "start_time": "2022-12-06T21:28:11.052Z"
   },
   {
    "duration": 2,
    "start_time": "2022-12-06T21:28:11.438Z"
   },
   {
    "duration": 8278,
    "start_time": "2022-12-06T21:28:13.179Z"
   },
   {
    "duration": 3,
    "start_time": "2022-12-06T21:28:29.431Z"
   },
   {
    "duration": 4,
    "start_time": "2022-12-06T21:28:39.649Z"
   },
   {
    "duration": 3,
    "start_time": "2022-12-06T21:35:38.081Z"
   },
   {
    "duration": 3,
    "start_time": "2022-12-06T21:35:39.632Z"
   },
   {
    "duration": 8044,
    "start_time": "2022-12-06T21:35:40.522Z"
   },
   {
    "duration": 5,
    "start_time": "2022-12-06T21:35:50.610Z"
   },
   {
    "duration": 4,
    "start_time": "2022-12-06T21:35:51.774Z"
   },
   {
    "duration": 5,
    "start_time": "2022-12-06T21:35:52.678Z"
   },
   {
    "duration": 4,
    "start_time": "2022-12-06T21:35:53.079Z"
   },
   {
    "duration": 3,
    "start_time": "2022-12-06T21:35:54.001Z"
   },
   {
    "duration": 4,
    "start_time": "2022-12-06T21:35:54.294Z"
   },
   {
    "duration": 3,
    "start_time": "2022-12-06T21:36:33.848Z"
   },
   {
    "duration": 3,
    "start_time": "2022-12-06T21:36:36.171Z"
   },
   {
    "duration": 8012,
    "start_time": "2022-12-06T21:36:36.633Z"
   },
   {
    "duration": 4,
    "start_time": "2022-12-06T21:36:44.647Z"
   },
   {
    "duration": 12,
    "start_time": "2022-12-06T21:36:44.653Z"
   },
   {
    "duration": 12,
    "start_time": "2022-12-06T21:36:44.667Z"
   },
   {
    "duration": 15,
    "start_time": "2022-12-06T21:36:44.681Z"
   },
   {
    "duration": 5,
    "start_time": "2022-12-06T21:36:44.698Z"
   },
   {
    "duration": 6,
    "start_time": "2022-12-06T21:36:44.704Z"
   },
   {
    "duration": 4,
    "start_time": "2022-12-06T21:38:08.753Z"
   },
   {
    "duration": 8289,
    "start_time": "2022-12-06T21:38:08.759Z"
   },
   {
    "duration": 4,
    "start_time": "2022-12-06T21:38:18.948Z"
   },
   {
    "duration": 5,
    "start_time": "2022-12-06T21:38:19.870Z"
   },
   {
    "duration": 4,
    "start_time": "2022-12-06T21:38:20.163Z"
   },
   {
    "duration": 5,
    "start_time": "2022-12-06T21:38:31.782Z"
   },
   {
    "duration": 5,
    "start_time": "2022-12-06T21:38:55.401Z"
   },
   {
    "duration": 4,
    "start_time": "2022-12-06T21:38:55.731Z"
   },
   {
    "duration": 5,
    "start_time": "2022-12-06T21:38:56.085Z"
   },
   {
    "duration": 4,
    "start_time": "2022-12-06T21:39:00.427Z"
   },
   {
    "duration": 5,
    "start_time": "2022-12-06T21:39:00.630Z"
   },
   {
    "duration": 5,
    "start_time": "2022-12-06T21:39:00.812Z"
   },
   {
    "duration": 4,
    "start_time": "2022-12-06T21:39:15.529Z"
   },
   {
    "duration": 4,
    "start_time": "2022-12-06T21:39:16.483Z"
   },
   {
    "duration": 5,
    "start_time": "2022-12-06T21:39:18.244Z"
   },
   {
    "duration": 973,
    "start_time": "2022-12-06T21:39:28.376Z"
   },
   {
    "duration": 15,
    "start_time": "2022-12-06T21:39:32.172Z"
   },
   {
    "duration": 103,
    "start_time": "2022-12-06T21:39:40.565Z"
   },
   {
    "duration": 959,
    "start_time": "2022-12-06T21:39:44.139Z"
   },
   {
    "duration": 15,
    "start_time": "2022-12-06T21:39:45.100Z"
   },
   {
    "duration": 106,
    "start_time": "2022-12-06T21:39:47.944Z"
   },
   {
    "duration": 4,
    "start_time": "2022-12-06T21:39:50.542Z"
   },
   {
    "duration": 5,
    "start_time": "2022-12-06T21:39:55.219Z"
   },
   {
    "duration": 2235,
    "start_time": "2022-12-06T21:41:27.524Z"
   },
   {
    "duration": 6,
    "start_time": "2022-12-06T21:41:29.762Z"
   },
   {
    "duration": 738,
    "start_time": "2022-12-06T21:41:29.769Z"
   },
   {
    "duration": 24,
    "start_time": "2022-12-06T21:41:30.509Z"
   },
   {
    "duration": 43,
    "start_time": "2022-12-06T21:41:30.535Z"
   },
   {
    "duration": 288,
    "start_time": "2022-12-06T21:41:30.580Z"
   },
   {
    "duration": 26,
    "start_time": "2022-12-06T21:41:30.870Z"
   },
   {
    "duration": 30,
    "start_time": "2022-12-06T21:41:30.898Z"
   },
   {
    "duration": 273,
    "start_time": "2022-12-06T21:41:30.930Z"
   },
   {
    "duration": 23,
    "start_time": "2022-12-06T21:41:31.207Z"
   },
   {
    "duration": 28,
    "start_time": "2022-12-06T21:41:31.232Z"
   },
   {
    "duration": 148,
    "start_time": "2022-12-06T21:41:31.262Z"
   },
   {
    "duration": 6,
    "start_time": "2022-12-06T21:41:31.412Z"
   },
   {
    "duration": 20,
    "start_time": "2022-12-06T21:41:31.420Z"
   },
   {
    "duration": 18,
    "start_time": "2022-12-06T21:41:31.442Z"
   },
   {
    "duration": 5,
    "start_time": "2022-12-06T21:41:31.478Z"
   },
   {
    "duration": 20,
    "start_time": "2022-12-06T21:41:31.485Z"
   },
   {
    "duration": 4,
    "start_time": "2022-12-06T21:41:31.507Z"
   },
   {
    "duration": 9,
    "start_time": "2022-12-06T21:41:31.512Z"
   },
   {
    "duration": 16,
    "start_time": "2022-12-06T21:41:31.523Z"
   },
   {
    "duration": 21,
    "start_time": "2022-12-06T21:41:31.541Z"
   },
   {
    "duration": 22,
    "start_time": "2022-12-06T21:41:31.563Z"
   },
   {
    "duration": 74,
    "start_time": "2022-12-06T21:41:31.587Z"
   },
   {
    "duration": 12,
    "start_time": "2022-12-06T21:41:31.662Z"
   },
   {
    "duration": 3111,
    "start_time": "2022-12-06T21:41:31.675Z"
   },
   {
    "duration": 0,
    "start_time": "2022-12-06T21:41:34.791Z"
   },
   {
    "duration": 0,
    "start_time": "2022-12-06T21:41:34.793Z"
   },
   {
    "duration": 0,
    "start_time": "2022-12-06T21:41:34.794Z"
   },
   {
    "duration": 0,
    "start_time": "2022-12-06T21:41:34.796Z"
   },
   {
    "duration": 0,
    "start_time": "2022-12-06T21:41:34.797Z"
   },
   {
    "duration": 0,
    "start_time": "2022-12-06T21:41:34.799Z"
   },
   {
    "duration": 0,
    "start_time": "2022-12-06T21:41:34.800Z"
   },
   {
    "duration": 0,
    "start_time": "2022-12-06T21:41:34.802Z"
   },
   {
    "duration": 1,
    "start_time": "2022-12-06T21:41:34.803Z"
   },
   {
    "duration": 0,
    "start_time": "2022-12-06T21:41:34.805Z"
   },
   {
    "duration": 0,
    "start_time": "2022-12-06T21:41:34.807Z"
   },
   {
    "duration": 0,
    "start_time": "2022-12-06T21:41:34.808Z"
   },
   {
    "duration": 0,
    "start_time": "2022-12-06T21:41:34.810Z"
   },
   {
    "duration": 0,
    "start_time": "2022-12-06T21:41:34.811Z"
   },
   {
    "duration": 0,
    "start_time": "2022-12-06T21:41:34.812Z"
   },
   {
    "duration": 0,
    "start_time": "2022-12-06T21:41:34.814Z"
   },
   {
    "duration": 0,
    "start_time": "2022-12-06T21:41:34.815Z"
   },
   {
    "duration": 0,
    "start_time": "2022-12-06T21:41:34.817Z"
   },
   {
    "duration": 0,
    "start_time": "2022-12-06T21:41:34.818Z"
   },
   {
    "duration": 0,
    "start_time": "2022-12-06T21:41:34.819Z"
   },
   {
    "duration": 0,
    "start_time": "2022-12-06T21:41:34.820Z"
   },
   {
    "duration": 1,
    "start_time": "2022-12-06T21:41:34.821Z"
   },
   {
    "duration": 0,
    "start_time": "2022-12-06T21:41:34.823Z"
   },
   {
    "duration": 0,
    "start_time": "2022-12-06T21:41:34.824Z"
   },
   {
    "duration": 0,
    "start_time": "2022-12-06T21:41:34.825Z"
   },
   {
    "duration": 0,
    "start_time": "2022-12-06T21:41:34.878Z"
   },
   {
    "duration": 0,
    "start_time": "2022-12-06T21:41:34.879Z"
   },
   {
    "duration": 0,
    "start_time": "2022-12-06T21:41:34.881Z"
   },
   {
    "duration": 0,
    "start_time": "2022-12-06T21:41:34.882Z"
   },
   {
    "duration": 0,
    "start_time": "2022-12-06T21:41:34.883Z"
   },
   {
    "duration": 0,
    "start_time": "2022-12-06T21:41:34.884Z"
   },
   {
    "duration": 0,
    "start_time": "2022-12-06T21:41:34.885Z"
   },
   {
    "duration": 0,
    "start_time": "2022-12-06T21:41:34.886Z"
   },
   {
    "duration": 0,
    "start_time": "2022-12-06T21:41:34.887Z"
   },
   {
    "duration": 0,
    "start_time": "2022-12-06T21:41:34.889Z"
   },
   {
    "duration": 0,
    "start_time": "2022-12-06T21:41:34.890Z"
   },
   {
    "duration": 0,
    "start_time": "2022-12-06T21:41:34.892Z"
   },
   {
    "duration": 0,
    "start_time": "2022-12-06T21:41:34.893Z"
   },
   {
    "duration": 0,
    "start_time": "2022-12-06T21:41:34.894Z"
   },
   {
    "duration": 0,
    "start_time": "2022-12-06T21:41:34.896Z"
   },
   {
    "duration": 0,
    "start_time": "2022-12-06T21:41:34.897Z"
   },
   {
    "duration": 0,
    "start_time": "2022-12-06T21:41:34.899Z"
   },
   {
    "duration": 0,
    "start_time": "2022-12-06T21:41:34.900Z"
   },
   {
    "duration": 0,
    "start_time": "2022-12-06T21:41:34.902Z"
   },
   {
    "duration": 0,
    "start_time": "2022-12-06T21:41:34.904Z"
   },
   {
    "duration": 0,
    "start_time": "2022-12-06T21:41:34.905Z"
   },
   {
    "duration": 1,
    "start_time": "2022-12-06T21:41:34.906Z"
   },
   {
    "duration": 0,
    "start_time": "2022-12-06T21:41:34.908Z"
   },
   {
    "duration": 0,
    "start_time": "2022-12-06T21:41:34.909Z"
   },
   {
    "duration": 0,
    "start_time": "2022-12-06T21:41:34.910Z"
   },
   {
    "duration": 0,
    "start_time": "2022-12-06T21:41:34.912Z"
   },
   {
    "duration": 0,
    "start_time": "2022-12-06T21:41:34.913Z"
   },
   {
    "duration": 0,
    "start_time": "2022-12-06T21:41:34.914Z"
   },
   {
    "duration": 0,
    "start_time": "2022-12-06T21:41:34.979Z"
   },
   {
    "duration": 0,
    "start_time": "2022-12-06T21:41:34.980Z"
   },
   {
    "duration": 0,
    "start_time": "2022-12-06T21:41:34.981Z"
   },
   {
    "duration": 0,
    "start_time": "2022-12-06T21:41:34.982Z"
   },
   {
    "duration": 0,
    "start_time": "2022-12-06T21:41:34.984Z"
   },
   {
    "duration": 0,
    "start_time": "2022-12-06T21:41:34.985Z"
   },
   {
    "duration": 0,
    "start_time": "2022-12-06T21:41:34.986Z"
   },
   {
    "duration": 0,
    "start_time": "2022-12-06T21:41:34.988Z"
   },
   {
    "duration": 0,
    "start_time": "2022-12-06T21:41:34.989Z"
   },
   {
    "duration": 2130,
    "start_time": "2022-12-06T21:41:57.080Z"
   },
   {
    "duration": 1704,
    "start_time": "2022-12-06T21:41:59.212Z"
   },
   {
    "duration": 740,
    "start_time": "2022-12-06T21:42:00.917Z"
   },
   {
    "duration": 28,
    "start_time": "2022-12-06T21:42:01.659Z"
   },
   {
    "duration": 23,
    "start_time": "2022-12-06T21:42:01.689Z"
   },
   {
    "duration": 318,
    "start_time": "2022-12-06T21:42:01.714Z"
   },
   {
    "duration": 28,
    "start_time": "2022-12-06T21:42:02.034Z"
   },
   {
    "duration": 32,
    "start_time": "2022-12-06T21:42:02.064Z"
   },
   {
    "duration": 250,
    "start_time": "2022-12-06T21:42:02.098Z"
   },
   {
    "duration": 31,
    "start_time": "2022-12-06T21:42:02.352Z"
   },
   {
    "duration": 15,
    "start_time": "2022-12-06T21:42:02.384Z"
   },
   {
    "duration": 132,
    "start_time": "2022-12-06T21:42:02.401Z"
   },
   {
    "duration": 6,
    "start_time": "2022-12-06T21:42:02.535Z"
   },
   {
    "duration": 15,
    "start_time": "2022-12-06T21:42:02.542Z"
   },
   {
    "duration": 31,
    "start_time": "2022-12-06T21:42:02.559Z"
   },
   {
    "duration": 4,
    "start_time": "2022-12-06T21:42:02.592Z"
   },
   {
    "duration": 17,
    "start_time": "2022-12-06T21:42:02.598Z"
   },
   {
    "duration": 4,
    "start_time": "2022-12-06T21:42:02.617Z"
   },
   {
    "duration": 8,
    "start_time": "2022-12-06T21:42:02.622Z"
   },
   {
    "duration": 7,
    "start_time": "2022-12-06T21:42:02.631Z"
   },
   {
    "duration": 43,
    "start_time": "2022-12-06T21:42:02.640Z"
   },
   {
    "duration": 8,
    "start_time": "2022-12-06T21:42:02.684Z"
   },
   {
    "duration": 28,
    "start_time": "2022-12-06T21:42:02.694Z"
   },
   {
    "duration": 9,
    "start_time": "2022-12-06T21:42:02.724Z"
   },
   {
    "duration": 3726,
    "start_time": "2022-12-06T21:42:02.735Z"
   },
   {
    "duration": 15,
    "start_time": "2022-12-06T21:42:06.463Z"
   },
   {
    "duration": 8,
    "start_time": "2022-12-06T21:42:06.480Z"
   },
   {
    "duration": 31,
    "start_time": "2022-12-06T21:42:06.493Z"
   },
   {
    "duration": 8,
    "start_time": "2022-12-06T21:42:06.526Z"
   },
   {
    "duration": 243,
    "start_time": "2022-12-06T21:42:06.536Z"
   },
   {
    "duration": 9,
    "start_time": "2022-12-06T21:42:06.781Z"
   },
   {
    "duration": 107,
    "start_time": "2022-12-06T21:42:06.791Z"
   },
   {
    "duration": 89,
    "start_time": "2022-12-06T21:42:06.900Z"
   },
   {
    "duration": 269738,
    "start_time": "2022-12-06T21:42:06.991Z"
   },
   {
    "duration": 3,
    "start_time": "2022-12-06T21:46:36.731Z"
   },
   {
    "duration": 10,
    "start_time": "2022-12-06T21:46:36.735Z"
   },
   {
    "duration": 6,
    "start_time": "2022-12-06T21:46:36.747Z"
   },
   {
    "duration": 382,
    "start_time": "2022-12-06T21:46:36.754Z"
   },
   {
    "duration": 3,
    "start_time": "2022-12-06T21:46:37.138Z"
   },
   {
    "duration": 267,
    "start_time": "2022-12-06T21:46:37.142Z"
   },
   {
    "duration": 3,
    "start_time": "2022-12-06T21:46:37.410Z"
   },
   {
    "duration": 262,
    "start_time": "2022-12-06T21:46:37.415Z"
   },
   {
    "duration": 1664,
    "start_time": "2022-12-06T21:46:37.679Z"
   },
   {
    "duration": 220,
    "start_time": "2022-12-06T21:46:39.345Z"
   },
   {
    "duration": 4,
    "start_time": "2022-12-06T21:46:39.566Z"
   },
   {
    "duration": 12,
    "start_time": "2022-12-06T21:46:39.577Z"
   },
   {
    "duration": 4,
    "start_time": "2022-12-06T21:46:39.591Z"
   },
   {
    "duration": 8,
    "start_time": "2022-12-06T21:46:39.598Z"
   },
   {
    "duration": 15,
    "start_time": "2022-12-06T21:46:39.607Z"
   },
   {
    "duration": 5,
    "start_time": "2022-12-06T21:46:39.624Z"
   },
   {
    "duration": 18,
    "start_time": "2022-12-06T21:46:39.631Z"
   },
   {
    "duration": 12,
    "start_time": "2022-12-06T21:46:39.677Z"
   },
   {
    "duration": 5,
    "start_time": "2022-12-06T21:46:39.691Z"
   },
   {
    "duration": 7,
    "start_time": "2022-12-06T21:46:39.697Z"
   },
   {
    "duration": 6,
    "start_time": "2022-12-06T21:46:39.706Z"
   },
   {
    "duration": 9,
    "start_time": "2022-12-06T21:46:39.714Z"
   },
   {
    "duration": 223879,
    "start_time": "2022-12-06T21:46:39.725Z"
   },
   {
    "duration": 5,
    "start_time": "2022-12-06T21:50:23.606Z"
   },
   {
    "duration": 24,
    "start_time": "2022-12-06T21:50:23.612Z"
   },
   {
    "duration": 2847,
    "start_time": "2022-12-06T21:50:23.638Z"
   },
   {
    "duration": 4,
    "start_time": "2022-12-06T21:50:26.486Z"
   },
   {
    "duration": 170400,
    "start_time": "2022-12-06T21:50:26.492Z"
   },
   {
    "duration": 4,
    "start_time": "2022-12-06T21:53:16.895Z"
   },
   {
    "duration": 6,
    "start_time": "2022-12-06T21:53:16.902Z"
   },
   {
    "duration": 6,
    "start_time": "2022-12-06T21:53:16.909Z"
   },
   {
    "duration": 7,
    "start_time": "2022-12-06T21:53:16.917Z"
   },
   {
    "duration": 5,
    "start_time": "2022-12-06T21:53:16.926Z"
   },
   {
    "duration": 5,
    "start_time": "2022-12-06T21:53:16.933Z"
   },
   {
    "duration": 7988,
    "start_time": "2022-12-06T21:53:16.940Z"
   },
   {
    "duration": 5,
    "start_time": "2022-12-06T21:53:24.930Z"
   },
   {
    "duration": 9,
    "start_time": "2022-12-06T21:53:24.936Z"
   },
   {
    "duration": 9,
    "start_time": "2022-12-06T21:53:24.947Z"
   },
   {
    "duration": 9,
    "start_time": "2022-12-06T21:53:24.958Z"
   },
   {
    "duration": 8110,
    "start_time": "2022-12-06T21:53:24.978Z"
   },
   {
    "duration": 4,
    "start_time": "2022-12-06T21:53:33.090Z"
   },
   {
    "duration": 8,
    "start_time": "2022-12-06T21:53:33.096Z"
   },
   {
    "duration": 11,
    "start_time": "2022-12-06T21:53:33.105Z"
   },
   {
    "duration": 11,
    "start_time": "2022-12-06T21:53:33.118Z"
   },
   {
    "duration": 9,
    "start_time": "2022-12-06T21:53:33.130Z"
   },
   {
    "duration": 5,
    "start_time": "2022-12-06T21:53:33.141Z"
   },
   {
    "duration": 991,
    "start_time": "2022-12-06T21:53:33.148Z"
   },
   {
    "duration": 14,
    "start_time": "2022-12-06T21:53:34.145Z"
   },
   {
    "duration": 105,
    "start_time": "2022-12-06T21:53:34.161Z"
   },
   {
    "duration": 968,
    "start_time": "2022-12-06T21:53:34.268Z"
   },
   {
    "duration": 14,
    "start_time": "2022-12-06T21:53:35.238Z"
   },
   {
    "duration": 106,
    "start_time": "2022-12-06T21:53:35.254Z"
   },
   {
    "duration": 5,
    "start_time": "2022-12-06T21:53:35.361Z"
   },
   {
    "duration": 97,
    "start_time": "2022-12-07T11:13:44.223Z"
   },
   {
    "duration": 3252,
    "start_time": "2022-12-07T11:13:57.689Z"
   },
   {
    "duration": 2221,
    "start_time": "2022-12-07T11:14:00.947Z"
   },
   {
    "duration": 2231,
    "start_time": "2022-12-07T11:14:03.170Z"
   },
   {
    "duration": 39,
    "start_time": "2022-12-07T11:14:05.403Z"
   },
   {
    "duration": 46,
    "start_time": "2022-12-07T11:14:05.448Z"
   },
   {
    "duration": 266,
    "start_time": "2022-12-07T11:14:05.496Z"
   },
   {
    "duration": 19,
    "start_time": "2022-12-07T11:14:05.764Z"
   },
   {
    "duration": 54,
    "start_time": "2022-12-07T11:14:05.785Z"
   },
   {
    "duration": 243,
    "start_time": "2022-12-07T11:14:05.840Z"
   },
   {
    "duration": 20,
    "start_time": "2022-12-07T11:14:06.084Z"
   },
   {
    "duration": 38,
    "start_time": "2022-12-07T11:14:06.117Z"
   },
   {
    "duration": 139,
    "start_time": "2022-12-07T11:14:06.157Z"
   },
   {
    "duration": 6,
    "start_time": "2022-12-07T11:14:06.298Z"
   },
   {
    "duration": 43,
    "start_time": "2022-12-07T11:14:06.316Z"
   },
   {
    "duration": 30,
    "start_time": "2022-12-07T11:14:06.361Z"
   },
   {
    "duration": 14,
    "start_time": "2022-12-07T11:14:06.393Z"
   },
   {
    "duration": 16,
    "start_time": "2022-12-07T11:14:12.506Z"
   },
   {
    "duration": 3,
    "start_time": "2022-12-07T11:14:13.979Z"
   },
   {
    "duration": 5,
    "start_time": "2022-12-07T11:14:14.899Z"
   },
   {
    "duration": 6,
    "start_time": "2022-12-07T11:14:18.606Z"
   },
   {
    "duration": 18,
    "start_time": "2022-12-07T11:14:18.938Z"
   },
   {
    "duration": 10,
    "start_time": "2022-12-07T11:14:24.129Z"
   },
   {
    "duration": 51,
    "start_time": "2022-12-07T11:14:27.381Z"
   },
   {
    "duration": 14,
    "start_time": "2022-12-07T11:14:29.835Z"
   },
   {
    "duration": 5551,
    "start_time": "2022-12-07T11:14:31.547Z"
   },
   {
    "duration": 18,
    "start_time": "2022-12-07T11:14:37.100Z"
   },
   {
    "duration": 22,
    "start_time": "2022-12-07T11:14:37.120Z"
   },
   {
    "duration": 36,
    "start_time": "2022-12-07T11:14:37.144Z"
   },
   {
    "duration": 8,
    "start_time": "2022-12-07T11:14:37.183Z"
   },
   {
    "duration": 134,
    "start_time": "2022-12-07T11:14:37.193Z"
   },
   {
    "duration": 94,
    "start_time": "2022-12-07T11:14:37.333Z"
   },
   {
    "duration": 11,
    "start_time": "2022-12-07T11:15:43.069Z"
   },
   {
    "duration": 98,
    "start_time": "2022-12-07T11:15:46.407Z"
   },
   {
    "duration": 84,
    "start_time": "2022-12-07T11:15:47.559Z"
   },
   {
    "duration": 3,
    "start_time": "2022-12-07T11:15:59.359Z"
   },
   {
    "duration": 237,
    "start_time": "2022-12-07T11:16:22.470Z"
   },
   {
    "duration": 238,
    "start_time": "2022-12-07T11:16:29.449Z"
   },
   {
    "duration": 222,
    "start_time": "2022-12-07T11:16:49.370Z"
   },
   {
    "duration": 236,
    "start_time": "2022-12-07T11:17:08.298Z"
   },
   {
    "duration": 208,
    "start_time": "2022-12-07T11:17:16.388Z"
   },
   {
    "duration": 83,
    "start_time": "2022-12-07T11:17:47.959Z"
   },
   {
    "duration": 284,
    "start_time": "2022-12-07T11:17:57.511Z"
   },
   {
    "duration": 457,
    "start_time": "2022-12-07T11:18:11.560Z"
   },
   {
    "duration": 344,
    "start_time": "2022-12-07T11:18:21.881Z"
   },
   {
    "duration": 7,
    "start_time": "2022-12-07T11:20:16.683Z"
   },
   {
    "duration": 1653,
    "start_time": "2022-12-07T11:20:27.546Z"
   },
   {
    "duration": 917,
    "start_time": "2022-12-07T11:20:48.837Z"
   },
   {
    "duration": 1784,
    "start_time": "2022-12-07T11:20:58.890Z"
   },
   {
    "duration": 1804,
    "start_time": "2022-12-07T11:21:28.133Z"
   },
   {
    "duration": 2114,
    "start_time": "2022-12-07T11:21:34.530Z"
   },
   {
    "duration": 1951,
    "start_time": "2022-12-07T11:21:42.006Z"
   },
   {
    "duration": 3,
    "start_time": "2022-12-07T11:25:41.100Z"
   },
   {
    "duration": 12,
    "start_time": "2022-12-07T11:25:41.879Z"
   },
   {
    "duration": 9,
    "start_time": "2022-12-07T11:27:00.590Z"
   },
   {
    "duration": 141,
    "start_time": "2022-12-07T11:28:51.939Z"
   },
   {
    "duration": 8,
    "start_time": "2022-12-07T11:29:10.909Z"
   },
   {
    "duration": 20,
    "start_time": "2022-12-07T11:29:11.170Z"
   },
   {
    "duration": 20,
    "start_time": "2022-12-07T11:29:32.642Z"
   },
   {
    "duration": 3,
    "start_time": "2022-12-07T11:29:35.783Z"
   },
   {
    "duration": 24,
    "start_time": "2022-12-07T11:29:36.344Z"
   },
   {
    "duration": 4,
    "start_time": "2022-12-07T11:30:13.402Z"
   },
   {
    "duration": 6,
    "start_time": "2022-12-07T11:30:13.850Z"
   },
   {
    "duration": 22,
    "start_time": "2022-12-07T11:30:14.802Z"
   },
   {
    "duration": 23,
    "start_time": "2022-12-07T11:30:38.634Z"
   },
   {
    "duration": 22,
    "start_time": "2022-12-07T11:30:51.216Z"
   },
   {
    "duration": 48,
    "start_time": "2022-12-07T11:31:03.184Z"
   },
   {
    "duration": 29,
    "start_time": "2022-12-07T11:31:08.648Z"
   },
   {
    "duration": 23,
    "start_time": "2022-12-07T11:31:17.323Z"
   },
   {
    "duration": 23,
    "start_time": "2022-12-07T11:31:42.198Z"
   },
   {
    "duration": 12,
    "start_time": "2022-12-07T11:31:52.399Z"
   },
   {
    "duration": 10,
    "start_time": "2022-12-07T11:32:07.662Z"
   },
   {
    "duration": 12,
    "start_time": "2022-12-07T11:32:19.839Z"
   },
   {
    "duration": 10,
    "start_time": "2022-12-07T11:32:21.364Z"
   },
   {
    "duration": 10,
    "start_time": "2022-12-07T11:32:54.420Z"
   },
   {
    "duration": 17,
    "start_time": "2022-12-07T11:32:56.778Z"
   },
   {
    "duration": 11,
    "start_time": "2022-12-07T11:33:03.876Z"
   },
   {
    "duration": 10,
    "start_time": "2022-12-07T11:33:36.447Z"
   },
   {
    "duration": 3,
    "start_time": "2022-12-07T11:33:47.901Z"
   },
   {
    "duration": 21,
    "start_time": "2022-12-07T11:33:48.239Z"
   },
   {
    "duration": 8,
    "start_time": "2022-12-07T11:33:48.957Z"
   },
   {
    "duration": 5,
    "start_time": "2022-12-07T11:34:47.978Z"
   },
   {
    "duration": 9,
    "start_time": "2022-12-07T11:34:53.639Z"
   },
   {
    "duration": 17,
    "start_time": "2022-12-07T11:35:18.239Z"
   },
   {
    "duration": 265,
    "start_time": "2022-12-07T11:35:25.180Z"
   },
   {
    "duration": 175,
    "start_time": "2022-12-07T11:35:59.271Z"
   },
   {
    "duration": 171,
    "start_time": "2022-12-07T11:36:09.580Z"
   },
   {
    "duration": 151,
    "start_time": "2022-12-07T11:36:13.301Z"
   },
   {
    "duration": 93,
    "start_time": "2022-12-07T11:36:28.130Z"
   },
   {
    "duration": 115,
    "start_time": "2022-12-07T11:36:53.447Z"
   },
   {
    "duration": 72,
    "start_time": "2022-12-07T11:37:11.598Z"
   },
   {
    "duration": 1879,
    "start_time": "2022-12-07T11:37:20.371Z"
   },
   {
    "duration": 21,
    "start_time": "2022-12-07T11:37:39.130Z"
   },
   {
    "duration": 4,
    "start_time": "2022-12-07T11:37:54.931Z"
   },
   {
    "duration": 15,
    "start_time": "2022-12-07T11:37:59.781Z"
   },
   {
    "duration": 18,
    "start_time": "2022-12-07T11:38:07.941Z"
   },
   {
    "duration": 19,
    "start_time": "2022-12-07T11:38:16.870Z"
   },
   {
    "duration": 18,
    "start_time": "2022-12-07T11:38:33.030Z"
   },
   {
    "duration": 3,
    "start_time": "2022-12-07T11:38:38.382Z"
   },
   {
    "duration": 16,
    "start_time": "2022-12-07T11:38:38.692Z"
   },
   {
    "duration": 6,
    "start_time": "2022-12-07T11:38:39.490Z"
   },
   {
    "duration": 11,
    "start_time": "2022-12-07T11:38:42.671Z"
   },
   {
    "duration": 18,
    "start_time": "2022-12-07T11:39:07.879Z"
   },
   {
    "duration": 16,
    "start_time": "2022-12-07T11:39:15.390Z"
   },
   {
    "duration": 15,
    "start_time": "2022-12-07T11:39:24.170Z"
   },
   {
    "duration": 4,
    "start_time": "2022-12-07T11:39:31.390Z"
   },
   {
    "duration": 16,
    "start_time": "2022-12-07T11:39:31.642Z"
   },
   {
    "duration": 8,
    "start_time": "2022-12-07T11:39:32.380Z"
   },
   {
    "duration": 18,
    "start_time": "2022-12-07T11:39:53.690Z"
   },
   {
    "duration": 3,
    "start_time": "2022-12-07T11:39:59.031Z"
   },
   {
    "duration": 5,
    "start_time": "2022-12-07T11:39:59.251Z"
   },
   {
    "duration": 17,
    "start_time": "2022-12-07T11:39:59.461Z"
   },
   {
    "duration": 4396,
    "start_time": "2022-12-07T11:40:02.928Z"
   },
   {
    "duration": 12,
    "start_time": "2022-12-07T11:40:15.142Z"
   },
   {
    "duration": 19,
    "start_time": "2022-12-07T11:40:21.718Z"
   },
   {
    "duration": 20,
    "start_time": "2022-12-07T11:40:23.949Z"
   },
   {
    "duration": 19,
    "start_time": "2022-12-07T11:40:24.241Z"
   },
   {
    "duration": 3,
    "start_time": "2022-12-07T11:40:27.051Z"
   },
   {
    "duration": 16,
    "start_time": "2022-12-07T11:40:27.400Z"
   },
   {
    "duration": 11,
    "start_time": "2022-12-07T11:40:27.680Z"
   },
   {
    "duration": 25,
    "start_time": "2022-12-07T11:41:45.271Z"
   },
   {
    "duration": 3,
    "start_time": "2022-12-07T11:41:57.230Z"
   },
   {
    "duration": 20,
    "start_time": "2022-12-07T11:41:57.523Z"
   },
   {
    "duration": 212,
    "start_time": "2022-12-07T11:42:16.003Z"
   },
   {
    "duration": 238,
    "start_time": "2022-12-07T11:42:49.109Z"
   },
   {
    "duration": 25,
    "start_time": "2022-12-07T11:43:16.701Z"
   },
   {
    "duration": 17,
    "start_time": "2022-12-07T11:47:05.122Z"
   },
   {
    "duration": 20,
    "start_time": "2022-12-07T11:47:29.711Z"
   },
   {
    "duration": 16,
    "start_time": "2022-12-07T11:47:47.332Z"
   },
   {
    "duration": 17,
    "start_time": "2022-12-07T11:47:50.350Z"
   },
   {
    "duration": 5,
    "start_time": "2022-12-07T11:47:54.181Z"
   },
   {
    "duration": 19,
    "start_time": "2022-12-07T11:47:55.343Z"
   },
   {
    "duration": 14,
    "start_time": "2022-12-07T11:47:56.440Z"
   },
   {
    "duration": 15,
    "start_time": "2022-12-07T11:48:45.521Z"
   },
   {
    "duration": 16,
    "start_time": "2022-12-07T11:48:50.824Z"
   },
   {
    "duration": 15,
    "start_time": "2022-12-07T11:48:54.102Z"
   },
   {
    "duration": 19,
    "start_time": "2022-12-07T11:49:07.821Z"
   },
   {
    "duration": 17,
    "start_time": "2022-12-07T11:49:18.972Z"
   },
   {
    "duration": 3,
    "start_time": "2022-12-07T11:49:21.701Z"
   },
   {
    "duration": 16,
    "start_time": "2022-12-07T11:49:21.923Z"
   },
   {
    "duration": 13,
    "start_time": "2022-12-07T11:49:22.752Z"
   },
   {
    "duration": 16,
    "start_time": "2022-12-07T11:49:48.811Z"
   },
   {
    "duration": 21,
    "start_time": "2022-12-07T11:50:00.193Z"
   },
   {
    "duration": 3,
    "start_time": "2022-12-07T11:50:02.492Z"
   },
   {
    "duration": 15,
    "start_time": "2022-12-07T11:50:02.810Z"
   },
   {
    "duration": 12,
    "start_time": "2022-12-07T11:50:03.332Z"
   },
   {
    "duration": 7,
    "start_time": "2022-12-07T11:50:15.481Z"
   },
   {
    "duration": 18,
    "start_time": "2022-12-07T11:50:22.325Z"
   },
   {
    "duration": 19,
    "start_time": "2022-12-07T11:50:31.298Z"
   },
   {
    "duration": 5,
    "start_time": "2022-12-07T11:50:38.002Z"
   },
   {
    "duration": 14,
    "start_time": "2022-12-07T11:50:38.532Z"
   },
   {
    "duration": 22,
    "start_time": "2022-12-07T11:50:39.311Z"
   },
   {
    "duration": 4,
    "start_time": "2022-12-07T11:50:45.920Z"
   },
   {
    "duration": 16,
    "start_time": "2022-12-07T11:50:46.163Z"
   },
   {
    "duration": 13,
    "start_time": "2022-12-07T11:50:46.871Z"
   },
   {
    "duration": 7,
    "start_time": "2022-12-07T11:50:56.525Z"
   },
   {
    "duration": 7,
    "start_time": "2022-12-07T11:51:06.931Z"
   },
   {
    "duration": 24,
    "start_time": "2022-12-07T11:51:39.064Z"
   },
   {
    "duration": 4,
    "start_time": "2022-12-07T11:51:59.401Z"
   },
   {
    "duration": 21,
    "start_time": "2022-12-07T11:51:59.974Z"
   },
   {
    "duration": 9,
    "start_time": "2022-12-07T11:52:01.143Z"
   },
   {
    "duration": 7,
    "start_time": "2022-12-07T11:52:02.553Z"
   },
   {
    "duration": 10,
    "start_time": "2022-12-07T11:52:08.413Z"
   },
   {
    "duration": 185,
    "start_time": "2022-12-07T11:52:24.940Z"
   },
   {
    "duration": 20,
    "start_time": "2022-12-07T11:52:58.879Z"
   },
   {
    "duration": 4,
    "start_time": "2022-12-07T11:53:01.741Z"
   },
   {
    "duration": 16,
    "start_time": "2022-12-07T11:53:02.012Z"
   },
   {
    "duration": 7,
    "start_time": "2022-12-07T11:53:02.780Z"
   },
   {
    "duration": 186,
    "start_time": "2022-12-07T11:53:03.621Z"
   },
   {
    "duration": 218,
    "start_time": "2022-12-07T11:53:22.257Z"
   },
   {
    "duration": 210,
    "start_time": "2022-12-07T11:53:29.106Z"
   },
   {
    "duration": 199,
    "start_time": "2022-12-07T11:53:35.327Z"
   },
   {
    "duration": 184,
    "start_time": "2022-12-07T11:53:48.642Z"
   },
   {
    "duration": 210,
    "start_time": "2022-12-07T11:53:58.954Z"
   },
   {
    "duration": 3,
    "start_time": "2022-12-07T11:55:45.284Z"
   },
   {
    "duration": 15,
    "start_time": "2022-12-07T11:55:45.772Z"
   },
   {
    "duration": 4,
    "start_time": "2022-12-07T11:55:48.602Z"
   },
   {
    "duration": 15,
    "start_time": "2022-12-07T11:56:06.251Z"
   },
   {
    "duration": 5,
    "start_time": "2022-12-07T11:56:31.494Z"
   },
   {
    "duration": 8,
    "start_time": "2022-12-07T11:56:35.555Z"
   },
   {
    "duration": 3356,
    "start_time": "2022-12-07T20:30:51.488Z"
   },
   {
    "duration": 2119,
    "start_time": "2022-12-07T20:30:54.846Z"
   },
   {
    "duration": 3631,
    "start_time": "2022-12-07T20:30:59.160Z"
   },
   {
    "duration": 40,
    "start_time": "2022-12-07T20:31:02.793Z"
   },
   {
    "duration": 21,
    "start_time": "2022-12-07T20:31:02.835Z"
   },
   {
    "duration": 284,
    "start_time": "2022-12-07T20:31:02.857Z"
   },
   {
    "duration": 22,
    "start_time": "2022-12-07T20:31:03.143Z"
   },
   {
    "duration": 45,
    "start_time": "2022-12-07T20:31:03.167Z"
   },
   {
    "duration": 251,
    "start_time": "2022-12-07T20:31:03.213Z"
   },
   {
    "duration": 21,
    "start_time": "2022-12-07T20:31:03.465Z"
   },
   {
    "duration": 24,
    "start_time": "2022-12-07T20:31:03.496Z"
   },
   {
    "duration": 147,
    "start_time": "2022-12-07T20:31:03.522Z"
   },
   {
    "duration": 7,
    "start_time": "2022-12-07T20:31:03.670Z"
   },
   {
    "duration": 28,
    "start_time": "2022-12-07T20:31:03.678Z"
   },
   {
    "duration": 37,
    "start_time": "2022-12-07T20:31:03.711Z"
   },
   {
    "duration": 6,
    "start_time": "2022-12-07T20:31:03.750Z"
   },
   {
    "duration": 20,
    "start_time": "2022-12-07T20:31:04.398Z"
   },
   {
    "duration": 3,
    "start_time": "2022-12-07T20:31:04.750Z"
   },
   {
    "duration": 6,
    "start_time": "2022-12-07T20:31:04.955Z"
   },
   {
    "duration": 8,
    "start_time": "2022-12-07T20:31:05.597Z"
   },
   {
    "duration": 23,
    "start_time": "2022-12-07T20:31:05.803Z"
   },
   {
    "duration": 9,
    "start_time": "2022-12-07T20:31:06.156Z"
   },
   {
    "duration": 30,
    "start_time": "2022-12-07T20:31:06.529Z"
   },
   {
    "duration": 10,
    "start_time": "2022-12-07T20:31:06.927Z"
   },
   {
    "duration": 3527,
    "start_time": "2022-12-07T20:31:07.284Z"
   },
   {
    "duration": 24,
    "start_time": "2022-12-07T20:31:10.812Z"
   },
   {
    "duration": 2255,
    "start_time": "2022-12-07T20:31:33.271Z"
   },
   {
    "duration": 6,
    "start_time": "2022-12-07T20:31:35.528Z"
   },
   {
    "duration": 737,
    "start_time": "2022-12-07T20:31:35.535Z"
   },
   {
    "duration": 37,
    "start_time": "2022-12-07T20:31:36.275Z"
   },
   {
    "duration": 50,
    "start_time": "2022-12-07T20:31:36.315Z"
   },
   {
    "duration": 279,
    "start_time": "2022-12-07T20:31:36.367Z"
   },
   {
    "duration": 20,
    "start_time": "2022-12-07T20:31:36.647Z"
   },
   {
    "duration": 28,
    "start_time": "2022-12-07T20:31:36.669Z"
   },
   {
    "duration": 244,
    "start_time": "2022-12-07T20:31:36.699Z"
   },
   {
    "duration": 20,
    "start_time": "2022-12-07T20:31:36.946Z"
   },
   {
    "duration": 31,
    "start_time": "2022-12-07T20:31:36.967Z"
   },
   {
    "duration": 142,
    "start_time": "2022-12-07T20:31:36.999Z"
   },
   {
    "duration": 5,
    "start_time": "2022-12-07T20:31:37.143Z"
   },
   {
    "duration": 14,
    "start_time": "2022-12-07T20:31:37.150Z"
   },
   {
    "duration": 47,
    "start_time": "2022-12-07T20:31:37.166Z"
   },
   {
    "duration": 18,
    "start_time": "2022-12-07T20:31:37.215Z"
   },
   {
    "duration": 17,
    "start_time": "2022-12-07T20:31:37.235Z"
   },
   {
    "duration": 4,
    "start_time": "2022-12-07T20:31:37.254Z"
   },
   {
    "duration": 9,
    "start_time": "2022-12-07T20:31:37.259Z"
   },
   {
    "duration": 8,
    "start_time": "2022-12-07T20:31:37.270Z"
   },
   {
    "duration": 24,
    "start_time": "2022-12-07T20:31:37.279Z"
   },
   {
    "duration": 25,
    "start_time": "2022-12-07T20:31:37.307Z"
   },
   {
    "duration": 31,
    "start_time": "2022-12-07T20:31:37.334Z"
   },
   {
    "duration": 9,
    "start_time": "2022-12-07T20:31:37.366Z"
   },
   {
    "duration": 3574,
    "start_time": "2022-12-07T20:31:37.376Z"
   },
   {
    "duration": 8,
    "start_time": "2022-12-07T20:31:40.951Z"
   },
   {
    "duration": 13,
    "start_time": "2022-12-07T20:31:40.960Z"
   },
   {
    "duration": 55,
    "start_time": "2022-12-07T20:31:40.977Z"
   },
   {
    "duration": 11,
    "start_time": "2022-12-07T20:31:41.033Z"
   },
   {
    "duration": 180,
    "start_time": "2022-12-07T20:31:41.045Z"
   },
   {
    "duration": 6,
    "start_time": "2022-12-07T20:31:41.229Z"
   },
   {
    "duration": 85,
    "start_time": "2022-12-07T20:31:41.237Z"
   },
   {
    "duration": 86,
    "start_time": "2022-12-07T20:33:08.542Z"
   },
   {
    "duration": 77,
    "start_time": "2022-12-07T20:33:09.730Z"
   },
   {
    "duration": 5,
    "start_time": "2022-12-07T20:33:19.225Z"
   },
   {
    "duration": 289,
    "start_time": "2022-12-07T20:33:19.484Z"
   },
   {
    "duration": 3,
    "start_time": "2022-12-07T20:33:20.248Z"
   },
   {
    "duration": 286,
    "start_time": "2022-12-07T20:33:20.525Z"
   },
   {
    "duration": 3,
    "start_time": "2022-12-07T20:33:21.226Z"
   },
   {
    "duration": 277,
    "start_time": "2022-12-07T20:33:21.481Z"
   },
   {
    "duration": 1692,
    "start_time": "2022-12-07T20:33:23.276Z"
   },
   {
    "duration": 488,
    "start_time": "2022-12-07T20:33:24.970Z"
   },
   {
    "duration": 3,
    "start_time": "2022-12-07T20:33:32.230Z"
   },
   {
    "duration": 5,
    "start_time": "2022-12-07T20:33:32.500Z"
   },
   {
    "duration": 11,
    "start_time": "2022-12-07T20:33:32.940Z"
   },
   {
    "duration": 10,
    "start_time": "2022-12-07T20:33:34.294Z"
   },
   {
    "duration": 5,
    "start_time": "2022-12-07T20:33:36.934Z"
   },
   {
    "duration": 157,
    "start_time": "2022-12-07T20:33:39.570Z"
   },
   {
    "duration": 158,
    "start_time": "2022-12-07T20:34:06.544Z"
   },
   {
    "duration": 153,
    "start_time": "2022-12-07T20:34:30.929Z"
   },
   {
    "duration": 146,
    "start_time": "2022-12-07T20:34:38.277Z"
   },
   {
    "duration": 4,
    "start_time": "2022-12-07T20:39:03.950Z"
   },
   {
    "duration": 3,
    "start_time": "2022-12-07T20:39:07.850Z"
   },
   {
    "duration": 7,
    "start_time": "2022-12-07T20:39:09.360Z"
   },
   {
    "duration": 3,
    "start_time": "2022-12-07T20:39:10.509Z"
   },
   {
    "duration": 14,
    "start_time": "2022-12-07T20:39:20.028Z"
   },
   {
    "duration": 12,
    "start_time": "2022-12-07T20:39:21.245Z"
   },
   {
    "duration": 3,
    "start_time": "2022-12-07T20:39:32.727Z"
   },
   {
    "duration": 2,
    "start_time": "2022-12-07T20:39:34.251Z"
   },
   {
    "duration": 3,
    "start_time": "2022-12-07T20:39:34.518Z"
   },
   {
    "duration": 4,
    "start_time": "2022-12-07T20:39:36.159Z"
   },
   {
    "duration": 2,
    "start_time": "2022-12-07T20:39:36.557Z"
   },
   {
    "duration": 8163,
    "start_time": "2022-12-07T20:39:37.320Z"
   },
   {
    "duration": 4,
    "start_time": "2022-12-07T20:39:46.445Z"
   },
   {
    "duration": 3,
    "start_time": "2022-12-07T20:39:47.992Z"
   },
   {
    "duration": 4,
    "start_time": "2022-12-07T20:39:48.350Z"
   },
   {
    "duration": 3,
    "start_time": "2022-12-07T20:39:50.466Z"
   },
   {
    "duration": 7841,
    "start_time": "2022-12-07T20:39:50.746Z"
   },
   {
    "duration": 9,
    "start_time": "2022-12-07T20:39:58.589Z"
   },
   {
    "duration": 14,
    "start_time": "2022-12-07T20:39:58.601Z"
   },
   {
    "duration": 4,
    "start_time": "2022-12-07T20:39:58.617Z"
   },
   {
    "duration": 4,
    "start_time": "2022-12-07T20:40:02.826Z"
   },
   {
    "duration": 4,
    "start_time": "2022-12-07T20:40:04.624Z"
   },
   {
    "duration": 3,
    "start_time": "2022-12-07T20:40:05.768Z"
   },
   {
    "duration": 56,
    "start_time": "2022-12-07T20:42:54.247Z"
   },
   {
    "duration": 5,
    "start_time": "2022-12-07T20:50:15.822Z"
   },
   {
    "duration": 2,
    "start_time": "2022-12-07T20:50:48.684Z"
   },
   {
    "duration": 3,
    "start_time": "2022-12-07T20:51:10.924Z"
   },
   {
    "duration": 3,
    "start_time": "2022-12-07T20:52:49.827Z"
   },
   {
    "duration": 132,
    "start_time": "2022-12-07T20:53:04.637Z"
   },
   {
    "duration": 6,
    "start_time": "2022-12-07T20:53:29.388Z"
   },
   {
    "duration": 8,
    "start_time": "2022-12-07T20:54:57.027Z"
   },
   {
    "duration": 18,
    "start_time": "2022-12-07T20:55:01.396Z"
   },
   {
    "duration": 5,
    "start_time": "2022-12-07T20:55:45.041Z"
   },
   {
    "duration": 10,
    "start_time": "2022-12-07T20:56:05.325Z"
   },
   {
    "duration": 3,
    "start_time": "2022-12-07T20:57:58.786Z"
   },
   {
    "duration": 4,
    "start_time": "2022-12-07T20:58:02.625Z"
   },
   {
    "duration": 9,
    "start_time": "2022-12-07T21:01:56.017Z"
   },
   {
    "duration": 3,
    "start_time": "2022-12-07T21:02:11.327Z"
   },
   {
    "duration": 5,
    "start_time": "2022-12-07T21:02:11.670Z"
   },
   {
    "duration": 14,
    "start_time": "2022-12-07T21:02:12.116Z"
   },
   {
    "duration": 10,
    "start_time": "2022-12-07T21:02:44.982Z"
   },
   {
    "duration": 5,
    "start_time": "2022-12-07T21:02:52.023Z"
   },
   {
    "duration": 12,
    "start_time": "2022-12-07T21:02:52.293Z"
   },
   {
    "duration": 5,
    "start_time": "2022-12-07T21:03:20.631Z"
   },
   {
    "duration": 21,
    "start_time": "2022-12-07T21:07:01.730Z"
   },
   {
    "duration": 31,
    "start_time": "2022-12-07T21:07:02.490Z"
   },
   {
    "duration": 3,
    "start_time": "2022-12-07T21:07:07.179Z"
   },
   {
    "duration": 13,
    "start_time": "2022-12-07T21:07:07.456Z"
   },
   {
    "duration": 10,
    "start_time": "2022-12-07T21:07:07.727Z"
   },
   {
    "duration": 154,
    "start_time": "2022-12-07T21:07:09.233Z"
   },
   {
    "duration": 2379,
    "start_time": "2022-12-07T21:08:11.527Z"
   },
   {
    "duration": 7,
    "start_time": "2022-12-07T21:08:13.909Z"
   },
   {
    "duration": 762,
    "start_time": "2022-12-07T21:08:13.918Z"
   },
   {
    "duration": 26,
    "start_time": "2022-12-07T21:08:14.683Z"
   },
   {
    "duration": 51,
    "start_time": "2022-12-07T21:08:14.710Z"
   },
   {
    "duration": 283,
    "start_time": "2022-12-07T21:08:14.763Z"
   },
   {
    "duration": 20,
    "start_time": "2022-12-07T21:08:15.047Z"
   },
   {
    "duration": 40,
    "start_time": "2022-12-07T21:08:15.068Z"
   },
   {
    "duration": 290,
    "start_time": "2022-12-07T21:08:15.109Z"
   },
   {
    "duration": 28,
    "start_time": "2022-12-07T21:08:15.402Z"
   },
   {
    "duration": 22,
    "start_time": "2022-12-07T21:08:15.431Z"
   },
   {
    "duration": 164,
    "start_time": "2022-12-07T21:08:15.455Z"
   },
   {
    "duration": 23,
    "start_time": "2022-12-07T21:08:15.620Z"
   },
   {
    "duration": 14,
    "start_time": "2022-12-07T21:08:15.645Z"
   },
   {
    "duration": 18,
    "start_time": "2022-12-07T21:08:15.660Z"
   },
   {
    "duration": 6,
    "start_time": "2022-12-07T21:08:15.680Z"
   },
   {
    "duration": 28,
    "start_time": "2022-12-07T21:08:15.688Z"
   },
   {
    "duration": 22,
    "start_time": "2022-12-07T21:08:15.718Z"
   },
   {
    "duration": 21,
    "start_time": "2022-12-07T21:08:15.741Z"
   },
   {
    "duration": 14,
    "start_time": "2022-12-07T21:08:15.764Z"
   },
   {
    "duration": 64,
    "start_time": "2022-12-07T21:08:15.779Z"
   },
   {
    "duration": 8,
    "start_time": "2022-12-07T21:08:15.845Z"
   },
   {
    "duration": 34,
    "start_time": "2022-12-07T21:08:15.854Z"
   },
   {
    "duration": 10,
    "start_time": "2022-12-07T21:08:15.890Z"
   },
   {
    "duration": 4505,
    "start_time": "2022-12-07T21:08:15.901Z"
   },
   {
    "duration": 12,
    "start_time": "2022-12-07T21:08:20.410Z"
   },
   {
    "duration": 22,
    "start_time": "2022-12-07T21:08:20.424Z"
   },
   {
    "duration": 39,
    "start_time": "2022-12-07T21:08:20.451Z"
   },
   {
    "duration": 12,
    "start_time": "2022-12-07T21:08:20.492Z"
   },
   {
    "duration": 324,
    "start_time": "2022-12-07T21:08:20.506Z"
   },
   {
    "duration": 9,
    "start_time": "2022-12-07T21:08:20.832Z"
   },
   {
    "duration": 114,
    "start_time": "2022-12-07T21:08:20.843Z"
   },
   {
    "duration": 86,
    "start_time": "2022-12-07T21:08:20.959Z"
   },
   {
    "duration": 293513,
    "start_time": "2022-12-07T21:08:21.047Z"
   },
   {
    "duration": 4,
    "start_time": "2022-12-07T21:13:14.562Z"
   },
   {
    "duration": 10,
    "start_time": "2022-12-07T21:13:14.567Z"
   },
   {
    "duration": 22,
    "start_time": "2022-12-07T21:13:14.579Z"
   },
   {
    "duration": 333,
    "start_time": "2022-12-07T21:13:14.603Z"
   },
   {
    "duration": 5,
    "start_time": "2022-12-07T21:13:14.938Z"
   },
   {
    "duration": 333,
    "start_time": "2022-12-07T21:13:14.945Z"
   },
   {
    "duration": 3,
    "start_time": "2022-12-07T21:13:15.280Z"
   },
   {
    "duration": 307,
    "start_time": "2022-12-07T21:13:15.285Z"
   },
   {
    "duration": 1926,
    "start_time": "2022-12-07T21:13:15.594Z"
   },
   {
    "duration": 368,
    "start_time": "2022-12-07T21:13:17.521Z"
   },
   {
    "duration": 12,
    "start_time": "2022-12-07T21:13:17.891Z"
   },
   {
    "duration": 21,
    "start_time": "2022-12-07T21:13:17.907Z"
   },
   {
    "duration": 18,
    "start_time": "2022-12-07T21:13:17.939Z"
   },
   {
    "duration": 5,
    "start_time": "2022-12-07T21:13:17.959Z"
   },
   {
    "duration": 409,
    "start_time": "2022-12-07T21:13:17.966Z"
   },
   {
    "duration": 4,
    "start_time": "2022-12-07T21:13:18.377Z"
   },
   {
    "duration": 26,
    "start_time": "2022-12-07T21:13:18.383Z"
   },
   {
    "duration": 23,
    "start_time": "2022-12-07T21:13:18.415Z"
   },
   {
    "duration": 6,
    "start_time": "2022-12-07T21:13:18.440Z"
   },
   {
    "duration": 23,
    "start_time": "2022-12-07T21:13:18.448Z"
   },
   {
    "duration": 13,
    "start_time": "2022-12-07T21:13:18.473Z"
   },
   {
    "duration": 6,
    "start_time": "2022-12-07T21:13:18.488Z"
   },
   {
    "duration": 43,
    "start_time": "2022-12-07T21:13:18.496Z"
   },
   {
    "duration": 14,
    "start_time": "2022-12-07T21:13:18.542Z"
   },
   {
    "duration": 13,
    "start_time": "2022-12-07T21:13:18.558Z"
   },
   {
    "duration": 250616,
    "start_time": "2022-12-07T21:13:18.573Z"
   },
   {
    "duration": 17,
    "start_time": "2022-12-07T21:17:29.196Z"
   },
   {
    "duration": 36,
    "start_time": "2022-12-07T21:17:29.223Z"
   },
   {
    "duration": 2869,
    "start_time": "2022-12-07T21:17:29.261Z"
   },
   {
    "duration": 5,
    "start_time": "2022-12-07T21:17:32.132Z"
   },
   {
    "duration": 184342,
    "start_time": "2022-12-07T21:17:32.139Z"
   },
   {
    "duration": 5,
    "start_time": "2022-12-07T21:20:36.483Z"
   },
   {
    "duration": 4,
    "start_time": "2022-12-07T21:20:36.497Z"
   },
   {
    "duration": 11,
    "start_time": "2022-12-07T21:20:36.503Z"
   },
   {
    "duration": 19,
    "start_time": "2022-12-07T21:20:36.516Z"
   },
   {
    "duration": 15,
    "start_time": "2022-12-07T21:20:36.537Z"
   },
   {
    "duration": 11,
    "start_time": "2022-12-07T21:20:36.554Z"
   },
   {
    "duration": 9889,
    "start_time": "2022-12-07T21:20:36.567Z"
   },
   {
    "duration": 6,
    "start_time": "2022-12-07T21:20:46.459Z"
   },
   {
    "duration": 49,
    "start_time": "2022-12-07T21:20:46.467Z"
   },
   {
    "duration": 28,
    "start_time": "2022-12-07T21:20:46.518Z"
   },
   {
    "duration": 10,
    "start_time": "2022-12-07T21:20:46.549Z"
   },
   {
    "duration": 11237,
    "start_time": "2022-12-07T21:20:46.561Z"
   },
   {
    "duration": 4,
    "start_time": "2022-12-07T21:20:57.799Z"
   },
   {
    "duration": 11,
    "start_time": "2022-12-07T21:20:57.805Z"
   },
   {
    "duration": 15,
    "start_time": "2022-12-07T21:20:57.818Z"
   },
   {
    "duration": 15,
    "start_time": "2022-12-07T21:20:57.835Z"
   },
   {
    "duration": 14,
    "start_time": "2022-12-07T21:20:57.858Z"
   },
   {
    "duration": 18,
    "start_time": "2022-12-07T21:20:57.874Z"
   },
   {
    "duration": 1016,
    "start_time": "2022-12-07T21:20:57.894Z"
   },
   {
    "duration": 17,
    "start_time": "2022-12-07T21:20:58.911Z"
   },
   {
    "duration": 12,
    "start_time": "2022-12-07T21:20:58.932Z"
   },
   {
    "duration": 1222,
    "start_time": "2022-12-07T21:20:58.946Z"
   },
   {
    "duration": 15,
    "start_time": "2022-12-07T21:21:00.170Z"
   },
   {
    "duration": 44,
    "start_time": "2022-12-07T21:21:00.197Z"
   },
   {
    "duration": 34,
    "start_time": "2022-12-07T21:21:00.243Z"
   },
   {
    "duration": 58,
    "start_time": "2022-12-07T21:21:00.279Z"
   },
   {
    "duration": 42,
    "start_time": "2022-12-07T21:21:00.339Z"
   },
   {
    "duration": 67,
    "start_time": "2022-12-07T21:21:00.383Z"
   },
   {
    "duration": 52,
    "start_time": "2022-12-07T21:21:00.452Z"
   },
   {
    "duration": 52,
    "start_time": "2022-12-07T21:21:00.505Z"
   },
   {
    "duration": 44,
    "start_time": "2022-12-07T21:21:00.559Z"
   }
  ],
  "kernelspec": {
   "display_name": "Python 3 (ipykernel)",
   "language": "python",
   "name": "python3"
  },
  "language_info": {
   "codemirror_mode": {
    "name": "ipython",
    "version": 3
   },
   "file_extension": ".py",
   "mimetype": "text/x-python",
   "name": "python",
   "nbconvert_exporter": "python",
   "pygments_lexer": "ipython3",
   "version": "3.9.12"
  },
  "toc": {
   "base_numbering": 1,
   "nav_menu": {},
   "number_sections": true,
   "sideBar": true,
   "skip_h1_title": true,
   "title_cell": "Содержание",
   "title_sidebar": "Contents",
   "toc_cell": true,
   "toc_position": {
    "height": "calc(100% - 180px)",
    "left": "10px",
    "top": "150px",
    "width": "240.516px"
   },
   "toc_section_display": true,
   "toc_window_display": true
  }
 },
 "nbformat": 4,
 "nbformat_minor": 2
}
