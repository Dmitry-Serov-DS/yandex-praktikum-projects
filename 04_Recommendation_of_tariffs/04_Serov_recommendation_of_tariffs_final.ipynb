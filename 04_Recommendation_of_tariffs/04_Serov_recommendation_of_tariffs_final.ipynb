{
 "cells": [
  {
   "cell_type": "markdown",
   "metadata": {},
   "source": [
    "# Рекомендация тарифов"
   ]
  },
  {
   "cell_type": "markdown",
   "metadata": {},
   "source": [
    "В вашем распоряжении данные о поведении клиентов, которые уже перешли на эти тарифы. Нужно построить модель для задачи классификации, которая выберет подходящий тариф. Предобработка данных не понадобится — вы её уже сделали.\n",
    "\n",
    "Постройте модель с максимально большим значением *accuracy*. Чтобы сдать проект успешно, нужно довести долю правильных ответов по крайней мере до 0.75. Проверьте *accuracy* на тестовой выборке самостоятельно."
   ]
  },
  {
   "cell_type": "markdown",
   "metadata": {},
   "source": [
    "## Постановка задачи"
   ]
  },
  {
   "cell_type": "markdown",
   "metadata": {},
   "source": [
    "В моем распоряжении данные абонентов мобильной связи «Мегалайн».  \n",
    "Многие клиенты пользуются архивными тарифами. Поэтому стоит задача построить систему, способную проанализировать поведение клиентов и предложить пользователям новый тариф: «Смарт» или «Ультра».\n",
    "В имещемся файле данные клиентов, которые уже перешли на эти тарифы.  \n",
    "Задача построить модель для задачи классификации, которая выберет подходящий тариф. \n",
    "Необходимо постройть модель с максимально большим значением accuracy.   \n",
    "\n",
    "Целевая доля правильных ответов должна быть более 0.75."
   ]
  },
  {
   "cell_type": "markdown",
   "metadata": {},
   "source": [
    "## Откроем и изучим данные"
   ]
  },
  {
   "cell_type": "code",
   "execution_count": 46,
   "metadata": {},
   "outputs": [],
   "source": [
    "# импортирую необходимые библиотеки\n",
    "import pandas as pd\n",
    "from sklearn.ensemble import RandomForestClassifier \n",
    "from sklearn.linear_model import LogisticRegression \n",
    "from sklearn.tree import DecisionTreeClassifier\n",
    "from sklearn.model_selection import train_test_split\n",
    "from sklearn.metrics import accuracy_score\n",
    "from sklearn.preprocessing import StandardScaler\n",
    "import matplotlib.pyplot as plt\n",
    "import seaborn as sns"
   ]
  },
  {
   "cell_type": "code",
   "execution_count": 47,
   "metadata": {},
   "outputs": [],
   "source": [
    "df = pd.read_csv('/datasets/users_behavior.csv')"
   ]
  },
  {
   "cell_type": "markdown",
   "metadata": {},
   "source": [
    "Выведем на экран первые 5 строк датасета, чтобы убедиться, что файл считался"
   ]
  },
  {
   "cell_type": "code",
   "execution_count": 48,
   "metadata": {
    "scrolled": true
   },
   "outputs": [
    {
     "data": {
      "text/html": [
       "<div>\n",
       "<style scoped>\n",
       "    .dataframe tbody tr th:only-of-type {\n",
       "        vertical-align: middle;\n",
       "    }\n",
       "\n",
       "    .dataframe tbody tr th {\n",
       "        vertical-align: top;\n",
       "    }\n",
       "\n",
       "    .dataframe thead th {\n",
       "        text-align: right;\n",
       "    }\n",
       "</style>\n",
       "<table border=\"1\" class=\"dataframe\">\n",
       "  <thead>\n",
       "    <tr style=\"text-align: right;\">\n",
       "      <th></th>\n",
       "      <th>calls</th>\n",
       "      <th>minutes</th>\n",
       "      <th>messages</th>\n",
       "      <th>mb_used</th>\n",
       "      <th>is_ultra</th>\n",
       "    </tr>\n",
       "  </thead>\n",
       "  <tbody>\n",
       "    <tr>\n",
       "      <th>0</th>\n",
       "      <td>40.0</td>\n",
       "      <td>311.90</td>\n",
       "      <td>83.0</td>\n",
       "      <td>19915.42</td>\n",
       "      <td>0</td>\n",
       "    </tr>\n",
       "    <tr>\n",
       "      <th>1</th>\n",
       "      <td>85.0</td>\n",
       "      <td>516.75</td>\n",
       "      <td>56.0</td>\n",
       "      <td>22696.96</td>\n",
       "      <td>0</td>\n",
       "    </tr>\n",
       "    <tr>\n",
       "      <th>2</th>\n",
       "      <td>77.0</td>\n",
       "      <td>467.66</td>\n",
       "      <td>86.0</td>\n",
       "      <td>21060.45</td>\n",
       "      <td>0</td>\n",
       "    </tr>\n",
       "    <tr>\n",
       "      <th>3</th>\n",
       "      <td>106.0</td>\n",
       "      <td>745.53</td>\n",
       "      <td>81.0</td>\n",
       "      <td>8437.39</td>\n",
       "      <td>1</td>\n",
       "    </tr>\n",
       "    <tr>\n",
       "      <th>4</th>\n",
       "      <td>66.0</td>\n",
       "      <td>418.74</td>\n",
       "      <td>1.0</td>\n",
       "      <td>14502.75</td>\n",
       "      <td>0</td>\n",
       "    </tr>\n",
       "  </tbody>\n",
       "</table>\n",
       "</div>"
      ],
      "text/plain": [
       "   calls  minutes  messages   mb_used  is_ultra\n",
       "0   40.0   311.90      83.0  19915.42         0\n",
       "1   85.0   516.75      56.0  22696.96         0\n",
       "2   77.0   467.66      86.0  21060.45         0\n",
       "3  106.0   745.53      81.0   8437.39         1\n",
       "4   66.0   418.74       1.0  14502.75         0"
      ]
     },
     "execution_count": 48,
     "metadata": {},
     "output_type": "execute_result"
    }
   ],
   "source": [
    "df.head()"
   ]
  },
  {
   "cell_type": "markdown",
   "metadata": {},
   "source": [
    "Посмотрим размер файла"
   ]
  },
  {
   "cell_type": "code",
   "execution_count": 49,
   "metadata": {},
   "outputs": [
    {
     "data": {
      "text/plain": [
       "(3214, 5)"
      ]
     },
     "execution_count": 49,
     "metadata": {},
     "output_type": "execute_result"
    }
   ],
   "source": [
    "df.shape"
   ]
  },
  {
   "cell_type": "code",
   "execution_count": 50,
   "metadata": {
    "scrolled": true
   },
   "outputs": [
    {
     "name": "stdout",
     "output_type": "stream",
     "text": [
      "<class 'pandas.core.frame.DataFrame'>\n",
      "RangeIndex: 3214 entries, 0 to 3213\n",
      "Data columns (total 5 columns):\n",
      " #   Column    Non-Null Count  Dtype  \n",
      "---  ------    --------------  -----  \n",
      " 0   calls     3214 non-null   float64\n",
      " 1   minutes   3214 non-null   float64\n",
      " 2   messages  3214 non-null   float64\n",
      " 3   mb_used   3214 non-null   float64\n",
      " 4   is_ultra  3214 non-null   int64  \n",
      "dtypes: float64(4), int64(1)\n",
      "memory usage: 125.7 KB\n"
     ]
    }
   ],
   "source": [
    "df.info()"
   ]
  },
  {
   "cell_type": "code",
   "execution_count": 51,
   "metadata": {},
   "outputs": [
    {
     "data": {
      "text/html": [
       "<div>\n",
       "<style scoped>\n",
       "    .dataframe tbody tr th:only-of-type {\n",
       "        vertical-align: middle;\n",
       "    }\n",
       "\n",
       "    .dataframe tbody tr th {\n",
       "        vertical-align: top;\n",
       "    }\n",
       "\n",
       "    .dataframe thead th {\n",
       "        text-align: right;\n",
       "    }\n",
       "</style>\n",
       "<table border=\"1\" class=\"dataframe\">\n",
       "  <thead>\n",
       "    <tr style=\"text-align: right;\">\n",
       "      <th></th>\n",
       "      <th>calls</th>\n",
       "      <th>minutes</th>\n",
       "      <th>messages</th>\n",
       "      <th>mb_used</th>\n",
       "      <th>is_ultra</th>\n",
       "    </tr>\n",
       "  </thead>\n",
       "  <tbody>\n",
       "    <tr>\n",
       "      <th>count</th>\n",
       "      <td>3214.000000</td>\n",
       "      <td>3214.000000</td>\n",
       "      <td>3214.000000</td>\n",
       "      <td>3214.000000</td>\n",
       "      <td>3214.000000</td>\n",
       "    </tr>\n",
       "    <tr>\n",
       "      <th>mean</th>\n",
       "      <td>63.038892</td>\n",
       "      <td>438.208787</td>\n",
       "      <td>38.281269</td>\n",
       "      <td>17207.673836</td>\n",
       "      <td>0.306472</td>\n",
       "    </tr>\n",
       "    <tr>\n",
       "      <th>std</th>\n",
       "      <td>33.236368</td>\n",
       "      <td>234.569872</td>\n",
       "      <td>36.148326</td>\n",
       "      <td>7570.968246</td>\n",
       "      <td>0.461100</td>\n",
       "    </tr>\n",
       "    <tr>\n",
       "      <th>min</th>\n",
       "      <td>0.000000</td>\n",
       "      <td>0.000000</td>\n",
       "      <td>0.000000</td>\n",
       "      <td>0.000000</td>\n",
       "      <td>0.000000</td>\n",
       "    </tr>\n",
       "    <tr>\n",
       "      <th>25%</th>\n",
       "      <td>40.000000</td>\n",
       "      <td>274.575000</td>\n",
       "      <td>9.000000</td>\n",
       "      <td>12491.902500</td>\n",
       "      <td>0.000000</td>\n",
       "    </tr>\n",
       "    <tr>\n",
       "      <th>50%</th>\n",
       "      <td>62.000000</td>\n",
       "      <td>430.600000</td>\n",
       "      <td>30.000000</td>\n",
       "      <td>16943.235000</td>\n",
       "      <td>0.000000</td>\n",
       "    </tr>\n",
       "    <tr>\n",
       "      <th>75%</th>\n",
       "      <td>82.000000</td>\n",
       "      <td>571.927500</td>\n",
       "      <td>57.000000</td>\n",
       "      <td>21424.700000</td>\n",
       "      <td>1.000000</td>\n",
       "    </tr>\n",
       "    <tr>\n",
       "      <th>max</th>\n",
       "      <td>244.000000</td>\n",
       "      <td>1632.060000</td>\n",
       "      <td>224.000000</td>\n",
       "      <td>49745.730000</td>\n",
       "      <td>1.000000</td>\n",
       "    </tr>\n",
       "  </tbody>\n",
       "</table>\n",
       "</div>"
      ],
      "text/plain": [
       "             calls      minutes     messages       mb_used     is_ultra\n",
       "count  3214.000000  3214.000000  3214.000000   3214.000000  3214.000000\n",
       "mean     63.038892   438.208787    38.281269  17207.673836     0.306472\n",
       "std      33.236368   234.569872    36.148326   7570.968246     0.461100\n",
       "min       0.000000     0.000000     0.000000      0.000000     0.000000\n",
       "25%      40.000000   274.575000     9.000000  12491.902500     0.000000\n",
       "50%      62.000000   430.600000    30.000000  16943.235000     0.000000\n",
       "75%      82.000000   571.927500    57.000000  21424.700000     1.000000\n",
       "max     244.000000  1632.060000   224.000000  49745.730000     1.000000"
      ]
     },
     "execution_count": 51,
     "metadata": {},
     "output_type": "execute_result"
    }
   ],
   "source": [
    "df.describe()"
   ]
  },
  {
   "cell_type": "markdown",
   "metadata": {},
   "source": [
    "Значения в столбце **calls** и **messages** типа **float**.  \n",
    "Переведем в целые числа"
   ]
  },
  {
   "cell_type": "code",
   "execution_count": 52,
   "metadata": {},
   "outputs": [],
   "source": [
    "df.calls = df.calls.astype('int')\n",
    "df.messages = df.messages.astype('int')"
   ]
  },
  {
   "cell_type": "markdown",
   "metadata": {},
   "source": [
    "Построим график и посмотрим разбос и выбросы"
   ]
  },
  {
   "cell_type": "code",
   "execution_count": 53,
   "metadata": {
    "scrolled": true
   },
   "outputs": [
    {
     "data": {
      "image/png": "[encoded data removed]",
      "text/plain": [
       "<Figure size 360x720 with 1 Axes>"
      ]
     },
     "metadata": {
      "needs_background": "light"
     },
     "output_type": "display_data"
    }
   ],
   "source": [
    "plt.figure(figsize=(5,10))\n",
    "df.calls.plot(kind='box')\n",
    "plt.xlabel('звонки')\n",
    "plt.ylabel('количество звонков')\n",
    "plt.title('Распределение количества звонков')\n",
    "plt.show()"
   ]
  },
  {
   "cell_type": "code",
   "execution_count": 54,
   "metadata": {},
   "outputs": [
    {
     "data": {
      "text/plain": [
       "75"
      ]
     },
     "execution_count": 54,
     "metadata": {},
     "output_type": "execute_result"
    }
   ],
   "source": [
    "df[df.calls >140]['calls'].count()"
   ]
  },
  {
   "cell_type": "markdown",
   "metadata": {},
   "source": [
    "По столбцу **calls** видим, что:  \n",
    "- среднее значение 63 звонка в месяц; \n",
    "- медианное значение 62 звонка;  \n",
    "- 3/4 всех значений лежит в предела 82 звонков;\n",
    "- минимальное количество - 0 звонков;\n",
    "- максимальное - 244 звонка\n",
    "- 75 абонентов совершают более 140 звонков в месяц = \"выбросы\""
   ]
  },
  {
   "cell_type": "markdown",
   "metadata": {},
   "source": [
    "Посмотрим на столбец **minutes**"
   ]
  },
  {
   "cell_type": "code",
   "execution_count": 55,
   "metadata": {},
   "outputs": [
    {
     "data": {
      "image/png": "[encoded data removed]",
      "text/plain": [
       "<Figure size 360x720 with 1 Axes>"
      ]
     },
     "metadata": {
      "needs_background": "light"
     },
     "output_type": "display_data"
    }
   ],
   "source": [
    "plt.figure(figsize=(5,10))\n",
    "df.minutes.plot(kind='box')\n",
    "plt.xlabel('минуты')\n",
    "plt.ylabel('количество минут')\n",
    "plt.title('Распределение количества минут')\n",
    "plt.show()"
   ]
  },
  {
   "cell_type": "code",
   "execution_count": 56,
   "metadata": {},
   "outputs": [
    {
     "data": {
      "text/plain": [
       "66"
      ]
     },
     "execution_count": 56,
     "metadata": {},
     "output_type": "execute_result"
    }
   ],
   "source": [
    "df[df.minutes >1000]['minutes'].count()"
   ]
  },
  {
   "cell_type": "markdown",
   "metadata": {},
   "source": [
    "По столбцу **minutes** видим, что:  \n",
    "- среднее значение 438.2 минут  в месяц; \n",
    "- медианное значение 430 минут;  \n",
    "- 3/4 всех значений лежит в предела 571 минуты;\n",
    "- минимальное количество - 0 минут;\n",
    "- максимальное - 1632 минут\n",
    "- 66 абонентов разговаривают более 1000 минут в месяц = \"выбросы\""
   ]
  },
  {
   "cell_type": "code",
   "execution_count": 57,
   "metadata": {},
   "outputs": [
    {
     "data": {
      "image/png": "[encoded data removed]",
      "text/plain": [
       "<Figure size 360x720 with 1 Axes>"
      ]
     },
     "metadata": {
      "needs_background": "light"
     },
     "output_type": "display_data"
    }
   ],
   "source": [
    "plt.figure(figsize=(5,10))\n",
    "df.messages.plot(kind='box')\n",
    "plt.xlabel('сообщения')\n",
    "plt.ylabel('количество сообщений')\n",
    "plt.title('Распределение количества сообщений')\n",
    "plt.show()"
   ]
  },
  {
   "cell_type": "code",
   "execution_count": 58,
   "metadata": {},
   "outputs": [
    {
     "data": {
      "text/plain": [
       "87"
      ]
     },
     "execution_count": 58,
     "metadata": {},
     "output_type": "execute_result"
    }
   ],
   "source": [
    "df[df.messages >130]['messages'].count()"
   ]
  },
  {
   "cell_type": "markdown",
   "metadata": {},
   "source": [
    "По столбцу **messages** видим, что:  \n",
    "- среднее значение 38.2 сообщений в месяц; \n",
    "- медианное значение 30 сообщений;  \n",
    "- 3/4 всех значений лежит в предела 57 сообщений;\n",
    "- минимальное количество - 0 сообщений;\n",
    "- максимальное - 224 сообщений;\n",
    "- 87 абонентов отправляют более 130 сообщений в месяц = \"выбросы\"."
   ]
  },
  {
   "cell_type": "code",
   "execution_count": 59,
   "metadata": {
    "scrolled": true
   },
   "outputs": [
    {
     "data": {
      "image/png": "[encoded data removed]",
      "text/plain": [
       "<Figure size 360x720 with 1 Axes>"
      ]
     },
     "metadata": {
      "needs_background": "light"
     },
     "output_type": "display_data"
    }
   ],
   "source": [
    "plt.figure(figsize=(5,10))\n",
    "df.mb_used.plot(kind='box')\n",
    "plt.xlabel('мегабайты')\n",
    "plt.ylabel('количество мегабайт')\n",
    "plt.title('Распределение количества интернет-трафика')\n",
    "plt.show()"
   ]
  },
  {
   "cell_type": "code",
   "execution_count": 60,
   "metadata": {},
   "outputs": [
    {
     "data": {
      "text/plain": [
       "75"
      ]
     },
     "execution_count": 60,
     "metadata": {},
     "output_type": "execute_result"
    }
   ],
   "source": [
    "df[df.mb_used >35000]['mb_used'].count()"
   ]
  },
  {
   "cell_type": "markdown",
   "metadata": {},
   "source": [
    "По столбцу **mb_used** видим, что:  \n",
    "- среднее значение 17 207 mb в месяц; \n",
    "- медианное значение 16 943 mb;  \n",
    "- 3/4 всех значений лежит в предела 21 424 mb;\n",
    "- минимальное - 0 mb;\n",
    "- максимальное - 49 745 mb\n",
    "- 75 абонентов используют более 35 000 mb в месяц = \"выбросы\""
   ]
  },
  {
   "cell_type": "code",
   "execution_count": 61,
   "metadata": {
    "scrolled": true
   },
   "outputs": [
    {
     "data": {
      "image/png": "[encoded data removed]",
      "text/plain": [
       "<Figure size 432x288 with 1 Axes>"
      ]
     },
     "metadata": {
      "needs_background": "light"
     },
     "output_type": "display_data"
    }
   ],
   "source": [
    "(\n",
    "sns.barplot(\n",
    "    data = df.pivot_table(index='is_ultra', values='calls', aggfunc='count')\n",
    "    .reset_index(),\n",
    "    x='is_ultra',\n",
    "    y='calls')\n",
    ")\n",
    "plt.xlabel('тариф')\n",
    "plt.ylabel('количество пользователей')\n",
    "plt.title('Распределение пользователей по тарифам')\n",
    "plt.show()"
   ]
  },
  {
   "cell_type": "code",
   "execution_count": 62,
   "metadata": {},
   "outputs": [
    {
     "data": {
      "image/png": "[encoded data removed]",
      "text/plain": [
       "<Figure size 764.5x720 with 20 Axes>"
      ]
     },
     "metadata": {
      "needs_background": "light"
     },
     "output_type": "display_data"
    }
   ],
   "source": [
    "sns.pairplot(data = df, hue='is_ultra')\n",
    "plt.title('Корреляция признаков с целевым признаком')\n",
    "plt.show()"
   ]
  },
  {
   "cell_type": "markdown",
   "metadata": {},
   "source": [
    "На графике видна корреляция между звонками и минутами"
   ]
  },
  {
   "cell_type": "markdown",
   "metadata": {},
   "source": [
    "## Разбьем данные на выборки"
   ]
  },
  {
   "cell_type": "markdown",
   "metadata": {},
   "source": [
    "Выделим целевой принак и признаки для предсказаний"
   ]
  },
  {
   "cell_type": "markdown",
   "metadata": {},
   "source": [
    "**is_ultra** будет целевым признаком, который будем прогнозировать. Признак категориальный, значит будем решать задачу **классификации.**"
   ]
  },
  {
   "cell_type": "code",
   "execution_count": 63,
   "metadata": {},
   "outputs": [],
   "source": [
    "features = df.drop('is_ultra', axis=1)\n",
    "target = df.is_ultra\n",
    "columns = features.columns.tolist()"
   ]
  },
  {
   "cell_type": "markdown",
   "metadata": {},
   "source": [
    "Разделим исходный датасет на 3 части: тренировочную, валидационную и тестовую выборки в пропорциях 60:20:20.  "
   ]
  },
  {
   "cell_type": "markdown",
   "metadata": {},
   "source": [
    "Первоначально разделим датасет на 2 части: Тренировочную и \"временную\" в пропорциях 60% и 40%.  \n",
    "Далее \"временную\" поделю пополам, чтобы получить 20% в валидационную и 20% в тестовую выборку от изначального датасета.  \n",
    "Будем использовать параметр **stratify** по целевому признаку чтобы получить примерно одинаковое отношение целевого признака в общему количеству данных в выборке."
   ]
  },
  {
   "cell_type": "code",
   "execution_count": 64,
   "metadata": {},
   "outputs": [],
   "source": [
    "features_train, features_temp, target_train, target_temp = train_test_split(\n",
    "    features, target, test_size=0.4, random_state=12345, stratify=target)"
   ]
  },
  {
   "cell_type": "code",
   "execution_count": 65,
   "metadata": {
    "scrolled": true
   },
   "outputs": [
    {
     "data": {
      "text/plain": [
       "(1928, 4)"
      ]
     },
     "execution_count": 65,
     "metadata": {},
     "output_type": "execute_result"
    }
   ],
   "source": [
    "features_train.shape # 60% от изначального датафрейма"
   ]
  },
  {
   "cell_type": "markdown",
   "metadata": {},
   "source": [
    "оставшиеся 40% датайфрейма, которая сохранена в **features_temp** разделим пополам и получим 20% валидационной выборки и 20% тестовой от изначального размера датафрейма"
   ]
  },
  {
   "cell_type": "code",
   "execution_count": 66,
   "metadata": {},
   "outputs": [],
   "source": [
    "features_valid, features_test, target_valid, target_test = train_test_split(\n",
    "    features_temp, target_temp, test_size=0.5, random_state=12345, stratify=target_temp)"
   ]
  },
  {
   "cell_type": "code",
   "execution_count": 67,
   "metadata": {},
   "outputs": [
    {
     "data": {
      "text/plain": [
       "(643, 4)"
      ]
     },
     "execution_count": 67,
     "metadata": {},
     "output_type": "execute_result"
    }
   ],
   "source": [
    "features_valid.shape"
   ]
  },
  {
   "cell_type": "code",
   "execution_count": 68,
   "metadata": {
    "scrolled": true
   },
   "outputs": [
    {
     "data": {
      "text/plain": [
       "(643, 4)"
      ]
     },
     "execution_count": 68,
     "metadata": {},
     "output_type": "execute_result"
    }
   ],
   "source": [
    "features_test.shape"
   ]
  },
  {
   "cell_type": "markdown",
   "metadata": {},
   "source": [
    "Таким образом в результате разбиения получил 3 выборки:  \n",
    "**features_train** - 1928 записей (60% исходного датасета);  \n",
    "**features_valid** - 643 записей (20% исходного датасета);  \n",
    "**features_test** - 643 записей (20% исходного датасета);  "
   ]
  },
  {
   "cell_type": "markdown",
   "metadata": {},
   "source": [
    "## Исследуем модели"
   ]
  },
  {
   "cell_type": "markdown",
   "metadata": {},
   "source": [
    "### Посмотрим модель дерева"
   ]
  },
  {
   "cell_type": "markdown",
   "metadata": {},
   "source": [
    "переберем циклом длину дерева от 1 до 11"
   ]
  },
  {
   "cell_type": "code",
   "execution_count": 69,
   "metadata": {
    "scrolled": false
   },
   "outputs": [
    {
     "name": "stdout",
     "output_type": "stream",
     "text": [
      "max_depth = 1 : 0.7402799377916018\n",
      "max_depth = 2 : 0.7729393468118196\n",
      "max_depth = 3 : 0.7776049766718507\n",
      "max_depth = 4 : 0.7542768273716952\n",
      "max_depth = 5 : 0.7853810264385692\n",
      "max_depth = 6 : 0.7744945567651633\n",
      "max_depth = 7 : 0.7869362363919129\n",
      "max_depth = 8 : 0.80248833592535\n",
      "max_depth = 9 : 0.7822706065318819\n",
      "max_depth = 10 : 0.7729393468118196\n",
      "max_depth = 11 : 0.7620528771384136\n"
     ]
    }
   ],
   "source": [
    "for depth in range(1,12):\n",
    "    model = DecisionTreeClassifier(random_state=12345, max_depth = depth)\n",
    "    model.fit(features_train, target_train)\n",
    "    answer = model.predict(features_valid)\n",
    "    print(f'max_depth = {depth} : {accuracy_score(target_valid,answer)}')"
   ]
  },
  {
   "cell_type": "markdown",
   "metadata": {},
   "source": [
    "Получили, что наилучшее значение параметра **accuracy** = 0.8024 достигается при длине дерева равному **8**.  \n",
    "\n",
    "Из результатов видно, что при длине дерева 9 и более значение **accuracy** начинает снижаться"
   ]
  },
  {
   "cell_type": "markdown",
   "metadata": {},
   "source": [
    "### Посмотрим модель случайного леса"
   ]
  },
  {
   "cell_type": "code",
   "execution_count": 70,
   "metadata": {},
   "outputs": [],
   "source": [
    "best_model = None\n",
    "best_result = 0\n",
    "best_est = 0\n",
    "\n",
    "for est in range(1,200,10):\n",
    "    model = RandomForestClassifier(random_state=12345, n_estimators = est, min_samples_split=5, min_samples_leaf=4)\n",
    "    model.fit(features_train, target_train)\n",
    "    result = model.score(features_valid, target_valid)\n",
    "    if result > best_result:\n",
    "        best_result = result\n",
    "        best_model = model\n",
    "        best_est = est"
   ]
  },
  {
   "cell_type": "code",
   "execution_count": 71,
   "metadata": {
    "scrolled": true
   },
   "outputs": [
    {
     "data": {
      "text/plain": [
       "0.8195956454121306"
      ]
     },
     "execution_count": 71,
     "metadata": {},
     "output_type": "execute_result"
    }
   ],
   "source": [
    "best_result"
   ]
  },
  {
   "cell_type": "code",
   "execution_count": 72,
   "metadata": {},
   "outputs": [
    {
     "data": {
      "text/plain": [
       "RandomForestClassifier(min_samples_leaf=4, min_samples_split=5,\n",
       "                       n_estimators=131, random_state=12345)"
      ]
     },
     "execution_count": 72,
     "metadata": {},
     "output_type": "execute_result"
    }
   ],
   "source": [
    "best_model"
   ]
  },
  {
   "cell_type": "markdown",
   "metadata": {},
   "source": [
    "получили, что accuracy модели случайного леса дает значение **accuracy** равным 0,8195 с количеством деревьев 131"
   ]
  },
  {
   "cell_type": "markdown",
   "metadata": {},
   "source": [
    "### Посмотрим на результаты работы Линейной регрессии"
   ]
  },
  {
   "cell_type": "markdown",
   "metadata": {},
   "source": [
    "Проверю есть ли сильная корреляция между признаками и целевым признаком"
   ]
  },
  {
   "cell_type": "code",
   "execution_count": 73,
   "metadata": {},
   "outputs": [
    {
     "data": {
      "image/png": "[encoded data removed]",
      "text/plain": [
       "<Figure size 432x288 with 2 Axes>"
      ]
     },
     "metadata": {
      "needs_background": "light"
     },
     "output_type": "display_data"
    }
   ],
   "source": [
    "sns.heatmap(df.corr()[['is_ultra']], vmax=1, vmin=-1);"
   ]
  },
  {
   "cell_type": "markdown",
   "metadata": {},
   "source": [
    "#### Используем линейную модель без использования масштабирования"
   ]
  },
  {
   "cell_type": "code",
   "execution_count": 74,
   "metadata": {},
   "outputs": [],
   "source": [
    "model = LogisticRegression(random_state=12345, solver='lbfgs', max_iter=1000) "
   ]
  },
  {
   "cell_type": "code",
   "execution_count": 75,
   "metadata": {},
   "outputs": [
    {
     "data": {
      "text/plain": [
       "0.7387247278382582"
      ]
     },
     "execution_count": 75,
     "metadata": {},
     "output_type": "execute_result"
    }
   ],
   "source": [
    "model.fit(features_train, target_train) \n",
    "model.predict(features_valid) \n",
    "model.score(features_valid, target_valid) "
   ]
  },
  {
   "cell_type": "code",
   "execution_count": 76,
   "metadata": {},
   "outputs": [
    {
     "data": {
      "text/plain": [
       "array([ 1.31332014e-02, -5.03316121e-04,  1.07303581e-02,  4.00856937e-05])"
      ]
     },
     "execution_count": 76,
     "metadata": {},
     "output_type": "execute_result"
    }
   ],
   "source": [
    "model.coef_[0]"
   ]
  },
  {
   "cell_type": "markdown",
   "metadata": {},
   "source": [
    "Выведем полученные коэффициенты модели логистической регрессии"
   ]
  },
  {
   "cell_type": "code",
   "execution_count": 77,
   "metadata": {
    "scrolled": false
   },
   "outputs": [
    {
     "data": {
      "image/png": "[encoded data removed]",
      "text/plain": [
       "<Figure size 432x288 with 1 Axes>"
      ]
     },
     "metadata": {
      "needs_background": "light"
     },
     "output_type": "display_data"
    }
   ],
   "source": [
    "sns.barplot(y=columns, x=(model.coef_[0]))\n",
    "plt.show()"
   ]
  },
  {
   "cell_type": "markdown",
   "metadata": {},
   "source": [
    "В результате видим, что в линейной модели целевой критерий наиболее зависит от количества звонков и сообщений"
   ]
  },
  {
   "cell_type": "markdown",
   "metadata": {},
   "source": [
    "#### Используем линейную модель с использования масштабирования"
   ]
  },
  {
   "cell_type": "markdown",
   "metadata": {},
   "source": [
    "Обучим StandardScaler на обучающей выборке, валидационную и тестовую трансформируем. Таким образом избежим утечки данных"
   ]
  },
  {
   "cell_type": "code",
   "execution_count": 78,
   "metadata": {},
   "outputs": [],
   "source": [
    "scarler = StandardScaler()\n",
    "scarler = scarler.fit(features_train)\n",
    "features_train_scaled = scarler.transform(features_train)\n",
    "features_valid_scaled = scarler.transform(features_valid)"
   ]
  },
  {
   "cell_type": "code",
   "execution_count": 79,
   "metadata": {},
   "outputs": [
    {
     "data": {
      "text/plain": [
       "0.7387247278382582"
      ]
     },
     "execution_count": 79,
     "metadata": {},
     "output_type": "execute_result"
    }
   ],
   "source": [
    "model.fit(features_train_scaled, target_train)\n",
    "preds = model.predict(features_valid_scaled)\n",
    "model.score(features_valid_scaled, target_valid)"
   ]
  },
  {
   "cell_type": "code",
   "execution_count": 80,
   "metadata": {},
   "outputs": [
    {
     "data": {
      "text/plain": [
       "array([[ 0.3988917 , -0.08279427,  0.39095613,  0.30094091]])"
      ]
     },
     "execution_count": 80,
     "metadata": {},
     "output_type": "execute_result"
    }
   ],
   "source": [
    "model.coef_"
   ]
  },
  {
   "cell_type": "code",
   "execution_count": 81,
   "metadata": {
    "scrolled": true
   },
   "outputs": [
    {
     "data": {
      "image/png": "[encoded data removed]",
      "text/plain": [
       "<Figure size 432x288 with 1 Axes>"
      ]
     },
     "metadata": {
      "needs_background": "light"
     },
     "output_type": "display_data"
    }
   ],
   "source": [
    "sns.barplot(y=columns, x=(model.coef_[0]))\n",
    "plt.show()"
   ]
  },
  {
   "cell_type": "markdown",
   "metadata": {},
   "source": [
    "по масштарованным данным получили практическую одинаковую зависимость целевого признака от количество звонков и сообщений и чуть ниже от использованного интернет-трафика.  \n",
    "Хотя без использования масштабирования трафик \"не имел\" вес.  \n",
    "Минуты и в первом и в этом случае \"не имеют\" сильный вес"
   ]
  },
  {
   "cell_type": "markdown",
   "metadata": {},
   "source": [
    "## Проверим модель на тестовой выборке"
   ]
  },
  {
   "cell_type": "markdown",
   "metadata": {},
   "source": [
    "Проверим модель на тестовой выборке. \n",
    "Используем модель случайного леса. В качестве гиперпараметров установим:\n",
    "- количество деревьев = 131, \n",
    "- минимальное количество выборок, которое внутренний узел должен содержать для разделения на следующие узлы = 5,\n",
    "- минимальное количество выборок, которое узел должен удерживать после разделения = 4\n",
    "\n",
    "Предварительно объединим тренировочную и валидационную выборку, чтобы обучить модель на объединенных данных."
   ]
  },
  {
   "cell_type": "code",
   "execution_count": 82,
   "metadata": {},
   "outputs": [],
   "source": [
    "features_train_valid = pd.concat([features_train,features_valid], axis=0)"
   ]
  },
  {
   "cell_type": "code",
   "execution_count": 83,
   "metadata": {},
   "outputs": [],
   "source": [
    "target_train_valid = pd.concat([target_train,target_valid], axis=0)"
   ]
  },
  {
   "cell_type": "code",
   "execution_count": 84,
   "metadata": {},
   "outputs": [
    {
     "data": {
      "text/plain": [
       "0.8351477449455676"
      ]
     },
     "execution_count": 84,
     "metadata": {},
     "output_type": "execute_result"
    }
   ],
   "source": [
    "model = RandomForestClassifier(random_state=12345, n_estimators = 131, min_samples_split=5, min_samples_leaf=4)\n",
    "model.fit(features_train_valid, target_train_valid)\n",
    "result = model.score(features_test, target_test)\n",
    "result"
   ]
  },
  {
   "cell_type": "markdown",
   "metadata": {},
   "source": [
    "Поручили показать **accuracy** равный 0,8351"
   ]
  },
  {
   "cell_type": "markdown",
   "metadata": {},
   "source": [
    "## Проверим модели на адекватность"
   ]
  },
  {
   "cell_type": "markdown",
   "metadata": {},
   "source": [
    "Предположим, что в случайной выборке вероятность предсказать необходимость выбрать тариф «Ультра» - 1 и тариф \"Смарт\" = 0.  \n",
    "accuracy = 0,5 * (*доля угаданных тарифов \"Ультра\"*) + 0,5 * (*Долю угаданных тарифов \"Смарт\"*).  \n",
    "В случае, когда доля тарифов **Смарт** и **Ультра** равна, а вероятность угадать 1 или 0 равна 50%, т.к. ответы модели не связаны с правильными ответами, получаем:  \n",
    "accuracy = 0,5 * 0,5 + 0,5 * 0,5 = 0,25 + 0,25 = 0,5"
   ]
  },
  {
   "cell_type": "markdown",
   "metadata": {},
   "source": [
    "Полученный нами ранее **accuracy = 0,8351** больше **0,5**, поэтому можно сказать, что модель адекватная"
   ]
  },
  {
   "cell_type": "markdown",
   "metadata": {},
   "source": [
    "<div class=\"alert alert-block alert-info\">\n",
    "\n",
    "<b>Совет:</b> Можно просто всегда предсказывать наибольший класс и порог адекватности, станет строже. Для данной задачи удобен инструмент DummyClassifier</div>"
   ]
  },
  {
   "cell_type": "markdown",
   "metadata": {},
   "source": [
    "## ВЫВОД\n",
    "\n",
    "В нашем распоряжении были данные абонентов мобильной связи **«Мегалайн».**    \n",
    "Многие клиенты пользуются архивными тарифами. Поэтому стояла задача построить систему, способную проанализировать поведение клиентов и предложить пользователям новый тариф: **«Смарт» или «Ультра».**  \n",
    "\n",
    "В результате выполнения проекта первоначально загрузили данные, убедились в том, что данные корректно загрузились, посмотрели размерность, типы данных в датасете и вывели основные статистические параметры датасета.  \n",
    "После перевели значения в столбцах **calls** и **messages** в целый  тип.\n",
    "\n",
    "Далее было необходимо разделить выборку на 3 части: \n",
    "- тренировочную – на которой мы обучали модель, \n",
    "- валидационную – для проверки модели,\n",
    "- тестовую для итоговой оценки работы модели.  \n",
    "\n",
    "Таким образом я отделил 60% датасета в тренировочную выборку, 20% в валидационную и 20% в тестовую.\n",
    "После разделения датасета на выборки я последовательно проверил работу трех типов моделей на тренировочной и валидацонной выборках:  \n",
    "\n",
    "**Результаты работы моделей**  \n",
    "\n",
    "**1)\tМодель дерева:**  \n",
    "В результате исследования получили показатель **accuracy** равным 0,8024 при длине дерева равным 8.\n",
    "\n",
    "\n",
    "**2)\tМодель случайного леса:**  \n",
    "\n",
    "В результате исследования получили показатель **accuracy** равным 0,8195 при следующих гиперпараметрах: **min_samples_leaf=4, min_samples_split=5, n_estimators=131**\n",
    "\n",
    "\n",
    "**3)\tМодель линейной регрессии:**  \n",
    "Предварительно проверили есть ли прямая сильная корреляция между параметрами, чтобы заранее исключить явный коррелирующий признак с целевым признаком. Таких признаков не оказалось.\n",
    "\n",
    "**3.1) Без масштабирования:**  \n",
    "Использовали признаки в тех единицах измерения, в которых они были представлены.  \n",
    "В результате исследования получили показатель **accuracy** равным 0,73. При этом признаками с наибольшим весом коэффициентов получились звонки и сообщения\n",
    "\n",
    "**3.2) С масштабированием:**  \n",
    "Сначала привели все признаки к «единой» размерности, чтобы модель могла их использовать без учета единиц измерения.\n",
    "В результате исследования получили показатель **accuracy** равным 0,73. При этом признаками с наибольшим весом коэффициентов получились: звонки, сообщения и интернет-трафик\n",
    "\n",
    "**Проверка работы модели на тестовой выборке** \n",
    "\n",
    "В итоге решили прогнозировать тариф для перехода на основании модели случайного леса, т.к. она показала наибольший результат на валидационной выборке.\n",
    "Предварительно объединили тренировочную и валидационную выборку, чтобы обучить модель на объединенных данных.\n",
    "Таким образом в результате прогона модели на тестовой выборке получили показатель **accuracy** равным 0,8351.  \n",
    "Без объединения тренировочной и валидационной выборки результат работы модели получался 0,8211, что на 0,0130 хуже.\n",
    "\n",
    "<b> Целевую задачу проекта выполнили успешно, а именно получили **accuracy** более 0,75%. \n",
    "Таким образом используя модель случайного леса можно предсказать верный тариф для перехода в 83,51% случаях</b>\n",
    "\n",
    "Дополнительно проверили модель на адекватность, сравнив ее со случайно выборкой. Получил, что моя модель «адекватная»\n"
   ]
  },
  {
   "cell_type": "code",
   "execution_count": null,
   "metadata": {},
   "outputs": [],
   "source": []
  }
 ],
 "metadata": {
  "ExecuteTimeLog": [
   {
    "duration": 1615,
    "start_time": "2022-10-21T05:19:57.378Z"
   },
   {
    "duration": 4,
    "start_time": "2022-10-21T05:20:22.659Z"
   },
   {
    "duration": 120,
    "start_time": "2022-10-21T05:20:53.955Z"
   },
   {
    "duration": 24,
    "start_time": "2022-10-21T05:21:04.910Z"
   },
   {
    "duration": 10,
    "start_time": "2022-10-21T05:21:44.979Z"
   },
   {
    "duration": 5,
    "start_time": "2022-10-21T05:21:53.952Z"
   },
   {
    "duration": 77,
    "start_time": "2022-10-21T05:22:02.221Z"
   },
   {
    "duration": 12,
    "start_time": "2022-10-21T05:22:05.865Z"
   },
   {
    "duration": 5,
    "start_time": "2022-10-21T05:25:32.775Z"
   },
   {
    "duration": 11,
    "start_time": "2022-10-21T05:25:44.219Z"
   },
   {
    "duration": 1521,
    "start_time": "2022-10-21T16:01:08.703Z"
   },
   {
    "duration": 132,
    "start_time": "2022-10-21T16:01:10.226Z"
   },
   {
    "duration": 12,
    "start_time": "2022-10-21T16:01:10.359Z"
   },
   {
    "duration": 3,
    "start_time": "2022-10-21T16:01:10.373Z"
   },
   {
    "duration": 14,
    "start_time": "2022-10-21T16:01:10.377Z"
   },
   {
    "duration": 6,
    "start_time": "2022-10-21T16:01:10.392Z"
   },
   {
    "duration": 101,
    "start_time": "2022-10-21T16:01:10.399Z"
   },
   {
    "duration": 4,
    "start_time": "2022-10-21T16:02:28.364Z"
   },
   {
    "duration": 11,
    "start_time": "2022-10-21T16:02:30.375Z"
   },
   {
    "duration": 63,
    "start_time": "2022-10-21T16:14:02.938Z"
   },
   {
    "duration": 6,
    "start_time": "2022-10-21T16:14:07.536Z"
   },
   {
    "duration": 5,
    "start_time": "2022-10-21T16:14:13.419Z"
   },
   {
    "duration": 9,
    "start_time": "2022-10-21T16:14:17.738Z"
   },
   {
    "duration": 8,
    "start_time": "2022-10-21T16:14:21.340Z"
   },
   {
    "duration": 14,
    "start_time": "2022-10-21T16:14:27.137Z"
   },
   {
    "duration": 4,
    "start_time": "2022-10-21T16:14:30.451Z"
   },
   {
    "duration": 9,
    "start_time": "2022-10-21T16:15:11.852Z"
   },
   {
    "duration": 8,
    "start_time": "2022-10-21T16:15:18.881Z"
   },
   {
    "duration": 6,
    "start_time": "2022-10-21T16:15:21.561Z"
   },
   {
    "duration": 4,
    "start_time": "2022-10-21T16:15:22.004Z"
   },
   {
    "duration": 4,
    "start_time": "2022-10-21T16:15:22.314Z"
   },
   {
    "duration": 6,
    "start_time": "2022-10-21T16:16:10.289Z"
   },
   {
    "duration": 5,
    "start_time": "2022-10-21T16:16:21.971Z"
   },
   {
    "duration": 3,
    "start_time": "2022-10-21T16:16:27.198Z"
   },
   {
    "duration": 4,
    "start_time": "2022-10-21T16:16:34.476Z"
   },
   {
    "duration": 3,
    "start_time": "2022-10-21T16:16:58.464Z"
   },
   {
    "duration": 9,
    "start_time": "2022-10-21T16:17:07.833Z"
   },
   {
    "duration": 4,
    "start_time": "2022-10-21T16:17:26.988Z"
   },
   {
    "duration": 7,
    "start_time": "2022-10-21T16:18:28.366Z"
   },
   {
    "duration": 9,
    "start_time": "2022-10-21T16:21:46.571Z"
   },
   {
    "duration": 12,
    "start_time": "2022-10-21T16:22:25.013Z"
   },
   {
    "duration": 3,
    "start_time": "2022-10-21T16:22:33.765Z"
   },
   {
    "duration": 29,
    "start_time": "2022-10-21T16:22:38.477Z"
   },
   {
    "duration": 1597,
    "start_time": "2022-10-23T11:52:19.886Z"
   },
   {
    "duration": 44,
    "start_time": "2022-10-23T11:52:21.485Z"
   },
   {
    "duration": 15,
    "start_time": "2022-10-23T11:52:21.531Z"
   },
   {
    "duration": 16,
    "start_time": "2022-10-23T11:52:21.548Z"
   },
   {
    "duration": 28,
    "start_time": "2022-10-23T11:52:21.566Z"
   },
   {
    "duration": 9,
    "start_time": "2022-10-23T11:52:21.596Z"
   },
   {
    "duration": 17,
    "start_time": "2022-10-23T11:52:21.607Z"
   },
   {
    "duration": 11,
    "start_time": "2022-10-23T11:52:21.626Z"
   },
   {
    "duration": 16,
    "start_time": "2022-10-23T11:52:21.638Z"
   },
   {
    "duration": 9,
    "start_time": "2022-10-23T11:52:21.657Z"
   },
   {
    "duration": 36,
    "start_time": "2022-10-23T11:52:21.668Z"
   },
   {
    "duration": 88,
    "start_time": "2022-10-23T12:01:36.636Z"
   },
   {
    "duration": 6,
    "start_time": "2022-10-23T12:01:47.241Z"
   },
   {
    "duration": 4,
    "start_time": "2022-10-23T12:02:29.592Z"
   },
   {
    "duration": 118,
    "start_time": "2022-10-23T12:02:30.217Z"
   },
   {
    "duration": 30,
    "start_time": "2022-10-23T12:02:48.582Z"
   },
   {
    "duration": 5,
    "start_time": "2022-10-23T12:02:49.862Z"
   },
   {
    "duration": 8,
    "start_time": "2022-10-23T12:03:32.247Z"
   },
   {
    "duration": 6,
    "start_time": "2022-10-23T12:03:32.866Z"
   },
   {
    "duration": 10,
    "start_time": "2022-10-23T12:03:38.187Z"
   },
   {
    "duration": 5,
    "start_time": "2022-10-23T12:03:39.358Z"
   },
   {
    "duration": 7,
    "start_time": "2022-10-23T12:03:48.044Z"
   },
   {
    "duration": 6,
    "start_time": "2022-10-23T12:03:48.647Z"
   },
   {
    "duration": 10,
    "start_time": "2022-10-23T12:03:52.626Z"
   },
   {
    "duration": 5,
    "start_time": "2022-10-23T12:03:53.305Z"
   },
   {
    "duration": 10,
    "start_time": "2022-10-23T12:03:57.064Z"
   },
   {
    "duration": 5,
    "start_time": "2022-10-23T12:03:57.432Z"
   },
   {
    "duration": 9,
    "start_time": "2022-10-23T12:04:00.869Z"
   },
   {
    "duration": 5,
    "start_time": "2022-10-23T12:04:01.293Z"
   },
   {
    "duration": 13,
    "start_time": "2022-10-23T12:04:44.307Z"
   },
   {
    "duration": 5,
    "start_time": "2022-10-23T12:04:44.941Z"
   },
   {
    "duration": 9,
    "start_time": "2022-10-23T12:04:48.541Z"
   },
   {
    "duration": 6,
    "start_time": "2022-10-23T12:04:48.768Z"
   },
   {
    "duration": 8,
    "start_time": "2022-10-23T12:05:10.837Z"
   },
   {
    "duration": 12,
    "start_time": "2022-10-23T12:05:38.916Z"
   },
   {
    "duration": 6,
    "start_time": "2022-10-23T12:05:40.423Z"
   },
   {
    "duration": 7,
    "start_time": "2022-10-23T12:05:52.219Z"
   },
   {
    "duration": 32,
    "start_time": "2022-10-23T12:06:16.747Z"
   },
   {
    "duration": 5,
    "start_time": "2022-10-23T12:06:18.814Z"
   },
   {
    "duration": 9,
    "start_time": "2022-10-23T12:06:26.527Z"
   },
   {
    "duration": 3,
    "start_time": "2022-10-23T12:50:31.609Z"
   },
   {
    "duration": 97,
    "start_time": "2022-10-23T12:50:40.649Z"
   },
   {
    "duration": 255,
    "start_time": "2022-10-23T12:51:02.468Z"
   },
   {
    "duration": 278,
    "start_time": "2022-10-23T12:51:15.714Z"
   },
   {
    "duration": 4,
    "start_time": "2022-10-23T12:51:25.281Z"
   },
   {
    "duration": 4,
    "start_time": "2022-10-23T12:51:50.384Z"
   },
   {
    "duration": 25,
    "start_time": "2022-10-23T12:51:56.087Z"
   },
   {
    "duration": 56,
    "start_time": "2022-10-23T12:52:03.027Z"
   },
   {
    "duration": 1614,
    "start_time": "2022-10-24T15:51:52.525Z"
   },
   {
    "duration": 70,
    "start_time": "2022-10-24T15:51:54.141Z"
   },
   {
    "duration": 26,
    "start_time": "2022-10-24T15:51:54.213Z"
   },
   {
    "duration": 15,
    "start_time": "2022-10-24T15:51:54.242Z"
   },
   {
    "duration": 26,
    "start_time": "2022-10-24T15:51:54.259Z"
   },
   {
    "duration": 19,
    "start_time": "2022-10-24T15:51:54.287Z"
   },
   {
    "duration": 128,
    "start_time": "2022-10-24T15:51:54.308Z"
   },
   {
    "duration": 5,
    "start_time": "2022-10-24T15:51:54.438Z"
   },
   {
    "duration": 24,
    "start_time": "2022-10-24T15:51:54.445Z"
   },
   {
    "duration": 19,
    "start_time": "2022-10-24T15:51:54.472Z"
   },
   {
    "duration": 25,
    "start_time": "2022-10-24T15:51:54.493Z"
   },
   {
    "duration": 68,
    "start_time": "2022-10-24T15:51:54.520Z"
   },
   {
    "duration": 265,
    "start_time": "2022-10-24T15:51:54.590Z"
   },
   {
    "duration": 4,
    "start_time": "2022-10-24T15:51:54.857Z"
   },
   {
    "duration": 24,
    "start_time": "2022-10-24T15:51:54.863Z"
   },
   {
    "duration": 42,
    "start_time": "2022-10-24T15:51:54.889Z"
   },
   {
    "duration": 52,
    "start_time": "2022-10-24T15:51:54.934Z"
   },
   {
    "duration": 24,
    "start_time": "2022-10-24T15:52:35.554Z"
   },
   {
    "duration": 71,
    "start_time": "2022-10-24T15:54:26.414Z"
   },
   {
    "duration": 98,
    "start_time": "2022-10-24T15:54:31.094Z"
   },
   {
    "duration": 164,
    "start_time": "2022-10-24T15:57:38.910Z"
   },
   {
    "duration": 275,
    "start_time": "2022-10-24T15:57:48.683Z"
   },
   {
    "duration": 108,
    "start_time": "2022-10-24T15:57:59.804Z"
   },
   {
    "duration": 169,
    "start_time": "2022-10-24T15:58:21.633Z"
   },
   {
    "duration": 92,
    "start_time": "2022-10-24T15:58:29.146Z"
   },
   {
    "duration": 10,
    "start_time": "2022-10-24T15:58:41.074Z"
   },
   {
    "duration": 10,
    "start_time": "2022-10-24T15:58:44.901Z"
   },
   {
    "duration": 94,
    "start_time": "2022-10-24T15:58:52.551Z"
   },
   {
    "duration": 117,
    "start_time": "2022-10-24T15:59:21.588Z"
   },
   {
    "duration": 108,
    "start_time": "2022-10-24T15:59:36.904Z"
   },
   {
    "duration": 98,
    "start_time": "2022-10-24T15:59:42.360Z"
   },
   {
    "duration": 12,
    "start_time": "2022-10-24T16:00:41.139Z"
   },
   {
    "duration": 10,
    "start_time": "2022-10-24T16:01:35.617Z"
   },
   {
    "duration": 3,
    "start_time": "2022-10-24T16:01:37.876Z"
   },
   {
    "duration": 9,
    "start_time": "2022-10-24T16:01:38.380Z"
   },
   {
    "duration": 4,
    "start_time": "2022-10-24T16:01:40.740Z"
   },
   {
    "duration": 3,
    "start_time": "2022-10-24T16:02:11.756Z"
   },
   {
    "duration": 9,
    "start_time": "2022-10-24T16:02:11.762Z"
   },
   {
    "duration": 3,
    "start_time": "2022-10-24T16:02:18.957Z"
   },
   {
    "duration": 31,
    "start_time": "2022-10-24T16:02:20.261Z"
   },
   {
    "duration": 4,
    "start_time": "2022-10-24T16:02:27.048Z"
   },
   {
    "duration": 36,
    "start_time": "2022-10-24T16:02:27.053Z"
   },
   {
    "duration": 9,
    "start_time": "2022-10-24T16:02:27.091Z"
   },
   {
    "duration": 8,
    "start_time": "2022-10-24T16:02:27.102Z"
   },
   {
    "duration": 11,
    "start_time": "2022-10-24T16:02:27.112Z"
   },
   {
    "duration": 26,
    "start_time": "2022-10-24T16:02:27.125Z"
   },
   {
    "duration": 4,
    "start_time": "2022-10-24T16:02:27.153Z"
   },
   {
    "duration": 9,
    "start_time": "2022-10-24T16:02:27.159Z"
   },
   {
    "duration": 232,
    "start_time": "2022-10-24T16:02:27.171Z"
   },
   {
    "duration": 5,
    "start_time": "2022-10-24T16:02:27.405Z"
   },
   {
    "duration": 28,
    "start_time": "2022-10-24T16:02:27.412Z"
   },
   {
    "duration": 4,
    "start_time": "2022-10-24T16:02:27.442Z"
   },
   {
    "duration": 9,
    "start_time": "2022-10-24T16:02:27.448Z"
   },
   {
    "duration": 31,
    "start_time": "2022-10-24T16:02:27.459Z"
   },
   {
    "duration": 273,
    "start_time": "2022-10-24T16:02:27.492Z"
   },
   {
    "duration": 4,
    "start_time": "2022-10-24T16:02:27.768Z"
   },
   {
    "duration": 9,
    "start_time": "2022-10-24T16:02:27.773Z"
   },
   {
    "duration": 28,
    "start_time": "2022-10-24T16:02:27.783Z"
   },
   {
    "duration": 64,
    "start_time": "2022-10-24T16:02:27.813Z"
   },
   {
    "duration": 5,
    "start_time": "2022-10-24T16:02:39.411Z"
   },
   {
    "duration": 94,
    "start_time": "2022-10-24T16:02:47.582Z"
   },
   {
    "duration": 98,
    "start_time": "2022-10-24T16:02:58.085Z"
   },
   {
    "duration": 116,
    "start_time": "2022-10-24T16:03:42.711Z"
   },
   {
    "duration": 110,
    "start_time": "2022-10-24T16:04:49.955Z"
   },
   {
    "duration": 125,
    "start_time": "2022-10-24T16:05:07.590Z"
   },
   {
    "duration": 112,
    "start_time": "2022-10-24T16:05:17.880Z"
   },
   {
    "duration": 144,
    "start_time": "2022-10-24T16:05:21.808Z"
   },
   {
    "duration": 124,
    "start_time": "2022-10-24T16:05:23.473Z"
   },
   {
    "duration": 1822,
    "start_time": "2022-10-25T05:15:56.618Z"
   },
   {
    "duration": 130,
    "start_time": "2022-10-25T05:15:58.442Z"
   },
   {
    "duration": 14,
    "start_time": "2022-10-25T05:15:58.573Z"
   },
   {
    "duration": 5,
    "start_time": "2022-10-25T05:15:58.589Z"
   },
   {
    "duration": 17,
    "start_time": "2022-10-25T05:15:58.596Z"
   },
   {
    "duration": 26,
    "start_time": "2022-10-25T05:15:58.615Z"
   },
   {
    "duration": 4,
    "start_time": "2022-10-25T05:15:58.642Z"
   },
   {
    "duration": 134,
    "start_time": "2022-10-25T05:15:58.647Z"
   },
   {
    "duration": 131,
    "start_time": "2022-10-25T05:15:58.783Z"
   },
   {
    "duration": 5,
    "start_time": "2022-10-25T05:15:58.916Z"
   },
   {
    "duration": 8,
    "start_time": "2022-10-25T05:15:58.923Z"
   },
   {
    "duration": 5,
    "start_time": "2022-10-25T05:15:58.933Z"
   },
   {
    "duration": 7,
    "start_time": "2022-10-25T05:15:58.940Z"
   },
   {
    "duration": 69,
    "start_time": "2022-10-25T05:15:58.950Z"
   },
   {
    "duration": 305,
    "start_time": "2022-10-25T05:15:59.020Z"
   },
   {
    "duration": 5,
    "start_time": "2022-10-25T05:15:59.327Z"
   },
   {
    "duration": 5,
    "start_time": "2022-10-25T05:15:59.334Z"
   },
   {
    "duration": 35,
    "start_time": "2022-10-25T05:15:59.341Z"
   },
   {
    "duration": 66,
    "start_time": "2022-10-25T05:15:59.378Z"
   },
   {
    "duration": 8,
    "start_time": "2022-10-25T05:18:12.028Z"
   },
   {
    "duration": 4,
    "start_time": "2022-10-25T05:18:12.978Z"
   },
   {
    "duration": 5,
    "start_time": "2022-10-25T05:18:35.445Z"
   },
   {
    "duration": 4,
    "start_time": "2022-10-25T05:18:56.610Z"
   },
   {
    "duration": 3,
    "start_time": "2022-10-25T05:19:07.629Z"
   },
   {
    "duration": 3,
    "start_time": "2022-10-25T05:19:26.886Z"
   },
   {
    "duration": 100,
    "start_time": "2022-10-25T05:20:46.426Z"
   },
   {
    "duration": 104,
    "start_time": "2022-10-25T05:22:10.385Z"
   },
   {
    "duration": 117,
    "start_time": "2022-10-25T05:22:46.182Z"
   },
   {
    "duration": 122,
    "start_time": "2022-10-25T05:23:13.649Z"
   },
   {
    "duration": 135,
    "start_time": "2022-10-25T05:23:59.255Z"
   },
   {
    "duration": 45,
    "start_time": "2022-10-25T05:24:46.724Z"
   },
   {
    "duration": 157,
    "start_time": "2022-10-25T05:24:54.886Z"
   },
   {
    "duration": 6,
    "start_time": "2022-10-25T05:25:24.422Z"
   },
   {
    "duration": 8,
    "start_time": "2022-10-25T05:25:29.279Z"
   },
   {
    "duration": 10,
    "start_time": "2022-10-25T05:25:51.149Z"
   },
   {
    "duration": 10,
    "start_time": "2022-10-25T05:25:58.522Z"
   },
   {
    "duration": 385,
    "start_time": "2022-10-25T05:26:21.211Z"
   },
   {
    "duration": 10,
    "start_time": "2022-10-25T05:26:35.033Z"
   },
   {
    "duration": 102,
    "start_time": "2022-10-25T05:27:42.278Z"
   },
   {
    "duration": 12,
    "start_time": "2022-10-25T05:28:40.147Z"
   },
   {
    "duration": 12,
    "start_time": "2022-10-25T05:28:50.128Z"
   },
   {
    "duration": 178,
    "start_time": "2022-10-25T05:28:57.702Z"
   },
   {
    "duration": 46,
    "start_time": "2022-10-25T05:29:59.583Z"
   },
   {
    "duration": 40,
    "start_time": "2022-10-25T05:30:09.614Z"
   },
   {
    "duration": 44,
    "start_time": "2022-10-25T05:30:15.418Z"
   },
   {
    "duration": 48,
    "start_time": "2022-10-25T05:30:34.883Z"
   },
   {
    "duration": 430,
    "start_time": "2022-10-25T05:30:58.886Z"
   },
   {
    "duration": 98,
    "start_time": "2022-10-25T05:31:19.622Z"
   },
   {
    "duration": 93,
    "start_time": "2022-10-25T05:31:51.942Z"
   },
   {
    "duration": 103,
    "start_time": "2022-10-25T05:32:08.036Z"
   },
   {
    "duration": 100,
    "start_time": "2022-10-25T05:32:20.422Z"
   },
   {
    "duration": 270,
    "start_time": "2022-10-25T05:35:00.686Z"
   },
   {
    "duration": 4,
    "start_time": "2022-10-25T05:35:01.833Z"
   },
   {
    "duration": 263,
    "start_time": "2022-10-25T05:35:30.910Z"
   },
   {
    "duration": 4,
    "start_time": "2022-10-25T05:35:32.794Z"
   },
   {
    "duration": 286,
    "start_time": "2022-10-25T05:35:36.390Z"
   },
   {
    "duration": 4,
    "start_time": "2022-10-25T05:35:36.814Z"
   },
   {
    "duration": 297,
    "start_time": "2022-10-25T05:35:42.478Z"
   },
   {
    "duration": 4,
    "start_time": "2022-10-25T05:35:42.921Z"
   },
   {
    "duration": 42,
    "start_time": "2022-10-25T05:35:47.594Z"
   },
   {
    "duration": 260,
    "start_time": "2022-10-25T05:35:54.746Z"
   },
   {
    "duration": 4,
    "start_time": "2022-10-25T05:35:55.438Z"
   },
   {
    "duration": 256,
    "start_time": "2022-10-25T05:36:43.411Z"
   },
   {
    "duration": 3,
    "start_time": "2022-10-25T05:36:44.282Z"
   },
   {
    "duration": 31,
    "start_time": "2022-10-25T05:37:14.501Z"
   },
   {
    "duration": 250,
    "start_time": "2022-10-25T05:37:31.548Z"
   },
   {
    "duration": 4,
    "start_time": "2022-10-25T05:37:33.290Z"
   },
   {
    "duration": 1409,
    "start_time": "2022-10-25T11:34:55.263Z"
   },
   {
    "duration": 115,
    "start_time": "2022-10-25T11:34:56.673Z"
   },
   {
    "duration": 14,
    "start_time": "2022-10-25T11:34:56.790Z"
   },
   {
    "duration": 4,
    "start_time": "2022-10-25T11:34:56.806Z"
   },
   {
    "duration": 13,
    "start_time": "2022-10-25T11:34:56.813Z"
   },
   {
    "duration": 28,
    "start_time": "2022-10-25T11:34:56.828Z"
   },
   {
    "duration": 4,
    "start_time": "2022-10-25T11:34:56.858Z"
   },
   {
    "duration": 142,
    "start_time": "2022-10-25T11:34:56.864Z"
   },
   {
    "duration": 110,
    "start_time": "2022-10-25T11:34:57.008Z"
   },
   {
    "duration": 107,
    "start_time": "2022-10-25T11:34:57.119Z"
   },
   {
    "duration": 162,
    "start_time": "2022-10-25T11:34:57.227Z"
   },
   {
    "duration": 116,
    "start_time": "2022-10-25T11:34:57.399Z"
   },
   {
    "duration": 3,
    "start_time": "2022-10-25T11:34:57.517Z"
   },
   {
    "duration": 9,
    "start_time": "2022-10-25T11:34:57.523Z"
   },
   {
    "duration": 6,
    "start_time": "2022-10-25T11:34:57.534Z"
   },
   {
    "duration": 20,
    "start_time": "2022-10-25T11:34:57.541Z"
   },
   {
    "duration": 31,
    "start_time": "2022-10-25T11:34:57.562Z"
   },
   {
    "duration": 222,
    "start_time": "2022-10-25T11:34:57.595Z"
   },
   {
    "duration": 3,
    "start_time": "2022-10-25T11:34:57.819Z"
   },
   {
    "duration": 6,
    "start_time": "2022-10-25T11:34:57.823Z"
   },
   {
    "duration": 38,
    "start_time": "2022-10-25T11:34:57.830Z"
   },
   {
    "duration": 57,
    "start_time": "2022-10-25T11:34:57.869Z"
   },
   {
    "duration": 7,
    "start_time": "2022-10-25T11:35:16.388Z"
   },
   {
    "duration": 101,
    "start_time": "2022-10-25T11:35:17.417Z"
   },
   {
    "duration": 3,
    "start_time": "2022-10-25T11:35:21.111Z"
   },
   {
    "duration": 28,
    "start_time": "2022-10-25T11:35:21.134Z"
   },
   {
    "duration": 8,
    "start_time": "2022-10-25T11:35:21.164Z"
   },
   {
    "duration": 46,
    "start_time": "2022-10-25T11:35:21.174Z"
   },
   {
    "duration": 18,
    "start_time": "2022-10-25T11:35:21.222Z"
   },
   {
    "duration": 33,
    "start_time": "2022-10-25T11:35:21.242Z"
   },
   {
    "duration": 3,
    "start_time": "2022-10-25T11:35:21.277Z"
   },
   {
    "duration": 16,
    "start_time": "2022-10-25T11:35:21.281Z"
   },
   {
    "duration": 111,
    "start_time": "2022-10-25T11:35:21.299Z"
   },
   {
    "duration": 119,
    "start_time": "2022-10-25T11:35:21.412Z"
   },
   {
    "duration": 98,
    "start_time": "2022-10-25T11:35:21.533Z"
   },
   {
    "duration": 103,
    "start_time": "2022-10-25T11:35:21.633Z"
   },
   {
    "duration": 106,
    "start_time": "2022-10-25T11:35:21.738Z"
   },
   {
    "duration": 4,
    "start_time": "2022-10-25T11:35:21.846Z"
   },
   {
    "duration": 9,
    "start_time": "2022-10-25T11:35:21.853Z"
   },
   {
    "duration": 4,
    "start_time": "2022-10-25T11:35:21.864Z"
   },
   {
    "duration": 16,
    "start_time": "2022-10-25T11:35:21.869Z"
   },
   {
    "duration": 44,
    "start_time": "2022-10-25T11:35:21.887Z"
   },
   {
    "duration": 248,
    "start_time": "2022-10-25T11:35:21.932Z"
   },
   {
    "duration": 3,
    "start_time": "2022-10-25T11:35:22.182Z"
   },
   {
    "duration": 16,
    "start_time": "2022-10-25T11:35:22.187Z"
   },
   {
    "duration": 47,
    "start_time": "2022-10-25T11:35:22.204Z"
   },
   {
    "duration": 46,
    "start_time": "2022-10-25T11:35:22.252Z"
   },
   {
    "duration": 91,
    "start_time": "2022-10-25T11:35:36.156Z"
   },
   {
    "duration": 100,
    "start_time": "2022-10-25T11:39:52.301Z"
   },
   {
    "duration": 16,
    "start_time": "2022-10-25T11:40:04.585Z"
   },
   {
    "duration": 9,
    "start_time": "2022-10-25T11:40:27.058Z"
   },
   {
    "duration": 13,
    "start_time": "2022-10-25T11:40:37.319Z"
   },
   {
    "duration": 7,
    "start_time": "2022-10-25T11:40:48.088Z"
   },
   {
    "duration": 422,
    "start_time": "2022-10-25T11:40:58.801Z"
   },
   {
    "duration": 5,
    "start_time": "2022-10-25T11:41:10.898Z"
   },
   {
    "duration": 5,
    "start_time": "2022-10-25T11:43:17.734Z"
   },
   {
    "duration": 5,
    "start_time": "2022-10-25T11:43:25.988Z"
   },
   {
    "duration": 6,
    "start_time": "2022-10-25T11:44:42.829Z"
   },
   {
    "duration": 5,
    "start_time": "2022-10-25T11:44:50.949Z"
   },
   {
    "duration": 57,
    "start_time": "2022-10-25T11:47:07.505Z"
   },
   {
    "duration": 5,
    "start_time": "2022-10-25T11:49:15.609Z"
   },
   {
    "duration": 128,
    "start_time": "2022-10-25T11:50:46.285Z"
   },
   {
    "duration": 127,
    "start_time": "2022-10-25T11:51:20.983Z"
   },
   {
    "duration": 106,
    "start_time": "2022-10-25T11:51:23.646Z"
   },
   {
    "duration": 119,
    "start_time": "2022-10-25T11:51:42.442Z"
   },
   {
    "duration": 198,
    "start_time": "2022-10-25T11:52:13.215Z"
   },
   {
    "duration": 132,
    "start_time": "2022-10-25T11:52:34.875Z"
   },
   {
    "duration": 108,
    "start_time": "2022-10-25T11:52:49.615Z"
   },
   {
    "duration": 104,
    "start_time": "2022-10-25T11:53:11.052Z"
   },
   {
    "duration": 104,
    "start_time": "2022-10-25T11:53:58.515Z"
   },
   {
    "duration": 107,
    "start_time": "2022-10-25T11:54:21.835Z"
   },
   {
    "duration": 111,
    "start_time": "2022-10-25T11:54:30.508Z"
   },
   {
    "duration": 4,
    "start_time": "2022-10-25T11:54:31.268Z"
   },
   {
    "duration": 87,
    "start_time": "2022-10-25T11:54:32.455Z"
   },
   {
    "duration": 4,
    "start_time": "2022-10-25T11:54:40.534Z"
   },
   {
    "duration": 4,
    "start_time": "2022-10-25T11:56:34.606Z"
   },
   {
    "duration": 50,
    "start_time": "2022-10-25T11:57:51.465Z"
   },
   {
    "duration": 6,
    "start_time": "2022-10-25T11:58:37.824Z"
   },
   {
    "duration": 4,
    "start_time": "2022-10-25T11:58:38.244Z"
   },
   {
    "duration": 5,
    "start_time": "2022-10-25T12:01:18.014Z"
   },
   {
    "duration": 3,
    "start_time": "2022-10-25T12:01:37.865Z"
   },
   {
    "duration": 4,
    "start_time": "2022-10-25T12:01:46.704Z"
   },
   {
    "duration": 3,
    "start_time": "2022-10-25T12:01:51.265Z"
   },
   {
    "duration": 4,
    "start_time": "2022-10-25T12:02:00.094Z"
   },
   {
    "duration": 31,
    "start_time": "2022-10-25T12:02:29.861Z"
   },
   {
    "duration": 57,
    "start_time": "2022-10-25T12:03:08.534Z"
   },
   {
    "duration": 3,
    "start_time": "2022-10-25T12:03:17.066Z"
   },
   {
    "duration": 35,
    "start_time": "2022-10-25T12:03:17.071Z"
   },
   {
    "duration": 11,
    "start_time": "2022-10-25T12:03:17.108Z"
   },
   {
    "duration": 15,
    "start_time": "2022-10-25T12:03:17.121Z"
   },
   {
    "duration": 21,
    "start_time": "2022-10-25T12:03:17.137Z"
   },
   {
    "duration": 21,
    "start_time": "2022-10-25T12:03:17.159Z"
   },
   {
    "duration": 4,
    "start_time": "2022-10-25T12:03:17.354Z"
   },
   {
    "duration": 94,
    "start_time": "2022-10-25T12:03:17.359Z"
   },
   {
    "duration": 7,
    "start_time": "2022-10-25T12:03:17.454Z"
   },
   {
    "duration": 129,
    "start_time": "2022-10-25T12:03:17.462Z"
   },
   {
    "duration": 12,
    "start_time": "2022-10-25T12:03:17.592Z"
   },
   {
    "duration": 119,
    "start_time": "2022-10-25T12:03:17.605Z"
   },
   {
    "duration": 5,
    "start_time": "2022-10-25T12:03:17.725Z"
   },
   {
    "duration": 122,
    "start_time": "2022-10-25T12:03:17.732Z"
   },
   {
    "duration": 4,
    "start_time": "2022-10-25T12:03:17.856Z"
   },
   {
    "duration": 107,
    "start_time": "2022-10-25T12:03:17.862Z"
   },
   {
    "duration": 4,
    "start_time": "2022-10-25T12:03:17.971Z"
   },
   {
    "duration": 11,
    "start_time": "2022-10-25T12:03:17.977Z"
   },
   {
    "duration": 11,
    "start_time": "2022-10-25T12:03:17.990Z"
   },
   {
    "duration": 6,
    "start_time": "2022-10-25T12:03:18.003Z"
   },
   {
    "duration": 5,
    "start_time": "2022-10-25T12:03:18.010Z"
   },
   {
    "duration": 5,
    "start_time": "2022-10-25T12:03:18.017Z"
   },
   {
    "duration": 39,
    "start_time": "2022-10-25T12:03:18.023Z"
   },
   {
    "duration": 33,
    "start_time": "2022-10-25T12:03:25.075Z"
   },
   {
    "duration": 31,
    "start_time": "2022-10-25T12:03:30.334Z"
   },
   {
    "duration": 56,
    "start_time": "2022-10-25T12:04:24.637Z"
   },
   {
    "duration": 184,
    "start_time": "2022-10-25T12:04:44.114Z"
   },
   {
    "duration": 79,
    "start_time": "2022-10-25T12:04:53.175Z"
   },
   {
    "duration": 225,
    "start_time": "2022-10-25T12:05:26.254Z"
   },
   {
    "duration": 3,
    "start_time": "2022-10-25T12:05:28.082Z"
   },
   {
    "duration": 220,
    "start_time": "2022-10-25T12:05:32.234Z"
   },
   {
    "duration": 218,
    "start_time": "2022-10-25T12:05:35.663Z"
   },
   {
    "duration": 4,
    "start_time": "2022-10-25T12:05:36.624Z"
   },
   {
    "duration": 219,
    "start_time": "2022-10-25T12:05:39.442Z"
   },
   {
    "duration": 3,
    "start_time": "2022-10-25T12:05:39.915Z"
   },
   {
    "duration": 271,
    "start_time": "2022-10-25T12:05:44.325Z"
   },
   {
    "duration": 4,
    "start_time": "2022-10-25T12:05:44.894Z"
   },
   {
    "duration": 216,
    "start_time": "2022-10-25T12:05:50.064Z"
   },
   {
    "duration": 3,
    "start_time": "2022-10-25T12:05:51.275Z"
   },
   {
    "duration": 4207,
    "start_time": "2022-10-25T12:06:00.126Z"
   },
   {
    "duration": 3,
    "start_time": "2022-10-25T12:06:04.334Z"
   },
   {
    "duration": 6483,
    "start_time": "2022-10-25T12:06:16.830Z"
   },
   {
    "duration": 3,
    "start_time": "2022-10-25T12:06:23.315Z"
   },
   {
    "duration": 3,
    "start_time": "2022-10-25T12:06:41.834Z"
   },
   {
    "duration": 6557,
    "start_time": "2022-10-25T12:06:51.646Z"
   },
   {
    "duration": 3,
    "start_time": "2022-10-25T12:06:58.205Z"
   },
   {
    "duration": 6,
    "start_time": "2022-10-25T12:06:58.210Z"
   },
   {
    "duration": 13862,
    "start_time": "2022-10-25T12:07:13.232Z"
   },
   {
    "duration": 4,
    "start_time": "2022-10-25T12:07:27.098Z"
   },
   {
    "duration": 11,
    "start_time": "2022-10-25T12:07:27.103Z"
   },
   {
    "duration": 6633,
    "start_time": "2022-10-25T12:07:44.816Z"
   },
   {
    "duration": 5,
    "start_time": "2022-10-25T12:07:51.451Z"
   },
   {
    "duration": 7,
    "start_time": "2022-10-25T12:07:51.458Z"
   },
   {
    "duration": 6576,
    "start_time": "2022-10-25T12:07:55.984Z"
   },
   {
    "duration": 3,
    "start_time": "2022-10-25T12:08:02.562Z"
   },
   {
    "duration": 7,
    "start_time": "2022-10-25T12:08:02.567Z"
   },
   {
    "duration": 6572,
    "start_time": "2022-10-25T12:08:06.691Z"
   },
   {
    "duration": 3,
    "start_time": "2022-10-25T12:08:13.265Z"
   },
   {
    "duration": 8,
    "start_time": "2022-10-25T12:08:13.269Z"
   },
   {
    "duration": 675,
    "start_time": "2022-10-25T12:10:18.544Z"
   },
   {
    "duration": 1517,
    "start_time": "2022-10-25T15:41:33.339Z"
   },
   {
    "duration": 64,
    "start_time": "2022-10-25T15:41:34.858Z"
   },
   {
    "duration": 13,
    "start_time": "2022-10-25T15:41:34.924Z"
   },
   {
    "duration": 3,
    "start_time": "2022-10-25T15:41:34.939Z"
   },
   {
    "duration": 11,
    "start_time": "2022-10-25T15:41:34.944Z"
   },
   {
    "duration": 21,
    "start_time": "2022-10-25T15:41:34.956Z"
   },
   {
    "duration": 4,
    "start_time": "2022-10-25T15:41:34.978Z"
   },
   {
    "duration": 124,
    "start_time": "2022-10-25T15:41:34.983Z"
   },
   {
    "duration": 6,
    "start_time": "2022-10-25T15:41:35.109Z"
   },
   {
    "duration": 144,
    "start_time": "2022-10-25T15:41:35.117Z"
   },
   {
    "duration": 5,
    "start_time": "2022-10-25T15:41:35.263Z"
   },
   {
    "duration": 122,
    "start_time": "2022-10-25T15:41:35.269Z"
   },
   {
    "duration": 6,
    "start_time": "2022-10-25T15:41:35.392Z"
   },
   {
    "duration": 205,
    "start_time": "2022-10-25T15:41:35.399Z"
   },
   {
    "duration": 5,
    "start_time": "2022-10-25T15:41:35.605Z"
   },
   {
    "duration": 113,
    "start_time": "2022-10-25T15:41:35.611Z"
   },
   {
    "duration": 4,
    "start_time": "2022-10-25T15:41:35.725Z"
   },
   {
    "duration": 10,
    "start_time": "2022-10-25T15:41:35.730Z"
   },
   {
    "duration": 7,
    "start_time": "2022-10-25T15:41:35.741Z"
   },
   {
    "duration": 11,
    "start_time": "2022-10-25T15:41:35.750Z"
   },
   {
    "duration": 7,
    "start_time": "2022-10-25T15:41:35.763Z"
   },
   {
    "duration": 6,
    "start_time": "2022-10-25T15:41:35.771Z"
   },
   {
    "duration": 88,
    "start_time": "2022-10-25T15:41:35.778Z"
   },
   {
    "duration": 6875,
    "start_time": "2022-10-25T15:41:35.868Z"
   },
   {
    "duration": 4,
    "start_time": "2022-10-25T15:41:42.744Z"
   },
   {
    "duration": 4,
    "start_time": "2022-10-25T15:41:42.749Z"
   },
   {
    "duration": 47,
    "start_time": "2022-10-25T15:41:42.755Z"
   },
   {
    "duration": 708,
    "start_time": "2022-10-25T15:41:42.805Z"
   },
   {
    "duration": 104,
    "start_time": "2022-10-25T15:42:37.589Z"
   },
   {
    "duration": 4,
    "start_time": "2022-10-25T15:42:44.705Z"
   },
   {
    "duration": 36,
    "start_time": "2022-10-25T15:42:45.337Z"
   },
   {
    "duration": 4,
    "start_time": "2022-10-25T15:42:45.996Z"
   },
   {
    "duration": 3,
    "start_time": "2022-10-25T15:44:10.548Z"
   },
   {
    "duration": 40,
    "start_time": "2022-10-25T15:44:11.498Z"
   },
   {
    "duration": 4,
    "start_time": "2022-10-25T15:44:12.348Z"
   },
   {
    "duration": 11,
    "start_time": "2022-10-25T15:46:17.279Z"
   },
   {
    "duration": 4,
    "start_time": "2022-10-25T15:48:35.000Z"
   },
   {
    "duration": 8,
    "start_time": "2022-10-25T15:48:42.836Z"
   },
   {
    "duration": 4,
    "start_time": "2022-10-25T15:48:48.133Z"
   },
   {
    "duration": 360,
    "start_time": "2022-10-25T15:50:42.450Z"
   },
   {
    "duration": 18,
    "start_time": "2022-10-25T15:53:16.359Z"
   },
   {
    "duration": 18,
    "start_time": "2022-10-25T15:54:19.199Z"
   },
   {
    "duration": 95,
    "start_time": "2022-10-25T15:54:59.465Z"
   },
   {
    "duration": 76,
    "start_time": "2022-10-25T15:55:10.310Z"
   },
   {
    "duration": 19,
    "start_time": "2022-10-25T15:55:25.225Z"
   },
   {
    "duration": 18,
    "start_time": "2022-10-25T15:56:46.368Z"
   },
   {
    "duration": 15,
    "start_time": "2022-10-25T15:56:51.793Z"
   },
   {
    "duration": 15,
    "start_time": "2022-10-25T15:57:01.961Z"
   },
   {
    "duration": 22,
    "start_time": "2022-10-25T15:57:13.136Z"
   },
   {
    "duration": 17,
    "start_time": "2022-10-25T15:58:19.937Z"
   },
   {
    "duration": 4,
    "start_time": "2022-10-25T15:59:38.258Z"
   },
   {
    "duration": 12,
    "start_time": "2022-10-25T16:02:17.313Z"
   },
   {
    "duration": 27,
    "start_time": "2022-10-25T16:02:19.256Z"
   },
   {
    "duration": 10,
    "start_time": "2022-10-25T16:02:19.576Z"
   },
   {
    "duration": 4,
    "start_time": "2022-10-25T16:02:19.727Z"
   },
   {
    "duration": 13,
    "start_time": "2022-10-25T16:02:19.878Z"
   },
   {
    "duration": 30,
    "start_time": "2022-10-25T16:02:20.325Z"
   },
   {
    "duration": 4,
    "start_time": "2022-10-25T16:02:20.801Z"
   },
   {
    "duration": 95,
    "start_time": "2022-10-25T16:02:21.667Z"
   },
   {
    "duration": 1457,
    "start_time": "2022-10-25T20:12:28.939Z"
   },
   {
    "duration": 15,
    "start_time": "2022-10-25T20:12:30.398Z"
   },
   {
    "duration": 93,
    "start_time": "2022-10-25T20:12:30.414Z"
   },
   {
    "duration": 13,
    "start_time": "2022-10-25T20:12:30.509Z"
   },
   {
    "duration": 18,
    "start_time": "2022-10-25T20:12:30.524Z"
   },
   {
    "duration": 20,
    "start_time": "2022-10-25T20:12:30.543Z"
   },
   {
    "duration": 62,
    "start_time": "2022-10-25T20:12:30.565Z"
   },
   {
    "duration": 8,
    "start_time": "2022-10-25T20:12:30.628Z"
   },
   {
    "duration": 117,
    "start_time": "2022-10-25T20:12:30.638Z"
   },
   {
    "duration": 6,
    "start_time": "2022-10-25T20:12:30.758Z"
   },
   {
    "duration": 120,
    "start_time": "2022-10-25T20:12:30.765Z"
   },
   {
    "duration": 5,
    "start_time": "2022-10-25T20:12:30.887Z"
   },
   {
    "duration": 109,
    "start_time": "2022-10-25T20:12:30.893Z"
   },
   {
    "duration": 6,
    "start_time": "2022-10-25T20:12:31.003Z"
   },
   {
    "duration": 179,
    "start_time": "2022-10-25T20:12:31.010Z"
   },
   {
    "duration": 5,
    "start_time": "2022-10-25T20:12:31.190Z"
   },
   {
    "duration": 95,
    "start_time": "2022-10-25T20:12:31.197Z"
   },
   {
    "duration": 4,
    "start_time": "2022-10-25T20:12:31.293Z"
   },
   {
    "duration": 10,
    "start_time": "2022-10-25T20:12:31.298Z"
   },
   {
    "duration": 13,
    "start_time": "2022-10-25T20:12:31.309Z"
   },
   {
    "duration": 13,
    "start_time": "2022-10-25T20:12:31.324Z"
   },
   {
    "duration": 8,
    "start_time": "2022-10-25T20:12:31.338Z"
   },
   {
    "duration": 8,
    "start_time": "2022-10-25T20:12:31.347Z"
   },
   {
    "duration": 79,
    "start_time": "2022-10-25T20:12:31.357Z"
   },
   {
    "duration": 6719,
    "start_time": "2022-10-25T20:12:31.438Z"
   },
   {
    "duration": 3,
    "start_time": "2022-10-25T20:12:38.159Z"
   },
   {
    "duration": 613,
    "start_time": "2022-10-25T20:12:38.164Z"
   },
   {
    "duration": 3,
    "start_time": "2022-10-25T20:12:38.780Z"
   },
   {
    "duration": 45,
    "start_time": "2022-10-25T20:12:38.784Z"
   },
   {
    "duration": 4,
    "start_time": "2022-10-25T20:12:38.831Z"
   },
   {
    "duration": 136,
    "start_time": "2022-10-25T20:12:38.836Z"
   },
   {
    "duration": 0,
    "start_time": "2022-10-25T20:12:38.974Z"
   },
   {
    "duration": 88,
    "start_time": "2022-10-25T20:14:20.766Z"
   },
   {
    "duration": 16,
    "start_time": "2022-10-25T20:14:27.948Z"
   },
   {
    "duration": 4,
    "start_time": "2022-10-25T20:17:56.082Z"
   },
   {
    "duration": 14,
    "start_time": "2022-10-25T20:18:02.384Z"
   },
   {
    "duration": 3,
    "start_time": "2022-10-25T20:20:48.284Z"
   },
   {
    "duration": 15,
    "start_time": "2022-10-25T20:20:53.445Z"
   },
   {
    "duration": 4,
    "start_time": "2022-10-25T20:20:57.367Z"
   },
   {
    "duration": 14,
    "start_time": "2022-10-25T20:21:24.876Z"
   },
   {
    "duration": 577,
    "start_time": "2022-10-25T20:21:31.683Z"
   },
   {
    "duration": 3,
    "start_time": "2022-10-25T20:21:39.938Z"
   },
   {
    "duration": 35,
    "start_time": "2022-10-25T20:21:58.965Z"
   },
   {
    "duration": 3,
    "start_time": "2022-10-25T20:22:00.107Z"
   },
   {
    "duration": 8,
    "start_time": "2022-10-25T20:22:09.113Z"
   },
   {
    "duration": 88,
    "start_time": "2022-10-25T20:22:17.229Z"
   },
   {
    "duration": 4,
    "start_time": "2022-10-25T20:22:23.388Z"
   },
   {
    "duration": 8,
    "start_time": "2022-10-25T20:22:29.045Z"
   },
   {
    "duration": 5,
    "start_time": "2022-10-25T20:24:36.052Z"
   },
   {
    "duration": 11,
    "start_time": "2022-10-25T20:25:10.824Z"
   },
   {
    "duration": 8,
    "start_time": "2022-10-25T20:25:45.488Z"
   },
   {
    "duration": 3,
    "start_time": "2022-10-25T20:26:45.706Z"
   },
   {
    "duration": 3,
    "start_time": "2022-10-25T20:26:54.800Z"
   },
   {
    "duration": 4,
    "start_time": "2022-10-25T20:26:59.117Z"
   },
   {
    "duration": 7,
    "start_time": "2022-10-25T20:27:07.175Z"
   },
   {
    "duration": 9,
    "start_time": "2022-10-25T20:27:11.232Z"
   },
   {
    "duration": 3,
    "start_time": "2022-10-25T20:27:25.056Z"
   },
   {
    "duration": 10,
    "start_time": "2022-10-25T20:27:33.134Z"
   },
   {
    "duration": 9,
    "start_time": "2022-10-25T20:27:37.654Z"
   },
   {
    "duration": 8,
    "start_time": "2022-10-25T20:27:52.441Z"
   },
   {
    "duration": 4,
    "start_time": "2022-10-25T20:34:41.664Z"
   },
   {
    "duration": 14,
    "start_time": "2022-10-25T20:34:41.672Z"
   },
   {
    "duration": 31,
    "start_time": "2022-10-25T20:34:41.688Z"
   },
   {
    "duration": 9,
    "start_time": "2022-10-25T20:34:41.721Z"
   },
   {
    "duration": 6,
    "start_time": "2022-10-25T20:34:41.731Z"
   },
   {
    "duration": 10,
    "start_time": "2022-10-25T20:34:41.739Z"
   },
   {
    "duration": 28,
    "start_time": "2022-10-25T20:34:41.750Z"
   },
   {
    "duration": 3,
    "start_time": "2022-10-25T20:34:41.779Z"
   },
   {
    "duration": 108,
    "start_time": "2022-10-25T20:34:41.784Z"
   },
   {
    "duration": 5,
    "start_time": "2022-10-25T20:34:41.894Z"
   },
   {
    "duration": 124,
    "start_time": "2022-10-25T20:34:41.901Z"
   },
   {
    "duration": 5,
    "start_time": "2022-10-25T20:34:42.026Z"
   },
   {
    "duration": 100,
    "start_time": "2022-10-25T20:34:42.032Z"
   },
   {
    "duration": 4,
    "start_time": "2022-10-25T20:34:42.134Z"
   },
   {
    "duration": 109,
    "start_time": "2022-10-25T20:34:42.140Z"
   },
   {
    "duration": 4,
    "start_time": "2022-10-25T20:34:42.251Z"
   },
   {
    "duration": 93,
    "start_time": "2022-10-25T20:34:42.256Z"
   },
   {
    "duration": 4,
    "start_time": "2022-10-25T20:34:42.350Z"
   },
   {
    "duration": 8,
    "start_time": "2022-10-25T20:34:42.355Z"
   },
   {
    "duration": 14,
    "start_time": "2022-10-25T20:34:42.364Z"
   },
   {
    "duration": 5,
    "start_time": "2022-10-25T20:34:42.379Z"
   },
   {
    "duration": 4,
    "start_time": "2022-10-25T20:34:42.386Z"
   },
   {
    "duration": 5,
    "start_time": "2022-10-25T20:34:42.391Z"
   },
   {
    "duration": 93,
    "start_time": "2022-10-25T20:34:42.397Z"
   },
   {
    "duration": 6488,
    "start_time": "2022-10-25T20:34:42.493Z"
   },
   {
    "duration": 3,
    "start_time": "2022-10-25T20:34:48.983Z"
   },
   {
    "duration": 565,
    "start_time": "2022-10-25T20:34:48.988Z"
   },
   {
    "duration": 3,
    "start_time": "2022-10-25T20:34:49.555Z"
   },
   {
    "duration": 45,
    "start_time": "2022-10-25T20:34:49.560Z"
   },
   {
    "duration": 8,
    "start_time": "2022-10-25T20:34:49.606Z"
   },
   {
    "duration": 0,
    "start_time": "2022-10-25T20:34:49.616Z"
   },
   {
    "duration": 0,
    "start_time": "2022-10-25T20:34:49.617Z"
   },
   {
    "duration": 0,
    "start_time": "2022-10-25T20:34:49.618Z"
   },
   {
    "duration": 3,
    "start_time": "2022-10-25T20:35:08.917Z"
   },
   {
    "duration": 4,
    "start_time": "2022-10-25T20:35:14.845Z"
   },
   {
    "duration": 11,
    "start_time": "2022-10-25T20:35:30.599Z"
   },
   {
    "duration": 4,
    "start_time": "2022-10-25T20:35:48.209Z"
   },
   {
    "duration": 4,
    "start_time": "2022-10-25T20:35:55.617Z"
   },
   {
    "duration": 4,
    "start_time": "2022-10-25T20:36:04.915Z"
   },
   {
    "duration": 14,
    "start_time": "2022-10-25T20:36:13.718Z"
   },
   {
    "duration": 92,
    "start_time": "2022-10-25T20:36:31.790Z"
   },
   {
    "duration": 91,
    "start_time": "2022-10-25T20:37:45.752Z"
   },
   {
    "duration": 4,
    "start_time": "2022-10-25T20:38:14.647Z"
   },
   {
    "duration": 2,
    "start_time": "2022-10-25T20:39:05.980Z"
   },
   {
    "duration": 8,
    "start_time": "2022-10-25T20:40:05.261Z"
   },
   {
    "duration": 7,
    "start_time": "2022-10-25T20:40:15.369Z"
   },
   {
    "duration": 4,
    "start_time": "2022-10-25T20:41:10.501Z"
   },
   {
    "duration": 8,
    "start_time": "2022-10-25T20:43:09.511Z"
   },
   {
    "duration": 71,
    "start_time": "2022-10-25T20:45:06.709Z"
   },
   {
    "duration": 12,
    "start_time": "2022-10-25T20:45:11.172Z"
   },
   {
    "duration": 4,
    "start_time": "2022-10-25T20:45:29.794Z"
   },
   {
    "duration": 83,
    "start_time": "2022-10-25T20:45:35.345Z"
   },
   {
    "duration": 1121,
    "start_time": "2022-10-25T20:47:20.419Z"
   },
   {
    "duration": 679,
    "start_time": "2022-10-25T20:47:38.603Z"
   },
   {
    "duration": 670,
    "start_time": "2022-10-25T20:48:34.059Z"
   },
   {
    "duration": 677,
    "start_time": "2022-10-25T20:48:38.444Z"
   },
   {
    "duration": 703,
    "start_time": "2022-10-25T20:48:42.647Z"
   },
   {
    "duration": 5,
    "start_time": "2022-10-25T20:48:48.273Z"
   },
   {
    "duration": 22,
    "start_time": "2022-10-25T20:48:48.282Z"
   },
   {
    "duration": 32,
    "start_time": "2022-10-25T20:48:48.306Z"
   },
   {
    "duration": 9,
    "start_time": "2022-10-25T20:48:48.339Z"
   },
   {
    "duration": 5,
    "start_time": "2022-10-25T20:48:48.350Z"
   },
   {
    "duration": 12,
    "start_time": "2022-10-25T20:48:48.356Z"
   },
   {
    "duration": 21,
    "start_time": "2022-10-25T20:48:48.370Z"
   },
   {
    "duration": 4,
    "start_time": "2022-10-25T20:48:48.392Z"
   },
   {
    "duration": 125,
    "start_time": "2022-10-25T20:48:48.397Z"
   },
   {
    "duration": 5,
    "start_time": "2022-10-25T20:48:48.524Z"
   },
   {
    "duration": 138,
    "start_time": "2022-10-25T20:48:48.532Z"
   },
   {
    "duration": 9,
    "start_time": "2022-10-25T20:48:48.671Z"
   },
   {
    "duration": 97,
    "start_time": "2022-10-25T20:48:48.682Z"
   },
   {
    "duration": 5,
    "start_time": "2022-10-25T20:48:48.781Z"
   },
   {
    "duration": 100,
    "start_time": "2022-10-25T20:48:48.787Z"
   },
   {
    "duration": 5,
    "start_time": "2022-10-25T20:48:48.889Z"
   },
   {
    "duration": 100,
    "start_time": "2022-10-25T20:48:48.895Z"
   },
   {
    "duration": 4,
    "start_time": "2022-10-25T20:48:48.996Z"
   },
   {
    "duration": 9,
    "start_time": "2022-10-25T20:48:49.001Z"
   },
   {
    "duration": 6,
    "start_time": "2022-10-25T20:48:49.012Z"
   },
   {
    "duration": 7,
    "start_time": "2022-10-25T20:48:49.019Z"
   },
   {
    "duration": 4,
    "start_time": "2022-10-25T20:48:49.027Z"
   },
   {
    "duration": 5,
    "start_time": "2022-10-25T20:48:49.033Z"
   },
   {
    "duration": 95,
    "start_time": "2022-10-25T20:48:49.040Z"
   },
   {
    "duration": 6494,
    "start_time": "2022-10-25T20:48:49.136Z"
   },
   {
    "duration": 3,
    "start_time": "2022-10-25T20:48:55.632Z"
   },
   {
    "duration": 590,
    "start_time": "2022-10-25T20:48:55.636Z"
   },
   {
    "duration": 3,
    "start_time": "2022-10-25T20:48:56.228Z"
   },
   {
    "duration": 43,
    "start_time": "2022-10-25T20:48:56.234Z"
   },
   {
    "duration": 4,
    "start_time": "2022-10-25T20:48:56.278Z"
   },
   {
    "duration": 97,
    "start_time": "2022-10-25T20:48:56.283Z"
   },
   {
    "duration": 8,
    "start_time": "2022-10-25T20:48:56.381Z"
   },
   {
    "duration": 15,
    "start_time": "2022-10-25T20:48:56.390Z"
   },
   {
    "duration": 4,
    "start_time": "2022-10-25T20:48:56.406Z"
   },
   {
    "duration": 100,
    "start_time": "2022-10-25T20:48:56.411Z"
   },
   {
    "duration": 677,
    "start_time": "2022-10-25T20:48:56.512Z"
   },
   {
    "duration": 710,
    "start_time": "2022-10-25T20:49:07.520Z"
   },
   {
    "duration": 3,
    "start_time": "2022-10-25T20:49:11.972Z"
   },
   {
    "duration": 10,
    "start_time": "2022-10-25T20:49:11.980Z"
   },
   {
    "duration": 34,
    "start_time": "2022-10-25T20:49:11.992Z"
   },
   {
    "duration": 8,
    "start_time": "2022-10-25T20:49:12.028Z"
   },
   {
    "duration": 5,
    "start_time": "2022-10-25T20:49:12.039Z"
   },
   {
    "duration": 9,
    "start_time": "2022-10-25T20:49:12.045Z"
   },
   {
    "duration": 21,
    "start_time": "2022-10-25T20:49:12.056Z"
   },
   {
    "duration": 2,
    "start_time": "2022-10-25T20:49:12.079Z"
   },
   {
    "duration": 80,
    "start_time": "2022-10-25T20:49:12.083Z"
   },
   {
    "duration": 6,
    "start_time": "2022-10-25T20:49:12.177Z"
   },
   {
    "duration": 113,
    "start_time": "2022-10-25T20:49:12.184Z"
   },
   {
    "duration": 5,
    "start_time": "2022-10-25T20:49:12.299Z"
   },
   {
    "duration": 95,
    "start_time": "2022-10-25T20:49:12.305Z"
   },
   {
    "duration": 4,
    "start_time": "2022-10-25T20:49:12.402Z"
   },
   {
    "duration": 97,
    "start_time": "2022-10-25T20:49:12.408Z"
   },
   {
    "duration": 5,
    "start_time": "2022-10-25T20:49:12.508Z"
   },
   {
    "duration": 91,
    "start_time": "2022-10-25T20:49:12.514Z"
   },
   {
    "duration": 4,
    "start_time": "2022-10-25T20:49:12.606Z"
   },
   {
    "duration": 8,
    "start_time": "2022-10-25T20:49:12.612Z"
   },
   {
    "duration": 5,
    "start_time": "2022-10-25T20:49:12.621Z"
   },
   {
    "duration": 6,
    "start_time": "2022-10-25T20:49:12.627Z"
   },
   {
    "duration": 5,
    "start_time": "2022-10-25T20:49:12.635Z"
   },
   {
    "duration": 8,
    "start_time": "2022-10-25T20:49:12.641Z"
   },
   {
    "duration": 100,
    "start_time": "2022-10-25T20:49:12.651Z"
   },
   {
    "duration": 6378,
    "start_time": "2022-10-25T20:49:12.753Z"
   },
   {
    "duration": 4,
    "start_time": "2022-10-25T20:49:19.133Z"
   },
   {
    "duration": 605,
    "start_time": "2022-10-25T20:49:19.138Z"
   },
   {
    "duration": 3,
    "start_time": "2022-10-25T20:49:19.744Z"
   },
   {
    "duration": 42,
    "start_time": "2022-10-25T20:49:19.748Z"
   },
   {
    "duration": 4,
    "start_time": "2022-10-25T20:49:19.791Z"
   },
   {
    "duration": 117,
    "start_time": "2022-10-25T20:49:19.796Z"
   },
   {
    "duration": 8,
    "start_time": "2022-10-25T20:49:19.914Z"
   },
   {
    "duration": 14,
    "start_time": "2022-10-25T20:49:19.924Z"
   },
   {
    "duration": 4,
    "start_time": "2022-10-25T20:49:19.939Z"
   },
   {
    "duration": 112,
    "start_time": "2022-10-25T20:49:19.944Z"
   },
   {
    "duration": 683,
    "start_time": "2022-10-25T20:49:20.059Z"
   },
   {
    "duration": 6188,
    "start_time": "2022-10-25T20:51:26.008Z"
   },
   {
    "duration": 4,
    "start_time": "2022-10-25T20:51:32.197Z"
   },
   {
    "duration": 3,
    "start_time": "2022-10-25T20:51:37.167Z"
   },
   {
    "duration": 15,
    "start_time": "2022-10-25T20:51:37.174Z"
   },
   {
    "duration": 31,
    "start_time": "2022-10-25T20:51:37.191Z"
   },
   {
    "duration": 9,
    "start_time": "2022-10-25T20:51:37.223Z"
   },
   {
    "duration": 6,
    "start_time": "2022-10-25T20:51:37.233Z"
   },
   {
    "duration": 11,
    "start_time": "2022-10-25T20:51:37.240Z"
   },
   {
    "duration": 25,
    "start_time": "2022-10-25T20:51:37.253Z"
   },
   {
    "duration": 4,
    "start_time": "2022-10-25T20:51:37.279Z"
   },
   {
    "duration": 104,
    "start_time": "2022-10-25T20:51:37.284Z"
   },
   {
    "duration": 5,
    "start_time": "2022-10-25T20:51:37.390Z"
   },
   {
    "duration": 120,
    "start_time": "2022-10-25T20:51:37.397Z"
   },
   {
    "duration": 5,
    "start_time": "2022-10-25T20:51:37.518Z"
   },
   {
    "duration": 112,
    "start_time": "2022-10-25T20:51:37.525Z"
   },
   {
    "duration": 7,
    "start_time": "2022-10-25T20:51:37.639Z"
   },
   {
    "duration": 132,
    "start_time": "2022-10-25T20:51:37.647Z"
   },
   {
    "duration": 4,
    "start_time": "2022-10-25T20:51:37.781Z"
   },
   {
    "duration": 102,
    "start_time": "2022-10-25T20:51:37.787Z"
   },
   {
    "duration": 5,
    "start_time": "2022-10-25T20:51:37.891Z"
   },
   {
    "duration": 10,
    "start_time": "2022-10-25T20:51:37.898Z"
   },
   {
    "duration": 4,
    "start_time": "2022-10-25T20:51:37.910Z"
   },
   {
    "duration": 8,
    "start_time": "2022-10-25T20:51:37.915Z"
   },
   {
    "duration": 6,
    "start_time": "2022-10-25T20:51:37.925Z"
   },
   {
    "duration": 6,
    "start_time": "2022-10-25T20:51:37.933Z"
   },
   {
    "duration": 98,
    "start_time": "2022-10-25T20:51:37.941Z"
   },
   {
    "duration": 6206,
    "start_time": "2022-10-25T20:51:45.684Z"
   },
   {
    "duration": 4,
    "start_time": "2022-10-25T20:51:52.520Z"
   },
   {
    "duration": 6049,
    "start_time": "2022-10-25T20:51:58.679Z"
   },
   {
    "duration": 4,
    "start_time": "2022-10-25T20:52:06.310Z"
   },
   {
    "duration": 6210,
    "start_time": "2022-10-25T20:52:45.893Z"
   },
   {
    "duration": 3,
    "start_time": "2022-10-25T20:52:52.105Z"
   },
   {
    "duration": 5884,
    "start_time": "2022-10-25T20:52:56.504Z"
   },
   {
    "duration": 3,
    "start_time": "2022-10-25T20:53:04.133Z"
   },
   {
    "duration": 5934,
    "start_time": "2022-10-25T20:53:08.063Z"
   },
   {
    "duration": 3,
    "start_time": "2022-10-25T20:53:13.999Z"
   },
   {
    "duration": 683,
    "start_time": "2022-10-25T20:53:40.350Z"
   },
   {
    "duration": 75,
    "start_time": "2022-10-25T21:07:13.016Z"
   },
   {
    "duration": 2,
    "start_time": "2022-10-25T21:08:29.787Z"
   },
   {
    "duration": 2,
    "start_time": "2022-10-25T21:09:09.073Z"
   },
   {
    "duration": 4,
    "start_time": "2022-10-25T21:12:20.253Z"
   },
   {
    "duration": 10,
    "start_time": "2022-10-25T21:12:21.491Z"
   },
   {
    "duration": 4,
    "start_time": "2022-10-25T21:12:31.518Z"
   },
   {
    "duration": 4,
    "start_time": "2022-10-25T21:12:34.361Z"
   },
   {
    "duration": 39,
    "start_time": "2022-10-25T21:12:34.367Z"
   },
   {
    "duration": 10,
    "start_time": "2022-10-25T21:12:34.408Z"
   },
   {
    "duration": 7,
    "start_time": "2022-10-25T21:12:34.419Z"
   },
   {
    "duration": 11,
    "start_time": "2022-10-25T21:12:34.428Z"
   },
   {
    "duration": 23,
    "start_time": "2022-10-25T21:12:34.441Z"
   },
   {
    "duration": 3,
    "start_time": "2022-10-25T21:12:34.465Z"
   },
   {
    "duration": 90,
    "start_time": "2022-10-25T21:12:34.470Z"
   },
   {
    "duration": 17,
    "start_time": "2022-10-25T21:12:34.561Z"
   },
   {
    "duration": 126,
    "start_time": "2022-10-25T21:12:34.580Z"
   },
   {
    "duration": 5,
    "start_time": "2022-10-25T21:12:34.708Z"
   },
   {
    "duration": 105,
    "start_time": "2022-10-25T21:12:34.714Z"
   },
   {
    "duration": 5,
    "start_time": "2022-10-25T21:12:34.820Z"
   },
   {
    "duration": 106,
    "start_time": "2022-10-25T21:12:34.827Z"
   },
   {
    "duration": 5,
    "start_time": "2022-10-25T21:12:34.935Z"
   },
   {
    "duration": 102,
    "start_time": "2022-10-25T21:12:34.941Z"
   },
   {
    "duration": 4,
    "start_time": "2022-10-25T21:12:35.045Z"
   },
   {
    "duration": 11,
    "start_time": "2022-10-25T21:12:35.050Z"
   },
   {
    "duration": 14,
    "start_time": "2022-10-25T21:12:35.063Z"
   },
   {
    "duration": 8,
    "start_time": "2022-10-25T21:12:35.078Z"
   },
   {
    "duration": 6,
    "start_time": "2022-10-25T21:12:35.088Z"
   },
   {
    "duration": 8,
    "start_time": "2022-10-25T21:12:35.095Z"
   },
   {
    "duration": 89,
    "start_time": "2022-10-25T21:12:35.106Z"
   },
   {
    "duration": 6496,
    "start_time": "2022-10-25T21:12:35.196Z"
   },
   {
    "duration": 5,
    "start_time": "2022-10-25T21:12:41.695Z"
   },
   {
    "duration": 578,
    "start_time": "2022-10-25T21:12:41.702Z"
   },
   {
    "duration": 3,
    "start_time": "2022-10-25T21:12:42.282Z"
   },
   {
    "duration": 38,
    "start_time": "2022-10-25T21:12:42.286Z"
   },
   {
    "duration": 3,
    "start_time": "2022-10-25T21:12:42.325Z"
   },
   {
    "duration": 109,
    "start_time": "2022-10-25T21:12:42.329Z"
   },
   {
    "duration": 8,
    "start_time": "2022-10-25T21:12:42.439Z"
   },
   {
    "duration": 11,
    "start_time": "2022-10-25T21:12:42.448Z"
   },
   {
    "duration": 18,
    "start_time": "2022-10-25T21:12:42.461Z"
   },
   {
    "duration": 113,
    "start_time": "2022-10-25T21:12:42.480Z"
   },
   {
    "duration": 687,
    "start_time": "2022-10-25T21:12:42.594Z"
   },
   {
    "duration": 4,
    "start_time": "2022-10-25T21:13:36.709Z"
   },
   {
    "duration": 95,
    "start_time": "2022-10-25T21:15:04.655Z"
   },
   {
    "duration": 4,
    "start_time": "2022-10-25T21:15:11.759Z"
   },
   {
    "duration": 88,
    "start_time": "2022-10-25T21:15:15.864Z"
   },
   {
    "duration": 108,
    "start_time": "2022-10-25T21:15:20.948Z"
   },
   {
    "duration": 97,
    "start_time": "2022-10-25T21:15:49.954Z"
   },
   {
    "duration": 93,
    "start_time": "2022-10-25T21:15:54.165Z"
   },
   {
    "duration": 3,
    "start_time": "2022-10-25T21:21:56.649Z"
   },
   {
    "duration": 33,
    "start_time": "2022-10-25T21:21:56.654Z"
   },
   {
    "duration": 8,
    "start_time": "2022-10-25T21:21:56.689Z"
   },
   {
    "duration": 6,
    "start_time": "2022-10-25T21:21:56.698Z"
   },
   {
    "duration": 10,
    "start_time": "2022-10-25T21:21:56.706Z"
   },
   {
    "duration": 20,
    "start_time": "2022-10-25T21:21:56.717Z"
   },
   {
    "duration": 3,
    "start_time": "2022-10-25T21:21:56.738Z"
   },
   {
    "duration": 108,
    "start_time": "2022-10-25T21:21:56.743Z"
   },
   {
    "duration": 5,
    "start_time": "2022-10-25T21:21:56.853Z"
   },
   {
    "duration": 102,
    "start_time": "2022-10-25T21:21:56.877Z"
   },
   {
    "duration": 5,
    "start_time": "2022-10-25T21:21:56.980Z"
   },
   {
    "duration": 100,
    "start_time": "2022-10-25T21:21:56.986Z"
   },
   {
    "duration": 5,
    "start_time": "2022-10-25T21:21:57.087Z"
   },
   {
    "duration": 101,
    "start_time": "2022-10-25T21:21:57.093Z"
   },
   {
    "duration": 5,
    "start_time": "2022-10-25T21:21:57.196Z"
   },
   {
    "duration": 107,
    "start_time": "2022-10-25T21:21:57.203Z"
   },
   {
    "duration": 5,
    "start_time": "2022-10-25T21:21:57.313Z"
   },
   {
    "duration": 12,
    "start_time": "2022-10-25T21:21:57.320Z"
   },
   {
    "duration": 5,
    "start_time": "2022-10-25T21:21:57.334Z"
   },
   {
    "duration": 8,
    "start_time": "2022-10-25T21:21:57.341Z"
   },
   {
    "duration": 27,
    "start_time": "2022-10-25T21:21:57.351Z"
   },
   {
    "duration": 9,
    "start_time": "2022-10-25T21:21:57.380Z"
   },
   {
    "duration": 93,
    "start_time": "2022-10-25T21:21:57.390Z"
   },
   {
    "duration": 6229,
    "start_time": "2022-10-25T21:22:04.884Z"
   },
   {
    "duration": 4,
    "start_time": "2022-10-25T21:22:11.115Z"
   },
   {
    "duration": 6,
    "start_time": "2022-10-25T21:22:11.120Z"
   },
   {
    "duration": 4,
    "start_time": "2022-10-25T21:22:46.252Z"
   },
   {
    "duration": 46,
    "start_time": "2022-10-25T21:22:46.262Z"
   },
   {
    "duration": 8,
    "start_time": "2022-10-25T21:22:46.310Z"
   },
   {
    "duration": 6,
    "start_time": "2022-10-25T21:22:46.320Z"
   },
   {
    "duration": 11,
    "start_time": "2022-10-25T21:22:46.328Z"
   },
   {
    "duration": 20,
    "start_time": "2022-10-25T21:22:46.341Z"
   },
   {
    "duration": 3,
    "start_time": "2022-10-25T21:22:46.362Z"
   },
   {
    "duration": 98,
    "start_time": "2022-10-25T21:22:46.367Z"
   },
   {
    "duration": 14,
    "start_time": "2022-10-25T21:22:46.467Z"
   },
   {
    "duration": 123,
    "start_time": "2022-10-25T21:22:46.483Z"
   },
   {
    "duration": 5,
    "start_time": "2022-10-25T21:22:46.608Z"
   },
   {
    "duration": 103,
    "start_time": "2022-10-25T21:22:46.614Z"
   },
   {
    "duration": 5,
    "start_time": "2022-10-25T21:22:46.719Z"
   },
   {
    "duration": 107,
    "start_time": "2022-10-25T21:22:46.725Z"
   },
   {
    "duration": 5,
    "start_time": "2022-10-25T21:22:46.833Z"
   },
   {
    "duration": 506,
    "start_time": "2022-10-25T21:22:46.839Z"
   },
   {
    "duration": 3,
    "start_time": "2022-10-25T21:22:47.347Z"
   },
   {
    "duration": 12,
    "start_time": "2022-10-25T21:22:47.352Z"
   },
   {
    "duration": 5,
    "start_time": "2022-10-25T21:22:47.366Z"
   },
   {
    "duration": 5,
    "start_time": "2022-10-25T21:22:47.377Z"
   },
   {
    "duration": 5,
    "start_time": "2022-10-25T21:22:47.384Z"
   },
   {
    "duration": 6,
    "start_time": "2022-10-25T21:22:47.390Z"
   },
   {
    "duration": 91,
    "start_time": "2022-10-25T21:22:47.398Z"
   },
   {
    "duration": 6136,
    "start_time": "2022-10-25T21:22:47.490Z"
   },
   {
    "duration": 4,
    "start_time": "2022-10-25T21:22:53.627Z"
   },
   {
    "duration": 6,
    "start_time": "2022-10-25T21:22:53.633Z"
   },
   {
    "duration": 590,
    "start_time": "2022-10-25T21:22:53.641Z"
   },
   {
    "duration": 3,
    "start_time": "2022-10-25T21:22:54.232Z"
   },
   {
    "duration": 47,
    "start_time": "2022-10-25T21:22:54.237Z"
   },
   {
    "duration": 4,
    "start_time": "2022-10-25T21:22:54.286Z"
   },
   {
    "duration": 100,
    "start_time": "2022-10-25T21:22:54.291Z"
   },
   {
    "duration": 8,
    "start_time": "2022-10-25T21:22:54.393Z"
   },
   {
    "duration": 13,
    "start_time": "2022-10-25T21:22:54.402Z"
   },
   {
    "duration": 3,
    "start_time": "2022-10-25T21:22:54.417Z"
   },
   {
    "duration": 117,
    "start_time": "2022-10-25T21:22:54.421Z"
   },
   {
    "duration": 432,
    "start_time": "2022-10-25T21:22:54.539Z"
   },
   {
    "duration": 657,
    "start_time": "2022-10-25T21:23:11.247Z"
   },
   {
    "duration": 608,
    "start_time": "2022-10-25T21:24:24.319Z"
   },
   {
    "duration": 1629,
    "start_time": "2022-10-26T05:37:11.096Z"
   },
   {
    "duration": 114,
    "start_time": "2022-10-26T05:37:12.727Z"
   },
   {
    "duration": 14,
    "start_time": "2022-10-26T05:37:12.843Z"
   },
   {
    "duration": 4,
    "start_time": "2022-10-26T05:37:12.859Z"
   },
   {
    "duration": 15,
    "start_time": "2022-10-26T05:37:12.865Z"
   },
   {
    "duration": 21,
    "start_time": "2022-10-26T05:37:12.882Z"
   },
   {
    "duration": 3,
    "start_time": "2022-10-26T05:37:12.904Z"
   },
   {
    "duration": 157,
    "start_time": "2022-10-26T05:37:12.909Z"
   },
   {
    "duration": 6,
    "start_time": "2022-10-26T05:37:13.068Z"
   },
   {
    "duration": 149,
    "start_time": "2022-10-26T05:37:13.077Z"
   },
   {
    "duration": 10,
    "start_time": "2022-10-26T05:37:13.228Z"
   },
   {
    "duration": 123,
    "start_time": "2022-10-26T05:37:13.240Z"
   },
   {
    "duration": 5,
    "start_time": "2022-10-26T05:37:13.365Z"
   },
   {
    "duration": 237,
    "start_time": "2022-10-26T05:37:13.372Z"
   },
   {
    "duration": 5,
    "start_time": "2022-10-26T05:37:13.611Z"
   },
   {
    "duration": 115,
    "start_time": "2022-10-26T05:37:13.618Z"
   },
   {
    "duration": 4,
    "start_time": "2022-10-26T05:37:13.738Z"
   },
   {
    "duration": 10,
    "start_time": "2022-10-26T05:37:13.743Z"
   },
   {
    "duration": 4,
    "start_time": "2022-10-26T05:37:13.755Z"
   },
   {
    "duration": 6,
    "start_time": "2022-10-26T05:37:13.760Z"
   },
   {
    "duration": 5,
    "start_time": "2022-10-26T05:37:13.768Z"
   },
   {
    "duration": 5,
    "start_time": "2022-10-26T05:37:13.774Z"
   },
   {
    "duration": 105,
    "start_time": "2022-10-26T05:37:13.781Z"
   },
   {
    "duration": 6914,
    "start_time": "2022-10-26T05:37:13.888Z"
   },
   {
    "duration": 4,
    "start_time": "2022-10-26T05:37:20.803Z"
   },
   {
    "duration": 17,
    "start_time": "2022-10-26T05:37:20.808Z"
   },
   {
    "duration": 321,
    "start_time": "2022-10-26T05:37:20.827Z"
   },
   {
    "duration": 3,
    "start_time": "2022-10-26T05:37:21.151Z"
   },
   {
    "duration": 49,
    "start_time": "2022-10-26T05:37:21.155Z"
   },
   {
    "duration": 4,
    "start_time": "2022-10-26T05:37:21.205Z"
   },
   {
    "duration": 119,
    "start_time": "2022-10-26T05:37:21.210Z"
   },
   {
    "duration": 9,
    "start_time": "2022-10-26T05:37:21.330Z"
   },
   {
    "duration": 18,
    "start_time": "2022-10-26T05:37:21.340Z"
   },
   {
    "duration": 16,
    "start_time": "2022-10-26T05:37:21.360Z"
   },
   {
    "duration": 123,
    "start_time": "2022-10-26T05:37:21.378Z"
   },
   {
    "duration": 706,
    "start_time": "2022-10-26T05:37:21.502Z"
   },
   {
    "duration": 3,
    "start_time": "2022-10-26T05:40:02.398Z"
   },
   {
    "duration": 5,
    "start_time": "2022-10-26T05:41:21.820Z"
   },
   {
    "duration": 139,
    "start_time": "2022-10-26T05:41:27.072Z"
   },
   {
    "duration": 1451,
    "start_time": "2022-10-26T19:25:18.840Z"
   },
   {
    "duration": 112,
    "start_time": "2022-10-26T19:25:20.293Z"
   },
   {
    "duration": 14,
    "start_time": "2022-10-26T19:25:20.406Z"
   },
   {
    "duration": 5,
    "start_time": "2022-10-26T19:25:20.422Z"
   },
   {
    "duration": 12,
    "start_time": "2022-10-26T19:25:20.428Z"
   },
   {
    "duration": 20,
    "start_time": "2022-10-26T19:25:20.442Z"
   },
   {
    "duration": 3,
    "start_time": "2022-10-26T19:25:20.464Z"
   },
   {
    "duration": 146,
    "start_time": "2022-10-26T19:25:20.468Z"
   },
   {
    "duration": 10,
    "start_time": "2022-10-26T19:25:20.616Z"
   },
   {
    "duration": 136,
    "start_time": "2022-10-26T19:25:20.629Z"
   },
   {
    "duration": 6,
    "start_time": "2022-10-26T19:25:20.767Z"
   },
   {
    "duration": 120,
    "start_time": "2022-10-26T19:25:20.774Z"
   },
   {
    "duration": 5,
    "start_time": "2022-10-26T19:25:20.896Z"
   },
   {
    "duration": 197,
    "start_time": "2022-10-26T19:25:20.902Z"
   },
   {
    "duration": 5,
    "start_time": "2022-10-26T19:25:21.101Z"
   },
   {
    "duration": 101,
    "start_time": "2022-10-26T19:25:21.107Z"
   },
   {
    "duration": 4,
    "start_time": "2022-10-26T19:25:21.209Z"
   },
   {
    "duration": 12,
    "start_time": "2022-10-26T19:25:21.215Z"
   },
   {
    "duration": 12,
    "start_time": "2022-10-26T19:25:21.229Z"
   },
   {
    "duration": 7,
    "start_time": "2022-10-26T19:25:21.243Z"
   },
   {
    "duration": 6,
    "start_time": "2022-10-26T19:25:21.251Z"
   },
   {
    "duration": 6,
    "start_time": "2022-10-26T19:25:21.258Z"
   },
   {
    "duration": 87,
    "start_time": "2022-10-26T19:25:21.265Z"
   },
   {
    "duration": 6309,
    "start_time": "2022-10-26T19:25:21.354Z"
   },
   {
    "duration": 4,
    "start_time": "2022-10-26T19:25:27.664Z"
   },
   {
    "duration": 10,
    "start_time": "2022-10-26T19:25:27.669Z"
   },
   {
    "duration": 326,
    "start_time": "2022-10-26T19:25:27.680Z"
   },
   {
    "duration": 13,
    "start_time": "2022-10-26T19:25:28.010Z"
   },
   {
    "duration": 41,
    "start_time": "2022-10-26T19:25:28.025Z"
   },
   {
    "duration": 5,
    "start_time": "2022-10-26T19:25:28.068Z"
   },
   {
    "duration": 114,
    "start_time": "2022-10-26T19:25:28.075Z"
   },
   {
    "duration": 8,
    "start_time": "2022-10-26T19:25:28.191Z"
   },
   {
    "duration": 22,
    "start_time": "2022-10-26T19:25:28.200Z"
   },
   {
    "duration": 4,
    "start_time": "2022-10-26T19:25:28.224Z"
   },
   {
    "duration": 109,
    "start_time": "2022-10-26T19:25:28.229Z"
   },
   {
    "duration": 682,
    "start_time": "2022-10-26T19:25:28.340Z"
   },
   {
    "duration": 437,
    "start_time": "2022-10-26T19:25:54.955Z"
   },
   {
    "duration": 448,
    "start_time": "2022-10-26T19:34:45.482Z"
   },
   {
    "duration": 4,
    "start_time": "2022-10-26T19:34:49.805Z"
   },
   {
    "duration": 27,
    "start_time": "2022-10-26T19:34:49.839Z"
   },
   {
    "duration": 12,
    "start_time": "2022-10-26T19:34:49.868Z"
   },
   {
    "duration": 16,
    "start_time": "2022-10-26T19:34:49.882Z"
   },
   {
    "duration": 11,
    "start_time": "2022-10-26T19:34:49.899Z"
   },
   {
    "duration": 21,
    "start_time": "2022-10-26T19:34:49.913Z"
   },
   {
    "duration": 4,
    "start_time": "2022-10-26T19:34:49.935Z"
   },
   {
    "duration": 122,
    "start_time": "2022-10-26T19:34:49.940Z"
   },
   {
    "duration": 5,
    "start_time": "2022-10-26T19:34:50.064Z"
   },
   {
    "duration": 128,
    "start_time": "2022-10-26T19:34:50.070Z"
   },
   {
    "duration": 5,
    "start_time": "2022-10-26T19:34:50.199Z"
   },
   {
    "duration": 109,
    "start_time": "2022-10-26T19:34:50.222Z"
   },
   {
    "duration": 4,
    "start_time": "2022-10-26T19:34:50.333Z"
   },
   {
    "duration": 117,
    "start_time": "2022-10-26T19:34:50.338Z"
   },
   {
    "duration": 4,
    "start_time": "2022-10-26T19:34:50.458Z"
   },
   {
    "duration": 100,
    "start_time": "2022-10-26T19:34:50.464Z"
   },
   {
    "duration": 3,
    "start_time": "2022-10-26T19:34:50.566Z"
   },
   {
    "duration": 9,
    "start_time": "2022-10-26T19:34:50.570Z"
   },
   {
    "duration": 9,
    "start_time": "2022-10-26T19:34:50.580Z"
   },
   {
    "duration": 11,
    "start_time": "2022-10-26T19:34:50.590Z"
   },
   {
    "duration": 6,
    "start_time": "2022-10-26T19:34:50.602Z"
   },
   {
    "duration": 8,
    "start_time": "2022-10-26T19:34:50.610Z"
   },
   {
    "duration": 74,
    "start_time": "2022-10-26T19:34:50.619Z"
   },
   {
    "duration": 6159,
    "start_time": "2022-10-26T19:34:50.694Z"
   },
   {
    "duration": 4,
    "start_time": "2022-10-26T19:34:56.854Z"
   },
   {
    "duration": 8,
    "start_time": "2022-10-26T19:34:56.860Z"
   },
   {
    "duration": 270,
    "start_time": "2022-10-26T19:34:56.869Z"
   },
   {
    "duration": 3,
    "start_time": "2022-10-26T19:34:57.141Z"
   },
   {
    "duration": 45,
    "start_time": "2022-10-26T19:34:57.145Z"
   },
   {
    "duration": 4,
    "start_time": "2022-10-26T19:34:57.192Z"
   },
   {
    "duration": 115,
    "start_time": "2022-10-26T19:34:57.197Z"
   },
   {
    "duration": 12,
    "start_time": "2022-10-26T19:34:57.314Z"
   },
   {
    "duration": 10,
    "start_time": "2022-10-26T19:34:57.328Z"
   },
   {
    "duration": 3,
    "start_time": "2022-10-26T19:34:57.340Z"
   },
   {
    "duration": 109,
    "start_time": "2022-10-26T19:34:57.344Z"
   },
   {
    "duration": 440,
    "start_time": "2022-10-26T19:34:57.455Z"
   },
   {
    "duration": 6320,
    "start_time": "2022-10-26T19:35:02.677Z"
   },
   {
    "duration": 3,
    "start_time": "2022-10-26T19:55:46.465Z"
   },
   {
    "duration": 3,
    "start_time": "2022-10-26T19:55:52.671Z"
   },
   {
    "duration": 30,
    "start_time": "2022-10-26T19:55:52.677Z"
   },
   {
    "duration": 10,
    "start_time": "2022-10-26T19:55:52.709Z"
   },
   {
    "duration": 5,
    "start_time": "2022-10-26T19:55:52.721Z"
   },
   {
    "duration": 9,
    "start_time": "2022-10-26T19:55:52.728Z"
   },
   {
    "duration": 38,
    "start_time": "2022-10-26T19:55:52.739Z"
   },
   {
    "duration": 4,
    "start_time": "2022-10-26T19:55:52.779Z"
   },
   {
    "duration": 154,
    "start_time": "2022-10-26T19:55:52.785Z"
   },
   {
    "duration": 6,
    "start_time": "2022-10-26T19:55:52.941Z"
   },
   {
    "duration": 141,
    "start_time": "2022-10-26T19:55:52.949Z"
   },
   {
    "duration": 6,
    "start_time": "2022-10-26T19:55:53.093Z"
   },
   {
    "duration": 131,
    "start_time": "2022-10-26T19:55:53.101Z"
   },
   {
    "duration": 7,
    "start_time": "2022-10-26T19:55:53.234Z"
   },
   {
    "duration": 139,
    "start_time": "2022-10-26T19:55:53.243Z"
   },
   {
    "duration": 5,
    "start_time": "2022-10-26T19:55:53.384Z"
   },
   {
    "duration": 106,
    "start_time": "2022-10-26T19:55:53.392Z"
   },
   {
    "duration": 4,
    "start_time": "2022-10-26T19:55:53.500Z"
   },
   {
    "duration": 19,
    "start_time": "2022-10-26T19:55:53.505Z"
   },
   {
    "duration": 4,
    "start_time": "2022-10-26T19:55:53.526Z"
   },
   {
    "duration": 6,
    "start_time": "2022-10-26T19:55:53.531Z"
   },
   {
    "duration": 10,
    "start_time": "2022-10-26T19:55:53.539Z"
   },
   {
    "duration": 6,
    "start_time": "2022-10-26T19:55:53.550Z"
   },
   {
    "duration": 93,
    "start_time": "2022-10-26T19:55:53.557Z"
   },
   {
    "duration": 6355,
    "start_time": "2022-10-26T19:55:53.652Z"
   },
   {
    "duration": 3,
    "start_time": "2022-10-26T19:56:00.008Z"
   },
   {
    "duration": 18,
    "start_time": "2022-10-26T19:56:00.013Z"
   },
   {
    "duration": 282,
    "start_time": "2022-10-26T19:56:00.033Z"
   },
   {
    "duration": 4,
    "start_time": "2022-10-26T19:56:00.321Z"
   },
   {
    "duration": 49,
    "start_time": "2022-10-26T19:56:00.326Z"
   },
   {
    "duration": 4,
    "start_time": "2022-10-26T19:56:00.376Z"
   },
   {
    "duration": 119,
    "start_time": "2022-10-26T19:56:00.381Z"
   },
   {
    "duration": 10,
    "start_time": "2022-10-26T19:56:00.502Z"
   },
   {
    "duration": 17,
    "start_time": "2022-10-26T19:56:00.513Z"
   },
   {
    "duration": 21,
    "start_time": "2022-10-26T19:56:00.532Z"
   },
   {
    "duration": 96,
    "start_time": "2022-10-26T19:56:00.555Z"
   },
   {
    "duration": 435,
    "start_time": "2022-10-26T19:56:00.653Z"
   },
   {
    "duration": 122,
    "start_time": "2022-10-26T19:57:19.075Z"
   },
   {
    "duration": 5,
    "start_time": "2022-10-26T19:57:26.373Z"
   },
   {
    "duration": 121,
    "start_time": "2022-10-26T19:57:28.429Z"
   },
   {
    "duration": 4,
    "start_time": "2022-10-26T20:02:39.570Z"
   },
   {
    "duration": 31,
    "start_time": "2022-10-26T20:02:39.577Z"
   },
   {
    "duration": 9,
    "start_time": "2022-10-26T20:02:39.609Z"
   },
   {
    "duration": 6,
    "start_time": "2022-10-26T20:02:39.619Z"
   },
   {
    "duration": 15,
    "start_time": "2022-10-26T20:02:39.627Z"
   },
   {
    "duration": 29,
    "start_time": "2022-10-26T20:02:39.644Z"
   },
   {
    "duration": 4,
    "start_time": "2022-10-26T20:02:39.674Z"
   },
   {
    "duration": 317,
    "start_time": "2022-10-26T20:02:39.680Z"
   },
   {
    "duration": 5,
    "start_time": "2022-10-26T20:02:39.999Z"
   },
   {
    "duration": 156,
    "start_time": "2022-10-26T20:02:40.006Z"
   },
   {
    "duration": 6,
    "start_time": "2022-10-26T20:02:40.165Z"
   },
   {
    "duration": 128,
    "start_time": "2022-10-26T20:02:40.172Z"
   },
   {
    "duration": 5,
    "start_time": "2022-10-26T20:02:40.302Z"
   },
   {
    "duration": 119,
    "start_time": "2022-10-26T20:02:40.308Z"
   },
   {
    "duration": 5,
    "start_time": "2022-10-26T20:02:40.429Z"
   },
   {
    "duration": 109,
    "start_time": "2022-10-26T20:02:40.435Z"
   },
   {
    "duration": 3,
    "start_time": "2022-10-26T20:02:40.546Z"
   },
   {
    "duration": 9,
    "start_time": "2022-10-26T20:02:40.551Z"
   },
   {
    "duration": 5,
    "start_time": "2022-10-26T20:02:40.561Z"
   },
   {
    "duration": 6,
    "start_time": "2022-10-26T20:02:40.570Z"
   },
   {
    "duration": 5,
    "start_time": "2022-10-26T20:02:40.578Z"
   },
   {
    "duration": 39,
    "start_time": "2022-10-26T20:02:40.584Z"
   },
   {
    "duration": 79,
    "start_time": "2022-10-26T20:02:40.625Z"
   },
   {
    "duration": 6409,
    "start_time": "2022-10-26T20:02:40.722Z"
   },
   {
    "duration": 4,
    "start_time": "2022-10-26T20:02:47.132Z"
   },
   {
    "duration": 6,
    "start_time": "2022-10-26T20:02:47.138Z"
   },
   {
    "duration": 246,
    "start_time": "2022-10-26T20:02:47.146Z"
   },
   {
    "duration": 3,
    "start_time": "2022-10-26T20:02:47.394Z"
   },
   {
    "duration": 72,
    "start_time": "2022-10-26T20:02:47.400Z"
   },
   {
    "duration": 4,
    "start_time": "2022-10-26T20:02:47.474Z"
   },
   {
    "duration": 128,
    "start_time": "2022-10-26T20:02:47.479Z"
   },
   {
    "duration": 14,
    "start_time": "2022-10-26T20:02:47.609Z"
   },
   {
    "duration": 11,
    "start_time": "2022-10-26T20:02:47.625Z"
   },
   {
    "duration": 3,
    "start_time": "2022-10-26T20:02:47.638Z"
   },
   {
    "duration": 117,
    "start_time": "2022-10-26T20:02:47.643Z"
   },
   {
    "duration": 450,
    "start_time": "2022-10-26T20:02:47.762Z"
   },
   {
    "duration": 3,
    "start_time": "2022-10-26T20:03:51.276Z"
   },
   {
    "duration": 32,
    "start_time": "2022-10-26T20:03:51.285Z"
   },
   {
    "duration": 9,
    "start_time": "2022-10-26T20:03:51.319Z"
   },
   {
    "duration": 7,
    "start_time": "2022-10-26T20:03:51.329Z"
   },
   {
    "duration": 16,
    "start_time": "2022-10-26T20:03:51.338Z"
   },
   {
    "duration": 22,
    "start_time": "2022-10-26T20:03:51.356Z"
   },
   {
    "duration": 4,
    "start_time": "2022-10-26T20:03:51.380Z"
   },
   {
    "duration": 150,
    "start_time": "2022-10-26T20:03:51.388Z"
   },
   {
    "duration": 8,
    "start_time": "2022-10-26T20:03:51.540Z"
   },
   {
    "duration": 184,
    "start_time": "2022-10-26T20:03:51.551Z"
   },
   {
    "duration": 6,
    "start_time": "2022-10-26T20:03:51.737Z"
   },
   {
    "duration": 117,
    "start_time": "2022-10-26T20:03:51.745Z"
   },
   {
    "duration": 6,
    "start_time": "2022-10-26T20:03:51.864Z"
   },
   {
    "duration": 145,
    "start_time": "2022-10-26T20:03:51.871Z"
   },
   {
    "duration": 8,
    "start_time": "2022-10-26T20:03:52.018Z"
   },
   {
    "duration": 103,
    "start_time": "2022-10-26T20:03:52.027Z"
   },
   {
    "duration": 5,
    "start_time": "2022-10-26T20:03:52.132Z"
   },
   {
    "duration": 11,
    "start_time": "2022-10-26T20:03:52.138Z"
   },
   {
    "duration": 5,
    "start_time": "2022-10-26T20:03:52.151Z"
   },
   {
    "duration": 8,
    "start_time": "2022-10-26T20:03:52.158Z"
   },
   {
    "duration": 7,
    "start_time": "2022-10-26T20:03:52.168Z"
   },
   {
    "duration": 7,
    "start_time": "2022-10-26T20:03:52.177Z"
   },
   {
    "duration": 115,
    "start_time": "2022-10-26T20:03:52.185Z"
   },
   {
    "duration": 6487,
    "start_time": "2022-10-26T20:03:52.302Z"
   },
   {
    "duration": 5,
    "start_time": "2022-10-26T20:03:58.790Z"
   },
   {
    "duration": 7,
    "start_time": "2022-10-26T20:03:58.796Z"
   },
   {
    "duration": 323,
    "start_time": "2022-10-26T20:03:58.805Z"
   },
   {
    "duration": 4,
    "start_time": "2022-10-26T20:03:59.130Z"
   },
   {
    "duration": 65,
    "start_time": "2022-10-26T20:03:59.136Z"
   },
   {
    "duration": 4,
    "start_time": "2022-10-26T20:03:59.203Z"
   },
   {
    "duration": 116,
    "start_time": "2022-10-26T20:03:59.225Z"
   },
   {
    "duration": 9,
    "start_time": "2022-10-26T20:03:59.343Z"
   },
   {
    "duration": 16,
    "start_time": "2022-10-26T20:03:59.354Z"
   },
   {
    "duration": 4,
    "start_time": "2022-10-26T20:03:59.372Z"
   },
   {
    "duration": 118,
    "start_time": "2022-10-26T20:03:59.378Z"
   },
   {
    "duration": 464,
    "start_time": "2022-10-26T20:03:59.497Z"
   },
   {
    "duration": 51,
    "start_time": "2022-10-27T05:26:00.734Z"
   },
   {
    "duration": 1731,
    "start_time": "2022-10-27T05:26:13.382Z"
   },
   {
    "duration": 120,
    "start_time": "2022-10-27T05:26:15.115Z"
   },
   {
    "duration": 13,
    "start_time": "2022-10-27T05:26:20.185Z"
   },
   {
    "duration": 12,
    "start_time": "2022-10-27T05:26:20.201Z"
   },
   {
    "duration": 27,
    "start_time": "2022-10-27T05:26:20.215Z"
   },
   {
    "duration": 36,
    "start_time": "2022-10-27T05:26:20.244Z"
   },
   {
    "duration": 4,
    "start_time": "2022-10-27T05:26:20.282Z"
   },
   {
    "duration": 152,
    "start_time": "2022-10-27T05:26:20.288Z"
   },
   {
    "duration": 9,
    "start_time": "2022-10-27T05:26:20.442Z"
   },
   {
    "duration": 127,
    "start_time": "2022-10-27T05:26:21.849Z"
   },
   {
    "duration": 5,
    "start_time": "2022-10-27T05:26:21.978Z"
   },
   {
    "duration": 142,
    "start_time": "2022-10-27T05:26:21.984Z"
   },
   {
    "duration": 5,
    "start_time": "2022-10-27T05:26:22.127Z"
   },
   {
    "duration": 184,
    "start_time": "2022-10-27T05:26:22.134Z"
   },
   {
    "duration": 4,
    "start_time": "2022-10-27T05:26:22.320Z"
   },
   {
    "duration": 108,
    "start_time": "2022-10-27T05:26:22.326Z"
   },
   {
    "duration": 410,
    "start_time": "2022-10-27T05:26:22.436Z"
   },
   {
    "duration": 4500,
    "start_time": "2022-10-27T05:27:05.589Z"
   },
   {
    "duration": 4486,
    "start_time": "2022-10-27T05:28:18.365Z"
   },
   {
    "duration": 4522,
    "start_time": "2022-10-27T05:28:29.632Z"
   },
   {
    "duration": 41,
    "start_time": "2022-10-27T05:29:41.155Z"
   },
   {
    "duration": 50,
    "start_time": "2022-10-27T19:57:07.245Z"
   },
   {
    "duration": 1547,
    "start_time": "2022-10-27T19:57:13.080Z"
   },
   {
    "duration": 117,
    "start_time": "2022-10-27T19:57:14.629Z"
   },
   {
    "duration": 14,
    "start_time": "2022-10-27T19:57:14.747Z"
   },
   {
    "duration": 3,
    "start_time": "2022-10-27T19:57:14.763Z"
   },
   {
    "duration": 13,
    "start_time": "2022-10-27T19:57:14.768Z"
   },
   {
    "duration": 21,
    "start_time": "2022-10-27T19:57:14.782Z"
   },
   {
    "duration": 4,
    "start_time": "2022-10-27T19:57:14.804Z"
   },
   {
    "duration": 140,
    "start_time": "2022-10-27T19:57:14.810Z"
   },
   {
    "duration": 6,
    "start_time": "2022-10-27T19:57:14.952Z"
   },
   {
    "duration": 241,
    "start_time": "2022-10-27T19:57:14.961Z"
   },
   {
    "duration": 5,
    "start_time": "2022-10-27T19:57:15.204Z"
   },
   {
    "duration": 128,
    "start_time": "2022-10-27T19:57:15.210Z"
   },
   {
    "duration": 4,
    "start_time": "2022-10-27T19:57:15.340Z"
   },
   {
    "duration": 129,
    "start_time": "2022-10-27T19:57:15.346Z"
   },
   {
    "duration": 5,
    "start_time": "2022-10-27T19:57:15.476Z"
   },
   {
    "duration": 112,
    "start_time": "2022-10-27T19:57:15.482Z"
   },
   {
    "duration": 4782,
    "start_time": "2022-10-27T19:57:15.595Z"
   },
   {
    "duration": 5,
    "start_time": "2022-10-27T19:57:20.378Z"
   },
   {
    "duration": 17,
    "start_time": "2022-10-27T19:57:20.385Z"
   },
   {
    "duration": 6,
    "start_time": "2022-10-27T19:57:20.403Z"
   },
   {
    "duration": 11,
    "start_time": "2022-10-27T19:57:20.411Z"
   },
   {
    "duration": 5,
    "start_time": "2022-10-27T19:57:20.423Z"
   },
   {
    "duration": 9,
    "start_time": "2022-10-27T19:57:20.429Z"
   },
   {
    "duration": 85,
    "start_time": "2022-10-27T19:57:20.440Z"
   },
   {
    "duration": 6580,
    "start_time": "2022-10-27T19:57:20.527Z"
   },
   {
    "duration": 3,
    "start_time": "2022-10-27T19:57:27.109Z"
   },
   {
    "duration": 7,
    "start_time": "2022-10-27T19:57:27.114Z"
   },
   {
    "duration": 274,
    "start_time": "2022-10-27T19:57:27.133Z"
   },
   {
    "duration": 3,
    "start_time": "2022-10-27T19:57:27.409Z"
   },
   {
    "duration": 50,
    "start_time": "2022-10-27T19:57:27.414Z"
   },
   {
    "duration": 4,
    "start_time": "2022-10-27T19:57:27.466Z"
   },
   {
    "duration": 113,
    "start_time": "2022-10-27T19:57:27.471Z"
   },
   {
    "duration": 9,
    "start_time": "2022-10-27T19:57:27.585Z"
   },
   {
    "duration": 10,
    "start_time": "2022-10-27T19:57:27.596Z"
   },
   {
    "duration": 3,
    "start_time": "2022-10-27T19:57:27.608Z"
   },
   {
    "duration": 102,
    "start_time": "2022-10-27T19:57:27.634Z"
   },
   {
    "duration": 5,
    "start_time": "2022-10-27T19:57:27.737Z"
   },
   {
    "duration": 15,
    "start_time": "2022-10-27T19:57:33.873Z"
   },
   {
    "duration": 6,
    "start_time": "2022-10-27T19:58:06.263Z"
   },
   {
    "duration": 13,
    "start_time": "2022-10-27T19:58:12.521Z"
   },
   {
    "duration": 3,
    "start_time": "2022-10-27T19:58:51.515Z"
   },
   {
    "duration": 6,
    "start_time": "2022-10-27T19:58:58.739Z"
   },
   {
    "duration": 594,
    "start_time": "2022-10-27T19:59:21.132Z"
   },
   {
    "duration": 575,
    "start_time": "2022-10-27T19:59:33.847Z"
   },
   {
    "duration": 4,
    "start_time": "2022-10-27T20:07:07.592Z"
   },
   {
    "duration": 30,
    "start_time": "2022-10-27T20:07:07.599Z"
   },
   {
    "duration": 9,
    "start_time": "2022-10-27T20:07:07.631Z"
   },
   {
    "duration": 6,
    "start_time": "2022-10-27T20:07:07.641Z"
   },
   {
    "duration": 10,
    "start_time": "2022-10-27T20:07:07.649Z"
   },
   {
    "duration": 21,
    "start_time": "2022-10-27T20:07:07.660Z"
   },
   {
    "duration": 4,
    "start_time": "2022-10-27T20:07:07.682Z"
   },
   {
    "duration": 150,
    "start_time": "2022-10-27T20:07:07.688Z"
   },
   {
    "duration": 7,
    "start_time": "2022-10-27T20:07:07.839Z"
   },
   {
    "duration": 147,
    "start_time": "2022-10-27T20:07:07.848Z"
   },
   {
    "duration": 5,
    "start_time": "2022-10-27T20:07:07.998Z"
   },
   {
    "duration": 120,
    "start_time": "2022-10-27T20:07:08.005Z"
   },
   {
    "duration": 5,
    "start_time": "2022-10-27T20:07:08.134Z"
   },
   {
    "duration": 141,
    "start_time": "2022-10-27T20:07:08.140Z"
   },
   {
    "duration": 5,
    "start_time": "2022-10-27T20:07:08.282Z"
   },
   {
    "duration": 113,
    "start_time": "2022-10-27T20:07:08.289Z"
   },
   {
    "duration": 4713,
    "start_time": "2022-10-27T20:07:08.403Z"
   },
   {
    "duration": 5,
    "start_time": "2022-10-27T20:07:13.117Z"
   },
   {
    "duration": 16,
    "start_time": "2022-10-27T20:07:13.123Z"
   },
   {
    "duration": 5,
    "start_time": "2022-10-27T20:07:13.141Z"
   },
   {
    "duration": 7,
    "start_time": "2022-10-27T20:07:13.148Z"
   },
   {
    "duration": 8,
    "start_time": "2022-10-27T20:07:13.156Z"
   },
   {
    "duration": 6,
    "start_time": "2022-10-27T20:07:13.165Z"
   },
   {
    "duration": 107,
    "start_time": "2022-10-27T20:07:13.172Z"
   },
   {
    "duration": 6947,
    "start_time": "2022-10-27T20:07:13.281Z"
   },
   {
    "duration": 8,
    "start_time": "2022-10-27T20:07:20.229Z"
   },
   {
    "duration": 8,
    "start_time": "2022-10-27T20:07:20.240Z"
   },
   {
    "duration": 256,
    "start_time": "2022-10-27T20:07:20.250Z"
   },
   {
    "duration": 4,
    "start_time": "2022-10-27T20:07:20.507Z"
   },
   {
    "duration": 51,
    "start_time": "2022-10-27T20:07:20.513Z"
   },
   {
    "duration": 4,
    "start_time": "2022-10-27T20:07:20.565Z"
   },
   {
    "duration": 121,
    "start_time": "2022-10-27T20:07:20.571Z"
   },
   {
    "duration": 8,
    "start_time": "2022-10-27T20:07:20.694Z"
   },
   {
    "duration": 19,
    "start_time": "2022-10-27T20:07:20.703Z"
   },
   {
    "duration": 10,
    "start_time": "2022-10-27T20:07:20.724Z"
   },
   {
    "duration": 112,
    "start_time": "2022-10-27T20:07:20.735Z"
   },
   {
    "duration": 5,
    "start_time": "2022-10-27T20:07:20.849Z"
   },
   {
    "duration": 10,
    "start_time": "2022-10-27T20:07:20.855Z"
   },
   {
    "duration": 629,
    "start_time": "2022-10-27T20:07:20.866Z"
   }
  ],
  "kernelspec": {
   "display_name": "Python 3 (ipykernel)",
   "language": "python",
   "name": "python3"
  },
  "language_info": {
   "codemirror_mode": {
    "name": "ipython",
    "version": 3
   },
   "file_extension": ".py",
   "mimetype": "text/x-python",
   "name": "python",
   "nbconvert_exporter": "python",
   "pygments_lexer": "ipython3",
   "version": "3.9.12"
  },
  "toc": {
   "base_numbering": 1,
   "nav_menu": {},
   "number_sections": true,
   "sideBar": true,
   "skip_h1_title": true,
   "title_cell": "Table of Contents",
   "title_sidebar": "Contents",
   "toc_cell": false,
   "toc_position": {
    "height": "calc(100% - 180px)",
    "left": "10px",
    "top": "150px",
    "width": "341.484px"
   },
   "toc_section_display": true,
   "toc_window_display": true
  }
 },
 "nbformat": 4,
 "nbformat_minor": 2
}
