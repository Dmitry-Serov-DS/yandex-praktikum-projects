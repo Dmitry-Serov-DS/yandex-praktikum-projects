{
 "cells": [
  {
   "cell_type": "markdown",
   "metadata": {
    "toc": true
   },
   "source": [
    "<h1>Содержание<span class=\"tocSkip\"></span></h1>\n",
    "<div class=\"toc\"><ul class=\"toc-item\"><li><span><a href=\"#Постановка-задачи\" data-toc-modified-id=\"Постановка-задачи-1\"><span class=\"toc-item-num\">1&nbsp;&nbsp;</span>Постановка задачи</a></span></li><li><span><a href=\"#Подготовка\" data-toc-modified-id=\"Подготовка-2\"><span class=\"toc-item-num\">2&nbsp;&nbsp;</span>Подготовка</a></span></li><li><span><a href=\"#Анализ\" data-toc-modified-id=\"Анализ-3\"><span class=\"toc-item-num\">3&nbsp;&nbsp;</span>Анализ</a></span><ul class=\"toc-item\"><li><span><a href=\"#Исследование-распределения,-тренда-и-сезонности\" data-toc-modified-id=\"Исследование-распределения,-тренда-и-сезонности-3.1\"><span class=\"toc-item-num\">3.1&nbsp;&nbsp;</span>Исследование распределения, тренда и сезонности</a></span></li><li><span><a href=\"#Создадим-дополнительные-признаки\" data-toc-modified-id=\"Создадим-дополнительные-признаки-3.2\"><span class=\"toc-item-num\">3.2&nbsp;&nbsp;</span>Создадим дополнительные признаки</a></span></li><li><span><a href=\"#Проведем-дополнительный-исследовательский-анализ-данных\" data-toc-modified-id=\"Проведем-дополнительный-исследовательский-анализ-данных-3.3\"><span class=\"toc-item-num\">3.3&nbsp;&nbsp;</span>Проведем дополнительный исследовательский анализ данных</a></span></li><li><span><a href=\"#Подготовим-признаки-для-обучения-моделей\" data-toc-modified-id=\"Подготовим-признаки-для-обучения-моделей-3.4\"><span class=\"toc-item-num\">3.4&nbsp;&nbsp;</span>Подготовим признаки для обучения моделей</a></span></li></ul></li><li><span><a href=\"#Обучение\" data-toc-modified-id=\"Обучение-4\"><span class=\"toc-item-num\">4&nbsp;&nbsp;</span>Обучение</a></span><ul class=\"toc-item\"><li><span><a href=\"#Создадим-модели-и-подберем-гиперпараметры\" data-toc-modified-id=\"Создадим-модели-и-подберем-гиперпараметры-4.1\"><span class=\"toc-item-num\">4.1&nbsp;&nbsp;</span>Создадим модели и подберем гиперпараметры</a></span><ul class=\"toc-item\"><li><span><a href=\"#Создадим-модель-случайного-леса\" data-toc-modified-id=\"Создадим-модель-случайного-леса-4.1.1\"><span class=\"toc-item-num\">4.1.1&nbsp;&nbsp;</span>Создадим модель случайного леса</a></span></li><li><span><a href=\"#Создадим-модель-CatBoost\" data-toc-modified-id=\"Создадим-модель-CatBoost-4.1.2\"><span class=\"toc-item-num\">4.1.2&nbsp;&nbsp;</span>Создадим модель CatBoost</a></span></li><li><span><a href=\"#Создадим-модель-LightGBM\" data-toc-modified-id=\"Создадим-модель-LightGBM-4.1.3\"><span class=\"toc-item-num\">4.1.3&nbsp;&nbsp;</span>Создадим модель LightGBM</a></span></li></ul></li><li><span><a href=\"#Проверим-качество-работы-моделей-на-кроссвалидации\" data-toc-modified-id=\"Проверим-качество-работы-моделей-на-кроссвалидации-4.2\"><span class=\"toc-item-num\">4.2&nbsp;&nbsp;</span>Проверим качество работы моделей на кроссвалидации</a></span></li></ul></li><li><span><a href=\"#Тестирование\" data-toc-modified-id=\"Тестирование-5\"><span class=\"toc-item-num\">5&nbsp;&nbsp;</span>Тестирование</a></span></li><li><span><a href=\"#Вывод\" data-toc-modified-id=\"Вывод-6\"><span class=\"toc-item-num\">6&nbsp;&nbsp;</span>Вывод</a></span></li><li><span><a href=\"#Чек-лист-проверки\" data-toc-modified-id=\"Чек-лист-проверки-7\"><span class=\"toc-item-num\">7&nbsp;&nbsp;</span>Чек-лист проверки</a></span></li></ul></div>"
   ]
  },
  {
   "cell_type": "markdown",
   "metadata": {},
   "source": [
    "#  Прогнозирование заказов такси"
   ]
  },
  {
   "cell_type": "markdown",
   "metadata": {},
   "source": [
    "Компания «Чётенькое такси» собрала исторические данные о заказах такси в аэропортах. Чтобы привлекать больше водителей в период пиковой нагрузки, нужно спрогнозировать количество заказов такси на следующий час. Постройте модель для такого предсказания.\n",
    "\n",
    "Значение метрики *RMSE* на тестовой выборке должно быть не больше 48.\n",
    "\n",
    "Вам нужно:\n",
    "\n",
    "1. Загрузить данные и выполнить их ресемплирование по одному часу.\n",
    "2. Проанализировать данные.\n",
    "3. Обучить разные модели с различными гиперпараметрами. Сделать тестовую выборку размером 10% от исходных данных.\n",
    "4. Проверить данные на тестовой выборке и сделать выводы.\n",
    "\n",
    "\n",
    "Данные лежат в файле `taxi.csv`. Количество заказов находится в столбце `num_orders` (от англ. *number of orders*, «число заказов»)."
   ]
  },
  {
   "cell_type": "markdown",
   "metadata": {},
   "source": [
    "## Постановка задачи"
   ]
  },
  {
   "cell_type": "markdown",
   "metadata": {},
   "source": [
    "В нашем распоряжении данные о количестве заказов такси за период с 01.03.2018 по 31.08.2018.\n",
    "Необходимо построить модель обучения для эффективного определения для прогнозирования заказов такси на следующий час.\n",
    "\n",
    "Необходимо рассмотреть работу нескольких моделей машиного обучения, выбрать наилучшую по показателю RMSE.\n",
    "Целевая задача, чтобы метрика RMSE была не более 48."
   ]
  },
  {
   "cell_type": "markdown",
   "metadata": {},
   "source": [
    "## Подготовка"
   ]
  },
  {
   "cell_type": "code",
   "execution_count": 1,
   "metadata": {},
   "outputs": [],
   "source": [
    "import pandas as pd\n",
    "import seaborn as sns\n",
    "import matplotlib.pyplot as plt\n",
    "from matplotlib.pyplot import figure\n",
    "from IPython.display import display\n",
    "import numpy as np\n",
    "\n",
    "\n",
    "import time\n",
    "\n",
    "from sklearn.ensemble import RandomForestRegressor\n",
    "from sklearn.tree import DecisionTreeClassifier\n",
    "from sklearn.linear_model import LinearRegression\n",
    "from catboost import CatBoostRegressor, Pool\n",
    "from lightgbm import LGBMRegressor\n",
    "from sklearn.model_selection import train_test_split, RepeatedKFold\n",
    "from sklearn.preprocessing import StandardScaler, OrdinalEncoder, OneHotEncoder\n",
    "from sklearn.metrics import mean_squared_error\n",
    "\n",
    "from statsmodels.tsa.seasonal import seasonal_decompose\n",
    "\n",
    "from sklearn.model_selection import RandomizedSearchCV, GridSearchCV, cross_val_score, TimeSeriesSplit\n"
   ]
  },
  {
   "cell_type": "markdown",
   "metadata": {},
   "source": [
    "Прочитаем данные, сделаем столбец с датой индексом. Отсортируем индекс по возрастанию"
   ]
  },
  {
   "cell_type": "code",
   "execution_count": 2,
   "metadata": {},
   "outputs": [],
   "source": [
    "data = pd.read_csv('/datasets/taxi.csv', index_col=[0], parse_dates=[0])"
   ]
  },
  {
   "cell_type": "markdown",
   "metadata": {},
   "source": [
    "Проверим, что индексы упорядочены"
   ]
  },
  {
   "cell_type": "code",
   "execution_count": 3,
   "metadata": {},
   "outputs": [
    {
     "data": {
      "text/plain": [
       "True"
      ]
     },
     "execution_count": 3,
     "metadata": {},
     "output_type": "execute_result"
    }
   ],
   "source": [
    "data.index.is_monotonic"
   ]
  },
  {
   "cell_type": "markdown",
   "metadata": {},
   "source": [
    "Выведем первые 5 строк датасета, чтобы убедиться в корректности прочитанных данных"
   ]
  },
  {
   "cell_type": "code",
   "execution_count": 4,
   "metadata": {},
   "outputs": [
    {
     "data": {
      "text/html": [
       "<div>\n",
       "<style scoped>\n",
       "    .dataframe tbody tr th:only-of-type {\n",
       "        vertical-align: middle;\n",
       "    }\n",
       "\n",
       "    .dataframe tbody tr th {\n",
       "        vertical-align: top;\n",
       "    }\n",
       "\n",
       "    .dataframe thead th {\n",
       "        text-align: right;\n",
       "    }\n",
       "</style>\n",
       "<table border=\"1\" class=\"dataframe\">\n",
       "  <thead>\n",
       "    <tr style=\"text-align: right;\">\n",
       "      <th></th>\n",
       "      <th>num_orders</th>\n",
       "    </tr>\n",
       "    <tr>\n",
       "      <th>datetime</th>\n",
       "      <th></th>\n",
       "    </tr>\n",
       "  </thead>\n",
       "  <tbody>\n",
       "    <tr>\n",
       "      <th>2018-03-01 00:00:00</th>\n",
       "      <td>9</td>\n",
       "    </tr>\n",
       "    <tr>\n",
       "      <th>2018-03-01 00:10:00</th>\n",
       "      <td>14</td>\n",
       "    </tr>\n",
       "    <tr>\n",
       "      <th>2018-03-01 00:20:00</th>\n",
       "      <td>28</td>\n",
       "    </tr>\n",
       "    <tr>\n",
       "      <th>2018-03-01 00:30:00</th>\n",
       "      <td>20</td>\n",
       "    </tr>\n",
       "    <tr>\n",
       "      <th>2018-03-01 00:40:00</th>\n",
       "      <td>32</td>\n",
       "    </tr>\n",
       "  </tbody>\n",
       "</table>\n",
       "</div>"
      ],
      "text/plain": [
       "                     num_orders\n",
       "datetime                       \n",
       "2018-03-01 00:00:00           9\n",
       "2018-03-01 00:10:00          14\n",
       "2018-03-01 00:20:00          28\n",
       "2018-03-01 00:30:00          20\n",
       "2018-03-01 00:40:00          32"
      ]
     },
     "execution_count": 4,
     "metadata": {},
     "output_type": "execute_result"
    }
   ],
   "source": [
    "data.head()"
   ]
  },
  {
   "cell_type": "code",
   "execution_count": 5,
   "metadata": {},
   "outputs": [
    {
     "name": "stdout",
     "output_type": "stream",
     "text": [
      "<class 'pandas.core.frame.DataFrame'>\n",
      "DatetimeIndex: 26496 entries, 2018-03-01 00:00:00 to 2018-08-31 23:50:00\n",
      "Data columns (total 1 columns):\n",
      " #   Column      Non-Null Count  Dtype\n",
      "---  ------      --------------  -----\n",
      " 0   num_orders  26496 non-null  int64\n",
      "dtypes: int64(1)\n",
      "memory usage: 414.0 KB\n"
     ]
    }
   ],
   "source": [
    "data.info()"
   ]
  },
  {
   "cell_type": "markdown",
   "metadata": {},
   "source": [
    "В датасете предтставлены целочисленное количество заказов такси за период с 01.03.2018 по 31.08.2018 года"
   ]
  },
  {
   "cell_type": "markdown",
   "metadata": {},
   "source": [
    "## Анализ"
   ]
  },
  {
   "cell_type": "markdown",
   "metadata": {},
   "source": [
    "### Исследование распределения, тренда и сезонности"
   ]
  },
  {
   "cell_type": "markdown",
   "metadata": {},
   "source": [
    "Посмотрим распределение количества заказов на всем периоде"
   ]
  },
  {
   "cell_type": "code",
   "execution_count": 6,
   "metadata": {
    "scrolled": false
   },
   "outputs": [
    {
     "data": {
      "image/png": "[encoded data removed]",
      "text/plain": [
       "<Figure size 432x288 with 1 Axes>"
      ]
     },
     "metadata": {
      "needs_background": "light"
     },
     "output_type": "display_data"
    }
   ],
   "source": [
    "data.plot()\n",
    "plt.title('Распределение общего количества заказов на всем периоде')\n",
    "plt.xlabel('С 01.03.18 по 31.08.18')\n",
    "plt.ylabel('Суммарное количество заказов')\n",
    "plt.show()"
   ]
  },
  {
   "cell_type": "markdown",
   "metadata": {},
   "source": [
    "Проведем ремлирование данных по 1 дню, чтобы посмотреть тренд и сезонность"
   ]
  },
  {
   "cell_type": "code",
   "execution_count": 7,
   "metadata": {},
   "outputs": [],
   "source": [
    "decomposed = seasonal_decompose(data.resample('1D').sum()) "
   ]
  },
  {
   "cell_type": "code",
   "execution_count": 8,
   "metadata": {},
   "outputs": [
    {
     "data": {
      "image/png": "[encoded data removed]",
      "text/plain": [
       "<Figure size 432x288 with 1 Axes>"
      ]
     },
     "metadata": {
      "needs_background": "light"
     },
     "output_type": "display_data"
    }
   ],
   "source": [
    "decomposed.trend.plot()\n",
    "plt.title('Тренд')\n",
    "plt.xlabel('С 01.03.18 по 31.08.18')\n",
    "plt.ylabel('Суммарное количество заказов')\n",
    "plt.show()"
   ]
  },
  {
   "cell_type": "markdown",
   "metadata": {},
   "source": [
    "На графике виден рост количества заказов такси, при этом в начале каждого месяца видно снижение количества заказов"
   ]
  },
  {
   "cell_type": "code",
   "execution_count": 9,
   "metadata": {
    "scrolled": true
   },
   "outputs": [
    {
     "data": {
      "image/png": "[encoded data removed]",
      "text/plain": [
       "<Figure size 432x288 with 1 Axes>"
      ]
     },
     "metadata": {
      "needs_background": "light"
     },
     "output_type": "display_data"
    }
   ],
   "source": [
    "decomposed.seasonal.plot()\n",
    "plt.title('Сезонность')\n",
    "plt.xlabel('С 01.03.18 по 31.08.18')\n",
    "plt.ylabel('Суммарное количество заказов')\n",
    "plt.show()"
   ]
  },
  {
   "cell_type": "code",
   "execution_count": 10,
   "metadata": {
    "scrolled": false
   },
   "outputs": [
    {
     "data": {
      "image/png": "[encoded data removed]",
      "text/plain": [
       "<Figure size 864x576 with 1 Axes>"
      ]
     },
     "metadata": {
      "needs_background": "light"
     },
     "output_type": "display_data"
    }
   ],
   "source": [
    "fig = plt.figure(figsize=(12, 8))\n",
    "counter = 24\n",
    "while counter < decomposed.seasonal.shape[0]:\n",
    "    plt.plot(decomposed.seasonal[counter-24:counter].reset_index(drop=True), figure=fig)\n",
    "    counter += 24"
   ]
  },
  {
   "cell_type": "markdown",
   "metadata": {},
   "source": [
    "### Создадим дополнительные признаки"
   ]
  },
  {
   "cell_type": "markdown",
   "metadata": {},
   "source": [
    "Проведем ресемлирование данных по 1 часу"
   ]
  },
  {
   "cell_type": "code",
   "execution_count": 11,
   "metadata": {},
   "outputs": [],
   "source": [
    "data = data.resample('1H').sum()"
   ]
  },
  {
   "cell_type": "markdown",
   "metadata": {},
   "source": [
    "Создадим функцию, которая дополнительно создаст дополнительные признаки:\n",
    "- месяц;\n",
    "- день;\n",
    "- день недели;\n",
    "- час, чтобы модель получала в какой час было это количество заказов, т.к. целевая задача предсказать на следующий час;\n",
    "- размер отставания;\n",
    "- размер окна сдвига."
   ]
  },
  {
   "cell_type": "code",
   "execution_count": 12,
   "metadata": {},
   "outputs": [],
   "source": [
    "def make_features(data, max_lag, rolling_mean_size):\n",
    "    data['month'] = data.index.month\n",
    "    data['day'] = data.index.day\n",
    "    data['dayofweek'] = data.index.dayofweek\n",
    "    data['hour'] = data.index.hour\n",
    "    \n",
    "    for lag in range(1, max_lag+1):\n",
    "        data['lag_{}'.format(lag)] = data['num_orders'].shift(lag)\n",
    "        \n",
    "    data['rolling_mean'] = data['num_orders'].shift().rolling(rolling_mean_size).mean()"
   ]
  },
  {
   "cell_type": "code",
   "execution_count": 13,
   "metadata": {},
   "outputs": [],
   "source": [
    "make_features(data, 10, 10)"
   ]
  },
  {
   "cell_type": "code",
   "execution_count": 14,
   "metadata": {},
   "outputs": [
    {
     "data": {
      "text/html": [
       "<div>\n",
       "<style scoped>\n",
       "    .dataframe tbody tr th:only-of-type {\n",
       "        vertical-align: middle;\n",
       "    }\n",
       "\n",
       "    .dataframe tbody tr th {\n",
       "        vertical-align: top;\n",
       "    }\n",
       "\n",
       "    .dataframe thead th {\n",
       "        text-align: right;\n",
       "    }\n",
       "</style>\n",
       "<table border=\"1\" class=\"dataframe\">\n",
       "  <thead>\n",
       "    <tr style=\"text-align: right;\">\n",
       "      <th></th>\n",
       "      <th>num_orders</th>\n",
       "      <th>month</th>\n",
       "      <th>day</th>\n",
       "      <th>dayofweek</th>\n",
       "      <th>hour</th>\n",
       "      <th>lag_1</th>\n",
       "      <th>lag_2</th>\n",
       "      <th>lag_3</th>\n",
       "      <th>lag_4</th>\n",
       "      <th>lag_5</th>\n",
       "      <th>lag_6</th>\n",
       "      <th>lag_7</th>\n",
       "      <th>lag_8</th>\n",
       "      <th>lag_9</th>\n",
       "      <th>lag_10</th>\n",
       "      <th>rolling_mean</th>\n",
       "    </tr>\n",
       "    <tr>\n",
       "      <th>datetime</th>\n",
       "      <th></th>\n",
       "      <th></th>\n",
       "      <th></th>\n",
       "      <th></th>\n",
       "      <th></th>\n",
       "      <th></th>\n",
       "      <th></th>\n",
       "      <th></th>\n",
       "      <th></th>\n",
       "      <th></th>\n",
       "      <th></th>\n",
       "      <th></th>\n",
       "      <th></th>\n",
       "      <th></th>\n",
       "      <th></th>\n",
       "      <th></th>\n",
       "    </tr>\n",
       "  </thead>\n",
       "  <tbody>\n",
       "    <tr>\n",
       "      <th>2018-03-01 00:00:00</th>\n",
       "      <td>124</td>\n",
       "      <td>3</td>\n",
       "      <td>1</td>\n",
       "      <td>3</td>\n",
       "      <td>0</td>\n",
       "      <td>NaN</td>\n",
       "      <td>NaN</td>\n",
       "      <td>NaN</td>\n",
       "      <td>NaN</td>\n",
       "      <td>NaN</td>\n",
       "      <td>NaN</td>\n",
       "      <td>NaN</td>\n",
       "      <td>NaN</td>\n",
       "      <td>NaN</td>\n",
       "      <td>NaN</td>\n",
       "      <td>NaN</td>\n",
       "    </tr>\n",
       "    <tr>\n",
       "      <th>2018-03-01 01:00:00</th>\n",
       "      <td>85</td>\n",
       "      <td>3</td>\n",
       "      <td>1</td>\n",
       "      <td>3</td>\n",
       "      <td>1</td>\n",
       "      <td>124.0</td>\n",
       "      <td>NaN</td>\n",
       "      <td>NaN</td>\n",
       "      <td>NaN</td>\n",
       "      <td>NaN</td>\n",
       "      <td>NaN</td>\n",
       "      <td>NaN</td>\n",
       "      <td>NaN</td>\n",
       "      <td>NaN</td>\n",
       "      <td>NaN</td>\n",
       "      <td>NaN</td>\n",
       "    </tr>\n",
       "    <tr>\n",
       "      <th>2018-03-01 02:00:00</th>\n",
       "      <td>71</td>\n",
       "      <td>3</td>\n",
       "      <td>1</td>\n",
       "      <td>3</td>\n",
       "      <td>2</td>\n",
       "      <td>85.0</td>\n",
       "      <td>124.0</td>\n",
       "      <td>NaN</td>\n",
       "      <td>NaN</td>\n",
       "      <td>NaN</td>\n",
       "      <td>NaN</td>\n",
       "      <td>NaN</td>\n",
       "      <td>NaN</td>\n",
       "      <td>NaN</td>\n",
       "      <td>NaN</td>\n",
       "      <td>NaN</td>\n",
       "    </tr>\n",
       "    <tr>\n",
       "      <th>2018-03-01 03:00:00</th>\n",
       "      <td>66</td>\n",
       "      <td>3</td>\n",
       "      <td>1</td>\n",
       "      <td>3</td>\n",
       "      <td>3</td>\n",
       "      <td>71.0</td>\n",
       "      <td>85.0</td>\n",
       "      <td>124.0</td>\n",
       "      <td>NaN</td>\n",
       "      <td>NaN</td>\n",
       "      <td>NaN</td>\n",
       "      <td>NaN</td>\n",
       "      <td>NaN</td>\n",
       "      <td>NaN</td>\n",
       "      <td>NaN</td>\n",
       "      <td>NaN</td>\n",
       "    </tr>\n",
       "    <tr>\n",
       "      <th>2018-03-01 04:00:00</th>\n",
       "      <td>43</td>\n",
       "      <td>3</td>\n",
       "      <td>1</td>\n",
       "      <td>3</td>\n",
       "      <td>4</td>\n",
       "      <td>66.0</td>\n",
       "      <td>71.0</td>\n",
       "      <td>85.0</td>\n",
       "      <td>124.0</td>\n",
       "      <td>NaN</td>\n",
       "      <td>NaN</td>\n",
       "      <td>NaN</td>\n",
       "      <td>NaN</td>\n",
       "      <td>NaN</td>\n",
       "      <td>NaN</td>\n",
       "      <td>NaN</td>\n",
       "    </tr>\n",
       "    <tr>\n",
       "      <th>2018-03-01 05:00:00</th>\n",
       "      <td>6</td>\n",
       "      <td>3</td>\n",
       "      <td>1</td>\n",
       "      <td>3</td>\n",
       "      <td>5</td>\n",
       "      <td>43.0</td>\n",
       "      <td>66.0</td>\n",
       "      <td>71.0</td>\n",
       "      <td>85.0</td>\n",
       "      <td>124.0</td>\n",
       "      <td>NaN</td>\n",
       "      <td>NaN</td>\n",
       "      <td>NaN</td>\n",
       "      <td>NaN</td>\n",
       "      <td>NaN</td>\n",
       "      <td>NaN</td>\n",
       "    </tr>\n",
       "    <tr>\n",
       "      <th>2018-03-01 06:00:00</th>\n",
       "      <td>12</td>\n",
       "      <td>3</td>\n",
       "      <td>1</td>\n",
       "      <td>3</td>\n",
       "      <td>6</td>\n",
       "      <td>6.0</td>\n",
       "      <td>43.0</td>\n",
       "      <td>66.0</td>\n",
       "      <td>71.0</td>\n",
       "      <td>85.0</td>\n",
       "      <td>124.0</td>\n",
       "      <td>NaN</td>\n",
       "      <td>NaN</td>\n",
       "      <td>NaN</td>\n",
       "      <td>NaN</td>\n",
       "      <td>NaN</td>\n",
       "    </tr>\n",
       "    <tr>\n",
       "      <th>2018-03-01 07:00:00</th>\n",
       "      <td>15</td>\n",
       "      <td>3</td>\n",
       "      <td>1</td>\n",
       "      <td>3</td>\n",
       "      <td>7</td>\n",
       "      <td>12.0</td>\n",
       "      <td>6.0</td>\n",
       "      <td>43.0</td>\n",
       "      <td>66.0</td>\n",
       "      <td>71.0</td>\n",
       "      <td>85.0</td>\n",
       "      <td>124.0</td>\n",
       "      <td>NaN</td>\n",
       "      <td>NaN</td>\n",
       "      <td>NaN</td>\n",
       "      <td>NaN</td>\n",
       "    </tr>\n",
       "    <tr>\n",
       "      <th>2018-03-01 08:00:00</th>\n",
       "      <td>34</td>\n",
       "      <td>3</td>\n",
       "      <td>1</td>\n",
       "      <td>3</td>\n",
       "      <td>8</td>\n",
       "      <td>15.0</td>\n",
       "      <td>12.0</td>\n",
       "      <td>6.0</td>\n",
       "      <td>43.0</td>\n",
       "      <td>66.0</td>\n",
       "      <td>71.0</td>\n",
       "      <td>85.0</td>\n",
       "      <td>124.0</td>\n",
       "      <td>NaN</td>\n",
       "      <td>NaN</td>\n",
       "      <td>NaN</td>\n",
       "    </tr>\n",
       "    <tr>\n",
       "      <th>2018-03-01 09:00:00</th>\n",
       "      <td>69</td>\n",
       "      <td>3</td>\n",
       "      <td>1</td>\n",
       "      <td>3</td>\n",
       "      <td>9</td>\n",
       "      <td>34.0</td>\n",
       "      <td>15.0</td>\n",
       "      <td>12.0</td>\n",
       "      <td>6.0</td>\n",
       "      <td>43.0</td>\n",
       "      <td>66.0</td>\n",
       "      <td>71.0</td>\n",
       "      <td>85.0</td>\n",
       "      <td>124.0</td>\n",
       "      <td>NaN</td>\n",
       "      <td>NaN</td>\n",
       "    </tr>\n",
       "    <tr>\n",
       "      <th>2018-03-01 10:00:00</th>\n",
       "      <td>64</td>\n",
       "      <td>3</td>\n",
       "      <td>1</td>\n",
       "      <td>3</td>\n",
       "      <td>10</td>\n",
       "      <td>69.0</td>\n",
       "      <td>34.0</td>\n",
       "      <td>15.0</td>\n",
       "      <td>12.0</td>\n",
       "      <td>6.0</td>\n",
       "      <td>43.0</td>\n",
       "      <td>66.0</td>\n",
       "      <td>71.0</td>\n",
       "      <td>85.0</td>\n",
       "      <td>124.0</td>\n",
       "      <td>52.5</td>\n",
       "    </tr>\n",
       "    <tr>\n",
       "      <th>2018-03-01 11:00:00</th>\n",
       "      <td>96</td>\n",
       "      <td>3</td>\n",
       "      <td>1</td>\n",
       "      <td>3</td>\n",
       "      <td>11</td>\n",
       "      <td>64.0</td>\n",
       "      <td>69.0</td>\n",
       "      <td>34.0</td>\n",
       "      <td>15.0</td>\n",
       "      <td>12.0</td>\n",
       "      <td>6.0</td>\n",
       "      <td>43.0</td>\n",
       "      <td>66.0</td>\n",
       "      <td>71.0</td>\n",
       "      <td>85.0</td>\n",
       "      <td>46.5</td>\n",
       "    </tr>\n",
       "    <tr>\n",
       "      <th>2018-03-01 12:00:00</th>\n",
       "      <td>30</td>\n",
       "      <td>3</td>\n",
       "      <td>1</td>\n",
       "      <td>3</td>\n",
       "      <td>12</td>\n",
       "      <td>96.0</td>\n",
       "      <td>64.0</td>\n",
       "      <td>69.0</td>\n",
       "      <td>34.0</td>\n",
       "      <td>15.0</td>\n",
       "      <td>12.0</td>\n",
       "      <td>6.0</td>\n",
       "      <td>43.0</td>\n",
       "      <td>66.0</td>\n",
       "      <td>71.0</td>\n",
       "      <td>47.6</td>\n",
       "    </tr>\n",
       "    <tr>\n",
       "      <th>2018-03-01 13:00:00</th>\n",
       "      <td>32</td>\n",
       "      <td>3</td>\n",
       "      <td>1</td>\n",
       "      <td>3</td>\n",
       "      <td>13</td>\n",
       "      <td>30.0</td>\n",
       "      <td>96.0</td>\n",
       "      <td>64.0</td>\n",
       "      <td>69.0</td>\n",
       "      <td>34.0</td>\n",
       "      <td>15.0</td>\n",
       "      <td>12.0</td>\n",
       "      <td>6.0</td>\n",
       "      <td>43.0</td>\n",
       "      <td>66.0</td>\n",
       "      <td>43.5</td>\n",
       "    </tr>\n",
       "    <tr>\n",
       "      <th>2018-03-01 14:00:00</th>\n",
       "      <td>48</td>\n",
       "      <td>3</td>\n",
       "      <td>1</td>\n",
       "      <td>3</td>\n",
       "      <td>14</td>\n",
       "      <td>32.0</td>\n",
       "      <td>30.0</td>\n",
       "      <td>96.0</td>\n",
       "      <td>64.0</td>\n",
       "      <td>69.0</td>\n",
       "      <td>34.0</td>\n",
       "      <td>15.0</td>\n",
       "      <td>12.0</td>\n",
       "      <td>6.0</td>\n",
       "      <td>43.0</td>\n",
       "      <td>40.1</td>\n",
       "    </tr>\n",
       "    <tr>\n",
       "      <th>2018-03-01 15:00:00</th>\n",
       "      <td>66</td>\n",
       "      <td>3</td>\n",
       "      <td>1</td>\n",
       "      <td>3</td>\n",
       "      <td>15</td>\n",
       "      <td>48.0</td>\n",
       "      <td>32.0</td>\n",
       "      <td>30.0</td>\n",
       "      <td>96.0</td>\n",
       "      <td>64.0</td>\n",
       "      <td>69.0</td>\n",
       "      <td>34.0</td>\n",
       "      <td>15.0</td>\n",
       "      <td>12.0</td>\n",
       "      <td>6.0</td>\n",
       "      <td>40.6</td>\n",
       "    </tr>\n",
       "    <tr>\n",
       "      <th>2018-03-01 16:00:00</th>\n",
       "      <td>43</td>\n",
       "      <td>3</td>\n",
       "      <td>1</td>\n",
       "      <td>3</td>\n",
       "      <td>16</td>\n",
       "      <td>66.0</td>\n",
       "      <td>48.0</td>\n",
       "      <td>32.0</td>\n",
       "      <td>30.0</td>\n",
       "      <td>96.0</td>\n",
       "      <td>64.0</td>\n",
       "      <td>69.0</td>\n",
       "      <td>34.0</td>\n",
       "      <td>15.0</td>\n",
       "      <td>12.0</td>\n",
       "      <td>46.6</td>\n",
       "    </tr>\n",
       "    <tr>\n",
       "      <th>2018-03-01 17:00:00</th>\n",
       "      <td>44</td>\n",
       "      <td>3</td>\n",
       "      <td>1</td>\n",
       "      <td>3</td>\n",
       "      <td>17</td>\n",
       "      <td>43.0</td>\n",
       "      <td>66.0</td>\n",
       "      <td>48.0</td>\n",
       "      <td>32.0</td>\n",
       "      <td>30.0</td>\n",
       "      <td>96.0</td>\n",
       "      <td>64.0</td>\n",
       "      <td>69.0</td>\n",
       "      <td>34.0</td>\n",
       "      <td>15.0</td>\n",
       "      <td>49.7</td>\n",
       "    </tr>\n",
       "    <tr>\n",
       "      <th>2018-03-01 18:00:00</th>\n",
       "      <td>73</td>\n",
       "      <td>3</td>\n",
       "      <td>1</td>\n",
       "      <td>3</td>\n",
       "      <td>18</td>\n",
       "      <td>44.0</td>\n",
       "      <td>43.0</td>\n",
       "      <td>66.0</td>\n",
       "      <td>48.0</td>\n",
       "      <td>32.0</td>\n",
       "      <td>30.0</td>\n",
       "      <td>96.0</td>\n",
       "      <td>64.0</td>\n",
       "      <td>69.0</td>\n",
       "      <td>34.0</td>\n",
       "      <td>52.6</td>\n",
       "    </tr>\n",
       "    <tr>\n",
       "      <th>2018-03-01 19:00:00</th>\n",
       "      <td>45</td>\n",
       "      <td>3</td>\n",
       "      <td>1</td>\n",
       "      <td>3</td>\n",
       "      <td>19</td>\n",
       "      <td>73.0</td>\n",
       "      <td>44.0</td>\n",
       "      <td>43.0</td>\n",
       "      <td>66.0</td>\n",
       "      <td>48.0</td>\n",
       "      <td>32.0</td>\n",
       "      <td>30.0</td>\n",
       "      <td>96.0</td>\n",
       "      <td>64.0</td>\n",
       "      <td>69.0</td>\n",
       "      <td>56.5</td>\n",
       "    </tr>\n",
       "  </tbody>\n",
       "</table>\n",
       "</div>"
      ],
      "text/plain": [
       "                     num_orders  month  day  dayofweek  hour  lag_1  lag_2  \\\n",
       "datetime                                                                     \n",
       "2018-03-01 00:00:00         124      3    1          3     0    NaN    NaN   \n",
       "2018-03-01 01:00:00          85      3    1          3     1  124.0    NaN   \n",
       "2018-03-01 02:00:00          71      3    1          3     2   85.0  124.0   \n",
       "2018-03-01 03:00:00          66      3    1          3     3   71.0   85.0   \n",
       "2018-03-01 04:00:00          43      3    1          3     4   66.0   71.0   \n",
       "2018-03-01 05:00:00           6      3    1          3     5   43.0   66.0   \n",
       "2018-03-01 06:00:00          12      3    1          3     6    6.0   43.0   \n",
       "2018-03-01 07:00:00          15      3    1          3     7   12.0    6.0   \n",
       "2018-03-01 08:00:00          34      3    1          3     8   15.0   12.0   \n",
       "2018-03-01 09:00:00          69      3    1          3     9   34.0   15.0   \n",
       "2018-03-01 10:00:00          64      3    1          3    10   69.0   34.0   \n",
       "2018-03-01 11:00:00          96      3    1          3    11   64.0   69.0   \n",
       "2018-03-01 12:00:00          30      3    1          3    12   96.0   64.0   \n",
       "2018-03-01 13:00:00          32      3    1          3    13   30.0   96.0   \n",
       "2018-03-01 14:00:00          48      3    1          3    14   32.0   30.0   \n",
       "2018-03-01 15:00:00          66      3    1          3    15   48.0   32.0   \n",
       "2018-03-01 16:00:00          43      3    1          3    16   66.0   48.0   \n",
       "2018-03-01 17:00:00          44      3    1          3    17   43.0   66.0   \n",
       "2018-03-01 18:00:00          73      3    1          3    18   44.0   43.0   \n",
       "2018-03-01 19:00:00          45      3    1          3    19   73.0   44.0   \n",
       "\n",
       "                     lag_3  lag_4  lag_5  lag_6  lag_7  lag_8  lag_9  lag_10  \\\n",
       "datetime                                                                       \n",
       "2018-03-01 00:00:00    NaN    NaN    NaN    NaN    NaN    NaN    NaN     NaN   \n",
       "2018-03-01 01:00:00    NaN    NaN    NaN    NaN    NaN    NaN    NaN     NaN   \n",
       "2018-03-01 02:00:00    NaN    NaN    NaN    NaN    NaN    NaN    NaN     NaN   \n",
       "2018-03-01 03:00:00  124.0    NaN    NaN    NaN    NaN    NaN    NaN     NaN   \n",
       "2018-03-01 04:00:00   85.0  124.0    NaN    NaN    NaN    NaN    NaN     NaN   \n",
       "2018-03-01 05:00:00   71.0   85.0  124.0    NaN    NaN    NaN    NaN     NaN   \n",
       "2018-03-01 06:00:00   66.0   71.0   85.0  124.0    NaN    NaN    NaN     NaN   \n",
       "2018-03-01 07:00:00   43.0   66.0   71.0   85.0  124.0    NaN    NaN     NaN   \n",
       "2018-03-01 08:00:00    6.0   43.0   66.0   71.0   85.0  124.0    NaN     NaN   \n",
       "2018-03-01 09:00:00   12.0    6.0   43.0   66.0   71.0   85.0  124.0     NaN   \n",
       "2018-03-01 10:00:00   15.0   12.0    6.0   43.0   66.0   71.0   85.0   124.0   \n",
       "2018-03-01 11:00:00   34.0   15.0   12.0    6.0   43.0   66.0   71.0    85.0   \n",
       "2018-03-01 12:00:00   69.0   34.0   15.0   12.0    6.0   43.0   66.0    71.0   \n",
       "2018-03-01 13:00:00   64.0   69.0   34.0   15.0   12.0    6.0   43.0    66.0   \n",
       "2018-03-01 14:00:00   96.0   64.0   69.0   34.0   15.0   12.0    6.0    43.0   \n",
       "2018-03-01 15:00:00   30.0   96.0   64.0   69.0   34.0   15.0   12.0     6.0   \n",
       "2018-03-01 16:00:00   32.0   30.0   96.0   64.0   69.0   34.0   15.0    12.0   \n",
       "2018-03-01 17:00:00   48.0   32.0   30.0   96.0   64.0   69.0   34.0    15.0   \n",
       "2018-03-01 18:00:00   66.0   48.0   32.0   30.0   96.0   64.0   69.0    34.0   \n",
       "2018-03-01 19:00:00   43.0   66.0   48.0   32.0   30.0   96.0   64.0    69.0   \n",
       "\n",
       "                     rolling_mean  \n",
       "datetime                           \n",
       "2018-03-01 00:00:00           NaN  \n",
       "2018-03-01 01:00:00           NaN  \n",
       "2018-03-01 02:00:00           NaN  \n",
       "2018-03-01 03:00:00           NaN  \n",
       "2018-03-01 04:00:00           NaN  \n",
       "2018-03-01 05:00:00           NaN  \n",
       "2018-03-01 06:00:00           NaN  \n",
       "2018-03-01 07:00:00           NaN  \n",
       "2018-03-01 08:00:00           NaN  \n",
       "2018-03-01 09:00:00           NaN  \n",
       "2018-03-01 10:00:00          52.5  \n",
       "2018-03-01 11:00:00          46.5  \n",
       "2018-03-01 12:00:00          47.6  \n",
       "2018-03-01 13:00:00          43.5  \n",
       "2018-03-01 14:00:00          40.1  \n",
       "2018-03-01 15:00:00          40.6  \n",
       "2018-03-01 16:00:00          46.6  \n",
       "2018-03-01 17:00:00          49.7  \n",
       "2018-03-01 18:00:00          52.6  \n",
       "2018-03-01 19:00:00          56.5  "
      ]
     },
     "execution_count": 14,
     "metadata": {},
     "output_type": "execute_result"
    }
   ],
   "source": [
    "data.head(20)"
   ]
  },
  {
   "cell_type": "markdown",
   "metadata": {},
   "source": [
    "### Проведем дополнительный исследовательский анализ данных"
   ]
  },
  {
   "cell_type": "markdown",
   "metadata": {},
   "source": [
    "Рассмотрим распределение количества заказов по дням недели"
   ]
  },
  {
   "cell_type": "code",
   "execution_count": 15,
   "metadata": {
    "scrolled": true
   },
   "outputs": [
    {
     "data": {
      "image/png": "[encoded data removed]",
      "text/plain": [
       "<Figure size 432x288 with 1 Axes>"
      ]
     },
     "metadata": {
      "needs_background": "light"
     },
     "output_type": "display_data"
    }
   ],
   "source": [
    "data.groupby(by='dayofweek')['num_orders'].sum().plot(kind='bar')\n",
    "plt.xticks(rotation=0)\n",
    "plt.title('Распределение общего количества заказов по дням недели')\n",
    "plt.xlabel('День недели')\n",
    "plt.ylabel('Суммарное количество заказов')\n",
    "plt.show()"
   ]
  },
  {
   "cell_type": "markdown",
   "metadata": {},
   "source": [
    "Вывод:  \n",
    "Видно, что наиболее часто такси используется в понедельник и пятницу.  \n",
    "Наименее частно во вторник и воскресенье.  \n",
    "После вторника идет плавный рост количества заказов к пятнице и потом спад"
   ]
  },
  {
   "cell_type": "markdown",
   "metadata": {},
   "source": [
    "Рассмотрим распреледение количества заказов по дня месяца"
   ]
  },
  {
   "cell_type": "code",
   "execution_count": 16,
   "metadata": {
    "scrolled": true
   },
   "outputs": [
    {
     "data": {
      "image/png": "[encoded data removed]",
      "text/plain": [
       "<Figure size 720x360 with 1 Axes>"
      ]
     },
     "metadata": {
      "needs_background": "light"
     },
     "output_type": "display_data"
    }
   ],
   "source": [
    "figure(figsize=(10,5))\n",
    "data.groupby(by='day')['num_orders'].sum().plot(kind='bar')\n",
    "plt.xticks(rotation=0)\n",
    "plt.title('Распределение общего количества заказов по числу месяца')\n",
    "plt.xlabel('День месяца')\n",
    "plt.ylabel('Суммарное количество заказов')\n",
    "plt.show()"
   ]
  },
  {
   "cell_type": "markdown",
   "metadata": {},
   "source": [
    "Вывод:  \n",
    "Видно, что в течении месяца идет плавный рост количества заказов такси, в начале месяца он ниже.  \n",
    "В начале каждой недели идет спад и плавный рост к концу недели.\n",
    "31 число не показатель, т.к. в апреле и июне нет 31 числа, поэтому однозначно нельзя сделать вывод, что 31 числа наименьшее количество заказов"
   ]
  },
  {
   "cell_type": "markdown",
   "metadata": {},
   "source": [
    "Рассмотрим распреледение количества заказов по месяцам"
   ]
  },
  {
   "cell_type": "code",
   "execution_count": 17,
   "metadata": {
    "scrolled": true
   },
   "outputs": [
    {
     "data": {
      "image/png": "[encoded data removed]",
      "text/plain": [
       "<Figure size 504x360 with 1 Axes>"
      ]
     },
     "metadata": {
      "needs_background": "light"
     },
     "output_type": "display_data"
    }
   ],
   "source": [
    "figure(figsize=(7,5))\n",
    "data.groupby(by='month')['num_orders'].sum().plot(kind='bar')\n",
    "plt.xticks(rotation=0)\n",
    "plt.title('Распределение общего количества заказов по месяцам')\n",
    "plt.xlabel('Месяц')\n",
    "plt.ylabel('Суммарное количество заказов')\n",
    "plt.show()"
   ]
  },
  {
   "cell_type": "markdown",
   "metadata": {},
   "source": [
    "Вывод:  \n",
    "Видно, что в течении рассматриваемого периода с марта по август идет реский рост количество заказов в летние месяцы  "
   ]
  },
  {
   "cell_type": "markdown",
   "metadata": {},
   "source": [
    "Удалим из датасета данные, в которых оставания получились нулевыми"
   ]
  },
  {
   "cell_type": "code",
   "execution_count": 18,
   "metadata": {},
   "outputs": [],
   "source": [
    "data.dropna(inplace=True)"
   ]
  },
  {
   "cell_type": "markdown",
   "metadata": {},
   "source": [
    "### Подготовим признаки для обучения моделей"
   ]
  },
  {
   "cell_type": "markdown",
   "metadata": {},
   "source": [
    "Разделим датасет на признаки на которых будет обучаться модель и целевой признак.  "
   ]
  },
  {
   "cell_type": "code",
   "execution_count": 19,
   "metadata": {},
   "outputs": [],
   "source": [
    "features = data.drop(['num_orders'], axis=1)"
   ]
  },
  {
   "cell_type": "code",
   "execution_count": 20,
   "metadata": {},
   "outputs": [],
   "source": [
    "target = data.num_orders"
   ]
  },
  {
   "cell_type": "markdown",
   "metadata": {},
   "source": [
    "Разделим выборки на тренировочную и тестовую в соотношении 90% на 10%"
   ]
  },
  {
   "cell_type": "code",
   "execution_count": 21,
   "metadata": {},
   "outputs": [],
   "source": [
    "features_train, features_test, target_train, target_test = train_test_split(features, target, shuffle=False, test_size=0.1)"
   ]
  },
  {
   "cell_type": "markdown",
   "metadata": {},
   "source": [
    "Проверим корректность разбиения"
   ]
  },
  {
   "cell_type": "code",
   "execution_count": 22,
   "metadata": {},
   "outputs": [
    {
     "data": {
      "text/plain": [
       "((3965, 15), (441, 15))"
      ]
     },
     "execution_count": 22,
     "metadata": {},
     "output_type": "execute_result"
    }
   ],
   "source": [
    "features_train.shape, features_test.shape"
   ]
  },
  {
   "cell_type": "markdown",
   "metadata": {},
   "source": [
    "## Обучение"
   ]
  },
  {
   "cell_type": "markdown",
   "metadata": {},
   "source": [
    "Создадим переменные с параметрами моделей, которые будем передавать в GridSearch для подбора наилучих гиперпараметров"
   ]
  },
  {
   "cell_type": "code",
   "execution_count": 23,
   "metadata": {},
   "outputs": [],
   "source": [
    "# для случайного леса\n",
    "params_rf = { 'n_estimators': [10, 20, 30, 40, 50],\n",
    "              'max_depth': [5,10,15]}"
   ]
  },
  {
   "cell_type": "code",
   "execution_count": 24,
   "metadata": {},
   "outputs": [],
   "source": [
    "# для CatBoost\n",
    "params_cat = {'n_estimators':[100, 300],\n",
    "              'max_depth': [10,15],\n",
    "             'learning_rate': [0.03, 0.1]}"
   ]
  },
  {
   "cell_type": "code",
   "execution_count": 25,
   "metadata": {},
   "outputs": [],
   "source": [
    "# для LightGBM\n",
    "params_lgbm = {'n_estimators':[100, 300],\n",
    "              'max_depth' : [5,10,15],\n",
    "              'learning_rate':[0.01, 0.1]}"
   ]
  },
  {
   "cell_type": "markdown",
   "metadata": {},
   "source": [
    "### Создадим модели и подберем гиперпараметры"
   ]
  },
  {
   "cell_type": "markdown",
   "metadata": {},
   "source": [
    "#### Создадим модель случайного леса"
   ]
  },
  {
   "cell_type": "code",
   "execution_count": 26,
   "metadata": {
    "scrolled": true
   },
   "outputs": [
    {
     "data": {
      "text/plain": [
       "RandomForestRegressor(random_state=12345)"
      ]
     },
     "execution_count": 26,
     "metadata": {},
     "output_type": "execute_result"
    }
   ],
   "source": [
    "model_rf = RandomForestRegressor(random_state=12345)\n",
    "model_rf"
   ]
  },
  {
   "cell_type": "markdown",
   "metadata": {},
   "source": [
    "Запустим GridSearchCV для подбора наилучших гиперпараметров для модели случайного леса.  \n",
    "Для кросс-валидации будем использовать TimeSeriesSplit, т.к. имеем дело с временным рядом. Это позволит получить в каждом сплите тестовые индексы позже по времени, чем обучающие."
   ]
  },
  {
   "cell_type": "code",
   "execution_count": 27,
   "metadata": {},
   "outputs": [],
   "source": [
    "tscv = TimeSeriesSplit(n_splits=5)"
   ]
  },
  {
   "cell_type": "code",
   "execution_count": 28,
   "metadata": {
    "scrolled": true
   },
   "outputs": [],
   "source": [
    "grid_rf = GridSearchCV(estimator = model_rf, param_grid = params_rf, cv = tscv, n_jobs=-1)"
   ]
  },
  {
   "cell_type": "code",
   "execution_count": 29,
   "metadata": {
    "scrolled": true
   },
   "outputs": [
    {
     "name": "stdout",
     "output_type": "stream",
     "text": [
      "CPU times: user 22.6 s, sys: 87.7 ms, total: 22.7 s\n",
      "Wall time: 22.9 s\n"
     ]
    },
    {
     "data": {
      "text/plain": [
       "GridSearchCV(cv=TimeSeriesSplit(gap=0, max_train_size=None, n_splits=5, test_size=None),\n",
       "             estimator=RandomForestRegressor(random_state=12345), n_jobs=-1,\n",
       "             param_grid={'max_depth': [5, 10, 15],\n",
       "                         'n_estimators': [10, 20, 30, 40, 50]})"
      ]
     },
     "execution_count": 29,
     "metadata": {},
     "output_type": "execute_result"
    }
   ],
   "source": [
    "%%time\n",
    "grid_rf.fit(features_train, target_train)"
   ]
  },
  {
   "cell_type": "code",
   "execution_count": 30,
   "metadata": {},
   "outputs": [
    {
     "data": {
      "text/plain": [
       "{'max_depth': 15, 'n_estimators': 50}"
      ]
     },
     "execution_count": 30,
     "metadata": {},
     "output_type": "execute_result"
    }
   ],
   "source": [
    "grid_rf.best_params_"
   ]
  },
  {
   "cell_type": "markdown",
   "metadata": {},
   "source": [
    "Сохраним модель Случайного леса с лучшими гиперпараметрами"
   ]
  },
  {
   "cell_type": "code",
   "execution_count": 31,
   "metadata": {},
   "outputs": [
    {
     "data": {
      "text/plain": [
       "RandomForestRegressor(max_depth=15, n_estimators=50, random_state=12345)"
      ]
     },
     "execution_count": 31,
     "metadata": {},
     "output_type": "execute_result"
    }
   ],
   "source": [
    "model_rf = grid_rf.best_estimator_\n",
    "model_rf"
   ]
  },
  {
   "cell_type": "markdown",
   "metadata": {},
   "source": [
    "#### Создадим модель CatBoost"
   ]
  },
  {
   "cell_type": "code",
   "execution_count": 32,
   "metadata": {},
   "outputs": [
    {
     "data": {
      "text/plain": [
       "<catboost.core.CatBoostRegressor at 0x7f1616683d60>"
      ]
     },
     "execution_count": 32,
     "metadata": {},
     "output_type": "execute_result"
    }
   ],
   "source": [
    "model_cat = CatBoostRegressor(loss_function='RMSE', verbose=50)\n",
    "model_cat"
   ]
  },
  {
   "cell_type": "code",
   "execution_count": 33,
   "metadata": {},
   "outputs": [],
   "source": [
    "grid_cat = GridSearchCV(estimator = model_cat, param_grid = params_cat, cv = tscv, n_jobs=-1)"
   ]
  },
  {
   "cell_type": "code",
   "execution_count": 34,
   "metadata": {
    "scrolled": true
   },
   "outputs": [
    {
     "name": "stdout",
     "output_type": "stream",
     "text": [
      "0:\tlearn: 29.1885654\ttotal: 65.6ms\tremaining: 6.5s\n",
      "50:\tlearn: 18.0235959\ttotal: 836ms\tremaining: 803ms\n",
      "99:\tlearn: 13.7441804\ttotal: 1.67s\tremaining: 0us\n",
      "0:\tlearn: 29.8873465\ttotal: 22.5ms\tremaining: 2.23s\n",
      "50:\tlearn: 19.5693589\ttotal: 944ms\tremaining: 907ms\n",
      "99:\tlearn: 15.6900994\ttotal: 1.89s\tremaining: 0us\n",
      "0:\tlearn: 31.5172872\ttotal: 24.7ms\tremaining: 2.44s\n",
      "50:\tlearn: 20.6409007\ttotal: 1.11s\tremaining: 1.07s\n",
      "99:\tlearn: 16.8422028\ttotal: 2.17s\tremaining: 0us\n",
      "0:\tlearn: 32.9054605\ttotal: 25.6ms\tremaining: 2.54s\n",
      "50:\tlearn: 21.7539674\ttotal: 1.13s\tremaining: 1.09s\n",
      "99:\tlearn: 18.2043853\ttotal: 2.19s\tremaining: 0us\n",
      "0:\tlearn: 34.3010445\ttotal: 24.2ms\tremaining: 2.4s\n",
      "50:\tlearn: 22.5549322\ttotal: 1.21s\tremaining: 1.16s\n",
      "99:\tlearn: 19.0540669\ttotal: 2.38s\tremaining: 0us\n",
      "0:\tlearn: 29.1885654\ttotal: 19.6ms\tremaining: 5.87s\n",
      "50:\tlearn: 18.0235959\ttotal: 803ms\tremaining: 3.92s\n",
      "100:\tlearn: 13.6837768\ttotal: 1.66s\tremaining: 3.27s\n",
      "150:\tlearn: 11.0712101\ttotal: 2.46s\tremaining: 2.42s\n",
      "200:\tlearn: 9.2679108\ttotal: 3.25s\tremaining: 1.6s\n",
      "250:\tlearn: 7.7700396\ttotal: 4.11s\tremaining: 803ms\n",
      "299:\tlearn: 6.7309451\ttotal: 4.99s\tremaining: 0us\n",
      "0:\tlearn: 29.8873465\ttotal: 20.9ms\tremaining: 6.25s\n",
      "50:\tlearn: 19.5693589\ttotal: 1.01s\tremaining: 4.91s\n",
      "100:\tlearn: 15.6432748\ttotal: 2.01s\tremaining: 3.96s\n",
      "150:\tlearn: 13.3150075\ttotal: 2.96s\tremaining: 2.92s\n",
      "200:\tlearn: 11.6517228\ttotal: 3.86s\tremaining: 1.9s\n",
      "250:\tlearn: 10.2216750\ttotal: 4.82s\tremaining: 941ms\n",
      "299:\tlearn: 9.1220316\ttotal: 5.79s\tremaining: 0us\n",
      "0:\tlearn: 31.5172872\ttotal: 20.5ms\tremaining: 6.14s\n",
      "50:\tlearn: 20.6409007\ttotal: 1.05s\tremaining: 5.14s\n",
      "100:\tlearn: 16.7904686\ttotal: 2.08s\tremaining: 4.1s\n",
      "150:\tlearn: 14.7009760\ttotal: 3.1s\tremaining: 3.06s\n",
      "200:\tlearn: 13.2803887\ttotal: 4.12s\tremaining: 2.03s\n",
      "250:\tlearn: 12.0250469\ttotal: 5.14s\tremaining: 1s\n",
      "299:\tlearn: 10.9270344\ttotal: 6.17s\tremaining: 0us\n",
      "0:\tlearn: 32.9054605\ttotal: 22.2ms\tremaining: 6.64s\n",
      "50:\tlearn: 21.7539674\ttotal: 1.11s\tremaining: 5.43s\n",
      "100:\tlearn: 18.1574737\ttotal: 2.41s\tremaining: 4.74s\n",
      "150:\tlearn: 16.1557763\ttotal: 3.53s\tremaining: 3.48s\n",
      "200:\tlearn: 14.7528049\ttotal: 4.63s\tremaining: 2.28s\n",
      "250:\tlearn: 13.6258209\ttotal: 5.75s\tremaining: 1.12s\n",
      "299:\tlearn: 12.5331436\ttotal: 6.8s\tremaining: 0us\n",
      "0:\tlearn: 34.3010445\ttotal: 23.5ms\tremaining: 7.04s\n",
      "50:\tlearn: 22.5549322\ttotal: 1.2s\tremaining: 5.86s\n",
      "100:\tlearn: 19.0048887\ttotal: 2.38s\tremaining: 4.7s\n",
      "150:\tlearn: 17.1460637\ttotal: 3.58s\tremaining: 3.54s\n",
      "200:\tlearn: 15.7693831\ttotal: 4.86s\tremaining: 2.4s\n",
      "250:\tlearn: 14.6870616\ttotal: 6.05s\tremaining: 1.18s\n",
      "299:\tlearn: 13.6489606\ttotal: 7.19s\tremaining: 0us\n",
      "0:\tlearn: 29.2694622\ttotal: 350ms\tremaining: 34.6s\n",
      "50:\tlearn: 18.3410862\ttotal: 48.3s\tremaining: 46.4s\n",
      "99:\tlearn: 12.5424811\ttotal: 1m 38s\tremaining: 0us\n",
      "0:\tlearn: 29.9633712\ttotal: 1.18s\tremaining: 1m 57s\n",
      "50:\tlearn: 18.9884539\ttotal: 55.2s\tremaining: 53s\n",
      "99:\tlearn: 13.4708133\ttotal: 1m 50s\tremaining: 0us\n",
      "0:\tlearn: 31.5680249\ttotal: 1.33s\tremaining: 2m 12s\n",
      "50:\tlearn: 19.8537243\ttotal: 1m 6s\tremaining: 1m 3s\n",
      "99:\tlearn: 13.9920310\ttotal: 2m 12s\tremaining: 0us\n",
      "0:\tlearn: 32.9254981\ttotal: 1.45s\tremaining: 2m 23s\n",
      "50:\tlearn: 20.6657048\ttotal: 1m 16s\tremaining: 1m 13s\n",
      "99:\tlearn: 15.0240840\ttotal: 2m 28s\tremaining: 0us\n",
      "0:\tlearn: 34.3334804\ttotal: 1.55s\tremaining: 2m 33s\n",
      "50:\tlearn: 21.3234411\ttotal: 1m 20s\tremaining: 1m 17s\n",
      "99:\tlearn: 15.8205893\ttotal: 2m 37s\tremaining: 0us\n",
      "0:\tlearn: 29.2694622\ttotal: 362ms\tremaining: 1m 48s\n",
      "50:\tlearn: 18.3410862\ttotal: 51.3s\tremaining: 4m 10s\n",
      "100:\tlearn: 12.4505611\ttotal: 1m 45s\tremaining: 3m 28s\n",
      "150:\tlearn: 8.8864141\ttotal: 2m 40s\tremaining: 2m 38s\n",
      "200:\tlearn: 6.4919478\ttotal: 3m 36s\tremaining: 1m 46s\n",
      "250:\tlearn: 4.7428892\ttotal: 4m 33s\tremaining: 53.3s\n",
      "299:\tlearn: 3.4778193\ttotal: 5m 27s\tremaining: 0us\n",
      "0:\tlearn: 29.9633712\ttotal: 1.16s\tremaining: 5m 47s\n",
      "50:\tlearn: 18.9884539\ttotal: 55.8s\tremaining: 4m 32s\n",
      "100:\tlearn: 13.3965306\ttotal: 1m 51s\tremaining: 3m 40s\n",
      "150:\tlearn: 9.7451336\ttotal: 2m 51s\tremaining: 2m 48s\n",
      "200:\tlearn: 7.2678506\ttotal: 3m 50s\tremaining: 1m 53s\n",
      "250:\tlearn: 5.4692047\ttotal: 4m 50s\tremaining: 56.7s\n",
      "299:\tlearn: 4.1239484\ttotal: 5m 48s\tremaining: 0us\n",
      "0:\tlearn: 31.5680249\ttotal: 1.31s\tremaining: 6m 32s\n",
      "50:\tlearn: 19.8537243\ttotal: 1m 2s\tremaining: 5m 3s\n",
      "100:\tlearn: 13.9093008\ttotal: 2m 7s\tremaining: 4m 10s\n",
      "150:\tlearn: 10.4694227\ttotal: 3m 10s\tremaining: 3m 8s\n",
      "200:\tlearn: 8.0822950\ttotal: 4m 13s\tremaining: 2m 4s\n",
      "250:\tlearn: 6.2572006\ttotal: 5m 18s\tremaining: 1m 2s\n",
      "299:\tlearn: 4.9869086\ttotal: 6m 21s\tremaining: 0us\n",
      "0:\tlearn: 32.9254981\ttotal: 1.4s\tremaining: 6m 59s\n",
      "50:\tlearn: 20.6657048\ttotal: 1m 10s\tremaining: 5m 42s\n",
      "100:\tlearn: 14.9429816\ttotal: 2m 18s\tremaining: 4m 33s\n",
      "150:\tlearn: 11.5312015\ttotal: 3m 26s\tremaining: 3m 23s\n",
      "200:\tlearn: 9.2559170\ttotal: 4m 33s\tremaining: 2m 14s\n",
      "250:\tlearn: 7.5091639\ttotal: 5m 42s\tremaining: 1m 6s\n",
      "299:\tlearn: 6.1887563\ttotal: 6m 50s\tremaining: 0us\n",
      "0:\tlearn: 34.3334804\ttotal: 1.46s\tremaining: 7m 15s\n",
      "50:\tlearn: 21.3234411\ttotal: 1m 15s\tremaining: 6m 7s\n",
      "100:\tlearn: 15.7317018\ttotal: 2m 30s\tremaining: 4m 56s\n",
      "150:\tlearn: 12.3767072\ttotal: 3m 44s\tremaining: 3m 41s\n",
      "200:\tlearn: 10.1204186\ttotal: 4m 57s\tremaining: 2m 26s\n",
      "250:\tlearn: 8.4168485\ttotal: 6m 13s\tremaining: 1m 12s\n",
      "299:\tlearn: 7.1215069\ttotal: 7m 27s\tremaining: 0us\n",
      "0:\tlearn: 28.2980973\ttotal: 21.4ms\tremaining: 2.12s\n",
      "50:\tlearn: 10.1280424\ttotal: 824ms\tremaining: 792ms\n",
      "99:\tlearn: 6.0346775\ttotal: 1.62s\tremaining: 0us\n",
      "0:\tlearn: 28.9851334\ttotal: 18ms\tremaining: 1.78s\n",
      "50:\tlearn: 12.5181577\ttotal: 954ms\tremaining: 916ms\n",
      "99:\tlearn: 8.4293155\ttotal: 1.87s\tremaining: 0us\n",
      "0:\tlearn: 30.5647426\ttotal: 20.9ms\tremaining: 2.07s\n",
      "50:\tlearn: 14.1422627\ttotal: 1.05s\tremaining: 1.01s\n",
      "99:\tlearn: 10.2745485\ttotal: 2.06s\tremaining: 0us\n",
      "0:\tlearn: 31.9354855\ttotal: 23ms\tremaining: 2.28s\n",
      "50:\tlearn: 15.7061125\ttotal: 1.14s\tremaining: 1.09s\n",
      "99:\tlearn: 12.1350180\ttotal: 2.24s\tremaining: 0us\n",
      "0:\tlearn: 33.2376875\ttotal: 31.1ms\tremaining: 3.08s\n",
      "50:\tlearn: 16.6589769\ttotal: 1.22s\tremaining: 1.17s\n",
      "99:\tlearn: 12.9349891\ttotal: 2.35s\tremaining: 0us\n",
      "0:\tlearn: 28.2980973\ttotal: 17.1ms\tremaining: 5.1s\n",
      "50:\tlearn: 10.1280424\ttotal: 773ms\tremaining: 3.77s\n",
      "100:\tlearn: 6.0132058\ttotal: 1.57s\tremaining: 3.1s\n",
      "150:\tlearn: 4.0459660\ttotal: 2.39s\tremaining: 2.36s\n",
      "200:\tlearn: 2.8891318\ttotal: 3.23s\tremaining: 1.59s\n",
      "250:\tlearn: 1.9306231\ttotal: 4.05s\tremaining: 792ms\n",
      "299:\tlearn: 1.2990577\ttotal: 4.86s\tremaining: 0us\n",
      "0:\tlearn: 28.9851334\ttotal: 18.2ms\tremaining: 5.45s\n",
      "50:\tlearn: 12.5181577\ttotal: 1.03s\tremaining: 5.01s\n",
      "100:\tlearn: 8.3576757\ttotal: 1.93s\tremaining: 3.81s\n",
      "150:\tlearn: 6.0757274\ttotal: 2.87s\tremaining: 2.83s\n",
      "200:\tlearn: 4.3635413\ttotal: 3.86s\tremaining: 1.9s\n",
      "250:\tlearn: 3.1680670\ttotal: 4.79s\tremaining: 936ms\n",
      "299:\tlearn: 2.2478206\ttotal: 5.68s\tremaining: 0us\n",
      "0:\tlearn: 30.5647426\ttotal: 20ms\tremaining: 5.99s\n",
      "50:\tlearn: 14.1422627\ttotal: 1.04s\tremaining: 5.1s\n",
      "100:\tlearn: 10.1496189\ttotal: 2.08s\tremaining: 4.11s\n",
      "150:\tlearn: 7.4270062\ttotal: 3.15s\tremaining: 3.1s\n",
      "200:\tlearn: 5.6629294\ttotal: 4.22s\tremaining: 2.08s\n",
      "250:\tlearn: 4.4481358\ttotal: 5.25s\tremaining: 1.02s\n",
      "299:\tlearn: 3.4815636\ttotal: 6.23s\tremaining: 0us\n",
      "0:\tlearn: 31.9354855\ttotal: 22.3ms\tremaining: 6.66s\n",
      "50:\tlearn: 15.7061125\ttotal: 1.11s\tremaining: 5.42s\n",
      "100:\tlearn: 12.0751451\ttotal: 2.22s\tremaining: 4.38s\n",
      "150:\tlearn: 9.5035875\ttotal: 3.42s\tremaining: 3.37s\n",
      "200:\tlearn: 7.4828425\ttotal: 4.48s\tremaining: 2.21s\n",
      "250:\tlearn: 6.0778781\ttotal: 5.55s\tremaining: 1.08s\n",
      "299:\tlearn: 4.9268988\ttotal: 6.74s\tremaining: 0us\n",
      "0:\tlearn: 33.2376875\ttotal: 23.1ms\tremaining: 6.9s\n",
      "50:\tlearn: 16.6589769\ttotal: 1.18s\tremaining: 5.75s\n",
      "100:\tlearn: 12.8704233\ttotal: 2.33s\tremaining: 4.6s\n",
      "150:\tlearn: 10.2398732\ttotal: 3.51s\tremaining: 3.47s\n",
      "200:\tlearn: 8.4330235\ttotal: 4.65s\tremaining: 2.29s\n",
      "250:\tlearn: 7.1044037\ttotal: 5.81s\tremaining: 1.13s\n",
      "299:\tlearn: 5.8910982\ttotal: 6.97s\tremaining: 0us\n",
      "0:\tlearn: 28.5619961\ttotal: 339ms\tremaining: 33.5s\n",
      "50:\tlearn: 7.7662451\ttotal: 50.2s\tremaining: 48.3s\n",
      "99:\tlearn: 2.7667137\ttotal: 1m 40s\tremaining: 0us\n",
      "0:\tlearn: 29.2240212\ttotal: 1.21s\tremaining: 1m 59s\n",
      "50:\tlearn: 8.4985646\ttotal: 58.9s\tremaining: 56.6s\n",
      "99:\tlearn: 3.4187059\ttotal: 1m 57s\tremaining: 0us\n",
      "0:\tlearn: 30.7245700\ttotal: 1.47s\tremaining: 2m 25s\n",
      "50:\tlearn: 9.3006069\ttotal: 1m 8s\tremaining: 1m 5s\n",
      "99:\tlearn: 4.3551663\ttotal: 2m 15s\tremaining: 0us\n",
      "0:\tlearn: 31.9964755\ttotal: 1.49s\tremaining: 2m 27s\n",
      "50:\tlearn: 10.6438386\ttotal: 1m 17s\tremaining: 1m 14s\n",
      "99:\tlearn: 5.3102041\ttotal: 2m 30s\tremaining: 0us\n",
      "0:\tlearn: 33.3385169\ttotal: 1.6s\tremaining: 2m 38s\n",
      "50:\tlearn: 11.4169303\ttotal: 1m 22s\tremaining: 1m 19s\n",
      "99:\tlearn: 6.4123452\ttotal: 2m 42s\tremaining: 0us\n",
      "0:\tlearn: 28.5619961\ttotal: 364ms\tremaining: 1m 48s\n",
      "50:\tlearn: 7.7662451\ttotal: 55.6s\tremaining: 4m 31s\n",
      "100:\tlearn: 2.7125464\ttotal: 1m 51s\tremaining: 3m 40s\n",
      "150:\tlearn: 1.1546796\ttotal: 2m 43s\tremaining: 2m 41s\n",
      "200:\tlearn: 0.5794859\ttotal: 3m 24s\tremaining: 1m 40s\n",
      "250:\tlearn: 0.2846294\ttotal: 4m 15s\tremaining: 49.9s\n",
      "299:\tlearn: 0.1398535\ttotal: 5m 7s\tremaining: 0us\n",
      "0:\tlearn: 29.2240212\ttotal: 1.33s\tremaining: 6m 38s\n",
      "50:\tlearn: 8.4985646\ttotal: 1m 7s\tremaining: 5m 27s\n",
      "100:\tlearn: 3.3504677\ttotal: 2m 10s\tremaining: 4m 16s\n",
      "150:\tlearn: 1.5787452\ttotal: 3m 10s\tremaining: 3m 8s\n",
      "200:\tlearn: 0.8254980\ttotal: 4m 11s\tremaining: 2m 3s\n",
      "250:\tlearn: 0.4692830\ttotal: 5m 10s\tremaining: 1m\n",
      "299:\tlearn: 0.2721802\ttotal: 6m 10s\tremaining: 0us\n",
      "0:\tlearn: 30.7245700\ttotal: 1.36s\tremaining: 6m 46s\n",
      "50:\tlearn: 9.3006069\ttotal: 1m 10s\tremaining: 5m 44s\n",
      "100:\tlearn: 4.2960926\ttotal: 2m 21s\tremaining: 4m 38s\n",
      "150:\tlearn: 2.3273295\ttotal: 3m 31s\tremaining: 3m 28s\n",
      "200:\tlearn: 1.3978659\ttotal: 4m 40s\tremaining: 2m 18s\n",
      "250:\tlearn: 0.8177597\ttotal: 5m 49s\tremaining: 1m 8s\n",
      "299:\tlearn: 0.5250173\ttotal: 6m 59s\tremaining: 0us\n",
      "0:\tlearn: 31.9964755\ttotal: 1.52s\tremaining: 7m 35s\n",
      "50:\tlearn: 10.6438386\ttotal: 1m 19s\tremaining: 6m 25s\n",
      "100:\tlearn: 5.2559740\ttotal: 2m 36s\tremaining: 5m 9s\n",
      "150:\tlearn: 3.0214617\ttotal: 3m 55s\tremaining: 3m 52s\n",
      "200:\tlearn: 1.8391475\ttotal: 5m 12s\tremaining: 2m 34s\n",
      "250:\tlearn: 1.1013563\ttotal: 6m 28s\tremaining: 1m 15s\n",
      "299:\tlearn: 0.7183007\ttotal: 7m 47s\tremaining: 0us\n",
      "0:\tlearn: 33.3385169\ttotal: 1.62s\tremaining: 8m 5s\n",
      "50:\tlearn: 11.4169303\ttotal: 1m 22s\tremaining: 6m 41s\n",
      "100:\tlearn: 6.3650657\ttotal: 2m 42s\tremaining: 5m 19s\n",
      "150:\tlearn: 3.8354582\ttotal: 3m 58s\tremaining: 3m 54s\n",
      "200:\tlearn: 2.6001271\ttotal: 5m 12s\tremaining: 2m 33s\n",
      "250:\tlearn: 1.7190957\ttotal: 6m 25s\tremaining: 1m 15s\n",
      "299:\tlearn: 1.2018824\ttotal: 7m 37s\tremaining: 0us\n",
      "0:\tlearn: 36.8095526\ttotal: 44.6ms\tremaining: 13.3s\n",
      "50:\tlearn: 19.2249177\ttotal: 1.56s\tremaining: 7.64s\n",
      "100:\tlearn: 15.6263665\ttotal: 3.15s\tremaining: 6.2s\n",
      "150:\tlearn: 12.6559523\ttotal: 4.74s\tremaining: 4.67s\n",
      "200:\tlearn: 10.3450542\ttotal: 6.27s\tremaining: 3.09s\n",
      "250:\tlearn: 8.8402546\ttotal: 7.8s\tremaining: 1.52s\n",
      "299:\tlearn: 7.5114223\ttotal: 9.36s\tremaining: 0us\n",
      "CPU times: user 52min 41s, sys: 36min 26s, total: 1h 29min 8s\n",
      "Wall time: 1h 29min 44s\n"
     ]
    },
    {
     "data": {
      "text/plain": [
       "GridSearchCV(cv=TimeSeriesSplit(gap=0, max_train_size=None, n_splits=5, test_size=None),\n",
       "             estimator=<catboost.core.CatBoostRegressor object at 0x7f1616683d60>,\n",
       "             n_jobs=-1,\n",
       "             param_grid={'learning_rate': [0.03, 0.1], 'max_depth': [10, 15],\n",
       "                         'n_estimators': [100, 300]})"
      ]
     },
     "execution_count": 34,
     "metadata": {},
     "output_type": "execute_result"
    }
   ],
   "source": [
    "%%time\n",
    "grid_cat.fit(features_train, target_train)"
   ]
  },
  {
   "cell_type": "markdown",
   "metadata": {},
   "source": [
    "54min 15s"
   ]
  },
  {
   "cell_type": "code",
   "execution_count": 35,
   "metadata": {
    "scrolled": true
   },
   "outputs": [
    {
     "data": {
      "text/plain": [
       "{'learning_rate': 0.1, 'max_depth': 10, 'n_estimators': 300}"
      ]
     },
     "execution_count": 35,
     "metadata": {},
     "output_type": "execute_result"
    }
   ],
   "source": [
    "grid_cat.best_params_"
   ]
  },
  {
   "cell_type": "markdown",
   "metadata": {},
   "source": [
    "Сохраним модель CatBoost с лучшими гиперпараметрами"
   ]
  },
  {
   "cell_type": "code",
   "execution_count": 36,
   "metadata": {},
   "outputs": [],
   "source": [
    "model_cat = grid_cat.best_estimator_"
   ]
  },
  {
   "cell_type": "markdown",
   "metadata": {},
   "source": [
    "#### Создадим модель LightGBM"
   ]
  },
  {
   "cell_type": "code",
   "execution_count": 37,
   "metadata": {},
   "outputs": [],
   "source": [
    "model_lgbm = LGBMRegressor()"
   ]
  },
  {
   "cell_type": "code",
   "execution_count": 38,
   "metadata": {},
   "outputs": [],
   "source": [
    "grid_lgbm = GridSearchCV(estimator = model_lgbm, param_grid = params_lgbm, cv = tscv, n_jobs=-1)"
   ]
  },
  {
   "cell_type": "code",
   "execution_count": 39,
   "metadata": {
    "scrolled": true
   },
   "outputs": [
    {
     "name": "stdout",
     "output_type": "stream",
     "text": [
      "CPU times: user 10min 54s, sys: 0 ns, total: 10min 54s\n",
      "Wall time: 10min 59s\n"
     ]
    },
    {
     "data": {
      "text/plain": [
       "GridSearchCV(cv=TimeSeriesSplit(gap=0, max_train_size=None, n_splits=5, test_size=None),\n",
       "             estimator=LGBMRegressor(), n_jobs=-1,\n",
       "             param_grid={'learning_rate': [0.01, 0.1], 'max_depth': [5, 10, 15],\n",
       "                         'n_estimators': [100, 300]})"
      ]
     },
     "execution_count": 39,
     "metadata": {},
     "output_type": "execute_result"
    }
   ],
   "source": [
    "%%time\n",
    "grid_lgbm.fit(features_train, target_train)"
   ]
  },
  {
   "cell_type": "code",
   "execution_count": 40,
   "metadata": {},
   "outputs": [
    {
     "data": {
      "text/plain": [
       "{'learning_rate': 0.1, 'max_depth': 5, 'n_estimators': 100}"
      ]
     },
     "execution_count": 40,
     "metadata": {},
     "output_type": "execute_result"
    }
   ],
   "source": [
    "grid_lgbm.best_params_"
   ]
  },
  {
   "cell_type": "markdown",
   "metadata": {},
   "source": [
    "Сохраним модель LightGBM с лучшими гиперпараметрами"
   ]
  },
  {
   "cell_type": "code",
   "execution_count": 41,
   "metadata": {},
   "outputs": [
    {
     "data": {
      "text/plain": [
       "LGBMRegressor(max_depth=5)"
      ]
     },
     "execution_count": 41,
     "metadata": {},
     "output_type": "execute_result"
    }
   ],
   "source": [
    "model_lgbm = grid_lgbm.best_estimator_\n",
    "model_lgbm"
   ]
  },
  {
   "cell_type": "markdown",
   "metadata": {},
   "source": [
    "### Проверим качество работы моделей на кроссвалидации"
   ]
  },
  {
   "cell_type": "markdown",
   "metadata": {},
   "source": [
    "Создадим словарь, в котором перечислим полученные модели"
   ]
  },
  {
   "cell_type": "code",
   "execution_count": 42,
   "metadata": {},
   "outputs": [],
   "source": [
    "dict = {'RF' : model_rf,\n",
    "        'CatBoost' : model_cat,\n",
    "        'LightGBM' : model_lgbm\n",
    "       }"
   ]
  },
  {
   "cell_type": "markdown",
   "metadata": {},
   "source": [
    "Создадим таблицу для сохранения дальнейших резузьтатов"
   ]
  },
  {
   "cell_type": "code",
   "execution_count": 43,
   "metadata": {},
   "outputs": [
    {
     "data": {
      "text/html": [
       "<div>\n",
       "<style scoped>\n",
       "    .dataframe tbody tr th:only-of-type {\n",
       "        vertical-align: middle;\n",
       "    }\n",
       "\n",
       "    .dataframe tbody tr th {\n",
       "        vertical-align: top;\n",
       "    }\n",
       "\n",
       "    .dataframe thead th {\n",
       "        text-align: right;\n",
       "    }\n",
       "</style>\n",
       "<table border=\"1\" class=\"dataframe\">\n",
       "  <thead>\n",
       "    <tr style=\"text-align: right;\">\n",
       "      <th></th>\n",
       "      <th>model</th>\n",
       "      <th>RMSE</th>\n",
       "      <th>std</th>\n",
       "      <th>time_fit</th>\n",
       "    </tr>\n",
       "  </thead>\n",
       "  <tbody>\n",
       "    <tr>\n",
       "      <th>RF</th>\n",
       "      <td>NaN</td>\n",
       "      <td>NaN</td>\n",
       "      <td>NaN</td>\n",
       "      <td>NaN</td>\n",
       "    </tr>\n",
       "    <tr>\n",
       "      <th>CatBoost</th>\n",
       "      <td>NaN</td>\n",
       "      <td>NaN</td>\n",
       "      <td>NaN</td>\n",
       "      <td>NaN</td>\n",
       "    </tr>\n",
       "    <tr>\n",
       "      <th>LightGBM</th>\n",
       "      <td>NaN</td>\n",
       "      <td>NaN</td>\n",
       "      <td>NaN</td>\n",
       "      <td>NaN</td>\n",
       "    </tr>\n",
       "  </tbody>\n",
       "</table>\n",
       "</div>"
      ],
      "text/plain": [
       "         model RMSE  std time_fit\n",
       "RF         NaN  NaN  NaN      NaN\n",
       "CatBoost   NaN  NaN  NaN      NaN\n",
       "LightGBM   NaN  NaN  NaN      NaN"
      ]
     },
     "execution_count": 43,
     "metadata": {},
     "output_type": "execute_result"
    }
   ],
   "source": [
    "results = pd.DataFrame(index = dict.keys(), columns=['model', 'RMSE', 'std', 'time_fit'])\n",
    "results"
   ]
  },
  {
   "cell_type": "markdown",
   "metadata": {},
   "source": [
    "Создадим цикл, в котором прогоним последовательно модели на кроссвалидации и сохраним метрику RMSE и время предсказания в таблицу"
   ]
  },
  {
   "cell_type": "code",
   "execution_count": 44,
   "metadata": {},
   "outputs": [
    {
     "name": "stdout",
     "output_type": "stream",
     "text": [
      "RandomForestRegressor(max_depth=15, n_estimators=50, random_state=12345)\n",
      "<catboost.core.CatBoostRegressor object at 0x7f16166425b0>\n",
      "0:\tlearn: 28.2980973\ttotal: 16.3ms\tremaining: 4.87s\n",
      "50:\tlearn: 10.1280424\ttotal: 818ms\tremaining: 3.99s\n",
      "100:\tlearn: 6.0132058\ttotal: 1.59s\tremaining: 3.14s\n",
      "150:\tlearn: 4.0459660\ttotal: 2.37s\tremaining: 2.34s\n",
      "200:\tlearn: 2.8891318\ttotal: 3.16s\tremaining: 1.56s\n",
      "250:\tlearn: 1.9306231\ttotal: 3.94s\tremaining: 769ms\n",
      "299:\tlearn: 1.2990577\ttotal: 4.7s\tremaining: 0us\n",
      "0:\tlearn: 28.9851334\ttotal: 19.5ms\tremaining: 5.82s\n",
      "50:\tlearn: 12.5181577\ttotal: 919ms\tremaining: 4.49s\n",
      "100:\tlearn: 8.3576757\ttotal: 1.84s\tremaining: 3.64s\n",
      "150:\tlearn: 6.0757274\ttotal: 2.85s\tremaining: 2.82s\n",
      "200:\tlearn: 4.3635413\ttotal: 3.76s\tremaining: 1.85s\n",
      "250:\tlearn: 3.1680670\ttotal: 4.64s\tremaining: 906ms\n",
      "299:\tlearn: 2.2478206\ttotal: 5.55s\tremaining: 0us\n",
      "0:\tlearn: 30.5647426\ttotal: 20.2ms\tremaining: 6.04s\n",
      "50:\tlearn: 14.1422627\ttotal: 1s\tremaining: 4.89s\n",
      "100:\tlearn: 10.1496189\ttotal: 2.01s\tremaining: 3.97s\n",
      "150:\tlearn: 7.4270062\ttotal: 2.99s\tremaining: 2.95s\n",
      "200:\tlearn: 5.6629294\ttotal: 3.96s\tremaining: 1.95s\n",
      "250:\tlearn: 4.4481358\ttotal: 4.95s\tremaining: 966ms\n",
      "299:\tlearn: 3.4815636\ttotal: 5.94s\tremaining: 0us\n",
      "0:\tlearn: 31.9354855\ttotal: 25.1ms\tremaining: 7.49s\n",
      "50:\tlearn: 15.7061125\ttotal: 1.11s\tremaining: 5.4s\n",
      "100:\tlearn: 12.0751451\ttotal: 2.18s\tremaining: 4.29s\n",
      "150:\tlearn: 9.5035875\ttotal: 3.25s\tremaining: 3.2s\n",
      "200:\tlearn: 7.4828425\ttotal: 4.36s\tremaining: 2.15s\n",
      "250:\tlearn: 6.0778781\ttotal: 5.47s\tremaining: 1.07s\n",
      "299:\tlearn: 4.9268988\ttotal: 6.52s\tremaining: 0us\n",
      "0:\tlearn: 33.2376875\ttotal: 25ms\tremaining: 7.49s\n",
      "50:\tlearn: 16.6589769\ttotal: 1.21s\tremaining: 5.93s\n",
      "100:\tlearn: 12.8704233\ttotal: 2.4s\tremaining: 4.74s\n",
      "150:\tlearn: 10.2398732\ttotal: 3.66s\tremaining: 3.61s\n",
      "200:\tlearn: 8.4330235\ttotal: 4.83s\tremaining: 2.38s\n",
      "250:\tlearn: 7.1044037\ttotal: 6s\tremaining: 1.17s\n",
      "299:\tlearn: 5.8910982\ttotal: 7.13s\tremaining: 0us\n",
      "LGBMRegressor(max_depth=5)\n"
     ]
    }
   ],
   "source": [
    "for index, model in dict.items():\n",
    "    results.loc[index]['model'] = index\n",
    "    print(model)\n",
    "    time_start = time.time() # фиксируем время начала обучения\n",
    "    cv = cross_val_score(model, features_train, target_train, cv=tscv, scoring='neg_root_mean_squared_error')\n",
    "    results.loc[index]['time_fit'] = round((time.time() - time_start),2)\n",
    "    results.loc[index]['RMSE'] = round(abs(cv.mean()),3)\n",
    "    results.loc[index]['std'] = round(abs(cv.std()),3)"
   ]
  },
  {
   "cell_type": "code",
   "execution_count": 45,
   "metadata": {
    "scrolled": true
   },
   "outputs": [],
   "source": [
    "results.sort_values(by='RMSE', ascending=True, inplace=True)"
   ]
  },
  {
   "cell_type": "markdown",
   "metadata": {},
   "source": [
    "Построим графим полученных результатов"
   ]
  },
  {
   "cell_type": "code",
   "execution_count": 46,
   "metadata": {},
   "outputs": [
    {
     "data": {
      "image/png": "[encoded data removed]",
      "text/plain": [
       "<Figure size 720x360 with 1 Axes>"
      ]
     },
     "metadata": {
      "needs_background": "light"
     },
     "output_type": "display_data"
    }
   ],
   "source": [
    "fig, ax = plt.subplots(figsize=(10,5))\n",
    "ax = sns.barplot(data=results, x='model', y='RMSE')\n",
    "for i, rmse in enumerate(results.RMSE):\n",
    "    ax.text(i,rmse,round(rmse, 1),  verticalalignment='bottom', horizontalalignment='center')\n",
    "for i, time in enumerate(results.time_fit):\n",
    "    ax.text(i,5,round(time, 1),  verticalalignment='bottom', horizontalalignment='center')    \n",
    "plt.title('Метрика RMSE в разрезе моделей предсказаний')\n",
    "plt.xlabel('Модель')\n",
    "plt.show()"
   ]
  },
  {
   "cell_type": "markdown",
   "metadata": {},
   "source": [
    "Вывод: из графика видно, что наилучший показатель метрики **RMSE** на кроссвалидации показала модель **LightGBM.**  "
   ]
  },
  {
   "cell_type": "markdown",
   "metadata": {},
   "source": [
    "## Тестирование"
   ]
  },
  {
   "cell_type": "markdown",
   "metadata": {},
   "source": [
    "Проведем итоговое тестирование **LightGBM**, которая показала наилучшие данные на кроссвалидации"
   ]
  },
  {
   "cell_type": "code",
   "execution_count": 48,
   "metadata": {},
   "outputs": [
    {
     "data": {
      "text/plain": [
       "LGBMRegressor(max_depth=5)"
      ]
     },
     "execution_count": 48,
     "metadata": {},
     "output_type": "execute_result"
    }
   ],
   "source": [
    "model_lgbm.fit(features_train,target_train)"
   ]
  },
  {
   "cell_type": "code",
   "execution_count": 49,
   "metadata": {
    "scrolled": true
   },
   "outputs": [
    {
     "data": {
      "text/plain": [
       "array([100.46396499, 129.7341783 , 144.69908343, 108.04233347,\n",
       "       108.53696258, 106.26815042, 109.54414704, 148.80436955,\n",
       "       140.16847748, 199.94324443, 158.13914467, 159.07690497,\n",
       "       176.5161953 , 131.5713789 ,  71.51068577,  50.22584959,\n",
       "        45.22535049,  92.00584594, 104.401735  , 130.73335116,\n",
       "       127.39242513,  93.5093899 , 102.34131793,  90.6654019 ,\n",
       "       110.24547117, 145.75955893, 136.78342281, 100.51202794,\n",
       "        99.89836649, 111.04528323, 129.7943588 , 116.94545007,\n",
       "       126.48054733, 173.36209685, 185.6775393 , 182.62875647,\n",
       "       138.42918295, 142.26373144,  77.88713321,  68.19681779,\n",
       "        51.50532005,  84.05842751, 130.7075047 , 128.70005309,\n",
       "       110.41081249, 109.47046109, 105.25014759,  90.36787659,\n",
       "       102.95177469, 167.36694377, 153.41976839,  89.66156237,\n",
       "        99.93649473, 111.64930041, 122.27591305, 126.5999302 ,\n",
       "       131.18218605, 198.28960219, 156.63837075, 206.90048558,\n",
       "       192.53146361, 146.76720666,  96.30102379,  80.50220763,\n",
       "        55.68559774,  88.83922111, 131.51243623, 151.52926931,\n",
       "       141.68684195, 105.22228365, 119.55618598,  89.16653631,\n",
       "       101.02889511, 155.80715307, 142.79124012,  92.11262742,\n",
       "       101.70705558, 114.03487529, 120.55943719, 121.03566556,\n",
       "       146.20753161, 193.63459696, 167.27523631, 197.22235615,\n",
       "       189.37866314, 140.21022804,  68.397443  ,  54.40248017,\n",
       "        45.79709638,  83.93762559, 130.05362243, 127.37220787,\n",
       "       124.71300105, 102.19865983, 105.75934697, 107.62806941,\n",
       "       124.35151903, 146.85940327, 131.89592863,  99.49465532,\n",
       "       109.96568205, 108.21927009, 125.82568355, 147.43277521,\n",
       "       154.82472191, 199.27112251, 192.3935806 , 196.75184421,\n",
       "       167.04149619, 149.46156273,  64.65202702,  50.76662816,\n",
       "        44.81258529,  91.53132632, 120.89996972, 131.64326916,\n",
       "       103.96852365,  90.70719587,  95.44416091,  88.50800897,\n",
       "       111.58109793, 158.43115439, 131.2700625 ,  83.49412697,\n",
       "        90.81240788, 100.93504943, 121.8098671 , 127.69583191,\n",
       "       156.14470102, 158.76670467, 158.06261985, 163.440712  ,\n",
       "       110.53985507, 128.33223161,  84.90721301,  50.81842092,\n",
       "        43.33011513,  83.78879144, 114.38717484, 121.65003662,\n",
       "       101.15638376,  87.95130181,  92.11358854, 111.10950555,\n",
       "       112.92916457, 146.16399731, 106.7627982 ,  95.96615185,\n",
       "        85.87700144,  94.31990778, 121.1650098 , 135.76005049,\n",
       "       140.50968505, 210.56639856, 221.24356107, 219.67085883,\n",
       "       199.72903511, 166.49415525,  92.72209236,  70.3705218 ,\n",
       "        47.15180041,  86.2464767 , 130.98962953, 139.73897766,\n",
       "       138.70749293, 123.57395257, 109.67877088, 116.74778595,\n",
       "       101.29524756, 146.22646453, 127.51997764, 100.22306705,\n",
       "        98.33598444, 114.43146428, 131.28784053, 136.94682151,\n",
       "       150.41064325, 193.37985525, 201.94551553, 215.06648748,\n",
       "       179.53967527, 147.48735899,  92.97902766,  61.09898809,\n",
       "        57.42463407,  99.23489693, 123.32860713, 130.94894843,\n",
       "       122.71956005,  97.67782948, 104.466852  ,  95.78302708,\n",
       "       112.44411394, 120.1099625 , 135.29066694,  98.80183484,\n",
       "        80.30651143, 109.44652086, 119.69824741, 134.9354978 ,\n",
       "       123.0584658 , 198.96714222, 188.05561443, 183.39606629,\n",
       "       146.06550118, 136.91176571,  78.12684316,  50.23300306,\n",
       "        56.33085207,  74.27743974, 128.88158643, 140.81790194,\n",
       "       106.34012331, 109.27264522, 104.61584592, 105.46218183,\n",
       "       113.88972305, 122.6744549 , 114.54462444,  82.77777588,\n",
       "       119.11793994, 104.14935078, 123.8781649 , 130.77925181,\n",
       "       140.97754948, 184.78719367, 165.97129823, 203.8545438 ,\n",
       "       196.76123057, 165.76267775,  90.21511056,  53.62473317,\n",
       "        36.504767  ,  94.64818696, 126.94113535, 144.05432271,\n",
       "       114.5638206 , 112.84466274, 110.47648117,  88.89692662,\n",
       "       111.08637493, 154.71398402, 144.46283782,  87.48347589,\n",
       "       124.26566824, 114.31716491, 122.3128101 , 125.17527323,\n",
       "       137.17029244, 192.07362651, 195.79399366, 209.46882434,\n",
       "       186.11675202, 151.31380031,  58.88521737,  44.08637035,\n",
       "        58.76818374, 105.51882419, 125.18183755, 125.33675872,\n",
       "       116.73880093, 112.5386577 ,  91.29888373, 113.52542522,\n",
       "       127.09929949, 143.81895525, 156.09354358,  96.30177213,\n",
       "       130.45274013, 125.56129157, 145.02260636, 144.56624833,\n",
       "       163.63888618, 204.19748299, 194.20322061, 188.8052712 ,\n",
       "       172.00693179, 154.76427154,  77.08477359,  66.87110505,\n",
       "        48.22413854,  83.16609112, 117.89381089, 137.7564438 ,\n",
       "       109.99901734,  95.54294071, 105.91471291,  95.5484718 ,\n",
       "       113.52730774, 147.26444716, 144.20615916,  83.34891672,\n",
       "        97.06786859, 102.88954432, 130.27205231, 129.10764652,\n",
       "       137.47598875, 197.71532943, 189.96252432, 194.01090375,\n",
       "       169.2360499 , 150.45552223,  60.9464291 ,  38.87925605,\n",
       "        33.78700868,  94.07117238, 119.79600733, 120.11054009,\n",
       "       107.60572912,  89.78360657, 106.56199249, 104.67191458,\n",
       "       150.70290596, 134.80761543, 137.66596436,  94.70278288,\n",
       "       100.52296192,  94.88512371, 133.36102346, 119.50632403,\n",
       "       146.60055568, 231.21993135, 196.29169862, 220.37926655,\n",
       "       207.31408662, 172.79469762,  93.33181902,  54.65486228,\n",
       "        45.07521254,  93.17741078, 139.71725058, 140.17359421,\n",
       "       115.82063107, 122.30645169, 119.07023642, 101.72030095,\n",
       "       122.8837153 , 161.57051561, 135.97516625, 127.2480751 ,\n",
       "       117.02497973, 138.0553921 , 144.05736103, 138.05096482,\n",
       "       168.58523225, 203.55640157, 207.56315387, 218.99060396,\n",
       "       157.79028025, 133.85013639,  78.02521883,  47.53970132,\n",
       "        56.08931789,  95.4031965 , 131.66520658, 129.78830858,\n",
       "       102.18762002, 105.6401145 , 118.07949404,  95.67415652,\n",
       "       125.40553705, 125.03457884, 107.93350612, 145.20315662,\n",
       "       114.08389994, 116.23594   , 127.88578479, 151.01339854,\n",
       "       139.77998294, 215.46480051, 199.41615674, 207.1506861 ,\n",
       "       190.27851336, 137.94617665,  74.39588382,  40.65678077,\n",
       "        50.84224581, 104.77353379, 144.76798956, 136.28403557,\n",
       "       114.4945416 , 102.714936  , 102.00416124, 103.23093076,\n",
       "       146.77812005, 134.59650563, 138.66164403, 127.03232623,\n",
       "       119.85096577, 127.13823863, 152.7878124 , 149.97486033,\n",
       "       163.60607285, 214.58062656, 209.59346049, 216.54154008,\n",
       "       193.02829421, 160.4997648 ,  98.40107206,  58.90315155,\n",
       "        50.81630051, 104.78723328, 142.18417432, 147.2960202 ,\n",
       "       124.11688163, 119.62121025, 123.42733992,  99.07185579,\n",
       "       126.52161022, 156.82922927, 137.32421824, 117.44314277,\n",
       "       137.68718988, 106.1871941 , 136.14064803, 156.06949448,\n",
       "       148.94261118, 216.46628957, 193.29855955, 210.32552691,\n",
       "       183.86987235, 142.83617985,  72.19107372,  59.87606882,\n",
       "        46.9709992 ,  94.53764293, 147.12595176, 130.9662054 ,\n",
       "       125.14051411, 120.75267132, 104.72851088, 114.41099055,\n",
       "       125.49935038, 150.73670592, 149.42560753, 127.49915799,\n",
       "       139.15368036, 145.09249526, 147.13552501, 140.81895415,\n",
       "       160.12824911])"
      ]
     },
     "execution_count": 49,
     "metadata": {},
     "output_type": "execute_result"
    }
   ],
   "source": [
    "predict_lgbm = model_lgbm.predict(features_test)\n",
    "predict_lgbm"
   ]
  },
  {
   "cell_type": "markdown",
   "metadata": {},
   "source": [
    "Рассчитаем целевую метрику **RMSE**"
   ]
  },
  {
   "cell_type": "code",
   "execution_count": 50,
   "metadata": {},
   "outputs": [
    {
     "data": {
      "text/plain": [
       "'показатель RMSE на тестовых данных 42.79366602909476'"
      ]
     },
     "execution_count": 50,
     "metadata": {},
     "output_type": "execute_result"
    }
   ],
   "source": [
    "rsme_lgbm = mean_squared_error(target_test, predict_lgbm) ** 0.5\n",
    "f'показатель RMSE на тестовых данных {rsme_lgbm}'"
   ]
  },
  {
   "cell_type": "markdown",
   "metadata": {},
   "source": [
    "## Вывод"
   ]
  },
  {
   "cell_type": "markdown",
   "metadata": {},
   "source": [
    "В нашем распоряжении были данные о количестве заказов такси за период с **01.03.2018 по 31.08.2018.** Необходимо было построить модель обучения для эффективного определения для прогнозирования заказов такси на следующий час.\n",
    "\n",
    "В ходе выполнения работы мы проанализировали данные, выявили закономерности в количестве заказов такси в зависимости от дня недели, дня месяца и общий рост количества заказов в летний период.\n",
    "\n",
    "Также в данных были созданы дополнительные признаки:  \n",
    "- месяц;  \n",
    "- день;  \n",
    "- день недели;  \n",
    "- час, чтобы модель получала в какой час было это количество заказов, т.к. целевая задача предсказать на следующий час;  \n",
    "- размер отставания;  \n",
    "- размер окна сдвига.  \n",
    "чтобы модель лучше обучилась.\n",
    "\n",
    "В результате выполнения работы мы рассмотрели работу нескольких моделей машиного обучения:\n",
    "- Случайный лес;\n",
    "- LightGBM;\n",
    "- CatBoost.\n",
    "\n",
    "Для каждой модели был подобран оптимальный набор гиперпараметров алгоритмом **GridSearchCV**.\n",
    "  \n",
    "  Для кроссвалидации использовал **TimeSeriesSplit** т.к. фолды не должны перемешиватся.  \n",
    "  \n",
    "При проверке на кроссвалидации наилучший результат по показателю **RMSE** показала модель **LightGBM**. \n",
    "\n",
    "На тестовых данных модель **LightGBM** показала **RMSE** = 42.79.  \n",
    "Условием задачи было получить метрику **RMSE** не более 48.  \n",
    "**Целевая задача выполнена.**"
   ]
  }
 ],
 "metadata": {
  "ExecuteTimeLog": [
   {
    "duration": 1567,
    "start_time": "2023-01-22T19:27:06.585Z"
   },
   {
    "duration": 140,
    "start_time": "2023-01-22T19:27:16.109Z"
   },
   {
    "duration": 40,
    "start_time": "2023-01-22T19:27:26.509Z"
   },
   {
    "duration": 38,
    "start_time": "2023-01-22T19:27:32.973Z"
   },
   {
    "duration": 17,
    "start_time": "2023-01-22T19:27:36.003Z"
   },
   {
    "duration": 286,
    "start_time": "2023-01-22T19:27:55.347Z"
   },
   {
    "duration": 12,
    "start_time": "2023-01-22T19:28:06.559Z"
   },
   {
    "duration": 10,
    "start_time": "2023-01-22T19:28:18.013Z"
   },
   {
    "duration": 4,
    "start_time": "2023-01-22T19:28:23.474Z"
   },
   {
    "duration": 4,
    "start_time": "2023-01-22T19:28:35.043Z"
   },
   {
    "duration": 9,
    "start_time": "2023-01-22T19:28:42.054Z"
   },
   {
    "duration": 4,
    "start_time": "2023-01-22T19:28:50.196Z"
   },
   {
    "duration": 664,
    "start_time": "2023-01-22T19:28:59.938Z"
   },
   {
    "duration": 7,
    "start_time": "2023-01-22T19:29:09.668Z"
   },
   {
    "duration": 4,
    "start_time": "2023-01-22T19:29:18.469Z"
   },
   {
    "duration": 8,
    "start_time": "2023-01-22T19:29:26.770Z"
   },
   {
    "duration": 5,
    "start_time": "2023-01-22T19:29:41.015Z"
   },
   {
    "duration": 21,
    "start_time": "2023-01-22T19:29:48.368Z"
   },
   {
    "duration": 12,
    "start_time": "2023-01-22T19:30:17.059Z"
   },
   {
    "duration": 20,
    "start_time": "2023-01-22T19:30:19.392Z"
   },
   {
    "duration": 14,
    "start_time": "2023-01-22T19:30:41.918Z"
   },
   {
    "duration": 6,
    "start_time": "2023-01-22T19:30:54.231Z"
   },
   {
    "duration": 5,
    "start_time": "2023-01-22T19:31:11.191Z"
   },
   {
    "duration": 5,
    "start_time": "2023-01-22T19:31:18.741Z"
   },
   {
    "duration": 4,
    "start_time": "2023-01-22T19:31:30.103Z"
   },
   {
    "duration": 6,
    "start_time": "2023-01-22T19:31:38.374Z"
   },
   {
    "duration": 4,
    "start_time": "2023-01-22T19:31:51.142Z"
   },
   {
    "duration": 3,
    "start_time": "2023-01-22T19:31:56.255Z"
   },
   {
    "duration": 5,
    "start_time": "2023-01-22T19:32:03.077Z"
   },
   {
    "duration": 3,
    "start_time": "2023-01-22T19:32:08.713Z"
   },
   {
    "duration": 13,
    "start_time": "2023-01-22T19:32:15.544Z"
   },
   {
    "duration": 5,
    "start_time": "2023-01-22T19:32:24.439Z"
   },
   {
    "duration": 2,
    "start_time": "2023-01-22T19:32:35.329Z"
   },
   {
    "duration": 1594,
    "start_time": "2023-01-23T10:04:41.599Z"
   },
   {
    "duration": 138,
    "start_time": "2023-01-23T10:04:43.195Z"
   },
   {
    "duration": 13,
    "start_time": "2023-01-23T10:04:43.334Z"
   },
   {
    "duration": 40,
    "start_time": "2023-01-23T10:04:43.349Z"
   },
   {
    "duration": 33,
    "start_time": "2023-01-23T10:04:43.391Z"
   },
   {
    "duration": 37,
    "start_time": "2023-01-23T10:04:43.426Z"
   },
   {
    "duration": 53,
    "start_time": "2023-01-23T10:04:43.465Z"
   },
   {
    "duration": 73,
    "start_time": "2023-01-23T10:04:43.520Z"
   },
   {
    "duration": 812,
    "start_time": "2023-01-23T10:04:43.595Z"
   },
   {
    "duration": 8,
    "start_time": "2023-01-23T10:04:44.410Z"
   },
   {
    "duration": 29,
    "start_time": "2023-01-23T10:04:44.420Z"
   },
   {
    "duration": 50,
    "start_time": "2023-01-23T10:04:44.450Z"
   },
   {
    "duration": 47,
    "start_time": "2023-01-23T10:04:44.501Z"
   },
   {
    "duration": 46,
    "start_time": "2023-01-23T10:04:44.550Z"
   },
   {
    "duration": 54,
    "start_time": "2023-01-23T10:04:44.598Z"
   },
   {
    "duration": 19,
    "start_time": "2023-01-23T10:04:44.654Z"
   },
   {
    "duration": 38,
    "start_time": "2023-01-23T10:04:44.675Z"
   },
   {
    "duration": 23,
    "start_time": "2023-01-23T10:04:44.715Z"
   },
   {
    "duration": 34,
    "start_time": "2023-01-23T10:04:44.740Z"
   },
   {
    "duration": 49,
    "start_time": "2023-01-23T10:04:44.776Z"
   },
   {
    "duration": 38,
    "start_time": "2023-01-23T10:04:44.827Z"
   },
   {
    "duration": 52,
    "start_time": "2023-01-23T10:04:44.866Z"
   },
   {
    "duration": 7,
    "start_time": "2023-01-23T10:04:49.782Z"
   },
   {
    "duration": 2,
    "start_time": "2023-01-23T10:06:49.776Z"
   },
   {
    "duration": 8,
    "start_time": "2023-01-23T10:07:43.019Z"
   },
   {
    "duration": 123,
    "start_time": "2023-01-23T10:08:23.009Z"
   },
   {
    "duration": 15,
    "start_time": "2023-01-23T10:08:27.974Z"
   },
   {
    "duration": 20,
    "start_time": "2023-01-23T10:08:50.279Z"
   },
   {
    "duration": 68,
    "start_time": "2023-01-23T10:14:10.327Z"
   },
   {
    "duration": 39,
    "start_time": "2023-01-23T10:14:26.472Z"
   },
   {
    "duration": 46,
    "start_time": "2023-01-23T10:14:33.443Z"
   },
   {
    "duration": 4,
    "start_time": "2023-01-23T10:14:41.319Z"
   },
   {
    "duration": 4,
    "start_time": "2023-01-23T10:14:46.131Z"
   },
   {
    "duration": 4,
    "start_time": "2023-01-23T10:14:55.371Z"
   },
   {
    "duration": 3,
    "start_time": "2023-01-23T10:14:58.281Z"
   },
   {
    "duration": 4,
    "start_time": "2023-01-23T10:15:15.609Z"
   },
   {
    "duration": 4,
    "start_time": "2023-01-23T10:15:25.558Z"
   },
   {
    "duration": 10,
    "start_time": "2023-01-23T10:15:29.611Z"
   },
   {
    "duration": 4,
    "start_time": "2023-01-23T10:15:36.069Z"
   },
   {
    "duration": 2,
    "start_time": "2023-01-23T10:15:56.948Z"
   },
   {
    "duration": 11,
    "start_time": "2023-01-23T10:16:01.529Z"
   },
   {
    "duration": 10,
    "start_time": "2023-01-23T10:16:08.799Z"
   },
   {
    "duration": 9,
    "start_time": "2023-01-23T10:16:12.380Z"
   },
   {
    "duration": 4,
    "start_time": "2023-01-23T10:16:17.369Z"
   },
   {
    "duration": 9,
    "start_time": "2023-01-23T10:16:29.720Z"
   },
   {
    "duration": 5,
    "start_time": "2023-01-23T10:16:33.941Z"
   },
   {
    "duration": 50,
    "start_time": "2023-01-23T10:16:55.400Z"
   },
   {
    "duration": 4,
    "start_time": "2023-01-23T10:18:50.930Z"
   },
   {
    "duration": 3,
    "start_time": "2023-01-23T10:20:47.018Z"
   },
   {
    "duration": 3,
    "start_time": "2023-01-23T10:20:47.600Z"
   },
   {
    "duration": 3,
    "start_time": "2023-01-23T10:21:17.878Z"
   },
   {
    "duration": 3,
    "start_time": "2023-01-23T10:21:28.217Z"
   },
   {
    "duration": 3,
    "start_time": "2023-01-23T10:21:31.526Z"
   },
   {
    "duration": 6,
    "start_time": "2023-01-23T10:21:34.189Z"
   },
   {
    "duration": 17,
    "start_time": "2023-01-23T10:22:15.328Z"
   },
   {
    "duration": 49,
    "start_time": "2023-01-23T10:23:08.530Z"
   },
   {
    "duration": 3,
    "start_time": "2023-01-23T10:23:14.521Z"
   },
   {
    "duration": 20,
    "start_time": "2023-01-23T10:23:17.108Z"
   },
   {
    "duration": 3,
    "start_time": "2023-01-23T10:23:45.271Z"
   },
   {
    "duration": 15,
    "start_time": "2023-01-23T10:23:47.080Z"
   },
   {
    "duration": 3,
    "start_time": "2023-01-23T10:26:09.515Z"
   },
   {
    "duration": 4,
    "start_time": "2023-01-23T10:26:12.923Z"
   },
   {
    "duration": 10202,
    "start_time": "2023-01-23T10:26:13.480Z"
   },
   {
    "duration": 4,
    "start_time": "2023-01-23T10:26:35.640Z"
   },
   {
    "duration": 1146,
    "start_time": "2023-01-23T19:40:39.201Z"
   },
   {
    "duration": 6,
    "start_time": "2023-01-23T19:40:48.100Z"
   },
   {
    "duration": 8,
    "start_time": "2023-01-23T19:41:01.979Z"
   },
   {
    "duration": 184,
    "start_time": "2023-01-23T19:41:01.990Z"
   },
   {
    "duration": 25,
    "start_time": "2023-01-23T19:41:02.177Z"
   },
   {
    "duration": 66,
    "start_time": "2023-01-23T19:41:02.205Z"
   },
   {
    "duration": 42,
    "start_time": "2023-01-23T19:41:02.275Z"
   },
   {
    "duration": 19,
    "start_time": "2023-01-23T19:41:02.319Z"
   },
   {
    "duration": 21,
    "start_time": "2023-01-23T19:41:02.341Z"
   },
   {
    "duration": 8,
    "start_time": "2023-01-23T19:41:02.364Z"
   },
   {
    "duration": 1001,
    "start_time": "2023-01-23T19:41:02.374Z"
   },
   {
    "duration": 19,
    "start_time": "2023-01-23T19:41:03.377Z"
   },
   {
    "duration": 41,
    "start_time": "2023-01-23T19:41:03.399Z"
   },
   {
    "duration": 27,
    "start_time": "2023-01-23T19:41:03.442Z"
   },
   {
    "duration": 69,
    "start_time": "2023-01-23T19:41:03.471Z"
   },
   {
    "duration": 14,
    "start_time": "2023-01-23T19:41:03.544Z"
   },
   {
    "duration": 39,
    "start_time": "2023-01-23T19:41:03.561Z"
   },
   {
    "duration": 44,
    "start_time": "2023-01-23T19:41:03.605Z"
   },
   {
    "duration": 41,
    "start_time": "2023-01-23T19:41:03.652Z"
   },
   {
    "duration": 36,
    "start_time": "2023-01-23T19:41:03.696Z"
   },
   {
    "duration": 41,
    "start_time": "2023-01-23T19:41:03.735Z"
   },
   {
    "duration": 41,
    "start_time": "2023-01-23T19:41:03.778Z"
   },
   {
    "duration": 34,
    "start_time": "2023-01-23T19:41:03.821Z"
   },
   {
    "duration": 40,
    "start_time": "2023-01-23T19:41:03.857Z"
   },
   {
    "duration": 6,
    "start_time": "2023-01-23T19:41:08.143Z"
   },
   {
    "duration": 4,
    "start_time": "2023-01-23T19:41:28.301Z"
   },
   {
    "duration": 4,
    "start_time": "2023-01-23T19:41:36.227Z"
   },
   {
    "duration": 8,
    "start_time": "2023-01-23T19:41:42.645Z"
   },
   {
    "duration": 12,
    "start_time": "2023-01-23T19:42:11.980Z"
   },
   {
    "duration": 196,
    "start_time": "2023-01-23T19:42:19.447Z"
   },
   {
    "duration": 53,
    "start_time": "2023-01-23T19:43:23.346Z"
   },
   {
    "duration": 24,
    "start_time": "2023-01-23T19:43:41.483Z"
   },
   {
    "duration": 5,
    "start_time": "2023-01-23T19:45:39.966Z"
   },
   {
    "duration": 22,
    "start_time": "2023-01-23T19:45:41.009Z"
   },
   {
    "duration": 22,
    "start_time": "2023-01-23T19:46:23.057Z"
   },
   {
    "duration": 4,
    "start_time": "2023-01-23T19:46:47.945Z"
   },
   {
    "duration": 8,
    "start_time": "2023-01-23T19:46:53.627Z"
   },
   {
    "duration": 8,
    "start_time": "2023-01-23T19:47:07.317Z"
   },
   {
    "duration": 5,
    "start_time": "2023-01-23T19:47:16.920Z"
   },
   {
    "duration": 11,
    "start_time": "2023-01-23T19:47:44.695Z"
   },
   {
    "duration": 6,
    "start_time": "2023-01-23T19:47:45.360Z"
   },
   {
    "duration": 5,
    "start_time": "2023-01-23T19:47:46.005Z"
   },
   {
    "duration": 5,
    "start_time": "2023-01-23T19:47:54.467Z"
   },
   {
    "duration": 5,
    "start_time": "2023-01-23T19:48:44.577Z"
   },
   {
    "duration": 6,
    "start_time": "2023-01-23T19:48:48.816Z"
   },
   {
    "duration": 3,
    "start_time": "2023-01-23T19:48:53.645Z"
   },
   {
    "duration": 6,
    "start_time": "2023-01-23T19:48:54.066Z"
   },
   {
    "duration": 4,
    "start_time": "2023-01-23T19:48:54.269Z"
   },
   {
    "duration": 5,
    "start_time": "2023-01-23T19:55:36.968Z"
   },
   {
    "duration": 21,
    "start_time": "2023-01-23T19:56:01.282Z"
   },
   {
    "duration": 3,
    "start_time": "2023-01-23T19:56:20.161Z"
   },
   {
    "duration": 3,
    "start_time": "2023-01-23T19:56:21.999Z"
   },
   {
    "duration": 22,
    "start_time": "2023-01-23T19:56:24.709Z"
   },
   {
    "duration": 7,
    "start_time": "2023-01-23T19:56:55.424Z"
   },
   {
    "duration": 4,
    "start_time": "2023-01-23T19:56:58.372Z"
   },
   {
    "duration": 5,
    "start_time": "2023-01-23T19:57:07.352Z"
   },
   {
    "duration": 3,
    "start_time": "2023-01-23T19:57:15.453Z"
   },
   {
    "duration": 5,
    "start_time": "2023-01-23T19:57:17.102Z"
   },
   {
    "duration": 5,
    "start_time": "2023-01-23T19:57:17.330Z"
   },
   {
    "duration": 4,
    "start_time": "2023-01-23T19:57:17.798Z"
   },
   {
    "duration": 7,
    "start_time": "2023-01-23T19:57:18.671Z"
   },
   {
    "duration": 3,
    "start_time": "2023-01-23T19:57:30.909Z"
   },
   {
    "duration": 4,
    "start_time": "2023-01-23T19:57:31.271Z"
   },
   {
    "duration": 9,
    "start_time": "2023-01-23T19:57:31.607Z"
   },
   {
    "duration": 4,
    "start_time": "2023-01-23T19:57:31.977Z"
   },
   {
    "duration": 5,
    "start_time": "2023-01-23T19:57:32.398Z"
   },
   {
    "duration": 3,
    "start_time": "2023-01-23T19:57:33.206Z"
   },
   {
    "duration": 6,
    "start_time": "2023-01-23T19:57:34.508Z"
   },
   {
    "duration": 1698,
    "start_time": "2023-01-23T19:57:50.948Z"
   },
   {
    "duration": 42,
    "start_time": "2023-01-23T19:57:52.648Z"
   },
   {
    "duration": 13,
    "start_time": "2023-01-23T19:57:52.692Z"
   },
   {
    "duration": 14,
    "start_time": "2023-01-23T19:57:52.707Z"
   },
   {
    "duration": 9,
    "start_time": "2023-01-23T19:57:52.723Z"
   },
   {
    "duration": 12,
    "start_time": "2023-01-23T19:57:52.734Z"
   },
   {
    "duration": 37,
    "start_time": "2023-01-23T19:57:52.749Z"
   },
   {
    "duration": 5,
    "start_time": "2023-01-23T19:57:52.791Z"
   },
   {
    "duration": 1032,
    "start_time": "2023-01-23T19:57:52.798Z"
   },
   {
    "duration": 12,
    "start_time": "2023-01-23T19:57:53.834Z"
   },
   {
    "duration": 17,
    "start_time": "2023-01-23T19:57:53.850Z"
   },
   {
    "duration": 22,
    "start_time": "2023-01-23T19:57:53.870Z"
   },
   {
    "duration": 23,
    "start_time": "2023-01-23T19:57:53.895Z"
   },
   {
    "duration": 12,
    "start_time": "2023-01-23T19:57:53.920Z"
   },
   {
    "duration": 52,
    "start_time": "2023-01-23T19:57:53.934Z"
   },
   {
    "duration": 20,
    "start_time": "2023-01-23T19:57:53.988Z"
   },
   {
    "duration": 9,
    "start_time": "2023-01-23T19:57:54.009Z"
   },
   {
    "duration": 11,
    "start_time": "2023-01-23T19:57:54.020Z"
   },
   {
    "duration": 15,
    "start_time": "2023-01-23T19:57:54.033Z"
   },
   {
    "duration": 12,
    "start_time": "2023-01-23T19:57:54.050Z"
   },
   {
    "duration": 4,
    "start_time": "2023-01-23T19:57:54.085Z"
   },
   {
    "duration": 20,
    "start_time": "2023-01-23T19:57:54.091Z"
   },
   {
    "duration": 7,
    "start_time": "2023-01-23T19:57:54.113Z"
   },
   {
    "duration": 5,
    "start_time": "2023-01-23T19:57:54.123Z"
   },
   {
    "duration": 12,
    "start_time": "2023-01-23T19:57:54.130Z"
   },
   {
    "duration": 11,
    "start_time": "2023-01-23T19:57:54.145Z"
   },
   {
    "duration": 27,
    "start_time": "2023-01-23T19:57:54.159Z"
   },
   {
    "duration": 7,
    "start_time": "2023-01-23T19:57:54.190Z"
   },
   {
    "duration": 6,
    "start_time": "2023-01-23T19:57:56.906Z"
   },
   {
    "duration": 145,
    "start_time": "2023-01-23T19:57:57.419Z"
   },
   {
    "duration": 11,
    "start_time": "2023-01-23T19:57:57.837Z"
   },
   {
    "duration": 5,
    "start_time": "2023-01-23T19:58:09.264Z"
   },
   {
    "duration": 5,
    "start_time": "2023-01-23T19:58:10.009Z"
   },
   {
    "duration": 206,
    "start_time": "2023-01-23T19:58:21.721Z"
   },
   {
    "duration": 22888,
    "start_time": "2023-01-23T19:58:36.500Z"
   },
   {
    "duration": 6,
    "start_time": "2023-01-23T20:00:57.740Z"
   },
   {
    "duration": 5,
    "start_time": "2023-01-23T20:01:04.749Z"
   },
   {
    "duration": 4,
    "start_time": "2023-01-23T20:01:53.447Z"
   },
   {
    "duration": 6,
    "start_time": "2023-01-23T20:02:44.181Z"
   },
   {
    "duration": 17,
    "start_time": "2023-01-23T20:03:01.415Z"
   },
   {
    "duration": 5,
    "start_time": "2023-01-23T20:04:46.753Z"
   },
   {
    "duration": 5,
    "start_time": "2023-01-23T20:06:13.358Z"
   },
   {
    "duration": 4,
    "start_time": "2023-01-23T20:06:13.931Z"
   },
   {
    "duration": 21460,
    "start_time": "2023-01-23T20:06:50.879Z"
   },
   {
    "duration": 5,
    "start_time": "2023-01-23T20:07:12.341Z"
   },
   {
    "duration": 3,
    "start_time": "2023-01-23T20:07:24.794Z"
   },
   {
    "duration": 3,
    "start_time": "2023-01-23T20:07:42.332Z"
   },
   {
    "duration": 3,
    "start_time": "2023-01-23T20:08:06.349Z"
   },
   {
    "duration": 142227,
    "start_time": "2023-01-23T20:08:16.857Z"
   },
   {
    "duration": 3,
    "start_time": "2023-01-23T20:10:39.086Z"
   },
   {
    "duration": 3,
    "start_time": "2023-01-23T20:14:07.679Z"
   },
   {
    "duration": 2,
    "start_time": "2023-01-23T20:14:13.748Z"
   },
   {
    "duration": 3,
    "start_time": "2023-01-23T20:14:14.227Z"
   },
   {
    "duration": 1254265,
    "start_time": "2023-01-23T20:14:15.102Z"
   },
   {
    "duration": 0,
    "start_time": "2023-01-23T20:35:09.371Z"
   },
   {
    "duration": 5,
    "start_time": "2023-01-23T20:35:29.983Z"
   },
   {
    "duration": 3,
    "start_time": "2023-01-23T20:35:36.464Z"
   },
   {
    "duration": 3,
    "start_time": "2023-01-23T20:35:37.506Z"
   },
   {
    "duration": 3,
    "start_time": "2023-01-23T20:35:51.602Z"
   },
   {
    "duration": 1651,
    "start_time": "2023-01-23T20:36:11.801Z"
   },
   {
    "duration": 48,
    "start_time": "2023-01-23T20:36:13.454Z"
   },
   {
    "duration": 13,
    "start_time": "2023-01-23T20:36:13.504Z"
   },
   {
    "duration": 12,
    "start_time": "2023-01-23T20:36:13.520Z"
   },
   {
    "duration": 20,
    "start_time": "2023-01-23T20:36:13.534Z"
   },
   {
    "duration": 7,
    "start_time": "2023-01-23T20:36:13.556Z"
   },
   {
    "duration": 23,
    "start_time": "2023-01-23T20:36:13.565Z"
   },
   {
    "duration": 19,
    "start_time": "2023-01-23T20:36:13.593Z"
   },
   {
    "duration": 860,
    "start_time": "2023-01-23T20:36:13.614Z"
   },
   {
    "duration": 18,
    "start_time": "2023-01-23T20:36:14.477Z"
   },
   {
    "duration": 5,
    "start_time": "2023-01-23T20:36:14.502Z"
   },
   {
    "duration": 17,
    "start_time": "2023-01-23T20:36:14.508Z"
   },
   {
    "duration": 20,
    "start_time": "2023-01-23T20:36:14.527Z"
   },
   {
    "duration": 7,
    "start_time": "2023-01-23T20:36:14.549Z"
   },
   {
    "duration": 48,
    "start_time": "2023-01-23T20:36:14.558Z"
   },
   {
    "duration": 15,
    "start_time": "2023-01-23T20:36:14.609Z"
   },
   {
    "duration": 9,
    "start_time": "2023-01-23T20:36:14.626Z"
   },
   {
    "duration": 6,
    "start_time": "2023-01-23T20:36:14.637Z"
   },
   {
    "duration": 7,
    "start_time": "2023-01-23T20:36:14.645Z"
   },
   {
    "duration": 39,
    "start_time": "2023-01-23T20:36:14.654Z"
   },
   {
    "duration": 13,
    "start_time": "2023-01-23T20:36:14.695Z"
   },
   {
    "duration": 14,
    "start_time": "2023-01-23T20:36:14.709Z"
   },
   {
    "duration": 6,
    "start_time": "2023-01-23T20:36:14.725Z"
   },
   {
    "duration": 9,
    "start_time": "2023-01-23T20:36:14.733Z"
   },
   {
    "duration": 7,
    "start_time": "2023-01-23T20:36:14.744Z"
   },
   {
    "duration": 7,
    "start_time": "2023-01-23T20:36:14.753Z"
   },
   {
    "duration": 8,
    "start_time": "2023-01-23T20:36:14.762Z"
   },
   {
    "duration": 20,
    "start_time": "2023-01-23T20:36:14.774Z"
   },
   {
    "duration": 6,
    "start_time": "2023-01-23T20:36:14.797Z"
   },
   {
    "duration": 22557,
    "start_time": "2023-01-23T20:36:14.805Z"
   },
   {
    "duration": 4,
    "start_time": "2023-01-23T20:36:37.365Z"
   },
   {
    "duration": 26,
    "start_time": "2023-01-23T20:36:37.383Z"
   },
   {
    "duration": 4,
    "start_time": "2023-01-23T20:36:40.266Z"
   },
   {
    "duration": 11,
    "start_time": "2023-01-23T20:36:42.388Z"
   },
   {
    "duration": 2130987,
    "start_time": "2023-01-23T20:36:43.140Z"
   },
   {
    "duration": 5,
    "start_time": "2023-01-23T21:12:14.130Z"
   },
   {
    "duration": 5,
    "start_time": "2023-01-23T21:12:38.563Z"
   },
   {
    "duration": 6,
    "start_time": "2023-01-23T21:15:03.629Z"
   },
   {
    "duration": 5,
    "start_time": "2023-01-23T21:15:13.863Z"
   },
   {
    "duration": 3,
    "start_time": "2023-01-23T21:15:43.279Z"
   },
   {
    "duration": 4,
    "start_time": "2023-01-23T21:16:24.835Z"
   },
   {
    "duration": 9215421,
    "start_time": "2023-01-23T21:16:36.975Z"
   },
   {
    "duration": 4,
    "start_time": "2023-01-23T23:50:12.400Z"
   },
   {
    "duration": 13,
    "start_time": "2023-01-23T23:50:12.406Z"
   },
   {
    "duration": 8,
    "start_time": "2023-01-23T23:50:12.421Z"
   },
   {
    "duration": 6,
    "start_time": "2023-01-24T04:44:23.869Z"
   },
   {
    "duration": 5,
    "start_time": "2023-01-24T04:45:37.861Z"
   },
   {
    "duration": 6,
    "start_time": "2023-01-24T04:46:33.300Z"
   },
   {
    "duration": 5,
    "start_time": "2023-01-24T04:47:05.832Z"
   },
   {
    "duration": 3,
    "start_time": "2023-01-24T04:47:36.388Z"
   },
   {
    "duration": 5,
    "start_time": "2023-01-24T04:47:42.087Z"
   },
   {
    "duration": 42,
    "start_time": "2023-01-24T04:47:58.230Z"
   },
   {
    "duration": 3,
    "start_time": "2023-01-24T04:48:03.488Z"
   },
   {
    "duration": 21635,
    "start_time": "2023-01-24T04:48:04.876Z"
   },
   {
    "duration": 5,
    "start_time": "2023-01-24T04:48:26.513Z"
   },
   {
    "duration": 6,
    "start_time": "2023-01-24T04:48:52.903Z"
   },
   {
    "duration": 4,
    "start_time": "2023-01-24T04:49:03.668Z"
   },
   {
    "duration": 3,
    "start_time": "2023-01-24T04:49:20.925Z"
   },
   {
    "duration": 209,
    "start_time": "2023-01-24T04:49:22.107Z"
   },
   {
    "duration": 4,
    "start_time": "2023-01-24T04:50:04.637Z"
   },
   {
    "duration": 62,
    "start_time": "2023-01-24T04:50:05.332Z"
   },
   {
    "duration": 4,
    "start_time": "2023-01-24T05:04:01.207Z"
   },
   {
    "duration": 2,
    "start_time": "2023-01-24T05:06:13.378Z"
   },
   {
    "duration": 21106,
    "start_time": "2023-01-24T05:06:18.884Z"
   },
   {
    "duration": 2390,
    "start_time": "2023-01-24T05:06:55.580Z"
   },
   {
    "duration": 5,
    "start_time": "2023-01-24T05:07:25.234Z"
   },
   {
    "duration": 4,
    "start_time": "2023-01-24T05:07:33.484Z"
   },
   {
    "duration": 2367,
    "start_time": "2023-01-24T05:07:40.144Z"
   },
   {
    "duration": 5,
    "start_time": "2023-01-24T05:07:42.513Z"
   },
   {
    "duration": 1805,
    "start_time": "2023-01-24T11:26:20.509Z"
   },
   {
    "duration": 187,
    "start_time": "2023-01-24T11:26:34.819Z"
   },
   {
    "duration": 10,
    "start_time": "2023-01-24T11:26:39.078Z"
   },
   {
    "duration": 2,
    "start_time": "2023-01-24T11:26:40.528Z"
   },
   {
    "duration": 55,
    "start_time": "2023-01-24T11:27:48.679Z"
   },
   {
    "duration": 43,
    "start_time": "2023-01-24T11:27:54.491Z"
   },
   {
    "duration": 3,
    "start_time": "2023-01-24T11:28:00.219Z"
   },
   {
    "duration": 11,
    "start_time": "2023-01-24T11:28:01.999Z"
   },
   {
    "duration": 4,
    "start_time": "2023-01-24T11:28:24.330Z"
   },
   {
    "duration": 857,
    "start_time": "2023-01-24T11:28:24.543Z"
   },
   {
    "duration": 133,
    "start_time": "2023-01-24T11:28:26.909Z"
   },
   {
    "duration": 101,
    "start_time": "2023-01-24T11:28:47.725Z"
   },
   {
    "duration": 44,
    "start_time": "2023-01-24T11:28:51.150Z"
   },
   {
    "duration": 200,
    "start_time": "2023-01-24T11:28:51.619Z"
   },
   {
    "duration": 233,
    "start_time": "2023-01-24T11:28:52.680Z"
   },
   {
    "duration": 9,
    "start_time": "2023-01-24T11:28:55.799Z"
   },
   {
    "duration": 13,
    "start_time": "2023-01-24T11:28:56.080Z"
   },
   {
    "duration": 16,
    "start_time": "2023-01-24T11:28:56.390Z"
   },
   {
    "duration": 31,
    "start_time": "2023-01-24T11:28:57.029Z"
   },
   {
    "duration": 8,
    "start_time": "2023-01-24T11:28:59.983Z"
   },
   {
    "duration": 21,
    "start_time": "2023-01-24T11:29:00.926Z"
   },
   {
    "duration": 23,
    "start_time": "2023-01-24T11:29:04.164Z"
   },
   {
    "duration": 13,
    "start_time": "2023-01-24T11:29:07.085Z"
   },
   {
    "duration": 5,
    "start_time": "2023-01-24T11:29:07.805Z"
   },
   {
    "duration": 3,
    "start_time": "2023-01-24T11:29:08.251Z"
   },
   {
    "duration": 5,
    "start_time": "2023-01-24T11:29:09.401Z"
   },
   {
    "duration": 3,
    "start_time": "2023-01-24T11:29:09.720Z"
   },
   {
    "duration": 19,
    "start_time": "2023-01-24T11:29:10.359Z"
   },
   {
    "duration": 6,
    "start_time": "2023-01-24T11:29:13.620Z"
   },
   {
    "duration": 3,
    "start_time": "2023-01-24T11:29:20.197Z"
   },
   {
    "duration": 3,
    "start_time": "2023-01-24T11:29:20.399Z"
   },
   {
    "duration": 3,
    "start_time": "2023-01-24T11:29:21.734Z"
   },
   {
    "duration": 3,
    "start_time": "2023-01-24T11:29:22.021Z"
   },
   {
    "duration": 6,
    "start_time": "2023-01-24T11:39:37.901Z"
   },
   {
    "duration": 2677,
    "start_time": "2023-01-24T11:39:53.941Z"
   },
   {
    "duration": 7,
    "start_time": "2023-01-24T11:39:59.173Z"
   },
   {
    "duration": 4,
    "start_time": "2023-01-24T11:40:05.328Z"
   },
   {
    "duration": 57,
    "start_time": "2023-01-24T11:40:51.531Z"
   },
   {
    "duration": 4,
    "start_time": "2023-01-24T11:41:14.040Z"
   },
   {
    "duration": 4,
    "start_time": "2023-01-24T11:41:19.978Z"
   },
   {
    "duration": 22262,
    "start_time": "2023-01-24T11:41:38.291Z"
   },
   {
    "duration": 4,
    "start_time": "2023-01-24T11:42:10.378Z"
   },
   {
    "duration": 5,
    "start_time": "2023-01-24T11:42:24.995Z"
   },
   {
    "duration": 4,
    "start_time": "2023-01-24T11:43:23.260Z"
   },
   {
    "duration": 2400,
    "start_time": "2023-01-24T11:43:42.371Z"
   },
   {
    "duration": 4,
    "start_time": "2023-01-24T11:43:47.400Z"
   },
   {
    "duration": 5,
    "start_time": "2023-01-24T11:43:57.024Z"
   },
   {
    "duration": 2178,
    "start_time": "2023-01-24T11:44:41.591Z"
   },
   {
    "duration": 5,
    "start_time": "2023-01-24T11:44:43.771Z"
   },
   {
    "duration": 4,
    "start_time": "2023-01-24T11:44:49.198Z"
   },
   {
    "duration": 4,
    "start_time": "2023-01-24T11:45:35.711Z"
   },
   {
    "duration": 5,
    "start_time": "2023-01-24T11:46:05.691Z"
   },
   {
    "duration": 22044,
    "start_time": "2023-01-24T11:46:11.640Z"
   },
   {
    "duration": 5,
    "start_time": "2023-01-24T11:46:33.687Z"
   },
   {
    "duration": 12,
    "start_time": "2023-01-24T11:46:33.693Z"
   },
   {
    "duration": 144968,
    "start_time": "2023-01-24T11:46:33.707Z"
   },
   {
    "duration": 5,
    "start_time": "2023-01-24T11:48:58.677Z"
   },
   {
    "duration": 20,
    "start_time": "2023-01-24T11:50:21.792Z"
   },
   {
    "duration": 4635,
    "start_time": "2023-01-24T11:51:03.481Z"
   },
   {
    "duration": 9,
    "start_time": "2023-01-24T11:51:12.442Z"
   },
   {
    "duration": 10,
    "start_time": "2023-01-24T11:51:55.800Z"
   },
   {
    "duration": 8,
    "start_time": "2023-01-24T11:52:16.362Z"
   },
   {
    "duration": 30269,
    "start_time": "2023-01-24T11:52:57.597Z"
   },
   {
    "duration": 15,
    "start_time": "2023-01-24T11:53:31.693Z"
   },
   {
    "duration": 4,
    "start_time": "2023-01-24T11:53:46.193Z"
   },
   {
    "duration": 5,
    "start_time": "2023-01-24T11:54:03.919Z"
   },
   {
    "duration": 1447,
    "start_time": "2023-01-24T11:54:58.332Z"
   },
   {
    "duration": 44,
    "start_time": "2023-01-24T11:55:00.944Z"
   },
   {
    "duration": 3,
    "start_time": "2023-01-24T11:55:01.562Z"
   },
   {
    "duration": 11,
    "start_time": "2023-01-24T11:55:03.140Z"
   },
   {
    "duration": 4,
    "start_time": "2023-01-24T11:55:03.415Z"
   },
   {
    "duration": 748,
    "start_time": "2023-01-24T11:55:04.551Z"
   },
   {
    "duration": 12,
    "start_time": "2023-01-24T11:55:05.301Z"
   },
   {
    "duration": 200,
    "start_time": "2023-01-24T11:55:05.315Z"
   },
   {
    "duration": 195,
    "start_time": "2023-01-24T11:55:07.534Z"
   },
   {
    "duration": 6,
    "start_time": "2023-01-24T11:55:09.469Z"
   },
   {
    "duration": 5,
    "start_time": "2023-01-24T11:55:11.041Z"
   },
   {
    "duration": 84,
    "start_time": "2023-01-24T11:56:19.502Z"
   },
   {
    "duration": 31,
    "start_time": "2023-01-24T11:56:19.982Z"
   },
   {
    "duration": 16,
    "start_time": "2023-01-24T11:56:23.542Z"
   },
   {
    "duration": 21,
    "start_time": "2023-01-24T11:56:24.650Z"
   },
   {
    "duration": 14,
    "start_time": "2023-01-24T11:56:25.818Z"
   },
   {
    "duration": 5,
    "start_time": "2023-01-24T11:56:26.587Z"
   },
   {
    "duration": 6,
    "start_time": "2023-01-24T11:56:28.180Z"
   },
   {
    "duration": 2,
    "start_time": "2023-01-24T11:56:28.927Z"
   },
   {
    "duration": 9,
    "start_time": "2023-01-24T11:56:29.299Z"
   },
   {
    "duration": 2,
    "start_time": "2023-01-24T11:56:29.714Z"
   },
   {
    "duration": 21,
    "start_time": "2023-01-24T11:56:30.050Z"
   },
   {
    "duration": 10,
    "start_time": "2023-01-24T11:56:30.676Z"
   },
   {
    "duration": 2,
    "start_time": "2023-01-24T11:56:35.114Z"
   },
   {
    "duration": 3,
    "start_time": "2023-01-24T11:56:35.359Z"
   },
   {
    "duration": 2,
    "start_time": "2023-01-24T11:56:35.670Z"
   },
   {
    "duration": 3,
    "start_time": "2023-01-24T11:56:36.558Z"
   },
   {
    "duration": 5,
    "start_time": "2023-01-24T11:56:51.409Z"
   },
   {
    "duration": 27115,
    "start_time": "2023-01-24T11:56:52.490Z"
   },
   {
    "duration": 130,
    "start_time": "2023-01-24T11:57:19.608Z"
   },
   {
    "duration": 0,
    "start_time": "2023-01-24T11:57:19.741Z"
   },
   {
    "duration": 5,
    "start_time": "2023-01-24T11:57:22.889Z"
   },
   {
    "duration": 4,
    "start_time": "2023-01-24T11:57:23.828Z"
   },
   {
    "duration": 3,
    "start_time": "2023-01-24T11:57:34.217Z"
   },
   {
    "duration": 3,
    "start_time": "2023-01-24T11:57:35.777Z"
   },
   {
    "duration": 297173,
    "start_time": "2023-01-24T11:57:36.788Z"
   },
   {
    "duration": 4,
    "start_time": "2023-01-24T12:02:33.963Z"
   },
   {
    "duration": 4,
    "start_time": "2023-01-24T12:02:45.167Z"
   },
   {
    "duration": 9828,
    "start_time": "2023-01-24T12:02:46.228Z"
   },
   {
    "duration": 7,
    "start_time": "2023-01-24T12:02:56.058Z"
   },
   {
    "duration": 65794,
    "start_time": "2023-01-24T12:03:10.956Z"
   },
   {
    "duration": 18,
    "start_time": "2023-01-24T12:04:16.752Z"
   },
   {
    "duration": 7,
    "start_time": "2023-01-24T12:04:16.772Z"
   },
   {
    "duration": 29080,
    "start_time": "2023-01-24T12:04:16.781Z"
   },
   {
    "duration": 93,
    "start_time": "2023-01-24T12:04:45.874Z"
   },
   {
    "duration": 5,
    "start_time": "2023-01-24T12:04:45.969Z"
   },
   {
    "duration": 5,
    "start_time": "2023-01-24T12:05:35.157Z"
   },
   {
    "duration": 14536,
    "start_time": "2023-01-24T12:05:35.929Z"
   },
   {
    "duration": 7,
    "start_time": "2023-01-24T12:05:50.467Z"
   },
   {
    "duration": 2783,
    "start_time": "2023-01-24T12:06:04.675Z"
   },
   {
    "duration": 98,
    "start_time": "2023-01-24T12:06:07.460Z"
   },
   {
    "duration": 6,
    "start_time": "2023-01-24T12:06:07.560Z"
   },
   {
    "duration": 5,
    "start_time": "2023-01-24T12:08:06.223Z"
   },
   {
    "duration": 5,
    "start_time": "2023-01-24T12:08:12.775Z"
   },
   {
    "duration": 12168,
    "start_time": "2023-01-24T12:08:13.896Z"
   },
   {
    "duration": 4,
    "start_time": "2023-01-24T12:08:26.067Z"
   },
   {
    "duration": 4,
    "start_time": "2023-01-24T12:08:36.024Z"
   },
   {
    "duration": 6981,
    "start_time": "2023-01-24T12:08:36.773Z"
   },
   {
    "duration": 4,
    "start_time": "2023-01-24T12:08:43.756Z"
   },
   {
    "duration": 5,
    "start_time": "2023-01-24T12:08:51.816Z"
   },
   {
    "duration": 9357,
    "start_time": "2023-01-24T12:08:52.116Z"
   },
   {
    "duration": 5,
    "start_time": "2023-01-24T12:09:01.555Z"
   },
   {
    "duration": 5,
    "start_time": "2023-01-24T12:09:21.577Z"
   },
   {
    "duration": 4,
    "start_time": "2023-01-24T12:09:43.295Z"
   },
   {
    "duration": 12494,
    "start_time": "2023-01-24T12:09:44.960Z"
   },
   {
    "duration": 4,
    "start_time": "2023-01-24T12:09:57.456Z"
   },
   {
    "duration": 1616,
    "start_time": "2023-01-24T19:21:46.023Z"
   },
   {
    "duration": 295,
    "start_time": "2023-01-24T19:21:47.641Z"
   },
   {
    "duration": 3,
    "start_time": "2023-01-24T19:21:47.937Z"
   },
   {
    "duration": 12,
    "start_time": "2023-01-24T19:21:49.219Z"
   },
   {
    "duration": 5,
    "start_time": "2023-01-24T19:21:55.056Z"
   },
   {
    "duration": 707,
    "start_time": "2023-01-24T19:21:55.886Z"
   },
   {
    "duration": 123,
    "start_time": "2023-01-24T19:21:58.294Z"
   },
   {
    "duration": 9,
    "start_time": "2023-01-24T19:22:08.635Z"
   },
   {
    "duration": 611,
    "start_time": "2023-01-24T19:22:13.696Z"
   },
   {
    "duration": 9,
    "start_time": "2023-01-24T19:22:17.992Z"
   },
   {
    "duration": 20,
    "start_time": "2023-01-24T19:22:21.244Z"
   },
   {
    "duration": 20,
    "start_time": "2023-01-24T19:22:24.158Z"
   },
   {
    "duration": 18,
    "start_time": "2023-01-24T19:22:30.282Z"
   },
   {
    "duration": 15,
    "start_time": "2023-01-24T19:23:42.882Z"
   },
   {
    "duration": 15,
    "start_time": "2023-01-24T20:34:42.144Z"
   },
   {
    "duration": 8,
    "start_time": "2023-01-24T20:34:56.325Z"
   },
   {
    "duration": 7,
    "start_time": "2023-01-24T20:35:00.753Z"
   },
   {
    "duration": 18,
    "start_time": "2023-01-24T20:35:02.952Z"
   },
   {
    "duration": 8,
    "start_time": "2023-01-24T20:35:05.745Z"
   },
   {
    "duration": 205,
    "start_time": "2023-01-24T20:35:07.877Z"
   },
   {
    "duration": 9,
    "start_time": "2023-01-24T20:35:15.830Z"
   },
   {
    "duration": 187,
    "start_time": "2023-01-24T20:35:16.930Z"
   },
   {
    "duration": 215,
    "start_time": "2023-01-24T20:35:26.001Z"
   },
   {
    "duration": 6,
    "start_time": "2023-01-24T20:35:33.214Z"
   },
   {
    "duration": 7,
    "start_time": "2023-01-24T20:35:38.991Z"
   },
   {
    "duration": 4,
    "start_time": "2023-01-24T20:35:39.449Z"
   },
   {
    "duration": 75,
    "start_time": "2023-01-24T20:35:40.769Z"
   },
   {
    "duration": 30,
    "start_time": "2023-01-24T20:35:41.372Z"
   },
   {
    "duration": 15,
    "start_time": "2023-01-24T20:35:45.347Z"
   },
   {
    "duration": 21,
    "start_time": "2023-01-24T20:35:46.201Z"
   },
   {
    "duration": 19,
    "start_time": "2023-01-24T20:36:00.453Z"
   },
   {
    "duration": 196,
    "start_time": "2023-01-24T20:36:07.093Z"
   },
   {
    "duration": 156,
    "start_time": "2023-01-24T20:36:15.869Z"
   },
   {
    "duration": 170,
    "start_time": "2023-01-24T20:36:27.193Z"
   },
   {
    "duration": 186,
    "start_time": "2023-01-24T20:36:45.715Z"
   },
   {
    "duration": 163,
    "start_time": "2023-01-24T20:37:28.812Z"
   },
   {
    "duration": 150,
    "start_time": "2023-01-24T20:37:41.656Z"
   },
   {
    "duration": 145,
    "start_time": "2023-01-24T20:38:44.963Z"
   },
   {
    "duration": 50,
    "start_time": "2023-01-24T20:38:48.395Z"
   },
   {
    "duration": 180,
    "start_time": "2023-01-24T20:38:51.000Z"
   },
   {
    "duration": 139,
    "start_time": "2023-01-24T20:38:59.575Z"
   },
   {
    "duration": 12,
    "start_time": "2023-01-24T20:39:15.106Z"
   },
   {
    "duration": 16,
    "start_time": "2023-01-24T20:39:22.005Z"
   },
   {
    "duration": 21,
    "start_time": "2023-01-24T20:39:42.032Z"
   },
   {
    "duration": 162,
    "start_time": "2023-01-24T20:39:45.209Z"
   },
   {
    "duration": 167,
    "start_time": "2023-01-24T20:39:54.567Z"
   },
   {
    "duration": 4,
    "start_time": "2023-01-24T20:40:42.302Z"
   },
   {
    "duration": 5,
    "start_time": "2023-01-24T20:41:05.628Z"
   },
   {
    "duration": 46,
    "start_time": "2023-01-24T20:41:41.388Z"
   },
   {
    "duration": 46,
    "start_time": "2023-01-24T20:41:46.499Z"
   },
   {
    "duration": 50,
    "start_time": "2023-01-24T20:41:56.808Z"
   },
   {
    "duration": 41,
    "start_time": "2023-01-24T20:42:08.324Z"
   },
   {
    "duration": 50,
    "start_time": "2023-01-24T20:43:48.168Z"
   },
   {
    "duration": 15,
    "start_time": "2023-01-24T20:43:57.999Z"
   },
   {
    "duration": 13,
    "start_time": "2023-01-24T20:44:03.668Z"
   },
   {
    "duration": 59,
    "start_time": "2023-01-24T20:44:14.077Z"
   },
   {
    "duration": 12,
    "start_time": "2023-01-24T20:44:19.061Z"
   },
   {
    "duration": 10,
    "start_time": "2023-01-24T20:44:26.790Z"
   },
   {
    "duration": 13,
    "start_time": "2023-01-24T20:44:37.564Z"
   },
   {
    "duration": 10,
    "start_time": "2023-01-24T20:44:41.333Z"
   },
   {
    "duration": 13,
    "start_time": "2023-01-24T20:45:27.167Z"
   },
   {
    "duration": 8,
    "start_time": "2023-01-24T20:45:38.968Z"
   },
   {
    "duration": 125,
    "start_time": "2023-01-24T20:45:46.853Z"
   },
   {
    "duration": 145,
    "start_time": "2023-01-24T20:45:56.879Z"
   },
   {
    "duration": 134,
    "start_time": "2023-01-24T20:46:00.274Z"
   },
   {
    "duration": 131,
    "start_time": "2023-01-24T20:46:20.203Z"
   },
   {
    "duration": 132,
    "start_time": "2023-01-24T20:47:00.892Z"
   },
   {
    "duration": 121,
    "start_time": "2023-01-24T20:47:09.965Z"
   },
   {
    "duration": 146,
    "start_time": "2023-01-24T20:47:14.067Z"
   },
   {
    "duration": 110,
    "start_time": "2023-01-24T20:47:17.977Z"
   },
   {
    "duration": 131,
    "start_time": "2023-01-24T20:47:20.997Z"
   },
   {
    "duration": 171,
    "start_time": "2023-01-24T20:47:58.388Z"
   },
   {
    "duration": 156,
    "start_time": "2023-01-24T20:48:22.101Z"
   },
   {
    "duration": 132,
    "start_time": "2023-01-24T20:48:38.779Z"
   },
   {
    "duration": 255,
    "start_time": "2023-01-24T20:51:05.276Z"
   },
   {
    "duration": 4,
    "start_time": "2023-01-24T20:51:39.746Z"
   },
   {
    "duration": 318,
    "start_time": "2023-01-24T20:52:03.878Z"
   },
   {
    "duration": 605,
    "start_time": "2023-01-24T20:53:26.052Z"
   },
   {
    "duration": 53,
    "start_time": "2023-01-24T20:55:46.901Z"
   },
   {
    "duration": 127,
    "start_time": "2023-01-24T20:56:36.042Z"
   },
   {
    "duration": 135,
    "start_time": "2023-01-24T20:57:01.442Z"
   },
   {
    "duration": 45,
    "start_time": "2023-01-24T20:57:52.409Z"
   },
   {
    "duration": 30,
    "start_time": "2023-01-24T20:59:34.663Z"
   },
   {
    "duration": 41,
    "start_time": "2023-01-24T21:00:13.569Z"
   },
   {
    "duration": 5321,
    "start_time": "2023-01-24T21:00:58.669Z"
   },
   {
    "duration": 41,
    "start_time": "2023-01-24T21:01:14.582Z"
   },
   {
    "duration": 3,
    "start_time": "2023-01-24T21:01:14.904Z"
   },
   {
    "duration": 7,
    "start_time": "2023-01-24T21:01:16.241Z"
   },
   {
    "duration": 5,
    "start_time": "2023-01-24T21:01:18.207Z"
   },
   {
    "duration": 1034,
    "start_time": "2023-01-24T21:01:19.099Z"
   },
   {
    "duration": 10,
    "start_time": "2023-01-24T21:01:41.999Z"
   },
   {
    "duration": 586,
    "start_time": "2023-01-24T21:02:41.184Z"
   },
   {
    "duration": 38,
    "start_time": "2023-01-24T21:03:20.185Z"
   },
   {
    "duration": 8,
    "start_time": "2023-01-24T21:03:25.949Z"
   },
   {
    "duration": 180,
    "start_time": "2023-01-24T21:03:26.580Z"
   },
   {
    "duration": 188,
    "start_time": "2023-01-24T21:04:36.555Z"
   },
   {
    "duration": 15,
    "start_time": "2023-01-24T21:05:03.587Z"
   },
   {
    "duration": 5,
    "start_time": "2023-01-24T21:06:34.000Z"
   },
   {
    "duration": 111,
    "start_time": "2023-01-24T21:08:34.471Z"
   },
   {
    "duration": 129,
    "start_time": "2023-01-24T21:08:40.096Z"
   },
   {
    "duration": 3,
    "start_time": "2023-01-24T21:09:12.948Z"
   },
   {
    "duration": 58,
    "start_time": "2023-01-24T21:09:41.602Z"
   },
   {
    "duration": 4,
    "start_time": "2023-01-24T21:09:41.787Z"
   },
   {
    "duration": 3,
    "start_time": "2023-01-24T21:10:20.337Z"
   },
   {
    "duration": 36,
    "start_time": "2023-01-24T21:11:28.490Z"
   },
   {
    "duration": 52,
    "start_time": "2023-01-24T21:12:09.238Z"
   },
   {
    "duration": 39,
    "start_time": "2023-01-24T21:12:19.893Z"
   },
   {
    "duration": 147,
    "start_time": "2023-01-24T21:12:20.917Z"
   },
   {
    "duration": 298,
    "start_time": "2023-01-24T21:12:22.112Z"
   },
   {
    "duration": 124,
    "start_time": "2023-01-24T21:12:23.328Z"
   },
   {
    "duration": 29,
    "start_time": "2023-01-24T21:12:28.562Z"
   },
   {
    "duration": 6,
    "start_time": "2023-01-24T21:13:41.206Z"
   },
   {
    "duration": 5,
    "start_time": "2023-01-24T21:14:09.735Z"
   },
   {
    "duration": 3,
    "start_time": "2023-01-24T21:14:10.026Z"
   },
   {
    "duration": 9,
    "start_time": "2023-01-24T21:15:04.437Z"
   },
   {
    "duration": 10,
    "start_time": "2023-01-24T21:15:07.396Z"
   },
   {
    "duration": 6,
    "start_time": "2023-01-24T21:15:11.460Z"
   },
   {
    "duration": 2,
    "start_time": "2023-01-24T21:15:12.162Z"
   },
   {
    "duration": 7,
    "start_time": "2023-01-24T21:15:12.661Z"
   },
   {
    "duration": 5,
    "start_time": "2023-01-24T21:15:13.322Z"
   },
   {
    "duration": 9,
    "start_time": "2023-01-24T21:15:18.161Z"
   },
   {
    "duration": 3,
    "start_time": "2023-01-24T21:15:26.651Z"
   },
   {
    "duration": 2,
    "start_time": "2023-01-24T21:17:48.728Z"
   },
   {
    "duration": 2,
    "start_time": "2023-01-24T21:17:49.033Z"
   },
   {
    "duration": 3,
    "start_time": "2023-01-24T21:17:49.427Z"
   },
   {
    "duration": 5,
    "start_time": "2023-01-24T21:20:04.723Z"
   },
   {
    "duration": 3,
    "start_time": "2023-01-24T21:21:26.868Z"
   },
   {
    "duration": 220732,
    "start_time": "2023-01-24T21:21:28.052Z"
   },
   {
    "duration": 4,
    "start_time": "2023-01-24T21:25:08.786Z"
   },
   {
    "duration": 15,
    "start_time": "2023-01-24T21:25:08.799Z"
   },
   {
    "duration": 0,
    "start_time": "2023-01-24T21:25:08.818Z"
   },
   {
    "duration": 11,
    "start_time": "2023-01-24T21:26:50.938Z"
   },
   {
    "duration": 4,
    "start_time": "2023-01-24T21:26:59.633Z"
   },
   {
    "duration": 9,
    "start_time": "2023-01-24T21:27:43.286Z"
   },
   {
    "duration": 3,
    "start_time": "2023-01-24T21:28:09.834Z"
   },
   {
    "duration": 3,
    "start_time": "2023-01-24T21:28:12.324Z"
   },
   {
    "duration": 3,
    "start_time": "2023-01-24T21:28:12.552Z"
   },
   {
    "duration": 4,
    "start_time": "2023-01-24T21:28:14.380Z"
   },
   {
    "duration": 3,
    "start_time": "2023-01-24T21:28:28.031Z"
   },
   {
    "duration": 217904,
    "start_time": "2023-01-24T21:28:57.679Z"
   },
   {
    "duration": 2,
    "start_time": "2023-01-24T21:32:35.585Z"
   },
   {
    "duration": 5,
    "start_time": "2023-01-24T21:32:54.239Z"
   },
   {
    "duration": 4,
    "start_time": "2023-01-24T21:33:06.324Z"
   },
   {
    "duration": 53,
    "start_time": "2023-01-24T21:36:31.887Z"
   },
   {
    "duration": 53,
    "start_time": "2023-01-24T21:37:27.802Z"
   },
   {
    "duration": 57,
    "start_time": "2023-01-24T21:38:13.955Z"
   },
   {
    "duration": 3,
    "start_time": "2023-01-24T21:38:19.792Z"
   },
   {
    "duration": 2,
    "start_time": "2023-01-24T21:38:22.784Z"
   },
   {
    "duration": 2,
    "start_time": "2023-01-24T21:38:36.729Z"
   },
   {
    "duration": 10,
    "start_time": "2023-01-24T21:39:58.577Z"
   },
   {
    "duration": 10,
    "start_time": "2023-01-24T21:40:03.247Z"
   },
   {
    "duration": 31,
    "start_time": "2023-01-24T21:40:09.728Z"
   },
   {
    "duration": 2,
    "start_time": "2023-01-24T21:41:31.523Z"
   },
   {
    "duration": 12,
    "start_time": "2023-01-24T21:41:51.960Z"
   },
   {
    "duration": 4,
    "start_time": "2023-01-24T21:42:29.925Z"
   },
   {
    "duration": 2,
    "start_time": "2023-01-24T21:42:42.921Z"
   },
   {
    "duration": 4,
    "start_time": "2023-01-24T21:42:47.985Z"
   },
   {
    "duration": 9,
    "start_time": "2023-01-24T21:43:46.420Z"
   },
   {
    "duration": 5,
    "start_time": "2023-01-24T21:43:52.718Z"
   },
   {
    "duration": 9,
    "start_time": "2023-01-24T21:44:02.392Z"
   },
   {
    "duration": 10,
    "start_time": "2023-01-24T21:44:07.531Z"
   },
   {
    "duration": 9,
    "start_time": "2023-01-24T21:45:06.860Z"
   },
   {
    "duration": 9,
    "start_time": "2023-01-24T21:49:15.351Z"
   },
   {
    "duration": 1427,
    "start_time": "2023-01-24T21:50:56.430Z"
   },
   {
    "duration": 46,
    "start_time": "2023-01-24T21:50:57.859Z"
   },
   {
    "duration": 4,
    "start_time": "2023-01-24T21:50:57.906Z"
   },
   {
    "duration": 19,
    "start_time": "2023-01-24T21:50:57.912Z"
   },
   {
    "duration": 15,
    "start_time": "2023-01-24T21:50:57.933Z"
   },
   {
    "duration": 6,
    "start_time": "2023-01-24T21:50:57.950Z"
   },
   {
    "duration": 730,
    "start_time": "2023-01-24T21:50:57.958Z"
   },
   {
    "duration": 16,
    "start_time": "2023-01-24T21:50:58.690Z"
   },
   {
    "duration": 178,
    "start_time": "2023-01-24T21:50:58.708Z"
   },
   {
    "duration": 210,
    "start_time": "2023-01-24T21:50:58.889Z"
   },
   {
    "duration": 5,
    "start_time": "2023-01-24T21:50:59.100Z"
   },
   {
    "duration": 127,
    "start_time": "2023-01-24T21:50:59.107Z"
   },
   {
    "duration": 34,
    "start_time": "2023-01-24T21:50:59.236Z"
   },
   {
    "duration": 146,
    "start_time": "2023-01-24T21:50:59.272Z"
   },
   {
    "duration": 290,
    "start_time": "2023-01-24T21:50:59.419Z"
   },
   {
    "duration": 131,
    "start_time": "2023-01-24T21:50:59.711Z"
   },
   {
    "duration": 7,
    "start_time": "2023-01-24T21:50:59.843Z"
   },
   {
    "duration": 11,
    "start_time": "2023-01-24T21:50:59.851Z"
   },
   {
    "duration": 5,
    "start_time": "2023-01-24T21:50:59.863Z"
   },
   {
    "duration": 8,
    "start_time": "2023-01-24T21:50:59.870Z"
   },
   {
    "duration": 20,
    "start_time": "2023-01-24T21:50:59.880Z"
   },
   {
    "duration": 8,
    "start_time": "2023-01-24T21:50:59.901Z"
   },
   {
    "duration": 9,
    "start_time": "2023-01-24T21:50:59.910Z"
   },
   {
    "duration": 13,
    "start_time": "2023-01-24T21:50:59.921Z"
   },
   {
    "duration": 6,
    "start_time": "2023-01-24T21:50:59.936Z"
   },
   {
    "duration": 7,
    "start_time": "2023-01-24T21:50:59.944Z"
   },
   {
    "duration": 7,
    "start_time": "2023-01-24T21:50:59.953Z"
   },
   {
    "duration": 174660,
    "start_time": "2023-01-24T21:50:59.963Z"
   },
   {
    "duration": 11,
    "start_time": "2023-01-24T21:53:54.625Z"
   },
   {
    "duration": 0,
    "start_time": "2023-01-24T21:53:54.638Z"
   },
   {
    "duration": 0,
    "start_time": "2023-01-24T21:53:54.639Z"
   },
   {
    "duration": 213245,
    "start_time": "2023-01-24T21:54:03.260Z"
   },
   {
    "duration": 4,
    "start_time": "2023-01-24T21:57:36.506Z"
   },
   {
    "duration": 8,
    "start_time": "2023-01-24T21:57:36.512Z"
   },
   {
    "duration": 0,
    "start_time": "2023-01-24T21:57:36.571Z"
   },
   {
    "duration": 4,
    "start_time": "2023-01-24T21:59:01.787Z"
   },
   {
    "duration": 3,
    "start_time": "2023-01-24T21:59:04.121Z"
   },
   {
    "duration": 21189921,
    "start_time": "2023-01-24T21:59:04.763Z"
   },
   {
    "duration": 10,
    "start_time": "2023-01-25T03:52:14.686Z"
   },
   {
    "duration": 0,
    "start_time": "2023-01-25T03:52:14.697Z"
   },
   {
    "duration": 0,
    "start_time": "2023-01-25T03:52:14.698Z"
   },
   {
    "duration": 0,
    "start_time": "2023-01-25T03:52:14.700Z"
   },
   {
    "duration": 0,
    "start_time": "2023-01-25T03:52:14.700Z"
   },
   {
    "duration": 0,
    "start_time": "2023-01-25T03:52:14.702Z"
   },
   {
    "duration": 0,
    "start_time": "2023-01-25T03:52:14.702Z"
   },
   {
    "duration": 0,
    "start_time": "2023-01-25T03:52:14.704Z"
   },
   {
    "duration": 0,
    "start_time": "2023-01-25T03:52:14.705Z"
   },
   {
    "duration": 10,
    "start_time": "2023-01-25T03:52:20.585Z"
   },
   {
    "duration": 11,
    "start_time": "2023-01-25T03:52:41.967Z"
   },
   {
    "duration": 1357,
    "start_time": "2023-01-25T03:53:03.147Z"
   },
   {
    "duration": 43,
    "start_time": "2023-01-25T03:53:04.506Z"
   },
   {
    "duration": 3,
    "start_time": "2023-01-25T03:53:04.550Z"
   },
   {
    "duration": 24,
    "start_time": "2023-01-25T03:53:04.554Z"
   },
   {
    "duration": 12,
    "start_time": "2023-01-25T03:53:04.579Z"
   },
   {
    "duration": 4,
    "start_time": "2023-01-25T03:53:04.593Z"
   },
   {
    "duration": 687,
    "start_time": "2023-01-25T03:53:04.599Z"
   },
   {
    "duration": 17,
    "start_time": "2023-01-25T03:53:05.288Z"
   },
   {
    "duration": 175,
    "start_time": "2023-01-25T03:53:05.307Z"
   },
   {
    "duration": 210,
    "start_time": "2023-01-25T03:53:05.485Z"
   },
   {
    "duration": 4,
    "start_time": "2023-01-25T03:53:17.049Z"
   },
   {
    "duration": 29,
    "start_time": "2023-01-25T03:53:17.760Z"
   },
   {
    "duration": 16,
    "start_time": "2023-01-25T03:53:19.543Z"
   },
   {
    "duration": 147,
    "start_time": "2023-01-25T03:53:20.365Z"
   },
   {
    "duration": 255,
    "start_time": "2023-01-25T03:53:23.191Z"
   },
   {
    "duration": 119,
    "start_time": "2023-01-25T03:53:25.723Z"
   },
   {
    "duration": 6,
    "start_time": "2023-01-25T03:53:28.668Z"
   },
   {
    "duration": 4,
    "start_time": "2023-01-25T03:53:29.940Z"
   },
   {
    "duration": 3,
    "start_time": "2023-01-25T03:53:30.289Z"
   },
   {
    "duration": 5,
    "start_time": "2023-01-25T03:53:31.483Z"
   },
   {
    "duration": 4,
    "start_time": "2023-01-25T03:53:32.359Z"
   },
   {
    "duration": 6,
    "start_time": "2023-01-25T03:53:35.218Z"
   },
   {
    "duration": 3,
    "start_time": "2023-01-25T03:53:47.836Z"
   },
   {
    "duration": 3,
    "start_time": "2023-01-25T03:53:48.095Z"
   },
   {
    "duration": 3,
    "start_time": "2023-01-25T03:53:48.396Z"
   },
   {
    "duration": 5,
    "start_time": "2023-01-25T03:53:49.855Z"
   },
   {
    "duration": 2,
    "start_time": "2023-01-25T03:53:50.948Z"
   },
   {
    "duration": 46914,
    "start_time": "2023-01-25T03:53:51.289Z"
   },
   {
    "duration": 4,
    "start_time": "2023-01-25T03:54:38.204Z"
   },
   {
    "duration": 10,
    "start_time": "2023-01-25T03:54:38.209Z"
   },
   {
    "duration": 4,
    "start_time": "2023-01-25T03:55:46.485Z"
   },
   {
    "duration": 3,
    "start_time": "2023-01-25T03:55:46.775Z"
   },
   {
    "duration": 4,
    "start_time": "2023-01-25T06:38:49.114Z"
   },
   {
    "duration": 46,
    "start_time": "2023-01-25T06:38:49.126Z"
   },
   {
    "duration": 2,
    "start_time": "2023-01-25T06:38:49.174Z"
   },
   {
    "duration": 12,
    "start_time": "2023-01-25T06:38:49.178Z"
   },
   {
    "duration": 13,
    "start_time": "2023-01-25T06:38:49.193Z"
   },
   {
    "duration": 4,
    "start_time": "2023-01-25T06:38:49.207Z"
   },
   {
    "duration": 701,
    "start_time": "2023-01-25T06:38:49.213Z"
   },
   {
    "duration": 7,
    "start_time": "2023-01-25T06:38:49.916Z"
   },
   {
    "duration": 180,
    "start_time": "2023-01-25T06:38:49.925Z"
   },
   {
    "duration": 188,
    "start_time": "2023-01-25T06:38:50.107Z"
   },
   {
    "duration": 4,
    "start_time": "2023-01-25T06:38:50.299Z"
   },
   {
    "duration": 26,
    "start_time": "2023-01-25T06:38:50.304Z"
   },
   {
    "duration": 9,
    "start_time": "2023-01-25T06:38:50.332Z"
   },
   {
    "duration": 156,
    "start_time": "2023-01-25T06:38:50.343Z"
   },
   {
    "duration": 277,
    "start_time": "2023-01-25T06:38:50.500Z"
   },
   {
    "duration": 137,
    "start_time": "2023-01-25T06:38:50.780Z"
   },
   {
    "duration": 7,
    "start_time": "2023-01-25T06:38:50.919Z"
   },
   {
    "duration": 5,
    "start_time": "2023-01-25T06:38:50.927Z"
   },
   {
    "duration": 5,
    "start_time": "2023-01-25T06:38:50.933Z"
   },
   {
    "duration": 13,
    "start_time": "2023-01-25T06:38:50.940Z"
   },
   {
    "duration": 6,
    "start_time": "2023-01-25T06:38:50.956Z"
   },
   {
    "duration": 18,
    "start_time": "2023-01-25T06:38:50.964Z"
   },
   {
    "duration": 15,
    "start_time": "2023-01-25T06:38:50.983Z"
   },
   {
    "duration": 11,
    "start_time": "2023-01-25T06:38:51.000Z"
   },
   {
    "duration": 11,
    "start_time": "2023-01-25T06:38:51.013Z"
   },
   {
    "duration": 9,
    "start_time": "2023-01-25T06:38:51.026Z"
   },
   {
    "duration": 12,
    "start_time": "2023-01-25T06:38:51.037Z"
   },
   {
    "duration": 27630,
    "start_time": "2023-01-25T06:38:51.051Z"
   },
   {
    "duration": 4,
    "start_time": "2023-01-25T06:39:18.683Z"
   },
   {
    "duration": 15,
    "start_time": "2023-01-25T06:39:18.688Z"
   },
   {
    "duration": 12,
    "start_time": "2023-01-25T06:39:18.705Z"
   },
   {
    "duration": 17,
    "start_time": "2023-01-25T06:39:18.719Z"
   },
   {
    "duration": 3255026,
    "start_time": "2023-01-25T06:39:18.738Z"
   },
   {
    "duration": 4,
    "start_time": "2023-01-25T07:33:33.767Z"
   },
   {
    "duration": 11,
    "start_time": "2023-01-25T07:33:33.772Z"
   },
   {
    "duration": 18,
    "start_time": "2023-01-25T07:33:33.784Z"
   },
   {
    "duration": 51,
    "start_time": "2023-01-25T07:33:33.804Z"
   },
   {
    "duration": 46250,
    "start_time": "2023-01-25T07:33:33.857Z"
   },
   {
    "duration": 3,
    "start_time": "2023-01-25T07:34:20.109Z"
   },
   {
    "duration": 23,
    "start_time": "2023-01-25T07:34:20.113Z"
   },
   {
    "duration": 4,
    "start_time": "2023-01-25T07:56:00.120Z"
   },
   {
    "duration": 3,
    "start_time": "2023-01-25T07:56:08.371Z"
   },
   {
    "duration": 10,
    "start_time": "2023-01-25T07:56:09.267Z"
   },
   {
    "duration": 3372,
    "start_time": "2023-01-25T07:56:12.136Z"
   },
   {
    "duration": 42544,
    "start_time": "2023-01-25T07:56:27.056Z"
   },
   {
    "duration": 9,
    "start_time": "2023-01-25T07:57:11.678Z"
   },
   {
    "duration": 126,
    "start_time": "2023-01-25T07:57:32.915Z"
   },
   {
    "duration": 1687,
    "start_time": "2023-01-25T07:57:51.378Z"
   },
   {
    "duration": 120,
    "start_time": "2023-01-25T07:58:12.259Z"
   },
   {
    "duration": 3,
    "start_time": "2023-01-25T07:58:49.926Z"
   },
   {
    "duration": 186,
    "start_time": "2023-01-25T07:58:52.902Z"
   },
   {
    "duration": 744,
    "start_time": "2023-01-25T07:59:14.356Z"
   },
   {
    "duration": 14,
    "start_time": "2023-01-25T07:59:15.102Z"
   },
   {
    "duration": 5,
    "start_time": "2023-01-25T07:59:22.326Z"
   },
   {
    "duration": 52,
    "start_time": "2023-01-25T10:33:56.872Z"
   },
   {
    "duration": 3,
    "start_time": "2023-01-25T10:49:53.825Z"
   },
   {
    "duration": 128,
    "start_time": "2023-01-25T10:54:25.738Z"
   },
   {
    "duration": 1353,
    "start_time": "2023-01-25T11:31:40.739Z"
   },
   {
    "duration": 42,
    "start_time": "2023-01-25T11:31:42.094Z"
   },
   {
    "duration": 3,
    "start_time": "2023-01-25T11:31:42.138Z"
   },
   {
    "duration": 20,
    "start_time": "2023-01-25T11:31:42.144Z"
   },
   {
    "duration": 15,
    "start_time": "2023-01-25T11:31:42.165Z"
   },
   {
    "duration": 13,
    "start_time": "2023-01-25T11:31:42.182Z"
   },
   {
    "duration": 717,
    "start_time": "2023-01-25T11:31:42.197Z"
   },
   {
    "duration": 10,
    "start_time": "2023-01-25T11:31:42.916Z"
   },
   {
    "duration": 193,
    "start_time": "2023-01-25T11:31:42.927Z"
   },
   {
    "duration": 231,
    "start_time": "2023-01-25T11:31:43.123Z"
   },
   {
    "duration": 4,
    "start_time": "2023-01-25T11:31:43.356Z"
   },
   {
    "duration": 38,
    "start_time": "2023-01-25T11:31:43.362Z"
   },
   {
    "duration": 15,
    "start_time": "2023-01-25T11:31:43.402Z"
   },
   {
    "duration": 149,
    "start_time": "2023-01-25T11:31:43.418Z"
   },
   {
    "duration": 267,
    "start_time": "2023-01-25T11:31:43.568Z"
   },
   {
    "duration": 173,
    "start_time": "2023-01-25T11:31:43.837Z"
   },
   {
    "duration": 8,
    "start_time": "2023-01-25T11:31:44.012Z"
   },
   {
    "duration": 19,
    "start_time": "2023-01-25T11:31:44.022Z"
   },
   {
    "duration": 20,
    "start_time": "2023-01-25T11:31:44.043Z"
   },
   {
    "duration": 16,
    "start_time": "2023-01-25T11:31:44.065Z"
   },
   {
    "duration": 10,
    "start_time": "2023-01-25T11:31:44.084Z"
   },
   {
    "duration": 11,
    "start_time": "2023-01-25T11:31:44.096Z"
   },
   {
    "duration": 15,
    "start_time": "2023-01-25T11:31:44.109Z"
   },
   {
    "duration": 10,
    "start_time": "2023-01-25T11:31:44.126Z"
   },
   {
    "duration": 9,
    "start_time": "2023-01-25T11:31:44.137Z"
   },
   {
    "duration": 10,
    "start_time": "2023-01-25T11:31:44.147Z"
   },
   {
    "duration": 29711,
    "start_time": "2023-01-25T11:31:44.159Z"
   },
   {
    "duration": 7,
    "start_time": "2023-01-25T11:32:13.875Z"
   },
   {
    "duration": 64,
    "start_time": "2023-01-25T11:32:13.883Z"
   },
   {
    "duration": 43,
    "start_time": "2023-01-25T11:32:13.949Z"
   },
   {
    "duration": 46,
    "start_time": "2023-01-25T11:32:13.994Z"
   },
   {
    "duration": 3161370,
    "start_time": "2023-01-25T11:32:14.043Z"
   },
   {
    "duration": 4,
    "start_time": "2023-01-25T12:24:55.416Z"
   },
   {
    "duration": 42,
    "start_time": "2023-01-25T12:24:55.422Z"
   },
   {
    "duration": 10,
    "start_time": "2023-01-25T12:24:55.466Z"
   },
   {
    "duration": 18,
    "start_time": "2023-01-25T12:24:55.478Z"
   },
   {
    "duration": 5468110,
    "start_time": "2023-01-25T12:24:55.498Z"
   },
   {
    "duration": 4,
    "start_time": "2023-01-25T13:56:03.609Z"
   },
   {
    "duration": 24,
    "start_time": "2023-01-25T13:56:03.614Z"
   },
   {
    "duration": 25,
    "start_time": "2023-01-25T13:56:03.640Z"
   },
   {
    "duration": 10,
    "start_time": "2023-01-25T13:56:03.699Z"
   },
   {
    "duration": 45894,
    "start_time": "2023-01-25T13:56:03.710Z"
   },
   {
    "duration": 3,
    "start_time": "2023-01-25T13:56:49.606Z"
   },
   {
    "duration": 160,
    "start_time": "2023-01-25T13:56:49.611Z"
   },
   {
    "duration": 7944,
    "start_time": "2023-01-25T13:56:49.773Z"
   },
   {
    "duration": 10,
    "start_time": "2023-01-25T13:56:57.719Z"
   },
   {
    "duration": 23,
    "start_time": "2023-01-25T13:56:57.731Z"
   },
   {
    "duration": 1250,
    "start_time": "2023-01-25T13:56:57.756Z"
   },
   {
    "duration": 96,
    "start_time": "2023-01-25T13:56:59.008Z"
   },
   {
    "duration": 5,
    "start_time": "2023-01-25T13:56:59.105Z"
   },
   {
    "duration": 46,
    "start_time": "2023-01-26T10:33:35.829Z"
   },
   {
    "duration": 1645,
    "start_time": "2023-01-26T10:33:39.918Z"
   },
   {
    "duration": 134,
    "start_time": "2023-01-26T10:33:41.565Z"
   },
   {
    "duration": 6,
    "start_time": "2023-01-26T10:33:43.311Z"
   },
   {
    "duration": 9,
    "start_time": "2023-01-26T10:33:55.801Z"
   },
   {
    "duration": 11,
    "start_time": "2023-01-26T10:33:55.993Z"
   },
   {
    "duration": 87,
    "start_time": "2023-01-26T10:34:42.049Z"
   },
   {
    "duration": 739,
    "start_time": "2023-01-26T10:34:49.883Z"
   },
   {
    "duration": 12,
    "start_time": "2023-01-26T10:34:52.762Z"
   },
   {
    "duration": 200,
    "start_time": "2023-01-26T10:34:53.081Z"
   },
   {
    "duration": 225,
    "start_time": "2023-01-26T10:34:55.512Z"
   },
   {
    "duration": 213,
    "start_time": "2023-01-26T10:34:57.880Z"
   },
   {
    "duration": 4,
    "start_time": "2023-01-26T10:35:24.452Z"
   },
   {
    "duration": 7,
    "start_time": "2023-01-26T10:35:32.893Z"
   },
   {
    "duration": 16,
    "start_time": "2023-01-26T10:38:30.059Z"
   },
   {
    "duration": 193,
    "start_time": "2023-01-26T10:39:20.941Z"
   },
   {
    "duration": 302,
    "start_time": "2023-01-26T10:40:41.272Z"
   },
   {
    "duration": 202,
    "start_time": "2023-01-26T10:41:35.382Z"
   },
   {
    "duration": 14,
    "start_time": "2023-01-26T10:41:42.367Z"
   },
   {
    "duration": 411,
    "start_time": "2023-01-26T10:42:30.821Z"
   },
   {
    "duration": 229,
    "start_time": "2023-01-26T10:43:13.642Z"
   },
   {
    "duration": 835,
    "start_time": "2023-01-26T10:43:26.146Z"
   },
   {
    "duration": 10,
    "start_time": "2023-01-26T10:43:41.791Z"
   },
   {
    "duration": 7,
    "start_time": "2023-01-26T10:44:06.214Z"
   },
   {
    "duration": 13,
    "start_time": "2023-01-26T10:44:25.490Z"
   },
   {
    "duration": 8,
    "start_time": "2023-01-26T10:44:35.911Z"
   },
   {
    "duration": 13,
    "start_time": "2023-01-26T10:44:53.982Z"
   },
   {
    "duration": 7,
    "start_time": "2023-01-26T10:45:02.241Z"
   },
   {
    "duration": 16,
    "start_time": "2023-01-26T10:47:13.456Z"
   },
   {
    "duration": 195,
    "start_time": "2023-01-26T10:47:55.713Z"
   },
   {
    "duration": 4,
    "start_time": "2023-01-26T10:50:24.973Z"
   },
   {
    "duration": 22,
    "start_time": "2023-01-26T10:50:30.573Z"
   },
   {
    "duration": 13,
    "start_time": "2023-01-26T10:50:31.981Z"
   },
   {
    "duration": 28,
    "start_time": "2023-01-26T10:50:38.320Z"
   },
   {
    "duration": 39,
    "start_time": "2023-01-26T10:51:18.459Z"
   },
   {
    "duration": 4,
    "start_time": "2023-01-26T10:51:19.571Z"
   },
   {
    "duration": 8,
    "start_time": "2023-01-26T10:51:21.408Z"
   },
   {
    "duration": 11,
    "start_time": "2023-01-26T10:51:22.514Z"
   },
   {
    "duration": 669,
    "start_time": "2023-01-26T10:51:24.502Z"
   },
   {
    "duration": 213,
    "start_time": "2023-01-26T10:51:27.110Z"
   },
   {
    "duration": 4,
    "start_time": "2023-01-26T10:51:31.302Z"
   },
   {
    "duration": 26,
    "start_time": "2023-01-26T10:51:37.172Z"
   },
   {
    "duration": 25,
    "start_time": "2023-01-26T10:51:40.412Z"
   },
   {
    "duration": 30,
    "start_time": "2023-01-26T10:51:54.336Z"
   },
   {
    "duration": 31,
    "start_time": "2023-01-26T10:52:19.031Z"
   },
   {
    "duration": 47,
    "start_time": "2023-01-26T10:52:23.256Z"
   },
   {
    "duration": 8,
    "start_time": "2023-01-26T10:53:00.158Z"
   },
   {
    "duration": 8,
    "start_time": "2023-01-26T10:53:00.682Z"
   },
   {
    "duration": 36,
    "start_time": "2023-01-26T10:53:01.086Z"
   },
   {
    "duration": 3,
    "start_time": "2023-01-26T10:53:48.228Z"
   },
   {
    "duration": 9,
    "start_time": "2023-01-26T10:59:16.744Z"
   },
   {
    "duration": 5,
    "start_time": "2023-01-26T10:59:39.789Z"
   },
   {
    "duration": 9,
    "start_time": "2023-01-26T10:59:45.342Z"
   },
   {
    "duration": 6,
    "start_time": "2023-01-26T10:59:48.861Z"
   },
   {
    "duration": 12,
    "start_time": "2023-01-26T10:59:50.520Z"
   },
   {
    "duration": 3,
    "start_time": "2023-01-26T10:59:54.431Z"
   },
   {
    "duration": 11,
    "start_time": "2023-01-26T10:59:58.553Z"
   },
   {
    "duration": 2,
    "start_time": "2023-01-26T11:01:42.481Z"
   },
   {
    "duration": 4,
    "start_time": "2023-01-26T11:02:01.551Z"
   },
   {
    "duration": 11,
    "start_time": "2023-01-26T11:02:35.754Z"
   },
   {
    "duration": 2,
    "start_time": "2023-01-26T11:02:42.642Z"
   },
   {
    "duration": 3,
    "start_time": "2023-01-26T11:02:43.133Z"
   },
   {
    "duration": 4,
    "start_time": "2023-01-26T11:02:51.433Z"
   },
   {
    "duration": 2,
    "start_time": "2023-01-26T11:02:53.062Z"
   },
   {
    "duration": 3,
    "start_time": "2023-01-26T11:03:10.563Z"
   },
   {
    "duration": 3,
    "start_time": "2023-01-26T11:03:11.218Z"
   },
   {
    "duration": 1504,
    "start_time": "2023-01-26T11:53:22.245Z"
   },
   {
    "duration": 44,
    "start_time": "2023-01-26T11:53:23.752Z"
   },
   {
    "duration": 7,
    "start_time": "2023-01-26T11:53:23.798Z"
   },
   {
    "duration": 15,
    "start_time": "2023-01-26T11:53:23.808Z"
   },
   {
    "duration": 13,
    "start_time": "2023-01-26T11:53:23.825Z"
   },
   {
    "duration": 845,
    "start_time": "2023-01-26T11:53:23.841Z"
   },
   {
    "duration": 19,
    "start_time": "2023-01-26T11:53:24.687Z"
   },
   {
    "duration": 206,
    "start_time": "2023-01-26T11:53:24.708Z"
   },
   {
    "duration": 231,
    "start_time": "2023-01-26T11:53:24.916Z"
   },
   {
    "duration": 251,
    "start_time": "2023-01-26T11:53:25.150Z"
   },
   {
    "duration": 7,
    "start_time": "2023-01-26T11:53:25.403Z"
   },
   {
    "duration": 8,
    "start_time": "2023-01-26T11:53:25.412Z"
   },
   {
    "duration": 23,
    "start_time": "2023-01-26T11:53:25.421Z"
   },
   {
    "duration": 30,
    "start_time": "2023-01-26T11:53:25.446Z"
   },
   {
    "duration": 167,
    "start_time": "2023-01-26T11:53:25.477Z"
   },
   {
    "duration": 301,
    "start_time": "2023-01-26T11:53:25.645Z"
   },
   {
    "duration": 140,
    "start_time": "2023-01-26T11:53:25.948Z"
   },
   {
    "duration": 16,
    "start_time": "2023-01-26T11:53:26.090Z"
   },
   {
    "duration": 4,
    "start_time": "2023-01-26T11:53:26.108Z"
   },
   {
    "duration": 6,
    "start_time": "2023-01-26T11:53:26.113Z"
   },
   {
    "duration": 9,
    "start_time": "2023-01-26T11:53:26.121Z"
   },
   {
    "duration": 9,
    "start_time": "2023-01-26T11:53:26.131Z"
   },
   {
    "duration": 8,
    "start_time": "2023-01-26T11:53:26.142Z"
   },
   {
    "duration": 7,
    "start_time": "2023-01-26T11:53:26.152Z"
   },
   {
    "duration": 6,
    "start_time": "2023-01-26T11:53:26.161Z"
   },
   {
    "duration": 12,
    "start_time": "2023-01-26T11:53:26.168Z"
   },
   {
    "duration": 6,
    "start_time": "2023-01-26T11:53:26.182Z"
   },
   {
    "duration": 7,
    "start_time": "2023-01-26T11:53:26.205Z"
   },
   {
    "duration": 22870,
    "start_time": "2023-01-26T11:53:26.213Z"
   },
   {
    "duration": 4,
    "start_time": "2023-01-26T11:53:49.085Z"
   },
   {
    "duration": 48,
    "start_time": "2023-01-26T11:53:49.091Z"
   },
   {
    "duration": 40,
    "start_time": "2023-01-26T11:53:49.141Z"
   },
   {
    "duration": 41,
    "start_time": "2023-01-26T11:53:49.183Z"
   },
   {
    "duration": 5384241,
    "start_time": "2023-01-26T11:53:49.227Z"
   },
   {
    "duration": 5,
    "start_time": "2023-01-26T13:23:33.470Z"
   },
   {
    "duration": 6,
    "start_time": "2023-01-26T13:23:33.477Z"
   },
   {
    "duration": 10,
    "start_time": "2023-01-26T13:23:33.485Z"
   },
   {
    "duration": 7,
    "start_time": "2023-01-26T13:23:33.497Z"
   },
   {
    "duration": 659398,
    "start_time": "2023-01-26T13:23:33.506Z"
   },
   {
    "duration": 7,
    "start_time": "2023-01-26T13:34:32.906Z"
   },
   {
    "duration": 9,
    "start_time": "2023-01-26T13:34:32.915Z"
   },
   {
    "duration": 5,
    "start_time": "2023-01-26T13:34:32.926Z"
   },
   {
    "duration": 16,
    "start_time": "2023-01-26T13:34:32.933Z"
   },
   {
    "duration": 38963,
    "start_time": "2023-01-26T13:34:32.950Z"
   },
   {
    "duration": 3,
    "start_time": "2023-01-26T13:35:11.915Z"
   },
   {
    "duration": 216,
    "start_time": "2023-01-26T13:35:11.920Z"
   },
   {
    "duration": 91375,
    "start_time": "2023-01-26T14:13:49.965Z"
   },
   {
    "duration": 0,
    "start_time": "2023-01-26T14:15:21.343Z"
   },
   {
    "duration": 0,
    "start_time": "2023-01-26T14:15:21.345Z"
   },
   {
    "duration": 153891,
    "start_time": "2023-01-26T14:15:25.924Z"
   },
   {
    "duration": 98,
    "start_time": "2023-01-26T14:17:59.818Z"
   },
   {
    "duration": 16,
    "start_time": "2023-01-26T14:17:59.918Z"
   }
  ],
  "kernelspec": {
   "display_name": "Python 3 (ipykernel)",
   "language": "python",
   "name": "python3"
  },
  "language_info": {
   "codemirror_mode": {
    "name": "ipython",
    "version": 3
   },
   "file_extension": ".py",
   "mimetype": "text/x-python",
   "name": "python",
   "nbconvert_exporter": "python",
   "pygments_lexer": "ipython3",
   "version": "3.9.12"
  },
  "toc": {
   "base_numbering": 1,
   "nav_menu": {},
   "number_sections": true,
   "sideBar": true,
   "skip_h1_title": true,
   "title_cell": "Содержание",
   "title_sidebar": "Contents",
   "toc_cell": true,
   "toc_position": {
    "height": "calc(100% - 180px)",
    "left": "10px",
    "top": "150px",
    "width": "311.719px"
   },
   "toc_section_display": true,
   "toc_window_display": true
  }
 },
 "nbformat": 4,
 "nbformat_minor": 2
}
