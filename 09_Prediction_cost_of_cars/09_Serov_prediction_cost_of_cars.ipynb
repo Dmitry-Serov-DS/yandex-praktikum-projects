{
 "cells": [
  {
   "cell_type": "markdown",
   "metadata": {},
   "source": [
    "# Определение стоимости автомобилей"
   ]
  },
  {
   "cell_type": "markdown",
   "metadata": {},
   "source": [
    "Сервис по продаже автомобилей с пробегом «Не бит, не крашен» разрабатывает приложение для привлечения новых клиентов. В нём можно быстро узнать рыночную стоимость своего автомобиля. В вашем распоряжении исторические данные: технические характеристики, комплектации и цены автомобилей. Вам нужно построить модель для определения стоимости. \n",
    "\n",
    "Заказчику важны:\n",
    "\n",
    "- качество предсказания;\n",
    "- скорость предсказания;\n",
    "- время обучения."
   ]
  },
  {
   "cell_type": "markdown",
   "metadata": {},
   "source": [
    "## Постановка задачи"
   ]
  },
  {
   "cell_type": "markdown",
   "metadata": {},
   "source": [
    "В нашем распоряжении данные из объявлений о продаже автомобилей.  \n",
    "Необходимо построить модель обучения для эффективного определения стоимости автомобиля.\n",
    "\n",
    "Необходимо рассмотреть работу нескольких моделей машиного обучения, выбрать наилучшую по показателю RMSE и скорости обучения.  \n",
    "Целевая задача, чтобы метрика RMSE была менее 2500."
   ]
  },
  {
   "cell_type": "markdown",
   "metadata": {},
   "source": [
    "## Подготовка данных"
   ]
  },
  {
   "cell_type": "code",
   "execution_count": 8,
   "metadata": {
    "scrolled": true
   },
   "outputs": [
    {
     "name": "stdout",
     "output_type": "stream",
     "text": [
      "Requirement already satisfied: phik in c:\\anaconda\\lib\\site-packages (0.12.3)\n",
      "Requirement already satisfied: scipy>=1.5.2 in c:\\anaconda\\lib\\site-packages (from phik) (1.7.3)\n",
      "Requirement already satisfied: numpy>=1.18.0 in c:\\anaconda\\lib\\site-packages (from phik) (1.21.5)\n",
      "Requirement already satisfied: matplotlib>=2.2.3 in c:\\anaconda\\lib\\site-packages (from phik) (3.7.1)\n",
      "Requirement already satisfied: joblib>=0.14.1 in c:\\anaconda\\lib\\site-packages (from phik) (1.2.0)\n",
      "Requirement already satisfied: pandas>=0.25.1 in c:\\anaconda\\lib\\site-packages (from phik) (1.4.2)\n",
      "Requirement already satisfied: importlib-resources>=3.2.0 in c:\\anaconda\\lib\\site-packages (from matplotlib>=2.2.3->phik) (5.12.0)\n",
      "Requirement already satisfied: contourpy>=1.0.1 in c:\\anaconda\\lib\\site-packages (from matplotlib>=2.2.3->phik) (1.0.7)\n",
      "Requirement already satisfied: packaging>=20.0 in c:\\anaconda\\lib\\site-packages (from matplotlib>=2.2.3->phik) (21.3)\n",
      "Requirement already satisfied: fonttools>=4.22.0 in c:\\anaconda\\lib\\site-packages (from matplotlib>=2.2.3->phik) (4.25.0)\n",
      "Requirement already satisfied: pillow>=6.2.0 in c:\\anaconda\\lib\\site-packages (from matplotlib>=2.2.3->phik) (9.0.1)\n",
      "Requirement already satisfied: kiwisolver>=1.0.1 in c:\\anaconda\\lib\\site-packages (from matplotlib>=2.2.3->phik) (1.3.2)\n",
      "Requirement already satisfied: pyparsing>=2.3.1 in c:\\anaconda\\lib\\site-packages (from matplotlib>=2.2.3->phik) (3.0.4)\n",
      "Requirement already satisfied: python-dateutil>=2.7 in c:\\anaconda\\lib\\site-packages (from matplotlib>=2.2.3->phik) (2.8.2)\n",
      "Requirement already satisfied: cycler>=0.10 in c:\\anaconda\\lib\\site-packages (from matplotlib>=2.2.3->phik) (0.11.0)\n",
      "Requirement already satisfied: zipp>=3.1.0 in c:\\anaconda\\lib\\site-packages (from importlib-resources>=3.2.0->matplotlib>=2.2.3->phik) (3.7.0)\n",
      "Requirement already satisfied: pytz>=2020.1 in c:\\anaconda\\lib\\site-packages (from pandas>=0.25.1->phik) (2021.3)\n",
      "Requirement already satisfied: six>=1.5 in c:\\anaconda\\lib\\site-packages (from python-dateutil>=2.7->matplotlib>=2.2.3->phik) (1.16.0)\n"
     ]
    }
   ],
   "source": [
    "!pip install phik"
   ]
  },
  {
   "cell_type": "code",
   "execution_count": 9,
   "metadata": {},
   "outputs": [],
   "source": [
    "import warnings\n",
    "warnings.filterwarnings('ignore')\n",
    "\n",
    "import pandas as pd\n",
    "import seaborn as sns\n",
    "import matplotlib.pyplot as plt\n",
    "from IPython.display import display\n",
    "import numpy as np\n",
    "\n",
    "import time\n",
    "\n",
    "from sklearn.ensemble import RandomForestRegressor\n",
    "from sklearn.tree import DecisionTreeClassifier\n",
    "from sklearn.linear_model import LinearRegression\n",
    "from catboost import CatBoostRegressor, Pool\n",
    "from lightgbm import LGBMRegressor\n",
    "from sklearn.model_selection import train_test_split\n",
    "from sklearn.preprocessing import StandardScaler, OrdinalEncoder, OneHotEncoder\n",
    "from sklearn.metrics import mean_squared_error\n",
    "\n",
    "import phik\n",
    "from phik.report import plot_correlation_matrix, correlation_report"
   ]
  },
  {
   "cell_type": "code",
   "execution_count": 10,
   "metadata": {},
   "outputs": [],
   "source": [
    "data = pd.read_csv('autos.csv')"
   ]
  },
  {
   "cell_type": "markdown",
   "metadata": {},
   "source": [
    "### Проведем предобработку и исследоватеьский анализ данных"
   ]
  },
  {
   "cell_type": "code",
   "execution_count": 11,
   "metadata": {
    "scrolled": true
   },
   "outputs": [
    {
     "data": {
      "text/html": [
       "<div>\n",
       "<style scoped>\n",
       "    .dataframe tbody tr th:only-of-type {\n",
       "        vertical-align: middle;\n",
       "    }\n",
       "\n",
       "    .dataframe tbody tr th {\n",
       "        vertical-align: top;\n",
       "    }\n",
       "\n",
       "    .dataframe thead th {\n",
       "        text-align: right;\n",
       "    }\n",
       "</style>\n",
       "<table border=\"1\" class=\"dataframe\">\n",
       "  <thead>\n",
       "    <tr style=\"text-align: right;\">\n",
       "      <th></th>\n",
       "      <th>DateCrawled</th>\n",
       "      <th>Price</th>\n",
       "      <th>VehicleType</th>\n",
       "      <th>RegistrationYear</th>\n",
       "      <th>Gearbox</th>\n",
       "      <th>Power</th>\n",
       "      <th>Model</th>\n",
       "      <th>Kilometer</th>\n",
       "      <th>RegistrationMonth</th>\n",
       "      <th>FuelType</th>\n",
       "      <th>Brand</th>\n",
       "      <th>Repaired</th>\n",
       "      <th>DateCreated</th>\n",
       "      <th>NumberOfPictures</th>\n",
       "      <th>PostalCode</th>\n",
       "      <th>LastSeen</th>\n",
       "    </tr>\n",
       "  </thead>\n",
       "  <tbody>\n",
       "    <tr>\n",
       "      <th>0</th>\n",
       "      <td>2016-03-24 11:52:17</td>\n",
       "      <td>480</td>\n",
       "      <td>NaN</td>\n",
       "      <td>1993</td>\n",
       "      <td>manual</td>\n",
       "      <td>0</td>\n",
       "      <td>golf</td>\n",
       "      <td>150000</td>\n",
       "      <td>0</td>\n",
       "      <td>petrol</td>\n",
       "      <td>volkswagen</td>\n",
       "      <td>NaN</td>\n",
       "      <td>2016-03-24 00:00:00</td>\n",
       "      <td>0</td>\n",
       "      <td>70435</td>\n",
       "      <td>2016-04-07 03:16:57</td>\n",
       "    </tr>\n",
       "    <tr>\n",
       "      <th>1</th>\n",
       "      <td>2016-03-24 10:58:45</td>\n",
       "      <td>18300</td>\n",
       "      <td>coupe</td>\n",
       "      <td>2011</td>\n",
       "      <td>manual</td>\n",
       "      <td>190</td>\n",
       "      <td>NaN</td>\n",
       "      <td>125000</td>\n",
       "      <td>5</td>\n",
       "      <td>gasoline</td>\n",
       "      <td>audi</td>\n",
       "      <td>yes</td>\n",
       "      <td>2016-03-24 00:00:00</td>\n",
       "      <td>0</td>\n",
       "      <td>66954</td>\n",
       "      <td>2016-04-07 01:46:50</td>\n",
       "    </tr>\n",
       "    <tr>\n",
       "      <th>2</th>\n",
       "      <td>2016-03-14 12:52:21</td>\n",
       "      <td>9800</td>\n",
       "      <td>suv</td>\n",
       "      <td>2004</td>\n",
       "      <td>auto</td>\n",
       "      <td>163</td>\n",
       "      <td>grand</td>\n",
       "      <td>125000</td>\n",
       "      <td>8</td>\n",
       "      <td>gasoline</td>\n",
       "      <td>jeep</td>\n",
       "      <td>NaN</td>\n",
       "      <td>2016-03-14 00:00:00</td>\n",
       "      <td>0</td>\n",
       "      <td>90480</td>\n",
       "      <td>2016-04-05 12:47:46</td>\n",
       "    </tr>\n",
       "    <tr>\n",
       "      <th>3</th>\n",
       "      <td>2016-03-17 16:54:04</td>\n",
       "      <td>1500</td>\n",
       "      <td>small</td>\n",
       "      <td>2001</td>\n",
       "      <td>manual</td>\n",
       "      <td>75</td>\n",
       "      <td>golf</td>\n",
       "      <td>150000</td>\n",
       "      <td>6</td>\n",
       "      <td>petrol</td>\n",
       "      <td>volkswagen</td>\n",
       "      <td>no</td>\n",
       "      <td>2016-03-17 00:00:00</td>\n",
       "      <td>0</td>\n",
       "      <td>91074</td>\n",
       "      <td>2016-03-17 17:40:17</td>\n",
       "    </tr>\n",
       "    <tr>\n",
       "      <th>4</th>\n",
       "      <td>2016-03-31 17:25:20</td>\n",
       "      <td>3600</td>\n",
       "      <td>small</td>\n",
       "      <td>2008</td>\n",
       "      <td>manual</td>\n",
       "      <td>69</td>\n",
       "      <td>fabia</td>\n",
       "      <td>90000</td>\n",
       "      <td>7</td>\n",
       "      <td>gasoline</td>\n",
       "      <td>skoda</td>\n",
       "      <td>no</td>\n",
       "      <td>2016-03-31 00:00:00</td>\n",
       "      <td>0</td>\n",
       "      <td>60437</td>\n",
       "      <td>2016-04-06 10:17:21</td>\n",
       "    </tr>\n",
       "  </tbody>\n",
       "</table>\n",
       "</div>"
      ],
      "text/plain": [
       "           DateCrawled  Price VehicleType  RegistrationYear Gearbox  Power  \\\n",
       "0  2016-03-24 11:52:17    480         NaN              1993  manual      0   \n",
       "1  2016-03-24 10:58:45  18300       coupe              2011  manual    190   \n",
       "2  2016-03-14 12:52:21   9800         suv              2004    auto    163   \n",
       "3  2016-03-17 16:54:04   1500       small              2001  manual     75   \n",
       "4  2016-03-31 17:25:20   3600       small              2008  manual     69   \n",
       "\n",
       "   Model  Kilometer  RegistrationMonth  FuelType       Brand Repaired  \\\n",
       "0   golf     150000                  0    petrol  volkswagen      NaN   \n",
       "1    NaN     125000                  5  gasoline        audi      yes   \n",
       "2  grand     125000                  8  gasoline        jeep      NaN   \n",
       "3   golf     150000                  6    petrol  volkswagen       no   \n",
       "4  fabia      90000                  7  gasoline       skoda       no   \n",
       "\n",
       "           DateCreated  NumberOfPictures  PostalCode             LastSeen  \n",
       "0  2016-03-24 00:00:00                 0       70435  2016-04-07 03:16:57  \n",
       "1  2016-03-24 00:00:00                 0       66954  2016-04-07 01:46:50  \n",
       "2  2016-03-14 00:00:00                 0       90480  2016-04-05 12:47:46  \n",
       "3  2016-03-17 00:00:00                 0       91074  2016-03-17 17:40:17  \n",
       "4  2016-03-31 00:00:00                 0       60437  2016-04-06 10:17:21  "
      ]
     },
     "execution_count": 11,
     "metadata": {},
     "output_type": "execute_result"
    }
   ],
   "source": [
    "data.head()"
   ]
  },
  {
   "cell_type": "code",
   "execution_count": 12,
   "metadata": {},
   "outputs": [
    {
     "name": "stdout",
     "output_type": "stream",
     "text": [
      "<class 'pandas.core.frame.DataFrame'>\n",
      "RangeIndex: 354369 entries, 0 to 354368\n",
      "Data columns (total 16 columns):\n",
      " #   Column             Non-Null Count   Dtype \n",
      "---  ------             --------------   ----- \n",
      " 0   DateCrawled        354369 non-null  object\n",
      " 1   Price              354369 non-null  int64 \n",
      " 2   VehicleType        316879 non-null  object\n",
      " 3   RegistrationYear   354369 non-null  int64 \n",
      " 4   Gearbox            334536 non-null  object\n",
      " 5   Power              354369 non-null  int64 \n",
      " 6   Model              334664 non-null  object\n",
      " 7   Kilometer          354369 non-null  int64 \n",
      " 8   RegistrationMonth  354369 non-null  int64 \n",
      " 9   FuelType           321474 non-null  object\n",
      " 10  Brand              354369 non-null  object\n",
      " 11  Repaired           283215 non-null  object\n",
      " 12  DateCreated        354369 non-null  object\n",
      " 13  NumberOfPictures   354369 non-null  int64 \n",
      " 14  PostalCode         354369 non-null  int64 \n",
      " 15  LastSeen           354369 non-null  object\n",
      "dtypes: int64(7), object(9)\n",
      "memory usage: 43.3+ MB\n"
     ]
    }
   ],
   "source": [
    "data.info()"
   ]
  },
  {
   "cell_type": "markdown",
   "metadata": {},
   "source": [
    "#### Проверим на наличие явных дубликатов"
   ]
  },
  {
   "cell_type": "code",
   "execution_count": 13,
   "metadata": {
    "scrolled": false
   },
   "outputs": [
    {
     "data": {
      "text/plain": [
       "'Количество явных дубликатов 4'"
      ]
     },
     "metadata": {},
     "output_type": "display_data"
    }
   ],
   "source": [
    "display(f'Количество явных дубликатов {data.duplicated().sum()}')\n",
    "data.drop_duplicates(inplace=True) #удалим если дубликаты найдены"
   ]
  },
  {
   "cell_type": "markdown",
   "metadata": {},
   "source": [
    "#### Посмотрим разброс значнений целевого признака"
   ]
  },
  {
   "cell_type": "code",
   "execution_count": 14,
   "metadata": {},
   "outputs": [
    {
     "data": {
      "image/png": "[encoded data removed]",
      "text/plain": [
       "<Figure size 432x288 with 1 Axes>"
      ]
     },
     "metadata": {
      "needs_background": "light"
     },
     "output_type": "display_data"
    }
   ],
   "source": [
    "data['Price'].plot(kind='hist', bins=(50), range=(data['Price'].min(),data['Price'].max()))\n",
    "plt.title('Распределение цены автомобиля')\n",
    "plt.xlabel('Цена')\n",
    "plt.ylabel('Количество объявлений')\n",
    "plt.show()"
   ]
  },
  {
   "cell_type": "code",
   "execution_count": 15,
   "metadata": {},
   "outputs": [
    {
     "data": {
      "text/html": [
       "<div>\n",
       "<style scoped>\n",
       "    .dataframe tbody tr th:only-of-type {\n",
       "        vertical-align: middle;\n",
       "    }\n",
       "\n",
       "    .dataframe tbody tr th {\n",
       "        vertical-align: top;\n",
       "    }\n",
       "\n",
       "    .dataframe thead th {\n",
       "        text-align: right;\n",
       "    }\n",
       "</style>\n",
       "<table border=\"1\" class=\"dataframe\">\n",
       "  <thead>\n",
       "    <tr style=\"text-align: right;\">\n",
       "      <th></th>\n",
       "      <th>DateCrawled</th>\n",
       "      <th>Price</th>\n",
       "      <th>VehicleType</th>\n",
       "      <th>RegistrationYear</th>\n",
       "      <th>Gearbox</th>\n",
       "      <th>Power</th>\n",
       "      <th>Model</th>\n",
       "      <th>Kilometer</th>\n",
       "      <th>RegistrationMonth</th>\n",
       "      <th>FuelType</th>\n",
       "      <th>Brand</th>\n",
       "      <th>Repaired</th>\n",
       "      <th>DateCreated</th>\n",
       "      <th>NumberOfPictures</th>\n",
       "      <th>PostalCode</th>\n",
       "      <th>LastSeen</th>\n",
       "    </tr>\n",
       "  </thead>\n",
       "  <tbody>\n",
       "    <tr>\n",
       "      <th>7</th>\n",
       "      <td>2016-03-21 18:54:38</td>\n",
       "      <td>0</td>\n",
       "      <td>sedan</td>\n",
       "      <td>1980</td>\n",
       "      <td>manual</td>\n",
       "      <td>50</td>\n",
       "      <td>other</td>\n",
       "      <td>40000</td>\n",
       "      <td>7</td>\n",
       "      <td>petrol</td>\n",
       "      <td>volkswagen</td>\n",
       "      <td>no</td>\n",
       "      <td>2016-03-21 00:00:00</td>\n",
       "      <td>0</td>\n",
       "      <td>19348</td>\n",
       "      <td>2016-03-25 16:47:58</td>\n",
       "    </tr>\n",
       "    <tr>\n",
       "      <th>40</th>\n",
       "      <td>2016-03-26 22:06:17</td>\n",
       "      <td>0</td>\n",
       "      <td>NaN</td>\n",
       "      <td>1990</td>\n",
       "      <td>NaN</td>\n",
       "      <td>0</td>\n",
       "      <td>corsa</td>\n",
       "      <td>150000</td>\n",
       "      <td>1</td>\n",
       "      <td>petrol</td>\n",
       "      <td>opel</td>\n",
       "      <td>NaN</td>\n",
       "      <td>2016-03-26 00:00:00</td>\n",
       "      <td>0</td>\n",
       "      <td>56412</td>\n",
       "      <td>2016-03-27 17:43:34</td>\n",
       "    </tr>\n",
       "    <tr>\n",
       "      <th>59</th>\n",
       "      <td>2016-03-29 15:48:15</td>\n",
       "      <td>1</td>\n",
       "      <td>suv</td>\n",
       "      <td>1994</td>\n",
       "      <td>manual</td>\n",
       "      <td>286</td>\n",
       "      <td>NaN</td>\n",
       "      <td>150000</td>\n",
       "      <td>11</td>\n",
       "      <td>NaN</td>\n",
       "      <td>sonstige_autos</td>\n",
       "      <td>NaN</td>\n",
       "      <td>2016-03-29 00:00:00</td>\n",
       "      <td>0</td>\n",
       "      <td>53721</td>\n",
       "      <td>2016-04-06 01:44:38</td>\n",
       "    </tr>\n",
       "    <tr>\n",
       "      <th>89</th>\n",
       "      <td>2016-03-28 09:37:01</td>\n",
       "      <td>1</td>\n",
       "      <td>sedan</td>\n",
       "      <td>1995</td>\n",
       "      <td>manual</td>\n",
       "      <td>113</td>\n",
       "      <td>e_klasse</td>\n",
       "      <td>150000</td>\n",
       "      <td>4</td>\n",
       "      <td>gasoline</td>\n",
       "      <td>mercedes_benz</td>\n",
       "      <td>no</td>\n",
       "      <td>2016-03-28 00:00:00</td>\n",
       "      <td>0</td>\n",
       "      <td>40589</td>\n",
       "      <td>2016-04-06 12:15:54</td>\n",
       "    </tr>\n",
       "    <tr>\n",
       "      <th>111</th>\n",
       "      <td>2016-03-19 18:40:12</td>\n",
       "      <td>0</td>\n",
       "      <td>NaN</td>\n",
       "      <td>2017</td>\n",
       "      <td>manual</td>\n",
       "      <td>0</td>\n",
       "      <td>golf</td>\n",
       "      <td>5000</td>\n",
       "      <td>12</td>\n",
       "      <td>petrol</td>\n",
       "      <td>volkswagen</td>\n",
       "      <td>NaN</td>\n",
       "      <td>2016-03-19 00:00:00</td>\n",
       "      <td>0</td>\n",
       "      <td>21698</td>\n",
       "      <td>2016-04-01 08:47:05</td>\n",
       "    </tr>\n",
       "    <tr>\n",
       "      <th>...</th>\n",
       "      <td>...</td>\n",
       "      <td>...</td>\n",
       "      <td>...</td>\n",
       "      <td>...</td>\n",
       "      <td>...</td>\n",
       "      <td>...</td>\n",
       "      <td>...</td>\n",
       "      <td>...</td>\n",
       "      <td>...</td>\n",
       "      <td>...</td>\n",
       "      <td>...</td>\n",
       "      <td>...</td>\n",
       "      <td>...</td>\n",
       "      <td>...</td>\n",
       "      <td>...</td>\n",
       "      <td>...</td>\n",
       "    </tr>\n",
       "    <tr>\n",
       "      <th>354238</th>\n",
       "      <td>2016-03-20 14:55:07</td>\n",
       "      <td>0</td>\n",
       "      <td>small</td>\n",
       "      <td>2002</td>\n",
       "      <td>manual</td>\n",
       "      <td>60</td>\n",
       "      <td>fiesta</td>\n",
       "      <td>150000</td>\n",
       "      <td>3</td>\n",
       "      <td>petrol</td>\n",
       "      <td>ford</td>\n",
       "      <td>NaN</td>\n",
       "      <td>2016-03-20 00:00:00</td>\n",
       "      <td>0</td>\n",
       "      <td>33659</td>\n",
       "      <td>2016-04-06 18:45:23</td>\n",
       "    </tr>\n",
       "    <tr>\n",
       "      <th>354248</th>\n",
       "      <td>2016-03-24 13:48:05</td>\n",
       "      <td>0</td>\n",
       "      <td>small</td>\n",
       "      <td>1999</td>\n",
       "      <td>manual</td>\n",
       "      <td>53</td>\n",
       "      <td>swift</td>\n",
       "      <td>150000</td>\n",
       "      <td>3</td>\n",
       "      <td>petrol</td>\n",
       "      <td>suzuki</td>\n",
       "      <td>NaN</td>\n",
       "      <td>2016-03-24 00:00:00</td>\n",
       "      <td>0</td>\n",
       "      <td>42329</td>\n",
       "      <td>2016-04-07 05:17:24</td>\n",
       "    </tr>\n",
       "    <tr>\n",
       "      <th>354277</th>\n",
       "      <td>2016-03-10 22:55:50</td>\n",
       "      <td>0</td>\n",
       "      <td>small</td>\n",
       "      <td>1999</td>\n",
       "      <td>manual</td>\n",
       "      <td>37</td>\n",
       "      <td>arosa</td>\n",
       "      <td>150000</td>\n",
       "      <td>7</td>\n",
       "      <td>petrol</td>\n",
       "      <td>seat</td>\n",
       "      <td>yes</td>\n",
       "      <td>2016-03-10 00:00:00</td>\n",
       "      <td>0</td>\n",
       "      <td>22559</td>\n",
       "      <td>2016-03-12 23:46:32</td>\n",
       "    </tr>\n",
       "    <tr>\n",
       "      <th>354309</th>\n",
       "      <td>2016-03-09 22:37:41</td>\n",
       "      <td>99</td>\n",
       "      <td>small</td>\n",
       "      <td>1999</td>\n",
       "      <td>manual</td>\n",
       "      <td>60</td>\n",
       "      <td>arosa</td>\n",
       "      <td>150000</td>\n",
       "      <td>1</td>\n",
       "      <td>petrol</td>\n",
       "      <td>seat</td>\n",
       "      <td>yes</td>\n",
       "      <td>2016-03-09 00:00:00</td>\n",
       "      <td>0</td>\n",
       "      <td>91301</td>\n",
       "      <td>2016-04-06 22:15:32</td>\n",
       "    </tr>\n",
       "    <tr>\n",
       "      <th>354364</th>\n",
       "      <td>2016-03-21 09:50:58</td>\n",
       "      <td>0</td>\n",
       "      <td>NaN</td>\n",
       "      <td>2005</td>\n",
       "      <td>manual</td>\n",
       "      <td>0</td>\n",
       "      <td>colt</td>\n",
       "      <td>150000</td>\n",
       "      <td>7</td>\n",
       "      <td>petrol</td>\n",
       "      <td>mitsubishi</td>\n",
       "      <td>yes</td>\n",
       "      <td>2016-03-21 00:00:00</td>\n",
       "      <td>0</td>\n",
       "      <td>2694</td>\n",
       "      <td>2016-03-21 10:42:49</td>\n",
       "    </tr>\n",
       "  </tbody>\n",
       "</table>\n",
       "<p>13314 rows × 16 columns</p>\n",
       "</div>"
      ],
      "text/plain": [
       "                DateCrawled  Price VehicleType  RegistrationYear Gearbox  \\\n",
       "7       2016-03-21 18:54:38      0       sedan              1980  manual   \n",
       "40      2016-03-26 22:06:17      0         NaN              1990     NaN   \n",
       "59      2016-03-29 15:48:15      1         suv              1994  manual   \n",
       "89      2016-03-28 09:37:01      1       sedan              1995  manual   \n",
       "111     2016-03-19 18:40:12      0         NaN              2017  manual   \n",
       "...                     ...    ...         ...               ...     ...   \n",
       "354238  2016-03-20 14:55:07      0       small              2002  manual   \n",
       "354248  2016-03-24 13:48:05      0       small              1999  manual   \n",
       "354277  2016-03-10 22:55:50      0       small              1999  manual   \n",
       "354309  2016-03-09 22:37:41     99       small              1999  manual   \n",
       "354364  2016-03-21 09:50:58      0         NaN              2005  manual   \n",
       "\n",
       "        Power     Model  Kilometer  RegistrationMonth  FuelType  \\\n",
       "7          50     other      40000                  7    petrol   \n",
       "40          0     corsa     150000                  1    petrol   \n",
       "59        286       NaN     150000                 11       NaN   \n",
       "89        113  e_klasse     150000                  4  gasoline   \n",
       "111         0      golf       5000                 12    petrol   \n",
       "...       ...       ...        ...                ...       ...   \n",
       "354238     60    fiesta     150000                  3    petrol   \n",
       "354248     53     swift     150000                  3    petrol   \n",
       "354277     37     arosa     150000                  7    petrol   \n",
       "354309     60     arosa     150000                  1    petrol   \n",
       "354364      0      colt     150000                  7    petrol   \n",
       "\n",
       "                 Brand Repaired          DateCreated  NumberOfPictures  \\\n",
       "7           volkswagen       no  2016-03-21 00:00:00                 0   \n",
       "40                opel      NaN  2016-03-26 00:00:00                 0   \n",
       "59      sonstige_autos      NaN  2016-03-29 00:00:00                 0   \n",
       "89       mercedes_benz       no  2016-03-28 00:00:00                 0   \n",
       "111         volkswagen      NaN  2016-03-19 00:00:00                 0   \n",
       "...                ...      ...                  ...               ...   \n",
       "354238            ford      NaN  2016-03-20 00:00:00                 0   \n",
       "354248          suzuki      NaN  2016-03-24 00:00:00                 0   \n",
       "354277            seat      yes  2016-03-10 00:00:00                 0   \n",
       "354309            seat      yes  2016-03-09 00:00:00                 0   \n",
       "354364      mitsubishi      yes  2016-03-21 00:00:00                 0   \n",
       "\n",
       "        PostalCode             LastSeen  \n",
       "7            19348  2016-03-25 16:47:58  \n",
       "40           56412  2016-03-27 17:43:34  \n",
       "59           53721  2016-04-06 01:44:38  \n",
       "89           40589  2016-04-06 12:15:54  \n",
       "111          21698  2016-04-01 08:47:05  \n",
       "...            ...                  ...  \n",
       "354238       33659  2016-04-06 18:45:23  \n",
       "354248       42329  2016-04-07 05:17:24  \n",
       "354277       22559  2016-03-12 23:46:32  \n",
       "354309       91301  2016-04-06 22:15:32  \n",
       "354364        2694  2016-03-21 10:42:49  \n",
       "\n",
       "[13314 rows x 16 columns]"
      ]
     },
     "execution_count": 15,
     "metadata": {},
     "output_type": "execute_result"
    }
   ],
   "source": [
    "# выведем на экран объяления с ценой автомобилей до 100 евро\n",
    "data[data['Price'] < 100]"
   ]
  },
  {
   "cell_type": "code",
   "execution_count": 16,
   "metadata": {},
   "outputs": [],
   "source": [
    "# оставим в датасете только объявление с ценой автомобиля свыше 100 евро. Остальные посчитаем \"ошибкой\" в данных.\n",
    "data = data[data['Price']>=100]"
   ]
  },
  {
   "cell_type": "markdown",
   "metadata": {},
   "source": [
    "#### Обработаем пропуски в данных"
   ]
  },
  {
   "cell_type": "code",
   "execution_count": 17,
   "metadata": {
    "scrolled": true
   },
   "outputs": [
    {
     "data": {
      "text/plain": [
       "DateCrawled              0\n",
       "Price                    0\n",
       "VehicleType          32612\n",
       "RegistrationYear         0\n",
       "Gearbox              16314\n",
       "Power                    0\n",
       "Model                17033\n",
       "Kilometer                0\n",
       "RegistrationMonth        0\n",
       "FuelType             28349\n",
       "Brand                    0\n",
       "Repaired             64357\n",
       "DateCreated              0\n",
       "NumberOfPictures         0\n",
       "PostalCode               0\n",
       "LastSeen                 0\n",
       "dtype: int64"
      ]
     },
     "execution_count": 17,
     "metadata": {},
     "output_type": "execute_result"
    }
   ],
   "source": [
    "data.isna().sum()"
   ]
  },
  {
   "cell_type": "markdown",
   "metadata": {},
   "source": [
    "##### Обработаем пропуски в столбце **VehicleType** = тип кузова"
   ]
  },
  {
   "cell_type": "code",
   "execution_count": 18,
   "metadata": {
    "scrolled": true
   },
   "outputs": [
    {
     "data": {
      "text/html": [
       "<div>\n",
       "<style scoped>\n",
       "    .dataframe tbody tr th:only-of-type {\n",
       "        vertical-align: middle;\n",
       "    }\n",
       "\n",
       "    .dataframe tbody tr th {\n",
       "        vertical-align: top;\n",
       "    }\n",
       "\n",
       "    .dataframe thead th {\n",
       "        text-align: right;\n",
       "    }\n",
       "</style>\n",
       "<table border=\"1\" class=\"dataframe\">\n",
       "  <thead>\n",
       "    <tr style=\"text-align: right;\">\n",
       "      <th></th>\n",
       "      <th>DateCrawled</th>\n",
       "      <th>Price</th>\n",
       "      <th>VehicleType</th>\n",
       "      <th>RegistrationYear</th>\n",
       "      <th>Gearbox</th>\n",
       "      <th>Power</th>\n",
       "      <th>Model</th>\n",
       "      <th>Kilometer</th>\n",
       "      <th>RegistrationMonth</th>\n",
       "      <th>FuelType</th>\n",
       "      <th>Brand</th>\n",
       "      <th>Repaired</th>\n",
       "      <th>DateCreated</th>\n",
       "      <th>NumberOfPictures</th>\n",
       "      <th>PostalCode</th>\n",
       "      <th>LastSeen</th>\n",
       "    </tr>\n",
       "  </thead>\n",
       "  <tbody>\n",
       "    <tr>\n",
       "      <th>0</th>\n",
       "      <td>2016-03-24 11:52:17</td>\n",
       "      <td>480</td>\n",
       "      <td>NaN</td>\n",
       "      <td>1993</td>\n",
       "      <td>manual</td>\n",
       "      <td>0</td>\n",
       "      <td>golf</td>\n",
       "      <td>150000</td>\n",
       "      <td>0</td>\n",
       "      <td>petrol</td>\n",
       "      <td>volkswagen</td>\n",
       "      <td>NaN</td>\n",
       "      <td>2016-03-24 00:00:00</td>\n",
       "      <td>0</td>\n",
       "      <td>70435</td>\n",
       "      <td>2016-04-07 03:16:57</td>\n",
       "    </tr>\n",
       "    <tr>\n",
       "      <th>16</th>\n",
       "      <td>2016-04-01 12:46:46</td>\n",
       "      <td>300</td>\n",
       "      <td>NaN</td>\n",
       "      <td>2016</td>\n",
       "      <td>NaN</td>\n",
       "      <td>60</td>\n",
       "      <td>polo</td>\n",
       "      <td>150000</td>\n",
       "      <td>0</td>\n",
       "      <td>petrol</td>\n",
       "      <td>volkswagen</td>\n",
       "      <td>NaN</td>\n",
       "      <td>2016-04-01 00:00:00</td>\n",
       "      <td>0</td>\n",
       "      <td>38871</td>\n",
       "      <td>2016-04-01 12:46:46</td>\n",
       "    </tr>\n",
       "    <tr>\n",
       "      <th>22</th>\n",
       "      <td>2016-03-23 14:52:51</td>\n",
       "      <td>2900</td>\n",
       "      <td>NaN</td>\n",
       "      <td>2018</td>\n",
       "      <td>manual</td>\n",
       "      <td>90</td>\n",
       "      <td>meriva</td>\n",
       "      <td>150000</td>\n",
       "      <td>5</td>\n",
       "      <td>petrol</td>\n",
       "      <td>opel</td>\n",
       "      <td>no</td>\n",
       "      <td>2016-03-23 00:00:00</td>\n",
       "      <td>0</td>\n",
       "      <td>49716</td>\n",
       "      <td>2016-03-31 01:16:33</td>\n",
       "    </tr>\n",
       "    <tr>\n",
       "      <th>26</th>\n",
       "      <td>2016-03-10 19:38:18</td>\n",
       "      <td>5555</td>\n",
       "      <td>NaN</td>\n",
       "      <td>2017</td>\n",
       "      <td>manual</td>\n",
       "      <td>125</td>\n",
       "      <td>c4</td>\n",
       "      <td>125000</td>\n",
       "      <td>4</td>\n",
       "      <td>NaN</td>\n",
       "      <td>citroen</td>\n",
       "      <td>no</td>\n",
       "      <td>2016-03-10 00:00:00</td>\n",
       "      <td>0</td>\n",
       "      <td>31139</td>\n",
       "      <td>2016-03-16 09:16:46</td>\n",
       "    </tr>\n",
       "    <tr>\n",
       "      <th>31</th>\n",
       "      <td>2016-03-29 16:57:02</td>\n",
       "      <td>899</td>\n",
       "      <td>NaN</td>\n",
       "      <td>2016</td>\n",
       "      <td>manual</td>\n",
       "      <td>60</td>\n",
       "      <td>clio</td>\n",
       "      <td>150000</td>\n",
       "      <td>6</td>\n",
       "      <td>petrol</td>\n",
       "      <td>renault</td>\n",
       "      <td>NaN</td>\n",
       "      <td>2016-03-29 00:00:00</td>\n",
       "      <td>0</td>\n",
       "      <td>37075</td>\n",
       "      <td>2016-03-29 17:43:07</td>\n",
       "    </tr>\n",
       "    <tr>\n",
       "      <th>...</th>\n",
       "      <td>...</td>\n",
       "      <td>...</td>\n",
       "      <td>...</td>\n",
       "      <td>...</td>\n",
       "      <td>...</td>\n",
       "      <td>...</td>\n",
       "      <td>...</td>\n",
       "      <td>...</td>\n",
       "      <td>...</td>\n",
       "      <td>...</td>\n",
       "      <td>...</td>\n",
       "      <td>...</td>\n",
       "      <td>...</td>\n",
       "      <td>...</td>\n",
       "      <td>...</td>\n",
       "      <td>...</td>\n",
       "    </tr>\n",
       "    <tr>\n",
       "      <th>354338</th>\n",
       "      <td>2016-03-31 19:52:33</td>\n",
       "      <td>180</td>\n",
       "      <td>NaN</td>\n",
       "      <td>1995</td>\n",
       "      <td>NaN</td>\n",
       "      <td>0</td>\n",
       "      <td>NaN</td>\n",
       "      <td>125000</td>\n",
       "      <td>3</td>\n",
       "      <td>petrol</td>\n",
       "      <td>opel</td>\n",
       "      <td>NaN</td>\n",
       "      <td>2016-03-31 00:00:00</td>\n",
       "      <td>0</td>\n",
       "      <td>41470</td>\n",
       "      <td>2016-04-06 14:18:04</td>\n",
       "    </tr>\n",
       "    <tr>\n",
       "      <th>354346</th>\n",
       "      <td>2016-03-07 17:06:35</td>\n",
       "      <td>2600</td>\n",
       "      <td>NaN</td>\n",
       "      <td>2005</td>\n",
       "      <td>auto</td>\n",
       "      <td>0</td>\n",
       "      <td>c_klasse</td>\n",
       "      <td>150000</td>\n",
       "      <td>9</td>\n",
       "      <td>NaN</td>\n",
       "      <td>mercedes_benz</td>\n",
       "      <td>NaN</td>\n",
       "      <td>2016-03-07 00:00:00</td>\n",
       "      <td>0</td>\n",
       "      <td>61169</td>\n",
       "      <td>2016-03-08 21:28:38</td>\n",
       "    </tr>\n",
       "    <tr>\n",
       "      <th>354351</th>\n",
       "      <td>2016-03-11 23:40:32</td>\n",
       "      <td>1900</td>\n",
       "      <td>NaN</td>\n",
       "      <td>2000</td>\n",
       "      <td>manual</td>\n",
       "      <td>110</td>\n",
       "      <td>NaN</td>\n",
       "      <td>150000</td>\n",
       "      <td>7</td>\n",
       "      <td>NaN</td>\n",
       "      <td>volkswagen</td>\n",
       "      <td>no</td>\n",
       "      <td>2016-03-11 00:00:00</td>\n",
       "      <td>0</td>\n",
       "      <td>87700</td>\n",
       "      <td>2016-03-12 14:16:51</td>\n",
       "    </tr>\n",
       "    <tr>\n",
       "      <th>354361</th>\n",
       "      <td>2016-03-09 13:37:43</td>\n",
       "      <td>5250</td>\n",
       "      <td>NaN</td>\n",
       "      <td>2016</td>\n",
       "      <td>auto</td>\n",
       "      <td>150</td>\n",
       "      <td>159</td>\n",
       "      <td>150000</td>\n",
       "      <td>12</td>\n",
       "      <td>NaN</td>\n",
       "      <td>alfa_romeo</td>\n",
       "      <td>no</td>\n",
       "      <td>2016-03-09 00:00:00</td>\n",
       "      <td>0</td>\n",
       "      <td>51371</td>\n",
       "      <td>2016-03-13 01:44:13</td>\n",
       "    </tr>\n",
       "    <tr>\n",
       "      <th>354365</th>\n",
       "      <td>2016-03-14 17:48:27</td>\n",
       "      <td>2200</td>\n",
       "      <td>NaN</td>\n",
       "      <td>2005</td>\n",
       "      <td>NaN</td>\n",
       "      <td>0</td>\n",
       "      <td>NaN</td>\n",
       "      <td>20000</td>\n",
       "      <td>1</td>\n",
       "      <td>NaN</td>\n",
       "      <td>sonstige_autos</td>\n",
       "      <td>NaN</td>\n",
       "      <td>2016-03-14 00:00:00</td>\n",
       "      <td>0</td>\n",
       "      <td>39576</td>\n",
       "      <td>2016-04-06 00:46:52</td>\n",
       "    </tr>\n",
       "  </tbody>\n",
       "</table>\n",
       "<p>32612 rows × 16 columns</p>\n",
       "</div>"
      ],
      "text/plain": [
       "                DateCrawled  Price VehicleType  RegistrationYear Gearbox  \\\n",
       "0       2016-03-24 11:52:17    480         NaN              1993  manual   \n",
       "16      2016-04-01 12:46:46    300         NaN              2016     NaN   \n",
       "22      2016-03-23 14:52:51   2900         NaN              2018  manual   \n",
       "26      2016-03-10 19:38:18   5555         NaN              2017  manual   \n",
       "31      2016-03-29 16:57:02    899         NaN              2016  manual   \n",
       "...                     ...    ...         ...               ...     ...   \n",
       "354338  2016-03-31 19:52:33    180         NaN              1995     NaN   \n",
       "354346  2016-03-07 17:06:35   2600         NaN              2005    auto   \n",
       "354351  2016-03-11 23:40:32   1900         NaN              2000  manual   \n",
       "354361  2016-03-09 13:37:43   5250         NaN              2016    auto   \n",
       "354365  2016-03-14 17:48:27   2200         NaN              2005     NaN   \n",
       "\n",
       "        Power     Model  Kilometer  RegistrationMonth FuelType  \\\n",
       "0           0      golf     150000                  0   petrol   \n",
       "16         60      polo     150000                  0   petrol   \n",
       "22         90    meriva     150000                  5   petrol   \n",
       "26        125        c4     125000                  4      NaN   \n",
       "31         60      clio     150000                  6   petrol   \n",
       "...       ...       ...        ...                ...      ...   \n",
       "354338      0       NaN     125000                  3   petrol   \n",
       "354346      0  c_klasse     150000                  9      NaN   \n",
       "354351    110       NaN     150000                  7      NaN   \n",
       "354361    150       159     150000                 12      NaN   \n",
       "354365      0       NaN      20000                  1      NaN   \n",
       "\n",
       "                 Brand Repaired          DateCreated  NumberOfPictures  \\\n",
       "0           volkswagen      NaN  2016-03-24 00:00:00                 0   \n",
       "16          volkswagen      NaN  2016-04-01 00:00:00                 0   \n",
       "22                opel       no  2016-03-23 00:00:00                 0   \n",
       "26             citroen       no  2016-03-10 00:00:00                 0   \n",
       "31             renault      NaN  2016-03-29 00:00:00                 0   \n",
       "...                ...      ...                  ...               ...   \n",
       "354338            opel      NaN  2016-03-31 00:00:00                 0   \n",
       "354346   mercedes_benz      NaN  2016-03-07 00:00:00                 0   \n",
       "354351      volkswagen       no  2016-03-11 00:00:00                 0   \n",
       "354361      alfa_romeo       no  2016-03-09 00:00:00                 0   \n",
       "354365  sonstige_autos      NaN  2016-03-14 00:00:00                 0   \n",
       "\n",
       "        PostalCode             LastSeen  \n",
       "0            70435  2016-04-07 03:16:57  \n",
       "16           38871  2016-04-01 12:46:46  \n",
       "22           49716  2016-03-31 01:16:33  \n",
       "26           31139  2016-03-16 09:16:46  \n",
       "31           37075  2016-03-29 17:43:07  \n",
       "...            ...                  ...  \n",
       "354338       41470  2016-04-06 14:18:04  \n",
       "354346       61169  2016-03-08 21:28:38  \n",
       "354351       87700  2016-03-12 14:16:51  \n",
       "354361       51371  2016-03-13 01:44:13  \n",
       "354365       39576  2016-04-06 00:46:52  \n",
       "\n",
       "[32612 rows x 16 columns]"
      ]
     },
     "execution_count": 18,
     "metadata": {},
     "output_type": "execute_result"
    }
   ],
   "source": [
    "data[data['VehicleType'].isna()]"
   ]
  },
  {
   "cell_type": "markdown",
   "metadata": {},
   "source": [
    "Проверим можно ли заполнить столбец **VehicleType**, если известен **Brand и Model**"
   ]
  },
  {
   "cell_type": "code",
   "execution_count": 19,
   "metadata": {
    "scrolled": false
   },
   "outputs": [
    {
     "data": {
      "text/html": [
       "<div>\n",
       "<style scoped>\n",
       "    .dataframe tbody tr th:only-of-type {\n",
       "        vertical-align: middle;\n",
       "    }\n",
       "\n",
       "    .dataframe tbody tr th {\n",
       "        vertical-align: top;\n",
       "    }\n",
       "\n",
       "    .dataframe thead th {\n",
       "        text-align: right;\n",
       "    }\n",
       "</style>\n",
       "<table border=\"1\" class=\"dataframe\">\n",
       "  <thead>\n",
       "    <tr style=\"text-align: right;\">\n",
       "      <th></th>\n",
       "      <th>Brand</th>\n",
       "      <th>Model</th>\n",
       "      <th>VehicleType</th>\n",
       "      <th>NumberOfPictures</th>\n",
       "    </tr>\n",
       "  </thead>\n",
       "  <tbody>\n",
       "    <tr>\n",
       "      <th>0</th>\n",
       "      <td>alfa_romeo</td>\n",
       "      <td>145</td>\n",
       "      <td>coupe</td>\n",
       "      <td>0</td>\n",
       "    </tr>\n",
       "    <tr>\n",
       "      <th>1</th>\n",
       "      <td>alfa_romeo</td>\n",
       "      <td>145</td>\n",
       "      <td>other</td>\n",
       "      <td>0</td>\n",
       "    </tr>\n",
       "    <tr>\n",
       "      <th>2</th>\n",
       "      <td>alfa_romeo</td>\n",
       "      <td>145</td>\n",
       "      <td>sedan</td>\n",
       "      <td>0</td>\n",
       "    </tr>\n",
       "    <tr>\n",
       "      <th>3</th>\n",
       "      <td>alfa_romeo</td>\n",
       "      <td>145</td>\n",
       "      <td>small</td>\n",
       "      <td>0</td>\n",
       "    </tr>\n",
       "    <tr>\n",
       "      <th>4</th>\n",
       "      <td>alfa_romeo</td>\n",
       "      <td>147</td>\n",
       "      <td>coupe</td>\n",
       "      <td>0</td>\n",
       "    </tr>\n",
       "    <tr>\n",
       "      <th>...</th>\n",
       "      <td>...</td>\n",
       "      <td>...</td>\n",
       "      <td>...</td>\n",
       "      <td>...</td>\n",
       "    </tr>\n",
       "    <tr>\n",
       "      <th>1392</th>\n",
       "      <td>volvo</td>\n",
       "      <td>v70</td>\n",
       "      <td>coupe</td>\n",
       "      <td>0</td>\n",
       "    </tr>\n",
       "    <tr>\n",
       "      <th>1393</th>\n",
       "      <td>volvo</td>\n",
       "      <td>v70</td>\n",
       "      <td>wagon</td>\n",
       "      <td>0</td>\n",
       "    </tr>\n",
       "    <tr>\n",
       "      <th>1394</th>\n",
       "      <td>volvo</td>\n",
       "      <td>xc_reihe</td>\n",
       "      <td>sedan</td>\n",
       "      <td>0</td>\n",
       "    </tr>\n",
       "    <tr>\n",
       "      <th>1395</th>\n",
       "      <td>volvo</td>\n",
       "      <td>xc_reihe</td>\n",
       "      <td>suv</td>\n",
       "      <td>0</td>\n",
       "    </tr>\n",
       "    <tr>\n",
       "      <th>1396</th>\n",
       "      <td>volvo</td>\n",
       "      <td>xc_reihe</td>\n",
       "      <td>wagon</td>\n",
       "      <td>0</td>\n",
       "    </tr>\n",
       "  </tbody>\n",
       "</table>\n",
       "<p>1397 rows × 4 columns</p>\n",
       "</div>"
      ],
      "text/plain": [
       "           Brand     Model VehicleType  NumberOfPictures\n",
       "0     alfa_romeo       145       coupe                 0\n",
       "1     alfa_romeo       145       other                 0\n",
       "2     alfa_romeo       145       sedan                 0\n",
       "3     alfa_romeo       145       small                 0\n",
       "4     alfa_romeo       147       coupe                 0\n",
       "...          ...       ...         ...               ...\n",
       "1392       volvo       v70       coupe                 0\n",
       "1393       volvo       v70       wagon                 0\n",
       "1394       volvo  xc_reihe       sedan                 0\n",
       "1395       volvo  xc_reihe         suv                 0\n",
       "1396       volvo  xc_reihe       wagon                 0\n",
       "\n",
       "[1397 rows x 4 columns]"
      ]
     },
     "execution_count": 19,
     "metadata": {},
     "output_type": "execute_result"
    }
   ],
   "source": [
    "data.pivot_table(index=['Brand','Model','VehicleType'], values='NumberOfPictures', aggfunc='sum').reset_index()"
   ]
  },
  {
   "cell_type": "markdown",
   "metadata": {},
   "source": [
    "Вывод: Нельзя заполнить столбец  **VehicleType**, если известен **Brand и Model**, т.к. из таблицы видно, что одна и таже марка автомобиля одинаковой модели может иметь разный тип кузова.  \n",
    "Заполним пропуски \"загрушкой\" = unknown"
   ]
  },
  {
   "cell_type": "code",
   "execution_count": 20,
   "metadata": {
    "scrolled": true
   },
   "outputs": [
    {
     "data": {
      "text/plain": [
       "sedan          89087\n",
       "small          77443\n",
       "wagon          63464\n",
       "bus            28265\n",
       "convertible    19817\n",
       "coupe          15553\n",
       "suv            11762\n",
       "other           3048\n",
       "Name: VehicleType, dtype: int64"
      ]
     },
     "execution_count": 20,
     "metadata": {},
     "output_type": "execute_result"
    }
   ],
   "source": [
    "data['VehicleType'].value_counts()"
   ]
  },
  {
   "cell_type": "code",
   "execution_count": 21,
   "metadata": {},
   "outputs": [],
   "source": [
    "data.loc[data['VehicleType'].isna(),'VehicleType'] = 'unknown'"
   ]
  },
  {
   "cell_type": "code",
   "execution_count": 22,
   "metadata": {},
   "outputs": [
    {
     "data": {
      "text/plain": [
       "sedan          89087\n",
       "small          77443\n",
       "wagon          63464\n",
       "unknown        32612\n",
       "bus            28265\n",
       "convertible    19817\n",
       "coupe          15553\n",
       "suv            11762\n",
       "other           3048\n",
       "Name: VehicleType, dtype: int64"
      ]
     },
     "execution_count": 22,
     "metadata": {},
     "output_type": "execute_result"
    }
   ],
   "source": [
    "data['VehicleType'].value_counts()"
   ]
  },
  {
   "cell_type": "markdown",
   "metadata": {},
   "source": [
    "##### Обработаем пропуски в столбце **Gearbox** = коробка передач"
   ]
  },
  {
   "cell_type": "code",
   "execution_count": 23,
   "metadata": {
    "scrolled": true
   },
   "outputs": [
    {
     "data": {
      "text/html": [
       "<div>\n",
       "<style scoped>\n",
       "    .dataframe tbody tr th:only-of-type {\n",
       "        vertical-align: middle;\n",
       "    }\n",
       "\n",
       "    .dataframe tbody tr th {\n",
       "        vertical-align: top;\n",
       "    }\n",
       "\n",
       "    .dataframe thead th {\n",
       "        text-align: right;\n",
       "    }\n",
       "</style>\n",
       "<table border=\"1\" class=\"dataframe\">\n",
       "  <thead>\n",
       "    <tr style=\"text-align: right;\">\n",
       "      <th></th>\n",
       "      <th>DateCrawled</th>\n",
       "      <th>Price</th>\n",
       "      <th>VehicleType</th>\n",
       "      <th>RegistrationYear</th>\n",
       "      <th>Gearbox</th>\n",
       "      <th>Power</th>\n",
       "      <th>Model</th>\n",
       "      <th>Kilometer</th>\n",
       "      <th>RegistrationMonth</th>\n",
       "      <th>FuelType</th>\n",
       "      <th>Brand</th>\n",
       "      <th>Repaired</th>\n",
       "      <th>DateCreated</th>\n",
       "      <th>NumberOfPictures</th>\n",
       "      <th>PostalCode</th>\n",
       "      <th>LastSeen</th>\n",
       "    </tr>\n",
       "  </thead>\n",
       "  <tbody>\n",
       "    <tr>\n",
       "      <th>15</th>\n",
       "      <td>2016-03-11 21:39:15</td>\n",
       "      <td>450</td>\n",
       "      <td>small</td>\n",
       "      <td>1910</td>\n",
       "      <td>NaN</td>\n",
       "      <td>0</td>\n",
       "      <td>ka</td>\n",
       "      <td>5000</td>\n",
       "      <td>0</td>\n",
       "      <td>petrol</td>\n",
       "      <td>ford</td>\n",
       "      <td>NaN</td>\n",
       "      <td>2016-03-11 00:00:00</td>\n",
       "      <td>0</td>\n",
       "      <td>24148</td>\n",
       "      <td>2016-03-19 08:46:47</td>\n",
       "    </tr>\n",
       "    <tr>\n",
       "      <th>16</th>\n",
       "      <td>2016-04-01 12:46:46</td>\n",
       "      <td>300</td>\n",
       "      <td>unknown</td>\n",
       "      <td>2016</td>\n",
       "      <td>NaN</td>\n",
       "      <td>60</td>\n",
       "      <td>polo</td>\n",
       "      <td>150000</td>\n",
       "      <td>0</td>\n",
       "      <td>petrol</td>\n",
       "      <td>volkswagen</td>\n",
       "      <td>NaN</td>\n",
       "      <td>2016-04-01 00:00:00</td>\n",
       "      <td>0</td>\n",
       "      <td>38871</td>\n",
       "      <td>2016-04-01 12:46:46</td>\n",
       "    </tr>\n",
       "    <tr>\n",
       "      <th>32</th>\n",
       "      <td>2016-03-15 20:59:01</td>\n",
       "      <td>245</td>\n",
       "      <td>sedan</td>\n",
       "      <td>1994</td>\n",
       "      <td>NaN</td>\n",
       "      <td>0</td>\n",
       "      <td>golf</td>\n",
       "      <td>150000</td>\n",
       "      <td>2</td>\n",
       "      <td>petrol</td>\n",
       "      <td>volkswagen</td>\n",
       "      <td>no</td>\n",
       "      <td>2016-03-15 00:00:00</td>\n",
       "      <td>0</td>\n",
       "      <td>44145</td>\n",
       "      <td>2016-03-17 18:17:43</td>\n",
       "    </tr>\n",
       "    <tr>\n",
       "      <th>37</th>\n",
       "      <td>2016-03-28 17:50:15</td>\n",
       "      <td>1500</td>\n",
       "      <td>unknown</td>\n",
       "      <td>2016</td>\n",
       "      <td>NaN</td>\n",
       "      <td>0</td>\n",
       "      <td>kangoo</td>\n",
       "      <td>150000</td>\n",
       "      <td>1</td>\n",
       "      <td>gasoline</td>\n",
       "      <td>renault</td>\n",
       "      <td>no</td>\n",
       "      <td>2016-03-28 00:00:00</td>\n",
       "      <td>0</td>\n",
       "      <td>46483</td>\n",
       "      <td>2016-03-30 09:18:02</td>\n",
       "    </tr>\n",
       "    <tr>\n",
       "      <th>69</th>\n",
       "      <td>2016-04-01 11:56:40</td>\n",
       "      <td>1200</td>\n",
       "      <td>coupe</td>\n",
       "      <td>2001</td>\n",
       "      <td>NaN</td>\n",
       "      <td>0</td>\n",
       "      <td>astra</td>\n",
       "      <td>150000</td>\n",
       "      <td>0</td>\n",
       "      <td>NaN</td>\n",
       "      <td>opel</td>\n",
       "      <td>NaN</td>\n",
       "      <td>2016-04-01 00:00:00</td>\n",
       "      <td>0</td>\n",
       "      <td>47249</td>\n",
       "      <td>2016-04-07 08:46:07</td>\n",
       "    </tr>\n",
       "    <tr>\n",
       "      <th>...</th>\n",
       "      <td>...</td>\n",
       "      <td>...</td>\n",
       "      <td>...</td>\n",
       "      <td>...</td>\n",
       "      <td>...</td>\n",
       "      <td>...</td>\n",
       "      <td>...</td>\n",
       "      <td>...</td>\n",
       "      <td>...</td>\n",
       "      <td>...</td>\n",
       "      <td>...</td>\n",
       "      <td>...</td>\n",
       "      <td>...</td>\n",
       "      <td>...</td>\n",
       "      <td>...</td>\n",
       "      <td>...</td>\n",
       "    </tr>\n",
       "    <tr>\n",
       "      <th>354288</th>\n",
       "      <td>2016-03-16 13:36:25</td>\n",
       "      <td>3300</td>\n",
       "      <td>wagon</td>\n",
       "      <td>2006</td>\n",
       "      <td>NaN</td>\n",
       "      <td>0</td>\n",
       "      <td>touran</td>\n",
       "      <td>150000</td>\n",
       "      <td>7</td>\n",
       "      <td>gasoline</td>\n",
       "      <td>volkswagen</td>\n",
       "      <td>NaN</td>\n",
       "      <td>2016-03-16 00:00:00</td>\n",
       "      <td>0</td>\n",
       "      <td>12057</td>\n",
       "      <td>2016-03-17 12:17:07</td>\n",
       "    </tr>\n",
       "    <tr>\n",
       "      <th>354305</th>\n",
       "      <td>2016-04-03 13:46:24</td>\n",
       "      <td>3500</td>\n",
       "      <td>unknown</td>\n",
       "      <td>1995</td>\n",
       "      <td>NaN</td>\n",
       "      <td>0</td>\n",
       "      <td>polo</td>\n",
       "      <td>150000</td>\n",
       "      <td>0</td>\n",
       "      <td>NaN</td>\n",
       "      <td>volkswagen</td>\n",
       "      <td>NaN</td>\n",
       "      <td>2016-04-03 00:00:00</td>\n",
       "      <td>0</td>\n",
       "      <td>74579</td>\n",
       "      <td>2016-04-05 12:44:38</td>\n",
       "    </tr>\n",
       "    <tr>\n",
       "      <th>354329</th>\n",
       "      <td>2016-03-30 20:55:30</td>\n",
       "      <td>350</td>\n",
       "      <td>small</td>\n",
       "      <td>1996</td>\n",
       "      <td>NaN</td>\n",
       "      <td>65</td>\n",
       "      <td>punto</td>\n",
       "      <td>150000</td>\n",
       "      <td>0</td>\n",
       "      <td>NaN</td>\n",
       "      <td>fiat</td>\n",
       "      <td>NaN</td>\n",
       "      <td>2016-03-30 00:00:00</td>\n",
       "      <td>0</td>\n",
       "      <td>25436</td>\n",
       "      <td>2016-04-07 13:50:41</td>\n",
       "    </tr>\n",
       "    <tr>\n",
       "      <th>354338</th>\n",
       "      <td>2016-03-31 19:52:33</td>\n",
       "      <td>180</td>\n",
       "      <td>unknown</td>\n",
       "      <td>1995</td>\n",
       "      <td>NaN</td>\n",
       "      <td>0</td>\n",
       "      <td>NaN</td>\n",
       "      <td>125000</td>\n",
       "      <td>3</td>\n",
       "      <td>petrol</td>\n",
       "      <td>opel</td>\n",
       "      <td>NaN</td>\n",
       "      <td>2016-03-31 00:00:00</td>\n",
       "      <td>0</td>\n",
       "      <td>41470</td>\n",
       "      <td>2016-04-06 14:18:04</td>\n",
       "    </tr>\n",
       "    <tr>\n",
       "      <th>354365</th>\n",
       "      <td>2016-03-14 17:48:27</td>\n",
       "      <td>2200</td>\n",
       "      <td>unknown</td>\n",
       "      <td>2005</td>\n",
       "      <td>NaN</td>\n",
       "      <td>0</td>\n",
       "      <td>NaN</td>\n",
       "      <td>20000</td>\n",
       "      <td>1</td>\n",
       "      <td>NaN</td>\n",
       "      <td>sonstige_autos</td>\n",
       "      <td>NaN</td>\n",
       "      <td>2016-03-14 00:00:00</td>\n",
       "      <td>0</td>\n",
       "      <td>39576</td>\n",
       "      <td>2016-04-06 00:46:52</td>\n",
       "    </tr>\n",
       "  </tbody>\n",
       "</table>\n",
       "<p>16314 rows × 16 columns</p>\n",
       "</div>"
      ],
      "text/plain": [
       "                DateCrawled  Price VehicleType  RegistrationYear Gearbox  \\\n",
       "15      2016-03-11 21:39:15    450       small              1910     NaN   \n",
       "16      2016-04-01 12:46:46    300     unknown              2016     NaN   \n",
       "32      2016-03-15 20:59:01    245       sedan              1994     NaN   \n",
       "37      2016-03-28 17:50:15   1500     unknown              2016     NaN   \n",
       "69      2016-04-01 11:56:40   1200       coupe              2001     NaN   \n",
       "...                     ...    ...         ...               ...     ...   \n",
       "354288  2016-03-16 13:36:25   3300       wagon              2006     NaN   \n",
       "354305  2016-04-03 13:46:24   3500     unknown              1995     NaN   \n",
       "354329  2016-03-30 20:55:30    350       small              1996     NaN   \n",
       "354338  2016-03-31 19:52:33    180     unknown              1995     NaN   \n",
       "354365  2016-03-14 17:48:27   2200     unknown              2005     NaN   \n",
       "\n",
       "        Power   Model  Kilometer  RegistrationMonth  FuelType           Brand  \\\n",
       "15          0      ka       5000                  0    petrol            ford   \n",
       "16         60    polo     150000                  0    petrol      volkswagen   \n",
       "32          0    golf     150000                  2    petrol      volkswagen   \n",
       "37          0  kangoo     150000                  1  gasoline         renault   \n",
       "69          0   astra     150000                  0       NaN            opel   \n",
       "...       ...     ...        ...                ...       ...             ...   \n",
       "354288      0  touran     150000                  7  gasoline      volkswagen   \n",
       "354305      0    polo     150000                  0       NaN      volkswagen   \n",
       "354329     65   punto     150000                  0       NaN            fiat   \n",
       "354338      0     NaN     125000                  3    petrol            opel   \n",
       "354365      0     NaN      20000                  1       NaN  sonstige_autos   \n",
       "\n",
       "       Repaired          DateCreated  NumberOfPictures  PostalCode  \\\n",
       "15          NaN  2016-03-11 00:00:00                 0       24148   \n",
       "16          NaN  2016-04-01 00:00:00                 0       38871   \n",
       "32           no  2016-03-15 00:00:00                 0       44145   \n",
       "37           no  2016-03-28 00:00:00                 0       46483   \n",
       "69          NaN  2016-04-01 00:00:00                 0       47249   \n",
       "...         ...                  ...               ...         ...   \n",
       "354288      NaN  2016-03-16 00:00:00                 0       12057   \n",
       "354305      NaN  2016-04-03 00:00:00                 0       74579   \n",
       "354329      NaN  2016-03-30 00:00:00                 0       25436   \n",
       "354338      NaN  2016-03-31 00:00:00                 0       41470   \n",
       "354365      NaN  2016-03-14 00:00:00                 0       39576   \n",
       "\n",
       "                   LastSeen  \n",
       "15      2016-03-19 08:46:47  \n",
       "16      2016-04-01 12:46:46  \n",
       "32      2016-03-17 18:17:43  \n",
       "37      2016-03-30 09:18:02  \n",
       "69      2016-04-07 08:46:07  \n",
       "...                     ...  \n",
       "354288  2016-03-17 12:17:07  \n",
       "354305  2016-04-05 12:44:38  \n",
       "354329  2016-04-07 13:50:41  \n",
       "354338  2016-04-06 14:18:04  \n",
       "354365  2016-04-06 00:46:52  \n",
       "\n",
       "[16314 rows x 16 columns]"
      ]
     },
     "execution_count": 23,
     "metadata": {},
     "output_type": "execute_result"
    }
   ],
   "source": [
    "data[data['Gearbox'].isna()]"
   ]
  },
  {
   "cell_type": "markdown",
   "metadata": {},
   "source": [
    "Заполним пропуски \"загрушкой\" = unknown"
   ]
  },
  {
   "cell_type": "code",
   "execution_count": 24,
   "metadata": {},
   "outputs": [],
   "source": [
    "data.loc[data['Gearbox'].isna(),'Gearbox'] = 'unknown'"
   ]
  },
  {
   "cell_type": "code",
   "execution_count": 25,
   "metadata": {},
   "outputs": [
    {
     "data": {
      "text/plain": [
       "manual     260072\n",
       "auto        64665\n",
       "unknown     16314\n",
       "Name: Gearbox, dtype: int64"
      ]
     },
     "execution_count": 25,
     "metadata": {},
     "output_type": "execute_result"
    }
   ],
   "source": [
    "data['Gearbox'].value_counts()"
   ]
  },
  {
   "cell_type": "markdown",
   "metadata": {},
   "source": [
    "##### Обработаем пропуски в столбце **Model** = модель"
   ]
  },
  {
   "cell_type": "code",
   "execution_count": 26,
   "metadata": {
    "scrolled": true
   },
   "outputs": [
    {
     "data": {
      "text/html": [
       "<div>\n",
       "<style scoped>\n",
       "    .dataframe tbody tr th:only-of-type {\n",
       "        vertical-align: middle;\n",
       "    }\n",
       "\n",
       "    .dataframe tbody tr th {\n",
       "        vertical-align: top;\n",
       "    }\n",
       "\n",
       "    .dataframe thead th {\n",
       "        text-align: right;\n",
       "    }\n",
       "</style>\n",
       "<table border=\"1\" class=\"dataframe\">\n",
       "  <thead>\n",
       "    <tr style=\"text-align: right;\">\n",
       "      <th></th>\n",
       "      <th>DateCrawled</th>\n",
       "      <th>Price</th>\n",
       "      <th>VehicleType</th>\n",
       "      <th>RegistrationYear</th>\n",
       "      <th>Gearbox</th>\n",
       "      <th>Power</th>\n",
       "      <th>Model</th>\n",
       "      <th>Kilometer</th>\n",
       "      <th>RegistrationMonth</th>\n",
       "      <th>FuelType</th>\n",
       "      <th>Brand</th>\n",
       "      <th>Repaired</th>\n",
       "      <th>DateCreated</th>\n",
       "      <th>NumberOfPictures</th>\n",
       "      <th>PostalCode</th>\n",
       "      <th>LastSeen</th>\n",
       "    </tr>\n",
       "  </thead>\n",
       "  <tbody>\n",
       "    <tr>\n",
       "      <th>1</th>\n",
       "      <td>2016-03-24 10:58:45</td>\n",
       "      <td>18300</td>\n",
       "      <td>coupe</td>\n",
       "      <td>2011</td>\n",
       "      <td>manual</td>\n",
       "      <td>190</td>\n",
       "      <td>NaN</td>\n",
       "      <td>125000</td>\n",
       "      <td>5</td>\n",
       "      <td>gasoline</td>\n",
       "      <td>audi</td>\n",
       "      <td>yes</td>\n",
       "      <td>2016-03-24 00:00:00</td>\n",
       "      <td>0</td>\n",
       "      <td>66954</td>\n",
       "      <td>2016-04-07 01:46:50</td>\n",
       "    </tr>\n",
       "    <tr>\n",
       "      <th>81</th>\n",
       "      <td>2016-04-03 12:56:45</td>\n",
       "      <td>350</td>\n",
       "      <td>small</td>\n",
       "      <td>1997</td>\n",
       "      <td>manual</td>\n",
       "      <td>54</td>\n",
       "      <td>NaN</td>\n",
       "      <td>150000</td>\n",
       "      <td>3</td>\n",
       "      <td>NaN</td>\n",
       "      <td>fiat</td>\n",
       "      <td>yes</td>\n",
       "      <td>2016-04-03 00:00:00</td>\n",
       "      <td>0</td>\n",
       "      <td>45665</td>\n",
       "      <td>2016-04-05 11:47:13</td>\n",
       "    </tr>\n",
       "    <tr>\n",
       "      <th>135</th>\n",
       "      <td>2016-03-27 20:51:23</td>\n",
       "      <td>1450</td>\n",
       "      <td>sedan</td>\n",
       "      <td>1992</td>\n",
       "      <td>manual</td>\n",
       "      <td>136</td>\n",
       "      <td>NaN</td>\n",
       "      <td>150000</td>\n",
       "      <td>0</td>\n",
       "      <td>NaN</td>\n",
       "      <td>audi</td>\n",
       "      <td>no</td>\n",
       "      <td>2016-03-27 00:00:00</td>\n",
       "      <td>0</td>\n",
       "      <td>38709</td>\n",
       "      <td>2016-04-05 20:17:31</td>\n",
       "    </tr>\n",
       "    <tr>\n",
       "      <th>151</th>\n",
       "      <td>2016-03-27 20:47:22</td>\n",
       "      <td>6799</td>\n",
       "      <td>small</td>\n",
       "      <td>2009</td>\n",
       "      <td>unknown</td>\n",
       "      <td>60</td>\n",
       "      <td>NaN</td>\n",
       "      <td>20000</td>\n",
       "      <td>5</td>\n",
       "      <td>petrol</td>\n",
       "      <td>volkswagen</td>\n",
       "      <td>no</td>\n",
       "      <td>2016-03-27 00:00:00</td>\n",
       "      <td>0</td>\n",
       "      <td>89077</td>\n",
       "      <td>2016-03-27 20:47:22</td>\n",
       "    </tr>\n",
       "    <tr>\n",
       "      <th>160</th>\n",
       "      <td>2016-03-19 19:49:15</td>\n",
       "      <td>500</td>\n",
       "      <td>small</td>\n",
       "      <td>1999</td>\n",
       "      <td>manual</td>\n",
       "      <td>0</td>\n",
       "      <td>NaN</td>\n",
       "      <td>150000</td>\n",
       "      <td>0</td>\n",
       "      <td>petrol</td>\n",
       "      <td>renault</td>\n",
       "      <td>no</td>\n",
       "      <td>2016-03-19 00:00:00</td>\n",
       "      <td>0</td>\n",
       "      <td>26969</td>\n",
       "      <td>2016-04-01 11:17:48</td>\n",
       "    </tr>\n",
       "    <tr>\n",
       "      <th>...</th>\n",
       "      <td>...</td>\n",
       "      <td>...</td>\n",
       "      <td>...</td>\n",
       "      <td>...</td>\n",
       "      <td>...</td>\n",
       "      <td>...</td>\n",
       "      <td>...</td>\n",
       "      <td>...</td>\n",
       "      <td>...</td>\n",
       "      <td>...</td>\n",
       "      <td>...</td>\n",
       "      <td>...</td>\n",
       "      <td>...</td>\n",
       "      <td>...</td>\n",
       "      <td>...</td>\n",
       "      <td>...</td>\n",
       "    </tr>\n",
       "    <tr>\n",
       "      <th>354245</th>\n",
       "      <td>2016-03-07 16:37:42</td>\n",
       "      <td>560</td>\n",
       "      <td>small</td>\n",
       "      <td>2001</td>\n",
       "      <td>auto</td>\n",
       "      <td>170</td>\n",
       "      <td>NaN</td>\n",
       "      <td>90000</td>\n",
       "      <td>0</td>\n",
       "      <td>petrol</td>\n",
       "      <td>fiat</td>\n",
       "      <td>yes</td>\n",
       "      <td>2016-03-07 00:00:00</td>\n",
       "      <td>0</td>\n",
       "      <td>55743</td>\n",
       "      <td>2016-03-12 21:45:25</td>\n",
       "    </tr>\n",
       "    <tr>\n",
       "      <th>354321</th>\n",
       "      <td>2016-03-15 13:52:34</td>\n",
       "      <td>9400</td>\n",
       "      <td>wagon</td>\n",
       "      <td>2007</td>\n",
       "      <td>manual</td>\n",
       "      <td>200</td>\n",
       "      <td>NaN</td>\n",
       "      <td>150000</td>\n",
       "      <td>4</td>\n",
       "      <td>gasoline</td>\n",
       "      <td>sonstige_autos</td>\n",
       "      <td>yes</td>\n",
       "      <td>2016-03-15 00:00:00</td>\n",
       "      <td>0</td>\n",
       "      <td>91186</td>\n",
       "      <td>2016-03-17 08:16:25</td>\n",
       "    </tr>\n",
       "    <tr>\n",
       "      <th>354338</th>\n",
       "      <td>2016-03-31 19:52:33</td>\n",
       "      <td>180</td>\n",
       "      <td>unknown</td>\n",
       "      <td>1995</td>\n",
       "      <td>unknown</td>\n",
       "      <td>0</td>\n",
       "      <td>NaN</td>\n",
       "      <td>125000</td>\n",
       "      <td>3</td>\n",
       "      <td>petrol</td>\n",
       "      <td>opel</td>\n",
       "      <td>NaN</td>\n",
       "      <td>2016-03-31 00:00:00</td>\n",
       "      <td>0</td>\n",
       "      <td>41470</td>\n",
       "      <td>2016-04-06 14:18:04</td>\n",
       "    </tr>\n",
       "    <tr>\n",
       "      <th>354351</th>\n",
       "      <td>2016-03-11 23:40:32</td>\n",
       "      <td>1900</td>\n",
       "      <td>unknown</td>\n",
       "      <td>2000</td>\n",
       "      <td>manual</td>\n",
       "      <td>110</td>\n",
       "      <td>NaN</td>\n",
       "      <td>150000</td>\n",
       "      <td>7</td>\n",
       "      <td>NaN</td>\n",
       "      <td>volkswagen</td>\n",
       "      <td>no</td>\n",
       "      <td>2016-03-11 00:00:00</td>\n",
       "      <td>0</td>\n",
       "      <td>87700</td>\n",
       "      <td>2016-03-12 14:16:51</td>\n",
       "    </tr>\n",
       "    <tr>\n",
       "      <th>354365</th>\n",
       "      <td>2016-03-14 17:48:27</td>\n",
       "      <td>2200</td>\n",
       "      <td>unknown</td>\n",
       "      <td>2005</td>\n",
       "      <td>unknown</td>\n",
       "      <td>0</td>\n",
       "      <td>NaN</td>\n",
       "      <td>20000</td>\n",
       "      <td>1</td>\n",
       "      <td>NaN</td>\n",
       "      <td>sonstige_autos</td>\n",
       "      <td>NaN</td>\n",
       "      <td>2016-03-14 00:00:00</td>\n",
       "      <td>0</td>\n",
       "      <td>39576</td>\n",
       "      <td>2016-04-06 00:46:52</td>\n",
       "    </tr>\n",
       "  </tbody>\n",
       "</table>\n",
       "<p>17033 rows × 16 columns</p>\n",
       "</div>"
      ],
      "text/plain": [
       "                DateCrawled  Price VehicleType  RegistrationYear  Gearbox  \\\n",
       "1       2016-03-24 10:58:45  18300       coupe              2011   manual   \n",
       "81      2016-04-03 12:56:45    350       small              1997   manual   \n",
       "135     2016-03-27 20:51:23   1450       sedan              1992   manual   \n",
       "151     2016-03-27 20:47:22   6799       small              2009  unknown   \n",
       "160     2016-03-19 19:49:15    500       small              1999   manual   \n",
       "...                     ...    ...         ...               ...      ...   \n",
       "354245  2016-03-07 16:37:42    560       small              2001     auto   \n",
       "354321  2016-03-15 13:52:34   9400       wagon              2007   manual   \n",
       "354338  2016-03-31 19:52:33    180     unknown              1995  unknown   \n",
       "354351  2016-03-11 23:40:32   1900     unknown              2000   manual   \n",
       "354365  2016-03-14 17:48:27   2200     unknown              2005  unknown   \n",
       "\n",
       "        Power Model  Kilometer  RegistrationMonth  FuelType           Brand  \\\n",
       "1         190   NaN     125000                  5  gasoline            audi   \n",
       "81         54   NaN     150000                  3       NaN            fiat   \n",
       "135       136   NaN     150000                  0       NaN            audi   \n",
       "151        60   NaN      20000                  5    petrol      volkswagen   \n",
       "160         0   NaN     150000                  0    petrol         renault   \n",
       "...       ...   ...        ...                ...       ...             ...   \n",
       "354245    170   NaN      90000                  0    petrol            fiat   \n",
       "354321    200   NaN     150000                  4  gasoline  sonstige_autos   \n",
       "354338      0   NaN     125000                  3    petrol            opel   \n",
       "354351    110   NaN     150000                  7       NaN      volkswagen   \n",
       "354365      0   NaN      20000                  1       NaN  sonstige_autos   \n",
       "\n",
       "       Repaired          DateCreated  NumberOfPictures  PostalCode  \\\n",
       "1           yes  2016-03-24 00:00:00                 0       66954   \n",
       "81          yes  2016-04-03 00:00:00                 0       45665   \n",
       "135          no  2016-03-27 00:00:00                 0       38709   \n",
       "151          no  2016-03-27 00:00:00                 0       89077   \n",
       "160          no  2016-03-19 00:00:00                 0       26969   \n",
       "...         ...                  ...               ...         ...   \n",
       "354245      yes  2016-03-07 00:00:00                 0       55743   \n",
       "354321      yes  2016-03-15 00:00:00                 0       91186   \n",
       "354338      NaN  2016-03-31 00:00:00                 0       41470   \n",
       "354351       no  2016-03-11 00:00:00                 0       87700   \n",
       "354365      NaN  2016-03-14 00:00:00                 0       39576   \n",
       "\n",
       "                   LastSeen  \n",
       "1       2016-04-07 01:46:50  \n",
       "81      2016-04-05 11:47:13  \n",
       "135     2016-04-05 20:17:31  \n",
       "151     2016-03-27 20:47:22  \n",
       "160     2016-04-01 11:17:48  \n",
       "...                     ...  \n",
       "354245  2016-03-12 21:45:25  \n",
       "354321  2016-03-17 08:16:25  \n",
       "354338  2016-04-06 14:18:04  \n",
       "354351  2016-03-12 14:16:51  \n",
       "354365  2016-04-06 00:46:52  \n",
       "\n",
       "[17033 rows x 16 columns]"
      ]
     },
     "execution_count": 26,
     "metadata": {},
     "output_type": "execute_result"
    }
   ],
   "source": [
    "data[data['Model'].isna()]"
   ]
  },
  {
   "cell_type": "markdown",
   "metadata": {},
   "source": [
    "Заполним пропуски \"загрушкой\" = unknown"
   ]
  },
  {
   "cell_type": "code",
   "execution_count": 27,
   "metadata": {},
   "outputs": [],
   "source": [
    "data.loc[data['Model'].isna(),'Model'] = 'unknown'"
   ]
  },
  {
   "cell_type": "code",
   "execution_count": 28,
   "metadata": {
    "scrolled": true
   },
   "outputs": [
    {
     "data": {
      "text/plain": [
       "golf                  28086\n",
       "other                 23499\n",
       "3er                   19074\n",
       "unknown               17033\n",
       "polo                  12511\n",
       "                      ...  \n",
       "serie_2                   8\n",
       "rangerover                4\n",
       "serie_3                   3\n",
       "range_rover_evoque        2\n",
       "serie_1                   1\n",
       "Name: Model, Length: 251, dtype: int64"
      ]
     },
     "execution_count": 28,
     "metadata": {},
     "output_type": "execute_result"
    }
   ],
   "source": [
    "data['Model'].value_counts()"
   ]
  },
  {
   "cell_type": "markdown",
   "metadata": {},
   "source": [
    "##### Обработаем пропуски в столбце **FuelType** = тип топлива"
   ]
  },
  {
   "cell_type": "code",
   "execution_count": 29,
   "metadata": {},
   "outputs": [
    {
     "data": {
      "text/html": [
       "<div>\n",
       "<style scoped>\n",
       "    .dataframe tbody tr th:only-of-type {\n",
       "        vertical-align: middle;\n",
       "    }\n",
       "\n",
       "    .dataframe tbody tr th {\n",
       "        vertical-align: top;\n",
       "    }\n",
       "\n",
       "    .dataframe thead th {\n",
       "        text-align: right;\n",
       "    }\n",
       "</style>\n",
       "<table border=\"1\" class=\"dataframe\">\n",
       "  <thead>\n",
       "    <tr style=\"text-align: right;\">\n",
       "      <th></th>\n",
       "      <th>DateCrawled</th>\n",
       "      <th>Price</th>\n",
       "      <th>VehicleType</th>\n",
       "      <th>RegistrationYear</th>\n",
       "      <th>Gearbox</th>\n",
       "      <th>Power</th>\n",
       "      <th>Model</th>\n",
       "      <th>Kilometer</th>\n",
       "      <th>RegistrationMonth</th>\n",
       "      <th>FuelType</th>\n",
       "      <th>Brand</th>\n",
       "      <th>Repaired</th>\n",
       "      <th>DateCreated</th>\n",
       "      <th>NumberOfPictures</th>\n",
       "      <th>PostalCode</th>\n",
       "      <th>LastSeen</th>\n",
       "    </tr>\n",
       "  </thead>\n",
       "  <tbody>\n",
       "    <tr>\n",
       "      <th>9</th>\n",
       "      <td>2016-03-17 10:53:50</td>\n",
       "      <td>999</td>\n",
       "      <td>small</td>\n",
       "      <td>1998</td>\n",
       "      <td>manual</td>\n",
       "      <td>101</td>\n",
       "      <td>golf</td>\n",
       "      <td>150000</td>\n",
       "      <td>0</td>\n",
       "      <td>NaN</td>\n",
       "      <td>volkswagen</td>\n",
       "      <td>NaN</td>\n",
       "      <td>2016-03-17 00:00:00</td>\n",
       "      <td>0</td>\n",
       "      <td>27472</td>\n",
       "      <td>2016-03-31 17:17:06</td>\n",
       "    </tr>\n",
       "    <tr>\n",
       "      <th>13</th>\n",
       "      <td>2016-03-21 21:37:40</td>\n",
       "      <td>2500</td>\n",
       "      <td>wagon</td>\n",
       "      <td>2004</td>\n",
       "      <td>manual</td>\n",
       "      <td>131</td>\n",
       "      <td>passat</td>\n",
       "      <td>150000</td>\n",
       "      <td>2</td>\n",
       "      <td>NaN</td>\n",
       "      <td>volkswagen</td>\n",
       "      <td>no</td>\n",
       "      <td>2016-03-21 00:00:00</td>\n",
       "      <td>0</td>\n",
       "      <td>90762</td>\n",
       "      <td>2016-03-23 02:50:54</td>\n",
       "    </tr>\n",
       "    <tr>\n",
       "      <th>26</th>\n",
       "      <td>2016-03-10 19:38:18</td>\n",
       "      <td>5555</td>\n",
       "      <td>unknown</td>\n",
       "      <td>2017</td>\n",
       "      <td>manual</td>\n",
       "      <td>125</td>\n",
       "      <td>c4</td>\n",
       "      <td>125000</td>\n",
       "      <td>4</td>\n",
       "      <td>NaN</td>\n",
       "      <td>citroen</td>\n",
       "      <td>no</td>\n",
       "      <td>2016-03-10 00:00:00</td>\n",
       "      <td>0</td>\n",
       "      <td>31139</td>\n",
       "      <td>2016-03-16 09:16:46</td>\n",
       "    </tr>\n",
       "    <tr>\n",
       "      <th>36</th>\n",
       "      <td>2016-03-11 11:50:37</td>\n",
       "      <td>1600</td>\n",
       "      <td>other</td>\n",
       "      <td>1991</td>\n",
       "      <td>manual</td>\n",
       "      <td>75</td>\n",
       "      <td>kadett</td>\n",
       "      <td>70000</td>\n",
       "      <td>0</td>\n",
       "      <td>NaN</td>\n",
       "      <td>opel</td>\n",
       "      <td>NaN</td>\n",
       "      <td>2016-03-11 00:00:00</td>\n",
       "      <td>0</td>\n",
       "      <td>2943</td>\n",
       "      <td>2016-04-07 03:46:09</td>\n",
       "    </tr>\n",
       "    <tr>\n",
       "      <th>41</th>\n",
       "      <td>2016-03-30 20:38:20</td>\n",
       "      <td>7500</td>\n",
       "      <td>sedan</td>\n",
       "      <td>2002</td>\n",
       "      <td>auto</td>\n",
       "      <td>306</td>\n",
       "      <td>e_klasse</td>\n",
       "      <td>150000</td>\n",
       "      <td>4</td>\n",
       "      <td>NaN</td>\n",
       "      <td>mercedes_benz</td>\n",
       "      <td>NaN</td>\n",
       "      <td>2016-03-30 00:00:00</td>\n",
       "      <td>0</td>\n",
       "      <td>33649</td>\n",
       "      <td>2016-04-03 11:44:49</td>\n",
       "    </tr>\n",
       "    <tr>\n",
       "      <th>...</th>\n",
       "      <td>...</td>\n",
       "      <td>...</td>\n",
       "      <td>...</td>\n",
       "      <td>...</td>\n",
       "      <td>...</td>\n",
       "      <td>...</td>\n",
       "      <td>...</td>\n",
       "      <td>...</td>\n",
       "      <td>...</td>\n",
       "      <td>...</td>\n",
       "      <td>...</td>\n",
       "      <td>...</td>\n",
       "      <td>...</td>\n",
       "      <td>...</td>\n",
       "      <td>...</td>\n",
       "      <td>...</td>\n",
       "    </tr>\n",
       "    <tr>\n",
       "      <th>354339</th>\n",
       "      <td>2016-03-20 12:46:00</td>\n",
       "      <td>3850</td>\n",
       "      <td>convertible</td>\n",
       "      <td>2006</td>\n",
       "      <td>manual</td>\n",
       "      <td>108</td>\n",
       "      <td>2_reihe</td>\n",
       "      <td>125000</td>\n",
       "      <td>2</td>\n",
       "      <td>NaN</td>\n",
       "      <td>peugeot</td>\n",
       "      <td>no</td>\n",
       "      <td>2016-03-20 00:00:00</td>\n",
       "      <td>0</td>\n",
       "      <td>53947</td>\n",
       "      <td>2016-03-26 21:18:23</td>\n",
       "    </tr>\n",
       "    <tr>\n",
       "      <th>354346</th>\n",
       "      <td>2016-03-07 17:06:35</td>\n",
       "      <td>2600</td>\n",
       "      <td>unknown</td>\n",
       "      <td>2005</td>\n",
       "      <td>auto</td>\n",
       "      <td>0</td>\n",
       "      <td>c_klasse</td>\n",
       "      <td>150000</td>\n",
       "      <td>9</td>\n",
       "      <td>NaN</td>\n",
       "      <td>mercedes_benz</td>\n",
       "      <td>NaN</td>\n",
       "      <td>2016-03-07 00:00:00</td>\n",
       "      <td>0</td>\n",
       "      <td>61169</td>\n",
       "      <td>2016-03-08 21:28:38</td>\n",
       "    </tr>\n",
       "    <tr>\n",
       "      <th>354351</th>\n",
       "      <td>2016-03-11 23:40:32</td>\n",
       "      <td>1900</td>\n",
       "      <td>unknown</td>\n",
       "      <td>2000</td>\n",
       "      <td>manual</td>\n",
       "      <td>110</td>\n",
       "      <td>unknown</td>\n",
       "      <td>150000</td>\n",
       "      <td>7</td>\n",
       "      <td>NaN</td>\n",
       "      <td>volkswagen</td>\n",
       "      <td>no</td>\n",
       "      <td>2016-03-11 00:00:00</td>\n",
       "      <td>0</td>\n",
       "      <td>87700</td>\n",
       "      <td>2016-03-12 14:16:51</td>\n",
       "    </tr>\n",
       "    <tr>\n",
       "      <th>354361</th>\n",
       "      <td>2016-03-09 13:37:43</td>\n",
       "      <td>5250</td>\n",
       "      <td>unknown</td>\n",
       "      <td>2016</td>\n",
       "      <td>auto</td>\n",
       "      <td>150</td>\n",
       "      <td>159</td>\n",
       "      <td>150000</td>\n",
       "      <td>12</td>\n",
       "      <td>NaN</td>\n",
       "      <td>alfa_romeo</td>\n",
       "      <td>no</td>\n",
       "      <td>2016-03-09 00:00:00</td>\n",
       "      <td>0</td>\n",
       "      <td>51371</td>\n",
       "      <td>2016-03-13 01:44:13</td>\n",
       "    </tr>\n",
       "    <tr>\n",
       "      <th>354365</th>\n",
       "      <td>2016-03-14 17:48:27</td>\n",
       "      <td>2200</td>\n",
       "      <td>unknown</td>\n",
       "      <td>2005</td>\n",
       "      <td>unknown</td>\n",
       "      <td>0</td>\n",
       "      <td>unknown</td>\n",
       "      <td>20000</td>\n",
       "      <td>1</td>\n",
       "      <td>NaN</td>\n",
       "      <td>sonstige_autos</td>\n",
       "      <td>NaN</td>\n",
       "      <td>2016-03-14 00:00:00</td>\n",
       "      <td>0</td>\n",
       "      <td>39576</td>\n",
       "      <td>2016-04-06 00:46:52</td>\n",
       "    </tr>\n",
       "  </tbody>\n",
       "</table>\n",
       "<p>28349 rows × 16 columns</p>\n",
       "</div>"
      ],
      "text/plain": [
       "                DateCrawled  Price  VehicleType  RegistrationYear  Gearbox  \\\n",
       "9       2016-03-17 10:53:50    999        small              1998   manual   \n",
       "13      2016-03-21 21:37:40   2500        wagon              2004   manual   \n",
       "26      2016-03-10 19:38:18   5555      unknown              2017   manual   \n",
       "36      2016-03-11 11:50:37   1600        other              1991   manual   \n",
       "41      2016-03-30 20:38:20   7500        sedan              2002     auto   \n",
       "...                     ...    ...          ...               ...      ...   \n",
       "354339  2016-03-20 12:46:00   3850  convertible              2006   manual   \n",
       "354346  2016-03-07 17:06:35   2600      unknown              2005     auto   \n",
       "354351  2016-03-11 23:40:32   1900      unknown              2000   manual   \n",
       "354361  2016-03-09 13:37:43   5250      unknown              2016     auto   \n",
       "354365  2016-03-14 17:48:27   2200      unknown              2005  unknown   \n",
       "\n",
       "        Power     Model  Kilometer  RegistrationMonth FuelType  \\\n",
       "9         101      golf     150000                  0      NaN   \n",
       "13        131    passat     150000                  2      NaN   \n",
       "26        125        c4     125000                  4      NaN   \n",
       "36         75    kadett      70000                  0      NaN   \n",
       "41        306  e_klasse     150000                  4      NaN   \n",
       "...       ...       ...        ...                ...      ...   \n",
       "354339    108   2_reihe     125000                  2      NaN   \n",
       "354346      0  c_klasse     150000                  9      NaN   \n",
       "354351    110   unknown     150000                  7      NaN   \n",
       "354361    150       159     150000                 12      NaN   \n",
       "354365      0   unknown      20000                  1      NaN   \n",
       "\n",
       "                 Brand Repaired          DateCreated  NumberOfPictures  \\\n",
       "9           volkswagen      NaN  2016-03-17 00:00:00                 0   \n",
       "13          volkswagen       no  2016-03-21 00:00:00                 0   \n",
       "26             citroen       no  2016-03-10 00:00:00                 0   \n",
       "36                opel      NaN  2016-03-11 00:00:00                 0   \n",
       "41       mercedes_benz      NaN  2016-03-30 00:00:00                 0   \n",
       "...                ...      ...                  ...               ...   \n",
       "354339         peugeot       no  2016-03-20 00:00:00                 0   \n",
       "354346   mercedes_benz      NaN  2016-03-07 00:00:00                 0   \n",
       "354351      volkswagen       no  2016-03-11 00:00:00                 0   \n",
       "354361      alfa_romeo       no  2016-03-09 00:00:00                 0   \n",
       "354365  sonstige_autos      NaN  2016-03-14 00:00:00                 0   \n",
       "\n",
       "        PostalCode             LastSeen  \n",
       "9            27472  2016-03-31 17:17:06  \n",
       "13           90762  2016-03-23 02:50:54  \n",
       "26           31139  2016-03-16 09:16:46  \n",
       "36            2943  2016-04-07 03:46:09  \n",
       "41           33649  2016-04-03 11:44:49  \n",
       "...            ...                  ...  \n",
       "354339       53947  2016-03-26 21:18:23  \n",
       "354346       61169  2016-03-08 21:28:38  \n",
       "354351       87700  2016-03-12 14:16:51  \n",
       "354361       51371  2016-03-13 01:44:13  \n",
       "354365       39576  2016-04-06 00:46:52  \n",
       "\n",
       "[28349 rows x 16 columns]"
      ]
     },
     "execution_count": 29,
     "metadata": {},
     "output_type": "execute_result"
    }
   ],
   "source": [
    "data[data['FuelType'].isna()]"
   ]
  },
  {
   "cell_type": "markdown",
   "metadata": {},
   "source": [
    "Заполним пропуски \"загрушкой\" = unknown"
   ]
  },
  {
   "cell_type": "code",
   "execution_count": 30,
   "metadata": {},
   "outputs": [],
   "source": [
    "data.loc[data['FuelType'].isna(),'FuelType'] = 'unknown'"
   ]
  },
  {
   "cell_type": "code",
   "execution_count": 31,
   "metadata": {},
   "outputs": [
    {
     "data": {
      "text/plain": [
       "petrol      209595\n",
       "gasoline     96936\n",
       "unknown      28349\n",
       "lpg           5155\n",
       "cng            549\n",
       "hybrid         226\n",
       "other          154\n",
       "electric        87\n",
       "Name: FuelType, dtype: int64"
      ]
     },
     "execution_count": 31,
     "metadata": {},
     "output_type": "execute_result"
    }
   ],
   "source": [
    "data['FuelType'].value_counts()"
   ]
  },
  {
   "cell_type": "markdown",
   "metadata": {},
   "source": [
    "##### Обработаем пропуски в столбце **Repaired** = была ли в ремонте"
   ]
  },
  {
   "cell_type": "code",
   "execution_count": 32,
   "metadata": {},
   "outputs": [
    {
     "data": {
      "text/html": [
       "<div>\n",
       "<style scoped>\n",
       "    .dataframe tbody tr th:only-of-type {\n",
       "        vertical-align: middle;\n",
       "    }\n",
       "\n",
       "    .dataframe tbody tr th {\n",
       "        vertical-align: top;\n",
       "    }\n",
       "\n",
       "    .dataframe thead th {\n",
       "        text-align: right;\n",
       "    }\n",
       "</style>\n",
       "<table border=\"1\" class=\"dataframe\">\n",
       "  <thead>\n",
       "    <tr style=\"text-align: right;\">\n",
       "      <th></th>\n",
       "      <th>DateCrawled</th>\n",
       "      <th>Price</th>\n",
       "      <th>VehicleType</th>\n",
       "      <th>RegistrationYear</th>\n",
       "      <th>Gearbox</th>\n",
       "      <th>Power</th>\n",
       "      <th>Model</th>\n",
       "      <th>Kilometer</th>\n",
       "      <th>RegistrationMonth</th>\n",
       "      <th>FuelType</th>\n",
       "      <th>Brand</th>\n",
       "      <th>Repaired</th>\n",
       "      <th>DateCreated</th>\n",
       "      <th>NumberOfPictures</th>\n",
       "      <th>PostalCode</th>\n",
       "      <th>LastSeen</th>\n",
       "    </tr>\n",
       "  </thead>\n",
       "  <tbody>\n",
       "    <tr>\n",
       "      <th>0</th>\n",
       "      <td>2016-03-24 11:52:17</td>\n",
       "      <td>480</td>\n",
       "      <td>unknown</td>\n",
       "      <td>1993</td>\n",
       "      <td>manual</td>\n",
       "      <td>0</td>\n",
       "      <td>golf</td>\n",
       "      <td>150000</td>\n",
       "      <td>0</td>\n",
       "      <td>petrol</td>\n",
       "      <td>volkswagen</td>\n",
       "      <td>NaN</td>\n",
       "      <td>2016-03-24 00:00:00</td>\n",
       "      <td>0</td>\n",
       "      <td>70435</td>\n",
       "      <td>2016-04-07 03:16:57</td>\n",
       "    </tr>\n",
       "    <tr>\n",
       "      <th>2</th>\n",
       "      <td>2016-03-14 12:52:21</td>\n",
       "      <td>9800</td>\n",
       "      <td>suv</td>\n",
       "      <td>2004</td>\n",
       "      <td>auto</td>\n",
       "      <td>163</td>\n",
       "      <td>grand</td>\n",
       "      <td>125000</td>\n",
       "      <td>8</td>\n",
       "      <td>gasoline</td>\n",
       "      <td>jeep</td>\n",
       "      <td>NaN</td>\n",
       "      <td>2016-03-14 00:00:00</td>\n",
       "      <td>0</td>\n",
       "      <td>90480</td>\n",
       "      <td>2016-04-05 12:47:46</td>\n",
       "    </tr>\n",
       "    <tr>\n",
       "      <th>8</th>\n",
       "      <td>2016-04-04 23:42:13</td>\n",
       "      <td>14500</td>\n",
       "      <td>bus</td>\n",
       "      <td>2014</td>\n",
       "      <td>manual</td>\n",
       "      <td>125</td>\n",
       "      <td>c_max</td>\n",
       "      <td>30000</td>\n",
       "      <td>8</td>\n",
       "      <td>petrol</td>\n",
       "      <td>ford</td>\n",
       "      <td>NaN</td>\n",
       "      <td>2016-04-04 00:00:00</td>\n",
       "      <td>0</td>\n",
       "      <td>94505</td>\n",
       "      <td>2016-04-04 23:42:13</td>\n",
       "    </tr>\n",
       "    <tr>\n",
       "      <th>9</th>\n",
       "      <td>2016-03-17 10:53:50</td>\n",
       "      <td>999</td>\n",
       "      <td>small</td>\n",
       "      <td>1998</td>\n",
       "      <td>manual</td>\n",
       "      <td>101</td>\n",
       "      <td>golf</td>\n",
       "      <td>150000</td>\n",
       "      <td>0</td>\n",
       "      <td>unknown</td>\n",
       "      <td>volkswagen</td>\n",
       "      <td>NaN</td>\n",
       "      <td>2016-03-17 00:00:00</td>\n",
       "      <td>0</td>\n",
       "      <td>27472</td>\n",
       "      <td>2016-03-31 17:17:06</td>\n",
       "    </tr>\n",
       "    <tr>\n",
       "      <th>12</th>\n",
       "      <td>2016-03-15 22:49:09</td>\n",
       "      <td>999</td>\n",
       "      <td>wagon</td>\n",
       "      <td>1995</td>\n",
       "      <td>manual</td>\n",
       "      <td>115</td>\n",
       "      <td>passat</td>\n",
       "      <td>150000</td>\n",
       "      <td>11</td>\n",
       "      <td>petrol</td>\n",
       "      <td>volkswagen</td>\n",
       "      <td>NaN</td>\n",
       "      <td>2016-03-15 00:00:00</td>\n",
       "      <td>0</td>\n",
       "      <td>37269</td>\n",
       "      <td>2016-04-01 13:16:16</td>\n",
       "    </tr>\n",
       "    <tr>\n",
       "      <th>...</th>\n",
       "      <td>...</td>\n",
       "      <td>...</td>\n",
       "      <td>...</td>\n",
       "      <td>...</td>\n",
       "      <td>...</td>\n",
       "      <td>...</td>\n",
       "      <td>...</td>\n",
       "      <td>...</td>\n",
       "      <td>...</td>\n",
       "      <td>...</td>\n",
       "      <td>...</td>\n",
       "      <td>...</td>\n",
       "      <td>...</td>\n",
       "      <td>...</td>\n",
       "      <td>...</td>\n",
       "      <td>...</td>\n",
       "    </tr>\n",
       "    <tr>\n",
       "      <th>354349</th>\n",
       "      <td>2016-03-16 17:06:19</td>\n",
       "      <td>5999</td>\n",
       "      <td>wagon</td>\n",
       "      <td>2005</td>\n",
       "      <td>manual</td>\n",
       "      <td>140</td>\n",
       "      <td>a4</td>\n",
       "      <td>150000</td>\n",
       "      <td>4</td>\n",
       "      <td>gasoline</td>\n",
       "      <td>audi</td>\n",
       "      <td>NaN</td>\n",
       "      <td>2016-03-16 00:00:00</td>\n",
       "      <td>0</td>\n",
       "      <td>56472</td>\n",
       "      <td>2016-03-18 11:30:17</td>\n",
       "    </tr>\n",
       "    <tr>\n",
       "      <th>354356</th>\n",
       "      <td>2016-04-04 11:45:16</td>\n",
       "      <td>999</td>\n",
       "      <td>convertible</td>\n",
       "      <td>2000</td>\n",
       "      <td>manual</td>\n",
       "      <td>95</td>\n",
       "      <td>megane</td>\n",
       "      <td>150000</td>\n",
       "      <td>4</td>\n",
       "      <td>petrol</td>\n",
       "      <td>renault</td>\n",
       "      <td>NaN</td>\n",
       "      <td>2016-04-04 00:00:00</td>\n",
       "      <td>0</td>\n",
       "      <td>88477</td>\n",
       "      <td>2016-04-06 12:44:52</td>\n",
       "    </tr>\n",
       "    <tr>\n",
       "      <th>354357</th>\n",
       "      <td>2016-03-09 11:36:55</td>\n",
       "      <td>1690</td>\n",
       "      <td>wagon</td>\n",
       "      <td>2004</td>\n",
       "      <td>manual</td>\n",
       "      <td>55</td>\n",
       "      <td>fabia</td>\n",
       "      <td>150000</td>\n",
       "      <td>4</td>\n",
       "      <td>petrol</td>\n",
       "      <td>skoda</td>\n",
       "      <td>NaN</td>\n",
       "      <td>2016-03-09 00:00:00</td>\n",
       "      <td>0</td>\n",
       "      <td>18246</td>\n",
       "      <td>2016-04-04 08:15:30</td>\n",
       "    </tr>\n",
       "    <tr>\n",
       "      <th>354365</th>\n",
       "      <td>2016-03-14 17:48:27</td>\n",
       "      <td>2200</td>\n",
       "      <td>unknown</td>\n",
       "      <td>2005</td>\n",
       "      <td>unknown</td>\n",
       "      <td>0</td>\n",
       "      <td>unknown</td>\n",
       "      <td>20000</td>\n",
       "      <td>1</td>\n",
       "      <td>unknown</td>\n",
       "      <td>sonstige_autos</td>\n",
       "      <td>NaN</td>\n",
       "      <td>2016-03-14 00:00:00</td>\n",
       "      <td>0</td>\n",
       "      <td>39576</td>\n",
       "      <td>2016-04-06 00:46:52</td>\n",
       "    </tr>\n",
       "    <tr>\n",
       "      <th>354368</th>\n",
       "      <td>2016-03-20 19:41:08</td>\n",
       "      <td>3400</td>\n",
       "      <td>wagon</td>\n",
       "      <td>2002</td>\n",
       "      <td>manual</td>\n",
       "      <td>100</td>\n",
       "      <td>golf</td>\n",
       "      <td>150000</td>\n",
       "      <td>6</td>\n",
       "      <td>gasoline</td>\n",
       "      <td>volkswagen</td>\n",
       "      <td>NaN</td>\n",
       "      <td>2016-03-20 00:00:00</td>\n",
       "      <td>0</td>\n",
       "      <td>40764</td>\n",
       "      <td>2016-03-24 12:45:21</td>\n",
       "    </tr>\n",
       "  </tbody>\n",
       "</table>\n",
       "<p>64357 rows × 16 columns</p>\n",
       "</div>"
      ],
      "text/plain": [
       "                DateCrawled  Price  VehicleType  RegistrationYear  Gearbox  \\\n",
       "0       2016-03-24 11:52:17    480      unknown              1993   manual   \n",
       "2       2016-03-14 12:52:21   9800          suv              2004     auto   \n",
       "8       2016-04-04 23:42:13  14500          bus              2014   manual   \n",
       "9       2016-03-17 10:53:50    999        small              1998   manual   \n",
       "12      2016-03-15 22:49:09    999        wagon              1995   manual   \n",
       "...                     ...    ...          ...               ...      ...   \n",
       "354349  2016-03-16 17:06:19   5999        wagon              2005   manual   \n",
       "354356  2016-04-04 11:45:16    999  convertible              2000   manual   \n",
       "354357  2016-03-09 11:36:55   1690        wagon              2004   manual   \n",
       "354365  2016-03-14 17:48:27   2200      unknown              2005  unknown   \n",
       "354368  2016-03-20 19:41:08   3400        wagon              2002   manual   \n",
       "\n",
       "        Power    Model  Kilometer  RegistrationMonth  FuelType  \\\n",
       "0           0     golf     150000                  0    petrol   \n",
       "2         163    grand     125000                  8  gasoline   \n",
       "8         125    c_max      30000                  8    petrol   \n",
       "9         101     golf     150000                  0   unknown   \n",
       "12        115   passat     150000                 11    petrol   \n",
       "...       ...      ...        ...                ...       ...   \n",
       "354349    140       a4     150000                  4  gasoline   \n",
       "354356     95   megane     150000                  4    petrol   \n",
       "354357     55    fabia     150000                  4    petrol   \n",
       "354365      0  unknown      20000                  1   unknown   \n",
       "354368    100     golf     150000                  6  gasoline   \n",
       "\n",
       "                 Brand Repaired          DateCreated  NumberOfPictures  \\\n",
       "0           volkswagen      NaN  2016-03-24 00:00:00                 0   \n",
       "2                 jeep      NaN  2016-03-14 00:00:00                 0   \n",
       "8                 ford      NaN  2016-04-04 00:00:00                 0   \n",
       "9           volkswagen      NaN  2016-03-17 00:00:00                 0   \n",
       "12          volkswagen      NaN  2016-03-15 00:00:00                 0   \n",
       "...                ...      ...                  ...               ...   \n",
       "354349            audi      NaN  2016-03-16 00:00:00                 0   \n",
       "354356         renault      NaN  2016-04-04 00:00:00                 0   \n",
       "354357           skoda      NaN  2016-03-09 00:00:00                 0   \n",
       "354365  sonstige_autos      NaN  2016-03-14 00:00:00                 0   \n",
       "354368      volkswagen      NaN  2016-03-20 00:00:00                 0   \n",
       "\n",
       "        PostalCode             LastSeen  \n",
       "0            70435  2016-04-07 03:16:57  \n",
       "2            90480  2016-04-05 12:47:46  \n",
       "8            94505  2016-04-04 23:42:13  \n",
       "9            27472  2016-03-31 17:17:06  \n",
       "12           37269  2016-04-01 13:16:16  \n",
       "...            ...                  ...  \n",
       "354349       56472  2016-03-18 11:30:17  \n",
       "354356       88477  2016-04-06 12:44:52  \n",
       "354357       18246  2016-04-04 08:15:30  \n",
       "354365       39576  2016-04-06 00:46:52  \n",
       "354368       40764  2016-03-24 12:45:21  \n",
       "\n",
       "[64357 rows x 16 columns]"
      ]
     },
     "execution_count": 32,
     "metadata": {},
     "output_type": "execute_result"
    }
   ],
   "source": [
    "data[data['Repaired'].isna()]"
   ]
  },
  {
   "cell_type": "markdown",
   "metadata": {},
   "source": [
    "Заполним пропуски \"загрушкой\" = unknown"
   ]
  },
  {
   "cell_type": "code",
   "execution_count": 33,
   "metadata": {},
   "outputs": [],
   "source": [
    "data.loc[data['Repaired'].isna(),'Repaired'] = 'unknown'"
   ]
  },
  {
   "cell_type": "code",
   "execution_count": 34,
   "metadata": {},
   "outputs": [
    {
     "data": {
      "text/plain": [
       "no         243203\n",
       "unknown     64357\n",
       "yes         33491\n",
       "Name: Repaired, dtype: int64"
      ]
     },
     "execution_count": 34,
     "metadata": {},
     "output_type": "execute_result"
    }
   ],
   "source": [
    "data['Repaired'].value_counts()"
   ]
  },
  {
   "cell_type": "code",
   "execution_count": 35,
   "metadata": {},
   "outputs": [
    {
     "name": "stdout",
     "output_type": "stream",
     "text": [
      "<class 'pandas.core.frame.DataFrame'>\n",
      "Int64Index: 341051 entries, 0 to 354368\n",
      "Data columns (total 16 columns):\n",
      " #   Column             Non-Null Count   Dtype \n",
      "---  ------             --------------   ----- \n",
      " 0   DateCrawled        341051 non-null  object\n",
      " 1   Price              341051 non-null  int64 \n",
      " 2   VehicleType        341051 non-null  object\n",
      " 3   RegistrationYear   341051 non-null  int64 \n",
      " 4   Gearbox            341051 non-null  object\n",
      " 5   Power              341051 non-null  int64 \n",
      " 6   Model              341051 non-null  object\n",
      " 7   Kilometer          341051 non-null  int64 \n",
      " 8   RegistrationMonth  341051 non-null  int64 \n",
      " 9   FuelType           341051 non-null  object\n",
      " 10  Brand              341051 non-null  object\n",
      " 11  Repaired           341051 non-null  object\n",
      " 12  DateCreated        341051 non-null  object\n",
      " 13  NumberOfPictures   341051 non-null  int64 \n",
      " 14  PostalCode         341051 non-null  int64 \n",
      " 15  LastSeen           341051 non-null  object\n",
      "dtypes: int64(7), object(9)\n",
      "memory usage: 44.2+ MB\n"
     ]
    }
   ],
   "source": [
    "data.info()"
   ]
  },
  {
   "cell_type": "markdown",
   "metadata": {},
   "source": [
    "##### Обработаем столбец **RegistrationYear** = год регистрации автомобиля"
   ]
  },
  {
   "cell_type": "code",
   "execution_count": 36,
   "metadata": {
    "scrolled": true
   },
   "outputs": [
    {
     "data": {
      "text/plain": [
       "count    341051.000000\n",
       "mean       2003.955335\n",
       "std          69.812151\n",
       "min        1000.000000\n",
       "25%        1999.000000\n",
       "50%        2003.000000\n",
       "75%        2008.000000\n",
       "max        9999.000000\n",
       "Name: RegistrationYear, dtype: float64"
      ]
     },
     "execution_count": 36,
     "metadata": {},
     "output_type": "execute_result"
    }
   ],
   "source": [
    "# выведем основные статистики\n",
    "data['RegistrationYear'].describe()"
   ]
  },
  {
   "cell_type": "code",
   "execution_count": 37,
   "metadata": {
    "scrolled": true
   },
   "outputs": [
    {
     "data": {
      "image/png": "[encoded data removed]",
      "text/plain": [
       "<Figure size 432x288 with 1 Axes>"
      ]
     },
     "metadata": {
      "needs_background": "light"
     },
     "output_type": "display_data"
    }
   ],
   "source": [
    "data['RegistrationYear'].plot(kind='box')\n",
    "plt.title('Распределение года выпуска авто')\n",
    "plt.xlabel('Год выпуска')\n",
    "plt.show()"
   ]
  },
  {
   "cell_type": "markdown",
   "metadata": {},
   "source": [
    "Создадим столбец **year_create**, в который сохраним год создания объявления.  \n",
    "Далее удалим из датасета все объявления, в которых год выпуска авто больше чем год создания объявления, таким образом удалим некорректные данные по верхней границе года выпуска автомобиля."
   ]
  },
  {
   "cell_type": "code",
   "execution_count": 38,
   "metadata": {},
   "outputs": [
    {
     "data": {
      "text/plain": [
       "0         2016\n",
       "1         2016\n",
       "2         2016\n",
       "3         2016\n",
       "4         2016\n",
       "          ... \n",
       "354363    2016\n",
       "354365    2016\n",
       "354366    2016\n",
       "354367    2016\n",
       "354368    2016\n",
       "Name: year_create, Length: 341051, dtype: int64"
      ]
     },
     "execution_count": 38,
     "metadata": {},
     "output_type": "execute_result"
    }
   ],
   "source": [
    "data['year_create'] = pd.to_datetime(data.DateCreated).dt.year\n",
    "data['year_create']"
   ]
  },
  {
   "cell_type": "code",
   "execution_count": 39,
   "metadata": {},
   "outputs": [],
   "source": [
    "data = data[data['RegistrationYear'] <= data['year_create']]"
   ]
  },
  {
   "cell_type": "markdown",
   "metadata": {},
   "source": [
    "Удалим объявления, в которых год выпуск авто ранее 1950 года. Это раритетные экспонаты или ошибки в данных"
   ]
  },
  {
   "cell_type": "code",
   "execution_count": 40,
   "metadata": {},
   "outputs": [],
   "source": [
    "data = data[(data['RegistrationYear'] > 1950)]"
   ]
  },
  {
   "cell_type": "markdown",
   "metadata": {},
   "source": [
    "##### Обработаем столбец **Power** = мощность автомобиля"
   ]
  },
  {
   "cell_type": "code",
   "execution_count": 41,
   "metadata": {
    "scrolled": true
   },
   "outputs": [
    {
     "data": {
      "text/plain": [
       "count    327205.000000\n",
       "mean        112.363515\n",
       "std         185.296699\n",
       "min           0.000000\n",
       "25%          71.000000\n",
       "50%         105.000000\n",
       "75%         143.000000\n",
       "max       20000.000000\n",
       "Name: Power, dtype: float64"
      ]
     },
     "execution_count": 41,
     "metadata": {},
     "output_type": "execute_result"
    }
   ],
   "source": [
    "data['Power'].describe()"
   ]
  },
  {
   "cell_type": "code",
   "execution_count": 42,
   "metadata": {},
   "outputs": [
    {
     "data": {
      "image/png": "[encoded data removed]",
      "text/plain": [
       "<Figure size 432x288 with 1 Axes>"
      ]
     },
     "metadata": {
      "needs_background": "light"
     },
     "output_type": "display_data"
    }
   ],
   "source": [
    "data['Power'].plot(kind='box')\n",
    "plt.title('Распределение мощности авто')\n",
    "plt.xlabel('Мощность')\n",
    "plt.show()"
   ]
  },
  {
   "cell_type": "markdown",
   "metadata": {},
   "source": [
    "Выведем объявления, в которых мощность менее 30"
   ]
  },
  {
   "cell_type": "code",
   "execution_count": 43,
   "metadata": {
    "scrolled": true
   },
   "outputs": [
    {
     "data": {
      "text/html": [
       "<div>\n",
       "<style scoped>\n",
       "    .dataframe tbody tr th:only-of-type {\n",
       "        vertical-align: middle;\n",
       "    }\n",
       "\n",
       "    .dataframe tbody tr th {\n",
       "        vertical-align: top;\n",
       "    }\n",
       "\n",
       "    .dataframe thead th {\n",
       "        text-align: right;\n",
       "    }\n",
       "</style>\n",
       "<table border=\"1\" class=\"dataframe\">\n",
       "  <thead>\n",
       "    <tr style=\"text-align: right;\">\n",
       "      <th></th>\n",
       "      <th>DateCrawled</th>\n",
       "      <th>Price</th>\n",
       "      <th>VehicleType</th>\n",
       "      <th>RegistrationYear</th>\n",
       "      <th>Gearbox</th>\n",
       "      <th>Power</th>\n",
       "      <th>Model</th>\n",
       "      <th>Kilometer</th>\n",
       "      <th>RegistrationMonth</th>\n",
       "      <th>FuelType</th>\n",
       "      <th>Brand</th>\n",
       "      <th>Repaired</th>\n",
       "      <th>DateCreated</th>\n",
       "      <th>NumberOfPictures</th>\n",
       "      <th>PostalCode</th>\n",
       "      <th>LastSeen</th>\n",
       "      <th>year_create</th>\n",
       "    </tr>\n",
       "  </thead>\n",
       "  <tbody>\n",
       "    <tr>\n",
       "      <th>0</th>\n",
       "      <td>2016-03-24 11:52:17</td>\n",
       "      <td>480</td>\n",
       "      <td>unknown</td>\n",
       "      <td>1993</td>\n",
       "      <td>manual</td>\n",
       "      <td>0</td>\n",
       "      <td>golf</td>\n",
       "      <td>150000</td>\n",
       "      <td>0</td>\n",
       "      <td>petrol</td>\n",
       "      <td>volkswagen</td>\n",
       "      <td>unknown</td>\n",
       "      <td>2016-03-24 00:00:00</td>\n",
       "      <td>0</td>\n",
       "      <td>70435</td>\n",
       "      <td>2016-04-07 03:16:57</td>\n",
       "      <td>2016</td>\n",
       "    </tr>\n",
       "    <tr>\n",
       "      <th>32</th>\n",
       "      <td>2016-03-15 20:59:01</td>\n",
       "      <td>245</td>\n",
       "      <td>sedan</td>\n",
       "      <td>1994</td>\n",
       "      <td>unknown</td>\n",
       "      <td>0</td>\n",
       "      <td>golf</td>\n",
       "      <td>150000</td>\n",
       "      <td>2</td>\n",
       "      <td>petrol</td>\n",
       "      <td>volkswagen</td>\n",
       "      <td>no</td>\n",
       "      <td>2016-03-15 00:00:00</td>\n",
       "      <td>0</td>\n",
       "      <td>44145</td>\n",
       "      <td>2016-03-17 18:17:43</td>\n",
       "      <td>2016</td>\n",
       "    </tr>\n",
       "    <tr>\n",
       "      <th>37</th>\n",
       "      <td>2016-03-28 17:50:15</td>\n",
       "      <td>1500</td>\n",
       "      <td>unknown</td>\n",
       "      <td>2016</td>\n",
       "      <td>unknown</td>\n",
       "      <td>0</td>\n",
       "      <td>kangoo</td>\n",
       "      <td>150000</td>\n",
       "      <td>1</td>\n",
       "      <td>gasoline</td>\n",
       "      <td>renault</td>\n",
       "      <td>no</td>\n",
       "      <td>2016-03-28 00:00:00</td>\n",
       "      <td>0</td>\n",
       "      <td>46483</td>\n",
       "      <td>2016-03-30 09:18:02</td>\n",
       "      <td>2016</td>\n",
       "    </tr>\n",
       "    <tr>\n",
       "      <th>54</th>\n",
       "      <td>2016-03-17 07:56:40</td>\n",
       "      <td>4700</td>\n",
       "      <td>wagon</td>\n",
       "      <td>2005</td>\n",
       "      <td>manual</td>\n",
       "      <td>0</td>\n",
       "      <td>signum</td>\n",
       "      <td>150000</td>\n",
       "      <td>0</td>\n",
       "      <td>unknown</td>\n",
       "      <td>opel</td>\n",
       "      <td>no</td>\n",
       "      <td>2016-03-17 00:00:00</td>\n",
       "      <td>0</td>\n",
       "      <td>88433</td>\n",
       "      <td>2016-04-04 04:17:32</td>\n",
       "      <td>2016</td>\n",
       "    </tr>\n",
       "    <tr>\n",
       "      <th>55</th>\n",
       "      <td>2016-03-26 10:39:35</td>\n",
       "      <td>550</td>\n",
       "      <td>wagon</td>\n",
       "      <td>1999</td>\n",
       "      <td>manual</td>\n",
       "      <td>0</td>\n",
       "      <td>astra</td>\n",
       "      <td>150000</td>\n",
       "      <td>8</td>\n",
       "      <td>gasoline</td>\n",
       "      <td>opel</td>\n",
       "      <td>yes</td>\n",
       "      <td>2016-03-26 00:00:00</td>\n",
       "      <td>0</td>\n",
       "      <td>56759</td>\n",
       "      <td>2016-04-01 23:17:27</td>\n",
       "      <td>2016</td>\n",
       "    </tr>\n",
       "    <tr>\n",
       "      <th>...</th>\n",
       "      <td>...</td>\n",
       "      <td>...</td>\n",
       "      <td>...</td>\n",
       "      <td>...</td>\n",
       "      <td>...</td>\n",
       "      <td>...</td>\n",
       "      <td>...</td>\n",
       "      <td>...</td>\n",
       "      <td>...</td>\n",
       "      <td>...</td>\n",
       "      <td>...</td>\n",
       "      <td>...</td>\n",
       "      <td>...</td>\n",
       "      <td>...</td>\n",
       "      <td>...</td>\n",
       "      <td>...</td>\n",
       "      <td>...</td>\n",
       "    </tr>\n",
       "    <tr>\n",
       "      <th>354338</th>\n",
       "      <td>2016-03-31 19:52:33</td>\n",
       "      <td>180</td>\n",
       "      <td>unknown</td>\n",
       "      <td>1995</td>\n",
       "      <td>unknown</td>\n",
       "      <td>0</td>\n",
       "      <td>unknown</td>\n",
       "      <td>125000</td>\n",
       "      <td>3</td>\n",
       "      <td>petrol</td>\n",
       "      <td>opel</td>\n",
       "      <td>unknown</td>\n",
       "      <td>2016-03-31 00:00:00</td>\n",
       "      <td>0</td>\n",
       "      <td>41470</td>\n",
       "      <td>2016-04-06 14:18:04</td>\n",
       "      <td>2016</td>\n",
       "    </tr>\n",
       "    <tr>\n",
       "      <th>354346</th>\n",
       "      <td>2016-03-07 17:06:35</td>\n",
       "      <td>2600</td>\n",
       "      <td>unknown</td>\n",
       "      <td>2005</td>\n",
       "      <td>auto</td>\n",
       "      <td>0</td>\n",
       "      <td>c_klasse</td>\n",
       "      <td>150000</td>\n",
       "      <td>9</td>\n",
       "      <td>unknown</td>\n",
       "      <td>mercedes_benz</td>\n",
       "      <td>unknown</td>\n",
       "      <td>2016-03-07 00:00:00</td>\n",
       "      <td>0</td>\n",
       "      <td>61169</td>\n",
       "      <td>2016-03-08 21:28:38</td>\n",
       "      <td>2016</td>\n",
       "    </tr>\n",
       "    <tr>\n",
       "      <th>354360</th>\n",
       "      <td>2016-04-02 20:37:03</td>\n",
       "      <td>3999</td>\n",
       "      <td>wagon</td>\n",
       "      <td>2005</td>\n",
       "      <td>manual</td>\n",
       "      <td>3</td>\n",
       "      <td>3er</td>\n",
       "      <td>150000</td>\n",
       "      <td>5</td>\n",
       "      <td>gasoline</td>\n",
       "      <td>bmw</td>\n",
       "      <td>no</td>\n",
       "      <td>2016-04-02 00:00:00</td>\n",
       "      <td>0</td>\n",
       "      <td>81825</td>\n",
       "      <td>2016-04-06 20:47:12</td>\n",
       "      <td>2016</td>\n",
       "    </tr>\n",
       "    <tr>\n",
       "      <th>354363</th>\n",
       "      <td>2016-03-27 20:36:20</td>\n",
       "      <td>1150</td>\n",
       "      <td>bus</td>\n",
       "      <td>2000</td>\n",
       "      <td>manual</td>\n",
       "      <td>0</td>\n",
       "      <td>zafira</td>\n",
       "      <td>150000</td>\n",
       "      <td>3</td>\n",
       "      <td>petrol</td>\n",
       "      <td>opel</td>\n",
       "      <td>no</td>\n",
       "      <td>2016-03-27 00:00:00</td>\n",
       "      <td>0</td>\n",
       "      <td>26624</td>\n",
       "      <td>2016-03-29 10:17:23</td>\n",
       "      <td>2016</td>\n",
       "    </tr>\n",
       "    <tr>\n",
       "      <th>354365</th>\n",
       "      <td>2016-03-14 17:48:27</td>\n",
       "      <td>2200</td>\n",
       "      <td>unknown</td>\n",
       "      <td>2005</td>\n",
       "      <td>unknown</td>\n",
       "      <td>0</td>\n",
       "      <td>unknown</td>\n",
       "      <td>20000</td>\n",
       "      <td>1</td>\n",
       "      <td>unknown</td>\n",
       "      <td>sonstige_autos</td>\n",
       "      <td>unknown</td>\n",
       "      <td>2016-03-14 00:00:00</td>\n",
       "      <td>0</td>\n",
       "      <td>39576</td>\n",
       "      <td>2016-04-06 00:46:52</td>\n",
       "      <td>2016</td>\n",
       "    </tr>\n",
       "  </tbody>\n",
       "</table>\n",
       "<p>32353 rows × 17 columns</p>\n",
       "</div>"
      ],
      "text/plain": [
       "                DateCrawled  Price VehicleType  RegistrationYear  Gearbox  \\\n",
       "0       2016-03-24 11:52:17    480     unknown              1993   manual   \n",
       "32      2016-03-15 20:59:01    245       sedan              1994  unknown   \n",
       "37      2016-03-28 17:50:15   1500     unknown              2016  unknown   \n",
       "54      2016-03-17 07:56:40   4700       wagon              2005   manual   \n",
       "55      2016-03-26 10:39:35    550       wagon              1999   manual   \n",
       "...                     ...    ...         ...               ...      ...   \n",
       "354338  2016-03-31 19:52:33    180     unknown              1995  unknown   \n",
       "354346  2016-03-07 17:06:35   2600     unknown              2005     auto   \n",
       "354360  2016-04-02 20:37:03   3999       wagon              2005   manual   \n",
       "354363  2016-03-27 20:36:20   1150         bus              2000   manual   \n",
       "354365  2016-03-14 17:48:27   2200     unknown              2005  unknown   \n",
       "\n",
       "        Power     Model  Kilometer  RegistrationMonth  FuelType  \\\n",
       "0           0      golf     150000                  0    petrol   \n",
       "32          0      golf     150000                  2    petrol   \n",
       "37          0    kangoo     150000                  1  gasoline   \n",
       "54          0    signum     150000                  0   unknown   \n",
       "55          0     astra     150000                  8  gasoline   \n",
       "...       ...       ...        ...                ...       ...   \n",
       "354338      0   unknown     125000                  3    petrol   \n",
       "354346      0  c_klasse     150000                  9   unknown   \n",
       "354360      3       3er     150000                  5  gasoline   \n",
       "354363      0    zafira     150000                  3    petrol   \n",
       "354365      0   unknown      20000                  1   unknown   \n",
       "\n",
       "                 Brand Repaired          DateCreated  NumberOfPictures  \\\n",
       "0           volkswagen  unknown  2016-03-24 00:00:00                 0   \n",
       "32          volkswagen       no  2016-03-15 00:00:00                 0   \n",
       "37             renault       no  2016-03-28 00:00:00                 0   \n",
       "54                opel       no  2016-03-17 00:00:00                 0   \n",
       "55                opel      yes  2016-03-26 00:00:00                 0   \n",
       "...                ...      ...                  ...               ...   \n",
       "354338            opel  unknown  2016-03-31 00:00:00                 0   \n",
       "354346   mercedes_benz  unknown  2016-03-07 00:00:00                 0   \n",
       "354360             bmw       no  2016-04-02 00:00:00                 0   \n",
       "354363            opel       no  2016-03-27 00:00:00                 0   \n",
       "354365  sonstige_autos  unknown  2016-03-14 00:00:00                 0   \n",
       "\n",
       "        PostalCode             LastSeen  year_create  \n",
       "0            70435  2016-04-07 03:16:57         2016  \n",
       "32           44145  2016-03-17 18:17:43         2016  \n",
       "37           46483  2016-03-30 09:18:02         2016  \n",
       "54           88433  2016-04-04 04:17:32         2016  \n",
       "55           56759  2016-04-01 23:17:27         2016  \n",
       "...            ...                  ...          ...  \n",
       "354338       41470  2016-04-06 14:18:04         2016  \n",
       "354346       61169  2016-03-08 21:28:38         2016  \n",
       "354360       81825  2016-04-06 20:47:12         2016  \n",
       "354363       26624  2016-03-29 10:17:23         2016  \n",
       "354365       39576  2016-04-06 00:46:52         2016  \n",
       "\n",
       "[32353 rows x 17 columns]"
      ]
     },
     "execution_count": 43,
     "metadata": {},
     "output_type": "execute_result"
    }
   ],
   "source": [
    "data[data['Power'] < 30]"
   ]
  },
  {
   "cell_type": "markdown",
   "metadata": {},
   "source": [
    "Удалим из датасета объявления, если мощность автомобиля менее 30 или больше 500, посчитаем, что это выбросы"
   ]
  },
  {
   "cell_type": "code",
   "execution_count": 44,
   "metadata": {},
   "outputs": [],
   "source": [
    "data = data[(data['Power'] > 30)&(data['Power'] < 500)]"
   ]
  },
  {
   "cell_type": "code",
   "execution_count": 45,
   "metadata": {
    "scrolled": true
   },
   "outputs": [
    {
     "data": {
      "text/plain": [
       "count    294402.000000\n",
       "mean        120.810297\n",
       "std          53.173042\n",
       "min          31.000000\n",
       "25%          77.000000\n",
       "50%         112.000000\n",
       "75%         150.000000\n",
       "max         490.000000\n",
       "Name: Power, dtype: float64"
      ]
     },
     "execution_count": 45,
     "metadata": {},
     "output_type": "execute_result"
    }
   ],
   "source": [
    "data['Power'].describe()"
   ]
  },
  {
   "cell_type": "markdown",
   "metadata": {},
   "source": [
    "##### Обработаем столбец **Kilometer** = пробег автомобеля"
   ]
  },
  {
   "cell_type": "code",
   "execution_count": 46,
   "metadata": {},
   "outputs": [
    {
     "data": {
      "text/plain": [
       "count    294402.000000\n",
       "mean     128460.947956\n",
       "std       36547.528977\n",
       "min        5000.000000\n",
       "25%      125000.000000\n",
       "50%      150000.000000\n",
       "75%      150000.000000\n",
       "max      150000.000000\n",
       "Name: Kilometer, dtype: float64"
      ]
     },
     "execution_count": 46,
     "metadata": {},
     "output_type": "execute_result"
    }
   ],
   "source": [
    "data['Kilometer'].describe()"
   ]
  },
  {
   "cell_type": "code",
   "execution_count": 47,
   "metadata": {},
   "outputs": [
    {
     "data": {
      "image/png": "[encoded data removed]",
      "text/plain": [
       "<Figure size 432x288 with 1 Axes>"
      ]
     },
     "metadata": {
      "needs_background": "light"
     },
     "output_type": "display_data"
    }
   ],
   "source": [
    "data['Kilometer'].plot(kind='hist')\n",
    "plt.title('Распределение пробега авто')\n",
    "plt.xlabel('Пробег')\n",
    "plt.show()"
   ]
  },
  {
   "cell_type": "markdown",
   "metadata": {},
   "source": [
    "##### Обработаем столбец **NumberOfPictures** = количество фотографий"
   ]
  },
  {
   "cell_type": "code",
   "execution_count": 48,
   "metadata": {},
   "outputs": [
    {
     "data": {
      "text/plain": [
       "0    294402\n",
       "Name: NumberOfPictures, dtype: int64"
      ]
     },
     "execution_count": 48,
     "metadata": {},
     "output_type": "execute_result"
    }
   ],
   "source": [
    "data['NumberOfPictures'].value_counts()"
   ]
  },
  {
   "cell_type": "markdown",
   "metadata": {},
   "source": [
    "Вывод - во всех объявлениях отсутствуют фотографии. Скорее всего это ошибка при подготовке данных для исследования. Можно будет удалить данный столбец при обучении моделей"
   ]
  },
  {
   "cell_type": "code",
   "execution_count": 49,
   "metadata": {
    "scrolled": true
   },
   "outputs": [
    {
     "name": "stdout",
     "output_type": "stream",
     "text": [
      "<class 'pandas.core.frame.DataFrame'>\n",
      "Int64Index: 294402 entries, 1 to 354368\n",
      "Data columns (total 17 columns):\n",
      " #   Column             Non-Null Count   Dtype \n",
      "---  ------             --------------   ----- \n",
      " 0   DateCrawled        294402 non-null  object\n",
      " 1   Price              294402 non-null  int64 \n",
      " 2   VehicleType        294402 non-null  object\n",
      " 3   RegistrationYear   294402 non-null  int64 \n",
      " 4   Gearbox            294402 non-null  object\n",
      " 5   Power              294402 non-null  int64 \n",
      " 6   Model              294402 non-null  object\n",
      " 7   Kilometer          294402 non-null  int64 \n",
      " 8   RegistrationMonth  294402 non-null  int64 \n",
      " 9   FuelType           294402 non-null  object\n",
      " 10  Brand              294402 non-null  object\n",
      " 11  Repaired           294402 non-null  object\n",
      " 12  DateCreated        294402 non-null  object\n",
      " 13  NumberOfPictures   294402 non-null  int64 \n",
      " 14  PostalCode         294402 non-null  int64 \n",
      " 15  LastSeen           294402 non-null  object\n",
      " 16  year_create        294402 non-null  int64 \n",
      "dtypes: int64(8), object(9)\n",
      "memory usage: 40.4+ MB\n"
     ]
    }
   ],
   "source": [
    "data.info()"
   ]
  },
  {
   "cell_type": "markdown",
   "metadata": {},
   "source": [
    "#### Удалим признаки, которые не несут информативности в построении прогноза"
   ]
  },
  {
   "cell_type": "code",
   "execution_count": 50,
   "metadata": {},
   "outputs": [],
   "source": [
    "data.drop(['DateCrawled','NumberOfPictures', 'RegistrationMonth','DateCreated','PostalCode','LastSeen', 'year_create'], axis=1, inplace=True)"
   ]
  },
  {
   "cell_type": "markdown",
   "metadata": {},
   "source": [
    "#### Проверим датасет на дубликаты после удаления \"неинформативных\" признаков"
   ]
  },
  {
   "cell_type": "code",
   "execution_count": 51,
   "metadata": {
    "scrolled": true
   },
   "outputs": [
    {
     "data": {
      "text/plain": [
       "38977"
      ]
     },
     "execution_count": 51,
     "metadata": {},
     "output_type": "execute_result"
    }
   ],
   "source": [
    "data.duplicated().sum()"
   ]
  },
  {
   "cell_type": "markdown",
   "metadata": {},
   "source": [
    "Удалим дубликаты из датафрейма"
   ]
  },
  {
   "cell_type": "code",
   "execution_count": 52,
   "metadata": {},
   "outputs": [],
   "source": [
    "data.drop_duplicates(inplace=True)"
   ]
  },
  {
   "cell_type": "markdown",
   "metadata": {},
   "source": [
    "#### Посмотрим корреляцию между признаками"
   ]
  },
  {
   "cell_type": "code",
   "execution_count": 53,
   "metadata": {},
   "outputs": [
    {
     "name": "stdout",
     "output_type": "stream",
     "text": [
      "interval columns not set, guessing: ['Price', 'RegistrationYear', 'Power', 'Kilometer']\n",
      "CPU times: total: 5.69 s\n",
      "Wall time: 21.2 s\n"
     ]
    }
   ],
   "source": [
    "%%time\n",
    "phik_overview = data.phik_matrix()"
   ]
  },
  {
   "cell_type": "code",
   "execution_count": 54,
   "metadata": {},
   "outputs": [
    {
     "data": {
      "text/html": [
       "<div>\n",
       "<style scoped>\n",
       "    .dataframe tbody tr th:only-of-type {\n",
       "        vertical-align: middle;\n",
       "    }\n",
       "\n",
       "    .dataframe tbody tr th {\n",
       "        vertical-align: top;\n",
       "    }\n",
       "\n",
       "    .dataframe thead th {\n",
       "        text-align: right;\n",
       "    }\n",
       "</style>\n",
       "<table border=\"1\" class=\"dataframe\">\n",
       "  <thead>\n",
       "    <tr style=\"text-align: right;\">\n",
       "      <th></th>\n",
       "      <th>Price</th>\n",
       "      <th>VehicleType</th>\n",
       "      <th>RegistrationYear</th>\n",
       "      <th>Gearbox</th>\n",
       "      <th>Power</th>\n",
       "      <th>Model</th>\n",
       "      <th>Kilometer</th>\n",
       "      <th>FuelType</th>\n",
       "      <th>Brand</th>\n",
       "      <th>Repaired</th>\n",
       "    </tr>\n",
       "  </thead>\n",
       "  <tbody>\n",
       "    <tr>\n",
       "      <th>Price</th>\n",
       "      <td>1.00</td>\n",
       "      <td>0.26</td>\n",
       "      <td>0.65</td>\n",
       "      <td>0.28</td>\n",
       "      <td>0.51</td>\n",
       "      <td>0.57</td>\n",
       "      <td>0.32</td>\n",
       "      <td>0.25</td>\n",
       "      <td>0.36</td>\n",
       "      <td>0.35</td>\n",
       "    </tr>\n",
       "    <tr>\n",
       "      <th>VehicleType</th>\n",
       "      <td>0.26</td>\n",
       "      <td>1.00</td>\n",
       "      <td>0.26</td>\n",
       "      <td>0.38</td>\n",
       "      <td>0.48</td>\n",
       "      <td>0.90</td>\n",
       "      <td>0.26</td>\n",
       "      <td>0.39</td>\n",
       "      <td>0.59</td>\n",
       "      <td>0.33</td>\n",
       "    </tr>\n",
       "    <tr>\n",
       "      <th>RegistrationYear</th>\n",
       "      <td>0.65</td>\n",
       "      <td>0.26</td>\n",
       "      <td>1.00</td>\n",
       "      <td>0.10</td>\n",
       "      <td>0.24</td>\n",
       "      <td>0.61</td>\n",
       "      <td>0.39</td>\n",
       "      <td>0.24</td>\n",
       "      <td>0.35</td>\n",
       "      <td>0.21</td>\n",
       "    </tr>\n",
       "    <tr>\n",
       "      <th>Gearbox</th>\n",
       "      <td>0.28</td>\n",
       "      <td>0.38</td>\n",
       "      <td>0.10</td>\n",
       "      <td>1.00</td>\n",
       "      <td>0.47</td>\n",
       "      <td>0.62</td>\n",
       "      <td>0.07</td>\n",
       "      <td>0.20</td>\n",
       "      <td>0.52</td>\n",
       "      <td>0.27</td>\n",
       "    </tr>\n",
       "    <tr>\n",
       "      <th>Power</th>\n",
       "      <td>0.51</td>\n",
       "      <td>0.48</td>\n",
       "      <td>0.24</td>\n",
       "      <td>0.47</td>\n",
       "      <td>1.00</td>\n",
       "      <td>0.78</td>\n",
       "      <td>0.11</td>\n",
       "      <td>0.24</td>\n",
       "      <td>0.57</td>\n",
       "      <td>0.12</td>\n",
       "    </tr>\n",
       "    <tr>\n",
       "      <th>Model</th>\n",
       "      <td>0.57</td>\n",
       "      <td>0.90</td>\n",
       "      <td>0.61</td>\n",
       "      <td>0.62</td>\n",
       "      <td>0.78</td>\n",
       "      <td>1.00</td>\n",
       "      <td>0.44</td>\n",
       "      <td>0.53</td>\n",
       "      <td>1.00</td>\n",
       "      <td>0.28</td>\n",
       "    </tr>\n",
       "    <tr>\n",
       "      <th>Kilometer</th>\n",
       "      <td>0.32</td>\n",
       "      <td>0.26</td>\n",
       "      <td>0.39</td>\n",
       "      <td>0.07</td>\n",
       "      <td>0.11</td>\n",
       "      <td>0.44</td>\n",
       "      <td>1.00</td>\n",
       "      <td>0.16</td>\n",
       "      <td>0.26</td>\n",
       "      <td>0.24</td>\n",
       "    </tr>\n",
       "    <tr>\n",
       "      <th>FuelType</th>\n",
       "      <td>0.25</td>\n",
       "      <td>0.39</td>\n",
       "      <td>0.24</td>\n",
       "      <td>0.20</td>\n",
       "      <td>0.24</td>\n",
       "      <td>0.53</td>\n",
       "      <td>0.16</td>\n",
       "      <td>1.00</td>\n",
       "      <td>0.29</td>\n",
       "      <td>0.20</td>\n",
       "    </tr>\n",
       "    <tr>\n",
       "      <th>Brand</th>\n",
       "      <td>0.36</td>\n",
       "      <td>0.59</td>\n",
       "      <td>0.35</td>\n",
       "      <td>0.52</td>\n",
       "      <td>0.57</td>\n",
       "      <td>1.00</td>\n",
       "      <td>0.26</td>\n",
       "      <td>0.29</td>\n",
       "      <td>1.00</td>\n",
       "      <td>0.14</td>\n",
       "    </tr>\n",
       "    <tr>\n",
       "      <th>Repaired</th>\n",
       "      <td>0.35</td>\n",
       "      <td>0.33</td>\n",
       "      <td>0.21</td>\n",
       "      <td>0.27</td>\n",
       "      <td>0.12</td>\n",
       "      <td>0.28</td>\n",
       "      <td>0.24</td>\n",
       "      <td>0.20</td>\n",
       "      <td>0.14</td>\n",
       "      <td>1.00</td>\n",
       "    </tr>\n",
       "  </tbody>\n",
       "</table>\n",
       "</div>"
      ],
      "text/plain": [
       "                  Price  VehicleType  RegistrationYear  Gearbox  Power  Model  \\\n",
       "Price              1.00         0.26              0.65     0.28   0.51   0.57   \n",
       "VehicleType        0.26         1.00              0.26     0.38   0.48   0.90   \n",
       "RegistrationYear   0.65         0.26              1.00     0.10   0.24   0.61   \n",
       "Gearbox            0.28         0.38              0.10     1.00   0.47   0.62   \n",
       "Power              0.51         0.48              0.24     0.47   1.00   0.78   \n",
       "Model              0.57         0.90              0.61     0.62   0.78   1.00   \n",
       "Kilometer          0.32         0.26              0.39     0.07   0.11   0.44   \n",
       "FuelType           0.25         0.39              0.24     0.20   0.24   0.53   \n",
       "Brand              0.36         0.59              0.35     0.52   0.57   1.00   \n",
       "Repaired           0.35         0.33              0.21     0.27   0.12   0.28   \n",
       "\n",
       "                  Kilometer  FuelType  Brand  Repaired  \n",
       "Price                  0.32      0.25   0.36      0.35  \n",
       "VehicleType            0.26      0.39   0.59      0.33  \n",
       "RegistrationYear       0.39      0.24   0.35      0.21  \n",
       "Gearbox                0.07      0.20   0.52      0.27  \n",
       "Power                  0.11      0.24   0.57      0.12  \n",
       "Model                  0.44      0.53   1.00      0.28  \n",
       "Kilometer              1.00      0.16   0.26      0.24  \n",
       "FuelType               0.16      1.00   0.29      0.20  \n",
       "Brand                  0.26      0.29   1.00      0.14  \n",
       "Repaired               0.24      0.20   0.14      1.00  "
      ]
     },
     "execution_count": 54,
     "metadata": {},
     "output_type": "execute_result"
    }
   ],
   "source": [
    "phik_overview.round(2)"
   ]
  },
  {
   "cell_type": "code",
   "execution_count": 55,
   "metadata": {
    "scrolled": true
   },
   "outputs": [
    {
     "data": {
      "image/png": "[encoded data removed]",
      "text/plain": [
       "<Figure size 720x576 with 2 Axes>"
      ]
     },
     "metadata": {
      "needs_background": "light"
     },
     "output_type": "display_data"
    }
   ],
   "source": [
    "plot_correlation_matrix(phik_overview.values, \n",
    "                        x_labels=phik_overview.columns, \n",
    "                        y_labels=phik_overview.index, \n",
    "                        vmin=0, vmax=1, color_map=\"Greens\", \n",
    "                        title=r\"correlation $\\phi_K$\", \n",
    "                        fontsize_factor=1.5, \n",
    "                        figsize=(10, 8))\n",
    "plt.tight_layout()"
   ]
  },
  {
   "cell_type": "markdown",
   "metadata": {},
   "source": [
    "Выявленая прямая полная корреляция между признаками Model и Brand.  \n",
    "Также Model также сильно коррелирует с признаком VehicleType. \n",
    "\n",
    "Удалю признак Model для наилучшего расчета моделей."
   ]
  },
  {
   "cell_type": "code",
   "execution_count": 56,
   "metadata": {},
   "outputs": [],
   "source": [
    "data.drop('Model', axis=1, inplace=True)"
   ]
  },
  {
   "cell_type": "markdown",
   "metadata": {},
   "source": [
    "#### Подготовим данные к обучению"
   ]
  },
  {
   "cell_type": "code",
   "execution_count": 57,
   "metadata": {},
   "outputs": [],
   "source": [
    "# Разобьем данные на обучающие признаки и целевой\n",
    "features = data.drop('Price', axis=1)\n",
    "target = data.Price"
   ]
  },
  {
   "cell_type": "code",
   "execution_count": 58,
   "metadata": {},
   "outputs": [],
   "source": [
    "for col in features.select_dtypes(include=['object']):\n",
    "    features[col] = features[col].astype('category')"
   ]
  },
  {
   "cell_type": "markdown",
   "metadata": {},
   "source": [
    "создам копию данных, чтобы закодировать категориальные признакми для get_dummy"
   ]
  },
  {
   "cell_type": "code",
   "execution_count": 59,
   "metadata": {},
   "outputs": [],
   "source": [
    "features_dummy = features.copy()\n",
    "target_dummy = target.copy()"
   ]
  },
  {
   "cell_type": "code",
   "execution_count": 60,
   "metadata": {},
   "outputs": [],
   "source": [
    "features_dummy = pd.get_dummies(features_dummy, columns=['VehicleType','Gearbox','FuelType', 'Brand','Repaired', 'Kilometer'], drop_first=True)"
   ]
  },
  {
   "cell_type": "code",
   "execution_count": 61,
   "metadata": {},
   "outputs": [],
   "source": [
    "# разобьем данные на тренировочну и временную выборки. Временную после разделим на валидационную и тестовую\n",
    "features_train, features_temp, target_train, target_temp = train_test_split(features,target, test_size=0.4)"
   ]
  },
  {
   "cell_type": "code",
   "execution_count": 62,
   "metadata": {},
   "outputs": [],
   "source": [
    "features_valid, features_test, target_valid, target_test = train_test_split(features_temp,target_temp, test_size=0.5)"
   ]
  },
  {
   "cell_type": "markdown",
   "metadata": {},
   "source": [
    "создадим копии выборок для дальшейшего кодирования разными алгоритамами, чтобы использовать их в обучении разных моделей"
   ]
  },
  {
   "cell_type": "code",
   "execution_count": 63,
   "metadata": {},
   "outputs": [],
   "source": [
    "features_train_ordinal = features_train.copy()\n",
    "features_valid_ordinal = features_valid.copy()\n",
    "features_test_ordinal = features_test.copy()"
   ]
  },
  {
   "cell_type": "markdown",
   "metadata": {},
   "source": [
    "#### Создадим переменную, в которой укажем названия категориальных признаков"
   ]
  },
  {
   "cell_type": "code",
   "execution_count": 64,
   "metadata": {},
   "outputs": [],
   "source": [
    "categorial_features = ['VehicleType','Gearbox','Brand', 'FuelType','Repaired', 'Kilometer']"
   ]
  },
  {
   "cell_type": "markdown",
   "metadata": {},
   "source": [
    "#### Произведу кодирование категориальных признаков алгоритмом **OrdinalEncoder**"
   ]
  },
  {
   "cell_type": "code",
   "execution_count": 67,
   "metadata": {},
   "outputs": [],
   "source": [
    "encoder = OrdinalEncoder(handle_unknown='error', unknown_value=None)"
   ]
  },
  {
   "cell_type": "code",
   "execution_count": 68,
   "metadata": {},
   "outputs": [
    {
     "data": {
      "text/plain": [
       "OrdinalEncoder()"
      ]
     },
     "execution_count": 68,
     "metadata": {},
     "output_type": "execute_result"
    }
   ],
   "source": [
    "encoder.fit(features_train_ordinal[categorial_features])"
   ]
  },
  {
   "cell_type": "markdown",
   "metadata": {},
   "source": [
    "Применим кодирование категориальных признаков методом OrdinalEncoder"
   ]
  },
  {
   "cell_type": "code",
   "execution_count": 69,
   "metadata": {},
   "outputs": [],
   "source": [
    "features_train_ordinal[categorial_features] = encoder.transform(features_train_ordinal[categorial_features])\n",
    "features_valid_ordinal[categorial_features] = encoder.transform(features_valid_ordinal[categorial_features])\n",
    "features_test_ordinal[categorial_features] = encoder.transform(features_test_ordinal[categorial_features])"
   ]
  },
  {
   "cell_type": "markdown",
   "metadata": {},
   "source": [
    "Применим кодирование категориальных признаков методом get_dummy"
   ]
  },
  {
   "cell_type": "code",
   "execution_count": 70,
   "metadata": {},
   "outputs": [],
   "source": [
    "#разобьем данные на тренировочные, валидационные и тестовые выборки. Будем использовать датасет, к которому ранее уже преминили get_dummies\n",
    "features_train_dummy, features_temp_dummy, target_train_dummy, target_temp_dummy = train_test_split(features_dummy,target_dummy, test_size=0.4)\n",
    "features_valid_dummy, features_test_dummy, target_valid_dummy, target_test_dummy = train_test_split(features_temp_dummy,target_temp_dummy, test_size=0.5)"
   ]
  },
  {
   "cell_type": "code",
   "execution_count": 71,
   "metadata": {},
   "outputs": [],
   "source": [
    "# создадим переменную с числовыми данными, чтобы применить к ним стандартизацию\n",
    "numeric = ['RegistrationYear', 'Power']"
   ]
  },
  {
   "cell_type": "markdown",
   "metadata": {},
   "source": [
    "Произведем стандартизацию для данных закодированных Ordinal и Dummy"
   ]
  },
  {
   "cell_type": "code",
   "execution_count": 72,
   "metadata": {},
   "outputs": [],
   "source": [
    "scaler = StandardScaler()"
   ]
  },
  {
   "cell_type": "code",
   "execution_count": 73,
   "metadata": {},
   "outputs": [
    {
     "data": {
      "text/plain": [
       "StandardScaler()"
      ]
     },
     "execution_count": 73,
     "metadata": {},
     "output_type": "execute_result"
    }
   ],
   "source": [
    "scaler.fit(features_train_ordinal[numeric])"
   ]
  },
  {
   "cell_type": "code",
   "execution_count": 74,
   "metadata": {},
   "outputs": [],
   "source": [
    "features_train_ordinal[numeric] = scaler.transform(features_train_ordinal[numeric])\n",
    "features_valid_ordinal[numeric] = scaler.transform(features_valid_ordinal[numeric])\n",
    "features_test_ordinal[numeric] = scaler.transform(features_test_ordinal[numeric])"
   ]
  },
  {
   "cell_type": "code",
   "execution_count": 75,
   "metadata": {},
   "outputs": [
    {
     "data": {
      "text/plain": [
       "StandardScaler()"
      ]
     },
     "execution_count": 75,
     "metadata": {},
     "output_type": "execute_result"
    }
   ],
   "source": [
    "scaler.fit(features_train_dummy[numeric])"
   ]
  },
  {
   "cell_type": "code",
   "execution_count": 76,
   "metadata": {},
   "outputs": [],
   "source": [
    "features_train_dummy[numeric] = scaler.transform(features_train_dummy[numeric])\n",
    "features_valid_dummy[numeric] = scaler.transform(features_valid_dummy[numeric])\n",
    "features_test_dummy[numeric] = scaler.transform(features_test_dummy[numeric])"
   ]
  },
  {
   "cell_type": "markdown",
   "metadata": {},
   "source": [
    "## Обучение моделей"
   ]
  },
  {
   "cell_type": "markdown",
   "metadata": {},
   "source": [
    "### Создадим модели обучения"
   ]
  },
  {
   "cell_type": "code",
   "execution_count": 77,
   "metadata": {},
   "outputs": [],
   "source": [
    "# зададим параметры для модели LGBMRegressor\n",
    "n_estimators =  [100, 500, 1000]\n",
    "learning_rate = [0.01, 0.1]#, 0.5]"
   ]
  },
  {
   "cell_type": "code",
   "execution_count": 78,
   "metadata": {},
   "outputs": [],
   "source": [
    "model_linear = LinearRegression() # модель линейной регрессии\n",
    "model_rf = RandomForestRegressor(random_state=12345) # модель случайного леса\n",
    "model_cat = CatBoostRegressor(loss_function='RMSE')  # модель CatBoost\n",
    "\n",
    "# создадим словарь, который будет хранить модели LGBMRegressor с разными гиперпараметрами\n",
    "model_lgbm_dict = dict()\n",
    "for i in n_estimators:\n",
    "    for y in learning_rate:\n",
    "        model_lgbm_dict[i,y] = LGBMRegressor(n_estimators = i, learning_rate=y) # модель LightGBM"
   ]
  },
  {
   "cell_type": "code",
   "execution_count": 79,
   "metadata": {
    "scrolled": true
   },
   "outputs": [
    {
     "data": {
      "text/plain": [
       "{(100, 0.01): LGBMRegressor(learning_rate=0.01),\n",
       " (100, 0.1): LGBMRegressor(),\n",
       " (500, 0.01): LGBMRegressor(learning_rate=0.01, n_estimators=500),\n",
       " (500, 0.1): LGBMRegressor(n_estimators=500),\n",
       " (1000, 0.01): LGBMRegressor(learning_rate=0.01, n_estimators=1000),\n",
       " (1000, 0.1): LGBMRegressor(n_estimators=1000)}"
      ]
     },
     "execution_count": 79,
     "metadata": {},
     "output_type": "execute_result"
    }
   ],
   "source": [
    "model_lgbm_dict"
   ]
  },
  {
   "cell_type": "code",
   "execution_count": 80,
   "metadata": {},
   "outputs": [
    {
     "data": {
      "text/html": [
       "<div>\n",
       "<style scoped>\n",
       "    .dataframe tbody tr th:only-of-type {\n",
       "        vertical-align: middle;\n",
       "    }\n",
       "\n",
       "    .dataframe tbody tr th {\n",
       "        vertical-align: top;\n",
       "    }\n",
       "\n",
       "    .dataframe thead th {\n",
       "        text-align: right;\n",
       "    }\n",
       "</style>\n",
       "<table border=\"1\" class=\"dataframe\">\n",
       "  <thead>\n",
       "    <tr style=\"text-align: right;\">\n",
       "      <th></th>\n",
       "      <th></th>\n",
       "      <th>params</th>\n",
       "      <th>RMSE</th>\n",
       "      <th>time_fit</th>\n",
       "      <th>time_predict</th>\n",
       "    </tr>\n",
       "  </thead>\n",
       "  <tbody>\n",
       "    <tr>\n",
       "      <th rowspan=\"2\" valign=\"top\">100</th>\n",
       "      <th>0.01</th>\n",
       "      <td>NaN</td>\n",
       "      <td>NaN</td>\n",
       "      <td>NaN</td>\n",
       "      <td>NaN</td>\n",
       "    </tr>\n",
       "    <tr>\n",
       "      <th>0.10</th>\n",
       "      <td>NaN</td>\n",
       "      <td>NaN</td>\n",
       "      <td>NaN</td>\n",
       "      <td>NaN</td>\n",
       "    </tr>\n",
       "    <tr>\n",
       "      <th rowspan=\"2\" valign=\"top\">500</th>\n",
       "      <th>0.01</th>\n",
       "      <td>NaN</td>\n",
       "      <td>NaN</td>\n",
       "      <td>NaN</td>\n",
       "      <td>NaN</td>\n",
       "    </tr>\n",
       "    <tr>\n",
       "      <th>0.10</th>\n",
       "      <td>NaN</td>\n",
       "      <td>NaN</td>\n",
       "      <td>NaN</td>\n",
       "      <td>NaN</td>\n",
       "    </tr>\n",
       "    <tr>\n",
       "      <th rowspan=\"2\" valign=\"top\">1000</th>\n",
       "      <th>0.01</th>\n",
       "      <td>NaN</td>\n",
       "      <td>NaN</td>\n",
       "      <td>NaN</td>\n",
       "      <td>NaN</td>\n",
       "    </tr>\n",
       "    <tr>\n",
       "      <th>0.10</th>\n",
       "      <td>NaN</td>\n",
       "      <td>NaN</td>\n",
       "      <td>NaN</td>\n",
       "      <td>NaN</td>\n",
       "    </tr>\n",
       "  </tbody>\n",
       "</table>\n",
       "</div>"
      ],
      "text/plain": [
       "          params RMSE time_fit time_predict\n",
       "100  0.01    NaN  NaN      NaN          NaN\n",
       "     0.10    NaN  NaN      NaN          NaN\n",
       "500  0.01    NaN  NaN      NaN          NaN\n",
       "     0.10    NaN  NaN      NaN          NaN\n",
       "1000 0.01    NaN  NaN      NaN          NaN\n",
       "     0.10    NaN  NaN      NaN          NaN"
      ]
     },
     "execution_count": 80,
     "metadata": {},
     "output_type": "execute_result"
    }
   ],
   "source": [
    "# создадим таблицу для сохранения результатов работы LGBMRegressor\n",
    "model_lgbm_result = pd.DataFrame(index = model_lgbm_dict.keys(), columns=['params', 'RMSE', 'time_fit', 'time_predict'])\n",
    "model_lgbm_result"
   ]
  },
  {
   "cell_type": "markdown",
   "metadata": {},
   "source": [
    "### Обучим модель **LGBMRegressor** с разными гиперпараметрами, сохраним результаты в таблицу **model_lgbm_result**"
   ]
  },
  {
   "cell_type": "code",
   "execution_count": 81,
   "metadata": {},
   "outputs": [],
   "source": [
    "del features, features_dummy, target, target_dummy"
   ]
  },
  {
   "cell_type": "code",
   "execution_count": 82,
   "metadata": {
    "scrolled": true
   },
   "outputs": [
    {
     "name": "stdout",
     "output_type": "stream",
     "text": [
      "(100, 0.01)\n",
      "(100, 0.1)\n",
      "(500, 0.01)\n",
      "(500, 0.1)\n",
      "(1000, 0.01)\n",
      "(1000, 0.1)\n",
      "CPU times: total: 4min 29s\n",
      "Wall time: 1min 13s\n"
     ]
    }
   ],
   "source": [
    "%%time\n",
    "for i, model in model_lgbm_dict.items():\n",
    "    predict = []\n",
    "    print(i)\n",
    "    model_lgbm_result.loc[i]['params'] = i\n",
    "    model_study = model\n",
    "    time_start = time.time() # фиксируем время начала обучения\n",
    "    model_study.fit(features_train, target_train)\n",
    "    model_lgbm_result.loc[i]['time_fit'] = round((time.time() - time_start),2) # сохраняем время обучение модели в датафрейм\n",
    "    time_predict = time.time() # фиксируем время начала предсказания\n",
    "    predict = model_study.predict(features_valid) # делаем предсказание\n",
    "    model_lgbm_result.loc[i]['time_predict'] = round((time.time() - time_predict),2)\n",
    "    rmse = mean_squared_error(target_valid, predict)**0.5 # рассчитываем метрику RMSE\n",
    "    model_lgbm_result.loc[i]['RMSE'] = round(rmse,2) # сохраняем параметр RMSE в датафрейм"
   ]
  },
  {
   "cell_type": "code",
   "execution_count": 83,
   "metadata": {
    "scrolled": true
   },
   "outputs": [
    {
     "data": {
      "text/html": [
       "<div>\n",
       "<style scoped>\n",
       "    .dataframe tbody tr th:only-of-type {\n",
       "        vertical-align: middle;\n",
       "    }\n",
       "\n",
       "    .dataframe tbody tr th {\n",
       "        vertical-align: top;\n",
       "    }\n",
       "\n",
       "    .dataframe thead th {\n",
       "        text-align: right;\n",
       "    }\n",
       "</style>\n",
       "<table border=\"1\" class=\"dataframe\">\n",
       "  <thead>\n",
       "    <tr style=\"text-align: right;\">\n",
       "      <th></th>\n",
       "      <th></th>\n",
       "      <th>params</th>\n",
       "      <th>RMSE</th>\n",
       "      <th>time_fit</th>\n",
       "      <th>time_predict</th>\n",
       "    </tr>\n",
       "  </thead>\n",
       "  <tbody>\n",
       "    <tr>\n",
       "      <th>1000</th>\n",
       "      <th>0.10</th>\n",
       "      <td>(1000, 0.1)</td>\n",
       "      <td>1601.02</td>\n",
       "      <td>12.34</td>\n",
       "      <td>7.81</td>\n",
       "    </tr>\n",
       "    <tr>\n",
       "      <th>500</th>\n",
       "      <th>0.10</th>\n",
       "      <td>(500, 0.1)</td>\n",
       "      <td>1612.37</td>\n",
       "      <td>6.55</td>\n",
       "      <td>1.85</td>\n",
       "    </tr>\n",
       "    <tr>\n",
       "      <th>1000</th>\n",
       "      <th>0.01</th>\n",
       "      <td>(1000, 0.01)</td>\n",
       "      <td>1678.15</td>\n",
       "      <td>15.93</td>\n",
       "      <td>9.15</td>\n",
       "    </tr>\n",
       "    <tr>\n",
       "      <th>100</th>\n",
       "      <th>0.10</th>\n",
       "      <td>(100, 0.1)</td>\n",
       "      <td>1681.18</td>\n",
       "      <td>2.9</td>\n",
       "      <td>0.32</td>\n",
       "    </tr>\n",
       "    <tr>\n",
       "      <th>500</th>\n",
       "      <th>0.01</th>\n",
       "      <td>(500, 0.01)</td>\n",
       "      <td>1729.82</td>\n",
       "      <td>10.28</td>\n",
       "      <td>3.11</td>\n",
       "    </tr>\n",
       "    <tr>\n",
       "      <th>100</th>\n",
       "      <th>0.01</th>\n",
       "      <td>(100, 0.01)</td>\n",
       "      <td>2646.58</td>\n",
       "      <td>2.94</td>\n",
       "      <td>0.29</td>\n",
       "    </tr>\n",
       "  </tbody>\n",
       "</table>\n",
       "</div>"
      ],
      "text/plain": [
       "                 params     RMSE time_fit time_predict\n",
       "1000 0.10   (1000, 0.1)  1601.02    12.34         7.81\n",
       "500  0.10    (500, 0.1)  1612.37     6.55         1.85\n",
       "1000 0.01  (1000, 0.01)  1678.15    15.93         9.15\n",
       "100  0.10    (100, 0.1)  1681.18      2.9         0.32\n",
       "500  0.01   (500, 0.01)  1729.82    10.28         3.11\n",
       "100  0.01   (100, 0.01)  2646.58     2.94         0.29"
      ]
     },
     "execution_count": 83,
     "metadata": {},
     "output_type": "execute_result"
    }
   ],
   "source": [
    "model_lgbm_result = model_lgbm_result.sort_values(by='RMSE', ascending=True)\n",
    "model_lgbm_result"
   ]
  },
  {
   "cell_type": "markdown",
   "metadata": {},
   "source": [
    "получили лучший результат работы **LGBMRegressor** на гиперпараметрах:  \n",
    "n_estimators = 1000\n",
    "learning_rate = 0.1"
   ]
  },
  {
   "cell_type": "markdown",
   "metadata": {},
   "source": [
    "### Обучим модели линейной регрессии, случайного леса и CatBoost"
   ]
  },
  {
   "cell_type": "code",
   "execution_count": 84,
   "metadata": {},
   "outputs": [],
   "source": [
    "dict = {'linear' : model_linear,\n",
    "       'RF' : model_rf,\n",
    "        'CatBoost' : model_cat\n",
    "       }"
   ]
  },
  {
   "cell_type": "code",
   "execution_count": 85,
   "metadata": {
    "scrolled": true
   },
   "outputs": [
    {
     "data": {
      "text/html": [
       "<div>\n",
       "<style scoped>\n",
       "    .dataframe tbody tr th:only-of-type {\n",
       "        vertical-align: middle;\n",
       "    }\n",
       "\n",
       "    .dataframe tbody tr th {\n",
       "        vertical-align: top;\n",
       "    }\n",
       "\n",
       "    .dataframe thead th {\n",
       "        text-align: right;\n",
       "    }\n",
       "</style>\n",
       "<table border=\"1\" class=\"dataframe\">\n",
       "  <thead>\n",
       "    <tr style=\"text-align: right;\">\n",
       "      <th></th>\n",
       "      <th>model</th>\n",
       "      <th>RMSE</th>\n",
       "      <th>time_fit</th>\n",
       "      <th>time_predict</th>\n",
       "    </tr>\n",
       "  </thead>\n",
       "  <tbody>\n",
       "    <tr>\n",
       "      <th>linear</th>\n",
       "      <td>NaN</td>\n",
       "      <td>NaN</td>\n",
       "      <td>NaN</td>\n",
       "      <td>NaN</td>\n",
       "    </tr>\n",
       "    <tr>\n",
       "      <th>RF</th>\n",
       "      <td>NaN</td>\n",
       "      <td>NaN</td>\n",
       "      <td>NaN</td>\n",
       "      <td>NaN</td>\n",
       "    </tr>\n",
       "    <tr>\n",
       "      <th>CatBoost</th>\n",
       "      <td>NaN</td>\n",
       "      <td>NaN</td>\n",
       "      <td>NaN</td>\n",
       "      <td>NaN</td>\n",
       "    </tr>\n",
       "  </tbody>\n",
       "</table>\n",
       "</div>"
      ],
      "text/plain": [
       "         model RMSE time_fit time_predict\n",
       "linear     NaN  NaN      NaN          NaN\n",
       "RF         NaN  NaN      NaN          NaN\n",
       "CatBoost   NaN  NaN      NaN          NaN"
      ]
     },
     "execution_count": 85,
     "metadata": {},
     "output_type": "execute_result"
    }
   ],
   "source": [
    "# Создадим датафрейм для дальнейшего сохранения результатов\n",
    "results = pd.DataFrame(index = dict.keys(), columns=['model', 'RMSE', 'time_fit', 'time_predict'])\n",
    "results"
   ]
  },
  {
   "cell_type": "code",
   "execution_count": 86,
   "metadata": {},
   "outputs": [
    {
     "name": "stdout",
     "output_type": "stream",
     "text": [
      "Learning rate set to 0.090672\n",
      "0:\tlearn: 4388.9582435\ttotal: 971ms\tremaining: 16m 9s\n",
      "50:\tlearn: 1881.0219436\ttotal: 18.2s\tremaining: 5m 39s\n",
      "100:\tlearn: 1786.4593163\ttotal: 36.7s\tremaining: 5m 26s\n",
      "150:\tlearn: 1745.7137889\ttotal: 56.7s\tremaining: 5m 18s\n",
      "200:\tlearn: 1720.5271258\ttotal: 1m 14s\tremaining: 4m 57s\n",
      "250:\tlearn: 1702.3222700\ttotal: 1m 34s\tremaining: 4m 41s\n",
      "300:\tlearn: 1687.5412452\ttotal: 1m 51s\tremaining: 4m 18s\n",
      "350:\tlearn: 1674.9975502\ttotal: 2m 9s\tremaining: 3m 58s\n",
      "400:\tlearn: 1663.5281460\ttotal: 2m 27s\tremaining: 3m 40s\n",
      "450:\tlearn: 1653.4830906\ttotal: 2m 45s\tremaining: 3m 20s\n",
      "500:\tlearn: 1646.7566819\ttotal: 3m 2s\tremaining: 3m 1s\n",
      "550:\tlearn: 1638.8059182\ttotal: 3m 19s\tremaining: 2m 42s\n",
      "600:\tlearn: 1632.1657351\ttotal: 3m 36s\tremaining: 2m 23s\n",
      "650:\tlearn: 1625.4117724\ttotal: 3m 57s\tremaining: 2m 7s\n",
      "700:\tlearn: 1618.9748309\ttotal: 4m 14s\tremaining: 1m 48s\n",
      "750:\tlearn: 1613.0245010\ttotal: 4m 32s\tremaining: 1m 30s\n",
      "800:\tlearn: 1607.7265774\ttotal: 4m 50s\tremaining: 1m 12s\n",
      "850:\tlearn: 1602.7221686\ttotal: 5m 8s\tremaining: 54s\n",
      "900:\tlearn: 1598.8326349\ttotal: 5m 27s\tremaining: 36s\n",
      "950:\tlearn: 1595.4002129\ttotal: 5m 45s\tremaining: 17.8s\n",
      "999:\tlearn: 1591.5433389\ttotal: 6m 3s\tremaining: 0us\n"
     ]
    }
   ],
   "source": [
    "# в цикле поочередно обучим модели, сохраним время их обучения и метрику RMSE\n",
    "for i, model in dict.items():\n",
    "    predict = []\n",
    "    results.loc[i]['model'] = i\n",
    "    model_study = model\n",
    "\n",
    "    if i == 'linear':\n",
    "        time_start = time.time() # фиксируем время начала обучения\n",
    "        model_study.fit(features_train_dummy, target_train_dummy)\n",
    "        results.loc[i]['time_fit'] = round((time.time() - time_start),2) # сохраняем время обучение модели в датафрейм\n",
    "        time_predict = time.time()\n",
    "        predict = model_study.predict(features_valid_dummy) # делаем предсказание\n",
    "        results.loc[i]['time_predict'] = round((time.time() - time_predict),2)\n",
    "    \n",
    "        rmse = mean_squared_error(target_valid_dummy, predict)**0.5 # рассчитываем метрику RMSE\n",
    "        results.loc[i]['RMSE'] = round(rmse,2) # сохраняем параметр RMSE в датафрейм\n",
    "        continue \n",
    "    elif i == \"CatBoost\":\n",
    "        pool_train = Pool(features_train, target_train,\n",
    "                  cat_features = categorial_features)\n",
    "        pool_test = Pool(features_valid, cat_features = categorial_features)\n",
    "        \n",
    "        time_start = time.time() # фиксируем время начала обучения\n",
    "        model_study.fit(pool_train, verbose=50)\n",
    "        results.loc[i]['time_fit'] = round((time.time() - time_start),2) # сохраняем время обучение модели в датафрейм\n",
    "        time_predict = time.time()\n",
    "        predict = model_study.predict(pool_test) # делаем предсказание\n",
    "        results.loc[i]['time_predict'] = round((time.time() - time_predict),2)\n",
    "        rmse = mean_squared_error(target_valid, predict)**0.5 # рассчитываем метрику RMSE\n",
    "        results.loc[i]['RMSE'] = round(rmse,2) # сохраняем параметр RMSE в датафрейм\n",
    "    else:\n",
    "        time_start = time.time() # фиксируем время начала обучения\n",
    "        model_study.fit(features_train_ordinal, target_train)\n",
    "        results.loc[i]['time_fit'] = round((time.time() - time_start),2) # сохраняем время обучение модели в датафрейм\n",
    "        time_predict = time.time()\n",
    "        predict = model_study.predict(features_valid_ordinal) # делаем предсказание\n",
    "        results.loc[i]['time_predict'] = round((time.time() - time_predict),2)\n",
    "        rmse = mean_squared_error(target_valid, predict)**0.5 # рассчитываем метрику RMSE\n",
    "        results.loc[i]['RMSE'] = round(rmse,2) # сохраняем параметр RMSE в датафрейм"
   ]
  },
  {
   "cell_type": "markdown",
   "metadata": {},
   "source": [
    "## Анализ моделей"
   ]
  },
  {
   "cell_type": "markdown",
   "metadata": {},
   "source": [
    "Добавим результаты работы модели **LightGBM** с наилучшим RMSE после подборки параметров в таблицу общими результатами"
   ]
  },
  {
   "cell_type": "code",
   "execution_count": 87,
   "metadata": {},
   "outputs": [
    {
     "data": {
      "text/html": [
       "<div>\n",
       "<style scoped>\n",
       "    .dataframe tbody tr th:only-of-type {\n",
       "        vertical-align: middle;\n",
       "    }\n",
       "\n",
       "    .dataframe tbody tr th {\n",
       "        vertical-align: top;\n",
       "    }\n",
       "\n",
       "    .dataframe thead th {\n",
       "        text-align: right;\n",
       "    }\n",
       "</style>\n",
       "<table border=\"1\" class=\"dataframe\">\n",
       "  <thead>\n",
       "    <tr style=\"text-align: right;\">\n",
       "      <th></th>\n",
       "      <th>model</th>\n",
       "      <th>RMSE</th>\n",
       "      <th>time_fit</th>\n",
       "      <th>time_predict</th>\n",
       "    </tr>\n",
       "  </thead>\n",
       "  <tbody>\n",
       "    <tr>\n",
       "      <th>0</th>\n",
       "      <td>LightGBM</td>\n",
       "      <td>1601.02</td>\n",
       "      <td>12.34</td>\n",
       "      <td>7.81</td>\n",
       "    </tr>\n",
       "  </tbody>\n",
       "</table>\n",
       "</div>"
      ],
      "text/plain": [
       "      model     RMSE time_fit time_predict\n",
       "0  LightGBM  1601.02    12.34         7.81"
      ]
     },
     "execution_count": 87,
     "metadata": {},
     "output_type": "execute_result"
    }
   ],
   "source": [
    "best_lgbm = pd.DataFrame(model_lgbm_result.values[0][1:]).T # первая строка из отсортированной таблицы с результатами работы LightGBM\n",
    "\n",
    "best_lgbm = best_lgbm.rename(index={0: 'LightGBM'}).reset_index() # установим индекс название нашей модели\n",
    "\n",
    "# приведем название столбцов\n",
    "best_lgbm.rename(columns={'index': 'model', \n",
    "                         0 : 'RMSE',\n",
    "                         1 : 'time_fit',\n",
    "                         2 : 'time_predict'}, inplace=True)\n",
    "best_lgbm"
   ]
  },
  {
   "cell_type": "code",
   "execution_count": 88,
   "metadata": {
    "scrolled": true
   },
   "outputs": [
    {
     "data": {
      "text/html": [
       "<div>\n",
       "<style scoped>\n",
       "    .dataframe tbody tr th:only-of-type {\n",
       "        vertical-align: middle;\n",
       "    }\n",
       "\n",
       "    .dataframe tbody tr th {\n",
       "        vertical-align: top;\n",
       "    }\n",
       "\n",
       "    .dataframe thead th {\n",
       "        text-align: right;\n",
       "    }\n",
       "</style>\n",
       "<table border=\"1\" class=\"dataframe\">\n",
       "  <thead>\n",
       "    <tr style=\"text-align: right;\">\n",
       "      <th></th>\n",
       "      <th>model</th>\n",
       "      <th>RMSE</th>\n",
       "      <th>time_fit</th>\n",
       "      <th>time_predict</th>\n",
       "    </tr>\n",
       "  </thead>\n",
       "  <tbody>\n",
       "    <tr>\n",
       "      <th>0</th>\n",
       "      <td>linear</td>\n",
       "      <td>2715.93</td>\n",
       "      <td>2.78</td>\n",
       "      <td>0.1</td>\n",
       "    </tr>\n",
       "    <tr>\n",
       "      <th>1</th>\n",
       "      <td>RF</td>\n",
       "      <td>1707.3</td>\n",
       "      <td>130.04</td>\n",
       "      <td>4.17</td>\n",
       "    </tr>\n",
       "    <tr>\n",
       "      <th>2</th>\n",
       "      <td>CatBoost</td>\n",
       "      <td>1648.36</td>\n",
       "      <td>366.16</td>\n",
       "      <td>0.43</td>\n",
       "    </tr>\n",
       "    <tr>\n",
       "      <th>3</th>\n",
       "      <td>LightGBM</td>\n",
       "      <td>1601.02</td>\n",
       "      <td>12.34</td>\n",
       "      <td>7.81</td>\n",
       "    </tr>\n",
       "  </tbody>\n",
       "</table>\n",
       "</div>"
      ],
      "text/plain": [
       "      model     RMSE time_fit time_predict\n",
       "0    linear  2715.93     2.78          0.1\n",
       "1        RF   1707.3   130.04         4.17\n",
       "2  CatBoost  1648.36   366.16         0.43\n",
       "3  LightGBM  1601.02    12.34         7.81"
      ]
     },
     "execution_count": 88,
     "metadata": {},
     "output_type": "execute_result"
    }
   ],
   "source": [
    "results.reset_index(drop=True, inplace=True)\n",
    "results =  results.append(best_lgbm, ignore_index = True ) \n",
    "results"
   ]
  },
  {
   "cell_type": "markdown",
   "metadata": {},
   "source": [
    "Отсортируем получившиеся результаты по наилучшему показателю показателю RMSE"
   ]
  },
  {
   "cell_type": "code",
   "execution_count": 89,
   "metadata": {},
   "outputs": [
    {
     "data": {
      "text/html": [
       "<div>\n",
       "<style scoped>\n",
       "    .dataframe tbody tr th:only-of-type {\n",
       "        vertical-align: middle;\n",
       "    }\n",
       "\n",
       "    .dataframe tbody tr th {\n",
       "        vertical-align: top;\n",
       "    }\n",
       "\n",
       "    .dataframe thead th {\n",
       "        text-align: right;\n",
       "    }\n",
       "</style>\n",
       "<table border=\"1\" class=\"dataframe\">\n",
       "  <thead>\n",
       "    <tr style=\"text-align: right;\">\n",
       "      <th></th>\n",
       "      <th>model</th>\n",
       "      <th>RMSE</th>\n",
       "      <th>time_fit</th>\n",
       "      <th>time_predict</th>\n",
       "    </tr>\n",
       "  </thead>\n",
       "  <tbody>\n",
       "    <tr>\n",
       "      <th>3</th>\n",
       "      <td>LightGBM</td>\n",
       "      <td>1601.02</td>\n",
       "      <td>12.34</td>\n",
       "      <td>7.81</td>\n",
       "    </tr>\n",
       "    <tr>\n",
       "      <th>2</th>\n",
       "      <td>CatBoost</td>\n",
       "      <td>1648.36</td>\n",
       "      <td>366.16</td>\n",
       "      <td>0.43</td>\n",
       "    </tr>\n",
       "    <tr>\n",
       "      <th>1</th>\n",
       "      <td>RF</td>\n",
       "      <td>1707.3</td>\n",
       "      <td>130.04</td>\n",
       "      <td>4.17</td>\n",
       "    </tr>\n",
       "    <tr>\n",
       "      <th>0</th>\n",
       "      <td>linear</td>\n",
       "      <td>2715.93</td>\n",
       "      <td>2.78</td>\n",
       "      <td>0.1</td>\n",
       "    </tr>\n",
       "  </tbody>\n",
       "</table>\n",
       "</div>"
      ],
      "text/plain": [
       "      model     RMSE time_fit time_predict\n",
       "3  LightGBM  1601.02    12.34         7.81\n",
       "2  CatBoost  1648.36   366.16         0.43\n",
       "1        RF   1707.3   130.04         4.17\n",
       "0    linear  2715.93     2.78          0.1"
      ]
     },
     "execution_count": 89,
     "metadata": {},
     "output_type": "execute_result"
    }
   ],
   "source": [
    "res = results.sort_values(by='RMSE', ascending=True)\n",
    "res"
   ]
  },
  {
   "cell_type": "code",
   "execution_count": 90,
   "metadata": {},
   "outputs": [
    {
     "data": {
      "image/png": "[encoded data removed]",
      "text/plain": [
       "<Figure size 720x720 with 1 Axes>"
      ]
     },
     "metadata": {
      "needs_background": "light"
     },
     "output_type": "display_data"
    }
   ],
   "source": [
    "fig, ax = plt.subplots(figsize=(10,10))\n",
    "ax = sns.barplot(data=res, x='model', y='RMSE')\n",
    "for i, rmse in enumerate(res.RMSE):\n",
    "    ax.text(i,rmse,round(rmse, 1),  verticalalignment='bottom', horizontalalignment='center')\n",
    "for i, time in enumerate(res.time_fit):\n",
    "    ax.text(i,500,round(time, 1),  verticalalignment='bottom', horizontalalignment='center')    "
   ]
  },
  {
   "cell_type": "markdown",
   "metadata": {},
   "source": [
    "Вывод - из графика видно, что:\n",
    "Модель линейной регрессии не подходит, т.к. показатель RMSE превышает установленный условием задачи 2500.\n",
    "Показатель **RMSE**: модель **LightGBM** имеет наилучшее значение RMSE на валидационной выборке, **CatBoost** на втором, **RF** на третьем.  \n",
    "Время обучения: На первом месте модель **RF**, на втором месте с небольшим отстванием **LightGBM**, на третьем **CatBoost**.\n",
    "Время предсказания: На первом месте модель **CatBoost**, на втором месте **RF**, на третьем **LightGBM**.\n",
    "\n",
    "\n",
    "Учитывая, что модель **LightGBM** показала наилучший результат **RMSE** и второй результат по времени обучения - для целей заказчика будем использовать ее. "
   ]
  },
  {
   "cell_type": "markdown",
   "metadata": {},
   "source": [
    "Применим \"лучшую модель\" на тестовых данных:"
   ]
  },
  {
   "cell_type": "code",
   "execution_count": 91,
   "metadata": {
    "scrolled": true
   },
   "outputs": [
    {
     "name": "stdout",
     "output_type": "stream",
     "text": [
      "CPU times: total: 29.7 s\n",
      "Wall time: 7.62 s\n"
     ]
    },
    {
     "data": {
      "text/plain": [
       "array([15339.22078527, 13163.63619758,  1385.39775857, ...,\n",
       "         817.86082261,  7851.11473034,   847.81894308])"
      ]
     },
     "execution_count": 91,
     "metadata": {},
     "output_type": "execute_result"
    }
   ],
   "source": [
    "%%time\n",
    "model_lgbm_dict[(1000, 0.1)].predict(features_test)"
   ]
  },
  {
   "cell_type": "markdown",
   "metadata": {},
   "source": [
    "Рассчитываем метрику RMSE на тестовых данных"
   ]
  },
  {
   "cell_type": "code",
   "execution_count": 92,
   "metadata": {},
   "outputs": [
    {
     "data": {
      "text/plain": [
       "1648.3627786307009"
      ]
     },
     "execution_count": 92,
     "metadata": {},
     "output_type": "execute_result"
    }
   ],
   "source": [
    "rmse = mean_squared_error(target_valid, predict)**0.5 \n",
    "rmse"
   ]
  },
  {
   "cell_type": "markdown",
   "metadata": {},
   "source": [
    "## Вывод\n",
    "\n",
    "В нашем распоряжении были данные из объявлений о продаже автомобилей.\n",
    "Необходимо было построить модель обучения для эффективного определения стоимости автомобиля. \n",
    "Стояла целевая задача выбрать наилучшую модель предсказания с метрикой RMSE до 2500 и скорости обучения\n",
    "\n",
    "В ходе работы над проектом была осуществлена предобработка данных, проверка на дубликаты, работа с аномальными значениями.\n",
    "\n",
    "В результате проверки на корреляцию была выявлена полная прямая корреляция между признаками Model и Bramd, а также Model и  VehicleType, в результате чего для исследования был удален признак Model.  \n",
    "Также были удалены неинформативные признаки: **'DateCrawled','NumberOfPictures','RegistrationMonth','DateCreated','PostalCode','LastSeen'**\n",
    "\n",
    "\n",
    "В результате выполнения работы мы рассмотрели работу нескольких моделей машиного обучения:\n",
    "- линейная регрессия;\n",
    "- случайный лес;\n",
    "- LightGBM;\n",
    "- СatBoost.\n",
    "\n",
    "Для обучения двух моделей LightGBM и СatBoost использовались данные без кодирования категориальных признаков, т.к. эти модели позволяют передавать такие признаки напрямую.\n",
    "\n",
    "Для модели Случайный лес было применено OrdinalEncoder, для линейной регрессии OneHotEncoder.\n",
    "\n",
    "\n",
    "При проверке на валидационных данных наилучший результат по показателю RMSE показала модель: .  \n",
    "По скорости обучения наилучший результат показала модель случайного леса, LightGBM занял второе место.\n",
    "В результате анализа для целей заказчика было принято использовать модель LightGBM.\n",
    "\n",
    "При проверке на тестовых данных был получен следующий результат работы модели: \n",
    "- Целевая метрика RMSE 1648,36\n",
    "- время предсказания 7,62 секунды\n",
    "\n",
    "Целевая задача, выполнена."
   ]
  },
  {
   "cell_type": "code",
   "execution_count": null,
   "metadata": {},
   "outputs": [],
   "source": []
  }
 ],
 "metadata": {
  "ExecuteTimeLog": [
   {
    "duration": 1092,
    "start_time": "2023-01-08T11:22:29.002Z"
   },
   {
    "duration": 98,
    "start_time": "2023-01-08T11:22:53.427Z"
   },
   {
    "duration": 2894,
    "start_time": "2023-01-08T11:23:17.882Z"
   },
   {
    "duration": 19,
    "start_time": "2023-01-08T11:23:27.162Z"
   },
   {
    "duration": 136,
    "start_time": "2023-01-08T11:25:32.918Z"
   },
   {
    "duration": 142,
    "start_time": "2023-01-08T11:26:02.181Z"
   },
   {
    "duration": 3,
    "start_time": "2023-01-08T11:31:42.511Z"
   },
   {
    "duration": 12,
    "start_time": "2023-01-08T11:32:26.843Z"
   },
   {
    "duration": 289,
    "start_time": "2023-01-08T11:32:33.969Z"
   },
   {
    "duration": 2,
    "start_time": "2023-01-08T11:32:47.263Z"
   },
   {
    "duration": 263,
    "start_time": "2023-01-08T11:32:48.295Z"
   },
   {
    "duration": 10,
    "start_time": "2023-01-08T11:33:34.366Z"
   },
   {
    "duration": 3,
    "start_time": "2023-01-08T11:34:35.946Z"
   },
   {
    "duration": 20,
    "start_time": "2023-01-08T11:34:37.916Z"
   },
   {
    "duration": 4,
    "start_time": "2023-01-08T11:34:55.804Z"
   },
   {
    "duration": 18,
    "start_time": "2023-01-08T11:34:57.248Z"
   },
   {
    "duration": 2,
    "start_time": "2023-01-08T11:35:02.698Z"
   },
   {
    "duration": 196,
    "start_time": "2023-01-08T11:35:03.147Z"
   },
   {
    "duration": 3,
    "start_time": "2023-01-08T11:35:30.463Z"
   },
   {
    "duration": 19,
    "start_time": "2023-01-08T11:35:31.059Z"
   },
   {
    "duration": 3,
    "start_time": "2023-01-08T11:35:41.731Z"
   },
   {
    "duration": 26514,
    "start_time": "2023-01-08T11:35:42.291Z"
   },
   {
    "duration": 3,
    "start_time": "2023-01-08T11:36:25.807Z"
   },
   {
    "duration": 133,
    "start_time": "2023-01-08T11:36:28.067Z"
   },
   {
    "duration": 4,
    "start_time": "2023-01-08T11:39:34.544Z"
   },
   {
    "duration": 2096,
    "start_time": "2023-01-08T11:39:35.914Z"
   },
   {
    "duration": 5,
    "start_time": "2023-01-08T11:39:54.214Z"
   },
   {
    "duration": 232,
    "start_time": "2023-01-08T11:39:58.348Z"
   },
   {
    "duration": 78,
    "start_time": "2023-01-08T11:41:09.748Z"
   },
   {
    "duration": 3,
    "start_time": "2023-01-08T11:41:26.632Z"
   },
   {
    "duration": 19,
    "start_time": "2023-01-08T11:41:27.590Z"
   },
   {
    "duration": 4,
    "start_time": "2023-01-08T11:41:33.522Z"
   },
   {
    "duration": 18,
    "start_time": "2023-01-08T11:41:34.289Z"
   },
   {
    "duration": 3,
    "start_time": "2023-01-08T11:41:49.793Z"
   },
   {
    "duration": 277,
    "start_time": "2023-01-08T11:41:50.322Z"
   },
   {
    "duration": 3,
    "start_time": "2023-01-08T11:42:25.354Z"
   },
   {
    "duration": 253,
    "start_time": "2023-01-08T11:42:25.991Z"
   },
   {
    "duration": 4,
    "start_time": "2023-01-08T11:43:54.125Z"
   },
   {
    "duration": 5,
    "start_time": "2023-01-08T11:43:57.196Z"
   },
   {
    "duration": 472,
    "start_time": "2023-01-08T11:43:58.818Z"
   },
   {
    "duration": 5,
    "start_time": "2023-01-08T11:44:48.144Z"
   },
   {
    "duration": 40,
    "start_time": "2023-01-08T11:44:48.814Z"
   },
   {
    "duration": 5,
    "start_time": "2023-01-08T11:45:02.280Z"
   },
   {
    "duration": 126,
    "start_time": "2023-01-08T11:45:02.813Z"
   },
   {
    "duration": 4,
    "start_time": "2023-01-08T11:45:11.011Z"
   },
   {
    "duration": 6,
    "start_time": "2023-01-08T11:45:25.767Z"
   },
   {
    "duration": 193,
    "start_time": "2023-01-08T11:45:26.410Z"
   },
   {
    "duration": 5,
    "start_time": "2023-01-08T11:45:46.655Z"
   },
   {
    "duration": 191,
    "start_time": "2023-01-08T11:45:47.289Z"
   },
   {
    "duration": 6,
    "start_time": "2023-01-08T11:48:48.929Z"
   },
   {
    "duration": 219,
    "start_time": "2023-01-08T11:48:49.445Z"
   },
   {
    "duration": 88,
    "start_time": "2023-01-08T11:48:58.124Z"
   },
   {
    "duration": 267,
    "start_time": "2023-01-08T11:48:58.965Z"
   },
   {
    "duration": 95,
    "start_time": "2023-01-08T11:49:08.248Z"
   },
   {
    "duration": 4,
    "start_time": "2023-01-08T11:49:14.420Z"
   },
   {
    "duration": 326,
    "start_time": "2023-01-08T11:49:14.930Z"
   },
   {
    "duration": 73,
    "start_time": "2023-01-08T11:49:35.115Z"
   },
   {
    "duration": 382,
    "start_time": "2023-01-08T11:49:35.656Z"
   },
   {
    "duration": 4,
    "start_time": "2023-01-08T11:49:41.677Z"
   },
   {
    "duration": 329,
    "start_time": "2023-01-08T11:49:42.114Z"
   },
   {
    "duration": 6,
    "start_time": "2023-01-08T11:49:59.089Z"
   },
   {
    "duration": 378,
    "start_time": "2023-01-08T11:49:59.506Z"
   },
   {
    "duration": 4,
    "start_time": "2023-01-08T11:50:28.477Z"
   },
   {
    "duration": 697,
    "start_time": "2023-01-08T11:50:28.968Z"
   },
   {
    "duration": 4,
    "start_time": "2023-01-08T11:50:45.048Z"
   },
   {
    "duration": 31,
    "start_time": "2023-01-08T11:50:45.412Z"
   },
   {
    "duration": 4,
    "start_time": "2023-01-08T11:51:02.159Z"
   },
   {
    "duration": 461,
    "start_time": "2023-01-08T11:51:02.760Z"
   },
   {
    "duration": 5,
    "start_time": "2023-01-08T11:51:13.776Z"
   },
   {
    "duration": 321,
    "start_time": "2023-01-08T11:51:14.481Z"
   },
   {
    "duration": 4,
    "start_time": "2023-01-08T11:51:39.216Z"
   },
   {
    "duration": 4,
    "start_time": "2023-01-08T11:51:45.795Z"
   },
   {
    "duration": 381,
    "start_time": "2023-01-08T11:51:46.197Z"
   },
   {
    "duration": 4,
    "start_time": "2023-01-08T11:51:57.646Z"
   },
   {
    "duration": 391,
    "start_time": "2023-01-08T11:51:58.107Z"
   },
   {
    "duration": 4,
    "start_time": "2023-01-08T11:52:09.716Z"
   },
   {
    "duration": 401,
    "start_time": "2023-01-08T11:52:10.198Z"
   },
   {
    "duration": 6,
    "start_time": "2023-01-08T11:53:23.812Z"
   },
   {
    "duration": 3,
    "start_time": "2023-01-08T11:55:37.160Z"
   },
   {
    "duration": 7,
    "start_time": "2023-01-08T11:55:45.682Z"
   },
   {
    "duration": 904,
    "start_time": "2023-01-08T11:55:49.896Z"
   },
   {
    "duration": 966,
    "start_time": "2023-01-08T11:57:29.173Z"
   },
   {
    "duration": 1023,
    "start_time": "2023-01-08T11:57:36.073Z"
   },
   {
    "duration": 2,
    "start_time": "2023-01-08T12:00:15.083Z"
   },
   {
    "duration": 3,
    "start_time": "2023-01-08T12:01:02.534Z"
   },
   {
    "duration": 76,
    "start_time": "2023-01-08T12:01:40.029Z"
   },
   {
    "duration": 15,
    "start_time": "2023-01-08T12:02:23.582Z"
   },
   {
    "duration": 3288,
    "start_time": "2023-01-08T12:02:38.352Z"
   },
   {
    "duration": 26,
    "start_time": "2023-01-08T12:02:45.997Z"
   },
   {
    "duration": 87,
    "start_time": "2023-01-08T12:02:50.296Z"
   },
   {
    "duration": 3192,
    "start_time": "2023-01-09T10:16:04.907Z"
   },
   {
    "duration": 1292,
    "start_time": "2023-01-09T10:16:08.102Z"
   },
   {
    "duration": 1024,
    "start_time": "2023-01-09T10:16:09.396Z"
   },
   {
    "duration": 16,
    "start_time": "2023-01-09T10:16:10.422Z"
   },
   {
    "duration": 136,
    "start_time": "2023-01-09T10:16:10.440Z"
   },
   {
    "duration": 128,
    "start_time": "2023-01-09T10:16:10.578Z"
   },
   {
    "duration": 954,
    "start_time": "2023-01-09T10:16:10.708Z"
   },
   {
    "duration": 366583,
    "start_time": "2023-01-09T10:16:11.663Z"
   },
   {
    "duration": 4,
    "start_time": "2023-01-09T10:22:18.247Z"
   },
   {
    "duration": 526,
    "start_time": "2023-01-09T10:22:18.253Z"
   },
   {
    "duration": 5,
    "start_time": "2023-01-09T10:22:39.734Z"
   },
   {
    "duration": 380,
    "start_time": "2023-01-09T10:22:40.444Z"
   },
   {
    "duration": 43,
    "start_time": "2023-01-09T10:24:06.236Z"
   },
   {
    "duration": 29,
    "start_time": "2023-01-09T10:25:31.214Z"
   },
   {
    "duration": 13,
    "start_time": "2023-01-09T10:25:44.823Z"
   },
   {
    "duration": 128,
    "start_time": "2023-01-09T10:25:45.002Z"
   },
   {
    "duration": 118,
    "start_time": "2023-01-09T10:25:45.176Z"
   },
   {
    "duration": 30,
    "start_time": "2023-01-09T10:25:50.714Z"
   },
   {
    "duration": 32,
    "start_time": "2023-01-09T10:26:31.822Z"
   },
   {
    "duration": 226,
    "start_time": "2023-01-09T10:28:04.906Z"
   },
   {
    "duration": 29,
    "start_time": "2023-01-09T10:28:48.166Z"
   },
   {
    "duration": 32,
    "start_time": "2023-01-09T10:29:46.425Z"
   },
   {
    "duration": 44,
    "start_time": "2023-01-09T10:30:00.210Z"
   },
   {
    "duration": 128,
    "start_time": "2023-01-09T10:30:24.035Z"
   },
   {
    "duration": 121,
    "start_time": "2023-01-09T10:30:36.255Z"
   },
   {
    "duration": 40,
    "start_time": "2023-01-09T10:31:57.009Z"
   },
   {
    "duration": 28,
    "start_time": "2023-01-09T10:35:20.126Z"
   },
   {
    "duration": 10,
    "start_time": "2023-01-09T10:37:58.009Z"
   },
   {
    "duration": 96,
    "start_time": "2023-01-09T10:38:08.335Z"
   },
   {
    "duration": 105,
    "start_time": "2023-01-09T10:38:25.306Z"
   },
   {
    "duration": 33,
    "start_time": "2023-01-09T10:39:40.089Z"
   },
   {
    "duration": 26,
    "start_time": "2023-01-09T10:41:40.655Z"
   },
   {
    "duration": 27,
    "start_time": "2023-01-09T10:41:57.313Z"
   },
   {
    "duration": 33,
    "start_time": "2023-01-09T10:42:09.375Z"
   },
   {
    "duration": 31,
    "start_time": "2023-01-09T10:42:31.138Z"
   },
   {
    "duration": 35,
    "start_time": "2023-01-09T10:43:04.616Z"
   },
   {
    "duration": 27,
    "start_time": "2023-01-09T10:43:17.438Z"
   },
   {
    "duration": 29,
    "start_time": "2023-01-09T10:43:18.122Z"
   },
   {
    "duration": 29,
    "start_time": "2023-01-09T10:43:53.045Z"
   },
   {
    "duration": 43,
    "start_time": "2023-01-09T10:43:54.655Z"
   },
   {
    "duration": 28,
    "start_time": "2023-01-09T10:44:31.546Z"
   },
   {
    "duration": 41,
    "start_time": "2023-01-09T10:44:32.955Z"
   },
   {
    "duration": 4,
    "start_time": "2023-01-09T10:44:56.010Z"
   },
   {
    "duration": 27,
    "start_time": "2023-01-09T10:45:06.212Z"
   },
   {
    "duration": 27,
    "start_time": "2023-01-09T10:45:12.812Z"
   },
   {
    "duration": 30,
    "start_time": "2023-01-09T10:45:37.913Z"
   },
   {
    "duration": 54,
    "start_time": "2023-01-09T10:45:38.985Z"
   },
   {
    "duration": 34,
    "start_time": "2023-01-09T10:45:46.955Z"
   },
   {
    "duration": 35,
    "start_time": "2023-01-09T10:45:49.312Z"
   },
   {
    "duration": 43,
    "start_time": "2023-01-09T10:46:08.802Z"
   },
   {
    "duration": 20,
    "start_time": "2023-01-09T10:47:20.479Z"
   },
   {
    "duration": 41,
    "start_time": "2023-01-09T10:47:38.425Z"
   },
   {
    "duration": 22,
    "start_time": "2023-01-09T10:49:19.295Z"
   },
   {
    "duration": 24,
    "start_time": "2023-01-09T10:49:20.258Z"
   },
   {
    "duration": 22,
    "start_time": "2023-01-09T10:49:30.741Z"
   },
   {
    "duration": 31,
    "start_time": "2023-01-09T10:50:27.296Z"
   },
   {
    "duration": 3025,
    "start_time": "2023-01-09T19:02:38.985Z"
   },
   {
    "duration": 1304,
    "start_time": "2023-01-09T19:02:42.012Z"
   },
   {
    "duration": 1095,
    "start_time": "2023-01-09T19:02:43.318Z"
   },
   {
    "duration": 18,
    "start_time": "2023-01-09T19:02:44.415Z"
   },
   {
    "duration": 136,
    "start_time": "2023-01-09T19:02:44.434Z"
   },
   {
    "duration": 150,
    "start_time": "2023-01-09T19:02:44.572Z"
   },
   {
    "duration": 948,
    "start_time": "2023-01-09T19:02:44.724Z"
   },
   {
    "duration": 247,
    "start_time": "2023-01-09T19:02:45.674Z"
   },
   {
    "duration": 34,
    "start_time": "2023-01-09T19:02:45.922Z"
   },
   {
    "duration": 53,
    "start_time": "2023-01-09T19:02:45.958Z"
   },
   {
    "duration": 121,
    "start_time": "2023-01-09T19:02:46.012Z"
   },
   {
    "duration": 51,
    "start_time": "2023-01-09T19:02:46.134Z"
   },
   {
    "duration": 131,
    "start_time": "2023-01-09T19:02:46.187Z"
   },
   {
    "duration": 44,
    "start_time": "2023-01-09T19:02:46.320Z"
   },
   {
    "duration": 28,
    "start_time": "2023-01-09T19:02:46.366Z"
   },
   {
    "duration": 33,
    "start_time": "2023-01-09T19:02:46.396Z"
   },
   {
    "duration": 52,
    "start_time": "2023-01-09T19:02:46.430Z"
   },
   {
    "duration": 18,
    "start_time": "2023-01-09T19:02:46.484Z"
   },
   {
    "duration": 36,
    "start_time": "2023-01-09T19:02:46.504Z"
   },
   {
    "duration": 15,
    "start_time": "2023-01-09T19:02:46.541Z"
   },
   {
    "duration": 376,
    "start_time": "2023-01-09T19:02:46.558Z"
   },
   {
    "duration": 23,
    "start_time": "2023-01-09T19:03:04.708Z"
   },
   {
    "duration": 21,
    "start_time": "2023-01-09T19:03:04.954Z"
   },
   {
    "duration": 48,
    "start_time": "2023-01-09T19:04:00.013Z"
   },
   {
    "duration": 47,
    "start_time": "2023-01-09T19:04:30.451Z"
   },
   {
    "duration": 20,
    "start_time": "2023-01-09T19:06:07.481Z"
   },
   {
    "duration": 36,
    "start_time": "2023-01-09T19:06:08.675Z"
   },
   {
    "duration": 54,
    "start_time": "2023-01-09T19:07:08.364Z"
   },
   {
    "duration": 35,
    "start_time": "2023-01-09T19:09:05.716Z"
   },
   {
    "duration": 22,
    "start_time": "2023-01-09T19:09:14.793Z"
   },
   {
    "duration": 33,
    "start_time": "2023-01-09T19:09:15.513Z"
   },
   {
    "duration": 43,
    "start_time": "2023-01-09T19:15:13.624Z"
   },
   {
    "duration": 22,
    "start_time": "2023-01-09T19:15:26.334Z"
   },
   {
    "duration": 33,
    "start_time": "2023-01-09T19:15:36.862Z"
   },
   {
    "duration": 130,
    "start_time": "2023-01-09T19:16:15.639Z"
   },
   {
    "duration": 17,
    "start_time": "2023-01-09T19:16:50.563Z"
   },
   {
    "duration": 133,
    "start_time": "2023-01-09T19:17:34.419Z"
   },
   {
    "duration": 126,
    "start_time": "2023-01-09T19:17:52.138Z"
   },
   {
    "duration": 110,
    "start_time": "2023-01-09T19:18:18.756Z"
   },
   {
    "duration": 136,
    "start_time": "2023-01-09T19:18:23.625Z"
   },
   {
    "duration": 110,
    "start_time": "2023-01-09T19:18:47.035Z"
   },
   {
    "duration": 173,
    "start_time": "2023-01-09T19:19:19.176Z"
   },
   {
    "duration": 117,
    "start_time": "2023-01-09T19:19:32.068Z"
   },
   {
    "duration": 22,
    "start_time": "2023-01-09T19:20:01.187Z"
   },
   {
    "duration": 54,
    "start_time": "2023-01-09T19:20:38.953Z"
   },
   {
    "duration": 34,
    "start_time": "2023-01-09T19:21:03.695Z"
   },
   {
    "duration": 8,
    "start_time": "2023-01-09T19:21:23.367Z"
   },
   {
    "duration": 9,
    "start_time": "2023-01-09T19:21:28.231Z"
   },
   {
    "duration": 8,
    "start_time": "2023-01-09T19:21:32.437Z"
   },
   {
    "duration": 37,
    "start_time": "2023-01-09T19:21:41.409Z"
   },
   {
    "duration": 26,
    "start_time": "2023-01-09T19:23:11.002Z"
   },
   {
    "duration": 25,
    "start_time": "2023-01-09T19:24:41.401Z"
   },
   {
    "duration": 9,
    "start_time": "2023-01-09T19:24:49.043Z"
   },
   {
    "duration": 8,
    "start_time": "2023-01-09T19:24:54.287Z"
   },
   {
    "duration": 8,
    "start_time": "2023-01-09T19:24:59.722Z"
   },
   {
    "duration": 9,
    "start_time": "2023-01-09T19:25:07.709Z"
   },
   {
    "duration": 11,
    "start_time": "2023-01-09T19:25:14.808Z"
   },
   {
    "duration": 9,
    "start_time": "2023-01-09T19:25:26.728Z"
   },
   {
    "duration": 13,
    "start_time": "2023-01-09T19:25:46.104Z"
   },
   {
    "duration": 60,
    "start_time": "2023-01-09T19:26:31.490Z"
   },
   {
    "duration": 8,
    "start_time": "2023-01-09T19:26:33.557Z"
   },
   {
    "duration": 5,
    "start_time": "2023-01-09T19:27:09.350Z"
   },
   {
    "duration": 9,
    "start_time": "2023-01-09T19:27:31.179Z"
   },
   {
    "duration": 128,
    "start_time": "2023-01-09T19:28:00.119Z"
   },
   {
    "duration": 20,
    "start_time": "2023-01-09T19:28:19.270Z"
   },
   {
    "duration": 4,
    "start_time": "2023-01-09T19:28:51.418Z"
   },
   {
    "duration": 55,
    "start_time": "2023-01-09T19:28:57.038Z"
   },
   {
    "duration": 22,
    "start_time": "2023-01-09T19:29:12.028Z"
   },
   {
    "duration": 24,
    "start_time": "2023-01-09T19:30:29.835Z"
   },
   {
    "duration": 34,
    "start_time": "2023-01-09T19:31:42.895Z"
   },
   {
    "duration": 30,
    "start_time": "2023-01-09T19:31:57.884Z"
   },
   {
    "duration": 33,
    "start_time": "2023-01-09T19:32:03.320Z"
   },
   {
    "duration": 35,
    "start_time": "2023-01-09T19:32:13.384Z"
   },
   {
    "duration": 48,
    "start_time": "2023-01-09T19:33:09.462Z"
   },
   {
    "duration": 18,
    "start_time": "2023-01-09T19:33:25.751Z"
   },
   {
    "duration": 24,
    "start_time": "2023-01-09T19:33:53.917Z"
   },
   {
    "duration": 27,
    "start_time": "2023-01-09T19:35:08.468Z"
   },
   {
    "duration": 18,
    "start_time": "2023-01-09T19:36:05.835Z"
   },
   {
    "duration": 181,
    "start_time": "2023-01-09T19:36:51.366Z"
   },
   {
    "duration": 9,
    "start_time": "2023-01-09T19:38:15.439Z"
   },
   {
    "duration": 51,
    "start_time": "2023-01-09T19:38:58.054Z"
   },
   {
    "duration": 45,
    "start_time": "2023-01-09T19:39:07.087Z"
   },
   {
    "duration": 14,
    "start_time": "2023-01-09T19:39:11.477Z"
   },
   {
    "duration": 26,
    "start_time": "2023-01-09T19:39:22.972Z"
   },
   {
    "duration": 126,
    "start_time": "2023-01-09T19:41:31.962Z"
   },
   {
    "duration": 13,
    "start_time": "2023-01-09T19:42:42.137Z"
   },
   {
    "duration": 2226,
    "start_time": "2023-01-09T19:42:56.979Z"
   },
   {
    "duration": 3,
    "start_time": "2023-01-09T19:42:59.208Z"
   },
   {
    "duration": 815,
    "start_time": "2023-01-09T19:42:59.212Z"
   },
   {
    "duration": 14,
    "start_time": "2023-01-09T19:43:00.030Z"
   },
   {
    "duration": 148,
    "start_time": "2023-01-09T19:43:00.045Z"
   },
   {
    "duration": 142,
    "start_time": "2023-01-09T19:43:00.195Z"
   },
   {
    "duration": 891,
    "start_time": "2023-01-09T19:43:00.339Z"
   },
   {
    "duration": 241,
    "start_time": "2023-01-09T19:43:01.232Z"
   },
   {
    "duration": 29,
    "start_time": "2023-01-09T19:43:01.475Z"
   },
   {
    "duration": 65,
    "start_time": "2023-01-09T19:43:01.507Z"
   },
   {
    "duration": 123,
    "start_time": "2023-01-09T19:43:01.574Z"
   },
   {
    "duration": 47,
    "start_time": "2023-01-09T19:43:01.698Z"
   },
   {
    "duration": 117,
    "start_time": "2023-01-09T19:43:01.746Z"
   },
   {
    "duration": 31,
    "start_time": "2023-01-09T19:43:01.864Z"
   },
   {
    "duration": 37,
    "start_time": "2023-01-09T19:43:01.897Z"
   },
   {
    "duration": 45,
    "start_time": "2023-01-09T19:43:01.936Z"
   },
   {
    "duration": 69,
    "start_time": "2023-01-09T19:43:01.982Z"
   },
   {
    "duration": 25,
    "start_time": "2023-01-09T19:43:02.052Z"
   },
   {
    "duration": 33,
    "start_time": "2023-01-09T19:43:02.078Z"
   },
   {
    "duration": 51,
    "start_time": "2023-01-09T19:43:02.112Z"
   },
   {
    "duration": 27,
    "start_time": "2023-01-09T19:43:02.165Z"
   },
   {
    "duration": 37,
    "start_time": "2023-01-09T19:43:02.194Z"
   },
   {
    "duration": 66,
    "start_time": "2023-01-09T19:43:02.233Z"
   },
   {
    "duration": 22,
    "start_time": "2023-01-09T19:43:02.301Z"
   },
   {
    "duration": 59,
    "start_time": "2023-01-09T19:43:02.324Z"
   },
   {
    "duration": 50,
    "start_time": "2023-01-09T19:43:02.385Z"
   },
   {
    "duration": 24,
    "start_time": "2023-01-09T19:43:02.436Z"
   },
   {
    "duration": 32,
    "start_time": "2023-01-09T19:43:02.463Z"
   },
   {
    "duration": 145,
    "start_time": "2023-01-09T19:43:02.496Z"
   },
   {
    "duration": 26,
    "start_time": "2023-01-09T19:43:02.642Z"
   },
   {
    "duration": 124,
    "start_time": "2023-01-09T19:43:02.670Z"
   },
   {
    "duration": 65,
    "start_time": "2023-01-09T19:43:02.797Z"
   },
   {
    "duration": 18,
    "start_time": "2023-01-09T19:43:02.864Z"
   },
   {
    "duration": 155,
    "start_time": "2023-01-09T19:43:02.884Z"
   },
   {
    "duration": 40,
    "start_time": "2023-01-09T19:43:03.041Z"
   },
   {
    "duration": 47,
    "start_time": "2023-01-09T19:43:03.083Z"
   },
   {
    "duration": 30,
    "start_time": "2023-01-09T19:43:03.131Z"
   },
   {
    "duration": 14,
    "start_time": "2023-01-09T19:43:03.163Z"
   },
   {
    "duration": 209,
    "start_time": "2023-01-09T19:43:03.179Z"
   },
   {
    "duration": 8,
    "start_time": "2023-01-09T19:43:03.390Z"
   },
   {
    "duration": 135,
    "start_time": "2023-01-09T19:43:03.400Z"
   },
   {
    "duration": 33,
    "start_time": "2023-01-09T19:43:03.537Z"
   },
   {
    "duration": 25,
    "start_time": "2023-01-09T19:43:03.572Z"
   },
   {
    "duration": 9,
    "start_time": "2023-01-09T19:43:03.599Z"
   },
   {
    "duration": 430,
    "start_time": "2023-01-09T19:43:03.610Z"
   },
   {
    "duration": 22,
    "start_time": "2023-01-09T19:44:22.415Z"
   },
   {
    "duration": 9,
    "start_time": "2023-01-09T19:45:03.465Z"
   },
   {
    "duration": 3,
    "start_time": "2023-01-09T19:48:07.816Z"
   },
   {
    "duration": 141,
    "start_time": "2023-01-09T19:48:16.825Z"
   },
   {
    "duration": 137,
    "start_time": "2023-01-09T19:48:21.846Z"
   },
   {
    "duration": 138,
    "start_time": "2023-01-09T19:48:35.875Z"
   },
   {
    "duration": 131,
    "start_time": "2023-01-09T19:51:49.182Z"
   },
   {
    "duration": 130,
    "start_time": "2023-01-09T19:52:49.454Z"
   },
   {
    "duration": 151,
    "start_time": "2023-01-09T19:53:08.907Z"
   },
   {
    "duration": 117,
    "start_time": "2023-01-09T19:53:12.266Z"
   },
   {
    "duration": 17,
    "start_time": "2023-01-09T19:53:23.351Z"
   },
   {
    "duration": 54,
    "start_time": "2023-01-09T20:02:15.602Z"
   },
   {
    "duration": 2,
    "start_time": "2023-01-09T20:04:09.158Z"
   },
   {
    "duration": 3270,
    "start_time": "2023-01-10T11:37:35.236Z"
   },
   {
    "duration": 1315,
    "start_time": "2023-01-10T11:37:38.509Z"
   },
   {
    "duration": 3068,
    "start_time": "2023-01-10T11:37:39.826Z"
   },
   {
    "duration": 20,
    "start_time": "2023-01-10T11:37:42.895Z"
   },
   {
    "duration": 346,
    "start_time": "2023-01-10T11:37:42.917Z"
   },
   {
    "duration": 132,
    "start_time": "2023-01-10T11:37:43.265Z"
   },
   {
    "duration": 956,
    "start_time": "2023-01-10T11:37:43.398Z"
   },
   {
    "duration": 230,
    "start_time": "2023-01-10T11:37:44.356Z"
   },
   {
    "duration": 31,
    "start_time": "2023-01-10T11:37:44.587Z"
   },
   {
    "duration": 70,
    "start_time": "2023-01-10T11:37:44.620Z"
   },
   {
    "duration": 125,
    "start_time": "2023-01-10T11:37:44.691Z"
   },
   {
    "duration": 44,
    "start_time": "2023-01-10T11:37:44.818Z"
   },
   {
    "duration": 131,
    "start_time": "2023-01-10T11:37:44.863Z"
   },
   {
    "duration": 38,
    "start_time": "2023-01-10T11:37:44.997Z"
   },
   {
    "duration": 57,
    "start_time": "2023-01-10T11:37:45.037Z"
   },
   {
    "duration": 55,
    "start_time": "2023-01-10T11:37:45.096Z"
   },
   {
    "duration": 67,
    "start_time": "2023-01-10T11:37:45.153Z"
   },
   {
    "duration": 118,
    "start_time": "2023-01-10T11:37:45.222Z"
   },
   {
    "duration": 83,
    "start_time": "2023-01-10T11:37:45.342Z"
   },
   {
    "duration": 92,
    "start_time": "2023-01-10T11:37:45.428Z"
   },
   {
    "duration": 33,
    "start_time": "2023-01-10T11:37:45.522Z"
   },
   {
    "duration": 109,
    "start_time": "2023-01-10T11:37:45.557Z"
   },
   {
    "duration": 80,
    "start_time": "2023-01-10T11:37:45.668Z"
   },
   {
    "duration": 30,
    "start_time": "2023-01-10T11:37:45.749Z"
   },
   {
    "duration": 45,
    "start_time": "2023-01-10T11:37:45.781Z"
   },
   {
    "duration": 53,
    "start_time": "2023-01-10T11:37:45.828Z"
   },
   {
    "duration": 21,
    "start_time": "2023-01-10T11:37:45.882Z"
   },
   {
    "duration": 38,
    "start_time": "2023-01-10T11:37:45.905Z"
   },
   {
    "duration": 134,
    "start_time": "2023-01-10T11:37:45.945Z"
   },
   {
    "duration": 26,
    "start_time": "2023-01-10T11:37:46.081Z"
   },
   {
    "duration": 114,
    "start_time": "2023-01-10T11:37:46.110Z"
   },
   {
    "duration": 56,
    "start_time": "2023-01-10T11:37:46.225Z"
   },
   {
    "duration": 17,
    "start_time": "2023-01-10T11:37:46.283Z"
   },
   {
    "duration": 151,
    "start_time": "2023-01-10T11:37:46.302Z"
   },
   {
    "duration": 39,
    "start_time": "2023-01-10T11:37:46.455Z"
   },
   {
    "duration": 46,
    "start_time": "2023-01-10T11:37:46.496Z"
   },
   {
    "duration": 14,
    "start_time": "2023-01-10T11:37:46.544Z"
   },
   {
    "duration": 12,
    "start_time": "2023-01-10T11:37:46.578Z"
   },
   {
    "duration": 174,
    "start_time": "2023-01-10T11:37:46.592Z"
   },
   {
    "duration": 12,
    "start_time": "2023-01-10T11:37:46.767Z"
   },
   {
    "duration": 122,
    "start_time": "2023-01-10T11:37:46.782Z"
   },
   {
    "duration": 28,
    "start_time": "2023-01-10T11:37:46.905Z"
   },
   {
    "duration": 5,
    "start_time": "2023-01-10T11:37:46.935Z"
   },
   {
    "duration": 175,
    "start_time": "2023-01-10T11:37:46.942Z"
   },
   {
    "duration": 138,
    "start_time": "2023-01-10T11:37:47.119Z"
   },
   {
    "duration": 24,
    "start_time": "2023-01-10T11:37:47.258Z"
   },
   {
    "duration": 14,
    "start_time": "2023-01-10T11:37:47.283Z"
   },
   {
    "duration": 346,
    "start_time": "2023-01-10T11:37:47.298Z"
   },
   {
    "duration": 784,
    "start_time": "2023-01-10T11:45:48.856Z"
   },
   {
    "duration": 2171,
    "start_time": "2023-01-10T11:45:55.721Z"
   },
   {
    "duration": 4,
    "start_time": "2023-01-10T11:45:57.895Z"
   },
   {
    "duration": 813,
    "start_time": "2023-01-10T11:45:57.900Z"
   },
   {
    "duration": 4,
    "start_time": "2023-01-10T11:47:18.314Z"
   },
   {
    "duration": 4,
    "start_time": "2023-01-10T11:48:12.525Z"
   },
   {
    "duration": 122,
    "start_time": "2023-01-10T11:49:15.264Z"
   },
   {
    "duration": 33,
    "start_time": "2023-01-10T11:49:33.665Z"
   },
   {
    "duration": 2218,
    "start_time": "2023-01-10T11:49:44.327Z"
   },
   {
    "duration": 5,
    "start_time": "2023-01-10T11:49:46.547Z"
   },
   {
    "duration": 786,
    "start_time": "2023-01-10T11:49:46.553Z"
   },
   {
    "duration": 13,
    "start_time": "2023-01-10T11:49:47.341Z"
   },
   {
    "duration": 137,
    "start_time": "2023-01-10T11:49:47.355Z"
   },
   {
    "duration": 128,
    "start_time": "2023-01-10T11:49:47.494Z"
   },
   {
    "duration": 836,
    "start_time": "2023-01-10T11:49:47.624Z"
   },
   {
    "duration": 240,
    "start_time": "2023-01-10T11:49:48.462Z"
   },
   {
    "duration": 27,
    "start_time": "2023-01-10T11:49:48.704Z"
   },
   {
    "duration": 70,
    "start_time": "2023-01-10T11:49:48.734Z"
   },
   {
    "duration": 120,
    "start_time": "2023-01-10T11:49:48.806Z"
   },
   {
    "duration": 56,
    "start_time": "2023-01-10T11:49:48.928Z"
   },
   {
    "duration": 128,
    "start_time": "2023-01-10T11:49:48.986Z"
   },
   {
    "duration": 42,
    "start_time": "2023-01-10T11:49:49.116Z"
   },
   {
    "duration": 57,
    "start_time": "2023-01-10T11:49:49.160Z"
   },
   {
    "duration": 43,
    "start_time": "2023-01-10T11:49:49.219Z"
   },
   {
    "duration": 56,
    "start_time": "2023-01-10T11:49:49.265Z"
   },
   {
    "duration": 31,
    "start_time": "2023-01-10T11:49:49.323Z"
   },
   {
    "duration": 48,
    "start_time": "2023-01-10T11:49:49.356Z"
   },
   {
    "duration": 47,
    "start_time": "2023-01-10T11:49:49.406Z"
   },
   {
    "duration": 23,
    "start_time": "2023-01-10T11:49:49.455Z"
   },
   {
    "duration": 46,
    "start_time": "2023-01-10T11:49:49.479Z"
   },
   {
    "duration": 54,
    "start_time": "2023-01-10T11:49:49.527Z"
   },
   {
    "duration": 33,
    "start_time": "2023-01-10T11:49:49.583Z"
   },
   {
    "duration": 36,
    "start_time": "2023-01-10T11:49:49.618Z"
   },
   {
    "duration": 85,
    "start_time": "2023-01-10T11:49:49.656Z"
   },
   {
    "duration": 36,
    "start_time": "2023-01-10T11:49:49.742Z"
   },
   {
    "duration": 35,
    "start_time": "2023-01-10T11:49:49.782Z"
   },
   {
    "duration": 171,
    "start_time": "2023-01-10T11:49:49.819Z"
   },
   {
    "duration": 18,
    "start_time": "2023-01-10T11:49:49.992Z"
   },
   {
    "duration": 135,
    "start_time": "2023-01-10T11:49:50.012Z"
   },
   {
    "duration": 63,
    "start_time": "2023-01-10T11:49:50.149Z"
   },
   {
    "duration": 17,
    "start_time": "2023-01-10T11:49:50.214Z"
   },
   {
    "duration": 148,
    "start_time": "2023-01-10T11:49:50.233Z"
   },
   {
    "duration": 32,
    "start_time": "2023-01-10T11:49:50.382Z"
   },
   {
    "duration": 68,
    "start_time": "2023-01-10T11:49:50.416Z"
   },
   {
    "duration": 16,
    "start_time": "2023-01-10T11:49:50.485Z"
   },
   {
    "duration": 20,
    "start_time": "2023-01-10T11:49:50.502Z"
   },
   {
    "duration": 200,
    "start_time": "2023-01-10T11:49:50.523Z"
   },
   {
    "duration": 7,
    "start_time": "2023-01-10T11:49:50.725Z"
   },
   {
    "duration": 126,
    "start_time": "2023-01-10T11:49:50.734Z"
   },
   {
    "duration": 30,
    "start_time": "2023-01-10T11:49:50.862Z"
   },
   {
    "duration": 3,
    "start_time": "2023-01-10T11:49:50.894Z"
   },
   {
    "duration": 144,
    "start_time": "2023-01-10T11:49:50.898Z"
   },
   {
    "duration": 174,
    "start_time": "2023-01-10T11:49:51.045Z"
   },
   {
    "duration": 16,
    "start_time": "2023-01-10T11:49:51.221Z"
   },
   {
    "duration": 28,
    "start_time": "2023-01-10T11:49:51.239Z"
   },
   {
    "duration": 358,
    "start_time": "2023-01-10T11:49:51.268Z"
   },
   {
    "duration": 19,
    "start_time": "2023-01-10T11:49:51.628Z"
   },
   {
    "duration": 2,
    "start_time": "2023-01-10T11:49:51.649Z"
   },
   {
    "duration": 96,
    "start_time": "2023-01-10T11:49:51.653Z"
   },
   {
    "duration": 702,
    "start_time": "2023-01-10T11:50:18.175Z"
   },
   {
    "duration": 24,
    "start_time": "2023-01-10T11:50:30.604Z"
   },
   {
    "duration": 15,
    "start_time": "2023-01-10T11:52:14.559Z"
   },
   {
    "duration": 3,
    "start_time": "2023-01-10T11:54:11.018Z"
   },
   {
    "duration": 3,
    "start_time": "2023-01-10T11:54:22.316Z"
   },
   {
    "duration": 8,
    "start_time": "2023-01-10T11:55:01.431Z"
   },
   {
    "duration": 8,
    "start_time": "2023-01-10T11:55:15.354Z"
   },
   {
    "duration": 5,
    "start_time": "2023-01-10T11:55:20.761Z"
   },
   {
    "duration": 271,
    "start_time": "2023-01-10T11:56:32.267Z"
   },
   {
    "duration": 37,
    "start_time": "2023-01-10T11:57:17.255Z"
   },
   {
    "duration": 37,
    "start_time": "2023-01-10T11:57:37.930Z"
   },
   {
    "duration": 30,
    "start_time": "2023-01-10T11:57:47.525Z"
   },
   {
    "duration": 6,
    "start_time": "2023-01-10T11:57:54.176Z"
   },
   {
    "duration": 19,
    "start_time": "2023-01-10T11:58:42.414Z"
   },
   {
    "duration": 3,
    "start_time": "2023-01-10T11:59:08.202Z"
   },
   {
    "duration": 3,
    "start_time": "2023-01-10T11:59:16.162Z"
   },
   {
    "duration": 26,
    "start_time": "2023-01-10T11:59:28.574Z"
   },
   {
    "duration": 17,
    "start_time": "2023-01-10T11:59:43.102Z"
   },
   {
    "duration": 2424,
    "start_time": "2023-01-10T11:59:46.607Z"
   },
   {
    "duration": 7,
    "start_time": "2023-01-10T11:59:49.034Z"
   },
   {
    "duration": 899,
    "start_time": "2023-01-10T11:59:49.044Z"
   },
   {
    "duration": 14,
    "start_time": "2023-01-10T11:59:49.945Z"
   },
   {
    "duration": 170,
    "start_time": "2023-01-10T11:59:49.961Z"
   },
   {
    "duration": 179,
    "start_time": "2023-01-10T11:59:50.133Z"
   },
   {
    "duration": 958,
    "start_time": "2023-01-10T11:59:50.314Z"
   },
   {
    "duration": 265,
    "start_time": "2023-01-10T11:59:51.274Z"
   },
   {
    "duration": 26,
    "start_time": "2023-01-10T11:59:51.542Z"
   },
   {
    "duration": 53,
    "start_time": "2023-01-10T11:59:51.580Z"
   },
   {
    "duration": 191,
    "start_time": "2023-01-10T11:59:51.635Z"
   },
   {
    "duration": 62,
    "start_time": "2023-01-10T11:59:51.827Z"
   },
   {
    "duration": 103,
    "start_time": "2023-01-10T11:59:51.895Z"
   },
   {
    "duration": 35,
    "start_time": "2023-01-10T11:59:52.001Z"
   },
   {
    "duration": 31,
    "start_time": "2023-01-10T11:59:52.038Z"
   },
   {
    "duration": 56,
    "start_time": "2023-01-10T11:59:52.071Z"
   },
   {
    "duration": 45,
    "start_time": "2023-01-10T11:59:52.129Z"
   },
   {
    "duration": 32,
    "start_time": "2023-01-10T11:59:52.176Z"
   },
   {
    "duration": 75,
    "start_time": "2023-01-10T11:59:52.211Z"
   },
   {
    "duration": 113,
    "start_time": "2023-01-10T11:59:52.288Z"
   },
   {
    "duration": 22,
    "start_time": "2023-01-10T11:59:52.402Z"
   },
   {
    "duration": 39,
    "start_time": "2023-01-10T11:59:52.426Z"
   },
   {
    "duration": 51,
    "start_time": "2023-01-10T11:59:52.477Z"
   },
   {
    "duration": 20,
    "start_time": "2023-01-10T11:59:52.530Z"
   },
   {
    "duration": 63,
    "start_time": "2023-01-10T11:59:52.553Z"
   },
   {
    "duration": 60,
    "start_time": "2023-01-10T11:59:52.618Z"
   },
   {
    "duration": 33,
    "start_time": "2023-01-10T11:59:52.680Z"
   },
   {
    "duration": 68,
    "start_time": "2023-01-10T11:59:52.715Z"
   },
   {
    "duration": 187,
    "start_time": "2023-01-10T11:59:52.785Z"
   },
   {
    "duration": 70,
    "start_time": "2023-01-10T11:59:52.974Z"
   },
   {
    "duration": 165,
    "start_time": "2023-01-10T11:59:53.045Z"
   },
   {
    "duration": 55,
    "start_time": "2023-01-10T11:59:53.212Z"
   },
   {
    "duration": 34,
    "start_time": "2023-01-10T11:59:53.268Z"
   },
   {
    "duration": 151,
    "start_time": "2023-01-10T11:59:53.303Z"
   },
   {
    "duration": 48,
    "start_time": "2023-01-10T11:59:53.455Z"
   },
   {
    "duration": 46,
    "start_time": "2023-01-10T11:59:53.505Z"
   },
   {
    "duration": 39,
    "start_time": "2023-01-10T11:59:53.553Z"
   },
   {
    "duration": 16,
    "start_time": "2023-01-10T11:59:53.594Z"
   },
   {
    "duration": 531,
    "start_time": "2023-01-10T11:59:53.612Z"
   },
   {
    "duration": 9,
    "start_time": "2023-01-10T11:59:54.144Z"
   },
   {
    "duration": 208,
    "start_time": "2023-01-10T11:59:54.159Z"
   },
   {
    "duration": 42,
    "start_time": "2023-01-10T11:59:54.370Z"
   },
   {
    "duration": 4,
    "start_time": "2023-01-10T11:59:54.414Z"
   },
   {
    "duration": 178,
    "start_time": "2023-01-10T11:59:54.420Z"
   },
   {
    "duration": 169,
    "start_time": "2023-01-10T11:59:54.601Z"
   },
   {
    "duration": 34,
    "start_time": "2023-01-10T11:59:54.773Z"
   },
   {
    "duration": 7,
    "start_time": "2023-01-10T11:59:54.810Z"
   },
   {
    "duration": 428,
    "start_time": "2023-01-10T11:59:54.819Z"
   },
   {
    "duration": 32,
    "start_time": "2023-01-10T11:59:55.249Z"
   },
   {
    "duration": 43,
    "start_time": "2023-01-10T11:59:55.283Z"
   },
   {
    "duration": 136,
    "start_time": "2023-01-10T11:59:55.329Z"
   },
   {
    "duration": 876,
    "start_time": "2023-01-10T11:59:55.467Z"
   },
   {
    "duration": 35,
    "start_time": "2023-01-10T11:59:56.346Z"
   },
   {
    "duration": 39,
    "start_time": "2023-01-10T11:59:56.383Z"
   },
   {
    "duration": 10,
    "start_time": "2023-01-10T11:59:56.424Z"
   },
   {
    "duration": 59,
    "start_time": "2023-01-10T11:59:56.436Z"
   },
   {
    "duration": 4,
    "start_time": "2023-01-10T11:59:56.498Z"
   },
   {
    "duration": 12,
    "start_time": "2023-01-10T11:59:56.503Z"
   },
   {
    "duration": 27,
    "start_time": "2023-01-10T11:59:56.517Z"
   },
   {
    "duration": 53,
    "start_time": "2023-01-10T12:06:51.542Z"
   },
   {
    "duration": 7,
    "start_time": "2023-01-10T12:08:11.859Z"
   },
   {
    "duration": 7,
    "start_time": "2023-01-10T12:08:12.122Z"
   },
   {
    "duration": 1832,
    "start_time": "2023-01-10T12:08:23.074Z"
   },
   {
    "duration": 3907,
    "start_time": "2023-01-10T12:08:30.229Z"
   },
   {
    "duration": 21,
    "start_time": "2023-01-10T12:08:34.140Z"
   },
   {
    "duration": 3154,
    "start_time": "2023-01-11T11:45:45.554Z"
   },
   {
    "duration": 1560,
    "start_time": "2023-01-11T11:45:48.710Z"
   },
   {
    "duration": 1124,
    "start_time": "2023-01-11T11:45:50.272Z"
   },
   {
    "duration": 18,
    "start_time": "2023-01-11T11:45:51.399Z"
   },
   {
    "duration": 137,
    "start_time": "2023-01-11T11:45:51.419Z"
   },
   {
    "duration": 131,
    "start_time": "2023-01-11T11:45:51.557Z"
   },
   {
    "duration": 1026,
    "start_time": "2023-01-11T11:45:51.690Z"
   },
   {
    "duration": 270,
    "start_time": "2023-01-11T11:45:52.718Z"
   },
   {
    "duration": 32,
    "start_time": "2023-01-11T11:45:52.989Z"
   },
   {
    "duration": 71,
    "start_time": "2023-01-11T11:45:53.024Z"
   },
   {
    "duration": 129,
    "start_time": "2023-01-11T11:45:53.097Z"
   },
   {
    "duration": 53,
    "start_time": "2023-01-11T11:45:53.228Z"
   },
   {
    "duration": 135,
    "start_time": "2023-01-11T11:45:53.283Z"
   },
   {
    "duration": 38,
    "start_time": "2023-01-11T11:45:53.420Z"
   },
   {
    "duration": 23,
    "start_time": "2023-01-11T11:45:53.460Z"
   },
   {
    "duration": 31,
    "start_time": "2023-01-11T11:45:53.486Z"
   },
   {
    "duration": 59,
    "start_time": "2023-01-11T11:45:53.519Z"
   },
   {
    "duration": 20,
    "start_time": "2023-01-11T11:45:53.579Z"
   },
   {
    "duration": 36,
    "start_time": "2023-01-11T11:45:53.601Z"
   },
   {
    "duration": 47,
    "start_time": "2023-01-11T11:45:53.654Z"
   },
   {
    "duration": 25,
    "start_time": "2023-01-11T11:45:53.703Z"
   },
   {
    "duration": 55,
    "start_time": "2023-01-11T11:45:53.730Z"
   },
   {
    "duration": 44,
    "start_time": "2023-01-11T11:45:53.787Z"
   },
   {
    "duration": 34,
    "start_time": "2023-01-11T11:45:53.832Z"
   },
   {
    "duration": 59,
    "start_time": "2023-01-11T11:45:53.867Z"
   },
   {
    "duration": 59,
    "start_time": "2023-01-11T11:45:53.928Z"
   },
   {
    "duration": 22,
    "start_time": "2023-01-11T11:45:53.989Z"
   },
   {
    "duration": 47,
    "start_time": "2023-01-11T11:45:54.015Z"
   },
   {
    "duration": 141,
    "start_time": "2023-01-11T11:45:54.064Z"
   },
   {
    "duration": 17,
    "start_time": "2023-01-11T11:45:54.207Z"
   },
   {
    "duration": 141,
    "start_time": "2023-01-11T11:45:54.226Z"
   },
   {
    "duration": 56,
    "start_time": "2023-01-11T11:45:54.369Z"
   },
   {
    "duration": 39,
    "start_time": "2023-01-11T11:45:54.427Z"
   },
   {
    "duration": 177,
    "start_time": "2023-01-11T11:45:54.468Z"
   },
   {
    "duration": 33,
    "start_time": "2023-01-11T11:45:54.655Z"
   },
   {
    "duration": 71,
    "start_time": "2023-01-11T11:45:54.690Z"
   },
   {
    "duration": 18,
    "start_time": "2023-01-11T11:45:54.763Z"
   },
   {
    "duration": 14,
    "start_time": "2023-01-11T11:45:54.783Z"
   },
   {
    "duration": 205,
    "start_time": "2023-01-11T11:45:54.798Z"
   },
   {
    "duration": 8,
    "start_time": "2023-01-11T11:45:55.005Z"
   },
   {
    "duration": 131,
    "start_time": "2023-01-11T11:45:55.015Z"
   },
   {
    "duration": 33,
    "start_time": "2023-01-11T11:45:55.148Z"
   },
   {
    "duration": 3,
    "start_time": "2023-01-11T11:45:55.183Z"
   },
   {
    "duration": 161,
    "start_time": "2023-01-11T11:45:55.187Z"
   },
   {
    "duration": 155,
    "start_time": "2023-01-11T11:45:55.349Z"
   },
   {
    "duration": 17,
    "start_time": "2023-01-11T11:45:55.506Z"
   },
   {
    "duration": 5,
    "start_time": "2023-01-11T11:45:55.525Z"
   },
   {
    "duration": 456,
    "start_time": "2023-01-11T11:45:55.531Z"
   },
   {
    "duration": 21,
    "start_time": "2023-01-11T11:45:55.988Z"
   },
   {
    "duration": 3,
    "start_time": "2023-01-11T11:45:56.010Z"
   },
   {
    "duration": 107,
    "start_time": "2023-01-11T11:45:56.015Z"
   },
   {
    "duration": 766,
    "start_time": "2023-01-11T11:45:56.124Z"
   },
   {
    "duration": 24,
    "start_time": "2023-01-11T11:45:56.892Z"
   },
   {
    "duration": 14,
    "start_time": "2023-01-11T11:45:56.918Z"
   },
   {
    "duration": 27,
    "start_time": "2023-01-11T11:45:56.934Z"
   },
   {
    "duration": 37,
    "start_time": "2023-01-11T11:45:56.963Z"
   },
   {
    "duration": 4,
    "start_time": "2023-01-11T11:45:57.002Z"
   },
   {
    "duration": 5,
    "start_time": "2023-01-11T11:45:57.008Z"
   },
   {
    "duration": 17,
    "start_time": "2023-01-11T11:45:57.015Z"
   },
   {
    "duration": 126,
    "start_time": "2023-01-11T11:45:57.056Z"
   },
   {
    "duration": 2,
    "start_time": "2023-01-11T11:51:00.709Z"
   },
   {
    "duration": 4,
    "start_time": "2023-01-11T11:52:42.408Z"
   },
   {
    "duration": 146,
    "start_time": "2023-01-11T11:56:10.235Z"
   },
   {
    "duration": 5,
    "start_time": "2023-01-11T11:56:16.071Z"
   },
   {
    "duration": 111,
    "start_time": "2023-01-11T11:57:10.309Z"
   },
   {
    "duration": 11,
    "start_time": "2023-01-11T11:57:19.889Z"
   },
   {
    "duration": 4,
    "start_time": "2023-01-11T11:57:27.510Z"
   },
   {
    "duration": 3,
    "start_time": "2023-01-11T11:57:28.026Z"
   },
   {
    "duration": 3,
    "start_time": "2023-01-11T11:57:37.448Z"
   },
   {
    "duration": 3,
    "start_time": "2023-01-11T11:58:10.309Z"
   },
   {
    "duration": 63,
    "start_time": "2023-01-11T12:02:52.718Z"
   },
   {
    "duration": 2385,
    "start_time": "2023-01-11T12:02:59.911Z"
   },
   {
    "duration": 1566,
    "start_time": "2023-01-11T12:03:02.300Z"
   },
   {
    "duration": 1209,
    "start_time": "2023-01-11T12:03:03.868Z"
   },
   {
    "duration": 18,
    "start_time": "2023-01-11T12:03:05.079Z"
   },
   {
    "duration": 150,
    "start_time": "2023-01-11T12:03:05.099Z"
   },
   {
    "duration": 143,
    "start_time": "2023-01-11T12:03:05.255Z"
   },
   {
    "duration": 1069,
    "start_time": "2023-01-11T12:03:05.400Z"
   },
   {
    "duration": 274,
    "start_time": "2023-01-11T12:03:06.471Z"
   },
   {
    "duration": 33,
    "start_time": "2023-01-11T12:03:06.747Z"
   },
   {
    "duration": 73,
    "start_time": "2023-01-11T12:03:06.782Z"
   },
   {
    "duration": 137,
    "start_time": "2023-01-11T12:03:06.857Z"
   },
   {
    "duration": 63,
    "start_time": "2023-01-11T12:03:06.996Z"
   },
   {
    "duration": 135,
    "start_time": "2023-01-11T12:03:07.061Z"
   },
   {
    "duration": 34,
    "start_time": "2023-01-11T12:03:07.198Z"
   },
   {
    "duration": 35,
    "start_time": "2023-01-11T12:03:07.234Z"
   },
   {
    "duration": 36,
    "start_time": "2023-01-11T12:03:07.271Z"
   },
   {
    "duration": 66,
    "start_time": "2023-01-11T12:03:07.308Z"
   },
   {
    "duration": 22,
    "start_time": "2023-01-11T12:03:07.375Z"
   },
   {
    "duration": 57,
    "start_time": "2023-01-11T12:03:07.398Z"
   },
   {
    "duration": 45,
    "start_time": "2023-01-11T12:03:07.457Z"
   },
   {
    "duration": 21,
    "start_time": "2023-01-11T12:03:07.504Z"
   },
   {
    "duration": 61,
    "start_time": "2023-01-11T12:03:07.527Z"
   },
   {
    "duration": 45,
    "start_time": "2023-01-11T12:03:07.590Z"
   },
   {
    "duration": 35,
    "start_time": "2023-01-11T12:03:07.636Z"
   },
   {
    "duration": 38,
    "start_time": "2023-01-11T12:03:07.673Z"
   },
   {
    "duration": 67,
    "start_time": "2023-01-11T12:03:07.713Z"
   },
   {
    "duration": 27,
    "start_time": "2023-01-11T12:03:07.782Z"
   },
   {
    "duration": 55,
    "start_time": "2023-01-11T12:03:07.814Z"
   },
   {
    "duration": 151,
    "start_time": "2023-01-11T12:03:07.871Z"
   },
   {
    "duration": 18,
    "start_time": "2023-01-11T12:03:08.023Z"
   },
   {
    "duration": 153,
    "start_time": "2023-01-11T12:03:08.043Z"
   },
   {
    "duration": 67,
    "start_time": "2023-01-11T12:03:08.198Z"
   },
   {
    "duration": 26,
    "start_time": "2023-01-11T12:03:08.268Z"
   },
   {
    "duration": 160,
    "start_time": "2023-01-11T12:03:08.297Z"
   },
   {
    "duration": 33,
    "start_time": "2023-01-11T12:03:08.459Z"
   },
   {
    "duration": 69,
    "start_time": "2023-01-11T12:03:08.494Z"
   },
   {
    "duration": 18,
    "start_time": "2023-01-11T12:03:08.565Z"
   },
   {
    "duration": 15,
    "start_time": "2023-01-11T12:03:08.585Z"
   },
   {
    "duration": 213,
    "start_time": "2023-01-11T12:03:08.602Z"
   },
   {
    "duration": 7,
    "start_time": "2023-01-11T12:03:08.817Z"
   },
   {
    "duration": 136,
    "start_time": "2023-01-11T12:03:08.827Z"
   },
   {
    "duration": 33,
    "start_time": "2023-01-11T12:03:08.965Z"
   },
   {
    "duration": 21,
    "start_time": "2023-01-11T12:03:09.000Z"
   },
   {
    "duration": 182,
    "start_time": "2023-01-11T12:03:09.023Z"
   },
   {
    "duration": 163,
    "start_time": "2023-01-11T12:03:09.207Z"
   },
   {
    "duration": 19,
    "start_time": "2023-01-11T12:03:09.372Z"
   },
   {
    "duration": 5,
    "start_time": "2023-01-11T12:03:09.393Z"
   },
   {
    "duration": 480,
    "start_time": "2023-01-11T12:03:09.399Z"
   },
   {
    "duration": 21,
    "start_time": "2023-01-11T12:03:09.881Z"
   },
   {
    "duration": 3,
    "start_time": "2023-01-11T12:03:09.904Z"
   },
   {
    "duration": 109,
    "start_time": "2023-01-11T12:03:09.909Z"
   },
   {
    "duration": 758,
    "start_time": "2023-01-11T12:03:10.020Z"
   },
   {
    "duration": 26,
    "start_time": "2023-01-11T12:03:10.780Z"
   },
   {
    "duration": 16,
    "start_time": "2023-01-11T12:03:10.808Z"
   },
   {
    "duration": 7,
    "start_time": "2023-01-11T12:03:10.826Z"
   },
   {
    "duration": 37,
    "start_time": "2023-01-11T12:03:10.856Z"
   },
   {
    "duration": 4,
    "start_time": "2023-01-11T12:03:10.895Z"
   },
   {
    "duration": 10,
    "start_time": "2023-01-11T12:03:10.900Z"
   },
   {
    "duration": 23,
    "start_time": "2023-01-11T12:03:10.912Z"
   },
   {
    "duration": 162,
    "start_time": "2023-01-11T12:03:10.937Z"
   },
   {
    "duration": 5,
    "start_time": "2023-01-11T12:03:11.101Z"
   },
   {
    "duration": 7,
    "start_time": "2023-01-11T12:03:11.108Z"
   },
   {
    "duration": 18,
    "start_time": "2023-01-11T12:03:11.117Z"
   },
   {
    "duration": 3,
    "start_time": "2023-01-11T12:03:14.149Z"
   },
   {
    "duration": 4,
    "start_time": "2023-01-11T12:03:23.347Z"
   },
   {
    "duration": 62,
    "start_time": "2023-01-11T12:07:03.816Z"
   },
   {
    "duration": 7,
    "start_time": "2023-01-11T12:07:58.535Z"
   },
   {
    "duration": 2466,
    "start_time": "2023-01-11T12:08:02.057Z"
   },
   {
    "duration": 1616,
    "start_time": "2023-01-11T12:08:04.526Z"
   },
   {
    "duration": 1201,
    "start_time": "2023-01-11T12:08:06.144Z"
   },
   {
    "duration": 19,
    "start_time": "2023-01-11T12:08:07.347Z"
   },
   {
    "duration": 154,
    "start_time": "2023-01-11T12:08:07.368Z"
   },
   {
    "duration": 141,
    "start_time": "2023-01-11T12:08:07.524Z"
   },
   {
    "duration": 1066,
    "start_time": "2023-01-11T12:08:07.667Z"
   },
   {
    "duration": 268,
    "start_time": "2023-01-11T12:08:08.735Z"
   },
   {
    "duration": 34,
    "start_time": "2023-01-11T12:08:09.005Z"
   },
   {
    "duration": 70,
    "start_time": "2023-01-11T12:08:09.040Z"
   },
   {
    "duration": 157,
    "start_time": "2023-01-11T12:08:09.112Z"
   },
   {
    "duration": 51,
    "start_time": "2023-01-11T12:08:09.271Z"
   },
   {
    "duration": 148,
    "start_time": "2023-01-11T12:08:09.324Z"
   },
   {
    "duration": 39,
    "start_time": "2023-01-11T12:08:09.475Z"
   },
   {
    "duration": 40,
    "start_time": "2023-01-11T12:08:09.516Z"
   },
   {
    "duration": 37,
    "start_time": "2023-01-11T12:08:09.558Z"
   },
   {
    "duration": 59,
    "start_time": "2023-01-11T12:08:09.597Z"
   },
   {
    "duration": 23,
    "start_time": "2023-01-11T12:08:09.658Z"
   },
   {
    "duration": 38,
    "start_time": "2023-01-11T12:08:09.683Z"
   },
   {
    "duration": 67,
    "start_time": "2023-01-11T12:08:09.723Z"
   },
   {
    "duration": 22,
    "start_time": "2023-01-11T12:08:09.792Z"
   },
   {
    "duration": 56,
    "start_time": "2023-01-11T12:08:09.817Z"
   },
   {
    "duration": 56,
    "start_time": "2023-01-11T12:08:09.875Z"
   },
   {
    "duration": 31,
    "start_time": "2023-01-11T12:08:09.933Z"
   },
   {
    "duration": 37,
    "start_time": "2023-01-11T12:08:09.966Z"
   },
   {
    "duration": 68,
    "start_time": "2023-01-11T12:08:10.005Z"
   },
   {
    "duration": 23,
    "start_time": "2023-01-11T12:08:10.075Z"
   },
   {
    "duration": 55,
    "start_time": "2023-01-11T12:08:10.100Z"
   },
   {
    "duration": 168,
    "start_time": "2023-01-11T12:08:10.158Z"
   },
   {
    "duration": 32,
    "start_time": "2023-01-11T12:08:10.327Z"
   },
   {
    "duration": 139,
    "start_time": "2023-01-11T12:08:10.361Z"
   },
   {
    "duration": 65,
    "start_time": "2023-01-11T12:08:10.502Z"
   },
   {
    "duration": 20,
    "start_time": "2023-01-11T12:08:10.569Z"
   },
   {
    "duration": 169,
    "start_time": "2023-01-11T12:08:10.590Z"
   },
   {
    "duration": 34,
    "start_time": "2023-01-11T12:08:10.761Z"
   },
   {
    "duration": 71,
    "start_time": "2023-01-11T12:08:10.797Z"
   },
   {
    "duration": 18,
    "start_time": "2023-01-11T12:08:10.869Z"
   },
   {
    "duration": 38,
    "start_time": "2023-01-11T12:08:10.889Z"
   },
   {
    "duration": 206,
    "start_time": "2023-01-11T12:08:10.928Z"
   },
   {
    "duration": 24,
    "start_time": "2023-01-11T12:08:11.136Z"
   },
   {
    "duration": 132,
    "start_time": "2023-01-11T12:08:11.165Z"
   },
   {
    "duration": 29,
    "start_time": "2023-01-11T12:08:11.298Z"
   },
   {
    "duration": 11,
    "start_time": "2023-01-11T12:08:11.329Z"
   },
   {
    "duration": 163,
    "start_time": "2023-01-11T12:08:11.356Z"
   },
   {
    "duration": 170,
    "start_time": "2023-01-11T12:08:11.521Z"
   },
   {
    "duration": 21,
    "start_time": "2023-01-11T12:08:11.693Z"
   },
   {
    "duration": 5,
    "start_time": "2023-01-11T12:08:11.717Z"
   },
   {
    "duration": 524,
    "start_time": "2023-01-11T12:08:11.724Z"
   },
   {
    "duration": 23,
    "start_time": "2023-01-11T12:08:12.255Z"
   },
   {
    "duration": 3,
    "start_time": "2023-01-11T12:08:12.279Z"
   },
   {
    "duration": 106,
    "start_time": "2023-01-11T12:08:12.284Z"
   },
   {
    "duration": 769,
    "start_time": "2023-01-11T12:08:12.392Z"
   },
   {
    "duration": 24,
    "start_time": "2023-01-11T12:08:13.163Z"
   },
   {
    "duration": 21,
    "start_time": "2023-01-11T12:08:13.190Z"
   },
   {
    "duration": 9,
    "start_time": "2023-01-11T12:08:13.213Z"
   },
   {
    "duration": 65,
    "start_time": "2023-01-11T12:08:13.224Z"
   },
   {
    "duration": 4,
    "start_time": "2023-01-11T12:08:13.291Z"
   },
   {
    "duration": 13,
    "start_time": "2023-01-11T12:08:13.297Z"
   },
   {
    "duration": 20,
    "start_time": "2023-01-11T12:08:13.312Z"
   },
   {
    "duration": 141,
    "start_time": "2023-01-11T12:08:13.334Z"
   },
   {
    "duration": 5,
    "start_time": "2023-01-11T12:08:13.476Z"
   },
   {
    "duration": 10,
    "start_time": "2023-01-11T12:08:13.483Z"
   },
   {
    "duration": 4,
    "start_time": "2023-01-11T12:08:16.876Z"
   },
   {
    "duration": 4,
    "start_time": "2023-01-11T12:08:17.135Z"
   },
   {
    "duration": 3,
    "start_time": "2023-01-11T12:08:34.785Z"
   },
   {
    "duration": 3,
    "start_time": "2023-01-11T12:08:35.705Z"
   },
   {
    "duration": 5,
    "start_time": "2023-01-11T12:08:42.347Z"
   },
   {
    "duration": 3217,
    "start_time": "2023-01-11T19:45:42.727Z"
   },
   {
    "duration": 1742,
    "start_time": "2023-01-11T19:45:45.946Z"
   },
   {
    "duration": 3182,
    "start_time": "2023-01-11T19:45:47.690Z"
   },
   {
    "duration": 19,
    "start_time": "2023-01-11T19:45:50.874Z"
   },
   {
    "duration": 148,
    "start_time": "2023-01-11T19:45:50.895Z"
   },
   {
    "duration": 144,
    "start_time": "2023-01-11T19:45:51.045Z"
   },
   {
    "duration": 1085,
    "start_time": "2023-01-11T19:45:51.191Z"
   },
   {
    "duration": 285,
    "start_time": "2023-01-11T19:45:52.278Z"
   },
   {
    "duration": 44,
    "start_time": "2023-01-11T19:45:52.565Z"
   },
   {
    "duration": 89,
    "start_time": "2023-01-11T19:45:52.612Z"
   },
   {
    "duration": 134,
    "start_time": "2023-01-11T19:45:52.704Z"
   },
   {
    "duration": 47,
    "start_time": "2023-01-11T19:45:52.850Z"
   },
   {
    "duration": 141,
    "start_time": "2023-01-11T19:45:52.899Z"
   },
   {
    "duration": 37,
    "start_time": "2023-01-11T19:45:53.042Z"
   },
   {
    "duration": 27,
    "start_time": "2023-01-11T19:45:53.081Z"
   },
   {
    "duration": 45,
    "start_time": "2023-01-11T19:45:53.110Z"
   },
   {
    "duration": 50,
    "start_time": "2023-01-11T19:45:53.158Z"
   },
   {
    "duration": 38,
    "start_time": "2023-01-11T19:45:53.216Z"
   },
   {
    "duration": 35,
    "start_time": "2023-01-11T19:45:53.257Z"
   },
   {
    "duration": 80,
    "start_time": "2023-01-11T19:45:53.294Z"
   },
   {
    "duration": 22,
    "start_time": "2023-01-11T19:45:53.376Z"
   },
   {
    "duration": 53,
    "start_time": "2023-01-11T19:45:53.400Z"
   },
   {
    "duration": 46,
    "start_time": "2023-01-11T19:45:53.455Z"
   },
   {
    "duration": 21,
    "start_time": "2023-01-11T19:45:53.503Z"
   },
   {
    "duration": 59,
    "start_time": "2023-01-11T19:45:53.526Z"
   },
   {
    "duration": 54,
    "start_time": "2023-01-11T19:45:53.586Z"
   },
   {
    "duration": 27,
    "start_time": "2023-01-11T19:45:53.641Z"
   },
   {
    "duration": 33,
    "start_time": "2023-01-11T19:45:53.673Z"
   },
   {
    "duration": 150,
    "start_time": "2023-01-11T19:45:53.708Z"
   },
   {
    "duration": 18,
    "start_time": "2023-01-11T19:45:53.860Z"
   },
   {
    "duration": 143,
    "start_time": "2023-01-11T19:45:53.880Z"
   },
   {
    "duration": 76,
    "start_time": "2023-01-11T19:45:54.025Z"
   },
   {
    "duration": 21,
    "start_time": "2023-01-11T19:45:54.103Z"
   },
   {
    "duration": 164,
    "start_time": "2023-01-11T19:45:54.126Z"
   },
   {
    "duration": 34,
    "start_time": "2023-01-11T19:45:54.292Z"
   },
   {
    "duration": 73,
    "start_time": "2023-01-11T19:45:54.328Z"
   },
   {
    "duration": 17,
    "start_time": "2023-01-11T19:45:54.402Z"
   },
   {
    "duration": 31,
    "start_time": "2023-01-11T19:45:54.421Z"
   },
   {
    "duration": 213,
    "start_time": "2023-01-11T19:45:54.454Z"
   },
   {
    "duration": 7,
    "start_time": "2023-01-11T19:45:54.669Z"
   },
   {
    "duration": 129,
    "start_time": "2023-01-11T19:45:54.678Z"
   },
   {
    "duration": 29,
    "start_time": "2023-01-11T19:45:54.808Z"
   },
   {
    "duration": 3,
    "start_time": "2023-01-11T19:45:54.852Z"
   },
   {
    "duration": 187,
    "start_time": "2023-01-11T19:45:54.857Z"
   },
   {
    "duration": 192,
    "start_time": "2023-01-11T19:45:55.046Z"
   },
   {
    "duration": 23,
    "start_time": "2023-01-11T19:45:55.240Z"
   },
   {
    "duration": 6,
    "start_time": "2023-01-11T19:45:55.265Z"
   },
   {
    "duration": 471,
    "start_time": "2023-01-11T19:45:55.272Z"
   },
   {
    "duration": 23,
    "start_time": "2023-01-11T19:45:55.750Z"
   },
   {
    "duration": 3,
    "start_time": "2023-01-11T19:45:55.774Z"
   },
   {
    "duration": 101,
    "start_time": "2023-01-11T19:45:55.779Z"
   },
   {
    "duration": 763,
    "start_time": "2023-01-11T19:45:55.882Z"
   },
   {
    "duration": 27,
    "start_time": "2023-01-11T19:45:56.646Z"
   },
   {
    "duration": 15,
    "start_time": "2023-01-11T19:45:56.675Z"
   },
   {
    "duration": 15,
    "start_time": "2023-01-11T19:45:56.692Z"
   },
   {
    "duration": 58,
    "start_time": "2023-01-11T19:45:56.709Z"
   },
   {
    "duration": 3,
    "start_time": "2023-01-11T19:45:56.769Z"
   },
   {
    "duration": 10,
    "start_time": "2023-01-11T19:45:56.774Z"
   },
   {
    "duration": 19,
    "start_time": "2023-01-11T19:45:56.786Z"
   },
   {
    "duration": 132,
    "start_time": "2023-01-11T19:45:56.808Z"
   },
   {
    "duration": 4,
    "start_time": "2023-01-11T19:45:56.942Z"
   },
   {
    "duration": 3,
    "start_time": "2023-01-11T19:45:56.951Z"
   },
   {
    "duration": 7,
    "start_time": "2023-01-11T19:45:56.955Z"
   },
   {
    "duration": 5,
    "start_time": "2023-01-11T19:45:56.964Z"
   },
   {
    "duration": 3,
    "start_time": "2023-01-11T19:47:51.143Z"
   },
   {
    "duration": 5,
    "start_time": "2023-01-11T19:47:52.165Z"
   },
   {
    "duration": 60,
    "start_time": "2023-01-11T19:48:48.373Z"
   },
   {
    "duration": 2377,
    "start_time": "2023-01-11T19:48:53.697Z"
   },
   {
    "duration": 1575,
    "start_time": "2023-01-11T19:48:56.077Z"
   },
   {
    "duration": 3220,
    "start_time": "2023-01-11T19:48:57.654Z"
   },
   {
    "duration": 18,
    "start_time": "2023-01-11T19:49:00.877Z"
   },
   {
    "duration": 188,
    "start_time": "2023-01-11T19:49:00.897Z"
   },
   {
    "duration": 156,
    "start_time": "2023-01-11T19:49:01.087Z"
   },
   {
    "duration": 1154,
    "start_time": "2023-01-11T19:49:01.245Z"
   },
   {
    "duration": 284,
    "start_time": "2023-01-11T19:49:02.401Z"
   },
   {
    "duration": 33,
    "start_time": "2023-01-11T19:49:02.687Z"
   },
   {
    "duration": 77,
    "start_time": "2023-01-11T19:49:02.723Z"
   },
   {
    "duration": 138,
    "start_time": "2023-01-11T19:49:02.802Z"
   },
   {
    "duration": 65,
    "start_time": "2023-01-11T19:49:02.941Z"
   },
   {
    "duration": 134,
    "start_time": "2023-01-11T19:49:03.008Z"
   },
   {
    "duration": 36,
    "start_time": "2023-01-11T19:49:03.151Z"
   },
   {
    "duration": 31,
    "start_time": "2023-01-11T19:49:03.188Z"
   },
   {
    "duration": 43,
    "start_time": "2023-01-11T19:49:03.222Z"
   },
   {
    "duration": 74,
    "start_time": "2023-01-11T19:49:03.267Z"
   },
   {
    "duration": 26,
    "start_time": "2023-01-11T19:49:03.343Z"
   },
   {
    "duration": 41,
    "start_time": "2023-01-11T19:49:03.371Z"
   },
   {
    "duration": 79,
    "start_time": "2023-01-11T19:49:03.413Z"
   },
   {
    "duration": 21,
    "start_time": "2023-01-11T19:49:03.494Z"
   },
   {
    "duration": 59,
    "start_time": "2023-01-11T19:49:03.516Z"
   },
   {
    "duration": 73,
    "start_time": "2023-01-11T19:49:03.577Z"
   },
   {
    "duration": 32,
    "start_time": "2023-01-11T19:49:03.652Z"
   },
   {
    "duration": 59,
    "start_time": "2023-01-11T19:49:03.686Z"
   },
   {
    "duration": 55,
    "start_time": "2023-01-11T19:49:03.747Z"
   },
   {
    "duration": 25,
    "start_time": "2023-01-11T19:49:03.804Z"
   },
   {
    "duration": 51,
    "start_time": "2023-01-11T19:49:03.833Z"
   },
   {
    "duration": 136,
    "start_time": "2023-01-11T19:49:03.886Z"
   },
   {
    "duration": 27,
    "start_time": "2023-01-11T19:49:04.024Z"
   },
   {
    "duration": 151,
    "start_time": "2023-01-11T19:49:04.053Z"
   },
   {
    "duration": 63,
    "start_time": "2023-01-11T19:49:04.205Z"
   },
   {
    "duration": 19,
    "start_time": "2023-01-11T19:49:04.270Z"
   },
   {
    "duration": 150,
    "start_time": "2023-01-11T19:49:04.291Z"
   },
   {
    "duration": 37,
    "start_time": "2023-01-11T19:49:04.443Z"
   },
   {
    "duration": 53,
    "start_time": "2023-01-11T19:49:04.481Z"
   },
   {
    "duration": 21,
    "start_time": "2023-01-11T19:49:04.551Z"
   },
   {
    "duration": 42,
    "start_time": "2023-01-11T19:49:04.574Z"
   },
   {
    "duration": 215,
    "start_time": "2023-01-11T19:49:04.617Z"
   },
   {
    "duration": 19,
    "start_time": "2023-01-11T19:49:04.835Z"
   },
   {
    "duration": 127,
    "start_time": "2023-01-11T19:49:04.856Z"
   },
   {
    "duration": 80,
    "start_time": "2023-01-11T19:49:04.985Z"
   },
   {
    "duration": 18,
    "start_time": "2023-01-11T19:49:05.067Z"
   },
   {
    "duration": 171,
    "start_time": "2023-01-11T19:49:05.087Z"
   },
   {
    "duration": 153,
    "start_time": "2023-01-11T19:49:05.260Z"
   },
   {
    "duration": 19,
    "start_time": "2023-01-11T19:49:05.415Z"
   },
   {
    "duration": 34,
    "start_time": "2023-01-11T19:49:05.436Z"
   },
   {
    "duration": 449,
    "start_time": "2023-01-11T19:49:05.472Z"
   },
   {
    "duration": 32,
    "start_time": "2023-01-11T19:49:05.923Z"
   },
   {
    "duration": 29,
    "start_time": "2023-01-11T19:49:05.957Z"
   },
   {
    "duration": 101,
    "start_time": "2023-01-11T19:49:05.989Z"
   },
   {
    "duration": 768,
    "start_time": "2023-01-11T19:49:06.092Z"
   },
   {
    "duration": 24,
    "start_time": "2023-01-11T19:49:06.863Z"
   },
   {
    "duration": 19,
    "start_time": "2023-01-11T19:49:06.889Z"
   },
   {
    "duration": 26,
    "start_time": "2023-01-11T19:49:06.910Z"
   },
   {
    "duration": 45,
    "start_time": "2023-01-11T19:49:06.938Z"
   },
   {
    "duration": 10,
    "start_time": "2023-01-11T19:49:06.985Z"
   },
   {
    "duration": 23,
    "start_time": "2023-01-11T19:49:06.997Z"
   },
   {
    "duration": 42,
    "start_time": "2023-01-11T19:49:07.022Z"
   },
   {
    "duration": 138,
    "start_time": "2023-01-11T19:49:07.066Z"
   },
   {
    "duration": 6,
    "start_time": "2023-01-11T19:49:07.206Z"
   },
   {
    "duration": 9,
    "start_time": "2023-01-11T19:49:09.811Z"
   },
   {
    "duration": 4,
    "start_time": "2023-01-11T19:49:10.379Z"
   },
   {
    "duration": 5,
    "start_time": "2023-01-11T19:49:10.830Z"
   },
   {
    "duration": 5,
    "start_time": "2023-01-11T19:49:16.259Z"
   },
   {
    "duration": 74,
    "start_time": "2023-01-11T19:49:21.379Z"
   },
   {
    "duration": 3,
    "start_time": "2023-01-11T19:49:21.799Z"
   },
   {
    "duration": 5,
    "start_time": "2023-01-11T19:49:30.095Z"
   },
   {
    "duration": 4,
    "start_time": "2023-01-11T19:49:31.423Z"
   },
   {
    "duration": 5,
    "start_time": "2023-01-11T19:49:32.446Z"
   },
   {
    "duration": 4,
    "start_time": "2023-01-11T19:49:40.780Z"
   },
   {
    "duration": 4,
    "start_time": "2023-01-11T19:49:41.829Z"
   },
   {
    "duration": 5,
    "start_time": "2023-01-11T19:49:42.822Z"
   },
   {
    "duration": 138,
    "start_time": "2023-01-11T20:08:04.519Z"
   },
   {
    "duration": 2504,
    "start_time": "2023-01-11T20:08:10.428Z"
   },
   {
    "duration": 1657,
    "start_time": "2023-01-11T20:08:12.936Z"
   },
   {
    "duration": 3222,
    "start_time": "2023-01-11T20:08:14.597Z"
   },
   {
    "duration": 20,
    "start_time": "2023-01-11T20:08:17.821Z"
   },
   {
    "duration": 169,
    "start_time": "2023-01-11T20:08:17.843Z"
   },
   {
    "duration": 156,
    "start_time": "2023-01-11T20:08:18.014Z"
   },
   {
    "duration": 1205,
    "start_time": "2023-01-11T20:08:18.173Z"
   },
   {
    "duration": 313,
    "start_time": "2023-01-11T20:08:19.381Z"
   },
   {
    "duration": 58,
    "start_time": "2023-01-11T20:08:19.699Z"
   },
   {
    "duration": 77,
    "start_time": "2023-01-11T20:08:19.761Z"
   },
   {
    "duration": 167,
    "start_time": "2023-01-11T20:08:19.841Z"
   },
   {
    "duration": 63,
    "start_time": "2023-01-11T20:08:20.010Z"
   },
   {
    "duration": 152,
    "start_time": "2023-01-11T20:08:20.075Z"
   },
   {
    "duration": 67,
    "start_time": "2023-01-11T20:08:20.229Z"
   },
   {
    "duration": 30,
    "start_time": "2023-01-11T20:08:20.298Z"
   },
   {
    "duration": 47,
    "start_time": "2023-01-11T20:08:20.329Z"
   },
   {
    "duration": 73,
    "start_time": "2023-01-11T20:08:20.378Z"
   },
   {
    "duration": 35,
    "start_time": "2023-01-11T20:08:20.453Z"
   },
   {
    "duration": 55,
    "start_time": "2023-01-11T20:08:20.490Z"
   },
   {
    "duration": 75,
    "start_time": "2023-01-11T20:08:20.547Z"
   },
   {
    "duration": 33,
    "start_time": "2023-01-11T20:08:20.624Z"
   },
   {
    "duration": 68,
    "start_time": "2023-01-11T20:08:20.660Z"
   },
   {
    "duration": 65,
    "start_time": "2023-01-11T20:08:20.730Z"
   },
   {
    "duration": 22,
    "start_time": "2023-01-11T20:08:20.797Z"
   },
   {
    "duration": 55,
    "start_time": "2023-01-11T20:08:20.820Z"
   },
   {
    "duration": 61,
    "start_time": "2023-01-11T20:08:20.877Z"
   },
   {
    "duration": 29,
    "start_time": "2023-01-11T20:08:20.940Z"
   },
   {
    "duration": 40,
    "start_time": "2023-01-11T20:08:20.973Z"
   },
   {
    "duration": 149,
    "start_time": "2023-01-11T20:08:21.015Z"
   },
   {
    "duration": 25,
    "start_time": "2023-01-11T20:08:21.167Z"
   },
   {
    "duration": 185,
    "start_time": "2023-01-11T20:08:21.194Z"
   },
   {
    "duration": 79,
    "start_time": "2023-01-11T20:08:21.382Z"
   },
   {
    "duration": 20,
    "start_time": "2023-01-11T20:08:21.463Z"
   },
   {
    "duration": 159,
    "start_time": "2023-01-11T20:08:21.485Z"
   },
   {
    "duration": 32,
    "start_time": "2023-01-11T20:08:21.650Z"
   },
   {
    "duration": 70,
    "start_time": "2023-01-11T20:08:21.684Z"
   },
   {
    "duration": 17,
    "start_time": "2023-01-11T20:08:21.756Z"
   },
   {
    "duration": 15,
    "start_time": "2023-01-11T20:08:21.775Z"
   },
   {
    "duration": 219,
    "start_time": "2023-01-11T20:08:21.792Z"
   },
   {
    "duration": 7,
    "start_time": "2023-01-11T20:08:22.013Z"
   },
   {
    "duration": 143,
    "start_time": "2023-01-11T20:08:22.022Z"
   },
   {
    "duration": 37,
    "start_time": "2023-01-11T20:08:22.167Z"
   },
   {
    "duration": 33,
    "start_time": "2023-01-11T20:08:22.206Z"
   },
   {
    "duration": 191,
    "start_time": "2023-01-11T20:08:22.241Z"
   },
   {
    "duration": 164,
    "start_time": "2023-01-11T20:08:22.434Z"
   },
   {
    "duration": 20,
    "start_time": "2023-01-11T20:08:22.600Z"
   },
   {
    "duration": 11,
    "start_time": "2023-01-11T20:08:22.622Z"
   },
   {
    "duration": 491,
    "start_time": "2023-01-11T20:08:22.635Z"
   },
   {
    "duration": 29,
    "start_time": "2023-01-11T20:08:23.128Z"
   },
   {
    "duration": 3,
    "start_time": "2023-01-11T20:08:23.159Z"
   },
   {
    "duration": 123,
    "start_time": "2023-01-11T20:08:23.164Z"
   },
   {
    "duration": 823,
    "start_time": "2023-01-11T20:08:23.289Z"
   },
   {
    "duration": 25,
    "start_time": "2023-01-11T20:08:24.114Z"
   },
   {
    "duration": 21,
    "start_time": "2023-01-11T20:08:24.151Z"
   },
   {
    "duration": 9,
    "start_time": "2023-01-11T20:08:24.176Z"
   },
   {
    "duration": 71,
    "start_time": "2023-01-11T20:08:24.187Z"
   },
   {
    "duration": 6,
    "start_time": "2023-01-11T20:08:24.260Z"
   },
   {
    "duration": 23,
    "start_time": "2023-01-11T20:08:24.268Z"
   },
   {
    "duration": 44,
    "start_time": "2023-01-11T20:08:24.293Z"
   },
   {
    "duration": 148,
    "start_time": "2023-01-11T20:08:24.339Z"
   },
   {
    "duration": 5,
    "start_time": "2023-01-11T20:08:24.489Z"
   },
   {
    "duration": 18,
    "start_time": "2023-01-11T20:08:24.496Z"
   },
   {
    "duration": 29,
    "start_time": "2023-01-11T20:08:24.516Z"
   },
   {
    "duration": 19,
    "start_time": "2023-01-11T20:08:24.548Z"
   },
   {
    "duration": 18,
    "start_time": "2023-01-11T20:08:24.570Z"
   },
   {
    "duration": 35,
    "start_time": "2023-01-11T20:08:24.590Z"
   },
   {
    "duration": 2598,
    "start_time": "2023-01-11T20:09:22.632Z"
   },
   {
    "duration": 1710,
    "start_time": "2023-01-11T20:09:25.233Z"
   },
   {
    "duration": 3213,
    "start_time": "2023-01-11T20:09:26.946Z"
   },
   {
    "duration": 23,
    "start_time": "2023-01-11T20:09:30.161Z"
   },
   {
    "duration": 229,
    "start_time": "2023-01-11T20:09:30.186Z"
   },
   {
    "duration": 147,
    "start_time": "2023-01-11T20:09:30.417Z"
   },
   {
    "duration": 1095,
    "start_time": "2023-01-11T20:09:30.566Z"
   },
   {
    "duration": 375,
    "start_time": "2023-01-11T20:09:31.663Z"
   },
   {
    "duration": 46,
    "start_time": "2023-01-11T20:09:32.041Z"
   },
   {
    "duration": 63,
    "start_time": "2023-01-11T20:09:32.091Z"
   },
   {
    "duration": 148,
    "start_time": "2023-01-11T20:09:32.156Z"
   },
   {
    "duration": 62,
    "start_time": "2023-01-11T20:09:32.306Z"
   },
   {
    "duration": 135,
    "start_time": "2023-01-11T20:09:32.370Z"
   },
   {
    "duration": 36,
    "start_time": "2023-01-11T20:09:32.506Z"
   },
   {
    "duration": 35,
    "start_time": "2023-01-11T20:09:32.552Z"
   },
   {
    "duration": 74,
    "start_time": "2023-01-11T20:09:32.589Z"
   },
   {
    "duration": 75,
    "start_time": "2023-01-11T20:09:32.665Z"
   },
   {
    "duration": 37,
    "start_time": "2023-01-11T20:09:32.742Z"
   },
   {
    "duration": 73,
    "start_time": "2023-01-11T20:09:32.782Z"
   },
   {
    "duration": 43,
    "start_time": "2023-01-11T20:09:32.857Z"
   },
   {
    "duration": 20,
    "start_time": "2023-01-11T20:09:32.902Z"
   },
   {
    "duration": 48,
    "start_time": "2023-01-11T20:09:32.950Z"
   },
   {
    "duration": 59,
    "start_time": "2023-01-11T20:09:33.000Z"
   },
   {
    "duration": 25,
    "start_time": "2023-01-11T20:09:33.061Z"
   },
   {
    "duration": 38,
    "start_time": "2023-01-11T20:09:33.088Z"
   },
   {
    "duration": 77,
    "start_time": "2023-01-11T20:09:33.127Z"
   },
   {
    "duration": 24,
    "start_time": "2023-01-11T20:09:33.205Z"
   },
   {
    "duration": 50,
    "start_time": "2023-01-11T20:09:33.234Z"
   },
   {
    "duration": 175,
    "start_time": "2023-01-11T20:09:33.285Z"
   },
   {
    "duration": 18,
    "start_time": "2023-01-11T20:09:33.462Z"
   },
   {
    "duration": 140,
    "start_time": "2023-01-11T20:09:33.482Z"
   },
   {
    "duration": 70,
    "start_time": "2023-01-11T20:09:33.624Z"
   },
   {
    "duration": 21,
    "start_time": "2023-01-11T20:09:33.695Z"
   },
   {
    "duration": 166,
    "start_time": "2023-01-11T20:09:33.718Z"
   },
   {
    "duration": 32,
    "start_time": "2023-01-11T20:09:33.885Z"
   },
   {
    "duration": 74,
    "start_time": "2023-01-11T20:09:33.919Z"
   },
   {
    "duration": 17,
    "start_time": "2023-01-11T20:09:33.994Z"
   },
   {
    "duration": 16,
    "start_time": "2023-01-11T20:09:34.012Z"
   },
   {
    "duration": 224,
    "start_time": "2023-01-11T20:09:34.029Z"
   },
   {
    "duration": 8,
    "start_time": "2023-01-11T20:09:34.255Z"
   },
   {
    "duration": 151,
    "start_time": "2023-01-11T20:09:34.265Z"
   },
   {
    "duration": 33,
    "start_time": "2023-01-11T20:09:34.418Z"
   },
   {
    "duration": 7,
    "start_time": "2023-01-11T20:09:34.453Z"
   },
   {
    "duration": 163,
    "start_time": "2023-01-11T20:09:34.462Z"
   },
   {
    "duration": 160,
    "start_time": "2023-01-11T20:09:34.627Z"
   },
   {
    "duration": 18,
    "start_time": "2023-01-11T20:09:34.788Z"
   },
   {
    "duration": 9,
    "start_time": "2023-01-11T20:09:34.808Z"
   },
   {
    "duration": 418,
    "start_time": "2023-01-11T20:09:34.819Z"
   },
   {
    "duration": 35,
    "start_time": "2023-01-11T20:09:35.239Z"
   },
   {
    "duration": 4,
    "start_time": "2023-01-11T20:09:35.276Z"
   },
   {
    "duration": 115,
    "start_time": "2023-01-11T20:09:35.281Z"
   },
   {
    "duration": 805,
    "start_time": "2023-01-11T20:09:35.398Z"
   },
   {
    "duration": 26,
    "start_time": "2023-01-11T20:09:36.206Z"
   },
   {
    "duration": 23,
    "start_time": "2023-01-11T20:09:36.234Z"
   },
   {
    "duration": 8,
    "start_time": "2023-01-11T20:09:36.259Z"
   },
   {
    "duration": 44,
    "start_time": "2023-01-11T20:09:36.269Z"
   },
   {
    "duration": 4,
    "start_time": "2023-01-11T20:09:36.316Z"
   },
   {
    "duration": 5,
    "start_time": "2023-01-11T20:09:36.322Z"
   },
   {
    "duration": 22,
    "start_time": "2023-01-11T20:09:36.350Z"
   },
   {
    "duration": 132,
    "start_time": "2023-01-11T20:09:36.374Z"
   },
   {
    "duration": 5,
    "start_time": "2023-01-11T20:09:36.509Z"
   },
   {
    "duration": 6,
    "start_time": "2023-01-11T20:09:36.515Z"
   },
   {
    "duration": 8,
    "start_time": "2023-01-11T20:09:36.523Z"
   },
   {
    "duration": 21,
    "start_time": "2023-01-11T20:09:36.533Z"
   },
   {
    "duration": 5,
    "start_time": "2023-01-11T20:09:36.556Z"
   },
   {
    "duration": 8,
    "start_time": "2023-01-11T20:09:36.562Z"
   },
   {
    "duration": 151,
    "start_time": "2023-01-11T20:09:59.525Z"
   },
   {
    "duration": 10,
    "start_time": "2023-01-11T20:10:11.980Z"
   },
   {
    "duration": 5,
    "start_time": "2023-01-11T20:10:26.742Z"
   },
   {
    "duration": 15,
    "start_time": "2023-01-11T20:10:29.813Z"
   },
   {
    "duration": 11,
    "start_time": "2023-01-11T20:10:36.486Z"
   },
   {
    "duration": 12,
    "start_time": "2023-01-11T20:10:55.443Z"
   },
   {
    "duration": 2626,
    "start_time": "2023-01-11T20:11:01.452Z"
   },
   {
    "duration": 5,
    "start_time": "2023-01-11T20:11:04.081Z"
   },
   {
    "duration": 1063,
    "start_time": "2023-01-11T20:11:04.089Z"
   },
   {
    "duration": 22,
    "start_time": "2023-01-11T20:11:05.155Z"
   },
   {
    "duration": 239,
    "start_time": "2023-01-11T20:11:05.180Z"
   },
   {
    "duration": 151,
    "start_time": "2023-01-11T20:11:05.422Z"
   },
   {
    "duration": 1051,
    "start_time": "2023-01-11T20:11:05.575Z"
   },
   {
    "duration": 298,
    "start_time": "2023-01-11T20:11:06.628Z"
   },
   {
    "duration": 46,
    "start_time": "2023-01-11T20:11:06.928Z"
   },
   {
    "duration": 88,
    "start_time": "2023-01-11T20:11:06.979Z"
   },
   {
    "duration": 212,
    "start_time": "2023-01-11T20:11:07.069Z"
   },
   {
    "duration": 73,
    "start_time": "2023-01-11T20:11:07.283Z"
   },
   {
    "duration": 142,
    "start_time": "2023-01-11T20:11:07.359Z"
   },
   {
    "duration": 50,
    "start_time": "2023-01-11T20:11:07.504Z"
   },
   {
    "duration": 38,
    "start_time": "2023-01-11T20:11:07.557Z"
   },
   {
    "duration": 57,
    "start_time": "2023-01-11T20:11:07.597Z"
   },
   {
    "duration": 76,
    "start_time": "2023-01-11T20:11:07.656Z"
   },
   {
    "duration": 42,
    "start_time": "2023-01-11T20:11:07.735Z"
   },
   {
    "duration": 41,
    "start_time": "2023-01-11T20:11:07.783Z"
   },
   {
    "duration": 87,
    "start_time": "2023-01-11T20:11:07.826Z"
   },
   {
    "duration": 36,
    "start_time": "2023-01-11T20:11:07.915Z"
   },
   {
    "duration": 68,
    "start_time": "2023-01-11T20:11:07.953Z"
   },
   {
    "duration": 96,
    "start_time": "2023-01-11T20:11:08.023Z"
   },
   {
    "duration": 43,
    "start_time": "2023-01-11T20:11:08.121Z"
   },
   {
    "duration": 59,
    "start_time": "2023-01-11T20:11:08.166Z"
   },
   {
    "duration": 89,
    "start_time": "2023-01-11T20:11:08.227Z"
   },
   {
    "duration": 41,
    "start_time": "2023-01-11T20:11:08.318Z"
   },
   {
    "duration": 60,
    "start_time": "2023-01-11T20:11:08.364Z"
   },
   {
    "duration": 183,
    "start_time": "2023-01-11T20:11:08.427Z"
   },
   {
    "duration": 21,
    "start_time": "2023-01-11T20:11:08.613Z"
   },
   {
    "duration": 167,
    "start_time": "2023-01-11T20:11:08.636Z"
   },
   {
    "duration": 79,
    "start_time": "2023-01-11T20:11:08.805Z"
   },
   {
    "duration": 24,
    "start_time": "2023-01-11T20:11:08.887Z"
   },
   {
    "duration": 259,
    "start_time": "2023-01-11T20:11:08.914Z"
   },
   {
    "duration": 50,
    "start_time": "2023-01-11T20:11:09.178Z"
   },
   {
    "duration": 65,
    "start_time": "2023-01-11T20:11:09.232Z"
   },
   {
    "duration": 27,
    "start_time": "2023-01-11T20:11:09.299Z"
   },
   {
    "duration": 37,
    "start_time": "2023-01-11T20:11:09.328Z"
   },
   {
    "duration": 290,
    "start_time": "2023-01-11T20:11:09.367Z"
   },
   {
    "duration": 9,
    "start_time": "2023-01-11T20:11:09.660Z"
   },
   {
    "duration": 182,
    "start_time": "2023-01-11T20:11:09.671Z"
   },
   {
    "duration": 31,
    "start_time": "2023-01-11T20:11:09.857Z"
   },
   {
    "duration": 4,
    "start_time": "2023-01-11T20:11:09.890Z"
   },
   {
    "duration": 194,
    "start_time": "2023-01-11T20:11:09.896Z"
   },
   {
    "duration": 188,
    "start_time": "2023-01-11T20:11:10.091Z"
   },
   {
    "duration": 22,
    "start_time": "2023-01-11T20:11:10.282Z"
   },
   {
    "duration": 6,
    "start_time": "2023-01-11T20:11:10.305Z"
   },
   {
    "duration": 502,
    "start_time": "2023-01-11T20:11:10.312Z"
   },
   {
    "duration": 44,
    "start_time": "2023-01-11T20:11:10.817Z"
   },
   {
    "duration": 4,
    "start_time": "2023-01-11T20:11:10.864Z"
   },
   {
    "duration": 133,
    "start_time": "2023-01-11T20:11:10.870Z"
   },
   {
    "duration": 1058,
    "start_time": "2023-01-11T20:11:11.005Z"
   },
   {
    "duration": 39,
    "start_time": "2023-01-11T20:11:12.065Z"
   },
   {
    "duration": 24,
    "start_time": "2023-01-11T20:11:12.107Z"
   },
   {
    "duration": 13,
    "start_time": "2023-01-11T20:11:12.152Z"
   },
   {
    "duration": 80,
    "start_time": "2023-01-11T20:11:12.168Z"
   },
   {
    "duration": 17,
    "start_time": "2023-01-11T20:11:12.250Z"
   },
   {
    "duration": 13,
    "start_time": "2023-01-11T20:11:12.270Z"
   },
   {
    "duration": 30,
    "start_time": "2023-01-11T20:11:12.288Z"
   },
   {
    "duration": 175,
    "start_time": "2023-01-11T20:11:12.321Z"
   },
   {
    "duration": 173,
    "start_time": "2023-01-11T20:11:12.499Z"
   },
   {
    "duration": 8,
    "start_time": "2023-01-11T20:11:12.674Z"
   },
   {
    "duration": 5,
    "start_time": "2023-01-11T20:11:20.771Z"
   },
   {
    "duration": 4,
    "start_time": "2023-01-11T20:11:21.640Z"
   },
   {
    "duration": 3,
    "start_time": "2023-01-11T20:11:23.112Z"
   },
   {
    "duration": 5,
    "start_time": "2023-01-11T20:11:24.318Z"
   },
   {
    "duration": 3,
    "start_time": "2023-01-11T20:11:24.865Z"
   },
   {
    "duration": 3,
    "start_time": "2023-01-11T20:11:36.194Z"
   },
   {
    "duration": 2834,
    "start_time": "2023-01-12T11:31:11.186Z"
   },
   {
    "duration": 1518,
    "start_time": "2023-01-12T11:31:14.022Z"
   },
   {
    "duration": 990,
    "start_time": "2023-01-12T11:31:15.542Z"
   },
   {
    "duration": 17,
    "start_time": "2023-01-12T11:31:16.535Z"
   },
   {
    "duration": 117,
    "start_time": "2023-01-12T11:31:16.554Z"
   },
   {
    "duration": 109,
    "start_time": "2023-01-12T11:31:16.673Z"
   },
   {
    "duration": 872,
    "start_time": "2023-01-12T11:31:16.784Z"
   },
   {
    "duration": 251,
    "start_time": "2023-01-12T11:31:17.658Z"
   },
   {
    "duration": 35,
    "start_time": "2023-01-12T11:31:17.910Z"
   },
   {
    "duration": 52,
    "start_time": "2023-01-12T11:31:17.948Z"
   },
   {
    "duration": 118,
    "start_time": "2023-01-12T11:31:18.001Z"
   },
   {
    "duration": 44,
    "start_time": "2023-01-12T11:31:18.121Z"
   },
   {
    "duration": 130,
    "start_time": "2023-01-12T11:31:18.167Z"
   },
   {
    "duration": 33,
    "start_time": "2023-01-12T11:31:18.299Z"
   },
   {
    "duration": 30,
    "start_time": "2023-01-12T11:31:18.334Z"
   },
   {
    "duration": 38,
    "start_time": "2023-01-12T11:31:18.366Z"
   },
   {
    "duration": 49,
    "start_time": "2023-01-12T11:31:18.406Z"
   },
   {
    "duration": 18,
    "start_time": "2023-01-12T11:31:18.457Z"
   },
   {
    "duration": 32,
    "start_time": "2023-01-12T11:31:18.476Z"
   },
   {
    "duration": 50,
    "start_time": "2023-01-12T11:31:18.509Z"
   },
   {
    "duration": 15,
    "start_time": "2023-01-12T11:31:18.560Z"
   },
   {
    "duration": 30,
    "start_time": "2023-01-12T11:31:18.576Z"
   },
   {
    "duration": 49,
    "start_time": "2023-01-12T11:31:18.608Z"
   },
   {
    "duration": 16,
    "start_time": "2023-01-12T11:31:18.658Z"
   },
   {
    "duration": 41,
    "start_time": "2023-01-12T11:31:18.675Z"
   },
   {
    "duration": 47,
    "start_time": "2023-01-12T11:31:18.718Z"
   },
   {
    "duration": 17,
    "start_time": "2023-01-12T11:31:18.767Z"
   },
   {
    "duration": 25,
    "start_time": "2023-01-12T11:31:18.787Z"
   },
   {
    "duration": 103,
    "start_time": "2023-01-12T11:31:18.827Z"
   },
   {
    "duration": 15,
    "start_time": "2023-01-12T11:31:18.932Z"
   },
   {
    "duration": 145,
    "start_time": "2023-01-12T11:31:18.949Z"
   },
   {
    "duration": 65,
    "start_time": "2023-01-12T11:31:19.097Z"
   },
   {
    "duration": 23,
    "start_time": "2023-01-12T11:31:19.164Z"
   },
   {
    "duration": 175,
    "start_time": "2023-01-12T11:31:19.189Z"
   },
   {
    "duration": 37,
    "start_time": "2023-01-12T11:31:19.366Z"
   },
   {
    "duration": 64,
    "start_time": "2023-01-12T11:31:19.405Z"
   },
   {
    "duration": 16,
    "start_time": "2023-01-12T11:31:19.471Z"
   },
   {
    "duration": 13,
    "start_time": "2023-01-12T11:31:19.488Z"
   },
   {
    "duration": 195,
    "start_time": "2023-01-12T11:31:19.503Z"
   },
   {
    "duration": 7,
    "start_time": "2023-01-12T11:31:19.700Z"
   },
   {
    "duration": 101,
    "start_time": "2023-01-12T11:31:19.709Z"
   },
   {
    "duration": 41,
    "start_time": "2023-01-12T11:31:19.812Z"
   },
   {
    "duration": 6,
    "start_time": "2023-01-12T11:31:19.855Z"
   },
   {
    "duration": 133,
    "start_time": "2023-01-12T11:31:19.862Z"
   },
   {
    "duration": 155,
    "start_time": "2023-01-12T11:31:19.997Z"
   },
   {
    "duration": 28,
    "start_time": "2023-01-12T11:31:20.153Z"
   },
   {
    "duration": 5,
    "start_time": "2023-01-12T11:31:20.183Z"
   },
   {
    "duration": 467,
    "start_time": "2023-01-12T11:31:20.189Z"
   },
   {
    "duration": 20,
    "start_time": "2023-01-12T11:31:20.657Z"
   },
   {
    "duration": 5,
    "start_time": "2023-01-12T11:31:20.678Z"
   },
   {
    "duration": 129,
    "start_time": "2023-01-12T11:31:20.685Z"
   },
   {
    "duration": 833,
    "start_time": "2023-01-12T11:31:20.816Z"
   },
   {
    "duration": 28,
    "start_time": "2023-01-12T11:31:21.651Z"
   },
   {
    "duration": 14,
    "start_time": "2023-01-12T11:31:21.680Z"
   },
   {
    "duration": 7,
    "start_time": "2023-01-12T11:31:21.696Z"
   },
   {
    "duration": 34,
    "start_time": "2023-01-12T11:31:21.726Z"
   },
   {
    "duration": 3,
    "start_time": "2023-01-12T11:31:21.761Z"
   },
   {
    "duration": 6,
    "start_time": "2023-01-12T11:31:21.765Z"
   },
   {
    "duration": 17,
    "start_time": "2023-01-12T11:31:21.772Z"
   },
   {
    "duration": 159,
    "start_time": "2023-01-12T11:31:21.791Z"
   },
   {
    "duration": 5,
    "start_time": "2023-01-12T11:31:21.952Z"
   },
   {
    "duration": 7,
    "start_time": "2023-01-12T11:31:21.958Z"
   },
   {
    "duration": 4,
    "start_time": "2023-01-12T11:32:05.339Z"
   },
   {
    "duration": 2,
    "start_time": "2023-01-12T11:33:18.528Z"
   },
   {
    "duration": 121,
    "start_time": "2023-01-12T11:33:24.510Z"
   },
   {
    "duration": 16,
    "start_time": "2023-01-12T11:34:32.178Z"
   },
   {
    "duration": 4,
    "start_time": "2023-01-12T11:35:31.757Z"
   },
   {
    "duration": 4,
    "start_time": "2023-01-12T11:37:26.992Z"
   },
   {
    "duration": 4,
    "start_time": "2023-01-12T11:38:12.704Z"
   },
   {
    "duration": 4,
    "start_time": "2023-01-12T11:38:17.966Z"
   },
   {
    "duration": 3,
    "start_time": "2023-01-12T11:40:07.286Z"
   },
   {
    "duration": 3,
    "start_time": "2023-01-12T11:40:43.659Z"
   },
   {
    "duration": 2,
    "start_time": "2023-01-12T11:40:51.340Z"
   },
   {
    "duration": 47297,
    "start_time": "2023-01-12T11:41:34.613Z"
   },
   {
    "duration": 2241,
    "start_time": "2023-01-12T11:45:10.238Z"
   },
   {
    "duration": 4,
    "start_time": "2023-01-12T11:45:35.689Z"
   },
   {
    "duration": 5,
    "start_time": "2023-01-12T11:45:40.347Z"
   },
   {
    "duration": 3,
    "start_time": "2023-01-12T11:46:44.540Z"
   },
   {
    "duration": 165028,
    "start_time": "2023-01-12T11:47:01.360Z"
   },
   {
    "duration": 30,
    "start_time": "2023-01-12T11:50:57.496Z"
   },
   {
    "duration": 32,
    "start_time": "2023-01-12T11:52:42.191Z"
   },
   {
    "duration": 22,
    "start_time": "2023-01-12T11:52:58.729Z"
   },
   {
    "duration": 2734,
    "start_time": "2023-01-12T11:53:14.260Z"
   },
   {
    "duration": 2107,
    "start_time": "2023-01-12T11:53:56.678Z"
   },
   {
    "duration": 2142,
    "start_time": "2023-01-12T11:55:28.690Z"
   },
   {
    "duration": 1658,
    "start_time": "2023-01-12T11:57:04.138Z"
   },
   {
    "duration": 5,
    "start_time": "2023-01-12T11:58:23.239Z"
   },
   {
    "duration": 4,
    "start_time": "2023-01-12T11:58:23.523Z"
   },
   {
    "duration": 5,
    "start_time": "2023-01-12T11:58:24.282Z"
   },
   {
    "duration": 3,
    "start_time": "2023-01-12T11:58:42.200Z"
   },
   {
    "duration": 291279,
    "start_time": "2023-01-12T11:58:42.671Z"
   },
   {
    "duration": 5,
    "start_time": "2023-01-12T12:03:33.953Z"
   },
   {
    "duration": 19,
    "start_time": "2023-01-12T12:04:05.465Z"
   },
   {
    "duration": 1903,
    "start_time": "2023-01-12T12:04:06.081Z"
   },
   {
    "duration": 1918,
    "start_time": "2023-01-12T12:04:38.971Z"
   },
   {
    "duration": 1912,
    "start_time": "2023-01-12T12:05:18.691Z"
   },
   {
    "duration": 3156,
    "start_time": "2023-01-13T10:51:45.239Z"
   },
   {
    "duration": 1670,
    "start_time": "2023-01-13T10:51:48.397Z"
   },
   {
    "duration": 3149,
    "start_time": "2023-01-13T10:51:50.069Z"
   },
   {
    "duration": 17,
    "start_time": "2023-01-13T10:51:53.220Z"
   },
   {
    "duration": 177,
    "start_time": "2023-01-13T10:51:53.238Z"
   },
   {
    "duration": 148,
    "start_time": "2023-01-13T10:51:53.417Z"
   },
   {
    "duration": 1114,
    "start_time": "2023-01-13T10:51:53.566Z"
   },
   {
    "duration": 252,
    "start_time": "2023-01-13T10:51:54.682Z"
   },
   {
    "duration": 29,
    "start_time": "2023-01-13T10:51:54.935Z"
   },
   {
    "duration": 55,
    "start_time": "2023-01-13T10:51:54.977Z"
   },
   {
    "duration": 151,
    "start_time": "2023-01-13T10:51:55.034Z"
   },
   {
    "duration": 62,
    "start_time": "2023-01-13T10:51:55.186Z"
   },
   {
    "duration": 117,
    "start_time": "2023-01-13T10:51:55.250Z"
   },
   {
    "duration": 41,
    "start_time": "2023-01-13T10:51:55.368Z"
   },
   {
    "duration": 32,
    "start_time": "2023-01-13T10:51:55.411Z"
   },
   {
    "duration": 48,
    "start_time": "2023-01-13T10:51:55.445Z"
   },
   {
    "duration": 45,
    "start_time": "2023-01-13T10:51:55.495Z"
   },
   {
    "duration": 38,
    "start_time": "2023-01-13T10:51:55.542Z"
   },
   {
    "duration": 45,
    "start_time": "2023-01-13T10:51:55.582Z"
   },
   {
    "duration": 59,
    "start_time": "2023-01-13T10:51:55.629Z"
   },
   {
    "duration": 31,
    "start_time": "2023-01-13T10:51:55.691Z"
   },
   {
    "duration": 54,
    "start_time": "2023-01-13T10:51:55.725Z"
   },
   {
    "duration": 44,
    "start_time": "2023-01-13T10:51:55.780Z"
   },
   {
    "duration": 20,
    "start_time": "2023-01-13T10:51:55.826Z"
   },
   {
    "duration": 55,
    "start_time": "2023-01-13T10:51:55.847Z"
   },
   {
    "duration": 76,
    "start_time": "2023-01-13T10:51:55.904Z"
   },
   {
    "duration": 32,
    "start_time": "2023-01-13T10:51:55.982Z"
   },
   {
    "duration": 32,
    "start_time": "2023-01-13T10:51:56.018Z"
   },
   {
    "duration": 143,
    "start_time": "2023-01-13T10:51:56.051Z"
   },
   {
    "duration": 17,
    "start_time": "2023-01-13T10:51:56.195Z"
   },
   {
    "duration": 128,
    "start_time": "2023-01-13T10:51:56.213Z"
   },
   {
    "duration": 65,
    "start_time": "2023-01-13T10:51:56.343Z"
   },
   {
    "duration": 17,
    "start_time": "2023-01-13T10:51:56.410Z"
   },
   {
    "duration": 140,
    "start_time": "2023-01-13T10:51:56.428Z"
   },
   {
    "duration": 35,
    "start_time": "2023-01-13T10:51:56.570Z"
   },
   {
    "duration": 50,
    "start_time": "2023-01-13T10:51:56.606Z"
   },
   {
    "duration": 34,
    "start_time": "2023-01-13T10:51:56.658Z"
   },
   {
    "duration": 14,
    "start_time": "2023-01-13T10:51:56.693Z"
   },
   {
    "duration": 206,
    "start_time": "2023-01-13T10:51:56.709Z"
   },
   {
    "duration": 8,
    "start_time": "2023-01-13T10:51:56.916Z"
   },
   {
    "duration": 154,
    "start_time": "2023-01-13T10:51:56.925Z"
   },
   {
    "duration": 27,
    "start_time": "2023-01-13T10:51:57.081Z"
   },
   {
    "duration": 9,
    "start_time": "2023-01-13T10:51:57.110Z"
   },
   {
    "duration": 146,
    "start_time": "2023-01-13T10:51:57.121Z"
   },
   {
    "duration": 159,
    "start_time": "2023-01-13T10:51:57.269Z"
   },
   {
    "duration": 25,
    "start_time": "2023-01-13T10:51:57.429Z"
   },
   {
    "duration": 22,
    "start_time": "2023-01-13T10:51:57.456Z"
   },
   {
    "duration": 449,
    "start_time": "2023-01-13T10:51:57.480Z"
   },
   {
    "duration": 20,
    "start_time": "2023-01-13T10:51:57.930Z"
   },
   {
    "duration": 3,
    "start_time": "2023-01-13T10:51:57.952Z"
   },
   {
    "duration": 119,
    "start_time": "2023-01-13T10:51:57.981Z"
   },
   {
    "duration": 710,
    "start_time": "2023-01-13T10:51:58.101Z"
   },
   {
    "duration": 23,
    "start_time": "2023-01-13T10:51:58.812Z"
   },
   {
    "duration": 13,
    "start_time": "2023-01-13T10:51:58.837Z"
   },
   {
    "duration": 26,
    "start_time": "2023-01-13T10:51:58.852Z"
   },
   {
    "duration": 40,
    "start_time": "2023-01-13T10:51:58.879Z"
   },
   {
    "duration": 4,
    "start_time": "2023-01-13T10:51:58.921Z"
   },
   {
    "duration": 13,
    "start_time": "2023-01-13T10:51:58.927Z"
   },
   {
    "duration": 36,
    "start_time": "2023-01-13T10:51:58.942Z"
   },
   {
    "duration": 134,
    "start_time": "2023-01-13T10:51:58.980Z"
   },
   {
    "duration": 5,
    "start_time": "2023-01-13T10:51:59.116Z"
   },
   {
    "duration": 23,
    "start_time": "2023-01-13T10:51:59.123Z"
   },
   {
    "duration": 19,
    "start_time": "2023-01-13T10:51:59.148Z"
   },
   {
    "duration": 23,
    "start_time": "2023-01-13T10:51:59.169Z"
   },
   {
    "duration": 18,
    "start_time": "2023-01-13T10:51:59.194Z"
   },
   {
    "duration": 21,
    "start_time": "2023-01-13T10:51:59.214Z"
   },
   {
    "duration": 147,
    "start_time": "2023-01-13T10:51:59.237Z"
   },
   {
    "duration": 95,
    "start_time": "2023-01-13T10:51:59.390Z"
   },
   {
    "duration": 105,
    "start_time": "2023-01-13T10:51:59.491Z"
   },
   {
    "duration": 83,
    "start_time": "2023-01-13T10:51:59.600Z"
   },
   {
    "duration": 9,
    "start_time": "2023-01-13T10:51:59.685Z"
   },
   {
    "duration": 11,
    "start_time": "2023-01-13T10:51:59.695Z"
   },
   {
    "duration": 8,
    "start_time": "2023-01-13T10:51:59.708Z"
   },
   {
    "duration": 317469,
    "start_time": "2023-01-13T10:51:59.717Z"
   },
   {
    "duration": 7,
    "start_time": "2023-01-13T10:57:17.188Z"
   },
   {
    "duration": 42,
    "start_time": "2023-01-13T10:57:17.197Z"
   },
   {
    "duration": 2963,
    "start_time": "2023-01-13T10:57:56.695Z"
   },
   {
    "duration": 4,
    "start_time": "2023-01-13T11:00:31.089Z"
   },
   {
    "duration": 250,
    "start_time": "2023-01-13T11:00:43.947Z"
   },
   {
    "duration": 1290250,
    "start_time": "2023-01-13T11:00:59.475Z"
   },
   {
    "duration": 5,
    "start_time": "2023-01-13T11:22:29.764Z"
   },
   {
    "duration": 38,
    "start_time": "2023-01-13T11:22:29.770Z"
   },
   {
    "duration": 3,
    "start_time": "2023-01-13T11:22:50.868Z"
   },
   {
    "duration": 2,
    "start_time": "2023-01-13T11:24:36.648Z"
   },
   {
    "duration": 7206,
    "start_time": "2023-01-13T11:24:46.912Z"
   },
   {
    "duration": 374,
    "start_time": "2023-01-13T11:24:58.338Z"
   },
   {
    "duration": 4,
    "start_time": "2023-01-13T11:24:58.916Z"
   },
   {
    "duration": 7,
    "start_time": "2023-01-13T11:24:59.377Z"
   },
   {
    "duration": 3,
    "start_time": "2023-01-13T11:25:24.508Z"
   },
   {
    "duration": 7119,
    "start_time": "2023-01-13T11:25:26.012Z"
   },
   {
    "duration": 377,
    "start_time": "2023-01-13T11:25:35.458Z"
   },
   {
    "duration": 8,
    "start_time": "2023-01-13T11:25:36.576Z"
   },
   {
    "duration": 5,
    "start_time": "2023-01-13T11:25:37.178Z"
   },
   {
    "duration": 4,
    "start_time": "2023-01-13T11:25:43.028Z"
   },
   {
    "duration": 3,
    "start_time": "2023-01-13T11:25:48.674Z"
   },
   {
    "duration": 5567,
    "start_time": "2023-01-13T11:25:49.918Z"
   },
   {
    "duration": 248,
    "start_time": "2023-01-13T11:25:55.491Z"
   },
   {
    "duration": 4,
    "start_time": "2023-01-13T11:25:55.741Z"
   },
   {
    "duration": 10,
    "start_time": "2023-01-13T11:25:55.747Z"
   },
   {
    "duration": 6,
    "start_time": "2023-01-13T11:26:29.027Z"
   },
   {
    "duration": 6757,
    "start_time": "2023-01-13T11:26:29.546Z"
   },
   {
    "duration": 334,
    "start_time": "2023-01-13T11:26:36.304Z"
   },
   {
    "duration": 3,
    "start_time": "2023-01-13T11:26:36.640Z"
   },
   {
    "duration": 19,
    "start_time": "2023-01-13T11:26:36.645Z"
   },
   {
    "duration": 3,
    "start_time": "2023-01-13T11:26:52.617Z"
   },
   {
    "duration": 6631,
    "start_time": "2023-01-13T11:26:53.106Z"
   },
   {
    "duration": 328,
    "start_time": "2023-01-13T11:26:59.739Z"
   },
   {
    "duration": 16,
    "start_time": "2023-01-13T11:27:00.068Z"
   },
   {
    "duration": 34,
    "start_time": "2023-01-13T11:27:00.086Z"
   },
   {
    "duration": 2,
    "start_time": "2023-01-13T11:27:07.137Z"
   },
   {
    "duration": 6883,
    "start_time": "2023-01-13T11:27:07.444Z"
   },
   {
    "duration": 365,
    "start_time": "2023-01-13T11:27:14.328Z"
   },
   {
    "duration": 4,
    "start_time": "2023-01-13T11:27:14.694Z"
   },
   {
    "duration": 14,
    "start_time": "2023-01-13T11:27:14.699Z"
   },
   {
    "duration": 7,
    "start_time": "2023-01-13T11:27:19.978Z"
   },
   {
    "duration": 7740,
    "start_time": "2023-01-13T11:27:20.745Z"
   },
   {
    "duration": 441,
    "start_time": "2023-01-13T11:27:28.487Z"
   },
   {
    "duration": 4,
    "start_time": "2023-01-13T11:27:28.930Z"
   },
   {
    "duration": 22,
    "start_time": "2023-01-13T11:27:28.935Z"
   },
   {
    "duration": 7098,
    "start_time": "2023-01-13T11:28:25.937Z"
   },
   {
    "duration": 425,
    "start_time": "2023-01-13T11:28:33.038Z"
   },
   {
    "duration": 13,
    "start_time": "2023-01-13T11:28:33.465Z"
   },
   {
    "duration": 3,
    "start_time": "2023-01-13T11:28:33.517Z"
   },
   {
    "duration": 3,
    "start_time": "2023-01-13T11:28:44.230Z"
   },
   {
    "duration": 48774,
    "start_time": "2023-01-13T11:28:45.030Z"
   },
   {
    "duration": 2184,
    "start_time": "2023-01-13T11:29:33.805Z"
   },
   {
    "duration": 4,
    "start_time": "2023-01-13T11:29:35.990Z"
   },
   {
    "duration": 7,
    "start_time": "2023-01-13T11:29:35.996Z"
   },
   {
    "duration": 3,
    "start_time": "2023-01-13T11:30:04.298Z"
   },
   {
    "duration": 28219,
    "start_time": "2023-01-13T11:30:25.785Z"
   },
   {
    "duration": 51,
    "start_time": "2023-01-13T11:32:23.109Z"
   },
   {
    "duration": 4,
    "start_time": "2023-01-13T11:32:36.772Z"
   },
   {
    "duration": 4,
    "start_time": "2023-01-13T11:32:41.001Z"
   },
   {
    "duration": 15,
    "start_time": "2023-01-13T11:32:50.880Z"
   },
   {
    "duration": 50,
    "start_time": "2023-01-13T11:33:00.501Z"
   },
   {
    "duration": 14,
    "start_time": "2023-01-13T11:33:01.429Z"
   },
   {
    "duration": 3,
    "start_time": "2023-01-13T11:33:16.383Z"
   },
   {
    "duration": 4,
    "start_time": "2023-01-13T11:33:17.770Z"
   },
   {
    "duration": 651,
    "start_time": "2023-01-15T10:29:24.794Z"
   },
   {
    "duration": 2,
    "start_time": "2023-01-15T10:31:44.127Z"
   },
   {
    "duration": 10,
    "start_time": "2023-01-15T10:32:02.904Z"
   },
   {
    "duration": 3458,
    "start_time": "2023-01-15T10:32:09.630Z"
   },
   {
    "duration": 29,
    "start_time": "2023-01-15T10:32:13.090Z"
   },
   {
    "duration": 1302,
    "start_time": "2023-01-15T10:32:13.121Z"
   },
   {
    "duration": 28,
    "start_time": "2023-01-15T10:32:14.425Z"
   },
   {
    "duration": 158,
    "start_time": "2023-01-15T10:32:14.455Z"
   },
   {
    "duration": 136,
    "start_time": "2023-01-15T10:32:14.614Z"
   },
   {
    "duration": 1107,
    "start_time": "2023-01-15T10:32:14.752Z"
   },
   {
    "duration": 277,
    "start_time": "2023-01-15T10:32:15.861Z"
   },
   {
    "duration": 71,
    "start_time": "2023-01-15T10:32:16.141Z"
   },
   {
    "duration": 56,
    "start_time": "2023-01-15T10:32:16.214Z"
   },
   {
    "duration": 160,
    "start_time": "2023-01-15T10:32:16.272Z"
   },
   {
    "duration": 71,
    "start_time": "2023-01-15T10:32:16.433Z"
   },
   {
    "duration": 146,
    "start_time": "2023-01-15T10:32:16.506Z"
   },
   {
    "duration": 52,
    "start_time": "2023-01-15T10:32:16.654Z"
   },
   {
    "duration": 21,
    "start_time": "2023-01-15T10:32:16.708Z"
   },
   {
    "duration": 54,
    "start_time": "2023-01-15T10:32:16.730Z"
   },
   {
    "duration": 71,
    "start_time": "2023-01-15T10:32:16.790Z"
   },
   {
    "duration": 27,
    "start_time": "2023-01-15T10:32:16.862Z"
   },
   {
    "duration": 39,
    "start_time": "2023-01-15T10:32:16.896Z"
   },
   {
    "duration": 62,
    "start_time": "2023-01-15T10:32:16.936Z"
   },
   {
    "duration": 23,
    "start_time": "2023-01-15T10:32:17.001Z"
   },
   {
    "duration": 35,
    "start_time": "2023-01-15T10:32:17.025Z"
   },
   {
    "duration": 64,
    "start_time": "2023-01-15T10:32:17.080Z"
   },
   {
    "duration": 19,
    "start_time": "2023-01-15T10:32:17.145Z"
   },
   {
    "duration": 58,
    "start_time": "2023-01-15T10:32:17.165Z"
   },
   {
    "duration": 78,
    "start_time": "2023-01-15T10:32:17.225Z"
   },
   {
    "duration": 21,
    "start_time": "2023-01-15T10:32:17.307Z"
   },
   {
    "duration": 34,
    "start_time": "2023-01-15T10:32:17.332Z"
   },
   {
    "duration": 158,
    "start_time": "2023-01-15T10:32:17.383Z"
   },
   {
    "duration": 16,
    "start_time": "2023-01-15T10:32:17.543Z"
   },
   {
    "duration": 145,
    "start_time": "2023-01-15T10:32:17.561Z"
   },
   {
    "duration": 51,
    "start_time": "2023-01-15T10:32:17.708Z"
   },
   {
    "duration": 30,
    "start_time": "2023-01-15T10:32:17.760Z"
   },
   {
    "duration": 320,
    "start_time": "2023-01-15T10:32:17.791Z"
   },
   {
    "duration": 41,
    "start_time": "2023-01-15T10:32:18.113Z"
   },
   {
    "duration": 82,
    "start_time": "2023-01-15T10:32:18.155Z"
   },
   {
    "duration": 21,
    "start_time": "2023-01-15T10:32:18.238Z"
   },
   {
    "duration": 24,
    "start_time": "2023-01-15T10:32:18.261Z"
   },
   {
    "duration": 217,
    "start_time": "2023-01-15T10:32:18.286Z"
   },
   {
    "duration": 10,
    "start_time": "2023-01-15T10:32:18.505Z"
   },
   {
    "duration": 122,
    "start_time": "2023-01-15T10:32:18.516Z"
   },
   {
    "duration": 26,
    "start_time": "2023-01-15T10:32:18.640Z"
   },
   {
    "duration": 15,
    "start_time": "2023-01-15T10:32:18.668Z"
   },
   {
    "duration": 160,
    "start_time": "2023-01-15T10:32:18.685Z"
   },
   {
    "duration": 169,
    "start_time": "2023-01-15T10:32:18.846Z"
   },
   {
    "duration": 29,
    "start_time": "2023-01-15T10:32:19.017Z"
   },
   {
    "duration": 4,
    "start_time": "2023-01-15T10:32:19.048Z"
   },
   {
    "duration": 396,
    "start_time": "2023-01-15T10:32:19.053Z"
   },
   {
    "duration": 46,
    "start_time": "2023-01-15T10:32:19.450Z"
   },
   {
    "duration": 3,
    "start_time": "2023-01-15T10:32:19.501Z"
   },
   {
    "duration": 110,
    "start_time": "2023-01-15T10:32:19.506Z"
   },
   {
    "duration": 813,
    "start_time": "2023-01-15T10:32:19.618Z"
   },
   {
    "duration": 29,
    "start_time": "2023-01-15T10:32:20.432Z"
   },
   {
    "duration": 28,
    "start_time": "2023-01-15T10:32:20.463Z"
   },
   {
    "duration": 18,
    "start_time": "2023-01-15T10:32:20.495Z"
   },
   {
    "duration": 39,
    "start_time": "2023-01-15T10:32:20.514Z"
   },
   {
    "duration": 3,
    "start_time": "2023-01-15T10:32:20.554Z"
   },
   {
    "duration": 7,
    "start_time": "2023-01-15T10:32:20.558Z"
   },
   {
    "duration": 57,
    "start_time": "2023-01-15T10:32:20.566Z"
   },
   {
    "duration": 129,
    "start_time": "2023-01-15T10:32:20.625Z"
   },
   {
    "duration": 3,
    "start_time": "2023-01-15T10:32:20.756Z"
   },
   {
    "duration": 129,
    "start_time": "2023-01-15T10:32:20.761Z"
   },
   {
    "duration": 90,
    "start_time": "2023-01-15T10:32:20.892Z"
   },
   {
    "duration": 92,
    "start_time": "2023-01-15T10:32:20.989Z"
   },
   {
    "duration": 36,
    "start_time": "2023-01-15T10:32:21.083Z"
   },
   {
    "duration": 6,
    "start_time": "2023-01-15T10:32:21.120Z"
   },
   {
    "duration": 57362,
    "start_time": "2023-01-15T10:32:21.127Z"
   },
   {
    "duration": 2371,
    "start_time": "2023-01-15T10:33:18.490Z"
   },
   {
    "duration": 4,
    "start_time": "2023-01-15T10:33:20.863Z"
   },
   {
    "duration": 35,
    "start_time": "2023-01-15T10:33:20.875Z"
   },
   {
    "duration": 31716,
    "start_time": "2023-01-15T10:33:20.912Z"
   },
   {
    "duration": 63,
    "start_time": "2023-01-15T10:33:52.629Z"
   },
   {
    "duration": 6,
    "start_time": "2023-01-15T10:33:52.701Z"
   },
   {
    "duration": 4,
    "start_time": "2023-01-15T10:35:24.138Z"
   },
   {
    "duration": 3,
    "start_time": "2023-01-15T10:35:27.720Z"
   },
   {
    "duration": 284194,
    "start_time": "2023-01-15T10:35:28.698Z"
   },
   {
    "duration": 5,
    "start_time": "2023-01-15T10:40:12.894Z"
   },
   {
    "duration": 24,
    "start_time": "2023-01-15T10:40:12.906Z"
   },
   {
    "duration": 9,
    "start_time": "2023-01-15T10:41:28.648Z"
   },
   {
    "duration": 44,
    "start_time": "2023-01-15T10:43:52.318Z"
   },
   {
    "duration": 6,
    "start_time": "2023-01-15T10:44:05.573Z"
   },
   {
    "duration": 12,
    "start_time": "2023-01-15T10:44:09.847Z"
   },
   {
    "duration": 3,
    "start_time": "2023-01-15T10:44:22.350Z"
   },
   {
    "duration": 15,
    "start_time": "2023-01-15T10:44:27.156Z"
   },
   {
    "duration": 357,
    "start_time": "2023-01-15T10:45:09.328Z"
   },
   {
    "duration": 4,
    "start_time": "2023-01-15T10:45:28.685Z"
   },
   {
    "duration": 5,
    "start_time": "2023-01-15T10:45:33.503Z"
   },
   {
    "duration": 4,
    "start_time": "2023-01-15T10:49:11.383Z"
   },
   {
    "duration": 3,
    "start_time": "2023-01-15T10:50:49.671Z"
   },
   {
    "duration": 2,
    "start_time": "2023-01-15T10:51:42.875Z"
   },
   {
    "duration": 45,
    "start_time": "2023-01-15T10:52:03.364Z"
   },
   {
    "duration": 4,
    "start_time": "2023-01-15T10:52:10.553Z"
   },
   {
    "duration": 5,
    "start_time": "2023-01-15T10:52:31.259Z"
   },
   {
    "duration": 3,
    "start_time": "2023-01-15T10:52:36.963Z"
   },
   {
    "duration": 4,
    "start_time": "2023-01-15T10:52:47.823Z"
   },
   {
    "duration": 5,
    "start_time": "2023-01-15T10:52:55.290Z"
   },
   {
    "duration": 12,
    "start_time": "2023-01-15T10:56:13.379Z"
   },
   {
    "duration": 11,
    "start_time": "2023-01-15T10:57:04.563Z"
   },
   {
    "duration": 7,
    "start_time": "2023-01-15T10:57:14.452Z"
   },
   {
    "duration": 8,
    "start_time": "2023-01-15T10:57:23.579Z"
   },
   {
    "duration": 9,
    "start_time": "2023-01-15T10:59:04.432Z"
   },
   {
    "duration": 6,
    "start_time": "2023-01-15T10:59:08.837Z"
   },
   {
    "duration": 6,
    "start_time": "2023-01-15T10:59:16.650Z"
   },
   {
    "duration": 6,
    "start_time": "2023-01-15T10:59:18.595Z"
   },
   {
    "duration": 4,
    "start_time": "2023-01-15T10:59:32.643Z"
   },
   {
    "duration": 6,
    "start_time": "2023-01-15T10:59:33.132Z"
   },
   {
    "duration": 3,
    "start_time": "2023-01-15T10:59:47.890Z"
   },
   {
    "duration": 5,
    "start_time": "2023-01-15T10:59:48.453Z"
   },
   {
    "duration": 4,
    "start_time": "2023-01-15T11:00:25.932Z"
   },
   {
    "duration": 6,
    "start_time": "2023-01-15T11:00:26.895Z"
   },
   {
    "duration": 5,
    "start_time": "2023-01-15T11:00:35.917Z"
   },
   {
    "duration": 1915,
    "start_time": "2023-01-15T11:01:00.158Z"
   },
   {
    "duration": 0,
    "start_time": "2023-01-15T11:01:02.074Z"
   },
   {
    "duration": 4,
    "start_time": "2023-01-15T11:01:08.598Z"
   },
   {
    "duration": 14,
    "start_time": "2023-01-15T11:01:52.120Z"
   },
   {
    "duration": 10,
    "start_time": "2023-01-15T11:03:22.549Z"
   },
   {
    "duration": 49,
    "start_time": "2023-01-15T11:04:08.243Z"
   },
   {
    "duration": 46,
    "start_time": "2023-01-15T11:04:23.031Z"
   },
   {
    "duration": 44,
    "start_time": "2023-01-15T11:04:32.370Z"
   },
   {
    "duration": 48,
    "start_time": "2023-01-15T11:04:47.522Z"
   },
   {
    "duration": 51,
    "start_time": "2023-01-15T11:05:09.371Z"
   },
   {
    "duration": 46,
    "start_time": "2023-01-15T11:05:22.254Z"
   },
   {
    "duration": 28,
    "start_time": "2023-01-15T11:06:43.742Z"
   },
   {
    "duration": 755,
    "start_time": "2023-01-15T11:06:52.898Z"
   },
   {
    "duration": 688,
    "start_time": "2023-01-15T11:06:57.895Z"
   },
   {
    "duration": 7,
    "start_time": "2023-01-15T11:07:07.323Z"
   },
   {
    "duration": 46,
    "start_time": "2023-01-15T11:07:53.582Z"
   },
   {
    "duration": 78624,
    "start_time": "2023-01-15T11:08:08.656Z"
   },
   {
    "duration": 47,
    "start_time": "2023-01-15T11:11:13.678Z"
   },
   {
    "duration": 54,
    "start_time": "2023-01-15T11:11:18.405Z"
   },
   {
    "duration": 83214,
    "start_time": "2023-01-15T11:11:44.963Z"
   },
   {
    "duration": 85011,
    "start_time": "2023-01-15T11:14:05.077Z"
   },
   {
    "duration": 12,
    "start_time": "2023-01-15T11:15:58.236Z"
   },
   {
    "duration": 6,
    "start_time": "2023-01-15T11:20:16.283Z"
   },
   {
    "duration": 8,
    "start_time": "2023-01-15T11:20:25.094Z"
   },
   {
    "duration": 14,
    "start_time": "2023-01-15T11:20:59.423Z"
   },
   {
    "duration": 8,
    "start_time": "2023-01-15T11:21:25.398Z"
   },
   {
    "duration": 3,
    "start_time": "2023-01-15T11:21:25.896Z"
   },
   {
    "duration": 14,
    "start_time": "2023-01-15T11:21:35.333Z"
   },
   {
    "duration": 4,
    "start_time": "2023-01-15T11:21:41.888Z"
   },
   {
    "duration": 6,
    "start_time": "2023-01-15T11:21:50.873Z"
   },
   {
    "duration": 6,
    "start_time": "2023-01-15T11:21:56.413Z"
   },
   {
    "duration": 17,
    "start_time": "2023-01-15T11:22:06.879Z"
   },
   {
    "duration": 3,
    "start_time": "2023-01-15T11:22:08.766Z"
   },
   {
    "duration": 6,
    "start_time": "2023-01-15T11:22:49.009Z"
   },
   {
    "duration": 12,
    "start_time": "2023-01-15T11:23:31.944Z"
   },
   {
    "duration": 2,
    "start_time": "2023-01-15T11:23:33.147Z"
   },
   {
    "duration": 82944,
    "start_time": "2023-01-15T11:23:34.736Z"
   },
   {
    "duration": 10,
    "start_time": "2023-01-15T11:25:05.429Z"
   },
   {
    "duration": 47,
    "start_time": "2023-01-15T11:25:22.478Z"
   },
   {
    "duration": 355667,
    "start_time": "2023-01-15T11:30:53.012Z"
   },
   {
    "duration": 12,
    "start_time": "2023-01-15T11:36:48.682Z"
   },
   {
    "duration": 0,
    "start_time": "2023-01-15T11:36:48.695Z"
   },
   {
    "duration": 0,
    "start_time": "2023-01-15T11:36:48.696Z"
   },
   {
    "duration": 3,
    "start_time": "2023-01-15T11:36:54.160Z"
   },
   {
    "duration": 12,
    "start_time": "2023-01-15T11:37:06.731Z"
   },
   {
    "duration": 9,
    "start_time": "2023-01-15T11:37:08.774Z"
   },
   {
    "duration": 3,
    "start_time": "2023-01-15T11:37:30.080Z"
   },
   {
    "duration": 4,
    "start_time": "2023-01-15T11:37:34.520Z"
   },
   {
    "duration": 5,
    "start_time": "2023-01-15T11:37:38.945Z"
   },
   {
    "duration": 13,
    "start_time": "2023-01-15T11:37:58.384Z"
   },
   {
    "duration": 3,
    "start_time": "2023-01-15T11:38:09.038Z"
   },
   {
    "duration": 221102,
    "start_time": "2023-01-15T11:38:54.278Z"
   },
   {
    "duration": 10,
    "start_time": "2023-01-15T11:42:35.382Z"
   },
   {
    "duration": 11,
    "start_time": "2023-01-15T11:43:06.740Z"
   },
   {
    "duration": 11,
    "start_time": "2023-01-15T11:43:13.121Z"
   },
   {
    "duration": 2365,
    "start_time": "2023-01-15T11:47:11.662Z"
   },
   {
    "duration": 5,
    "start_time": "2023-01-15T11:47:14.030Z"
   },
   {
    "duration": 805,
    "start_time": "2023-01-15T11:47:14.037Z"
   },
   {
    "duration": 33,
    "start_time": "2023-01-15T11:47:14.845Z"
   },
   {
    "duration": 164,
    "start_time": "2023-01-15T11:47:14.880Z"
   },
   {
    "duration": 123,
    "start_time": "2023-01-15T11:47:15.045Z"
   },
   {
    "duration": 818,
    "start_time": "2023-01-15T11:47:15.177Z"
   },
   {
    "duration": 219,
    "start_time": "2023-01-15T11:47:15.996Z"
   },
   {
    "duration": 42,
    "start_time": "2023-01-15T11:47:16.217Z"
   },
   {
    "duration": 54,
    "start_time": "2023-01-15T11:47:16.276Z"
   },
   {
    "duration": 132,
    "start_time": "2023-01-15T11:47:16.331Z"
   },
   {
    "duration": 63,
    "start_time": "2023-01-15T11:47:16.465Z"
   },
   {
    "duration": 119,
    "start_time": "2023-01-15T11:47:16.530Z"
   },
   {
    "duration": 38,
    "start_time": "2023-01-15T11:47:16.650Z"
   },
   {
    "duration": 25,
    "start_time": "2023-01-15T11:47:16.689Z"
   },
   {
    "duration": 36,
    "start_time": "2023-01-15T11:47:16.715Z"
   },
   {
    "duration": 72,
    "start_time": "2023-01-15T11:47:16.753Z"
   },
   {
    "duration": 20,
    "start_time": "2023-01-15T11:47:16.827Z"
   },
   {
    "duration": 50,
    "start_time": "2023-01-15T11:47:16.848Z"
   },
   {
    "duration": 54,
    "start_time": "2023-01-15T11:47:16.899Z"
   },
   {
    "duration": 31,
    "start_time": "2023-01-15T11:47:16.955Z"
   },
   {
    "duration": 35,
    "start_time": "2023-01-15T11:47:16.988Z"
   },
   {
    "duration": 75,
    "start_time": "2023-01-15T11:47:17.025Z"
   },
   {
    "duration": 19,
    "start_time": "2023-01-15T11:47:17.102Z"
   },
   {
    "duration": 34,
    "start_time": "2023-01-15T11:47:17.123Z"
   },
   {
    "duration": 69,
    "start_time": "2023-01-15T11:47:17.159Z"
   },
   {
    "duration": 22,
    "start_time": "2023-01-15T11:47:17.230Z"
   },
   {
    "duration": 35,
    "start_time": "2023-01-15T11:47:17.279Z"
   },
   {
    "duration": 142,
    "start_time": "2023-01-15T11:47:17.316Z"
   },
   {
    "duration": 28,
    "start_time": "2023-01-15T11:47:17.460Z"
   },
   {
    "duration": 135,
    "start_time": "2023-01-15T11:47:17.489Z"
   },
   {
    "duration": 62,
    "start_time": "2023-01-15T11:47:17.626Z"
   },
   {
    "duration": 18,
    "start_time": "2023-01-15T11:47:17.690Z"
   },
   {
    "duration": 158,
    "start_time": "2023-01-15T11:47:17.709Z"
   },
   {
    "duration": 43,
    "start_time": "2023-01-15T11:47:17.875Z"
   },
   {
    "duration": 60,
    "start_time": "2023-01-15T11:47:17.919Z"
   },
   {
    "duration": 16,
    "start_time": "2023-01-15T11:47:17.981Z"
   },
   {
    "duration": 14,
    "start_time": "2023-01-15T11:47:17.999Z"
   },
   {
    "duration": 202,
    "start_time": "2023-01-15T11:47:18.014Z"
   },
   {
    "duration": 8,
    "start_time": "2023-01-15T11:47:18.218Z"
   },
   {
    "duration": 139,
    "start_time": "2023-01-15T11:47:18.228Z"
   },
   {
    "duration": 27,
    "start_time": "2023-01-15T11:47:18.369Z"
   },
   {
    "duration": 3,
    "start_time": "2023-01-15T11:47:18.398Z"
   },
   {
    "duration": 162,
    "start_time": "2023-01-15T11:47:18.403Z"
   },
   {
    "duration": 171,
    "start_time": "2023-01-15T11:47:18.567Z"
   },
   {
    "duration": 30,
    "start_time": "2023-01-15T11:47:18.740Z"
   },
   {
    "duration": 7,
    "start_time": "2023-01-15T11:47:18.771Z"
   },
   {
    "duration": 401,
    "start_time": "2023-01-15T11:47:18.779Z"
   },
   {
    "duration": 27,
    "start_time": "2023-01-15T11:47:19.182Z"
   },
   {
    "duration": 3,
    "start_time": "2023-01-15T11:47:19.211Z"
   },
   {
    "duration": 115,
    "start_time": "2023-01-15T11:47:19.217Z"
   },
   {
    "duration": 2325,
    "start_time": "2023-01-15T11:47:49.002Z"
   },
   {
    "duration": 1546,
    "start_time": "2023-01-15T11:47:53.646Z"
   },
   {
    "duration": 1132,
    "start_time": "2023-01-15T11:47:56.001Z"
   },
   {
    "duration": 18,
    "start_time": "2023-01-15T11:47:57.631Z"
   },
   {
    "duration": 131,
    "start_time": "2023-01-15T11:47:58.765Z"
   },
   {
    "duration": 115,
    "start_time": "2023-01-15T11:47:59.050Z"
   },
   {
    "duration": 986,
    "start_time": "2023-01-15T11:47:59.277Z"
   },
   {
    "duration": 258,
    "start_time": "2023-01-15T11:48:00.265Z"
   },
   {
    "duration": 35,
    "start_time": "2023-01-15T11:48:00.525Z"
   },
   {
    "duration": 64,
    "start_time": "2023-01-15T11:48:00.577Z"
   },
   {
    "duration": 146,
    "start_time": "2023-01-15T11:48:00.642Z"
   },
   {
    "duration": 44,
    "start_time": "2023-01-15T11:48:00.814Z"
   },
   {
    "duration": 118,
    "start_time": "2023-01-15T11:48:01.022Z"
   },
   {
    "duration": 34,
    "start_time": "2023-01-15T11:48:01.459Z"
   },
   {
    "duration": 19,
    "start_time": "2023-01-15T11:48:01.638Z"
   },
   {
    "duration": 33,
    "start_time": "2023-01-15T11:48:01.824Z"
   },
   {
    "duration": 40,
    "start_time": "2023-01-15T11:48:02.167Z"
   },
   {
    "duration": 21,
    "start_time": "2023-01-15T11:48:02.325Z"
   },
   {
    "duration": 33,
    "start_time": "2023-01-15T11:48:02.626Z"
   },
   {
    "duration": 42,
    "start_time": "2023-01-15T11:48:02.799Z"
   },
   {
    "duration": 21,
    "start_time": "2023-01-15T11:48:02.942Z"
   },
   {
    "duration": 36,
    "start_time": "2023-01-15T11:48:03.164Z"
   },
   {
    "duration": 44,
    "start_time": "2023-01-15T11:48:03.340Z"
   },
   {
    "duration": 24,
    "start_time": "2023-01-15T11:48:03.522Z"
   },
   {
    "duration": 36,
    "start_time": "2023-01-15T11:48:03.718Z"
   },
   {
    "duration": 45,
    "start_time": "2023-01-15T11:48:03.904Z"
   },
   {
    "duration": 22,
    "start_time": "2023-01-15T11:48:04.078Z"
   },
   {
    "duration": 32,
    "start_time": "2023-01-15T11:48:04.273Z"
   },
   {
    "duration": 121,
    "start_time": "2023-01-15T11:48:04.477Z"
   },
   {
    "duration": 16,
    "start_time": "2023-01-15T11:48:04.642Z"
   },
   {
    "duration": 111,
    "start_time": "2023-01-15T11:48:04.818Z"
   },
   {
    "duration": 66,
    "start_time": "2023-01-15T11:48:05.032Z"
   },
   {
    "duration": 19,
    "start_time": "2023-01-15T11:48:05.262Z"
   },
   {
    "duration": 144,
    "start_time": "2023-01-15T11:48:05.442Z"
   },
   {
    "duration": 32,
    "start_time": "2023-01-15T11:48:05.614Z"
   },
   {
    "duration": 53,
    "start_time": "2023-01-15T11:48:05.848Z"
   },
   {
    "duration": 15,
    "start_time": "2023-01-15T11:48:06.053Z"
   },
   {
    "duration": 14,
    "start_time": "2023-01-15T11:48:06.213Z"
   },
   {
    "duration": 258,
    "start_time": "2023-01-15T11:48:06.397Z"
   },
   {
    "duration": 7,
    "start_time": "2023-01-15T11:48:06.657Z"
   },
   {
    "duration": 120,
    "start_time": "2023-01-15T11:48:06.900Z"
   },
   {
    "duration": 23,
    "start_time": "2023-01-15T11:48:08.450Z"
   },
   {
    "duration": 3,
    "start_time": "2023-01-15T11:48:08.650Z"
   },
   {
    "duration": 132,
    "start_time": "2023-01-15T11:48:08.925Z"
   },
   {
    "duration": 151,
    "start_time": "2023-01-15T11:48:09.296Z"
   },
   {
    "duration": 19,
    "start_time": "2023-01-15T11:48:09.530Z"
   },
   {
    "duration": 4,
    "start_time": "2023-01-15T11:48:10.235Z"
   },
   {
    "duration": 350,
    "start_time": "2023-01-15T11:48:10.475Z"
   },
   {
    "duration": 24,
    "start_time": "2023-01-15T11:48:10.827Z"
   },
   {
    "duration": 2,
    "start_time": "2023-01-15T11:48:11.277Z"
   },
   {
    "duration": 76,
    "start_time": "2023-01-15T11:48:11.563Z"
   },
   {
    "duration": 730,
    "start_time": "2023-01-15T11:48:11.798Z"
   },
   {
    "duration": 23,
    "start_time": "2023-01-15T11:48:12.529Z"
   },
   {
    "duration": 15,
    "start_time": "2023-01-15T11:48:12.782Z"
   },
   {
    "duration": 8,
    "start_time": "2023-01-15T11:48:13.675Z"
   },
   {
    "duration": 39,
    "start_time": "2023-01-15T11:48:14.004Z"
   },
   {
    "duration": 3,
    "start_time": "2023-01-15T11:48:14.335Z"
   },
   {
    "duration": 2,
    "start_time": "2023-01-15T11:48:14.584Z"
   },
   {
    "duration": 21,
    "start_time": "2023-01-15T11:48:14.798Z"
   },
   {
    "duration": 117,
    "start_time": "2023-01-15T11:48:14.973Z"
   },
   {
    "duration": 3,
    "start_time": "2023-01-15T11:48:17.598Z"
   },
   {
    "duration": 10,
    "start_time": "2023-01-15T11:48:18.626Z"
   },
   {
    "duration": 2,
    "start_time": "2023-01-15T11:48:19.946Z"
   },
   {
    "duration": 86767,
    "start_time": "2023-01-15T11:48:20.621Z"
   },
   {
    "duration": 8,
    "start_time": "2023-01-15T11:50:05.174Z"
   },
   {
    "duration": 7,
    "start_time": "2023-01-15T11:50:07.233Z"
   },
   {
    "duration": 88776,
    "start_time": "2023-01-15T11:50:22.214Z"
   },
   {
    "duration": 7,
    "start_time": "2023-01-15T11:51:50.992Z"
   },
   {
    "duration": 141,
    "start_time": "2023-01-15T11:52:35.758Z"
   },
   {
    "duration": 108,
    "start_time": "2023-01-15T11:52:47.097Z"
   },
   {
    "duration": 227,
    "start_time": "2023-01-15T11:52:51.033Z"
   },
   {
    "duration": 310,
    "start_time": "2023-01-15T11:53:16.501Z"
   },
   {
    "duration": 228,
    "start_time": "2023-01-15T11:53:35.449Z"
   },
   {
    "duration": 252,
    "start_time": "2023-01-15T11:53:44.808Z"
   },
   {
    "duration": 113,
    "start_time": "2023-01-15T11:54:27.496Z"
   },
   {
    "duration": 124,
    "start_time": "2023-01-15T11:54:35.566Z"
   },
   {
    "duration": 2888,
    "start_time": "2023-01-15T18:47:36.571Z"
   },
   {
    "duration": 1651,
    "start_time": "2023-01-15T18:47:54.832Z"
   },
   {
    "duration": 3107,
    "start_time": "2023-01-15T18:47:59.673Z"
   },
   {
    "duration": 17,
    "start_time": "2023-01-15T18:48:02.782Z"
   },
   {
    "duration": 113,
    "start_time": "2023-01-15T18:48:06.722Z"
   },
   {
    "duration": 93,
    "start_time": "2023-01-15T18:48:08.422Z"
   },
   {
    "duration": 867,
    "start_time": "2023-01-15T18:48:13.166Z"
   },
   {
    "duration": 240,
    "start_time": "2023-01-15T18:48:16.240Z"
   },
   {
    "duration": 214,
    "start_time": "2023-01-15T18:48:40.962Z"
   },
   {
    "duration": 301,
    "start_time": "2023-01-15T18:49:08.491Z"
   },
   {
    "duration": 229,
    "start_time": "2023-01-15T18:50:05.550Z"
   },
   {
    "duration": 215,
    "start_time": "2023-01-15T18:50:20.792Z"
   },
   {
    "duration": 33,
    "start_time": "2023-01-15T18:50:29.750Z"
   },
   {
    "duration": 52,
    "start_time": "2023-01-15T18:51:31.892Z"
   },
   {
    "duration": 94,
    "start_time": "2023-01-15T18:51:33.090Z"
   },
   {
    "duration": 226,
    "start_time": "2023-01-15T18:52:22.000Z"
   },
   {
    "duration": 8,
    "start_time": "2023-01-15T18:52:26.854Z"
   },
   {
    "duration": 39,
    "start_time": "2023-01-15T18:52:43.659Z"
   },
   {
    "duration": 26,
    "start_time": "2023-01-15T18:53:39.800Z"
   },
   {
    "duration": 28,
    "start_time": "2023-01-15T18:57:36.840Z"
   },
   {
    "duration": 28,
    "start_time": "2023-01-15T18:58:03.691Z"
   },
   {
    "duration": 20,
    "start_time": "2023-01-15T18:58:04.045Z"
   },
   {
    "duration": 27,
    "start_time": "2023-01-15T18:58:04.656Z"
   },
   {
    "duration": 3,
    "start_time": "2023-01-15T18:59:36.260Z"
   },
   {
    "duration": 219,
    "start_time": "2023-01-15T18:59:46.710Z"
   },
   {
    "duration": 86,
    "start_time": "2023-01-15T19:00:22.635Z"
   },
   {
    "duration": 36,
    "start_time": "2023-01-15T19:00:54.780Z"
   },
   {
    "duration": 17,
    "start_time": "2023-01-15T19:01:19.627Z"
   },
   {
    "duration": 28,
    "start_time": "2023-01-15T19:01:20.055Z"
   },
   {
    "duration": 2,
    "start_time": "2023-01-15T19:02:09.894Z"
   },
   {
    "duration": 71,
    "start_time": "2023-01-15T19:02:28.929Z"
   },
   {
    "duration": 2,
    "start_time": "2023-01-15T19:02:55.754Z"
   },
   {
    "duration": 2,
    "start_time": "2023-01-15T19:03:00.796Z"
   },
   {
    "duration": 72,
    "start_time": "2023-01-15T19:03:36.591Z"
   },
   {
    "duration": 3,
    "start_time": "2023-01-15T19:04:05.271Z"
   },
   {
    "duration": 42,
    "start_time": "2023-01-15T19:04:07.647Z"
   },
   {
    "duration": 101,
    "start_time": "2023-01-15T19:04:28.426Z"
   },
   {
    "duration": 2,
    "start_time": "2023-01-15T19:05:29.508Z"
   },
   {
    "duration": 16,
    "start_time": "2023-01-15T19:06:06.500Z"
   },
   {
    "duration": 15,
    "start_time": "2023-01-15T19:06:10.583Z"
   },
   {
    "duration": 120,
    "start_time": "2023-01-15T19:06:59.256Z"
   },
   {
    "duration": 72,
    "start_time": "2023-01-15T19:07:49.476Z"
   },
   {
    "duration": 2,
    "start_time": "2023-01-15T19:08:14.973Z"
   },
   {
    "duration": 127,
    "start_time": "2023-01-15T19:08:36.127Z"
   },
   {
    "duration": 140,
    "start_time": "2023-01-15T19:08:45.674Z"
   },
   {
    "duration": 70,
    "start_time": "2023-01-15T19:09:46.842Z"
   },
   {
    "duration": 2,
    "start_time": "2023-01-15T19:16:12.484Z"
   },
   {
    "duration": 164,
    "start_time": "2023-01-15T19:16:54.770Z"
   },
   {
    "duration": 335,
    "start_time": "2023-01-15T19:17:11.681Z"
   },
   {
    "duration": 87,
    "start_time": "2023-01-15T19:17:17.639Z"
   },
   {
    "duration": 72,
    "start_time": "2023-01-15T19:17:25.962Z"
   },
   {
    "duration": 175,
    "start_time": "2023-01-15T19:17:29.153Z"
   },
   {
    "duration": 94,
    "start_time": "2023-01-15T19:18:05.419Z"
   },
   {
    "duration": 214,
    "start_time": "2023-01-15T19:18:15.764Z"
   },
   {
    "duration": 159,
    "start_time": "2023-01-15T19:18:25.094Z"
   },
   {
    "duration": 149,
    "start_time": "2023-01-15T19:18:33.070Z"
   },
   {
    "duration": 7,
    "start_time": "2023-01-15T19:18:40.672Z"
   },
   {
    "duration": 3,
    "start_time": "2023-01-15T19:19:14.957Z"
   },
   {
    "duration": 2,
    "start_time": "2023-01-15T19:21:14.979Z"
   },
   {
    "duration": 2,
    "start_time": "2023-01-15T19:22:05.293Z"
   },
   {
    "duration": 2,
    "start_time": "2023-01-15T19:22:51.490Z"
   },
   {
    "duration": 396,
    "start_time": "2023-01-15T19:22:57.108Z"
   },
   {
    "duration": 8,
    "start_time": "2023-01-15T19:23:11.247Z"
   },
   {
    "duration": 101,
    "start_time": "2023-01-15T19:23:12.722Z"
   },
   {
    "duration": 32,
    "start_time": "2023-01-15T19:23:13.994Z"
   },
   {
    "duration": 3,
    "start_time": "2023-01-15T19:23:15.079Z"
   },
   {
    "duration": 147,
    "start_time": "2023-01-15T19:23:16.070Z"
   },
   {
    "duration": 148,
    "start_time": "2023-01-15T19:23:26.446Z"
   },
   {
    "duration": 73,
    "start_time": "2023-01-15T19:23:43.225Z"
   },
   {
    "duration": 137,
    "start_time": "2023-01-15T19:23:46.703Z"
   },
   {
    "duration": 3907,
    "start_time": "2023-01-15T19:24:06.670Z"
   },
   {
    "duration": 18,
    "start_time": "2023-01-15T19:26:16.145Z"
   },
   {
    "duration": 107,
    "start_time": "2023-01-15T19:27:03.797Z"
   },
   {
    "duration": 245,
    "start_time": "2023-01-15T19:27:16.037Z"
   },
   {
    "duration": 27,
    "start_time": "2023-01-15T19:30:27.664Z"
   },
   {
    "duration": 3,
    "start_time": "2023-01-15T19:30:30.708Z"
   },
   {
    "duration": 36,
    "start_time": "2023-01-15T19:30:31.193Z"
   },
   {
    "duration": 151,
    "start_time": "2023-01-15T19:30:37.682Z"
   },
   {
    "duration": 16,
    "start_time": "2023-01-15T19:30:38.290Z"
   },
   {
    "duration": 21,
    "start_time": "2023-01-15T19:30:42.232Z"
   },
   {
    "duration": 3,
    "start_time": "2023-01-15T19:30:43.815Z"
   },
   {
    "duration": 34,
    "start_time": "2023-01-15T19:30:46.144Z"
   },
   {
    "duration": 1955,
    "start_time": "2023-01-15T19:30:59.389Z"
   },
   {
    "duration": 4,
    "start_time": "2023-01-15T19:31:01.347Z"
   },
   {
    "duration": 771,
    "start_time": "2023-01-15T19:31:01.353Z"
   },
   {
    "duration": 22,
    "start_time": "2023-01-15T19:31:02.127Z"
   },
   {
    "duration": 126,
    "start_time": "2023-01-15T19:31:02.150Z"
   },
   {
    "duration": 787,
    "start_time": "2023-01-15T19:31:02.278Z"
   },
   {
    "duration": 232,
    "start_time": "2023-01-15T19:31:03.067Z"
   },
   {
    "duration": 36,
    "start_time": "2023-01-15T19:31:03.300Z"
   },
   {
    "duration": 47,
    "start_time": "2023-01-15T19:31:03.337Z"
   },
   {
    "duration": 102,
    "start_time": "2023-01-15T19:31:03.387Z"
   },
   {
    "duration": 50,
    "start_time": "2023-01-15T19:31:03.491Z"
   },
   {
    "duration": 111,
    "start_time": "2023-01-15T19:31:03.543Z"
   },
   {
    "duration": 29,
    "start_time": "2023-01-15T19:31:03.656Z"
   },
   {
    "duration": 26,
    "start_time": "2023-01-15T19:31:03.686Z"
   },
   {
    "duration": 33,
    "start_time": "2023-01-15T19:31:03.714Z"
   },
   {
    "duration": 45,
    "start_time": "2023-01-15T19:31:03.748Z"
   },
   {
    "duration": 27,
    "start_time": "2023-01-15T19:31:03.795Z"
   },
   {
    "duration": 29,
    "start_time": "2023-01-15T19:31:03.824Z"
   },
   {
    "duration": 61,
    "start_time": "2023-01-15T19:31:03.855Z"
   },
   {
    "duration": 17,
    "start_time": "2023-01-15T19:31:03.918Z"
   },
   {
    "duration": 34,
    "start_time": "2023-01-15T19:31:03.937Z"
   },
   {
    "duration": 52,
    "start_time": "2023-01-15T19:31:03.972Z"
   },
   {
    "duration": 27,
    "start_time": "2023-01-15T19:31:04.026Z"
   },
   {
    "duration": 59,
    "start_time": "2023-01-15T19:31:04.055Z"
   },
   {
    "duration": 77,
    "start_time": "2023-01-15T19:31:04.116Z"
   },
   {
    "duration": 24,
    "start_time": "2023-01-15T19:31:04.194Z"
   },
   {
    "duration": 53,
    "start_time": "2023-01-15T19:31:04.220Z"
   },
   {
    "duration": 127,
    "start_time": "2023-01-15T19:31:04.277Z"
   },
   {
    "duration": 40,
    "start_time": "2023-01-15T19:31:04.406Z"
   },
   {
    "duration": 135,
    "start_time": "2023-01-15T19:31:04.448Z"
   },
   {
    "duration": 55,
    "start_time": "2023-01-15T19:31:04.584Z"
   },
   {
    "duration": 17,
    "start_time": "2023-01-15T19:31:04.641Z"
   },
   {
    "duration": 197,
    "start_time": "2023-01-15T19:31:04.660Z"
   },
   {
    "duration": 28,
    "start_time": "2023-01-15T19:31:04.858Z"
   },
   {
    "duration": 55,
    "start_time": "2023-01-15T19:31:04.887Z"
   },
   {
    "duration": 15,
    "start_time": "2023-01-15T19:31:04.945Z"
   },
   {
    "duration": 23,
    "start_time": "2023-01-15T19:31:04.961Z"
   },
   {
    "duration": 194,
    "start_time": "2023-01-15T19:31:04.985Z"
   },
   {
    "duration": 6,
    "start_time": "2023-01-15T19:31:05.181Z"
   },
   {
    "duration": 116,
    "start_time": "2023-01-15T19:31:05.189Z"
   },
   {
    "duration": 43,
    "start_time": "2023-01-15T19:31:05.306Z"
   },
   {
    "duration": 25,
    "start_time": "2023-01-15T19:31:05.351Z"
   },
   {
    "duration": 163,
    "start_time": "2023-01-15T19:31:05.378Z"
   },
   {
    "duration": 143,
    "start_time": "2023-01-15T19:31:05.542Z"
   },
   {
    "duration": 17,
    "start_time": "2023-01-15T19:31:05.686Z"
   },
   {
    "duration": 45,
    "start_time": "2023-01-15T19:31:05.704Z"
   },
   {
    "duration": 15,
    "start_time": "2023-01-15T19:31:05.751Z"
   },
   {
    "duration": 73,
    "start_time": "2023-01-15T19:37:37.232Z"
   },
   {
    "duration": 717,
    "start_time": "2023-01-15T19:37:38.351Z"
   },
   {
    "duration": 24,
    "start_time": "2023-01-15T19:37:39.070Z"
   },
   {
    "duration": 17,
    "start_time": "2023-01-15T19:37:42.887Z"
   },
   {
    "duration": 1656,
    "start_time": "2023-01-15T19:37:44.438Z"
   },
   {
    "duration": 19,
    "start_time": "2023-01-15T19:37:52.905Z"
   },
   {
    "duration": 1657,
    "start_time": "2023-01-15T19:37:55.712Z"
   },
   {
    "duration": 1235,
    "start_time": "2023-01-15T19:38:11.913Z"
   },
   {
    "duration": 8,
    "start_time": "2023-01-15T19:49:00.826Z"
   },
   {
    "duration": 33,
    "start_time": "2023-01-15T19:49:37.235Z"
   },
   {
    "duration": 8,
    "start_time": "2023-01-15T19:49:53.191Z"
   },
   {
    "duration": 37,
    "start_time": "2023-01-15T19:49:54.409Z"
   },
   {
    "duration": 3,
    "start_time": "2023-01-15T19:50:32.833Z"
   },
   {
    "duration": 3,
    "start_time": "2023-01-15T19:50:38.745Z"
   },
   {
    "duration": 14,
    "start_time": "2023-01-15T19:50:39.286Z"
   },
   {
    "duration": 111,
    "start_time": "2023-01-15T19:50:39.980Z"
   },
   {
    "duration": 3,
    "start_time": "2023-01-15T19:50:52.346Z"
   },
   {
    "duration": 10,
    "start_time": "2023-01-15T19:51:30.860Z"
   },
   {
    "duration": 9,
    "start_time": "2023-01-15T19:51:38.782Z"
   },
   {
    "duration": 4,
    "start_time": "2023-01-15T19:51:44.774Z"
   },
   {
    "duration": 10,
    "start_time": "2023-01-15T19:51:45.353Z"
   },
   {
    "duration": 3,
    "start_time": "2023-01-15T19:51:47.121Z"
   },
   {
    "duration": 94099,
    "start_time": "2023-01-15T19:53:03.323Z"
   },
   {
    "duration": 7,
    "start_time": "2023-01-15T19:54:37.424Z"
   },
   {
    "duration": 3,
    "start_time": "2023-01-15T19:55:08.489Z"
   },
   {
    "duration": 7,
    "start_time": "2023-01-15T19:55:16.546Z"
   },
   {
    "duration": 19,
    "start_time": "2023-01-15T19:55:48.124Z"
   },
   {
    "duration": 10,
    "start_time": "2023-01-15T19:56:02.431Z"
   },
   {
    "duration": 4,
    "start_time": "2023-01-15T19:56:02.939Z"
   },
   {
    "duration": 51,
    "start_time": "2023-01-15T19:56:03.876Z"
   },
   {
    "duration": 199548,
    "start_time": "2023-01-15T19:56:38.590Z"
   },
   {
    "duration": 8,
    "start_time": "2023-01-15T19:59:58.140Z"
   },
   {
    "duration": 196,
    "start_time": "2023-01-15T19:59:58.149Z"
   },
   {
    "duration": 121,
    "start_time": "2023-01-15T20:00:13.901Z"
   },
   {
    "duration": 138,
    "start_time": "2023-01-15T20:01:20.475Z"
   },
   {
    "duration": 1214,
    "start_time": "2023-01-15T20:01:42.008Z"
   },
   {
    "duration": 1237,
    "start_time": "2023-01-15T20:01:56.261Z"
   },
   {
    "duration": 4,
    "start_time": "2023-01-15T20:02:21.081Z"
   },
   {
    "duration": 1235,
    "start_time": "2023-01-15T20:04:27.396Z"
   },
   {
    "duration": 141,
    "start_time": "2023-01-15T20:04:56.050Z"
   },
   {
    "duration": 535,
    "start_time": "2023-01-15T20:09:26.416Z"
   },
   {
    "duration": 150,
    "start_time": "2023-01-15T20:09:37.425Z"
   },
   {
    "duration": 83,
    "start_time": "2023-01-15T20:09:50.633Z"
   },
   {
    "duration": 140,
    "start_time": "2023-01-15T20:09:56.168Z"
   },
   {
    "duration": 77,
    "start_time": "2023-01-15T20:10:06.206Z"
   },
   {
    "duration": 75,
    "start_time": "2023-01-15T20:10:10.822Z"
   },
   {
    "duration": 135,
    "start_time": "2023-01-15T20:10:16.096Z"
   },
   {
    "duration": 80,
    "start_time": "2023-01-15T20:10:33.492Z"
   },
   {
    "duration": 2,
    "start_time": "2023-01-15T20:10:51.045Z"
   },
   {
    "duration": 4,
    "start_time": "2023-01-15T20:11:02.192Z"
   },
   {
    "duration": 114,
    "start_time": "2023-01-15T20:15:02.355Z"
   },
   {
    "duration": 110,
    "start_time": "2023-01-15T20:15:13.163Z"
   },
   {
    "duration": 136,
    "start_time": "2023-01-15T20:16:16.391Z"
   },
   {
    "duration": 4,
    "start_time": "2023-01-15T20:18:23.321Z"
   },
   {
    "duration": 124,
    "start_time": "2023-01-15T20:18:28.949Z"
   },
   {
    "duration": 147,
    "start_time": "2023-01-15T20:18:57.829Z"
   },
   {
    "duration": 4,
    "start_time": "2023-01-15T20:20:13.794Z"
   },
   {
    "duration": 5,
    "start_time": "2023-01-15T20:20:38.865Z"
   },
   {
    "duration": 133,
    "start_time": "2023-01-15T20:20:58.737Z"
   },
   {
    "duration": 10,
    "start_time": "2023-01-15T20:23:00.017Z"
   },
   {
    "duration": 5,
    "start_time": "2023-01-15T20:23:03.771Z"
   },
   {
    "duration": 112,
    "start_time": "2023-01-15T20:23:10.306Z"
   },
   {
    "duration": 128,
    "start_time": "2023-01-15T20:23:23.581Z"
   },
   {
    "duration": 140,
    "start_time": "2023-01-15T20:24:08.643Z"
   },
   {
    "duration": 139,
    "start_time": "2023-01-15T20:24:15.101Z"
   },
   {
    "duration": 143,
    "start_time": "2023-01-15T20:29:11.779Z"
   },
   {
    "duration": 144,
    "start_time": "2023-01-15T20:30:47.521Z"
   },
   {
    "duration": 131,
    "start_time": "2023-01-15T20:31:20.025Z"
   },
   {
    "duration": 131,
    "start_time": "2023-01-15T20:31:27.880Z"
   },
   {
    "duration": 142,
    "start_time": "2023-01-15T20:31:45.982Z"
   },
   {
    "duration": 608,
    "start_time": "2023-01-15T20:33:12.750Z"
   },
   {
    "duration": 137,
    "start_time": "2023-01-15T20:33:26.782Z"
   },
   {
    "duration": 150,
    "start_time": "2023-01-15T20:33:45.125Z"
   },
   {
    "duration": 74,
    "start_time": "2023-01-15T20:33:51.081Z"
   },
   {
    "duration": 75,
    "start_time": "2023-01-15T20:33:56.736Z"
   },
   {
    "duration": 140,
    "start_time": "2023-01-15T20:34:04.965Z"
   },
   {
    "duration": 142,
    "start_time": "2023-01-15T20:35:02.907Z"
   },
   {
    "duration": 140,
    "start_time": "2023-01-15T20:35:30.377Z"
   },
   {
    "duration": 136,
    "start_time": "2023-01-15T20:35:41.921Z"
   },
   {
    "duration": 171,
    "start_time": "2023-01-15T20:35:49.158Z"
   },
   {
    "duration": 146,
    "start_time": "2023-01-15T20:35:59.974Z"
   },
   {
    "duration": 194,
    "start_time": "2023-01-15T20:36:06.066Z"
   },
   {
    "duration": 141,
    "start_time": "2023-01-15T20:36:12.255Z"
   },
   {
    "duration": 1239,
    "start_time": "2023-01-15T20:36:57.503Z"
   },
   {
    "duration": 79,
    "start_time": "2023-01-15T20:37:10.114Z"
   },
   {
    "duration": 69,
    "start_time": "2023-01-15T20:37:24.665Z"
   },
   {
    "duration": 70,
    "start_time": "2023-01-15T20:37:38.441Z"
   },
   {
    "duration": 70,
    "start_time": "2023-01-15T20:38:02.088Z"
   },
   {
    "duration": 141,
    "start_time": "2023-01-15T20:38:16.326Z"
   },
   {
    "duration": 148,
    "start_time": "2023-01-15T20:38:27.752Z"
   },
   {
    "duration": 76,
    "start_time": "2023-01-15T20:38:47.610Z"
   },
   {
    "duration": 149,
    "start_time": "2023-01-15T20:39:07.783Z"
   },
   {
    "duration": 138,
    "start_time": "2023-01-15T20:39:23.034Z"
   },
   {
    "duration": 143,
    "start_time": "2023-01-15T20:39:29.842Z"
   },
   {
    "duration": 146,
    "start_time": "2023-01-15T20:39:48.678Z"
   },
   {
    "duration": 153,
    "start_time": "2023-01-15T20:39:52.319Z"
   },
   {
    "duration": 152,
    "start_time": "2023-01-15T20:41:13.574Z"
   },
   {
    "duration": 146,
    "start_time": "2023-01-15T20:41:30.659Z"
   },
   {
    "duration": 155,
    "start_time": "2023-01-15T20:41:45.142Z"
   },
   {
    "duration": 142,
    "start_time": "2023-01-15T20:42:43.094Z"
   },
   {
    "duration": 72,
    "start_time": "2023-01-15T20:43:03.001Z"
   },
   {
    "duration": 142,
    "start_time": "2023-01-15T20:43:09.471Z"
   },
   {
    "duration": 3,
    "start_time": "2023-01-15T20:43:21.543Z"
   },
   {
    "duration": 3,
    "start_time": "2023-01-15T20:48:35.021Z"
   },
   {
    "duration": 2009,
    "start_time": "2023-01-15T20:52:46.674Z"
   },
   {
    "duration": 5,
    "start_time": "2023-01-15T20:52:48.685Z"
   },
   {
    "duration": 779,
    "start_time": "2023-01-15T20:52:48.691Z"
   },
   {
    "duration": 14,
    "start_time": "2023-01-15T20:52:49.472Z"
   },
   {
    "duration": 118,
    "start_time": "2023-01-15T20:52:49.487Z"
   },
   {
    "duration": 887,
    "start_time": "2023-01-15T20:52:49.607Z"
   },
   {
    "duration": 269,
    "start_time": "2023-01-15T20:52:50.496Z"
   },
   {
    "duration": 38,
    "start_time": "2023-01-15T20:52:50.767Z"
   },
   {
    "duration": 80,
    "start_time": "2023-01-15T20:52:50.807Z"
   },
   {
    "duration": 112,
    "start_time": "2023-01-15T20:52:50.891Z"
   },
   {
    "duration": 52,
    "start_time": "2023-01-15T20:52:51.005Z"
   },
   {
    "duration": 128,
    "start_time": "2023-01-15T20:52:51.059Z"
   },
   {
    "duration": 32,
    "start_time": "2023-01-15T20:52:51.189Z"
   },
   {
    "duration": 18,
    "start_time": "2023-01-15T20:52:51.223Z"
   },
   {
    "duration": 34,
    "start_time": "2023-01-15T20:52:51.243Z"
   },
   {
    "duration": 45,
    "start_time": "2023-01-15T20:52:51.279Z"
   },
   {
    "duration": 16,
    "start_time": "2023-01-15T20:52:51.326Z"
   },
   {
    "duration": 26,
    "start_time": "2023-01-15T20:52:51.344Z"
   },
   {
    "duration": 60,
    "start_time": "2023-01-15T20:52:51.371Z"
   },
   {
    "duration": 17,
    "start_time": "2023-01-15T20:52:51.432Z"
   },
   {
    "duration": 30,
    "start_time": "2023-01-15T20:52:51.450Z"
   },
   {
    "duration": 59,
    "start_time": "2023-01-15T20:52:51.482Z"
   },
   {
    "duration": 18,
    "start_time": "2023-01-15T20:52:51.543Z"
   },
   {
    "duration": 37,
    "start_time": "2023-01-15T20:52:51.563Z"
   },
   {
    "duration": 62,
    "start_time": "2023-01-15T20:52:51.602Z"
   },
   {
    "duration": 21,
    "start_time": "2023-01-15T20:52:51.666Z"
   },
   {
    "duration": 45,
    "start_time": "2023-01-15T20:52:51.689Z"
   },
   {
    "duration": 106,
    "start_time": "2023-01-15T20:52:51.737Z"
   },
   {
    "duration": 18,
    "start_time": "2023-01-15T20:52:51.845Z"
   },
   {
    "duration": 151,
    "start_time": "2023-01-15T20:52:51.865Z"
   },
   {
    "duration": 58,
    "start_time": "2023-01-15T20:52:52.021Z"
   },
   {
    "duration": 22,
    "start_time": "2023-01-15T20:52:52.082Z"
   },
   {
    "duration": 140,
    "start_time": "2023-01-15T20:52:52.123Z"
   },
   {
    "duration": 57,
    "start_time": "2023-01-15T20:52:52.266Z"
   },
   {
    "duration": 51,
    "start_time": "2023-01-15T20:52:52.325Z"
   },
   {
    "duration": 16,
    "start_time": "2023-01-15T20:52:52.378Z"
   },
   {
    "duration": 35,
    "start_time": "2023-01-15T20:52:52.395Z"
   },
   {
    "duration": 188,
    "start_time": "2023-01-15T20:52:52.431Z"
   },
   {
    "duration": 8,
    "start_time": "2023-01-15T20:52:52.622Z"
   },
   {
    "duration": 116,
    "start_time": "2023-01-15T20:52:52.632Z"
   },
   {
    "duration": 29,
    "start_time": "2023-01-15T20:52:52.750Z"
   },
   {
    "duration": 4,
    "start_time": "2023-01-15T20:52:52.781Z"
   },
   {
    "duration": 184,
    "start_time": "2023-01-15T20:52:52.787Z"
   },
   {
    "duration": 152,
    "start_time": "2023-01-15T20:52:52.972Z"
   },
   {
    "duration": 19,
    "start_time": "2023-01-15T20:52:53.131Z"
   },
   {
    "duration": 18,
    "start_time": "2023-01-15T20:52:53.152Z"
   },
   {
    "duration": 2,
    "start_time": "2023-01-15T20:52:53.172Z"
   },
   {
    "duration": 87,
    "start_time": "2023-01-15T20:52:53.176Z"
   },
   {
    "duration": 750,
    "start_time": "2023-01-15T20:52:53.265Z"
   },
   {
    "duration": 31,
    "start_time": "2023-01-15T20:52:54.017Z"
   },
   {
    "duration": 17,
    "start_time": "2023-01-15T20:52:54.050Z"
   },
   {
    "duration": 1762,
    "start_time": "2023-01-15T20:52:54.069Z"
   },
   {
    "duration": 22,
    "start_time": "2023-01-15T20:52:55.832Z"
   },
   {
    "duration": 1685,
    "start_time": "2023-01-15T20:52:55.856Z"
   },
   {
    "duration": 1166,
    "start_time": "2023-01-15T20:52:57.543Z"
   },
   {
    "duration": 14,
    "start_time": "2023-01-15T20:52:58.711Z"
   },
   {
    "duration": 39,
    "start_time": "2023-01-15T20:52:58.727Z"
   },
   {
    "duration": 3,
    "start_time": "2023-01-15T20:52:58.767Z"
   },
   {
    "duration": 12,
    "start_time": "2023-01-15T20:52:58.772Z"
   },
   {
    "duration": 27,
    "start_time": "2023-01-15T20:52:58.785Z"
   },
   {
    "duration": 136,
    "start_time": "2023-01-15T20:52:58.814Z"
   },
   {
    "duration": 4,
    "start_time": "2023-01-15T20:52:58.952Z"
   },
   {
    "duration": 17,
    "start_time": "2023-01-15T20:52:58.958Z"
   },
   {
    "duration": 6,
    "start_time": "2023-01-15T20:52:58.977Z"
   },
   {
    "duration": 88050,
    "start_time": "2023-01-15T20:52:58.984Z"
   },
   {
    "duration": 7,
    "start_time": "2023-01-15T20:54:27.036Z"
   },
   {
    "duration": 79,
    "start_time": "2023-01-15T20:54:27.045Z"
   },
   {
    "duration": 164,
    "start_time": "2023-01-15T20:54:27.125Z"
   },
   {
    "duration": 9,
    "start_time": "2023-01-15T20:57:09.076Z"
   },
   {
    "duration": 3,
    "start_time": "2023-01-15T20:58:29.067Z"
   },
   {
    "duration": 14,
    "start_time": "2023-01-15T20:58:29.605Z"
   },
   {
    "duration": 2076,
    "start_time": "2023-01-15T20:59:08.792Z"
   },
   {
    "duration": 6,
    "start_time": "2023-01-15T20:59:10.870Z"
   },
   {
    "duration": 764,
    "start_time": "2023-01-15T20:59:10.877Z"
   },
   {
    "duration": 15,
    "start_time": "2023-01-15T20:59:11.644Z"
   },
   {
    "duration": 118,
    "start_time": "2023-01-15T20:59:11.662Z"
   },
   {
    "duration": 839,
    "start_time": "2023-01-15T20:59:11.781Z"
   },
   {
    "duration": 249,
    "start_time": "2023-01-15T20:59:12.622Z"
   },
   {
    "duration": 31,
    "start_time": "2023-01-15T20:59:12.873Z"
   },
   {
    "duration": 64,
    "start_time": "2023-01-15T20:59:12.906Z"
   },
   {
    "duration": 97,
    "start_time": "2023-01-15T20:59:12.973Z"
   },
   {
    "duration": 56,
    "start_time": "2023-01-15T20:59:13.071Z"
   },
   {
    "duration": 99,
    "start_time": "2023-01-15T20:59:13.129Z"
   },
   {
    "duration": 26,
    "start_time": "2023-01-15T20:59:13.229Z"
   },
   {
    "duration": 20,
    "start_time": "2023-01-15T20:59:13.256Z"
   },
   {
    "duration": 26,
    "start_time": "2023-01-15T20:59:13.277Z"
   },
   {
    "duration": 51,
    "start_time": "2023-01-15T20:59:13.305Z"
   },
   {
    "duration": 19,
    "start_time": "2023-01-15T20:59:13.358Z"
   },
   {
    "duration": 51,
    "start_time": "2023-01-15T20:59:13.379Z"
   },
   {
    "duration": 39,
    "start_time": "2023-01-15T20:59:13.432Z"
   },
   {
    "duration": 17,
    "start_time": "2023-01-15T20:59:13.473Z"
   },
   {
    "duration": 52,
    "start_time": "2023-01-15T20:59:13.491Z"
   },
   {
    "duration": 40,
    "start_time": "2023-01-15T20:59:13.545Z"
   },
   {
    "duration": 18,
    "start_time": "2023-01-15T20:59:13.587Z"
   },
   {
    "duration": 28,
    "start_time": "2023-01-15T20:59:13.623Z"
   },
   {
    "duration": 45,
    "start_time": "2023-01-15T20:59:13.653Z"
   },
   {
    "duration": 34,
    "start_time": "2023-01-15T20:59:13.700Z"
   },
   {
    "duration": 29,
    "start_time": "2023-01-15T20:59:13.736Z"
   },
   {
    "duration": 112,
    "start_time": "2023-01-15T20:59:13.769Z"
   },
   {
    "duration": 19,
    "start_time": "2023-01-15T20:59:13.883Z"
   },
   {
    "duration": 131,
    "start_time": "2023-01-15T20:59:13.903Z"
   },
   {
    "duration": 66,
    "start_time": "2023-01-15T20:59:14.036Z"
   },
   {
    "duration": 36,
    "start_time": "2023-01-15T20:59:14.105Z"
   },
   {
    "duration": 161,
    "start_time": "2023-01-15T20:59:14.143Z"
   },
   {
    "duration": 36,
    "start_time": "2023-01-15T20:59:14.306Z"
   },
   {
    "duration": 47,
    "start_time": "2023-01-15T20:59:14.344Z"
   },
   {
    "duration": 15,
    "start_time": "2023-01-15T20:59:14.392Z"
   },
   {
    "duration": 14,
    "start_time": "2023-01-15T20:59:14.421Z"
   },
   {
    "duration": 177,
    "start_time": "2023-01-15T20:59:14.436Z"
   },
   {
    "duration": 9,
    "start_time": "2023-01-15T20:59:14.615Z"
   },
   {
    "duration": 96,
    "start_time": "2023-01-15T20:59:14.626Z"
   },
   {
    "duration": 23,
    "start_time": "2023-01-15T20:59:14.724Z"
   },
   {
    "duration": 2,
    "start_time": "2023-01-15T20:59:14.749Z"
   },
   {
    "duration": 159,
    "start_time": "2023-01-15T20:59:14.753Z"
   },
   {
    "duration": 148,
    "start_time": "2023-01-15T20:59:14.914Z"
   },
   {
    "duration": 18,
    "start_time": "2023-01-15T20:59:15.063Z"
   },
   {
    "duration": 23,
    "start_time": "2023-01-15T20:59:15.083Z"
   },
   {
    "duration": 14,
    "start_time": "2023-01-15T20:59:15.108Z"
   },
   {
    "duration": 69,
    "start_time": "2023-01-15T20:59:15.124Z"
   },
   {
    "duration": 755,
    "start_time": "2023-01-15T20:59:15.196Z"
   },
   {
    "duration": 24,
    "start_time": "2023-01-15T20:59:15.953Z"
   },
   {
    "duration": 16,
    "start_time": "2023-01-15T20:59:15.979Z"
   },
   {
    "duration": 1667,
    "start_time": "2023-01-15T20:59:15.997Z"
   },
   {
    "duration": 19,
    "start_time": "2023-01-15T20:59:17.666Z"
   },
   {
    "duration": 1739,
    "start_time": "2023-01-15T20:59:17.686Z"
   },
   {
    "duration": 1229,
    "start_time": "2023-01-15T20:59:19.426Z"
   },
   {
    "duration": 10,
    "start_time": "2023-01-15T20:59:20.658Z"
   },
   {
    "duration": 40,
    "start_time": "2023-01-15T20:59:20.669Z"
   },
   {
    "duration": 3,
    "start_time": "2023-01-15T20:59:20.723Z"
   },
   {
    "duration": 8,
    "start_time": "2023-01-15T20:59:20.727Z"
   },
   {
    "duration": 19,
    "start_time": "2023-01-15T20:59:20.737Z"
   },
   {
    "duration": 115,
    "start_time": "2023-01-15T20:59:20.758Z"
   },
   {
    "duration": 3,
    "start_time": "2023-01-15T20:59:20.875Z"
   },
   {
    "duration": 25,
    "start_time": "2023-01-15T20:59:20.879Z"
   },
   {
    "duration": 13,
    "start_time": "2023-01-15T20:59:20.906Z"
   },
   {
    "duration": 84301,
    "start_time": "2023-01-15T20:59:20.921Z"
   },
   {
    "duration": 9,
    "start_time": "2023-01-15T21:00:45.224Z"
   },
   {
    "duration": 9,
    "start_time": "2023-01-15T21:00:45.234Z"
   },
   {
    "duration": 0,
    "start_time": "2023-01-15T21:00:45.415Z"
   },
   {
    "duration": 161,
    "start_time": "2023-01-15T21:01:21.777Z"
   },
   {
    "duration": 73,
    "start_time": "2023-01-15T21:01:40.672Z"
   },
   {
    "duration": 76,
    "start_time": "2023-01-15T21:02:02.337Z"
   },
   {
    "duration": 2021,
    "start_time": "2023-01-15T21:05:17.542Z"
   },
   {
    "duration": 1393,
    "start_time": "2023-01-15T21:05:19.566Z"
   },
   {
    "duration": 786,
    "start_time": "2023-01-15T21:05:20.962Z"
   },
   {
    "duration": 18,
    "start_time": "2023-01-15T21:05:21.751Z"
   },
   {
    "duration": 139,
    "start_time": "2023-01-15T21:05:21.771Z"
   },
   {
    "duration": 1002,
    "start_time": "2023-01-15T21:05:21.921Z"
   },
   {
    "duration": 252,
    "start_time": "2023-01-15T21:05:22.925Z"
   },
   {
    "duration": 31,
    "start_time": "2023-01-15T21:05:23.178Z"
   },
   {
    "duration": 67,
    "start_time": "2023-01-15T21:05:23.211Z"
   },
   {
    "duration": 99,
    "start_time": "2023-01-15T21:05:23.280Z"
   },
   {
    "duration": 56,
    "start_time": "2023-01-15T21:05:23.381Z"
   },
   {
    "duration": 117,
    "start_time": "2023-01-15T21:05:23.439Z"
   },
   {
    "duration": 26,
    "start_time": "2023-01-15T21:05:23.558Z"
   },
   {
    "duration": 21,
    "start_time": "2023-01-15T21:05:23.586Z"
   },
   {
    "duration": 38,
    "start_time": "2023-01-15T21:05:23.609Z"
   },
   {
    "duration": 39,
    "start_time": "2023-01-15T21:05:23.648Z"
   },
   {
    "duration": 16,
    "start_time": "2023-01-15T21:05:23.689Z"
   },
   {
    "duration": 27,
    "start_time": "2023-01-15T21:05:23.723Z"
   },
   {
    "duration": 39,
    "start_time": "2023-01-15T21:05:23.752Z"
   },
   {
    "duration": 32,
    "start_time": "2023-01-15T21:05:23.793Z"
   },
   {
    "duration": 30,
    "start_time": "2023-01-15T21:05:23.827Z"
   },
   {
    "duration": 43,
    "start_time": "2023-01-15T21:05:23.859Z"
   },
   {
    "duration": 34,
    "start_time": "2023-01-15T21:05:23.904Z"
   },
   {
    "duration": 29,
    "start_time": "2023-01-15T21:05:23.940Z"
   },
   {
    "duration": 65,
    "start_time": "2023-01-15T21:05:23.971Z"
   },
   {
    "duration": 23,
    "start_time": "2023-01-15T21:05:24.038Z"
   },
   {
    "duration": 48,
    "start_time": "2023-01-15T21:05:24.065Z"
   },
   {
    "duration": 126,
    "start_time": "2023-01-15T21:05:24.121Z"
   },
   {
    "duration": 22,
    "start_time": "2023-01-15T21:05:24.249Z"
   },
   {
    "duration": 122,
    "start_time": "2023-01-15T21:05:24.272Z"
   },
   {
    "duration": 58,
    "start_time": "2023-01-15T21:05:24.396Z"
   },
   {
    "duration": 19,
    "start_time": "2023-01-15T21:05:24.456Z"
   },
   {
    "duration": 161,
    "start_time": "2023-01-15T21:05:24.476Z"
   },
   {
    "duration": 31,
    "start_time": "2023-01-15T21:05:24.639Z"
   },
   {
    "duration": 68,
    "start_time": "2023-01-15T21:05:24.671Z"
   },
   {
    "duration": 21,
    "start_time": "2023-01-15T21:05:24.741Z"
   },
   {
    "duration": 14,
    "start_time": "2023-01-15T21:05:24.764Z"
   },
   {
    "duration": 277,
    "start_time": "2023-01-15T21:05:24.780Z"
   },
   {
    "duration": 6,
    "start_time": "2023-01-15T21:05:25.058Z"
   },
   {
    "duration": 110,
    "start_time": "2023-01-15T21:05:25.066Z"
   },
   {
    "duration": 24,
    "start_time": "2023-01-15T21:05:25.178Z"
   },
   {
    "duration": 3,
    "start_time": "2023-01-15T21:05:25.203Z"
   },
   {
    "duration": 141,
    "start_time": "2023-01-15T21:05:25.208Z"
   },
   {
    "duration": 141,
    "start_time": "2023-01-15T21:05:25.351Z"
   },
   {
    "duration": 17,
    "start_time": "2023-01-15T21:05:25.493Z"
   },
   {
    "duration": 19,
    "start_time": "2023-01-15T21:05:25.522Z"
   },
   {
    "duration": 3,
    "start_time": "2023-01-15T21:05:25.543Z"
   },
   {
    "duration": 89,
    "start_time": "2023-01-15T21:05:25.547Z"
   },
   {
    "duration": 739,
    "start_time": "2023-01-15T21:05:25.637Z"
   },
   {
    "duration": 24,
    "start_time": "2023-01-15T21:05:26.378Z"
   },
   {
    "duration": 27,
    "start_time": "2023-01-15T21:05:26.403Z"
   },
   {
    "duration": 1655,
    "start_time": "2023-01-15T21:05:26.431Z"
   },
   {
    "duration": 18,
    "start_time": "2023-01-15T21:05:28.088Z"
   },
   {
    "duration": 1638,
    "start_time": "2023-01-15T21:05:28.107Z"
   },
   {
    "duration": 1230,
    "start_time": "2023-01-15T21:05:29.746Z"
   },
   {
    "duration": 8,
    "start_time": "2023-01-15T21:05:30.978Z"
   },
   {
    "duration": 70,
    "start_time": "2023-01-15T21:05:30.987Z"
   },
   {
    "duration": 6,
    "start_time": "2023-01-15T21:05:31.059Z"
   },
   {
    "duration": 31,
    "start_time": "2023-01-15T21:05:31.067Z"
   },
   {
    "duration": 41,
    "start_time": "2023-01-15T21:05:31.100Z"
   },
   {
    "duration": 118,
    "start_time": "2023-01-15T21:05:31.143Z"
   },
   {
    "duration": 3,
    "start_time": "2023-01-15T21:05:31.263Z"
   },
   {
    "duration": 31,
    "start_time": "2023-01-15T21:05:31.268Z"
   },
   {
    "duration": 34,
    "start_time": "2023-01-15T21:05:31.300Z"
   },
   {
    "duration": 83790,
    "start_time": "2023-01-15T21:05:31.335Z"
   },
   {
    "duration": 7,
    "start_time": "2023-01-15T21:06:55.127Z"
   },
   {
    "duration": 7,
    "start_time": "2023-01-15T21:06:55.136Z"
   },
   {
    "duration": 192,
    "start_time": "2023-01-15T21:06:55.145Z"
   },
   {
    "duration": 3,
    "start_time": "2023-01-15T21:07:21.588Z"
   },
   {
    "duration": 8,
    "start_time": "2023-01-15T21:07:34.398Z"
   },
   {
    "duration": 2160,
    "start_time": "2023-01-16T17:15:42.098Z"
   },
   {
    "duration": 1289,
    "start_time": "2023-01-16T17:15:44.260Z"
   },
   {
    "duration": 1066,
    "start_time": "2023-01-16T17:15:45.550Z"
   },
   {
    "duration": 15,
    "start_time": "2023-01-16T17:15:46.618Z"
   },
   {
    "duration": 128,
    "start_time": "2023-01-16T17:15:46.635Z"
   },
   {
    "duration": 914,
    "start_time": "2023-01-16T17:15:46.765Z"
   },
   {
    "duration": 243,
    "start_time": "2023-01-16T17:15:47.681Z"
   },
   {
    "duration": 27,
    "start_time": "2023-01-16T17:15:47.925Z"
   },
   {
    "duration": 66,
    "start_time": "2023-01-16T17:15:47.954Z"
   },
   {
    "duration": 120,
    "start_time": "2023-01-16T17:15:48.022Z"
   },
   {
    "duration": 47,
    "start_time": "2023-01-16T17:15:48.143Z"
   },
   {
    "duration": 115,
    "start_time": "2023-01-16T17:15:48.192Z"
   },
   {
    "duration": 29,
    "start_time": "2023-01-16T17:15:48.309Z"
   },
   {
    "duration": 29,
    "start_time": "2023-01-16T17:15:48.340Z"
   },
   {
    "duration": 40,
    "start_time": "2023-01-16T17:15:48.371Z"
   },
   {
    "duration": 44,
    "start_time": "2023-01-16T17:15:48.413Z"
   },
   {
    "duration": 20,
    "start_time": "2023-01-16T17:15:48.458Z"
   },
   {
    "duration": 41,
    "start_time": "2023-01-16T17:15:48.479Z"
   },
   {
    "duration": 40,
    "start_time": "2023-01-16T17:15:48.522Z"
   },
   {
    "duration": 18,
    "start_time": "2023-01-16T17:15:48.564Z"
   },
   {
    "duration": 40,
    "start_time": "2023-01-16T17:15:48.584Z"
   },
   {
    "duration": 45,
    "start_time": "2023-01-16T17:15:48.625Z"
   },
   {
    "duration": 24,
    "start_time": "2023-01-16T17:15:48.671Z"
   },
   {
    "duration": 31,
    "start_time": "2023-01-16T17:15:48.697Z"
   },
   {
    "duration": 56,
    "start_time": "2023-01-16T17:15:48.730Z"
   },
   {
    "duration": 20,
    "start_time": "2023-01-16T17:15:48.787Z"
   },
   {
    "duration": 34,
    "start_time": "2023-01-16T17:15:48.809Z"
   },
   {
    "duration": 152,
    "start_time": "2023-01-16T17:15:48.847Z"
   },
   {
    "duration": 17,
    "start_time": "2023-01-16T17:15:49.001Z"
   },
   {
    "duration": 132,
    "start_time": "2023-01-16T17:15:49.020Z"
   },
   {
    "duration": 66,
    "start_time": "2023-01-16T17:15:49.154Z"
   },
   {
    "duration": 20,
    "start_time": "2023-01-16T17:15:49.222Z"
   },
   {
    "duration": 152,
    "start_time": "2023-01-16T17:15:49.243Z"
   },
   {
    "duration": 31,
    "start_time": "2023-01-16T17:15:49.397Z"
   },
   {
    "duration": 78,
    "start_time": "2023-01-16T17:15:49.430Z"
   },
   {
    "duration": 16,
    "start_time": "2023-01-16T17:15:49.510Z"
   },
   {
    "duration": 14,
    "start_time": "2023-01-16T17:15:49.527Z"
   },
   {
    "duration": 185,
    "start_time": "2023-01-16T17:15:49.577Z"
   },
   {
    "duration": 8,
    "start_time": "2023-01-16T17:15:49.763Z"
   },
   {
    "duration": 118,
    "start_time": "2023-01-16T17:15:49.778Z"
   },
   {
    "duration": 28,
    "start_time": "2023-01-16T17:15:49.897Z"
   },
   {
    "duration": 8,
    "start_time": "2023-01-16T17:15:49.928Z"
   },
   {
    "duration": 231,
    "start_time": "2023-01-16T17:15:49.937Z"
   },
   {
    "duration": 246,
    "start_time": "2023-01-16T17:15:50.179Z"
   },
   {
    "duration": 18,
    "start_time": "2023-01-16T17:15:50.427Z"
   },
   {
    "duration": 38,
    "start_time": "2023-01-16T17:15:50.447Z"
   },
   {
    "duration": 3,
    "start_time": "2023-01-16T17:15:50.487Z"
   },
   {
    "duration": 63,
    "start_time": "2023-01-16T17:15:50.492Z"
   },
   {
    "duration": 706,
    "start_time": "2023-01-16T17:15:50.557Z"
   },
   {
    "duration": 92,
    "start_time": "2023-01-16T17:15:51.265Z"
   },
   {
    "duration": 21,
    "start_time": "2023-01-16T17:15:51.359Z"
   },
   {
    "duration": 1741,
    "start_time": "2023-01-16T17:15:51.382Z"
   },
   {
    "duration": 18,
    "start_time": "2023-01-16T17:15:53.124Z"
   },
   {
    "duration": 1775,
    "start_time": "2023-01-16T17:15:53.144Z"
   },
   {
    "duration": 1285,
    "start_time": "2023-01-16T17:15:54.920Z"
   },
   {
    "duration": 8,
    "start_time": "2023-01-16T17:15:56.208Z"
   },
   {
    "duration": 41,
    "start_time": "2023-01-16T17:15:56.217Z"
   },
   {
    "duration": 4,
    "start_time": "2023-01-16T17:15:56.259Z"
   },
   {
    "duration": 10,
    "start_time": "2023-01-16T17:15:56.264Z"
   },
   {
    "duration": 17,
    "start_time": "2023-01-16T17:15:56.275Z"
   },
   {
    "duration": 106,
    "start_time": "2023-01-16T17:15:56.293Z"
   },
   {
    "duration": 4,
    "start_time": "2023-01-16T17:15:56.401Z"
   },
   {
    "duration": 7,
    "start_time": "2023-01-16T17:15:56.406Z"
   },
   {
    "duration": 14,
    "start_time": "2023-01-16T17:15:56.415Z"
   },
   {
    "duration": 157365,
    "start_time": "2023-01-16T17:15:56.431Z"
   },
   {
    "duration": 95,
    "start_time": "2023-01-16T17:18:33.798Z"
   },
   {
    "duration": 20,
    "start_time": "2023-01-16T17:18:33.895Z"
   },
   {
    "duration": 204,
    "start_time": "2023-01-16T17:18:33.916Z"
   },
   {
    "duration": 2958,
    "start_time": "2023-01-16T20:20:41.919Z"
   },
   {
    "duration": 1773,
    "start_time": "2023-01-16T20:20:44.880Z"
   },
   {
    "duration": 2906,
    "start_time": "2023-01-16T20:20:46.655Z"
   },
   {
    "duration": 119,
    "start_time": "2023-01-16T20:20:49.563Z"
   },
   {
    "duration": 138,
    "start_time": "2023-01-16T20:20:49.683Z"
   },
   {
    "duration": 881,
    "start_time": "2023-01-16T20:20:49.823Z"
   },
   {
    "duration": 240,
    "start_time": "2023-01-16T20:20:50.706Z"
   },
   {
    "duration": 30,
    "start_time": "2023-01-16T20:20:50.949Z"
   },
   {
    "duration": 73,
    "start_time": "2023-01-16T20:20:50.981Z"
   },
   {
    "duration": 120,
    "start_time": "2023-01-16T20:20:51.056Z"
   },
   {
    "duration": 37,
    "start_time": "2023-01-16T20:20:51.178Z"
   },
   {
    "duration": 121,
    "start_time": "2023-01-16T20:20:51.217Z"
   },
   {
    "duration": 35,
    "start_time": "2023-01-16T20:20:51.340Z"
   },
   {
    "duration": 33,
    "start_time": "2023-01-16T20:20:51.376Z"
   },
   {
    "duration": 37,
    "start_time": "2023-01-16T20:20:51.411Z"
   },
   {
    "duration": 40,
    "start_time": "2023-01-16T20:20:51.449Z"
   },
   {
    "duration": 20,
    "start_time": "2023-01-16T20:20:51.490Z"
   },
   {
    "duration": 53,
    "start_time": "2023-01-16T20:20:51.511Z"
   },
   {
    "duration": 57,
    "start_time": "2023-01-16T20:20:51.566Z"
   },
   {
    "duration": 19,
    "start_time": "2023-01-16T20:20:51.625Z"
   },
   {
    "duration": 53,
    "start_time": "2023-01-16T20:20:51.646Z"
   },
   {
    "duration": 53,
    "start_time": "2023-01-16T20:20:51.701Z"
   },
   {
    "duration": 21,
    "start_time": "2023-01-16T20:20:51.755Z"
   },
   {
    "duration": 36,
    "start_time": "2023-01-16T20:20:51.778Z"
   },
   {
    "duration": 48,
    "start_time": "2023-01-16T20:20:51.815Z"
   },
   {
    "duration": 21,
    "start_time": "2023-01-16T20:20:51.865Z"
   },
   {
    "duration": 30,
    "start_time": "2023-01-16T20:20:51.888Z"
   },
   {
    "duration": 131,
    "start_time": "2023-01-16T20:20:51.921Z"
   },
   {
    "duration": 15,
    "start_time": "2023-01-16T20:20:52.054Z"
   },
   {
    "duration": 128,
    "start_time": "2023-01-16T20:20:52.070Z"
   },
   {
    "duration": 23,
    "start_time": "2023-01-16T20:21:21.181Z"
   },
   {
    "duration": 46,
    "start_time": "2023-01-16T20:23:10.070Z"
   },
   {
    "duration": 109,
    "start_time": "2023-01-16T20:24:00.483Z"
   },
   {
    "duration": 12,
    "start_time": "2023-01-16T20:24:06.569Z"
   },
   {
    "duration": 21,
    "start_time": "2023-01-16T20:24:11.967Z"
   },
   {
    "duration": 28,
    "start_time": "2023-01-16T20:24:27.690Z"
   },
   {
    "duration": 23,
    "start_time": "2023-01-16T20:24:52.654Z"
   },
   {
    "duration": 22,
    "start_time": "2023-01-16T20:25:02.796Z"
   },
   {
    "duration": 21,
    "start_time": "2023-01-16T20:25:18.420Z"
   },
   {
    "duration": 21,
    "start_time": "2023-01-16T20:25:30.303Z"
   },
   {
    "duration": 23,
    "start_time": "2023-01-16T20:25:34.205Z"
   },
   {
    "duration": 55,
    "start_time": "2023-01-16T20:25:37.704Z"
   },
   {
    "duration": 9,
    "start_time": "2023-01-16T20:28:13.163Z"
   },
   {
    "duration": 4,
    "start_time": "2023-01-16T20:28:24.098Z"
   },
   {
    "duration": 8,
    "start_time": "2023-01-16T20:28:51.871Z"
   },
   {
    "duration": 10,
    "start_time": "2023-01-16T20:29:35.245Z"
   },
   {
    "duration": 42,
    "start_time": "2023-01-16T20:29:40.723Z"
   },
   {
    "duration": 9,
    "start_time": "2023-01-16T20:29:48.793Z"
   },
   {
    "duration": 4,
    "start_time": "2023-01-16T20:30:37.650Z"
   },
   {
    "duration": 10,
    "start_time": "2023-01-16T20:30:42.916Z"
   },
   {
    "duration": 7,
    "start_time": "2023-01-16T20:30:52.898Z"
   },
   {
    "duration": 6,
    "start_time": "2023-01-16T20:31:14.423Z"
   },
   {
    "duration": 16,
    "start_time": "2023-01-16T20:31:21.582Z"
   },
   {
    "duration": 4,
    "start_time": "2023-01-16T20:31:41.656Z"
   },
   {
    "duration": 646,
    "start_time": "2023-01-16T20:33:03.665Z"
   },
   {
    "duration": 11,
    "start_time": "2023-01-16T20:33:28.155Z"
   },
   {
    "duration": 710,
    "start_time": "2023-01-16T20:33:42.049Z"
   },
   {
    "duration": 675,
    "start_time": "2023-01-16T20:34:01.868Z"
   },
   {
    "duration": 685,
    "start_time": "2023-01-16T20:34:11.598Z"
   },
   {
    "duration": 10,
    "start_time": "2023-01-16T20:34:32.053Z"
   },
   {
    "duration": 698,
    "start_time": "2023-01-16T20:34:53.457Z"
   },
   {
    "duration": 701,
    "start_time": "2023-01-16T20:35:46.865Z"
   },
   {
    "duration": 720,
    "start_time": "2023-01-16T20:36:09.958Z"
   },
   {
    "duration": 696,
    "start_time": "2023-01-16T20:36:24.813Z"
   },
   {
    "duration": 59,
    "start_time": "2023-01-16T20:36:48.102Z"
   },
   {
    "duration": 727,
    "start_time": "2023-01-16T20:36:55.700Z"
   },
   {
    "duration": 60,
    "start_time": "2023-01-16T20:37:04.326Z"
   },
   {
    "duration": 5,
    "start_time": "2023-01-16T20:37:26.105Z"
   },
   {
    "duration": 718,
    "start_time": "2023-01-16T20:37:37.597Z"
   },
   {
    "duration": 710,
    "start_time": "2023-01-16T20:37:45.556Z"
   },
   {
    "duration": 5,
    "start_time": "2023-01-16T20:38:01.309Z"
   },
   {
    "duration": 6,
    "start_time": "2023-01-16T20:38:20.591Z"
   },
   {
    "duration": 5,
    "start_time": "2023-01-16T20:38:30.222Z"
   },
   {
    "duration": 7,
    "start_time": "2023-01-16T20:38:34.052Z"
   },
   {
    "duration": 6,
    "start_time": "2023-01-16T20:38:38.263Z"
   },
   {
    "duration": 4,
    "start_time": "2023-01-16T20:38:49.815Z"
   },
   {
    "duration": 10,
    "start_time": "2023-01-16T20:39:01.088Z"
   },
   {
    "duration": 5,
    "start_time": "2023-01-16T20:39:10.126Z"
   },
   {
    "duration": 4,
    "start_time": "2023-01-16T20:39:14.177Z"
   },
   {
    "duration": 803,
    "start_time": "2023-01-16T20:39:24.270Z"
   },
   {
    "duration": 3,
    "start_time": "2023-01-16T20:39:55.753Z"
   },
   {
    "duration": 820,
    "start_time": "2023-01-16T20:40:00.624Z"
   },
   {
    "duration": 4,
    "start_time": "2023-01-16T20:40:17.247Z"
   },
   {
    "duration": 5,
    "start_time": "2023-01-16T20:40:29.560Z"
   },
   {
    "duration": 720,
    "start_time": "2023-01-16T20:40:39.282Z"
   },
   {
    "duration": 4,
    "start_time": "2023-01-16T20:40:42.183Z"
   },
   {
    "duration": 5,
    "start_time": "2023-01-16T20:40:52.777Z"
   },
   {
    "duration": 9,
    "start_time": "2023-01-16T20:41:09.060Z"
   },
   {
    "duration": 5,
    "start_time": "2023-01-16T20:41:27.852Z"
   },
   {
    "duration": 5,
    "start_time": "2023-01-16T20:41:40.210Z"
   },
   {
    "duration": 2089,
    "start_time": "2023-01-16T20:41:59.762Z"
   },
   {
    "duration": 5,
    "start_time": "2023-01-16T20:42:01.854Z"
   },
   {
    "duration": 823,
    "start_time": "2023-01-16T20:42:01.861Z"
   },
   {
    "duration": 14,
    "start_time": "2023-01-16T20:42:02.686Z"
   },
   {
    "duration": 186,
    "start_time": "2023-01-16T20:42:02.701Z"
   },
   {
    "duration": 934,
    "start_time": "2023-01-16T20:42:02.888Z"
   },
   {
    "duration": 232,
    "start_time": "2023-01-16T20:42:03.824Z"
   },
   {
    "duration": 28,
    "start_time": "2023-01-16T20:42:04.058Z"
   },
   {
    "duration": 84,
    "start_time": "2023-01-16T20:42:04.088Z"
   },
   {
    "duration": 114,
    "start_time": "2023-01-16T20:42:04.175Z"
   },
   {
    "duration": 38,
    "start_time": "2023-01-16T20:42:04.291Z"
   },
   {
    "duration": 106,
    "start_time": "2023-01-16T20:42:04.331Z"
   },
   {
    "duration": 38,
    "start_time": "2023-01-16T20:42:04.438Z"
   },
   {
    "duration": 30,
    "start_time": "2023-01-16T20:42:04.478Z"
   },
   {
    "duration": 29,
    "start_time": "2023-01-16T20:42:04.510Z"
   },
   {
    "duration": 45,
    "start_time": "2023-01-16T20:42:04.541Z"
   },
   {
    "duration": 18,
    "start_time": "2023-01-16T20:42:04.587Z"
   },
   {
    "duration": 44,
    "start_time": "2023-01-16T20:42:04.607Z"
   },
   {
    "duration": 37,
    "start_time": "2023-01-16T20:42:04.653Z"
   },
   {
    "duration": 17,
    "start_time": "2023-01-16T20:42:04.692Z"
   },
   {
    "duration": 49,
    "start_time": "2023-01-16T20:42:04.710Z"
   },
   {
    "duration": 41,
    "start_time": "2023-01-16T20:42:04.760Z"
   },
   {
    "duration": 19,
    "start_time": "2023-01-16T20:42:04.803Z"
   },
   {
    "duration": 48,
    "start_time": "2023-01-16T20:42:04.823Z"
   },
   {
    "duration": 50,
    "start_time": "2023-01-16T20:42:04.872Z"
   },
   {
    "duration": 27,
    "start_time": "2023-01-16T20:42:04.924Z"
   },
   {
    "duration": 29,
    "start_time": "2023-01-16T20:42:04.953Z"
   },
   {
    "duration": 124,
    "start_time": "2023-01-16T20:42:04.985Z"
   },
   {
    "duration": 15,
    "start_time": "2023-01-16T20:42:05.110Z"
   },
   {
    "duration": 120,
    "start_time": "2023-01-16T20:42:05.127Z"
   },
   {
    "duration": 13,
    "start_time": "2023-01-16T20:42:16.759Z"
   },
   {
    "duration": 6,
    "start_time": "2023-01-16T20:42:18.024Z"
   },
   {
    "duration": 716,
    "start_time": "2023-01-16T20:42:19.049Z"
   },
   {
    "duration": 45893,
    "start_time": "2023-01-16T20:42:57.478Z"
   },
   {
    "duration": 712,
    "start_time": "2023-01-16T20:44:10.408Z"
   },
   {
    "duration": 178,
    "start_time": "2023-01-16T20:47:28.784Z"
   },
   {
    "duration": 14,
    "start_time": "2023-01-16T20:47:44.648Z"
   },
   {
    "duration": 88,
    "start_time": "2023-01-16T20:49:54.810Z"
   },
   {
    "duration": 21,
    "start_time": "2023-01-16T20:50:02.856Z"
   },
   {
    "duration": 22,
    "start_time": "2023-01-16T20:50:10.657Z"
   },
   {
    "duration": 18,
    "start_time": "2023-01-16T20:50:21.099Z"
   },
   {
    "duration": 42,
    "start_time": "2023-01-16T20:52:46.911Z"
   },
   {
    "duration": 15,
    "start_time": "2023-01-16T20:52:53.246Z"
   },
   {
    "duration": 15,
    "start_time": "2023-01-16T20:53:05.703Z"
   },
   {
    "duration": 18,
    "start_time": "2023-01-16T20:53:15.666Z"
   },
   {
    "duration": 15,
    "start_time": "2023-01-16T20:53:23.512Z"
   },
   {
    "duration": 15,
    "start_time": "2023-01-16T20:54:25.306Z"
   },
   {
    "duration": 58,
    "start_time": "2023-01-16T20:54:51.366Z"
   },
   {
    "duration": 45,
    "start_time": "2023-01-16T20:54:56.247Z"
   },
   {
    "duration": 15,
    "start_time": "2023-01-16T20:55:04.196Z"
   },
   {
    "duration": 14,
    "start_time": "2023-01-16T20:55:20.377Z"
   },
   {
    "duration": 2028,
    "start_time": "2023-01-16T20:55:26.450Z"
   },
   {
    "duration": 5,
    "start_time": "2023-01-16T20:55:28.480Z"
   },
   {
    "duration": 783,
    "start_time": "2023-01-16T20:55:28.487Z"
   },
   {
    "duration": 12,
    "start_time": "2023-01-16T20:55:29.272Z"
   },
   {
    "duration": 134,
    "start_time": "2023-01-16T20:55:29.286Z"
   },
   {
    "duration": 846,
    "start_time": "2023-01-16T20:55:29.422Z"
   },
   {
    "duration": 240,
    "start_time": "2023-01-16T20:55:30.270Z"
   },
   {
    "duration": 37,
    "start_time": "2023-01-16T20:55:30.511Z"
   },
   {
    "duration": 53,
    "start_time": "2023-01-16T20:55:30.550Z"
   },
   {
    "duration": 127,
    "start_time": "2023-01-16T20:55:30.605Z"
   },
   {
    "duration": 56,
    "start_time": "2023-01-16T20:55:30.733Z"
   },
   {
    "duration": 115,
    "start_time": "2023-01-16T20:55:30.791Z"
   },
   {
    "duration": 32,
    "start_time": "2023-01-16T20:55:30.908Z"
   },
   {
    "duration": 44,
    "start_time": "2023-01-16T20:55:30.949Z"
   },
   {
    "duration": 61,
    "start_time": "2023-01-16T20:55:30.995Z"
   },
   {
    "duration": 69,
    "start_time": "2023-01-16T20:55:31.058Z"
   },
   {
    "duration": 21,
    "start_time": "2023-01-16T20:55:31.129Z"
   },
   {
    "duration": 53,
    "start_time": "2023-01-16T20:55:31.152Z"
   },
   {
    "duration": 58,
    "start_time": "2023-01-16T20:55:31.207Z"
   },
   {
    "duration": 19,
    "start_time": "2023-01-16T20:55:31.266Z"
   },
   {
    "duration": 44,
    "start_time": "2023-01-16T20:55:31.287Z"
   },
   {
    "duration": 45,
    "start_time": "2023-01-16T20:55:31.332Z"
   },
   {
    "duration": 25,
    "start_time": "2023-01-16T20:55:31.379Z"
   },
   {
    "duration": 45,
    "start_time": "2023-01-16T20:55:31.406Z"
   },
   {
    "duration": 45,
    "start_time": "2023-01-16T20:55:31.452Z"
   },
   {
    "duration": 19,
    "start_time": "2023-01-16T20:55:31.498Z"
   },
   {
    "duration": 50,
    "start_time": "2023-01-16T20:55:31.519Z"
   },
   {
    "duration": 128,
    "start_time": "2023-01-16T20:55:31.573Z"
   },
   {
    "duration": 16,
    "start_time": "2023-01-16T20:55:31.703Z"
   },
   {
    "duration": 131,
    "start_time": "2023-01-16T20:55:31.720Z"
   },
   {
    "duration": 22,
    "start_time": "2023-01-16T20:55:45.860Z"
   },
   {
    "duration": 102,
    "start_time": "2023-01-16T20:55:54.963Z"
   },
   {
    "duration": 2057,
    "start_time": "2023-01-16T20:56:40.433Z"
   },
   {
    "duration": 5,
    "start_time": "2023-01-16T20:56:42.493Z"
   },
   {
    "duration": 826,
    "start_time": "2023-01-16T20:56:42.500Z"
   },
   {
    "duration": 13,
    "start_time": "2023-01-16T20:56:43.329Z"
   },
   {
    "duration": 169,
    "start_time": "2023-01-16T20:56:43.343Z"
   },
   {
    "duration": 851,
    "start_time": "2023-01-16T20:56:43.514Z"
   },
   {
    "duration": 223,
    "start_time": "2023-01-16T20:56:44.367Z"
   },
   {
    "duration": 28,
    "start_time": "2023-01-16T20:56:44.591Z"
   },
   {
    "duration": 67,
    "start_time": "2023-01-16T20:56:44.621Z"
   },
   {
    "duration": 114,
    "start_time": "2023-01-16T20:56:44.691Z"
   },
   {
    "duration": 51,
    "start_time": "2023-01-16T20:56:44.806Z"
   },
   {
    "duration": 100,
    "start_time": "2023-01-16T20:56:44.859Z"
   },
   {
    "duration": 33,
    "start_time": "2023-01-16T20:56:44.960Z"
   },
   {
    "duration": 23,
    "start_time": "2023-01-16T20:56:44.995Z"
   },
   {
    "duration": 49,
    "start_time": "2023-01-16T20:56:45.019Z"
   },
   {
    "duration": 41,
    "start_time": "2023-01-16T20:56:45.070Z"
   },
   {
    "duration": 19,
    "start_time": "2023-01-16T20:56:45.113Z"
   },
   {
    "duration": 30,
    "start_time": "2023-01-16T20:56:45.148Z"
   },
   {
    "duration": 41,
    "start_time": "2023-01-16T20:56:45.179Z"
   },
   {
    "duration": 37,
    "start_time": "2023-01-16T20:56:45.221Z"
   },
   {
    "duration": 35,
    "start_time": "2023-01-16T20:56:45.259Z"
   },
   {
    "duration": 56,
    "start_time": "2023-01-16T20:56:45.296Z"
   },
   {
    "duration": 26,
    "start_time": "2023-01-16T20:56:45.353Z"
   },
   {
    "duration": 68,
    "start_time": "2023-01-16T20:56:45.381Z"
   },
   {
    "duration": 53,
    "start_time": "2023-01-16T20:56:45.451Z"
   },
   {
    "duration": 23,
    "start_time": "2023-01-16T20:56:45.506Z"
   },
   {
    "duration": 41,
    "start_time": "2023-01-16T20:56:45.531Z"
   },
   {
    "duration": 124,
    "start_time": "2023-01-16T20:56:45.575Z"
   },
   {
    "duration": 20,
    "start_time": "2023-01-16T20:56:45.700Z"
   },
   {
    "duration": 122,
    "start_time": "2023-01-16T20:56:45.722Z"
   },
   {
    "duration": 22,
    "start_time": "2023-01-16T20:56:45.848Z"
   },
   {
    "duration": 70,
    "start_time": "2023-01-16T20:56:49.649Z"
   },
   {
    "duration": 92,
    "start_time": "2023-01-16T20:57:26.310Z"
   },
   {
    "duration": 28,
    "start_time": "2023-01-16T20:58:16.460Z"
   },
   {
    "duration": 2168,
    "start_time": "2023-01-16T20:58:43.194Z"
   },
   {
    "duration": 5,
    "start_time": "2023-01-16T20:58:45.364Z"
   },
   {
    "duration": 815,
    "start_time": "2023-01-16T20:58:45.371Z"
   },
   {
    "duration": 18,
    "start_time": "2023-01-16T20:58:46.188Z"
   },
   {
    "duration": 163,
    "start_time": "2023-01-16T20:58:46.208Z"
   },
   {
    "duration": 838,
    "start_time": "2023-01-16T20:58:46.373Z"
   },
   {
    "duration": 224,
    "start_time": "2023-01-16T20:58:47.213Z"
   },
   {
    "duration": 33,
    "start_time": "2023-01-16T20:58:47.439Z"
   },
   {
    "duration": 58,
    "start_time": "2023-01-16T20:58:47.474Z"
   },
   {
    "duration": 140,
    "start_time": "2023-01-16T20:58:47.535Z"
   },
   {
    "duration": 40,
    "start_time": "2023-01-16T20:58:47.676Z"
   },
   {
    "duration": 112,
    "start_time": "2023-01-16T20:58:47.717Z"
   },
   {
    "duration": 33,
    "start_time": "2023-01-16T20:58:47.830Z"
   },
   {
    "duration": 22,
    "start_time": "2023-01-16T20:58:47.864Z"
   },
   {
    "duration": 32,
    "start_time": "2023-01-16T20:58:47.887Z"
   },
   {
    "duration": 46,
    "start_time": "2023-01-16T20:58:47.920Z"
   },
   {
    "duration": 20,
    "start_time": "2023-01-16T20:58:47.967Z"
   },
   {
    "duration": 30,
    "start_time": "2023-01-16T20:58:47.988Z"
   },
   {
    "duration": 56,
    "start_time": "2023-01-16T20:58:48.020Z"
   },
   {
    "duration": 17,
    "start_time": "2023-01-16T20:58:48.078Z"
   },
   {
    "duration": 31,
    "start_time": "2023-01-16T20:58:48.096Z"
   },
   {
    "duration": 54,
    "start_time": "2023-01-16T20:58:48.129Z"
   },
   {
    "duration": 24,
    "start_time": "2023-01-16T20:58:48.185Z"
   },
   {
    "duration": 46,
    "start_time": "2023-01-16T20:58:48.210Z"
   },
   {
    "duration": 44,
    "start_time": "2023-01-16T20:58:48.258Z"
   },
   {
    "duration": 21,
    "start_time": "2023-01-16T20:58:48.304Z"
   },
   {
    "duration": 34,
    "start_time": "2023-01-16T20:58:48.348Z"
   },
   {
    "duration": 138,
    "start_time": "2023-01-16T20:58:48.386Z"
   },
   {
    "duration": 25,
    "start_time": "2023-01-16T20:58:48.526Z"
   },
   {
    "duration": 141,
    "start_time": "2023-01-16T20:58:48.553Z"
   },
   {
    "duration": 26,
    "start_time": "2023-01-16T20:58:48.696Z"
   },
   {
    "duration": 72,
    "start_time": "2023-01-16T20:58:53.568Z"
   },
   {
    "duration": 68,
    "start_time": "2023-01-16T20:58:57.896Z"
   },
   {
    "duration": 53,
    "start_time": "2023-01-16T20:59:58.414Z"
   },
   {
    "duration": 61,
    "start_time": "2023-01-16T21:00:03.458Z"
   },
   {
    "duration": 36,
    "start_time": "2023-01-16T21:00:17.938Z"
   },
   {
    "duration": 6,
    "start_time": "2023-01-16T21:01:09.112Z"
   },
   {
    "duration": 10,
    "start_time": "2023-01-16T21:01:21.718Z"
   },
   {
    "duration": 65,
    "start_time": "2023-01-16T21:04:28.154Z"
   },
   {
    "duration": 2845,
    "start_time": "2023-01-17T10:16:17.679Z"
   },
   {
    "duration": 1661,
    "start_time": "2023-01-17T10:16:20.527Z"
   },
   {
    "duration": 3023,
    "start_time": "2023-01-17T10:16:22.190Z"
   },
   {
    "duration": 26,
    "start_time": "2023-01-17T10:16:25.215Z"
   },
   {
    "duration": 145,
    "start_time": "2023-01-17T10:16:25.244Z"
   },
   {
    "duration": 1007,
    "start_time": "2023-01-17T10:16:25.392Z"
   },
   {
    "duration": 390,
    "start_time": "2023-01-17T10:16:26.401Z"
   },
   {
    "duration": 42,
    "start_time": "2023-01-17T10:16:26.793Z"
   },
   {
    "duration": 85,
    "start_time": "2023-01-17T10:16:26.836Z"
   },
   {
    "duration": 124,
    "start_time": "2023-01-17T10:16:26.924Z"
   },
   {
    "duration": 55,
    "start_time": "2023-01-17T10:16:27.050Z"
   },
   {
    "duration": 125,
    "start_time": "2023-01-17T10:16:27.109Z"
   },
   {
    "duration": 55,
    "start_time": "2023-01-17T10:16:27.237Z"
   },
   {
    "duration": 25,
    "start_time": "2023-01-17T10:16:27.294Z"
   },
   {
    "duration": 30,
    "start_time": "2023-01-17T10:16:27.321Z"
   },
   {
    "duration": 61,
    "start_time": "2023-01-17T10:16:27.354Z"
   },
   {
    "duration": 18,
    "start_time": "2023-01-17T10:16:27.416Z"
   },
   {
    "duration": 49,
    "start_time": "2023-01-17T10:16:27.436Z"
   },
   {
    "duration": 40,
    "start_time": "2023-01-17T10:16:27.488Z"
   },
   {
    "duration": 20,
    "start_time": "2023-01-17T10:16:27.529Z"
   },
   {
    "duration": 59,
    "start_time": "2023-01-17T10:16:27.550Z"
   },
   {
    "duration": 44,
    "start_time": "2023-01-17T10:16:27.610Z"
   },
   {
    "duration": 29,
    "start_time": "2023-01-17T10:16:27.656Z"
   },
   {
    "duration": 30,
    "start_time": "2023-01-17T10:16:27.687Z"
   },
   {
    "duration": 46,
    "start_time": "2023-01-17T10:16:27.719Z"
   },
   {
    "duration": 27,
    "start_time": "2023-01-17T10:16:27.783Z"
   },
   {
    "duration": 32,
    "start_time": "2023-01-17T10:16:27.812Z"
   },
   {
    "duration": 122,
    "start_time": "2023-01-17T10:16:27.847Z"
   },
   {
    "duration": 25,
    "start_time": "2023-01-17T10:16:27.971Z"
   },
   {
    "duration": 136,
    "start_time": "2023-01-17T10:16:27.998Z"
   },
   {
    "duration": 89,
    "start_time": "2023-01-17T10:16:28.136Z"
   },
   {
    "duration": 80,
    "start_time": "2023-01-17T10:16:28.227Z"
   },
   {
    "duration": 47,
    "start_time": "2023-01-17T10:16:28.309Z"
   },
   {
    "duration": 38,
    "start_time": "2023-01-17T10:16:28.358Z"
   },
   {
    "duration": 148,
    "start_time": "2023-01-17T10:16:28.398Z"
   },
   {
    "duration": 36,
    "start_time": "2023-01-17T10:16:28.547Z"
   },
   {
    "duration": 44,
    "start_time": "2023-01-17T10:16:28.585Z"
   },
   {
    "duration": 17,
    "start_time": "2023-01-17T10:16:28.630Z"
   },
   {
    "duration": 41,
    "start_time": "2023-01-17T10:16:28.649Z"
   },
   {
    "duration": 271,
    "start_time": "2023-01-17T10:16:28.692Z"
   },
   {
    "duration": 16,
    "start_time": "2023-01-17T10:16:28.965Z"
   },
   {
    "duration": 108,
    "start_time": "2023-01-17T10:16:28.983Z"
   },
   {
    "duration": 22,
    "start_time": "2023-01-17T10:16:29.093Z"
   },
   {
    "duration": 3,
    "start_time": "2023-01-17T10:16:29.117Z"
   },
   {
    "duration": 151,
    "start_time": "2023-01-17T10:16:29.122Z"
   },
   {
    "duration": 142,
    "start_time": "2023-01-17T10:16:29.274Z"
   },
   {
    "duration": 19,
    "start_time": "2023-01-17T10:16:29.418Z"
   },
   {
    "duration": 19,
    "start_time": "2023-01-17T10:21:10.392Z"
   },
   {
    "duration": 20,
    "start_time": "2023-01-17T10:21:14.753Z"
   },
   {
    "duration": 2,
    "start_time": "2023-01-17T10:21:18.670Z"
   },
   {
    "duration": 19,
    "start_time": "2023-01-17T10:23:24.515Z"
   },
   {
    "duration": 4,
    "start_time": "2023-01-17T10:23:30.602Z"
   },
   {
    "duration": 32,
    "start_time": "2023-01-17T10:23:33.320Z"
   },
   {
    "duration": 3,
    "start_time": "2023-01-17T10:23:48.839Z"
   },
   {
    "duration": 137,
    "start_time": "2023-01-17T10:25:31.810Z"
   },
   {
    "duration": 15,
    "start_time": "2023-01-17T10:25:35.690Z"
   },
   {
    "duration": 3,
    "start_time": "2023-01-17T10:28:15.027Z"
   },
   {
    "duration": 53,
    "start_time": "2023-01-17T10:29:34.503Z"
   },
   {
    "duration": 62,
    "start_time": "2023-01-17T10:30:52.355Z"
   },
   {
    "duration": 24,
    "start_time": "2023-01-17T10:31:29.010Z"
   },
   {
    "duration": 17,
    "start_time": "2023-01-17T10:31:33.378Z"
   },
   {
    "duration": 55,
    "start_time": "2023-01-17T10:31:33.673Z"
   },
   {
    "duration": 23,
    "start_time": "2023-01-17T10:31:34.019Z"
   },
   {
    "duration": 2171,
    "start_time": "2023-01-17T10:31:38.376Z"
   },
   {
    "duration": 5,
    "start_time": "2023-01-17T10:31:40.549Z"
   },
   {
    "duration": 832,
    "start_time": "2023-01-17T10:31:40.556Z"
   },
   {
    "duration": 15,
    "start_time": "2023-01-17T10:31:41.391Z"
   },
   {
    "duration": 126,
    "start_time": "2023-01-17T10:31:41.407Z"
   },
   {
    "duration": 869,
    "start_time": "2023-01-17T10:31:41.535Z"
   },
   {
    "duration": 255,
    "start_time": "2023-01-17T10:31:42.406Z"
   },
   {
    "duration": 35,
    "start_time": "2023-01-17T10:31:42.663Z"
   },
   {
    "duration": 48,
    "start_time": "2023-01-17T10:31:42.699Z"
   },
   {
    "duration": 117,
    "start_time": "2023-01-17T10:31:42.750Z"
   },
   {
    "duration": 51,
    "start_time": "2023-01-17T10:31:42.869Z"
   },
   {
    "duration": 125,
    "start_time": "2023-01-17T10:31:42.922Z"
   },
   {
    "duration": 35,
    "start_time": "2023-01-17T10:31:43.049Z"
   },
   {
    "duration": 22,
    "start_time": "2023-01-17T10:31:43.086Z"
   },
   {
    "duration": 30,
    "start_time": "2023-01-17T10:31:43.110Z"
   },
   {
    "duration": 55,
    "start_time": "2023-01-17T10:31:43.142Z"
   },
   {
    "duration": 18,
    "start_time": "2023-01-17T10:31:43.199Z"
   },
   {
    "duration": 29,
    "start_time": "2023-01-17T10:31:43.219Z"
   },
   {
    "duration": 58,
    "start_time": "2023-01-17T10:31:43.250Z"
   },
   {
    "duration": 18,
    "start_time": "2023-01-17T10:31:43.310Z"
   },
   {
    "duration": 32,
    "start_time": "2023-01-17T10:31:43.330Z"
   },
   {
    "duration": 47,
    "start_time": "2023-01-17T10:31:43.382Z"
   },
   {
    "duration": 20,
    "start_time": "2023-01-17T10:31:43.431Z"
   },
   {
    "duration": 44,
    "start_time": "2023-01-17T10:31:43.453Z"
   },
   {
    "duration": 48,
    "start_time": "2023-01-17T10:31:43.499Z"
   },
   {
    "duration": 39,
    "start_time": "2023-01-17T10:31:43.549Z"
   },
   {
    "duration": 38,
    "start_time": "2023-01-17T10:31:43.590Z"
   },
   {
    "duration": 114,
    "start_time": "2023-01-17T10:31:43.632Z"
   },
   {
    "duration": 16,
    "start_time": "2023-01-17T10:31:43.748Z"
   },
   {
    "duration": 138,
    "start_time": "2023-01-17T10:31:43.766Z"
   },
   {
    "duration": 88,
    "start_time": "2023-01-17T10:31:43.907Z"
   },
   {
    "duration": 66,
    "start_time": "2023-01-17T10:31:43.998Z"
   },
   {
    "duration": 50,
    "start_time": "2023-01-17T10:31:44.066Z"
   },
   {
    "duration": 18,
    "start_time": "2023-01-17T10:31:44.117Z"
   },
   {
    "duration": 166,
    "start_time": "2023-01-17T10:31:44.137Z"
   },
   {
    "duration": 33,
    "start_time": "2023-01-17T10:31:44.305Z"
   },
   {
    "duration": 49,
    "start_time": "2023-01-17T10:31:44.340Z"
   },
   {
    "duration": 16,
    "start_time": "2023-01-17T10:31:44.390Z"
   },
   {
    "duration": 13,
    "start_time": "2023-01-17T10:31:44.408Z"
   },
   {
    "duration": 205,
    "start_time": "2023-01-17T10:31:44.422Z"
   },
   {
    "duration": 7,
    "start_time": "2023-01-17T10:31:44.629Z"
   },
   {
    "duration": 108,
    "start_time": "2023-01-17T10:31:44.638Z"
   },
   {
    "duration": 22,
    "start_time": "2023-01-17T10:31:44.749Z"
   },
   {
    "duration": 3,
    "start_time": "2023-01-17T10:31:44.782Z"
   },
   {
    "duration": 142,
    "start_time": "2023-01-17T10:31:44.787Z"
   },
   {
    "duration": 145,
    "start_time": "2023-01-17T10:31:44.931Z"
   },
   {
    "duration": 17,
    "start_time": "2023-01-17T10:31:45.077Z"
   },
   {
    "duration": 56,
    "start_time": "2023-01-17T10:31:45.096Z"
   },
   {
    "duration": 45,
    "start_time": "2023-01-17T10:31:45.154Z"
   },
   {
    "duration": 2,
    "start_time": "2023-01-17T10:32:48.221Z"
   },
   {
    "duration": 2,
    "start_time": "2023-01-17T10:32:52.752Z"
   },
   {
    "duration": 54,
    "start_time": "2023-01-17T10:33:11.642Z"
   },
   {
    "duration": 738,
    "start_time": "2023-01-17T10:38:48.676Z"
   },
   {
    "duration": 10,
    "start_time": "2023-01-17T10:40:04.631Z"
   },
   {
    "duration": 3,
    "start_time": "2023-01-17T10:42:13.349Z"
   },
   {
    "duration": 46,
    "start_time": "2023-01-17T10:42:16.798Z"
   },
   {
    "duration": 800,
    "start_time": "2023-01-17T10:42:17.481Z"
   },
   {
    "duration": 21,
    "start_time": "2023-01-17T10:42:25.950Z"
   },
   {
    "duration": 19,
    "start_time": "2023-01-17T10:42:40.152Z"
   },
   {
    "duration": 492,
    "start_time": "2023-01-17T10:42:46.716Z"
   },
   {
    "duration": 18,
    "start_time": "2023-01-17T10:42:53.721Z"
   },
   {
    "duration": 2151,
    "start_time": "2023-01-17T10:43:09.689Z"
   },
   {
    "duration": 8,
    "start_time": "2023-01-17T10:43:11.843Z"
   },
   {
    "duration": 778,
    "start_time": "2023-01-17T10:43:11.853Z"
   },
   {
    "duration": 14,
    "start_time": "2023-01-17T10:43:12.633Z"
   },
   {
    "duration": 123,
    "start_time": "2023-01-17T10:43:12.649Z"
   },
   {
    "duration": 893,
    "start_time": "2023-01-17T10:43:12.774Z"
   },
   {
    "duration": 266,
    "start_time": "2023-01-17T10:43:13.669Z"
   },
   {
    "duration": 49,
    "start_time": "2023-01-17T10:43:13.937Z"
   },
   {
    "duration": 49,
    "start_time": "2023-01-17T10:43:13.988Z"
   },
   {
    "duration": 119,
    "start_time": "2023-01-17T10:43:14.040Z"
   },
   {
    "duration": 65,
    "start_time": "2023-01-17T10:43:14.161Z"
   },
   {
    "duration": 106,
    "start_time": "2023-01-17T10:43:14.228Z"
   },
   {
    "duration": 31,
    "start_time": "2023-01-17T10:43:14.336Z"
   },
   {
    "duration": 19,
    "start_time": "2023-01-17T10:43:14.381Z"
   },
   {
    "duration": 32,
    "start_time": "2023-01-17T10:43:14.402Z"
   },
   {
    "duration": 63,
    "start_time": "2023-01-17T10:43:14.436Z"
   },
   {
    "duration": 18,
    "start_time": "2023-01-17T10:43:14.501Z"
   },
   {
    "duration": 32,
    "start_time": "2023-01-17T10:43:14.522Z"
   },
   {
    "duration": 65,
    "start_time": "2023-01-17T10:43:14.556Z"
   },
   {
    "duration": 20,
    "start_time": "2023-01-17T10:43:14.623Z"
   },
   {
    "duration": 72,
    "start_time": "2023-01-17T10:43:14.646Z"
   },
   {
    "duration": 77,
    "start_time": "2023-01-17T10:43:14.720Z"
   },
   {
    "duration": 19,
    "start_time": "2023-01-17T10:43:14.799Z"
   },
   {
    "duration": 30,
    "start_time": "2023-01-17T10:43:14.820Z"
   },
   {
    "duration": 61,
    "start_time": "2023-01-17T10:43:14.852Z"
   },
   {
    "duration": 20,
    "start_time": "2023-01-17T10:43:14.915Z"
   },
   {
    "duration": 49,
    "start_time": "2023-01-17T10:43:14.937Z"
   },
   {
    "duration": 122,
    "start_time": "2023-01-17T10:43:14.990Z"
   },
   {
    "duration": 18,
    "start_time": "2023-01-17T10:43:15.114Z"
   },
   {
    "duration": 149,
    "start_time": "2023-01-17T10:43:15.135Z"
   },
   {
    "duration": 96,
    "start_time": "2023-01-17T10:43:15.286Z"
   },
   {
    "duration": 64,
    "start_time": "2023-01-17T10:43:15.384Z"
   },
   {
    "duration": 54,
    "start_time": "2023-01-17T10:43:15.450Z"
   },
   {
    "duration": 20,
    "start_time": "2023-01-17T10:43:15.505Z"
   },
   {
    "duration": 166,
    "start_time": "2023-01-17T10:43:15.527Z"
   },
   {
    "duration": 37,
    "start_time": "2023-01-17T10:43:15.695Z"
   },
   {
    "duration": 57,
    "start_time": "2023-01-17T10:43:15.734Z"
   },
   {
    "duration": 17,
    "start_time": "2023-01-17T10:43:15.793Z"
   },
   {
    "duration": 14,
    "start_time": "2023-01-17T10:43:15.811Z"
   },
   {
    "duration": 212,
    "start_time": "2023-01-17T10:43:15.827Z"
   },
   {
    "duration": 9,
    "start_time": "2023-01-17T10:43:16.041Z"
   },
   {
    "duration": 136,
    "start_time": "2023-01-17T10:43:16.054Z"
   },
   {
    "duration": 25,
    "start_time": "2023-01-17T10:43:16.192Z"
   },
   {
    "duration": 4,
    "start_time": "2023-01-17T10:43:16.220Z"
   },
   {
    "duration": 222,
    "start_time": "2023-01-17T10:43:16.226Z"
   },
   {
    "duration": 156,
    "start_time": "2023-01-17T10:43:16.451Z"
   },
   {
    "duration": 13,
    "start_time": "2023-01-17T10:43:16.609Z"
   },
   {
    "duration": 66,
    "start_time": "2023-01-17T10:43:16.624Z"
   },
   {
    "duration": 25,
    "start_time": "2023-01-17T10:43:16.693Z"
   },
   {
    "duration": 3,
    "start_time": "2023-01-17T10:43:16.719Z"
   },
   {
    "duration": 4,
    "start_time": "2023-01-17T10:43:49.141Z"
   },
   {
    "duration": 25,
    "start_time": "2023-01-17T10:43:53.121Z"
   },
   {
    "duration": 3,
    "start_time": "2023-01-17T10:45:17.187Z"
   },
   {
    "duration": 55,
    "start_time": "2023-01-17T10:45:21.803Z"
   },
   {
    "duration": 684,
    "start_time": "2023-01-17T10:45:24.779Z"
   },
   {
    "duration": 2322,
    "start_time": "2023-01-17T10:45:33.057Z"
   },
   {
    "duration": 7,
    "start_time": "2023-01-17T10:45:35.382Z"
   },
   {
    "duration": 838,
    "start_time": "2023-01-17T10:45:35.391Z"
   },
   {
    "duration": 16,
    "start_time": "2023-01-17T10:45:36.231Z"
   },
   {
    "duration": 142,
    "start_time": "2023-01-17T10:45:36.249Z"
   },
   {
    "duration": 912,
    "start_time": "2023-01-17T10:45:36.393Z"
   },
   {
    "duration": 261,
    "start_time": "2023-01-17T10:45:37.307Z"
   },
   {
    "duration": 39,
    "start_time": "2023-01-17T10:45:37.571Z"
   },
   {
    "duration": 71,
    "start_time": "2023-01-17T10:45:37.611Z"
   },
   {
    "duration": 113,
    "start_time": "2023-01-17T10:45:37.685Z"
   },
   {
    "duration": 42,
    "start_time": "2023-01-17T10:45:37.800Z"
   },
   {
    "duration": 129,
    "start_time": "2023-01-17T10:45:37.844Z"
   },
   {
    "duration": 32,
    "start_time": "2023-01-17T10:45:37.980Z"
   },
   {
    "duration": 23,
    "start_time": "2023-01-17T10:45:38.015Z"
   },
   {
    "duration": 45,
    "start_time": "2023-01-17T10:45:38.040Z"
   },
   {
    "duration": 38,
    "start_time": "2023-01-17T10:45:38.087Z"
   },
   {
    "duration": 39,
    "start_time": "2023-01-17T10:45:38.128Z"
   },
   {
    "duration": 32,
    "start_time": "2023-01-17T10:45:38.169Z"
   },
   {
    "duration": 41,
    "start_time": "2023-01-17T10:45:38.202Z"
   },
   {
    "duration": 37,
    "start_time": "2023-01-17T10:45:38.245Z"
   },
   {
    "duration": 31,
    "start_time": "2023-01-17T10:45:38.284Z"
   },
   {
    "duration": 42,
    "start_time": "2023-01-17T10:45:38.317Z"
   },
   {
    "duration": 36,
    "start_time": "2023-01-17T10:45:38.361Z"
   },
   {
    "duration": 40,
    "start_time": "2023-01-17T10:45:38.398Z"
   },
   {
    "duration": 51,
    "start_time": "2023-01-17T10:45:38.440Z"
   },
   {
    "duration": 20,
    "start_time": "2023-01-17T10:45:38.494Z"
   },
   {
    "duration": 32,
    "start_time": "2023-01-17T10:45:38.516Z"
   },
   {
    "duration": 131,
    "start_time": "2023-01-17T10:45:38.553Z"
   },
   {
    "duration": 18,
    "start_time": "2023-01-17T10:45:38.686Z"
   },
   {
    "duration": 147,
    "start_time": "2023-01-17T10:45:38.706Z"
   },
   {
    "duration": 91,
    "start_time": "2023-01-17T10:45:38.854Z"
   },
   {
    "duration": 74,
    "start_time": "2023-01-17T10:45:38.947Z"
   },
   {
    "duration": 41,
    "start_time": "2023-01-17T10:45:39.023Z"
   },
   {
    "duration": 28,
    "start_time": "2023-01-17T10:45:39.065Z"
   },
   {
    "duration": 149,
    "start_time": "2023-01-17T10:45:39.096Z"
   },
   {
    "duration": 46,
    "start_time": "2023-01-17T10:45:39.247Z"
   },
   {
    "duration": 39,
    "start_time": "2023-01-17T10:45:39.295Z"
   },
   {
    "duration": 18,
    "start_time": "2023-01-17T10:45:39.336Z"
   },
   {
    "duration": 36,
    "start_time": "2023-01-17T10:45:39.356Z"
   },
   {
    "duration": 203,
    "start_time": "2023-01-17T10:45:39.394Z"
   },
   {
    "duration": 8,
    "start_time": "2023-01-17T10:45:39.598Z"
   },
   {
    "duration": 112,
    "start_time": "2023-01-17T10:45:39.608Z"
   },
   {
    "duration": 21,
    "start_time": "2023-01-17T10:45:39.722Z"
   },
   {
    "duration": 3,
    "start_time": "2023-01-17T10:45:39.745Z"
   },
   {
    "duration": 154,
    "start_time": "2023-01-17T10:45:39.749Z"
   },
   {
    "duration": 148,
    "start_time": "2023-01-17T10:45:39.905Z"
   },
   {
    "duration": 26,
    "start_time": "2023-01-17T10:45:40.056Z"
   },
   {
    "duration": 55,
    "start_time": "2023-01-17T10:45:40.084Z"
   },
   {
    "duration": 43,
    "start_time": "2023-01-17T10:45:40.141Z"
   },
   {
    "duration": 3,
    "start_time": "2023-01-17T10:45:40.186Z"
   },
   {
    "duration": 58,
    "start_time": "2023-01-17T10:45:40.190Z"
   },
   {
    "duration": 723,
    "start_time": "2023-01-17T10:45:47.819Z"
   },
   {
    "duration": 78,
    "start_time": "2023-01-17T10:46:05.017Z"
   },
   {
    "duration": 109,
    "start_time": "2023-01-17T10:46:35.499Z"
   },
   {
    "duration": 2153,
    "start_time": "2023-01-17T10:46:57.710Z"
   },
   {
    "duration": 1634,
    "start_time": "2023-01-17T10:46:59.866Z"
   },
   {
    "duration": 809,
    "start_time": "2023-01-17T10:47:01.502Z"
   },
   {
    "duration": 19,
    "start_time": "2023-01-17T10:47:02.313Z"
   },
   {
    "duration": 143,
    "start_time": "2023-01-17T10:47:02.333Z"
   },
   {
    "duration": 1000,
    "start_time": "2023-01-17T10:47:02.481Z"
   },
   {
    "duration": 272,
    "start_time": "2023-01-17T10:47:03.483Z"
   },
   {
    "duration": 36,
    "start_time": "2023-01-17T10:47:03.756Z"
   },
   {
    "duration": 54,
    "start_time": "2023-01-17T10:47:03.793Z"
   },
   {
    "duration": 132,
    "start_time": "2023-01-17T10:47:03.850Z"
   },
   {
    "duration": 43,
    "start_time": "2023-01-17T10:47:03.984Z"
   },
   {
    "duration": 133,
    "start_time": "2023-01-17T10:47:04.028Z"
   },
   {
    "duration": 37,
    "start_time": "2023-01-17T10:47:04.163Z"
   },
   {
    "duration": 28,
    "start_time": "2023-01-17T10:47:04.202Z"
   },
   {
    "duration": 30,
    "start_time": "2023-01-17T10:47:04.232Z"
   },
   {
    "duration": 57,
    "start_time": "2023-01-17T10:47:04.263Z"
   },
   {
    "duration": 22,
    "start_time": "2023-01-17T10:47:04.321Z"
   },
   {
    "duration": 43,
    "start_time": "2023-01-17T10:47:04.345Z"
   },
   {
    "duration": 50,
    "start_time": "2023-01-17T10:47:04.390Z"
   },
   {
    "duration": 20,
    "start_time": "2023-01-17T10:47:04.442Z"
   },
   {
    "duration": 45,
    "start_time": "2023-01-17T10:47:04.464Z"
   },
   {
    "duration": 46,
    "start_time": "2023-01-17T10:47:04.511Z"
   },
   {
    "duration": 35,
    "start_time": "2023-01-17T10:47:04.558Z"
   },
   {
    "duration": 32,
    "start_time": "2023-01-17T10:47:04.595Z"
   },
   {
    "duration": 62,
    "start_time": "2023-01-17T10:47:04.629Z"
   },
   {
    "duration": 21,
    "start_time": "2023-01-17T10:47:04.693Z"
   },
   {
    "duration": 29,
    "start_time": "2023-01-17T10:47:04.716Z"
   },
   {
    "duration": 125,
    "start_time": "2023-01-17T10:47:04.749Z"
   },
   {
    "duration": 17,
    "start_time": "2023-01-17T10:47:04.881Z"
   },
   {
    "duration": 145,
    "start_time": "2023-01-17T10:47:04.900Z"
   },
   {
    "duration": 93,
    "start_time": "2023-01-17T10:47:05.047Z"
   },
   {
    "duration": 81,
    "start_time": "2023-01-17T10:47:05.141Z"
   },
   {
    "duration": 57,
    "start_time": "2023-01-17T10:47:05.224Z"
   },
   {
    "duration": 18,
    "start_time": "2023-01-17T10:47:05.283Z"
   },
   {
    "duration": 159,
    "start_time": "2023-01-17T10:47:05.303Z"
   },
   {
    "duration": 38,
    "start_time": "2023-01-17T10:47:05.463Z"
   },
   {
    "duration": 41,
    "start_time": "2023-01-17T10:47:05.503Z"
   },
   {
    "duration": 38,
    "start_time": "2023-01-17T10:47:05.546Z"
   },
   {
    "duration": 17,
    "start_time": "2023-01-17T10:47:05.586Z"
   },
   {
    "duration": 307,
    "start_time": "2023-01-17T10:47:05.605Z"
   },
   {
    "duration": 8,
    "start_time": "2023-01-17T10:47:05.913Z"
   },
   {
    "duration": 111,
    "start_time": "2023-01-17T10:47:05.922Z"
   },
   {
    "duration": 25,
    "start_time": "2023-01-17T10:47:06.044Z"
   },
   {
    "duration": 12,
    "start_time": "2023-01-17T10:47:06.070Z"
   },
   {
    "duration": 161,
    "start_time": "2023-01-17T10:47:06.084Z"
   },
   {
    "duration": 156,
    "start_time": "2023-01-17T10:47:06.247Z"
   },
   {
    "duration": 12,
    "start_time": "2023-01-17T10:47:06.405Z"
   },
   {
    "duration": 66,
    "start_time": "2023-01-17T10:47:06.419Z"
   },
   {
    "duration": 29,
    "start_time": "2023-01-17T10:47:06.487Z"
   },
   {
    "duration": 4,
    "start_time": "2023-01-17T10:47:06.518Z"
   },
   {
    "duration": 58,
    "start_time": "2023-01-17T10:47:10.513Z"
   },
   {
    "duration": 807,
    "start_time": "2023-01-17T10:47:11.603Z"
   },
   {
    "duration": 24,
    "start_time": "2023-01-17T10:47:15.426Z"
   },
   {
    "duration": 21,
    "start_time": "2023-01-17T10:47:19.228Z"
   },
   {
    "duration": 19,
    "start_time": "2023-01-17T10:47:24.700Z"
   },
   {
    "duration": 51,
    "start_time": "2023-01-17T10:48:56.399Z"
   },
   {
    "duration": 2980,
    "start_time": "2023-01-17T16:00:30.895Z"
   },
   {
    "duration": 1693,
    "start_time": "2023-01-17T16:00:33.877Z"
   },
   {
    "duration": 1140,
    "start_time": "2023-01-17T16:00:35.572Z"
   },
   {
    "duration": 17,
    "start_time": "2023-01-17T16:00:36.715Z"
   },
   {
    "duration": 112,
    "start_time": "2023-01-17T16:00:36.734Z"
   },
   {
    "duration": 999,
    "start_time": "2023-01-17T16:00:36.848Z"
   },
   {
    "duration": 279,
    "start_time": "2023-01-17T16:00:37.849Z"
   },
   {
    "duration": 32,
    "start_time": "2023-01-17T16:00:38.131Z"
   },
   {
    "duration": 65,
    "start_time": "2023-01-17T16:00:38.165Z"
   },
   {
    "duration": 125,
    "start_time": "2023-01-17T16:00:38.233Z"
   },
   {
    "duration": 53,
    "start_time": "2023-01-17T16:00:38.359Z"
   },
   {
    "duration": 121,
    "start_time": "2023-01-17T16:00:38.414Z"
   },
   {
    "duration": 29,
    "start_time": "2023-01-17T16:00:38.537Z"
   },
   {
    "duration": 30,
    "start_time": "2023-01-17T16:00:38.567Z"
   },
   {
    "duration": 57,
    "start_time": "2023-01-17T16:00:38.599Z"
   },
   {
    "duration": 64,
    "start_time": "2023-01-17T16:00:38.658Z"
   },
   {
    "duration": 19,
    "start_time": "2023-01-17T16:00:38.724Z"
   },
   {
    "duration": 36,
    "start_time": "2023-01-17T16:00:38.745Z"
   },
   {
    "duration": 43,
    "start_time": "2023-01-17T16:00:38.783Z"
   },
   {
    "duration": 19,
    "start_time": "2023-01-17T16:00:38.827Z"
   },
   {
    "duration": 47,
    "start_time": "2023-01-17T16:00:38.848Z"
   },
   {
    "duration": 51,
    "start_time": "2023-01-17T16:00:38.897Z"
   },
   {
    "duration": 31,
    "start_time": "2023-01-17T16:00:38.950Z"
   },
   {
    "duration": 30,
    "start_time": "2023-01-17T16:00:38.983Z"
   },
   {
    "duration": 66,
    "start_time": "2023-01-17T16:00:39.015Z"
   },
   {
    "duration": 21,
    "start_time": "2023-01-17T16:00:39.083Z"
   },
   {
    "duration": 29,
    "start_time": "2023-01-17T16:00:39.107Z"
   },
   {
    "duration": 130,
    "start_time": "2023-01-17T16:00:39.141Z"
   },
   {
    "duration": 21,
    "start_time": "2023-01-17T16:00:39.273Z"
   },
   {
    "duration": 150,
    "start_time": "2023-01-17T16:00:39.296Z"
   },
   {
    "duration": 84,
    "start_time": "2023-01-17T16:00:39.448Z"
   },
   {
    "duration": 80,
    "start_time": "2023-01-17T16:00:39.534Z"
   },
   {
    "duration": 45,
    "start_time": "2023-01-17T16:00:39.615Z"
   },
   {
    "duration": 22,
    "start_time": "2023-01-17T16:00:39.662Z"
   },
   {
    "duration": 138,
    "start_time": "2023-01-17T16:00:39.686Z"
   },
   {
    "duration": 30,
    "start_time": "2023-01-17T16:00:39.825Z"
   },
   {
    "duration": 47,
    "start_time": "2023-01-17T16:00:39.856Z"
   },
   {
    "duration": 15,
    "start_time": "2023-01-17T16:00:39.905Z"
   },
   {
    "duration": 13,
    "start_time": "2023-01-17T16:00:39.922Z"
   },
   {
    "duration": 268,
    "start_time": "2023-01-17T16:00:39.936Z"
   },
   {
    "duration": 8,
    "start_time": "2023-01-17T16:00:40.205Z"
   },
   {
    "duration": 94,
    "start_time": "2023-01-17T16:00:40.215Z"
   },
   {
    "duration": 20,
    "start_time": "2023-01-17T16:00:40.311Z"
   },
   {
    "duration": 117,
    "start_time": "2023-01-17T16:00:43.440Z"
   },
   {
    "duration": 127,
    "start_time": "2023-01-17T16:00:44.984Z"
   },
   {
    "duration": 13,
    "start_time": "2023-01-17T16:00:46.550Z"
   },
   {
    "duration": 52,
    "start_time": "2023-01-17T16:00:47.544Z"
   },
   {
    "duration": 21,
    "start_time": "2023-01-17T16:00:48.301Z"
   },
   {
    "duration": 2,
    "start_time": "2023-01-17T16:00:49.888Z"
   },
   {
    "duration": 109,
    "start_time": "2023-01-17T16:00:53.546Z"
   },
   {
    "duration": 3,
    "start_time": "2023-01-17T16:01:17.314Z"
   },
   {
    "duration": 52,
    "start_time": "2023-01-17T16:01:24.230Z"
   },
   {
    "duration": 723,
    "start_time": "2023-01-17T16:01:28.288Z"
   },
   {
    "duration": 50,
    "start_time": "2023-01-17T16:01:32.145Z"
   },
   {
    "duration": 51,
    "start_time": "2023-01-17T16:01:41.442Z"
   },
   {
    "duration": 3746,
    "start_time": "2023-01-17T16:01:42.768Z"
   },
   {
    "duration": 18,
    "start_time": "2023-01-17T16:01:46.515Z"
   },
   {
    "duration": 1293,
    "start_time": "2023-01-17T16:01:49.099Z"
   },
   {
    "duration": 97,
    "start_time": "2023-01-17T16:09:34.658Z"
   },
   {
    "duration": 16,
    "start_time": "2023-01-17T16:10:49.851Z"
   },
   {
    "duration": 2,
    "start_time": "2023-01-17T16:10:56.376Z"
   },
   {
    "duration": 3,
    "start_time": "2023-01-17T16:11:02.653Z"
   },
   {
    "duration": 11,
    "start_time": "2023-01-17T16:11:03.827Z"
   },
   {
    "duration": 65,
    "start_time": "2023-01-17T16:11:25.126Z"
   },
   {
    "duration": 12,
    "start_time": "2023-01-17T16:12:28.762Z"
   },
   {
    "duration": 2168,
    "start_time": "2023-01-17T16:12:38.045Z"
   },
   {
    "duration": 4,
    "start_time": "2023-01-17T16:12:40.216Z"
   },
   {
    "duration": 742,
    "start_time": "2023-01-17T16:12:40.222Z"
   },
   {
    "duration": 16,
    "start_time": "2023-01-17T16:12:40.967Z"
   },
   {
    "duration": 125,
    "start_time": "2023-01-17T16:12:40.984Z"
   },
   {
    "duration": 805,
    "start_time": "2023-01-17T16:12:41.110Z"
   },
   {
    "duration": 228,
    "start_time": "2023-01-17T16:12:41.916Z"
   },
   {
    "duration": 38,
    "start_time": "2023-01-17T16:12:42.146Z"
   },
   {
    "duration": 50,
    "start_time": "2023-01-17T16:12:42.186Z"
   },
   {
    "duration": 118,
    "start_time": "2023-01-17T16:12:42.239Z"
   },
   {
    "duration": 50,
    "start_time": "2023-01-17T16:12:42.359Z"
   },
   {
    "duration": 99,
    "start_time": "2023-01-17T16:12:42.410Z"
   },
   {
    "duration": 26,
    "start_time": "2023-01-17T16:12:42.511Z"
   },
   {
    "duration": 24,
    "start_time": "2023-01-17T16:12:42.539Z"
   },
   {
    "duration": 41,
    "start_time": "2023-01-17T16:12:42.565Z"
   },
   {
    "duration": 49,
    "start_time": "2023-01-17T16:12:42.608Z"
   },
   {
    "duration": 17,
    "start_time": "2023-01-17T16:12:42.658Z"
   },
   {
    "duration": 36,
    "start_time": "2023-01-17T16:12:42.677Z"
   },
   {
    "duration": 66,
    "start_time": "2023-01-17T16:12:42.714Z"
   },
   {
    "duration": 17,
    "start_time": "2023-01-17T16:12:42.782Z"
   },
   {
    "duration": 47,
    "start_time": "2023-01-17T16:12:42.801Z"
   },
   {
    "duration": 58,
    "start_time": "2023-01-17T16:12:42.850Z"
   },
   {
    "duration": 16,
    "start_time": "2023-01-17T16:12:42.910Z"
   },
   {
    "duration": 33,
    "start_time": "2023-01-17T16:12:42.928Z"
   },
   {
    "duration": 57,
    "start_time": "2023-01-17T16:12:42.963Z"
   },
   {
    "duration": 18,
    "start_time": "2023-01-17T16:12:43.022Z"
   },
   {
    "duration": 39,
    "start_time": "2023-01-17T16:12:43.042Z"
   },
   {
    "duration": 114,
    "start_time": "2023-01-17T16:12:43.084Z"
   },
   {
    "duration": 16,
    "start_time": "2023-01-17T16:12:43.200Z"
   },
   {
    "duration": 121,
    "start_time": "2023-01-17T16:12:43.218Z"
   },
   {
    "duration": 82,
    "start_time": "2023-01-17T16:12:43.341Z"
   },
   {
    "duration": 73,
    "start_time": "2023-01-17T16:12:43.424Z"
   },
   {
    "duration": 41,
    "start_time": "2023-01-17T16:12:43.499Z"
   },
   {
    "duration": 16,
    "start_time": "2023-01-17T16:12:43.541Z"
   },
   {
    "duration": 142,
    "start_time": "2023-01-17T16:12:43.559Z"
   },
   {
    "duration": 29,
    "start_time": "2023-01-17T16:12:43.703Z"
   },
   {
    "duration": 59,
    "start_time": "2023-01-17T16:12:43.734Z"
   },
   {
    "duration": 17,
    "start_time": "2023-01-17T16:12:43.795Z"
   },
   {
    "duration": 15,
    "start_time": "2023-01-17T16:12:43.814Z"
   },
   {
    "duration": 245,
    "start_time": "2023-01-17T16:12:43.830Z"
   },
   {
    "duration": 8,
    "start_time": "2023-01-17T16:12:44.076Z"
   },
   {
    "duration": 114,
    "start_time": "2023-01-17T16:12:44.086Z"
   },
   {
    "duration": 23,
    "start_time": "2023-01-17T16:12:44.202Z"
   },
   {
    "duration": 135,
    "start_time": "2023-01-17T16:12:44.227Z"
   },
   {
    "duration": 137,
    "start_time": "2023-01-17T16:12:44.364Z"
   },
   {
    "duration": 14,
    "start_time": "2023-01-17T16:12:44.503Z"
   },
   {
    "duration": 69,
    "start_time": "2023-01-17T16:12:44.519Z"
   },
   {
    "duration": 23,
    "start_time": "2023-01-17T16:12:44.590Z"
   },
   {
    "duration": 2,
    "start_time": "2023-01-17T16:12:44.615Z"
   },
   {
    "duration": 10,
    "start_time": "2023-01-17T16:12:44.619Z"
   },
   {
    "duration": 61,
    "start_time": "2023-01-17T16:12:44.631Z"
   },
   {
    "duration": 776,
    "start_time": "2023-01-17T16:12:44.693Z"
   },
   {
    "duration": 51,
    "start_time": "2023-01-17T16:12:45.470Z"
   },
   {
    "duration": 3525,
    "start_time": "2023-01-17T16:12:45.522Z"
   },
   {
    "duration": 20,
    "start_time": "2023-01-17T16:12:49.049Z"
   },
   {
    "duration": 229,
    "start_time": "2023-01-17T16:12:49.078Z"
   },
   {
    "duration": 0,
    "start_time": "2023-01-17T16:12:49.309Z"
   },
   {
    "duration": 0,
    "start_time": "2023-01-17T16:12:49.310Z"
   },
   {
    "duration": 0,
    "start_time": "2023-01-17T16:12:49.312Z"
   },
   {
    "duration": 0,
    "start_time": "2023-01-17T16:12:49.313Z"
   },
   {
    "duration": 0,
    "start_time": "2023-01-17T16:12:49.314Z"
   },
   {
    "duration": 0,
    "start_time": "2023-01-17T16:12:49.315Z"
   },
   {
    "duration": 0,
    "start_time": "2023-01-17T16:12:49.317Z"
   },
   {
    "duration": 0,
    "start_time": "2023-01-17T16:12:49.318Z"
   },
   {
    "duration": 0,
    "start_time": "2023-01-17T16:12:49.319Z"
   },
   {
    "duration": 12,
    "start_time": "2023-01-17T16:12:56.171Z"
   },
   {
    "duration": 2007,
    "start_time": "2023-01-17T16:13:43.606Z"
   },
   {
    "duration": 1388,
    "start_time": "2023-01-17T16:13:45.615Z"
   },
   {
    "duration": 796,
    "start_time": "2023-01-17T16:13:47.005Z"
   },
   {
    "duration": 19,
    "start_time": "2023-01-17T16:13:47.803Z"
   },
   {
    "duration": 132,
    "start_time": "2023-01-17T16:13:47.824Z"
   },
   {
    "duration": 1080,
    "start_time": "2023-01-17T16:13:47.958Z"
   },
   {
    "duration": 317,
    "start_time": "2023-01-17T16:13:49.040Z"
   },
   {
    "duration": 46,
    "start_time": "2023-01-17T16:13:49.359Z"
   },
   {
    "duration": 71,
    "start_time": "2023-01-17T16:13:49.407Z"
   },
   {
    "duration": 112,
    "start_time": "2023-01-17T16:13:49.481Z"
   },
   {
    "duration": 43,
    "start_time": "2023-01-17T16:13:49.595Z"
   },
   {
    "duration": 133,
    "start_time": "2023-01-17T16:13:49.640Z"
   },
   {
    "duration": 28,
    "start_time": "2023-01-17T16:13:49.777Z"
   },
   {
    "duration": 25,
    "start_time": "2023-01-17T16:13:49.806Z"
   },
   {
    "duration": 28,
    "start_time": "2023-01-17T16:13:49.833Z"
   },
   {
    "duration": 56,
    "start_time": "2023-01-17T16:13:49.862Z"
   },
   {
    "duration": 26,
    "start_time": "2023-01-17T16:13:49.920Z"
   },
   {
    "duration": 47,
    "start_time": "2023-01-17T16:13:49.949Z"
   },
   {
    "duration": 45,
    "start_time": "2023-01-17T16:13:49.997Z"
   },
   {
    "duration": 16,
    "start_time": "2023-01-17T16:13:50.044Z"
   },
   {
    "duration": 57,
    "start_time": "2023-01-17T16:13:50.062Z"
   },
   {
    "duration": 49,
    "start_time": "2023-01-17T16:13:50.120Z"
   },
   {
    "duration": 21,
    "start_time": "2023-01-17T16:13:50.171Z"
   },
   {
    "duration": 50,
    "start_time": "2023-01-17T16:13:50.194Z"
   },
   {
    "duration": 63,
    "start_time": "2023-01-17T16:13:50.245Z"
   },
   {
    "duration": 18,
    "start_time": "2023-01-17T16:13:50.310Z"
   },
   {
    "duration": 40,
    "start_time": "2023-01-17T16:13:50.330Z"
   },
   {
    "duration": 114,
    "start_time": "2023-01-17T16:13:50.380Z"
   },
   {
    "duration": 20,
    "start_time": "2023-01-17T16:13:50.497Z"
   },
   {
    "duration": 138,
    "start_time": "2023-01-17T16:13:50.519Z"
   },
   {
    "duration": 72,
    "start_time": "2023-01-17T16:13:50.659Z"
   },
   {
    "duration": 86,
    "start_time": "2023-01-17T16:13:50.733Z"
   },
   {
    "duration": 57,
    "start_time": "2023-01-17T16:13:50.821Z"
   },
   {
    "duration": 16,
    "start_time": "2023-01-17T16:13:50.880Z"
   },
   {
    "duration": 170,
    "start_time": "2023-01-17T16:13:50.898Z"
   },
   {
    "duration": 38,
    "start_time": "2023-01-17T16:13:51.070Z"
   },
   {
    "duration": 42,
    "start_time": "2023-01-17T16:13:51.110Z"
   },
   {
    "duration": 35,
    "start_time": "2023-01-17T16:13:51.154Z"
   },
   {
    "duration": 15,
    "start_time": "2023-01-17T16:13:51.191Z"
   },
   {
    "duration": 285,
    "start_time": "2023-01-17T16:13:51.208Z"
   },
   {
    "duration": 13,
    "start_time": "2023-01-17T16:13:51.495Z"
   },
   {
    "duration": 110,
    "start_time": "2023-01-17T16:13:51.510Z"
   },
   {
    "duration": 22,
    "start_time": "2023-01-17T16:13:51.622Z"
   },
   {
    "duration": 132,
    "start_time": "2023-01-17T16:13:51.646Z"
   },
   {
    "duration": 143,
    "start_time": "2023-01-17T16:13:51.780Z"
   },
   {
    "duration": 13,
    "start_time": "2023-01-17T16:13:51.924Z"
   },
   {
    "duration": 87,
    "start_time": "2023-01-17T16:13:51.939Z"
   },
   {
    "duration": 21,
    "start_time": "2023-01-17T16:13:52.028Z"
   },
   {
    "duration": 19,
    "start_time": "2023-01-17T16:13:52.051Z"
   },
   {
    "duration": 32,
    "start_time": "2023-01-17T16:13:52.072Z"
   },
   {
    "duration": 77,
    "start_time": "2023-01-17T16:13:52.106Z"
   },
   {
    "duration": 817,
    "start_time": "2023-01-17T16:13:52.185Z"
   },
   {
    "duration": 52,
    "start_time": "2023-01-17T16:13:53.004Z"
   },
   {
    "duration": 4032,
    "start_time": "2023-01-17T16:13:53.058Z"
   },
   {
    "duration": 20,
    "start_time": "2023-01-17T16:13:57.092Z"
   },
   {
    "duration": 305,
    "start_time": "2023-01-17T16:14:02.821Z"
   },
   {
    "duration": 226,
    "start_time": "2023-01-17T16:15:55.231Z"
   },
   {
    "duration": 287,
    "start_time": "2023-01-17T16:16:05.828Z"
   },
   {
    "duration": 220,
    "start_time": "2023-01-17T16:16:43.011Z"
   },
   {
    "duration": 1223,
    "start_time": "2023-01-17T16:16:50.541Z"
   },
   {
    "duration": 845,
    "start_time": "2023-01-17T19:18:36.466Z"
   },
   {
    "duration": 2979,
    "start_time": "2023-01-17T19:18:41.749Z"
   },
   {
    "duration": 28,
    "start_time": "2023-01-17T19:18:44.730Z"
   },
   {
    "duration": 18,
    "start_time": "2023-01-17T19:20:55.212Z"
   },
   {
    "duration": 2,
    "start_time": "2023-01-17T19:21:08.654Z"
   },
   {
    "duration": 3,
    "start_time": "2023-01-17T19:21:34.320Z"
   },
   {
    "duration": 2022,
    "start_time": "2023-01-17T19:21:38.189Z"
   },
   {
    "duration": 7,
    "start_time": "2023-01-17T19:21:40.213Z"
   },
   {
    "duration": 2807,
    "start_time": "2023-01-17T19:21:40.222Z"
   },
   {
    "duration": 16,
    "start_time": "2023-01-17T19:21:43.031Z"
   },
   {
    "duration": 126,
    "start_time": "2023-01-17T19:21:43.048Z"
   },
   {
    "duration": 882,
    "start_time": "2023-01-17T19:21:43.176Z"
   },
   {
    "duration": 251,
    "start_time": "2023-01-17T19:21:44.060Z"
   },
   {
    "duration": 26,
    "start_time": "2023-01-17T19:21:44.313Z"
   },
   {
    "duration": 55,
    "start_time": "2023-01-17T19:21:44.340Z"
   },
   {
    "duration": 126,
    "start_time": "2023-01-17T19:21:44.398Z"
   },
   {
    "duration": 45,
    "start_time": "2023-01-17T19:21:44.526Z"
   },
   {
    "duration": 112,
    "start_time": "2023-01-17T19:21:44.573Z"
   },
   {
    "duration": 30,
    "start_time": "2023-01-17T19:21:44.686Z"
   },
   {
    "duration": 38,
    "start_time": "2023-01-17T19:21:44.718Z"
   },
   {
    "duration": 34,
    "start_time": "2023-01-17T19:21:44.758Z"
   },
   {
    "duration": 44,
    "start_time": "2023-01-17T19:21:44.794Z"
   },
   {
    "duration": 26,
    "start_time": "2023-01-17T19:21:44.840Z"
   },
   {
    "duration": 29,
    "start_time": "2023-01-17T19:21:44.868Z"
   },
   {
    "duration": 56,
    "start_time": "2023-01-17T19:21:44.899Z"
   },
   {
    "duration": 18,
    "start_time": "2023-01-17T19:21:44.957Z"
   },
   {
    "duration": 34,
    "start_time": "2023-01-17T19:21:44.976Z"
   },
   {
    "duration": 60,
    "start_time": "2023-01-17T19:21:45.011Z"
   },
   {
    "duration": 19,
    "start_time": "2023-01-17T19:21:45.073Z"
   },
   {
    "duration": 32,
    "start_time": "2023-01-17T19:21:45.093Z"
   },
   {
    "duration": 57,
    "start_time": "2023-01-17T19:21:45.127Z"
   },
   {
    "duration": 20,
    "start_time": "2023-01-17T19:21:45.185Z"
   },
   {
    "duration": 49,
    "start_time": "2023-01-17T19:21:45.207Z"
   },
   {
    "duration": 170,
    "start_time": "2023-01-17T19:21:45.261Z"
   },
   {
    "duration": 21,
    "start_time": "2023-01-17T19:21:45.433Z"
   },
   {
    "duration": 133,
    "start_time": "2023-01-17T19:21:45.456Z"
   },
   {
    "duration": 76,
    "start_time": "2023-01-17T19:21:45.591Z"
   },
   {
    "duration": 66,
    "start_time": "2023-01-17T19:21:45.668Z"
   },
   {
    "duration": 53,
    "start_time": "2023-01-17T19:21:45.736Z"
   },
   {
    "duration": 16,
    "start_time": "2023-01-17T19:21:45.790Z"
   },
   {
    "duration": 153,
    "start_time": "2023-01-17T19:21:45.807Z"
   },
   {
    "duration": 28,
    "start_time": "2023-01-17T19:21:45.962Z"
   },
   {
    "duration": 37,
    "start_time": "2023-01-17T19:21:45.991Z"
   },
   {
    "duration": 31,
    "start_time": "2023-01-17T19:21:46.029Z"
   },
   {
    "duration": 13,
    "start_time": "2023-01-17T19:21:46.062Z"
   },
   {
    "duration": 186,
    "start_time": "2023-01-17T19:21:46.076Z"
   },
   {
    "duration": 7,
    "start_time": "2023-01-17T19:21:46.264Z"
   },
   {
    "duration": 118,
    "start_time": "2023-01-17T19:21:46.272Z"
   },
   {
    "duration": 21,
    "start_time": "2023-01-17T19:21:46.392Z"
   },
   {
    "duration": 130,
    "start_time": "2023-01-17T19:21:46.415Z"
   },
   {
    "duration": 134,
    "start_time": "2023-01-17T19:21:46.548Z"
   },
   {
    "duration": 16,
    "start_time": "2023-01-17T19:21:46.683Z"
   },
   {
    "duration": 61,
    "start_time": "2023-01-17T19:21:46.701Z"
   },
   {
    "duration": 24,
    "start_time": "2023-01-17T19:21:46.764Z"
   },
   {
    "duration": 4,
    "start_time": "2023-01-17T19:21:46.789Z"
   },
   {
    "duration": 4,
    "start_time": "2023-01-17T19:21:46.795Z"
   },
   {
    "duration": 98,
    "start_time": "2023-01-17T19:21:46.801Z"
   },
   {
    "duration": 687,
    "start_time": "2023-01-17T19:21:46.900Z"
   },
   {
    "duration": 64,
    "start_time": "2023-01-17T19:21:47.589Z"
   },
   {
    "duration": 3650,
    "start_time": "2023-01-17T19:21:47.655Z"
   },
   {
    "duration": 17,
    "start_time": "2023-01-17T19:21:51.306Z"
   },
   {
    "duration": 1355,
    "start_time": "2023-01-17T19:21:51.324Z"
   },
   {
    "duration": 14,
    "start_time": "2023-01-17T19:21:52.681Z"
   },
   {
    "duration": 3,
    "start_time": "2023-01-17T19:21:52.697Z"
   },
   {
    "duration": 7,
    "start_time": "2023-01-17T19:21:52.701Z"
   },
   {
    "duration": 12,
    "start_time": "2023-01-17T19:21:52.709Z"
   },
   {
    "duration": 68,
    "start_time": "2023-01-17T19:21:52.723Z"
   },
   {
    "duration": 3,
    "start_time": "2023-01-17T19:21:58.059Z"
   },
   {
    "duration": 4,
    "start_time": "2023-01-17T19:22:05.829Z"
   },
   {
    "duration": 3,
    "start_time": "2023-01-17T19:22:07.480Z"
   },
   {
    "duration": 10,
    "start_time": "2023-01-17T19:22:21.990Z"
   },
   {
    "duration": 50,
    "start_time": "2023-01-17T19:22:23.346Z"
   },
   {
    "duration": 51862,
    "start_time": "2023-01-17T19:22:37.172Z"
   },
   {
    "duration": 3,
    "start_time": "2023-01-17T19:25:19.943Z"
   },
   {
    "duration": 4,
    "start_time": "2023-01-17T19:25:45.693Z"
   },
   {
    "duration": 3,
    "start_time": "2023-01-17T19:26:50.418Z"
   },
   {
    "duration": 3,
    "start_time": "2023-01-17T19:26:51.280Z"
   },
   {
    "duration": 9,
    "start_time": "2023-01-17T19:26:51.774Z"
   },
   {
    "duration": 15,
    "start_time": "2023-01-17T19:26:52.392Z"
   },
   {
    "duration": 51140,
    "start_time": "2023-01-17T19:27:06.247Z"
   },
   {
    "duration": 10,
    "start_time": "2023-01-17T19:36:26.180Z"
   },
   {
    "duration": 2155,
    "start_time": "2023-01-17T19:36:43.056Z"
   },
   {
    "duration": 6,
    "start_time": "2023-01-17T19:36:45.215Z"
   },
   {
    "duration": 853,
    "start_time": "2023-01-17T19:36:45.222Z"
   },
   {
    "duration": 12,
    "start_time": "2023-01-17T19:36:46.077Z"
   },
   {
    "duration": 137,
    "start_time": "2023-01-17T19:36:46.090Z"
   },
   {
    "duration": 802,
    "start_time": "2023-01-17T19:36:46.229Z"
   },
   {
    "duration": 231,
    "start_time": "2023-01-17T19:36:47.033Z"
   },
   {
    "duration": 27,
    "start_time": "2023-01-17T19:36:47.266Z"
   },
   {
    "duration": 61,
    "start_time": "2023-01-17T19:36:47.294Z"
   },
   {
    "duration": 123,
    "start_time": "2023-01-17T19:36:47.358Z"
   },
   {
    "duration": 65,
    "start_time": "2023-01-17T19:36:47.483Z"
   },
   {
    "duration": 98,
    "start_time": "2023-01-17T19:36:47.550Z"
   },
   {
    "duration": 30,
    "start_time": "2023-01-17T19:36:47.649Z"
   },
   {
    "duration": 21,
    "start_time": "2023-01-17T19:36:47.681Z"
   },
   {
    "duration": 45,
    "start_time": "2023-01-17T19:36:47.703Z"
   },
   {
    "duration": 38,
    "start_time": "2023-01-17T19:36:47.749Z"
   },
   {
    "duration": 18,
    "start_time": "2023-01-17T19:36:47.788Z"
   },
   {
    "duration": 44,
    "start_time": "2023-01-17T19:36:47.807Z"
   },
   {
    "duration": 38,
    "start_time": "2023-01-17T19:36:47.853Z"
   },
   {
    "duration": 19,
    "start_time": "2023-01-17T19:36:47.893Z"
   },
   {
    "duration": 50,
    "start_time": "2023-01-17T19:36:47.914Z"
   },
   {
    "duration": 41,
    "start_time": "2023-01-17T19:36:47.966Z"
   },
   {
    "duration": 18,
    "start_time": "2023-01-17T19:36:48.009Z"
   },
   {
    "duration": 47,
    "start_time": "2023-01-17T19:36:48.028Z"
   },
   {
    "duration": 42,
    "start_time": "2023-01-17T19:36:48.076Z"
   },
   {
    "duration": 34,
    "start_time": "2023-01-17T19:36:48.120Z"
   },
   {
    "duration": 29,
    "start_time": "2023-01-17T19:36:48.156Z"
   },
   {
    "duration": 139,
    "start_time": "2023-01-17T19:36:48.189Z"
   },
   {
    "duration": 21,
    "start_time": "2023-01-17T19:36:48.330Z"
   },
   {
    "duration": 119,
    "start_time": "2023-01-17T19:36:48.352Z"
   },
   {
    "duration": 81,
    "start_time": "2023-01-17T19:36:48.473Z"
   },
   {
    "duration": 61,
    "start_time": "2023-01-17T19:36:48.556Z"
   },
   {
    "duration": 49,
    "start_time": "2023-01-17T19:36:48.619Z"
   },
   {
    "duration": 16,
    "start_time": "2023-01-17T19:36:48.670Z"
   },
   {
    "duration": 139,
    "start_time": "2023-01-17T19:36:48.688Z"
   },
   {
    "duration": 38,
    "start_time": "2023-01-17T19:36:48.828Z"
   },
   {
    "duration": 39,
    "start_time": "2023-01-17T19:36:48.868Z"
   },
   {
    "duration": 15,
    "start_time": "2023-01-17T19:36:48.909Z"
   },
   {
    "duration": 31,
    "start_time": "2023-01-17T19:36:48.925Z"
   },
   {
    "duration": 190,
    "start_time": "2023-01-17T19:36:48.958Z"
   },
   {
    "duration": 6,
    "start_time": "2023-01-17T19:36:49.150Z"
   },
   {
    "duration": 121,
    "start_time": "2023-01-17T19:36:49.158Z"
   },
   {
    "duration": 34,
    "start_time": "2023-01-17T19:36:49.280Z"
   },
   {
    "duration": 123,
    "start_time": "2023-01-17T19:36:49.316Z"
   },
   {
    "duration": 140,
    "start_time": "2023-01-17T19:36:49.441Z"
   },
   {
    "duration": 12,
    "start_time": "2023-01-17T19:36:49.582Z"
   },
   {
    "duration": 61,
    "start_time": "2023-01-17T19:36:49.596Z"
   },
   {
    "duration": 24,
    "start_time": "2023-01-17T19:36:49.658Z"
   },
   {
    "duration": 3,
    "start_time": "2023-01-17T19:36:49.684Z"
   },
   {
    "duration": 5,
    "start_time": "2023-01-17T19:36:49.688Z"
   },
   {
    "duration": 81,
    "start_time": "2023-01-17T19:36:49.694Z"
   },
   {
    "duration": 707,
    "start_time": "2023-01-17T19:36:49.776Z"
   },
   {
    "duration": 67,
    "start_time": "2023-01-17T19:36:50.484Z"
   },
   {
    "duration": 3691,
    "start_time": "2023-01-17T19:36:50.552Z"
   },
   {
    "duration": 20,
    "start_time": "2023-01-17T19:36:54.244Z"
   },
   {
    "duration": 1174,
    "start_time": "2023-01-17T19:36:54.266Z"
   },
   {
    "duration": 20,
    "start_time": "2023-01-17T19:36:55.442Z"
   },
   {
    "duration": 3,
    "start_time": "2023-01-17T19:36:55.464Z"
   },
   {
    "duration": 14,
    "start_time": "2023-01-17T19:36:55.469Z"
   },
   {
    "duration": 25,
    "start_time": "2023-01-17T19:36:55.485Z"
   },
   {
    "duration": 102,
    "start_time": "2023-01-17T19:36:55.512Z"
   },
   {
    "duration": 12,
    "start_time": "2023-01-17T19:36:57.469Z"
   },
   {
    "duration": 2028,
    "start_time": "2023-01-17T19:37:22.755Z"
   },
   {
    "duration": 1342,
    "start_time": "2023-01-17T19:37:24.785Z"
   },
   {
    "duration": 776,
    "start_time": "2023-01-17T19:37:26.128Z"
   },
   {
    "duration": 16,
    "start_time": "2023-01-17T19:37:26.906Z"
   },
   {
    "duration": 135,
    "start_time": "2023-01-17T19:37:26.923Z"
   },
   {
    "duration": 896,
    "start_time": "2023-01-17T19:37:27.060Z"
   },
   {
    "duration": 243,
    "start_time": "2023-01-17T19:37:27.957Z"
   },
   {
    "duration": 29,
    "start_time": "2023-01-17T19:37:28.202Z"
   },
   {
    "duration": 66,
    "start_time": "2023-01-17T19:37:28.233Z"
   },
   {
    "duration": 116,
    "start_time": "2023-01-17T19:37:28.301Z"
   },
   {
    "duration": 54,
    "start_time": "2023-01-17T19:37:28.418Z"
   },
   {
    "duration": 124,
    "start_time": "2023-01-17T19:37:28.473Z"
   },
   {
    "duration": 34,
    "start_time": "2023-01-17T19:37:28.598Z"
   },
   {
    "duration": 34,
    "start_time": "2023-01-17T19:37:28.634Z"
   },
   {
    "duration": 31,
    "start_time": "2023-01-17T19:37:28.670Z"
   },
   {
    "duration": 50,
    "start_time": "2023-01-17T19:37:28.703Z"
   },
   {
    "duration": 18,
    "start_time": "2023-01-17T19:37:28.754Z"
   },
   {
    "duration": 31,
    "start_time": "2023-01-17T19:37:28.774Z"
   },
   {
    "duration": 58,
    "start_time": "2023-01-17T19:37:28.806Z"
   },
   {
    "duration": 18,
    "start_time": "2023-01-17T19:37:28.865Z"
   },
   {
    "duration": 33,
    "start_time": "2023-01-17T19:37:28.885Z"
   },
   {
    "duration": 57,
    "start_time": "2023-01-17T19:37:28.920Z"
   },
   {
    "duration": 19,
    "start_time": "2023-01-17T19:37:28.978Z"
   },
   {
    "duration": 30,
    "start_time": "2023-01-17T19:37:28.999Z"
   },
   {
    "duration": 61,
    "start_time": "2023-01-17T19:37:29.031Z"
   },
   {
    "duration": 20,
    "start_time": "2023-01-17T19:37:29.093Z"
   },
   {
    "duration": 37,
    "start_time": "2023-01-17T19:37:29.115Z"
   },
   {
    "duration": 127,
    "start_time": "2023-01-17T19:37:29.155Z"
   },
   {
    "duration": 16,
    "start_time": "2023-01-17T19:37:29.284Z"
   },
   {
    "duration": 131,
    "start_time": "2023-01-17T19:37:29.301Z"
   },
   {
    "duration": 77,
    "start_time": "2023-01-17T19:37:29.434Z"
   },
   {
    "duration": 86,
    "start_time": "2023-01-17T19:37:29.513Z"
   },
   {
    "duration": 54,
    "start_time": "2023-01-17T19:37:29.600Z"
   },
   {
    "duration": 15,
    "start_time": "2023-01-17T19:37:29.656Z"
   },
   {
    "duration": 136,
    "start_time": "2023-01-17T19:37:29.672Z"
   },
   {
    "duration": 39,
    "start_time": "2023-01-17T19:37:29.810Z"
   },
   {
    "duration": 39,
    "start_time": "2023-01-17T19:37:29.850Z"
   },
   {
    "duration": 15,
    "start_time": "2023-01-17T19:37:29.891Z"
   },
   {
    "duration": 12,
    "start_time": "2023-01-17T19:37:29.908Z"
   },
   {
    "duration": 266,
    "start_time": "2023-01-17T19:37:29.921Z"
   },
   {
    "duration": 6,
    "start_time": "2023-01-17T19:37:30.189Z"
   },
   {
    "duration": 123,
    "start_time": "2023-01-17T19:37:30.197Z"
   },
   {
    "duration": 27,
    "start_time": "2023-01-17T19:37:30.321Z"
   },
   {
    "duration": 125,
    "start_time": "2023-01-17T19:37:30.350Z"
   },
   {
    "duration": 135,
    "start_time": "2023-01-17T19:37:30.476Z"
   },
   {
    "duration": 13,
    "start_time": "2023-01-17T19:37:30.613Z"
   },
   {
    "duration": 65,
    "start_time": "2023-01-17T19:37:30.627Z"
   },
   {
    "duration": 20,
    "start_time": "2023-01-17T19:37:30.693Z"
   },
   {
    "duration": 17,
    "start_time": "2023-01-17T19:37:30.715Z"
   },
   {
    "duration": 17,
    "start_time": "2023-01-17T19:37:30.733Z"
   },
   {
    "duration": 62,
    "start_time": "2023-01-17T19:37:30.751Z"
   },
   {
    "duration": 729,
    "start_time": "2023-01-17T19:37:30.815Z"
   },
   {
    "duration": 60,
    "start_time": "2023-01-17T19:37:31.545Z"
   },
   {
    "duration": 3641,
    "start_time": "2023-01-17T19:37:31.607Z"
   },
   {
    "duration": 18,
    "start_time": "2023-01-17T19:37:35.249Z"
   },
   {
    "duration": 1270,
    "start_time": "2023-01-17T19:37:35.269Z"
   },
   {
    "duration": 15,
    "start_time": "2023-01-17T19:37:36.541Z"
   },
   {
    "duration": 3,
    "start_time": "2023-01-17T19:37:36.558Z"
   },
   {
    "duration": 6,
    "start_time": "2023-01-17T19:37:36.562Z"
   },
   {
    "duration": 14,
    "start_time": "2023-01-17T19:37:36.569Z"
   },
   {
    "duration": 87,
    "start_time": "2023-01-17T19:37:36.584Z"
   },
   {
    "duration": 3,
    "start_time": "2023-01-17T19:37:36.672Z"
   },
   {
    "duration": 115,
    "start_time": "2023-01-17T19:37:36.678Z"
   },
   {
    "duration": 4,
    "start_time": "2023-01-17T19:37:56.220Z"
   },
   {
    "duration": 4,
    "start_time": "2023-01-17T19:38:01.802Z"
   },
   {
    "duration": 5,
    "start_time": "2023-01-17T19:38:28.192Z"
   },
   {
    "duration": 5,
    "start_time": "2023-01-17T19:38:29.185Z"
   },
   {
    "duration": 10,
    "start_time": "2023-01-17T19:39:08.581Z"
   },
   {
    "duration": 10,
    "start_time": "2023-01-17T19:39:30.055Z"
   },
   {
    "duration": 11,
    "start_time": "2023-01-17T19:39:45.842Z"
   },
   {
    "duration": 43,
    "start_time": "2023-01-17T19:40:00.930Z"
   },
   {
    "duration": 10,
    "start_time": "2023-01-17T19:40:12.680Z"
   },
   {
    "duration": 50,
    "start_time": "2023-01-17T19:40:18.944Z"
   },
   {
    "duration": 46,
    "start_time": "2023-01-17T19:40:25.108Z"
   },
   {
    "duration": 43,
    "start_time": "2023-01-17T19:40:29.296Z"
   },
   {
    "duration": 10,
    "start_time": "2023-01-17T19:40:34.146Z"
   },
   {
    "duration": 12,
    "start_time": "2023-01-17T19:40:41.699Z"
   },
   {
    "duration": 11,
    "start_time": "2023-01-17T19:40:50.189Z"
   },
   {
    "duration": 4,
    "start_time": "2023-01-17T19:41:52.906Z"
   },
   {
    "duration": 6,
    "start_time": "2023-01-17T19:41:55.686Z"
   },
   {
    "duration": 4,
    "start_time": "2023-01-17T19:42:59.059Z"
   },
   {
    "duration": 10,
    "start_time": "2023-01-17T19:43:00.050Z"
   },
   {
    "duration": 2,
    "start_time": "2023-01-17T19:43:52.460Z"
   },
   {
    "duration": 9,
    "start_time": "2023-01-17T19:43:54.341Z"
   },
   {
    "duration": 52037,
    "start_time": "2023-01-17T19:44:13.786Z"
   },
   {
    "duration": 7,
    "start_time": "2023-01-17T19:45:39.705Z"
   },
   {
    "duration": 9,
    "start_time": "2023-01-17T19:46:13.166Z"
   },
   {
    "duration": 9,
    "start_time": "2023-01-17T19:46:17.419Z"
   },
   {
    "duration": 7,
    "start_time": "2023-01-17T19:46:33.363Z"
   },
   {
    "duration": 11,
    "start_time": "2023-01-17T19:47:55.771Z"
   },
   {
    "duration": 3,
    "start_time": "2023-01-17T19:48:01.752Z"
   },
   {
    "duration": 8,
    "start_time": "2023-01-17T19:48:06.341Z"
   },
   {
    "duration": 5,
    "start_time": "2023-01-17T19:48:25.682Z"
   },
   {
    "duration": 9,
    "start_time": "2023-01-17T19:48:33.525Z"
   },
   {
    "duration": 7,
    "start_time": "2023-01-17T19:49:51.501Z"
   },
   {
    "duration": 5,
    "start_time": "2023-01-17T19:51:23.344Z"
   },
   {
    "duration": 687,
    "start_time": "2023-01-17T19:53:42.424Z"
   },
   {
    "duration": 8,
    "start_time": "2023-01-17T19:54:09.267Z"
   },
   {
    "duration": 6,
    "start_time": "2023-01-17T19:54:18.808Z"
   },
   {
    "duration": 10,
    "start_time": "2023-01-17T19:54:19.272Z"
   },
   {
    "duration": 148302,
    "start_time": "2023-01-17T19:54:50.979Z"
   },
   {
    "duration": 11,
    "start_time": "2023-01-17T19:57:47.449Z"
   },
   {
    "duration": 11,
    "start_time": "2023-01-17T19:58:35.467Z"
   },
   {
    "duration": 13,
    "start_time": "2023-01-17T19:58:43.823Z"
   },
   {
    "duration": 156279,
    "start_time": "2023-01-17T20:00:22.181Z"
   },
   {
    "duration": 12,
    "start_time": "2023-01-17T20:02:58.462Z"
   },
   {
    "duration": 2,
    "start_time": "2023-01-17T20:15:36.502Z"
   },
   {
    "duration": 11,
    "start_time": "2023-01-17T20:15:40.629Z"
   },
   {
    "duration": 10,
    "start_time": "2023-01-17T20:17:25.820Z"
   },
   {
    "duration": 2,
    "start_time": "2023-01-17T20:17:32.474Z"
   },
   {
    "duration": 13,
    "start_time": "2023-01-17T20:17:49.314Z"
   },
   {
    "duration": 11,
    "start_time": "2023-01-17T20:18:55.006Z"
   },
   {
    "duration": 94,
    "start_time": "2023-01-17T20:19:23.588Z"
   },
   {
    "duration": 42,
    "start_time": "2023-01-17T20:21:04.964Z"
   },
   {
    "duration": 2095,
    "start_time": "2023-01-17T20:21:59.276Z"
   },
   {
    "duration": 1422,
    "start_time": "2023-01-17T20:22:01.373Z"
   },
   {
    "duration": 792,
    "start_time": "2023-01-17T20:22:02.797Z"
   },
   {
    "duration": 17,
    "start_time": "2023-01-17T20:22:03.591Z"
   },
   {
    "duration": 134,
    "start_time": "2023-01-17T20:22:03.610Z"
   },
   {
    "duration": 954,
    "start_time": "2023-01-17T20:22:03.748Z"
   },
   {
    "duration": 239,
    "start_time": "2023-01-17T20:22:04.703Z"
   },
   {
    "duration": 28,
    "start_time": "2023-01-17T20:22:04.947Z"
   },
   {
    "duration": 56,
    "start_time": "2023-01-17T20:22:04.977Z"
   },
   {
    "duration": 115,
    "start_time": "2023-01-17T20:22:05.049Z"
   },
   {
    "duration": 77,
    "start_time": "2023-01-17T20:22:05.166Z"
   },
   {
    "duration": 145,
    "start_time": "2023-01-17T20:22:05.245Z"
   },
   {
    "duration": 63,
    "start_time": "2023-01-17T20:22:05.393Z"
   },
   {
    "duration": 66,
    "start_time": "2023-01-17T20:22:05.458Z"
   },
   {
    "duration": 115,
    "start_time": "2023-01-17T20:22:05.527Z"
   },
   {
    "duration": 102,
    "start_time": "2023-01-17T20:22:05.643Z"
   },
   {
    "duration": 81,
    "start_time": "2023-01-17T20:22:05.747Z"
   },
   {
    "duration": 89,
    "start_time": "2023-01-17T20:22:05.830Z"
   },
   {
    "duration": 103,
    "start_time": "2023-01-17T20:22:05.921Z"
   },
   {
    "duration": 49,
    "start_time": "2023-01-17T20:22:06.025Z"
   },
   {
    "duration": 84,
    "start_time": "2023-01-17T20:22:06.075Z"
   },
   {
    "duration": 90,
    "start_time": "2023-01-17T20:22:06.160Z"
   },
   {
    "duration": 36,
    "start_time": "2023-01-17T20:22:06.251Z"
   },
   {
    "duration": 67,
    "start_time": "2023-01-17T20:22:06.289Z"
   },
   {
    "duration": 73,
    "start_time": "2023-01-17T20:22:06.358Z"
   },
   {
    "duration": 38,
    "start_time": "2023-01-17T20:22:06.433Z"
   },
   {
    "duration": 77,
    "start_time": "2023-01-17T20:22:06.472Z"
   },
   {
    "duration": 149,
    "start_time": "2023-01-17T20:22:06.552Z"
   },
   {
    "duration": 15,
    "start_time": "2023-01-17T20:22:06.703Z"
   },
   {
    "duration": 143,
    "start_time": "2023-01-17T20:22:06.719Z"
   },
   {
    "duration": 71,
    "start_time": "2023-01-17T20:22:06.864Z"
   },
   {
    "duration": 81,
    "start_time": "2023-01-17T20:22:06.937Z"
   },
   {
    "duration": 60,
    "start_time": "2023-01-17T20:22:07.020Z"
   },
   {
    "duration": 17,
    "start_time": "2023-01-17T20:22:07.082Z"
   },
   {
    "duration": 136,
    "start_time": "2023-01-17T20:22:07.101Z"
   },
   {
    "duration": 36,
    "start_time": "2023-01-17T20:22:07.239Z"
   },
   {
    "duration": 64,
    "start_time": "2023-01-17T20:22:07.276Z"
   },
   {
    "duration": 35,
    "start_time": "2023-01-17T20:22:07.342Z"
   },
   {
    "duration": 58,
    "start_time": "2023-01-17T20:22:07.379Z"
   },
   {
    "duration": 279,
    "start_time": "2023-01-17T20:22:07.438Z"
   },
   {
    "duration": 6,
    "start_time": "2023-01-17T20:22:07.718Z"
   },
   {
    "duration": 149,
    "start_time": "2023-01-17T20:22:07.725Z"
   },
   {
    "duration": 22,
    "start_time": "2023-01-17T20:22:07.875Z"
   },
   {
    "duration": 152,
    "start_time": "2023-01-17T20:22:07.898Z"
   },
   {
    "duration": 136,
    "start_time": "2023-01-17T20:22:08.051Z"
   },
   {
    "duration": 13,
    "start_time": "2023-01-17T20:22:08.189Z"
   },
   {
    "duration": 86,
    "start_time": "2023-01-17T20:22:08.204Z"
   },
   {
    "duration": 59,
    "start_time": "2023-01-17T20:22:08.292Z"
   },
   {
    "duration": 30,
    "start_time": "2023-01-17T20:22:08.353Z"
   },
   {
    "duration": 38,
    "start_time": "2023-01-17T20:22:08.385Z"
   },
   {
    "duration": 88,
    "start_time": "2023-01-17T20:22:08.425Z"
   },
   {
    "duration": 3,
    "start_time": "2023-01-17T20:22:11.663Z"
   },
   {
    "duration": 40,
    "start_time": "2023-01-17T20:22:12.291Z"
   },
   {
    "duration": 285,
    "start_time": "2023-01-17T20:22:14.789Z"
   },
   {
    "duration": 3,
    "start_time": "2023-01-17T20:24:46.718Z"
   },
   {
    "duration": 739,
    "start_time": "2023-01-17T20:25:39.103Z"
   },
   {
    "duration": 74,
    "start_time": "2023-01-17T20:26:44.661Z"
   },
   {
    "duration": 2147,
    "start_time": "2023-01-17T20:26:50.880Z"
   },
   {
    "duration": 5,
    "start_time": "2023-01-17T20:26:53.030Z"
   },
   {
    "duration": 814,
    "start_time": "2023-01-17T20:26:53.037Z"
   },
   {
    "duration": 22,
    "start_time": "2023-01-17T20:26:53.854Z"
   },
   {
    "duration": 164,
    "start_time": "2023-01-17T20:26:53.878Z"
   },
   {
    "duration": 888,
    "start_time": "2023-01-17T20:26:54.044Z"
   },
   {
    "duration": 243,
    "start_time": "2023-01-17T20:26:54.934Z"
   },
   {
    "duration": 29,
    "start_time": "2023-01-17T20:26:55.178Z"
   },
   {
    "duration": 71,
    "start_time": "2023-01-17T20:26:55.208Z"
   },
   {
    "duration": 125,
    "start_time": "2023-01-17T20:26:55.282Z"
   },
   {
    "duration": 61,
    "start_time": "2023-01-17T20:26:55.409Z"
   },
   {
    "duration": 131,
    "start_time": "2023-01-17T20:26:55.472Z"
   },
   {
    "duration": 53,
    "start_time": "2023-01-17T20:26:55.605Z"
   },
   {
    "duration": 37,
    "start_time": "2023-01-17T20:26:55.662Z"
   },
   {
    "duration": 61,
    "start_time": "2023-01-17T20:26:55.702Z"
   },
   {
    "duration": 69,
    "start_time": "2023-01-17T20:26:55.765Z"
   },
   {
    "duration": 26,
    "start_time": "2023-01-17T20:26:55.836Z"
   },
   {
    "duration": 37,
    "start_time": "2023-01-17T20:26:55.864Z"
   },
   {
    "duration": 61,
    "start_time": "2023-01-17T20:26:55.902Z"
   },
   {
    "duration": 18,
    "start_time": "2023-01-17T20:26:55.965Z"
   },
   {
    "duration": 42,
    "start_time": "2023-01-17T20:26:55.984Z"
   },
   {
    "duration": 50,
    "start_time": "2023-01-17T20:26:56.028Z"
   },
   {
    "duration": 19,
    "start_time": "2023-01-17T20:26:56.079Z"
   },
   {
    "duration": 38,
    "start_time": "2023-01-17T20:26:56.099Z"
   },
   {
    "duration": 64,
    "start_time": "2023-01-17T20:26:56.139Z"
   },
   {
    "duration": 19,
    "start_time": "2023-01-17T20:26:56.205Z"
   },
   {
    "duration": 46,
    "start_time": "2023-01-17T20:26:56.225Z"
   },
   {
    "duration": 138,
    "start_time": "2023-01-17T20:26:56.274Z"
   },
   {
    "duration": 15,
    "start_time": "2023-01-17T20:26:56.413Z"
   },
   {
    "duration": 134,
    "start_time": "2023-01-17T20:26:56.430Z"
   },
   {
    "duration": 74,
    "start_time": "2023-01-17T20:26:56.566Z"
   },
   {
    "duration": 67,
    "start_time": "2023-01-17T20:26:56.648Z"
   },
   {
    "duration": 55,
    "start_time": "2023-01-17T20:26:56.717Z"
   },
   {
    "duration": 16,
    "start_time": "2023-01-17T20:26:56.773Z"
   },
   {
    "duration": 139,
    "start_time": "2023-01-17T20:26:56.790Z"
   },
   {
    "duration": 44,
    "start_time": "2023-01-17T20:26:56.931Z"
   },
   {
    "duration": 39,
    "start_time": "2023-01-17T20:26:56.977Z"
   },
   {
    "duration": 15,
    "start_time": "2023-01-17T20:26:57.018Z"
   },
   {
    "duration": 26,
    "start_time": "2023-01-17T20:26:57.035Z"
   },
   {
    "duration": 196,
    "start_time": "2023-01-17T20:26:57.065Z"
   },
   {
    "duration": 8,
    "start_time": "2023-01-17T20:26:57.262Z"
   },
   {
    "duration": 143,
    "start_time": "2023-01-17T20:26:57.272Z"
   },
   {
    "duration": 39,
    "start_time": "2023-01-17T20:26:57.417Z"
   },
   {
    "duration": 140,
    "start_time": "2023-01-17T20:26:57.457Z"
   },
   {
    "duration": 152,
    "start_time": "2023-01-17T20:26:57.599Z"
   },
   {
    "duration": 14,
    "start_time": "2023-01-17T20:26:57.752Z"
   },
   {
    "duration": 54,
    "start_time": "2023-01-17T20:26:57.767Z"
   },
   {
    "duration": 38,
    "start_time": "2023-01-17T20:26:57.823Z"
   },
   {
    "duration": 4,
    "start_time": "2023-01-17T20:26:57.862Z"
   },
   {
    "duration": 23,
    "start_time": "2023-01-17T20:26:57.867Z"
   },
   {
    "duration": 11,
    "start_time": "2023-01-17T20:26:57.892Z"
   },
   {
    "duration": 73,
    "start_time": "2023-01-17T20:26:57.904Z"
   },
   {
    "duration": 2,
    "start_time": "2023-01-17T20:26:57.979Z"
   },
   {
    "duration": 46,
    "start_time": "2023-01-17T20:26:57.982Z"
   },
   {
    "duration": 819,
    "start_time": "2023-01-17T20:27:02.015Z"
   },
   {
    "duration": 86,
    "start_time": "2023-01-17T20:27:03.841Z"
   },
   {
    "duration": 2,
    "start_time": "2023-01-17T20:29:00.730Z"
   },
   {
    "duration": 11,
    "start_time": "2023-01-17T20:29:22.422Z"
   },
   {
    "duration": 3,
    "start_time": "2023-01-17T20:29:47.312Z"
   },
   {
    "duration": 43,
    "start_time": "2023-01-17T20:29:49.414Z"
   },
   {
    "duration": 157,
    "start_time": "2023-01-17T20:29:53.275Z"
   },
   {
    "duration": 2109,
    "start_time": "2023-01-17T20:30:16.613Z"
   },
   {
    "duration": 5,
    "start_time": "2023-01-17T20:30:18.724Z"
   },
   {
    "duration": 836,
    "start_time": "2023-01-17T20:30:18.730Z"
   },
   {
    "duration": 15,
    "start_time": "2023-01-17T20:30:19.568Z"
   },
   {
    "duration": 225,
    "start_time": "2023-01-17T20:30:19.584Z"
   },
   {
    "duration": 865,
    "start_time": "2023-01-17T20:30:19.811Z"
   },
   {
    "duration": 232,
    "start_time": "2023-01-17T20:30:20.678Z"
   },
   {
    "duration": 41,
    "start_time": "2023-01-17T20:30:20.912Z"
   },
   {
    "duration": 54,
    "start_time": "2023-01-17T20:30:20.957Z"
   },
   {
    "duration": 127,
    "start_time": "2023-01-17T20:30:21.013Z"
   },
   {
    "duration": 48,
    "start_time": "2023-01-17T20:30:21.141Z"
   },
   {
    "duration": 253,
    "start_time": "2023-01-17T20:30:21.191Z"
   },
   {
    "duration": 39,
    "start_time": "2023-01-17T20:30:21.449Z"
   },
   {
    "duration": 23,
    "start_time": "2023-01-17T20:30:21.489Z"
   },
   {
    "duration": 51,
    "start_time": "2023-01-17T20:30:21.514Z"
   },
   {
    "duration": 47,
    "start_time": "2023-01-17T20:30:21.567Z"
   },
   {
    "duration": 37,
    "start_time": "2023-01-17T20:30:21.616Z"
   },
   {
    "duration": 34,
    "start_time": "2023-01-17T20:30:21.654Z"
   },
   {
    "duration": 40,
    "start_time": "2023-01-17T20:30:21.690Z"
   },
   {
    "duration": 33,
    "start_time": "2023-01-17T20:30:21.731Z"
   },
   {
    "duration": 43,
    "start_time": "2023-01-17T20:30:21.766Z"
   },
   {
    "duration": 52,
    "start_time": "2023-01-17T20:30:21.811Z"
   },
   {
    "duration": 21,
    "start_time": "2023-01-17T20:30:21.865Z"
   },
   {
    "duration": 32,
    "start_time": "2023-01-17T20:30:21.888Z"
   },
   {
    "duration": 68,
    "start_time": "2023-01-17T20:30:21.922Z"
   },
   {
    "duration": 22,
    "start_time": "2023-01-17T20:30:21.991Z"
   },
   {
    "duration": 50,
    "start_time": "2023-01-17T20:30:22.014Z"
   },
   {
    "duration": 130,
    "start_time": "2023-01-17T20:30:22.068Z"
   },
   {
    "duration": 15,
    "start_time": "2023-01-17T20:30:22.200Z"
   },
   {
    "duration": 128,
    "start_time": "2023-01-17T20:30:22.217Z"
   },
   {
    "duration": 80,
    "start_time": "2023-01-17T20:30:22.348Z"
   },
   {
    "duration": 65,
    "start_time": "2023-01-17T20:30:22.430Z"
   },
   {
    "duration": 41,
    "start_time": "2023-01-17T20:30:22.496Z"
   },
   {
    "duration": 26,
    "start_time": "2023-01-17T20:30:22.538Z"
   },
   {
    "duration": 135,
    "start_time": "2023-01-17T20:30:22.566Z"
   },
   {
    "duration": 30,
    "start_time": "2023-01-17T20:30:22.702Z"
   },
   {
    "duration": 58,
    "start_time": "2023-01-17T20:30:22.734Z"
   },
   {
    "duration": 15,
    "start_time": "2023-01-17T20:30:22.793Z"
   },
   {
    "duration": 14,
    "start_time": "2023-01-17T20:30:22.810Z"
   },
   {
    "duration": 194,
    "start_time": "2023-01-17T20:30:22.829Z"
   },
   {
    "duration": 7,
    "start_time": "2023-01-17T20:30:23.024Z"
   },
   {
    "duration": 130,
    "start_time": "2023-01-17T20:30:23.032Z"
   },
   {
    "duration": 26,
    "start_time": "2023-01-17T20:30:23.165Z"
   },
   {
    "duration": 141,
    "start_time": "2023-01-17T20:30:23.193Z"
   },
   {
    "duration": 156,
    "start_time": "2023-01-17T20:30:23.335Z"
   },
   {
    "duration": 13,
    "start_time": "2023-01-17T20:30:23.493Z"
   },
   {
    "duration": 64,
    "start_time": "2023-01-17T20:30:23.508Z"
   },
   {
    "duration": 21,
    "start_time": "2023-01-17T20:30:23.573Z"
   },
   {
    "duration": 3,
    "start_time": "2023-01-17T20:30:23.596Z"
   },
   {
    "duration": 6,
    "start_time": "2023-01-17T20:30:23.600Z"
   },
   {
    "duration": 5,
    "start_time": "2023-01-17T20:30:23.607Z"
   },
   {
    "duration": 72,
    "start_time": "2023-01-17T20:30:23.613Z"
   },
   {
    "duration": 3,
    "start_time": "2023-01-17T20:30:23.687Z"
   },
   {
    "duration": 40,
    "start_time": "2023-01-17T20:30:23.691Z"
   },
   {
    "duration": 786,
    "start_time": "2023-01-17T20:30:23.732Z"
   },
   {
    "duration": 76,
    "start_time": "2023-01-17T20:30:29.821Z"
   },
   {
    "duration": 19,
    "start_time": "2023-01-17T20:30:36.158Z"
   },
   {
    "duration": 19,
    "start_time": "2023-01-17T20:30:55.177Z"
   },
   {
    "duration": 3,
    "start_time": "2023-01-17T20:41:56.148Z"
   },
   {
    "duration": 2215,
    "start_time": "2023-01-17T20:42:02.067Z"
   },
   {
    "duration": 6,
    "start_time": "2023-01-17T20:42:04.284Z"
   },
   {
    "duration": 732,
    "start_time": "2023-01-17T20:42:04.291Z"
   },
   {
    "duration": 15,
    "start_time": "2023-01-17T20:42:05.025Z"
   },
   {
    "duration": 129,
    "start_time": "2023-01-17T20:42:05.048Z"
   },
   {
    "duration": 883,
    "start_time": "2023-01-17T20:42:05.180Z"
   },
   {
    "duration": 240,
    "start_time": "2023-01-17T20:42:06.065Z"
   },
   {
    "duration": 42,
    "start_time": "2023-01-17T20:42:06.307Z"
   },
   {
    "duration": 51,
    "start_time": "2023-01-17T20:42:06.351Z"
   },
   {
    "duration": 132,
    "start_time": "2023-01-17T20:42:06.405Z"
   },
   {
    "duration": 45,
    "start_time": "2023-01-17T20:42:06.539Z"
   },
   {
    "duration": 112,
    "start_time": "2023-01-17T20:42:06.585Z"
   },
   {
    "duration": 31,
    "start_time": "2023-01-17T20:42:06.698Z"
   },
   {
    "duration": 29,
    "start_time": "2023-01-17T20:42:06.731Z"
   },
   {
    "duration": 31,
    "start_time": "2023-01-17T20:42:06.762Z"
   },
   {
    "duration": 54,
    "start_time": "2023-01-17T20:42:06.795Z"
   },
   {
    "duration": 19,
    "start_time": "2023-01-17T20:42:06.851Z"
   },
   {
    "duration": 32,
    "start_time": "2023-01-17T20:42:06.872Z"
   },
   {
    "duration": 56,
    "start_time": "2023-01-17T20:42:06.906Z"
   },
   {
    "duration": 19,
    "start_time": "2023-01-17T20:42:06.964Z"
   },
   {
    "duration": 33,
    "start_time": "2023-01-17T20:42:06.985Z"
   },
   {
    "duration": 62,
    "start_time": "2023-01-17T20:42:07.020Z"
   },
   {
    "duration": 20,
    "start_time": "2023-01-17T20:42:07.084Z"
   },
   {
    "duration": 44,
    "start_time": "2023-01-17T20:42:07.105Z"
   },
   {
    "duration": 44,
    "start_time": "2023-01-17T20:42:07.151Z"
   },
   {
    "duration": 20,
    "start_time": "2023-01-17T20:42:07.196Z"
   },
   {
    "duration": 49,
    "start_time": "2023-01-17T20:42:07.218Z"
   },
   {
    "duration": 126,
    "start_time": "2023-01-17T20:42:07.270Z"
   },
   {
    "duration": 15,
    "start_time": "2023-01-17T20:42:07.398Z"
   },
   {
    "duration": 135,
    "start_time": "2023-01-17T20:42:07.415Z"
   },
   {
    "duration": 74,
    "start_time": "2023-01-17T20:42:07.552Z"
   },
   {
    "duration": 79,
    "start_time": "2023-01-17T20:42:07.628Z"
   },
   {
    "duration": 45,
    "start_time": "2023-01-17T20:42:07.709Z"
   },
   {
    "duration": 20,
    "start_time": "2023-01-17T20:42:07.756Z"
   },
   {
    "duration": 151,
    "start_time": "2023-01-17T20:42:07.778Z"
   },
   {
    "duration": 39,
    "start_time": "2023-01-17T20:42:07.931Z"
   },
   {
    "duration": 43,
    "start_time": "2023-01-17T20:42:07.973Z"
   },
   {
    "duration": 31,
    "start_time": "2023-01-17T20:42:08.018Z"
   },
   {
    "duration": 13,
    "start_time": "2023-01-17T20:42:08.050Z"
   },
   {
    "duration": 191,
    "start_time": "2023-01-17T20:42:08.065Z"
   },
   {
    "duration": 6,
    "start_time": "2023-01-17T20:42:08.258Z"
   },
   {
    "duration": 117,
    "start_time": "2023-01-17T20:42:08.266Z"
   },
   {
    "duration": 22,
    "start_time": "2023-01-17T20:42:08.385Z"
   },
   {
    "duration": 150,
    "start_time": "2023-01-17T20:42:08.409Z"
   },
   {
    "duration": 155,
    "start_time": "2023-01-17T20:42:08.561Z"
   },
   {
    "duration": 12,
    "start_time": "2023-01-17T20:42:08.718Z"
   },
   {
    "duration": 55,
    "start_time": "2023-01-17T20:42:08.732Z"
   },
   {
    "duration": 20,
    "start_time": "2023-01-17T20:42:08.789Z"
   },
   {
    "duration": 4,
    "start_time": "2023-01-17T20:42:08.810Z"
   },
   {
    "duration": 7,
    "start_time": "2023-01-17T20:42:08.816Z"
   },
   {
    "duration": 5,
    "start_time": "2023-01-17T20:42:08.824Z"
   },
   {
    "duration": 50,
    "start_time": "2023-01-17T20:42:21.262Z"
   },
   {
    "duration": 778,
    "start_time": "2023-01-17T20:42:32.497Z"
   },
   {
    "duration": 21,
    "start_time": "2023-01-17T20:42:36.935Z"
   },
   {
    "duration": 2118,
    "start_time": "2023-01-17T20:42:58.168Z"
   },
   {
    "duration": 1415,
    "start_time": "2023-01-17T20:43:00.288Z"
   },
   {
    "duration": 869,
    "start_time": "2023-01-17T20:43:01.705Z"
   },
   {
    "duration": 17,
    "start_time": "2023-01-17T20:43:02.577Z"
   },
   {
    "duration": 143,
    "start_time": "2023-01-17T20:43:02.595Z"
   },
   {
    "duration": 1060,
    "start_time": "2023-01-17T20:43:02.740Z"
   },
   {
    "duration": 258,
    "start_time": "2023-01-17T20:43:03.802Z"
   },
   {
    "duration": 35,
    "start_time": "2023-01-17T20:43:04.062Z"
   },
   {
    "duration": 78,
    "start_time": "2023-01-17T20:43:04.098Z"
   },
   {
    "duration": 128,
    "start_time": "2023-01-17T20:43:04.179Z"
   },
   {
    "duration": 65,
    "start_time": "2023-01-17T20:43:04.309Z"
   },
   {
    "duration": 128,
    "start_time": "2023-01-17T20:43:04.375Z"
   },
   {
    "duration": 31,
    "start_time": "2023-01-17T20:43:04.505Z"
   },
   {
    "duration": 20,
    "start_time": "2023-01-17T20:43:04.548Z"
   },
   {
    "duration": 32,
    "start_time": "2023-01-17T20:43:04.570Z"
   },
   {
    "duration": 62,
    "start_time": "2023-01-17T20:43:04.605Z"
   },
   {
    "duration": 32,
    "start_time": "2023-01-17T20:43:04.669Z"
   },
   {
    "duration": 66,
    "start_time": "2023-01-17T20:43:04.703Z"
   },
   {
    "duration": 79,
    "start_time": "2023-01-17T20:43:04.771Z"
   },
   {
    "duration": 20,
    "start_time": "2023-01-17T20:43:04.852Z"
   },
   {
    "duration": 57,
    "start_time": "2023-01-17T20:43:04.874Z"
   },
   {
    "duration": 61,
    "start_time": "2023-01-17T20:43:04.933Z"
   },
   {
    "duration": 22,
    "start_time": "2023-01-17T20:43:04.996Z"
   },
   {
    "duration": 52,
    "start_time": "2023-01-17T20:43:05.021Z"
   },
   {
    "duration": 54,
    "start_time": "2023-01-17T20:43:05.074Z"
   },
   {
    "duration": 31,
    "start_time": "2023-01-17T20:43:05.130Z"
   },
   {
    "duration": 37,
    "start_time": "2023-01-17T20:43:05.163Z"
   },
   {
    "duration": 196,
    "start_time": "2023-01-17T20:43:05.204Z"
   },
   {
    "duration": 49,
    "start_time": "2023-01-17T20:43:05.402Z"
   },
   {
    "duration": 137,
    "start_time": "2023-01-17T20:43:05.453Z"
   },
   {
    "duration": 93,
    "start_time": "2023-01-17T20:43:05.592Z"
   },
   {
    "duration": 78,
    "start_time": "2023-01-17T20:43:05.687Z"
   },
   {
    "duration": 47,
    "start_time": "2023-01-17T20:43:05.767Z"
   },
   {
    "duration": 32,
    "start_time": "2023-01-17T20:43:05.816Z"
   },
   {
    "duration": 143,
    "start_time": "2023-01-17T20:43:05.850Z"
   },
   {
    "duration": 54,
    "start_time": "2023-01-17T20:43:05.995Z"
   },
   {
    "duration": 44,
    "start_time": "2023-01-17T20:43:06.051Z"
   },
   {
    "duration": 15,
    "start_time": "2023-01-17T20:43:06.097Z"
   },
   {
    "duration": 39,
    "start_time": "2023-01-17T20:43:06.113Z"
   },
   {
    "duration": 258,
    "start_time": "2023-01-17T20:43:06.154Z"
   },
   {
    "duration": 7,
    "start_time": "2023-01-17T20:43:06.413Z"
   },
   {
    "duration": 122,
    "start_time": "2023-01-17T20:43:06.421Z"
   },
   {
    "duration": 21,
    "start_time": "2023-01-17T20:43:06.548Z"
   },
   {
    "duration": 128,
    "start_time": "2023-01-17T20:43:06.571Z"
   },
   {
    "duration": 139,
    "start_time": "2023-01-17T20:43:06.701Z"
   },
   {
    "duration": 14,
    "start_time": "2023-01-17T20:43:06.841Z"
   },
   {
    "duration": 49,
    "start_time": "2023-01-17T20:43:06.857Z"
   },
   {
    "duration": 21,
    "start_time": "2023-01-17T20:43:06.907Z"
   },
   {
    "duration": 3,
    "start_time": "2023-01-17T20:43:06.948Z"
   },
   {
    "duration": 5,
    "start_time": "2023-01-17T20:43:06.953Z"
   },
   {
    "duration": 6,
    "start_time": "2023-01-17T20:43:06.960Z"
   },
   {
    "duration": 57,
    "start_time": "2023-01-17T20:43:11.255Z"
   },
   {
    "duration": 778,
    "start_time": "2023-01-17T20:43:16.884Z"
   },
   {
    "duration": 21,
    "start_time": "2023-01-17T20:43:24.858Z"
   },
   {
    "duration": 30,
    "start_time": "2023-01-17T20:44:01.199Z"
   },
   {
    "duration": 26,
    "start_time": "2023-01-17T20:44:09.868Z"
   },
   {
    "duration": 18,
    "start_time": "2023-01-17T20:44:45.539Z"
   },
   {
    "duration": 23,
    "start_time": "2023-01-17T20:44:50.489Z"
   },
   {
    "duration": 13,
    "start_time": "2023-01-17T20:45:02.995Z"
   },
   {
    "duration": 29,
    "start_time": "2023-01-17T20:45:04.600Z"
   },
   {
    "duration": 6,
    "start_time": "2023-01-17T20:45:41.264Z"
   },
   {
    "duration": 11,
    "start_time": "2023-01-17T20:45:41.932Z"
   },
   {
    "duration": 801,
    "start_time": "2023-01-17T20:45:59.685Z"
   },
   {
    "duration": 11,
    "start_time": "2023-01-17T20:46:00.682Z"
   },
   {
    "duration": 739,
    "start_time": "2023-01-17T20:46:43.200Z"
   },
   {
    "duration": 14,
    "start_time": "2023-01-17T20:47:08.087Z"
   },
   {
    "duration": 544,
    "start_time": "2023-01-17T20:47:15.115Z"
   },
   {
    "duration": 13,
    "start_time": "2023-01-17T20:47:28.639Z"
   },
   {
    "duration": 46,
    "start_time": "2023-01-17T20:47:38.014Z"
   },
   {
    "duration": 33,
    "start_time": "2023-01-17T20:47:47.247Z"
   },
   {
    "duration": 3,
    "start_time": "2023-01-17T20:48:53.666Z"
   },
   {
    "duration": 17,
    "start_time": "2023-01-17T20:48:53.887Z"
   },
   {
    "duration": 3,
    "start_time": "2023-01-17T20:49:01.831Z"
   },
   {
    "duration": 3,
    "start_time": "2023-01-17T20:49:09.107Z"
   },
   {
    "duration": 15,
    "start_time": "2023-01-17T20:49:10.101Z"
   },
   {
    "duration": 2,
    "start_time": "2023-01-17T20:49:36.734Z"
   },
   {
    "duration": 42,
    "start_time": "2023-01-17T20:49:37.131Z"
   },
   {
    "duration": 166,
    "start_time": "2023-01-17T20:49:44.669Z"
   },
   {
    "duration": 174,
    "start_time": "2023-01-17T20:50:25.243Z"
   },
   {
    "duration": 3,
    "start_time": "2023-01-17T20:54:59.354Z"
   },
   {
    "duration": 39,
    "start_time": "2023-01-17T20:55:04.497Z"
   },
   {
    "duration": 2390,
    "start_time": "2023-01-17T20:55:06.686Z"
   },
   {
    "duration": 965,
    "start_time": "2023-01-17T20:56:07.488Z"
   },
   {
    "duration": 4,
    "start_time": "2023-01-17T20:56:11.029Z"
   },
   {
    "duration": 49,
    "start_time": "2023-01-17T20:57:49.616Z"
   },
   {
    "duration": 11,
    "start_time": "2023-01-17T20:58:02.246Z"
   },
   {
    "duration": 13,
    "start_time": "2023-01-17T20:58:23.547Z"
   },
   {
    "duration": 2184,
    "start_time": "2023-01-17T21:00:43.715Z"
   },
   {
    "duration": 1434,
    "start_time": "2023-01-17T21:00:45.902Z"
   },
   {
    "duration": 2850,
    "start_time": "2023-01-17T21:00:47.338Z"
   },
   {
    "duration": 121,
    "start_time": "2023-01-17T21:00:50.190Z"
   },
   {
    "duration": 138,
    "start_time": "2023-01-17T21:00:50.312Z"
   },
   {
    "duration": 1005,
    "start_time": "2023-01-17T21:00:50.451Z"
   },
   {
    "duration": 251,
    "start_time": "2023-01-17T21:00:51.458Z"
   },
   {
    "duration": 37,
    "start_time": "2023-01-17T21:00:51.711Z"
   },
   {
    "duration": 59,
    "start_time": "2023-01-17T21:00:51.749Z"
   },
   {
    "duration": 140,
    "start_time": "2023-01-17T21:00:51.810Z"
   },
   {
    "duration": 46,
    "start_time": "2023-01-17T21:00:51.952Z"
   },
   {
    "duration": 127,
    "start_time": "2023-01-17T21:00:51.999Z"
   },
   {
    "duration": 32,
    "start_time": "2023-01-17T21:00:52.128Z"
   },
   {
    "duration": 21,
    "start_time": "2023-01-17T21:00:52.162Z"
   },
   {
    "duration": 32,
    "start_time": "2023-01-17T21:00:52.185Z"
   },
   {
    "duration": 60,
    "start_time": "2023-01-17T21:00:52.218Z"
   },
   {
    "duration": 19,
    "start_time": "2023-01-17T21:00:52.279Z"
   },
   {
    "duration": 48,
    "start_time": "2023-01-17T21:00:52.300Z"
   },
   {
    "duration": 44,
    "start_time": "2023-01-17T21:00:52.350Z"
   },
   {
    "duration": 20,
    "start_time": "2023-01-17T21:00:52.396Z"
   },
   {
    "duration": 47,
    "start_time": "2023-01-17T21:00:52.417Z"
   },
   {
    "duration": 43,
    "start_time": "2023-01-17T21:00:52.466Z"
   },
   {
    "duration": 19,
    "start_time": "2023-01-17T21:00:52.511Z"
   },
   {
    "duration": 46,
    "start_time": "2023-01-17T21:00:52.532Z"
   },
   {
    "duration": 44,
    "start_time": "2023-01-17T21:00:52.579Z"
   },
   {
    "duration": 35,
    "start_time": "2023-01-17T21:00:52.625Z"
   },
   {
    "duration": 31,
    "start_time": "2023-01-17T21:00:52.662Z"
   },
   {
    "duration": 136,
    "start_time": "2023-01-17T21:00:52.697Z"
   },
   {
    "duration": 29,
    "start_time": "2023-01-17T21:00:52.835Z"
   },
   {
    "duration": 133,
    "start_time": "2023-01-17T21:00:52.865Z"
   },
   {
    "duration": 79,
    "start_time": "2023-01-17T21:00:52.999Z"
   },
   {
    "duration": 89,
    "start_time": "2023-01-17T21:00:53.080Z"
   },
   {
    "duration": 56,
    "start_time": "2023-01-17T21:00:53.171Z"
   },
   {
    "duration": 25,
    "start_time": "2023-01-17T21:00:53.229Z"
   },
   {
    "duration": 134,
    "start_time": "2023-01-17T21:00:53.256Z"
   },
   {
    "duration": 32,
    "start_time": "2023-01-17T21:00:53.391Z"
   },
   {
    "duration": 53,
    "start_time": "2023-01-17T21:00:53.424Z"
   },
   {
    "duration": 20,
    "start_time": "2023-01-17T21:00:53.479Z"
   },
   {
    "duration": 16,
    "start_time": "2023-01-17T21:00:53.502Z"
   },
   {
    "duration": 180,
    "start_time": "2023-01-17T21:00:53.520Z"
   },
   {
    "duration": 6,
    "start_time": "2023-01-17T21:00:53.702Z"
   },
   {
    "duration": 115,
    "start_time": "2023-01-17T21:00:53.709Z"
   },
   {
    "duration": 31,
    "start_time": "2023-01-17T21:00:53.825Z"
   },
   {
    "duration": 130,
    "start_time": "2023-01-17T21:00:53.858Z"
   },
   {
    "duration": 142,
    "start_time": "2023-01-17T21:00:53.990Z"
   },
   {
    "duration": 19,
    "start_time": "2023-01-17T21:00:54.134Z"
   },
   {
    "duration": 62,
    "start_time": "2023-01-17T21:00:54.155Z"
   },
   {
    "duration": 40,
    "start_time": "2023-01-17T21:00:54.219Z"
   },
   {
    "duration": 3,
    "start_time": "2023-01-17T21:00:54.261Z"
   },
   {
    "duration": 8,
    "start_time": "2023-01-17T21:00:54.265Z"
   },
   {
    "duration": 4,
    "start_time": "2023-01-17T21:00:54.275Z"
   },
   {
    "duration": 68,
    "start_time": "2023-01-17T21:00:54.281Z"
   },
   {
    "duration": 3,
    "start_time": "2023-01-17T21:00:54.351Z"
   },
   {
    "duration": 44,
    "start_time": "2023-01-17T21:00:54.355Z"
   },
   {
    "duration": 147,
    "start_time": "2023-01-17T21:02:15.203Z"
   },
   {
    "duration": 5,
    "start_time": "2023-01-17T21:02:26.528Z"
   },
   {
    "duration": 13,
    "start_time": "2023-01-17T21:03:10.659Z"
   },
   {
    "duration": 4,
    "start_time": "2023-01-17T21:03:34.310Z"
   },
   {
    "duration": 4,
    "start_time": "2023-01-17T21:03:41.668Z"
   },
   {
    "duration": 4,
    "start_time": "2023-01-17T21:03:59.649Z"
   },
   {
    "duration": 9,
    "start_time": "2023-01-17T21:04:08.842Z"
   },
   {
    "duration": 709,
    "start_time": "2023-01-17T21:12:08.689Z"
   },
   {
    "duration": 726,
    "start_time": "2023-01-17T21:12:16.937Z"
   },
   {
    "duration": 722,
    "start_time": "2023-01-17T21:12:22.653Z"
   },
   {
    "duration": 744,
    "start_time": "2023-01-17T21:12:49.327Z"
   },
   {
    "duration": 717,
    "start_time": "2023-01-17T21:12:53.243Z"
   },
   {
    "duration": 726,
    "start_time": "2023-01-17T21:13:58.225Z"
   },
   {
    "duration": 711,
    "start_time": "2023-01-17T21:14:46.345Z"
   },
   {
    "duration": 691,
    "start_time": "2023-01-17T21:14:58.091Z"
   },
   {
    "duration": 799,
    "start_time": "2023-01-17T21:15:16.703Z"
   },
   {
    "duration": 742,
    "start_time": "2023-01-17T21:15:54.835Z"
   },
   {
    "duration": 18,
    "start_time": "2023-01-17T21:16:28.242Z"
   },
   {
    "duration": 4,
    "start_time": "2023-01-17T21:18:03.062Z"
   },
   {
    "duration": 296,
    "start_time": "2023-01-17T21:18:16.723Z"
   },
   {
    "duration": 266,
    "start_time": "2023-01-17T21:18:50.458Z"
   },
   {
    "duration": 253,
    "start_time": "2023-01-17T21:18:57.467Z"
   },
   {
    "duration": 22,
    "start_time": "2023-01-17T21:19:00.792Z"
   },
   {
    "duration": 14,
    "start_time": "2023-01-17T21:19:50.959Z"
   },
   {
    "duration": 2164,
    "start_time": "2023-01-17T21:19:54.430Z"
   },
   {
    "duration": 5,
    "start_time": "2023-01-17T21:19:56.596Z"
   },
   {
    "duration": 781,
    "start_time": "2023-01-17T21:19:56.602Z"
   },
   {
    "duration": 13,
    "start_time": "2023-01-17T21:19:57.386Z"
   },
   {
    "duration": 132,
    "start_time": "2023-01-17T21:19:57.401Z"
   },
   {
    "duration": 819,
    "start_time": "2023-01-17T21:19:57.535Z"
   },
   {
    "duration": 230,
    "start_time": "2023-01-17T21:19:58.355Z"
   },
   {
    "duration": 29,
    "start_time": "2023-01-17T21:19:58.586Z"
   },
   {
    "duration": 70,
    "start_time": "2023-01-17T21:19:58.616Z"
   },
   {
    "duration": 113,
    "start_time": "2023-01-17T21:19:58.689Z"
   },
   {
    "duration": 51,
    "start_time": "2023-01-17T21:19:58.804Z"
   },
   {
    "duration": 107,
    "start_time": "2023-01-17T21:19:58.857Z"
   },
   {
    "duration": 39,
    "start_time": "2023-01-17T21:19:58.967Z"
   },
   {
    "duration": 28,
    "start_time": "2023-01-17T21:19:59.008Z"
   },
   {
    "duration": 35,
    "start_time": "2023-01-17T21:19:59.048Z"
   },
   {
    "duration": 50,
    "start_time": "2023-01-17T21:19:59.084Z"
   },
   {
    "duration": 30,
    "start_time": "2023-01-17T21:19:59.136Z"
   },
   {
    "duration": 34,
    "start_time": "2023-01-17T21:19:59.168Z"
   },
   {
    "duration": 56,
    "start_time": "2023-01-17T21:19:59.204Z"
   },
   {
    "duration": 18,
    "start_time": "2023-01-17T21:19:59.261Z"
   },
   {
    "duration": 32,
    "start_time": "2023-01-17T21:19:59.280Z"
   },
   {
    "duration": 60,
    "start_time": "2023-01-17T21:19:59.313Z"
   },
   {
    "duration": 19,
    "start_time": "2023-01-17T21:19:59.375Z"
   },
   {
    "duration": 31,
    "start_time": "2023-01-17T21:19:59.395Z"
   },
   {
    "duration": 57,
    "start_time": "2023-01-17T21:19:59.428Z"
   },
   {
    "duration": 30,
    "start_time": "2023-01-17T21:19:59.487Z"
   },
   {
    "duration": 46,
    "start_time": "2023-01-17T21:19:59.519Z"
   },
   {
    "duration": 127,
    "start_time": "2023-01-17T21:19:59.568Z"
   },
   {
    "duration": 14,
    "start_time": "2023-01-17T21:19:59.696Z"
   },
   {
    "duration": 126,
    "start_time": "2023-01-17T21:19:59.712Z"
   },
   {
    "duration": 81,
    "start_time": "2023-01-17T21:19:59.840Z"
   },
   {
    "duration": 73,
    "start_time": "2023-01-17T21:19:59.922Z"
   },
   {
    "duration": 41,
    "start_time": "2023-01-17T21:19:59.996Z"
   },
   {
    "duration": 23,
    "start_time": "2023-01-17T21:20:00.039Z"
   },
   {
    "duration": 143,
    "start_time": "2023-01-17T21:20:00.064Z"
   },
   {
    "duration": 30,
    "start_time": "2023-01-17T21:20:00.208Z"
   },
   {
    "duration": 41,
    "start_time": "2023-01-17T21:20:00.247Z"
   },
   {
    "duration": 14,
    "start_time": "2023-01-17T21:20:00.290Z"
   },
   {
    "duration": 25,
    "start_time": "2023-01-17T21:20:00.306Z"
   },
   {
    "duration": 178,
    "start_time": "2023-01-17T21:20:00.333Z"
   },
   {
    "duration": 7,
    "start_time": "2023-01-17T21:20:00.512Z"
   },
   {
    "duration": 131,
    "start_time": "2023-01-17T21:20:00.520Z"
   },
   {
    "duration": 33,
    "start_time": "2023-01-17T21:20:00.653Z"
   },
   {
    "duration": 140,
    "start_time": "2023-01-17T21:20:00.688Z"
   },
   {
    "duration": 137,
    "start_time": "2023-01-17T21:20:00.829Z"
   },
   {
    "duration": 14,
    "start_time": "2023-01-17T21:20:00.968Z"
   },
   {
    "duration": 65,
    "start_time": "2023-01-17T21:20:00.983Z"
   },
   {
    "duration": 22,
    "start_time": "2023-01-17T21:20:01.050Z"
   },
   {
    "duration": 9,
    "start_time": "2023-01-17T21:20:01.074Z"
   },
   {
    "duration": 25,
    "start_time": "2023-01-17T21:20:01.085Z"
   },
   {
    "duration": 9,
    "start_time": "2023-01-17T21:20:01.112Z"
   },
   {
    "duration": 59,
    "start_time": "2023-01-17T21:20:01.123Z"
   },
   {
    "duration": 2,
    "start_time": "2023-01-17T21:20:01.184Z"
   },
   {
    "duration": 60,
    "start_time": "2023-01-17T21:20:01.188Z"
   },
   {
    "duration": 826,
    "start_time": "2023-01-17T21:20:01.250Z"
   },
   {
    "duration": 4,
    "start_time": "2023-01-17T21:20:02.078Z"
   },
   {
    "duration": 29,
    "start_time": "2023-01-17T21:20:02.083Z"
   },
   {
    "duration": 310,
    "start_time": "2023-01-17T21:20:20.902Z"
   },
   {
    "duration": 2084,
    "start_time": "2023-01-17T21:21:54.609Z"
   },
   {
    "duration": 1343,
    "start_time": "2023-01-17T21:21:56.695Z"
   },
   {
    "duration": 781,
    "start_time": "2023-01-17T21:21:58.040Z"
   },
   {
    "duration": 16,
    "start_time": "2023-01-17T21:21:58.823Z"
   },
   {
    "duration": 121,
    "start_time": "2023-01-17T21:21:58.847Z"
   },
   {
    "duration": 917,
    "start_time": "2023-01-17T21:21:58.970Z"
   },
   {
    "duration": 260,
    "start_time": "2023-01-17T21:21:59.888Z"
   },
   {
    "duration": 41,
    "start_time": "2023-01-17T21:22:00.149Z"
   },
   {
    "duration": 70,
    "start_time": "2023-01-17T21:22:00.192Z"
   },
   {
    "duration": 112,
    "start_time": "2023-01-17T21:22:00.265Z"
   },
   {
    "duration": 63,
    "start_time": "2023-01-17T21:22:00.378Z"
   },
   {
    "duration": 113,
    "start_time": "2023-01-17T21:22:00.443Z"
   },
   {
    "duration": 52,
    "start_time": "2023-01-17T21:22:00.558Z"
   },
   {
    "duration": 48,
    "start_time": "2023-01-17T21:22:00.612Z"
   },
   {
    "duration": 31,
    "start_time": "2023-01-17T21:22:00.661Z"
   },
   {
    "duration": 57,
    "start_time": "2023-01-17T21:22:00.694Z"
   },
   {
    "duration": 20,
    "start_time": "2023-01-17T21:22:00.753Z"
   },
   {
    "duration": 36,
    "start_time": "2023-01-17T21:22:00.774Z"
   },
   {
    "duration": 62,
    "start_time": "2023-01-17T21:22:00.811Z"
   },
   {
    "duration": 73,
    "start_time": "2023-01-17T21:22:00.874Z"
   },
   {
    "duration": 39,
    "start_time": "2023-01-17T21:22:00.948Z"
   },
   {
    "duration": 92,
    "start_time": "2023-01-17T21:22:00.989Z"
   },
   {
    "duration": 27,
    "start_time": "2023-01-17T21:22:01.082Z"
   },
   {
    "duration": 55,
    "start_time": "2023-01-17T21:22:01.111Z"
   },
   {
    "duration": 86,
    "start_time": "2023-01-17T21:22:01.168Z"
   },
   {
    "duration": 20,
    "start_time": "2023-01-17T21:22:01.256Z"
   },
   {
    "duration": 47,
    "start_time": "2023-01-17T21:22:01.278Z"
   },
   {
    "duration": 152,
    "start_time": "2023-01-17T21:22:01.329Z"
   },
   {
    "duration": 20,
    "start_time": "2023-01-17T21:22:01.483Z"
   },
   {
    "duration": 158,
    "start_time": "2023-01-17T21:22:01.506Z"
   },
   {
    "duration": 90,
    "start_time": "2023-01-17T21:22:01.665Z"
   },
   {
    "duration": 73,
    "start_time": "2023-01-17T21:22:01.757Z"
   },
   {
    "duration": 64,
    "start_time": "2023-01-17T21:22:01.832Z"
   },
   {
    "duration": 18,
    "start_time": "2023-01-17T21:22:01.898Z"
   },
   {
    "duration": 149,
    "start_time": "2023-01-17T21:22:01.918Z"
   },
   {
    "duration": 31,
    "start_time": "2023-01-17T21:22:02.068Z"
   },
   {
    "duration": 54,
    "start_time": "2023-01-17T21:22:02.101Z"
   },
   {
    "duration": 16,
    "start_time": "2023-01-17T21:22:02.157Z"
   },
   {
    "duration": 23,
    "start_time": "2023-01-17T21:22:02.175Z"
   },
   {
    "duration": 317,
    "start_time": "2023-01-17T21:22:02.200Z"
   },
   {
    "duration": 7,
    "start_time": "2023-01-17T21:22:02.518Z"
   },
   {
    "duration": 114,
    "start_time": "2023-01-17T21:22:02.526Z"
   },
   {
    "duration": 24,
    "start_time": "2023-01-17T21:22:02.642Z"
   },
   {
    "duration": 132,
    "start_time": "2023-01-17T21:22:02.668Z"
   },
   {
    "duration": 155,
    "start_time": "2023-01-17T21:22:02.801Z"
   },
   {
    "duration": 12,
    "start_time": "2023-01-17T21:22:02.957Z"
   },
   {
    "duration": 56,
    "start_time": "2023-01-17T21:22:02.971Z"
   },
   {
    "duration": 35,
    "start_time": "2023-01-17T21:22:03.029Z"
   },
   {
    "duration": 3,
    "start_time": "2023-01-17T21:22:03.066Z"
   },
   {
    "duration": 5,
    "start_time": "2023-01-17T21:22:03.070Z"
   },
   {
    "duration": 5,
    "start_time": "2023-01-17T21:22:03.076Z"
   },
   {
    "duration": 67,
    "start_time": "2023-01-17T21:22:03.082Z"
   },
   {
    "duration": 3,
    "start_time": "2023-01-17T21:22:03.151Z"
   },
   {
    "duration": 49,
    "start_time": "2023-01-17T21:22:03.156Z"
   },
   {
    "duration": 822,
    "start_time": "2023-01-17T21:22:03.207Z"
   },
   {
    "duration": 417,
    "start_time": "2023-01-17T21:22:07.672Z"
   },
   {
    "duration": 13,
    "start_time": "2023-01-17T21:22:21.241Z"
   },
   {
    "duration": 19,
    "start_time": "2023-01-17T21:22:31.029Z"
   },
   {
    "duration": 14,
    "start_time": "2023-01-17T21:23:14.960Z"
   },
   {
    "duration": 30,
    "start_time": "2023-01-17T21:23:26.974Z"
   },
   {
    "duration": 2055,
    "start_time": "2023-01-17T21:23:51.079Z"
   },
   {
    "duration": 1406,
    "start_time": "2023-01-17T21:23:53.137Z"
   },
   {
    "duration": 864,
    "start_time": "2023-01-17T21:23:54.545Z"
   },
   {
    "duration": 16,
    "start_time": "2023-01-17T21:23:55.411Z"
   },
   {
    "duration": 143,
    "start_time": "2023-01-17T21:23:55.429Z"
   },
   {
    "duration": 965,
    "start_time": "2023-01-17T21:23:55.574Z"
   },
   {
    "duration": 258,
    "start_time": "2023-01-17T21:23:56.541Z"
   },
   {
    "duration": 29,
    "start_time": "2023-01-17T21:23:56.801Z"
   },
   {
    "duration": 67,
    "start_time": "2023-01-17T21:23:56.832Z"
   },
   {
    "duration": 128,
    "start_time": "2023-01-17T21:23:56.903Z"
   },
   {
    "duration": 49,
    "start_time": "2023-01-17T21:23:57.033Z"
   },
   {
    "duration": 123,
    "start_time": "2023-01-17T21:23:57.084Z"
   },
   {
    "duration": 30,
    "start_time": "2023-01-17T21:23:57.209Z"
   },
   {
    "duration": 34,
    "start_time": "2023-01-17T21:23:57.248Z"
   },
   {
    "duration": 49,
    "start_time": "2023-01-17T21:23:57.284Z"
   },
   {
    "duration": 48,
    "start_time": "2023-01-17T21:23:57.334Z"
   },
   {
    "duration": 18,
    "start_time": "2023-01-17T21:23:57.384Z"
   },
   {
    "duration": 36,
    "start_time": "2023-01-17T21:23:57.403Z"
   },
   {
    "duration": 39,
    "start_time": "2023-01-17T21:23:57.447Z"
   },
   {
    "duration": 18,
    "start_time": "2023-01-17T21:23:57.487Z"
   },
   {
    "duration": 50,
    "start_time": "2023-01-17T21:23:57.507Z"
   },
   {
    "duration": 48,
    "start_time": "2023-01-17T21:23:57.559Z"
   },
   {
    "duration": 20,
    "start_time": "2023-01-17T21:23:57.610Z"
   },
   {
    "duration": 43,
    "start_time": "2023-01-17T21:23:57.632Z"
   },
   {
    "duration": 45,
    "start_time": "2023-01-17T21:23:57.676Z"
   },
   {
    "duration": 30,
    "start_time": "2023-01-17T21:23:57.723Z"
   },
   {
    "duration": 31,
    "start_time": "2023-01-17T21:23:57.755Z"
   },
   {
    "duration": 131,
    "start_time": "2023-01-17T21:23:57.789Z"
   },
   {
    "duration": 27,
    "start_time": "2023-01-17T21:23:57.922Z"
   },
   {
    "duration": 115,
    "start_time": "2023-01-17T21:23:57.950Z"
   },
   {
    "duration": 70,
    "start_time": "2023-01-17T21:23:58.067Z"
   },
   {
    "duration": 74,
    "start_time": "2023-01-17T21:23:58.147Z"
   },
   {
    "duration": 58,
    "start_time": "2023-01-17T21:23:58.223Z"
   },
   {
    "duration": 16,
    "start_time": "2023-01-17T21:23:58.282Z"
   },
   {
    "duration": 136,
    "start_time": "2023-01-17T21:23:58.300Z"
   },
   {
    "duration": 33,
    "start_time": "2023-01-17T21:23:58.438Z"
   },
   {
    "duration": 40,
    "start_time": "2023-01-17T21:23:58.472Z"
   },
   {
    "duration": 15,
    "start_time": "2023-01-17T21:23:58.514Z"
   },
   {
    "duration": 41,
    "start_time": "2023-01-17T21:23:58.530Z"
   },
   {
    "duration": 250,
    "start_time": "2023-01-17T21:23:58.573Z"
   },
   {
    "duration": 6,
    "start_time": "2023-01-17T21:23:58.824Z"
   },
   {
    "duration": 128,
    "start_time": "2023-01-17T21:23:58.832Z"
   },
   {
    "duration": 21,
    "start_time": "2023-01-17T21:23:58.962Z"
   },
   {
    "duration": 127,
    "start_time": "2023-01-17T21:23:58.985Z"
   },
   {
    "duration": 137,
    "start_time": "2023-01-17T21:23:59.114Z"
   },
   {
    "duration": 13,
    "start_time": "2023-01-17T21:23:59.252Z"
   },
   {
    "duration": 49,
    "start_time": "2023-01-17T21:23:59.266Z"
   },
   {
    "duration": 43,
    "start_time": "2023-01-17T21:23:59.316Z"
   },
   {
    "duration": 5,
    "start_time": "2023-01-17T21:23:59.361Z"
   },
   {
    "duration": 25,
    "start_time": "2023-01-17T21:23:59.367Z"
   },
   {
    "duration": 30,
    "start_time": "2023-01-17T21:23:59.393Z"
   },
   {
    "duration": 72,
    "start_time": "2023-01-17T21:23:59.424Z"
   },
   {
    "duration": 3,
    "start_time": "2023-01-17T21:23:59.498Z"
   },
   {
    "duration": 55,
    "start_time": "2023-01-17T21:23:59.502Z"
   },
   {
    "duration": 781,
    "start_time": "2023-01-17T21:24:03.064Z"
   },
   {
    "duration": 242,
    "start_time": "2023-01-17T21:24:05.963Z"
   },
   {
    "duration": 226,
    "start_time": "2023-01-17T21:24:18.185Z"
   },
   {
    "duration": 86,
    "start_time": "2023-01-17T21:24:33.499Z"
   },
   {
    "duration": 116,
    "start_time": "2023-01-17T21:24:49.250Z"
   },
   {
    "duration": 74,
    "start_time": "2023-01-17T21:25:06.655Z"
   },
   {
    "duration": 19,
    "start_time": "2023-01-17T21:25:22.895Z"
   },
   {
    "duration": 60,
    "start_time": "2023-01-17T21:25:56.376Z"
   },
   {
    "duration": 3631,
    "start_time": "2023-01-17T21:25:57.605Z"
   },
   {
    "duration": 27,
    "start_time": "2023-01-17T21:26:01.238Z"
   },
   {
    "duration": 1257,
    "start_time": "2023-01-17T21:26:01.266Z"
   },
   {
    "duration": 10,
    "start_time": "2023-01-17T21:27:14.147Z"
   },
   {
    "duration": 2,
    "start_time": "2023-01-17T21:27:15.994Z"
   },
   {
    "duration": 3,
    "start_time": "2023-01-17T21:27:16.643Z"
   },
   {
    "duration": 10,
    "start_time": "2023-01-17T21:27:32.377Z"
   },
   {
    "duration": 49,
    "start_time": "2023-01-17T21:28:11.986Z"
   },
   {
    "duration": 91,
    "start_time": "2023-01-17T21:28:46.857Z"
   },
   {
    "duration": 15,
    "start_time": "2023-01-17T21:37:04.380Z"
   },
   {
    "duration": 2100,
    "start_time": "2023-01-17T21:37:15.574Z"
   },
   {
    "duration": 6,
    "start_time": "2023-01-17T21:37:17.678Z"
   },
   {
    "duration": 749,
    "start_time": "2023-01-17T21:37:17.687Z"
   },
   {
    "duration": 15,
    "start_time": "2023-01-17T21:37:18.438Z"
   },
   {
    "duration": 131,
    "start_time": "2023-01-17T21:37:18.454Z"
   },
   {
    "duration": 813,
    "start_time": "2023-01-17T21:37:18.587Z"
   },
   {
    "duration": 310,
    "start_time": "2023-01-17T21:37:19.402Z"
   },
   {
    "duration": 40,
    "start_time": "2023-01-17T21:37:19.714Z"
   },
   {
    "duration": 56,
    "start_time": "2023-01-17T21:37:19.756Z"
   },
   {
    "duration": 140,
    "start_time": "2023-01-17T21:37:19.816Z"
   },
   {
    "duration": 42,
    "start_time": "2023-01-17T21:37:19.958Z"
   },
   {
    "duration": 112,
    "start_time": "2023-01-17T21:37:20.002Z"
   },
   {
    "duration": 35,
    "start_time": "2023-01-17T21:37:20.116Z"
   },
   {
    "duration": 22,
    "start_time": "2023-01-17T21:37:20.153Z"
   },
   {
    "duration": 33,
    "start_time": "2023-01-17T21:37:20.176Z"
   },
   {
    "duration": 59,
    "start_time": "2023-01-17T21:37:20.210Z"
   },
   {
    "duration": 19,
    "start_time": "2023-01-17T21:37:20.271Z"
   },
   {
    "duration": 31,
    "start_time": "2023-01-17T21:37:20.291Z"
   },
   {
    "duration": 59,
    "start_time": "2023-01-17T21:37:20.323Z"
   },
   {
    "duration": 19,
    "start_time": "2023-01-17T21:37:20.384Z"
   },
   {
    "duration": 47,
    "start_time": "2023-01-17T21:37:20.405Z"
   },
   {
    "duration": 41,
    "start_time": "2023-01-17T21:37:20.453Z"
   },
   {
    "duration": 20,
    "start_time": "2023-01-17T21:37:20.496Z"
   },
   {
    "duration": 55,
    "start_time": "2023-01-17T21:37:20.518Z"
   },
   {
    "duration": 61,
    "start_time": "2023-01-17T21:37:20.575Z"
   },
   {
    "duration": 25,
    "start_time": "2023-01-17T21:37:20.638Z"
   },
   {
    "duration": 33,
    "start_time": "2023-01-17T21:37:20.665Z"
   },
   {
    "duration": 141,
    "start_time": "2023-01-17T21:37:20.704Z"
   },
   {
    "duration": 15,
    "start_time": "2023-01-17T21:37:20.848Z"
   },
   {
    "duration": 125,
    "start_time": "2023-01-17T21:37:20.864Z"
   },
   {
    "duration": 81,
    "start_time": "2023-01-17T21:37:20.990Z"
   },
   {
    "duration": 64,
    "start_time": "2023-01-17T21:37:21.073Z"
   },
   {
    "duration": 41,
    "start_time": "2023-01-17T21:37:21.148Z"
   },
   {
    "duration": 17,
    "start_time": "2023-01-17T21:37:21.190Z"
   },
   {
    "duration": 157,
    "start_time": "2023-01-17T21:37:21.209Z"
   },
   {
    "duration": 30,
    "start_time": "2023-01-17T21:37:21.368Z"
   },
   {
    "duration": 54,
    "start_time": "2023-01-17T21:37:21.399Z"
   },
   {
    "duration": 14,
    "start_time": "2023-01-17T21:37:21.455Z"
   },
   {
    "duration": 12,
    "start_time": "2023-01-17T21:37:21.470Z"
   },
   {
    "duration": 185,
    "start_time": "2023-01-17T21:37:21.483Z"
   },
   {
    "duration": 6,
    "start_time": "2023-01-17T21:37:21.670Z"
   },
   {
    "duration": 117,
    "start_time": "2023-01-17T21:37:21.678Z"
   },
   {
    "duration": 21,
    "start_time": "2023-01-17T21:37:21.797Z"
   },
   {
    "duration": 145,
    "start_time": "2023-01-17T21:37:21.820Z"
   },
   {
    "duration": 133,
    "start_time": "2023-01-17T21:37:21.967Z"
   },
   {
    "duration": 14,
    "start_time": "2023-01-17T21:37:22.101Z"
   },
   {
    "duration": 59,
    "start_time": "2023-01-17T21:37:22.117Z"
   },
   {
    "duration": 21,
    "start_time": "2023-01-17T21:37:22.177Z"
   },
   {
    "duration": 3,
    "start_time": "2023-01-17T21:37:22.200Z"
   },
   {
    "duration": 6,
    "start_time": "2023-01-17T21:37:22.205Z"
   },
   {
    "duration": 5,
    "start_time": "2023-01-17T21:37:22.213Z"
   },
   {
    "duration": 67,
    "start_time": "2023-01-17T21:37:22.220Z"
   },
   {
    "duration": 4,
    "start_time": "2023-01-17T21:37:22.288Z"
   },
   {
    "duration": 55,
    "start_time": "2023-01-17T21:37:22.293Z"
   },
   {
    "duration": 760,
    "start_time": "2023-01-17T21:37:22.349Z"
   },
   {
    "duration": 218,
    "start_time": "2023-01-17T21:37:23.111Z"
   },
   {
    "duration": 75,
    "start_time": "2023-01-17T21:37:23.330Z"
   },
   {
    "duration": 74,
    "start_time": "2023-01-17T21:37:23.407Z"
   },
   {
    "duration": 66,
    "start_time": "2023-01-17T21:37:23.483Z"
   },
   {
    "duration": 3677,
    "start_time": "2023-01-17T21:37:23.550Z"
   },
   {
    "duration": 25,
    "start_time": "2023-01-17T21:37:27.229Z"
   },
   {
    "duration": 1176,
    "start_time": "2023-01-17T21:37:27.256Z"
   },
   {
    "duration": 16,
    "start_time": "2023-01-17T21:37:28.433Z"
   },
   {
    "duration": 6,
    "start_time": "2023-01-17T21:37:28.451Z"
   },
   {
    "duration": 6,
    "start_time": "2023-01-17T21:37:28.458Z"
   },
   {
    "duration": 13,
    "start_time": "2023-01-17T21:37:28.465Z"
   },
   {
    "duration": 84,
    "start_time": "2023-01-17T21:37:28.479Z"
   },
   {
    "duration": 49,
    "start_time": "2023-01-17T21:37:28.565Z"
   },
   {
    "duration": 103,
    "start_time": "2023-01-17T21:37:28.616Z"
   },
   {
    "duration": 3,
    "start_time": "2023-01-17T21:37:28.721Z"
   },
   {
    "duration": 6,
    "start_time": "2023-01-17T21:37:28.726Z"
   },
   {
    "duration": 18,
    "start_time": "2023-01-17T21:37:28.734Z"
   },
   {
    "duration": 15,
    "start_time": "2023-01-17T21:37:28.754Z"
   },
   {
    "duration": 373912,
    "start_time": "2023-01-17T21:37:28.771Z"
   },
   {
    "duration": 0,
    "start_time": "2023-01-17T21:43:42.685Z"
   },
   {
    "duration": 0,
    "start_time": "2023-01-17T21:43:42.749Z"
   },
   {
    "duration": 0,
    "start_time": "2023-01-17T21:43:42.750Z"
   },
   {
    "duration": 0,
    "start_time": "2023-01-17T21:43:42.751Z"
   },
   {
    "duration": 0,
    "start_time": "2023-01-17T21:43:42.752Z"
   },
   {
    "duration": 0,
    "start_time": "2023-01-17T21:43:42.752Z"
   },
   {
    "duration": 0,
    "start_time": "2023-01-17T21:43:42.753Z"
   },
   {
    "duration": 0,
    "start_time": "2023-01-17T21:43:42.754Z"
   },
   {
    "duration": 197685,
    "start_time": "2023-01-17T21:44:10.184Z"
   },
   {
    "duration": 1130234,
    "start_time": "2023-01-17T21:47:57.034Z"
   },
   {
    "duration": 0,
    "start_time": "2023-01-17T22:06:47.271Z"
   },
   {
    "duration": 0,
    "start_time": "2023-01-17T22:06:47.272Z"
   },
   {
    "duration": 2118,
    "start_time": "2023-01-17T22:07:16.302Z"
   },
   {
    "duration": 1424,
    "start_time": "2023-01-17T22:07:18.422Z"
   },
   {
    "duration": 802,
    "start_time": "2023-01-17T22:07:19.848Z"
   },
   {
    "duration": 18,
    "start_time": "2023-01-17T22:07:20.652Z"
   },
   {
    "duration": 146,
    "start_time": "2023-01-17T22:07:20.671Z"
   },
   {
    "duration": 982,
    "start_time": "2023-01-17T22:07:20.819Z"
   },
   {
    "duration": 255,
    "start_time": "2023-01-17T22:07:21.802Z"
   },
   {
    "duration": 35,
    "start_time": "2023-01-17T22:07:22.058Z"
   },
   {
    "duration": 69,
    "start_time": "2023-01-17T22:07:22.095Z"
   },
   {
    "duration": 120,
    "start_time": "2023-01-17T22:07:22.167Z"
   },
   {
    "duration": 43,
    "start_time": "2023-01-17T22:07:22.289Z"
   },
   {
    "duration": 123,
    "start_time": "2023-01-17T22:07:22.347Z"
   },
   {
    "duration": 32,
    "start_time": "2023-01-17T22:07:22.471Z"
   },
   {
    "duration": 22,
    "start_time": "2023-01-17T22:07:22.505Z"
   },
   {
    "duration": 46,
    "start_time": "2023-01-17T22:07:22.529Z"
   },
   {
    "duration": 72,
    "start_time": "2023-01-17T22:07:22.577Z"
   },
   {
    "duration": 19,
    "start_time": "2023-01-17T22:07:22.651Z"
   },
   {
    "duration": 30,
    "start_time": "2023-01-17T22:07:22.672Z"
   },
   {
    "duration": 57,
    "start_time": "2023-01-17T22:07:22.703Z"
   },
   {
    "duration": 18,
    "start_time": "2023-01-17T22:07:22.762Z"
   },
   {
    "duration": 42,
    "start_time": "2023-01-17T22:07:22.782Z"
   },
   {
    "duration": 61,
    "start_time": "2023-01-17T22:07:22.825Z"
   },
   {
    "duration": 19,
    "start_time": "2023-01-17T22:07:22.888Z"
   },
   {
    "duration": 45,
    "start_time": "2023-01-17T22:07:22.909Z"
   },
   {
    "duration": 56,
    "start_time": "2023-01-17T22:07:22.956Z"
   },
   {
    "duration": 20,
    "start_time": "2023-01-17T22:07:23.014Z"
   },
   {
    "duration": 37,
    "start_time": "2023-01-17T22:07:23.036Z"
   },
   {
    "duration": 130,
    "start_time": "2023-01-17T22:07:23.078Z"
   },
   {
    "duration": 16,
    "start_time": "2023-01-17T22:07:23.210Z"
   },
   {
    "duration": 141,
    "start_time": "2023-01-17T22:07:23.227Z"
   },
   {
    "duration": 79,
    "start_time": "2023-01-17T22:07:23.370Z"
   },
   {
    "duration": 73,
    "start_time": "2023-01-17T22:07:23.451Z"
   },
   {
    "duration": 58,
    "start_time": "2023-01-17T22:07:23.526Z"
   },
   {
    "duration": 16,
    "start_time": "2023-01-17T22:07:23.586Z"
   },
   {
    "duration": 161,
    "start_time": "2023-01-17T22:07:23.604Z"
   },
   {
    "duration": 29,
    "start_time": "2023-01-17T22:07:23.767Z"
   },
   {
    "duration": 74,
    "start_time": "2023-01-17T22:07:23.798Z"
   },
   {
    "duration": 15,
    "start_time": "2023-01-17T22:07:23.874Z"
   },
   {
    "duration": 14,
    "start_time": "2023-01-17T22:07:23.890Z"
   },
   {
    "duration": 262,
    "start_time": "2023-01-17T22:07:23.905Z"
   },
   {
    "duration": 8,
    "start_time": "2023-01-17T22:07:24.168Z"
   },
   {
    "duration": 120,
    "start_time": "2023-01-17T22:07:24.179Z"
   },
   {
    "duration": 23,
    "start_time": "2023-01-17T22:07:24.301Z"
   },
   {
    "duration": 133,
    "start_time": "2023-01-17T22:07:24.326Z"
   },
   {
    "duration": 135,
    "start_time": "2023-01-17T22:07:24.460Z"
   },
   {
    "duration": 12,
    "start_time": "2023-01-17T22:07:24.597Z"
   },
   {
    "duration": 57,
    "start_time": "2023-01-17T22:07:24.611Z"
   },
   {
    "duration": 21,
    "start_time": "2023-01-17T22:07:24.670Z"
   },
   {
    "duration": 3,
    "start_time": "2023-01-17T22:07:24.694Z"
   },
   {
    "duration": 7,
    "start_time": "2023-01-17T22:07:24.698Z"
   },
   {
    "duration": 7,
    "start_time": "2023-01-17T22:07:24.706Z"
   },
   {
    "duration": 73,
    "start_time": "2023-01-17T22:07:24.714Z"
   },
   {
    "duration": 3,
    "start_time": "2023-01-17T22:07:24.789Z"
   },
   {
    "duration": 58,
    "start_time": "2023-01-17T22:07:24.793Z"
   },
   {
    "duration": 810,
    "start_time": "2023-01-17T22:07:24.852Z"
   },
   {
    "duration": 256,
    "start_time": "2023-01-17T22:07:25.664Z"
   },
   {
    "duration": 79,
    "start_time": "2023-01-17T22:07:25.921Z"
   },
   {
    "duration": 87,
    "start_time": "2023-01-17T22:07:26.002Z"
   },
   {
    "duration": 63,
    "start_time": "2023-01-17T22:07:26.091Z"
   },
   {
    "duration": 3633,
    "start_time": "2023-01-17T22:07:26.155Z"
   },
   {
    "duration": 20,
    "start_time": "2023-01-17T22:07:29.791Z"
   },
   {
    "duration": 1310,
    "start_time": "2023-01-17T22:07:29.813Z"
   },
   {
    "duration": 10,
    "start_time": "2023-01-17T22:07:31.125Z"
   },
   {
    "duration": 11,
    "start_time": "2023-01-17T22:07:31.136Z"
   },
   {
    "duration": 7,
    "start_time": "2023-01-17T22:07:31.149Z"
   },
   {
    "duration": 17,
    "start_time": "2023-01-17T22:07:31.158Z"
   },
   {
    "duration": 91,
    "start_time": "2023-01-17T22:07:31.177Z"
   },
   {
    "duration": 51,
    "start_time": "2023-01-17T22:07:31.270Z"
   },
   {
    "duration": 111,
    "start_time": "2023-01-17T22:07:31.323Z"
   },
   {
    "duration": 2,
    "start_time": "2023-01-17T22:07:31.436Z"
   },
   {
    "duration": 9,
    "start_time": "2023-01-17T22:07:31.440Z"
   },
   {
    "duration": 12,
    "start_time": "2023-01-17T22:07:31.451Z"
   },
   {
    "duration": 126,
    "start_time": "2023-01-17T22:09:37.865Z"
   },
   {
    "duration": 11,
    "start_time": "2023-01-17T22:10:05.423Z"
   },
   {
    "duration": 13,
    "start_time": "2023-01-17T22:10:12.232Z"
   },
   {
    "duration": 217487,
    "start_time": "2023-01-17T22:10:16.792Z"
   },
   {
    "duration": 3,
    "start_time": "2023-01-17T22:13:59.078Z"
   },
   {
    "duration": 15,
    "start_time": "2023-01-17T22:14:08.068Z"
   },
   {
    "duration": 18,
    "start_time": "2023-01-17T22:14:27.236Z"
   },
   {
    "duration": 586801,
    "start_time": "2023-01-17T22:17:21.067Z"
   },
   {
    "duration": 9,
    "start_time": "2023-01-17T22:27:23.477Z"
   },
   {
    "duration": 11,
    "start_time": "2023-01-17T22:27:34.829Z"
   },
   {
    "duration": 2140,
    "start_time": "2023-01-17T22:29:42.322Z"
   },
   {
    "duration": 1417,
    "start_time": "2023-01-17T22:29:44.464Z"
   },
   {
    "duration": 821,
    "start_time": "2023-01-17T22:29:45.883Z"
   },
   {
    "duration": 17,
    "start_time": "2023-01-17T22:29:46.706Z"
   },
   {
    "duration": 154,
    "start_time": "2023-01-17T22:29:46.724Z"
   },
   {
    "duration": 991,
    "start_time": "2023-01-17T22:29:46.880Z"
   },
   {
    "duration": 263,
    "start_time": "2023-01-17T22:29:47.873Z"
   },
   {
    "duration": 33,
    "start_time": "2023-01-17T22:29:48.138Z"
   },
   {
    "duration": 76,
    "start_time": "2023-01-17T22:29:48.172Z"
   },
   {
    "duration": 119,
    "start_time": "2023-01-17T22:29:48.250Z"
   },
   {
    "duration": 41,
    "start_time": "2023-01-17T22:29:48.371Z"
   },
   {
    "duration": 139,
    "start_time": "2023-01-17T22:29:48.413Z"
   },
   {
    "duration": 42,
    "start_time": "2023-01-17T22:29:48.553Z"
   },
   {
    "duration": 19,
    "start_time": "2023-01-17T22:29:48.597Z"
   },
   {
    "duration": 54,
    "start_time": "2023-01-17T22:29:48.618Z"
   },
   {
    "duration": 44,
    "start_time": "2023-01-17T22:29:48.674Z"
   },
   {
    "duration": 34,
    "start_time": "2023-01-17T22:29:48.719Z"
   },
   {
    "duration": 31,
    "start_time": "2023-01-17T22:29:48.755Z"
   },
   {
    "duration": 62,
    "start_time": "2023-01-17T22:29:48.788Z"
   },
   {
    "duration": 26,
    "start_time": "2023-01-17T22:29:48.852Z"
   },
   {
    "duration": 36,
    "start_time": "2023-01-17T22:29:48.880Z"
   },
   {
    "duration": 67,
    "start_time": "2023-01-17T22:29:48.918Z"
   },
   {
    "duration": 31,
    "start_time": "2023-01-17T22:29:48.987Z"
   },
   {
    "duration": 48,
    "start_time": "2023-01-17T22:29:49.021Z"
   },
   {
    "duration": 55,
    "start_time": "2023-01-17T22:29:49.071Z"
   },
   {
    "duration": 34,
    "start_time": "2023-01-17T22:29:49.128Z"
   },
   {
    "duration": 46,
    "start_time": "2023-01-17T22:29:49.164Z"
   },
   {
    "duration": 134,
    "start_time": "2023-01-17T22:29:49.214Z"
   },
   {
    "duration": 16,
    "start_time": "2023-01-17T22:29:49.350Z"
   },
   {
    "duration": 133,
    "start_time": "2023-01-17T22:29:49.368Z"
   },
   {
    "duration": 97,
    "start_time": "2023-01-17T22:29:49.504Z"
   },
   {
    "duration": 83,
    "start_time": "2023-01-17T22:29:49.602Z"
   },
   {
    "duration": 47,
    "start_time": "2023-01-17T22:29:49.687Z"
   },
   {
    "duration": 23,
    "start_time": "2023-01-17T22:29:49.736Z"
   },
   {
    "duration": 147,
    "start_time": "2023-01-17T22:29:49.761Z"
   },
   {
    "duration": 42,
    "start_time": "2023-01-17T22:29:49.910Z"
   },
   {
    "duration": 39,
    "start_time": "2023-01-17T22:29:49.954Z"
   },
   {
    "duration": 18,
    "start_time": "2023-01-17T22:29:49.995Z"
   },
   {
    "duration": 34,
    "start_time": "2023-01-17T22:29:50.015Z"
   },
   {
    "duration": 252,
    "start_time": "2023-01-17T22:29:50.051Z"
   },
   {
    "duration": 6,
    "start_time": "2023-01-17T22:29:50.305Z"
   },
   {
    "duration": 114,
    "start_time": "2023-01-17T22:29:50.313Z"
   },
   {
    "duration": 28,
    "start_time": "2023-01-17T22:29:50.428Z"
   },
   {
    "duration": 136,
    "start_time": "2023-01-17T22:29:50.458Z"
   },
   {
    "duration": 139,
    "start_time": "2023-01-17T22:29:50.596Z"
   },
   {
    "duration": 14,
    "start_time": "2023-01-17T22:29:50.736Z"
   },
   {
    "duration": 51,
    "start_time": "2023-01-17T22:29:50.751Z"
   },
   {
    "duration": 20,
    "start_time": "2023-01-17T22:29:50.804Z"
   },
   {
    "duration": 5,
    "start_time": "2023-01-17T22:29:50.825Z"
   },
   {
    "duration": 2,
    "start_time": "2023-01-17T22:29:50.849Z"
   },
   {
    "duration": 19,
    "start_time": "2023-01-17T22:29:50.852Z"
   },
   {
    "duration": 4,
    "start_time": "2023-01-17T22:29:58.721Z"
   },
   {
    "duration": 41,
    "start_time": "2023-01-17T22:29:59.396Z"
   },
   {
    "duration": 292,
    "start_time": "2023-01-17T22:30:03.469Z"
   },
   {
    "duration": 92,
    "start_time": "2023-01-17T22:30:04.254Z"
   },
   {
    "duration": 92,
    "start_time": "2023-01-17T22:30:04.590Z"
   },
   {
    "duration": 74,
    "start_time": "2023-01-17T22:30:05.654Z"
   },
   {
    "duration": 3801,
    "start_time": "2023-01-17T22:30:14.060Z"
   },
   {
    "duration": 17,
    "start_time": "2023-01-17T22:30:17.863Z"
   },
   {
    "duration": 1257,
    "start_time": "2023-01-17T22:30:17.882Z"
   },
   {
    "duration": 14,
    "start_time": "2023-01-17T22:30:38.116Z"
   },
   {
    "duration": 3,
    "start_time": "2023-01-17T22:30:41.341Z"
   },
   {
    "duration": 3,
    "start_time": "2023-01-17T22:30:55.246Z"
   },
   {
    "duration": 3,
    "start_time": "2023-01-17T22:30:56.157Z"
   },
   {
    "duration": 108,
    "start_time": "2023-01-17T22:30:56.678Z"
   },
   {
    "duration": 15,
    "start_time": "2023-01-17T22:31:36.243Z"
   },
   {
    "duration": 11,
    "start_time": "2023-01-17T22:31:44.704Z"
   },
   {
    "duration": 82,
    "start_time": "2023-01-17T22:31:45.777Z"
   },
   {
    "duration": 2,
    "start_time": "2023-01-17T22:32:02.425Z"
   },
   {
    "duration": 3,
    "start_time": "2023-01-17T22:32:04.619Z"
   },
   {
    "duration": 7,
    "start_time": "2023-01-17T22:32:07.263Z"
   },
   {
    "duration": 13,
    "start_time": "2023-01-17T22:32:10.576Z"
   },
   {
    "duration": 8,
    "start_time": "2023-01-17T22:32:14.880Z"
   },
   {
    "duration": 17,
    "start_time": "2023-01-17T22:32:18.376Z"
   },
   {
    "duration": 60,
    "start_time": "2023-01-17T22:32:23.751Z"
   },
   {
    "duration": 20,
    "start_time": "2023-01-17T22:32:24.582Z"
   },
   {
    "duration": 60467,
    "start_time": "2023-01-17T22:32:49.310Z"
   },
   {
    "duration": 25,
    "start_time": "2023-01-17T22:36:10.533Z"
   },
   {
    "duration": 129,
    "start_time": "2023-01-17T22:37:17.840Z"
   },
   {
    "duration": 2119,
    "start_time": "2023-01-17T22:37:39.559Z"
   },
   {
    "duration": 5,
    "start_time": "2023-01-17T22:37:41.680Z"
   },
   {
    "duration": 755,
    "start_time": "2023-01-17T22:37:41.687Z"
   },
   {
    "duration": 16,
    "start_time": "2023-01-17T22:37:42.444Z"
   },
   {
    "duration": 141,
    "start_time": "2023-01-17T22:37:42.462Z"
   },
   {
    "duration": 813,
    "start_time": "2023-01-17T22:37:42.605Z"
   },
   {
    "duration": 254,
    "start_time": "2023-01-17T22:37:43.419Z"
   },
   {
    "duration": 29,
    "start_time": "2023-01-17T22:37:43.675Z"
   },
   {
    "duration": 74,
    "start_time": "2023-01-17T22:37:43.705Z"
   },
   {
    "duration": 133,
    "start_time": "2023-01-17T22:37:43.782Z"
   },
   {
    "duration": 54,
    "start_time": "2023-01-17T22:37:43.917Z"
   },
   {
    "duration": 95,
    "start_time": "2023-01-17T22:37:43.972Z"
   },
   {
    "duration": 29,
    "start_time": "2023-01-17T22:37:44.069Z"
   },
   {
    "duration": 22,
    "start_time": "2023-01-17T22:37:44.099Z"
   },
   {
    "duration": 56,
    "start_time": "2023-01-17T22:37:44.123Z"
   },
   {
    "duration": 46,
    "start_time": "2023-01-17T22:37:44.181Z"
   },
   {
    "duration": 41,
    "start_time": "2023-01-17T22:37:44.229Z"
   },
   {
    "duration": 40,
    "start_time": "2023-01-17T22:37:44.273Z"
   },
   {
    "duration": 55,
    "start_time": "2023-01-17T22:37:44.315Z"
   },
   {
    "duration": 17,
    "start_time": "2023-01-17T22:37:44.372Z"
   },
   {
    "duration": 31,
    "start_time": "2023-01-17T22:37:44.390Z"
   },
   {
    "duration": 62,
    "start_time": "2023-01-17T22:37:44.423Z"
   },
   {
    "duration": 18,
    "start_time": "2023-01-17T22:37:44.487Z"
   },
   {
    "duration": 32,
    "start_time": "2023-01-17T22:37:44.507Z"
   },
   {
    "duration": 48,
    "start_time": "2023-01-17T22:37:44.550Z"
   },
   {
    "duration": 31,
    "start_time": "2023-01-17T22:37:44.599Z"
   },
   {
    "duration": 43,
    "start_time": "2023-01-17T22:37:44.631Z"
   },
   {
    "duration": 124,
    "start_time": "2023-01-17T22:37:44.678Z"
   },
   {
    "duration": 14,
    "start_time": "2023-01-17T22:37:44.804Z"
   },
   {
    "duration": 133,
    "start_time": "2023-01-17T22:37:44.819Z"
   },
   {
    "duration": 76,
    "start_time": "2023-01-17T22:37:44.960Z"
   },
   {
    "duration": 68,
    "start_time": "2023-01-17T22:37:45.037Z"
   },
   {
    "duration": 52,
    "start_time": "2023-01-17T22:37:45.106Z"
   },
   {
    "duration": 15,
    "start_time": "2023-01-17T22:37:45.160Z"
   },
   {
    "duration": 127,
    "start_time": "2023-01-17T22:37:45.177Z"
   },
   {
    "duration": 28,
    "start_time": "2023-01-17T22:37:45.306Z"
   },
   {
    "duration": 58,
    "start_time": "2023-01-17T22:37:45.336Z"
   },
   {
    "duration": 18,
    "start_time": "2023-01-17T22:37:45.396Z"
   },
   {
    "duration": 14,
    "start_time": "2023-01-17T22:37:45.416Z"
   },
   {
    "duration": 194,
    "start_time": "2023-01-17T22:37:45.432Z"
   },
   {
    "duration": 7,
    "start_time": "2023-01-17T22:37:45.627Z"
   },
   {
    "duration": 127,
    "start_time": "2023-01-17T22:37:45.635Z"
   },
   {
    "duration": 25,
    "start_time": "2023-01-17T22:37:45.764Z"
   },
   {
    "duration": 139,
    "start_time": "2023-01-17T22:37:45.791Z"
   },
   {
    "duration": 137,
    "start_time": "2023-01-17T22:37:45.932Z"
   },
   {
    "duration": 12,
    "start_time": "2023-01-17T22:37:46.070Z"
   },
   {
    "duration": 133,
    "start_time": "2023-01-17T22:37:46.083Z"
   },
   {
    "duration": 39,
    "start_time": "2023-01-17T22:37:46.218Z"
   },
   {
    "duration": 15,
    "start_time": "2023-01-17T22:37:46.259Z"
   },
   {
    "duration": 3,
    "start_time": "2023-01-17T22:37:46.275Z"
   },
   {
    "duration": 5,
    "start_time": "2023-01-17T22:37:46.280Z"
   },
   {
    "duration": 7,
    "start_time": "2023-01-17T22:37:46.286Z"
   },
   {
    "duration": 8,
    "start_time": "2023-01-17T22:37:46.294Z"
   },
   {
    "duration": 36,
    "start_time": "2023-01-17T22:37:46.303Z"
   },
   {
    "duration": 207,
    "start_time": "2023-01-17T22:37:46.340Z"
   },
   {
    "duration": 72,
    "start_time": "2023-01-17T22:37:46.554Z"
   },
   {
    "duration": 78,
    "start_time": "2023-01-17T22:37:46.628Z"
   },
   {
    "duration": 4773,
    "start_time": "2023-01-17T22:37:46.708Z"
   },
   {
    "duration": 17,
    "start_time": "2023-01-17T22:37:51.482Z"
   },
   {
    "duration": 1144,
    "start_time": "2023-01-17T22:37:51.500Z"
   },
   {
    "duration": 7,
    "start_time": "2023-01-17T22:37:52.648Z"
   },
   {
    "duration": 7,
    "start_time": "2023-01-17T22:37:52.662Z"
   },
   {
    "duration": 5,
    "start_time": "2023-01-17T22:37:52.670Z"
   },
   {
    "duration": 13,
    "start_time": "2023-01-17T22:37:52.676Z"
   },
   {
    "duration": 88,
    "start_time": "2023-01-17T22:37:52.690Z"
   },
   {
    "duration": 3,
    "start_time": "2023-01-17T22:37:52.779Z"
   },
   {
    "duration": 6,
    "start_time": "2023-01-17T22:37:52.783Z"
   },
   {
    "duration": 10,
    "start_time": "2023-01-17T22:37:52.791Z"
   },
   {
    "duration": 16,
    "start_time": "2023-01-17T22:37:52.803Z"
   },
   {
    "duration": 117,
    "start_time": "2023-01-17T22:37:52.820Z"
   },
   {
    "duration": 900034,
    "start_time": "2023-01-17T22:37:59.230Z"
   },
   {
    "duration": 12,
    "start_time": "2023-01-17T22:53:05.290Z"
   },
   {
    "duration": 2,
    "start_time": "2023-01-17T22:53:33.306Z"
   },
   {
    "duration": 9,
    "start_time": "2023-01-17T22:53:33.827Z"
   },
   {
    "duration": 15,
    "start_time": "2023-01-17T22:53:34.614Z"
   },
   {
    "duration": 11754,
    "start_time": "2023-01-17T22:54:04.822Z"
   },
   {
    "duration": 3,
    "start_time": "2023-01-17T22:55:01.854Z"
   },
   {
    "duration": 9,
    "start_time": "2023-01-17T22:55:02.622Z"
   },
   {
    "duration": 11454,
    "start_time": "2023-01-17T22:55:06.394Z"
   },
   {
    "duration": 5,
    "start_time": "2023-01-17T22:55:50.470Z"
   },
   {
    "duration": 4512,
    "start_time": "2023-01-17T22:55:56.593Z"
   },
   {
    "duration": 11381,
    "start_time": "2023-01-17T22:56:05.475Z"
   },
   {
    "duration": 11535,
    "start_time": "2023-01-17T22:57:01.619Z"
   },
   {
    "duration": 2,
    "start_time": "2023-01-17T22:57:56.870Z"
   },
   {
    "duration": 2631,
    "start_time": "2023-01-17T22:58:02.353Z"
   },
   {
    "duration": 163389,
    "start_time": "2023-01-17T22:58:07.410Z"
   },
   {
    "duration": 3,
    "start_time": "2023-01-17T23:01:25.397Z"
   },
   {
    "duration": 3,
    "start_time": "2023-01-17T23:01:28.567Z"
   },
   {
    "duration": 8,
    "start_time": "2023-01-17T23:01:34.574Z"
   },
   {
    "duration": 315007,
    "start_time": "2023-01-17T23:02:44.241Z"
   },
   {
    "duration": 3005,
    "start_time": "2023-01-18T04:21:31.119Z"
   },
   {
    "duration": 1817,
    "start_time": "2023-01-18T04:21:34.127Z"
   },
   {
    "duration": 3144,
    "start_time": "2023-01-18T04:21:35.947Z"
   },
   {
    "duration": 29,
    "start_time": "2023-01-18T04:21:39.093Z"
   },
   {
    "duration": 115,
    "start_time": "2023-01-18T04:21:39.124Z"
   },
   {
    "duration": 996,
    "start_time": "2023-01-18T04:21:39.241Z"
   },
   {
    "duration": 260,
    "start_time": "2023-01-18T04:21:40.239Z"
   },
   {
    "duration": 44,
    "start_time": "2023-01-18T04:21:40.500Z"
   },
   {
    "duration": 62,
    "start_time": "2023-01-18T04:21:40.546Z"
   },
   {
    "duration": 115,
    "start_time": "2023-01-18T04:21:40.611Z"
   },
   {
    "duration": 47,
    "start_time": "2023-01-18T04:21:40.727Z"
   },
   {
    "duration": 127,
    "start_time": "2023-01-18T04:21:40.776Z"
   },
   {
    "duration": 35,
    "start_time": "2023-01-18T04:21:40.905Z"
   },
   {
    "duration": 18,
    "start_time": "2023-01-18T04:21:40.942Z"
   },
   {
    "duration": 29,
    "start_time": "2023-01-18T04:21:40.961Z"
   },
   {
    "duration": 68,
    "start_time": "2023-01-18T04:21:40.992Z"
   },
   {
    "duration": 18,
    "start_time": "2023-01-18T04:21:41.062Z"
   },
   {
    "duration": 28,
    "start_time": "2023-01-18T04:21:41.082Z"
   },
   {
    "duration": 62,
    "start_time": "2023-01-18T04:21:41.112Z"
   },
   {
    "duration": 18,
    "start_time": "2023-01-18T04:21:41.176Z"
   },
   {
    "duration": 69,
    "start_time": "2023-01-18T04:21:41.197Z"
   },
   {
    "duration": 54,
    "start_time": "2023-01-18T04:21:41.268Z"
   },
   {
    "duration": 33,
    "start_time": "2023-01-18T04:21:41.323Z"
   },
   {
    "duration": 32,
    "start_time": "2023-01-18T04:21:41.359Z"
   },
   {
    "duration": 72,
    "start_time": "2023-01-18T04:21:41.393Z"
   },
   {
    "duration": 19,
    "start_time": "2023-01-18T04:21:41.467Z"
   },
   {
    "duration": 54,
    "start_time": "2023-01-18T04:21:41.488Z"
   },
   {
    "duration": 122,
    "start_time": "2023-01-18T04:21:41.546Z"
   },
   {
    "duration": 22,
    "start_time": "2023-01-18T04:21:41.669Z"
   },
   {
    "duration": 158,
    "start_time": "2023-01-18T04:21:41.693Z"
   },
   {
    "duration": 86,
    "start_time": "2023-01-18T04:21:41.853Z"
   },
   {
    "duration": 78,
    "start_time": "2023-01-18T04:21:41.941Z"
   },
   {
    "duration": 59,
    "start_time": "2023-01-18T04:21:42.021Z"
   },
   {
    "duration": 21,
    "start_time": "2023-01-18T04:21:42.082Z"
   },
   {
    "duration": 158,
    "start_time": "2023-01-18T04:21:42.105Z"
   },
   {
    "duration": 31,
    "start_time": "2023-01-18T04:21:42.265Z"
   },
   {
    "duration": 63,
    "start_time": "2023-01-18T04:21:42.298Z"
   },
   {
    "duration": 19,
    "start_time": "2023-01-18T04:21:42.363Z"
   },
   {
    "duration": 15,
    "start_time": "2023-01-18T04:21:42.383Z"
   },
   {
    "duration": 291,
    "start_time": "2023-01-18T04:21:42.400Z"
   },
   {
    "duration": 7,
    "start_time": "2023-01-18T04:21:42.693Z"
   },
   {
    "duration": 180,
    "start_time": "2023-01-18T04:21:42.702Z"
   },
   {
    "duration": 24,
    "start_time": "2023-01-18T04:21:42.883Z"
   },
   {
    "duration": 144,
    "start_time": "2023-01-18T04:21:42.909Z"
   },
   {
    "duration": 152,
    "start_time": "2023-01-18T04:21:43.055Z"
   },
   {
    "duration": 14,
    "start_time": "2023-01-18T04:21:43.209Z"
   },
   {
    "duration": 154,
    "start_time": "2023-01-18T04:21:43.225Z"
   },
   {
    "duration": 41,
    "start_time": "2023-01-18T04:21:43.381Z"
   },
   {
    "duration": 31,
    "start_time": "2023-01-18T04:21:43.424Z"
   },
   {
    "duration": 3,
    "start_time": "2023-01-18T04:21:43.458Z"
   },
   {
    "duration": 10,
    "start_time": "2023-01-18T04:21:43.463Z"
   },
   {
    "duration": 7,
    "start_time": "2023-01-18T04:21:43.475Z"
   },
   {
    "duration": 5,
    "start_time": "2023-01-18T04:21:43.484Z"
   },
   {
    "duration": 54,
    "start_time": "2023-01-18T04:21:43.491Z"
   },
   {
    "duration": 230,
    "start_time": "2023-01-18T04:21:43.547Z"
   },
   {
    "duration": 88,
    "start_time": "2023-01-18T04:21:43.779Z"
   },
   {
    "duration": 82,
    "start_time": "2023-01-18T04:21:43.868Z"
   },
   {
    "duration": 3930,
    "start_time": "2023-01-18T04:21:43.952Z"
   },
   {
    "duration": 19,
    "start_time": "2023-01-18T04:21:47.883Z"
   },
   {
    "duration": 1496,
    "start_time": "2023-01-18T04:21:47.904Z"
   },
   {
    "duration": 8,
    "start_time": "2023-01-18T04:21:49.402Z"
   },
   {
    "duration": 13,
    "start_time": "2023-01-18T04:21:49.412Z"
   },
   {
    "duration": 6,
    "start_time": "2023-01-18T04:21:49.427Z"
   },
   {
    "duration": 14,
    "start_time": "2023-01-18T04:21:49.434Z"
   },
   {
    "duration": 91,
    "start_time": "2023-01-18T04:21:49.450Z"
   },
   {
    "duration": 3,
    "start_time": "2023-01-18T04:21:49.543Z"
   },
   {
    "duration": 5,
    "start_time": "2023-01-18T04:21:49.547Z"
   },
   {
    "duration": 10,
    "start_time": "2023-01-18T04:21:49.554Z"
   },
   {
    "duration": 19,
    "start_time": "2023-01-18T04:21:49.566Z"
   },
   {
    "duration": 25,
    "start_time": "2023-01-18T04:21:49.587Z"
   },
   {
    "duration": 1195066,
    "start_time": "2023-01-18T04:21:49.613Z"
   },
   {
    "duration": 2841,
    "start_time": "2023-01-18T06:03:10.667Z"
   },
   {
    "duration": 1563,
    "start_time": "2023-01-18T06:03:13.510Z"
   },
   {
    "duration": 1031,
    "start_time": "2023-01-18T06:03:15.074Z"
   },
   {
    "duration": 17,
    "start_time": "2023-01-18T06:03:16.107Z"
   },
   {
    "duration": 110,
    "start_time": "2023-01-18T06:03:16.126Z"
   },
   {
    "duration": 927,
    "start_time": "2023-01-18T06:03:16.237Z"
   },
   {
    "duration": 246,
    "start_time": "2023-01-18T06:03:17.166Z"
   },
   {
    "duration": 29,
    "start_time": "2023-01-18T06:03:17.413Z"
   },
   {
    "duration": 61,
    "start_time": "2023-01-18T06:03:17.443Z"
   },
   {
    "duration": 92,
    "start_time": "2023-01-18T06:03:17.506Z"
   },
   {
    "duration": 38,
    "start_time": "2023-01-18T06:03:17.599Z"
   },
   {
    "duration": 117,
    "start_time": "2023-01-18T06:03:17.638Z"
   },
   {
    "duration": 28,
    "start_time": "2023-01-18T06:03:17.756Z"
   },
   {
    "duration": 18,
    "start_time": "2023-01-18T06:03:17.786Z"
   },
   {
    "duration": 25,
    "start_time": "2023-01-18T06:03:17.806Z"
   },
   {
    "duration": 174,
    "start_time": "2023-01-18T06:03:17.833Z"
   },
   {
    "duration": 16,
    "start_time": "2023-01-18T06:03:18.008Z"
   },
   {
    "duration": 26,
    "start_time": "2023-01-18T06:03:18.025Z"
   },
   {
    "duration": 50,
    "start_time": "2023-01-18T06:03:18.052Z"
   },
   {
    "duration": 15,
    "start_time": "2023-01-18T06:03:18.103Z"
   },
   {
    "duration": 28,
    "start_time": "2023-01-18T06:03:18.120Z"
   },
   {
    "duration": 53,
    "start_time": "2023-01-18T06:03:18.150Z"
   },
   {
    "duration": 17,
    "start_time": "2023-01-18T06:03:18.205Z"
   },
   {
    "duration": 32,
    "start_time": "2023-01-18T06:03:18.224Z"
   },
   {
    "duration": 57,
    "start_time": "2023-01-18T06:03:18.258Z"
   },
   {
    "duration": 21,
    "start_time": "2023-01-18T06:03:18.317Z"
   },
   {
    "duration": 41,
    "start_time": "2023-01-18T06:03:18.340Z"
   },
   {
    "duration": 101,
    "start_time": "2023-01-18T06:03:18.384Z"
   },
   {
    "duration": 17,
    "start_time": "2023-01-18T06:03:18.486Z"
   },
   {
    "duration": 138,
    "start_time": "2023-01-18T06:03:18.504Z"
   },
   {
    "duration": 76,
    "start_time": "2023-01-18T06:03:18.644Z"
   },
   {
    "duration": 73,
    "start_time": "2023-01-18T06:03:18.722Z"
   },
   {
    "duration": 44,
    "start_time": "2023-01-18T06:03:18.796Z"
   },
   {
    "duration": 15,
    "start_time": "2023-01-18T06:03:18.842Z"
   },
   {
    "duration": 142,
    "start_time": "2023-01-18T06:03:18.859Z"
   },
   {
    "duration": 29,
    "start_time": "2023-01-18T06:03:19.003Z"
   },
   {
    "duration": 59,
    "start_time": "2023-01-18T06:03:19.034Z"
   },
   {
    "duration": 15,
    "start_time": "2023-01-18T06:03:19.095Z"
   },
   {
    "duration": 12,
    "start_time": "2023-01-18T06:03:19.112Z"
   },
   {
    "duration": 268,
    "start_time": "2023-01-18T06:03:19.126Z"
   },
   {
    "duration": 7,
    "start_time": "2023-01-18T06:03:19.396Z"
   },
   {
    "duration": 92,
    "start_time": "2023-01-18T06:03:19.405Z"
   },
   {
    "duration": 21,
    "start_time": "2023-01-18T06:03:19.499Z"
   },
   {
    "duration": 131,
    "start_time": "2023-01-18T06:03:19.522Z"
   },
   {
    "duration": 130,
    "start_time": "2023-01-18T06:03:19.654Z"
   },
   {
    "duration": 12,
    "start_time": "2023-01-18T06:03:19.785Z"
   },
   {
    "duration": 120,
    "start_time": "2023-01-18T06:03:19.798Z"
   },
   {
    "duration": 28,
    "start_time": "2023-01-18T06:03:19.920Z"
   },
   {
    "duration": 14,
    "start_time": "2023-01-18T06:03:19.950Z"
   },
   {
    "duration": 14,
    "start_time": "2023-01-18T06:03:19.965Z"
   },
   {
    "duration": 6,
    "start_time": "2023-01-18T06:03:19.980Z"
   },
   {
    "duration": 5,
    "start_time": "2023-01-18T06:03:19.987Z"
   },
   {
    "duration": 4,
    "start_time": "2023-01-18T06:03:19.994Z"
   },
   {
    "duration": 50,
    "start_time": "2023-01-18T06:03:20.000Z"
   },
   {
    "duration": 222,
    "start_time": "2023-01-18T06:03:20.052Z"
   },
   {
    "duration": 67,
    "start_time": "2023-01-18T06:03:20.276Z"
   },
   {
    "duration": 79,
    "start_time": "2023-01-18T06:03:20.345Z"
   },
   {
    "duration": 3533,
    "start_time": "2023-01-18T06:03:20.426Z"
   },
   {
    "duration": 28,
    "start_time": "2023-01-18T06:03:23.960Z"
   },
   {
    "duration": 1294,
    "start_time": "2023-01-18T06:03:23.990Z"
   },
   {
    "duration": 7,
    "start_time": "2023-01-18T06:03:25.286Z"
   },
   {
    "duration": 8,
    "start_time": "2023-01-18T06:03:25.294Z"
   },
   {
    "duration": 5,
    "start_time": "2023-01-18T06:03:25.303Z"
   },
   {
    "duration": 20,
    "start_time": "2023-01-18T06:03:25.310Z"
   },
   {
    "duration": 77,
    "start_time": "2023-01-18T06:03:25.331Z"
   },
   {
    "duration": 3,
    "start_time": "2023-01-18T06:03:25.410Z"
   },
   {
    "duration": 6,
    "start_time": "2023-01-18T06:03:25.414Z"
   },
   {
    "duration": 9,
    "start_time": "2023-01-18T06:03:25.421Z"
   },
   {
    "duration": 15,
    "start_time": "2023-01-18T06:03:25.431Z"
   },
   {
    "duration": 39,
    "start_time": "2023-01-18T06:03:25.448Z"
   },
   {
    "duration": 1962,
    "start_time": "2023-01-18T06:10:50.693Z"
   },
   {
    "duration": 1544,
    "start_time": "2023-01-18T06:10:52.657Z"
   },
   {
    "duration": 785,
    "start_time": "2023-01-18T06:10:54.203Z"
   },
   {
    "duration": 19,
    "start_time": "2023-01-18T06:10:54.990Z"
   },
   {
    "duration": 130,
    "start_time": "2023-01-18T06:10:55.011Z"
   },
   {
    "duration": 916,
    "start_time": "2023-01-18T06:10:55.143Z"
   },
   {
    "duration": 253,
    "start_time": "2023-01-18T06:10:56.061Z"
   },
   {
    "duration": 31,
    "start_time": "2023-01-18T06:10:56.316Z"
   },
   {
    "duration": 74,
    "start_time": "2023-01-18T06:10:56.349Z"
   },
   {
    "duration": 105,
    "start_time": "2023-01-18T06:10:56.427Z"
   },
   {
    "duration": 53,
    "start_time": "2023-01-18T06:10:56.534Z"
   },
   {
    "duration": 131,
    "start_time": "2023-01-18T06:10:56.590Z"
   },
   {
    "duration": 30,
    "start_time": "2023-01-18T06:10:56.723Z"
   },
   {
    "duration": 34,
    "start_time": "2023-01-18T06:10:56.754Z"
   },
   {
    "duration": 27,
    "start_time": "2023-01-18T06:10:56.790Z"
   },
   {
    "duration": 40,
    "start_time": "2023-01-18T06:10:56.819Z"
   },
   {
    "duration": 37,
    "start_time": "2023-01-18T06:10:56.860Z"
   },
   {
    "duration": 48,
    "start_time": "2023-01-18T06:10:56.899Z"
   },
   {
    "duration": 92,
    "start_time": "2023-01-18T06:10:56.949Z"
   },
   {
    "duration": 16,
    "start_time": "2023-01-18T06:10:57.043Z"
   },
   {
    "duration": 31,
    "start_time": "2023-01-18T06:10:57.060Z"
   },
   {
    "duration": 44,
    "start_time": "2023-01-18T06:10:57.093Z"
   },
   {
    "duration": 17,
    "start_time": "2023-01-18T06:10:57.138Z"
   },
   {
    "duration": 42,
    "start_time": "2023-01-18T06:10:57.157Z"
   },
   {
    "duration": 42,
    "start_time": "2023-01-18T06:10:57.201Z"
   },
   {
    "duration": 18,
    "start_time": "2023-01-18T06:10:57.245Z"
   },
   {
    "duration": 28,
    "start_time": "2023-01-18T06:10:57.278Z"
   },
   {
    "duration": 126,
    "start_time": "2023-01-18T06:10:57.312Z"
   },
   {
    "duration": 17,
    "start_time": "2023-01-18T06:10:57.440Z"
   },
   {
    "duration": 127,
    "start_time": "2023-01-18T06:10:57.458Z"
   },
   {
    "duration": 67,
    "start_time": "2023-01-18T06:10:57.586Z"
   },
   {
    "duration": 84,
    "start_time": "2023-01-18T06:10:57.655Z"
   },
   {
    "duration": 50,
    "start_time": "2023-01-18T06:10:57.741Z"
   },
   {
    "duration": 16,
    "start_time": "2023-01-18T06:10:57.792Z"
   },
   {
    "duration": 140,
    "start_time": "2023-01-18T06:10:57.810Z"
   },
   {
    "duration": 40,
    "start_time": "2023-01-18T06:10:57.951Z"
   },
   {
    "duration": 36,
    "start_time": "2023-01-18T06:10:57.993Z"
   },
   {
    "duration": 15,
    "start_time": "2023-01-18T06:10:58.031Z"
   },
   {
    "duration": 39,
    "start_time": "2023-01-18T06:10:58.048Z"
   },
   {
    "duration": 248,
    "start_time": "2023-01-18T06:10:58.088Z"
   },
   {
    "duration": 7,
    "start_time": "2023-01-18T06:10:58.337Z"
   },
   {
    "duration": 110,
    "start_time": "2023-01-18T06:10:58.345Z"
   },
   {
    "duration": 32,
    "start_time": "2023-01-18T06:10:58.456Z"
   },
   {
    "duration": 117,
    "start_time": "2023-01-18T06:10:58.489Z"
   },
   {
    "duration": 141,
    "start_time": "2023-01-18T06:10:58.608Z"
   },
   {
    "duration": 13,
    "start_time": "2023-01-18T06:10:58.751Z"
   },
   {
    "duration": 128,
    "start_time": "2023-01-18T06:10:58.765Z"
   },
   {
    "duration": 28,
    "start_time": "2023-01-18T06:10:58.894Z"
   },
   {
    "duration": 15,
    "start_time": "2023-01-18T06:10:58.924Z"
   },
   {
    "duration": 3,
    "start_time": "2023-01-18T06:10:58.941Z"
   },
   {
    "duration": 8,
    "start_time": "2023-01-18T06:10:58.945Z"
   },
   {
    "duration": 3,
    "start_time": "2023-01-18T06:10:58.979Z"
   },
   {
    "duration": 9,
    "start_time": "2023-01-18T06:10:58.983Z"
   },
   {
    "duration": 35,
    "start_time": "2023-01-18T06:10:58.994Z"
   },
   {
    "duration": 223,
    "start_time": "2023-01-18T06:10:59.030Z"
   },
   {
    "duration": 72,
    "start_time": "2023-01-18T06:10:59.255Z"
   },
   {
    "duration": 77,
    "start_time": "2023-01-18T06:10:59.328Z"
   },
   {
    "duration": 3927,
    "start_time": "2023-01-18T06:10:59.406Z"
   },
   {
    "duration": 22,
    "start_time": "2023-01-18T06:11:03.335Z"
   },
   {
    "duration": 1386,
    "start_time": "2023-01-18T06:11:03.377Z"
   },
   {
    "duration": 13,
    "start_time": "2023-01-18T06:11:04.765Z"
   },
   {
    "duration": 6,
    "start_time": "2023-01-18T06:11:04.779Z"
   },
   {
    "duration": 12,
    "start_time": "2023-01-18T06:11:04.787Z"
   },
   {
    "duration": 23,
    "start_time": "2023-01-18T06:11:04.800Z"
   },
   {
    "duration": 89,
    "start_time": "2023-01-18T06:11:04.824Z"
   },
   {
    "duration": 3,
    "start_time": "2023-01-18T06:11:04.914Z"
   },
   {
    "duration": 10,
    "start_time": "2023-01-18T06:11:04.918Z"
   },
   {
    "duration": 25,
    "start_time": "2023-01-18T06:11:04.930Z"
   },
   {
    "duration": 37,
    "start_time": "2023-01-18T06:11:04.957Z"
   },
   {
    "duration": 27,
    "start_time": "2023-01-18T06:11:04.996Z"
   },
   {
    "duration": 252640,
    "start_time": "2023-01-18T06:11:08.869Z"
   },
   {
    "duration": 12,
    "start_time": "2023-01-18T06:15:43.512Z"
   },
   {
    "duration": 3,
    "start_time": "2023-01-18T06:15:55.945Z"
   },
   {
    "duration": 10,
    "start_time": "2023-01-18T06:15:57.858Z"
   },
   {
    "duration": 165313,
    "start_time": "2023-01-18T06:15:58.754Z"
   },
   {
    "duration": 8,
    "start_time": "2023-01-18T06:18:44.070Z"
   },
   {
    "duration": 36,
    "start_time": "2023-01-18T06:18:44.080Z"
   },
   {
    "duration": 3008,
    "start_time": "2023-01-18T19:21:08.918Z"
   },
   {
    "duration": 1581,
    "start_time": "2023-01-18T19:21:11.929Z"
   },
   {
    "duration": 2838,
    "start_time": "2023-01-18T19:21:13.512Z"
   },
   {
    "duration": 19,
    "start_time": "2023-01-18T19:21:16.352Z"
   },
   {
    "duration": 121,
    "start_time": "2023-01-18T19:21:16.373Z"
   },
   {
    "duration": 944,
    "start_time": "2023-01-18T19:21:16.496Z"
   },
   {
    "duration": 239,
    "start_time": "2023-01-18T19:21:17.441Z"
   },
   {
    "duration": 39,
    "start_time": "2023-01-18T19:21:17.682Z"
   },
   {
    "duration": 70,
    "start_time": "2023-01-18T19:21:17.722Z"
   },
   {
    "duration": 102,
    "start_time": "2023-01-18T19:21:17.795Z"
   },
   {
    "duration": 47,
    "start_time": "2023-01-18T19:21:17.899Z"
   },
   {
    "duration": 103,
    "start_time": "2023-01-18T19:21:17.948Z"
   },
   {
    "duration": 28,
    "start_time": "2023-01-18T19:21:18.052Z"
   },
   {
    "duration": 18,
    "start_time": "2023-01-18T19:21:18.092Z"
   },
   {
    "duration": 48,
    "start_time": "2023-01-18T19:21:18.112Z"
   },
   {
    "duration": 49,
    "start_time": "2023-01-18T19:21:18.162Z"
   },
   {
    "duration": 19,
    "start_time": "2023-01-18T19:21:18.213Z"
   },
   {
    "duration": 31,
    "start_time": "2023-01-18T19:21:18.233Z"
   },
   {
    "duration": 66,
    "start_time": "2023-01-18T19:21:18.266Z"
   },
   {
    "duration": 20,
    "start_time": "2023-01-18T19:21:18.334Z"
   },
   {
    "duration": 47,
    "start_time": "2023-01-18T19:21:18.356Z"
   },
   {
    "duration": 54,
    "start_time": "2023-01-18T19:21:18.405Z"
   },
   {
    "duration": 18,
    "start_time": "2023-01-18T19:21:18.461Z"
   },
   {
    "duration": 30,
    "start_time": "2023-01-18T19:21:18.481Z"
   },
   {
    "duration": 49,
    "start_time": "2023-01-18T19:21:18.513Z"
   },
   {
    "duration": 31,
    "start_time": "2023-01-18T19:21:18.564Z"
   },
   {
    "duration": 30,
    "start_time": "2023-01-18T19:21:18.596Z"
   },
   {
    "duration": 117,
    "start_time": "2023-01-18T19:21:18.629Z"
   },
   {
    "duration": 17,
    "start_time": "2023-01-18T19:21:18.747Z"
   },
   {
    "duration": 134,
    "start_time": "2023-01-18T19:21:18.766Z"
   },
   {
    "duration": 75,
    "start_time": "2023-01-18T19:21:18.902Z"
   },
   {
    "duration": 80,
    "start_time": "2023-01-18T19:21:18.979Z"
   },
   {
    "duration": 66,
    "start_time": "2023-01-18T19:21:19.061Z"
   },
   {
    "duration": 16,
    "start_time": "2023-01-18T19:21:19.129Z"
   },
   {
    "duration": 152,
    "start_time": "2023-01-18T19:21:19.147Z"
   },
   {
    "duration": 32,
    "start_time": "2023-01-18T19:21:19.301Z"
   },
   {
    "duration": 40,
    "start_time": "2023-01-18T19:21:19.335Z"
   },
   {
    "duration": 30,
    "start_time": "2023-01-18T19:21:19.376Z"
   },
   {
    "duration": 14,
    "start_time": "2023-01-18T19:21:19.407Z"
   },
   {
    "duration": 261,
    "start_time": "2023-01-18T19:21:19.423Z"
   },
   {
    "duration": 10,
    "start_time": "2023-01-18T19:21:19.685Z"
   },
   {
    "duration": 98,
    "start_time": "2023-01-18T19:21:19.697Z"
   },
   {
    "duration": 22,
    "start_time": "2023-01-18T19:21:19.797Z"
   },
   {
    "duration": 137,
    "start_time": "2023-01-18T19:21:19.820Z"
   },
   {
    "duration": 147,
    "start_time": "2023-01-18T19:21:19.959Z"
   },
   {
    "duration": 17,
    "start_time": "2023-01-18T19:21:20.107Z"
   },
   {
    "duration": 142,
    "start_time": "2023-01-18T19:21:20.126Z"
   },
   {
    "duration": 34,
    "start_time": "2023-01-18T19:21:20.270Z"
   },
   {
    "duration": 13,
    "start_time": "2023-01-18T19:21:20.306Z"
   },
   {
    "duration": 5,
    "start_time": "2023-01-18T19:21:20.320Z"
   },
   {
    "duration": 8,
    "start_time": "2023-01-18T19:21:20.326Z"
   },
   {
    "duration": 27,
    "start_time": "2023-01-18T19:21:20.335Z"
   },
   {
    "duration": 10,
    "start_time": "2023-01-18T19:21:20.364Z"
   },
   {
    "duration": 52,
    "start_time": "2023-01-18T19:21:20.376Z"
   },
   {
    "duration": 221,
    "start_time": "2023-01-18T19:21:20.430Z"
   },
   {
    "duration": 81,
    "start_time": "2023-01-18T19:21:20.653Z"
   },
   {
    "duration": 73,
    "start_time": "2023-01-18T19:21:20.736Z"
   },
   {
    "duration": 3773,
    "start_time": "2023-01-18T19:21:20.811Z"
   },
   {
    "duration": 21,
    "start_time": "2023-01-18T19:21:24.586Z"
   },
   {
    "duration": 1396,
    "start_time": "2023-01-18T19:21:24.609Z"
   },
   {
    "duration": 9,
    "start_time": "2023-01-18T19:21:26.009Z"
   },
   {
    "duration": 25,
    "start_time": "2023-01-18T19:21:26.020Z"
   },
   {
    "duration": 17,
    "start_time": "2023-01-18T19:21:26.047Z"
   },
   {
    "duration": 30,
    "start_time": "2023-01-18T19:21:26.066Z"
   },
   {
    "duration": 104,
    "start_time": "2023-01-18T19:21:26.098Z"
   },
   {
    "duration": 3,
    "start_time": "2023-01-18T19:21:26.204Z"
   },
   {
    "duration": 8,
    "start_time": "2023-01-18T19:21:26.208Z"
   },
   {
    "duration": 11,
    "start_time": "2023-01-18T19:21:26.217Z"
   },
   {
    "duration": 16,
    "start_time": "2023-01-18T19:21:26.230Z"
   },
   {
    "duration": 35,
    "start_time": "2023-01-18T19:21:26.248Z"
   },
   {
    "duration": 184445,
    "start_time": "2023-01-18T19:21:26.292Z"
   },
   {
    "duration": 58,
    "start_time": "2023-01-18T19:24:30.739Z"
   },
   {
    "duration": 27,
    "start_time": "2023-01-18T19:24:30.799Z"
   },
   {
    "duration": 48,
    "start_time": "2023-01-18T19:24:30.828Z"
   },
   {
    "duration": 170904,
    "start_time": "2023-01-18T19:24:30.878Z"
   },
   {
    "duration": 2,
    "start_time": "2023-01-18T19:32:12.937Z"
   },
   {
    "duration": 8,
    "start_time": "2023-01-18T19:32:20.002Z"
   },
   {
    "duration": 12,
    "start_time": "2023-01-18T19:33:22.914Z"
   },
   {
    "duration": 827,
    "start_time": "2023-01-18T19:33:26.206Z"
   },
   {
    "duration": 10,
    "start_time": "2023-01-18T19:33:39.959Z"
   },
   {
    "duration": 18,
    "start_time": "2023-01-18T19:34:08.357Z"
   },
   {
    "duration": 18,
    "start_time": "2023-01-18T19:34:15.116Z"
   },
   {
    "duration": 4,
    "start_time": "2023-01-18T19:35:00.336Z"
   },
   {
    "duration": 4,
    "start_time": "2023-01-18T19:35:06.828Z"
   },
   {
    "duration": 4,
    "start_time": "2023-01-18T19:35:12.956Z"
   },
   {
    "duration": 5,
    "start_time": "2023-01-18T19:35:20.304Z"
   },
   {
    "duration": 13,
    "start_time": "2023-01-18T19:38:26.104Z"
   },
   {
    "duration": 3,
    "start_time": "2023-01-18T19:38:50.188Z"
   },
   {
    "duration": 6,
    "start_time": "2023-01-18T19:38:55.117Z"
   },
   {
    "duration": 4,
    "start_time": "2023-01-18T19:39:24.556Z"
   },
   {
    "duration": 10,
    "start_time": "2023-01-18T19:39:40.961Z"
   },
   {
    "duration": 11,
    "start_time": "2023-01-18T19:40:13.118Z"
   },
   {
    "duration": 12,
    "start_time": "2023-01-18T19:40:47.841Z"
   },
   {
    "duration": 7,
    "start_time": "2023-01-18T19:41:54.825Z"
   },
   {
    "duration": 7,
    "start_time": "2023-01-18T19:42:00.427Z"
   },
   {
    "duration": 7,
    "start_time": "2023-01-18T19:42:08.302Z"
   },
   {
    "duration": 8,
    "start_time": "2023-01-18T19:42:11.399Z"
   },
   {
    "duration": 179,
    "start_time": "2023-01-18T19:42:35.190Z"
   },
   {
    "duration": 38,
    "start_time": "2023-01-18T19:43:06.613Z"
   },
   {
    "duration": 14,
    "start_time": "2023-01-18T19:43:09.927Z"
   },
   {
    "duration": 47,
    "start_time": "2023-01-18T19:43:49.285Z"
   },
   {
    "duration": 13,
    "start_time": "2023-01-18T19:43:57.893Z"
   },
   {
    "duration": 9,
    "start_time": "2023-01-18T19:44:32.913Z"
   },
   {
    "duration": 13,
    "start_time": "2023-01-18T19:44:38.291Z"
   },
   {
    "duration": 4,
    "start_time": "2023-01-18T19:44:52.780Z"
   },
   {
    "duration": 8,
    "start_time": "2023-01-18T19:44:58.331Z"
   },
   {
    "duration": 5,
    "start_time": "2023-01-18T19:45:17.723Z"
   },
   {
    "duration": 6,
    "start_time": "2023-01-18T19:45:21.109Z"
   },
   {
    "duration": 45,
    "start_time": "2023-01-18T19:45:41.007Z"
   },
   {
    "duration": 16,
    "start_time": "2023-01-18T19:45:48.723Z"
   },
   {
    "duration": 7,
    "start_time": "2023-01-18T19:46:24.883Z"
   },
   {
    "duration": 8,
    "start_time": "2023-01-18T19:46:34.830Z"
   },
   {
    "duration": 11,
    "start_time": "2023-01-18T19:46:45.026Z"
   },
   {
    "duration": 6,
    "start_time": "2023-01-18T19:46:54.689Z"
   },
   {
    "duration": 190,
    "start_time": "2023-01-18T19:47:03.047Z"
   },
   {
    "duration": 8,
    "start_time": "2023-01-18T19:47:13.070Z"
   },
   {
    "duration": 10,
    "start_time": "2023-01-18T19:48:03.555Z"
   },
   {
    "duration": 4,
    "start_time": "2023-01-18T19:48:14.110Z"
   },
   {
    "duration": 46,
    "start_time": "2023-01-18T19:48:22.061Z"
   },
   {
    "duration": 15,
    "start_time": "2023-01-18T19:48:39.872Z"
   },
   {
    "duration": 45,
    "start_time": "2023-01-18T19:49:01.325Z"
   },
   {
    "duration": 8,
    "start_time": "2023-01-18T19:49:07.763Z"
   },
   {
    "duration": 8,
    "start_time": "2023-01-18T19:49:15.703Z"
   },
   {
    "duration": 8,
    "start_time": "2023-01-18T19:49:21.421Z"
   },
   {
    "duration": 9,
    "start_time": "2023-01-18T19:49:26.562Z"
   },
   {
    "duration": 12,
    "start_time": "2023-01-18T19:49:41.495Z"
   },
   {
    "duration": 45,
    "start_time": "2023-01-18T19:50:10.762Z"
   },
   {
    "duration": 14,
    "start_time": "2023-01-18T19:50:14.715Z"
   },
   {
    "duration": 12,
    "start_time": "2023-01-18T19:50:20.521Z"
   },
   {
    "duration": 12,
    "start_time": "2023-01-18T19:50:42.166Z"
   },
   {
    "duration": 11,
    "start_time": "2023-01-18T19:51:50.740Z"
   },
   {
    "duration": 12,
    "start_time": "2023-01-18T19:52:02.512Z"
   },
   {
    "duration": 58,
    "start_time": "2023-01-18T19:52:11.462Z"
   },
   {
    "duration": 11,
    "start_time": "2023-01-18T19:52:22.175Z"
   },
   {
    "duration": 7,
    "start_time": "2023-01-18T19:52:44.288Z"
   },
   {
    "duration": 12,
    "start_time": "2023-01-18T19:52:49.977Z"
   },
   {
    "duration": 9,
    "start_time": "2023-01-18T19:54:00.999Z"
   },
   {
    "duration": 53,
    "start_time": "2023-01-18T19:55:02.552Z"
   },
   {
    "duration": 13,
    "start_time": "2023-01-18T19:56:47.904Z"
   },
   {
    "duration": 12,
    "start_time": "2023-01-18T19:56:54.218Z"
   },
   {
    "duration": 12,
    "start_time": "2023-01-18T19:56:54.451Z"
   },
   {
    "duration": 12,
    "start_time": "2023-01-18T19:56:58.082Z"
   },
   {
    "duration": 12,
    "start_time": "2023-01-18T19:57:13.923Z"
   },
   {
    "duration": 14,
    "start_time": "2023-01-18T19:57:14.519Z"
   },
   {
    "duration": 11,
    "start_time": "2023-01-18T19:57:15.859Z"
   },
   {
    "duration": 10,
    "start_time": "2023-01-18T19:57:18.975Z"
   },
   {
    "duration": 12,
    "start_time": "2023-01-18T19:59:36.475Z"
   },
   {
    "duration": 213,
    "start_time": "2023-01-18T19:59:43.444Z"
   },
   {
    "duration": 1995,
    "start_time": "2023-01-18T20:00:40.982Z"
   },
   {
    "duration": 1416,
    "start_time": "2023-01-18T20:00:42.979Z"
   },
   {
    "duration": 785,
    "start_time": "2023-01-18T20:00:44.396Z"
   },
   {
    "duration": 22,
    "start_time": "2023-01-18T20:00:45.183Z"
   },
   {
    "duration": 141,
    "start_time": "2023-01-18T20:00:45.207Z"
   },
   {
    "duration": 989,
    "start_time": "2023-01-18T20:00:45.349Z"
   },
   {
    "duration": 289,
    "start_time": "2023-01-18T20:00:46.340Z"
   },
   {
    "duration": 33,
    "start_time": "2023-01-18T20:00:46.630Z"
   },
   {
    "duration": 73,
    "start_time": "2023-01-18T20:00:46.665Z"
   },
   {
    "duration": 103,
    "start_time": "2023-01-18T20:00:46.741Z"
   },
   {
    "duration": 47,
    "start_time": "2023-01-18T20:00:46.846Z"
   },
   {
    "duration": 129,
    "start_time": "2023-01-18T20:00:46.894Z"
   },
   {
    "duration": 28,
    "start_time": "2023-01-18T20:00:47.025Z"
   },
   {
    "duration": 20,
    "start_time": "2023-01-18T20:00:47.055Z"
   },
   {
    "duration": 42,
    "start_time": "2023-01-18T20:00:47.077Z"
   },
   {
    "duration": 52,
    "start_time": "2023-01-18T20:00:47.121Z"
   },
   {
    "duration": 25,
    "start_time": "2023-01-18T20:00:47.174Z"
   },
   {
    "duration": 38,
    "start_time": "2023-01-18T20:00:47.201Z"
   },
   {
    "duration": 54,
    "start_time": "2023-01-18T20:00:47.241Z"
   },
   {
    "duration": 17,
    "start_time": "2023-01-18T20:00:47.297Z"
   },
   {
    "duration": 35,
    "start_time": "2023-01-18T20:00:47.316Z"
   },
   {
    "duration": 52,
    "start_time": "2023-01-18T20:00:47.353Z"
   },
   {
    "duration": 16,
    "start_time": "2023-01-18T20:00:47.406Z"
   },
   {
    "duration": 38,
    "start_time": "2023-01-18T20:00:47.424Z"
   },
   {
    "duration": 51,
    "start_time": "2023-01-18T20:00:47.463Z"
   },
   {
    "duration": 18,
    "start_time": "2023-01-18T20:00:47.516Z"
   },
   {
    "duration": 29,
    "start_time": "2023-01-18T20:00:47.536Z"
   },
   {
    "duration": 115,
    "start_time": "2023-01-18T20:00:47.568Z"
   },
   {
    "duration": 16,
    "start_time": "2023-01-18T20:00:47.692Z"
   },
   {
    "duration": 128,
    "start_time": "2023-01-18T20:00:47.710Z"
   },
   {
    "duration": 78,
    "start_time": "2023-01-18T20:00:47.840Z"
   },
   {
    "duration": 84,
    "start_time": "2023-01-18T20:00:47.919Z"
   },
   {
    "duration": 49,
    "start_time": "2023-01-18T20:00:48.005Z"
   },
   {
    "duration": 18,
    "start_time": "2023-01-18T20:00:48.056Z"
   },
   {
    "duration": 137,
    "start_time": "2023-01-18T20:00:48.091Z"
   },
   {
    "duration": 33,
    "start_time": "2023-01-18T20:00:48.230Z"
   },
   {
    "duration": 57,
    "start_time": "2023-01-18T20:00:48.264Z"
   },
   {
    "duration": 15,
    "start_time": "2023-01-18T20:00:48.322Z"
   },
   {
    "duration": 12,
    "start_time": "2023-01-18T20:00:48.338Z"
   },
   {
    "duration": 259,
    "start_time": "2023-01-18T20:00:48.352Z"
   },
   {
    "duration": 6,
    "start_time": "2023-01-18T20:00:48.613Z"
   },
   {
    "duration": 101,
    "start_time": "2023-01-18T20:00:48.620Z"
   },
   {
    "duration": 26,
    "start_time": "2023-01-18T20:00:48.723Z"
   },
   {
    "duration": 119,
    "start_time": "2023-01-18T20:00:48.751Z"
   },
   {
    "duration": 137,
    "start_time": "2023-01-18T20:00:48.871Z"
   },
   {
    "duration": 12,
    "start_time": "2023-01-18T20:00:49.010Z"
   },
   {
    "duration": 133,
    "start_time": "2023-01-18T20:00:49.024Z"
   },
   {
    "duration": 36,
    "start_time": "2023-01-18T20:00:49.159Z"
   },
   {
    "duration": 18,
    "start_time": "2023-01-18T20:00:49.196Z"
   },
   {
    "duration": 3,
    "start_time": "2023-01-18T20:00:53.405Z"
   },
   {
    "duration": 3,
    "start_time": "2023-01-18T20:00:54.981Z"
   },
   {
    "duration": 4,
    "start_time": "2023-01-18T20:00:56.354Z"
   },
   {
    "duration": 36,
    "start_time": "2023-01-18T20:01:04.004Z"
   },
   {
    "duration": 3,
    "start_time": "2023-01-18T20:01:15.353Z"
   },
   {
    "duration": 31,
    "start_time": "2023-01-18T20:01:18.816Z"
   },
   {
    "duration": 4,
    "start_time": "2023-01-18T20:01:34.836Z"
   },
   {
    "duration": 5,
    "start_time": "2023-01-18T20:01:41.649Z"
   },
   {
    "duration": 575,
    "start_time": "2023-01-18T20:01:47.657Z"
   },
   {
    "duration": 372,
    "start_time": "2023-01-18T20:02:05.748Z"
   },
   {
    "duration": 3679,
    "start_time": "2023-01-18T20:02:13.770Z"
   },
   {
    "duration": 18,
    "start_time": "2023-01-18T20:02:17.450Z"
   },
   {
    "duration": 1232,
    "start_time": "2023-01-18T20:02:17.469Z"
   },
   {
    "duration": 1986,
    "start_time": "2023-01-18T20:07:41.111Z"
   },
   {
    "duration": 1408,
    "start_time": "2023-01-18T20:07:43.099Z"
   },
   {
    "duration": 822,
    "start_time": "2023-01-18T20:07:44.508Z"
   },
   {
    "duration": 18,
    "start_time": "2023-01-18T20:07:45.332Z"
   },
   {
    "duration": 126,
    "start_time": "2023-01-18T20:07:45.352Z"
   },
   {
    "duration": 1104,
    "start_time": "2023-01-18T20:07:45.479Z"
   },
   {
    "duration": 263,
    "start_time": "2023-01-18T20:07:46.584Z"
   },
   {
    "duration": 45,
    "start_time": "2023-01-18T20:07:46.848Z"
   },
   {
    "duration": 61,
    "start_time": "2023-01-18T20:07:46.894Z"
   },
   {
    "duration": 118,
    "start_time": "2023-01-18T20:07:46.957Z"
   },
   {
    "duration": 43,
    "start_time": "2023-01-18T20:07:47.092Z"
   },
   {
    "duration": 125,
    "start_time": "2023-01-18T20:07:47.137Z"
   },
   {
    "duration": 37,
    "start_time": "2023-01-18T20:07:47.264Z"
   },
   {
    "duration": 41,
    "start_time": "2023-01-18T20:07:47.303Z"
   },
   {
    "duration": 31,
    "start_time": "2023-01-18T20:07:47.346Z"
   },
   {
    "duration": 48,
    "start_time": "2023-01-18T20:07:47.379Z"
   },
   {
    "duration": 17,
    "start_time": "2023-01-18T20:07:47.429Z"
   },
   {
    "duration": 40,
    "start_time": "2023-01-18T20:07:47.448Z"
   },
   {
    "duration": 70,
    "start_time": "2023-01-18T20:07:47.492Z"
   },
   {
    "duration": 16,
    "start_time": "2023-01-18T20:07:47.564Z"
   },
   {
    "duration": 33,
    "start_time": "2023-01-18T20:07:47.582Z"
   },
   {
    "duration": 41,
    "start_time": "2023-01-18T20:07:47.617Z"
   },
   {
    "duration": 35,
    "start_time": "2023-01-18T20:07:47.660Z"
   },
   {
    "duration": 29,
    "start_time": "2023-01-18T20:07:47.696Z"
   },
   {
    "duration": 66,
    "start_time": "2023-01-18T20:07:47.726Z"
   },
   {
    "duration": 19,
    "start_time": "2023-01-18T20:07:47.794Z"
   },
   {
    "duration": 27,
    "start_time": "2023-01-18T20:07:47.815Z"
   },
   {
    "duration": 119,
    "start_time": "2023-01-18T20:07:47.846Z"
   },
   {
    "duration": 26,
    "start_time": "2023-01-18T20:07:47.967Z"
   },
   {
    "duration": 133,
    "start_time": "2023-01-18T20:07:47.995Z"
   },
   {
    "duration": 81,
    "start_time": "2023-01-18T20:07:48.130Z"
   },
   {
    "duration": 83,
    "start_time": "2023-01-18T20:07:48.213Z"
   },
   {
    "duration": 60,
    "start_time": "2023-01-18T20:07:48.297Z"
   },
   {
    "duration": 34,
    "start_time": "2023-01-18T20:07:48.359Z"
   },
   {
    "duration": 139,
    "start_time": "2023-01-18T20:07:48.395Z"
   },
   {
    "duration": 35,
    "start_time": "2023-01-18T20:07:48.536Z"
   },
   {
    "duration": 61,
    "start_time": "2023-01-18T20:07:48.573Z"
   },
   {
    "duration": 19,
    "start_time": "2023-01-18T20:07:48.636Z"
   },
   {
    "duration": 36,
    "start_time": "2023-01-18T20:07:48.657Z"
   },
   {
    "duration": 274,
    "start_time": "2023-01-18T20:07:48.695Z"
   },
   {
    "duration": 7,
    "start_time": "2023-01-18T20:07:48.971Z"
   },
   {
    "duration": 134,
    "start_time": "2023-01-18T20:07:48.980Z"
   },
   {
    "duration": 26,
    "start_time": "2023-01-18T20:07:49.117Z"
   },
   {
    "duration": 157,
    "start_time": "2023-01-18T20:07:49.145Z"
   },
   {
    "duration": 140,
    "start_time": "2023-01-18T20:07:49.304Z"
   },
   {
    "duration": 11,
    "start_time": "2023-01-18T20:07:49.446Z"
   },
   {
    "duration": 126,
    "start_time": "2023-01-18T20:07:49.459Z"
   },
   {
    "duration": 29,
    "start_time": "2023-01-18T20:07:49.587Z"
   },
   {
    "duration": 14,
    "start_time": "2023-01-18T20:07:49.617Z"
   },
   {
    "duration": 3,
    "start_time": "2023-01-18T20:07:49.633Z"
   },
   {
    "duration": 7,
    "start_time": "2023-01-18T20:07:49.638Z"
   },
   {
    "duration": 8,
    "start_time": "2023-01-18T20:07:49.646Z"
   },
   {
    "duration": 58,
    "start_time": "2023-01-18T20:07:49.655Z"
   },
   {
    "duration": 3,
    "start_time": "2023-01-18T20:07:49.715Z"
   },
   {
    "duration": 35,
    "start_time": "2023-01-18T20:07:49.720Z"
   },
   {
    "duration": 539,
    "start_time": "2023-01-18T20:07:49.757Z"
   },
   {
    "duration": 423,
    "start_time": "2023-01-18T20:07:50.298Z"
   },
   {
    "duration": 3682,
    "start_time": "2023-01-18T20:07:50.723Z"
   },
   {
    "duration": 20,
    "start_time": "2023-01-18T20:07:54.406Z"
   },
   {
    "duration": 1257,
    "start_time": "2023-01-18T20:07:54.428Z"
   },
   {
    "duration": 9,
    "start_time": "2023-01-18T20:07:55.687Z"
   },
   {
    "duration": 37,
    "start_time": "2023-01-18T20:07:55.697Z"
   },
   {
    "duration": 16,
    "start_time": "2023-01-18T20:07:55.736Z"
   },
   {
    "duration": 25,
    "start_time": "2023-01-18T20:07:55.754Z"
   },
   {
    "duration": 70,
    "start_time": "2023-01-18T20:07:55.780Z"
   },
   {
    "duration": 21,
    "start_time": "2023-01-18T20:07:55.852Z"
   },
   {
    "duration": 59,
    "start_time": "2023-01-18T20:07:55.875Z"
   },
   {
    "duration": 96,
    "start_time": "2023-01-18T20:08:19.534Z"
   },
   {
    "duration": 3,
    "start_time": "2023-01-18T20:08:23.940Z"
   },
   {
    "duration": 4,
    "start_time": "2023-01-18T20:08:26.445Z"
   },
   {
    "duration": 6,
    "start_time": "2023-01-18T20:08:28.239Z"
   },
   {
    "duration": 14,
    "start_time": "2023-01-18T20:08:30.409Z"
   },
   {
    "duration": 23,
    "start_time": "2023-01-18T20:08:34.570Z"
   },
   {
    "duration": 10,
    "start_time": "2023-01-18T20:09:22.365Z"
   },
   {
    "duration": 165407,
    "start_time": "2023-01-18T20:09:48.228Z"
   },
   {
    "duration": 62,
    "start_time": "2023-01-18T20:12:33.637Z"
   },
   {
    "duration": 3,
    "start_time": "2023-01-18T20:14:47.978Z"
   },
   {
    "duration": 10,
    "start_time": "2023-01-18T20:14:48.606Z"
   },
   {
    "duration": 44339,
    "start_time": "2023-01-18T20:14:52.083Z"
   },
   {
    "duration": 42661,
    "start_time": "2023-01-18T20:15:42.836Z"
   },
   {
    "duration": 1996,
    "start_time": "2023-01-18T20:17:16.834Z"
   },
   {
    "duration": 1387,
    "start_time": "2023-01-18T20:17:18.832Z"
   },
   {
    "duration": 810,
    "start_time": "2023-01-18T20:17:20.221Z"
   },
   {
    "duration": 17,
    "start_time": "2023-01-18T20:17:21.033Z"
   },
   {
    "duration": 132,
    "start_time": "2023-01-18T20:17:21.051Z"
   },
   {
    "duration": 1062,
    "start_time": "2023-01-18T20:17:21.185Z"
   },
   {
    "duration": 253,
    "start_time": "2023-01-18T20:17:22.249Z"
   },
   {
    "duration": 30,
    "start_time": "2023-01-18T20:17:22.504Z"
   },
   {
    "duration": 70,
    "start_time": "2023-01-18T20:17:22.535Z"
   },
   {
    "duration": 107,
    "start_time": "2023-01-18T20:17:22.607Z"
   },
   {
    "duration": 42,
    "start_time": "2023-01-18T20:17:22.716Z"
   },
   {
    "duration": 125,
    "start_time": "2023-01-18T20:17:22.760Z"
   },
   {
    "duration": 31,
    "start_time": "2023-01-18T20:17:22.887Z"
   },
   {
    "duration": 20,
    "start_time": "2023-01-18T20:17:22.920Z"
   },
   {
    "duration": 27,
    "start_time": "2023-01-18T20:17:22.941Z"
   },
   {
    "duration": 56,
    "start_time": "2023-01-18T20:17:22.970Z"
   },
   {
    "duration": 17,
    "start_time": "2023-01-18T20:17:23.028Z"
   },
   {
    "duration": 48,
    "start_time": "2023-01-18T20:17:23.047Z"
   },
   {
    "duration": 45,
    "start_time": "2023-01-18T20:17:23.097Z"
   },
   {
    "duration": 17,
    "start_time": "2023-01-18T20:17:23.144Z"
   },
   {
    "duration": 42,
    "start_time": "2023-01-18T20:17:23.163Z"
   },
   {
    "duration": 44,
    "start_time": "2023-01-18T20:17:23.207Z"
   },
   {
    "duration": 18,
    "start_time": "2023-01-18T20:17:23.253Z"
   },
   {
    "duration": 32,
    "start_time": "2023-01-18T20:17:23.291Z"
   },
   {
    "duration": 48,
    "start_time": "2023-01-18T20:17:23.324Z"
   },
   {
    "duration": 30,
    "start_time": "2023-01-18T20:17:23.374Z"
   },
   {
    "duration": 28,
    "start_time": "2023-01-18T20:17:23.406Z"
   },
   {
    "duration": 117,
    "start_time": "2023-01-18T20:17:23.438Z"
   },
   {
    "duration": 16,
    "start_time": "2023-01-18T20:17:23.557Z"
   },
   {
    "duration": 130,
    "start_time": "2023-01-18T20:17:23.574Z"
   },
   {
    "duration": 87,
    "start_time": "2023-01-18T20:17:23.706Z"
   },
   {
    "duration": 69,
    "start_time": "2023-01-18T20:17:23.795Z"
   },
   {
    "duration": 66,
    "start_time": "2023-01-18T20:17:23.865Z"
   },
   {
    "duration": 16,
    "start_time": "2023-01-18T20:17:23.933Z"
   },
   {
    "duration": 142,
    "start_time": "2023-01-18T20:17:23.950Z"
   },
   {
    "duration": 33,
    "start_time": "2023-01-18T20:17:24.093Z"
   },
   {
    "duration": 42,
    "start_time": "2023-01-18T20:17:24.128Z"
   },
   {
    "duration": 34,
    "start_time": "2023-01-18T20:17:24.171Z"
   },
   {
    "duration": 15,
    "start_time": "2023-01-18T20:17:24.207Z"
   },
   {
    "duration": 283,
    "start_time": "2023-01-18T20:17:24.224Z"
   },
   {
    "duration": 7,
    "start_time": "2023-01-18T20:17:24.509Z"
   },
   {
    "duration": 101,
    "start_time": "2023-01-18T20:17:24.518Z"
   },
   {
    "duration": 22,
    "start_time": "2023-01-18T20:17:24.621Z"
   },
   {
    "duration": 133,
    "start_time": "2023-01-18T20:17:24.645Z"
   },
   {
    "duration": 143,
    "start_time": "2023-01-18T20:17:24.780Z"
   },
   {
    "duration": 16,
    "start_time": "2023-01-18T20:17:24.925Z"
   },
   {
    "duration": 149,
    "start_time": "2023-01-18T20:17:24.943Z"
   },
   {
    "duration": 27,
    "start_time": "2023-01-18T20:17:25.094Z"
   },
   {
    "duration": 14,
    "start_time": "2023-01-18T20:17:25.123Z"
   },
   {
    "duration": 21,
    "start_time": "2023-01-18T20:17:25.139Z"
   },
   {
    "duration": 10,
    "start_time": "2023-01-18T20:17:25.161Z"
   },
   {
    "duration": 11,
    "start_time": "2023-01-18T20:17:25.173Z"
   },
   {
    "duration": 51,
    "start_time": "2023-01-18T20:17:25.186Z"
   },
   {
    "duration": 2,
    "start_time": "2023-01-18T20:17:25.239Z"
   },
   {
    "duration": 30,
    "start_time": "2023-01-18T20:17:25.243Z"
   },
   {
    "duration": 566,
    "start_time": "2023-01-18T20:17:25.275Z"
   },
   {
    "duration": 422,
    "start_time": "2023-01-18T20:17:25.843Z"
   },
   {
    "duration": 3823,
    "start_time": "2023-01-18T20:17:26.267Z"
   },
   {
    "duration": 19,
    "start_time": "2023-01-18T20:17:30.092Z"
   },
   {
    "duration": 1328,
    "start_time": "2023-01-18T20:17:30.113Z"
   },
   {
    "duration": 10,
    "start_time": "2023-01-18T20:17:31.443Z"
   },
   {
    "duration": 30,
    "start_time": "2023-01-18T20:17:31.455Z"
   },
   {
    "duration": 9,
    "start_time": "2023-01-18T20:17:31.486Z"
   },
   {
    "duration": 21,
    "start_time": "2023-01-18T20:17:31.497Z"
   },
   {
    "duration": 76,
    "start_time": "2023-01-18T20:17:31.520Z"
   },
   {
    "duration": 23,
    "start_time": "2023-01-18T20:17:31.598Z"
   },
   {
    "duration": 69,
    "start_time": "2023-01-18T20:17:31.623Z"
   },
   {
    "duration": 98,
    "start_time": "2023-01-18T20:17:31.694Z"
   },
   {
    "duration": 3,
    "start_time": "2023-01-18T20:17:31.794Z"
   },
   {
    "duration": 9,
    "start_time": "2023-01-18T20:17:31.799Z"
   },
   {
    "duration": 11,
    "start_time": "2023-01-18T20:17:31.810Z"
   },
   {
    "duration": 13,
    "start_time": "2023-01-18T20:17:31.823Z"
   },
   {
    "duration": 13,
    "start_time": "2023-01-18T20:17:31.838Z"
   },
   {
    "duration": 164542,
    "start_time": "2023-01-18T20:17:31.852Z"
   },
   {
    "duration": 16,
    "start_time": "2023-01-18T20:20:16.396Z"
   },
   {
    "duration": 12,
    "start_time": "2023-01-18T20:20:16.414Z"
   },
   {
    "duration": 18,
    "start_time": "2023-01-18T20:20:16.428Z"
   },
   {
    "duration": 43693,
    "start_time": "2023-01-18T20:21:12.180Z"
   },
   {
    "duration": 2,
    "start_time": "2023-01-18T20:22:17.571Z"
   },
   {
    "duration": 11,
    "start_time": "2023-01-18T20:22:18.912Z"
   },
   {
    "duration": 14682,
    "start_time": "2023-01-18T20:22:19.381Z"
   },
   {
    "duration": 3,
    "start_time": "2023-01-18T20:23:10.407Z"
   },
   {
    "duration": 21,
    "start_time": "2023-01-18T20:23:56.496Z"
   },
   {
    "duration": 17,
    "start_time": "2023-01-18T20:24:02.712Z"
   },
   {
    "duration": 9,
    "start_time": "2023-01-18T20:24:09.034Z"
   },
   {
    "duration": 13,
    "start_time": "2023-01-18T20:24:19.673Z"
   },
   {
    "duration": 2098,
    "start_time": "2023-01-18T20:26:35.213Z"
   },
   {
    "duration": 1414,
    "start_time": "2023-01-18T20:26:37.314Z"
   },
   {
    "duration": 805,
    "start_time": "2023-01-18T20:26:38.730Z"
   },
   {
    "duration": 24,
    "start_time": "2023-01-18T20:26:39.537Z"
   },
   {
    "duration": 132,
    "start_time": "2023-01-18T20:26:39.562Z"
   },
   {
    "duration": 981,
    "start_time": "2023-01-18T20:26:39.696Z"
   },
   {
    "duration": 262,
    "start_time": "2023-01-18T20:26:40.679Z"
   },
   {
    "duration": 32,
    "start_time": "2023-01-18T20:26:40.943Z"
   },
   {
    "duration": 70,
    "start_time": "2023-01-18T20:26:40.976Z"
   },
   {
    "duration": 108,
    "start_time": "2023-01-18T20:26:41.049Z"
   },
   {
    "duration": 57,
    "start_time": "2023-01-18T20:26:41.159Z"
   },
   {
    "duration": 122,
    "start_time": "2023-01-18T20:26:41.218Z"
   },
   {
    "duration": 29,
    "start_time": "2023-01-18T20:26:41.342Z"
   },
   {
    "duration": 34,
    "start_time": "2023-01-18T20:26:41.372Z"
   },
   {
    "duration": 40,
    "start_time": "2023-01-18T20:26:41.408Z"
   },
   {
    "duration": 40,
    "start_time": "2023-01-18T20:26:41.449Z"
   },
   {
    "duration": 17,
    "start_time": "2023-01-18T20:26:41.491Z"
   },
   {
    "duration": 32,
    "start_time": "2023-01-18T20:26:41.510Z"
   },
   {
    "duration": 56,
    "start_time": "2023-01-18T20:26:41.544Z"
   },
   {
    "duration": 18,
    "start_time": "2023-01-18T20:26:41.602Z"
   },
   {
    "duration": 38,
    "start_time": "2023-01-18T20:26:41.622Z"
   },
   {
    "duration": 63,
    "start_time": "2023-01-18T20:26:41.662Z"
   },
   {
    "duration": 18,
    "start_time": "2023-01-18T20:26:41.726Z"
   },
   {
    "duration": 28,
    "start_time": "2023-01-18T20:26:41.746Z"
   },
   {
    "duration": 64,
    "start_time": "2023-01-18T20:26:41.775Z"
   },
   {
    "duration": 18,
    "start_time": "2023-01-18T20:26:41.841Z"
   },
   {
    "duration": 37,
    "start_time": "2023-01-18T20:26:41.861Z"
   },
   {
    "duration": 121,
    "start_time": "2023-01-18T20:26:41.901Z"
   },
   {
    "duration": 16,
    "start_time": "2023-01-18T20:26:42.024Z"
   },
   {
    "duration": 128,
    "start_time": "2023-01-18T20:26:42.041Z"
   },
   {
    "duration": 80,
    "start_time": "2023-01-18T20:26:42.171Z"
   },
   {
    "duration": 83,
    "start_time": "2023-01-18T20:26:42.252Z"
   },
   {
    "duration": 60,
    "start_time": "2023-01-18T20:26:42.336Z"
   },
   {
    "duration": 18,
    "start_time": "2023-01-18T20:26:42.398Z"
   },
   {
    "duration": 142,
    "start_time": "2023-01-18T20:26:42.417Z"
   },
   {
    "duration": 37,
    "start_time": "2023-01-18T20:26:42.561Z"
   },
   {
    "duration": 41,
    "start_time": "2023-01-18T20:26:42.600Z"
   },
   {
    "duration": 16,
    "start_time": "2023-01-18T20:26:42.642Z"
   },
   {
    "duration": 34,
    "start_time": "2023-01-18T20:26:42.659Z"
   },
   {
    "duration": 256,
    "start_time": "2023-01-18T20:26:42.694Z"
   },
   {
    "duration": 7,
    "start_time": "2023-01-18T20:26:42.951Z"
   },
   {
    "duration": 109,
    "start_time": "2023-01-18T20:26:42.959Z"
   },
   {
    "duration": 36,
    "start_time": "2023-01-18T20:26:43.070Z"
   },
   {
    "duration": 130,
    "start_time": "2023-01-18T20:26:43.108Z"
   },
   {
    "duration": 141,
    "start_time": "2023-01-18T20:26:43.240Z"
   },
   {
    "duration": 16,
    "start_time": "2023-01-18T20:26:43.382Z"
   },
   {
    "duration": 150,
    "start_time": "2023-01-18T20:26:43.400Z"
   },
   {
    "duration": 28,
    "start_time": "2023-01-18T20:26:43.552Z"
   },
   {
    "duration": 32,
    "start_time": "2023-01-18T20:26:46.440Z"
   },
   {
    "duration": 15,
    "start_time": "2023-01-18T20:26:47.286Z"
   },
   {
    "duration": 3,
    "start_time": "2023-01-18T20:26:49.219Z"
   },
   {
    "duration": 3,
    "start_time": "2023-01-18T20:26:51.606Z"
   },
   {
    "duration": 24,
    "start_time": "2023-01-18T20:26:58.810Z"
   },
   {
    "duration": 2,
    "start_time": "2023-01-18T20:27:11.950Z"
   },
   {
    "duration": 36,
    "start_time": "2023-01-18T20:27:20.291Z"
   },
   {
    "duration": 538,
    "start_time": "2023-01-18T20:27:26.501Z"
   },
   {
    "duration": 24,
    "start_time": "2023-01-18T20:27:41.325Z"
   },
   {
    "duration": 22,
    "start_time": "2023-01-18T20:27:46.946Z"
   },
   {
    "duration": 3,
    "start_time": "2023-01-18T20:28:29.017Z"
   },
   {
    "duration": 3,
    "start_time": "2023-01-18T20:28:43.817Z"
   },
   {
    "duration": 2050,
    "start_time": "2023-01-18T20:28:55.422Z"
   },
   {
    "duration": 1437,
    "start_time": "2023-01-18T20:28:57.474Z"
   },
   {
    "duration": 783,
    "start_time": "2023-01-18T20:28:58.913Z"
   },
   {
    "duration": 19,
    "start_time": "2023-01-18T20:28:59.698Z"
   },
   {
    "duration": 130,
    "start_time": "2023-01-18T20:28:59.718Z"
   },
   {
    "duration": 1021,
    "start_time": "2023-01-18T20:28:59.850Z"
   },
   {
    "duration": 263,
    "start_time": "2023-01-18T20:29:00.873Z"
   },
   {
    "duration": 31,
    "start_time": "2023-01-18T20:29:01.138Z"
   },
   {
    "duration": 78,
    "start_time": "2023-01-18T20:29:01.171Z"
   },
   {
    "duration": 103,
    "start_time": "2023-01-18T20:29:01.252Z"
   },
   {
    "duration": 92,
    "start_time": "2023-01-18T20:29:01.356Z"
   },
   {
    "duration": 126,
    "start_time": "2023-01-18T20:29:01.450Z"
   },
   {
    "duration": 30,
    "start_time": "2023-01-18T20:29:01.578Z"
   },
   {
    "duration": 76,
    "start_time": "2023-01-18T20:29:01.610Z"
   },
   {
    "duration": 57,
    "start_time": "2023-01-18T20:29:01.688Z"
   },
   {
    "duration": 74,
    "start_time": "2023-01-18T20:29:01.747Z"
   },
   {
    "duration": 30,
    "start_time": "2023-01-18T20:29:01.823Z"
   },
   {
    "duration": 29,
    "start_time": "2023-01-18T20:29:01.855Z"
   },
   {
    "duration": 38,
    "start_time": "2023-01-18T20:29:01.886Z"
   },
   {
    "duration": 16,
    "start_time": "2023-01-18T20:29:01.926Z"
   },
   {
    "duration": 49,
    "start_time": "2023-01-18T20:29:01.943Z"
   },
   {
    "duration": 40,
    "start_time": "2023-01-18T20:29:01.994Z"
   },
   {
    "duration": 17,
    "start_time": "2023-01-18T20:29:02.035Z"
   },
   {
    "duration": 48,
    "start_time": "2023-01-18T20:29:02.054Z"
   },
   {
    "duration": 43,
    "start_time": "2023-01-18T20:29:02.104Z"
   },
   {
    "duration": 18,
    "start_time": "2023-01-18T20:29:02.149Z"
   },
   {
    "duration": 42,
    "start_time": "2023-01-18T20:29:02.169Z"
   },
   {
    "duration": 109,
    "start_time": "2023-01-18T20:29:02.215Z"
   },
   {
    "duration": 16,
    "start_time": "2023-01-18T20:29:02.325Z"
   },
   {
    "duration": 129,
    "start_time": "2023-01-18T20:29:02.343Z"
   },
   {
    "duration": 74,
    "start_time": "2023-01-18T20:29:02.474Z"
   },
   {
    "duration": 80,
    "start_time": "2023-01-18T20:29:02.549Z"
   },
   {
    "duration": 50,
    "start_time": "2023-01-18T20:29:02.631Z"
   },
   {
    "duration": 24,
    "start_time": "2023-01-18T20:29:02.682Z"
   },
   {
    "duration": 140,
    "start_time": "2023-01-18T20:29:02.707Z"
   },
   {
    "duration": 32,
    "start_time": "2023-01-18T20:29:02.848Z"
   },
   {
    "duration": 49,
    "start_time": "2023-01-18T20:29:02.882Z"
   },
   {
    "duration": 16,
    "start_time": "2023-01-18T20:29:02.933Z"
   },
   {
    "duration": 12,
    "start_time": "2023-01-18T20:29:02.950Z"
   },
   {
    "duration": 283,
    "start_time": "2023-01-18T20:29:02.964Z"
   },
   {
    "duration": 8,
    "start_time": "2023-01-18T20:29:03.248Z"
   },
   {
    "duration": 104,
    "start_time": "2023-01-18T20:29:03.258Z"
   },
   {
    "duration": 33,
    "start_time": "2023-01-18T20:29:03.364Z"
   },
   {
    "duration": 121,
    "start_time": "2023-01-18T20:29:03.399Z"
   },
   {
    "duration": 132,
    "start_time": "2023-01-18T20:29:03.522Z"
   },
   {
    "duration": 11,
    "start_time": "2023-01-18T20:29:03.656Z"
   },
   {
    "duration": 129,
    "start_time": "2023-01-18T20:29:03.669Z"
   },
   {
    "duration": 25,
    "start_time": "2023-01-18T20:29:03.799Z"
   },
   {
    "duration": 13,
    "start_time": "2023-01-18T20:29:03.826Z"
   },
   {
    "duration": 3,
    "start_time": "2023-01-18T20:29:09.625Z"
   },
   {
    "duration": 23,
    "start_time": "2023-01-18T20:29:11.286Z"
   },
   {
    "duration": 14,
    "start_time": "2023-01-18T20:29:14.526Z"
   },
   {
    "duration": 3,
    "start_time": "2023-01-18T20:29:34.011Z"
   },
   {
    "duration": 3,
    "start_time": "2023-01-18T20:29:34.976Z"
   },
   {
    "duration": 107,
    "start_time": "2023-01-18T20:29:37.728Z"
   },
   {
    "duration": 1944,
    "start_time": "2023-01-18T20:31:18.430Z"
   },
   {
    "duration": 1450,
    "start_time": "2023-01-18T20:31:20.377Z"
   },
   {
    "duration": 780,
    "start_time": "2023-01-18T20:31:21.829Z"
   },
   {
    "duration": 18,
    "start_time": "2023-01-18T20:31:22.611Z"
   },
   {
    "duration": 121,
    "start_time": "2023-01-18T20:31:22.630Z"
   },
   {
    "duration": 945,
    "start_time": "2023-01-18T20:31:22.753Z"
   },
   {
    "duration": 257,
    "start_time": "2023-01-18T20:31:23.700Z"
   },
   {
    "duration": 37,
    "start_time": "2023-01-18T20:31:23.958Z"
   },
   {
    "duration": 55,
    "start_time": "2023-01-18T20:31:23.996Z"
   },
   {
    "duration": 107,
    "start_time": "2023-01-18T20:31:24.054Z"
   },
   {
    "duration": 51,
    "start_time": "2023-01-18T20:31:24.162Z"
   },
   {
    "duration": 118,
    "start_time": "2023-01-18T20:31:24.215Z"
   },
   {
    "duration": 28,
    "start_time": "2023-01-18T20:31:24.335Z"
   },
   {
    "duration": 32,
    "start_time": "2023-01-18T20:31:24.364Z"
   },
   {
    "duration": 29,
    "start_time": "2023-01-18T20:31:24.398Z"
   },
   {
    "duration": 37,
    "start_time": "2023-01-18T20:31:24.429Z"
   },
   {
    "duration": 34,
    "start_time": "2023-01-18T20:31:24.467Z"
   },
   {
    "duration": 28,
    "start_time": "2023-01-18T20:31:24.503Z"
   },
   {
    "duration": 60,
    "start_time": "2023-01-18T20:31:24.533Z"
   },
   {
    "duration": 16,
    "start_time": "2023-01-18T20:31:24.595Z"
   },
   {
    "duration": 30,
    "start_time": "2023-01-18T20:31:24.613Z"
   },
   {
    "duration": 69,
    "start_time": "2023-01-18T20:31:24.645Z"
   },
   {
    "duration": 19,
    "start_time": "2023-01-18T20:31:24.715Z"
   },
   {
    "duration": 31,
    "start_time": "2023-01-18T20:31:24.736Z"
   },
   {
    "duration": 57,
    "start_time": "2023-01-18T20:31:24.769Z"
   },
   {
    "duration": 18,
    "start_time": "2023-01-18T20:31:24.827Z"
   },
   {
    "duration": 27,
    "start_time": "2023-01-18T20:31:24.847Z"
   },
   {
    "duration": 116,
    "start_time": "2023-01-18T20:31:24.893Z"
   },
   {
    "duration": 16,
    "start_time": "2023-01-18T20:31:25.011Z"
   },
   {
    "duration": 138,
    "start_time": "2023-01-18T20:31:25.028Z"
   },
   {
    "duration": 89,
    "start_time": "2023-01-18T20:31:25.168Z"
   },
   {
    "duration": 86,
    "start_time": "2023-01-18T20:31:25.259Z"
   },
   {
    "duration": 57,
    "start_time": "2023-01-18T20:31:25.347Z"
   },
   {
    "duration": 16,
    "start_time": "2023-01-18T20:31:25.406Z"
   },
   {
    "duration": 137,
    "start_time": "2023-01-18T20:31:25.424Z"
   },
   {
    "duration": 36,
    "start_time": "2023-01-18T20:31:25.563Z"
   },
   {
    "duration": 42,
    "start_time": "2023-01-18T20:31:25.601Z"
   },
   {
    "duration": 16,
    "start_time": "2023-01-18T20:31:25.645Z"
   },
   {
    "duration": 38,
    "start_time": "2023-01-18T20:31:25.662Z"
   },
   {
    "duration": 255,
    "start_time": "2023-01-18T20:31:25.701Z"
   },
   {
    "duration": 7,
    "start_time": "2023-01-18T20:31:25.958Z"
   },
   {
    "duration": 111,
    "start_time": "2023-01-18T20:31:25.966Z"
   },
   {
    "duration": 32,
    "start_time": "2023-01-18T20:31:26.079Z"
   },
   {
    "duration": 150,
    "start_time": "2023-01-18T20:31:26.113Z"
   },
   {
    "duration": 183,
    "start_time": "2023-01-18T20:31:26.265Z"
   },
   {
    "duration": 14,
    "start_time": "2023-01-18T20:31:26.450Z"
   },
   {
    "duration": 141,
    "start_time": "2023-01-18T20:31:26.465Z"
   },
   {
    "duration": 27,
    "start_time": "2023-01-18T20:31:26.608Z"
   },
   {
    "duration": 15,
    "start_time": "2023-01-18T20:31:26.637Z"
   },
   {
    "duration": 8,
    "start_time": "2023-01-18T20:31:30.376Z"
   },
   {
    "duration": 23,
    "start_time": "2023-01-18T20:31:31.005Z"
   },
   {
    "duration": 22,
    "start_time": "2023-01-18T20:31:33.643Z"
   },
   {
    "duration": 3,
    "start_time": "2023-01-18T20:31:36.936Z"
   },
   {
    "duration": 3,
    "start_time": "2023-01-18T20:31:38.128Z"
   },
   {
    "duration": 39,
    "start_time": "2023-01-18T20:31:41.890Z"
   },
   {
    "duration": 3,
    "start_time": "2023-01-18T20:31:43.769Z"
   },
   {
    "duration": 29,
    "start_time": "2023-01-18T20:31:44.347Z"
   },
   {
    "duration": 585,
    "start_time": "2023-01-18T20:31:45.723Z"
   },
   {
    "duration": 361,
    "start_time": "2023-01-18T20:31:47.077Z"
   },
   {
    "duration": 24,
    "start_time": "2023-01-18T20:31:51.904Z"
   },
   {
    "duration": 24,
    "start_time": "2023-01-18T20:31:53.650Z"
   },
   {
    "duration": 3826,
    "start_time": "2023-01-18T20:32:03.876Z"
   },
   {
    "duration": 19,
    "start_time": "2023-01-18T20:32:07.704Z"
   },
   {
    "duration": 1356,
    "start_time": "2023-01-18T20:32:07.725Z"
   },
   {
    "duration": 1876,
    "start_time": "2023-01-18T20:34:26.829Z"
   },
   {
    "duration": 1379,
    "start_time": "2023-01-18T20:34:28.708Z"
   },
   {
    "duration": 810,
    "start_time": "2023-01-18T20:34:30.089Z"
   },
   {
    "duration": 18,
    "start_time": "2023-01-18T20:34:30.901Z"
   },
   {
    "duration": 131,
    "start_time": "2023-01-18T20:34:30.920Z"
   },
   {
    "duration": 987,
    "start_time": "2023-01-18T20:34:31.052Z"
   },
   {
    "duration": 255,
    "start_time": "2023-01-18T20:34:32.040Z"
   },
   {
    "duration": 31,
    "start_time": "2023-01-18T20:34:32.296Z"
   },
   {
    "duration": 71,
    "start_time": "2023-01-18T20:34:32.328Z"
   },
   {
    "duration": 102,
    "start_time": "2023-01-18T20:34:32.402Z"
   },
   {
    "duration": 41,
    "start_time": "2023-01-18T20:34:32.506Z"
   },
   {
    "duration": 135,
    "start_time": "2023-01-18T20:34:32.549Z"
   },
   {
    "duration": 29,
    "start_time": "2023-01-18T20:34:32.691Z"
   },
   {
    "duration": 19,
    "start_time": "2023-01-18T20:34:32.722Z"
   },
   {
    "duration": 29,
    "start_time": "2023-01-18T20:34:32.743Z"
   },
   {
    "duration": 39,
    "start_time": "2023-01-18T20:34:32.793Z"
   },
   {
    "duration": 17,
    "start_time": "2023-01-18T20:34:32.834Z"
   },
   {
    "duration": 48,
    "start_time": "2023-01-18T20:34:32.853Z"
   },
   {
    "duration": 41,
    "start_time": "2023-01-18T20:34:32.902Z"
   },
   {
    "duration": 16,
    "start_time": "2023-01-18T20:34:32.945Z"
   },
   {
    "duration": 46,
    "start_time": "2023-01-18T20:34:32.963Z"
   },
   {
    "duration": 39,
    "start_time": "2023-01-18T20:34:33.011Z"
   },
   {
    "duration": 17,
    "start_time": "2023-01-18T20:34:33.051Z"
   },
   {
    "duration": 46,
    "start_time": "2023-01-18T20:34:33.070Z"
   },
   {
    "duration": 44,
    "start_time": "2023-01-18T20:34:33.118Z"
   },
   {
    "duration": 34,
    "start_time": "2023-01-18T20:34:33.164Z"
   },
   {
    "duration": 27,
    "start_time": "2023-01-18T20:34:33.200Z"
   },
   {
    "duration": 115,
    "start_time": "2023-01-18T20:34:33.231Z"
   },
   {
    "duration": 15,
    "start_time": "2023-01-18T20:34:33.347Z"
   },
   {
    "duration": 127,
    "start_time": "2023-01-18T20:34:33.364Z"
   },
   {
    "duration": 72,
    "start_time": "2023-01-18T20:34:33.493Z"
   },
   {
    "duration": 82,
    "start_time": "2023-01-18T20:34:33.567Z"
   },
   {
    "duration": 60,
    "start_time": "2023-01-18T20:34:33.651Z"
   },
   {
    "duration": 16,
    "start_time": "2023-01-18T20:34:33.713Z"
   },
   {
    "duration": 135,
    "start_time": "2023-01-18T20:34:33.730Z"
   },
   {
    "duration": 34,
    "start_time": "2023-01-18T20:34:33.866Z"
   },
   {
    "duration": 39,
    "start_time": "2023-01-18T20:34:33.902Z"
   },
   {
    "duration": 15,
    "start_time": "2023-01-18T20:34:33.943Z"
   },
   {
    "duration": 33,
    "start_time": "2023-01-18T20:34:33.960Z"
   },
   {
    "duration": 253,
    "start_time": "2023-01-18T20:34:33.994Z"
   },
   {
    "duration": 6,
    "start_time": "2023-01-18T20:34:34.249Z"
   },
   {
    "duration": 103,
    "start_time": "2023-01-18T20:34:34.257Z"
   },
   {
    "duration": 33,
    "start_time": "2023-01-18T20:34:34.362Z"
   },
   {
    "duration": 144,
    "start_time": "2023-01-18T20:34:34.397Z"
   },
   {
    "duration": 140,
    "start_time": "2023-01-18T20:34:34.543Z"
   },
   {
    "duration": 3754,
    "start_time": "2023-01-18T20:34:34.685Z"
   },
   {
    "duration": 19,
    "start_time": "2023-01-18T20:34:38.441Z"
   },
   {
    "duration": 1269,
    "start_time": "2023-01-18T20:34:41.528Z"
   },
   {
    "duration": 2,
    "start_time": "2023-01-18T20:37:31.838Z"
   },
   {
    "duration": 12,
    "start_time": "2023-01-18T20:38:22.777Z"
   },
   {
    "duration": 10,
    "start_time": "2023-01-18T20:38:26.769Z"
   },
   {
    "duration": 91,
    "start_time": "2023-01-18T20:38:27.507Z"
   },
   {
    "duration": 25,
    "start_time": "2023-01-18T20:38:28.376Z"
   },
   {
    "duration": 13,
    "start_time": "2023-01-18T20:38:29.333Z"
   },
   {
    "duration": 8,
    "start_time": "2023-01-18T20:38:32.494Z"
   },
   {
    "duration": 3,
    "start_time": "2023-01-18T20:38:35.778Z"
   },
   {
    "duration": 3,
    "start_time": "2023-01-18T20:38:36.783Z"
   },
   {
    "duration": 39,
    "start_time": "2023-01-18T20:38:40.034Z"
   },
   {
    "duration": 3,
    "start_time": "2023-01-18T20:38:42.090Z"
   },
   {
    "duration": 29,
    "start_time": "2023-01-18T20:38:43.194Z"
   },
   {
    "duration": 545,
    "start_time": "2023-01-18T20:38:44.922Z"
   },
   {
    "duration": 58,
    "start_time": "2023-01-18T20:39:00.676Z"
   },
   {
    "duration": 3,
    "start_time": "2023-01-18T20:39:02.213Z"
   },
   {
    "duration": 2,
    "start_time": "2023-01-18T20:39:03.499Z"
   },
   {
    "duration": 10,
    "start_time": "2023-01-18T20:39:04.061Z"
   },
   {
    "duration": 72,
    "start_time": "2023-01-18T20:39:04.529Z"
   },
   {
    "duration": 81,
    "start_time": "2023-01-18T20:39:05.543Z"
   },
   {
    "duration": 19,
    "start_time": "2023-01-18T20:39:05.888Z"
   },
   {
    "duration": 77,
    "start_time": "2023-01-18T20:39:06.208Z"
   },
   {
    "duration": 3,
    "start_time": "2023-01-18T20:39:09.217Z"
   },
   {
    "duration": 4,
    "start_time": "2023-01-18T20:39:09.781Z"
   },
   {
    "duration": 6,
    "start_time": "2023-01-18T20:39:10.915Z"
   },
   {
    "duration": 12,
    "start_time": "2023-01-18T20:39:11.663Z"
   },
   {
    "duration": 9,
    "start_time": "2023-01-18T20:39:14.716Z"
   },
   {
    "duration": 171392,
    "start_time": "2023-01-18T20:39:23.945Z"
   },
   {
    "duration": 64,
    "start_time": "2023-01-18T20:42:15.339Z"
   },
   {
    "duration": 3,
    "start_time": "2023-01-18T20:42:23.404Z"
   },
   {
    "duration": 9,
    "start_time": "2023-01-18T20:42:24.393Z"
   },
   {
    "duration": 16,
    "start_time": "2023-01-18T20:42:27.786Z"
   },
   {
    "duration": 180610,
    "start_time": "2023-01-18T20:43:36.082Z"
   },
   {
    "duration": 11,
    "start_time": "2023-01-18T20:48:10.787Z"
   },
   {
    "duration": 9,
    "start_time": "2023-01-18T20:48:12.999Z"
   },
   {
    "duration": 9,
    "start_time": "2023-01-18T20:50:03.510Z"
   },
   {
    "duration": 45,
    "start_time": "2023-01-18T20:50:37.425Z"
   },
   {
    "duration": 166,
    "start_time": "2023-01-18T20:52:20.407Z"
   },
   {
    "duration": 6,
    "start_time": "2023-01-18T20:56:53.585Z"
   },
   {
    "duration": 4,
    "start_time": "2023-01-18T20:57:30.810Z"
   },
   {
    "duration": 139,
    "start_time": "2023-01-18T20:59:35.866Z"
   },
   {
    "duration": 11,
    "start_time": "2023-01-18T21:00:34.513Z"
   },
   {
    "duration": 25,
    "start_time": "2023-01-18T21:00:46.939Z"
   },
   {
    "duration": 18,
    "start_time": "2023-01-18T21:00:54.636Z"
   },
   {
    "duration": 10,
    "start_time": "2023-01-18T21:01:22.876Z"
   },
   {
    "duration": 13,
    "start_time": "2023-01-18T21:01:47.937Z"
   },
   {
    "duration": 41128,
    "start_time": "2023-01-18T21:02:07.369Z"
   },
   {
    "duration": 12,
    "start_time": "2023-01-18T21:04:43.129Z"
   },
   {
    "duration": 10,
    "start_time": "2023-01-18T21:04:52.771Z"
   },
   {
    "duration": 4,
    "start_time": "2023-01-18T21:05:22.599Z"
   },
   {
    "duration": 11,
    "start_time": "2023-01-18T21:05:25.759Z"
   },
   {
    "duration": 4,
    "start_time": "2023-01-18T21:05:51.343Z"
   },
   {
    "duration": 6844,
    "start_time": "2023-01-18T21:06:00.591Z"
   },
   {
    "duration": 3,
    "start_time": "2023-01-18T21:06:44.064Z"
   },
   {
    "duration": 4,
    "start_time": "2023-01-18T21:06:49.185Z"
   },
   {
    "duration": 48,
    "start_time": "2023-01-18T21:14:49.483Z"
   },
   {
    "duration": 2061,
    "start_time": "2023-01-18T21:18:38.607Z"
   },
   {
    "duration": 1478,
    "start_time": "2023-01-18T21:18:40.670Z"
   },
   {
    "duration": 807,
    "start_time": "2023-01-18T21:18:42.149Z"
   },
   {
    "duration": 24,
    "start_time": "2023-01-18T21:18:42.958Z"
   },
   {
    "duration": 113,
    "start_time": "2023-01-18T21:18:42.991Z"
   },
   {
    "duration": 957,
    "start_time": "2023-01-18T21:18:43.106Z"
   },
   {
    "duration": 264,
    "start_time": "2023-01-18T21:18:44.065Z"
   },
   {
    "duration": 33,
    "start_time": "2023-01-18T21:18:44.330Z"
   },
   {
    "duration": 74,
    "start_time": "2023-01-18T21:18:44.364Z"
   },
   {
    "duration": 102,
    "start_time": "2023-01-18T21:18:44.440Z"
   },
   {
    "duration": 52,
    "start_time": "2023-01-18T21:18:44.544Z"
   },
   {
    "duration": 117,
    "start_time": "2023-01-18T21:18:44.598Z"
   },
   {
    "duration": 29,
    "start_time": "2023-01-18T21:18:44.717Z"
   },
   {
    "duration": 24,
    "start_time": "2023-01-18T21:18:44.748Z"
   },
   {
    "duration": 45,
    "start_time": "2023-01-18T21:18:44.773Z"
   },
   {
    "duration": 41,
    "start_time": "2023-01-18T21:18:44.819Z"
   },
   {
    "duration": 33,
    "start_time": "2023-01-18T21:18:44.862Z"
   },
   {
    "duration": 31,
    "start_time": "2023-01-18T21:18:44.897Z"
   },
   {
    "duration": 47,
    "start_time": "2023-01-18T21:18:44.930Z"
   },
   {
    "duration": 18,
    "start_time": "2023-01-18T21:18:44.992Z"
   },
   {
    "duration": 43,
    "start_time": "2023-01-18T21:18:45.013Z"
   },
   {
    "duration": 48,
    "start_time": "2023-01-18T21:18:45.058Z"
   },
   {
    "duration": 17,
    "start_time": "2023-01-18T21:18:45.107Z"
   },
   {
    "duration": 28,
    "start_time": "2023-01-18T21:18:45.126Z"
   },
   {
    "duration": 69,
    "start_time": "2023-01-18T21:18:45.156Z"
   },
   {
    "duration": 20,
    "start_time": "2023-01-18T21:18:45.226Z"
   },
   {
    "duration": 28,
    "start_time": "2023-01-18T21:18:45.248Z"
   },
   {
    "duration": 109,
    "start_time": "2023-01-18T21:18:45.295Z"
   },
   {
    "duration": 16,
    "start_time": "2023-01-18T21:18:45.405Z"
   },
   {
    "duration": 140,
    "start_time": "2023-01-18T21:18:45.423Z"
   },
   {
    "duration": 85,
    "start_time": "2023-01-18T21:18:45.565Z"
   },
   {
    "duration": 83,
    "start_time": "2023-01-18T21:18:45.651Z"
   },
   {
    "duration": 49,
    "start_time": "2023-01-18T21:18:45.736Z"
   },
   {
    "duration": 17,
    "start_time": "2023-01-18T21:18:45.792Z"
   },
   {
    "duration": 154,
    "start_time": "2023-01-18T21:18:45.811Z"
   },
   {
    "duration": 33,
    "start_time": "2023-01-18T21:18:45.967Z"
   },
   {
    "duration": 41,
    "start_time": "2023-01-18T21:18:46.002Z"
   },
   {
    "duration": 15,
    "start_time": "2023-01-18T21:18:46.045Z"
   },
   {
    "duration": 32,
    "start_time": "2023-01-18T21:18:46.062Z"
   },
   {
    "duration": 266,
    "start_time": "2023-01-18T21:18:46.095Z"
   },
   {
    "duration": 7,
    "start_time": "2023-01-18T21:18:46.363Z"
   },
   {
    "duration": 107,
    "start_time": "2023-01-18T21:18:46.371Z"
   },
   {
    "duration": 35,
    "start_time": "2023-01-18T21:18:46.480Z"
   },
   {
    "duration": 174,
    "start_time": "2023-01-18T21:18:46.517Z"
   },
   {
    "duration": 149,
    "start_time": "2023-01-18T21:18:46.694Z"
   },
   {
    "duration": 3903,
    "start_time": "2023-01-18T21:18:46.845Z"
   },
   {
    "duration": 18,
    "start_time": "2023-01-18T21:18:50.750Z"
   },
   {
    "duration": 1287,
    "start_time": "2023-01-18T21:18:50.770Z"
   },
   {
    "duration": 18,
    "start_time": "2023-01-18T21:18:52.059Z"
   },
   {
    "duration": 13,
    "start_time": "2023-01-18T21:18:52.079Z"
   },
   {
    "duration": 107,
    "start_time": "2023-01-18T21:18:52.094Z"
   },
   {
    "duration": 29,
    "start_time": "2023-01-18T21:18:52.202Z"
   },
   {
    "duration": 15,
    "start_time": "2023-01-18T21:18:52.233Z"
   },
   {
    "duration": 8,
    "start_time": "2023-01-18T21:18:52.250Z"
   },
   {
    "duration": 33,
    "start_time": "2023-01-18T21:18:52.259Z"
   },
   {
    "duration": 8,
    "start_time": "2023-01-18T21:18:52.295Z"
   },
   {
    "duration": 43,
    "start_time": "2023-01-18T21:18:52.305Z"
   },
   {
    "duration": 3,
    "start_time": "2023-01-18T21:18:52.349Z"
   },
   {
    "duration": 43,
    "start_time": "2023-01-18T21:18:52.353Z"
   },
   {
    "duration": 575,
    "start_time": "2023-01-18T21:18:52.398Z"
   },
   {
    "duration": 65,
    "start_time": "2023-01-18T21:18:52.975Z"
   },
   {
    "duration": 3,
    "start_time": "2023-01-18T21:18:53.042Z"
   },
   {
    "duration": 4,
    "start_time": "2023-01-18T21:18:53.047Z"
   },
   {
    "duration": 13,
    "start_time": "2023-01-18T21:18:53.053Z"
   },
   {
    "duration": 102,
    "start_time": "2023-01-18T21:18:53.067Z"
   },
   {
    "duration": 97,
    "start_time": "2023-01-18T21:18:53.171Z"
   },
   {
    "duration": 32,
    "start_time": "2023-01-18T21:18:53.270Z"
   },
   {
    "duration": 74,
    "start_time": "2023-01-18T21:18:53.304Z"
   },
   {
    "duration": 14,
    "start_time": "2023-01-18T21:18:53.380Z"
   },
   {
    "duration": 9,
    "start_time": "2023-01-18T21:18:53.396Z"
   },
   {
    "duration": 11,
    "start_time": "2023-01-18T21:18:53.407Z"
   },
   {
    "duration": 14,
    "start_time": "2023-01-18T21:18:53.420Z"
   },
   {
    "duration": 183058,
    "start_time": "2023-01-18T21:18:53.435Z"
   },
   {
    "duration": 16,
    "start_time": "2023-01-18T21:21:56.495Z"
   },
   {
    "duration": 9,
    "start_time": "2023-01-18T21:21:56.512Z"
   },
   {
    "duration": 18,
    "start_time": "2023-01-18T21:21:56.523Z"
   },
   {
    "duration": 23,
    "start_time": "2023-01-18T21:21:56.543Z"
   },
   {
    "duration": 189586,
    "start_time": "2023-01-18T21:21:56.568Z"
   },
   {
    "duration": 15,
    "start_time": "2023-01-18T21:25:06.156Z"
   },
   {
    "duration": 24,
    "start_time": "2023-01-18T21:25:06.173Z"
   },
   {
    "duration": 16,
    "start_time": "2023-01-18T21:25:06.199Z"
   },
   {
    "duration": 204,
    "start_time": "2023-01-18T21:25:06.221Z"
   },
   {
    "duration": 15,
    "start_time": "2023-01-18T21:25:06.428Z"
   },
   {
    "duration": 6797,
    "start_time": "2023-01-18T21:30:42.100Z"
   },
   {
    "duration": 4,
    "start_time": "2023-01-18T21:30:48.899Z"
   },
   {
    "duration": 7069,
    "start_time": "2023-01-18T21:30:48.905Z"
   },
   {
    "duration": 5,
    "start_time": "2023-01-18T21:30:55.976Z"
   },
   {
    "duration": 42,
    "start_time": "2023-01-18T21:30:55.983Z"
   },
   {
    "duration": 73004,
    "start_time": "2023-01-18T21:31:12.162Z"
   },
   {
    "duration": 6409,
    "start_time": "2023-01-18T21:32:31.201Z"
   },
   {
    "duration": 4,
    "start_time": "2023-01-18T21:32:39.702Z"
   },
   {
    "duration": 4,
    "start_time": "2023-01-18T21:32:40.148Z"
   },
   {
    "duration": 2098,
    "start_time": "2023-01-18T21:33:28.673Z"
   },
   {
    "duration": 1468,
    "start_time": "2023-01-18T21:33:30.773Z"
   },
   {
    "duration": 866,
    "start_time": "2023-01-18T21:33:32.243Z"
   },
   {
    "duration": 24,
    "start_time": "2023-01-18T21:33:33.113Z"
   },
   {
    "duration": 166,
    "start_time": "2023-01-18T21:33:33.139Z"
   },
   {
    "duration": 1069,
    "start_time": "2023-01-18T21:33:33.307Z"
   },
   {
    "duration": 278,
    "start_time": "2023-01-18T21:33:34.378Z"
   },
   {
    "duration": 40,
    "start_time": "2023-01-18T21:33:34.657Z"
   },
   {
    "duration": 60,
    "start_time": "2023-01-18T21:33:34.699Z"
   },
   {
    "duration": 114,
    "start_time": "2023-01-18T21:33:34.761Z"
   },
   {
    "duration": 49,
    "start_time": "2023-01-18T21:33:34.877Z"
   },
   {
    "duration": 127,
    "start_time": "2023-01-18T21:33:34.928Z"
   },
   {
    "duration": 36,
    "start_time": "2023-01-18T21:33:35.057Z"
   },
   {
    "duration": 18,
    "start_time": "2023-01-18T21:33:35.094Z"
   },
   {
    "duration": 32,
    "start_time": "2023-01-18T21:33:35.114Z"
   },
   {
    "duration": 70,
    "start_time": "2023-01-18T21:33:35.148Z"
   },
   {
    "duration": 19,
    "start_time": "2023-01-18T21:33:35.220Z"
   },
   {
    "duration": 29,
    "start_time": "2023-01-18T21:33:35.241Z"
   },
   {
    "duration": 40,
    "start_time": "2023-01-18T21:33:35.291Z"
   },
   {
    "duration": 17,
    "start_time": "2023-01-18T21:33:35.333Z"
   },
   {
    "duration": 44,
    "start_time": "2023-01-18T21:33:35.352Z"
   },
   {
    "duration": 67,
    "start_time": "2023-01-18T21:33:35.398Z"
   },
   {
    "duration": 30,
    "start_time": "2023-01-18T21:33:35.467Z"
   },
   {
    "duration": 29,
    "start_time": "2023-01-18T21:33:35.499Z"
   },
   {
    "duration": 63,
    "start_time": "2023-01-18T21:33:35.530Z"
   },
   {
    "duration": 22,
    "start_time": "2023-01-18T21:33:35.595Z"
   },
   {
    "duration": 40,
    "start_time": "2023-01-18T21:33:35.619Z"
   },
   {
    "duration": 122,
    "start_time": "2023-01-18T21:33:35.663Z"
   },
   {
    "duration": 17,
    "start_time": "2023-01-18T21:33:35.791Z"
   },
   {
    "duration": 140,
    "start_time": "2023-01-18T21:33:35.809Z"
   },
   {
    "duration": 100,
    "start_time": "2023-01-18T21:33:35.951Z"
   },
   {
    "duration": 95,
    "start_time": "2023-01-18T21:33:36.053Z"
   },
   {
    "duration": 70,
    "start_time": "2023-01-18T21:33:36.150Z"
   },
   {
    "duration": 22,
    "start_time": "2023-01-18T21:33:36.222Z"
   },
   {
    "duration": 161,
    "start_time": "2023-01-18T21:33:36.245Z"
   },
   {
    "duration": 43,
    "start_time": "2023-01-18T21:33:36.408Z"
   },
   {
    "duration": 57,
    "start_time": "2023-01-18T21:33:36.453Z"
   },
   {
    "duration": 16,
    "start_time": "2023-01-18T21:33:36.515Z"
   },
   {
    "duration": 14,
    "start_time": "2023-01-18T21:33:36.533Z"
   },
   {
    "duration": 281,
    "start_time": "2023-01-18T21:33:36.549Z"
   },
   {
    "duration": 8,
    "start_time": "2023-01-18T21:33:36.831Z"
   },
   {
    "duration": 111,
    "start_time": "2023-01-18T21:33:36.841Z"
   },
   {
    "duration": 23,
    "start_time": "2023-01-18T21:33:36.954Z"
   },
   {
    "duration": 151,
    "start_time": "2023-01-18T21:33:36.978Z"
   },
   {
    "duration": 153,
    "start_time": "2023-01-18T21:33:37.131Z"
   },
   {
    "duration": 3872,
    "start_time": "2023-01-18T21:33:37.286Z"
   },
   {
    "duration": 20,
    "start_time": "2023-01-18T21:33:41.160Z"
   },
   {
    "duration": 1277,
    "start_time": "2023-01-18T21:33:41.192Z"
   },
   {
    "duration": 18,
    "start_time": "2023-01-18T21:33:42.471Z"
   },
   {
    "duration": 12,
    "start_time": "2023-01-18T21:33:42.490Z"
   },
   {
    "duration": 108,
    "start_time": "2023-01-18T21:33:42.504Z"
   },
   {
    "duration": 23,
    "start_time": "2023-01-18T21:33:42.614Z"
   },
   {
    "duration": 13,
    "start_time": "2023-01-18T21:33:42.639Z"
   },
   {
    "duration": 8,
    "start_time": "2023-01-18T21:33:42.654Z"
   },
   {
    "duration": 2,
    "start_time": "2023-01-18T21:33:42.664Z"
   },
   {
    "duration": 3,
    "start_time": "2023-01-18T21:33:42.692Z"
   },
   {
    "duration": 40,
    "start_time": "2023-01-18T21:33:42.697Z"
   },
   {
    "duration": 3,
    "start_time": "2023-01-18T21:33:42.739Z"
   },
   {
    "duration": 49,
    "start_time": "2023-01-18T21:33:42.744Z"
   },
   {
    "duration": 596,
    "start_time": "2023-01-18T21:33:42.796Z"
   },
   {
    "duration": 60,
    "start_time": "2023-01-18T21:33:43.394Z"
   },
   {
    "duration": 2,
    "start_time": "2023-01-18T21:33:43.456Z"
   },
   {
    "duration": 14,
    "start_time": "2023-01-18T21:33:43.459Z"
   },
   {
    "duration": 18,
    "start_time": "2023-01-18T21:33:43.475Z"
   },
   {
    "duration": 98,
    "start_time": "2023-01-18T21:33:43.495Z"
   },
   {
    "duration": 79,
    "start_time": "2023-01-18T21:33:43.595Z"
   },
   {
    "duration": 32,
    "start_time": "2023-01-18T21:33:43.676Z"
   },
   {
    "duration": 83,
    "start_time": "2023-01-18T21:33:43.709Z"
   },
   {
    "duration": 3,
    "start_time": "2023-01-18T21:33:43.794Z"
   },
   {
    "duration": 16,
    "start_time": "2023-01-18T21:33:43.799Z"
   },
   {
    "duration": 39,
    "start_time": "2023-01-18T21:33:43.817Z"
   },
   {
    "duration": 21,
    "start_time": "2023-01-18T21:33:43.858Z"
   },
   {
    "duration": 325144,
    "start_time": "2023-01-18T21:33:43.880Z"
   },
   {
    "duration": 13,
    "start_time": "2023-01-18T21:39:09.025Z"
   },
   {
    "duration": 4,
    "start_time": "2023-01-18T21:39:09.040Z"
   },
   {
    "duration": 18,
    "start_time": "2023-01-18T21:39:09.046Z"
   },
   {
    "duration": 24,
    "start_time": "2023-01-18T21:39:09.066Z"
   },
   {
    "duration": 16614,
    "start_time": "2023-01-18T21:39:09.092Z"
   },
   {
    "duration": 0,
    "start_time": "2023-01-18T21:39:25.710Z"
   },
   {
    "duration": 0,
    "start_time": "2023-01-18T21:39:25.711Z"
   },
   {
    "duration": 0,
    "start_time": "2023-01-18T21:39:25.712Z"
   },
   {
    "duration": 0,
    "start_time": "2023-01-18T21:39:25.713Z"
   },
   {
    "duration": 0,
    "start_time": "2023-01-18T21:39:25.715Z"
   },
   {
    "duration": 0,
    "start_time": "2023-01-18T21:39:25.716Z"
   },
   {
    "duration": 0,
    "start_time": "2023-01-18T21:39:25.718Z"
   },
   {
    "duration": 0,
    "start_time": "2023-01-18T21:39:25.722Z"
   },
   {
    "duration": 0,
    "start_time": "2023-01-18T21:39:25.723Z"
   },
   {
    "duration": 0,
    "start_time": "2023-01-18T21:39:25.724Z"
   },
   {
    "duration": 0,
    "start_time": "2023-01-18T21:39:25.725Z"
   },
   {
    "duration": 0,
    "start_time": "2023-01-18T21:39:25.727Z"
   },
   {
    "duration": 0,
    "start_time": "2023-01-18T21:39:25.728Z"
   },
   {
    "duration": 0,
    "start_time": "2023-01-18T21:39:25.729Z"
   },
   {
    "duration": 0,
    "start_time": "2023-01-18T21:39:25.731Z"
   },
   {
    "duration": 0,
    "start_time": "2023-01-18T21:39:25.732Z"
   },
   {
    "duration": 0,
    "start_time": "2023-01-18T21:39:25.733Z"
   },
   {
    "duration": 0,
    "start_time": "2023-01-18T21:39:25.734Z"
   },
   {
    "duration": 0,
    "start_time": "2023-01-18T21:39:25.735Z"
   },
   {
    "duration": 0,
    "start_time": "2023-01-18T21:39:25.736Z"
   },
   {
    "duration": 0,
    "start_time": "2023-01-18T21:39:25.737Z"
   },
   {
    "duration": 0,
    "start_time": "2023-01-18T21:39:25.738Z"
   },
   {
    "duration": 0,
    "start_time": "2023-01-18T21:39:25.739Z"
   },
   {
    "duration": 0,
    "start_time": "2023-01-18T21:39:25.792Z"
   },
   {
    "duration": 0,
    "start_time": "2023-01-18T21:39:25.793Z"
   },
   {
    "duration": 0,
    "start_time": "2023-01-18T21:39:25.794Z"
   },
   {
    "duration": 0,
    "start_time": "2023-01-18T21:39:25.795Z"
   },
   {
    "duration": 0,
    "start_time": "2023-01-18T21:39:25.796Z"
   },
   {
    "duration": 0,
    "start_time": "2023-01-18T21:39:25.797Z"
   },
   {
    "duration": 0,
    "start_time": "2023-01-18T21:39:25.798Z"
   },
   {
    "duration": 0,
    "start_time": "2023-01-18T21:39:25.799Z"
   },
   {
    "duration": 0,
    "start_time": "2023-01-18T21:39:25.800Z"
   },
   {
    "duration": 0,
    "start_time": "2023-01-18T21:39:25.802Z"
   },
   {
    "duration": 0,
    "start_time": "2023-01-18T21:39:25.803Z"
   },
   {
    "duration": 0,
    "start_time": "2023-01-18T21:39:25.805Z"
   },
   {
    "duration": 0,
    "start_time": "2023-01-18T21:39:25.807Z"
   },
   {
    "duration": 0,
    "start_time": "2023-01-18T21:39:25.808Z"
   },
   {
    "duration": 0,
    "start_time": "2023-01-18T21:39:25.810Z"
   },
   {
    "duration": 0,
    "start_time": "2023-01-18T21:39:25.812Z"
   },
   {
    "duration": 0,
    "start_time": "2023-01-18T21:39:25.813Z"
   },
   {
    "duration": 0,
    "start_time": "2023-01-18T21:39:25.814Z"
   },
   {
    "duration": 0,
    "start_time": "2023-01-18T21:39:25.814Z"
   },
   {
    "duration": 0,
    "start_time": "2023-01-18T21:39:25.816Z"
   },
   {
    "duration": 0,
    "start_time": "2023-01-18T21:39:25.817Z"
   },
   {
    "duration": 0,
    "start_time": "2023-01-18T21:39:25.818Z"
   },
   {
    "duration": 0,
    "start_time": "2023-01-18T21:39:25.819Z"
   },
   {
    "duration": 0,
    "start_time": "2023-01-18T21:39:25.820Z"
   },
   {
    "duration": 0,
    "start_time": "2023-01-18T21:39:25.821Z"
   },
   {
    "duration": 0,
    "start_time": "2023-01-18T21:39:25.822Z"
   },
   {
    "duration": 0,
    "start_time": "2023-01-18T21:39:25.823Z"
   },
   {
    "duration": 0,
    "start_time": "2023-01-18T21:39:25.824Z"
   },
   {
    "duration": 0,
    "start_time": "2023-01-18T21:39:25.825Z"
   },
   {
    "duration": 0,
    "start_time": "2023-01-18T21:39:25.826Z"
   },
   {
    "duration": 0,
    "start_time": "2023-01-18T21:39:25.828Z"
   },
   {
    "duration": 0,
    "start_time": "2023-01-18T21:39:25.828Z"
   },
   {
    "duration": 0,
    "start_time": "2023-01-18T21:39:25.892Z"
   },
   {
    "duration": 0,
    "start_time": "2023-01-18T21:39:25.893Z"
   },
   {
    "duration": 0,
    "start_time": "2023-01-18T21:39:25.894Z"
   },
   {
    "duration": 0,
    "start_time": "2023-01-18T21:39:25.896Z"
   },
   {
    "duration": 0,
    "start_time": "2023-01-18T21:39:25.897Z"
   },
   {
    "duration": 0,
    "start_time": "2023-01-18T21:39:25.898Z"
   },
   {
    "duration": 0,
    "start_time": "2023-01-18T21:39:25.900Z"
   },
   {
    "duration": 0,
    "start_time": "2023-01-18T21:39:25.901Z"
   },
   {
    "duration": 0,
    "start_time": "2023-01-18T21:39:25.902Z"
   },
   {
    "duration": 0,
    "start_time": "2023-01-18T21:39:25.903Z"
   },
   {
    "duration": 0,
    "start_time": "2023-01-18T21:39:25.904Z"
   },
   {
    "duration": 0,
    "start_time": "2023-01-18T21:39:25.905Z"
   },
   {
    "duration": 0,
    "start_time": "2023-01-18T21:39:25.907Z"
   },
   {
    "duration": 0,
    "start_time": "2023-01-18T21:39:25.908Z"
   },
   {
    "duration": 0,
    "start_time": "2023-01-18T21:39:25.909Z"
   },
   {
    "duration": 0,
    "start_time": "2023-01-18T21:39:25.910Z"
   },
   {
    "duration": 0,
    "start_time": "2023-01-18T21:39:25.911Z"
   },
   {
    "duration": 0,
    "start_time": "2023-01-18T21:39:25.912Z"
   },
   {
    "duration": 0,
    "start_time": "2023-01-18T21:39:25.913Z"
   },
   {
    "duration": 0,
    "start_time": "2023-01-18T21:39:25.914Z"
   },
   {
    "duration": 0,
    "start_time": "2023-01-18T21:39:25.916Z"
   },
   {
    "duration": 0,
    "start_time": "2023-01-18T21:39:25.917Z"
   },
   {
    "duration": 0,
    "start_time": "2023-01-18T21:39:25.917Z"
   },
   {
    "duration": 0,
    "start_time": "2023-01-18T21:39:25.919Z"
   },
   {
    "duration": 2081,
    "start_time": "2023-01-18T21:39:36.836Z"
   },
   {
    "duration": 1492,
    "start_time": "2023-01-18T21:39:38.919Z"
   },
   {
    "duration": 888,
    "start_time": "2023-01-18T21:39:40.412Z"
   },
   {
    "duration": 21,
    "start_time": "2023-01-18T21:39:41.302Z"
   },
   {
    "duration": 150,
    "start_time": "2023-01-18T21:39:41.324Z"
   },
   {
    "duration": 960,
    "start_time": "2023-01-18T21:39:41.476Z"
   },
   {
    "duration": 250,
    "start_time": "2023-01-18T21:39:42.438Z"
   },
   {
    "duration": 30,
    "start_time": "2023-01-18T21:39:42.691Z"
   },
   {
    "duration": 70,
    "start_time": "2023-01-18T21:39:42.722Z"
   },
   {
    "duration": 93,
    "start_time": "2023-01-18T21:39:42.794Z"
   },
   {
    "duration": 39,
    "start_time": "2023-01-18T21:39:42.892Z"
   },
   {
    "duration": 115,
    "start_time": "2023-01-18T21:39:42.933Z"
   },
   {
    "duration": 27,
    "start_time": "2023-01-18T21:39:43.050Z"
   },
   {
    "duration": 30,
    "start_time": "2023-01-18T21:39:43.091Z"
   },
   {
    "duration": 29,
    "start_time": "2023-01-18T21:39:43.123Z"
   },
   {
    "duration": 40,
    "start_time": "2023-01-18T21:39:43.153Z"
   },
   {
    "duration": 22,
    "start_time": "2023-01-18T21:39:43.194Z"
   },
   {
    "duration": 33,
    "start_time": "2023-01-18T21:39:43.217Z"
   },
   {
    "duration": 56,
    "start_time": "2023-01-18T21:39:43.252Z"
   },
   {
    "duration": 18,
    "start_time": "2023-01-18T21:39:43.310Z"
   },
   {
    "duration": 31,
    "start_time": "2023-01-18T21:39:43.330Z"
   },
   {
    "duration": 61,
    "start_time": "2023-01-18T21:39:43.363Z"
   },
   {
    "duration": 17,
    "start_time": "2023-01-18T21:39:43.425Z"
   },
   {
    "duration": 36,
    "start_time": "2023-01-18T21:39:43.444Z"
   },
   {
    "duration": 74,
    "start_time": "2023-01-18T21:39:43.491Z"
   },
   {
    "duration": 19,
    "start_time": "2023-01-18T21:39:43.567Z"
   },
   {
    "duration": 42,
    "start_time": "2023-01-18T21:39:43.587Z"
   },
   {
    "duration": 110,
    "start_time": "2023-01-18T21:39:43.633Z"
   },
   {
    "duration": 16,
    "start_time": "2023-01-18T21:39:43.745Z"
   },
   {
    "duration": 135,
    "start_time": "2023-01-18T21:39:43.763Z"
   },
   {
    "duration": 74,
    "start_time": "2023-01-18T21:39:43.900Z"
   },
   {
    "duration": 84,
    "start_time": "2023-01-18T21:39:43.976Z"
   },
   {
    "duration": 56,
    "start_time": "2023-01-18T21:39:44.062Z"
   },
   {
    "duration": 17,
    "start_time": "2023-01-18T21:39:44.120Z"
   },
   {
    "duration": 140,
    "start_time": "2023-01-18T21:39:44.139Z"
   },
   {
    "duration": 41,
    "start_time": "2023-01-18T21:39:44.280Z"
   },
   {
    "duration": 40,
    "start_time": "2023-01-18T21:39:44.322Z"
   },
   {
    "duration": 31,
    "start_time": "2023-01-18T21:39:44.364Z"
   },
   {
    "duration": 12,
    "start_time": "2023-01-18T21:39:44.396Z"
   },
   {
    "duration": 254,
    "start_time": "2023-01-18T21:39:44.410Z"
   },
   {
    "duration": 6,
    "start_time": "2023-01-18T21:39:44.666Z"
   },
   {
    "duration": 112,
    "start_time": "2023-01-18T21:39:44.674Z"
   },
   {
    "duration": 22,
    "start_time": "2023-01-18T21:39:44.788Z"
   },
   {
    "duration": 145,
    "start_time": "2023-01-18T21:39:44.812Z"
   },
   {
    "duration": 143,
    "start_time": "2023-01-18T21:39:44.959Z"
   },
   {
    "duration": 3889,
    "start_time": "2023-01-18T21:39:45.104Z"
   },
   {
    "duration": 19,
    "start_time": "2023-01-18T21:39:48.995Z"
   },
   {
    "duration": 1242,
    "start_time": "2023-01-18T21:39:49.015Z"
   },
   {
    "duration": 12,
    "start_time": "2023-01-18T21:39:50.259Z"
   },
   {
    "duration": 10,
    "start_time": "2023-01-18T21:39:50.273Z"
   },
   {
    "duration": 110,
    "start_time": "2023-01-18T21:39:50.284Z"
   },
   {
    "duration": 25,
    "start_time": "2023-01-18T21:39:50.396Z"
   },
   {
    "duration": 14,
    "start_time": "2023-01-18T21:39:50.423Z"
   },
   {
    "duration": 8,
    "start_time": "2023-01-18T21:39:50.438Z"
   },
   {
    "duration": 3,
    "start_time": "2023-01-18T21:39:50.448Z"
   },
   {
    "duration": 7,
    "start_time": "2023-01-18T21:39:50.452Z"
   },
   {
    "duration": 64,
    "start_time": "2023-01-18T21:39:50.460Z"
   },
   {
    "duration": 3,
    "start_time": "2023-01-18T21:39:50.525Z"
   },
   {
    "duration": 32,
    "start_time": "2023-01-18T21:39:50.529Z"
   },
   {
    "duration": 568,
    "start_time": "2023-01-18T21:39:50.563Z"
   },
   {
    "duration": 67,
    "start_time": "2023-01-18T21:39:51.132Z"
   },
   {
    "duration": 2,
    "start_time": "2023-01-18T21:39:51.201Z"
   },
   {
    "duration": 13,
    "start_time": "2023-01-18T21:39:51.205Z"
   },
   {
    "duration": 31,
    "start_time": "2023-01-18T21:39:51.220Z"
   },
   {
    "duration": 75,
    "start_time": "2023-01-18T21:39:51.253Z"
   },
   {
    "duration": 89,
    "start_time": "2023-01-18T21:39:51.329Z"
   },
   {
    "duration": 20,
    "start_time": "2023-01-18T21:39:51.420Z"
   },
   {
    "duration": 87,
    "start_time": "2023-01-18T21:39:51.441Z"
   },
   {
    "duration": 3,
    "start_time": "2023-01-18T21:39:51.529Z"
   },
   {
    "duration": 10,
    "start_time": "2023-01-18T21:39:51.534Z"
   },
   {
    "duration": 8,
    "start_time": "2023-01-18T21:39:51.545Z"
   },
   {
    "duration": 26,
    "start_time": "2023-01-18T21:39:51.554Z"
   },
   {
    "duration": 188588,
    "start_time": "2023-01-18T21:39:56.541Z"
   },
   {
    "duration": 15,
    "start_time": "2023-01-18T21:43:09.783Z"
   },
   {
    "duration": 3,
    "start_time": "2023-01-18T21:43:14.063Z"
   },
   {
    "duration": 10,
    "start_time": "2023-01-18T21:43:14.698Z"
   },
   {
    "duration": 19,
    "start_time": "2023-01-18T21:43:16.481Z"
   },
   {
    "duration": 180688,
    "start_time": "2023-01-18T21:43:17.504Z"
   },
   {
    "duration": 11,
    "start_time": "2023-01-18T21:46:24.456Z"
   },
   {
    "duration": 11,
    "start_time": "2023-01-18T21:46:25.980Z"
   },
   {
    "duration": 9,
    "start_time": "2023-01-18T21:46:28.255Z"
   },
   {
    "duration": 146,
    "start_time": "2023-01-18T21:46:29.457Z"
   },
   {
    "duration": 14,
    "start_time": "2023-01-18T21:46:35.369Z"
   },
   {
    "duration": 26,
    "start_time": "2023-01-18T21:46:36.003Z"
   },
   {
    "duration": 33816,
    "start_time": "2023-01-18T21:46:42.086Z"
   },
   {
    "duration": 5979,
    "start_time": "2023-01-18T21:47:30.030Z"
   },
   {
    "duration": 6,
    "start_time": "2023-01-18T21:47:36.012Z"
   },
   {
    "duration": 12,
    "start_time": "2023-01-18T21:47:36.020Z"
   },
   {
    "duration": 3055,
    "start_time": "2023-01-19T11:29:29.265Z"
   },
   {
    "duration": 1926,
    "start_time": "2023-01-19T11:29:32.323Z"
   },
   {
    "duration": 3048,
    "start_time": "2023-01-19T11:29:34.250Z"
   },
   {
    "duration": 21,
    "start_time": "2023-01-19T11:29:37.301Z"
   },
   {
    "duration": 161,
    "start_time": "2023-01-19T11:29:37.324Z"
   },
   {
    "duration": 1056,
    "start_time": "2023-01-19T11:29:37.487Z"
   },
   {
    "duration": 277,
    "start_time": "2023-01-19T11:29:38.545Z"
   },
   {
    "duration": 38,
    "start_time": "2023-01-19T11:29:38.824Z"
   },
   {
    "duration": 55,
    "start_time": "2023-01-19T11:29:38.864Z"
   },
   {
    "duration": 134,
    "start_time": "2023-01-19T11:29:38.922Z"
   },
   {
    "duration": 46,
    "start_time": "2023-01-19T11:29:39.057Z"
   },
   {
    "duration": 152,
    "start_time": "2023-01-19T11:29:39.104Z"
   },
   {
    "duration": 38,
    "start_time": "2023-01-19T11:29:39.258Z"
   },
   {
    "duration": 46,
    "start_time": "2023-01-19T11:29:39.298Z"
   },
   {
    "duration": 43,
    "start_time": "2023-01-19T11:29:39.346Z"
   },
   {
    "duration": 64,
    "start_time": "2023-01-19T11:29:39.391Z"
   },
   {
    "duration": 22,
    "start_time": "2023-01-19T11:29:39.457Z"
   },
   {
    "duration": 57,
    "start_time": "2023-01-19T11:29:39.481Z"
   },
   {
    "duration": 57,
    "start_time": "2023-01-19T11:29:39.540Z"
   },
   {
    "duration": 22,
    "start_time": "2023-01-19T11:29:39.599Z"
   },
   {
    "duration": 46,
    "start_time": "2023-01-19T11:29:39.623Z"
   },
   {
    "duration": 46,
    "start_time": "2023-01-19T11:29:39.671Z"
   },
   {
    "duration": 34,
    "start_time": "2023-01-19T11:29:39.719Z"
   },
   {
    "duration": 43,
    "start_time": "2023-01-19T11:29:39.755Z"
   },
   {
    "duration": 85,
    "start_time": "2023-01-19T11:29:39.800Z"
   },
   {
    "duration": 23,
    "start_time": "2023-01-19T11:29:39.888Z"
   },
   {
    "duration": 49,
    "start_time": "2023-01-19T11:29:39.913Z"
   },
   {
    "duration": 131,
    "start_time": "2023-01-19T11:29:39.966Z"
   },
   {
    "duration": 16,
    "start_time": "2023-01-19T11:29:40.099Z"
   },
   {
    "duration": 137,
    "start_time": "2023-01-19T11:29:40.117Z"
   },
   {
    "duration": 90,
    "start_time": "2023-01-19T11:29:40.256Z"
   },
   {
    "duration": 71,
    "start_time": "2023-01-19T11:29:40.348Z"
   },
   {
    "duration": 63,
    "start_time": "2023-01-19T11:29:40.421Z"
   },
   {
    "duration": 16,
    "start_time": "2023-01-19T11:29:40.486Z"
   },
   {
    "duration": 145,
    "start_time": "2023-01-19T11:29:40.504Z"
   },
   {
    "duration": 31,
    "start_time": "2023-01-19T11:29:40.651Z"
   },
   {
    "duration": 58,
    "start_time": "2023-01-19T11:29:40.683Z"
   },
   {
    "duration": 17,
    "start_time": "2023-01-19T11:29:40.743Z"
   },
   {
    "duration": 13,
    "start_time": "2023-01-19T11:29:40.761Z"
   },
   {
    "duration": 270,
    "start_time": "2023-01-19T11:29:40.776Z"
   },
   {
    "duration": 7,
    "start_time": "2023-01-19T11:29:41.048Z"
   },
   {
    "duration": 120,
    "start_time": "2023-01-19T11:29:41.057Z"
   },
   {
    "duration": 21,
    "start_time": "2023-01-19T11:29:41.179Z"
   },
   {
    "duration": 142,
    "start_time": "2023-01-19T11:29:41.202Z"
   },
   {
    "duration": 146,
    "start_time": "2023-01-19T11:29:41.345Z"
   },
   {
    "duration": 4092,
    "start_time": "2023-01-19T11:29:41.492Z"
   },
   {
    "duration": 19,
    "start_time": "2023-01-19T11:29:45.586Z"
   },
   {
    "duration": 1330,
    "start_time": "2023-01-19T11:29:45.606Z"
   },
   {
    "duration": 16,
    "start_time": "2023-01-19T11:29:46.938Z"
   },
   {
    "duration": 15,
    "start_time": "2023-01-19T11:29:46.955Z"
   },
   {
    "duration": 116,
    "start_time": "2023-01-19T11:29:46.971Z"
   },
   {
    "duration": 26,
    "start_time": "2023-01-19T11:29:47.089Z"
   },
   {
    "duration": 23,
    "start_time": "2023-01-19T11:29:47.117Z"
   },
   {
    "duration": 8,
    "start_time": "2023-01-19T11:29:47.142Z"
   },
   {
    "duration": 3,
    "start_time": "2023-01-19T11:29:47.152Z"
   },
   {
    "duration": 11,
    "start_time": "2023-01-19T11:29:47.156Z"
   },
   {
    "duration": 57,
    "start_time": "2023-01-19T11:29:47.168Z"
   },
   {
    "duration": 11,
    "start_time": "2023-01-19T11:29:47.227Z"
   },
   {
    "duration": 31,
    "start_time": "2023-01-19T11:29:47.240Z"
   },
   {
    "duration": 596,
    "start_time": "2023-01-19T11:29:47.273Z"
   },
   {
    "duration": 58,
    "start_time": "2023-01-19T11:29:47.871Z"
   },
   {
    "duration": 10,
    "start_time": "2023-01-19T11:29:47.930Z"
   },
   {
    "duration": 14,
    "start_time": "2023-01-19T11:29:47.941Z"
   },
   {
    "duration": 22,
    "start_time": "2023-01-19T11:29:47.956Z"
   },
   {
    "duration": 79,
    "start_time": "2023-01-19T11:29:47.980Z"
   },
   {
    "duration": 108,
    "start_time": "2023-01-19T11:29:48.061Z"
   },
   {
    "duration": 23,
    "start_time": "2023-01-19T11:29:48.171Z"
   },
   {
    "duration": 93,
    "start_time": "2023-01-19T11:29:48.196Z"
   },
   {
    "duration": 3,
    "start_time": "2023-01-19T11:29:48.291Z"
   },
   {
    "duration": 16,
    "start_time": "2023-01-19T11:29:48.296Z"
   },
   {
    "duration": 22,
    "start_time": "2023-01-19T11:29:48.314Z"
   },
   {
    "duration": 24,
    "start_time": "2023-01-19T11:29:48.338Z"
   },
   {
    "duration": 214112,
    "start_time": "2023-01-19T11:29:48.364Z"
   },
   {
    "duration": 16,
    "start_time": "2023-01-19T11:33:22.478Z"
   },
   {
    "duration": 9,
    "start_time": "2023-01-19T11:33:22.496Z"
   },
   {
    "duration": 40,
    "start_time": "2023-01-19T11:33:22.508Z"
   },
   {
    "duration": 37,
    "start_time": "2023-01-19T11:33:22.550Z"
   },
   {
    "duration": 196937,
    "start_time": "2023-01-19T11:33:22.590Z"
   },
   {
    "duration": 19,
    "start_time": "2023-01-19T11:36:39.529Z"
   },
   {
    "duration": 16,
    "start_time": "2023-01-19T11:36:39.550Z"
   },
   {
    "duration": 23,
    "start_time": "2023-01-19T11:36:39.568Z"
   },
   {
    "duration": 191,
    "start_time": "2023-01-19T11:36:39.597Z"
   },
   {
    "duration": 15,
    "start_time": "2023-01-19T11:36:39.790Z"
   },
   {
    "duration": 32,
    "start_time": "2023-01-19T11:36:39.807Z"
   },
   {
    "duration": 62617,
    "start_time": "2023-01-19T11:36:39.841Z"
   },
   {
    "duration": 6301,
    "start_time": "2023-01-19T11:37:42.460Z"
   },
   {
    "duration": 6,
    "start_time": "2023-01-19T11:37:48.763Z"
   },
   {
    "duration": 73,
    "start_time": "2023-01-19T11:37:48.770Z"
   },
   {
    "duration": 2986,
    "start_time": "2023-01-19T19:44:41.985Z"
   },
   {
    "duration": 1695,
    "start_time": "2023-01-19T19:44:44.973Z"
   },
   {
    "duration": 2969,
    "start_time": "2023-01-19T19:44:46.670Z"
   },
   {
    "duration": 16,
    "start_time": "2023-01-19T19:44:49.641Z"
   },
   {
    "duration": 120,
    "start_time": "2023-01-19T19:44:49.659Z"
   },
   {
    "duration": 902,
    "start_time": "2023-01-19T19:44:49.781Z"
   },
   {
    "duration": 237,
    "start_time": "2023-01-19T19:44:50.685Z"
   },
   {
    "duration": 35,
    "start_time": "2023-01-19T19:44:50.923Z"
   },
   {
    "duration": 52,
    "start_time": "2023-01-19T19:44:50.959Z"
   },
   {
    "duration": 119,
    "start_time": "2023-01-19T19:44:51.013Z"
   },
   {
    "duration": 50,
    "start_time": "2023-01-19T19:44:51.134Z"
   },
   {
    "duration": 121,
    "start_time": "2023-01-19T19:44:51.186Z"
   },
   {
    "duration": 31,
    "start_time": "2023-01-19T19:44:51.308Z"
   },
   {
    "duration": 18,
    "start_time": "2023-01-19T19:44:51.348Z"
   },
   {
    "duration": 34,
    "start_time": "2023-01-19T19:44:51.368Z"
   },
   {
    "duration": 52,
    "start_time": "2023-01-19T19:44:51.404Z"
   },
   {
    "duration": 20,
    "start_time": "2023-01-19T19:44:51.458Z"
   },
   {
    "duration": 32,
    "start_time": "2023-01-19T19:44:51.480Z"
   },
   {
    "duration": 57,
    "start_time": "2023-01-19T19:44:51.514Z"
   },
   {
    "duration": 24,
    "start_time": "2023-01-19T19:44:51.573Z"
   },
   {
    "duration": 56,
    "start_time": "2023-01-19T19:44:51.599Z"
   },
   {
    "duration": 50,
    "start_time": "2023-01-19T19:44:51.656Z"
   },
   {
    "duration": 43,
    "start_time": "2023-01-19T19:44:51.707Z"
   },
   {
    "duration": 39,
    "start_time": "2023-01-19T19:44:51.753Z"
   },
   {
    "duration": 54,
    "start_time": "2023-01-19T19:44:51.794Z"
   },
   {
    "duration": 20,
    "start_time": "2023-01-19T19:44:51.850Z"
   },
   {
    "duration": 44,
    "start_time": "2023-01-19T19:44:51.872Z"
   },
   {
    "duration": 131,
    "start_time": "2023-01-19T19:44:51.920Z"
   },
   {
    "duration": 16,
    "start_time": "2023-01-19T19:44:52.053Z"
   },
   {
    "duration": 121,
    "start_time": "2023-01-19T19:44:52.070Z"
   },
   {
    "duration": 77,
    "start_time": "2023-01-19T19:44:52.192Z"
   },
   {
    "duration": 78,
    "start_time": "2023-01-19T19:44:52.270Z"
   },
   {
    "duration": 47,
    "start_time": "2023-01-19T19:44:52.350Z"
   },
   {
    "duration": 17,
    "start_time": "2023-01-19T19:44:52.398Z"
   },
   {
    "duration": 152,
    "start_time": "2023-01-19T19:44:52.416Z"
   },
   {
    "duration": 30,
    "start_time": "2023-01-19T19:44:52.570Z"
   },
   {
    "duration": 56,
    "start_time": "2023-01-19T19:44:52.602Z"
   },
   {
    "duration": 15,
    "start_time": "2023-01-19T19:44:52.660Z"
   },
   {
    "duration": 13,
    "start_time": "2023-01-19T19:44:52.676Z"
   },
   {
    "duration": 272,
    "start_time": "2023-01-19T19:44:52.691Z"
   },
   {
    "duration": 7,
    "start_time": "2023-01-19T19:44:52.965Z"
   },
   {
    "duration": 114,
    "start_time": "2023-01-19T19:44:52.974Z"
   },
   {
    "duration": 24,
    "start_time": "2023-01-19T19:44:53.090Z"
   },
   {
    "duration": 131,
    "start_time": "2023-01-19T19:44:53.116Z"
   },
   {
    "duration": 134,
    "start_time": "2023-01-19T19:44:53.248Z"
   },
   {
    "duration": 3725,
    "start_time": "2023-01-19T19:44:53.383Z"
   },
   {
    "duration": 26,
    "start_time": "2023-01-19T19:44:57.110Z"
   },
   {
    "duration": 1292,
    "start_time": "2023-01-19T19:44:57.139Z"
   },
   {
    "duration": 17,
    "start_time": "2023-01-19T19:44:58.432Z"
   },
   {
    "duration": 9,
    "start_time": "2023-01-19T19:44:58.451Z"
   },
   {
    "duration": 99,
    "start_time": "2023-01-19T19:44:58.462Z"
   },
   {
    "duration": 22,
    "start_time": "2023-01-19T19:44:58.563Z"
   },
   {
    "duration": 13,
    "start_time": "2023-01-19T19:44:58.587Z"
   },
   {
    "duration": 8,
    "start_time": "2023-01-19T19:52:50.999Z"
   },
   {
    "duration": 3,
    "start_time": "2023-01-19T19:52:54.514Z"
   },
   {
    "duration": 4,
    "start_time": "2023-01-19T19:52:55.569Z"
   },
   {
    "duration": 38,
    "start_time": "2023-01-19T19:52:59.682Z"
   },
   {
    "duration": 107,
    "start_time": "2023-01-19T19:53:29.691Z"
   },
   {
    "duration": 3,
    "start_time": "2023-01-19T19:53:36.319Z"
   },
   {
    "duration": 29,
    "start_time": "2023-01-19T19:53:37.528Z"
   },
   {
    "duration": 3,
    "start_time": "2023-01-19T19:54:33.370Z"
   },
   {
    "duration": 9,
    "start_time": "2023-01-19T19:54:38.293Z"
   },
   {
    "duration": 701,
    "start_time": "2023-01-19T19:55:50.904Z"
   },
   {
    "duration": 9,
    "start_time": "2023-01-19T19:56:11.226Z"
   },
   {
    "duration": 10,
    "start_time": "2023-01-19T19:56:25.750Z"
   },
   {
    "duration": 17,
    "start_time": "2023-01-19T19:59:58.358Z"
   },
   {
    "duration": 12,
    "start_time": "2023-01-19T20:00:27.343Z"
   },
   {
    "duration": 13,
    "start_time": "2023-01-19T20:00:37.237Z"
   },
   {
    "duration": 13,
    "start_time": "2023-01-19T20:00:48.477Z"
   },
   {
    "duration": 728,
    "start_time": "2023-01-19T20:00:54.478Z"
   },
   {
    "duration": 734,
    "start_time": "2023-01-19T20:01:10.333Z"
   },
   {
    "duration": 729,
    "start_time": "2023-01-19T20:01:16.287Z"
   },
   {
    "duration": 19,
    "start_time": "2023-01-19T20:02:18.072Z"
   },
   {
    "duration": 15,
    "start_time": "2023-01-19T20:02:41.825Z"
   },
   {
    "duration": 95,
    "start_time": "2023-01-19T20:03:09.947Z"
   },
   {
    "duration": 95,
    "start_time": "2023-01-19T20:03:35.610Z"
   },
   {
    "duration": 688,
    "start_time": "2023-01-19T20:04:47.061Z"
   },
   {
    "duration": 281,
    "start_time": "2023-01-19T20:05:17.670Z"
   },
   {
    "duration": 293,
    "start_time": "2023-01-19T20:05:21.801Z"
   },
   {
    "duration": 9,
    "start_time": "2023-01-19T20:06:22.849Z"
   },
   {
    "duration": 15,
    "start_time": "2023-01-19T20:06:39.912Z"
   },
   {
    "duration": 4,
    "start_time": "2023-01-19T20:06:58.903Z"
   },
   {
    "duration": 13,
    "start_time": "2023-01-19T20:07:53.440Z"
   },
   {
    "duration": 281,
    "start_time": "2023-01-19T20:07:58.955Z"
   },
   {
    "duration": 286,
    "start_time": "2023-01-19T20:08:03.091Z"
   },
   {
    "duration": 8,
    "start_time": "2023-01-19T20:08:16.860Z"
   },
   {
    "duration": 4,
    "start_time": "2023-01-19T20:08:28.320Z"
   },
   {
    "duration": 5,
    "start_time": "2023-01-19T20:14:10.389Z"
   },
   {
    "duration": 325,
    "start_time": "2023-01-19T20:14:33.118Z"
   },
   {
    "duration": 4,
    "start_time": "2023-01-19T20:14:38.825Z"
   },
   {
    "duration": 311,
    "start_time": "2023-01-19T20:14:51.716Z"
   },
   {
    "duration": 4,
    "start_time": "2023-01-19T20:14:53.359Z"
   },
   {
    "duration": 13,
    "start_time": "2023-01-19T20:15:12.910Z"
   },
   {
    "duration": 4,
    "start_time": "2023-01-19T20:15:21.561Z"
   },
   {
    "duration": 4,
    "start_time": "2023-01-19T20:15:34.398Z"
   },
   {
    "duration": 5,
    "start_time": "2023-01-19T20:15:46.079Z"
   },
   {
    "duration": 5,
    "start_time": "2023-01-19T20:15:56.505Z"
   },
   {
    "duration": 9,
    "start_time": "2023-01-19T20:16:08.628Z"
   },
   {
    "duration": 4,
    "start_time": "2023-01-19T20:16:13.973Z"
   },
   {
    "duration": 9,
    "start_time": "2023-01-19T20:16:22.761Z"
   },
   {
    "duration": 11,
    "start_time": "2023-01-19T20:16:27.198Z"
   },
   {
    "duration": 4,
    "start_time": "2023-01-19T20:16:33.522Z"
   },
   {
    "duration": 5,
    "start_time": "2023-01-19T20:24:15.321Z"
   },
   {
    "duration": 10,
    "start_time": "2023-01-19T20:25:33.420Z"
   },
   {
    "duration": 99,
    "start_time": "2023-01-19T20:25:34.470Z"
   },
   {
    "duration": 5,
    "start_time": "2023-01-19T20:25:34.798Z"
   },
   {
    "duration": 20,
    "start_time": "2023-01-19T20:25:48.307Z"
   },
   {
    "duration": 16,
    "start_time": "2023-01-19T20:25:54.262Z"
   },
   {
    "duration": 2,
    "start_time": "2023-01-19T20:28:49.025Z"
   },
   {
    "duration": 5,
    "start_time": "2023-01-19T20:30:21.820Z"
   },
   {
    "duration": 37,
    "start_time": "2023-01-19T20:30:45.931Z"
   },
   {
    "duration": 68,
    "start_time": "2023-01-19T20:31:29.138Z"
   },
   {
    "duration": 2158,
    "start_time": "2023-01-19T20:32:31.118Z"
   },
   {
    "duration": 1421,
    "start_time": "2023-01-19T20:32:33.278Z"
   },
   {
    "duration": 829,
    "start_time": "2023-01-19T20:32:34.701Z"
   },
   {
    "duration": 29,
    "start_time": "2023-01-19T20:32:35.531Z"
   },
   {
    "duration": 145,
    "start_time": "2023-01-19T20:32:35.562Z"
   },
   {
    "duration": 951,
    "start_time": "2023-01-19T20:32:35.709Z"
   },
   {
    "duration": 238,
    "start_time": "2023-01-19T20:32:36.662Z"
   },
   {
    "duration": 27,
    "start_time": "2023-01-19T20:32:36.902Z"
   },
   {
    "duration": 66,
    "start_time": "2023-01-19T20:32:36.931Z"
   },
   {
    "duration": 126,
    "start_time": "2023-01-19T20:32:37.000Z"
   },
   {
    "duration": 64,
    "start_time": "2023-01-19T20:32:37.127Z"
   },
   {
    "duration": 125,
    "start_time": "2023-01-19T20:32:37.192Z"
   },
   {
    "duration": 44,
    "start_time": "2023-01-19T20:32:37.319Z"
   },
   {
    "duration": 53,
    "start_time": "2023-01-19T20:32:37.364Z"
   },
   {
    "duration": 45,
    "start_time": "2023-01-19T20:32:37.418Z"
   },
   {
    "duration": 48,
    "start_time": "2023-01-19T20:32:37.465Z"
   },
   {
    "duration": 18,
    "start_time": "2023-01-19T20:32:37.515Z"
   },
   {
    "duration": 46,
    "start_time": "2023-01-19T20:32:37.534Z"
   },
   {
    "duration": 57,
    "start_time": "2023-01-19T20:32:37.582Z"
   },
   {
    "duration": 28,
    "start_time": "2023-01-19T20:32:37.641Z"
   },
   {
    "duration": 39,
    "start_time": "2023-01-19T20:32:37.670Z"
   },
   {
    "duration": 91,
    "start_time": "2023-01-19T20:32:37.711Z"
   },
   {
    "duration": 20,
    "start_time": "2023-01-19T20:32:37.804Z"
   },
   {
    "duration": 47,
    "start_time": "2023-01-19T20:32:37.826Z"
   },
   {
    "duration": 64,
    "start_time": "2023-01-19T20:32:37.875Z"
   },
   {
    "duration": 27,
    "start_time": "2023-01-19T20:32:37.941Z"
   },
   {
    "duration": 47,
    "start_time": "2023-01-19T20:32:37.970Z"
   },
   {
    "duration": 152,
    "start_time": "2023-01-19T20:32:38.023Z"
   },
   {
    "duration": 15,
    "start_time": "2023-01-19T20:32:38.176Z"
   },
   {
    "duration": 126,
    "start_time": "2023-01-19T20:32:38.193Z"
   },
   {
    "duration": 89,
    "start_time": "2023-01-19T20:32:38.321Z"
   },
   {
    "duration": 77,
    "start_time": "2023-01-19T20:32:38.411Z"
   },
   {
    "duration": 44,
    "start_time": "2023-01-19T20:32:38.490Z"
   },
   {
    "duration": 27,
    "start_time": "2023-01-19T20:32:38.536Z"
   },
   {
    "duration": 141,
    "start_time": "2023-01-19T20:32:38.564Z"
   },
   {
    "duration": 28,
    "start_time": "2023-01-19T20:32:38.708Z"
   },
   {
    "duration": 45,
    "start_time": "2023-01-19T20:32:38.737Z"
   },
   {
    "duration": 14,
    "start_time": "2023-01-19T20:32:38.784Z"
   },
   {
    "duration": 35,
    "start_time": "2023-01-19T20:32:38.800Z"
   },
   {
    "duration": 267,
    "start_time": "2023-01-19T20:32:38.837Z"
   },
   {
    "duration": 7,
    "start_time": "2023-01-19T20:32:39.105Z"
   },
   {
    "duration": 146,
    "start_time": "2023-01-19T20:32:39.113Z"
   },
   {
    "duration": 22,
    "start_time": "2023-01-19T20:32:39.261Z"
   },
   {
    "duration": 137,
    "start_time": "2023-01-19T20:32:39.285Z"
   },
   {
    "duration": 149,
    "start_time": "2023-01-19T20:32:39.423Z"
   },
   {
    "duration": 3839,
    "start_time": "2023-01-19T20:32:39.573Z"
   },
   {
    "duration": 16,
    "start_time": "2023-01-19T20:32:43.414Z"
   },
   {
    "duration": 1240,
    "start_time": "2023-01-19T20:32:43.431Z"
   },
   {
    "duration": 16,
    "start_time": "2023-01-19T20:32:44.672Z"
   },
   {
    "duration": 11,
    "start_time": "2023-01-19T20:32:44.690Z"
   },
   {
    "duration": 106,
    "start_time": "2023-01-19T20:32:44.703Z"
   },
   {
    "duration": 5,
    "start_time": "2023-01-19T20:32:44.811Z"
   },
   {
    "duration": 45,
    "start_time": "2023-01-19T20:32:44.817Z"
   },
   {
    "duration": 12,
    "start_time": "2023-01-19T20:32:44.864Z"
   },
   {
    "duration": 4,
    "start_time": "2023-01-19T20:32:44.878Z"
   },
   {
    "duration": 4,
    "start_time": "2023-01-19T20:32:44.883Z"
   },
   {
    "duration": 5,
    "start_time": "2023-01-19T20:32:44.888Z"
   },
   {
    "duration": 65,
    "start_time": "2023-01-19T20:32:44.894Z"
   },
   {
    "duration": 578,
    "start_time": "2023-01-19T20:32:44.960Z"
   },
   {
    "duration": 45,
    "start_time": "2023-01-19T20:32:45.539Z"
   },
   {
    "duration": 76,
    "start_time": "2023-01-19T20:32:45.586Z"
   },
   {
    "duration": 4,
    "start_time": "2023-01-19T20:32:45.664Z"
   },
   {
    "duration": 12,
    "start_time": "2023-01-19T20:32:45.669Z"
   },
   {
    "duration": 20,
    "start_time": "2023-01-19T20:32:45.682Z"
   },
   {
    "duration": 76,
    "start_time": "2023-01-19T20:32:45.703Z"
   },
   {
    "duration": 93,
    "start_time": "2023-01-19T20:32:45.781Z"
   },
   {
    "duration": 115,
    "start_time": "2023-01-19T20:32:45.876Z"
   },
   {
    "duration": 0,
    "start_time": "2023-01-19T20:32:45.993Z"
   },
   {
    "duration": 0,
    "start_time": "2023-01-19T20:32:45.994Z"
   },
   {
    "duration": 0,
    "start_time": "2023-01-19T20:32:45.996Z"
   },
   {
    "duration": 0,
    "start_time": "2023-01-19T20:32:45.997Z"
   },
   {
    "duration": 0,
    "start_time": "2023-01-19T20:32:45.997Z"
   },
   {
    "duration": 0,
    "start_time": "2023-01-19T20:32:45.999Z"
   },
   {
    "duration": 0,
    "start_time": "2023-01-19T20:32:46.000Z"
   },
   {
    "duration": 0,
    "start_time": "2023-01-19T20:32:46.001Z"
   },
   {
    "duration": 0,
    "start_time": "2023-01-19T20:32:46.002Z"
   },
   {
    "duration": 0,
    "start_time": "2023-01-19T20:32:46.003Z"
   },
   {
    "duration": 0,
    "start_time": "2023-01-19T20:32:46.004Z"
   },
   {
    "duration": 0,
    "start_time": "2023-01-19T20:32:46.005Z"
   },
   {
    "duration": 0,
    "start_time": "2023-01-19T20:32:46.006Z"
   },
   {
    "duration": 0,
    "start_time": "2023-01-19T20:32:46.007Z"
   },
   {
    "duration": 0,
    "start_time": "2023-01-19T20:32:46.008Z"
   },
   {
    "duration": 0,
    "start_time": "2023-01-19T20:32:46.009Z"
   },
   {
    "duration": 0,
    "start_time": "2023-01-19T20:32:46.010Z"
   },
   {
    "duration": 0,
    "start_time": "2023-01-19T20:32:46.011Z"
   },
   {
    "duration": 0,
    "start_time": "2023-01-19T20:32:46.012Z"
   },
   {
    "duration": 0,
    "start_time": "2023-01-19T20:32:46.054Z"
   },
   {
    "duration": 0,
    "start_time": "2023-01-19T20:32:46.054Z"
   },
   {
    "duration": 22,
    "start_time": "2023-01-19T20:36:08.537Z"
   },
   {
    "duration": 16,
    "start_time": "2023-01-19T20:36:10.060Z"
   },
   {
    "duration": 80,
    "start_time": "2023-01-19T20:36:25.680Z"
   },
   {
    "duration": 2083,
    "start_time": "2023-01-19T20:36:37.403Z"
   },
   {
    "duration": 1361,
    "start_time": "2023-01-19T20:36:39.488Z"
   },
   {
    "duration": 781,
    "start_time": "2023-01-19T20:36:40.858Z"
   },
   {
    "duration": 23,
    "start_time": "2023-01-19T20:36:41.640Z"
   },
   {
    "duration": 147,
    "start_time": "2023-01-19T20:36:41.665Z"
   },
   {
    "duration": 899,
    "start_time": "2023-01-19T20:36:41.813Z"
   },
   {
    "duration": 267,
    "start_time": "2023-01-19T20:36:42.714Z"
   },
   {
    "duration": 28,
    "start_time": "2023-01-19T20:36:42.983Z"
   },
   {
    "duration": 69,
    "start_time": "2023-01-19T20:36:43.012Z"
   },
   {
    "duration": 119,
    "start_time": "2023-01-19T20:36:43.083Z"
   },
   {
    "duration": 68,
    "start_time": "2023-01-19T20:36:43.204Z"
   },
   {
    "duration": 122,
    "start_time": "2023-01-19T20:36:43.274Z"
   },
   {
    "duration": 32,
    "start_time": "2023-01-19T20:36:43.398Z"
   },
   {
    "duration": 44,
    "start_time": "2023-01-19T20:36:43.431Z"
   },
   {
    "duration": 48,
    "start_time": "2023-01-19T20:36:43.476Z"
   },
   {
    "duration": 69,
    "start_time": "2023-01-19T20:36:43.526Z"
   },
   {
    "duration": 20,
    "start_time": "2023-01-19T20:36:43.596Z"
   },
   {
    "duration": 59,
    "start_time": "2023-01-19T20:36:43.617Z"
   },
   {
    "duration": 39,
    "start_time": "2023-01-19T20:36:43.678Z"
   },
   {
    "duration": 18,
    "start_time": "2023-01-19T20:36:43.718Z"
   },
   {
    "duration": 53,
    "start_time": "2023-01-19T20:36:43.737Z"
   },
   {
    "duration": 40,
    "start_time": "2023-01-19T20:36:43.792Z"
   },
   {
    "duration": 27,
    "start_time": "2023-01-19T20:36:43.833Z"
   },
   {
    "duration": 51,
    "start_time": "2023-01-19T20:36:43.861Z"
   },
   {
    "duration": 96,
    "start_time": "2023-01-19T20:36:43.913Z"
   },
   {
    "duration": 46,
    "start_time": "2023-01-19T20:36:44.011Z"
   },
   {
    "duration": 78,
    "start_time": "2023-01-19T20:36:44.059Z"
   },
   {
    "duration": 161,
    "start_time": "2023-01-19T20:36:44.143Z"
   },
   {
    "duration": 14,
    "start_time": "2023-01-19T20:36:44.306Z"
   },
   {
    "duration": 161,
    "start_time": "2023-01-19T20:36:44.321Z"
   },
   {
    "duration": 80,
    "start_time": "2023-01-19T20:36:44.484Z"
   },
   {
    "duration": 96,
    "start_time": "2023-01-19T20:36:44.566Z"
   },
   {
    "duration": 50,
    "start_time": "2023-01-19T20:36:44.666Z"
   },
   {
    "duration": 58,
    "start_time": "2023-01-19T20:36:44.718Z"
   },
   {
    "duration": 170,
    "start_time": "2023-01-19T20:36:44.778Z"
   },
   {
    "duration": 40,
    "start_time": "2023-01-19T20:36:44.949Z"
   },
   {
    "duration": 69,
    "start_time": "2023-01-19T20:36:44.991Z"
   },
   {
    "duration": 21,
    "start_time": "2023-01-19T20:36:45.062Z"
   },
   {
    "duration": 56,
    "start_time": "2023-01-19T20:36:45.084Z"
   },
   {
    "duration": 270,
    "start_time": "2023-01-19T20:36:45.141Z"
   },
   {
    "duration": 10,
    "start_time": "2023-01-19T20:36:45.413Z"
   },
   {
    "duration": 301,
    "start_time": "2023-01-19T20:36:45.425Z"
   },
   {
    "duration": 33,
    "start_time": "2023-01-19T20:36:45.728Z"
   },
   {
    "duration": 168,
    "start_time": "2023-01-19T20:36:45.763Z"
   },
   {
    "duration": 153,
    "start_time": "2023-01-19T20:36:45.933Z"
   },
   {
    "duration": 4052,
    "start_time": "2023-01-19T20:36:46.088Z"
   },
   {
    "duration": 25,
    "start_time": "2023-01-19T20:36:50.141Z"
   },
   {
    "duration": 1296,
    "start_time": "2023-01-19T20:36:50.168Z"
   },
   {
    "duration": 15,
    "start_time": "2023-01-19T20:36:51.466Z"
   },
   {
    "duration": 10,
    "start_time": "2023-01-19T20:36:51.483Z"
   },
   {
    "duration": 96,
    "start_time": "2023-01-19T20:36:51.494Z"
   },
   {
    "duration": 4,
    "start_time": "2023-01-19T20:36:51.592Z"
   },
   {
    "duration": 24,
    "start_time": "2023-01-19T20:36:51.597Z"
   },
   {
    "duration": 33,
    "start_time": "2023-01-19T20:36:51.622Z"
   },
   {
    "duration": 6,
    "start_time": "2023-01-19T20:36:51.656Z"
   },
   {
    "duration": 8,
    "start_time": "2023-01-19T20:36:51.664Z"
   },
   {
    "duration": 6,
    "start_time": "2023-01-19T20:36:51.673Z"
   },
   {
    "duration": 44,
    "start_time": "2023-01-19T20:36:51.681Z"
   },
   {
    "duration": 577,
    "start_time": "2023-01-19T20:36:51.727Z"
   },
   {
    "duration": 44,
    "start_time": "2023-01-19T20:36:52.306Z"
   },
   {
    "duration": 70,
    "start_time": "2023-01-19T20:36:52.351Z"
   },
   {
    "duration": 3,
    "start_time": "2023-01-19T20:36:52.423Z"
   },
   {
    "duration": 9,
    "start_time": "2023-01-19T20:36:52.427Z"
   },
   {
    "duration": 27,
    "start_time": "2023-01-19T20:36:52.438Z"
   },
   {
    "duration": 81,
    "start_time": "2023-01-19T20:36:52.468Z"
   },
   {
    "duration": 79,
    "start_time": "2023-01-19T20:36:52.557Z"
   },
   {
    "duration": 27,
    "start_time": "2023-01-19T20:36:52.638Z"
   },
   {
    "duration": 71,
    "start_time": "2023-01-19T20:36:52.666Z"
   },
   {
    "duration": 3,
    "start_time": "2023-01-19T20:36:52.738Z"
   },
   {
    "duration": 19,
    "start_time": "2023-01-19T20:36:52.748Z"
   },
   {
    "duration": 10,
    "start_time": "2023-01-19T20:36:52.768Z"
   },
   {
    "duration": 15,
    "start_time": "2023-01-19T20:36:52.779Z"
   },
   {
    "duration": 700193,
    "start_time": "2023-01-19T20:36:52.796Z"
   },
   {
    "duration": 0,
    "start_time": "2023-01-19T20:48:32.991Z"
   },
   {
    "duration": 0,
    "start_time": "2023-01-19T20:48:32.992Z"
   },
   {
    "duration": 0,
    "start_time": "2023-01-19T20:48:32.992Z"
   },
   {
    "duration": 0,
    "start_time": "2023-01-19T20:48:32.994Z"
   },
   {
    "duration": 0,
    "start_time": "2023-01-19T20:48:32.995Z"
   },
   {
    "duration": 0,
    "start_time": "2023-01-19T20:48:32.996Z"
   },
   {
    "duration": 0,
    "start_time": "2023-01-19T20:48:32.997Z"
   },
   {
    "duration": 1,
    "start_time": "2023-01-19T20:48:32.998Z"
   },
   {
    "duration": 0,
    "start_time": "2023-01-19T20:48:32.999Z"
   },
   {
    "duration": 0,
    "start_time": "2023-01-19T20:48:33.000Z"
   },
   {
    "duration": 0,
    "start_time": "2023-01-19T20:48:33.001Z"
   },
   {
    "duration": 0,
    "start_time": "2023-01-19T20:48:33.002Z"
   },
   {
    "duration": 0,
    "start_time": "2023-01-19T20:48:33.003Z"
   },
   {
    "duration": 0,
    "start_time": "2023-01-19T20:48:33.004Z"
   },
   {
    "duration": 0,
    "start_time": "2023-01-19T20:48:33.004Z"
   },
   {
    "duration": 12,
    "start_time": "2023-01-19T20:48:41.185Z"
   },
   {
    "duration": 2136,
    "start_time": "2023-01-19T20:49:50.988Z"
   },
   {
    "duration": 5,
    "start_time": "2023-01-19T20:49:53.126Z"
   },
   {
    "duration": 811,
    "start_time": "2023-01-19T20:49:53.132Z"
   },
   {
    "duration": 24,
    "start_time": "2023-01-19T20:49:53.945Z"
   },
   {
    "duration": 138,
    "start_time": "2023-01-19T20:49:53.970Z"
   },
   {
    "duration": 819,
    "start_time": "2023-01-19T20:49:54.110Z"
   },
   {
    "duration": 239,
    "start_time": "2023-01-19T20:49:54.931Z"
   },
   {
    "duration": 33,
    "start_time": "2023-01-19T20:49:55.172Z"
   },
   {
    "duration": 83,
    "start_time": "2023-01-19T20:49:55.207Z"
   },
   {
    "duration": 150,
    "start_time": "2023-01-19T20:49:55.293Z"
   },
   {
    "duration": 50,
    "start_time": "2023-01-19T20:49:55.445Z"
   },
   {
    "duration": 110,
    "start_time": "2023-01-19T20:49:55.497Z"
   },
   {
    "duration": 28,
    "start_time": "2023-01-19T20:49:55.609Z"
   },
   {
    "duration": 36,
    "start_time": "2023-01-19T20:49:55.639Z"
   },
   {
    "duration": 31,
    "start_time": "2023-01-19T20:49:55.677Z"
   },
   {
    "duration": 55,
    "start_time": "2023-01-19T20:49:55.709Z"
   },
   {
    "duration": 18,
    "start_time": "2023-01-19T20:49:55.766Z"
   },
   {
    "duration": 34,
    "start_time": "2023-01-19T20:49:55.785Z"
   },
   {
    "duration": 52,
    "start_time": "2023-01-19T20:49:55.820Z"
   },
   {
    "duration": 22,
    "start_time": "2023-01-19T20:49:55.874Z"
   },
   {
    "duration": 64,
    "start_time": "2023-01-19T20:49:55.898Z"
   },
   {
    "duration": 44,
    "start_time": "2023-01-19T20:49:55.966Z"
   },
   {
    "duration": 22,
    "start_time": "2023-01-19T20:49:56.011Z"
   },
   {
    "duration": 45,
    "start_time": "2023-01-19T20:49:56.035Z"
   },
   {
    "duration": 55,
    "start_time": "2023-01-19T20:49:56.081Z"
   },
   {
    "duration": 22,
    "start_time": "2023-01-19T20:49:56.138Z"
   },
   {
    "duration": 37,
    "start_time": "2023-01-19T20:49:56.163Z"
   },
   {
    "duration": 131,
    "start_time": "2023-01-19T20:49:56.205Z"
   },
   {
    "duration": 25,
    "start_time": "2023-01-19T20:49:56.339Z"
   },
   {
    "duration": 130,
    "start_time": "2023-01-19T20:49:56.365Z"
   },
   {
    "duration": 90,
    "start_time": "2023-01-19T20:49:56.497Z"
   },
   {
    "duration": 75,
    "start_time": "2023-01-19T20:49:56.589Z"
   },
   {
    "duration": 41,
    "start_time": "2023-01-19T20:49:56.666Z"
   },
   {
    "duration": 16,
    "start_time": "2023-01-19T20:49:56.709Z"
   },
   {
    "duration": 172,
    "start_time": "2023-01-19T20:49:56.727Z"
   },
   {
    "duration": 37,
    "start_time": "2023-01-19T20:49:56.900Z"
   },
   {
    "duration": 39,
    "start_time": "2023-01-19T20:49:56.949Z"
   },
   {
    "duration": 14,
    "start_time": "2023-01-19T20:49:56.990Z"
   },
   {
    "duration": 12,
    "start_time": "2023-01-19T20:49:57.006Z"
   },
   {
    "duration": 190,
    "start_time": "2023-01-19T20:49:57.019Z"
   },
   {
    "duration": 7,
    "start_time": "2023-01-19T20:49:57.211Z"
   },
   {
    "duration": 137,
    "start_time": "2023-01-19T20:49:57.220Z"
   },
   {
    "duration": 22,
    "start_time": "2023-01-19T20:49:57.359Z"
   },
   {
    "duration": 130,
    "start_time": "2023-01-19T20:49:57.383Z"
   },
   {
    "duration": 150,
    "start_time": "2023-01-19T20:49:57.514Z"
   },
   {
    "duration": 3814,
    "start_time": "2023-01-19T20:49:57.666Z"
   },
   {
    "duration": 25,
    "start_time": "2023-01-19T20:50:01.481Z"
   },
   {
    "duration": 1208,
    "start_time": "2023-01-19T20:50:01.508Z"
   },
   {
    "duration": 33,
    "start_time": "2023-01-19T20:50:02.718Z"
   },
   {
    "duration": 13,
    "start_time": "2023-01-19T20:50:02.754Z"
   },
   {
    "duration": 134,
    "start_time": "2023-01-19T20:50:02.768Z"
   },
   {
    "duration": 5,
    "start_time": "2023-01-19T20:50:02.904Z"
   },
   {
    "duration": 45,
    "start_time": "2023-01-19T20:50:02.911Z"
   },
   {
    "duration": 18,
    "start_time": "2023-01-19T20:50:02.957Z"
   },
   {
    "duration": 9,
    "start_time": "2023-01-19T20:50:02.976Z"
   },
   {
    "duration": 4,
    "start_time": "2023-01-19T20:50:02.987Z"
   },
   {
    "duration": 13,
    "start_time": "2023-01-19T20:50:02.992Z"
   },
   {
    "duration": 67,
    "start_time": "2023-01-19T20:50:03.007Z"
   },
   {
    "duration": 581,
    "start_time": "2023-01-19T20:50:03.076Z"
   },
   {
    "duration": 43,
    "start_time": "2023-01-19T20:50:03.659Z"
   },
   {
    "duration": 158,
    "start_time": "2023-01-19T20:50:03.704Z"
   },
   {
    "duration": 3,
    "start_time": "2023-01-19T20:50:03.863Z"
   },
   {
    "duration": 39,
    "start_time": "2023-01-19T20:50:03.867Z"
   },
   {
    "duration": 49,
    "start_time": "2023-01-19T20:50:03.908Z"
   },
   {
    "duration": 109,
    "start_time": "2023-01-19T20:50:03.959Z"
   },
   {
    "duration": 96,
    "start_time": "2023-01-19T20:50:04.070Z"
   },
   {
    "duration": 19,
    "start_time": "2023-01-19T20:50:04.168Z"
   },
   {
    "duration": 97,
    "start_time": "2023-01-19T20:50:04.190Z"
   },
   {
    "duration": 3,
    "start_time": "2023-01-19T20:50:04.289Z"
   },
   {
    "duration": 52,
    "start_time": "2023-01-19T20:50:04.293Z"
   },
   {
    "duration": 50,
    "start_time": "2023-01-19T20:50:04.347Z"
   },
   {
    "duration": 34,
    "start_time": "2023-01-19T20:50:04.399Z"
   },
   {
    "duration": 358064,
    "start_time": "2023-01-19T20:50:08.054Z"
   },
   {
    "duration": 0,
    "start_time": "2023-01-19T20:56:06.121Z"
   },
   {
    "duration": 2215,
    "start_time": "2023-01-19T20:56:33.241Z"
   },
   {
    "duration": 6,
    "start_time": "2023-01-19T20:56:35.463Z"
   },
   {
    "duration": 775,
    "start_time": "2023-01-19T20:56:35.471Z"
   },
   {
    "duration": 23,
    "start_time": "2023-01-19T20:56:36.248Z"
   },
   {
    "duration": 127,
    "start_time": "2023-01-19T20:56:36.273Z"
   },
   {
    "duration": 791,
    "start_time": "2023-01-19T20:56:36.402Z"
   },
   {
    "duration": 224,
    "start_time": "2023-01-19T20:56:37.194Z"
   },
   {
    "duration": 39,
    "start_time": "2023-01-19T20:56:37.420Z"
   },
   {
    "duration": 51,
    "start_time": "2023-01-19T20:56:37.463Z"
   },
   {
    "duration": 137,
    "start_time": "2023-01-19T20:56:37.517Z"
   },
   {
    "duration": 39,
    "start_time": "2023-01-19T20:56:37.662Z"
   },
   {
    "duration": 102,
    "start_time": "2023-01-19T20:56:37.703Z"
   },
   {
    "duration": 45,
    "start_time": "2023-01-19T20:56:37.807Z"
   },
   {
    "duration": 24,
    "start_time": "2023-01-19T20:56:37.854Z"
   },
   {
    "duration": 31,
    "start_time": "2023-01-19T20:56:37.880Z"
   },
   {
    "duration": 67,
    "start_time": "2023-01-19T20:56:37.913Z"
   },
   {
    "duration": 23,
    "start_time": "2023-01-19T20:56:37.982Z"
   },
   {
    "duration": 63,
    "start_time": "2023-01-19T20:56:38.007Z"
   },
   {
    "duration": 40,
    "start_time": "2023-01-19T20:56:38.072Z"
   },
   {
    "duration": 17,
    "start_time": "2023-01-19T20:56:38.113Z"
   },
   {
    "duration": 40,
    "start_time": "2023-01-19T20:56:38.132Z"
   },
   {
    "duration": 38,
    "start_time": "2023-01-19T20:56:38.174Z"
   },
   {
    "duration": 38,
    "start_time": "2023-01-19T20:56:38.214Z"
   },
   {
    "duration": 44,
    "start_time": "2023-01-19T20:56:38.262Z"
   },
   {
    "duration": 46,
    "start_time": "2023-01-19T20:56:38.308Z"
   },
   {
    "duration": 29,
    "start_time": "2023-01-19T20:56:38.355Z"
   },
   {
    "duration": 31,
    "start_time": "2023-01-19T20:56:38.387Z"
   },
   {
    "duration": 187,
    "start_time": "2023-01-19T20:56:38.423Z"
   },
   {
    "duration": 16,
    "start_time": "2023-01-19T20:56:38.612Z"
   },
   {
    "duration": 142,
    "start_time": "2023-01-19T20:56:38.630Z"
   },
   {
    "duration": 92,
    "start_time": "2023-01-19T20:56:38.774Z"
   },
   {
    "duration": 60,
    "start_time": "2023-01-19T20:56:38.868Z"
   },
   {
    "duration": 45,
    "start_time": "2023-01-19T20:56:38.930Z"
   },
   {
    "duration": 16,
    "start_time": "2023-01-19T20:56:38.976Z"
   },
   {
    "duration": 140,
    "start_time": "2023-01-19T20:56:38.993Z"
   },
   {
    "duration": 39,
    "start_time": "2023-01-19T20:56:39.135Z"
   },
   {
    "duration": 38,
    "start_time": "2023-01-19T20:56:39.175Z"
   },
   {
    "duration": 15,
    "start_time": "2023-01-19T20:56:39.214Z"
   },
   {
    "duration": 32,
    "start_time": "2023-01-19T20:56:39.231Z"
   },
   {
    "duration": 166,
    "start_time": "2023-01-19T20:56:39.267Z"
   },
   {
    "duration": 7,
    "start_time": "2023-01-19T20:56:39.435Z"
   },
   {
    "duration": 129,
    "start_time": "2023-01-19T20:56:39.448Z"
   },
   {
    "duration": 24,
    "start_time": "2023-01-19T20:56:39.579Z"
   },
   {
    "duration": 134,
    "start_time": "2023-01-19T20:56:39.605Z"
   },
   {
    "duration": 152,
    "start_time": "2023-01-19T20:56:39.741Z"
   },
   {
    "duration": 3747,
    "start_time": "2023-01-19T20:56:39.895Z"
   },
   {
    "duration": 27,
    "start_time": "2023-01-19T20:56:43.647Z"
   },
   {
    "duration": 1213,
    "start_time": "2023-01-19T20:56:43.675Z"
   },
   {
    "duration": 17,
    "start_time": "2023-01-19T20:56:44.890Z"
   },
   {
    "duration": 11,
    "start_time": "2023-01-19T20:56:44.908Z"
   },
   {
    "duration": 123,
    "start_time": "2023-01-19T20:56:44.920Z"
   },
   {
    "duration": 7,
    "start_time": "2023-01-19T20:56:45.045Z"
   },
   {
    "duration": 34,
    "start_time": "2023-01-19T20:56:45.053Z"
   },
   {
    "duration": 13,
    "start_time": "2023-01-19T20:56:45.089Z"
   },
   {
    "duration": 5,
    "start_time": "2023-01-19T20:56:45.103Z"
   },
   {
    "duration": 3,
    "start_time": "2023-01-19T20:56:45.109Z"
   },
   {
    "duration": 5,
    "start_time": "2023-01-19T20:56:45.114Z"
   },
   {
    "duration": 64,
    "start_time": "2023-01-19T20:56:45.121Z"
   },
   {
    "duration": 592,
    "start_time": "2023-01-19T20:56:45.187Z"
   },
   {
    "duration": 39,
    "start_time": "2023-01-19T20:56:45.781Z"
   },
   {
    "duration": 67,
    "start_time": "2023-01-19T20:56:45.822Z"
   },
   {
    "duration": 3,
    "start_time": "2023-01-19T20:56:45.892Z"
   },
   {
    "duration": 15,
    "start_time": "2023-01-19T20:56:45.896Z"
   },
   {
    "duration": 26,
    "start_time": "2023-01-19T20:56:45.912Z"
   },
   {
    "duration": 90,
    "start_time": "2023-01-19T20:56:45.940Z"
   },
   {
    "duration": 91,
    "start_time": "2023-01-19T20:56:46.032Z"
   },
   {
    "duration": 24,
    "start_time": "2023-01-19T20:56:46.125Z"
   },
   {
    "duration": 97,
    "start_time": "2023-01-19T20:56:46.151Z"
   },
   {
    "duration": 9,
    "start_time": "2023-01-19T20:56:46.253Z"
   },
   {
    "duration": 17,
    "start_time": "2023-01-19T20:56:46.268Z"
   },
   {
    "duration": 11,
    "start_time": "2023-01-19T20:56:46.287Z"
   },
   {
    "duration": 17,
    "start_time": "2023-01-19T20:56:46.299Z"
   },
   {
    "duration": 29,
    "start_time": "2023-01-19T20:56:46.320Z"
   },
   {
    "duration": 9,
    "start_time": "2023-01-19T20:57:01.308Z"
   },
   {
    "duration": 4,
    "start_time": "2023-01-19T20:57:06.963Z"
   },
   {
    "duration": 5,
    "start_time": "2023-01-19T20:57:19.068Z"
   },
   {
    "duration": 10,
    "start_time": "2023-01-19T20:57:32.261Z"
   },
   {
    "duration": 15,
    "start_time": "2023-01-19T20:57:43.620Z"
   },
   {
    "duration": 16,
    "start_time": "2023-01-19T20:59:21.909Z"
   },
   {
    "duration": 19,
    "start_time": "2023-01-19T20:59:30.320Z"
   },
   {
    "duration": 30,
    "start_time": "2023-01-19T20:59:37.267Z"
   },
   {
    "duration": 2226,
    "start_time": "2023-01-19T21:01:14.700Z"
   },
   {
    "duration": 1409,
    "start_time": "2023-01-19T21:01:16.928Z"
   },
   {
    "duration": 862,
    "start_time": "2023-01-19T21:01:18.338Z"
   },
   {
    "duration": 18,
    "start_time": "2023-01-19T21:01:19.202Z"
   },
   {
    "duration": 162,
    "start_time": "2023-01-19T21:01:19.221Z"
   },
   {
    "duration": 1008,
    "start_time": "2023-01-19T21:01:19.385Z"
   },
   {
    "duration": 276,
    "start_time": "2023-01-19T21:01:20.395Z"
   },
   {
    "duration": 29,
    "start_time": "2023-01-19T21:01:20.673Z"
   },
   {
    "duration": 75,
    "start_time": "2023-01-19T21:01:20.703Z"
   },
   {
    "duration": 135,
    "start_time": "2023-01-19T21:01:20.780Z"
   },
   {
    "duration": 62,
    "start_time": "2023-01-19T21:01:20.916Z"
   },
   {
    "duration": 130,
    "start_time": "2023-01-19T21:01:20.980Z"
   },
   {
    "duration": 46,
    "start_time": "2023-01-19T21:01:21.111Z"
   },
   {
    "duration": 32,
    "start_time": "2023-01-19T21:01:21.158Z"
   },
   {
    "duration": 31,
    "start_time": "2023-01-19T21:01:21.192Z"
   },
   {
    "duration": 45,
    "start_time": "2023-01-19T21:01:21.225Z"
   },
   {
    "duration": 20,
    "start_time": "2023-01-19T21:01:21.271Z"
   },
   {
    "duration": 31,
    "start_time": "2023-01-19T21:01:21.292Z"
   },
   {
    "duration": 66,
    "start_time": "2023-01-19T21:01:21.325Z"
   },
   {
    "duration": 18,
    "start_time": "2023-01-19T21:01:21.392Z"
   },
   {
    "duration": 50,
    "start_time": "2023-01-19T21:01:21.412Z"
   },
   {
    "duration": 44,
    "start_time": "2023-01-19T21:01:21.463Z"
   },
   {
    "duration": 18,
    "start_time": "2023-01-19T21:01:21.508Z"
   },
   {
    "duration": 50,
    "start_time": "2023-01-19T21:01:21.527Z"
   },
   {
    "duration": 43,
    "start_time": "2023-01-19T21:01:21.579Z"
   },
   {
    "duration": 45,
    "start_time": "2023-01-19T21:01:21.624Z"
   },
   {
    "duration": 31,
    "start_time": "2023-01-19T21:01:21.670Z"
   },
   {
    "duration": 148,
    "start_time": "2023-01-19T21:01:21.704Z"
   },
   {
    "duration": 18,
    "start_time": "2023-01-19T21:01:21.854Z"
   },
   {
    "duration": 145,
    "start_time": "2023-01-19T21:01:21.874Z"
   },
   {
    "duration": 91,
    "start_time": "2023-01-19T21:01:22.021Z"
   },
   {
    "duration": 78,
    "start_time": "2023-01-19T21:01:22.113Z"
   },
   {
    "duration": 59,
    "start_time": "2023-01-19T21:01:22.192Z"
   },
   {
    "duration": 20,
    "start_time": "2023-01-19T21:01:22.256Z"
   },
   {
    "duration": 146,
    "start_time": "2023-01-19T21:01:22.278Z"
   },
   {
    "duration": 40,
    "start_time": "2023-01-19T21:01:22.426Z"
   },
   {
    "duration": 40,
    "start_time": "2023-01-19T21:01:22.468Z"
   },
   {
    "duration": 15,
    "start_time": "2023-01-19T21:01:22.510Z"
   },
   {
    "duration": 38,
    "start_time": "2023-01-19T21:01:22.527Z"
   },
   {
    "duration": 256,
    "start_time": "2023-01-19T21:01:22.566Z"
   },
   {
    "duration": 8,
    "start_time": "2023-01-19T21:01:22.824Z"
   },
   {
    "duration": 145,
    "start_time": "2023-01-19T21:01:22.834Z"
   },
   {
    "duration": 21,
    "start_time": "2023-01-19T21:01:22.981Z"
   },
   {
    "duration": 145,
    "start_time": "2023-01-19T21:01:23.004Z"
   },
   {
    "duration": 147,
    "start_time": "2023-01-19T21:01:23.150Z"
   },
   {
    "duration": 3972,
    "start_time": "2023-01-19T21:01:23.299Z"
   },
   {
    "duration": 17,
    "start_time": "2023-01-19T21:01:27.272Z"
   },
   {
    "duration": 1269,
    "start_time": "2023-01-19T21:01:27.291Z"
   },
   {
    "duration": 19,
    "start_time": "2023-01-19T21:01:28.562Z"
   },
   {
    "duration": 11,
    "start_time": "2023-01-19T21:01:28.583Z"
   },
   {
    "duration": 104,
    "start_time": "2023-01-19T21:01:28.596Z"
   },
   {
    "duration": 5,
    "start_time": "2023-01-19T21:01:28.702Z"
   },
   {
    "duration": 42,
    "start_time": "2023-01-19T21:01:28.708Z"
   },
   {
    "duration": 21,
    "start_time": "2023-01-19T21:01:28.751Z"
   },
   {
    "duration": 5,
    "start_time": "2023-01-19T21:01:28.774Z"
   },
   {
    "duration": 4,
    "start_time": "2023-01-19T21:01:28.780Z"
   },
   {
    "duration": 6,
    "start_time": "2023-01-19T21:01:28.786Z"
   },
   {
    "duration": 44,
    "start_time": "2023-01-19T21:01:28.793Z"
   },
   {
    "duration": 612,
    "start_time": "2023-01-19T21:01:28.852Z"
   },
   {
    "duration": 47,
    "start_time": "2023-01-19T21:01:29.466Z"
   },
   {
    "duration": 74,
    "start_time": "2023-01-19T21:01:29.515Z"
   },
   {
    "duration": 2,
    "start_time": "2023-01-19T21:01:29.591Z"
   },
   {
    "duration": 9,
    "start_time": "2023-01-19T21:01:29.595Z"
   },
   {
    "duration": 15,
    "start_time": "2023-01-19T21:01:29.605Z"
   },
   {
    "duration": 89,
    "start_time": "2023-01-19T21:01:29.621Z"
   },
   {
    "duration": 16,
    "start_time": "2023-01-19T21:01:29.712Z"
   },
   {
    "duration": 90,
    "start_time": "2023-01-19T21:01:29.730Z"
   },
   {
    "duration": 37,
    "start_time": "2023-01-19T21:01:29.822Z"
   },
   {
    "duration": 79,
    "start_time": "2023-01-19T21:01:32.616Z"
   },
   {
    "duration": 3,
    "start_time": "2023-01-19T21:01:35.985Z"
   },
   {
    "duration": 4,
    "start_time": "2023-01-19T21:01:36.830Z"
   },
   {
    "duration": 6,
    "start_time": "2023-01-19T21:01:53.194Z"
   },
   {
    "duration": 13,
    "start_time": "2023-01-19T21:01:55.533Z"
   },
   {
    "duration": 16,
    "start_time": "2023-01-19T21:02:01.313Z"
   },
   {
    "duration": 134843,
    "start_time": "2023-01-19T21:02:02.259Z"
   },
   {
    "duration": 3,
    "start_time": "2023-01-19T21:04:27.187Z"
   },
   {
    "duration": 3,
    "start_time": "2023-01-19T21:04:27.810Z"
   },
   {
    "duration": 5,
    "start_time": "2023-01-19T21:04:28.471Z"
   },
   {
    "duration": 14,
    "start_time": "2023-01-19T21:04:29.449Z"
   },
   {
    "duration": 20,
    "start_time": "2023-01-19T21:04:34.674Z"
   },
   {
    "duration": 14546,
    "start_time": "2023-01-19T21:04:35.274Z"
   },
   {
    "duration": 3,
    "start_time": "2023-01-19T21:05:09.099Z"
   },
   {
    "duration": 73301,
    "start_time": "2023-01-19T21:05:12.763Z"
   },
   {
    "duration": 3,
    "start_time": "2023-01-19T21:06:50.281Z"
   },
   {
    "duration": 11,
    "start_time": "2023-01-19T21:06:51.816Z"
   },
   {
    "duration": 16,
    "start_time": "2023-01-19T21:06:52.909Z"
   },
   {
    "duration": 186530,
    "start_time": "2023-01-19T21:06:53.868Z"
   },
   {
    "duration": 9,
    "start_time": "2023-01-19T21:10:00.401Z"
   },
   {
    "duration": 11,
    "start_time": "2023-01-19T21:10:10.871Z"
   },
   {
    "duration": 14,
    "start_time": "2023-01-19T21:10:13.159Z"
   },
   {
    "duration": 2224,
    "start_time": "2023-01-19T21:11:47.208Z"
   },
   {
    "duration": 6,
    "start_time": "2023-01-19T21:11:49.435Z"
   },
   {
    "duration": 804,
    "start_time": "2023-01-19T21:11:49.443Z"
   },
   {
    "duration": 15,
    "start_time": "2023-01-19T21:11:50.250Z"
   },
   {
    "duration": 138,
    "start_time": "2023-01-19T21:11:50.266Z"
   },
   {
    "duration": 828,
    "start_time": "2023-01-19T21:11:50.406Z"
   },
   {
    "duration": 238,
    "start_time": "2023-01-19T21:11:51.235Z"
   },
   {
    "duration": 26,
    "start_time": "2023-01-19T21:11:51.474Z"
   },
   {
    "duration": 63,
    "start_time": "2023-01-19T21:11:51.502Z"
   },
   {
    "duration": 125,
    "start_time": "2023-01-19T21:11:51.568Z"
   },
   {
    "duration": 38,
    "start_time": "2023-01-19T21:11:51.695Z"
   },
   {
    "duration": 113,
    "start_time": "2023-01-19T21:11:51.748Z"
   },
   {
    "duration": 37,
    "start_time": "2023-01-19T21:11:51.863Z"
   },
   {
    "duration": 39,
    "start_time": "2023-01-19T21:11:51.902Z"
   },
   {
    "duration": 52,
    "start_time": "2023-01-19T21:11:51.943Z"
   },
   {
    "duration": 41,
    "start_time": "2023-01-19T21:11:51.997Z"
   },
   {
    "duration": 25,
    "start_time": "2023-01-19T21:11:52.040Z"
   },
   {
    "duration": 31,
    "start_time": "2023-01-19T21:11:52.066Z"
   },
   {
    "duration": 58,
    "start_time": "2023-01-19T21:11:52.099Z"
   },
   {
    "duration": 20,
    "start_time": "2023-01-19T21:11:52.158Z"
   },
   {
    "duration": 31,
    "start_time": "2023-01-19T21:11:52.180Z"
   },
   {
    "duration": 50,
    "start_time": "2023-01-19T21:11:52.213Z"
   },
   {
    "duration": 19,
    "start_time": "2023-01-19T21:11:52.265Z"
   },
   {
    "duration": 32,
    "start_time": "2023-01-19T21:11:52.286Z"
   },
   {
    "duration": 65,
    "start_time": "2023-01-19T21:11:52.320Z"
   },
   {
    "duration": 19,
    "start_time": "2023-01-19T21:11:52.387Z"
   },
   {
    "duration": 34,
    "start_time": "2023-01-19T21:11:52.407Z"
   },
   {
    "duration": 122,
    "start_time": "2023-01-19T21:11:52.457Z"
   },
   {
    "duration": 15,
    "start_time": "2023-01-19T21:11:52.581Z"
   },
   {
    "duration": 128,
    "start_time": "2023-01-19T21:11:52.598Z"
   },
   {
    "duration": 81,
    "start_time": "2023-01-19T21:11:52.728Z"
   },
   {
    "duration": 81,
    "start_time": "2023-01-19T21:11:52.811Z"
   },
   {
    "duration": 40,
    "start_time": "2023-01-19T21:11:52.894Z"
   },
   {
    "duration": 28,
    "start_time": "2023-01-19T21:11:52.935Z"
   },
   {
    "duration": 135,
    "start_time": "2023-01-19T21:11:52.965Z"
   },
   {
    "duration": 35,
    "start_time": "2023-01-19T21:11:53.102Z"
   },
   {
    "duration": 39,
    "start_time": "2023-01-19T21:11:53.139Z"
   },
   {
    "duration": 14,
    "start_time": "2023-01-19T21:11:53.180Z"
   },
   {
    "duration": 11,
    "start_time": "2023-01-19T21:11:53.196Z"
   },
   {
    "duration": 200,
    "start_time": "2023-01-19T21:11:53.209Z"
   },
   {
    "duration": 7,
    "start_time": "2023-01-19T21:11:53.411Z"
   },
   {
    "duration": 144,
    "start_time": "2023-01-19T21:11:53.420Z"
   },
   {
    "duration": 21,
    "start_time": "2023-01-19T21:11:53.565Z"
   },
   {
    "duration": 140,
    "start_time": "2023-01-19T21:11:53.587Z"
   },
   {
    "duration": 139,
    "start_time": "2023-01-19T21:11:53.728Z"
   },
   {
    "duration": 3758,
    "start_time": "2023-01-19T21:11:53.869Z"
   },
   {
    "duration": 32,
    "start_time": "2023-01-19T21:11:57.629Z"
   },
   {
    "duration": 1181,
    "start_time": "2023-01-19T21:11:57.662Z"
   },
   {
    "duration": 19,
    "start_time": "2023-01-19T21:11:58.846Z"
   },
   {
    "duration": 14,
    "start_time": "2023-01-19T21:11:58.867Z"
   },
   {
    "duration": 119,
    "start_time": "2023-01-19T21:11:58.883Z"
   },
   {
    "duration": 3,
    "start_time": "2023-01-19T21:11:59.004Z"
   },
   {
    "duration": 26,
    "start_time": "2023-01-19T21:11:59.009Z"
   },
   {
    "duration": 29,
    "start_time": "2023-01-19T21:11:59.037Z"
   },
   {
    "duration": 5,
    "start_time": "2023-01-19T21:11:59.070Z"
   },
   {
    "duration": 5,
    "start_time": "2023-01-19T21:11:59.076Z"
   },
   {
    "duration": 6,
    "start_time": "2023-01-19T21:11:59.082Z"
   },
   {
    "duration": 43,
    "start_time": "2023-01-19T21:11:59.089Z"
   },
   {
    "duration": 557,
    "start_time": "2023-01-19T21:11:59.133Z"
   },
   {
    "duration": 36,
    "start_time": "2023-01-19T21:11:59.691Z"
   },
   {
    "duration": 180,
    "start_time": "2023-01-19T21:11:59.729Z"
   },
   {
    "duration": 3,
    "start_time": "2023-01-19T21:11:59.911Z"
   },
   {
    "duration": 16,
    "start_time": "2023-01-19T21:11:59.916Z"
   },
   {
    "duration": 22,
    "start_time": "2023-01-19T21:11:59.933Z"
   },
   {
    "duration": 102,
    "start_time": "2023-01-19T21:11:59.956Z"
   },
   {
    "duration": 16,
    "start_time": "2023-01-19T21:12:00.060Z"
   },
   {
    "duration": 92,
    "start_time": "2023-01-19T21:12:00.078Z"
   },
   {
    "duration": 3,
    "start_time": "2023-01-19T21:12:00.171Z"
   },
   {
    "duration": 33,
    "start_time": "2023-01-19T21:12:00.176Z"
   },
   {
    "duration": 0,
    "start_time": "2023-01-19T21:12:00.210Z"
   },
   {
    "duration": 0,
    "start_time": "2023-01-19T21:12:00.211Z"
   },
   {
    "duration": 0,
    "start_time": "2023-01-19T21:12:00.212Z"
   },
   {
    "duration": 0,
    "start_time": "2023-01-19T21:12:00.213Z"
   },
   {
    "duration": 4,
    "start_time": "2023-01-19T21:12:30.028Z"
   },
   {
    "duration": 6,
    "start_time": "2023-01-19T21:12:33.827Z"
   },
   {
    "duration": 10,
    "start_time": "2023-01-19T21:12:54.271Z"
   },
   {
    "duration": 4,
    "start_time": "2023-01-19T21:12:58.667Z"
   },
   {
    "duration": 2505,
    "start_time": "2023-01-19T21:14:05.130Z"
   },
   {
    "duration": 1641,
    "start_time": "2023-01-19T21:14:07.638Z"
   },
   {
    "duration": 907,
    "start_time": "2023-01-19T21:14:09.285Z"
   },
   {
    "duration": 16,
    "start_time": "2023-01-19T21:14:10.194Z"
   },
   {
    "duration": 154,
    "start_time": "2023-01-19T21:14:10.212Z"
   },
   {
    "duration": 1037,
    "start_time": "2023-01-19T21:14:10.370Z"
   },
   {
    "duration": 286,
    "start_time": "2023-01-19T21:14:11.409Z"
   },
   {
    "duration": 29,
    "start_time": "2023-01-19T21:14:11.696Z"
   },
   {
    "duration": 84,
    "start_time": "2023-01-19T21:14:11.726Z"
   },
   {
    "duration": 150,
    "start_time": "2023-01-19T21:14:11.813Z"
   },
   {
    "duration": 61,
    "start_time": "2023-01-19T21:14:11.964Z"
   },
   {
    "duration": 131,
    "start_time": "2023-01-19T21:14:12.027Z"
   },
   {
    "duration": 40,
    "start_time": "2023-01-19T21:14:12.163Z"
   },
   {
    "duration": 23,
    "start_time": "2023-01-19T21:14:12.205Z"
   },
   {
    "duration": 58,
    "start_time": "2023-01-19T21:14:12.230Z"
   },
   {
    "duration": 38,
    "start_time": "2023-01-19T21:14:12.290Z"
   },
   {
    "duration": 36,
    "start_time": "2023-01-19T21:14:12.330Z"
   },
   {
    "duration": 44,
    "start_time": "2023-01-19T21:14:12.368Z"
   },
   {
    "duration": 66,
    "start_time": "2023-01-19T21:14:12.414Z"
   },
   {
    "duration": 22,
    "start_time": "2023-01-19T21:14:12.482Z"
   },
   {
    "duration": 50,
    "start_time": "2023-01-19T21:14:12.506Z"
   },
   {
    "duration": 66,
    "start_time": "2023-01-19T21:14:12.557Z"
   },
   {
    "duration": 18,
    "start_time": "2023-01-19T21:14:12.625Z"
   },
   {
    "duration": 48,
    "start_time": "2023-01-19T21:14:12.645Z"
   },
   {
    "duration": 42,
    "start_time": "2023-01-19T21:14:12.694Z"
   },
   {
    "duration": 37,
    "start_time": "2023-01-19T21:14:12.738Z"
   },
   {
    "duration": 50,
    "start_time": "2023-01-19T21:14:12.777Z"
   },
   {
    "duration": 193,
    "start_time": "2023-01-19T21:14:12.832Z"
   },
   {
    "duration": 22,
    "start_time": "2023-01-19T21:14:13.026Z"
   },
   {
    "duration": 144,
    "start_time": "2023-01-19T21:14:13.050Z"
   },
   {
    "duration": 102,
    "start_time": "2023-01-19T21:14:13.196Z"
   },
   {
    "duration": 88,
    "start_time": "2023-01-19T21:14:13.300Z"
   },
   {
    "duration": 48,
    "start_time": "2023-01-19T21:14:13.390Z"
   },
   {
    "duration": 28,
    "start_time": "2023-01-19T21:14:13.440Z"
   },
   {
    "duration": 149,
    "start_time": "2023-01-19T21:14:13.469Z"
   },
   {
    "duration": 42,
    "start_time": "2023-01-19T21:14:13.619Z"
   },
   {
    "duration": 42,
    "start_time": "2023-01-19T21:14:13.668Z"
   },
   {
    "duration": 18,
    "start_time": "2023-01-19T21:14:13.712Z"
   },
   {
    "duration": 26,
    "start_time": "2023-01-19T21:14:13.732Z"
   },
   {
    "duration": 280,
    "start_time": "2023-01-19T21:14:13.759Z"
   },
   {
    "duration": 14,
    "start_time": "2023-01-19T21:14:14.041Z"
   },
   {
    "duration": 160,
    "start_time": "2023-01-19T21:14:14.056Z"
   },
   {
    "duration": 23,
    "start_time": "2023-01-19T21:14:14.217Z"
   },
   {
    "duration": 158,
    "start_time": "2023-01-19T21:14:14.242Z"
   },
   {
    "duration": 163,
    "start_time": "2023-01-19T21:14:14.402Z"
   },
   {
    "duration": 3963,
    "start_time": "2023-01-19T21:14:14.567Z"
   },
   {
    "duration": 32,
    "start_time": "2023-01-19T21:14:18.531Z"
   },
   {
    "duration": 1253,
    "start_time": "2023-01-19T21:14:18.566Z"
   },
   {
    "duration": 12,
    "start_time": "2023-01-19T21:14:19.820Z"
   },
   {
    "duration": 14,
    "start_time": "2023-01-19T21:14:19.834Z"
   },
   {
    "duration": 119,
    "start_time": "2023-01-19T21:14:19.850Z"
   },
   {
    "duration": 5,
    "start_time": "2023-01-19T21:14:19.971Z"
   },
   {
    "duration": 37,
    "start_time": "2023-01-19T21:14:19.978Z"
   },
   {
    "duration": 13,
    "start_time": "2023-01-19T21:14:20.017Z"
   },
   {
    "duration": 29,
    "start_time": "2023-01-19T21:14:20.032Z"
   },
   {
    "duration": 17,
    "start_time": "2023-01-19T21:14:20.063Z"
   },
   {
    "duration": 9,
    "start_time": "2023-01-19T21:14:20.082Z"
   },
   {
    "duration": 52,
    "start_time": "2023-01-19T21:14:20.093Z"
   },
   {
    "duration": 609,
    "start_time": "2023-01-19T21:14:20.147Z"
   },
   {
    "duration": 35,
    "start_time": "2023-01-19T21:14:20.762Z"
   },
   {
    "duration": 71,
    "start_time": "2023-01-19T21:14:20.799Z"
   },
   {
    "duration": 2,
    "start_time": "2023-01-19T21:14:20.872Z"
   },
   {
    "duration": 8,
    "start_time": "2023-01-19T21:14:20.875Z"
   },
   {
    "duration": 27,
    "start_time": "2023-01-19T21:14:20.884Z"
   },
   {
    "duration": 88,
    "start_time": "2023-01-19T21:14:20.913Z"
   },
   {
    "duration": 18,
    "start_time": "2023-01-19T21:14:21.003Z"
   },
   {
    "duration": 97,
    "start_time": "2023-01-19T21:14:21.023Z"
   },
   {
    "duration": 3,
    "start_time": "2023-01-19T21:14:21.121Z"
   },
   {
    "duration": 6,
    "start_time": "2023-01-19T21:14:21.125Z"
   },
   {
    "duration": 29,
    "start_time": "2023-01-19T21:14:21.133Z"
   },
   {
    "duration": 15,
    "start_time": "2023-01-19T21:14:21.165Z"
   },
   {
    "duration": 17,
    "start_time": "2023-01-19T21:14:21.182Z"
   },
   {
    "duration": 104,
    "start_time": "2023-01-19T21:14:21.200Z"
   },
   {
    "duration": 553303,
    "start_time": "2023-01-19T21:14:21.305Z"
   },
   {
    "duration": 11,
    "start_time": "2023-01-19T21:23:34.609Z"
   },
   {
    "duration": 5,
    "start_time": "2023-01-19T21:23:34.621Z"
   },
   {
    "duration": 14,
    "start_time": "2023-01-19T21:23:34.627Z"
   },
   {
    "duration": 22,
    "start_time": "2023-01-19T21:23:34.643Z"
   },
   {
    "duration": 32746,
    "start_time": "2023-01-19T21:23:34.667Z"
   },
   {
    "duration": 0,
    "start_time": "2023-01-19T21:24:07.417Z"
   },
   {
    "duration": 0,
    "start_time": "2023-01-19T21:24:07.419Z"
   },
   {
    "duration": 0,
    "start_time": "2023-01-19T21:24:07.420Z"
   },
   {
    "duration": 0,
    "start_time": "2023-01-19T21:24:07.421Z"
   },
   {
    "duration": 0,
    "start_time": "2023-01-19T21:24:07.422Z"
   },
   {
    "duration": 0,
    "start_time": "2023-01-19T21:24:07.423Z"
   },
   {
    "duration": 0,
    "start_time": "2023-01-19T21:24:07.424Z"
   },
   {
    "duration": 0,
    "start_time": "2023-01-19T21:24:07.447Z"
   },
   {
    "duration": 1,
    "start_time": "2023-01-19T21:24:07.448Z"
   },
   {
    "duration": 0,
    "start_time": "2023-01-19T21:24:07.451Z"
   },
   {
    "duration": 0,
    "start_time": "2023-01-19T21:24:07.460Z"
   },
   {
    "duration": 0,
    "start_time": "2023-01-19T21:24:07.461Z"
   },
   {
    "duration": 0,
    "start_time": "2023-01-19T21:24:07.463Z"
   },
   {
    "duration": 0,
    "start_time": "2023-01-19T21:24:07.464Z"
   },
   {
    "duration": 0,
    "start_time": "2023-01-19T21:24:07.464Z"
   },
   {
    "duration": 0,
    "start_time": "2023-01-19T21:24:07.465Z"
   },
   {
    "duration": 0,
    "start_time": "2023-01-19T21:24:07.465Z"
   },
   {
    "duration": 0,
    "start_time": "2023-01-19T21:24:07.468Z"
   },
   {
    "duration": 0,
    "start_time": "2023-01-19T21:24:07.469Z"
   },
   {
    "duration": 0,
    "start_time": "2023-01-19T21:24:07.470Z"
   },
   {
    "duration": 1,
    "start_time": "2023-01-19T21:24:07.471Z"
   },
   {
    "duration": 0,
    "start_time": "2023-01-19T21:24:07.473Z"
   },
   {
    "duration": 0,
    "start_time": "2023-01-19T21:24:07.474Z"
   },
   {
    "duration": 0,
    "start_time": "2023-01-19T21:24:07.475Z"
   },
   {
    "duration": 0,
    "start_time": "2023-01-19T21:24:07.476Z"
   },
   {
    "duration": 0,
    "start_time": "2023-01-19T21:24:07.477Z"
   },
   {
    "duration": 0,
    "start_time": "2023-01-19T21:24:07.478Z"
   },
   {
    "duration": 0,
    "start_time": "2023-01-19T21:24:07.479Z"
   },
   {
    "duration": 0,
    "start_time": "2023-01-19T21:24:07.480Z"
   },
   {
    "duration": 0,
    "start_time": "2023-01-19T21:24:07.481Z"
   },
   {
    "duration": 0,
    "start_time": "2023-01-19T21:24:07.482Z"
   },
   {
    "duration": 0,
    "start_time": "2023-01-19T21:24:07.483Z"
   },
   {
    "duration": 0,
    "start_time": "2023-01-19T21:24:07.484Z"
   },
   {
    "duration": 0,
    "start_time": "2023-01-19T21:24:07.485Z"
   },
   {
    "duration": 0,
    "start_time": "2023-01-19T21:24:07.486Z"
   },
   {
    "duration": 0,
    "start_time": "2023-01-19T21:24:07.487Z"
   },
   {
    "duration": 0,
    "start_time": "2023-01-19T21:24:07.487Z"
   },
   {
    "duration": 0,
    "start_time": "2023-01-19T21:24:07.489Z"
   },
   {
    "duration": 0,
    "start_time": "2023-01-19T21:24:07.490Z"
   },
   {
    "duration": 0,
    "start_time": "2023-01-19T21:24:07.491Z"
   },
   {
    "duration": 0,
    "start_time": "2023-01-19T21:24:07.492Z"
   },
   {
    "duration": 0,
    "start_time": "2023-01-19T21:24:07.493Z"
   },
   {
    "duration": 0,
    "start_time": "2023-01-19T21:24:07.548Z"
   },
   {
    "duration": 0,
    "start_time": "2023-01-19T21:24:07.549Z"
   },
   {
    "duration": 0,
    "start_time": "2023-01-19T21:24:07.552Z"
   },
   {
    "duration": 0,
    "start_time": "2023-01-19T21:24:07.552Z"
   },
   {
    "duration": 0,
    "start_time": "2023-01-19T21:24:07.553Z"
   },
   {
    "duration": 0,
    "start_time": "2023-01-19T21:24:07.554Z"
   },
   {
    "duration": 0,
    "start_time": "2023-01-19T21:24:07.554Z"
   },
   {
    "duration": 0,
    "start_time": "2023-01-19T21:24:07.555Z"
   },
   {
    "duration": 0,
    "start_time": "2023-01-19T21:24:07.556Z"
   },
   {
    "duration": 0,
    "start_time": "2023-01-19T21:24:07.560Z"
   },
   {
    "duration": 0,
    "start_time": "2023-01-19T21:24:07.561Z"
   },
   {
    "duration": 0,
    "start_time": "2023-01-19T21:24:07.562Z"
   },
   {
    "duration": 0,
    "start_time": "2023-01-19T21:24:07.563Z"
   },
   {
    "duration": 0,
    "start_time": "2023-01-19T21:24:07.564Z"
   },
   {
    "duration": 0,
    "start_time": "2023-01-19T21:24:07.569Z"
   },
   {
    "duration": 0,
    "start_time": "2023-01-19T21:24:07.571Z"
   },
   {
    "duration": 0,
    "start_time": "2023-01-19T21:24:07.572Z"
   },
   {
    "duration": 0,
    "start_time": "2023-01-19T21:24:07.573Z"
   },
   {
    "duration": 0,
    "start_time": "2023-01-19T21:24:07.574Z"
   },
   {
    "duration": 0,
    "start_time": "2023-01-19T21:24:07.575Z"
   },
   {
    "duration": 0,
    "start_time": "2023-01-19T21:24:07.577Z"
   },
   {
    "duration": 0,
    "start_time": "2023-01-19T21:24:07.578Z"
   },
   {
    "duration": 0,
    "start_time": "2023-01-19T21:24:07.579Z"
   },
   {
    "duration": 0,
    "start_time": "2023-01-19T21:24:07.581Z"
   },
   {
    "duration": 0,
    "start_time": "2023-01-19T21:24:07.582Z"
   },
   {
    "duration": 0,
    "start_time": "2023-01-19T21:24:07.582Z"
   },
   {
    "duration": 0,
    "start_time": "2023-01-19T21:24:07.583Z"
   },
   {
    "duration": 0,
    "start_time": "2023-01-19T21:24:07.585Z"
   },
   {
    "duration": 0,
    "start_time": "2023-01-19T21:24:07.586Z"
   },
   {
    "duration": 0,
    "start_time": "2023-01-19T21:24:07.587Z"
   },
   {
    "duration": 0,
    "start_time": "2023-01-19T21:24:07.588Z"
   },
   {
    "duration": 0,
    "start_time": "2023-01-19T21:24:07.589Z"
   },
   {
    "duration": 0,
    "start_time": "2023-01-19T21:24:07.590Z"
   },
   {
    "duration": 0,
    "start_time": "2023-01-19T21:24:07.653Z"
   },
   {
    "duration": 0,
    "start_time": "2023-01-19T21:24:07.654Z"
   },
   {
    "duration": 0,
    "start_time": "2023-01-19T21:24:07.655Z"
   },
   {
    "duration": 0,
    "start_time": "2023-01-19T21:24:07.659Z"
   },
   {
    "duration": 0,
    "start_time": "2023-01-19T21:24:07.660Z"
   },
   {
    "duration": 0,
    "start_time": "2023-01-19T21:24:07.661Z"
   },
   {
    "duration": 0,
    "start_time": "2023-01-19T21:24:07.661Z"
   },
   {
    "duration": 0,
    "start_time": "2023-01-19T21:24:07.662Z"
   },
   {
    "duration": 2165,
    "start_time": "2023-01-19T21:24:10.165Z"
   },
   {
    "duration": 5,
    "start_time": "2023-01-19T21:24:13.491Z"
   },
   {
    "duration": 2155,
    "start_time": "2023-01-19T21:24:19.996Z"
   },
   {
    "duration": 5,
    "start_time": "2023-01-19T21:24:22.154Z"
   },
   {
    "duration": 850,
    "start_time": "2023-01-19T21:24:22.161Z"
   },
   {
    "duration": 14,
    "start_time": "2023-01-19T21:24:23.013Z"
   },
   {
    "duration": 166,
    "start_time": "2023-01-19T21:24:23.029Z"
   },
   {
    "duration": 876,
    "start_time": "2023-01-19T21:24:23.197Z"
   },
   {
    "duration": 258,
    "start_time": "2023-01-19T21:24:24.075Z"
   },
   {
    "duration": 34,
    "start_time": "2023-01-19T21:24:24.334Z"
   },
   {
    "duration": 52,
    "start_time": "2023-01-19T21:24:24.370Z"
   },
   {
    "duration": 128,
    "start_time": "2023-01-19T21:24:24.424Z"
   },
   {
    "duration": 51,
    "start_time": "2023-01-19T21:24:24.554Z"
   },
   {
    "duration": 102,
    "start_time": "2023-01-19T21:24:24.606Z"
   },
   {
    "duration": 48,
    "start_time": "2023-01-19T21:24:24.710Z"
   },
   {
    "duration": 44,
    "start_time": "2023-01-19T21:24:24.760Z"
   },
   {
    "duration": 53,
    "start_time": "2023-01-19T21:24:24.806Z"
   },
   {
    "duration": 56,
    "start_time": "2023-01-19T21:24:24.861Z"
   },
   {
    "duration": 19,
    "start_time": "2023-01-19T21:24:24.918Z"
   },
   {
    "duration": 58,
    "start_time": "2023-01-19T21:24:24.938Z"
   },
   {
    "duration": 81,
    "start_time": "2023-01-19T21:24:24.997Z"
   },
   {
    "duration": 19,
    "start_time": "2023-01-19T21:24:25.080Z"
   },
   {
    "duration": 52,
    "start_time": "2023-01-19T21:24:25.100Z"
   },
   {
    "duration": 62,
    "start_time": "2023-01-19T21:24:25.154Z"
   },
   {
    "duration": 53,
    "start_time": "2023-01-19T21:24:25.219Z"
   },
   {
    "duration": 71,
    "start_time": "2023-01-19T21:24:25.275Z"
   },
   {
    "duration": 86,
    "start_time": "2023-01-19T21:24:25.348Z"
   },
   {
    "duration": 21,
    "start_time": "2023-01-19T21:24:25.436Z"
   },
   {
    "duration": 43,
    "start_time": "2023-01-19T21:24:25.460Z"
   },
   {
    "duration": 126,
    "start_time": "2023-01-19T21:24:25.508Z"
   },
   {
    "duration": 17,
    "start_time": "2023-01-19T21:24:25.636Z"
   },
   {
    "duration": 123,
    "start_time": "2023-01-19T21:24:25.655Z"
   },
   {
    "duration": 84,
    "start_time": "2023-01-19T21:24:25.779Z"
   },
   {
    "duration": 86,
    "start_time": "2023-01-19T21:24:25.865Z"
   },
   {
    "duration": 41,
    "start_time": "2023-01-19T21:24:25.953Z"
   },
   {
    "duration": 16,
    "start_time": "2023-01-19T21:24:25.995Z"
   },
   {
    "duration": 150,
    "start_time": "2023-01-19T21:24:26.013Z"
   },
   {
    "duration": 29,
    "start_time": "2023-01-19T21:24:26.165Z"
   },
   {
    "duration": 44,
    "start_time": "2023-01-19T21:24:26.195Z"
   },
   {
    "duration": 14,
    "start_time": "2023-01-19T21:24:26.249Z"
   },
   {
    "duration": 14,
    "start_time": "2023-01-19T21:24:26.265Z"
   },
   {
    "duration": 200,
    "start_time": "2023-01-19T21:24:26.280Z"
   },
   {
    "duration": 8,
    "start_time": "2023-01-19T21:24:26.482Z"
   },
   {
    "duration": 121,
    "start_time": "2023-01-19T21:24:26.491Z"
   },
   {
    "duration": 34,
    "start_time": "2023-01-19T21:24:26.614Z"
   },
   {
    "duration": 127,
    "start_time": "2023-01-19T21:24:26.650Z"
   },
   {
    "duration": 163,
    "start_time": "2023-01-19T21:24:26.779Z"
   },
   {
    "duration": 3634,
    "start_time": "2023-01-19T21:24:26.944Z"
   },
   {
    "duration": 20,
    "start_time": "2023-01-19T21:24:30.580Z"
   },
   {
    "duration": 1209,
    "start_time": "2023-01-19T21:24:30.601Z"
   },
   {
    "duration": 21,
    "start_time": "2023-01-19T21:24:31.812Z"
   },
   {
    "duration": 24,
    "start_time": "2023-01-19T21:24:31.836Z"
   },
   {
    "duration": 114,
    "start_time": "2023-01-19T21:24:31.862Z"
   },
   {
    "duration": 5,
    "start_time": "2023-01-19T21:24:31.978Z"
   },
   {
    "duration": 49,
    "start_time": "2023-01-19T21:24:31.984Z"
   },
   {
    "duration": 14,
    "start_time": "2023-01-19T21:24:32.035Z"
   },
   {
    "duration": 7,
    "start_time": "2023-01-19T21:24:32.051Z"
   },
   {
    "duration": 6,
    "start_time": "2023-01-19T21:24:32.060Z"
   },
   {
    "duration": 5,
    "start_time": "2023-01-19T21:24:32.067Z"
   },
   {
    "duration": 40,
    "start_time": "2023-01-19T21:24:32.074Z"
   },
   {
    "duration": 538,
    "start_time": "2023-01-19T21:24:32.115Z"
   },
   {
    "duration": 110,
    "start_time": "2023-01-19T21:24:32.655Z"
   },
   {
    "duration": 53,
    "start_time": "2023-01-19T21:24:32.767Z"
   },
   {
    "duration": 3,
    "start_time": "2023-01-19T21:24:32.822Z"
   },
   {
    "duration": 17,
    "start_time": "2023-01-19T21:24:32.827Z"
   },
   {
    "duration": 18,
    "start_time": "2023-01-19T21:24:32.847Z"
   },
   {
    "duration": 98,
    "start_time": "2023-01-19T21:24:32.867Z"
   },
   {
    "duration": 19,
    "start_time": "2023-01-19T21:24:32.967Z"
   },
   {
    "duration": 105,
    "start_time": "2023-01-19T21:24:32.987Z"
   },
   {
    "duration": 3,
    "start_time": "2023-01-19T21:24:33.094Z"
   },
   {
    "duration": 13,
    "start_time": "2023-01-19T21:24:33.099Z"
   },
   {
    "duration": 0,
    "start_time": "2023-01-19T21:24:33.114Z"
   },
   {
    "duration": 0,
    "start_time": "2023-01-19T21:24:33.115Z"
   },
   {
    "duration": 0,
    "start_time": "2023-01-19T21:24:33.116Z"
   },
   {
    "duration": 0,
    "start_time": "2023-01-19T21:24:33.117Z"
   },
   {
    "duration": 5,
    "start_time": "2023-01-19T21:24:44.357Z"
   },
   {
    "duration": 3,
    "start_time": "2023-01-19T21:25:40.550Z"
   },
   {
    "duration": 3,
    "start_time": "2023-01-19T21:25:42.780Z"
   },
   {
    "duration": 6,
    "start_time": "2023-01-19T21:25:48.888Z"
   },
   {
    "duration": 6,
    "start_time": "2023-01-19T21:25:50.534Z"
   },
   {
    "duration": 2026,
    "start_time": "2023-01-19T21:26:12.590Z"
   },
   {
    "duration": 1402,
    "start_time": "2023-01-19T21:26:14.618Z"
   },
   {
    "duration": 797,
    "start_time": "2023-01-19T21:26:16.021Z"
   },
   {
    "duration": 16,
    "start_time": "2023-01-19T21:26:16.820Z"
   },
   {
    "duration": 145,
    "start_time": "2023-01-19T21:26:16.838Z"
   },
   {
    "duration": 983,
    "start_time": "2023-01-19T21:26:16.985Z"
   },
   {
    "duration": 240,
    "start_time": "2023-01-19T21:26:17.969Z"
   },
   {
    "duration": 28,
    "start_time": "2023-01-19T21:26:18.211Z"
   },
   {
    "duration": 55,
    "start_time": "2023-01-19T21:26:18.247Z"
   },
   {
    "duration": 123,
    "start_time": "2023-01-19T21:26:18.305Z"
   },
   {
    "duration": 46,
    "start_time": "2023-01-19T21:26:18.430Z"
   },
   {
    "duration": 134,
    "start_time": "2023-01-19T21:26:18.478Z"
   },
   {
    "duration": 34,
    "start_time": "2023-01-19T21:26:18.614Z"
   },
   {
    "duration": 19,
    "start_time": "2023-01-19T21:26:18.650Z"
   },
   {
    "duration": 30,
    "start_time": "2023-01-19T21:26:18.671Z"
   },
   {
    "duration": 54,
    "start_time": "2023-01-19T21:26:18.702Z"
   },
   {
    "duration": 20,
    "start_time": "2023-01-19T21:26:18.758Z"
   },
   {
    "duration": 33,
    "start_time": "2023-01-19T21:26:18.779Z"
   },
   {
    "duration": 56,
    "start_time": "2023-01-19T21:26:18.814Z"
   },
   {
    "duration": 18,
    "start_time": "2023-01-19T21:26:18.872Z"
   },
   {
    "duration": 31,
    "start_time": "2023-01-19T21:26:18.892Z"
   },
   {
    "duration": 52,
    "start_time": "2023-01-19T21:26:18.925Z"
   },
   {
    "duration": 18,
    "start_time": "2023-01-19T21:26:18.979Z"
   },
   {
    "duration": 31,
    "start_time": "2023-01-19T21:26:18.999Z"
   },
   {
    "duration": 57,
    "start_time": "2023-01-19T21:26:19.031Z"
   },
   {
    "duration": 19,
    "start_time": "2023-01-19T21:26:19.089Z"
   },
   {
    "duration": 48,
    "start_time": "2023-01-19T21:26:19.110Z"
   },
   {
    "duration": 122,
    "start_time": "2023-01-19T21:26:19.161Z"
   },
   {
    "duration": 15,
    "start_time": "2023-01-19T21:26:19.285Z"
   },
   {
    "duration": 121,
    "start_time": "2023-01-19T21:26:19.301Z"
   },
   {
    "duration": 77,
    "start_time": "2023-01-19T21:26:19.424Z"
   },
   {
    "duration": 82,
    "start_time": "2023-01-19T21:26:19.503Z"
   },
   {
    "duration": 47,
    "start_time": "2023-01-19T21:26:19.587Z"
   },
   {
    "duration": 25,
    "start_time": "2023-01-19T21:26:19.636Z"
   },
   {
    "duration": 124,
    "start_time": "2023-01-19T21:26:19.662Z"
   },
   {
    "duration": 29,
    "start_time": "2023-01-19T21:26:19.788Z"
   },
   {
    "duration": 54,
    "start_time": "2023-01-19T21:26:19.819Z"
   },
   {
    "duration": 16,
    "start_time": "2023-01-19T21:26:19.875Z"
   },
   {
    "duration": 13,
    "start_time": "2023-01-19T21:26:19.898Z"
   },
   {
    "duration": 248,
    "start_time": "2023-01-19T21:26:19.912Z"
   },
   {
    "duration": 7,
    "start_time": "2023-01-19T21:26:20.162Z"
   },
   {
    "duration": 115,
    "start_time": "2023-01-19T21:26:20.170Z"
   },
   {
    "duration": 21,
    "start_time": "2023-01-19T21:26:20.286Z"
   },
   {
    "duration": 148,
    "start_time": "2023-01-19T21:26:20.309Z"
   },
   {
    "duration": 157,
    "start_time": "2023-01-19T21:26:20.460Z"
   },
   {
    "duration": 3693,
    "start_time": "2023-01-19T21:26:20.619Z"
   },
   {
    "duration": 18,
    "start_time": "2023-01-19T21:26:24.313Z"
   },
   {
    "duration": 1266,
    "start_time": "2023-01-19T21:26:24.332Z"
   },
   {
    "duration": 13,
    "start_time": "2023-01-19T21:26:25.600Z"
   },
   {
    "duration": 10,
    "start_time": "2023-01-19T21:26:25.615Z"
   },
   {
    "duration": 100,
    "start_time": "2023-01-19T21:26:25.627Z"
   },
   {
    "duration": 5,
    "start_time": "2023-01-19T21:26:25.728Z"
   },
   {
    "duration": 33,
    "start_time": "2023-01-19T21:26:25.734Z"
   },
   {
    "duration": 12,
    "start_time": "2023-01-19T21:26:25.769Z"
   },
   {
    "duration": 5,
    "start_time": "2023-01-19T21:26:25.783Z"
   },
   {
    "duration": 5,
    "start_time": "2023-01-19T21:26:25.790Z"
   },
   {
    "duration": 6,
    "start_time": "2023-01-19T21:26:25.797Z"
   },
   {
    "duration": 64,
    "start_time": "2023-01-19T21:26:25.804Z"
   },
   {
    "duration": 560,
    "start_time": "2023-01-19T21:26:25.869Z"
   },
   {
    "duration": 52,
    "start_time": "2023-01-19T21:26:26.431Z"
   },
   {
    "duration": 69,
    "start_time": "2023-01-19T21:26:26.484Z"
   },
   {
    "duration": 2,
    "start_time": "2023-01-19T21:26:26.555Z"
   },
   {
    "duration": 6,
    "start_time": "2023-01-19T21:26:26.559Z"
   },
   {
    "duration": 20,
    "start_time": "2023-01-19T21:26:26.566Z"
   },
   {
    "duration": 94,
    "start_time": "2023-01-19T21:26:26.588Z"
   },
   {
    "duration": 20,
    "start_time": "2023-01-19T21:26:26.684Z"
   },
   {
    "duration": 84,
    "start_time": "2023-01-19T21:26:26.706Z"
   },
   {
    "duration": 3,
    "start_time": "2023-01-19T21:26:26.791Z"
   },
   {
    "duration": 8,
    "start_time": "2023-01-19T21:26:26.795Z"
   },
   {
    "duration": 10,
    "start_time": "2023-01-19T21:26:26.804Z"
   },
   {
    "duration": 14,
    "start_time": "2023-01-19T21:26:26.815Z"
   },
   {
    "duration": 25,
    "start_time": "2023-01-19T21:26:26.831Z"
   },
   {
    "duration": 2,
    "start_time": "2023-01-19T21:26:26.858Z"
   },
   {
    "duration": 183546,
    "start_time": "2023-01-19T21:26:40.835Z"
   },
   {
    "duration": 11,
    "start_time": "2023-01-19T21:29:44.383Z"
   },
   {
    "duration": 2,
    "start_time": "2023-01-19T21:29:59.871Z"
   },
   {
    "duration": 9,
    "start_time": "2023-01-19T21:30:00.424Z"
   },
   {
    "duration": 15,
    "start_time": "2023-01-19T21:30:00.804Z"
   },
   {
    "duration": 175247,
    "start_time": "2023-01-19T21:30:01.131Z"
   },
   {
    "duration": 13,
    "start_time": "2023-01-19T21:33:29.536Z"
   },
   {
    "duration": 9,
    "start_time": "2023-01-19T21:33:35.751Z"
   },
   {
    "duration": 9,
    "start_time": "2023-01-19T21:33:41.662Z"
   },
   {
    "duration": 138,
    "start_time": "2023-01-19T21:33:42.015Z"
   },
   {
    "duration": 46,
    "start_time": "2023-01-19T21:35:35.116Z"
   },
   {
    "duration": 55,
    "start_time": "2023-01-19T21:36:08.029Z"
   },
   {
    "duration": 6385,
    "start_time": "2023-01-19T21:36:30.974Z"
   },
   {
    "duration": 5,
    "start_time": "2023-01-19T21:36:44.401Z"
   },
   {
    "duration": 14510,
    "start_time": "2023-01-20T11:35:16.852Z"
   },
   {
    "duration": 7887,
    "start_time": "2023-01-20T11:35:31.364Z"
   },
   {
    "duration": 5185,
    "start_time": "2023-01-20T11:35:39.264Z"
   },
   {
    "duration": 101,
    "start_time": "2023-01-20T11:35:44.454Z"
   },
   {
    "duration": 1082,
    "start_time": "2023-01-20T11:35:44.575Z"
   },
   {
    "duration": 6825,
    "start_time": "2023-01-20T11:35:45.664Z"
   },
   {
    "duration": 1894,
    "start_time": "2023-01-20T11:35:52.589Z"
   },
   {
    "duration": 294,
    "start_time": "2023-01-20T11:35:54.491Z"
   },
   {
    "duration": 354,
    "start_time": "2023-01-20T11:35:54.800Z"
   },
   {
    "duration": 909,
    "start_time": "2023-01-20T11:35:55.166Z"
   },
   {
    "duration": 470,
    "start_time": "2023-01-20T11:35:56.089Z"
   },
   {
    "duration": 679,
    "start_time": "2023-01-20T11:35:56.573Z"
   },
   {
    "duration": 206,
    "start_time": "2023-01-20T11:35:57.265Z"
   },
   {
    "duration": 101,
    "start_time": "2023-01-20T11:35:57.494Z"
   },
   {
    "duration": 455,
    "start_time": "2023-01-20T11:35:57.602Z"
   },
   {
    "duration": 494,
    "start_time": "2023-01-20T11:35:58.059Z"
   },
   {
    "duration": 134,
    "start_time": "2023-01-20T11:35:58.555Z"
   },
   {
    "duration": 267,
    "start_time": "2023-01-20T11:35:58.692Z"
   },
   {
    "duration": 310,
    "start_time": "2023-01-20T11:35:58.961Z"
   },
   {
    "duration": 326,
    "start_time": "2023-01-20T11:35:59.274Z"
   },
   {
    "duration": 276,
    "start_time": "2023-01-20T11:35:59.610Z"
   },
   {
    "duration": 263,
    "start_time": "2023-01-20T11:35:59.896Z"
   },
   {
    "duration": 131,
    "start_time": "2023-01-20T11:36:00.161Z"
   },
   {
    "duration": 378,
    "start_time": "2023-01-20T11:36:00.295Z"
   },
   {
    "duration": 266,
    "start_time": "2023-01-20T11:36:00.690Z"
   },
   {
    "duration": 219,
    "start_time": "2023-01-20T11:36:00.969Z"
   },
   {
    "duration": 396,
    "start_time": "2023-01-20T11:36:01.200Z"
   },
   {
    "duration": 953,
    "start_time": "2023-01-20T11:36:01.657Z"
   },
   {
    "duration": 37,
    "start_time": "2023-01-20T11:36:02.653Z"
   },
   {
    "duration": 916,
    "start_time": "2023-01-20T11:36:02.697Z"
   },
   {
    "duration": 440,
    "start_time": "2023-01-20T11:36:03.615Z"
   },
   {
    "duration": 635,
    "start_time": "2023-01-20T11:36:04.067Z"
   },
   {
    "duration": 229,
    "start_time": "2023-01-20T11:36:04.749Z"
   },
   {
    "duration": 163,
    "start_time": "2023-01-20T11:36:04.994Z"
   },
   {
    "duration": 523,
    "start_time": "2023-01-20T11:36:05.175Z"
   },
   {
    "duration": 129,
    "start_time": "2023-01-20T11:36:05.748Z"
   },
   {
    "duration": 265,
    "start_time": "2023-01-20T11:36:05.895Z"
   },
   {
    "duration": 88,
    "start_time": "2023-01-20T11:36:06.165Z"
   },
   {
    "duration": 113,
    "start_time": "2023-01-20T11:36:06.270Z"
   },
   {
    "duration": 1658,
    "start_time": "2023-01-20T11:36:06.401Z"
   },
   {
    "duration": 80,
    "start_time": "2023-01-20T11:36:08.068Z"
   },
   {
    "duration": 952,
    "start_time": "2023-01-20T11:36:08.155Z"
   },
   {
    "duration": 89,
    "start_time": "2023-01-20T11:36:09.165Z"
   },
   {
    "duration": 848,
    "start_time": "2023-01-20T11:36:09.262Z"
   },
   {
    "duration": 1120,
    "start_time": "2023-01-20T11:36:10.156Z"
   },
   {
    "duration": 27865,
    "start_time": "2023-01-20T11:36:11.285Z"
   },
   {
    "duration": 129,
    "start_time": "2023-01-20T11:36:39.153Z"
   },
   {
    "duration": 7901,
    "start_time": "2023-01-20T11:36:39.284Z"
   },
   {
    "duration": 99,
    "start_time": "2023-01-20T11:36:47.259Z"
   },
   {
    "duration": 114,
    "start_time": "2023-01-20T11:36:47.361Z"
   },
   {
    "duration": 861,
    "start_time": "2023-01-20T11:36:47.493Z"
   },
   {
    "duration": 11,
    "start_time": "2023-01-20T11:36:48.362Z"
   },
   {
    "duration": 467,
    "start_time": "2023-01-20T11:36:48.381Z"
   },
   {
    "duration": 99,
    "start_time": "2023-01-20T11:36:48.850Z"
   },
   {
    "duration": 104,
    "start_time": "2023-01-20T11:36:48.951Z"
   },
   {
    "duration": 196,
    "start_time": "2023-01-20T11:36:49.057Z"
   },
   {
    "duration": 194,
    "start_time": "2023-01-20T11:36:49.256Z"
   },
   {
    "duration": 734,
    "start_time": "2023-01-20T11:36:49.452Z"
   },
   {
    "duration": 4976,
    "start_time": "2023-01-20T11:36:50.189Z"
   },
   {
    "duration": 284,
    "start_time": "2023-01-20T11:36:55.186Z"
   },
   {
    "duration": 394,
    "start_time": "2023-01-20T11:36:55.482Z"
   },
   {
    "duration": 5,
    "start_time": "2023-01-20T11:36:55.883Z"
   },
   {
    "duration": 105,
    "start_time": "2023-01-20T11:36:55.890Z"
   },
   {
    "duration": 100,
    "start_time": "2023-01-20T11:36:56.050Z"
   },
   {
    "duration": 601,
    "start_time": "2023-01-20T11:36:56.159Z"
   },
   {
    "duration": 123,
    "start_time": "2023-01-20T11:36:56.774Z"
   },
   {
    "duration": 529,
    "start_time": "2023-01-20T11:36:56.951Z"
   },
   {
    "duration": 9,
    "start_time": "2023-01-20T11:36:57.482Z"
   },
   {
    "duration": 41,
    "start_time": "2023-01-20T11:36:57.550Z"
   },
   {
    "duration": 13,
    "start_time": "2023-01-20T11:36:57.648Z"
   },
   {
    "duration": 290,
    "start_time": "2023-01-20T11:36:57.670Z"
   },
   {
    "duration": 192,
    "start_time": "2023-01-20T11:36:57.969Z"
   },
   {
    "duration": 12,
    "start_time": "2023-01-20T11:36:58.175Z"
   },
   {
    "duration": 820363,
    "start_time": "2023-01-20T11:36:58.189Z"
   },
   {
    "duration": 99,
    "start_time": "2023-01-20T11:50:38.554Z"
   },
   {
    "duration": 3,
    "start_time": "2023-01-20T11:50:38.657Z"
   },
   {
    "duration": 88,
    "start_time": "2023-01-20T11:50:38.661Z"
   },
   {
    "duration": 198,
    "start_time": "2023-01-20T11:50:38.751Z"
   },
   {
    "duration": 6502,
    "start_time": "2023-01-20T11:50:38.951Z"
   },
   {
    "duration": 0,
    "start_time": "2023-01-20T11:50:45.464Z"
   },
   {
    "duration": 0,
    "start_time": "2023-01-20T11:50:45.473Z"
   },
   {
    "duration": 0,
    "start_time": "2023-01-20T11:50:45.483Z"
   },
   {
    "duration": 0,
    "start_time": "2023-01-20T11:50:45.548Z"
   },
   {
    "duration": 0,
    "start_time": "2023-01-20T11:50:45.549Z"
   },
   {
    "duration": 0,
    "start_time": "2023-01-20T11:50:45.551Z"
   },
   {
    "duration": 3344,
    "start_time": "2023-01-20T16:03:57.359Z"
   },
   {
    "duration": 1766,
    "start_time": "2023-01-20T16:04:00.705Z"
   },
   {
    "duration": 2958,
    "start_time": "2023-01-20T16:04:02.474Z"
   },
   {
    "duration": 129,
    "start_time": "2023-01-20T16:04:05.435Z"
   },
   {
    "duration": 123,
    "start_time": "2023-01-20T16:04:05.566Z"
   },
   {
    "duration": 1006,
    "start_time": "2023-01-20T16:04:05.692Z"
   },
   {
    "duration": 268,
    "start_time": "2023-01-20T16:04:06.700Z"
   },
   {
    "duration": 31,
    "start_time": "2023-01-20T16:04:06.970Z"
   },
   {
    "duration": 75,
    "start_time": "2023-01-20T16:04:07.002Z"
   },
   {
    "duration": 103,
    "start_time": "2023-01-20T16:04:07.080Z"
   },
   {
    "duration": 56,
    "start_time": "2023-01-20T16:04:07.185Z"
   },
   {
    "duration": 125,
    "start_time": "2023-01-20T16:04:07.243Z"
   },
   {
    "duration": 27,
    "start_time": "2023-01-20T16:04:07.370Z"
   },
   {
    "duration": 30,
    "start_time": "2023-01-20T16:04:07.399Z"
   },
   {
    "duration": 30,
    "start_time": "2023-01-20T16:04:07.437Z"
   },
   {
    "duration": 39,
    "start_time": "2023-01-20T16:04:07.469Z"
   },
   {
    "duration": 36,
    "start_time": "2023-01-20T16:04:07.510Z"
   },
   {
    "duration": 28,
    "start_time": "2023-01-20T16:04:07.548Z"
   },
   {
    "duration": 52,
    "start_time": "2023-01-20T16:04:07.578Z"
   },
   {
    "duration": 17,
    "start_time": "2023-01-20T16:04:07.636Z"
   },
   {
    "duration": 31,
    "start_time": "2023-01-20T16:04:07.655Z"
   },
   {
    "duration": 56,
    "start_time": "2023-01-20T16:04:07.687Z"
   },
   {
    "duration": 20,
    "start_time": "2023-01-20T16:04:07.745Z"
   },
   {
    "duration": 30,
    "start_time": "2023-01-20T16:04:07.767Z"
   },
   {
    "duration": 59,
    "start_time": "2023-01-20T16:04:07.799Z"
   },
   {
    "duration": 19,
    "start_time": "2023-01-20T16:04:07.860Z"
   },
   {
    "duration": 31,
    "start_time": "2023-01-20T16:04:07.880Z"
   },
   {
    "duration": 124,
    "start_time": "2023-01-20T16:04:07.915Z"
   },
   {
    "duration": 17,
    "start_time": "2023-01-20T16:04:08.041Z"
   },
   {
    "duration": 133,
    "start_time": "2023-01-20T16:04:08.060Z"
   },
   {
    "duration": 95,
    "start_time": "2023-01-20T16:04:08.195Z"
   },
   {
    "duration": 94,
    "start_time": "2023-01-20T16:04:08.292Z"
   },
   {
    "duration": 73,
    "start_time": "2023-01-20T16:04:08.387Z"
   },
   {
    "duration": 20,
    "start_time": "2023-01-20T16:04:08.462Z"
   },
   {
    "duration": 159,
    "start_time": "2023-01-20T16:04:08.484Z"
   },
   {
    "duration": 33,
    "start_time": "2023-01-20T16:04:08.645Z"
   },
   {
    "duration": 61,
    "start_time": "2023-01-20T16:04:08.679Z"
   },
   {
    "duration": 17,
    "start_time": "2023-01-20T16:04:08.741Z"
   },
   {
    "duration": 14,
    "start_time": "2023-01-20T16:04:08.759Z"
   },
   {
    "duration": 202,
    "start_time": "2023-01-20T16:04:08.774Z"
   },
   {
    "duration": 7,
    "start_time": "2023-01-20T16:04:08.978Z"
   },
   {
    "duration": 102,
    "start_time": "2023-01-20T16:04:08.986Z"
   },
   {
    "duration": 25,
    "start_time": "2023-01-20T16:04:09.090Z"
   },
   {
    "duration": 139,
    "start_time": "2023-01-20T16:04:09.117Z"
   },
   {
    "duration": 166,
    "start_time": "2023-01-20T16:04:09.258Z"
   },
   {
    "duration": 4087,
    "start_time": "2023-01-20T16:04:09.426Z"
   },
   {
    "duration": 27,
    "start_time": "2023-01-20T16:04:13.515Z"
   },
   {
    "duration": 1343,
    "start_time": "2023-01-20T16:04:13.544Z"
   },
   {
    "duration": 14,
    "start_time": "2023-01-20T16:04:14.889Z"
   },
   {
    "duration": 18,
    "start_time": "2023-01-20T16:04:14.905Z"
   },
   {
    "duration": 104,
    "start_time": "2023-01-20T16:04:14.925Z"
   },
   {
    "duration": 5,
    "start_time": "2023-01-20T16:04:17.229Z"
   },
   {
    "duration": 70,
    "start_time": "2023-01-20T16:04:18.042Z"
   },
   {
    "duration": 33,
    "start_time": "2023-01-20T16:04:26.125Z"
   },
   {
    "duration": 15,
    "start_time": "2023-01-20T16:04:30.757Z"
   },
   {
    "duration": 6,
    "start_time": "2023-01-20T16:04:33.021Z"
   },
   {
    "duration": 4,
    "start_time": "2023-01-20T16:04:34.693Z"
   },
   {
    "duration": 3,
    "start_time": "2023-01-20T16:04:50.680Z"
   },
   {
    "duration": 37,
    "start_time": "2023-01-20T16:04:53.568Z"
   },
   {
    "duration": 618,
    "start_time": "2023-01-20T16:04:55.113Z"
   },
   {
    "duration": 45,
    "start_time": "2023-01-20T16:05:54.017Z"
   },
   {
    "duration": 2,
    "start_time": "2023-01-20T16:06:06.723Z"
   },
   {
    "duration": 3,
    "start_time": "2023-01-20T16:06:09.070Z"
   },
   {
    "duration": 19,
    "start_time": "2023-01-20T16:06:12.758Z"
   },
   {
    "duration": 78,
    "start_time": "2023-01-20T16:06:17.529Z"
   },
   {
    "duration": 2,
    "start_time": "2023-01-20T16:07:06.920Z"
   },
   {
    "duration": 2,
    "start_time": "2023-01-20T16:07:08.030Z"
   },
   {
    "duration": 21,
    "start_time": "2023-01-20T16:07:11.478Z"
   },
   {
    "duration": 18,
    "start_time": "2023-01-20T16:07:12.355Z"
   },
   {
    "duration": 11,
    "start_time": "2023-01-20T16:07:13.311Z"
   },
   {
    "duration": 74,
    "start_time": "2023-01-20T16:07:14.088Z"
   },
   {
    "duration": 3,
    "start_time": "2023-01-20T16:07:17.187Z"
   },
   {
    "duration": 4,
    "start_time": "2023-01-20T16:07:17.870Z"
   },
   {
    "duration": 6,
    "start_time": "2023-01-20T16:07:18.791Z"
   },
   {
    "duration": 13,
    "start_time": "2023-01-20T16:07:19.795Z"
   },
   {
    "duration": 16,
    "start_time": "2023-01-20T16:07:22.601Z"
   },
   {
    "duration": 2,
    "start_time": "2023-01-20T16:07:31.468Z"
   },
   {
    "duration": 193283,
    "start_time": "2023-01-20T16:07:32.466Z"
   },
   {
    "duration": 12,
    "start_time": "2023-01-20T16:10:45.751Z"
   },
   {
    "duration": 2,
    "start_time": "2023-01-20T16:11:37.852Z"
   },
   {
    "duration": 10,
    "start_time": "2023-01-20T16:11:39.660Z"
   },
   {
    "duration": 17,
    "start_time": "2023-01-20T16:11:40.463Z"
   },
   {
    "duration": 155,
    "start_time": "2023-01-20T16:11:41.081Z"
   },
   {
    "duration": 25,
    "start_time": "2023-01-20T16:12:26.504Z"
   },
   {
    "duration": 10,
    "start_time": "2023-01-20T16:13:03.453Z"
   },
   {
    "duration": 2123,
    "start_time": "2023-01-20T16:13:26.759Z"
   },
   {
    "duration": 1402,
    "start_time": "2023-01-20T16:13:28.884Z"
   },
   {
    "duration": 836,
    "start_time": "2023-01-20T16:13:30.288Z"
   },
   {
    "duration": 31,
    "start_time": "2023-01-20T16:13:31.127Z"
   },
   {
    "duration": 131,
    "start_time": "2023-01-20T16:13:31.159Z"
   },
   {
    "duration": 1058,
    "start_time": "2023-01-20T16:13:31.292Z"
   },
   {
    "duration": 255,
    "start_time": "2023-01-20T16:13:32.351Z"
   },
   {
    "duration": 42,
    "start_time": "2023-01-20T16:13:32.608Z"
   },
   {
    "duration": 63,
    "start_time": "2023-01-20T16:13:32.652Z"
   },
   {
    "duration": 120,
    "start_time": "2023-01-20T16:13:32.719Z"
   },
   {
    "duration": 50,
    "start_time": "2023-01-20T16:13:32.840Z"
   },
   {
    "duration": 101,
    "start_time": "2023-01-20T16:13:32.892Z"
   },
   {
    "duration": 29,
    "start_time": "2023-01-20T16:13:32.995Z"
   },
   {
    "duration": 19,
    "start_time": "2023-01-20T16:13:33.037Z"
   },
   {
    "duration": 32,
    "start_time": "2023-01-20T16:13:33.058Z"
   },
   {
    "duration": 54,
    "start_time": "2023-01-20T16:13:33.091Z"
   },
   {
    "duration": 18,
    "start_time": "2023-01-20T16:13:33.148Z"
   },
   {
    "duration": 30,
    "start_time": "2023-01-20T16:13:33.168Z"
   },
   {
    "duration": 62,
    "start_time": "2023-01-20T16:13:33.200Z"
   },
   {
    "duration": 17,
    "start_time": "2023-01-20T16:13:33.264Z"
   },
   {
    "duration": 31,
    "start_time": "2023-01-20T16:13:33.283Z"
   },
   {
    "duration": 60,
    "start_time": "2023-01-20T16:13:33.316Z"
   },
   {
    "duration": 19,
    "start_time": "2023-01-20T16:13:33.377Z"
   },
   {
    "duration": 43,
    "start_time": "2023-01-20T16:13:33.398Z"
   },
   {
    "duration": 49,
    "start_time": "2023-01-20T16:13:33.443Z"
   },
   {
    "duration": 20,
    "start_time": "2023-01-20T16:13:33.493Z"
   },
   {
    "duration": 43,
    "start_time": "2023-01-20T16:13:33.515Z"
   },
   {
    "duration": 126,
    "start_time": "2023-01-20T16:13:33.562Z"
   },
   {
    "duration": 17,
    "start_time": "2023-01-20T16:13:33.690Z"
   },
   {
    "duration": 139,
    "start_time": "2023-01-20T16:13:33.709Z"
   },
   {
    "duration": 87,
    "start_time": "2023-01-20T16:13:33.850Z"
   },
   {
    "duration": 76,
    "start_time": "2023-01-20T16:13:33.939Z"
   },
   {
    "duration": 69,
    "start_time": "2023-01-20T16:13:34.017Z"
   },
   {
    "duration": 18,
    "start_time": "2023-01-20T16:13:34.087Z"
   },
   {
    "duration": 163,
    "start_time": "2023-01-20T16:13:34.107Z"
   },
   {
    "duration": 34,
    "start_time": "2023-01-20T16:13:34.272Z"
   },
   {
    "duration": 60,
    "start_time": "2023-01-20T16:13:34.307Z"
   },
   {
    "duration": 19,
    "start_time": "2023-01-20T16:13:34.369Z"
   },
   {
    "duration": 15,
    "start_time": "2023-01-20T16:13:34.390Z"
   },
   {
    "duration": 295,
    "start_time": "2023-01-20T16:13:34.407Z"
   },
   {
    "duration": 7,
    "start_time": "2023-01-20T16:13:34.703Z"
   },
   {
    "duration": 113,
    "start_time": "2023-01-20T16:13:34.712Z"
   },
   {
    "duration": 26,
    "start_time": "2023-01-20T16:13:34.827Z"
   },
   {
    "duration": 135,
    "start_time": "2023-01-20T16:13:34.855Z"
   },
   {
    "duration": 147,
    "start_time": "2023-01-20T16:13:34.992Z"
   },
   {
    "duration": 3945,
    "start_time": "2023-01-20T16:13:35.141Z"
   },
   {
    "duration": 19,
    "start_time": "2023-01-20T16:13:39.087Z"
   },
   {
    "duration": 1320,
    "start_time": "2023-01-20T16:13:39.107Z"
   },
   {
    "duration": 15,
    "start_time": "2023-01-20T16:13:40.430Z"
   },
   {
    "duration": 14,
    "start_time": "2023-01-20T16:13:40.447Z"
   },
   {
    "duration": 108,
    "start_time": "2023-01-20T16:13:40.463Z"
   },
   {
    "duration": 5,
    "start_time": "2023-01-20T16:13:40.574Z"
   },
   {
    "duration": 64,
    "start_time": "2023-01-20T16:13:40.581Z"
   },
   {
    "duration": 27,
    "start_time": "2023-01-20T16:13:40.647Z"
   },
   {
    "duration": 15,
    "start_time": "2023-01-20T16:13:40.676Z"
   },
   {
    "duration": 8,
    "start_time": "2023-01-20T16:13:40.692Z"
   },
   {
    "duration": 7,
    "start_time": "2023-01-20T16:13:40.702Z"
   },
   {
    "duration": 31,
    "start_time": "2023-01-20T16:13:40.710Z"
   },
   {
    "duration": 40,
    "start_time": "2023-01-20T16:13:40.743Z"
   },
   {
    "duration": 572,
    "start_time": "2023-01-20T16:13:40.785Z"
   },
   {
    "duration": 111,
    "start_time": "2023-01-20T16:13:41.358Z"
   },
   {
    "duration": 3,
    "start_time": "2023-01-20T16:13:41.471Z"
   },
   {
    "duration": 8,
    "start_time": "2023-01-20T16:13:41.475Z"
   },
   {
    "duration": 21,
    "start_time": "2023-01-20T16:13:41.484Z"
   },
   {
    "duration": 98,
    "start_time": "2023-01-20T16:13:41.507Z"
   },
   {
    "duration": 10,
    "start_time": "2023-01-20T16:13:41.607Z"
   },
   {
    "duration": 101,
    "start_time": "2023-01-20T16:13:41.619Z"
   },
   {
    "duration": 29,
    "start_time": "2023-01-20T16:13:41.722Z"
   },
   {
    "duration": 3,
    "start_time": "2023-01-20T16:13:41.753Z"
   },
   {
    "duration": 6,
    "start_time": "2023-01-20T16:13:41.757Z"
   },
   {
    "duration": 8,
    "start_time": "2023-01-20T16:13:41.764Z"
   },
   {
    "duration": 15,
    "start_time": "2023-01-20T16:13:41.774Z"
   },
   {
    "duration": 5,
    "start_time": "2023-01-20T16:13:41.791Z"
   },
   {
    "duration": 170050,
    "start_time": "2023-01-20T16:13:41.798Z"
   },
   {
    "duration": 13,
    "start_time": "2023-01-20T16:16:31.850Z"
   },
   {
    "duration": 8,
    "start_time": "2023-01-20T16:16:31.865Z"
   },
   {
    "duration": 17,
    "start_time": "2023-01-20T16:16:31.875Z"
   },
   {
    "duration": 45,
    "start_time": "2023-01-20T16:16:31.893Z"
   },
   {
    "duration": 190789,
    "start_time": "2023-01-20T16:16:42.639Z"
   },
   {
    "duration": 11,
    "start_time": "2023-01-20T16:20:05.582Z"
   },
   {
    "duration": 10,
    "start_time": "2023-01-20T16:20:08.463Z"
   },
   {
    "duration": 13,
    "start_time": "2023-01-20T16:20:14.207Z"
   },
   {
    "duration": 174,
    "start_time": "2023-01-20T16:20:16.703Z"
   },
   {
    "duration": 6566,
    "start_time": "2023-01-20T16:20:23.672Z"
   },
   {
    "duration": 5,
    "start_time": "2023-01-20T16:20:30.241Z"
   },
   {
    "duration": 3260,
    "start_time": "2023-01-20T19:14:19.743Z"
   },
   {
    "duration": 1618,
    "start_time": "2023-01-20T19:14:23.006Z"
   },
   {
    "duration": 1064,
    "start_time": "2023-01-20T19:14:24.626Z"
   },
   {
    "duration": 17,
    "start_time": "2023-01-20T19:14:25.692Z"
   },
   {
    "duration": 117,
    "start_time": "2023-01-20T19:14:25.710Z"
   },
   {
    "duration": 930,
    "start_time": "2023-01-20T19:14:25.828Z"
   },
   {
    "duration": 269,
    "start_time": "2023-01-20T19:14:26.760Z"
   },
   {
    "duration": 30,
    "start_time": "2023-01-20T19:14:27.030Z"
   },
   {
    "duration": 69,
    "start_time": "2023-01-20T19:14:27.062Z"
   },
   {
    "duration": 102,
    "start_time": "2023-01-20T19:14:27.134Z"
   },
   {
    "duration": 47,
    "start_time": "2023-01-20T19:14:27.237Z"
   },
   {
    "duration": 120,
    "start_time": "2023-01-20T19:14:27.286Z"
   },
   {
    "duration": 28,
    "start_time": "2023-01-20T19:14:27.408Z"
   },
   {
    "duration": 22,
    "start_time": "2023-01-20T19:14:27.437Z"
   },
   {
    "duration": 27,
    "start_time": "2023-01-20T19:14:27.461Z"
   },
   {
    "duration": 64,
    "start_time": "2023-01-20T19:14:27.490Z"
   },
   {
    "duration": 18,
    "start_time": "2023-01-20T19:14:27.555Z"
   },
   {
    "duration": 30,
    "start_time": "2023-01-20T19:14:27.574Z"
   },
   {
    "duration": 54,
    "start_time": "2023-01-20T19:14:27.606Z"
   },
   {
    "duration": 16,
    "start_time": "2023-01-20T19:14:27.662Z"
   },
   {
    "duration": 30,
    "start_time": "2023-01-20T19:14:27.680Z"
   },
   {
    "duration": 38,
    "start_time": "2023-01-20T19:14:27.727Z"
   },
   {
    "duration": 17,
    "start_time": "2023-01-20T19:14:27.767Z"
   },
   {
    "duration": 44,
    "start_time": "2023-01-20T19:14:27.786Z"
   },
   {
    "duration": 44,
    "start_time": "2023-01-20T19:14:27.832Z"
   },
   {
    "duration": 19,
    "start_time": "2023-01-20T19:14:27.878Z"
   },
   {
    "duration": 48,
    "start_time": "2023-01-20T19:14:27.899Z"
   },
   {
    "duration": 108,
    "start_time": "2023-01-20T19:14:27.951Z"
   },
   {
    "duration": 16,
    "start_time": "2023-01-20T19:14:28.060Z"
   },
   {
    "duration": 140,
    "start_time": "2023-01-20T19:14:28.078Z"
   },
   {
    "duration": 83,
    "start_time": "2023-01-20T19:14:28.220Z"
   },
   {
    "duration": 80,
    "start_time": "2023-01-20T19:14:28.305Z"
   },
   {
    "duration": 65,
    "start_time": "2023-01-20T19:14:28.387Z"
   },
   {
    "duration": 19,
    "start_time": "2023-01-20T19:14:28.455Z"
   },
   {
    "duration": 168,
    "start_time": "2023-01-20T19:14:28.476Z"
   },
   {
    "duration": 41,
    "start_time": "2023-01-20T19:14:28.647Z"
   },
   {
    "duration": 47,
    "start_time": "2023-01-20T19:14:28.691Z"
   },
   {
    "duration": 17,
    "start_time": "2023-01-20T19:14:28.740Z"
   },
   {
    "duration": 18,
    "start_time": "2023-01-20T19:14:28.759Z"
   },
   {
    "duration": 289,
    "start_time": "2023-01-20T19:14:28.779Z"
   },
   {
    "duration": 8,
    "start_time": "2023-01-20T19:14:29.070Z"
   },
   {
    "duration": 107,
    "start_time": "2023-01-20T19:14:29.080Z"
   },
   {
    "duration": 21,
    "start_time": "2023-01-20T19:14:29.188Z"
   },
   {
    "duration": 137,
    "start_time": "2023-01-20T19:14:29.211Z"
   },
   {
    "duration": 138,
    "start_time": "2023-01-20T19:14:29.350Z"
   },
   {
    "duration": 3865,
    "start_time": "2023-01-20T19:14:29.489Z"
   },
   {
    "duration": 18,
    "start_time": "2023-01-20T19:14:33.356Z"
   },
   {
    "duration": 1304,
    "start_time": "2023-01-20T19:14:33.376Z"
   },
   {
    "duration": 13,
    "start_time": "2023-01-20T19:14:34.681Z"
   },
   {
    "duration": 17,
    "start_time": "2023-01-20T19:14:34.696Z"
   },
   {
    "duration": 105,
    "start_time": "2023-01-20T19:14:34.715Z"
   },
   {
    "duration": 6,
    "start_time": "2023-01-20T19:14:34.821Z"
   },
   {
    "duration": 51,
    "start_time": "2023-01-20T19:14:34.828Z"
   },
   {
    "duration": 27,
    "start_time": "2023-01-20T19:14:34.881Z"
   },
   {
    "duration": 26,
    "start_time": "2023-01-20T19:14:34.910Z"
   },
   {
    "duration": 5,
    "start_time": "2023-01-20T19:14:34.937Z"
   },
   {
    "duration": 7,
    "start_time": "2023-01-20T19:14:34.943Z"
   },
   {
    "duration": 8,
    "start_time": "2023-01-20T19:14:34.951Z"
   },
   {
    "duration": 43,
    "start_time": "2023-01-20T19:14:34.960Z"
   },
   {
    "duration": 535,
    "start_time": "2023-01-20T19:14:35.005Z"
   },
   {
    "duration": 99,
    "start_time": "2023-01-20T19:14:35.542Z"
   },
   {
    "duration": 2,
    "start_time": "2023-01-20T19:14:35.643Z"
   },
   {
    "duration": 19,
    "start_time": "2023-01-20T19:14:35.647Z"
   },
   {
    "duration": 14,
    "start_time": "2023-01-20T19:14:35.667Z"
   },
   {
    "duration": 76,
    "start_time": "2023-01-20T19:14:35.683Z"
   },
   {
    "duration": 18,
    "start_time": "2023-01-20T19:14:35.761Z"
   },
   {
    "duration": 84,
    "start_time": "2023-01-20T19:14:35.781Z"
   },
   {
    "duration": 10,
    "start_time": "2023-01-20T19:14:35.867Z"
   },
   {
    "duration": 90,
    "start_time": "2023-01-20T19:14:35.878Z"
   },
   {
    "duration": 2,
    "start_time": "2023-01-20T19:14:35.970Z"
   },
   {
    "duration": 16,
    "start_time": "2023-01-20T19:14:35.974Z"
   },
   {
    "duration": 12,
    "start_time": "2023-01-20T19:14:35.991Z"
   },
   {
    "duration": 16,
    "start_time": "2023-01-20T19:14:36.005Z"
   },
   {
    "duration": 7,
    "start_time": "2023-01-20T19:14:36.023Z"
   },
   {
    "duration": 478575,
    "start_time": "2023-01-20T19:14:36.032Z"
   },
   {
    "duration": 10,
    "start_time": "2023-01-20T19:22:34.609Z"
   },
   {
    "duration": 78,
    "start_time": "2023-01-20T19:22:34.620Z"
   },
   {
    "duration": 30,
    "start_time": "2023-01-20T19:22:34.700Z"
   },
   {
    "duration": 2055,
    "start_time": "2023-01-20T19:22:44.741Z"
   },
   {
    "duration": 1452,
    "start_time": "2023-01-20T19:22:46.799Z"
   },
   {
    "duration": 744,
    "start_time": "2023-01-20T19:22:48.253Z"
   },
   {
    "duration": 17,
    "start_time": "2023-01-20T19:22:48.999Z"
   },
   {
    "duration": 125,
    "start_time": "2023-01-20T19:22:49.018Z"
   },
   {
    "duration": 903,
    "start_time": "2023-01-20T19:22:49.145Z"
   },
   {
    "duration": 280,
    "start_time": "2023-01-20T19:22:50.050Z"
   },
   {
    "duration": 44,
    "start_time": "2023-01-20T19:22:50.332Z"
   },
   {
    "duration": 86,
    "start_time": "2023-01-20T19:22:50.378Z"
   },
   {
    "duration": 122,
    "start_time": "2023-01-20T19:22:50.467Z"
   },
   {
    "duration": 69,
    "start_time": "2023-01-20T19:22:50.591Z"
   },
   {
    "duration": 115,
    "start_time": "2023-01-20T19:22:50.662Z"
   },
   {
    "duration": 29,
    "start_time": "2023-01-20T19:22:50.779Z"
   },
   {
    "duration": 25,
    "start_time": "2023-01-20T19:22:50.809Z"
   },
   {
    "duration": 27,
    "start_time": "2023-01-20T19:22:50.836Z"
   },
   {
    "duration": 42,
    "start_time": "2023-01-20T19:22:50.865Z"
   },
   {
    "duration": 17,
    "start_time": "2023-01-20T19:22:50.927Z"
   },
   {
    "duration": 27,
    "start_time": "2023-01-20T19:22:50.946Z"
   },
   {
    "duration": 57,
    "start_time": "2023-01-20T19:22:50.975Z"
   },
   {
    "duration": 17,
    "start_time": "2023-01-20T19:22:51.033Z"
   },
   {
    "duration": 29,
    "start_time": "2023-01-20T19:22:51.052Z"
   },
   {
    "duration": 65,
    "start_time": "2023-01-20T19:22:51.083Z"
   },
   {
    "duration": 17,
    "start_time": "2023-01-20T19:22:51.150Z"
   },
   {
    "duration": 30,
    "start_time": "2023-01-20T19:22:51.169Z"
   },
   {
    "duration": 61,
    "start_time": "2023-01-20T19:22:51.201Z"
   },
   {
    "duration": 27,
    "start_time": "2023-01-20T19:22:51.264Z"
   },
   {
    "duration": 40,
    "start_time": "2023-01-20T19:22:51.293Z"
   },
   {
    "duration": 135,
    "start_time": "2023-01-20T19:22:51.338Z"
   },
   {
    "duration": 16,
    "start_time": "2023-01-20T19:22:51.475Z"
   },
   {
    "duration": 134,
    "start_time": "2023-01-20T19:22:51.493Z"
   },
   {
    "duration": 72,
    "start_time": "2023-01-20T19:22:51.628Z"
   },
   {
    "duration": 72,
    "start_time": "2023-01-20T19:22:51.702Z"
   },
   {
    "duration": 67,
    "start_time": "2023-01-20T19:22:51.776Z"
   },
   {
    "duration": 15,
    "start_time": "2023-01-20T19:22:51.845Z"
   },
   {
    "duration": 136,
    "start_time": "2023-01-20T19:22:51.862Z"
   },
   {
    "duration": 38,
    "start_time": "2023-01-20T19:22:52.000Z"
   },
   {
    "duration": 35,
    "start_time": "2023-01-20T19:22:52.040Z"
   },
   {
    "duration": 15,
    "start_time": "2023-01-20T19:22:52.077Z"
   },
   {
    "duration": 39,
    "start_time": "2023-01-20T19:22:52.094Z"
   },
   {
    "duration": 263,
    "start_time": "2023-01-20T19:22:52.135Z"
   },
   {
    "duration": 7,
    "start_time": "2023-01-20T19:22:52.400Z"
   },
   {
    "duration": 101,
    "start_time": "2023-01-20T19:22:52.408Z"
   },
   {
    "duration": 25,
    "start_time": "2023-01-20T19:22:52.510Z"
   },
   {
    "duration": 134,
    "start_time": "2023-01-20T19:22:52.537Z"
   },
   {
    "duration": 149,
    "start_time": "2023-01-20T19:22:52.673Z"
   },
   {
    "duration": 3733,
    "start_time": "2023-01-20T19:22:52.824Z"
   },
   {
    "duration": 19,
    "start_time": "2023-01-20T19:22:56.559Z"
   },
   {
    "duration": 1247,
    "start_time": "2023-01-20T19:22:56.580Z"
   },
   {
    "duration": 13,
    "start_time": "2023-01-20T19:22:57.830Z"
   },
   {
    "duration": 11,
    "start_time": "2023-01-20T19:22:57.845Z"
   },
   {
    "duration": 117,
    "start_time": "2023-01-20T19:22:57.858Z"
   },
   {
    "duration": 5,
    "start_time": "2023-01-20T19:22:57.976Z"
   },
   {
    "duration": 62,
    "start_time": "2023-01-20T19:22:57.982Z"
   },
   {
    "duration": 33,
    "start_time": "2023-01-20T19:22:58.046Z"
   },
   {
    "duration": 19,
    "start_time": "2023-01-20T19:22:58.081Z"
   },
   {
    "duration": 27,
    "start_time": "2023-01-20T19:22:58.102Z"
   },
   {
    "duration": 3,
    "start_time": "2023-01-20T19:22:58.131Z"
   },
   {
    "duration": 6,
    "start_time": "2023-01-20T19:22:58.135Z"
   },
   {
    "duration": 39,
    "start_time": "2023-01-20T19:22:58.143Z"
   },
   {
    "duration": 548,
    "start_time": "2023-01-20T19:22:58.183Z"
   },
   {
    "duration": 95,
    "start_time": "2023-01-20T19:22:58.733Z"
   },
   {
    "duration": 2,
    "start_time": "2023-01-20T19:22:58.830Z"
   },
   {
    "duration": 9,
    "start_time": "2023-01-20T19:22:58.834Z"
   },
   {
    "duration": 18,
    "start_time": "2023-01-20T19:22:58.845Z"
   },
   {
    "duration": 74,
    "start_time": "2023-01-20T19:22:58.864Z"
   },
   {
    "duration": 17,
    "start_time": "2023-01-20T19:22:58.940Z"
   },
   {
    "duration": 90,
    "start_time": "2023-01-20T19:22:58.958Z"
   },
   {
    "duration": 10,
    "start_time": "2023-01-20T19:22:59.050Z"
   },
   {
    "duration": 82,
    "start_time": "2023-01-20T19:22:59.062Z"
   },
   {
    "duration": 2,
    "start_time": "2023-01-20T19:22:59.146Z"
   },
   {
    "duration": 17,
    "start_time": "2023-01-20T19:22:59.150Z"
   },
   {
    "duration": 9,
    "start_time": "2023-01-20T19:22:59.168Z"
   },
   {
    "duration": 23,
    "start_time": "2023-01-20T19:22:59.179Z"
   },
   {
    "duration": 10,
    "start_time": "2023-01-20T19:22:59.204Z"
   },
   {
    "duration": 248458,
    "start_time": "2023-01-20T19:22:59.216Z"
   },
   {
    "duration": 11,
    "start_time": "2023-01-20T19:27:07.675Z"
   },
   {
    "duration": 15,
    "start_time": "2023-01-20T19:27:07.688Z"
   },
   {
    "duration": 13,
    "start_time": "2023-01-20T19:27:07.705Z"
   },
   {
    "duration": 25803,
    "start_time": "2023-01-20T19:27:07.720Z"
   },
   {
    "duration": 0,
    "start_time": "2023-01-20T19:27:33.525Z"
   },
   {
    "duration": 0,
    "start_time": "2023-01-20T19:27:33.527Z"
   },
   {
    "duration": 0,
    "start_time": "2023-01-20T19:27:33.528Z"
   },
   {
    "duration": 0,
    "start_time": "2023-01-20T19:27:33.530Z"
   },
   {
    "duration": 0,
    "start_time": "2023-01-20T19:27:33.532Z"
   },
   {
    "duration": 0,
    "start_time": "2023-01-20T19:27:33.533Z"
   },
   {
    "duration": 0,
    "start_time": "2023-01-20T19:27:33.539Z"
   },
   {
    "duration": 0,
    "start_time": "2023-01-20T19:27:33.541Z"
   },
   {
    "duration": 74,
    "start_time": "2023-01-20T19:27:46.083Z"
   },
   {
    "duration": 2566,
    "start_time": "2023-01-20T19:27:56.022Z"
   },
   {
    "duration": 3273,
    "start_time": "2023-01-20T19:27:58.592Z"
   },
   {
    "duration": 897,
    "start_time": "2023-01-20T19:28:01.867Z"
   },
   {
    "duration": 21,
    "start_time": "2023-01-20T19:28:02.767Z"
   },
   {
    "duration": 130,
    "start_time": "2023-01-20T19:28:02.790Z"
   },
   {
    "duration": 967,
    "start_time": "2023-01-20T19:28:02.927Z"
   },
   {
    "duration": 304,
    "start_time": "2023-01-20T19:28:03.896Z"
   },
   {
    "duration": 36,
    "start_time": "2023-01-20T19:28:04.201Z"
   },
   {
    "duration": 71,
    "start_time": "2023-01-20T19:28:04.239Z"
   },
   {
    "duration": 116,
    "start_time": "2023-01-20T19:28:04.312Z"
   },
   {
    "duration": 42,
    "start_time": "2023-01-20T19:28:04.429Z"
   },
   {
    "duration": 131,
    "start_time": "2023-01-20T19:28:04.473Z"
   },
   {
    "duration": 35,
    "start_time": "2023-01-20T19:28:04.606Z"
   },
   {
    "duration": 18,
    "start_time": "2023-01-20T19:28:04.643Z"
   },
   {
    "duration": 29,
    "start_time": "2023-01-20T19:28:04.663Z"
   },
   {
    "duration": 63,
    "start_time": "2023-01-20T19:28:04.694Z"
   },
   {
    "duration": 19,
    "start_time": "2023-01-20T19:28:04.759Z"
   },
   {
    "duration": 47,
    "start_time": "2023-01-20T19:28:04.779Z"
   },
   {
    "duration": 47,
    "start_time": "2023-01-20T19:28:04.828Z"
   },
   {
    "duration": 17,
    "start_time": "2023-01-20T19:28:04.877Z"
   },
   {
    "duration": 46,
    "start_time": "2023-01-20T19:28:04.895Z"
   },
   {
    "duration": 38,
    "start_time": "2023-01-20T19:28:04.943Z"
   },
   {
    "duration": 18,
    "start_time": "2023-01-20T19:28:04.983Z"
   },
   {
    "duration": 45,
    "start_time": "2023-01-20T19:28:05.002Z"
   },
   {
    "duration": 50,
    "start_time": "2023-01-20T19:28:05.049Z"
   },
   {
    "duration": 28,
    "start_time": "2023-01-20T19:28:05.100Z"
   },
   {
    "duration": 28,
    "start_time": "2023-01-20T19:28:05.130Z"
   },
   {
    "duration": 155,
    "start_time": "2023-01-20T19:28:05.162Z"
   },
   {
    "duration": 22,
    "start_time": "2023-01-20T19:28:05.319Z"
   },
   {
    "duration": 133,
    "start_time": "2023-01-20T19:28:05.342Z"
   },
   {
    "duration": 83,
    "start_time": "2023-01-20T19:28:05.476Z"
   },
   {
    "duration": 81,
    "start_time": "2023-01-20T19:28:05.560Z"
   },
   {
    "duration": 51,
    "start_time": "2023-01-20T19:28:05.643Z"
   },
   {
    "duration": 36,
    "start_time": "2023-01-20T19:28:05.696Z"
   },
   {
    "duration": 139,
    "start_time": "2023-01-20T19:28:05.734Z"
   },
   {
    "duration": 34,
    "start_time": "2023-01-20T19:28:05.875Z"
   },
   {
    "duration": 63,
    "start_time": "2023-01-20T19:28:05.911Z"
   },
   {
    "duration": 15,
    "start_time": "2023-01-20T19:28:05.976Z"
   },
   {
    "duration": 24,
    "start_time": "2023-01-20T19:28:05.992Z"
   },
   {
    "duration": 263,
    "start_time": "2023-01-20T19:28:06.017Z"
   },
   {
    "duration": 6,
    "start_time": "2023-01-20T19:28:06.282Z"
   },
   {
    "duration": 128,
    "start_time": "2023-01-20T19:28:06.290Z"
   },
   {
    "duration": 30,
    "start_time": "2023-01-20T19:28:06.420Z"
   },
   {
    "duration": 172,
    "start_time": "2023-01-20T19:28:06.453Z"
   },
   {
    "duration": 205,
    "start_time": "2023-01-20T19:28:06.627Z"
   },
   {
    "duration": 4210,
    "start_time": "2023-01-20T19:28:06.833Z"
   },
   {
    "duration": 19,
    "start_time": "2023-01-20T19:28:11.044Z"
   },
   {
    "duration": 1286,
    "start_time": "2023-01-20T19:28:11.065Z"
   },
   {
    "duration": 13,
    "start_time": "2023-01-20T19:28:12.353Z"
   },
   {
    "duration": 12,
    "start_time": "2023-01-20T19:28:12.368Z"
   },
   {
    "duration": 98,
    "start_time": "2023-01-20T19:28:12.382Z"
   },
   {
    "duration": 5,
    "start_time": "2023-01-20T19:28:12.482Z"
   },
   {
    "duration": 62,
    "start_time": "2023-01-20T19:28:12.488Z"
   },
   {
    "duration": 35,
    "start_time": "2023-01-20T19:28:12.553Z"
   },
   {
    "duration": 38,
    "start_time": "2023-01-20T19:28:12.591Z"
   },
   {
    "duration": 6,
    "start_time": "2023-01-20T19:28:12.631Z"
   },
   {
    "duration": 11,
    "start_time": "2023-01-20T19:28:12.640Z"
   },
   {
    "duration": 10,
    "start_time": "2023-01-20T19:28:12.653Z"
   },
   {
    "duration": 47,
    "start_time": "2023-01-20T19:28:12.664Z"
   },
   {
    "duration": 610,
    "start_time": "2023-01-20T19:28:12.713Z"
   },
   {
    "duration": 102,
    "start_time": "2023-01-20T19:28:13.325Z"
   },
   {
    "duration": 2,
    "start_time": "2023-01-20T19:28:13.429Z"
   },
   {
    "duration": 7,
    "start_time": "2023-01-20T19:28:13.433Z"
   },
   {
    "duration": 16,
    "start_time": "2023-01-20T19:28:13.441Z"
   },
   {
    "duration": 91,
    "start_time": "2023-01-20T19:28:13.459Z"
   },
   {
    "duration": 19,
    "start_time": "2023-01-20T19:28:13.552Z"
   },
   {
    "duration": 92,
    "start_time": "2023-01-20T19:28:13.573Z"
   },
   {
    "duration": 12,
    "start_time": "2023-01-20T19:28:13.667Z"
   },
   {
    "duration": 87,
    "start_time": "2023-01-20T19:28:13.681Z"
   },
   {
    "duration": 3,
    "start_time": "2023-01-20T19:28:13.771Z"
   },
   {
    "duration": 6,
    "start_time": "2023-01-20T19:28:13.776Z"
   },
   {
    "duration": 9,
    "start_time": "2023-01-20T19:28:13.784Z"
   },
   {
    "duration": 16,
    "start_time": "2023-01-20T19:28:13.795Z"
   },
   {
    "duration": 3,
    "start_time": "2023-01-20T19:28:13.827Z"
   },
   {
    "duration": 240602,
    "start_time": "2023-01-20T19:28:13.832Z"
   },
   {
    "duration": 14,
    "start_time": "2023-01-20T19:32:14.436Z"
   },
   {
    "duration": 6,
    "start_time": "2023-01-20T19:32:14.451Z"
   },
   {
    "duration": 19,
    "start_time": "2023-01-20T19:32:14.459Z"
   },
   {
    "duration": 16218,
    "start_time": "2023-01-20T19:32:14.480Z"
   },
   {
    "duration": 0,
    "start_time": "2023-01-20T19:32:30.700Z"
   },
   {
    "duration": 0,
    "start_time": "2023-01-20T19:32:30.702Z"
   },
   {
    "duration": 0,
    "start_time": "2023-01-20T19:32:30.703Z"
   },
   {
    "duration": 0,
    "start_time": "2023-01-20T19:32:30.704Z"
   },
   {
    "duration": 0,
    "start_time": "2023-01-20T19:32:30.705Z"
   },
   {
    "duration": 0,
    "start_time": "2023-01-20T19:32:30.707Z"
   },
   {
    "duration": 0,
    "start_time": "2023-01-20T19:32:30.737Z"
   },
   {
    "duration": 0,
    "start_time": "2023-01-20T19:32:30.739Z"
   },
   {
    "duration": 2166,
    "start_time": "2023-01-20T19:33:03.957Z"
   },
   {
    "duration": 1557,
    "start_time": "2023-01-20T19:33:06.126Z"
   },
   {
    "duration": 814,
    "start_time": "2023-01-20T19:33:07.685Z"
   },
   {
    "duration": 18,
    "start_time": "2023-01-20T19:33:08.501Z"
   },
   {
    "duration": 130,
    "start_time": "2023-01-20T19:33:08.521Z"
   },
   {
    "duration": 955,
    "start_time": "2023-01-20T19:33:08.653Z"
   },
   {
    "duration": 267,
    "start_time": "2023-01-20T19:33:09.610Z"
   },
   {
    "duration": 31,
    "start_time": "2023-01-20T19:33:09.879Z"
   },
   {
    "duration": 66,
    "start_time": "2023-01-20T19:33:09.913Z"
   },
   {
    "duration": 111,
    "start_time": "2023-01-20T19:33:09.982Z"
   },
   {
    "duration": 103,
    "start_time": "2023-01-20T19:33:10.096Z"
   },
   {
    "duration": 153,
    "start_time": "2023-01-20T19:33:10.201Z"
   },
   {
    "duration": 37,
    "start_time": "2023-01-20T19:33:10.356Z"
   },
   {
    "duration": 55,
    "start_time": "2023-01-20T19:33:10.395Z"
   },
   {
    "duration": 51,
    "start_time": "2023-01-20T19:33:10.454Z"
   },
   {
    "duration": 72,
    "start_time": "2023-01-20T19:33:10.507Z"
   },
   {
    "duration": 24,
    "start_time": "2023-01-20T19:33:10.581Z"
   },
   {
    "duration": 59,
    "start_time": "2023-01-20T19:33:10.607Z"
   },
   {
    "duration": 97,
    "start_time": "2023-01-20T19:33:10.669Z"
   },
   {
    "duration": 18,
    "start_time": "2023-01-20T19:33:10.768Z"
   },
   {
    "duration": 43,
    "start_time": "2023-01-20T19:33:10.790Z"
   },
   {
    "duration": 72,
    "start_time": "2023-01-20T19:33:10.835Z"
   },
   {
    "duration": 30,
    "start_time": "2023-01-20T19:33:10.909Z"
   },
   {
    "duration": 68,
    "start_time": "2023-01-20T19:33:10.941Z"
   },
   {
    "duration": 55,
    "start_time": "2023-01-20T19:33:11.011Z"
   },
   {
    "duration": 19,
    "start_time": "2023-01-20T19:33:11.068Z"
   },
   {
    "duration": 45,
    "start_time": "2023-01-20T19:33:11.088Z"
   },
   {
    "duration": 136,
    "start_time": "2023-01-20T19:33:11.139Z"
   },
   {
    "duration": 18,
    "start_time": "2023-01-20T19:33:11.276Z"
   },
   {
    "duration": 150,
    "start_time": "2023-01-20T19:33:11.295Z"
   },
   {
    "duration": 86,
    "start_time": "2023-01-20T19:33:11.447Z"
   },
   {
    "duration": 69,
    "start_time": "2023-01-20T19:33:11.538Z"
   },
   {
    "duration": 56,
    "start_time": "2023-01-20T19:33:11.609Z"
   },
   {
    "duration": 18,
    "start_time": "2023-01-20T19:33:11.666Z"
   },
   {
    "duration": 163,
    "start_time": "2023-01-20T19:33:11.686Z"
   },
   {
    "duration": 31,
    "start_time": "2023-01-20T19:33:11.851Z"
   },
   {
    "duration": 59,
    "start_time": "2023-01-20T19:33:11.884Z"
   },
   {
    "duration": 16,
    "start_time": "2023-01-20T19:33:11.944Z"
   },
   {
    "duration": 13,
    "start_time": "2023-01-20T19:33:11.961Z"
   },
   {
    "duration": 308,
    "start_time": "2023-01-20T19:33:11.976Z"
   },
   {
    "duration": 11,
    "start_time": "2023-01-20T19:33:12.286Z"
   },
   {
    "duration": 145,
    "start_time": "2023-01-20T19:33:12.299Z"
   },
   {
    "duration": 21,
    "start_time": "2023-01-20T19:33:12.446Z"
   },
   {
    "duration": 140,
    "start_time": "2023-01-20T19:33:12.468Z"
   },
   {
    "duration": 160,
    "start_time": "2023-01-20T19:33:12.609Z"
   },
   {
    "duration": 4135,
    "start_time": "2023-01-20T19:33:12.771Z"
   },
   {
    "duration": 29,
    "start_time": "2023-01-20T19:33:16.907Z"
   },
   {
    "duration": 1389,
    "start_time": "2023-01-20T19:33:16.939Z"
   },
   {
    "duration": 19,
    "start_time": "2023-01-20T19:33:18.330Z"
   },
   {
    "duration": 11,
    "start_time": "2023-01-20T19:33:18.350Z"
   },
   {
    "duration": 121,
    "start_time": "2023-01-20T19:33:18.363Z"
   },
   {
    "duration": 5,
    "start_time": "2023-01-20T19:33:18.485Z"
   },
   {
    "duration": 77,
    "start_time": "2023-01-20T19:33:18.491Z"
   },
   {
    "duration": 26,
    "start_time": "2023-01-20T19:33:18.570Z"
   },
   {
    "duration": 19,
    "start_time": "2023-01-20T19:33:18.598Z"
   },
   {
    "duration": 9,
    "start_time": "2023-01-20T19:33:18.619Z"
   },
   {
    "duration": 31,
    "start_time": "2023-01-20T19:33:18.630Z"
   },
   {
    "duration": 20,
    "start_time": "2023-01-20T19:33:18.663Z"
   },
   {
    "duration": 75,
    "start_time": "2023-01-20T19:33:18.684Z"
   },
   {
    "duration": 627,
    "start_time": "2023-01-20T19:33:18.760Z"
   },
   {
    "duration": 108,
    "start_time": "2023-01-20T19:33:19.389Z"
   },
   {
    "duration": 2,
    "start_time": "2023-01-20T19:33:19.499Z"
   },
   {
    "duration": 6,
    "start_time": "2023-01-20T19:33:19.503Z"
   },
   {
    "duration": 34,
    "start_time": "2023-01-20T19:33:19.510Z"
   },
   {
    "duration": 90,
    "start_time": "2023-01-20T19:33:19.547Z"
   },
   {
    "duration": 11,
    "start_time": "2023-01-20T19:33:19.641Z"
   },
   {
    "duration": 106,
    "start_time": "2023-01-20T19:33:19.653Z"
   },
   {
    "duration": 2,
    "start_time": "2023-01-20T19:33:19.761Z"
   },
   {
    "duration": 18,
    "start_time": "2023-01-20T19:33:19.765Z"
   },
   {
    "duration": 12,
    "start_time": "2023-01-20T19:33:19.785Z"
   },
   {
    "duration": 24,
    "start_time": "2023-01-20T19:33:19.799Z"
   },
   {
    "duration": 24,
    "start_time": "2023-01-20T19:33:19.825Z"
   },
   {
    "duration": 525221,
    "start_time": "2023-01-20T19:34:02.723Z"
   },
   {
    "duration": 12,
    "start_time": "2023-01-20T19:42:52.433Z"
   },
   {
    "duration": 3,
    "start_time": "2023-01-20T19:43:06.547Z"
   },
   {
    "duration": 10,
    "start_time": "2023-01-20T19:43:07.351Z"
   },
   {
    "duration": 183068,
    "start_time": "2023-01-20T19:43:08.312Z"
   },
   {
    "duration": 12,
    "start_time": "2023-01-20T19:47:18.957Z"
   },
   {
    "duration": 10,
    "start_time": "2023-01-20T19:47:21.013Z"
   },
   {
    "duration": 9,
    "start_time": "2023-01-20T19:47:26.732Z"
   },
   {
    "duration": 148,
    "start_time": "2023-01-20T19:47:27.604Z"
   },
   {
    "duration": 6471,
    "start_time": "2023-01-20T19:47:32.058Z"
   },
   {
    "duration": 5,
    "start_time": "2023-01-20T19:47:38.531Z"
   },
   {
    "duration": 3033,
    "start_time": "2023-01-21T12:41:28.116Z"
   },
   {
    "duration": 1622,
    "start_time": "2023-01-21T12:41:31.151Z"
   },
   {
    "duration": 1056,
    "start_time": "2023-01-21T12:41:32.774Z"
   },
   {
    "duration": 18,
    "start_time": "2023-01-21T12:41:33.832Z"
   },
   {
    "duration": 122,
    "start_time": "2023-01-21T12:41:33.852Z"
   },
   {
    "duration": 985,
    "start_time": "2023-01-21T12:41:33.975Z"
   },
   {
    "duration": 261,
    "start_time": "2023-01-21T12:41:34.962Z"
   },
   {
    "duration": 34,
    "start_time": "2023-01-21T12:41:35.225Z"
   },
   {
    "duration": 72,
    "start_time": "2023-01-21T12:41:35.260Z"
   },
   {
    "duration": 102,
    "start_time": "2023-01-21T12:41:35.335Z"
   },
   {
    "duration": 44,
    "start_time": "2023-01-21T12:41:35.438Z"
   },
   {
    "duration": 124,
    "start_time": "2023-01-21T12:41:35.483Z"
   },
   {
    "duration": 27,
    "start_time": "2023-01-21T12:41:35.608Z"
   },
   {
    "duration": 34,
    "start_time": "2023-01-21T12:41:35.637Z"
   },
   {
    "duration": 48,
    "start_time": "2023-01-21T12:41:35.673Z"
   },
   {
    "duration": 56,
    "start_time": "2023-01-21T12:41:35.723Z"
   },
   {
    "duration": 20,
    "start_time": "2023-01-21T12:41:35.780Z"
   },
   {
    "duration": 46,
    "start_time": "2023-01-21T12:41:35.802Z"
   },
   {
    "duration": 49,
    "start_time": "2023-01-21T12:41:35.850Z"
   },
   {
    "duration": 16,
    "start_time": "2023-01-21T12:41:35.902Z"
   },
   {
    "duration": 38,
    "start_time": "2023-01-21T12:41:35.920Z"
   },
   {
    "duration": 52,
    "start_time": "2023-01-21T12:41:35.960Z"
   },
   {
    "duration": 21,
    "start_time": "2023-01-21T12:41:36.014Z"
   },
   {
    "duration": 37,
    "start_time": "2023-01-21T12:41:36.037Z"
   },
   {
    "duration": 61,
    "start_time": "2023-01-21T12:41:36.076Z"
   },
   {
    "duration": 18,
    "start_time": "2023-01-21T12:41:36.139Z"
   },
   {
    "duration": 36,
    "start_time": "2023-01-21T12:41:36.158Z"
   },
   {
    "duration": 118,
    "start_time": "2023-01-21T12:41:36.202Z"
   },
   {
    "duration": 17,
    "start_time": "2023-01-21T12:41:36.323Z"
   },
   {
    "duration": 129,
    "start_time": "2023-01-21T12:41:36.341Z"
   },
   {
    "duration": 79,
    "start_time": "2023-01-21T12:41:36.471Z"
   },
   {
    "duration": 77,
    "start_time": "2023-01-21T12:41:36.552Z"
   },
   {
    "duration": 46,
    "start_time": "2023-01-21T12:41:36.631Z"
   },
   {
    "duration": 28,
    "start_time": "2023-01-21T12:41:36.678Z"
   },
   {
    "duration": 134,
    "start_time": "2023-01-21T12:41:36.708Z"
   },
   {
    "duration": 30,
    "start_time": "2023-01-21T12:41:36.844Z"
   },
   {
    "duration": 53,
    "start_time": "2023-01-21T12:41:36.876Z"
   },
   {
    "duration": 15,
    "start_time": "2023-01-21T12:41:36.931Z"
   },
   {
    "duration": 20,
    "start_time": "2023-01-21T12:41:36.948Z"
   },
   {
    "duration": 261,
    "start_time": "2023-01-21T12:41:36.969Z"
   },
   {
    "duration": 8,
    "start_time": "2023-01-21T12:41:37.232Z"
   },
   {
    "duration": 119,
    "start_time": "2023-01-21T12:41:37.243Z"
   },
   {
    "duration": 35,
    "start_time": "2023-01-21T12:41:37.364Z"
   },
   {
    "duration": 130,
    "start_time": "2023-01-21T12:41:37.400Z"
   },
   {
    "duration": 142,
    "start_time": "2023-01-21T12:41:37.531Z"
   },
   {
    "duration": 3775,
    "start_time": "2023-01-21T12:41:37.674Z"
   },
   {
    "duration": 19,
    "start_time": "2023-01-21T12:41:41.450Z"
   },
   {
    "duration": 1278,
    "start_time": "2023-01-21T12:41:41.471Z"
   },
   {
    "duration": 13,
    "start_time": "2023-01-21T12:41:42.750Z"
   },
   {
    "duration": 10,
    "start_time": "2023-01-21T12:41:42.765Z"
   },
   {
    "duration": 91,
    "start_time": "2023-01-21T12:41:42.777Z"
   },
   {
    "duration": 5,
    "start_time": "2023-01-21T12:41:42.869Z"
   },
   {
    "duration": 59,
    "start_time": "2023-01-21T12:41:42.875Z"
   },
   {
    "duration": 27,
    "start_time": "2023-01-21T12:41:42.935Z"
   },
   {
    "duration": 13,
    "start_time": "2023-01-21T12:41:42.964Z"
   },
   {
    "duration": 5,
    "start_time": "2023-01-21T12:41:42.979Z"
   },
   {
    "duration": 2,
    "start_time": "2023-01-21T12:41:43.003Z"
   },
   {
    "duration": 8,
    "start_time": "2023-01-21T12:41:43.007Z"
   },
   {
    "duration": 45,
    "start_time": "2023-01-21T12:41:43.017Z"
   },
   {
    "duration": 564,
    "start_time": "2023-01-21T12:41:43.064Z"
   },
   {
    "duration": 97,
    "start_time": "2023-01-21T12:41:43.630Z"
   },
   {
    "duration": 2,
    "start_time": "2023-01-21T12:41:43.729Z"
   },
   {
    "duration": 9,
    "start_time": "2023-01-21T12:41:43.732Z"
   },
   {
    "duration": 19,
    "start_time": "2023-01-21T12:41:43.742Z"
   },
   {
    "duration": 88,
    "start_time": "2023-01-21T12:41:43.762Z"
   },
   {
    "duration": 10,
    "start_time": "2023-01-21T12:41:43.852Z"
   },
   {
    "duration": 93,
    "start_time": "2023-01-21T12:41:43.864Z"
   },
   {
    "duration": 3,
    "start_time": "2023-01-21T12:41:43.959Z"
   },
   {
    "duration": 24,
    "start_time": "2023-01-21T12:41:43.963Z"
   },
   {
    "duration": 27,
    "start_time": "2023-01-21T12:41:43.989Z"
   },
   {
    "duration": 28,
    "start_time": "2023-01-21T12:41:44.018Z"
   },
   {
    "duration": 11,
    "start_time": "2023-01-21T12:41:44.047Z"
   },
   {
    "duration": 149962,
    "start_time": "2023-01-21T12:41:44.059Z"
   },
   {
    "duration": 12,
    "start_time": "2023-01-21T12:44:14.023Z"
   },
   {
    "duration": 6,
    "start_time": "2023-01-21T12:44:14.036Z"
   },
   {
    "duration": 15,
    "start_time": "2023-01-21T12:44:14.044Z"
   },
   {
    "duration": 4300,
    "start_time": "2023-01-21T12:44:14.061Z"
   },
   {
    "duration": 0,
    "start_time": "2023-01-21T12:44:18.362Z"
   },
   {
    "duration": 0,
    "start_time": "2023-01-21T12:44:18.364Z"
   },
   {
    "duration": 0,
    "start_time": "2023-01-21T12:44:18.365Z"
   },
   {
    "duration": 0,
    "start_time": "2023-01-21T12:44:18.366Z"
   },
   {
    "duration": 0,
    "start_time": "2023-01-21T12:44:18.367Z"
   },
   {
    "duration": 0,
    "start_time": "2023-01-21T12:44:18.368Z"
   }
  ],
  "kernelspec": {
   "display_name": "Python 3 (ipykernel)",
   "language": "python",
   "name": "python3"
  },
  "language_info": {
   "codemirror_mode": {
    "name": "ipython",
    "version": 3
   },
   "file_extension": ".py",
   "mimetype": "text/x-python",
   "name": "python",
   "nbconvert_exporter": "python",
   "pygments_lexer": "ipython3",
   "version": "3.9.12"
  },
  "toc": {
   "base_numbering": 1,
   "nav_menu": {},
   "number_sections": true,
   "sideBar": true,
   "skip_h1_title": true,
   "title_cell": "Table of Contents",
   "title_sidebar": "Contents",
   "toc_cell": false,
   "toc_position": {
    "height": "calc(100% - 180px)",
    "left": "10px",
    "top": "150px",
    "width": "286.719px"
   },
   "toc_section_display": true,
   "toc_window_display": true
  }
 },
 "nbformat": 4,
 "nbformat_minor": 2
}
