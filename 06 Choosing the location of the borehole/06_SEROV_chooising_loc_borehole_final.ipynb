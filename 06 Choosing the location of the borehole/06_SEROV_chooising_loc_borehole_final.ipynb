{
 "cells": [
  {
   "cell_type": "markdown",
   "metadata": {},
   "source": [
    "# Выбор локации для скважины"
   ]
  },
  {
   "cell_type": "markdown",
   "metadata": {},
   "source": [
    "Допустим, вы работаете в добывающей компании «ГлавРосГосНефть». Нужно решить, где бурить новую скважину.\n",
    "\n",
    "Вам предоставлены пробы нефти в трёх регионах: в каждом 10 000 месторождений, где измерили качество нефти и объём её запасов. Постройте модель машинного обучения, которая поможет определить регион, где добыча принесёт наибольшую прибыль. Проанализируйте возможную прибыль и риски техникой *Bootstrap.*\n",
    "\n",
    "Шаги для выбора локации:\n",
    "\n",
    "- В избранном регионе ищут месторождения, для каждого определяют значения признаков;\n",
    "- Строят модель и оценивают объём запасов;\n",
    "- Выбирают месторождения с самым высокими оценками значений. Количество месторождений зависит от бюджета компании и стоимости разработки одной скважины;\n",
    "- Прибыль равна суммарной прибыли отобранных месторождений."
   ]
  },
  {
   "cell_type": "markdown",
   "metadata": {},
   "source": [
    "## Постановка задачи"
   ]
  },
  {
   "cell_type": "markdown",
   "metadata": {},
   "source": [
    "В нашем распоряжении данные проб нефти в трех регионах, в каждом из которых **10 000 месторождений.**   \n",
    "По каждому месторождению имеются данные по качеству нефти и по объему ее запасов.  \n",
    "\n",
    "Выделяемый бюджет - **10 млрд рублей;**  \n",
    "Количество скважин для разработки - **200 скважин;**  \n",
    "Стоимость одного барреля сырья - **450 рублей.**  \n",
    "\n",
    "Необходимо построить модель машинного обучения, которая позволит определить в каком регионе добыча нефти принесет наибольшую прибыль. \n",
    "Также необходимо учитывать, что при выборе региона вероятность убытков не должна превышать **2,5%.**"
   ]
  },
  {
   "cell_type": "markdown",
   "metadata": {},
   "source": [
    "## Загрузка и подготовка данных"
   ]
  },
  {
   "cell_type": "markdown",
   "metadata": {},
   "source": [
    "Импортируем необходимые библиотеки"
   ]
  },
  {
   "cell_type": "code",
   "execution_count": 129,
   "metadata": {},
   "outputs": [],
   "source": [
    "import pandas as pd\n",
    "import seaborn as sns\n",
    "from numpy.random import RandomState\n",
    "import numpy as np\n",
    "import matplotlib.pyplot as plt\n",
    "import scipy.stats as st\n",
    "\n",
    "from sklearn.linear_model import LinearRegression\n",
    "from sklearn.model_selection import train_test_split\n",
    "from sklearn.metrics import mean_squared_error\n",
    "\n",
    "from IPython.display import display"
   ]
  },
  {
   "cell_type": "markdown",
   "metadata": {},
   "source": [
    "Сохраним датасеты в переменные, после чего создам словарь с тремя элементами, соответствующим трем датафреймам"
   ]
  },
  {
   "cell_type": "code",
   "execution_count": 130,
   "metadata": {},
   "outputs": [],
   "source": [
    "data_0 = pd.read_csv('/datasets/geo_data_0.csv')\n",
    "data_1 = pd.read_csv('/datasets/geo_data_1.csv')\n",
    "data_2 = pd.read_csv('/datasets/geo_data_2.csv')"
   ]
  },
  {
   "cell_type": "code",
   "execution_count": 131,
   "metadata": {},
   "outputs": [],
   "source": [
    "df = {\n",
    "     0:data_0,\n",
    "     1:data_1,\n",
    "     2:data_2\n",
    "}"
   ]
  },
  {
   "cell_type": "markdown",
   "metadata": {},
   "source": [
    "Создадим функцию **precheck.**  \n",
    "На вход функции будут поступать две переменные: датасет=данные одного региона и название целевого признака.  \n",
    "Функция выполнит следующие действия для поступающего датасета:  \n",
    "- Выведет первые 5 строк датасета на экран, чтобы убедиться в корректности прочитанных данных;\n",
    "- Выведет информацию о датасете: какие данные содержатся, типы, количество значений в каждом столбце и наличие пропусков;\n",
    "- Выведет основные статистические метрики по датасету;\n",
    "- Проверит наличие полных дубликатов и удалит их;\n",
    "- Выведет общий запас продукции в скажинах в данном регионе;\n",
    "- Построит распределение объема продукции в данном регионе;\n",
    "- Выведет и построит тепловую карту матрицы корреляции признаков;"
   ]
  },
  {
   "cell_type": "code",
   "execution_count": 132,
   "metadata": {},
   "outputs": [],
   "source": [
    "def precheck(data, target):\n",
    "    pd.options.mode.chained_assignment = None \n",
    "    display('выведу первые 5 строк датасета, убедиться что файл прочитался корректно')\n",
    "    display(data.head())\n",
    "    display('Посмотрю информацию о датасете, какие данные содержатся, типы, количество значений в каждом столбце и наличие пропусков')\n",
    "    display(data.info())\n",
    "    display('Выведу основные статистические метрики по данным')\n",
    "    display(data.describe())\n",
    "    display(f'Количество явных дубликатов {data.duplicated().sum()}')\n",
    "    data.drop_duplicates(inplace=True)\n",
    "    display(f'Общий запас продукции в скажинах по региону {round(data[target].sum(),1)}')\n",
    "    data[target].plot(kind='hist')\n",
    "    plt.title('Распределение объема запасов в скважинах')\n",
    "    plt.xlabel('Объем в скважине')\n",
    "    plt.ylabel('Объем продукции')\n",
    "    plt.show()\n",
    "    display(data.corr())\n",
    "    sns.heatmap(data=data.corr(), annot = True)\n",
    "    plt.show()"
   ]
  },
  {
   "cell_type": "markdown",
   "metadata": {},
   "source": [
    "С помощью цикла выведем последовательно информацию о трех регионах используя функцию **precheck**"
   ]
  },
  {
   "cell_type": "code",
   "execution_count": 133,
   "metadata": {
    "scrolled": false
   },
   "outputs": [
    {
     "data": {
      "text/plain": [
       "'Исследование данных в Регионе 1'"
      ]
     },
     "metadata": {},
     "output_type": "display_data"
    },
    {
     "data": {
      "text/plain": [
       "'выведу первые 5 строк датасета, убедиться что файл прочитался корректно'"
      ]
     },
     "metadata": {},
     "output_type": "display_data"
    },
    {
     "data": {
      "text/html": [
       "<div>\n",
       "<style scoped>\n",
       "    .dataframe tbody tr th:only-of-type {\n",
       "        vertical-align: middle;\n",
       "    }\n",
       "\n",
       "    .dataframe tbody tr th {\n",
       "        vertical-align: top;\n",
       "    }\n",
       "\n",
       "    .dataframe thead th {\n",
       "        text-align: right;\n",
       "    }\n",
       "</style>\n",
       "<table border=\"1\" class=\"dataframe\">\n",
       "  <thead>\n",
       "    <tr style=\"text-align: right;\">\n",
       "      <th></th>\n",
       "      <th>id</th>\n",
       "      <th>f0</th>\n",
       "      <th>f1</th>\n",
       "      <th>f2</th>\n",
       "      <th>product</th>\n",
       "    </tr>\n",
       "  </thead>\n",
       "  <tbody>\n",
       "    <tr>\n",
       "      <th>0</th>\n",
       "      <td>txEyH</td>\n",
       "      <td>0.705745</td>\n",
       "      <td>-0.497823</td>\n",
       "      <td>1.221170</td>\n",
       "      <td>105.280062</td>\n",
       "    </tr>\n",
       "    <tr>\n",
       "      <th>1</th>\n",
       "      <td>2acmU</td>\n",
       "      <td>1.334711</td>\n",
       "      <td>-0.340164</td>\n",
       "      <td>4.365080</td>\n",
       "      <td>73.037750</td>\n",
       "    </tr>\n",
       "    <tr>\n",
       "      <th>2</th>\n",
       "      <td>409Wp</td>\n",
       "      <td>1.022732</td>\n",
       "      <td>0.151990</td>\n",
       "      <td>1.419926</td>\n",
       "      <td>85.265647</td>\n",
       "    </tr>\n",
       "    <tr>\n",
       "      <th>3</th>\n",
       "      <td>iJLyR</td>\n",
       "      <td>-0.032172</td>\n",
       "      <td>0.139033</td>\n",
       "      <td>2.978566</td>\n",
       "      <td>168.620776</td>\n",
       "    </tr>\n",
       "    <tr>\n",
       "      <th>4</th>\n",
       "      <td>Xdl7t</td>\n",
       "      <td>1.988431</td>\n",
       "      <td>0.155413</td>\n",
       "      <td>4.751769</td>\n",
       "      <td>154.036647</td>\n",
       "    </tr>\n",
       "  </tbody>\n",
       "</table>\n",
       "</div>"
      ],
      "text/plain": [
       "      id        f0        f1        f2     product\n",
       "0  txEyH  0.705745 -0.497823  1.221170  105.280062\n",
       "1  2acmU  1.334711 -0.340164  4.365080   73.037750\n",
       "2  409Wp  1.022732  0.151990  1.419926   85.265647\n",
       "3  iJLyR -0.032172  0.139033  2.978566  168.620776\n",
       "4  Xdl7t  1.988431  0.155413  4.751769  154.036647"
      ]
     },
     "metadata": {},
     "output_type": "display_data"
    },
    {
     "data": {
      "text/plain": [
       "'Посмотрю информацию о датасете, какие данные содержатся, типы, количество значений в каждом столбце и наличие пропусков'"
      ]
     },
     "metadata": {},
     "output_type": "display_data"
    },
    {
     "name": "stdout",
     "output_type": "stream",
     "text": [
      "<class 'pandas.core.frame.DataFrame'>\n",
      "RangeIndex: 100000 entries, 0 to 99999\n",
      "Data columns (total 5 columns):\n",
      " #   Column   Non-Null Count   Dtype  \n",
      "---  ------   --------------   -----  \n",
      " 0   id       100000 non-null  object \n",
      " 1   f0       100000 non-null  float64\n",
      " 2   f1       100000 non-null  float64\n",
      " 3   f2       100000 non-null  float64\n",
      " 4   product  100000 non-null  float64\n",
      "dtypes: float64(4), object(1)\n",
      "memory usage: 3.8+ MB\n"
     ]
    },
    {
     "data": {
      "text/plain": [
       "None"
      ]
     },
     "metadata": {},
     "output_type": "display_data"
    },
    {
     "data": {
      "text/plain": [
       "'Выведу основные статистические метрики по данным'"
      ]
     },
     "metadata": {},
     "output_type": "display_data"
    },
    {
     "data": {
      "text/html": [
       "<div>\n",
       "<style scoped>\n",
       "    .dataframe tbody tr th:only-of-type {\n",
       "        vertical-align: middle;\n",
       "    }\n",
       "\n",
       "    .dataframe tbody tr th {\n",
       "        vertical-align: top;\n",
       "    }\n",
       "\n",
       "    .dataframe thead th {\n",
       "        text-align: right;\n",
       "    }\n",
       "</style>\n",
       "<table border=\"1\" class=\"dataframe\">\n",
       "  <thead>\n",
       "    <tr style=\"text-align: right;\">\n",
       "      <th></th>\n",
       "      <th>f0</th>\n",
       "      <th>f1</th>\n",
       "      <th>f2</th>\n",
       "      <th>product</th>\n",
       "    </tr>\n",
       "  </thead>\n",
       "  <tbody>\n",
       "    <tr>\n",
       "      <th>count</th>\n",
       "      <td>100000.000000</td>\n",
       "      <td>100000.000000</td>\n",
       "      <td>100000.000000</td>\n",
       "      <td>100000.000000</td>\n",
       "    </tr>\n",
       "    <tr>\n",
       "      <th>mean</th>\n",
       "      <td>0.500419</td>\n",
       "      <td>0.250143</td>\n",
       "      <td>2.502647</td>\n",
       "      <td>92.500000</td>\n",
       "    </tr>\n",
       "    <tr>\n",
       "      <th>std</th>\n",
       "      <td>0.871832</td>\n",
       "      <td>0.504433</td>\n",
       "      <td>3.248248</td>\n",
       "      <td>44.288691</td>\n",
       "    </tr>\n",
       "    <tr>\n",
       "      <th>min</th>\n",
       "      <td>-1.408605</td>\n",
       "      <td>-0.848218</td>\n",
       "      <td>-12.088328</td>\n",
       "      <td>0.000000</td>\n",
       "    </tr>\n",
       "    <tr>\n",
       "      <th>25%</th>\n",
       "      <td>-0.072580</td>\n",
       "      <td>-0.200881</td>\n",
       "      <td>0.287748</td>\n",
       "      <td>56.497507</td>\n",
       "    </tr>\n",
       "    <tr>\n",
       "      <th>50%</th>\n",
       "      <td>0.502360</td>\n",
       "      <td>0.250252</td>\n",
       "      <td>2.515969</td>\n",
       "      <td>91.849972</td>\n",
       "    </tr>\n",
       "    <tr>\n",
       "      <th>75%</th>\n",
       "      <td>1.073581</td>\n",
       "      <td>0.700646</td>\n",
       "      <td>4.715088</td>\n",
       "      <td>128.564089</td>\n",
       "    </tr>\n",
       "    <tr>\n",
       "      <th>max</th>\n",
       "      <td>2.362331</td>\n",
       "      <td>1.343769</td>\n",
       "      <td>16.003790</td>\n",
       "      <td>185.364347</td>\n",
       "    </tr>\n",
       "  </tbody>\n",
       "</table>\n",
       "</div>"
      ],
      "text/plain": [
       "                  f0             f1             f2        product\n",
       "count  100000.000000  100000.000000  100000.000000  100000.000000\n",
       "mean        0.500419       0.250143       2.502647      92.500000\n",
       "std         0.871832       0.504433       3.248248      44.288691\n",
       "min        -1.408605      -0.848218     -12.088328       0.000000\n",
       "25%        -0.072580      -0.200881       0.287748      56.497507\n",
       "50%         0.502360       0.250252       2.515969      91.849972\n",
       "75%         1.073581       0.700646       4.715088     128.564089\n",
       "max         2.362331       1.343769      16.003790     185.364347"
      ]
     },
     "metadata": {},
     "output_type": "display_data"
    },
    {
     "data": {
      "text/plain": [
       "'Количество явных дубликатов 0'"
      ]
     },
     "metadata": {},
     "output_type": "display_data"
    },
    {
     "data": {
      "text/plain": [
       "'Общий запас продукции в скажинах по региону 9250000.0'"
      ]
     },
     "metadata": {},
     "output_type": "display_data"
    },
    {
     "data": {
      "image/png": "[encoded data removed]",
      "text/plain": [
       "<Figure size 432x288 with 1 Axes>"
      ]
     },
     "metadata": {
      "needs_background": "light"
     },
     "output_type": "display_data"
    },
    {
     "data": {
      "text/html": [
       "<div>\n",
       "<style scoped>\n",
       "    .dataframe tbody tr th:only-of-type {\n",
       "        vertical-align: middle;\n",
       "    }\n",
       "\n",
       "    .dataframe tbody tr th {\n",
       "        vertical-align: top;\n",
       "    }\n",
       "\n",
       "    .dataframe thead th {\n",
       "        text-align: right;\n",
       "    }\n",
       "</style>\n",
       "<table border=\"1\" class=\"dataframe\">\n",
       "  <thead>\n",
       "    <tr style=\"text-align: right;\">\n",
       "      <th></th>\n",
       "      <th>f0</th>\n",
       "      <th>f1</th>\n",
       "      <th>f2</th>\n",
       "      <th>product</th>\n",
       "    </tr>\n",
       "  </thead>\n",
       "  <tbody>\n",
       "    <tr>\n",
       "      <th>f0</th>\n",
       "      <td>1.000000</td>\n",
       "      <td>-0.440723</td>\n",
       "      <td>-0.003153</td>\n",
       "      <td>0.143536</td>\n",
       "    </tr>\n",
       "    <tr>\n",
       "      <th>f1</th>\n",
       "      <td>-0.440723</td>\n",
       "      <td>1.000000</td>\n",
       "      <td>0.001724</td>\n",
       "      <td>-0.192356</td>\n",
       "    </tr>\n",
       "    <tr>\n",
       "      <th>f2</th>\n",
       "      <td>-0.003153</td>\n",
       "      <td>0.001724</td>\n",
       "      <td>1.000000</td>\n",
       "      <td>0.483663</td>\n",
       "    </tr>\n",
       "    <tr>\n",
       "      <th>product</th>\n",
       "      <td>0.143536</td>\n",
       "      <td>-0.192356</td>\n",
       "      <td>0.483663</td>\n",
       "      <td>1.000000</td>\n",
       "    </tr>\n",
       "  </tbody>\n",
       "</table>\n",
       "</div>"
      ],
      "text/plain": [
       "               f0        f1        f2   product\n",
       "f0       1.000000 -0.440723 -0.003153  0.143536\n",
       "f1      -0.440723  1.000000  0.001724 -0.192356\n",
       "f2      -0.003153  0.001724  1.000000  0.483663\n",
       "product  0.143536 -0.192356  0.483663  1.000000"
      ]
     },
     "metadata": {},
     "output_type": "display_data"
    },
    {
     "data": {
      "image/png": "[encoded data removed]",
      "text/plain": [
       "<Figure size 432x288 with 2 Axes>"
      ]
     },
     "metadata": {
      "needs_background": "light"
     },
     "output_type": "display_data"
    },
    {
     "data": {
      "text/plain": [
       "'Исследование данных в Регионе 2'"
      ]
     },
     "metadata": {},
     "output_type": "display_data"
    },
    {
     "data": {
      "text/plain": [
       "'выведу первые 5 строк датасета, убедиться что файл прочитался корректно'"
      ]
     },
     "metadata": {},
     "output_type": "display_data"
    },
    {
     "data": {
      "text/html": [
       "<div>\n",
       "<style scoped>\n",
       "    .dataframe tbody tr th:only-of-type {\n",
       "        vertical-align: middle;\n",
       "    }\n",
       "\n",
       "    .dataframe tbody tr th {\n",
       "        vertical-align: top;\n",
       "    }\n",
       "\n",
       "    .dataframe thead th {\n",
       "        text-align: right;\n",
       "    }\n",
       "</style>\n",
       "<table border=\"1\" class=\"dataframe\">\n",
       "  <thead>\n",
       "    <tr style=\"text-align: right;\">\n",
       "      <th></th>\n",
       "      <th>id</th>\n",
       "      <th>f0</th>\n",
       "      <th>f1</th>\n",
       "      <th>f2</th>\n",
       "      <th>product</th>\n",
       "    </tr>\n",
       "  </thead>\n",
       "  <tbody>\n",
       "    <tr>\n",
       "      <th>0</th>\n",
       "      <td>kBEdx</td>\n",
       "      <td>-15.001348</td>\n",
       "      <td>-8.276000</td>\n",
       "      <td>-0.005876</td>\n",
       "      <td>3.179103</td>\n",
       "    </tr>\n",
       "    <tr>\n",
       "      <th>1</th>\n",
       "      <td>62mP7</td>\n",
       "      <td>14.272088</td>\n",
       "      <td>-3.475083</td>\n",
       "      <td>0.999183</td>\n",
       "      <td>26.953261</td>\n",
       "    </tr>\n",
       "    <tr>\n",
       "      <th>2</th>\n",
       "      <td>vyE1P</td>\n",
       "      <td>6.263187</td>\n",
       "      <td>-5.948386</td>\n",
       "      <td>5.001160</td>\n",
       "      <td>134.766305</td>\n",
       "    </tr>\n",
       "    <tr>\n",
       "      <th>3</th>\n",
       "      <td>KcrkZ</td>\n",
       "      <td>-13.081196</td>\n",
       "      <td>-11.506057</td>\n",
       "      <td>4.999415</td>\n",
       "      <td>137.945408</td>\n",
       "    </tr>\n",
       "    <tr>\n",
       "      <th>4</th>\n",
       "      <td>AHL4O</td>\n",
       "      <td>12.702195</td>\n",
       "      <td>-8.147433</td>\n",
       "      <td>5.004363</td>\n",
       "      <td>134.766305</td>\n",
       "    </tr>\n",
       "  </tbody>\n",
       "</table>\n",
       "</div>"
      ],
      "text/plain": [
       "      id         f0         f1        f2     product\n",
       "0  kBEdx -15.001348  -8.276000 -0.005876    3.179103\n",
       "1  62mP7  14.272088  -3.475083  0.999183   26.953261\n",
       "2  vyE1P   6.263187  -5.948386  5.001160  134.766305\n",
       "3  KcrkZ -13.081196 -11.506057  4.999415  137.945408\n",
       "4  AHL4O  12.702195  -8.147433  5.004363  134.766305"
      ]
     },
     "metadata": {},
     "output_type": "display_data"
    },
    {
     "data": {
      "text/plain": [
       "'Посмотрю информацию о датасете, какие данные содержатся, типы, количество значений в каждом столбце и наличие пропусков'"
      ]
     },
     "metadata": {},
     "output_type": "display_data"
    },
    {
     "name": "stdout",
     "output_type": "stream",
     "text": [
      "<class 'pandas.core.frame.DataFrame'>\n",
      "RangeIndex: 100000 entries, 0 to 99999\n",
      "Data columns (total 5 columns):\n",
      " #   Column   Non-Null Count   Dtype  \n",
      "---  ------   --------------   -----  \n",
      " 0   id       100000 non-null  object \n",
      " 1   f0       100000 non-null  float64\n",
      " 2   f1       100000 non-null  float64\n",
      " 3   f2       100000 non-null  float64\n",
      " 4   product  100000 non-null  float64\n",
      "dtypes: float64(4), object(1)\n",
      "memory usage: 3.8+ MB\n"
     ]
    },
    {
     "data": {
      "text/plain": [
       "None"
      ]
     },
     "metadata": {},
     "output_type": "display_data"
    },
    {
     "data": {
      "text/plain": [
       "'Выведу основные статистические метрики по данным'"
      ]
     },
     "metadata": {},
     "output_type": "display_data"
    },
    {
     "data": {
      "text/html": [
       "<div>\n",
       "<style scoped>\n",
       "    .dataframe tbody tr th:only-of-type {\n",
       "        vertical-align: middle;\n",
       "    }\n",
       "\n",
       "    .dataframe tbody tr th {\n",
       "        vertical-align: top;\n",
       "    }\n",
       "\n",
       "    .dataframe thead th {\n",
       "        text-align: right;\n",
       "    }\n",
       "</style>\n",
       "<table border=\"1\" class=\"dataframe\">\n",
       "  <thead>\n",
       "    <tr style=\"text-align: right;\">\n",
       "      <th></th>\n",
       "      <th>f0</th>\n",
       "      <th>f1</th>\n",
       "      <th>f2</th>\n",
       "      <th>product</th>\n",
       "    </tr>\n",
       "  </thead>\n",
       "  <tbody>\n",
       "    <tr>\n",
       "      <th>count</th>\n",
       "      <td>100000.000000</td>\n",
       "      <td>100000.000000</td>\n",
       "      <td>100000.000000</td>\n",
       "      <td>100000.000000</td>\n",
       "    </tr>\n",
       "    <tr>\n",
       "      <th>mean</th>\n",
       "      <td>1.141296</td>\n",
       "      <td>-4.796579</td>\n",
       "      <td>2.494541</td>\n",
       "      <td>68.825000</td>\n",
       "    </tr>\n",
       "    <tr>\n",
       "      <th>std</th>\n",
       "      <td>8.965932</td>\n",
       "      <td>5.119872</td>\n",
       "      <td>1.703572</td>\n",
       "      <td>45.944423</td>\n",
       "    </tr>\n",
       "    <tr>\n",
       "      <th>min</th>\n",
       "      <td>-31.609576</td>\n",
       "      <td>-26.358598</td>\n",
       "      <td>-0.018144</td>\n",
       "      <td>0.000000</td>\n",
       "    </tr>\n",
       "    <tr>\n",
       "      <th>25%</th>\n",
       "      <td>-6.298551</td>\n",
       "      <td>-8.267985</td>\n",
       "      <td>1.000021</td>\n",
       "      <td>26.953261</td>\n",
       "    </tr>\n",
       "    <tr>\n",
       "      <th>50%</th>\n",
       "      <td>1.153055</td>\n",
       "      <td>-4.813172</td>\n",
       "      <td>2.011479</td>\n",
       "      <td>57.085625</td>\n",
       "    </tr>\n",
       "    <tr>\n",
       "      <th>75%</th>\n",
       "      <td>8.621015</td>\n",
       "      <td>-1.332816</td>\n",
       "      <td>3.999904</td>\n",
       "      <td>107.813044</td>\n",
       "    </tr>\n",
       "    <tr>\n",
       "      <th>max</th>\n",
       "      <td>29.421755</td>\n",
       "      <td>18.734063</td>\n",
       "      <td>5.019721</td>\n",
       "      <td>137.945408</td>\n",
       "    </tr>\n",
       "  </tbody>\n",
       "</table>\n",
       "</div>"
      ],
      "text/plain": [
       "                  f0             f1             f2        product\n",
       "count  100000.000000  100000.000000  100000.000000  100000.000000\n",
       "mean        1.141296      -4.796579       2.494541      68.825000\n",
       "std         8.965932       5.119872       1.703572      45.944423\n",
       "min       -31.609576     -26.358598      -0.018144       0.000000\n",
       "25%        -6.298551      -8.267985       1.000021      26.953261\n",
       "50%         1.153055      -4.813172       2.011479      57.085625\n",
       "75%         8.621015      -1.332816       3.999904     107.813044\n",
       "max        29.421755      18.734063       5.019721     137.945408"
      ]
     },
     "metadata": {},
     "output_type": "display_data"
    },
    {
     "data": {
      "text/plain": [
       "'Количество явных дубликатов 0'"
      ]
     },
     "metadata": {},
     "output_type": "display_data"
    },
    {
     "data": {
      "text/plain": [
       "'Общий запас продукции в скажинах по региону 6882500.0'"
      ]
     },
     "metadata": {},
     "output_type": "display_data"
    },
    {
     "data": {
      "image/png": "[encoded data removed]",
      "text/plain": [
       "<Figure size 432x288 with 1 Axes>"
      ]
     },
     "metadata": {
      "needs_background": "light"
     },
     "output_type": "display_data"
    },
    {
     "data": {
      "text/html": [
       "<div>\n",
       "<style scoped>\n",
       "    .dataframe tbody tr th:only-of-type {\n",
       "        vertical-align: middle;\n",
       "    }\n",
       "\n",
       "    .dataframe tbody tr th {\n",
       "        vertical-align: top;\n",
       "    }\n",
       "\n",
       "    .dataframe thead th {\n",
       "        text-align: right;\n",
       "    }\n",
       "</style>\n",
       "<table border=\"1\" class=\"dataframe\">\n",
       "  <thead>\n",
       "    <tr style=\"text-align: right;\">\n",
       "      <th></th>\n",
       "      <th>f0</th>\n",
       "      <th>f1</th>\n",
       "      <th>f2</th>\n",
       "      <th>product</th>\n",
       "    </tr>\n",
       "  </thead>\n",
       "  <tbody>\n",
       "    <tr>\n",
       "      <th>f0</th>\n",
       "      <td>1.000000</td>\n",
       "      <td>0.182287</td>\n",
       "      <td>-0.001777</td>\n",
       "      <td>-0.030491</td>\n",
       "    </tr>\n",
       "    <tr>\n",
       "      <th>f1</th>\n",
       "      <td>0.182287</td>\n",
       "      <td>1.000000</td>\n",
       "      <td>-0.002595</td>\n",
       "      <td>-0.010155</td>\n",
       "    </tr>\n",
       "    <tr>\n",
       "      <th>f2</th>\n",
       "      <td>-0.001777</td>\n",
       "      <td>-0.002595</td>\n",
       "      <td>1.000000</td>\n",
       "      <td>0.999397</td>\n",
       "    </tr>\n",
       "    <tr>\n",
       "      <th>product</th>\n",
       "      <td>-0.030491</td>\n",
       "      <td>-0.010155</td>\n",
       "      <td>0.999397</td>\n",
       "      <td>1.000000</td>\n",
       "    </tr>\n",
       "  </tbody>\n",
       "</table>\n",
       "</div>"
      ],
      "text/plain": [
       "               f0        f1        f2   product\n",
       "f0       1.000000  0.182287 -0.001777 -0.030491\n",
       "f1       0.182287  1.000000 -0.002595 -0.010155\n",
       "f2      -0.001777 -0.002595  1.000000  0.999397\n",
       "product -0.030491 -0.010155  0.999397  1.000000"
      ]
     },
     "metadata": {},
     "output_type": "display_data"
    },
    {
     "data": {
      "image/png": "[encoded data removed]",
      "text/plain": [
       "<Figure size 432x288 with 2 Axes>"
      ]
     },
     "metadata": {
      "needs_background": "light"
     },
     "output_type": "display_data"
    },
    {
     "data": {
      "text/plain": [
       "'Исследование данных в Регионе 3'"
      ]
     },
     "metadata": {},
     "output_type": "display_data"
    },
    {
     "data": {
      "text/plain": [
       "'выведу первые 5 строк датасета, убедиться что файл прочитался корректно'"
      ]
     },
     "metadata": {},
     "output_type": "display_data"
    },
    {
     "data": {
      "text/html": [
       "<div>\n",
       "<style scoped>\n",
       "    .dataframe tbody tr th:only-of-type {\n",
       "        vertical-align: middle;\n",
       "    }\n",
       "\n",
       "    .dataframe tbody tr th {\n",
       "        vertical-align: top;\n",
       "    }\n",
       "\n",
       "    .dataframe thead th {\n",
       "        text-align: right;\n",
       "    }\n",
       "</style>\n",
       "<table border=\"1\" class=\"dataframe\">\n",
       "  <thead>\n",
       "    <tr style=\"text-align: right;\">\n",
       "      <th></th>\n",
       "      <th>id</th>\n",
       "      <th>f0</th>\n",
       "      <th>f1</th>\n",
       "      <th>f2</th>\n",
       "      <th>product</th>\n",
       "    </tr>\n",
       "  </thead>\n",
       "  <tbody>\n",
       "    <tr>\n",
       "      <th>0</th>\n",
       "      <td>fwXo0</td>\n",
       "      <td>-1.146987</td>\n",
       "      <td>0.963328</td>\n",
       "      <td>-0.828965</td>\n",
       "      <td>27.758673</td>\n",
       "    </tr>\n",
       "    <tr>\n",
       "      <th>1</th>\n",
       "      <td>WJtFt</td>\n",
       "      <td>0.262778</td>\n",
       "      <td>0.269839</td>\n",
       "      <td>-2.530187</td>\n",
       "      <td>56.069697</td>\n",
       "    </tr>\n",
       "    <tr>\n",
       "      <th>2</th>\n",
       "      <td>ovLUW</td>\n",
       "      <td>0.194587</td>\n",
       "      <td>0.289035</td>\n",
       "      <td>-5.586433</td>\n",
       "      <td>62.871910</td>\n",
       "    </tr>\n",
       "    <tr>\n",
       "      <th>3</th>\n",
       "      <td>q6cA6</td>\n",
       "      <td>2.236060</td>\n",
       "      <td>-0.553760</td>\n",
       "      <td>0.930038</td>\n",
       "      <td>114.572842</td>\n",
       "    </tr>\n",
       "    <tr>\n",
       "      <th>4</th>\n",
       "      <td>WPMUX</td>\n",
       "      <td>-0.515993</td>\n",
       "      <td>1.716266</td>\n",
       "      <td>5.899011</td>\n",
       "      <td>149.600746</td>\n",
       "    </tr>\n",
       "  </tbody>\n",
       "</table>\n",
       "</div>"
      ],
      "text/plain": [
       "      id        f0        f1        f2     product\n",
       "0  fwXo0 -1.146987  0.963328 -0.828965   27.758673\n",
       "1  WJtFt  0.262778  0.269839 -2.530187   56.069697\n",
       "2  ovLUW  0.194587  0.289035 -5.586433   62.871910\n",
       "3  q6cA6  2.236060 -0.553760  0.930038  114.572842\n",
       "4  WPMUX -0.515993  1.716266  5.899011  149.600746"
      ]
     },
     "metadata": {},
     "output_type": "display_data"
    },
    {
     "data": {
      "text/plain": [
       "'Посмотрю информацию о датасете, какие данные содержатся, типы, количество значений в каждом столбце и наличие пропусков'"
      ]
     },
     "metadata": {},
     "output_type": "display_data"
    },
    {
     "name": "stdout",
     "output_type": "stream",
     "text": [
      "<class 'pandas.core.frame.DataFrame'>\n",
      "RangeIndex: 100000 entries, 0 to 99999\n",
      "Data columns (total 5 columns):\n",
      " #   Column   Non-Null Count   Dtype  \n",
      "---  ------   --------------   -----  \n",
      " 0   id       100000 non-null  object \n",
      " 1   f0       100000 non-null  float64\n",
      " 2   f1       100000 non-null  float64\n",
      " 3   f2       100000 non-null  float64\n",
      " 4   product  100000 non-null  float64\n",
      "dtypes: float64(4), object(1)\n",
      "memory usage: 3.8+ MB\n"
     ]
    },
    {
     "data": {
      "text/plain": [
       "None"
      ]
     },
     "metadata": {},
     "output_type": "display_data"
    },
    {
     "data": {
      "text/plain": [
       "'Выведу основные статистические метрики по данным'"
      ]
     },
     "metadata": {},
     "output_type": "display_data"
    },
    {
     "data": {
      "text/html": [
       "<div>\n",
       "<style scoped>\n",
       "    .dataframe tbody tr th:only-of-type {\n",
       "        vertical-align: middle;\n",
       "    }\n",
       "\n",
       "    .dataframe tbody tr th {\n",
       "        vertical-align: top;\n",
       "    }\n",
       "\n",
       "    .dataframe thead th {\n",
       "        text-align: right;\n",
       "    }\n",
       "</style>\n",
       "<table border=\"1\" class=\"dataframe\">\n",
       "  <thead>\n",
       "    <tr style=\"text-align: right;\">\n",
       "      <th></th>\n",
       "      <th>f0</th>\n",
       "      <th>f1</th>\n",
       "      <th>f2</th>\n",
       "      <th>product</th>\n",
       "    </tr>\n",
       "  </thead>\n",
       "  <tbody>\n",
       "    <tr>\n",
       "      <th>count</th>\n",
       "      <td>100000.000000</td>\n",
       "      <td>100000.000000</td>\n",
       "      <td>100000.000000</td>\n",
       "      <td>100000.000000</td>\n",
       "    </tr>\n",
       "    <tr>\n",
       "      <th>mean</th>\n",
       "      <td>0.002023</td>\n",
       "      <td>-0.002081</td>\n",
       "      <td>2.495128</td>\n",
       "      <td>95.000000</td>\n",
       "    </tr>\n",
       "    <tr>\n",
       "      <th>std</th>\n",
       "      <td>1.732045</td>\n",
       "      <td>1.730417</td>\n",
       "      <td>3.473445</td>\n",
       "      <td>44.749921</td>\n",
       "    </tr>\n",
       "    <tr>\n",
       "      <th>min</th>\n",
       "      <td>-8.760004</td>\n",
       "      <td>-7.084020</td>\n",
       "      <td>-11.970335</td>\n",
       "      <td>0.000000</td>\n",
       "    </tr>\n",
       "    <tr>\n",
       "      <th>25%</th>\n",
       "      <td>-1.162288</td>\n",
       "      <td>-1.174820</td>\n",
       "      <td>0.130359</td>\n",
       "      <td>59.450441</td>\n",
       "    </tr>\n",
       "    <tr>\n",
       "      <th>50%</th>\n",
       "      <td>0.009424</td>\n",
       "      <td>-0.009482</td>\n",
       "      <td>2.484236</td>\n",
       "      <td>94.925613</td>\n",
       "    </tr>\n",
       "    <tr>\n",
       "      <th>75%</th>\n",
       "      <td>1.158535</td>\n",
       "      <td>1.163678</td>\n",
       "      <td>4.858794</td>\n",
       "      <td>130.595027</td>\n",
       "    </tr>\n",
       "    <tr>\n",
       "      <th>max</th>\n",
       "      <td>7.238262</td>\n",
       "      <td>7.844801</td>\n",
       "      <td>16.739402</td>\n",
       "      <td>190.029838</td>\n",
       "    </tr>\n",
       "  </tbody>\n",
       "</table>\n",
       "</div>"
      ],
      "text/plain": [
       "                  f0             f1             f2        product\n",
       "count  100000.000000  100000.000000  100000.000000  100000.000000\n",
       "mean        0.002023      -0.002081       2.495128      95.000000\n",
       "std         1.732045       1.730417       3.473445      44.749921\n",
       "min        -8.760004      -7.084020     -11.970335       0.000000\n",
       "25%        -1.162288      -1.174820       0.130359      59.450441\n",
       "50%         0.009424      -0.009482       2.484236      94.925613\n",
       "75%         1.158535       1.163678       4.858794     130.595027\n",
       "max         7.238262       7.844801      16.739402     190.029838"
      ]
     },
     "metadata": {},
     "output_type": "display_data"
    },
    {
     "data": {
      "text/plain": [
       "'Количество явных дубликатов 0'"
      ]
     },
     "metadata": {},
     "output_type": "display_data"
    },
    {
     "data": {
      "text/plain": [
       "'Общий запас продукции в скажинах по региону 9500000.0'"
      ]
     },
     "metadata": {},
     "output_type": "display_data"
    },
    {
     "data": {
      "image/png": "[encoded data removed]",
      "text/plain": [
       "<Figure size 432x288 with 1 Axes>"
      ]
     },
     "metadata": {
      "needs_background": "light"
     },
     "output_type": "display_data"
    },
    {
     "data": {
      "text/html": [
       "<div>\n",
       "<style scoped>\n",
       "    .dataframe tbody tr th:only-of-type {\n",
       "        vertical-align: middle;\n",
       "    }\n",
       "\n",
       "    .dataframe tbody tr th {\n",
       "        vertical-align: top;\n",
       "    }\n",
       "\n",
       "    .dataframe thead th {\n",
       "        text-align: right;\n",
       "    }\n",
       "</style>\n",
       "<table border=\"1\" class=\"dataframe\">\n",
       "  <thead>\n",
       "    <tr style=\"text-align: right;\">\n",
       "      <th></th>\n",
       "      <th>f0</th>\n",
       "      <th>f1</th>\n",
       "      <th>f2</th>\n",
       "      <th>product</th>\n",
       "    </tr>\n",
       "  </thead>\n",
       "  <tbody>\n",
       "    <tr>\n",
       "      <th>f0</th>\n",
       "      <td>1.000000</td>\n",
       "      <td>0.000528</td>\n",
       "      <td>-0.000448</td>\n",
       "      <td>-0.001987</td>\n",
       "    </tr>\n",
       "    <tr>\n",
       "      <th>f1</th>\n",
       "      <td>0.000528</td>\n",
       "      <td>1.000000</td>\n",
       "      <td>0.000779</td>\n",
       "      <td>-0.001012</td>\n",
       "    </tr>\n",
       "    <tr>\n",
       "      <th>f2</th>\n",
       "      <td>-0.000448</td>\n",
       "      <td>0.000779</td>\n",
       "      <td>1.000000</td>\n",
       "      <td>0.445871</td>\n",
       "    </tr>\n",
       "    <tr>\n",
       "      <th>product</th>\n",
       "      <td>-0.001987</td>\n",
       "      <td>-0.001012</td>\n",
       "      <td>0.445871</td>\n",
       "      <td>1.000000</td>\n",
       "    </tr>\n",
       "  </tbody>\n",
       "</table>\n",
       "</div>"
      ],
      "text/plain": [
       "               f0        f1        f2   product\n",
       "f0       1.000000  0.000528 -0.000448 -0.001987\n",
       "f1       0.000528  1.000000  0.000779 -0.001012\n",
       "f2      -0.000448  0.000779  1.000000  0.445871\n",
       "product -0.001987 -0.001012  0.445871  1.000000"
      ]
     },
     "metadata": {},
     "output_type": "display_data"
    },
    {
     "data": {
      "image/png": "[encoded data removed]",
      "text/plain": [
       "<Figure size 432x288 with 2 Axes>"
      ]
     },
     "metadata": {
      "needs_background": "light"
     },
     "output_type": "display_data"
    }
   ],
   "source": [
    "for i in range(len(df)):  \n",
    "    display(f\"Исследование данных в Регионе {i+1}\")  \n",
    "    precheck(df[i],'product')"
   ]
  },
  {
   "cell_type": "markdown",
   "metadata": {},
   "source": [
    "**Вывод по анализу данных:**"
   ]
  },
  {
   "cell_type": "markdown",
   "metadata": {},
   "source": [
    "Данные в датасетах состоят из id скважины, признаков **f1, f2 f3** и **объема добычи.**\n",
    "______________________________________________________\n",
    "Для **Региона 1:**  \n",
    "Средний объем добычи в скважинах **92,5 тыс баррелей,**  \n",
    "Медиана **91,8 тыс баррелей.**  \n",
    "Минимальный объем – **0**, максимальный **185, 3 тыс баррелей.**  \n",
    "\n",
    "Общий объем запасов в скважинах **Региона 1** - **9 250 000 тыс баррелей.**  \n",
    "\n",
    "Построили матрицу корреляции для **Региона 1**:  \n",
    "- корреляция между признаками **отсутствует,**  \n",
    "- имеется слабая прямая корреляция признака f2 с целевым признаком – объемом сырья в скважинах **равная 0,48.**  \n",
    "______________________________________________________\n",
    "\n",
    "Для **Региона 2:**  \n",
    "Средний объем добычи в скважинах **68,8 тыс баррелей,**  \n",
    "Медиана **57,0 тыс баррелей.**  \n",
    "Минимальный объем – **0**, максимальный **137,9 тыс баррелей.**  \n",
    "\n",
    "Общий объем запасов в скважинах **Региона 2** - **6 882 500 тыс баррелей.**  \n",
    "\n",
    "Построили матрицу корреляции для **Региона 2**:  \n",
    "- корреляция между признаками отсутствует,  \n",
    "- имеется сильная прямая корреляция признака f2 с целевым признаком – объемом сырья в скважинах равная 0,99.  \n",
    "______________________________________________________\n",
    "Для **Региона 3:**  \n",
    "Средний объем добычи в скважинах **95 тыс баррелей,**  \n",
    "Медиана **94,9 тыс баррелей.**  \n",
    "Минимальный объем – **0**, максимальный **190,0 тыс баррелей.**  \n",
    "\n",
    "Общий объем запасов в скважинах **Региона 3** - **9 500 000 тыс баррелей.**  \n",
    "\n",
    "Построили матрицу корреляции для **Региона 3**:  \n",
    "- корреляция между признаками отсутствует,  \n",
    "- имеется слабая прямая корреляция признака f2 с целевым признаком – объемом сырья в скважинах равная 0,44.\n",
    "\n"
   ]
  },
  {
   "cell_type": "markdown",
   "metadata": {},
   "source": [
    "Напишем функцию **PREPARE**, которая будет разделять признаки и целевой признак.  \n",
    "Сохраним в словари **features и target**, где каждому региону будут соответствовать признаки по индексу."
   ]
  },
  {
   "cell_type": "code",
   "execution_count": 134,
   "metadata": {},
   "outputs": [],
   "source": [
    "def prepare(data):\n",
    "    features = {}\n",
    "    target = {}\n",
    "    for i in range(len(data)):\n",
    "        features[i] = data[i].drop(['id','product'], axis=1)\n",
    "        target[i] = data[i]['product']\n",
    "    return features,target"
   ]
  },
  {
   "cell_type": "code",
   "execution_count": 135,
   "metadata": {},
   "outputs": [],
   "source": [
    "features, target = prepare(df)"
   ]
  },
  {
   "cell_type": "markdown",
   "metadata": {},
   "source": [
    "Напишем функцию **SHARE**, на вход поступают признаки и целевой признак.  \n",
    "Функция будет разбивать поступившие данные на тренировочную и валидационную выборку.  \n",
    "Сохраним данные для тренировочной выборки в **feature_train и target_train,**  \n",
    "для валидационной выборки в **features_valid и target_valid.**  \n",
    "Реализуем хранение через словари, чтобы собрать все данные в одной переменной."
   ]
  },
  {
   "cell_type": "code",
   "execution_count": 136,
   "metadata": {},
   "outputs": [],
   "source": [
    "def share(features, target):\n",
    "    feature_train = {}\n",
    "    target_train = {}\n",
    "    features_valid = {}\n",
    "    target_valid = {}\n",
    "    state = RandomState(12345)\n",
    "    for i in range(len(target)):\n",
    "        feature_train[i], features_valid[i], target_train[i], target_valid[i] = train_test_split(features[i], target[i], test_size=0.25, random_state=state)\n",
    "    return feature_train, features_valid, target_train, target_valid"
   ]
  },
  {
   "cell_type": "code",
   "execution_count": 137,
   "metadata": {},
   "outputs": [],
   "source": [
    "feature_train, features_valid, target_train, target_valid = share(features,target)"
   ]
  },
  {
   "cell_type": "markdown",
   "metadata": {},
   "source": [
    "## Обучение и проверка модели"
   ]
  },
  {
   "cell_type": "markdown",
   "metadata": {},
   "source": [
    "Напишем функцию **STUDY_MODEL**, на вход поступают тренировочные и валидационные выборки разбитые на признаки и целевой признак.  \n",
    "Внутри функции создается модель линейной регрессии, которая для каждого региона обучается на тренировочных данных и делает предсказание на валидационных.  \n",
    "Функция возвращает два словаря:\n",
    "- предсказания для каждого региона;\n",
    "- RMSE для каждого региона\n"
   ]
  },
  {
   "cell_type": "code",
   "execution_count": 138,
   "metadata": {},
   "outputs": [],
   "source": [
    "predict = {} # для хранения предсказаний\n",
    "result = {} # для хракнения RSME"
   ]
  },
  {
   "cell_type": "code",
   "execution_count": 139,
   "metadata": {},
   "outputs": [],
   "source": [
    "def study_model(feature_train, target_train, features_valid, target_valid):\n",
    "    model = LinearRegression()\n",
    "    model.fit(feature_train, target_train)\n",
    "    predict = pd.Series(model.predict(features_valid), index = target_valid.index)\n",
    "    result = mean_squared_error(target_valid, predict)**0.5\n",
    "    return predict, result"
   ]
  },
  {
   "cell_type": "markdown",
   "metadata": {},
   "source": [
    "Сохраним в словари **predict** предсказания, в **result** RMSE для каждого региона"
   ]
  },
  {
   "cell_type": "code",
   "execution_count": 140,
   "metadata": {},
   "outputs": [
    {
     "data": {
      "text/plain": [
       "'Средний запас предсказанного сырья для 1 региона 92.59256778438035. RMSE модели равна 37.5794217150813.'"
      ]
     },
     "metadata": {},
     "output_type": "display_data"
    },
    {
     "data": {
      "text/plain": [
       "'Средний запас предсказанного сырья для 2 региона 68.76995145799754. RMSE модели равна 0.889736773768065.'"
      ]
     },
     "metadata": {},
     "output_type": "display_data"
    },
    {
     "data": {
      "text/plain": [
       "'Средний запас предсказанного сырья для 3 региона 95.087528122523. RMSE модели равна 39.958042459521614.'"
      ]
     },
     "metadata": {},
     "output_type": "display_data"
    }
   ],
   "source": [
    "for i in range(len(df)):\n",
    "    predict[i], result[i] = study_model(feature_train[i], target_train[i], features_valid[i], target_valid[i])\n",
    "    display(f'Средний запас предсказанного сырья для {i+1} региона {predict[i].mean()}. RMSE модели равна {result[i]}.')"
   ]
  },
  {
   "cell_type": "markdown",
   "metadata": {},
   "source": [
    "Выводы по блоку:  \n",
    "Наибольшее среднее запасов сырья в третьем регионе, но ошибка модели самая большая 39,95.\n",
    "Наименьшее среднее запасов во втором регионе. Но ошибка минимальна 0,88. Модель меньше ошибалась, т.к. у целевого признака прямая корреляция с признаком **\"f2\"**."
   ]
  },
  {
   "cell_type": "markdown",
   "metadata": {},
   "source": [
    "## Подготовка к расчёту прибыли"
   ]
  },
  {
   "cell_type": "markdown",
   "metadata": {},
   "source": [
    "Сохраним константы для дальшейших расчетов"
   ]
  },
  {
   "cell_type": "code",
   "execution_count": 141,
   "metadata": {},
   "outputs": [],
   "source": [
    "# Бюджет на разрабоку\n",
    "INVEST = 10000000000"
   ]
  },
  {
   "cell_type": "code",
   "execution_count": 142,
   "metadata": {},
   "outputs": [],
   "source": [
    "# доход от одной тысячи баррелей нефти\n",
    "ONE_BAR = 450_000"
   ]
  },
  {
   "cell_type": "code",
   "execution_count": 143,
   "metadata": {},
   "outputs": [],
   "source": [
    "# количество скважин, которые нужно выбрать\n",
    "COL_BOREHOLE = 200"
   ]
  },
  {
   "cell_type": "code",
   "execution_count": 144,
   "metadata": {},
   "outputs": [],
   "source": [
    "# количество скважин для выборки, из которых далее выбираем лучшие 200\n",
    "TOTAL_BOREHOLE = 500"
   ]
  },
  {
   "cell_type": "code",
   "execution_count": 145,
   "metadata": {},
   "outputs": [
    {
     "data": {
      "text/plain": [
       "111.11111111111111"
      ]
     },
     "execution_count": 145,
     "metadata": {},
     "output_type": "execute_result"
    }
   ],
   "source": [
    "# минимальный средний уровень запаса в скважине, чтобы разработка не была убыточной\n",
    "min_product = INVEST/ONE_BAR/COL_BOREHOLE\n",
    "min_product"
   ]
  },
  {
   "cell_type": "markdown",
   "metadata": {},
   "source": [
    "Минимальный средний объем запаса в скважине должен быть более **111.11 тыс барелей**, чтобы при отборе 200 скважин для разработки мы гарантированно окупили выделяемый бюджет в **10 млрд рублей.**"
   ]
  },
  {
   "cell_type": "markdown",
   "metadata": {},
   "source": [
    "Напишем функцию **profit.**  \n",
    "На вход поступают целевой признак и предсказание.  \n",
    "Далее эти данные объединяем в один датасет, чтобы не возникало несколько одинаковых строк с повторяющимися индексами.\n",
    "Функция отбирает 200 наилучших скважин по предсказаниям, суммирует доход от имеющихся в них фактических запасов и вычитается бюджет, выделяемый на разработку скважин.\n",
    "Фунцкия возвращает значение прибыли на рассмотренных 200 \"лучших\" скважинах."
   ]
  },
  {
   "cell_type": "code",
   "execution_count": 146,
   "metadata": {},
   "outputs": [],
   "source": [
    "def profit(target, predict):\n",
    "    temp_data = pd.DataFrame(columns=['target','predict'])\n",
    "    temp_data['target']=pd.Series(target).reset_index(drop=True)\n",
    "    temp_data['predict']=pd.Series(predict).reset_index(drop=True)\n",
    "    temp_data.sort_values('predict', ascending=False, inplace=True)\n",
    "    selected = temp_data['target'][:COL_BOREHOLE]\n",
    "    selected_profit = (selected.sum()*ONE_BAR)-INVEST\n",
    "    return selected_profit"
   ]
  },
  {
   "cell_type": "markdown",
   "metadata": {},
   "source": [
    "## Расчёт прибыли и рисков "
   ]
  },
  {
   "cell_type": "markdown",
   "metadata": {},
   "source": [
    "Создадим словари:\n",
    "- прибыль\n",
    "- количество убыточных скважин\n",
    "- доверительные интервалы"
   ]
  },
  {
   "cell_type": "code",
   "execution_count": 147,
   "metadata": {},
   "outputs": [],
   "source": [
    "final_profit = {}\n",
    "count_loss = {}\n",
    "confidence_interval = {}\n",
    "lower = {}\n",
    "upper = {}"
   ]
  },
  {
   "cell_type": "markdown",
   "metadata": {},
   "source": [
    "Напишем цикл по регионам.  \n",
    "В цикле, используя технику **Bootstrap**, 1000 раз разбиваем выборку целевого признака валидационной выборки региона на подвыборки размером 500 скважин с повторением.  \n",
    "Отбираем предсказания для этого региона, соответствубщие индексам из целевого признака и передаем эти выборки в функцию **revenue.**  \n",
    "\n",
    "После этого сохраняем значения прибыли для этой подвыборки и считаем сколько раз значение прибыли будет отрицательным, оценивая вероятность убытков.\n",
    "\n",
    "Также рассчитываем 95% доверительный интервал для среднего значения прибыли."
   ]
  },
  {
   "cell_type": "code",
   "execution_count": 148,
   "metadata": {},
   "outputs": [],
   "source": [
    "for region in range(3):\n",
    "    target_subsample = {}\n",
    "    predict_subsample = {}\n",
    "    state = RandomState(12345)\n",
    "    values = []\n",
    "    for i in range(1000):\n",
    "        target_subsample[region] = (target_valid[region].sample(n=TOTAL_BOREHOLE, replace=True, random_state=state))\n",
    "        predict_subsample[region] = predict[region][target_subsample[region].index]\n",
    "        values.append(profit(target_subsample[region], predict_subsample[region]))\n",
    "    final_profit[region] = pd.Series(values)\n",
    "    count_loss[region] = ((final_profit[region]<0).sum())/(len(final_profit[region]))\n",
    "    confidence_interval[region] = st.t.interval(0.95, len(final_profit[region])-1,final_profit[region].mean(), pd.Series(final_profit[region]).sem())\n",
    "    lower[region] = final_profit[region].quantile(0.025)\n",
    "    upper[region] = final_profit[region].quantile(0.975)"
   ]
  },
  {
   "cell_type": "code",
   "execution_count": 149,
   "metadata": {},
   "outputs": [
    {
     "name": "stdout",
     "output_type": "stream",
     "text": [
      "Для региона 1\n",
      "Средняя прибыль равна 396,164,984.8 млн рублей\n",
      "95% доверительный интервал для прибыли 1 от -111.2 до 909.8 млн рублей\n",
      "Вероятность получить убытки 6.9%\n",
      "\n",
      "Для региона 2\n",
      "Средняя прибыль равна 445,617,552.6 млн рублей\n",
      "95% доверительный интервал для прибыли 2 от 54.6 до 833.1 млн рублей\n",
      "Вероятность получить убытки 1.1%\n",
      "\n",
      "Для региона 3\n",
      "Средняя прибыль равна 340,026,904.2 млн рублей\n",
      "95% доверительный интервал для прибыли 3 от -208.0 до 868.9 млн рублей\n",
      "Вероятность получить убытки 10.7%\n",
      "\n"
     ]
    }
   ],
   "source": [
    "for i in range(len(final_profit)):  \n",
    "    print('Для региона',  i+1)\n",
    "    print('Средняя прибыль равна', \"{:,}\".format(final_profit[i].mean().round(1)),'млн рублей')\n",
    "    print('95% доверительный интервал для прибыли', i+1, 'от', \"{:,.1f}\".format(lower[i]/1_000_000), 'до', \"{:,.1f}\".format(upper[i]/1_000_000), 'млн рублей')\n",
    "    print('Вероятность получить убытки', '{:.1f}%'.format(count_loss[i]*100))\n",
    "    print()"
   ]
  },
  {
   "cell_type": "markdown",
   "metadata": {},
   "source": [
    "Вывод по блоку:  \n",
    "В результате исследования получили, что наилучший регион для разработки новых скважин - **Регион 2**, т.к. данный регион имеет наибольшую среднюю прибыль:\n",
    "- на 12,4% больше чем в первом регионе;\n",
    "- на 31,0% больше чем в третьем регионе.\n",
    "\n",
    "В **Регионе 2** вероятность получить убыток в результате разработки новых скважин равна 1.1%, что является наименьшим показателем и подходит под требование проекта, в других регионах:  \n",
    "- в **Регионе 1** вероятность получить убытки равна 6,9%;\n",
    "- в **Регионе 3** вероятность получить убытки равна 10,7%."
   ]
  },
  {
   "cell_type": "markdown",
   "metadata": {},
   "source": [
    "## Вывод по проекту"
   ]
  },
  {
   "cell_type": "markdown",
   "metadata": {},
   "source": [
    "В нашем распоряжении были данные проб нефти в трех регионах, в каждом из которых **10 000 месторождений.**   \n",
    "По каждому месторождению имеются данные по качеству нефти и по объему ее запасов.  \n",
    "\n",
    "Выделяемый бюджет - **10 млрд рублей;**  \n",
    "Количество скважин для разработки - **200 скважин;**  \n",
    "Стоимость одного барреля сырья - **450 рублей.**  \n",
    "\n",
    "Необходимо построить модель машинного обучения, которая позволит определить в каком регионе добыча нефти принесет наибольшую прибыль. \n",
    "Также необходимо учитывать, что при выборе региона вероятность убытков не должна превышать **2,5%.**\n",
    "____________________________________________\n",
    "В ходе выполнения проекта, первоначально, я загрузил данные для трех регионов и сохранил их в словарь для удобства дальнейшей работы с ними. \n",
    "Убедился в том, что данные корректно загрузились, посмотрел размерность, типы данных в датасете и вывел основные статистические параметры датасета.  \n",
    "____________________________________\n",
    "Далее я создал функцию **PRECHECK.**    \n",
    "На вход функции поступают две переменные: датасет=данные одного региона и название целевого признака.  \n",
    "Функция предназначена для следующих действия для поступающего датасета:  \n",
    "•\tВыведет первые 5 строк датасета на экран, чтобы убедиться в корректности прочитанных данных;  \n",
    "•\tВыведет информацию о датасете: какие данные содержатся, типы, количество значений в каждом столбце и наличие пропусков;  \n",
    "•\tВыведет основные статистические метрики по датасету;  \n",
    "•\tПроверит наличие полных дубликатов;  \n",
    "•\tВыведет общий запас продукции в скажинах в данном регионе;  \n",
    "•\tПостроит распределение объема продукции в данном регионе;  \n",
    "•\tВыведет и построит тепловую карту матрицы корреляции признаков;  \n",
    "\n",
    "В результате работы функции я получил:  \n",
    "Данные в датасетах состоят из id скважины, признаков **f1, f2 f3** и объема добычи.  \n",
    "____________________________________\n",
    "Для **Региона 1**:\n",
    "Средний объем добычи в скважинах 92,5 тыс баррелей,  \n",
    "Медиана 91,8 тыс баррелей.\n",
    "Минимальный объем – 0, максимальный 185, 3 тыс баррелей.\n",
    "\n",
    "Общий объем запасов в скважинах **Региона 1** - 9 250 000 тыс баррелей.\n",
    "\n",
    "Построил матрицу корреляции для **Региона 1**:\n",
    "- корреляция между признаками не выявлена,\n",
    "- выявлена слабая прямая корреляция признака f2 с целевым признаком – объемом сырья в скважинах равная 0,48.\n",
    "\n",
    "____________________________________\n",
    "Для **Региона 2**:\n",
    "Средний объем добычи в скважинах 68,8 тыс баррелей,  \n",
    "Медиана 57,0 тыс баррелей.\n",
    "Минимальный объем – 0, максимальный 137,9 тыс баррелей.\n",
    "\n",
    "Общий объем запасов в скважинах **Региона 2** - 6 882 500 тыс баррелей.\n",
    "\n",
    "Построил матрицу корреляции для **Региона 2**:\n",
    "- корреляция между признаками не выявлена,\n",
    "- выявлена сильная прямая корреляция признака f2 с целевым признаком – объемом сырья в скважинах равная 0,99.\n",
    "____________________________________\n",
    "Для **Региона 3**:\n",
    "Средний объем добычи в скважинах 95 тыс баррелей,  \n",
    "Медиана 94,9 тыс баррелей.\n",
    "Минимальный объем – 0, максимальный 190,0 тыс баррелей.\n",
    "\n",
    "Общий объем запасов в скважинах **Региона 3** - 9 500 000 тыс баррелей.\n",
    "\n",
    "Построил матрицу корреляции для **Региона 3**:\n",
    "- корреляция между признаками не выявлена,\n",
    "- выявлена слабая прямая корреляция признака f2 с целевым признаком – объемом сырья в скважинах равная 0,44.\n",
    "____________________________________\n",
    "Написал функцию **PREPARE**, которая разделяет признаки и целевой признак.  \n",
    "Сохранил данные в словари **features и target**, где каждому региону будут соответствовать признаки по индексу.\n",
    "\n",
    "Далее написал функцию **SHARE**, на вход поступают признаки и целевой признак.  \n",
    "Функция разбивет поступившие данные на тренировочную и валидационную выборку.  \n",
    "Сохранил данные:\n",
    "- для тренировочной выборки в **feature_train и target_train,**  \n",
    "- для валидационной выборки в **features_valid и target_valid.**  \n",
    "\n",
    "Реализовал хранение через словари, чтобы собрать все данные в одной переменной.\n",
    "____________________________________\n",
    "Для обучение модели написал функцию **STUDY_MODEL**, на вход поступают тренировочные и валидационные выборки разбитые на признаки и целевой признак.  \n",
    "Внутри функции создается модель линейной регрессии, которая для каждого региона обучается на тренировочных данных и делает предсказание на валидационных.  \n",
    "Функция возвращает два словаря:\n",
    "- предсказания для каждого региона;\n",
    "- RMSE для каждого региона\n",
    "\n",
    "В результате работы функции получил:  \n",
    "**Для Региона 1** средний объем предсказанного сырья 92.5. RMSE модели равна 37.5  \n",
    "**Для Региона 2** средний запас предсказанного сырья 68.7. RMSE модели равна 0.88;  \n",
    "**Для Региона 3** средний запас предсказанного сырья 95.0. RMSE модели равна 39.95\n",
    "\n",
    "Наибольшее среднее количество запасов сырья в третьем регионе, но ошибка модели самая большая 39,95.  \n",
    "Наименьшее среднее количество запасов во втором регионе. Но ошибка минимальна 0,88. Модель меньше ошибалась, т.к. у целевого признака прямая корреляция с признаком **\"f2\"**.\n",
    "____________________________________\n",
    "Далее сохранил константы:\n",
    "- Бюджет на разрабоку 10 млрд рублей;\n",
    "- Доход от одной тысячи баррелей нефти 450 000 рублей;\n",
    "- Количество скважин, которые нужно выбрать для разработки, равно 200;\n",
    "- Количество скважин для выборки, из которых далее выбираем лучшие 200, равно 500.\n",
    "\n",
    "Рассчитал минимальный средний объем запаса в скважине должен быть более **111.11 тыс барелей**, чтобы при отборе 200 скважин для разработки мы гарантированно окупили выделяемый бюджет в **10 млрд рублей.**\n",
    "____________________________________\n",
    "Далее я написал функцию **revenue.**  \n",
    "На вход функции поступают целевой признак и предсказание.  \n",
    "Функция отбирает 200 наилучших скважин по предсказаниям, суммирует доход от имеющихся в них фактических запасов и вычитается бюджет, выделяемый на разработку скважин.\n",
    "Фунцкия возвращает значение прибыли на рассмотренных 200 \"лучших\" скважинах.\n",
    "____________________________________\n",
    "В цикле по регионам, используя технику **Bootstrap**, я 1000 раз разбил валидационную выборку целевого признака региона на подвыборки размером 500 скважин с \"повторением\".  \n",
    "Отбирая предсказания для этого региона, соответствующие индексам из целевого признака и передавая эти выборки в функцию **revenue** рассчитывал среднее значение прибыли для каждой подвыборки. \n",
    "\n",
    "После этого сохранял значения прибыли для этой подвыборки и считал сколько раз значение прибыли получилось отрицательным, для оценки вероятности убытков.\n",
    "\n",
    "Также рассчитывал 95% доверительный интервал для среднего значения прибыли.\n",
    "____________________________________\n",
    "В результате работы функции получил:\n",
    " **Регион 1:**\n",
    "- средняя прибыль равна **396,164,984.8;** \n",
    "- вероятность убытков 6,9%;\n",
    "- доверительный интервал: -111.2 до 909.8 млн рублей;\n",
    "\n",
    " **Регион 2:**\n",
    "- средняя прибыль равна **445,617,552.6;** \n",
    "- вероятность убытков 1,1%;\n",
    "- доверительный интервал: 54.6 до 833.1 млн рублей;\n",
    "\n",
    " **Регион 3:**\n",
    "- средняя прибыль в **Регионе 3 равна 340,026,904.2;**\n",
    "- вероятность убытков 10,7%.\n",
    "- доверительный интервал: -208.0 до 868.9 млн рублей.\n",
    "____________________________________ \n",
    "В результате исследования я получил, что наилучший регион для разработки новых скважин - **Регион 2**, т.к. данный регион имеет наибольшую среднюю прибыль:\n",
    "- на 12,4% больше чем в первом регионе;\n",
    "- на 31,0% больше чем в третьем регионе.\n",
    "\n",
    "В **Регионе 2** вероятность получить убыток в результате разработки новых скважин равна 1,1%, что является наименьшим показателем и подходит под требование проекта, в других регионах:  \n",
    "- в **Регионе 1** вероятность получить убытки равна 6,79;\n",
    "- в **Регионе 3** вероятность получить убытки равна 10,7%.\n"
   ]
  },
  {
   "cell_type": "code",
   "execution_count": null,
   "metadata": {},
   "outputs": [],
   "source": []
  }
 ],
 "metadata": {
  "ExecuteTimeLog": [
   {
    "duration": 244,
    "start_time": "2022-11-21T05:23:09.979Z"
   },
   {
    "duration": 822,
    "start_time": "2022-11-21T05:23:19.758Z"
   },
   {
    "duration": 1565,
    "start_time": "2022-11-21T05:24:49.092Z"
   },
   {
    "duration": 12,
    "start_time": "2022-11-21T05:25:13.600Z"
   },
   {
    "duration": 15,
    "start_time": "2022-11-21T05:26:17.358Z"
   },
   {
    "duration": 36,
    "start_time": "2022-11-21T05:26:42.155Z"
   },
   {
    "duration": 52,
    "start_time": "2022-11-21T05:27:19.494Z"
   },
   {
    "duration": 279,
    "start_time": "2022-11-21T05:27:25.573Z"
   },
   {
    "duration": 144,
    "start_time": "2022-11-21T05:27:47.695Z"
   },
   {
    "duration": 10,
    "start_time": "2022-11-21T05:28:47.441Z"
   },
   {
    "duration": 9,
    "start_time": "2022-11-21T05:29:02.875Z"
   },
   {
    "duration": 14,
    "start_time": "2022-11-21T05:29:26.311Z"
   },
   {
    "duration": 34,
    "start_time": "2022-11-21T05:29:42.256Z"
   },
   {
    "duration": 16,
    "start_time": "2022-11-21T05:30:17.629Z"
   },
   {
    "duration": 10,
    "start_time": "2022-11-21T05:31:41.612Z"
   },
   {
    "duration": 148,
    "start_time": "2022-11-21T05:31:44.905Z"
   },
   {
    "duration": 15,
    "start_time": "2022-11-21T05:32:11.805Z"
   },
   {
    "duration": 36,
    "start_time": "2022-11-21T05:32:24.762Z"
   },
   {
    "duration": 143,
    "start_time": "2022-11-21T05:32:58.170Z"
   },
   {
    "duration": 1258,
    "start_time": "2022-11-21T10:43:08.044Z"
   },
   {
    "duration": 739,
    "start_time": "2022-11-21T10:43:09.303Z"
   },
   {
    "duration": 15,
    "start_time": "2022-11-21T10:43:10.043Z"
   },
   {
    "duration": 22,
    "start_time": "2022-11-21T10:43:10.060Z"
   },
   {
    "duration": 44,
    "start_time": "2022-11-21T10:43:10.084Z"
   },
   {
    "duration": 169,
    "start_time": "2022-11-21T10:43:10.129Z"
   },
   {
    "duration": 16,
    "start_time": "2022-11-21T10:43:10.300Z"
   },
   {
    "duration": 41,
    "start_time": "2022-11-21T10:43:10.318Z"
   },
   {
    "duration": 60,
    "start_time": "2022-11-21T10:43:10.361Z"
   },
   {
    "duration": 152,
    "start_time": "2022-11-21T10:43:10.423Z"
   },
   {
    "duration": 9,
    "start_time": "2022-11-21T10:43:10.577Z"
   },
   {
    "duration": 34,
    "start_time": "2022-11-21T10:43:10.587Z"
   },
   {
    "duration": 34,
    "start_time": "2022-11-21T10:43:10.622Z"
   },
   {
    "duration": 161,
    "start_time": "2022-11-21T10:43:10.658Z"
   },
   {
    "duration": 177927,
    "start_time": "2022-11-21T10:43:56.634Z"
   },
   {
    "duration": 0,
    "start_time": "2022-11-21T10:50:21.410Z"
   },
   {
    "duration": 0,
    "start_time": "2022-11-21T10:50:21.410Z"
   },
   {
    "duration": 0,
    "start_time": "2022-11-21T10:50:21.415Z"
   },
   {
    "duration": 17,
    "start_time": "2022-11-21T10:50:30.756Z"
   },
   {
    "duration": 15,
    "start_time": "2022-11-21T10:50:47.879Z"
   },
   {
    "duration": 15,
    "start_time": "2022-11-21T10:51:17.787Z"
   },
   {
    "duration": 3,
    "start_time": "2022-11-21T10:52:31.948Z"
   },
   {
    "duration": 2,
    "start_time": "2022-11-21T10:54:18.696Z"
   },
   {
    "duration": 2,
    "start_time": "2022-11-21T10:55:24.054Z"
   },
   {
    "duration": 6,
    "start_time": "2022-11-21T10:56:58.137Z"
   },
   {
    "duration": 2,
    "start_time": "2022-11-21T10:57:18.459Z"
   },
   {
    "duration": 28,
    "start_time": "2022-11-21T10:58:48.094Z"
   },
   {
    "duration": 17,
    "start_time": "2022-11-21T10:59:01.738Z"
   },
   {
    "duration": 17,
    "start_time": "2022-11-21T10:59:12.364Z"
   },
   {
    "duration": 18,
    "start_time": "2022-11-21T10:59:50.377Z"
   },
   {
    "duration": 17,
    "start_time": "2022-11-21T11:00:20.996Z"
   },
   {
    "duration": 11,
    "start_time": "2022-11-21T11:01:32.366Z"
   },
   {
    "duration": 27,
    "start_time": "2022-11-21T11:01:38.430Z"
   },
   {
    "duration": 6,
    "start_time": "2022-11-21T11:01:50.816Z"
   },
   {
    "duration": 3,
    "start_time": "2022-11-21T11:01:51.108Z"
   },
   {
    "duration": 19,
    "start_time": "2022-11-21T11:01:51.665Z"
   },
   {
    "duration": 2,
    "start_time": "2022-11-21T11:02:12.332Z"
   },
   {
    "duration": 2,
    "start_time": "2022-11-21T11:02:15.429Z"
   },
   {
    "duration": 9,
    "start_time": "2022-11-21T11:02:19.779Z"
   },
   {
    "duration": 15,
    "start_time": "2022-11-21T11:02:47.345Z"
   },
   {
    "duration": 10,
    "start_time": "2022-11-21T11:03:01.201Z"
   },
   {
    "duration": 5,
    "start_time": "2022-11-21T11:03:08.896Z"
   },
   {
    "duration": 25,
    "start_time": "2022-11-21T11:03:14.936Z"
   },
   {
    "duration": 23,
    "start_time": "2022-11-21T11:03:40.847Z"
   },
   {
    "duration": 23,
    "start_time": "2022-11-21T11:04:14.627Z"
   },
   {
    "duration": 16,
    "start_time": "2022-11-21T11:04:37.717Z"
   },
   {
    "duration": 17,
    "start_time": "2022-11-21T11:04:51.162Z"
   },
   {
    "duration": 9,
    "start_time": "2022-11-21T11:05:07.985Z"
   },
   {
    "duration": 3,
    "start_time": "2022-11-21T11:05:11.522Z"
   },
   {
    "duration": 28,
    "start_time": "2022-11-21T11:05:15.437Z"
   },
   {
    "duration": 14,
    "start_time": "2022-11-21T11:05:46.676Z"
   },
   {
    "duration": 17,
    "start_time": "2022-11-21T11:05:56.035Z"
   },
   {
    "duration": 7,
    "start_time": "2022-11-21T11:05:58.684Z"
   },
   {
    "duration": 13,
    "start_time": "2022-11-21T11:05:59.016Z"
   },
   {
    "duration": 2,
    "start_time": "2022-11-21T11:05:59.807Z"
   },
   {
    "duration": 17,
    "start_time": "2022-11-21T11:06:00.148Z"
   },
   {
    "duration": 9,
    "start_time": "2022-11-21T11:07:04.345Z"
   },
   {
    "duration": 9,
    "start_time": "2022-11-21T11:07:06.829Z"
   },
   {
    "duration": 8,
    "start_time": "2022-11-21T11:07:07.016Z"
   },
   {
    "duration": 97,
    "start_time": "2022-11-21T11:07:15.474Z"
   },
   {
    "duration": 5,
    "start_time": "2022-11-21T11:07:19.246Z"
   },
   {
    "duration": 4,
    "start_time": "2022-11-21T11:07:19.874Z"
   },
   {
    "duration": 5,
    "start_time": "2022-11-21T11:07:25.162Z"
   },
   {
    "duration": 1487,
    "start_time": "2022-11-21T16:25:59.029Z"
   },
   {
    "duration": 1661,
    "start_time": "2022-11-21T16:26:00.518Z"
   },
   {
    "duration": 13,
    "start_time": "2022-11-21T16:26:02.181Z"
   },
   {
    "duration": 14,
    "start_time": "2022-11-21T16:26:02.196Z"
   },
   {
    "duration": 46,
    "start_time": "2022-11-21T16:26:02.212Z"
   },
   {
    "duration": 167,
    "start_time": "2022-11-21T16:26:02.259Z"
   },
   {
    "duration": 4758,
    "start_time": "2022-11-21T16:26:02.427Z"
   },
   {
    "duration": 14,
    "start_time": "2022-11-21T16:26:07.187Z"
   },
   {
    "duration": 8,
    "start_time": "2022-11-21T16:26:07.203Z"
   },
   {
    "duration": 15,
    "start_time": "2022-11-21T16:26:07.213Z"
   },
   {
    "duration": 32,
    "start_time": "2022-11-21T16:26:07.229Z"
   },
   {
    "duration": 162,
    "start_time": "2022-11-21T16:26:07.263Z"
   },
   {
    "duration": 14,
    "start_time": "2022-11-21T16:26:07.427Z"
   },
   {
    "duration": 8,
    "start_time": "2022-11-21T16:26:07.443Z"
   },
   {
    "duration": 22,
    "start_time": "2022-11-21T16:26:07.453Z"
   },
   {
    "duration": 52,
    "start_time": "2022-11-21T16:26:07.477Z"
   },
   {
    "duration": 146,
    "start_time": "2022-11-21T16:26:07.531Z"
   },
   {
    "duration": 15,
    "start_time": "2022-11-21T16:26:07.678Z"
   },
   {
    "duration": 11,
    "start_time": "2022-11-21T16:26:07.705Z"
   },
   {
    "duration": 6,
    "start_time": "2022-11-21T16:26:07.717Z"
   },
   {
    "duration": 12,
    "start_time": "2022-11-21T16:26:07.725Z"
   },
   {
    "duration": 5,
    "start_time": "2022-11-21T16:26:07.739Z"
   },
   {
    "duration": 60,
    "start_time": "2022-11-21T16:26:07.746Z"
   },
   {
    "duration": 112,
    "start_time": "2022-11-21T16:26:07.808Z"
   },
   {
    "duration": 188,
    "start_time": "2022-11-21T16:26:07.921Z"
   },
   {
    "duration": 2,
    "start_time": "2022-11-21T16:27:20.665Z"
   },
   {
    "duration": 116,
    "start_time": "2022-11-21T16:29:09.335Z"
   },
   {
    "duration": 13,
    "start_time": "2022-11-21T16:29:23.044Z"
   },
   {
    "duration": 9,
    "start_time": "2022-11-21T16:29:33.915Z"
   },
   {
    "duration": 4,
    "start_time": "2022-11-21T16:29:52.786Z"
   },
   {
    "duration": 9,
    "start_time": "2022-11-21T16:30:11.716Z"
   },
   {
    "duration": 3,
    "start_time": "2022-11-21T16:30:17.119Z"
   },
   {
    "duration": 10,
    "start_time": "2022-11-21T16:31:10.915Z"
   },
   {
    "duration": 12,
    "start_time": "2022-11-21T16:32:15.738Z"
   },
   {
    "duration": 6,
    "start_time": "2022-11-21T16:32:33.041Z"
   },
   {
    "duration": 2,
    "start_time": "2022-11-21T16:33:03.986Z"
   },
   {
    "duration": 15,
    "start_time": "2022-11-21T16:34:38.267Z"
   },
   {
    "duration": 9,
    "start_time": "2022-11-21T16:34:56.297Z"
   },
   {
    "duration": 9,
    "start_time": "2022-11-21T16:35:12.717Z"
   },
   {
    "duration": 6,
    "start_time": "2022-11-21T16:35:26.723Z"
   },
   {
    "duration": 5,
    "start_time": "2022-11-21T16:35:41.403Z"
   },
   {
    "duration": 6,
    "start_time": "2022-11-21T16:36:04.296Z"
   },
   {
    "duration": 136,
    "start_time": "2022-11-21T16:37:13.056Z"
   },
   {
    "duration": 5,
    "start_time": "2022-11-21T16:37:19.869Z"
   },
   {
    "duration": 5,
    "start_time": "2022-11-21T16:37:47.265Z"
   },
   {
    "duration": 4,
    "start_time": "2022-11-21T16:37:54.585Z"
   },
   {
    "duration": 4,
    "start_time": "2022-11-21T16:38:16.468Z"
   },
   {
    "duration": 2,
    "start_time": "2022-11-21T16:39:47.507Z"
   },
   {
    "duration": 10,
    "start_time": "2022-11-21T16:40:11.424Z"
   },
   {
    "duration": 5,
    "start_time": "2022-11-21T16:40:44.027Z"
   },
   {
    "duration": 4,
    "start_time": "2022-11-21T16:41:13.950Z"
   },
   {
    "duration": 4,
    "start_time": "2022-11-21T16:41:21.171Z"
   },
   {
    "duration": 8,
    "start_time": "2022-11-21T16:46:57.022Z"
   },
   {
    "duration": 10,
    "start_time": "2022-11-21T16:47:00.581Z"
   },
   {
    "duration": 205,
    "start_time": "2022-11-21T16:47:25.152Z"
   },
   {
    "duration": 9,
    "start_time": "2022-11-21T16:47:48.616Z"
   },
   {
    "duration": 12,
    "start_time": "2022-11-21T16:47:59.464Z"
   },
   {
    "duration": 215,
    "start_time": "2022-11-21T16:48:20.571Z"
   },
   {
    "duration": 9,
    "start_time": "2022-11-21T16:48:37.968Z"
   },
   {
    "duration": 11,
    "start_time": "2022-11-21T16:48:44.932Z"
   },
   {
    "duration": 10,
    "start_time": "2022-11-21T16:48:51.802Z"
   },
   {
    "duration": 9,
    "start_time": "2022-11-21T16:49:00.097Z"
   },
   {
    "duration": 140,
    "start_time": "2022-11-21T16:49:06.939Z"
   },
   {
    "duration": 1535,
    "start_time": "2022-11-21T20:26:41.589Z"
   },
   {
    "duration": 762,
    "start_time": "2022-11-21T20:26:43.125Z"
   },
   {
    "duration": 13,
    "start_time": "2022-11-21T20:26:43.889Z"
   },
   {
    "duration": 16,
    "start_time": "2022-11-21T20:26:43.904Z"
   },
   {
    "duration": 50,
    "start_time": "2022-11-21T20:26:43.921Z"
   },
   {
    "duration": 163,
    "start_time": "2022-11-21T20:26:43.972Z"
   },
   {
    "duration": 4774,
    "start_time": "2022-11-21T20:26:44.137Z"
   },
   {
    "duration": 5,
    "start_time": "2022-11-21T20:26:48.913Z"
   },
   {
    "duration": 24,
    "start_time": "2022-11-21T20:26:48.919Z"
   },
   {
    "duration": 10,
    "start_time": "2022-11-21T20:26:48.946Z"
   },
   {
    "duration": 23,
    "start_time": "2022-11-21T20:26:48.958Z"
   },
   {
    "duration": 58,
    "start_time": "2022-11-21T20:26:48.983Z"
   },
   {
    "duration": 183,
    "start_time": "2022-11-21T20:26:49.044Z"
   },
   {
    "duration": 5,
    "start_time": "2022-11-21T20:26:49.229Z"
   },
   {
    "duration": 20,
    "start_time": "2022-11-21T20:26:49.236Z"
   },
   {
    "duration": 10,
    "start_time": "2022-11-21T20:26:49.258Z"
   },
   {
    "duration": 17,
    "start_time": "2022-11-21T20:26:49.270Z"
   },
   {
    "duration": 60,
    "start_time": "2022-11-21T20:26:49.288Z"
   },
   {
    "duration": 167,
    "start_time": "2022-11-21T20:26:49.350Z"
   },
   {
    "duration": 5,
    "start_time": "2022-11-21T20:26:49.518Z"
   },
   {
    "duration": 21,
    "start_time": "2022-11-21T20:26:49.525Z"
   },
   {
    "duration": 11,
    "start_time": "2022-11-21T20:26:49.547Z"
   },
   {
    "duration": 5,
    "start_time": "2022-11-21T20:26:49.559Z"
   },
   {
    "duration": 12,
    "start_time": "2022-11-21T20:26:49.565Z"
   },
   {
    "duration": 4,
    "start_time": "2022-11-21T20:26:49.578Z"
   },
   {
    "duration": 33,
    "start_time": "2022-11-21T20:26:49.583Z"
   },
   {
    "duration": 12,
    "start_time": "2022-11-21T20:26:49.617Z"
   },
   {
    "duration": 5,
    "start_time": "2022-11-21T20:26:49.632Z"
   },
   {
    "duration": 6,
    "start_time": "2022-11-21T20:26:49.639Z"
   },
   {
    "duration": 15,
    "start_time": "2022-11-21T20:26:49.647Z"
   },
   {
    "duration": 2,
    "start_time": "2022-11-21T20:26:49.664Z"
   },
   {
    "duration": 49,
    "start_time": "2022-11-21T20:26:49.668Z"
   },
   {
    "duration": 96,
    "start_time": "2022-11-21T20:26:49.720Z"
   },
   {
    "duration": 105,
    "start_time": "2022-11-21T20:26:49.819Z"
   },
   {
    "duration": 5,
    "start_time": "2022-11-21T20:26:49.926Z"
   },
   {
    "duration": 13,
    "start_time": "2022-11-21T20:26:49.932Z"
   },
   {
    "duration": 69,
    "start_time": "2022-11-21T20:26:49.947Z"
   },
   {
    "duration": 98,
    "start_time": "2022-11-21T20:26:50.018Z"
   },
   {
    "duration": 4,
    "start_time": "2022-11-21T20:26:50.118Z"
   },
   {
    "duration": 24,
    "start_time": "2022-11-21T20:26:50.123Z"
   },
   {
    "duration": 6,
    "start_time": "2022-11-21T20:26:50.149Z"
   },
   {
    "duration": 102,
    "start_time": "2022-11-21T20:26:50.217Z"
   },
   {
    "duration": 1518,
    "start_time": "2022-11-22T03:51:51.670Z"
   },
   {
    "duration": 1716,
    "start_time": "2022-11-22T03:51:53.190Z"
   },
   {
    "duration": 16,
    "start_time": "2022-11-22T03:51:54.908Z"
   },
   {
    "duration": 19,
    "start_time": "2022-11-22T03:51:54.926Z"
   },
   {
    "duration": 49,
    "start_time": "2022-11-22T03:51:54.946Z"
   },
   {
    "duration": 173,
    "start_time": "2022-11-22T03:51:54.997Z"
   },
   {
    "duration": 4683,
    "start_time": "2022-11-22T03:51:55.172Z"
   },
   {
    "duration": 6,
    "start_time": "2022-11-22T03:51:59.857Z"
   },
   {
    "duration": 22,
    "start_time": "2022-11-22T03:51:59.865Z"
   },
   {
    "duration": 13,
    "start_time": "2022-11-22T03:51:59.890Z"
   },
   {
    "duration": 24,
    "start_time": "2022-11-22T03:51:59.905Z"
   },
   {
    "duration": 35,
    "start_time": "2022-11-22T03:51:59.931Z"
   },
   {
    "duration": 172,
    "start_time": "2022-11-22T03:51:59.967Z"
   },
   {
    "duration": 5,
    "start_time": "2022-11-22T03:52:00.140Z"
   },
   {
    "duration": 29,
    "start_time": "2022-11-22T03:52:00.147Z"
   },
   {
    "duration": 27,
    "start_time": "2022-11-22T03:52:00.177Z"
   },
   {
    "duration": 51,
    "start_time": "2022-11-22T03:52:00.206Z"
   },
   {
    "duration": 47,
    "start_time": "2022-11-22T03:52:00.259Z"
   },
   {
    "duration": 161,
    "start_time": "2022-11-22T03:52:00.307Z"
   },
   {
    "duration": 5,
    "start_time": "2022-11-22T03:52:00.470Z"
   },
   {
    "duration": 73,
    "start_time": "2022-11-22T03:52:00.477Z"
   },
   {
    "duration": 29,
    "start_time": "2022-11-22T03:52:00.552Z"
   },
   {
    "duration": 55,
    "start_time": "2022-11-22T03:52:00.582Z"
   },
   {
    "duration": 51,
    "start_time": "2022-11-22T03:52:00.640Z"
   },
   {
    "duration": 44,
    "start_time": "2022-11-22T03:52:00.693Z"
   },
   {
    "duration": 31,
    "start_time": "2022-11-22T03:52:00.741Z"
   },
   {
    "duration": 41,
    "start_time": "2022-11-22T03:52:00.774Z"
   },
   {
    "duration": 25,
    "start_time": "2022-11-22T03:52:00.819Z"
   },
   {
    "duration": 26,
    "start_time": "2022-11-22T03:52:00.846Z"
   },
   {
    "duration": 31,
    "start_time": "2022-11-22T03:52:00.874Z"
   },
   {
    "duration": 18,
    "start_time": "2022-11-22T03:52:00.907Z"
   },
   {
    "duration": 46,
    "start_time": "2022-11-22T03:52:00.926Z"
   },
   {
    "duration": 167,
    "start_time": "2022-11-22T03:52:00.974Z"
   },
   {
    "duration": 94,
    "start_time": "2022-11-22T03:52:01.149Z"
   },
   {
    "duration": 20,
    "start_time": "2022-11-22T03:52:01.328Z"
   },
   {
    "duration": 41,
    "start_time": "2022-11-22T03:52:01.350Z"
   },
   {
    "duration": 12,
    "start_time": "2022-11-22T03:52:01.393Z"
   },
   {
    "duration": 143,
    "start_time": "2022-11-22T03:52:01.411Z"
   },
   {
    "duration": 31,
    "start_time": "2022-11-22T03:52:01.556Z"
   },
   {
    "duration": 78,
    "start_time": "2022-11-22T03:52:01.591Z"
   },
   {
    "duration": 21,
    "start_time": "2022-11-22T03:52:01.671Z"
   },
   {
    "duration": 117,
    "start_time": "2022-11-22T03:52:01.725Z"
   },
   {
    "duration": 5,
    "start_time": "2022-11-22T03:55:02.391Z"
   },
   {
    "duration": 12,
    "start_time": "2022-11-22T03:55:34.258Z"
   },
   {
    "duration": 7,
    "start_time": "2022-11-22T03:55:40.095Z"
   },
   {
    "duration": 8,
    "start_time": "2022-11-22T03:55:47.636Z"
   },
   {
    "duration": 5,
    "start_time": "2022-11-22T03:56:04.014Z"
   },
   {
    "duration": 9,
    "start_time": "2022-11-22T03:56:21.831Z"
   },
   {
    "duration": 6,
    "start_time": "2022-11-22T03:58:50.118Z"
   },
   {
    "duration": 3,
    "start_time": "2022-11-22T03:58:53.760Z"
   },
   {
    "duration": 4,
    "start_time": "2022-11-22T04:11:01.186Z"
   },
   {
    "duration": 3,
    "start_time": "2022-11-22T04:11:48.783Z"
   },
   {
    "duration": 6,
    "start_time": "2022-11-22T04:11:50.265Z"
   },
   {
    "duration": 3,
    "start_time": "2022-11-22T04:12:15.484Z"
   },
   {
    "duration": 116,
    "start_time": "2022-11-22T04:18:23.952Z"
   },
   {
    "duration": 3,
    "start_time": "2022-11-22T04:18:50.220Z"
   },
   {
    "duration": 3,
    "start_time": "2022-11-22T04:18:53.252Z"
   },
   {
    "duration": 8,
    "start_time": "2022-11-22T04:18:59.600Z"
   },
   {
    "duration": 84,
    "start_time": "2022-11-22T04:19:35.543Z"
   },
   {
    "duration": 73,
    "start_time": "2022-11-22T04:19:39.628Z"
   },
   {
    "duration": 6,
    "start_time": "2022-11-22T04:19:46.334Z"
   },
   {
    "duration": 7,
    "start_time": "2022-11-22T04:19:52.329Z"
   },
   {
    "duration": 3,
    "start_time": "2022-11-22T04:23:57.601Z"
   },
   {
    "duration": 5,
    "start_time": "2022-11-22T05:16:26.065Z"
   },
   {
    "duration": 3,
    "start_time": "2022-11-22T05:18:50.616Z"
   },
   {
    "duration": 4,
    "start_time": "2022-11-22T05:19:21.661Z"
   },
   {
    "duration": 3,
    "start_time": "2022-11-22T05:20:02.372Z"
   },
   {
    "duration": 14,
    "start_time": "2022-11-22T05:22:09.914Z"
   },
   {
    "duration": 5,
    "start_time": "2022-11-22T05:22:18.515Z"
   },
   {
    "duration": 5,
    "start_time": "2022-11-22T05:22:31.261Z"
   },
   {
    "duration": 7,
    "start_time": "2022-11-22T05:22:38.848Z"
   },
   {
    "duration": 7,
    "start_time": "2022-11-22T05:23:12.201Z"
   },
   {
    "duration": 7,
    "start_time": "2022-11-22T05:23:12.376Z"
   },
   {
    "duration": 14,
    "start_time": "2022-11-22T05:23:30.922Z"
   },
   {
    "duration": 5,
    "start_time": "2022-11-22T05:23:37.288Z"
   },
   {
    "duration": 5,
    "start_time": "2022-11-22T05:23:55.075Z"
   },
   {
    "duration": 7,
    "start_time": "2022-11-22T05:23:55.865Z"
   },
   {
    "duration": 11,
    "start_time": "2022-11-22T05:24:06.392Z"
   },
   {
    "duration": 5,
    "start_time": "2022-11-22T05:24:14.533Z"
   },
   {
    "duration": 5,
    "start_time": "2022-11-22T05:24:17.908Z"
   },
   {
    "duration": 5,
    "start_time": "2022-11-22T05:24:18.237Z"
   },
   {
    "duration": 4,
    "start_time": "2022-11-22T05:24:18.426Z"
   },
   {
    "duration": 8,
    "start_time": "2022-11-22T05:24:47.896Z"
   },
   {
    "duration": 9,
    "start_time": "2022-11-22T05:25:01.053Z"
   },
   {
    "duration": 8,
    "start_time": "2022-11-22T05:25:07.265Z"
   },
   {
    "duration": 8,
    "start_time": "2022-11-22T05:25:16.820Z"
   },
   {
    "duration": 9,
    "start_time": "2022-11-22T05:25:28.066Z"
   },
   {
    "duration": 7,
    "start_time": "2022-11-22T05:26:54.704Z"
   },
   {
    "duration": 9,
    "start_time": "2022-11-22T05:27:08.054Z"
   },
   {
    "duration": 7,
    "start_time": "2022-11-22T05:27:27.364Z"
   },
   {
    "duration": 7,
    "start_time": "2022-11-22T05:27:33.468Z"
   },
   {
    "duration": 8,
    "start_time": "2022-11-22T05:27:38.363Z"
   },
   {
    "duration": 7,
    "start_time": "2022-11-22T10:41:47.205Z"
   },
   {
    "duration": 1545,
    "start_time": "2022-11-22T10:41:50.656Z"
   },
   {
    "duration": 1622,
    "start_time": "2022-11-22T10:41:52.203Z"
   },
   {
    "duration": 13,
    "start_time": "2022-11-22T10:41:53.826Z"
   },
   {
    "duration": 14,
    "start_time": "2022-11-22T10:41:53.841Z"
   },
   {
    "duration": 34,
    "start_time": "2022-11-22T10:41:53.857Z"
   },
   {
    "duration": 169,
    "start_time": "2022-11-22T10:41:53.892Z"
   },
   {
    "duration": 4553,
    "start_time": "2022-11-22T10:41:54.062Z"
   },
   {
    "duration": 4,
    "start_time": "2022-11-22T10:41:58.616Z"
   },
   {
    "duration": 33,
    "start_time": "2022-11-22T10:41:58.622Z"
   },
   {
    "duration": 8,
    "start_time": "2022-11-22T10:41:58.659Z"
   },
   {
    "duration": 16,
    "start_time": "2022-11-22T10:41:58.669Z"
   },
   {
    "duration": 32,
    "start_time": "2022-11-22T10:41:58.687Z"
   },
   {
    "duration": 165,
    "start_time": "2022-11-22T10:41:58.720Z"
   },
   {
    "duration": 5,
    "start_time": "2022-11-22T10:41:58.886Z"
   },
   {
    "duration": 17,
    "start_time": "2022-11-22T10:41:58.892Z"
   },
   {
    "duration": 9,
    "start_time": "2022-11-22T10:41:58.911Z"
   },
   {
    "duration": 41,
    "start_time": "2022-11-22T10:41:58.921Z"
   },
   {
    "duration": 36,
    "start_time": "2022-11-22T10:41:58.963Z"
   },
   {
    "duration": 163,
    "start_time": "2022-11-22T10:41:59.001Z"
   },
   {
    "duration": 4,
    "start_time": "2022-11-22T10:41:59.166Z"
   },
   {
    "duration": 18,
    "start_time": "2022-11-22T10:41:59.172Z"
   },
   {
    "duration": 14,
    "start_time": "2022-11-22T10:41:59.191Z"
   },
   {
    "duration": 10,
    "start_time": "2022-11-22T10:41:59.207Z"
   },
   {
    "duration": 14,
    "start_time": "2022-11-22T10:41:59.219Z"
   },
   {
    "duration": 18,
    "start_time": "2022-11-22T10:41:59.235Z"
   },
   {
    "duration": 6,
    "start_time": "2022-11-22T10:41:59.254Z"
   },
   {
    "duration": 14,
    "start_time": "2022-11-22T10:41:59.261Z"
   },
   {
    "duration": 5,
    "start_time": "2022-11-22T10:41:59.279Z"
   },
   {
    "duration": 6,
    "start_time": "2022-11-22T10:41:59.285Z"
   },
   {
    "duration": 14,
    "start_time": "2022-11-22T10:41:59.293Z"
   },
   {
    "duration": 3,
    "start_time": "2022-11-22T10:41:59.308Z"
   },
   {
    "duration": 41,
    "start_time": "2022-11-22T10:41:59.312Z"
   },
   {
    "duration": 6,
    "start_time": "2022-11-22T10:41:59.355Z"
   },
   {
    "duration": 194,
    "start_time": "2022-11-22T10:41:59.364Z"
   },
   {
    "duration": 8,
    "start_time": "2022-11-22T10:41:59.560Z"
   },
   {
    "duration": 17,
    "start_time": "2022-11-22T10:41:59.569Z"
   },
   {
    "duration": 65,
    "start_time": "2022-11-22T10:41:59.588Z"
   },
   {
    "duration": 98,
    "start_time": "2022-11-22T10:41:59.655Z"
   },
   {
    "duration": 3,
    "start_time": "2022-11-22T10:41:59.754Z"
   },
   {
    "duration": 40,
    "start_time": "2022-11-22T10:41:59.758Z"
   },
   {
    "duration": 26,
    "start_time": "2022-11-22T10:41:59.800Z"
   },
   {
    "duration": 29,
    "start_time": "2022-11-22T10:41:59.827Z"
   },
   {
    "duration": 112,
    "start_time": "2022-11-22T10:41:59.858Z"
   },
   {
    "duration": 20,
    "start_time": "2022-11-22T10:41:59.972Z"
   },
   {
    "duration": 36,
    "start_time": "2022-11-22T10:41:59.994Z"
   },
   {
    "duration": 43,
    "start_time": "2022-11-22T10:42:00.032Z"
   },
   {
    "duration": 30,
    "start_time": "2022-11-22T10:42:00.077Z"
   },
   {
    "duration": 19,
    "start_time": "2022-11-22T10:42:00.108Z"
   },
   {
    "duration": 46,
    "start_time": "2022-11-22T10:42:00.129Z"
   },
   {
    "duration": 48,
    "start_time": "2022-11-22T10:42:00.176Z"
   },
   {
    "duration": 35,
    "start_time": "2022-11-22T10:42:00.226Z"
   },
   {
    "duration": 124,
    "start_time": "2022-11-22T10:42:00.263Z"
   },
   {
    "duration": 3,
    "start_time": "2022-11-22T10:44:57.100Z"
   },
   {
    "duration": 3,
    "start_time": "2022-11-22T10:45:36.705Z"
   },
   {
    "duration": 9,
    "start_time": "2022-11-22T10:46:20.008Z"
   },
   {
    "duration": 7,
    "start_time": "2022-11-22T10:46:34.316Z"
   },
   {
    "duration": 8,
    "start_time": "2022-11-22T10:47:00.055Z"
   },
   {
    "duration": 7,
    "start_time": "2022-11-22T10:47:09.808Z"
   },
   {
    "duration": 6,
    "start_time": "2022-11-22T10:47:11.964Z"
   },
   {
    "duration": 9,
    "start_time": "2022-11-22T10:47:19.861Z"
   },
   {
    "duration": 3,
    "start_time": "2022-11-22T10:49:03.511Z"
   },
   {
    "duration": 147,
    "start_time": "2022-11-22T10:49:31.015Z"
   },
   {
    "duration": 11,
    "start_time": "2022-11-22T10:49:34.379Z"
   },
   {
    "duration": 16,
    "start_time": "2022-11-22T10:49:43.832Z"
   },
   {
    "duration": 14,
    "start_time": "2022-11-22T10:50:05.310Z"
   },
   {
    "duration": 18,
    "start_time": "2022-11-22T10:50:11.529Z"
   },
   {
    "duration": 26,
    "start_time": "2022-11-22T10:50:27.049Z"
   },
   {
    "duration": 3,
    "start_time": "2022-11-22T10:54:50.678Z"
   },
   {
    "duration": 5,
    "start_time": "2022-11-22T10:54:54.618Z"
   },
   {
    "duration": 4,
    "start_time": "2022-11-22T10:55:06.247Z"
   },
   {
    "duration": 1566,
    "start_time": "2022-11-22T16:57:34.777Z"
   },
   {
    "duration": 1552,
    "start_time": "2022-11-22T16:57:36.345Z"
   },
   {
    "duration": 13,
    "start_time": "2022-11-22T16:57:37.899Z"
   },
   {
    "duration": 36,
    "start_time": "2022-11-22T16:57:37.913Z"
   },
   {
    "duration": 63,
    "start_time": "2022-11-22T16:57:37.952Z"
   },
   {
    "duration": 195,
    "start_time": "2022-11-22T16:57:38.017Z"
   },
   {
    "duration": 4703,
    "start_time": "2022-11-22T16:57:38.214Z"
   },
   {
    "duration": 5,
    "start_time": "2022-11-22T16:57:42.919Z"
   },
   {
    "duration": 26,
    "start_time": "2022-11-22T16:57:42.925Z"
   },
   {
    "duration": 8,
    "start_time": "2022-11-22T16:57:42.953Z"
   },
   {
    "duration": 37,
    "start_time": "2022-11-22T16:57:42.963Z"
   },
   {
    "duration": 40,
    "start_time": "2022-11-22T16:57:43.002Z"
   },
   {
    "duration": 150,
    "start_time": "2022-11-22T16:57:43.043Z"
   },
   {
    "duration": 9,
    "start_time": "2022-11-22T16:57:43.196Z"
   },
   {
    "duration": 31,
    "start_time": "2022-11-22T16:57:43.206Z"
   },
   {
    "duration": 22,
    "start_time": "2022-11-22T16:57:43.238Z"
   },
   {
    "duration": 32,
    "start_time": "2022-11-22T16:57:43.262Z"
   },
   {
    "duration": 46,
    "start_time": "2022-11-22T16:57:43.296Z"
   },
   {
    "duration": 150,
    "start_time": "2022-11-22T16:57:43.343Z"
   },
   {
    "duration": 4,
    "start_time": "2022-11-22T16:57:43.495Z"
   },
   {
    "duration": 29,
    "start_time": "2022-11-22T16:57:43.504Z"
   },
   {
    "duration": 25,
    "start_time": "2022-11-22T16:57:43.534Z"
   },
   {
    "duration": 24,
    "start_time": "2022-11-22T16:57:43.560Z"
   },
   {
    "duration": 37,
    "start_time": "2022-11-22T16:57:43.586Z"
   },
   {
    "duration": 21,
    "start_time": "2022-11-22T16:57:43.624Z"
   },
   {
    "duration": 29,
    "start_time": "2022-11-22T16:57:43.647Z"
   },
   {
    "duration": 37,
    "start_time": "2022-11-22T16:57:43.678Z"
   },
   {
    "duration": 15,
    "start_time": "2022-11-22T16:57:43.717Z"
   },
   {
    "duration": 19,
    "start_time": "2022-11-22T16:57:43.733Z"
   },
   {
    "duration": 25,
    "start_time": "2022-11-22T16:57:43.753Z"
   },
   {
    "duration": 22,
    "start_time": "2022-11-22T16:57:43.780Z"
   },
   {
    "duration": 49,
    "start_time": "2022-11-22T16:57:43.804Z"
   },
   {
    "duration": 152,
    "start_time": "2022-11-22T16:57:43.855Z"
   },
   {
    "duration": 129,
    "start_time": "2022-11-22T16:57:44.009Z"
   },
   {
    "duration": 17,
    "start_time": "2022-11-22T16:57:44.140Z"
   },
   {
    "duration": 48,
    "start_time": "2022-11-22T16:57:44.159Z"
   },
   {
    "duration": 41,
    "start_time": "2022-11-22T16:57:44.208Z"
   },
   {
    "duration": 58,
    "start_time": "2022-11-22T16:57:44.252Z"
   },
   {
    "duration": 113,
    "start_time": "2022-11-22T16:57:44.312Z"
   },
   {
    "duration": 31,
    "start_time": "2022-11-22T16:57:44.426Z"
   },
   {
    "duration": 25,
    "start_time": "2022-11-22T16:57:44.462Z"
   },
   {
    "duration": 126,
    "start_time": "2022-11-22T16:57:44.488Z"
   },
   {
    "duration": 21,
    "start_time": "2022-11-22T16:57:44.615Z"
   },
   {
    "duration": 24,
    "start_time": "2022-11-22T16:57:44.637Z"
   },
   {
    "duration": 44,
    "start_time": "2022-11-22T16:57:44.662Z"
   },
   {
    "duration": 22,
    "start_time": "2022-11-22T16:57:44.707Z"
   },
   {
    "duration": 20,
    "start_time": "2022-11-22T16:57:44.731Z"
   },
   {
    "duration": 14,
    "start_time": "2022-11-22T16:57:44.752Z"
   },
   {
    "duration": 18,
    "start_time": "2022-11-22T16:57:44.768Z"
   },
   {
    "duration": 18,
    "start_time": "2022-11-22T16:57:44.788Z"
   },
   {
    "duration": 13,
    "start_time": "2022-11-22T16:57:44.808Z"
   },
   {
    "duration": 23,
    "start_time": "2022-11-22T16:57:44.823Z"
   },
   {
    "duration": 11,
    "start_time": "2022-11-22T16:57:44.848Z"
   },
   {
    "duration": 34,
    "start_time": "2022-11-22T16:57:44.861Z"
   },
   {
    "duration": 13,
    "start_time": "2022-11-22T16:57:44.897Z"
   },
   {
    "duration": 130,
    "start_time": "2022-11-22T16:57:44.912Z"
   },
   {
    "duration": 0,
    "start_time": "2022-11-22T16:57:45.045Z"
   },
   {
    "duration": 0,
    "start_time": "2022-11-22T16:57:45.047Z"
   },
   {
    "duration": 3,
    "start_time": "2022-11-22T17:05:18.543Z"
   },
   {
    "duration": 3,
    "start_time": "2022-11-22T17:05:40.179Z"
   },
   {
    "duration": 8,
    "start_time": "2022-11-22T17:05:52.218Z"
   },
   {
    "duration": 3,
    "start_time": "2022-11-22T17:06:48.736Z"
   },
   {
    "duration": 3,
    "start_time": "2022-11-22T17:06:49.406Z"
   },
   {
    "duration": 9,
    "start_time": "2022-11-22T17:06:49.638Z"
   },
   {
    "duration": 1562,
    "start_time": "2022-11-22T20:32:27.669Z"
   },
   {
    "duration": 861,
    "start_time": "2022-11-22T20:32:29.233Z"
   },
   {
    "duration": 16,
    "start_time": "2022-11-22T20:32:30.095Z"
   },
   {
    "duration": 28,
    "start_time": "2022-11-22T20:32:30.114Z"
   },
   {
    "duration": 64,
    "start_time": "2022-11-22T20:32:30.144Z"
   },
   {
    "duration": 181,
    "start_time": "2022-11-22T20:32:30.210Z"
   },
   {
    "duration": 4655,
    "start_time": "2022-11-22T20:32:30.392Z"
   },
   {
    "duration": 5,
    "start_time": "2022-11-22T20:32:35.049Z"
   },
   {
    "duration": 20,
    "start_time": "2022-11-22T20:32:35.055Z"
   },
   {
    "duration": 9,
    "start_time": "2022-11-22T20:32:35.077Z"
   },
   {
    "duration": 31,
    "start_time": "2022-11-22T20:32:35.088Z"
   },
   {
    "duration": 33,
    "start_time": "2022-11-22T20:32:35.120Z"
   },
   {
    "duration": 180,
    "start_time": "2022-11-22T20:32:35.155Z"
   },
   {
    "duration": 5,
    "start_time": "2022-11-22T20:32:35.337Z"
   },
   {
    "duration": 21,
    "start_time": "2022-11-22T20:32:35.344Z"
   },
   {
    "duration": 9,
    "start_time": "2022-11-22T20:32:35.368Z"
   },
   {
    "duration": 38,
    "start_time": "2022-11-22T20:32:35.379Z"
   },
   {
    "duration": 35,
    "start_time": "2022-11-22T20:32:35.419Z"
   },
   {
    "duration": 167,
    "start_time": "2022-11-22T20:32:35.456Z"
   },
   {
    "duration": 5,
    "start_time": "2022-11-22T20:32:35.626Z"
   },
   {
    "duration": 16,
    "start_time": "2022-11-22T20:32:35.632Z"
   },
   {
    "duration": 13,
    "start_time": "2022-11-22T20:32:35.650Z"
   },
   {
    "duration": 6,
    "start_time": "2022-11-22T20:32:35.664Z"
   },
   {
    "duration": 42,
    "start_time": "2022-11-22T20:32:35.671Z"
   },
   {
    "duration": 6,
    "start_time": "2022-11-22T20:32:35.715Z"
   },
   {
    "duration": 7,
    "start_time": "2022-11-22T20:32:35.722Z"
   },
   {
    "duration": 16,
    "start_time": "2022-11-22T20:32:35.730Z"
   },
   {
    "duration": 5,
    "start_time": "2022-11-22T20:32:35.750Z"
   },
   {
    "duration": 4,
    "start_time": "2022-11-22T20:32:35.757Z"
   },
   {
    "duration": 15,
    "start_time": "2022-11-22T20:32:35.762Z"
   },
   {
    "duration": 2,
    "start_time": "2022-11-22T20:32:35.779Z"
   },
   {
    "duration": 14,
    "start_time": "2022-11-22T20:32:35.812Z"
   },
   {
    "duration": 85,
    "start_time": "2022-11-22T20:32:35.828Z"
   },
   {
    "duration": 108,
    "start_time": "2022-11-22T20:32:35.916Z"
   },
   {
    "duration": 5,
    "start_time": "2022-11-22T20:32:36.111Z"
   },
   {
    "duration": 12,
    "start_time": "2022-11-22T20:32:36.118Z"
   },
   {
    "duration": 5,
    "start_time": "2022-11-22T20:32:36.132Z"
   },
   {
    "duration": 174,
    "start_time": "2022-11-22T20:32:36.139Z"
   },
   {
    "duration": 2,
    "start_time": "2022-11-22T20:32:36.315Z"
   },
   {
    "duration": 18,
    "start_time": "2022-11-22T20:32:36.319Z"
   },
   {
    "duration": 7,
    "start_time": "2022-11-22T20:32:36.338Z"
   },
   {
    "duration": 69,
    "start_time": "2022-11-22T20:32:36.347Z"
   },
   {
    "duration": 99,
    "start_time": "2022-11-22T20:32:36.418Z"
   },
   {
    "duration": 4,
    "start_time": "2022-11-22T20:32:36.519Z"
   },
   {
    "duration": 8,
    "start_time": "2022-11-22T20:32:36.525Z"
   },
   {
    "duration": 5,
    "start_time": "2022-11-22T20:32:36.534Z"
   },
   {
    "duration": 12,
    "start_time": "2022-11-22T20:32:36.541Z"
   },
   {
    "duration": 5,
    "start_time": "2022-11-22T20:32:36.555Z"
   },
   {
    "duration": 8,
    "start_time": "2022-11-22T20:32:36.561Z"
   },
   {
    "duration": 5,
    "start_time": "2022-11-22T20:32:36.570Z"
   },
   {
    "duration": 6,
    "start_time": "2022-11-22T20:32:36.576Z"
   },
   {
    "duration": 17,
    "start_time": "2022-11-22T20:32:36.583Z"
   },
   {
    "duration": 3,
    "start_time": "2022-11-22T20:32:51.768Z"
   },
   {
    "duration": 2,
    "start_time": "2022-11-22T20:34:53.262Z"
   },
   {
    "duration": 111,
    "start_time": "2022-11-22T20:34:59.535Z"
   },
   {
    "duration": 16,
    "start_time": "2022-11-22T20:51:33.272Z"
   },
   {
    "duration": 10,
    "start_time": "2022-11-22T20:52:29.910Z"
   },
   {
    "duration": 3,
    "start_time": "2022-11-22T20:53:02.846Z"
   },
   {
    "duration": 3,
    "start_time": "2022-11-22T20:53:04.946Z"
   },
   {
    "duration": 17,
    "start_time": "2022-11-22T20:53:05.274Z"
   },
   {
    "duration": 16,
    "start_time": "2022-11-22T20:53:32.687Z"
   },
   {
    "duration": 26,
    "start_time": "2022-11-22T20:54:11.323Z"
   },
   {
    "duration": 17,
    "start_time": "2022-11-22T20:54:26.253Z"
   },
   {
    "duration": 3,
    "start_time": "2022-11-22T20:55:09.227Z"
   },
   {
    "duration": 3,
    "start_time": "2022-11-22T20:56:50.535Z"
   },
   {
    "duration": 3,
    "start_time": "2022-11-22T20:56:51.053Z"
   },
   {
    "duration": 2,
    "start_time": "2022-11-22T20:56:51.647Z"
   },
   {
    "duration": 16,
    "start_time": "2022-11-22T20:56:52.415Z"
   },
   {
    "duration": 3,
    "start_time": "2022-11-22T20:57:24.947Z"
   },
   {
    "duration": 4,
    "start_time": "2022-11-22T20:57:25.579Z"
   },
   {
    "duration": 3,
    "start_time": "2022-11-22T20:57:25.990Z"
   },
   {
    "duration": 17,
    "start_time": "2022-11-22T20:57:26.325Z"
   },
   {
    "duration": 3,
    "start_time": "2022-11-22T21:02:27.256Z"
   },
   {
    "duration": 2,
    "start_time": "2022-11-22T21:02:55.415Z"
   },
   {
    "duration": 2,
    "start_time": "2022-11-22T21:02:55.561Z"
   },
   {
    "duration": 3,
    "start_time": "2022-11-22T21:02:56.013Z"
   },
   {
    "duration": 4,
    "start_time": "2022-11-22T21:04:06.558Z"
   },
   {
    "duration": 17,
    "start_time": "2022-11-22T21:05:31.626Z"
   },
   {
    "duration": 18,
    "start_time": "2022-11-22T21:06:00.873Z"
   },
   {
    "duration": 4,
    "start_time": "2022-11-22T21:06:35.139Z"
   },
   {
    "duration": 17,
    "start_time": "2022-11-22T21:06:43.070Z"
   },
   {
    "duration": 4,
    "start_time": "2022-11-22T21:07:49.541Z"
   },
   {
    "duration": 3,
    "start_time": "2022-11-22T21:07:49.958Z"
   },
   {
    "duration": 3,
    "start_time": "2022-11-22T21:07:50.394Z"
   },
   {
    "duration": 16,
    "start_time": "2022-11-22T21:07:51.117Z"
   },
   {
    "duration": 83,
    "start_time": "2022-11-22T21:08:16.723Z"
   },
   {
    "duration": 114,
    "start_time": "2022-11-22T21:08:26.191Z"
   },
   {
    "duration": 3,
    "start_time": "2022-11-22T21:16:20.727Z"
   },
   {
    "duration": 3,
    "start_time": "2022-11-22T21:16:51.182Z"
   },
   {
    "duration": 3,
    "start_time": "2022-11-22T21:16:56.073Z"
   },
   {
    "duration": 17,
    "start_time": "2022-11-22T21:19:38.694Z"
   },
   {
    "duration": 14,
    "start_time": "2022-11-22T21:21:16.630Z"
   },
   {
    "duration": 3,
    "start_time": "2022-11-22T21:22:14.486Z"
   },
   {
    "duration": 3,
    "start_time": "2022-11-22T21:22:14.863Z"
   },
   {
    "duration": 3,
    "start_time": "2022-11-22T21:22:15.098Z"
   },
   {
    "duration": 1348,
    "start_time": "2022-11-22T21:22:15.798Z"
   },
   {
    "duration": 9,
    "start_time": "2022-11-22T21:22:34.027Z"
   },
   {
    "duration": 3,
    "start_time": "2022-11-22T21:22:52.252Z"
   },
   {
    "duration": 5,
    "start_time": "2022-11-22T21:23:00.085Z"
   },
   {
    "duration": 4,
    "start_time": "2022-11-22T21:24:00.736Z"
   },
   {
    "duration": 3,
    "start_time": "2022-11-22T21:24:01.370Z"
   },
   {
    "duration": 2,
    "start_time": "2022-11-22T21:24:01.555Z"
   },
   {
    "duration": 1275,
    "start_time": "2022-11-22T21:24:01.902Z"
   },
   {
    "duration": 3,
    "start_time": "2022-11-22T21:24:03.179Z"
   },
   {
    "duration": 12,
    "start_time": "2022-11-22T21:24:03.184Z"
   },
   {
    "duration": 15,
    "start_time": "2022-11-22T21:28:30.311Z"
   },
   {
    "duration": 14,
    "start_time": "2022-11-22T21:30:07.266Z"
   },
   {
    "duration": 3,
    "start_time": "2022-11-22T21:30:17.541Z"
   },
   {
    "duration": 379,
    "start_time": "2022-11-22T21:30:17.548Z"
   },
   {
    "duration": 10,
    "start_time": "2022-11-22T21:30:17.929Z"
   },
   {
    "duration": 19,
    "start_time": "2022-11-22T21:30:17.941Z"
   },
   {
    "duration": 55,
    "start_time": "2022-11-22T21:30:17.963Z"
   },
   {
    "duration": 186,
    "start_time": "2022-11-22T21:30:18.020Z"
   },
   {
    "duration": 4861,
    "start_time": "2022-11-22T21:30:18.213Z"
   },
   {
    "duration": 5,
    "start_time": "2022-11-22T21:30:23.076Z"
   },
   {
    "duration": 41,
    "start_time": "2022-11-22T21:30:23.083Z"
   },
   {
    "duration": 9,
    "start_time": "2022-11-22T21:30:23.126Z"
   },
   {
    "duration": 14,
    "start_time": "2022-11-22T21:30:23.139Z"
   },
   {
    "duration": 64,
    "start_time": "2022-11-22T21:30:23.154Z"
   },
   {
    "duration": 163,
    "start_time": "2022-11-22T21:30:23.220Z"
   },
   {
    "duration": 5,
    "start_time": "2022-11-22T21:30:23.385Z"
   },
   {
    "duration": 28,
    "start_time": "2022-11-22T21:30:23.392Z"
   },
   {
    "duration": 8,
    "start_time": "2022-11-22T21:30:23.421Z"
   },
   {
    "duration": 17,
    "start_time": "2022-11-22T21:30:23.431Z"
   },
   {
    "duration": 32,
    "start_time": "2022-11-22T21:30:23.449Z"
   },
   {
    "duration": 174,
    "start_time": "2022-11-22T21:30:23.483Z"
   },
   {
    "duration": 4,
    "start_time": "2022-11-22T21:30:23.658Z"
   },
   {
    "duration": 19,
    "start_time": "2022-11-22T21:30:23.664Z"
   },
   {
    "duration": 28,
    "start_time": "2022-11-22T21:30:23.684Z"
   },
   {
    "duration": 2,
    "start_time": "2022-11-22T21:30:23.714Z"
   },
   {
    "duration": 12,
    "start_time": "2022-11-22T21:30:23.718Z"
   },
   {
    "duration": 5,
    "start_time": "2022-11-22T21:30:23.731Z"
   },
   {
    "duration": 5,
    "start_time": "2022-11-22T21:30:23.738Z"
   },
   {
    "duration": 15,
    "start_time": "2022-11-22T21:30:23.745Z"
   },
   {
    "duration": 6,
    "start_time": "2022-11-22T21:30:23.761Z"
   },
   {
    "duration": 5,
    "start_time": "2022-11-22T21:30:23.770Z"
   },
   {
    "duration": 41,
    "start_time": "2022-11-22T21:30:23.776Z"
   },
   {
    "duration": 2,
    "start_time": "2022-11-22T21:30:23.819Z"
   },
   {
    "duration": 21,
    "start_time": "2022-11-22T21:30:23.823Z"
   },
   {
    "duration": 7,
    "start_time": "2022-11-22T21:30:23.846Z"
   },
   {
    "duration": 100,
    "start_time": "2022-11-22T21:30:23.913Z"
   },
   {
    "duration": 7,
    "start_time": "2022-11-22T21:30:24.015Z"
   },
   {
    "duration": 18,
    "start_time": "2022-11-22T21:30:24.023Z"
   },
   {
    "duration": 7,
    "start_time": "2022-11-22T21:30:24.043Z"
   },
   {
    "duration": 66,
    "start_time": "2022-11-22T21:30:24.051Z"
   },
   {
    "duration": 99,
    "start_time": "2022-11-22T21:30:24.119Z"
   },
   {
    "duration": 14,
    "start_time": "2022-11-22T21:30:24.219Z"
   },
   {
    "duration": 7,
    "start_time": "2022-11-22T21:30:24.235Z"
   },
   {
    "duration": 73,
    "start_time": "2022-11-22T21:30:24.246Z"
   },
   {
    "duration": 111,
    "start_time": "2022-11-22T21:30:24.320Z"
   },
   {
    "duration": 24,
    "start_time": "2022-11-22T21:30:24.432Z"
   },
   {
    "duration": 13,
    "start_time": "2022-11-22T21:30:24.458Z"
   },
   {
    "duration": 18,
    "start_time": "2022-11-22T21:30:24.473Z"
   },
   {
    "duration": 19,
    "start_time": "2022-11-22T21:30:24.493Z"
   },
   {
    "duration": 23,
    "start_time": "2022-11-22T21:30:24.513Z"
   },
   {
    "duration": 15,
    "start_time": "2022-11-22T21:30:24.538Z"
   },
   {
    "duration": 7,
    "start_time": "2022-11-22T21:30:24.555Z"
   },
   {
    "duration": 14,
    "start_time": "2022-11-22T21:30:24.564Z"
   },
   {
    "duration": 8,
    "start_time": "2022-11-22T21:30:24.580Z"
   },
   {
    "duration": 6,
    "start_time": "2022-11-22T21:30:24.589Z"
   },
   {
    "duration": 1249,
    "start_time": "2022-11-22T21:30:24.596Z"
   },
   {
    "duration": 3,
    "start_time": "2022-11-22T21:30:25.846Z"
   },
   {
    "duration": 11,
    "start_time": "2022-11-22T21:30:25.851Z"
   },
   {
    "duration": 10,
    "start_time": "2022-11-22T21:30:25.863Z"
   },
   {
    "duration": 1255,
    "start_time": "2022-11-22T21:30:28.025Z"
   },
   {
    "duration": 10,
    "start_time": "2022-11-22T21:30:34.573Z"
   },
   {
    "duration": 3,
    "start_time": "2022-11-22T21:30:40.598Z"
   },
   {
    "duration": 6,
    "start_time": "2022-11-22T21:30:41.005Z"
   },
   {
    "duration": 6,
    "start_time": "2022-11-22T21:35:10.646Z"
   },
   {
    "duration": 5,
    "start_time": "2022-11-22T21:36:10.912Z"
   },
   {
    "duration": 5,
    "start_time": "2022-11-22T21:36:21.278Z"
   },
   {
    "duration": 45,
    "start_time": "2022-11-22T21:36:50.294Z"
   },
   {
    "duration": 4,
    "start_time": "2022-11-22T21:36:59.435Z"
   },
   {
    "duration": 3,
    "start_time": "2022-11-22T21:37:00.523Z"
   },
   {
    "duration": 2,
    "start_time": "2022-11-22T21:37:00.752Z"
   },
   {
    "duration": 1251,
    "start_time": "2022-11-22T21:37:01.038Z"
   },
   {
    "duration": 3,
    "start_time": "2022-11-22T21:37:02.291Z"
   },
   {
    "duration": 8,
    "start_time": "2022-11-22T21:37:02.296Z"
   },
   {
    "duration": 5,
    "start_time": "2022-11-22T21:37:16.974Z"
   },
   {
    "duration": 3,
    "start_time": "2022-11-22T21:38:45.259Z"
   },
   {
    "duration": 2078,
    "start_time": "2022-11-22T21:39:12.895Z"
   },
   {
    "duration": 4,
    "start_time": "2022-11-22T21:39:14.975Z"
   },
   {
    "duration": 8,
    "start_time": "2022-11-22T21:39:14.980Z"
   },
   {
    "duration": 10,
    "start_time": "2022-11-22T21:39:38.183Z"
   },
   {
    "duration": 9,
    "start_time": "2022-11-22T21:39:57.173Z"
   },
   {
    "duration": 3,
    "start_time": "2022-11-22T21:40:00.519Z"
   },
   {
    "duration": 2146,
    "start_time": "2022-11-22T21:40:00.888Z"
   },
   {
    "duration": 3,
    "start_time": "2022-11-22T21:40:03.036Z"
   },
   {
    "duration": 10,
    "start_time": "2022-11-22T21:40:03.040Z"
   },
   {
    "duration": 20,
    "start_time": "2022-11-22T21:40:03.052Z"
   },
   {
    "duration": 4,
    "start_time": "2022-11-22T21:40:12.502Z"
   },
   {
    "duration": 4,
    "start_time": "2022-11-22T21:42:46.118Z"
   },
   {
    "duration": 3,
    "start_time": "2022-11-22T21:42:49.350Z"
   },
   {
    "duration": 3,
    "start_time": "2022-11-22T21:42:49.693Z"
   },
   {
    "duration": 2535,
    "start_time": "2022-11-22T21:42:50.246Z"
   },
   {
    "duration": 4,
    "start_time": "2022-11-22T21:43:00.860Z"
   },
   {
    "duration": 1508,
    "start_time": "2022-11-22T21:43:20.998Z"
   },
   {
    "duration": 4,
    "start_time": "2022-11-22T21:43:22.508Z"
   },
   {
    "duration": 24,
    "start_time": "2022-11-22T21:43:22.514Z"
   },
   {
    "duration": 8,
    "start_time": "2022-11-22T21:43:50.601Z"
   },
   {
    "duration": 11,
    "start_time": "2022-11-22T21:44:17.148Z"
   },
   {
    "duration": 7,
    "start_time": "2022-11-22T21:44:23.437Z"
   },
   {
    "duration": 4,
    "start_time": "2022-11-22T21:44:58.190Z"
   },
   {
    "duration": 3,
    "start_time": "2022-11-22T21:44:58.458Z"
   },
   {
    "duration": 3,
    "start_time": "2022-11-22T21:44:59.430Z"
   },
   {
    "duration": 1347,
    "start_time": "2022-11-22T21:45:07.708Z"
   },
   {
    "duration": 3,
    "start_time": "2022-11-22T21:45:09.057Z"
   },
   {
    "duration": 31,
    "start_time": "2022-11-22T21:45:09.061Z"
   },
   {
    "duration": 3,
    "start_time": "2022-11-22T21:45:22.138Z"
   },
   {
    "duration": 1380,
    "start_time": "2022-11-22T21:45:22.467Z"
   },
   {
    "duration": 4,
    "start_time": "2022-11-22T21:45:23.849Z"
   },
   {
    "duration": 12,
    "start_time": "2022-11-22T21:45:23.855Z"
   },
   {
    "duration": 4,
    "start_time": "2022-11-22T21:45:56.296Z"
   },
   {
    "duration": 1375,
    "start_time": "2022-11-22T21:45:56.487Z"
   },
   {
    "duration": 3,
    "start_time": "2022-11-22T21:45:57.864Z"
   },
   {
    "duration": 11,
    "start_time": "2022-11-22T21:45:57.869Z"
   },
   {
    "duration": 18,
    "start_time": "2022-11-22T21:51:16.544Z"
   },
   {
    "duration": 3,
    "start_time": "2022-11-22T21:51:25.652Z"
   },
   {
    "duration": 402,
    "start_time": "2022-11-22T21:51:25.657Z"
   },
   {
    "duration": 9,
    "start_time": "2022-11-22T21:51:26.061Z"
   },
   {
    "duration": 17,
    "start_time": "2022-11-22T21:51:26.072Z"
   },
   {
    "duration": 49,
    "start_time": "2022-11-22T21:51:26.091Z"
   },
   {
    "duration": 159,
    "start_time": "2022-11-22T21:51:26.141Z"
   },
   {
    "duration": 5021,
    "start_time": "2022-11-22T21:51:26.302Z"
   },
   {
    "duration": 4,
    "start_time": "2022-11-22T21:51:31.325Z"
   },
   {
    "duration": 47,
    "start_time": "2022-11-22T21:51:31.330Z"
   },
   {
    "duration": 9,
    "start_time": "2022-11-22T21:51:31.378Z"
   },
   {
    "duration": 20,
    "start_time": "2022-11-22T21:51:31.390Z"
   },
   {
    "duration": 37,
    "start_time": "2022-11-22T21:51:31.412Z"
   },
   {
    "duration": 200,
    "start_time": "2022-11-22T21:51:31.451Z"
   },
   {
    "duration": 6,
    "start_time": "2022-11-22T21:51:31.653Z"
   },
   {
    "duration": 31,
    "start_time": "2022-11-22T21:51:31.661Z"
   },
   {
    "duration": 9,
    "start_time": "2022-11-22T21:51:31.694Z"
   },
   {
    "duration": 23,
    "start_time": "2022-11-22T21:51:31.712Z"
   },
   {
    "duration": 36,
    "start_time": "2022-11-22T21:51:31.737Z"
   },
   {
    "duration": 224,
    "start_time": "2022-11-22T21:51:31.775Z"
   },
   {
    "duration": 12,
    "start_time": "2022-11-22T21:51:32.000Z"
   },
   {
    "duration": 15,
    "start_time": "2022-11-22T21:51:32.013Z"
   },
   {
    "duration": 13,
    "start_time": "2022-11-22T21:51:32.030Z"
   },
   {
    "duration": 8,
    "start_time": "2022-11-22T21:51:32.044Z"
   },
   {
    "duration": 18,
    "start_time": "2022-11-22T21:51:32.053Z"
   },
   {
    "duration": 6,
    "start_time": "2022-11-22T21:51:32.072Z"
   },
   {
    "duration": 8,
    "start_time": "2022-11-22T21:51:32.080Z"
   },
   {
    "duration": 12,
    "start_time": "2022-11-22T21:51:32.112Z"
   },
   {
    "duration": 9,
    "start_time": "2022-11-22T21:51:32.125Z"
   },
   {
    "duration": 4,
    "start_time": "2022-11-22T21:51:32.138Z"
   },
   {
    "duration": 12,
    "start_time": "2022-11-22T21:51:32.144Z"
   },
   {
    "duration": 2,
    "start_time": "2022-11-22T21:51:32.158Z"
   },
   {
    "duration": 16,
    "start_time": "2022-11-22T21:51:32.162Z"
   },
   {
    "duration": 32,
    "start_time": "2022-11-22T21:51:32.180Z"
   },
   {
    "duration": 6,
    "start_time": "2022-11-22T21:51:32.214Z"
   },
   {
    "duration": 103,
    "start_time": "2022-11-22T21:51:32.222Z"
   },
   {
    "duration": 21,
    "start_time": "2022-11-22T21:51:32.327Z"
   },
   {
    "duration": 5,
    "start_time": "2022-11-22T21:51:32.350Z"
   },
   {
    "duration": 60,
    "start_time": "2022-11-22T21:51:32.357Z"
   },
   {
    "duration": 95,
    "start_time": "2022-11-22T21:51:32.418Z"
   },
   {
    "duration": 18,
    "start_time": "2022-11-22T21:51:32.515Z"
   },
   {
    "duration": 5,
    "start_time": "2022-11-22T21:51:32.535Z"
   },
   {
    "duration": 73,
    "start_time": "2022-11-22T21:51:32.542Z"
   },
   {
    "duration": 8,
    "start_time": "2022-11-22T21:51:32.617Z"
   },
   {
    "duration": 5,
    "start_time": "2022-11-22T21:51:32.712Z"
   },
   {
    "duration": 14,
    "start_time": "2022-11-22T21:51:32.718Z"
   },
   {
    "duration": 4,
    "start_time": "2022-11-22T21:51:32.733Z"
   },
   {
    "duration": 13,
    "start_time": "2022-11-22T21:51:32.738Z"
   },
   {
    "duration": 16,
    "start_time": "2022-11-22T21:51:32.752Z"
   },
   {
    "duration": 7,
    "start_time": "2022-11-22T21:51:32.770Z"
   },
   {
    "duration": 20,
    "start_time": "2022-11-22T21:51:32.778Z"
   },
   {
    "duration": 6,
    "start_time": "2022-11-22T21:51:32.800Z"
   },
   {
    "duration": 14,
    "start_time": "2022-11-22T21:51:32.808Z"
   },
   {
    "duration": 13,
    "start_time": "2022-11-22T21:51:32.824Z"
   },
   {
    "duration": 3,
    "start_time": "2022-11-22T21:51:37.492Z"
   },
   {
    "duration": 1440,
    "start_time": "2022-11-22T21:51:38.128Z"
   },
   {
    "duration": 3,
    "start_time": "2022-11-22T21:51:39.570Z"
   },
   {
    "duration": 20,
    "start_time": "2022-11-22T21:51:39.575Z"
   },
   {
    "duration": 6,
    "start_time": "2022-11-22T21:52:06.076Z"
   },
   {
    "duration": 3,
    "start_time": "2022-11-22T21:58:00.451Z"
   },
   {
    "duration": 3,
    "start_time": "2022-11-22T21:58:05.716Z"
   },
   {
    "duration": 368,
    "start_time": "2022-11-22T21:58:05.723Z"
   },
   {
    "duration": 19,
    "start_time": "2022-11-22T21:58:06.093Z"
   },
   {
    "duration": 15,
    "start_time": "2022-11-22T21:58:06.114Z"
   },
   {
    "duration": 39,
    "start_time": "2022-11-22T21:58:06.132Z"
   },
   {
    "duration": 199,
    "start_time": "2022-11-22T21:58:06.173Z"
   },
   {
    "duration": 4638,
    "start_time": "2022-11-22T21:58:06.375Z"
   },
   {
    "duration": 4,
    "start_time": "2022-11-22T21:58:11.015Z"
   },
   {
    "duration": 23,
    "start_time": "2022-11-22T21:58:11.021Z"
   },
   {
    "duration": 9,
    "start_time": "2022-11-22T21:58:11.045Z"
   },
   {
    "duration": 18,
    "start_time": "2022-11-22T21:58:11.057Z"
   },
   {
    "duration": 68,
    "start_time": "2022-11-22T21:58:11.077Z"
   },
   {
    "duration": 172,
    "start_time": "2022-11-22T21:58:11.147Z"
   },
   {
    "duration": 5,
    "start_time": "2022-11-22T21:58:11.321Z"
   },
   {
    "duration": 16,
    "start_time": "2022-11-22T21:58:11.328Z"
   },
   {
    "duration": 9,
    "start_time": "2022-11-22T21:58:11.346Z"
   },
   {
    "duration": 14,
    "start_time": "2022-11-22T21:58:11.357Z"
   },
   {
    "duration": 67,
    "start_time": "2022-11-22T21:58:11.373Z"
   },
   {
    "duration": 170,
    "start_time": "2022-11-22T21:58:11.442Z"
   },
   {
    "duration": 6,
    "start_time": "2022-11-22T21:58:11.613Z"
   },
   {
    "duration": 18,
    "start_time": "2022-11-22T21:58:11.621Z"
   },
   {
    "duration": 11,
    "start_time": "2022-11-22T21:58:11.641Z"
   },
   {
    "duration": 6,
    "start_time": "2022-11-22T21:58:11.654Z"
   },
   {
    "duration": 12,
    "start_time": "2022-11-22T21:58:11.662Z"
   },
   {
    "duration": 5,
    "start_time": "2022-11-22T21:58:11.676Z"
   },
   {
    "duration": 3,
    "start_time": "2022-11-22T21:58:11.713Z"
   },
   {
    "duration": 13,
    "start_time": "2022-11-22T21:58:11.718Z"
   },
   {
    "duration": 5,
    "start_time": "2022-11-22T21:58:11.733Z"
   },
   {
    "duration": 7,
    "start_time": "2022-11-22T21:58:11.742Z"
   },
   {
    "duration": 14,
    "start_time": "2022-11-22T21:58:11.751Z"
   },
   {
    "duration": 3,
    "start_time": "2022-11-22T21:58:11.767Z"
   },
   {
    "duration": 40,
    "start_time": "2022-11-22T21:58:11.772Z"
   },
   {
    "duration": 8,
    "start_time": "2022-11-22T21:58:11.815Z"
   },
   {
    "duration": 92,
    "start_time": "2022-11-22T21:58:11.825Z"
   },
   {
    "duration": 96,
    "start_time": "2022-11-22T21:58:11.919Z"
   },
   {
    "duration": 13,
    "start_time": "2022-11-22T21:58:12.017Z"
   },
   {
    "duration": 10,
    "start_time": "2022-11-22T21:58:12.032Z"
   },
   {
    "duration": 70,
    "start_time": "2022-11-22T21:58:12.044Z"
   },
   {
    "duration": 6,
    "start_time": "2022-11-22T21:58:12.115Z"
   },
   {
    "duration": 98,
    "start_time": "2022-11-22T21:58:12.123Z"
   },
   {
    "duration": 6,
    "start_time": "2022-11-22T21:58:12.223Z"
   },
   {
    "duration": 84,
    "start_time": "2022-11-22T21:58:12.231Z"
   },
   {
    "duration": 7,
    "start_time": "2022-11-22T21:58:12.317Z"
   },
   {
    "duration": 10,
    "start_time": "2022-11-22T21:58:12.413Z"
   },
   {
    "duration": 7,
    "start_time": "2022-11-22T21:58:12.425Z"
   },
   {
    "duration": 11,
    "start_time": "2022-11-22T21:58:12.434Z"
   },
   {
    "duration": 9,
    "start_time": "2022-11-22T21:58:12.446Z"
   },
   {
    "duration": 5,
    "start_time": "2022-11-22T21:58:12.456Z"
   },
   {
    "duration": 5,
    "start_time": "2022-11-22T21:58:12.462Z"
   },
   {
    "duration": 6,
    "start_time": "2022-11-22T21:58:12.468Z"
   },
   {
    "duration": 4,
    "start_time": "2022-11-22T21:58:27.264Z"
   },
   {
    "duration": 3,
    "start_time": "2022-11-22T21:58:28.380Z"
   },
   {
    "duration": 2,
    "start_time": "2022-11-22T21:58:28.848Z"
   },
   {
    "duration": 3,
    "start_time": "2022-11-22T21:58:32.354Z"
   },
   {
    "duration": 3,
    "start_time": "2022-11-22T21:58:32.794Z"
   },
   {
    "duration": 3,
    "start_time": "2022-11-22T21:58:38.619Z"
   },
   {
    "duration": 1875,
    "start_time": "2022-11-22T21:58:40.008Z"
   },
   {
    "duration": 3,
    "start_time": "2022-11-22T21:58:42.260Z"
   },
   {
    "duration": 23,
    "start_time": "2022-11-22T21:58:42.760Z"
   },
   {
    "duration": 3,
    "start_time": "2022-11-22T21:58:54.656Z"
   },
   {
    "duration": 382,
    "start_time": "2022-11-22T21:58:54.662Z"
   },
   {
    "duration": 10,
    "start_time": "2022-11-22T21:58:55.046Z"
   },
   {
    "duration": 17,
    "start_time": "2022-11-22T21:58:55.057Z"
   },
   {
    "duration": 48,
    "start_time": "2022-11-22T21:58:55.076Z"
   },
   {
    "duration": 165,
    "start_time": "2022-11-22T21:58:55.126Z"
   },
   {
    "duration": 4813,
    "start_time": "2022-11-22T21:58:55.292Z"
   },
   {
    "duration": 7,
    "start_time": "2022-11-22T21:59:00.106Z"
   },
   {
    "duration": 18,
    "start_time": "2022-11-22T21:59:00.115Z"
   },
   {
    "duration": 11,
    "start_time": "2022-11-22T21:59:00.135Z"
   },
   {
    "duration": 39,
    "start_time": "2022-11-22T21:59:00.149Z"
   },
   {
    "duration": 51,
    "start_time": "2022-11-22T21:59:00.191Z"
   },
   {
    "duration": 157,
    "start_time": "2022-11-22T21:59:00.244Z"
   },
   {
    "duration": 10,
    "start_time": "2022-11-22T21:59:00.403Z"
   },
   {
    "duration": 29,
    "start_time": "2022-11-22T21:59:00.414Z"
   },
   {
    "duration": 12,
    "start_time": "2022-11-22T21:59:00.444Z"
   },
   {
    "duration": 42,
    "start_time": "2022-11-22T21:59:00.457Z"
   },
   {
    "duration": 47,
    "start_time": "2022-11-22T21:59:00.500Z"
   },
   {
    "duration": 165,
    "start_time": "2022-11-22T21:59:00.549Z"
   },
   {
    "duration": 5,
    "start_time": "2022-11-22T21:59:00.715Z"
   },
   {
    "duration": 19,
    "start_time": "2022-11-22T21:59:00.721Z"
   },
   {
    "duration": 11,
    "start_time": "2022-11-22T21:59:00.742Z"
   },
   {
    "duration": 11,
    "start_time": "2022-11-22T21:59:00.755Z"
   },
   {
    "duration": 16,
    "start_time": "2022-11-22T21:59:00.768Z"
   },
   {
    "duration": 5,
    "start_time": "2022-11-22T21:59:00.786Z"
   },
   {
    "duration": 20,
    "start_time": "2022-11-22T21:59:00.793Z"
   },
   {
    "duration": 29,
    "start_time": "2022-11-22T21:59:00.815Z"
   },
   {
    "duration": 16,
    "start_time": "2022-11-22T21:59:00.845Z"
   },
   {
    "duration": 15,
    "start_time": "2022-11-22T21:59:00.864Z"
   },
   {
    "duration": 23,
    "start_time": "2022-11-22T21:59:00.880Z"
   },
   {
    "duration": 3,
    "start_time": "2022-11-22T21:59:00.904Z"
   },
   {
    "duration": 14,
    "start_time": "2022-11-22T21:59:00.909Z"
   },
   {
    "duration": 5,
    "start_time": "2022-11-22T21:59:00.925Z"
   },
   {
    "duration": 191,
    "start_time": "2022-11-22T21:59:00.932Z"
   },
   {
    "duration": 7,
    "start_time": "2022-11-22T21:59:01.125Z"
   },
   {
    "duration": 14,
    "start_time": "2022-11-22T21:59:01.134Z"
   },
   {
    "duration": 5,
    "start_time": "2022-11-22T21:59:01.150Z"
   },
   {
    "duration": 156,
    "start_time": "2022-11-22T21:59:01.157Z"
   },
   {
    "duration": 13,
    "start_time": "2022-11-22T21:59:01.315Z"
   },
   {
    "duration": 16,
    "start_time": "2022-11-22T21:59:01.329Z"
   },
   {
    "duration": 8,
    "start_time": "2022-11-22T21:59:01.346Z"
   },
   {
    "duration": 157,
    "start_time": "2022-11-22T21:59:01.356Z"
   },
   {
    "duration": 5,
    "start_time": "2022-11-22T21:59:01.515Z"
   },
   {
    "duration": 8,
    "start_time": "2022-11-22T21:59:01.521Z"
   },
   {
    "duration": 8,
    "start_time": "2022-11-22T21:59:01.531Z"
   },
   {
    "duration": 5,
    "start_time": "2022-11-22T21:59:01.540Z"
   },
   {
    "duration": 6,
    "start_time": "2022-11-22T21:59:01.546Z"
   },
   {
    "duration": 8,
    "start_time": "2022-11-22T21:59:01.553Z"
   },
   {
    "duration": 9,
    "start_time": "2022-11-22T21:59:01.563Z"
   },
   {
    "duration": 8,
    "start_time": "2022-11-22T21:59:01.573Z"
   },
   {
    "duration": 4,
    "start_time": "2022-11-22T21:59:01.583Z"
   },
   {
    "duration": 3,
    "start_time": "2022-11-22T21:59:01.612Z"
   },
   {
    "duration": 9,
    "start_time": "2022-11-22T21:59:01.616Z"
   },
   {
    "duration": 1557,
    "start_time": "2022-11-22T21:59:01.626Z"
   },
   {
    "duration": 1610,
    "start_time": "2022-11-22T21:59:05.880Z"
   },
   {
    "duration": 3,
    "start_time": "2022-11-22T21:59:07.492Z"
   },
   {
    "duration": 34,
    "start_time": "2022-11-22T21:59:07.820Z"
   },
   {
    "duration": 16,
    "start_time": "2022-11-22T21:59:29.845Z"
   },
   {
    "duration": 3,
    "start_time": "2022-11-22T21:59:35.752Z"
   },
   {
    "duration": 384,
    "start_time": "2022-11-22T21:59:35.759Z"
   },
   {
    "duration": 10,
    "start_time": "2022-11-22T21:59:36.145Z"
   },
   {
    "duration": 17,
    "start_time": "2022-11-22T21:59:36.156Z"
   },
   {
    "duration": 51,
    "start_time": "2022-11-22T21:59:36.175Z"
   },
   {
    "duration": 540,
    "start_time": "2022-11-22T21:59:36.228Z"
   },
   {
    "duration": 4725,
    "start_time": "2022-11-22T21:59:36.770Z"
   },
   {
    "duration": 5,
    "start_time": "2022-11-22T21:59:41.497Z"
   },
   {
    "duration": 16,
    "start_time": "2022-11-22T21:59:41.512Z"
   },
   {
    "duration": 8,
    "start_time": "2022-11-22T21:59:41.530Z"
   },
   {
    "duration": 14,
    "start_time": "2022-11-22T21:59:41.541Z"
   },
   {
    "duration": 59,
    "start_time": "2022-11-22T21:59:41.557Z"
   },
   {
    "duration": 166,
    "start_time": "2022-11-22T21:59:41.618Z"
   },
   {
    "duration": 5,
    "start_time": "2022-11-22T21:59:41.786Z"
   },
   {
    "duration": 31,
    "start_time": "2022-11-22T21:59:41.792Z"
   },
   {
    "duration": 8,
    "start_time": "2022-11-22T21:59:41.825Z"
   },
   {
    "duration": 15,
    "start_time": "2022-11-22T21:59:41.835Z"
   },
   {
    "duration": 34,
    "start_time": "2022-11-22T21:59:41.851Z"
   },
   {
    "duration": 178,
    "start_time": "2022-11-22T21:59:41.886Z"
   },
   {
    "duration": 4,
    "start_time": "2022-11-22T21:59:42.065Z"
   },
   {
    "duration": 17,
    "start_time": "2022-11-22T21:59:42.071Z"
   },
   {
    "duration": 27,
    "start_time": "2022-11-22T21:59:42.089Z"
   },
   {
    "duration": 4,
    "start_time": "2022-11-22T21:59:42.117Z"
   },
   {
    "duration": 12,
    "start_time": "2022-11-22T21:59:42.123Z"
   },
   {
    "duration": 8,
    "start_time": "2022-11-22T21:59:42.136Z"
   },
   {
    "duration": 4,
    "start_time": "2022-11-22T21:59:42.146Z"
   },
   {
    "duration": 12,
    "start_time": "2022-11-22T21:59:42.152Z"
   },
   {
    "duration": 4,
    "start_time": "2022-11-22T21:59:42.165Z"
   },
   {
    "duration": 2,
    "start_time": "2022-11-22T21:59:42.173Z"
   },
   {
    "duration": 36,
    "start_time": "2022-11-22T21:59:42.177Z"
   },
   {
    "duration": 3,
    "start_time": "2022-11-22T21:59:42.214Z"
   },
   {
    "duration": 12,
    "start_time": "2022-11-22T21:59:42.218Z"
   },
   {
    "duration": 4,
    "start_time": "2022-11-22T21:59:42.232Z"
   },
   {
    "duration": 79,
    "start_time": "2022-11-22T21:59:42.238Z"
   },
   {
    "duration": 93,
    "start_time": "2022-11-22T21:59:42.319Z"
   },
   {
    "duration": 13,
    "start_time": "2022-11-22T21:59:42.414Z"
   },
   {
    "duration": 6,
    "start_time": "2022-11-22T21:59:42.429Z"
   },
   {
    "duration": 80,
    "start_time": "2022-11-22T21:59:42.437Z"
   },
   {
    "duration": 96,
    "start_time": "2022-11-22T21:59:42.519Z"
   },
   {
    "duration": 14,
    "start_time": "2022-11-22T21:59:42.617Z"
   },
   {
    "duration": 6,
    "start_time": "2022-11-22T21:59:42.632Z"
   },
   {
    "duration": 80,
    "start_time": "2022-11-22T21:59:42.640Z"
   },
   {
    "duration": 91,
    "start_time": "2022-11-22T21:59:42.722Z"
   },
   {
    "duration": 8,
    "start_time": "2022-11-22T21:59:42.815Z"
   },
   {
    "duration": 6,
    "start_time": "2022-11-22T21:59:42.825Z"
   },
   {
    "duration": 17,
    "start_time": "2022-11-22T21:59:42.832Z"
   },
   {
    "duration": 13,
    "start_time": "2022-11-22T21:59:42.850Z"
   },
   {
    "duration": 6,
    "start_time": "2022-11-22T21:59:42.864Z"
   },
   {
    "duration": 5,
    "start_time": "2022-11-22T21:59:42.872Z"
   },
   {
    "duration": 9,
    "start_time": "2022-11-22T21:59:42.878Z"
   },
   {
    "duration": 7,
    "start_time": "2022-11-22T21:59:42.888Z"
   },
   {
    "duration": 15,
    "start_time": "2022-11-22T21:59:42.896Z"
   },
   {
    "duration": 6,
    "start_time": "2022-11-22T21:59:42.913Z"
   },
   {
    "duration": 2,
    "start_time": "2022-11-22T21:59:45.614Z"
   },
   {
    "duration": 1627,
    "start_time": "2022-11-22T21:59:46.486Z"
   },
   {
    "duration": 3,
    "start_time": "2022-11-22T21:59:48.141Z"
   },
   {
    "duration": 5,
    "start_time": "2022-11-22T21:59:48.803Z"
   },
   {
    "duration": 8,
    "start_time": "2022-11-22T22:00:04.569Z"
   },
   {
    "duration": 7,
    "start_time": "2022-11-22T22:00:24.675Z"
   },
   {
    "duration": 8,
    "start_time": "2022-11-22T22:00:28.794Z"
   },
   {
    "duration": 7,
    "start_time": "2022-11-22T22:00:46.567Z"
   },
   {
    "duration": 5,
    "start_time": "2022-11-22T22:05:06.400Z"
   },
   {
    "duration": 7,
    "start_time": "2022-11-22T22:05:18.503Z"
   },
   {
    "duration": 5,
    "start_time": "2022-11-22T22:06:26.879Z"
   },
   {
    "duration": 3,
    "start_time": "2022-11-22T22:06:28.591Z"
   },
   {
    "duration": 2,
    "start_time": "2022-11-22T22:06:28.884Z"
   },
   {
    "duration": 1554,
    "start_time": "2022-11-22T22:06:29.139Z"
   },
   {
    "duration": 3,
    "start_time": "2022-11-22T22:06:30.695Z"
   },
   {
    "duration": 25,
    "start_time": "2022-11-22T22:06:30.699Z"
   },
   {
    "duration": 6,
    "start_time": "2022-11-22T22:06:32.838Z"
   },
   {
    "duration": 6,
    "start_time": "2022-11-22T22:08:53.979Z"
   },
   {
    "duration": 6,
    "start_time": "2022-11-22T22:09:08.608Z"
   },
   {
    "duration": 6,
    "start_time": "2022-11-22T22:09:25.685Z"
   },
   {
    "duration": 7,
    "start_time": "2022-11-22T22:09:33.974Z"
   },
   {
    "duration": 8,
    "start_time": "2022-11-22T22:09:46.312Z"
   },
   {
    "duration": 8,
    "start_time": "2022-11-22T22:09:53.907Z"
   },
   {
    "duration": 6,
    "start_time": "2022-11-22T22:10:08.937Z"
   },
   {
    "duration": 5,
    "start_time": "2022-11-22T22:10:13.230Z"
   },
   {
    "duration": 5,
    "start_time": "2022-11-22T22:11:21.927Z"
   },
   {
    "duration": 9,
    "start_time": "2022-11-22T22:17:17.534Z"
   },
   {
    "duration": 7,
    "start_time": "2022-11-22T22:17:47.549Z"
   },
   {
    "duration": 6,
    "start_time": "2022-11-22T22:18:04.267Z"
   },
   {
    "duration": 7,
    "start_time": "2022-11-22T22:18:09.442Z"
   },
   {
    "duration": 1550,
    "start_time": "2022-11-23T05:24:45.119Z"
   },
   {
    "duration": 1575,
    "start_time": "2022-11-23T05:24:46.671Z"
   },
   {
    "duration": 13,
    "start_time": "2022-11-23T05:24:48.247Z"
   },
   {
    "duration": 12,
    "start_time": "2022-11-23T05:24:48.262Z"
   },
   {
    "duration": 33,
    "start_time": "2022-11-23T05:24:48.276Z"
   },
   {
    "duration": 150,
    "start_time": "2022-11-23T05:24:48.313Z"
   },
   {
    "duration": 4640,
    "start_time": "2022-11-23T05:24:48.465Z"
   },
   {
    "duration": 5,
    "start_time": "2022-11-23T05:24:53.106Z"
   },
   {
    "duration": 19,
    "start_time": "2022-11-23T05:24:53.112Z"
   },
   {
    "duration": 8,
    "start_time": "2022-11-23T05:24:53.134Z"
   },
   {
    "duration": 24,
    "start_time": "2022-11-23T05:24:53.143Z"
   },
   {
    "duration": 31,
    "start_time": "2022-11-23T05:24:53.169Z"
   },
   {
    "duration": 158,
    "start_time": "2022-11-23T05:24:53.202Z"
   },
   {
    "duration": 5,
    "start_time": "2022-11-23T05:24:53.362Z"
   },
   {
    "duration": 17,
    "start_time": "2022-11-23T05:24:53.368Z"
   },
   {
    "duration": 27,
    "start_time": "2022-11-23T05:24:53.387Z"
   },
   {
    "duration": 14,
    "start_time": "2022-11-23T05:24:53.415Z"
   },
   {
    "duration": 33,
    "start_time": "2022-11-23T05:24:53.430Z"
   },
   {
    "duration": 161,
    "start_time": "2022-11-23T05:24:53.464Z"
   },
   {
    "duration": 4,
    "start_time": "2022-11-23T05:24:53.626Z"
   },
   {
    "duration": 17,
    "start_time": "2022-11-23T05:24:53.632Z"
   },
   {
    "duration": 11,
    "start_time": "2022-11-23T05:24:53.650Z"
   },
   {
    "duration": 5,
    "start_time": "2022-11-23T05:24:53.662Z"
   },
   {
    "duration": 12,
    "start_time": "2022-11-23T05:24:53.668Z"
   },
   {
    "duration": 4,
    "start_time": "2022-11-23T05:24:53.682Z"
   },
   {
    "duration": 26,
    "start_time": "2022-11-23T05:24:53.688Z"
   },
   {
    "duration": 14,
    "start_time": "2022-11-23T05:24:53.715Z"
   },
   {
    "duration": 5,
    "start_time": "2022-11-23T05:24:53.732Z"
   },
   {
    "duration": 5,
    "start_time": "2022-11-23T05:24:53.738Z"
   },
   {
    "duration": 14,
    "start_time": "2022-11-23T05:24:53.744Z"
   },
   {
    "duration": 2,
    "start_time": "2022-11-23T05:24:53.759Z"
   },
   {
    "duration": 51,
    "start_time": "2022-11-23T05:24:53.763Z"
   },
   {
    "duration": 99,
    "start_time": "2022-11-23T05:24:53.816Z"
   },
   {
    "duration": 99,
    "start_time": "2022-11-23T05:24:53.917Z"
   },
   {
    "duration": 3,
    "start_time": "2022-11-23T05:24:54.018Z"
   },
   {
    "duration": 11,
    "start_time": "2022-11-23T05:24:54.023Z"
   },
   {
    "duration": 80,
    "start_time": "2022-11-23T05:24:54.036Z"
   },
   {
    "duration": 5,
    "start_time": "2022-11-23T05:24:54.119Z"
   },
   {
    "duration": 87,
    "start_time": "2022-11-23T05:24:54.126Z"
   },
   {
    "duration": 12,
    "start_time": "2022-11-23T05:24:54.215Z"
   },
   {
    "duration": 7,
    "start_time": "2022-11-23T05:24:54.313Z"
   },
   {
    "duration": 97,
    "start_time": "2022-11-23T05:24:54.321Z"
   },
   {
    "duration": 94,
    "start_time": "2022-11-23T05:24:54.420Z"
   },
   {
    "duration": 4,
    "start_time": "2022-11-23T05:24:54.516Z"
   },
   {
    "duration": 23,
    "start_time": "2022-11-23T05:24:54.521Z"
   },
   {
    "duration": 9,
    "start_time": "2022-11-23T05:24:54.545Z"
   },
   {
    "duration": 18,
    "start_time": "2022-11-23T05:24:54.555Z"
   },
   {
    "duration": 14,
    "start_time": "2022-11-23T05:24:54.574Z"
   },
   {
    "duration": 18,
    "start_time": "2022-11-23T05:24:54.590Z"
   },
   {
    "duration": 22,
    "start_time": "2022-11-23T05:24:54.610Z"
   },
   {
    "duration": 5,
    "start_time": "2022-11-23T05:24:54.634Z"
   },
   {
    "duration": 27,
    "start_time": "2022-11-23T05:24:54.641Z"
   },
   {
    "duration": 29,
    "start_time": "2022-11-23T05:24:54.670Z"
   },
   {
    "duration": 1348,
    "start_time": "2022-11-23T05:24:54.700Z"
   },
   {
    "duration": 3,
    "start_time": "2022-11-23T05:24:56.050Z"
   },
   {
    "duration": 8,
    "start_time": "2022-11-23T05:24:56.054Z"
   },
   {
    "duration": 7,
    "start_time": "2022-11-23T05:24:56.063Z"
   },
   {
    "duration": 10,
    "start_time": "2022-11-23T05:24:56.072Z"
   },
   {
    "duration": 5,
    "start_time": "2022-11-23T05:24:56.084Z"
   },
   {
    "duration": 4,
    "start_time": "2022-11-23T05:24:56.090Z"
   },
   {
    "duration": 1450,
    "start_time": "2022-11-23T05:24:56.096Z"
   },
   {
    "duration": 3,
    "start_time": "2022-11-23T05:24:57.548Z"
   },
   {
    "duration": 118,
    "start_time": "2022-11-23T05:24:57.552Z"
   },
   {
    "duration": 4,
    "start_time": "2022-11-23T05:25:41.703Z"
   },
   {
    "duration": 3,
    "start_time": "2022-11-23T05:25:51.268Z"
   },
   {
    "duration": 3,
    "start_time": "2022-11-23T05:25:52.480Z"
   },
   {
    "duration": 2,
    "start_time": "2022-11-23T05:25:52.998Z"
   },
   {
    "duration": 21,
    "start_time": "2022-11-23T05:25:54.224Z"
   },
   {
    "duration": 3,
    "start_time": "2022-11-23T05:26:01.687Z"
   },
   {
    "duration": 348,
    "start_time": "2022-11-23T05:26:01.692Z"
   },
   {
    "duration": 9,
    "start_time": "2022-11-23T05:26:02.041Z"
   },
   {
    "duration": 25,
    "start_time": "2022-11-23T05:26:02.052Z"
   },
   {
    "duration": 41,
    "start_time": "2022-11-23T05:26:02.079Z"
   },
   {
    "duration": 147,
    "start_time": "2022-11-23T05:26:02.121Z"
   },
   {
    "duration": 4469,
    "start_time": "2022-11-23T05:26:02.269Z"
   },
   {
    "duration": 5,
    "start_time": "2022-11-23T05:26:06.740Z"
   },
   {
    "duration": 20,
    "start_time": "2022-11-23T05:26:06.746Z"
   },
   {
    "duration": 8,
    "start_time": "2022-11-23T05:26:06.768Z"
   },
   {
    "duration": 38,
    "start_time": "2022-11-23T05:26:06.778Z"
   },
   {
    "duration": 40,
    "start_time": "2022-11-23T05:26:06.818Z"
   },
   {
    "duration": 181,
    "start_time": "2022-11-23T05:26:06.861Z"
   },
   {
    "duration": 4,
    "start_time": "2022-11-23T05:26:07.043Z"
   },
   {
    "duration": 16,
    "start_time": "2022-11-23T05:26:07.049Z"
   },
   {
    "duration": 8,
    "start_time": "2022-11-23T05:26:07.066Z"
   },
   {
    "duration": 41,
    "start_time": "2022-11-23T05:26:07.075Z"
   },
   {
    "duration": 32,
    "start_time": "2022-11-23T05:26:07.118Z"
   },
   {
    "duration": 187,
    "start_time": "2022-11-23T05:26:07.152Z"
   },
   {
    "duration": 5,
    "start_time": "2022-11-23T05:26:07.340Z"
   },
   {
    "duration": 20,
    "start_time": "2022-11-23T05:26:07.346Z"
   },
   {
    "duration": 11,
    "start_time": "2022-11-23T05:26:07.367Z"
   },
   {
    "duration": 4,
    "start_time": "2022-11-23T05:26:07.380Z"
   },
   {
    "duration": 29,
    "start_time": "2022-11-23T05:26:07.385Z"
   },
   {
    "duration": 6,
    "start_time": "2022-11-23T05:26:07.416Z"
   },
   {
    "duration": 5,
    "start_time": "2022-11-23T05:26:07.423Z"
   },
   {
    "duration": 17,
    "start_time": "2022-11-23T05:26:07.430Z"
   },
   {
    "duration": 11,
    "start_time": "2022-11-23T05:26:07.449Z"
   },
   {
    "duration": 6,
    "start_time": "2022-11-23T05:26:07.461Z"
   },
   {
    "duration": 12,
    "start_time": "2022-11-23T05:26:07.469Z"
   },
   {
    "duration": 3,
    "start_time": "2022-11-23T05:26:07.482Z"
   },
   {
    "duration": 29,
    "start_time": "2022-11-23T05:26:07.486Z"
   },
   {
    "duration": 10,
    "start_time": "2022-11-23T05:26:07.517Z"
   },
   {
    "duration": 97,
    "start_time": "2022-11-23T05:26:07.528Z"
   },
   {
    "duration": 93,
    "start_time": "2022-11-23T05:26:07.627Z"
   },
   {
    "duration": 20,
    "start_time": "2022-11-23T05:26:07.721Z"
   },
   {
    "duration": 9,
    "start_time": "2022-11-23T05:26:07.746Z"
   },
   {
    "duration": 67,
    "start_time": "2022-11-23T05:26:07.757Z"
   },
   {
    "duration": 92,
    "start_time": "2022-11-23T05:26:07.827Z"
   },
   {
    "duration": 18,
    "start_time": "2022-11-23T05:26:07.921Z"
   },
   {
    "duration": 8,
    "start_time": "2022-11-23T05:26:07.942Z"
   },
   {
    "duration": 68,
    "start_time": "2022-11-23T05:26:07.952Z"
   },
   {
    "duration": 95,
    "start_time": "2022-11-23T05:26:08.025Z"
   },
   {
    "duration": 4,
    "start_time": "2022-11-23T05:26:08.122Z"
   },
   {
    "duration": 5,
    "start_time": "2022-11-23T05:26:08.128Z"
   },
   {
    "duration": 3,
    "start_time": "2022-11-23T05:26:08.135Z"
   },
   {
    "duration": 6,
    "start_time": "2022-11-23T05:26:08.139Z"
   },
   {
    "duration": 4,
    "start_time": "2022-11-23T05:26:08.146Z"
   },
   {
    "duration": 4,
    "start_time": "2022-11-23T05:26:08.152Z"
   },
   {
    "duration": 6,
    "start_time": "2022-11-23T05:26:08.157Z"
   },
   {
    "duration": 5,
    "start_time": "2022-11-23T05:26:08.164Z"
   },
   {
    "duration": 6,
    "start_time": "2022-11-23T05:26:08.171Z"
   },
   {
    "duration": 5,
    "start_time": "2022-11-23T05:26:08.178Z"
   },
   {
    "duration": 18,
    "start_time": "2022-11-23T05:26:17.314Z"
   },
   {
    "duration": 3,
    "start_time": "2022-11-23T05:27:01.690Z"
   },
   {
    "duration": 3,
    "start_time": "2022-11-23T05:27:02.103Z"
   },
   {
    "duration": 2,
    "start_time": "2022-11-23T05:27:02.356Z"
   },
   {
    "duration": 1391,
    "start_time": "2022-11-23T05:27:03.174Z"
   },
   {
    "duration": 3,
    "start_time": "2022-11-23T05:27:04.566Z"
   },
   {
    "duration": 4,
    "start_time": "2022-11-23T05:27:04.806Z"
   },
   {
    "duration": 5,
    "start_time": "2022-11-23T05:27:19.424Z"
   },
   {
    "duration": 5,
    "start_time": "2022-11-23T05:27:24.315Z"
   },
   {
    "duration": 5,
    "start_time": "2022-11-23T05:27:25.092Z"
   },
   {
    "duration": 5,
    "start_time": "2022-11-23T05:27:53.506Z"
   },
   {
    "duration": 14,
    "start_time": "2022-11-23T05:35:09.119Z"
   },
   {
    "duration": 3,
    "start_time": "2022-11-23T05:35:15.107Z"
   },
   {
    "duration": 2380,
    "start_time": "2022-11-23T05:35:15.726Z"
   },
   {
    "duration": 844,
    "start_time": "2022-11-23T05:35:27.814Z"
   },
   {
    "duration": 3,
    "start_time": "2022-11-23T05:36:12.404Z"
   },
   {
    "duration": 3,
    "start_time": "2022-11-23T05:36:12.934Z"
   },
   {
    "duration": 3,
    "start_time": "2022-11-23T05:36:13.222Z"
   },
   {
    "duration": 2373,
    "start_time": "2022-11-23T05:36:14.039Z"
   },
   {
    "duration": 12,
    "start_time": "2022-11-23T05:36:16.414Z"
   },
   {
    "duration": 1506,
    "start_time": "2022-11-23T11:01:57.840Z"
   },
   {
    "duration": 1623,
    "start_time": "2022-11-23T11:01:59.348Z"
   },
   {
    "duration": 13,
    "start_time": "2022-11-23T11:02:00.973Z"
   },
   {
    "duration": 17,
    "start_time": "2022-11-23T11:02:00.988Z"
   },
   {
    "duration": 38,
    "start_time": "2022-11-23T11:02:01.006Z"
   },
   {
    "duration": 171,
    "start_time": "2022-11-23T11:02:01.045Z"
   },
   {
    "duration": 4492,
    "start_time": "2022-11-23T11:02:01.217Z"
   },
   {
    "duration": 4,
    "start_time": "2022-11-23T11:02:05.711Z"
   },
   {
    "duration": 22,
    "start_time": "2022-11-23T11:02:05.717Z"
   },
   {
    "duration": 9,
    "start_time": "2022-11-23T11:02:05.742Z"
   },
   {
    "duration": 23,
    "start_time": "2022-11-23T11:02:05.752Z"
   },
   {
    "duration": 51,
    "start_time": "2022-11-23T11:02:05.776Z"
   },
   {
    "duration": 155,
    "start_time": "2022-11-23T11:02:05.829Z"
   },
   {
    "duration": 5,
    "start_time": "2022-11-23T11:02:05.986Z"
   },
   {
    "duration": 41,
    "start_time": "2022-11-23T11:02:05.993Z"
   },
   {
    "duration": 9,
    "start_time": "2022-11-23T11:02:06.036Z"
   },
   {
    "duration": 23,
    "start_time": "2022-11-23T11:02:06.047Z"
   },
   {
    "duration": 36,
    "start_time": "2022-11-23T11:02:06.072Z"
   },
   {
    "duration": 163,
    "start_time": "2022-11-23T11:02:06.110Z"
   },
   {
    "duration": 4,
    "start_time": "2022-11-23T11:02:06.275Z"
   },
   {
    "duration": 16,
    "start_time": "2022-11-23T11:02:06.281Z"
   },
   {
    "duration": 29,
    "start_time": "2022-11-23T11:02:06.299Z"
   },
   {
    "duration": 5,
    "start_time": "2022-11-23T11:02:06.329Z"
   },
   {
    "duration": 15,
    "start_time": "2022-11-23T11:02:06.335Z"
   },
   {
    "duration": 5,
    "start_time": "2022-11-23T11:02:06.351Z"
   },
   {
    "duration": 5,
    "start_time": "2022-11-23T11:02:06.358Z"
   },
   {
    "duration": 21,
    "start_time": "2022-11-23T11:02:06.365Z"
   },
   {
    "duration": 5,
    "start_time": "2022-11-23T11:02:06.389Z"
   },
   {
    "duration": 12,
    "start_time": "2022-11-23T11:02:06.396Z"
   },
   {
    "duration": 21,
    "start_time": "2022-11-23T11:02:06.409Z"
   },
   {
    "duration": 2,
    "start_time": "2022-11-23T11:02:06.432Z"
   },
   {
    "duration": 17,
    "start_time": "2022-11-23T11:02:06.435Z"
   },
   {
    "duration": 174,
    "start_time": "2022-11-23T11:02:06.454Z"
   },
   {
    "duration": 112,
    "start_time": "2022-11-23T11:02:06.630Z"
   },
   {
    "duration": 4,
    "start_time": "2022-11-23T11:02:06.744Z"
   },
   {
    "duration": 86,
    "start_time": "2022-11-23T11:02:06.750Z"
   },
   {
    "duration": 8,
    "start_time": "2022-11-23T11:02:06.837Z"
   },
   {
    "duration": 83,
    "start_time": "2022-11-23T11:02:06.847Z"
   },
   {
    "duration": 100,
    "start_time": "2022-11-23T11:02:06.932Z"
   },
   {
    "duration": 13,
    "start_time": "2022-11-23T11:02:07.034Z"
   },
   {
    "duration": 5,
    "start_time": "2022-11-23T11:02:07.049Z"
   },
   {
    "duration": 72,
    "start_time": "2022-11-23T11:02:07.056Z"
   },
   {
    "duration": 5,
    "start_time": "2022-11-23T11:02:07.129Z"
   },
   {
    "duration": 94,
    "start_time": "2022-11-23T11:02:07.135Z"
   },
   {
    "duration": 10,
    "start_time": "2022-11-23T11:02:07.231Z"
   },
   {
    "duration": 6,
    "start_time": "2022-11-23T11:02:07.243Z"
   },
   {
    "duration": 7,
    "start_time": "2022-11-23T11:02:07.250Z"
   },
   {
    "duration": 6,
    "start_time": "2022-11-23T11:02:07.258Z"
   },
   {
    "duration": 6,
    "start_time": "2022-11-23T11:02:07.265Z"
   },
   {
    "duration": 15,
    "start_time": "2022-11-23T11:02:07.272Z"
   },
   {
    "duration": 100,
    "start_time": "2022-11-23T11:02:34.496Z"
   },
   {
    "duration": 3,
    "start_time": "2022-11-23T11:02:37.701Z"
   },
   {
    "duration": 3,
    "start_time": "2022-11-23T11:02:38.226Z"
   },
   {
    "duration": 2,
    "start_time": "2022-11-23T11:02:39.386Z"
   },
   {
    "duration": 2446,
    "start_time": "2022-11-23T11:02:42.169Z"
   },
   {
    "duration": 10,
    "start_time": "2022-11-23T11:02:44.617Z"
   },
   {
    "duration": 23,
    "start_time": "2022-11-23T11:05:36.925Z"
   },
   {
    "duration": 3,
    "start_time": "2022-11-23T11:05:43.394Z"
   },
   {
    "duration": 366,
    "start_time": "2022-11-23T11:05:43.402Z"
   },
   {
    "duration": 10,
    "start_time": "2022-11-23T11:05:43.770Z"
   },
   {
    "duration": 20,
    "start_time": "2022-11-23T11:05:43.781Z"
   },
   {
    "duration": 51,
    "start_time": "2022-11-23T11:05:43.803Z"
   },
   {
    "duration": 158,
    "start_time": "2022-11-23T11:05:43.856Z"
   },
   {
    "duration": 4610,
    "start_time": "2022-11-23T11:05:44.016Z"
   },
   {
    "duration": 4,
    "start_time": "2022-11-23T11:05:48.628Z"
   },
   {
    "duration": 21,
    "start_time": "2022-11-23T11:05:48.634Z"
   },
   {
    "duration": 10,
    "start_time": "2022-11-23T11:05:48.657Z"
   },
   {
    "duration": 25,
    "start_time": "2022-11-23T11:05:48.668Z"
   },
   {
    "duration": 62,
    "start_time": "2022-11-23T11:05:48.694Z"
   },
   {
    "duration": 163,
    "start_time": "2022-11-23T11:05:48.757Z"
   },
   {
    "duration": 7,
    "start_time": "2022-11-23T11:05:48.921Z"
   },
   {
    "duration": 21,
    "start_time": "2022-11-23T11:05:48.931Z"
   },
   {
    "duration": 9,
    "start_time": "2022-11-23T11:05:48.954Z"
   },
   {
    "duration": 19,
    "start_time": "2022-11-23T11:05:48.965Z"
   },
   {
    "duration": 226,
    "start_time": "2022-11-23T11:05:48.986Z"
   },
   {
    "duration": 154,
    "start_time": "2022-11-23T11:05:49.214Z"
   },
   {
    "duration": 5,
    "start_time": "2022-11-23T11:05:49.370Z"
   },
   {
    "duration": 20,
    "start_time": "2022-11-23T11:05:49.377Z"
   },
   {
    "duration": 31,
    "start_time": "2022-11-23T11:05:49.399Z"
   },
   {
    "duration": 12,
    "start_time": "2022-11-23T11:05:49.432Z"
   },
   {
    "duration": 14,
    "start_time": "2022-11-23T11:05:49.446Z"
   },
   {
    "duration": 5,
    "start_time": "2022-11-23T11:05:49.462Z"
   },
   {
    "duration": 9,
    "start_time": "2022-11-23T11:05:49.469Z"
   },
   {
    "duration": 15,
    "start_time": "2022-11-23T11:05:49.480Z"
   },
   {
    "duration": 5,
    "start_time": "2022-11-23T11:05:49.497Z"
   },
   {
    "duration": 22,
    "start_time": "2022-11-23T11:05:49.504Z"
   },
   {
    "duration": 13,
    "start_time": "2022-11-23T11:05:49.528Z"
   },
   {
    "duration": 3,
    "start_time": "2022-11-23T11:05:49.542Z"
   },
   {
    "duration": 18,
    "start_time": "2022-11-23T11:05:49.546Z"
   },
   {
    "duration": 62,
    "start_time": "2022-11-23T11:05:49.565Z"
   },
   {
    "duration": 8,
    "start_time": "2022-11-23T11:05:49.630Z"
   },
   {
    "duration": 88,
    "start_time": "2022-11-23T11:05:49.639Z"
   },
   {
    "duration": 11,
    "start_time": "2022-11-23T11:05:49.729Z"
   },
   {
    "duration": 9,
    "start_time": "2022-11-23T11:05:49.742Z"
   },
   {
    "duration": 176,
    "start_time": "2022-11-23T11:05:49.752Z"
   },
   {
    "duration": 6,
    "start_time": "2022-11-23T11:05:49.930Z"
   },
   {
    "duration": 17,
    "start_time": "2022-11-23T11:05:49.937Z"
   },
   {
    "duration": 11,
    "start_time": "2022-11-23T11:05:49.956Z"
   },
   {
    "duration": 60,
    "start_time": "2022-11-23T11:05:49.972Z"
   },
   {
    "duration": 108,
    "start_time": "2022-11-23T11:05:50.034Z"
   },
   {
    "duration": 12,
    "start_time": "2022-11-23T11:05:50.144Z"
   },
   {
    "duration": 6,
    "start_time": "2022-11-23T11:05:50.158Z"
   },
   {
    "duration": 17,
    "start_time": "2022-11-23T11:05:50.166Z"
   },
   {
    "duration": 6,
    "start_time": "2022-11-23T11:05:50.184Z"
   },
   {
    "duration": 18,
    "start_time": "2022-11-23T11:05:50.192Z"
   },
   {
    "duration": 8,
    "start_time": "2022-11-23T11:05:50.212Z"
   },
   {
    "duration": 10,
    "start_time": "2022-11-23T11:05:50.221Z"
   },
   {
    "duration": 6,
    "start_time": "2022-11-23T11:05:50.233Z"
   },
   {
    "duration": 7,
    "start_time": "2022-11-23T11:05:50.240Z"
   },
   {
    "duration": 6,
    "start_time": "2022-11-23T11:05:50.249Z"
   },
   {
    "duration": 31,
    "start_time": "2022-11-23T11:05:50.257Z"
   },
   {
    "duration": 0,
    "start_time": "2022-11-23T11:05:50.290Z"
   },
   {
    "duration": 0,
    "start_time": "2022-11-23T11:05:50.292Z"
   },
   {
    "duration": 0,
    "start_time": "2022-11-23T11:05:50.293Z"
   },
   {
    "duration": 0,
    "start_time": "2022-11-23T11:05:50.295Z"
   },
   {
    "duration": 0,
    "start_time": "2022-11-23T11:05:50.296Z"
   },
   {
    "duration": 0,
    "start_time": "2022-11-23T11:05:50.298Z"
   },
   {
    "duration": 0,
    "start_time": "2022-11-23T11:05:50.299Z"
   },
   {
    "duration": 0,
    "start_time": "2022-11-23T11:05:50.301Z"
   },
   {
    "duration": 0,
    "start_time": "2022-11-23T11:05:50.302Z"
   },
   {
    "duration": 1504,
    "start_time": "2022-11-23T11:06:27.305Z"
   },
   {
    "duration": 3,
    "start_time": "2022-11-23T11:06:33.066Z"
   },
   {
    "duration": 13127,
    "start_time": "2022-11-23T11:06:33.566Z"
   },
   {
    "duration": 135,
    "start_time": "2022-11-23T11:10:07.386Z"
   },
   {
    "duration": 92,
    "start_time": "2022-11-23T11:10:40.267Z"
   },
   {
    "duration": 97,
    "start_time": "2022-11-23T11:11:06.936Z"
   },
   {
    "duration": 8,
    "start_time": "2022-11-23T11:11:13.694Z"
   },
   {
    "duration": 3,
    "start_time": "2022-11-23T11:11:51.647Z"
   },
   {
    "duration": 93,
    "start_time": "2022-11-23T11:12:10.176Z"
   },
   {
    "duration": 3,
    "start_time": "2022-11-23T11:12:39.346Z"
   },
   {
    "duration": 364,
    "start_time": "2022-11-23T11:12:39.351Z"
   },
   {
    "duration": 16,
    "start_time": "2022-11-23T11:12:39.717Z"
   },
   {
    "duration": 25,
    "start_time": "2022-11-23T11:12:39.734Z"
   },
   {
    "duration": 32,
    "start_time": "2022-11-23T11:12:39.761Z"
   },
   {
    "duration": 158,
    "start_time": "2022-11-23T11:12:39.795Z"
   },
   {
    "duration": 4422,
    "start_time": "2022-11-23T11:12:39.955Z"
   },
   {
    "duration": 4,
    "start_time": "2022-11-23T11:12:44.379Z"
   },
   {
    "duration": 22,
    "start_time": "2022-11-23T11:12:44.385Z"
   },
   {
    "duration": 19,
    "start_time": "2022-11-23T11:12:44.408Z"
   },
   {
    "duration": 30,
    "start_time": "2022-11-23T11:12:44.429Z"
   },
   {
    "duration": 32,
    "start_time": "2022-11-23T11:12:44.461Z"
   },
   {
    "duration": 150,
    "start_time": "2022-11-23T11:12:44.494Z"
   },
   {
    "duration": 4,
    "start_time": "2022-11-23T11:12:44.645Z"
   },
   {
    "duration": 18,
    "start_time": "2022-11-23T11:12:44.651Z"
   },
   {
    "duration": 7,
    "start_time": "2022-11-23T11:12:44.671Z"
   },
   {
    "duration": 17,
    "start_time": "2022-11-23T11:12:44.680Z"
   },
   {
    "duration": 49,
    "start_time": "2022-11-23T11:12:44.698Z"
   },
   {
    "duration": 160,
    "start_time": "2022-11-23T11:12:44.749Z"
   },
   {
    "duration": 4,
    "start_time": "2022-11-23T11:12:44.910Z"
   },
   {
    "duration": 28,
    "start_time": "2022-11-23T11:12:44.916Z"
   },
   {
    "duration": 12,
    "start_time": "2022-11-23T11:12:44.945Z"
   },
   {
    "duration": 20,
    "start_time": "2022-11-23T11:12:44.958Z"
   },
   {
    "duration": 21,
    "start_time": "2022-11-23T11:12:44.979Z"
   },
   {
    "duration": 22,
    "start_time": "2022-11-23T11:12:45.002Z"
   },
   {
    "duration": 18,
    "start_time": "2022-11-23T11:12:45.026Z"
   },
   {
    "duration": 31,
    "start_time": "2022-11-23T11:12:45.046Z"
   },
   {
    "duration": 6,
    "start_time": "2022-11-23T11:12:45.079Z"
   },
   {
    "duration": 14,
    "start_time": "2022-11-23T11:12:45.089Z"
   },
   {
    "duration": 24,
    "start_time": "2022-11-23T11:12:45.105Z"
   },
   {
    "duration": 2,
    "start_time": "2022-11-23T11:12:45.131Z"
   },
   {
    "duration": 16,
    "start_time": "2022-11-23T11:12:45.135Z"
   },
   {
    "duration": 7,
    "start_time": "2022-11-23T11:12:45.153Z"
   },
   {
    "duration": 73,
    "start_time": "2022-11-23T11:12:45.162Z"
   },
   {
    "duration": 105,
    "start_time": "2022-11-23T11:12:45.237Z"
   },
   {
    "duration": 16,
    "start_time": "2022-11-23T11:12:45.343Z"
   },
   {
    "duration": 6,
    "start_time": "2022-11-23T11:12:45.361Z"
   },
   {
    "duration": 68,
    "start_time": "2022-11-23T11:12:45.369Z"
   },
   {
    "duration": 7,
    "start_time": "2022-11-23T11:12:45.527Z"
   },
   {
    "duration": 20,
    "start_time": "2022-11-23T11:12:45.536Z"
   },
   {
    "duration": 11,
    "start_time": "2022-11-23T11:12:45.557Z"
   },
   {
    "duration": 161,
    "start_time": "2022-11-23T11:12:45.569Z"
   },
   {
    "duration": 6,
    "start_time": "2022-11-23T11:12:45.731Z"
   },
   {
    "duration": 7,
    "start_time": "2022-11-23T11:12:45.738Z"
   },
   {
    "duration": 18,
    "start_time": "2022-11-23T11:12:45.747Z"
   },
   {
    "duration": 7,
    "start_time": "2022-11-23T11:12:45.766Z"
   },
   {
    "duration": 13,
    "start_time": "2022-11-23T11:12:45.775Z"
   },
   {
    "duration": 9,
    "start_time": "2022-11-23T11:12:45.789Z"
   },
   {
    "duration": 11,
    "start_time": "2022-11-23T11:12:45.799Z"
   },
   {
    "duration": 15,
    "start_time": "2022-11-23T11:12:45.811Z"
   },
   {
    "duration": 13,
    "start_time": "2022-11-23T11:12:45.828Z"
   },
   {
    "duration": 15,
    "start_time": "2022-11-23T11:12:45.843Z"
   },
   {
    "duration": 9,
    "start_time": "2022-11-23T11:12:45.859Z"
   },
   {
    "duration": 1196,
    "start_time": "2022-11-23T11:12:49.407Z"
   },
   {
    "duration": 5,
    "start_time": "2022-11-23T11:12:50.605Z"
   },
   {
    "duration": 3,
    "start_time": "2022-11-23T11:12:51.066Z"
   },
   {
    "duration": 4,
    "start_time": "2022-11-23T11:12:56.429Z"
   },
   {
    "duration": 3,
    "start_time": "2022-11-23T11:19:06.578Z"
   },
   {
    "duration": 3,
    "start_time": "2022-11-23T11:19:07.933Z"
   },
   {
    "duration": 2,
    "start_time": "2022-11-23T11:19:08.175Z"
   },
   {
    "duration": 15,
    "start_time": "2022-11-23T11:19:08.816Z"
   },
   {
    "duration": 3,
    "start_time": "2022-11-23T11:19:14.377Z"
   },
   {
    "duration": 380,
    "start_time": "2022-11-23T11:19:14.382Z"
   },
   {
    "duration": 9,
    "start_time": "2022-11-23T11:19:14.764Z"
   },
   {
    "duration": 18,
    "start_time": "2022-11-23T11:19:14.775Z"
   },
   {
    "duration": 48,
    "start_time": "2022-11-23T11:19:14.795Z"
   },
   {
    "duration": 161,
    "start_time": "2022-11-23T11:19:14.844Z"
   },
   {
    "duration": 4867,
    "start_time": "2022-11-23T11:19:15.007Z"
   },
   {
    "duration": 5,
    "start_time": "2022-11-23T11:19:19.876Z"
   },
   {
    "duration": 19,
    "start_time": "2022-11-23T11:19:19.882Z"
   },
   {
    "duration": 30,
    "start_time": "2022-11-23T11:19:19.903Z"
   },
   {
    "duration": 15,
    "start_time": "2022-11-23T11:19:19.936Z"
   },
   {
    "duration": 33,
    "start_time": "2022-11-23T11:19:19.953Z"
   },
   {
    "duration": 175,
    "start_time": "2022-11-23T11:19:19.988Z"
   },
   {
    "duration": 4,
    "start_time": "2022-11-23T11:19:20.164Z"
   },
   {
    "duration": 18,
    "start_time": "2022-11-23T11:19:20.170Z"
   },
   {
    "duration": 17,
    "start_time": "2022-11-23T11:19:20.189Z"
   },
   {
    "duration": 25,
    "start_time": "2022-11-23T11:19:20.208Z"
   },
   {
    "duration": 33,
    "start_time": "2022-11-23T11:19:20.234Z"
   },
   {
    "duration": 149,
    "start_time": "2022-11-23T11:19:20.269Z"
   },
   {
    "duration": 4,
    "start_time": "2022-11-23T11:19:20.426Z"
   },
   {
    "duration": 17,
    "start_time": "2022-11-23T11:19:20.431Z"
   },
   {
    "duration": 11,
    "start_time": "2022-11-23T11:19:20.450Z"
   },
   {
    "duration": 14,
    "start_time": "2022-11-23T11:19:20.462Z"
   },
   {
    "duration": 16,
    "start_time": "2022-11-23T11:19:20.478Z"
   },
   {
    "duration": 9,
    "start_time": "2022-11-23T11:19:20.496Z"
   },
   {
    "duration": 7,
    "start_time": "2022-11-23T11:19:20.506Z"
   },
   {
    "duration": 20,
    "start_time": "2022-11-23T11:19:20.514Z"
   },
   {
    "duration": 5,
    "start_time": "2022-11-23T11:19:20.536Z"
   },
   {
    "duration": 3,
    "start_time": "2022-11-23T11:19:20.544Z"
   },
   {
    "duration": 13,
    "start_time": "2022-11-23T11:19:20.549Z"
   },
   {
    "duration": 3,
    "start_time": "2022-11-23T11:19:20.563Z"
   },
   {
    "duration": 17,
    "start_time": "2022-11-23T11:19:20.568Z"
   },
   {
    "duration": 41,
    "start_time": "2022-11-23T11:19:20.586Z"
   },
   {
    "duration": 96,
    "start_time": "2022-11-23T11:19:20.631Z"
   },
   {
    "duration": 8,
    "start_time": "2022-11-23T11:19:20.728Z"
   },
   {
    "duration": 16,
    "start_time": "2022-11-23T11:19:20.738Z"
   },
   {
    "duration": 4,
    "start_time": "2022-11-23T11:19:20.756Z"
   },
   {
    "duration": 67,
    "start_time": "2022-11-23T11:19:20.762Z"
   },
   {
    "duration": 4,
    "start_time": "2022-11-23T11:19:20.831Z"
   },
   {
    "duration": 103,
    "start_time": "2022-11-23T11:19:20.837Z"
   },
   {
    "duration": 5,
    "start_time": "2022-11-23T11:19:20.941Z"
   },
   {
    "duration": 82,
    "start_time": "2022-11-23T11:19:20.948Z"
   },
   {
    "duration": 97,
    "start_time": "2022-11-23T11:19:21.032Z"
   },
   {
    "duration": 10,
    "start_time": "2022-11-23T11:19:21.131Z"
   },
   {
    "duration": 11,
    "start_time": "2022-11-23T11:19:21.143Z"
   },
   {
    "duration": 10,
    "start_time": "2022-11-23T11:19:21.155Z"
   },
   {
    "duration": 8,
    "start_time": "2022-11-23T11:19:21.166Z"
   },
   {
    "duration": 9,
    "start_time": "2022-11-23T11:19:21.176Z"
   },
   {
    "duration": 9,
    "start_time": "2022-11-23T11:19:21.187Z"
   },
   {
    "duration": 9,
    "start_time": "2022-11-23T11:19:21.197Z"
   },
   {
    "duration": 5,
    "start_time": "2022-11-23T11:19:21.207Z"
   },
   {
    "duration": 5,
    "start_time": "2022-11-23T11:19:21.214Z"
   },
   {
    "duration": 6,
    "start_time": "2022-11-23T11:19:21.221Z"
   },
   {
    "duration": 15,
    "start_time": "2022-11-23T11:20:40.814Z"
   },
   {
    "duration": 68,
    "start_time": "2022-11-23T11:20:54.604Z"
   },
   {
    "duration": 3,
    "start_time": "2022-11-23T11:20:55.137Z"
   },
   {
    "duration": 4,
    "start_time": "2022-11-23T11:21:05.419Z"
   },
   {
    "duration": 3,
    "start_time": "2022-11-23T11:21:05.979Z"
   },
   {
    "duration": 3,
    "start_time": "2022-11-23T11:21:06.277Z"
   },
   {
    "duration": 20,
    "start_time": "2022-11-23T11:21:06.916Z"
   },
   {
    "duration": 4,
    "start_time": "2022-11-23T11:21:17.616Z"
   },
   {
    "duration": 389,
    "start_time": "2022-11-23T11:21:17.622Z"
   },
   {
    "duration": 16,
    "start_time": "2022-11-23T11:21:18.013Z"
   },
   {
    "duration": 23,
    "start_time": "2022-11-23T11:21:18.031Z"
   },
   {
    "duration": 39,
    "start_time": "2022-11-23T11:21:18.056Z"
   },
   {
    "duration": 172,
    "start_time": "2022-11-23T11:21:18.097Z"
   },
   {
    "duration": 5011,
    "start_time": "2022-11-23T11:21:18.271Z"
   },
   {
    "duration": 4,
    "start_time": "2022-11-23T11:21:23.283Z"
   },
   {
    "duration": 21,
    "start_time": "2022-11-23T11:21:23.289Z"
   },
   {
    "duration": 21,
    "start_time": "2022-11-23T11:21:23.311Z"
   },
   {
    "duration": 15,
    "start_time": "2022-11-23T11:21:23.334Z"
   },
   {
    "duration": 36,
    "start_time": "2022-11-23T11:21:23.350Z"
   },
   {
    "duration": 173,
    "start_time": "2022-11-23T11:21:23.387Z"
   },
   {
    "duration": 5,
    "start_time": "2022-11-23T11:21:23.563Z"
   },
   {
    "duration": 18,
    "start_time": "2022-11-23T11:21:23.569Z"
   },
   {
    "duration": 8,
    "start_time": "2022-11-23T11:21:23.589Z"
   },
   {
    "duration": 35,
    "start_time": "2022-11-23T11:21:23.598Z"
   },
   {
    "duration": 38,
    "start_time": "2022-11-23T11:21:23.635Z"
   },
   {
    "duration": 167,
    "start_time": "2022-11-23T11:21:23.675Z"
   },
   {
    "duration": 5,
    "start_time": "2022-11-23T11:21:23.844Z"
   },
   {
    "duration": 16,
    "start_time": "2022-11-23T11:21:23.851Z"
   },
   {
    "duration": 11,
    "start_time": "2022-11-23T11:21:23.869Z"
   },
   {
    "duration": 4,
    "start_time": "2022-11-23T11:21:23.881Z"
   },
   {
    "duration": 15,
    "start_time": "2022-11-23T11:21:23.886Z"
   },
   {
    "duration": 5,
    "start_time": "2022-11-23T11:21:23.927Z"
   },
   {
    "duration": 4,
    "start_time": "2022-11-23T11:21:23.934Z"
   },
   {
    "duration": 12,
    "start_time": "2022-11-23T11:21:23.940Z"
   },
   {
    "duration": 3,
    "start_time": "2022-11-23T11:21:23.954Z"
   },
   {
    "duration": 8,
    "start_time": "2022-11-23T11:21:23.959Z"
   },
   {
    "duration": 18,
    "start_time": "2022-11-23T11:21:23.968Z"
   },
   {
    "duration": 2,
    "start_time": "2022-11-23T11:21:23.988Z"
   },
   {
    "duration": 16,
    "start_time": "2022-11-23T11:21:23.991Z"
   },
   {
    "duration": 20,
    "start_time": "2022-11-23T11:21:24.009Z"
   },
   {
    "duration": 97,
    "start_time": "2022-11-23T11:21:24.032Z"
   },
   {
    "duration": 95,
    "start_time": "2022-11-23T11:21:24.131Z"
   },
   {
    "duration": 14,
    "start_time": "2022-11-23T11:21:24.228Z"
   },
   {
    "duration": 12,
    "start_time": "2022-11-23T11:21:24.244Z"
   },
   {
    "duration": 5,
    "start_time": "2022-11-23T11:21:24.327Z"
   },
   {
    "duration": 98,
    "start_time": "2022-11-23T11:21:24.334Z"
   },
   {
    "duration": 14,
    "start_time": "2022-11-23T11:21:24.434Z"
   },
   {
    "duration": 6,
    "start_time": "2022-11-23T11:21:24.453Z"
   },
   {
    "duration": 71,
    "start_time": "2022-11-23T11:21:24.461Z"
   },
   {
    "duration": 93,
    "start_time": "2022-11-23T11:21:24.534Z"
   },
   {
    "duration": 4,
    "start_time": "2022-11-23T11:21:24.629Z"
   },
   {
    "duration": 6,
    "start_time": "2022-11-23T11:21:24.634Z"
   },
   {
    "duration": 6,
    "start_time": "2022-11-23T11:21:24.641Z"
   },
   {
    "duration": 6,
    "start_time": "2022-11-23T11:21:24.648Z"
   },
   {
    "duration": 9,
    "start_time": "2022-11-23T11:21:24.655Z"
   },
   {
    "duration": 8,
    "start_time": "2022-11-23T11:21:24.665Z"
   },
   {
    "duration": 15,
    "start_time": "2022-11-23T11:21:24.675Z"
   },
   {
    "duration": 11,
    "start_time": "2022-11-23T11:21:24.692Z"
   },
   {
    "duration": 8,
    "start_time": "2022-11-23T11:21:24.704Z"
   },
   {
    "duration": 5,
    "start_time": "2022-11-23T11:21:24.714Z"
   },
   {
    "duration": 19,
    "start_time": "2022-11-23T11:21:26.805Z"
   },
   {
    "duration": 4,
    "start_time": "2022-11-23T11:22:24.754Z"
   },
   {
    "duration": 1216,
    "start_time": "2022-11-23T11:22:28.015Z"
   },
   {
    "duration": 96,
    "start_time": "2022-11-23T11:22:32.617Z"
   },
   {
    "duration": 3,
    "start_time": "2022-11-23T11:22:42.380Z"
   },
   {
    "duration": 386,
    "start_time": "2022-11-23T11:22:42.385Z"
   },
   {
    "duration": 13,
    "start_time": "2022-11-23T11:22:42.773Z"
   },
   {
    "duration": 34,
    "start_time": "2022-11-23T11:22:42.788Z"
   },
   {
    "duration": 35,
    "start_time": "2022-11-23T11:22:42.825Z"
   },
   {
    "duration": 166,
    "start_time": "2022-11-23T11:22:42.862Z"
   },
   {
    "duration": 4625,
    "start_time": "2022-11-23T11:22:43.029Z"
   },
   {
    "duration": 5,
    "start_time": "2022-11-23T11:22:47.655Z"
   },
   {
    "duration": 22,
    "start_time": "2022-11-23T11:22:47.662Z"
   },
   {
    "duration": 11,
    "start_time": "2022-11-23T11:22:47.686Z"
   },
   {
    "duration": 33,
    "start_time": "2022-11-23T11:22:47.700Z"
   },
   {
    "duration": 33,
    "start_time": "2022-11-23T11:22:47.734Z"
   },
   {
    "duration": 181,
    "start_time": "2022-11-23T11:22:47.769Z"
   },
   {
    "duration": 5,
    "start_time": "2022-11-23T11:22:47.951Z"
   },
   {
    "duration": 27,
    "start_time": "2022-11-23T11:22:47.957Z"
   },
   {
    "duration": 9,
    "start_time": "2022-11-23T11:22:47.986Z"
   },
   {
    "duration": 16,
    "start_time": "2022-11-23T11:22:47.997Z"
   },
   {
    "duration": 35,
    "start_time": "2022-11-23T11:22:48.026Z"
   },
   {
    "duration": 165,
    "start_time": "2022-11-23T11:22:48.063Z"
   },
   {
    "duration": 4,
    "start_time": "2022-11-23T11:22:48.230Z"
   },
   {
    "duration": 20,
    "start_time": "2022-11-23T11:22:48.236Z"
   },
   {
    "duration": 11,
    "start_time": "2022-11-23T11:22:48.257Z"
   },
   {
    "duration": 7,
    "start_time": "2022-11-23T11:22:48.269Z"
   },
   {
    "duration": 13,
    "start_time": "2022-11-23T11:22:48.278Z"
   },
   {
    "duration": 5,
    "start_time": "2022-11-23T11:22:48.293Z"
   },
   {
    "duration": 3,
    "start_time": "2022-11-23T11:22:48.326Z"
   },
   {
    "duration": 13,
    "start_time": "2022-11-23T11:22:48.331Z"
   },
   {
    "duration": 4,
    "start_time": "2022-11-23T11:22:48.345Z"
   },
   {
    "duration": 7,
    "start_time": "2022-11-23T11:22:48.352Z"
   },
   {
    "duration": 13,
    "start_time": "2022-11-23T11:22:48.361Z"
   },
   {
    "duration": 3,
    "start_time": "2022-11-23T11:22:48.376Z"
   },
   {
    "duration": 15,
    "start_time": "2022-11-23T11:22:48.381Z"
   },
   {
    "duration": 29,
    "start_time": "2022-11-23T11:22:48.398Z"
   },
   {
    "duration": 8,
    "start_time": "2022-11-23T11:22:48.429Z"
   },
   {
    "duration": 89,
    "start_time": "2022-11-23T11:22:48.438Z"
   },
   {
    "duration": 14,
    "start_time": "2022-11-23T11:22:48.528Z"
   },
   {
    "duration": 7,
    "start_time": "2022-11-23T11:22:48.544Z"
   },
   {
    "duration": 75,
    "start_time": "2022-11-23T11:22:48.553Z"
   },
   {
    "duration": 3,
    "start_time": "2022-11-23T11:22:48.629Z"
   },
   {
    "duration": 108,
    "start_time": "2022-11-23T11:22:48.633Z"
   },
   {
    "duration": 13,
    "start_time": "2022-11-23T11:22:48.743Z"
   },
   {
    "duration": 70,
    "start_time": "2022-11-23T11:22:48.758Z"
   },
   {
    "duration": 5,
    "start_time": "2022-11-23T11:22:48.829Z"
   },
   {
    "duration": 98,
    "start_time": "2022-11-23T11:22:48.836Z"
   },
   {
    "duration": 9,
    "start_time": "2022-11-23T11:22:48.935Z"
   },
   {
    "duration": 9,
    "start_time": "2022-11-23T11:22:48.946Z"
   },
   {
    "duration": 11,
    "start_time": "2022-11-23T11:22:48.956Z"
   },
   {
    "duration": 8,
    "start_time": "2022-11-23T11:22:48.969Z"
   },
   {
    "duration": 6,
    "start_time": "2022-11-23T11:22:48.979Z"
   },
   {
    "duration": 9,
    "start_time": "2022-11-23T11:22:48.987Z"
   },
   {
    "duration": 16,
    "start_time": "2022-11-23T11:22:48.997Z"
   },
   {
    "duration": 11,
    "start_time": "2022-11-23T11:22:49.015Z"
   },
   {
    "duration": 7,
    "start_time": "2022-11-23T11:22:49.027Z"
   },
   {
    "duration": 1215,
    "start_time": "2022-11-23T11:22:52.457Z"
   },
   {
    "duration": 254,
    "start_time": "2022-11-23T11:22:53.674Z"
   },
   {
    "duration": 4,
    "start_time": "2022-11-23T11:23:19.969Z"
   },
   {
    "duration": 395,
    "start_time": "2022-11-23T11:23:19.974Z"
   },
   {
    "duration": 10,
    "start_time": "2022-11-23T11:23:20.372Z"
   },
   {
    "duration": 24,
    "start_time": "2022-11-23T11:23:20.384Z"
   },
   {
    "duration": 47,
    "start_time": "2022-11-23T11:23:20.410Z"
   },
   {
    "duration": 187,
    "start_time": "2022-11-23T11:23:20.459Z"
   },
   {
    "duration": 5181,
    "start_time": "2022-11-23T11:23:20.648Z"
   },
   {
    "duration": 4,
    "start_time": "2022-11-23T11:23:25.831Z"
   },
   {
    "duration": 20,
    "start_time": "2022-11-23T11:23:25.837Z"
   },
   {
    "duration": 9,
    "start_time": "2022-11-23T11:23:25.858Z"
   },
   {
    "duration": 15,
    "start_time": "2022-11-23T11:23:25.869Z"
   },
   {
    "duration": 68,
    "start_time": "2022-11-23T11:23:25.885Z"
   },
   {
    "duration": 164,
    "start_time": "2022-11-23T11:23:25.955Z"
   },
   {
    "duration": 7,
    "start_time": "2022-11-23T11:23:26.121Z"
   },
   {
    "duration": 15,
    "start_time": "2022-11-23T11:23:26.129Z"
   },
   {
    "duration": 8,
    "start_time": "2022-11-23T11:23:26.146Z"
   },
   {
    "duration": 22,
    "start_time": "2022-11-23T11:23:26.156Z"
   },
   {
    "duration": 51,
    "start_time": "2022-11-23T11:23:26.180Z"
   },
   {
    "duration": 167,
    "start_time": "2022-11-23T11:23:26.233Z"
   },
   {
    "duration": 5,
    "start_time": "2022-11-23T11:23:26.402Z"
   },
   {
    "duration": 28,
    "start_time": "2022-11-23T11:23:26.409Z"
   },
   {
    "duration": 12,
    "start_time": "2022-11-23T11:23:26.439Z"
   },
   {
    "duration": 17,
    "start_time": "2022-11-23T11:23:26.453Z"
   },
   {
    "duration": 12,
    "start_time": "2022-11-23T11:23:26.472Z"
   },
   {
    "duration": 6,
    "start_time": "2022-11-23T11:23:26.485Z"
   },
   {
    "duration": 6,
    "start_time": "2022-11-23T11:23:26.492Z"
   },
   {
    "duration": 17,
    "start_time": "2022-11-23T11:23:26.500Z"
   },
   {
    "duration": 9,
    "start_time": "2022-11-23T11:23:26.519Z"
   },
   {
    "duration": 5,
    "start_time": "2022-11-23T11:23:26.533Z"
   },
   {
    "duration": 15,
    "start_time": "2022-11-23T11:23:26.540Z"
   },
   {
    "duration": 2,
    "start_time": "2022-11-23T11:23:26.557Z"
   },
   {
    "duration": 16,
    "start_time": "2022-11-23T11:23:26.561Z"
   },
   {
    "duration": 11,
    "start_time": "2022-11-23T11:23:26.579Z"
   },
   {
    "duration": 91,
    "start_time": "2022-11-23T11:23:26.637Z"
   },
   {
    "duration": 4,
    "start_time": "2022-11-23T11:23:26.730Z"
   },
   {
    "duration": 15,
    "start_time": "2022-11-23T11:23:26.736Z"
   },
   {
    "duration": 7,
    "start_time": "2022-11-23T11:23:26.752Z"
   },
   {
    "duration": 167,
    "start_time": "2022-11-23T11:23:26.761Z"
   },
   {
    "duration": 6,
    "start_time": "2022-11-23T11:23:26.929Z"
   },
   {
    "duration": 13,
    "start_time": "2022-11-23T11:23:26.937Z"
   },
   {
    "duration": 8,
    "start_time": "2022-11-23T11:23:26.952Z"
   },
   {
    "duration": 73,
    "start_time": "2022-11-23T11:23:26.962Z"
   },
   {
    "duration": 5,
    "start_time": "2022-11-23T11:23:27.127Z"
   },
   {
    "duration": 7,
    "start_time": "2022-11-23T11:23:27.133Z"
   },
   {
    "duration": 7,
    "start_time": "2022-11-23T11:23:27.142Z"
   },
   {
    "duration": 3,
    "start_time": "2022-11-23T11:23:27.151Z"
   },
   {
    "duration": 5,
    "start_time": "2022-11-23T11:23:27.155Z"
   },
   {
    "duration": 7,
    "start_time": "2022-11-23T11:23:27.162Z"
   },
   {
    "duration": 4,
    "start_time": "2022-11-23T11:23:27.171Z"
   },
   {
    "duration": 6,
    "start_time": "2022-11-23T11:23:27.176Z"
   },
   {
    "duration": 5,
    "start_time": "2022-11-23T11:23:27.184Z"
   },
   {
    "duration": 8,
    "start_time": "2022-11-23T11:23:27.190Z"
   },
   {
    "duration": 28,
    "start_time": "2022-11-23T11:23:27.199Z"
   },
   {
    "duration": 1244,
    "start_time": "2022-11-23T11:23:27.229Z"
   },
   {
    "duration": 90,
    "start_time": "2022-11-23T11:23:28.475Z"
   },
   {
    "duration": 0,
    "start_time": "2022-11-23T11:23:28.566Z"
   },
   {
    "duration": 0,
    "start_time": "2022-11-23T11:23:28.567Z"
   },
   {
    "duration": 0,
    "start_time": "2022-11-23T11:23:28.569Z"
   },
   {
    "duration": 0,
    "start_time": "2022-11-23T11:23:28.570Z"
   },
   {
    "duration": 0,
    "start_time": "2022-11-23T11:23:28.571Z"
   },
   {
    "duration": 0,
    "start_time": "2022-11-23T11:23:28.572Z"
   },
   {
    "duration": 0,
    "start_time": "2022-11-23T11:23:28.572Z"
   },
   {
    "duration": 0,
    "start_time": "2022-11-23T11:23:28.574Z"
   },
   {
    "duration": 0,
    "start_time": "2022-11-23T11:23:28.575Z"
   },
   {
    "duration": 0,
    "start_time": "2022-11-23T11:23:28.575Z"
   },
   {
    "duration": 3,
    "start_time": "2022-11-23T11:23:53.508Z"
   },
   {
    "duration": 4,
    "start_time": "2022-11-23T11:23:53.816Z"
   },
   {
    "duration": 2,
    "start_time": "2022-11-23T11:23:54.003Z"
   },
   {
    "duration": 1415,
    "start_time": "2022-11-23T11:23:54.357Z"
   },
   {
    "duration": 6,
    "start_time": "2022-11-23T11:23:55.773Z"
   },
   {
    "duration": 9,
    "start_time": "2022-11-23T11:23:55.780Z"
   },
   {
    "duration": 6,
    "start_time": "2022-11-23T11:24:49.158Z"
   },
   {
    "duration": 3,
    "start_time": "2022-11-23T11:24:55.989Z"
   },
   {
    "duration": 3,
    "start_time": "2022-11-23T11:25:43.627Z"
   },
   {
    "duration": 4,
    "start_time": "2022-11-23T11:25:44.437Z"
   },
   {
    "duration": 3,
    "start_time": "2022-11-23T11:25:44.637Z"
   },
   {
    "duration": 1311,
    "start_time": "2022-11-23T11:25:45.348Z"
   },
   {
    "duration": 5,
    "start_time": "2022-11-23T11:25:46.661Z"
   },
   {
    "duration": 4,
    "start_time": "2022-11-23T11:25:48.144Z"
   },
   {
    "duration": 4,
    "start_time": "2022-11-23T11:25:57.773Z"
   },
   {
    "duration": 4,
    "start_time": "2022-11-23T11:25:58.006Z"
   },
   {
    "duration": 1497,
    "start_time": "2022-11-24T03:30:34.899Z"
   },
   {
    "duration": 757,
    "start_time": "2022-11-24T03:30:36.398Z"
   },
   {
    "duration": 15,
    "start_time": "2022-11-24T03:30:37.157Z"
   },
   {
    "duration": 15,
    "start_time": "2022-11-24T03:30:38.916Z"
   },
   {
    "duration": 38,
    "start_time": "2022-11-24T03:30:40.647Z"
   },
   {
    "duration": 157,
    "start_time": "2022-11-24T03:30:44.390Z"
   },
   {
    "duration": 5,
    "start_time": "2022-11-24T03:30:47.668Z"
   },
   {
    "duration": 18,
    "start_time": "2022-11-24T03:30:49.146Z"
   },
   {
    "duration": 11,
    "start_time": "2022-11-24T03:31:00.259Z"
   },
   {
    "duration": 3,
    "start_time": "2022-11-24T03:31:08.911Z"
   },
   {
    "duration": 121,
    "start_time": "2022-11-24T03:31:20.884Z"
   },
   {
    "duration": 12,
    "start_time": "2022-11-24T03:31:46.511Z"
   },
   {
    "duration": 2,
    "start_time": "2022-11-24T03:31:58.739Z"
   },
   {
    "duration": 17,
    "start_time": "2022-11-24T03:31:59.852Z"
   },
   {
    "duration": 8,
    "start_time": "2022-11-24T03:32:12.825Z"
   },
   {
    "duration": 5,
    "start_time": "2022-11-24T03:32:15.924Z"
   },
   {
    "duration": 5,
    "start_time": "2022-11-24T03:32:42.865Z"
   },
   {
    "duration": 3,
    "start_time": "2022-11-24T03:33:00.941Z"
   },
   {
    "duration": 2,
    "start_time": "2022-11-24T03:33:01.253Z"
   },
   {
    "duration": 3,
    "start_time": "2022-11-24T03:33:01.617Z"
   },
   {
    "duration": 3,
    "start_time": "2022-11-24T03:33:01.902Z"
   },
   {
    "duration": 5,
    "start_time": "2022-11-24T03:33:02.509Z"
   },
   {
    "duration": 3,
    "start_time": "2022-11-24T03:33:18.617Z"
   },
   {
    "duration": 3,
    "start_time": "2022-11-24T03:33:20.174Z"
   },
   {
    "duration": 3,
    "start_time": "2022-11-24T03:33:21.473Z"
   },
   {
    "duration": 1250,
    "start_time": "2022-11-24T03:33:27.253Z"
   },
   {
    "duration": 5,
    "start_time": "2022-11-24T03:33:28.505Z"
   },
   {
    "duration": 17,
    "start_time": "2022-11-24T03:33:28.512Z"
   },
   {
    "duration": 5,
    "start_time": "2022-11-24T03:33:49.588Z"
   },
   {
    "duration": 3,
    "start_time": "2022-11-24T03:33:50.054Z"
   },
   {
    "duration": 7,
    "start_time": "2022-11-24T03:34:00.226Z"
   },
   {
    "duration": 8,
    "start_time": "2022-11-24T03:34:08.706Z"
   },
   {
    "duration": 6,
    "start_time": "2022-11-24T03:34:10.953Z"
   },
   {
    "duration": 3,
    "start_time": "2022-11-24T03:36:06.191Z"
   },
   {
    "duration": 3,
    "start_time": "2022-11-24T03:36:06.692Z"
   },
   {
    "duration": 3,
    "start_time": "2022-11-24T03:36:07.156Z"
   },
   {
    "duration": 1269,
    "start_time": "2022-11-24T03:36:08.015Z"
   },
   {
    "duration": 5,
    "start_time": "2022-11-24T03:36:09.372Z"
   },
   {
    "duration": 4,
    "start_time": "2022-11-24T03:36:09.926Z"
   },
   {
    "duration": 4,
    "start_time": "2022-11-24T03:36:10.703Z"
   },
   {
    "duration": 5,
    "start_time": "2022-11-24T03:37:08.573Z"
   },
   {
    "duration": 8,
    "start_time": "2022-11-24T03:37:54.823Z"
   },
   {
    "duration": 8,
    "start_time": "2022-11-24T03:38:04.019Z"
   },
   {
    "duration": 8,
    "start_time": "2022-11-24T03:38:13.638Z"
   },
   {
    "duration": 22,
    "start_time": "2022-11-24T03:39:13.583Z"
   },
   {
    "duration": 5,
    "start_time": "2022-11-24T03:39:22.514Z"
   },
   {
    "duration": 437,
    "start_time": "2022-11-24T03:39:22.524Z"
   },
   {
    "duration": 10,
    "start_time": "2022-11-24T03:39:22.964Z"
   },
   {
    "duration": 34,
    "start_time": "2022-11-24T03:39:22.975Z"
   },
   {
    "duration": 45,
    "start_time": "2022-11-24T03:39:23.011Z"
   },
   {
    "duration": 190,
    "start_time": "2022-11-24T03:39:23.058Z"
   },
   {
    "duration": 5,
    "start_time": "2022-11-24T03:39:23.250Z"
   },
   {
    "duration": 26,
    "start_time": "2022-11-24T03:39:23.257Z"
   },
   {
    "duration": 14,
    "start_time": "2022-11-24T03:39:23.285Z"
   },
   {
    "duration": 14,
    "start_time": "2022-11-24T03:39:23.301Z"
   },
   {
    "duration": 22,
    "start_time": "2022-11-24T03:39:23.317Z"
   },
   {
    "duration": 4,
    "start_time": "2022-11-24T03:39:23.589Z"
   },
   {
    "duration": 19,
    "start_time": "2022-11-24T03:39:23.596Z"
   },
   {
    "duration": 21,
    "start_time": "2022-11-24T03:39:23.618Z"
   },
   {
    "duration": 200,
    "start_time": "2022-11-24T03:39:23.641Z"
   },
   {
    "duration": 6,
    "start_time": "2022-11-24T03:39:24.170Z"
   },
   {
    "duration": 3,
    "start_time": "2022-11-24T03:39:24.291Z"
   },
   {
    "duration": 3,
    "start_time": "2022-11-24T03:39:24.304Z"
   },
   {
    "duration": 8,
    "start_time": "2022-11-24T03:39:24.308Z"
   },
   {
    "duration": 9,
    "start_time": "2022-11-24T03:39:24.318Z"
   },
   {
    "duration": 15,
    "start_time": "2022-11-24T03:39:24.329Z"
   },
   {
    "duration": 4,
    "start_time": "2022-11-24T03:39:29.088Z"
   },
   {
    "duration": 3,
    "start_time": "2022-11-24T03:39:29.598Z"
   },
   {
    "duration": 2,
    "start_time": "2022-11-24T03:39:29.934Z"
   },
   {
    "duration": 8,
    "start_time": "2022-11-24T03:39:30.435Z"
   },
   {
    "duration": 1720,
    "start_time": "2022-11-24T03:39:32.432Z"
   },
   {
    "duration": 5,
    "start_time": "2022-11-24T03:39:36.154Z"
   },
   {
    "duration": 4,
    "start_time": "2022-11-24T03:39:36.501Z"
   },
   {
    "duration": 4,
    "start_time": "2022-11-24T03:39:36.992Z"
   },
   {
    "duration": 8,
    "start_time": "2022-11-24T03:40:04.433Z"
   },
   {
    "duration": 18,
    "start_time": "2022-11-24T03:41:27.190Z"
   },
   {
    "duration": 19,
    "start_time": "2022-11-24T03:42:48.038Z"
   },
   {
    "duration": 4,
    "start_time": "2022-11-24T03:42:55.136Z"
   },
   {
    "duration": 397,
    "start_time": "2022-11-24T03:42:55.145Z"
   },
   {
    "duration": 11,
    "start_time": "2022-11-24T03:42:55.544Z"
   },
   {
    "duration": 35,
    "start_time": "2022-11-24T03:42:55.557Z"
   },
   {
    "duration": 42,
    "start_time": "2022-11-24T03:42:55.594Z"
   },
   {
    "duration": 163,
    "start_time": "2022-11-24T03:42:55.638Z"
   },
   {
    "duration": 5,
    "start_time": "2022-11-24T03:42:55.803Z"
   },
   {
    "duration": 33,
    "start_time": "2022-11-24T03:42:55.809Z"
   },
   {
    "duration": 12,
    "start_time": "2022-11-24T03:42:55.844Z"
   },
   {
    "duration": 8,
    "start_time": "2022-11-24T03:42:55.858Z"
   },
   {
    "duration": 19,
    "start_time": "2022-11-24T03:42:55.869Z"
   },
   {
    "duration": 11,
    "start_time": "2022-11-24T03:42:55.890Z"
   },
   {
    "duration": 19,
    "start_time": "2022-11-24T03:42:55.902Z"
   },
   {
    "duration": 25,
    "start_time": "2022-11-24T03:42:55.923Z"
   },
   {
    "duration": 115,
    "start_time": "2022-11-24T03:42:56.034Z"
   },
   {
    "duration": 10,
    "start_time": "2022-11-24T03:42:56.151Z"
   },
   {
    "duration": 6,
    "start_time": "2022-11-24T03:42:56.163Z"
   },
   {
    "duration": 17,
    "start_time": "2022-11-24T03:42:56.171Z"
   },
   {
    "duration": 11,
    "start_time": "2022-11-24T03:42:56.189Z"
   },
   {
    "duration": 8,
    "start_time": "2022-11-24T03:42:56.201Z"
   },
   {
    "duration": 7,
    "start_time": "2022-11-24T03:42:56.210Z"
   },
   {
    "duration": 10,
    "start_time": "2022-11-24T03:42:56.218Z"
   },
   {
    "duration": 13,
    "start_time": "2022-11-24T03:42:56.229Z"
   },
   {
    "duration": 7,
    "start_time": "2022-11-24T03:42:56.244Z"
   },
   {
    "duration": 16,
    "start_time": "2022-11-24T03:42:56.253Z"
   },
   {
    "duration": 10,
    "start_time": "2022-11-24T03:42:57.997Z"
   },
   {
    "duration": 9,
    "start_time": "2022-11-24T03:42:58.308Z"
   },
   {
    "duration": 18,
    "start_time": "2022-11-24T03:42:58.986Z"
   },
   {
    "duration": 21,
    "start_time": "2022-11-24T03:44:17.433Z"
   },
   {
    "duration": 20,
    "start_time": "2022-11-24T03:46:46.431Z"
   },
   {
    "duration": 29,
    "start_time": "2022-11-24T03:46:59.827Z"
   },
   {
    "duration": 3,
    "start_time": "2022-11-24T03:47:20.531Z"
   },
   {
    "duration": 24,
    "start_time": "2022-11-24T03:47:22.786Z"
   },
   {
    "duration": 33,
    "start_time": "2022-11-24T03:50:59.728Z"
   },
   {
    "duration": 18,
    "start_time": "2022-11-24T03:51:15.129Z"
   },
   {
    "duration": 7,
    "start_time": "2022-11-24T03:51:30.434Z"
   },
   {
    "duration": 8,
    "start_time": "2022-11-24T03:51:50.803Z"
   },
   {
    "duration": 107,
    "start_time": "2022-11-24T03:52:19.531Z"
   },
   {
    "duration": 5,
    "start_time": "2022-11-24T03:52:29.909Z"
   },
   {
    "duration": 3,
    "start_time": "2022-11-24T03:52:40.478Z"
   },
   {
    "duration": 3,
    "start_time": "2022-11-24T03:52:40.835Z"
   },
   {
    "duration": 2,
    "start_time": "2022-11-24T03:52:41.152Z"
   },
   {
    "duration": 7,
    "start_time": "2022-11-24T03:52:41.592Z"
   },
   {
    "duration": 9,
    "start_time": "2022-11-24T03:52:42.515Z"
   },
   {
    "duration": 25,
    "start_time": "2022-11-24T03:52:48.898Z"
   },
   {
    "duration": 5,
    "start_time": "2022-11-24T03:52:55.074Z"
   },
   {
    "duration": 4,
    "start_time": "2022-11-24T03:52:55.493Z"
   },
   {
    "duration": 4,
    "start_time": "2022-11-24T03:52:56.111Z"
   },
   {
    "duration": 5,
    "start_time": "2022-11-24T03:53:06.193Z"
   },
   {
    "duration": 4,
    "start_time": "2022-11-24T03:53:07.503Z"
   },
   {
    "duration": 16,
    "start_time": "2022-11-24T03:56:45.173Z"
   },
   {
    "duration": 3,
    "start_time": "2022-11-24T03:56:49.755Z"
   },
   {
    "duration": 503,
    "start_time": "2022-11-24T03:56:49.761Z"
   },
   {
    "duration": 9,
    "start_time": "2022-11-24T03:56:50.266Z"
   },
   {
    "duration": 18,
    "start_time": "2022-11-24T03:56:50.277Z"
   },
   {
    "duration": 47,
    "start_time": "2022-11-24T03:56:50.297Z"
   },
   {
    "duration": 158,
    "start_time": "2022-11-24T03:56:50.346Z"
   },
   {
    "duration": 4,
    "start_time": "2022-11-24T03:56:50.506Z"
   },
   {
    "duration": 28,
    "start_time": "2022-11-24T03:56:50.512Z"
   },
   {
    "duration": 12,
    "start_time": "2022-11-24T03:56:50.541Z"
   },
   {
    "duration": 8,
    "start_time": "2022-11-24T03:56:50.554Z"
   },
   {
    "duration": 16,
    "start_time": "2022-11-24T03:56:50.564Z"
   },
   {
    "duration": 6,
    "start_time": "2022-11-24T03:56:50.582Z"
   },
   {
    "duration": 27,
    "start_time": "2022-11-24T03:56:50.590Z"
   },
   {
    "duration": 20,
    "start_time": "2022-11-24T03:56:50.619Z"
   },
   {
    "duration": 195,
    "start_time": "2022-11-24T03:56:50.641Z"
   },
   {
    "duration": 15,
    "start_time": "2022-11-24T03:56:50.838Z"
   },
   {
    "duration": 13,
    "start_time": "2022-11-24T03:56:50.855Z"
   },
   {
    "duration": 15,
    "start_time": "2022-11-24T03:56:50.869Z"
   },
   {
    "duration": 20,
    "start_time": "2022-11-24T03:56:50.886Z"
   },
   {
    "duration": 27,
    "start_time": "2022-11-24T03:56:50.907Z"
   },
   {
    "duration": 27,
    "start_time": "2022-11-24T03:56:50.935Z"
   },
   {
    "duration": 22,
    "start_time": "2022-11-24T03:56:50.964Z"
   },
   {
    "duration": 28,
    "start_time": "2022-11-24T03:56:50.988Z"
   },
   {
    "duration": 10,
    "start_time": "2022-11-24T03:56:51.017Z"
   },
   {
    "duration": 22,
    "start_time": "2022-11-24T03:56:51.029Z"
   },
   {
    "duration": 14,
    "start_time": "2022-11-24T03:56:51.053Z"
   },
   {
    "duration": 8,
    "start_time": "2022-11-24T03:56:53.150Z"
   },
   {
    "duration": 12,
    "start_time": "2022-11-24T03:56:53.913Z"
   },
   {
    "duration": 9,
    "start_time": "2022-11-24T03:59:31.194Z"
   },
   {
    "duration": 5,
    "start_time": "2022-11-24T03:59:39.864Z"
   },
   {
    "duration": 4,
    "start_time": "2022-11-24T03:59:40.297Z"
   },
   {
    "duration": 4,
    "start_time": "2022-11-24T03:59:40.858Z"
   },
   {
    "duration": 5,
    "start_time": "2022-11-24T03:59:41.183Z"
   },
   {
    "duration": 4,
    "start_time": "2022-11-24T03:59:41.525Z"
   },
   {
    "duration": 5,
    "start_time": "2022-11-24T03:59:41.981Z"
   },
   {
    "duration": 6,
    "start_time": "2022-11-24T03:59:47.284Z"
   },
   {
    "duration": 7,
    "start_time": "2022-11-24T04:00:04.431Z"
   },
   {
    "duration": 16,
    "start_time": "2022-11-24T04:00:12.094Z"
   },
   {
    "duration": 7,
    "start_time": "2022-11-24T04:00:12.521Z"
   },
   {
    "duration": 4,
    "start_time": "2022-11-24T04:00:16.676Z"
   },
   {
    "duration": 422,
    "start_time": "2022-11-24T04:00:16.683Z"
   },
   {
    "duration": 10,
    "start_time": "2022-11-24T04:00:17.108Z"
   },
   {
    "duration": 22,
    "start_time": "2022-11-24T04:00:17.119Z"
   },
   {
    "duration": 36,
    "start_time": "2022-11-24T04:00:17.144Z"
   },
   {
    "duration": 172,
    "start_time": "2022-11-24T04:00:17.182Z"
   },
   {
    "duration": 5,
    "start_time": "2022-11-24T04:00:17.355Z"
   },
   {
    "duration": 18,
    "start_time": "2022-11-24T04:00:17.361Z"
   },
   {
    "duration": 10,
    "start_time": "2022-11-24T04:00:17.381Z"
   },
   {
    "duration": 9,
    "start_time": "2022-11-24T04:00:17.393Z"
   },
   {
    "duration": 32,
    "start_time": "2022-11-24T04:00:17.405Z"
   },
   {
    "duration": 4,
    "start_time": "2022-11-24T04:00:17.438Z"
   },
   {
    "duration": 25,
    "start_time": "2022-11-24T04:00:17.444Z"
   },
   {
    "duration": 10,
    "start_time": "2022-11-24T04:00:17.472Z"
   },
   {
    "duration": 11,
    "start_time": "2022-11-24T04:00:17.536Z"
   },
   {
    "duration": 92,
    "start_time": "2022-11-24T04:00:17.549Z"
   },
   {
    "duration": 8,
    "start_time": "2022-11-24T04:00:17.642Z"
   },
   {
    "duration": 12,
    "start_time": "2022-11-24T04:00:17.651Z"
   },
   {
    "duration": 12,
    "start_time": "2022-11-24T04:00:17.665Z"
   },
   {
    "duration": 14,
    "start_time": "2022-11-24T04:00:17.679Z"
   },
   {
    "duration": 19,
    "start_time": "2022-11-24T04:00:17.694Z"
   },
   {
    "duration": 10,
    "start_time": "2022-11-24T04:00:17.714Z"
   },
   {
    "duration": 11,
    "start_time": "2022-11-24T04:00:17.726Z"
   },
   {
    "duration": 16,
    "start_time": "2022-11-24T04:00:17.739Z"
   },
   {
    "duration": 19,
    "start_time": "2022-11-24T04:00:17.758Z"
   },
   {
    "duration": 15,
    "start_time": "2022-11-24T04:00:17.779Z"
   },
   {
    "duration": 11,
    "start_time": "2022-11-24T04:00:21.252Z"
   },
   {
    "duration": 1395,
    "start_time": "2022-11-24T04:00:21.476Z"
   },
   {
    "duration": 4,
    "start_time": "2022-11-24T04:00:22.873Z"
   },
   {
    "duration": 20,
    "start_time": "2022-11-24T04:00:22.878Z"
   },
   {
    "duration": 4,
    "start_time": "2022-11-24T04:00:23.887Z"
   },
   {
    "duration": 7,
    "start_time": "2022-11-24T04:00:42.399Z"
   },
   {
    "duration": 6,
    "start_time": "2022-11-24T04:00:42.632Z"
   },
   {
    "duration": 8,
    "start_time": "2022-11-24T04:00:55.355Z"
   },
   {
    "duration": 6,
    "start_time": "2022-11-24T04:01:06.163Z"
   },
   {
    "duration": 5,
    "start_time": "2022-11-24T04:01:21.254Z"
   },
   {
    "duration": 5,
    "start_time": "2022-11-24T04:01:28.788Z"
   },
   {
    "duration": 5,
    "start_time": "2022-11-24T04:01:44.226Z"
   },
   {
    "duration": 3,
    "start_time": "2022-11-24T04:03:05.155Z"
   },
   {
    "duration": 13,
    "start_time": "2022-11-24T04:03:18.621Z"
   },
   {
    "duration": 11,
    "start_time": "2022-11-24T04:03:28.623Z"
   },
   {
    "duration": 3,
    "start_time": "2022-11-24T04:04:45.936Z"
   },
   {
    "duration": 14,
    "start_time": "2022-11-24T04:04:58.781Z"
   },
   {
    "duration": 3,
    "start_time": "2022-11-24T04:05:18.693Z"
   },
   {
    "duration": 17,
    "start_time": "2022-11-24T04:05:19.819Z"
   },
   {
    "duration": 4,
    "start_time": "2022-11-24T04:06:16.712Z"
   },
   {
    "duration": 3,
    "start_time": "2022-11-24T04:06:26.787Z"
   },
   {
    "duration": 21,
    "start_time": "2022-11-24T04:06:27.907Z"
   },
   {
    "duration": 3,
    "start_time": "2022-11-24T04:06:36.460Z"
   },
   {
    "duration": 19,
    "start_time": "2022-11-24T04:06:37.531Z"
   },
   {
    "duration": 3,
    "start_time": "2022-11-24T04:08:12.880Z"
   },
   {
    "duration": 3,
    "start_time": "2022-11-24T04:08:25.953Z"
   },
   {
    "duration": 11,
    "start_time": "2022-11-24T04:08:26.106Z"
   },
   {
    "duration": 3,
    "start_time": "2022-11-24T04:08:41.845Z"
   },
   {
    "duration": 9,
    "start_time": "2022-11-24T04:08:42.133Z"
   },
   {
    "duration": 64,
    "start_time": "2022-11-24T04:08:50.663Z"
   },
   {
    "duration": 4,
    "start_time": "2022-11-24T04:09:16.101Z"
   },
   {
    "duration": 200,
    "start_time": "2022-11-24T04:09:16.483Z"
   },
   {
    "duration": 204,
    "start_time": "2022-11-24T04:09:24.827Z"
   },
   {
    "duration": 4,
    "start_time": "2022-11-24T04:10:28.671Z"
   },
   {
    "duration": 181,
    "start_time": "2022-11-24T04:10:28.958Z"
   },
   {
    "duration": 4,
    "start_time": "2022-11-24T04:11:06.400Z"
   },
   {
    "duration": 199,
    "start_time": "2022-11-24T04:11:06.997Z"
   },
   {
    "duration": 4,
    "start_time": "2022-11-24T04:11:20.440Z"
   },
   {
    "duration": 207,
    "start_time": "2022-11-24T04:11:20.913Z"
   },
   {
    "duration": 4,
    "start_time": "2022-11-24T04:11:30.988Z"
   },
   {
    "duration": 195,
    "start_time": "2022-11-24T04:11:31.321Z"
   },
   {
    "duration": 49,
    "start_time": "2022-11-24T04:11:42.714Z"
   },
   {
    "duration": 224,
    "start_time": "2022-11-24T04:11:43.934Z"
   },
   {
    "duration": 222,
    "start_time": "2022-11-24T04:11:49.241Z"
   },
   {
    "duration": 4,
    "start_time": "2022-11-24T04:12:09.527Z"
   },
   {
    "duration": 200,
    "start_time": "2022-11-24T04:12:18.314Z"
   },
   {
    "duration": 4,
    "start_time": "2022-11-24T04:13:39.082Z"
   },
   {
    "duration": 6084,
    "start_time": "2022-11-24T04:13:39.729Z"
   },
   {
    "duration": 4,
    "start_time": "2022-11-24T04:14:10.140Z"
   },
   {
    "duration": 4,
    "start_time": "2022-11-24T04:14:37.222Z"
   },
   {
    "duration": 6271,
    "start_time": "2022-11-24T04:14:38.191Z"
   },
   {
    "duration": 4,
    "start_time": "2022-11-24T04:15:18.242Z"
   },
   {
    "duration": 373,
    "start_time": "2022-11-24T04:15:20.189Z"
   },
   {
    "duration": 431,
    "start_time": "2022-11-24T04:15:52.433Z"
   },
   {
    "duration": 5,
    "start_time": "2022-11-24T04:15:53.257Z"
   },
   {
    "duration": 4,
    "start_time": "2022-11-24T04:16:30.699Z"
   },
   {
    "duration": 490,
    "start_time": "2022-11-24T04:16:31.502Z"
   },
   {
    "duration": 1264,
    "start_time": "2022-11-24T04:17:37.386Z"
   },
   {
    "duration": 12,
    "start_time": "2022-11-24T04:18:53.878Z"
   },
   {
    "duration": 1238,
    "start_time": "2022-11-24T04:19:04.059Z"
   },
   {
    "duration": 1441,
    "start_time": "2022-11-24T04:19:18.549Z"
   },
   {
    "duration": 1214,
    "start_time": "2022-11-24T04:19:33.977Z"
   },
   {
    "duration": 57,
    "start_time": "2022-11-24T04:20:23.954Z"
   },
   {
    "duration": 45,
    "start_time": "2022-11-24T04:20:36.709Z"
   },
   {
    "duration": 5,
    "start_time": "2022-11-24T04:20:39.785Z"
   },
   {
    "duration": 1233,
    "start_time": "2022-11-24T04:20:40.651Z"
   },
   {
    "duration": 4,
    "start_time": "2022-11-24T04:21:05.495Z"
   },
   {
    "duration": 1159,
    "start_time": "2022-11-24T04:21:06.430Z"
   },
   {
    "duration": 5,
    "start_time": "2022-11-24T04:21:17.997Z"
   },
   {
    "duration": 1241,
    "start_time": "2022-11-24T04:21:19.947Z"
   },
   {
    "duration": 4,
    "start_time": "2022-11-24T04:21:29.085Z"
   },
   {
    "duration": 1278,
    "start_time": "2022-11-24T04:21:31.622Z"
   },
   {
    "duration": 4,
    "start_time": "2022-11-24T04:22:04.917Z"
   },
   {
    "duration": 1405,
    "start_time": "2022-11-24T04:22:05.405Z"
   },
   {
    "duration": 4,
    "start_time": "2022-11-24T04:22:19.961Z"
   },
   {
    "duration": 1445,
    "start_time": "2022-11-24T04:22:21.552Z"
   },
   {
    "duration": 1460,
    "start_time": "2022-11-24T04:22:40.310Z"
   },
   {
    "duration": 3,
    "start_time": "2022-11-24T04:25:51.720Z"
   },
   {
    "duration": 10,
    "start_time": "2022-11-24T04:25:52.230Z"
   },
   {
    "duration": 4,
    "start_time": "2022-11-24T04:25:56.522Z"
   },
   {
    "duration": 1446,
    "start_time": "2022-11-24T04:25:57.749Z"
   },
   {
    "duration": 4,
    "start_time": "2022-11-24T04:28:15.111Z"
   },
   {
    "duration": 17,
    "start_time": "2022-11-24T04:28:39.822Z"
   },
   {
    "duration": 3,
    "start_time": "2022-11-24T04:28:53.758Z"
   },
   {
    "duration": 15,
    "start_time": "2022-11-24T04:28:54.118Z"
   },
   {
    "duration": 3,
    "start_time": "2022-11-24T04:29:37.023Z"
   },
   {
    "duration": 22,
    "start_time": "2022-11-24T04:29:37.532Z"
   },
   {
    "duration": 4,
    "start_time": "2022-11-24T04:29:58.585Z"
   },
   {
    "duration": 12,
    "start_time": "2022-11-24T04:29:59.260Z"
   },
   {
    "duration": 4,
    "start_time": "2022-11-24T04:30:19.824Z"
   },
   {
    "duration": 13,
    "start_time": "2022-11-24T04:30:20.754Z"
   },
   {
    "duration": 3,
    "start_time": "2022-11-24T04:30:31.627Z"
   },
   {
    "duration": 14,
    "start_time": "2022-11-24T04:30:32.170Z"
   },
   {
    "duration": 3,
    "start_time": "2022-11-24T04:30:44.843Z"
   },
   {
    "duration": 19,
    "start_time": "2022-11-24T04:30:45.094Z"
   },
   {
    "duration": 20,
    "start_time": "2022-11-24T04:31:15.154Z"
   },
   {
    "duration": 9,
    "start_time": "2022-11-24T04:31:29.154Z"
   },
   {
    "duration": 9,
    "start_time": "2022-11-24T04:31:34.995Z"
   },
   {
    "duration": 7,
    "start_time": "2022-11-24T04:32:15.998Z"
   },
   {
    "duration": 10,
    "start_time": "2022-11-24T04:32:20.340Z"
   },
   {
    "duration": 10,
    "start_time": "2022-11-24T04:32:30.626Z"
   },
   {
    "duration": 9,
    "start_time": "2022-11-24T04:32:35.343Z"
   },
   {
    "duration": 8,
    "start_time": "2022-11-24T04:32:39.179Z"
   },
   {
    "duration": 10,
    "start_time": "2022-11-24T04:32:43.095Z"
   },
   {
    "duration": 10,
    "start_time": "2022-11-24T04:33:07.174Z"
   },
   {
    "duration": 8,
    "start_time": "2022-11-24T04:33:12.720Z"
   },
   {
    "duration": 10,
    "start_time": "2022-11-24T04:33:24.271Z"
   },
   {
    "duration": 10,
    "start_time": "2022-11-24T04:33:27.726Z"
   },
   {
    "duration": 9,
    "start_time": "2022-11-24T04:33:30.593Z"
   },
   {
    "duration": 10,
    "start_time": "2022-11-24T04:33:47.828Z"
   },
   {
    "duration": 10,
    "start_time": "2022-11-24T04:33:51.487Z"
   },
   {
    "duration": 4,
    "start_time": "2022-11-24T04:35:44.179Z"
   },
   {
    "duration": 5,
    "start_time": "2022-11-24T04:36:35.251Z"
   },
   {
    "duration": 1633,
    "start_time": "2022-11-24T04:36:36.002Z"
   },
   {
    "duration": 66,
    "start_time": "2022-11-24T04:37:58.466Z"
   },
   {
    "duration": 54,
    "start_time": "2022-11-24T05:21:16.703Z"
   },
   {
    "duration": 3,
    "start_time": "2022-11-24T05:21:25.179Z"
   },
   {
    "duration": 4,
    "start_time": "2022-11-24T05:22:28.609Z"
   },
   {
    "duration": 15,
    "start_time": "2022-11-24T05:23:26.033Z"
   },
   {
    "duration": 4,
    "start_time": "2022-11-24T05:23:37.707Z"
   },
   {
    "duration": 28,
    "start_time": "2022-11-24T05:23:38.188Z"
   },
   {
    "duration": 25,
    "start_time": "2022-11-24T05:23:50.073Z"
   },
   {
    "duration": 24,
    "start_time": "2022-11-24T05:25:38.828Z"
   },
   {
    "duration": 94,
    "start_time": "2022-11-24T05:26:30.189Z"
   },
   {
    "duration": 41,
    "start_time": "2022-11-24T05:29:19.438Z"
   },
   {
    "duration": 3,
    "start_time": "2022-11-24T05:29:27.090Z"
   },
   {
    "duration": 3,
    "start_time": "2022-11-24T05:29:27.746Z"
   },
   {
    "duration": 11,
    "start_time": "2022-11-24T05:29:29.351Z"
   },
   {
    "duration": 4,
    "start_time": "2022-11-24T05:29:31.311Z"
   },
   {
    "duration": 5,
    "start_time": "2022-11-24T05:30:52.397Z"
   },
   {
    "duration": 3,
    "start_time": "2022-11-24T05:32:24.511Z"
   },
   {
    "duration": 20,
    "start_time": "2022-11-24T05:33:02.882Z"
   },
   {
    "duration": 4,
    "start_time": "2022-11-24T05:33:37.335Z"
   },
   {
    "duration": 4,
    "start_time": "2022-11-24T05:35:36.053Z"
   },
   {
    "duration": 18,
    "start_time": "2022-11-24T05:35:37.574Z"
   },
   {
    "duration": 48,
    "start_time": "2022-11-24T05:37:32.161Z"
   },
   {
    "duration": 44,
    "start_time": "2022-11-24T05:37:44.051Z"
   },
   {
    "duration": 47,
    "start_time": "2022-11-24T05:38:01.380Z"
   },
   {
    "duration": 3,
    "start_time": "2022-11-24T05:38:08.192Z"
   },
   {
    "duration": 25,
    "start_time": "2022-11-24T05:38:11.455Z"
   },
   {
    "duration": 4,
    "start_time": "2022-11-24T05:39:22.894Z"
   },
   {
    "duration": 27,
    "start_time": "2022-11-24T05:39:24.484Z"
   },
   {
    "duration": 28,
    "start_time": "2022-11-24T05:39:59.722Z"
   },
   {
    "duration": 4,
    "start_time": "2022-11-24T05:40:14.666Z"
   },
   {
    "duration": 23,
    "start_time": "2022-11-24T05:40:19.174Z"
   },
   {
    "duration": 4,
    "start_time": "2022-11-24T05:40:29.449Z"
   },
   {
    "duration": 91,
    "start_time": "2022-11-24T05:40:30.747Z"
   },
   {
    "duration": 7,
    "start_time": "2022-11-24T05:40:41.959Z"
   },
   {
    "duration": 4,
    "start_time": "2022-11-24T05:40:54.537Z"
   },
   {
    "duration": 5,
    "start_time": "2022-11-24T05:41:06.197Z"
   },
   {
    "duration": 206,
    "start_time": "2022-11-24T05:41:08.032Z"
   },
   {
    "duration": 4,
    "start_time": "2022-11-24T05:41:08.473Z"
   },
   {
    "duration": 1639,
    "start_time": "2022-11-24T16:52:56.381Z"
   },
   {
    "duration": 1620,
    "start_time": "2022-11-24T16:52:58.022Z"
   },
   {
    "duration": 4,
    "start_time": "2022-11-24T16:52:59.643Z"
   },
   {
    "duration": 19,
    "start_time": "2022-11-24T16:52:59.650Z"
   },
   {
    "duration": 6,
    "start_time": "2022-11-24T16:52:59.671Z"
   },
   {
    "duration": 2028,
    "start_time": "2022-11-24T16:52:59.679Z"
   },
   {
    "duration": 3,
    "start_time": "2022-11-24T16:53:01.709Z"
   },
   {
    "duration": 11,
    "start_time": "2022-11-24T16:53:01.714Z"
   },
   {
    "duration": 24,
    "start_time": "2022-11-24T16:53:01.727Z"
   },
   {
    "duration": 33,
    "start_time": "2022-11-24T16:53:01.754Z"
   },
   {
    "duration": 4,
    "start_time": "2022-11-24T16:53:01.789Z"
   },
   {
    "duration": 171,
    "start_time": "2022-11-24T16:53:01.795Z"
   },
   {
    "duration": 4,
    "start_time": "2022-11-24T16:53:01.969Z"
   },
   {
    "duration": 223,
    "start_time": "2022-11-24T16:53:02.052Z"
   },
   {
    "duration": 0,
    "start_time": "2022-11-24T16:53:02.277Z"
   },
   {
    "duration": 0,
    "start_time": "2022-11-24T16:53:02.279Z"
   },
   {
    "duration": 0,
    "start_time": "2022-11-24T16:53:02.280Z"
   },
   {
    "duration": 0,
    "start_time": "2022-11-24T16:53:02.282Z"
   },
   {
    "duration": 0,
    "start_time": "2022-11-24T16:53:02.283Z"
   },
   {
    "duration": 0,
    "start_time": "2022-11-24T16:53:02.285Z"
   },
   {
    "duration": 0,
    "start_time": "2022-11-24T16:53:02.287Z"
   },
   {
    "duration": 0,
    "start_time": "2022-11-24T16:53:02.288Z"
   },
   {
    "duration": 0,
    "start_time": "2022-11-24T16:53:02.289Z"
   },
   {
    "duration": 0,
    "start_time": "2022-11-24T16:53:02.291Z"
   },
   {
    "duration": 0,
    "start_time": "2022-11-24T16:53:02.292Z"
   },
   {
    "duration": 0,
    "start_time": "2022-11-24T16:53:02.294Z"
   },
   {
    "duration": 0,
    "start_time": "2022-11-24T16:53:02.295Z"
   },
   {
    "duration": 0,
    "start_time": "2022-11-24T16:53:02.296Z"
   },
   {
    "duration": 0,
    "start_time": "2022-11-24T16:53:02.298Z"
   },
   {
    "duration": 0,
    "start_time": "2022-11-24T16:53:02.299Z"
   },
   {
    "duration": 0,
    "start_time": "2022-11-24T16:53:02.300Z"
   },
   {
    "duration": 0,
    "start_time": "2022-11-24T16:53:02.302Z"
   },
   {
    "duration": 0,
    "start_time": "2022-11-24T16:53:02.303Z"
   },
   {
    "duration": 0,
    "start_time": "2022-11-24T16:53:02.350Z"
   },
   {
    "duration": 67,
    "start_time": "2022-11-24T16:55:19.102Z"
   },
   {
    "duration": 71,
    "start_time": "2022-11-24T16:55:29.463Z"
   },
   {
    "duration": 8,
    "start_time": "2022-11-24T16:55:38.883Z"
   },
   {
    "duration": 10,
    "start_time": "2022-11-24T16:55:47.595Z"
   },
   {
    "duration": 78,
    "start_time": "2022-11-24T16:55:52.160Z"
   },
   {
    "duration": 9,
    "start_time": "2022-11-24T16:56:01.842Z"
   },
   {
    "duration": 2,
    "start_time": "2022-11-24T16:57:17.377Z"
   },
   {
    "duration": 3,
    "start_time": "2022-11-24T16:57:17.658Z"
   },
   {
    "duration": 3,
    "start_time": "2022-11-24T16:57:18.056Z"
   },
   {
    "duration": 3,
    "start_time": "2022-11-24T16:57:18.331Z"
   },
   {
    "duration": 4,
    "start_time": "2022-11-24T16:57:50.130Z"
   },
   {
    "duration": 3,
    "start_time": "2022-11-24T16:58:44.613Z"
   },
   {
    "duration": 4,
    "start_time": "2022-11-24T16:58:45.903Z"
   },
   {
    "duration": 2,
    "start_time": "2022-11-24T16:58:47.075Z"
   },
   {
    "duration": 13,
    "start_time": "2022-11-24T17:01:27.428Z"
   },
   {
    "duration": 4,
    "start_time": "2022-11-24T17:02:54.170Z"
   },
   {
    "duration": 13,
    "start_time": "2022-11-24T17:02:55.791Z"
   },
   {
    "duration": 16,
    "start_time": "2022-11-24T17:03:19.951Z"
   },
   {
    "duration": 5097,
    "start_time": "2022-11-24T17:03:45.455Z"
   },
   {
    "duration": 40,
    "start_time": "2022-11-24T17:04:36.157Z"
   },
   {
    "duration": 45,
    "start_time": "2022-11-24T17:06:30.764Z"
   },
   {
    "duration": 5,
    "start_time": "2022-11-24T17:08:08.070Z"
   },
   {
    "duration": 3,
    "start_time": "2022-11-24T17:08:24.523Z"
   },
   {
    "duration": 5,
    "start_time": "2022-11-24T17:08:26.974Z"
   },
   {
    "duration": 5,
    "start_time": "2022-11-24T17:09:35.435Z"
   },
   {
    "duration": 42,
    "start_time": "2022-11-24T17:09:40.652Z"
   },
   {
    "duration": 4,
    "start_time": "2022-11-24T17:09:41.794Z"
   },
   {
    "duration": 4,
    "start_time": "2022-11-24T17:09:46.564Z"
   },
   {
    "duration": 214,
    "start_time": "2022-11-24T17:09:48.040Z"
   },
   {
    "duration": 7,
    "start_time": "2022-11-24T17:09:49.756Z"
   },
   {
    "duration": 7,
    "start_time": "2022-11-24T17:09:52.323Z"
   },
   {
    "duration": 3,
    "start_time": "2022-11-24T17:09:54.361Z"
   },
   {
    "duration": 3,
    "start_time": "2022-11-24T17:09:54.709Z"
   },
   {
    "duration": 3,
    "start_time": "2022-11-24T17:09:54.999Z"
   },
   {
    "duration": 3,
    "start_time": "2022-11-24T17:09:55.204Z"
   },
   {
    "duration": 5,
    "start_time": "2022-11-24T17:09:55.589Z"
   },
   {
    "duration": 4,
    "start_time": "2022-11-24T17:09:57.890Z"
   },
   {
    "duration": 3,
    "start_time": "2022-11-24T17:09:59.544Z"
   },
   {
    "duration": 5,
    "start_time": "2022-11-24T17:09:59.903Z"
   },
   {
    "duration": 4,
    "start_time": "2022-11-24T17:10:01.333Z"
   },
   {
    "duration": 81,
    "start_time": "2022-11-24T17:10:22.608Z"
   },
   {
    "duration": 5156,
    "start_time": "2022-11-24T17:10:40.568Z"
   },
   {
    "duration": 41,
    "start_time": "2022-11-24T17:11:31.999Z"
   },
   {
    "duration": 7,
    "start_time": "2022-11-24T17:12:06.523Z"
   },
   {
    "duration": 324,
    "start_time": "2022-11-24T17:12:11.204Z"
   },
   {
    "duration": 57,
    "start_time": "2022-11-24T17:12:59.589Z"
   },
   {
    "duration": 1576,
    "start_time": "2022-11-25T03:36:58.068Z"
   },
   {
    "duration": 2094,
    "start_time": "2022-11-25T03:36:59.646Z"
   },
   {
    "duration": 2,
    "start_time": "2022-11-25T03:37:01.742Z"
   },
   {
    "duration": 17,
    "start_time": "2022-11-25T03:37:01.746Z"
   },
   {
    "duration": 4,
    "start_time": "2022-11-25T03:37:01.765Z"
   },
   {
    "duration": 1817,
    "start_time": "2022-11-25T03:37:01.771Z"
   },
   {
    "duration": 4,
    "start_time": "2022-11-25T03:37:03.589Z"
   },
   {
    "duration": 11,
    "start_time": "2022-11-25T03:37:03.595Z"
   },
   {
    "duration": 5,
    "start_time": "2022-11-25T03:37:03.608Z"
   },
   {
    "duration": 46,
    "start_time": "2022-11-25T03:37:03.615Z"
   },
   {
    "duration": 5,
    "start_time": "2022-11-25T03:37:03.663Z"
   },
   {
    "duration": 176,
    "start_time": "2022-11-25T03:37:03.669Z"
   },
   {
    "duration": 89,
    "start_time": "2022-11-25T03:37:03.849Z"
   },
   {
    "duration": 110,
    "start_time": "2022-11-25T03:37:03.940Z"
   },
   {
    "duration": 15,
    "start_time": "2022-11-25T03:37:04.051Z"
   },
   {
    "duration": 23,
    "start_time": "2022-11-25T03:37:04.067Z"
   },
   {
    "duration": 9,
    "start_time": "2022-11-25T03:37:04.092Z"
   },
   {
    "duration": 18,
    "start_time": "2022-11-25T03:37:04.102Z"
   },
   {
    "duration": 17,
    "start_time": "2022-11-25T03:37:04.121Z"
   },
   {
    "duration": 40,
    "start_time": "2022-11-25T03:37:04.141Z"
   },
   {
    "duration": 18,
    "start_time": "2022-11-25T03:37:04.183Z"
   },
   {
    "duration": 30,
    "start_time": "2022-11-25T03:37:04.205Z"
   },
   {
    "duration": 22,
    "start_time": "2022-11-25T03:37:04.237Z"
   },
   {
    "duration": 134,
    "start_time": "2022-11-25T03:37:33.217Z"
   },
   {
    "duration": 4494,
    "start_time": "2022-11-25T03:38:02.226Z"
   },
   {
    "duration": 33,
    "start_time": "2022-11-25T03:38:10.847Z"
   },
   {
    "duration": 3,
    "start_time": "2022-11-25T03:41:07.174Z"
   },
   {
    "duration": 29,
    "start_time": "2022-11-25T03:41:21.789Z"
   },
   {
    "duration": 5,
    "start_time": "2022-11-25T03:41:44.502Z"
   },
   {
    "duration": 5,
    "start_time": "2022-11-25T03:42:24.198Z"
   },
   {
    "duration": 80,
    "start_time": "2022-11-25T03:42:30.698Z"
   },
   {
    "duration": 14,
    "start_time": "2022-11-25T03:42:34.038Z"
   },
   {
    "duration": 10,
    "start_time": "2022-11-25T03:42:41.077Z"
   },
   {
    "duration": 5,
    "start_time": "2022-11-25T03:42:45.370Z"
   },
   {
    "duration": 39,
    "start_time": "2022-11-25T03:42:51.323Z"
   },
   {
    "duration": 6,
    "start_time": "2022-11-25T03:42:58.853Z"
   },
   {
    "duration": 7,
    "start_time": "2022-11-25T03:43:20.868Z"
   },
   {
    "duration": 5,
    "start_time": "2022-11-25T03:43:25.730Z"
   },
   {
    "duration": 14,
    "start_time": "2022-11-25T03:43:39.853Z"
   },
   {
    "duration": 80,
    "start_time": "2022-11-25T03:43:43.918Z"
   },
   {
    "duration": 5,
    "start_time": "2022-11-25T03:43:46.624Z"
   },
   {
    "duration": 41,
    "start_time": "2022-11-25T03:45:08.815Z"
   },
   {
    "duration": 9,
    "start_time": "2022-11-25T03:45:51.885Z"
   },
   {
    "duration": 12,
    "start_time": "2022-11-25T03:45:58.953Z"
   },
   {
    "duration": 9,
    "start_time": "2022-11-25T03:46:08.179Z"
   },
   {
    "duration": 4,
    "start_time": "2022-11-25T03:46:11.527Z"
   },
   {
    "duration": 16,
    "start_time": "2022-11-25T03:46:15.838Z"
   },
   {
    "duration": 95,
    "start_time": "2022-11-25T03:46:24.006Z"
   },
   {
    "duration": 28,
    "start_time": "2022-11-25T03:46:26.936Z"
   },
   {
    "duration": 4,
    "start_time": "2022-11-25T03:47:26.278Z"
   },
   {
    "duration": 12,
    "start_time": "2022-11-25T03:47:30.822Z"
   },
   {
    "duration": 7,
    "start_time": "2022-11-25T03:47:56.916Z"
   },
   {
    "duration": 10,
    "start_time": "2022-11-25T03:48:18.239Z"
   },
   {
    "duration": 7,
    "start_time": "2022-11-25T03:48:23.290Z"
   },
   {
    "duration": 7,
    "start_time": "2022-11-25T03:48:30.718Z"
   },
   {
    "duration": 7,
    "start_time": "2022-11-25T03:48:57.202Z"
   },
   {
    "duration": 5,
    "start_time": "2022-11-25T03:49:16.868Z"
   },
   {
    "duration": 5,
    "start_time": "2022-11-25T03:49:27.366Z"
   },
   {
    "duration": 66,
    "start_time": "2022-11-25T03:49:29.386Z"
   },
   {
    "duration": 5,
    "start_time": "2022-11-25T03:49:29.826Z"
   },
   {
    "duration": 3,
    "start_time": "2022-11-25T03:49:41.407Z"
   },
   {
    "duration": 5,
    "start_time": "2022-11-25T03:49:43.854Z"
   },
   {
    "duration": 5,
    "start_time": "2022-11-25T03:49:45.661Z"
   },
   {
    "duration": 5,
    "start_time": "2022-11-25T03:49:48.553Z"
   },
   {
    "duration": 7,
    "start_time": "2022-11-25T03:49:51.138Z"
   },
   {
    "duration": 25,
    "start_time": "2022-11-25T03:49:52.136Z"
   },
   {
    "duration": 9,
    "start_time": "2022-11-25T03:49:56.920Z"
   },
   {
    "duration": 5,
    "start_time": "2022-11-25T03:50:11.423Z"
   },
   {
    "duration": 6,
    "start_time": "2022-11-25T03:50:28.268Z"
   },
   {
    "duration": 6,
    "start_time": "2022-11-25T03:50:41.310Z"
   },
   {
    "duration": 4,
    "start_time": "2022-11-25T03:50:51.827Z"
   },
   {
    "duration": 3,
    "start_time": "2022-11-25T03:51:13.099Z"
   },
   {
    "duration": 4042,
    "start_time": "2022-11-25T03:51:29.469Z"
   },
   {
    "duration": 77,
    "start_time": "2022-11-25T03:51:33.513Z"
   },
   {
    "duration": 17,
    "start_time": "2022-11-25T03:51:42.043Z"
   },
   {
    "duration": 14,
    "start_time": "2022-11-25T03:51:57.795Z"
   },
   {
    "duration": 9,
    "start_time": "2022-11-25T03:52:06.764Z"
   },
   {
    "duration": 9,
    "start_time": "2022-11-25T03:52:25.526Z"
   },
   {
    "duration": 4144,
    "start_time": "2022-11-25T03:52:42.929Z"
   },
   {
    "duration": 6,
    "start_time": "2022-11-25T03:52:48.936Z"
   },
   {
    "duration": 5,
    "start_time": "2022-11-25T03:53:01.181Z"
   },
   {
    "duration": 4,
    "start_time": "2022-11-25T03:53:06.186Z"
   },
   {
    "duration": 6,
    "start_time": "2022-11-25T03:53:28.979Z"
   },
   {
    "duration": 1400,
    "start_time": "2022-11-25T03:55:01.451Z"
   },
   {
    "duration": 4,
    "start_time": "2022-11-25T03:55:25.281Z"
   },
   {
    "duration": 1347,
    "start_time": "2022-11-25T03:55:40.951Z"
   },
   {
    "duration": 75,
    "start_time": "2022-11-25T03:55:57.415Z"
   },
   {
    "duration": 6,
    "start_time": "2022-11-25T03:57:22.657Z"
   },
   {
    "duration": 7,
    "start_time": "2022-11-25T03:57:27.095Z"
   },
   {
    "duration": 74,
    "start_time": "2022-11-25T03:57:31.980Z"
   },
   {
    "duration": 6,
    "start_time": "2022-11-25T03:57:39.575Z"
   },
   {
    "duration": 80,
    "start_time": "2022-11-25T03:57:54.779Z"
   },
   {
    "duration": 1449,
    "start_time": "2022-11-25T03:58:12.771Z"
   },
   {
    "duration": 4,
    "start_time": "2022-11-25T03:58:21.790Z"
   },
   {
    "duration": 9,
    "start_time": "2022-11-25T03:58:39.695Z"
   },
   {
    "duration": 6,
    "start_time": "2022-11-25T03:58:46.951Z"
   },
   {
    "duration": 10,
    "start_time": "2022-11-25T03:58:55.228Z"
   },
   {
    "duration": 4,
    "start_time": "2022-11-25T03:58:57.993Z"
   },
   {
    "duration": 5,
    "start_time": "2022-11-25T03:59:03.060Z"
   },
   {
    "duration": 1375,
    "start_time": "2022-11-25T03:59:45.068Z"
   },
   {
    "duration": 4184,
    "start_time": "2022-11-25T04:00:27.819Z"
   },
   {
    "duration": 3,
    "start_time": "2022-11-25T04:00:37.711Z"
   },
   {
    "duration": 8,
    "start_time": "2022-11-25T04:00:50.226Z"
   },
   {
    "duration": 10,
    "start_time": "2022-11-25T04:01:05.825Z"
   },
   {
    "duration": 23,
    "start_time": "2022-11-25T04:01:11.130Z"
   },
   {
    "duration": 4486,
    "start_time": "2022-11-25T04:01:16.199Z"
   },
   {
    "duration": 10,
    "start_time": "2022-11-25T04:01:20.687Z"
   },
   {
    "duration": 4,
    "start_time": "2022-11-25T04:01:56.759Z"
   },
   {
    "duration": 4146,
    "start_time": "2022-11-25T04:02:06.371Z"
   },
   {
    "duration": 4,
    "start_time": "2022-11-25T04:02:12.576Z"
   },
   {
    "duration": 4169,
    "start_time": "2022-11-25T04:02:22.163Z"
   },
   {
    "duration": 7,
    "start_time": "2022-11-25T04:02:30.447Z"
   },
   {
    "duration": 3,
    "start_time": "2022-11-25T04:02:46.184Z"
   },
   {
    "duration": 4053,
    "start_time": "2022-11-25T04:02:49.437Z"
   },
   {
    "duration": 3,
    "start_time": "2022-11-25T04:02:53.492Z"
   },
   {
    "duration": 3,
    "start_time": "2022-11-25T04:04:18.077Z"
   },
   {
    "duration": 4231,
    "start_time": "2022-11-25T04:04:28.196Z"
   },
   {
    "duration": 4125,
    "start_time": "2022-11-25T04:07:02.178Z"
   },
   {
    "duration": 5,
    "start_time": "2022-11-25T04:07:12.684Z"
   },
   {
    "duration": 4284,
    "start_time": "2022-11-25T04:07:32.213Z"
   },
   {
    "duration": 5,
    "start_time": "2022-11-25T04:07:37.650Z"
   },
   {
    "duration": 6,
    "start_time": "2022-11-25T04:10:27.467Z"
   },
   {
    "duration": 4,
    "start_time": "2022-11-25T04:10:31.422Z"
   },
   {
    "duration": 4,
    "start_time": "2022-11-25T04:10:44.558Z"
   },
   {
    "duration": 7,
    "start_time": "2022-11-25T04:13:36.462Z"
   },
   {
    "duration": 6,
    "start_time": "2022-11-25T04:13:46.290Z"
   },
   {
    "duration": 3,
    "start_time": "2022-11-25T04:15:58.084Z"
   },
   {
    "duration": 8,
    "start_time": "2022-11-25T04:15:59.157Z"
   },
   {
    "duration": 9,
    "start_time": "2022-11-25T04:16:05.266Z"
   },
   {
    "duration": 9,
    "start_time": "2022-11-25T04:16:09.152Z"
   },
   {
    "duration": 9,
    "start_time": "2022-11-25T04:16:13.298Z"
   },
   {
    "duration": 74,
    "start_time": "2022-11-25T04:17:56.846Z"
   },
   {
    "duration": 2087,
    "start_time": "2022-11-25T04:24:25.509Z"
   },
   {
    "duration": 1937,
    "start_time": "2022-11-25T04:24:34.274Z"
   },
   {
    "duration": 76,
    "start_time": "2022-11-25T04:26:52.740Z"
   },
   {
    "duration": 1896,
    "start_time": "2022-11-25T04:27:01.516Z"
   },
   {
    "duration": 66,
    "start_time": "2022-11-25T04:29:06.566Z"
   },
   {
    "duration": 1804,
    "start_time": "2022-11-25T04:29:12.538Z"
   },
   {
    "duration": 125,
    "start_time": "2022-11-25T04:30:18.237Z"
   },
   {
    "duration": 79,
    "start_time": "2022-11-25T04:32:42.953Z"
   },
   {
    "duration": 1758,
    "start_time": "2022-11-25T04:33:01.551Z"
   },
   {
    "duration": 1875,
    "start_time": "2022-11-25T04:33:16.732Z"
   },
   {
    "duration": 13,
    "start_time": "2022-11-25T04:38:02.000Z"
   },
   {
    "duration": 571,
    "start_time": "2022-11-25T04:38:05.738Z"
   },
   {
    "duration": 1528,
    "start_time": "2022-11-25T11:41:26.347Z"
   },
   {
    "duration": 1647,
    "start_time": "2022-11-25T11:41:27.877Z"
   },
   {
    "duration": 2,
    "start_time": "2022-11-25T11:41:29.526Z"
   },
   {
    "duration": 50,
    "start_time": "2022-11-25T11:41:29.530Z"
   },
   {
    "duration": 599,
    "start_time": "2022-11-25T11:41:29.582Z"
   },
   {
    "duration": 4,
    "start_time": "2022-11-25T11:41:30.182Z"
   },
   {
    "duration": 40,
    "start_time": "2022-11-25T11:41:30.187Z"
   },
   {
    "duration": 61,
    "start_time": "2022-11-25T11:41:30.228Z"
   },
   {
    "duration": 80,
    "start_time": "2022-11-25T11:41:30.290Z"
   },
   {
    "duration": 17,
    "start_time": "2022-11-25T11:41:30.371Z"
   },
   {
    "duration": 388,
    "start_time": "2022-11-25T11:41:30.390Z"
   },
   {
    "duration": 5,
    "start_time": "2022-11-25T11:41:30.780Z"
   },
   {
    "duration": 128,
    "start_time": "2022-11-25T11:41:30.787Z"
   },
   {
    "duration": 12,
    "start_time": "2022-11-25T11:41:30.918Z"
   },
   {
    "duration": 40,
    "start_time": "2022-11-25T11:41:30.932Z"
   },
   {
    "duration": 45,
    "start_time": "2022-11-25T11:41:30.974Z"
   },
   {
    "duration": 37,
    "start_time": "2022-11-25T11:41:31.021Z"
   },
   {
    "duration": 29,
    "start_time": "2022-11-25T11:41:31.059Z"
   },
   {
    "duration": 36,
    "start_time": "2022-11-25T11:41:31.090Z"
   },
   {
    "duration": 22,
    "start_time": "2022-11-25T11:41:31.128Z"
   },
   {
    "duration": 3759,
    "start_time": "2022-11-25T11:41:31.151Z"
   },
   {
    "duration": 4,
    "start_time": "2022-11-25T11:41:34.912Z"
   },
   {
    "duration": 29,
    "start_time": "2022-11-25T11:41:34.917Z"
   },
   {
    "duration": 536,
    "start_time": "2022-11-25T11:42:38.702Z"
   },
   {
    "duration": 585,
    "start_time": "2022-11-25T11:42:50.003Z"
   },
   {
    "duration": 490,
    "start_time": "2022-11-25T11:42:58.253Z"
   },
   {
    "duration": 519,
    "start_time": "2022-11-25T11:43:07.193Z"
   },
   {
    "duration": 1638,
    "start_time": "2022-11-25T11:43:38.482Z"
   },
   {
    "duration": 68,
    "start_time": "2022-11-25T11:49:07.392Z"
   },
   {
    "duration": 1510,
    "start_time": "2022-11-26T12:11:44.471Z"
   },
   {
    "duration": 1675,
    "start_time": "2022-11-26T12:11:45.983Z"
   },
   {
    "duration": 2,
    "start_time": "2022-11-26T12:11:47.660Z"
   },
   {
    "duration": 10,
    "start_time": "2022-11-26T12:11:47.663Z"
   },
   {
    "duration": 1936,
    "start_time": "2022-11-26T12:11:47.675Z"
   },
   {
    "duration": 3,
    "start_time": "2022-11-26T12:11:49.613Z"
   },
   {
    "duration": 21,
    "start_time": "2022-11-26T12:11:49.617Z"
   },
   {
    "duration": 6,
    "start_time": "2022-11-26T12:11:49.639Z"
   },
   {
    "duration": 33,
    "start_time": "2022-11-26T12:11:49.647Z"
   },
   {
    "duration": 4,
    "start_time": "2022-11-26T12:11:49.682Z"
   },
   {
    "duration": 459,
    "start_time": "2022-11-26T12:11:49.688Z"
   },
   {
    "duration": 88,
    "start_time": "2022-11-26T12:11:50.149Z"
   },
   {
    "duration": 107,
    "start_time": "2022-11-26T12:11:50.240Z"
   },
   {
    "duration": 3,
    "start_time": "2022-11-26T12:11:50.350Z"
   },
   {
    "duration": 5,
    "start_time": "2022-11-26T12:11:50.354Z"
   },
   {
    "duration": 9,
    "start_time": "2022-11-26T12:11:50.360Z"
   },
   {
    "duration": 7,
    "start_time": "2022-11-26T12:11:50.370Z"
   },
   {
    "duration": 7,
    "start_time": "2022-11-26T12:11:50.379Z"
   },
   {
    "duration": 6,
    "start_time": "2022-11-26T12:11:50.388Z"
   },
   {
    "duration": 11,
    "start_time": "2022-11-26T12:11:50.395Z"
   },
   {
    "duration": 3856,
    "start_time": "2022-11-26T12:11:50.408Z"
   },
   {
    "duration": 4,
    "start_time": "2022-11-26T12:11:54.265Z"
   },
   {
    "duration": 6,
    "start_time": "2022-11-26T12:11:54.271Z"
   },
   {
    "duration": 4,
    "start_time": "2022-11-26T12:17:59.633Z"
   },
   {
    "duration": 123,
    "start_time": "2022-11-26T12:18:45.307Z"
   },
   {
    "duration": 3,
    "start_time": "2022-11-26T12:22:55.452Z"
   },
   {
    "duration": 2,
    "start_time": "2022-11-26T12:23:16.263Z"
   },
   {
    "duration": 3,
    "start_time": "2022-11-26T12:23:51.132Z"
   },
   {
    "duration": 2,
    "start_time": "2022-11-26T12:23:51.824Z"
   },
   {
    "duration": 3,
    "start_time": "2022-11-26T12:24:43.649Z"
   },
   {
    "duration": 5,
    "start_time": "2022-11-26T12:25:08.757Z"
   },
   {
    "duration": 3873,
    "start_time": "2022-11-26T12:31:20.372Z"
   },
   {
    "duration": 4,
    "start_time": "2022-11-26T12:31:24.247Z"
   },
   {
    "duration": 106,
    "start_time": "2022-11-26T12:41:33.234Z"
   },
   {
    "duration": 9,
    "start_time": "2022-11-26T12:41:40.585Z"
   },
   {
    "duration": 5,
    "start_time": "2022-11-26T12:41:45.659Z"
   },
   {
    "duration": 4,
    "start_time": "2022-11-26T12:42:52.307Z"
   },
   {
    "duration": 4,
    "start_time": "2022-11-26T12:43:04.769Z"
   },
   {
    "duration": 419,
    "start_time": "2022-11-26T12:43:04.777Z"
   },
   {
    "duration": 3,
    "start_time": "2022-11-26T12:43:05.198Z"
   },
   {
    "duration": 6,
    "start_time": "2022-11-26T12:43:05.203Z"
   },
   {
    "duration": 1786,
    "start_time": "2022-11-26T12:43:05.211Z"
   },
   {
    "duration": 38,
    "start_time": "2022-11-26T12:43:06.999Z"
   },
   {
    "duration": 10,
    "start_time": "2022-11-26T12:43:07.040Z"
   },
   {
    "duration": 7,
    "start_time": "2022-11-26T12:43:07.051Z"
   },
   {
    "duration": 28,
    "start_time": "2022-11-26T12:43:07.059Z"
   },
   {
    "duration": 4,
    "start_time": "2022-11-26T12:43:07.089Z"
   },
   {
    "duration": 151,
    "start_time": "2022-11-26T12:43:07.096Z"
   },
   {
    "duration": 101,
    "start_time": "2022-11-26T12:43:07.338Z"
   },
   {
    "duration": 3,
    "start_time": "2022-11-26T12:43:07.441Z"
   },
   {
    "duration": 5,
    "start_time": "2022-11-26T12:43:07.445Z"
   },
   {
    "duration": 5,
    "start_time": "2022-11-26T12:43:07.452Z"
   },
   {
    "duration": 5,
    "start_time": "2022-11-26T12:43:07.459Z"
   },
   {
    "duration": 10,
    "start_time": "2022-11-26T12:43:07.466Z"
   },
   {
    "duration": 7,
    "start_time": "2022-11-26T12:43:07.478Z"
   },
   {
    "duration": 4,
    "start_time": "2022-11-26T12:43:07.487Z"
   },
   {
    "duration": 1377,
    "start_time": "2022-11-26T12:43:07.493Z"
   },
   {
    "duration": 0,
    "start_time": "2022-11-26T12:43:08.873Z"
   },
   {
    "duration": 3917,
    "start_time": "2022-11-26T12:43:33.485Z"
   },
   {
    "duration": 4,
    "start_time": "2022-11-26T12:43:37.404Z"
   },
   {
    "duration": 4,
    "start_time": "2022-11-26T12:43:42.697Z"
   },
   {
    "duration": 4,
    "start_time": "2022-11-26T12:44:38.098Z"
   },
   {
    "duration": 4,
    "start_time": "2022-11-26T12:44:39.939Z"
   },
   {
    "duration": 4152,
    "start_time": "2022-11-26T12:44:47.627Z"
   },
   {
    "duration": 4,
    "start_time": "2022-11-26T12:44:51.781Z"
   },
   {
    "duration": 10,
    "start_time": "2022-11-26T12:45:42.731Z"
   },
   {
    "duration": 70,
    "start_time": "2022-11-26T12:46:04.279Z"
   },
   {
    "duration": 9,
    "start_time": "2022-11-26T12:46:08.632Z"
   },
   {
    "duration": 11,
    "start_time": "2022-11-26T12:46:21.498Z"
   },
   {
    "duration": 10,
    "start_time": "2022-11-26T12:46:33.838Z"
   },
   {
    "duration": 9,
    "start_time": "2022-11-26T12:47:55.267Z"
   },
   {
    "duration": 3,
    "start_time": "2022-11-26T12:48:06.566Z"
   },
   {
    "duration": 8,
    "start_time": "2022-11-26T12:48:09.690Z"
   },
   {
    "duration": 8,
    "start_time": "2022-11-26T12:48:22.351Z"
   },
   {
    "duration": 69,
    "start_time": "2022-11-26T12:49:13.369Z"
   },
   {
    "duration": 4,
    "start_time": "2022-11-26T12:55:55.023Z"
   },
   {
    "duration": 4,
    "start_time": "2022-11-26T13:27:05.723Z"
   },
   {
    "duration": 401,
    "start_time": "2022-11-26T13:27:05.732Z"
   },
   {
    "duration": 8,
    "start_time": "2022-11-26T13:27:06.135Z"
   },
   {
    "duration": 6,
    "start_time": "2022-11-26T13:27:06.145Z"
   },
   {
    "duration": 1649,
    "start_time": "2022-11-26T13:27:06.153Z"
   },
   {
    "duration": 3,
    "start_time": "2022-11-26T13:27:07.804Z"
   },
   {
    "duration": 10,
    "start_time": "2022-11-26T13:27:07.809Z"
   },
   {
    "duration": 18,
    "start_time": "2022-11-26T13:27:07.821Z"
   },
   {
    "duration": 38,
    "start_time": "2022-11-26T13:27:07.841Z"
   },
   {
    "duration": 4,
    "start_time": "2022-11-26T13:27:07.881Z"
   },
   {
    "duration": 252,
    "start_time": "2022-11-26T13:27:07.888Z"
   },
   {
    "duration": 95,
    "start_time": "2022-11-26T13:27:08.142Z"
   },
   {
    "duration": 26,
    "start_time": "2022-11-26T13:27:08.240Z"
   },
   {
    "duration": 19,
    "start_time": "2022-11-26T13:27:08.268Z"
   },
   {
    "duration": 20,
    "start_time": "2022-11-26T13:27:08.289Z"
   },
   {
    "duration": 19,
    "start_time": "2022-11-26T13:27:08.311Z"
   },
   {
    "duration": 14,
    "start_time": "2022-11-26T13:27:08.337Z"
   },
   {
    "duration": 19,
    "start_time": "2022-11-26T13:27:08.353Z"
   },
   {
    "duration": 28,
    "start_time": "2022-11-26T13:27:08.374Z"
   },
   {
    "duration": 3961,
    "start_time": "2022-11-26T13:27:08.404Z"
   },
   {
    "duration": 7,
    "start_time": "2022-11-26T13:27:12.366Z"
   },
   {
    "duration": 5,
    "start_time": "2022-11-26T13:27:12.374Z"
   },
   {
    "duration": 5,
    "start_time": "2022-11-26T13:27:12.381Z"
   },
   {
    "duration": 1669,
    "start_time": "2022-11-26T18:42:10.843Z"
   },
   {
    "duration": 1678,
    "start_time": "2022-11-26T18:42:12.514Z"
   },
   {
    "duration": 2,
    "start_time": "2022-11-26T18:42:14.194Z"
   },
   {
    "duration": 8,
    "start_time": "2022-11-26T18:42:14.198Z"
   },
   {
    "duration": 1909,
    "start_time": "2022-11-26T18:42:14.207Z"
   },
   {
    "duration": 4,
    "start_time": "2022-11-26T18:42:16.117Z"
   },
   {
    "duration": 12,
    "start_time": "2022-11-26T18:42:16.123Z"
   },
   {
    "duration": 9,
    "start_time": "2022-11-26T18:42:16.151Z"
   },
   {
    "duration": 57,
    "start_time": "2022-11-26T18:42:16.161Z"
   },
   {
    "duration": 5,
    "start_time": "2022-11-26T18:42:16.221Z"
   },
   {
    "duration": 235,
    "start_time": "2022-11-26T18:42:16.228Z"
   },
   {
    "duration": 87,
    "start_time": "2022-11-26T18:42:16.465Z"
   },
   {
    "duration": 17,
    "start_time": "2022-11-26T18:42:16.555Z"
   },
   {
    "duration": 5,
    "start_time": "2022-11-26T18:42:16.574Z"
   },
   {
    "duration": 4,
    "start_time": "2022-11-26T18:42:16.581Z"
   },
   {
    "duration": 7,
    "start_time": "2022-11-26T18:42:16.586Z"
   },
   {
    "duration": 6,
    "start_time": "2022-11-26T18:42:16.595Z"
   },
   {
    "duration": 7,
    "start_time": "2022-11-26T18:42:16.602Z"
   },
   {
    "duration": 7,
    "start_time": "2022-11-26T18:42:16.610Z"
   },
   {
    "duration": 4476,
    "start_time": "2022-11-26T18:42:16.619Z"
   },
   {
    "duration": 7,
    "start_time": "2022-11-26T18:42:21.097Z"
   },
   {
    "duration": 8,
    "start_time": "2022-11-26T18:42:21.106Z"
   },
   {
    "duration": 7,
    "start_time": "2022-11-26T18:42:21.116Z"
   },
   {
    "duration": 1554,
    "start_time": "2022-11-26T18:58:35.550Z"
   },
   {
    "duration": 0,
    "start_time": "2022-11-26T18:58:37.106Z"
   },
   {
    "duration": 4196,
    "start_time": "2022-11-26T18:59:13.876Z"
   },
   {
    "duration": 4,
    "start_time": "2022-11-26T18:59:18.074Z"
   },
   {
    "duration": 4,
    "start_time": "2022-11-26T18:59:23.902Z"
   },
   {
    "duration": 401,
    "start_time": "2022-11-26T18:59:23.910Z"
   },
   {
    "duration": 7,
    "start_time": "2022-11-26T18:59:24.313Z"
   },
   {
    "duration": 7,
    "start_time": "2022-11-26T18:59:24.322Z"
   },
   {
    "duration": 1771,
    "start_time": "2022-11-26T18:59:24.331Z"
   },
   {
    "duration": 4,
    "start_time": "2022-11-26T18:59:26.104Z"
   },
   {
    "duration": 14,
    "start_time": "2022-11-26T18:59:26.110Z"
   },
   {
    "duration": 6,
    "start_time": "2022-11-26T18:59:26.126Z"
   },
   {
    "duration": 50,
    "start_time": "2022-11-26T18:59:26.133Z"
   },
   {
    "duration": 6,
    "start_time": "2022-11-26T18:59:26.185Z"
   },
   {
    "duration": 257,
    "start_time": "2022-11-26T18:59:26.194Z"
   },
   {
    "duration": 9,
    "start_time": "2022-11-26T18:59:26.453Z"
   },
   {
    "duration": 6,
    "start_time": "2022-11-26T18:59:26.551Z"
   },
   {
    "duration": 5,
    "start_time": "2022-11-26T18:59:26.559Z"
   },
   {
    "duration": 7,
    "start_time": "2022-11-26T18:59:26.565Z"
   },
   {
    "duration": 5,
    "start_time": "2022-11-26T18:59:26.574Z"
   },
   {
    "duration": 7,
    "start_time": "2022-11-26T18:59:26.580Z"
   },
   {
    "duration": 4,
    "start_time": "2022-11-26T18:59:26.589Z"
   },
   {
    "duration": 6,
    "start_time": "2022-11-26T18:59:26.594Z"
   },
   {
    "duration": 4284,
    "start_time": "2022-11-26T18:59:26.602Z"
   },
   {
    "duration": 7,
    "start_time": "2022-11-26T18:59:30.888Z"
   },
   {
    "duration": 10,
    "start_time": "2022-11-26T18:59:30.897Z"
   },
   {
    "duration": 26,
    "start_time": "2022-11-26T18:59:30.908Z"
   },
   {
    "duration": 4,
    "start_time": "2022-11-26T19:01:02.780Z"
   },
   {
    "duration": 401,
    "start_time": "2022-11-26T19:01:02.802Z"
   },
   {
    "duration": 9,
    "start_time": "2022-11-26T19:01:03.205Z"
   },
   {
    "duration": 8,
    "start_time": "2022-11-26T19:01:03.216Z"
   },
   {
    "duration": 1792,
    "start_time": "2022-11-26T19:01:03.226Z"
   },
   {
    "duration": 4,
    "start_time": "2022-11-26T19:01:05.020Z"
   },
   {
    "duration": 15,
    "start_time": "2022-11-26T19:01:05.025Z"
   },
   {
    "duration": 6,
    "start_time": "2022-11-26T19:01:05.051Z"
   },
   {
    "duration": 26,
    "start_time": "2022-11-26T19:01:05.059Z"
   },
   {
    "duration": 5,
    "start_time": "2022-11-26T19:01:05.087Z"
   },
   {
    "duration": 160,
    "start_time": "2022-11-26T19:01:05.094Z"
   },
   {
    "duration": 99,
    "start_time": "2022-11-26T19:01:05.257Z"
   },
   {
    "duration": 98,
    "start_time": "2022-11-26T19:01:05.359Z"
   },
   {
    "duration": 8,
    "start_time": "2022-11-26T19:01:05.458Z"
   },
   {
    "duration": 7,
    "start_time": "2022-11-26T19:01:05.469Z"
   },
   {
    "duration": 5,
    "start_time": "2022-11-26T19:01:05.478Z"
   },
   {
    "duration": 6,
    "start_time": "2022-11-26T19:01:05.485Z"
   },
   {
    "duration": 9,
    "start_time": "2022-11-26T19:01:05.493Z"
   },
   {
    "duration": 6,
    "start_time": "2022-11-26T19:01:05.504Z"
   },
   {
    "duration": 4197,
    "start_time": "2022-11-26T19:01:05.512Z"
   },
   {
    "duration": 9,
    "start_time": "2022-11-26T19:01:09.712Z"
   },
   {
    "duration": 11,
    "start_time": "2022-11-26T19:01:09.723Z"
   },
   {
    "duration": 20,
    "start_time": "2022-11-26T19:01:09.736Z"
   },
   {
    "duration": 1521,
    "start_time": "2022-11-27T11:36:41.611Z"
   },
   {
    "duration": 1637,
    "start_time": "2022-11-27T11:36:45.660Z"
   },
   {
    "duration": 2,
    "start_time": "2022-11-27T11:36:47.299Z"
   },
   {
    "duration": 4,
    "start_time": "2022-11-27T11:37:01.805Z"
   },
   {
    "duration": 74,
    "start_time": "2022-11-27T11:37:49.490Z"
   },
   {
    "duration": 4,
    "start_time": "2022-11-27T11:37:53.133Z"
   },
   {
    "duration": 1711,
    "start_time": "2022-11-27T11:37:56.264Z"
   },
   {
    "duration": 4,
    "start_time": "2022-11-27T11:38:11.135Z"
   },
   {
    "duration": 80,
    "start_time": "2022-11-27T11:38:33.513Z"
   },
   {
    "duration": 4,
    "start_time": "2022-11-27T11:38:39.956Z"
   },
   {
    "duration": 1662,
    "start_time": "2022-11-27T11:38:41.881Z"
   },
   {
    "duration": 5,
    "start_time": "2022-11-27T11:39:00.201Z"
   },
   {
    "duration": 1741,
    "start_time": "2022-11-27T11:39:01.074Z"
   },
   {
    "duration": 5,
    "start_time": "2022-11-27T11:39:42.397Z"
   },
   {
    "duration": 1680,
    "start_time": "2022-11-27T11:39:43.237Z"
   },
   {
    "duration": 5,
    "start_time": "2022-11-27T11:41:46.878Z"
   },
   {
    "duration": 1691,
    "start_time": "2022-11-27T11:41:49.965Z"
   },
   {
    "duration": 5,
    "start_time": "2022-11-27T11:43:10.984Z"
   },
   {
    "duration": 1718,
    "start_time": "2022-11-27T11:43:12.745Z"
   },
   {
    "duration": 5,
    "start_time": "2022-11-27T11:43:23.674Z"
   },
   {
    "duration": 1723,
    "start_time": "2022-11-27T11:43:24.313Z"
   },
   {
    "duration": 4,
    "start_time": "2022-11-27T11:44:48.111Z"
   },
   {
    "duration": 1974,
    "start_time": "2022-11-27T11:44:48.998Z"
   },
   {
    "duration": 85,
    "start_time": "2022-11-27T11:47:25.239Z"
   },
   {
    "duration": 3,
    "start_time": "2022-11-27T11:49:39.011Z"
   },
   {
    "duration": 3,
    "start_time": "2022-11-27T11:49:43.297Z"
   },
   {
    "duration": 5,
    "start_time": "2022-11-27T11:53:10.830Z"
   },
   {
    "duration": 4,
    "start_time": "2022-11-27T11:53:33.368Z"
   },
   {
    "duration": 3,
    "start_time": "2022-11-27T11:54:02.466Z"
   },
   {
    "duration": 3,
    "start_time": "2022-11-27T11:56:40.590Z"
   },
   {
    "duration": 3,
    "start_time": "2022-11-27T11:56:42.514Z"
   },
   {
    "duration": 114,
    "start_time": "2022-11-27T11:56:43.665Z"
   },
   {
    "duration": 3,
    "start_time": "2022-11-27T11:56:54.074Z"
   },
   {
    "duration": 322,
    "start_time": "2022-11-27T11:56:54.083Z"
   },
   {
    "duration": 8,
    "start_time": "2022-11-27T11:56:54.407Z"
   },
   {
    "duration": 12,
    "start_time": "2022-11-27T11:56:54.417Z"
   },
   {
    "duration": 1855,
    "start_time": "2022-11-27T11:56:54.430Z"
   },
   {
    "duration": 3,
    "start_time": "2022-11-27T11:56:56.286Z"
   },
   {
    "duration": 11,
    "start_time": "2022-11-27T11:56:56.291Z"
   },
   {
    "duration": 14,
    "start_time": "2022-11-27T11:56:56.303Z"
   },
   {
    "duration": 27,
    "start_time": "2022-11-27T11:56:56.318Z"
   },
   {
    "duration": 4,
    "start_time": "2022-11-27T11:56:56.346Z"
   },
   {
    "duration": 266,
    "start_time": "2022-11-27T11:56:56.352Z"
   },
   {
    "duration": 100,
    "start_time": "2022-11-27T11:56:56.619Z"
   },
   {
    "duration": 97,
    "start_time": "2022-11-27T11:56:56.721Z"
   },
   {
    "duration": 5,
    "start_time": "2022-11-27T11:56:56.820Z"
   },
   {
    "duration": 4,
    "start_time": "2022-11-27T11:56:56.827Z"
   },
   {
    "duration": 5,
    "start_time": "2022-11-27T11:56:56.833Z"
   },
   {
    "duration": 8,
    "start_time": "2022-11-27T11:56:56.839Z"
   },
   {
    "duration": 6,
    "start_time": "2022-11-27T11:56:56.848Z"
   },
   {
    "duration": 7,
    "start_time": "2022-11-27T11:56:56.855Z"
   },
   {
    "duration": 1270,
    "start_time": "2022-11-27T11:57:01.438Z"
   },
   {
    "duration": 3745,
    "start_time": "2022-11-27T11:57:29.508Z"
   },
   {
    "duration": 8,
    "start_time": "2022-11-27T11:57:40.895Z"
   },
   {
    "duration": 6,
    "start_time": "2022-11-27T11:57:45.645Z"
   },
   {
    "duration": 4,
    "start_time": "2022-11-27T11:57:54.039Z"
   },
   {
    "duration": 4,
    "start_time": "2022-11-27T11:57:57.676Z"
   },
   {
    "duration": 8,
    "start_time": "2022-11-27T11:59:31.388Z"
   },
   {
    "duration": 8,
    "start_time": "2022-11-27T12:00:34.831Z"
   },
   {
    "duration": 8,
    "start_time": "2022-11-27T12:00:43.469Z"
   },
   {
    "duration": 20,
    "start_time": "2022-11-27T12:08:36.554Z"
   },
   {
    "duration": 4,
    "start_time": "2022-11-27T12:08:44.868Z"
   },
   {
    "duration": 349,
    "start_time": "2022-11-27T12:08:44.878Z"
   },
   {
    "duration": 8,
    "start_time": "2022-11-27T12:08:45.228Z"
   },
   {
    "duration": 9,
    "start_time": "2022-11-27T12:08:45.237Z"
   },
   {
    "duration": 1753,
    "start_time": "2022-11-27T12:08:45.248Z"
   },
   {
    "duration": 10,
    "start_time": "2022-11-27T12:08:47.003Z"
   },
   {
    "duration": 10,
    "start_time": "2022-11-27T12:08:47.014Z"
   },
   {
    "duration": 6,
    "start_time": "2022-11-27T12:08:47.026Z"
   },
   {
    "duration": 31,
    "start_time": "2022-11-27T12:08:47.033Z"
   },
   {
    "duration": 3,
    "start_time": "2022-11-27T12:08:47.066Z"
   },
   {
    "duration": 147,
    "start_time": "2022-11-27T12:08:47.071Z"
   },
   {
    "duration": 99,
    "start_time": "2022-11-27T12:08:47.220Z"
   },
   {
    "duration": 97,
    "start_time": "2022-11-27T12:08:47.322Z"
   },
   {
    "duration": 4,
    "start_time": "2022-11-27T12:08:47.421Z"
   },
   {
    "duration": 4,
    "start_time": "2022-11-27T12:08:47.427Z"
   },
   {
    "duration": 4,
    "start_time": "2022-11-27T12:08:47.433Z"
   },
   {
    "duration": 5,
    "start_time": "2022-11-27T12:08:47.439Z"
   },
   {
    "duration": 6,
    "start_time": "2022-11-27T12:08:47.445Z"
   },
   {
    "duration": 7,
    "start_time": "2022-11-27T12:08:47.453Z"
   },
   {
    "duration": 18,
    "start_time": "2022-11-27T12:08:53.675Z"
   },
   {
    "duration": 19,
    "start_time": "2022-11-27T12:09:15.208Z"
   },
   {
    "duration": 3953,
    "start_time": "2022-11-27T12:09:27.525Z"
   },
   {
    "duration": 13,
    "start_time": "2022-11-27T12:11:33.077Z"
   },
   {
    "duration": 28,
    "start_time": "2022-11-27T12:11:51.873Z"
   },
   {
    "duration": 3,
    "start_time": "2022-11-27T12:12:48.458Z"
   },
   {
    "duration": 26,
    "start_time": "2022-11-27T12:12:52.070Z"
   },
   {
    "duration": 43,
    "start_time": "2022-11-27T12:13:07.920Z"
   },
   {
    "duration": 2,
    "start_time": "2022-11-27T12:14:09.388Z"
   },
   {
    "duration": 2,
    "start_time": "2022-11-27T12:14:09.774Z"
   },
   {
    "duration": 3,
    "start_time": "2022-11-27T12:14:09.978Z"
   },
   {
    "duration": 4,
    "start_time": "2022-11-27T12:14:10.242Z"
   },
   {
    "duration": 4,
    "start_time": "2022-11-27T12:14:28.861Z"
   },
   {
    "duration": 4,
    "start_time": "2022-11-27T12:14:31.864Z"
   },
   {
    "duration": 38,
    "start_time": "2022-11-27T12:14:51.428Z"
   },
   {
    "duration": 3,
    "start_time": "2022-11-27T12:15:01.213Z"
   },
   {
    "duration": 41,
    "start_time": "2022-11-27T12:15:04.645Z"
   },
   {
    "duration": 3821,
    "start_time": "2022-11-27T12:16:15.237Z"
   },
   {
    "duration": 73,
    "start_time": "2022-11-27T12:24:38.151Z"
   },
   {
    "duration": 19,
    "start_time": "2022-11-27T12:24:46.154Z"
   },
   {
    "duration": 12,
    "start_time": "2022-11-27T12:25:26.485Z"
   },
   {
    "duration": 11,
    "start_time": "2022-11-27T12:25:37.230Z"
   },
   {
    "duration": 13,
    "start_time": "2022-11-27T12:25:47.483Z"
   },
   {
    "duration": 26,
    "start_time": "2022-11-27T12:26:04.423Z"
   },
   {
    "duration": 15,
    "start_time": "2022-11-27T12:26:13.539Z"
   },
   {
    "duration": 12,
    "start_time": "2022-11-27T12:26:43.642Z"
   },
   {
    "duration": 15,
    "start_time": "2022-11-27T12:27:07.646Z"
   },
   {
    "duration": 19,
    "start_time": "2022-11-27T12:27:28.333Z"
   },
   {
    "duration": 73,
    "start_time": "2022-11-27T12:28:09.328Z"
   },
   {
    "duration": 25,
    "start_time": "2022-11-27T12:28:20.250Z"
   },
   {
    "duration": 23,
    "start_time": "2022-11-27T12:28:40.501Z"
   },
   {
    "duration": 21,
    "start_time": "2022-11-27T12:30:53.343Z"
   },
   {
    "duration": 21,
    "start_time": "2022-11-27T12:30:59.530Z"
   },
   {
    "duration": 22,
    "start_time": "2022-11-27T12:32:23.469Z"
   },
   {
    "duration": 4,
    "start_time": "2022-11-27T12:36:03.037Z"
   },
   {
    "duration": 3,
    "start_time": "2022-11-27T12:37:13.421Z"
   },
   {
    "duration": 4,
    "start_time": "2022-11-27T12:37:17.263Z"
   },
   {
    "duration": 362,
    "start_time": "2022-11-27T12:37:17.273Z"
   },
   {
    "duration": 3,
    "start_time": "2022-11-27T12:37:17.637Z"
   },
   {
    "duration": 7,
    "start_time": "2022-11-27T12:37:17.641Z"
   },
   {
    "duration": 1867,
    "start_time": "2022-11-27T12:37:17.650Z"
   },
   {
    "duration": 4,
    "start_time": "2022-11-27T12:37:19.519Z"
   },
   {
    "duration": 10,
    "start_time": "2022-11-27T12:37:19.525Z"
   },
   {
    "duration": 5,
    "start_time": "2022-11-27T12:37:19.536Z"
   },
   {
    "duration": 26,
    "start_time": "2022-11-27T12:37:19.543Z"
   },
   {
    "duration": 4,
    "start_time": "2022-11-27T12:37:19.571Z"
   },
   {
    "duration": 143,
    "start_time": "2022-11-27T12:37:19.577Z"
   },
   {
    "duration": 97,
    "start_time": "2022-11-27T12:37:19.815Z"
   },
   {
    "duration": 4,
    "start_time": "2022-11-27T12:37:19.914Z"
   },
   {
    "duration": 5,
    "start_time": "2022-11-27T12:37:19.920Z"
   },
   {
    "duration": 6,
    "start_time": "2022-11-27T12:37:19.926Z"
   },
   {
    "duration": 5,
    "start_time": "2022-11-27T12:37:19.933Z"
   },
   {
    "duration": 7,
    "start_time": "2022-11-27T12:37:19.939Z"
   },
   {
    "duration": 4,
    "start_time": "2022-11-27T12:37:33.973Z"
   },
   {
    "duration": 3,
    "start_time": "2022-11-27T12:37:37.125Z"
   },
   {
    "duration": 20,
    "start_time": "2022-11-27T12:37:41.989Z"
   },
   {
    "duration": 7,
    "start_time": "2022-11-27T12:37:49.548Z"
   },
   {
    "duration": 5,
    "start_time": "2022-11-27T12:37:57.039Z"
   },
   {
    "duration": 4,
    "start_time": "2022-11-27T12:41:04.881Z"
   },
   {
    "duration": 1464,
    "start_time": "2022-11-27T12:41:07.802Z"
   },
   {
    "duration": 3,
    "start_time": "2022-11-27T12:42:28.351Z"
   },
   {
    "duration": 1367,
    "start_time": "2022-11-27T12:42:31.970Z"
   },
   {
    "duration": 3,
    "start_time": "2022-11-27T12:43:13.680Z"
   },
   {
    "duration": 342,
    "start_time": "2022-11-27T12:43:13.692Z"
   },
   {
    "duration": 7,
    "start_time": "2022-11-27T12:43:14.036Z"
   },
   {
    "duration": 7,
    "start_time": "2022-11-27T12:43:14.045Z"
   },
   {
    "duration": 2077,
    "start_time": "2022-11-27T12:43:14.054Z"
   },
   {
    "duration": 3,
    "start_time": "2022-11-27T12:43:16.132Z"
   },
   {
    "duration": 10,
    "start_time": "2022-11-27T12:43:16.137Z"
   },
   {
    "duration": 6,
    "start_time": "2022-11-27T12:43:16.148Z"
   },
   {
    "duration": 25,
    "start_time": "2022-11-27T12:43:16.155Z"
   },
   {
    "duration": 4,
    "start_time": "2022-11-27T12:43:16.181Z"
   },
   {
    "duration": 129,
    "start_time": "2022-11-27T12:43:16.187Z"
   },
   {
    "duration": 99,
    "start_time": "2022-11-27T12:43:16.317Z"
   },
   {
    "duration": 3,
    "start_time": "2022-11-27T12:43:16.418Z"
   },
   {
    "duration": 96,
    "start_time": "2022-11-27T12:43:16.422Z"
   },
   {
    "duration": 5,
    "start_time": "2022-11-27T12:43:16.519Z"
   },
   {
    "duration": 4,
    "start_time": "2022-11-27T12:43:16.526Z"
   },
   {
    "duration": 6,
    "start_time": "2022-11-27T12:43:16.532Z"
   },
   {
    "duration": 5,
    "start_time": "2022-11-27T12:43:16.539Z"
   },
   {
    "duration": 6,
    "start_time": "2022-11-27T12:43:16.546Z"
   },
   {
    "duration": 3,
    "start_time": "2022-11-27T12:44:54.413Z"
   },
   {
    "duration": 1397,
    "start_time": "2022-11-27T12:44:57.739Z"
   },
   {
    "duration": 3,
    "start_time": "2022-11-27T12:45:51.334Z"
   },
   {
    "duration": 5,
    "start_time": "2022-11-27T12:45:54.577Z"
   },
   {
    "duration": 1433,
    "start_time": "2022-11-27T12:46:22.509Z"
   },
   {
    "duration": 1448,
    "start_time": "2022-11-27T12:46:29.934Z"
   },
   {
    "duration": 1434,
    "start_time": "2022-11-27T12:46:33.925Z"
   },
   {
    "duration": 3,
    "start_time": "2022-11-27T12:46:43.464Z"
   },
   {
    "duration": 6,
    "start_time": "2022-11-27T12:46:55.618Z"
   },
   {
    "duration": 7,
    "start_time": "2022-11-27T12:46:56.901Z"
   },
   {
    "duration": 1555,
    "start_time": "2022-11-27T12:47:01.762Z"
   },
   {
    "duration": 4,
    "start_time": "2022-11-27T12:47:27.190Z"
   },
   {
    "duration": 6,
    "start_time": "2022-11-27T12:47:28.636Z"
   },
   {
    "duration": 6,
    "start_time": "2022-11-27T12:47:29.169Z"
   },
   {
    "duration": 1151,
    "start_time": "2022-11-27T12:47:30.004Z"
   },
   {
    "duration": 5,
    "start_time": "2022-11-27T12:47:40.402Z"
   },
   {
    "duration": 6,
    "start_time": "2022-11-27T12:47:43.229Z"
   },
   {
    "duration": 6,
    "start_time": "2022-11-27T12:47:43.473Z"
   },
   {
    "duration": 1545,
    "start_time": "2022-11-27T12:47:43.846Z"
   },
   {
    "duration": 5,
    "start_time": "2022-11-27T12:48:02.898Z"
   },
   {
    "duration": 1211,
    "start_time": "2022-11-27T12:48:12.894Z"
   },
   {
    "duration": 3,
    "start_time": "2022-11-27T12:48:41.541Z"
   },
   {
    "duration": 6,
    "start_time": "2022-11-27T12:48:42.280Z"
   },
   {
    "duration": 6,
    "start_time": "2022-11-27T12:48:42.756Z"
   },
   {
    "duration": 1460,
    "start_time": "2022-11-27T12:48:43.022Z"
   },
   {
    "duration": 3,
    "start_time": "2022-11-27T12:49:13.588Z"
   },
   {
    "duration": 5,
    "start_time": "2022-11-27T12:49:16.134Z"
   },
   {
    "duration": 9,
    "start_time": "2022-11-27T12:50:06.985Z"
   },
   {
    "duration": 5,
    "start_time": "2022-11-27T12:50:27.775Z"
   },
   {
    "duration": 6,
    "start_time": "2022-11-27T12:50:32.372Z"
   },
   {
    "duration": 4,
    "start_time": "2022-11-27T12:50:51.422Z"
   },
   {
    "duration": 6,
    "start_time": "2022-11-27T12:50:52.405Z"
   },
   {
    "duration": 6,
    "start_time": "2022-11-27T12:50:52.613Z"
   },
   {
    "duration": 4,
    "start_time": "2022-11-27T12:50:53.777Z"
   },
   {
    "duration": 3,
    "start_time": "2022-11-27T12:51:02.381Z"
   },
   {
    "duration": 3,
    "start_time": "2022-11-27T12:51:02.498Z"
   },
   {
    "duration": 3,
    "start_time": "2022-11-27T12:51:02.665Z"
   },
   {
    "duration": 3,
    "start_time": "2022-11-27T12:51:03.632Z"
   },
   {
    "duration": 5,
    "start_time": "2022-11-27T12:51:03.795Z"
   },
   {
    "duration": 6,
    "start_time": "2022-11-27T12:51:03.964Z"
   },
   {
    "duration": 1405,
    "start_time": "2022-11-27T12:51:06.456Z"
   },
   {
    "duration": 7,
    "start_time": "2022-11-27T12:51:24.999Z"
   },
   {
    "duration": 6,
    "start_time": "2022-11-27T12:51:27.062Z"
   },
   {
    "duration": 4,
    "start_time": "2022-11-27T12:51:38.984Z"
   },
   {
    "duration": 6,
    "start_time": "2022-11-27T12:51:41.217Z"
   },
   {
    "duration": 3,
    "start_time": "2022-11-27T12:51:57.740Z"
   },
   {
    "duration": 10,
    "start_time": "2022-11-27T12:52:01.239Z"
   },
   {
    "duration": 3,
    "start_time": "2022-11-27T12:52:19.522Z"
   },
   {
    "duration": 10,
    "start_time": "2022-11-27T12:52:27.731Z"
   },
   {
    "duration": 4,
    "start_time": "2022-11-27T12:52:50.148Z"
   },
   {
    "duration": 5,
    "start_time": "2022-11-27T12:52:52.561Z"
   },
   {
    "duration": 2665,
    "start_time": "2022-11-27T12:53:07.337Z"
   },
   {
    "duration": 3,
    "start_time": "2022-11-27T12:53:15.755Z"
   },
   {
    "duration": 7,
    "start_time": "2022-11-27T12:53:19.293Z"
   },
   {
    "duration": 6,
    "start_time": "2022-11-27T12:53:20.266Z"
   },
   {
    "duration": 5,
    "start_time": "2022-11-27T12:53:21.869Z"
   },
   {
    "duration": 5,
    "start_time": "2022-11-27T12:53:22.663Z"
   },
   {
    "duration": 4,
    "start_time": "2022-11-27T12:53:23.399Z"
   },
   {
    "duration": 11,
    "start_time": "2022-11-27T12:53:23.703Z"
   },
   {
    "duration": 20,
    "start_time": "2022-11-27T12:53:24.715Z"
   },
   {
    "duration": 18,
    "start_time": "2022-11-27T12:53:39.369Z"
   },
   {
    "duration": 6,
    "start_time": "2022-11-27T12:53:49.137Z"
   },
   {
    "duration": 4,
    "start_time": "2022-11-27T12:54:10.743Z"
   },
   {
    "duration": 3,
    "start_time": "2022-11-27T12:54:14.576Z"
   },
   {
    "duration": 6,
    "start_time": "2022-11-27T12:54:18.676Z"
   },
   {
    "duration": 11,
    "start_time": "2022-11-27T12:54:28.348Z"
   },
   {
    "duration": 10,
    "start_time": "2022-11-27T12:54:38.636Z"
   },
   {
    "duration": 6,
    "start_time": "2022-11-27T12:54:41.685Z"
   },
   {
    "duration": 285,
    "start_time": "2022-11-27T12:55:07.526Z"
   },
   {
    "duration": 5,
    "start_time": "2022-11-27T12:55:18.219Z"
   },
   {
    "duration": 280,
    "start_time": "2022-11-27T12:55:20.628Z"
   },
   {
    "duration": 5,
    "start_time": "2022-11-27T12:56:22.320Z"
   },
   {
    "duration": 5,
    "start_time": "2022-11-27T12:56:22.740Z"
   },
   {
    "duration": 4,
    "start_time": "2022-11-27T12:56:26.234Z"
   },
   {
    "duration": 5,
    "start_time": "2022-11-27T12:56:27.158Z"
   },
   {
    "duration": 7,
    "start_time": "2022-11-27T12:56:27.165Z"
   },
   {
    "duration": 9,
    "start_time": "2022-11-27T12:56:33.670Z"
   },
   {
    "duration": 11,
    "start_time": "2022-11-27T12:56:37.328Z"
   },
   {
    "duration": 24,
    "start_time": "2022-11-27T12:57:07.055Z"
   },
   {
    "duration": 6,
    "start_time": "2022-11-27T12:57:59.709Z"
   },
   {
    "duration": 9,
    "start_time": "2022-11-27T12:58:06.957Z"
   },
   {
    "duration": 14,
    "start_time": "2022-11-27T12:59:25.460Z"
   },
   {
    "duration": 4,
    "start_time": "2022-11-27T13:00:23.672Z"
   },
   {
    "duration": 6,
    "start_time": "2022-11-27T13:00:23.875Z"
   },
   {
    "duration": 10,
    "start_time": "2022-11-27T13:00:24.432Z"
   },
   {
    "duration": 9,
    "start_time": "2022-11-27T13:00:24.813Z"
   },
   {
    "duration": 10,
    "start_time": "2022-11-27T13:00:29.469Z"
   },
   {
    "duration": 10,
    "start_time": "2022-11-27T13:01:27.579Z"
   },
   {
    "duration": 6,
    "start_time": "2022-11-27T13:03:38.959Z"
   },
   {
    "duration": 12,
    "start_time": "2022-11-27T13:05:31.782Z"
   },
   {
    "duration": 9,
    "start_time": "2022-11-27T13:05:40.503Z"
   },
   {
    "duration": 4,
    "start_time": "2022-11-27T13:05:49.544Z"
   },
   {
    "duration": 9,
    "start_time": "2022-11-27T13:05:53.774Z"
   },
   {
    "duration": 11,
    "start_time": "2022-11-27T13:05:59.766Z"
   },
   {
    "duration": 1182,
    "start_time": "2022-11-27T13:06:14.025Z"
   },
   {
    "duration": 1382,
    "start_time": "2022-11-27T13:06:26.324Z"
   },
   {
    "duration": 5,
    "start_time": "2022-11-27T13:06:32.824Z"
   },
   {
    "duration": 3,
    "start_time": "2022-11-27T13:06:53.650Z"
   },
   {
    "duration": 4,
    "start_time": "2022-11-27T13:07:01.298Z"
   },
   {
    "duration": 351,
    "start_time": "2022-11-27T13:07:01.312Z"
   },
   {
    "duration": 2,
    "start_time": "2022-11-27T13:07:01.665Z"
   },
   {
    "duration": 25,
    "start_time": "2022-11-27T13:07:01.669Z"
   },
   {
    "duration": 1825,
    "start_time": "2022-11-27T13:07:01.696Z"
   },
   {
    "duration": 4,
    "start_time": "2022-11-27T13:07:03.522Z"
   },
   {
    "duration": 21,
    "start_time": "2022-11-27T13:07:03.527Z"
   },
   {
    "duration": 27,
    "start_time": "2022-11-27T13:07:03.550Z"
   },
   {
    "duration": 54,
    "start_time": "2022-11-27T13:07:03.578Z"
   },
   {
    "duration": 4,
    "start_time": "2022-11-27T13:07:03.633Z"
   },
   {
    "duration": 85,
    "start_time": "2022-11-27T13:07:03.639Z"
   },
   {
    "duration": 9,
    "start_time": "2022-11-27T13:07:03.814Z"
   },
   {
    "duration": 5,
    "start_time": "2022-11-27T13:07:03.914Z"
   },
   {
    "duration": 25,
    "start_time": "2022-11-27T13:07:03.921Z"
   },
   {
    "duration": 19,
    "start_time": "2022-11-27T13:07:03.948Z"
   },
   {
    "duration": 21,
    "start_time": "2022-11-27T13:07:03.969Z"
   },
   {
    "duration": 16,
    "start_time": "2022-11-27T13:07:03.991Z"
   },
   {
    "duration": 3,
    "start_time": "2022-11-27T13:07:37.577Z"
   },
   {
    "duration": 2,
    "start_time": "2022-11-27T13:08:10.916Z"
   },
   {
    "duration": 20,
    "start_time": "2022-11-27T13:08:12.424Z"
   },
   {
    "duration": 7,
    "start_time": "2022-11-27T13:08:20.556Z"
   },
   {
    "duration": 4,
    "start_time": "2022-11-27T13:08:23.540Z"
   },
   {
    "duration": 7845,
    "start_time": "2022-11-27T13:08:36.424Z"
   },
   {
    "duration": 6,
    "start_time": "2022-11-27T13:08:44.271Z"
   },
   {
    "duration": 4,
    "start_time": "2022-11-27T13:08:45.352Z"
   },
   {
    "duration": 3,
    "start_time": "2022-11-27T13:09:42.997Z"
   },
   {
    "duration": 3,
    "start_time": "2022-11-27T13:09:46.530Z"
   },
   {
    "duration": 331,
    "start_time": "2022-11-27T13:09:46.541Z"
   },
   {
    "duration": 2,
    "start_time": "2022-11-27T13:09:46.874Z"
   },
   {
    "duration": 6,
    "start_time": "2022-11-27T13:09:46.878Z"
   },
   {
    "duration": 1806,
    "start_time": "2022-11-27T13:09:46.886Z"
   },
   {
    "duration": 3,
    "start_time": "2022-11-27T13:09:48.694Z"
   },
   {
    "duration": 24,
    "start_time": "2022-11-27T13:09:48.699Z"
   },
   {
    "duration": 5,
    "start_time": "2022-11-27T13:09:48.725Z"
   },
   {
    "duration": 31,
    "start_time": "2022-11-27T13:09:48.731Z"
   },
   {
    "duration": 4,
    "start_time": "2022-11-27T13:09:48.764Z"
   },
   {
    "duration": 53,
    "start_time": "2022-11-27T13:09:48.770Z"
   },
   {
    "duration": 8,
    "start_time": "2022-11-27T13:09:48.914Z"
   },
   {
    "duration": 94,
    "start_time": "2022-11-27T13:09:48.924Z"
   },
   {
    "duration": 6,
    "start_time": "2022-11-27T13:09:49.019Z"
   },
   {
    "duration": 5,
    "start_time": "2022-11-27T13:09:49.027Z"
   },
   {
    "duration": 6,
    "start_time": "2022-11-27T13:09:49.034Z"
   },
   {
    "duration": 6,
    "start_time": "2022-11-27T13:09:49.042Z"
   },
   {
    "duration": 4,
    "start_time": "2022-11-27T13:09:51.203Z"
   },
   {
    "duration": 4,
    "start_time": "2022-11-27T13:10:01.926Z"
   },
   {
    "duration": 2,
    "start_time": "2022-11-27T13:10:05.328Z"
   },
   {
    "duration": 7661,
    "start_time": "2022-11-27T13:10:06.876Z"
   },
   {
    "duration": 7,
    "start_time": "2022-11-27T13:10:50.479Z"
   },
   {
    "duration": 3,
    "start_time": "2022-11-27T13:10:58.840Z"
   },
   {
    "duration": 7897,
    "start_time": "2022-11-27T13:11:45.503Z"
   },
   {
    "duration": 3,
    "start_time": "2022-11-27T13:11:53.402Z"
   },
   {
    "duration": 7877,
    "start_time": "2022-11-27T13:11:55.778Z"
   },
   {
    "duration": 7,
    "start_time": "2022-11-27T13:12:17.626Z"
   },
   {
    "duration": 4,
    "start_time": "2022-11-27T13:12:18.447Z"
   },
   {
    "duration": 7672,
    "start_time": "2022-11-27T13:12:28.167Z"
   },
   {
    "duration": 3,
    "start_time": "2022-11-27T13:13:27.656Z"
   },
   {
    "duration": 4,
    "start_time": "2022-11-27T13:13:55.581Z"
   },
   {
    "duration": 5,
    "start_time": "2022-11-27T13:14:00.384Z"
   },
   {
    "duration": 3,
    "start_time": "2022-11-27T13:14:08.122Z"
   },
   {
    "duration": 7659,
    "start_time": "2022-11-27T13:14:09.113Z"
   },
   {
    "duration": 6,
    "start_time": "2022-11-27T13:14:16.774Z"
   },
   {
    "duration": 3,
    "start_time": "2022-11-27T13:14:24.351Z"
   },
   {
    "duration": 5,
    "start_time": "2022-11-27T13:15:24.726Z"
   },
   {
    "duration": 3,
    "start_time": "2022-11-27T13:15:56.904Z"
   },
   {
    "duration": 3,
    "start_time": "2022-11-27T13:15:59.352Z"
   },
   {
    "duration": 18,
    "start_time": "2022-11-27T13:16:01.630Z"
   },
   {
    "duration": 3,
    "start_time": "2022-11-27T13:16:30.793Z"
   },
   {
    "duration": 2,
    "start_time": "2022-11-27T13:16:33.845Z"
   },
   {
    "duration": 4140,
    "start_time": "2022-11-27T13:16:34.596Z"
   },
   {
    "duration": 50,
    "start_time": "2022-11-27T13:16:41.590Z"
   },
   {
    "duration": 4,
    "start_time": "2022-11-27T13:18:20.398Z"
   },
   {
    "duration": 3,
    "start_time": "2022-11-27T13:18:23.666Z"
   },
   {
    "duration": 20,
    "start_time": "2022-11-27T13:18:24.359Z"
   },
   {
    "duration": 4,
    "start_time": "2022-11-27T13:19:21.446Z"
   },
   {
    "duration": 50,
    "start_time": "2022-11-27T13:19:24.026Z"
   },
   {
    "duration": 8,
    "start_time": "2022-11-27T13:19:49.039Z"
   },
   {
    "duration": 4,
    "start_time": "2022-11-27T13:19:50.540Z"
   },
   {
    "duration": 4,
    "start_time": "2022-11-27T13:20:00.599Z"
   },
   {
    "duration": 7997,
    "start_time": "2022-11-27T13:20:05.993Z"
   },
   {
    "duration": 7,
    "start_time": "2022-11-27T13:20:18.334Z"
   },
   {
    "duration": 4,
    "start_time": "2022-11-27T13:20:19.227Z"
   },
   {
    "duration": 5,
    "start_time": "2022-11-27T13:21:12.038Z"
   },
   {
    "duration": 43,
    "start_time": "2022-11-27T13:21:15.052Z"
   },
   {
    "duration": 4,
    "start_time": "2022-11-27T13:21:52.494Z"
   },
   {
    "duration": 3,
    "start_time": "2022-11-27T13:22:04.996Z"
   },
   {
    "duration": 8206,
    "start_time": "2022-11-27T13:22:12.841Z"
   },
   {
    "duration": 6,
    "start_time": "2022-11-27T13:22:25.331Z"
   },
   {
    "duration": 4,
    "start_time": "2022-11-27T13:22:38.332Z"
   },
   {
    "duration": 3,
    "start_time": "2022-11-27T13:22:39.929Z"
   },
   {
    "duration": 7935,
    "start_time": "2022-11-27T13:22:41.256Z"
   },
   {
    "duration": 6,
    "start_time": "2022-11-27T13:22:53.328Z"
   },
   {
    "duration": 4,
    "start_time": "2022-11-27T13:22:54.365Z"
   },
   {
    "duration": 7,
    "start_time": "2022-11-27T13:23:29.147Z"
   },
   {
    "duration": 2,
    "start_time": "2022-11-27T13:23:49.870Z"
   },
   {
    "duration": 3,
    "start_time": "2022-11-27T13:24:04.290Z"
   },
   {
    "duration": 4,
    "start_time": "2022-11-27T13:24:09.933Z"
   },
   {
    "duration": 5,
    "start_time": "2022-11-27T13:24:30.391Z"
   },
   {
    "duration": 3,
    "start_time": "2022-11-27T13:24:33.406Z"
   },
   {
    "duration": 5845,
    "start_time": "2022-11-27T13:24:35.217Z"
   },
   {
    "duration": 4,
    "start_time": "2022-11-27T13:24:43.182Z"
   },
   {
    "duration": 7977,
    "start_time": "2022-11-27T13:24:47.209Z"
   },
   {
    "duration": 11,
    "start_time": "2022-11-27T13:25:00.225Z"
   },
   {
    "duration": 5,
    "start_time": "2022-11-27T13:25:15.811Z"
   },
   {
    "duration": 3,
    "start_time": "2022-11-27T13:25:19.561Z"
   },
   {
    "duration": 1456,
    "start_time": "2022-11-27T20:17:17.267Z"
   },
   {
    "duration": 5,
    "start_time": "2022-11-27T20:17:20.314Z"
   },
   {
    "duration": 339,
    "start_time": "2022-11-27T20:17:20.321Z"
   },
   {
    "duration": 11,
    "start_time": "2022-11-27T20:17:20.661Z"
   },
   {
    "duration": 6,
    "start_time": "2022-11-27T20:17:20.673Z"
   },
   {
    "duration": 2058,
    "start_time": "2022-11-27T20:17:20.681Z"
   },
   {
    "duration": 3,
    "start_time": "2022-11-27T20:17:22.742Z"
   },
   {
    "duration": 19,
    "start_time": "2022-11-27T20:17:22.746Z"
   },
   {
    "duration": 8,
    "start_time": "2022-11-27T20:17:22.767Z"
   },
   {
    "duration": 39,
    "start_time": "2022-11-27T20:17:22.777Z"
   },
   {
    "duration": 4,
    "start_time": "2022-11-27T20:17:22.818Z"
   },
   {
    "duration": 297,
    "start_time": "2022-11-27T20:17:22.824Z"
   },
   {
    "duration": 10,
    "start_time": "2022-11-27T20:17:23.124Z"
   },
   {
    "duration": 8,
    "start_time": "2022-11-27T20:17:23.221Z"
   },
   {
    "duration": 7,
    "start_time": "2022-11-27T20:17:23.230Z"
   },
   {
    "duration": 6,
    "start_time": "2022-11-27T20:17:23.239Z"
   },
   {
    "duration": 5,
    "start_time": "2022-11-27T20:17:23.247Z"
   },
   {
    "duration": 9,
    "start_time": "2022-11-27T20:17:23.253Z"
   },
   {
    "duration": 16,
    "start_time": "2022-11-27T20:17:23.263Z"
   },
   {
    "duration": 20,
    "start_time": "2022-11-27T20:17:23.281Z"
   },
   {
    "duration": 109,
    "start_time": "2022-11-27T20:17:23.303Z"
   },
   {
    "duration": 0,
    "start_time": "2022-11-27T20:17:23.413Z"
   },
   {
    "duration": 0,
    "start_time": "2022-11-27T20:17:23.415Z"
   },
   {
    "duration": 0,
    "start_time": "2022-11-27T20:17:23.416Z"
   },
   {
    "duration": 4,
    "start_time": "2022-11-27T20:28:26.548Z"
   },
   {
    "duration": 360,
    "start_time": "2022-11-27T20:28:29.467Z"
   },
   {
    "duration": 9,
    "start_time": "2022-11-27T20:28:30.242Z"
   },
   {
    "duration": 5,
    "start_time": "2022-11-27T20:28:35.572Z"
   },
   {
    "duration": 1804,
    "start_time": "2022-11-27T20:28:39.204Z"
   },
   {
    "duration": 4,
    "start_time": "2022-11-27T20:29:27.068Z"
   },
   {
    "duration": 7,
    "start_time": "2022-11-27T20:29:27.691Z"
   },
   {
    "duration": 4,
    "start_time": "2022-11-27T20:29:28.682Z"
   },
   {
    "duration": 26,
    "start_time": "2022-11-27T20:29:29.844Z"
   },
   {
    "duration": 3,
    "start_time": "2022-11-27T20:29:32.423Z"
   },
   {
    "duration": 61,
    "start_time": "2022-11-27T20:29:36.666Z"
   },
   {
    "duration": 8,
    "start_time": "2022-11-27T20:29:37.404Z"
   },
   {
    "duration": 2,
    "start_time": "2022-11-27T20:29:48.145Z"
   },
   {
    "duration": 2,
    "start_time": "2022-11-27T20:29:48.429Z"
   },
   {
    "duration": 3,
    "start_time": "2022-11-27T20:29:48.696Z"
   },
   {
    "duration": 2,
    "start_time": "2022-11-27T20:29:51.422Z"
   },
   {
    "duration": 4,
    "start_time": "2022-11-27T20:29:53.229Z"
   },
   {
    "duration": 4,
    "start_time": "2022-11-27T20:30:03.367Z"
   },
   {
    "duration": 3,
    "start_time": "2022-11-27T20:30:11.530Z"
   },
   {
    "duration": 8048,
    "start_time": "2022-11-27T20:30:18.088Z"
   },
   {
    "duration": 6,
    "start_time": "2022-11-27T20:30:45.527Z"
   },
   {
    "duration": 5,
    "start_time": "2022-11-27T20:30:48.645Z"
   },
   {
    "duration": 4,
    "start_time": "2022-11-27T20:30:53.624Z"
   },
   {
    "duration": 4,
    "start_time": "2022-11-27T20:30:55.844Z"
   },
   {
    "duration": 8200,
    "start_time": "2022-11-27T20:31:00.599Z"
   },
   {
    "duration": 82,
    "start_time": "2022-11-27T20:35:47.860Z"
   },
   {
    "duration": 174,
    "start_time": "2022-11-27T20:35:58.086Z"
   },
   {
    "duration": 87,
    "start_time": "2022-11-27T20:36:11.507Z"
   },
   {
    "duration": 82,
    "start_time": "2022-11-27T20:36:21.323Z"
   },
   {
    "duration": 3,
    "start_time": "2022-11-27T20:36:44.665Z"
   },
   {
    "duration": 15,
    "start_time": "2022-11-27T20:37:18.698Z"
   },
   {
    "duration": 15,
    "start_time": "2022-11-27T20:37:29.963Z"
   },
   {
    "duration": 4,
    "start_time": "2022-11-27T20:37:43.360Z"
   },
   {
    "duration": 3,
    "start_time": "2022-11-27T20:37:51.159Z"
   },
   {
    "duration": 6,
    "start_time": "2022-11-27T20:37:56.695Z"
   },
   {
    "duration": 4,
    "start_time": "2022-11-27T20:38:15.564Z"
   },
   {
    "duration": 8153,
    "start_time": "2022-11-27T20:41:50.870Z"
   },
   {
    "duration": 3,
    "start_time": "2022-11-27T20:42:06.706Z"
   },
   {
    "duration": 4,
    "start_time": "2022-11-27T20:42:21.573Z"
   },
   {
    "duration": 73,
    "start_time": "2022-11-27T20:42:53.376Z"
   },
   {
    "duration": 3,
    "start_time": "2022-11-27T20:43:03.292Z"
   },
   {
    "duration": 7999,
    "start_time": "2022-11-27T20:43:12.820Z"
   },
   {
    "duration": 6,
    "start_time": "2022-11-27T20:43:24.502Z"
   },
   {
    "duration": 4,
    "start_time": "2022-11-27T20:43:25.374Z"
   },
   {
    "duration": 12,
    "start_time": "2022-11-27T20:43:45.906Z"
   },
   {
    "duration": 13,
    "start_time": "2022-11-27T20:43:54.661Z"
   },
   {
    "duration": 8,
    "start_time": "2022-11-27T20:44:19.238Z"
   },
   {
    "duration": 4,
    "start_time": "2022-11-27T20:44:31.858Z"
   },
   {
    "duration": 4,
    "start_time": "2022-11-27T20:44:34.608Z"
   },
   {
    "duration": 7,
    "start_time": "2022-11-27T20:46:25.108Z"
   },
   {
    "duration": 9,
    "start_time": "2022-11-27T20:47:18.876Z"
   },
   {
    "duration": 5,
    "start_time": "2022-11-27T20:47:40.163Z"
   },
   {
    "duration": 6,
    "start_time": "2022-11-27T20:47:50.088Z"
   },
   {
    "duration": 10,
    "start_time": "2022-11-27T20:47:55.944Z"
   },
   {
    "duration": 10,
    "start_time": "2022-11-27T20:48:05.298Z"
   },
   {
    "duration": 5,
    "start_time": "2022-11-27T20:48:17.157Z"
   },
   {
    "duration": 5,
    "start_time": "2022-11-27T20:48:54.998Z"
   },
   {
    "duration": 5,
    "start_time": "2022-11-27T20:49:24.671Z"
   },
   {
    "duration": 74,
    "start_time": "2022-11-27T20:49:47.064Z"
   },
   {
    "duration": 7,
    "start_time": "2022-11-27T20:49:51.686Z"
   },
   {
    "duration": 6,
    "start_time": "2022-11-27T20:50:02.652Z"
   },
   {
    "duration": 5,
    "start_time": "2022-11-27T20:51:57.763Z"
   },
   {
    "duration": 9,
    "start_time": "2022-11-28T04:17:20.619Z"
   },
   {
    "duration": 1519,
    "start_time": "2022-11-28T04:17:26.645Z"
   },
   {
    "duration": 1620,
    "start_time": "2022-11-28T04:17:28.166Z"
   },
   {
    "duration": 2,
    "start_time": "2022-11-28T04:17:29.788Z"
   },
   {
    "duration": 6,
    "start_time": "2022-11-28T04:17:29.792Z"
   },
   {
    "duration": 1945,
    "start_time": "2022-11-28T04:17:29.799Z"
   },
   {
    "duration": 3,
    "start_time": "2022-11-28T04:17:31.752Z"
   },
   {
    "duration": 20,
    "start_time": "2022-11-28T04:17:31.756Z"
   },
   {
    "duration": 7,
    "start_time": "2022-11-28T04:17:31.777Z"
   },
   {
    "duration": 35,
    "start_time": "2022-11-28T04:17:31.786Z"
   },
   {
    "duration": 3,
    "start_time": "2022-11-28T04:17:31.824Z"
   },
   {
    "duration": 335,
    "start_time": "2022-11-28T04:17:31.829Z"
   },
   {
    "duration": 99,
    "start_time": "2022-11-28T04:17:32.253Z"
   },
   {
    "duration": 2,
    "start_time": "2022-11-28T04:17:32.354Z"
   },
   {
    "duration": 5,
    "start_time": "2022-11-28T04:17:32.358Z"
   },
   {
    "duration": 6,
    "start_time": "2022-11-28T04:17:32.364Z"
   },
   {
    "duration": 6,
    "start_time": "2022-11-28T04:17:32.371Z"
   },
   {
    "duration": 25,
    "start_time": "2022-11-28T04:17:32.378Z"
   },
   {
    "duration": 8,
    "start_time": "2022-11-28T04:17:32.406Z"
   },
   {
    "duration": 17,
    "start_time": "2022-11-28T04:17:32.416Z"
   },
   {
    "duration": 7728,
    "start_time": "2022-11-28T04:17:32.435Z"
   },
   {
    "duration": 5,
    "start_time": "2022-11-28T04:17:40.165Z"
   },
   {
    "duration": 9,
    "start_time": "2022-11-28T04:17:40.171Z"
   },
   {
    "duration": 9,
    "start_time": "2022-11-28T04:17:40.181Z"
   },
   {
    "duration": 74,
    "start_time": "2022-11-28T04:23:52.959Z"
   },
   {
    "duration": 8,
    "start_time": "2022-11-28T04:38:57.353Z"
   },
   {
    "duration": 69,
    "start_time": "2022-11-28T04:39:19.908Z"
   },
   {
    "duration": 104,
    "start_time": "2022-11-28T04:39:28.236Z"
   },
   {
    "duration": 76,
    "start_time": "2022-11-28T04:39:36.531Z"
   },
   {
    "duration": 10,
    "start_time": "2022-11-28T04:39:41.071Z"
   },
   {
    "duration": 7,
    "start_time": "2022-11-28T04:40:01.670Z"
   },
   {
    "duration": 10,
    "start_time": "2022-11-28T04:42:17.091Z"
   },
   {
    "duration": 9,
    "start_time": "2022-11-28T04:42:40.997Z"
   },
   {
    "duration": 9,
    "start_time": "2022-11-28T04:42:51.544Z"
   },
   {
    "duration": 9,
    "start_time": "2022-11-28T04:43:09.118Z"
   },
   {
    "duration": 4,
    "start_time": "2022-11-28T04:55:49.047Z"
   },
   {
    "duration": 356,
    "start_time": "2022-11-28T04:55:49.111Z"
   },
   {
    "duration": 8,
    "start_time": "2022-11-28T04:55:49.469Z"
   },
   {
    "duration": 10,
    "start_time": "2022-11-28T04:55:49.478Z"
   },
   {
    "duration": 1744,
    "start_time": "2022-11-28T04:55:49.489Z"
   },
   {
    "duration": 3,
    "start_time": "2022-11-28T04:55:51.236Z"
   },
   {
    "duration": 7,
    "start_time": "2022-11-28T04:55:51.251Z"
   },
   {
    "duration": 7,
    "start_time": "2022-11-28T04:55:51.260Z"
   },
   {
    "duration": 29,
    "start_time": "2022-11-28T04:55:51.268Z"
   },
   {
    "duration": 4,
    "start_time": "2022-11-28T04:55:51.298Z"
   },
   {
    "duration": 150,
    "start_time": "2022-11-28T04:55:51.304Z"
   },
   {
    "duration": 98,
    "start_time": "2022-11-28T04:55:51.456Z"
   },
   {
    "duration": 100,
    "start_time": "2022-11-28T04:55:51.555Z"
   },
   {
    "duration": 5,
    "start_time": "2022-11-28T04:55:51.657Z"
   },
   {
    "duration": 5,
    "start_time": "2022-11-28T04:55:51.663Z"
   },
   {
    "duration": 8,
    "start_time": "2022-11-28T04:55:51.669Z"
   },
   {
    "duration": 20,
    "start_time": "2022-11-28T04:55:51.679Z"
   },
   {
    "duration": 10,
    "start_time": "2022-11-28T04:55:51.700Z"
   },
   {
    "duration": 9,
    "start_time": "2022-11-28T04:55:51.711Z"
   },
   {
    "duration": 7918,
    "start_time": "2022-11-28T04:55:51.722Z"
   },
   {
    "duration": 10,
    "start_time": "2022-11-28T04:55:59.642Z"
   },
   {
    "duration": 2,
    "start_time": "2022-11-28T04:56:59.970Z"
   },
   {
    "duration": 4,
    "start_time": "2022-11-28T04:59:24.385Z"
   },
   {
    "duration": 329,
    "start_time": "2022-11-28T04:59:24.396Z"
   },
   {
    "duration": 2,
    "start_time": "2022-11-28T04:59:24.727Z"
   },
   {
    "duration": 7,
    "start_time": "2022-11-28T04:59:24.731Z"
   },
   {
    "duration": 1781,
    "start_time": "2022-11-28T04:59:24.752Z"
   },
   {
    "duration": 4,
    "start_time": "2022-11-28T04:59:26.534Z"
   },
   {
    "duration": 7,
    "start_time": "2022-11-28T04:59:26.552Z"
   },
   {
    "duration": 6,
    "start_time": "2022-11-28T04:59:26.560Z"
   },
   {
    "duration": 32,
    "start_time": "2022-11-28T04:59:26.567Z"
   },
   {
    "duration": 3,
    "start_time": "2022-11-28T04:59:26.600Z"
   },
   {
    "duration": 5,
    "start_time": "2022-11-28T04:59:26.605Z"
   },
   {
    "duration": 12,
    "start_time": "2022-11-28T04:59:26.611Z"
   },
   {
    "duration": 0,
    "start_time": "2022-11-28T04:59:26.625Z"
   },
   {
    "duration": 0,
    "start_time": "2022-11-28T04:59:26.626Z"
   },
   {
    "duration": 0,
    "start_time": "2022-11-28T04:59:26.627Z"
   },
   {
    "duration": 0,
    "start_time": "2022-11-28T04:59:26.628Z"
   },
   {
    "duration": 0,
    "start_time": "2022-11-28T04:59:26.629Z"
   },
   {
    "duration": 0,
    "start_time": "2022-11-28T04:59:26.652Z"
   },
   {
    "duration": 1,
    "start_time": "2022-11-28T04:59:26.653Z"
   },
   {
    "duration": 0,
    "start_time": "2022-11-28T04:59:26.654Z"
   },
   {
    "duration": 0,
    "start_time": "2022-11-28T04:59:26.656Z"
   },
   {
    "duration": 0,
    "start_time": "2022-11-28T04:59:26.657Z"
   },
   {
    "duration": 3,
    "start_time": "2022-11-28T04:59:54.151Z"
   },
   {
    "duration": 354,
    "start_time": "2022-11-28T04:59:54.163Z"
   },
   {
    "duration": 8,
    "start_time": "2022-11-28T04:59:54.519Z"
   },
   {
    "duration": 9,
    "start_time": "2022-11-28T04:59:54.528Z"
   },
   {
    "duration": 1904,
    "start_time": "2022-11-28T04:59:54.539Z"
   },
   {
    "duration": 8,
    "start_time": "2022-11-28T04:59:56.444Z"
   },
   {
    "duration": 9,
    "start_time": "2022-11-28T04:59:56.454Z"
   },
   {
    "duration": 5,
    "start_time": "2022-11-28T04:59:56.465Z"
   },
   {
    "duration": 28,
    "start_time": "2022-11-28T04:59:56.471Z"
   },
   {
    "duration": 2,
    "start_time": "2022-11-28T04:59:56.501Z"
   },
   {
    "duration": 5,
    "start_time": "2022-11-28T04:59:56.505Z"
   },
   {
    "duration": 42,
    "start_time": "2022-11-28T04:59:56.512Z"
   },
   {
    "duration": 0,
    "start_time": "2022-11-28T04:59:56.556Z"
   },
   {
    "duration": 0,
    "start_time": "2022-11-28T04:59:56.557Z"
   },
   {
    "duration": 0,
    "start_time": "2022-11-28T04:59:56.559Z"
   },
   {
    "duration": 0,
    "start_time": "2022-11-28T04:59:56.560Z"
   },
   {
    "duration": 0,
    "start_time": "2022-11-28T04:59:56.561Z"
   },
   {
    "duration": 0,
    "start_time": "2022-11-28T04:59:56.562Z"
   },
   {
    "duration": 0,
    "start_time": "2022-11-28T04:59:56.563Z"
   },
   {
    "duration": 0,
    "start_time": "2022-11-28T04:59:56.563Z"
   },
   {
    "duration": 0,
    "start_time": "2022-11-28T04:59:56.564Z"
   },
   {
    "duration": 0,
    "start_time": "2022-11-28T04:59:56.565Z"
   },
   {
    "duration": 24,
    "start_time": "2022-11-28T05:01:21.313Z"
   },
   {
    "duration": 173,
    "start_time": "2022-11-28T05:01:43.281Z"
   },
   {
    "duration": 8,
    "start_time": "2022-11-28T05:01:51.587Z"
   },
   {
    "duration": 3,
    "start_time": "2022-11-28T05:01:59.753Z"
   },
   {
    "duration": 331,
    "start_time": "2022-11-28T05:01:59.762Z"
   },
   {
    "duration": 8,
    "start_time": "2022-11-28T05:02:00.095Z"
   },
   {
    "duration": 22,
    "start_time": "2022-11-28T05:02:00.105Z"
   },
   {
    "duration": 1816,
    "start_time": "2022-11-28T05:02:00.130Z"
   },
   {
    "duration": 3,
    "start_time": "2022-11-28T05:02:01.952Z"
   },
   {
    "duration": 20,
    "start_time": "2022-11-28T05:02:01.956Z"
   },
   {
    "duration": 9,
    "start_time": "2022-11-28T05:02:01.978Z"
   },
   {
    "duration": 41,
    "start_time": "2022-11-28T05:02:01.988Z"
   },
   {
    "duration": 2,
    "start_time": "2022-11-28T05:02:02.031Z"
   },
   {
    "duration": 12,
    "start_time": "2022-11-28T05:02:02.035Z"
   },
   {
    "duration": 105,
    "start_time": "2022-11-28T05:02:02.049Z"
   },
   {
    "duration": 99,
    "start_time": "2022-11-28T05:02:02.156Z"
   },
   {
    "duration": 96,
    "start_time": "2022-11-28T05:02:02.257Z"
   },
   {
    "duration": 19,
    "start_time": "2022-11-28T05:02:02.355Z"
   },
   {
    "duration": 11,
    "start_time": "2022-11-28T05:02:02.375Z"
   },
   {
    "duration": 14,
    "start_time": "2022-11-28T05:02:02.388Z"
   },
   {
    "duration": 9,
    "start_time": "2022-11-28T05:02:02.404Z"
   },
   {
    "duration": 10,
    "start_time": "2022-11-28T05:02:02.415Z"
   },
   {
    "duration": 13,
    "start_time": "2022-11-28T05:02:02.427Z"
   },
   {
    "duration": 7795,
    "start_time": "2022-11-28T05:02:02.442Z"
   },
   {
    "duration": 15,
    "start_time": "2022-11-28T05:02:10.239Z"
   },
   {
    "duration": 160,
    "start_time": "2022-11-28T05:02:45.597Z"
   },
   {
    "duration": 3,
    "start_time": "2022-11-28T05:03:09.854Z"
   },
   {
    "duration": 332,
    "start_time": "2022-11-28T05:03:09.864Z"
   },
   {
    "duration": 7,
    "start_time": "2022-11-28T05:03:10.198Z"
   },
   {
    "duration": 6,
    "start_time": "2022-11-28T05:03:10.206Z"
   },
   {
    "duration": 1938,
    "start_time": "2022-11-28T05:03:10.214Z"
   },
   {
    "duration": 3,
    "start_time": "2022-11-28T05:03:12.154Z"
   },
   {
    "duration": 9,
    "start_time": "2022-11-28T05:03:12.159Z"
   },
   {
    "duration": 5,
    "start_time": "2022-11-28T05:03:12.170Z"
   },
   {
    "duration": 25,
    "start_time": "2022-11-28T05:03:12.177Z"
   },
   {
    "duration": 3,
    "start_time": "2022-11-28T05:03:12.204Z"
   },
   {
    "duration": 5,
    "start_time": "2022-11-28T05:03:12.210Z"
   },
   {
    "duration": 239,
    "start_time": "2022-11-28T05:03:12.216Z"
   },
   {
    "duration": 3,
    "start_time": "2022-11-28T05:03:12.457Z"
   },
   {
    "duration": 92,
    "start_time": "2022-11-28T05:03:12.462Z"
   },
   {
    "duration": 101,
    "start_time": "2022-11-28T05:03:12.555Z"
   },
   {
    "duration": 9,
    "start_time": "2022-11-28T05:03:12.658Z"
   },
   {
    "duration": 6,
    "start_time": "2022-11-28T05:03:12.669Z"
   },
   {
    "duration": 8,
    "start_time": "2022-11-28T05:03:12.677Z"
   },
   {
    "duration": 6,
    "start_time": "2022-11-28T05:03:12.687Z"
   },
   {
    "duration": 7774,
    "start_time": "2022-11-28T05:03:12.694Z"
   },
   {
    "duration": 10,
    "start_time": "2022-11-28T05:03:20.469Z"
   },
   {
    "duration": 3,
    "start_time": "2022-11-28T05:05:08.727Z"
   },
   {
    "duration": 334,
    "start_time": "2022-11-28T05:05:08.738Z"
   },
   {
    "duration": 7,
    "start_time": "2022-11-28T05:05:09.074Z"
   },
   {
    "duration": 8,
    "start_time": "2022-11-28T05:05:09.082Z"
   },
   {
    "duration": 1869,
    "start_time": "2022-11-28T05:05:09.092Z"
   },
   {
    "duration": 4,
    "start_time": "2022-11-28T05:05:10.963Z"
   },
   {
    "duration": 18,
    "start_time": "2022-11-28T05:05:10.969Z"
   },
   {
    "duration": 10,
    "start_time": "2022-11-28T05:05:10.988Z"
   },
   {
    "duration": 28,
    "start_time": "2022-11-28T05:05:10.999Z"
   },
   {
    "duration": 3,
    "start_time": "2022-11-28T05:05:11.028Z"
   },
   {
    "duration": 8,
    "start_time": "2022-11-28T05:05:11.033Z"
   },
   {
    "duration": 214,
    "start_time": "2022-11-28T05:05:11.043Z"
   },
   {
    "duration": 92,
    "start_time": "2022-11-28T05:05:11.259Z"
   },
   {
    "duration": 3,
    "start_time": "2022-11-28T05:05:11.354Z"
   },
   {
    "duration": 4,
    "start_time": "2022-11-28T05:05:11.359Z"
   },
   {
    "duration": 7,
    "start_time": "2022-11-28T05:05:11.365Z"
   },
   {
    "duration": 82,
    "start_time": "2022-11-28T05:05:11.373Z"
   },
   {
    "duration": 20,
    "start_time": "2022-11-28T05:05:11.456Z"
   },
   {
    "duration": 10,
    "start_time": "2022-11-28T05:05:11.477Z"
   },
   {
    "duration": 7689,
    "start_time": "2022-11-28T05:05:11.488Z"
   },
   {
    "duration": 10,
    "start_time": "2022-11-28T05:05:19.179Z"
   }
  ],
  "kernelspec": {
   "display_name": "Python 3 (ipykernel)",
   "language": "python",
   "name": "python3"
  },
  "language_info": {
   "codemirror_mode": {
    "name": "ipython",
    "version": 3
   },
   "file_extension": ".py",
   "mimetype": "text/x-python",
   "name": "python",
   "nbconvert_exporter": "python",
   "pygments_lexer": "ipython3",
   "version": "3.9.12"
  },
  "toc": {
   "base_numbering": 1,
   "nav_menu": {},
   "number_sections": true,
   "sideBar": true,
   "skip_h1_title": true,
   "title_cell": "Table of Contents",
   "title_sidebar": "Contents",
   "toc_cell": false,
   "toc_position": {},
   "toc_section_display": true,
   "toc_window_display": false
  }
 },
 "nbformat": 4,
 "nbformat_minor": 2
}
