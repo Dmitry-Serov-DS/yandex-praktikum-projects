{
 "cells": [
  {
   "cell_type": "markdown",
   "metadata": {
    "toc": true
   },
   "source": [
    "<h1>Содержание<span class=\"tocSkip\"></span></h1>\n",
    "<div class=\"toc\"><ul class=\"toc-item\"><li><span><a href=\"#Постановка-задачи\" data-toc-modified-id=\"Постановка-задачи-1\"><span class=\"toc-item-num\">1&nbsp;&nbsp;</span>Постановка задачи</a></span></li><li><span><a href=\"#Загрузка-данных\" data-toc-modified-id=\"Загрузка-данных-2\"><span class=\"toc-item-num\">2&nbsp;&nbsp;</span>Загрузка данных</a></span></li><li><span><a href=\"#Умножение-матриц\" data-toc-modified-id=\"Умножение-матриц-3\"><span class=\"toc-item-num\">3&nbsp;&nbsp;</span>Умножение матриц</a></span></li><li><span><a href=\"#Алгоритм-преобразования\" data-toc-modified-id=\"Алгоритм-преобразования-4\"><span class=\"toc-item-num\">4&nbsp;&nbsp;</span>Алгоритм преобразования</a></span></li><li><span><a href=\"#Проверка-алгоритма\" data-toc-modified-id=\"Проверка-алгоритма-5\"><span class=\"toc-item-num\">5&nbsp;&nbsp;</span>Проверка алгоритма</a></span></li><li><span><a href=\"#Вывод\" data-toc-modified-id=\"Вывод-6\"><span class=\"toc-item-num\">6&nbsp;&nbsp;</span>Вывод</a></span></li><li><span><a href=\"#Чек-лист-проверки\" data-toc-modified-id=\"Чек-лист-проверки-7\"><span class=\"toc-item-num\">7&nbsp;&nbsp;</span>Чек-лист проверки</a></span></li></ul></div>"
   ]
  },
  {
   "cell_type": "markdown",
   "metadata": {},
   "source": [
    "# Защита персональных данных клиентов"
   ]
  },
  {
   "cell_type": "markdown",
   "metadata": {},
   "source": [
    "Вам нужно защитить данные клиентов страховой компании «Хоть потоп». Разработайте такой метод преобразования данных, чтобы по ним было сложно восстановить персональную информацию. Обоснуйте корректность его работы.\n",
    "\n",
    "Нужно защитить данные, чтобы при преобразовании качество моделей машинного обучения не ухудшилось. Подбирать наилучшую модель не требуется."
   ]
  },
  {
   "cell_type": "markdown",
   "metadata": {},
   "source": [
    "## Постановка задачи"
   ]
  },
  {
   "cell_type": "markdown",
   "metadata": {},
   "source": [
    "В нашем распоряжении данные клиентов страховой компании \"Хоть потоп\".   \n",
    "Нам необходимо разработать алгоритм преобразования данных, чтобы защитить персональную информацию клиентов компании. Для этого необходимо преобразовать данные таким образом, чтобы качество работы моделей машинного обучения не ухудшалось."
   ]
  },
  {
   "cell_type": "markdown",
   "metadata": {},
   "source": [
    "## Загрузка данных"
   ]
  },
  {
   "cell_type": "code",
   "execution_count": 82,
   "metadata": {},
   "outputs": [
    {
     "name": "stdout",
     "output_type": "stream",
     "text": [
      "Requirement already satisfied: phik in /opt/conda/lib/python3.9/site-packages (0.12.3)\n",
      "Requirement already satisfied: pandas>=0.25.1 in /opt/conda/lib/python3.9/site-packages (from phik) (1.2.4)\n",
      "Requirement already satisfied: matplotlib>=2.2.3 in /opt/conda/lib/python3.9/site-packages (from phik) (3.3.4)\n",
      "Requirement already satisfied: numpy>=1.18.0 in /opt/conda/lib/python3.9/site-packages (from phik) (1.21.1)\n",
      "Requirement already satisfied: joblib>=0.14.1 in /opt/conda/lib/python3.9/site-packages (from phik) (1.1.0)\n",
      "Requirement already satisfied: scipy>=1.5.2 in /opt/conda/lib/python3.9/site-packages (from phik) (1.9.1)\n",
      "Requirement already satisfied: pillow>=6.2.0 in /opt/conda/lib/python3.9/site-packages (from matplotlib>=2.2.3->phik) (8.4.0)\n",
      "Requirement already satisfied: kiwisolver>=1.0.1 in /opt/conda/lib/python3.9/site-packages (from matplotlib>=2.2.3->phik) (1.4.4)\n",
      "Requirement already satisfied: pyparsing!=2.0.4,!=2.1.2,!=2.1.6,>=2.0.3 in /opt/conda/lib/python3.9/site-packages (from matplotlib>=2.2.3->phik) (2.4.7)\n",
      "Requirement already satisfied: python-dateutil>=2.1 in /opt/conda/lib/python3.9/site-packages (from matplotlib>=2.2.3->phik) (2.8.1)\n",
      "Requirement already satisfied: cycler>=0.10 in /opt/conda/lib/python3.9/site-packages (from matplotlib>=2.2.3->phik) (0.11.0)\n",
      "Requirement already satisfied: pytz>=2017.3 in /opt/conda/lib/python3.9/site-packages (from pandas>=0.25.1->phik) (2021.1)\n",
      "Requirement already satisfied: six>=1.5 in /opt/conda/lib/python3.9/site-packages (from python-dateutil>=2.1->matplotlib>=2.2.3->phik) (1.16.0)\n"
     ]
    }
   ],
   "source": [
    "!pip install phik"
   ]
  },
  {
   "cell_type": "code",
   "execution_count": 83,
   "metadata": {},
   "outputs": [],
   "source": [
    "# загрузим необходимые библиотеки\n",
    "import pandas as pd\n",
    "import seaborn as sns\n",
    "import matplotlib.pyplot as plt\n",
    "import numpy as np\n",
    "from sklearn.metrics import r2_score\n",
    "from sklearn.linear_model import LinearRegression\n",
    "\n",
    "import phik\n",
    "from phik.report import plot_correlation_matrix, correlation_report"
   ]
  },
  {
   "cell_type": "code",
   "execution_count": 84,
   "metadata": {
    "scrolled": false
   },
   "outputs": [
    {
     "data": {
      "text/html": [
       "<div>\n",
       "<style scoped>\n",
       "    .dataframe tbody tr th:only-of-type {\n",
       "        vertical-align: middle;\n",
       "    }\n",
       "\n",
       "    .dataframe tbody tr th {\n",
       "        vertical-align: top;\n",
       "    }\n",
       "\n",
       "    .dataframe thead th {\n",
       "        text-align: right;\n",
       "    }\n",
       "</style>\n",
       "<table border=\"1\" class=\"dataframe\">\n",
       "  <thead>\n",
       "    <tr style=\"text-align: right;\">\n",
       "      <th></th>\n",
       "      <th>Пол</th>\n",
       "      <th>Возраст</th>\n",
       "      <th>Зарплата</th>\n",
       "      <th>Члены семьи</th>\n",
       "      <th>Страховые выплаты</th>\n",
       "    </tr>\n",
       "  </thead>\n",
       "  <tbody>\n",
       "    <tr>\n",
       "      <th>0</th>\n",
       "      <td>1</td>\n",
       "      <td>41.0</td>\n",
       "      <td>49600.0</td>\n",
       "      <td>1</td>\n",
       "      <td>0</td>\n",
       "    </tr>\n",
       "    <tr>\n",
       "      <th>1</th>\n",
       "      <td>0</td>\n",
       "      <td>46.0</td>\n",
       "      <td>38000.0</td>\n",
       "      <td>1</td>\n",
       "      <td>1</td>\n",
       "    </tr>\n",
       "    <tr>\n",
       "      <th>2</th>\n",
       "      <td>0</td>\n",
       "      <td>29.0</td>\n",
       "      <td>21000.0</td>\n",
       "      <td>0</td>\n",
       "      <td>0</td>\n",
       "    </tr>\n",
       "    <tr>\n",
       "      <th>3</th>\n",
       "      <td>0</td>\n",
       "      <td>21.0</td>\n",
       "      <td>41700.0</td>\n",
       "      <td>2</td>\n",
       "      <td>0</td>\n",
       "    </tr>\n",
       "    <tr>\n",
       "      <th>4</th>\n",
       "      <td>1</td>\n",
       "      <td>28.0</td>\n",
       "      <td>26100.0</td>\n",
       "      <td>0</td>\n",
       "      <td>0</td>\n",
       "    </tr>\n",
       "  </tbody>\n",
       "</table>\n",
       "</div>"
      ],
      "text/plain": [
       "   Пол  Возраст  Зарплата  Члены семьи  Страховые выплаты\n",
       "0    1     41.0   49600.0            1                  0\n",
       "1    0     46.0   38000.0            1                  1\n",
       "2    0     29.0   21000.0            0                  0\n",
       "3    0     21.0   41700.0            2                  0\n",
       "4    1     28.0   26100.0            0                  0"
      ]
     },
     "execution_count": 84,
     "metadata": {},
     "output_type": "execute_result"
    }
   ],
   "source": [
    "# загрузим данные и выведем первые 5 строк на экран, чтобы убедиться в том, что данные считались корректно\n",
    "data = pd.read_csv('/datasets/insurance.csv')\n",
    "data.head()"
   ]
  },
  {
   "cell_type": "markdown",
   "metadata": {},
   "source": [
    "Посмотрим основные статистические метрики"
   ]
  },
  {
   "cell_type": "code",
   "execution_count": 85,
   "metadata": {},
   "outputs": [
    {
     "data": {
      "text/html": [
       "<div>\n",
       "<style scoped>\n",
       "    .dataframe tbody tr th:only-of-type {\n",
       "        vertical-align: middle;\n",
       "    }\n",
       "\n",
       "    .dataframe tbody tr th {\n",
       "        vertical-align: top;\n",
       "    }\n",
       "\n",
       "    .dataframe thead th {\n",
       "        text-align: right;\n",
       "    }\n",
       "</style>\n",
       "<table border=\"1\" class=\"dataframe\">\n",
       "  <thead>\n",
       "    <tr style=\"text-align: right;\">\n",
       "      <th></th>\n",
       "      <th>Пол</th>\n",
       "      <th>Возраст</th>\n",
       "      <th>Зарплата</th>\n",
       "      <th>Члены семьи</th>\n",
       "      <th>Страховые выплаты</th>\n",
       "    </tr>\n",
       "  </thead>\n",
       "  <tbody>\n",
       "    <tr>\n",
       "      <th>count</th>\n",
       "      <td>5000.000000</td>\n",
       "      <td>5000.000000</td>\n",
       "      <td>5000.000000</td>\n",
       "      <td>5000.000000</td>\n",
       "      <td>5000.000000</td>\n",
       "    </tr>\n",
       "    <tr>\n",
       "      <th>mean</th>\n",
       "      <td>0.499000</td>\n",
       "      <td>30.952800</td>\n",
       "      <td>39916.360000</td>\n",
       "      <td>1.194200</td>\n",
       "      <td>0.148000</td>\n",
       "    </tr>\n",
       "    <tr>\n",
       "      <th>std</th>\n",
       "      <td>0.500049</td>\n",
       "      <td>8.440807</td>\n",
       "      <td>9900.083569</td>\n",
       "      <td>1.091387</td>\n",
       "      <td>0.463183</td>\n",
       "    </tr>\n",
       "    <tr>\n",
       "      <th>min</th>\n",
       "      <td>0.000000</td>\n",
       "      <td>18.000000</td>\n",
       "      <td>5300.000000</td>\n",
       "      <td>0.000000</td>\n",
       "      <td>0.000000</td>\n",
       "    </tr>\n",
       "    <tr>\n",
       "      <th>25%</th>\n",
       "      <td>0.000000</td>\n",
       "      <td>24.000000</td>\n",
       "      <td>33300.000000</td>\n",
       "      <td>0.000000</td>\n",
       "      <td>0.000000</td>\n",
       "    </tr>\n",
       "    <tr>\n",
       "      <th>50%</th>\n",
       "      <td>0.000000</td>\n",
       "      <td>30.000000</td>\n",
       "      <td>40200.000000</td>\n",
       "      <td>1.000000</td>\n",
       "      <td>0.000000</td>\n",
       "    </tr>\n",
       "    <tr>\n",
       "      <th>75%</th>\n",
       "      <td>1.000000</td>\n",
       "      <td>37.000000</td>\n",
       "      <td>46600.000000</td>\n",
       "      <td>2.000000</td>\n",
       "      <td>0.000000</td>\n",
       "    </tr>\n",
       "    <tr>\n",
       "      <th>max</th>\n",
       "      <td>1.000000</td>\n",
       "      <td>65.000000</td>\n",
       "      <td>79000.000000</td>\n",
       "      <td>6.000000</td>\n",
       "      <td>5.000000</td>\n",
       "    </tr>\n",
       "  </tbody>\n",
       "</table>\n",
       "</div>"
      ],
      "text/plain": [
       "               Пол      Возраст      Зарплата  Члены семьи  Страховые выплаты\n",
       "count  5000.000000  5000.000000   5000.000000  5000.000000        5000.000000\n",
       "mean      0.499000    30.952800  39916.360000     1.194200           0.148000\n",
       "std       0.500049     8.440807   9900.083569     1.091387           0.463183\n",
       "min       0.000000    18.000000   5300.000000     0.000000           0.000000\n",
       "25%       0.000000    24.000000  33300.000000     0.000000           0.000000\n",
       "50%       0.000000    30.000000  40200.000000     1.000000           0.000000\n",
       "75%       1.000000    37.000000  46600.000000     2.000000           0.000000\n",
       "max       1.000000    65.000000  79000.000000     6.000000           5.000000"
      ]
     },
     "execution_count": 85,
     "metadata": {},
     "output_type": "execute_result"
    }
   ],
   "source": [
    "data.describe()"
   ]
  },
  {
   "cell_type": "markdown",
   "metadata": {},
   "source": [
    "Построим графики, чтобы посмотреть как распределяются данные и есть ли выбросы"
   ]
  },
  {
   "cell_type": "code",
   "execution_count": 86,
   "metadata": {
    "scrolled": true
   },
   "outputs": [
    {
     "data": {
      "image/png": "[encoded data removed]",
      "text/plain": [
       "<Figure size 432x288 with 1 Axes>"
      ]
     },
     "metadata": {
      "needs_background": "light"
     },
     "output_type": "display_data"
    }
   ],
   "source": [
    "data['Возраст'].plot(kind='box')\n",
    "plt.title('Распределение признака Возраст')\n",
    "plt.ylabel('Количество лет')\n",
    "plt.show()"
   ]
  },
  {
   "cell_type": "code",
   "execution_count": 87,
   "metadata": {
    "scrolled": false
   },
   "outputs": [
    {
     "data": {
      "image/png": "[encoded data removed]",
      "text/plain": [
       "<Figure size 432x288 with 1 Axes>"
      ]
     },
     "metadata": {
      "needs_background": "light"
     },
     "output_type": "display_data"
    }
   ],
   "source": [
    "data['Зарплата'].plot(kind='box')\n",
    "plt.title('Распределение признака Зарплата')\n",
    "plt.ylabel('Рубли')\n",
    "plt.show()"
   ]
  },
  {
   "cell_type": "markdown",
   "metadata": {},
   "source": [
    "Посмотрим какое количество клиентов зарабатывают менее 10 тыс рублей"
   ]
  },
  {
   "cell_type": "code",
   "execution_count": 88,
   "metadata": {
    "scrolled": true
   },
   "outputs": [
    {
     "data": {
      "text/html": [
       "<div>\n",
       "<style scoped>\n",
       "    .dataframe tbody tr th:only-of-type {\n",
       "        vertical-align: middle;\n",
       "    }\n",
       "\n",
       "    .dataframe tbody tr th {\n",
       "        vertical-align: top;\n",
       "    }\n",
       "\n",
       "    .dataframe thead th {\n",
       "        text-align: right;\n",
       "    }\n",
       "</style>\n",
       "<table border=\"1\" class=\"dataframe\">\n",
       "  <thead>\n",
       "    <tr style=\"text-align: right;\">\n",
       "      <th></th>\n",
       "      <th>Пол</th>\n",
       "      <th>Возраст</th>\n",
       "      <th>Зарплата</th>\n",
       "      <th>Члены семьи</th>\n",
       "      <th>Страховые выплаты</th>\n",
       "    </tr>\n",
       "  </thead>\n",
       "  <tbody>\n",
       "    <tr>\n",
       "      <th>437</th>\n",
       "      <td>0</td>\n",
       "      <td>28.0</td>\n",
       "      <td>8900.0</td>\n",
       "      <td>4</td>\n",
       "      <td>0</td>\n",
       "    </tr>\n",
       "    <tr>\n",
       "      <th>483</th>\n",
       "      <td>0</td>\n",
       "      <td>29.0</td>\n",
       "      <td>9800.0</td>\n",
       "      <td>2</td>\n",
       "      <td>0</td>\n",
       "    </tr>\n",
       "    <tr>\n",
       "      <th>726</th>\n",
       "      <td>1</td>\n",
       "      <td>20.0</td>\n",
       "      <td>5300.0</td>\n",
       "      <td>1</td>\n",
       "      <td>0</td>\n",
       "    </tr>\n",
       "    <tr>\n",
       "      <th>2221</th>\n",
       "      <td>0</td>\n",
       "      <td>32.0</td>\n",
       "      <td>10000.0</td>\n",
       "      <td>1</td>\n",
       "      <td>0</td>\n",
       "    </tr>\n",
       "    <tr>\n",
       "      <th>4164</th>\n",
       "      <td>1</td>\n",
       "      <td>40.0</td>\n",
       "      <td>6000.0</td>\n",
       "      <td>1</td>\n",
       "      <td>0</td>\n",
       "    </tr>\n",
       "    <tr>\n",
       "      <th>4623</th>\n",
       "      <td>0</td>\n",
       "      <td>41.0</td>\n",
       "      <td>7400.0</td>\n",
       "      <td>0</td>\n",
       "      <td>0</td>\n",
       "    </tr>\n",
       "  </tbody>\n",
       "</table>\n",
       "</div>"
      ],
      "text/plain": [
       "      Пол  Возраст  Зарплата  Члены семьи  Страховые выплаты\n",
       "437     0     28.0    8900.0            4                  0\n",
       "483     0     29.0    9800.0            2                  0\n",
       "726     1     20.0    5300.0            1                  0\n",
       "2221    0     32.0   10000.0            1                  0\n",
       "4164    1     40.0    6000.0            1                  0\n",
       "4623    0     41.0    7400.0            0                  0"
      ]
     },
     "execution_count": 88,
     "metadata": {},
     "output_type": "execute_result"
    }
   ],
   "source": [
    "data[data['Зарплата'] <= 10000]"
   ]
  },
  {
   "cell_type": "code",
   "execution_count": 89,
   "metadata": {},
   "outputs": [
    {
     "data": {
      "image/png": "[encoded data removed]",
      "text/plain": [
       "<Figure size 432x288 with 1 Axes>"
      ]
     },
     "metadata": {
      "needs_background": "light"
     },
     "output_type": "display_data"
    }
   ],
   "source": [
    "data['Члены семьи'].plot(kind='box')\n",
    "plt.title('Распределение признака количество членов семьи')\n",
    "plt.ylabel('Количество членов семьи')\n",
    "plt.show()"
   ]
  },
  {
   "cell_type": "code",
   "execution_count": 90,
   "metadata": {
    "scrolled": false
   },
   "outputs": [
    {
     "data": {
      "image/png": "[encoded data removed]",
      "text/plain": [
       "<Figure size 432x288 with 1 Axes>"
      ]
     },
     "metadata": {
      "needs_background": "light"
     },
     "output_type": "display_data"
    }
   ],
   "source": [
    "sns.barplot(data = data.pivot_table(index='Члены семьи', values='Возраст', aggfunc='count').reset_index(), x='Члены семьи', y='Возраст')\n",
    "plt.title('Распределение клиентов по количеству членов семьи')\n",
    "plt.ylabel('Количество клиентов')\n",
    "plt.show()"
   ]
  },
  {
   "cell_type": "markdown",
   "metadata": {},
   "source": [
    "Проверим наличие корреляции между признаками"
   ]
  },
  {
   "cell_type": "code",
   "execution_count": 91,
   "metadata": {
    "scrolled": true
   },
   "outputs": [
    {
     "data": {
      "text/html": [
       "<div>\n",
       "<style scoped>\n",
       "    .dataframe tbody tr th:only-of-type {\n",
       "        vertical-align: middle;\n",
       "    }\n",
       "\n",
       "    .dataframe tbody tr th {\n",
       "        vertical-align: top;\n",
       "    }\n",
       "\n",
       "    .dataframe thead th {\n",
       "        text-align: right;\n",
       "    }\n",
       "</style>\n",
       "<table border=\"1\" class=\"dataframe\">\n",
       "  <thead>\n",
       "    <tr style=\"text-align: right;\">\n",
       "      <th></th>\n",
       "      <th>Пол</th>\n",
       "      <th>Возраст</th>\n",
       "      <th>Зарплата</th>\n",
       "      <th>Члены семьи</th>\n",
       "      <th>Страховые выплаты</th>\n",
       "    </tr>\n",
       "  </thead>\n",
       "  <tbody>\n",
       "    <tr>\n",
       "      <th>Пол</th>\n",
       "      <td>1.000000</td>\n",
       "      <td>0.002074</td>\n",
       "      <td>0.014910</td>\n",
       "      <td>-0.008991</td>\n",
       "      <td>0.010140</td>\n",
       "    </tr>\n",
       "    <tr>\n",
       "      <th>Возраст</th>\n",
       "      <td>0.002074</td>\n",
       "      <td>1.000000</td>\n",
       "      <td>-0.019093</td>\n",
       "      <td>-0.006692</td>\n",
       "      <td>0.651030</td>\n",
       "    </tr>\n",
       "    <tr>\n",
       "      <th>Зарплата</th>\n",
       "      <td>0.014910</td>\n",
       "      <td>-0.019093</td>\n",
       "      <td>1.000000</td>\n",
       "      <td>-0.030296</td>\n",
       "      <td>-0.014963</td>\n",
       "    </tr>\n",
       "    <tr>\n",
       "      <th>Члены семьи</th>\n",
       "      <td>-0.008991</td>\n",
       "      <td>-0.006692</td>\n",
       "      <td>-0.030296</td>\n",
       "      <td>1.000000</td>\n",
       "      <td>-0.036290</td>\n",
       "    </tr>\n",
       "    <tr>\n",
       "      <th>Страховые выплаты</th>\n",
       "      <td>0.010140</td>\n",
       "      <td>0.651030</td>\n",
       "      <td>-0.014963</td>\n",
       "      <td>-0.036290</td>\n",
       "      <td>1.000000</td>\n",
       "    </tr>\n",
       "  </tbody>\n",
       "</table>\n",
       "</div>"
      ],
      "text/plain": [
       "                        Пол   Возраст  Зарплата  Члены семьи  \\\n",
       "Пол                1.000000  0.002074  0.014910    -0.008991   \n",
       "Возраст            0.002074  1.000000 -0.019093    -0.006692   \n",
       "Зарплата           0.014910 -0.019093  1.000000    -0.030296   \n",
       "Члены семьи       -0.008991 -0.006692 -0.030296     1.000000   \n",
       "Страховые выплаты  0.010140  0.651030 -0.014963    -0.036290   \n",
       "\n",
       "                   Страховые выплаты  \n",
       "Пол                         0.010140  \n",
       "Возраст                     0.651030  \n",
       "Зарплата                   -0.014963  \n",
       "Члены семьи                -0.036290  \n",
       "Страховые выплаты           1.000000  "
      ]
     },
     "execution_count": 91,
     "metadata": {},
     "output_type": "execute_result"
    }
   ],
   "source": [
    "data.corr()"
   ]
  },
  {
   "cell_type": "code",
   "execution_count": 92,
   "metadata": {
    "scrolled": true
   },
   "outputs": [
    {
     "name": "stdout",
     "output_type": "stream",
     "text": [
      "interval columns not set, guessing: ['Пол', 'Возраст', 'Зарплата', 'Члены семьи', 'Страховые выплаты']\n",
      "CPU times: user 86.9 ms, sys: 0 ns, total: 86.9 ms\n",
      "Wall time: 88.8 ms\n"
     ]
    }
   ],
   "source": [
    "%%time\n",
    "phik_overview = data.phik_matrix()"
   ]
  },
  {
   "cell_type": "code",
   "execution_count": 93,
   "metadata": {},
   "outputs": [
    {
     "data": {
      "text/html": [
       "<div>\n",
       "<style scoped>\n",
       "    .dataframe tbody tr th:only-of-type {\n",
       "        vertical-align: middle;\n",
       "    }\n",
       "\n",
       "    .dataframe tbody tr th {\n",
       "        vertical-align: top;\n",
       "    }\n",
       "\n",
       "    .dataframe thead th {\n",
       "        text-align: right;\n",
       "    }\n",
       "</style>\n",
       "<table border=\"1\" class=\"dataframe\">\n",
       "  <thead>\n",
       "    <tr style=\"text-align: right;\">\n",
       "      <th></th>\n",
       "      <th>Пол</th>\n",
       "      <th>Возраст</th>\n",
       "      <th>Зарплата</th>\n",
       "      <th>Члены семьи</th>\n",
       "      <th>Страховые выплаты</th>\n",
       "    </tr>\n",
       "  </thead>\n",
       "  <tbody>\n",
       "    <tr>\n",
       "      <th>Пол</th>\n",
       "      <td>1.000000</td>\n",
       "      <td>0.000000</td>\n",
       "      <td>0.000000</td>\n",
       "      <td>0.0</td>\n",
       "      <td>0.032181</td>\n",
       "    </tr>\n",
       "    <tr>\n",
       "      <th>Возраст</th>\n",
       "      <td>0.000000</td>\n",
       "      <td>1.000000</td>\n",
       "      <td>0.071073</td>\n",
       "      <td>0.0</td>\n",
       "      <td>0.884865</td>\n",
       "    </tr>\n",
       "    <tr>\n",
       "      <th>Зарплата</th>\n",
       "      <td>0.000000</td>\n",
       "      <td>0.071073</td>\n",
       "      <td>1.000000</td>\n",
       "      <td>0.0</td>\n",
       "      <td>0.000000</td>\n",
       "    </tr>\n",
       "    <tr>\n",
       "      <th>Члены семьи</th>\n",
       "      <td>0.000000</td>\n",
       "      <td>0.000000</td>\n",
       "      <td>0.000000</td>\n",
       "      <td>1.0</td>\n",
       "      <td>0.000000</td>\n",
       "    </tr>\n",
       "    <tr>\n",
       "      <th>Страховые выплаты</th>\n",
       "      <td>0.032181</td>\n",
       "      <td>0.884865</td>\n",
       "      <td>0.000000</td>\n",
       "      <td>0.0</td>\n",
       "      <td>1.000000</td>\n",
       "    </tr>\n",
       "  </tbody>\n",
       "</table>\n",
       "</div>"
      ],
      "text/plain": [
       "                        Пол   Возраст  Зарплата  Члены семьи  \\\n",
       "Пол                1.000000  0.000000  0.000000          0.0   \n",
       "Возраст            0.000000  1.000000  0.071073          0.0   \n",
       "Зарплата           0.000000  0.071073  1.000000          0.0   \n",
       "Члены семьи        0.000000  0.000000  0.000000          1.0   \n",
       "Страховые выплаты  0.032181  0.884865  0.000000          0.0   \n",
       "\n",
       "                   Страховые выплаты  \n",
       "Пол                         0.032181  \n",
       "Возраст                     0.884865  \n",
       "Зарплата                    0.000000  \n",
       "Члены семьи                 0.000000  \n",
       "Страховые выплаты           1.000000  "
      ]
     },
     "execution_count": 93,
     "metadata": {},
     "output_type": "execute_result"
    }
   ],
   "source": [
    "corr = pd.DataFrame(phik_overview.values, index= phik_overview.index,  columns = phik_overview.columns)\n",
    "corr"
   ]
  },
  {
   "cell_type": "code",
   "execution_count": 94,
   "metadata": {
    "scrolled": false
   },
   "outputs": [
    {
     "data": {
      "image/png": "[encoded data removed]",
      "text/plain": [
       "<Figure size 504x360 with 2 Axes>"
      ]
     },
     "metadata": {
      "needs_background": "light"
     },
     "output_type": "display_data"
    }
   ],
   "source": [
    "plot_correlation_matrix(corr.values, corr.columns.values, corr.columns.values)\n",
    "plt.title('Матрица корреляции Phik')\n",
    "plt.show()"
   ]
  },
  {
   "cell_type": "markdown",
   "metadata": {},
   "source": [
    "**Вывод:**  \n",
    "При анализе матрицы корреляции Phik выявили, что признак **Возраст** имеет сильную прямую корреляцию с целелым признаком"
   ]
  },
  {
   "cell_type": "markdown",
   "metadata": {},
   "source": [
    "## Умножение матриц"
   ]
  },
  {
   "cell_type": "markdown",
   "metadata": {},
   "source": [
    "В этом задании вы можете записывать формулы в *Jupyter Notebook.*\n",
    "\n",
    "Чтобы записать формулу внутри текста, окружите её символами доллара \\\\$; если снаружи —  двойными символами \\\\$\\\\$. Эти формулы записываются на языке вёрстки *LaTeX.* \n",
    "\n",
    "Для примера мы записали формулы линейной регрессии. Можете их скопировать и отредактировать, чтобы решить задачу.\n",
    "\n",
    "Работать в *LaTeX* необязательно."
   ]
  },
  {
   "cell_type": "markdown",
   "metadata": {},
   "source": [
    "Обозначения:\n",
    "\n",
    "- $X$ — матрица признаков (нулевой столбец состоит из единиц)\n",
    "\n",
    "- $y$ — вектор целевого признака\n",
    "\n",
    "- $P$ — матрица, на которую умножаются признаки\n",
    "\n",
    "- $w$ — вектор весов линейной регрессии (нулевой элемент равен сдвигу)"
   ]
  },
  {
   "cell_type": "markdown",
   "metadata": {},
   "source": [
    "Предсказания:\n",
    "\n",
    "$$\n",
    "a = Xw\n",
    "$$\n",
    "\n",
    "Задача обучения:\n",
    "\n",
    "$$\n",
    "w = \\arg\\min_w MSE(Xw, y)\n",
    "$$\n",
    "\n",
    "Формула обучения:\n",
    "\n",
    "$$\n",
    "w = (X^T X)^{-1} X^T y\n",
    "$$"
   ]
  },
  {
   "cell_type": "markdown",
   "metadata": {},
   "source": [
    "**Ответ:** Не изменится\n",
    "\n",
    "**Обоснование:**  \n",
    "Изначальные формулы:\n",
    "$$a = X*w$$\n",
    "$$w = (X^T X)^{-1} X^T y$$\n",
    "\n",
    "Умножим\n",
    "признаки **X** на обратимую матрицу **P**:  \n",
    "$$a = X * P * w$$\n",
    "$$w = ((X*P)^T X*P)^{-1} (X*P)^T y$$\n",
    "\n",
    "Этап 1: Рассчитаем $w$. Расскроем скобки:\n",
    "$$w = (( P^T * X^T * X * P)^{-1} *P^T * X^T * y$$\n",
    "\n",
    "Этап 2: Т.к. матрица обратима, т.е. имеет обратную матрицу значит к ней верно выражение $(AB)^{-1} = B^{-1} A^{-1}$  \n",
    "Вынесем за скобки $P$, по правилам сочетательного свойства: $(ABC)^{-1} = (C)^{-1} (AB)^{-1}$ , получим:\n",
    "\n",
    "$$w = P^{-1} * (P^T * X^T * X)^{-1} *P^T *X^T * y$$\n",
    "\n",
    "Этап 3: Вынесем за скобки $P^T$\n",
    "$$w = P^{-1} * (X^T * X)^{-1} * (P^T)^{-1} *P^T *X^T * y$$\n",
    "\n",
    "Этап 4: Произведем преобразование:  \n",
    "Произведение $(P^T)^{-1}$ на $P^T$ даст единичную матрицу\n",
    "\n",
    "Получим:\n",
    "$$w = P^{-1} * (X^T * X)^{-1} * X^T * y$$\n",
    "\n",
    "Этап 4: Подставим полученную $w$ в формулу\n",
    "$$\n",
    "a = X*P*w\n",
    "$$\n",
    "Получаем: \n",
    "$$ a = X * P  * P^{-1} * (X^T * X)^{-1} *X^T * y$$\n",
    "\n",
    "Этап 4: Финальное преобразование\n",
    "$$ P *  P^{-1} = E$$\n",
    "$$ a = X * (X^T X)^{-1} X^T y$$\n",
    "т.е. \n",
    "$$ a = Xw$$"
   ]
  },
  {
   "cell_type": "markdown",
   "metadata": {},
   "source": [
    "**Вывод:**  \n",
    "Отсюда видим, что при перемножении признаков на обратимую матрицу не изменится качество работы модели линейной регрессии"
   ]
  },
  {
   "cell_type": "markdown",
   "metadata": {},
   "source": [
    "## Алгоритм преобразования"
   ]
  },
  {
   "cell_type": "markdown",
   "metadata": {},
   "source": [
    "**Алгоритм**\n",
    "1. Создадим случайную обратимую матрицу P размером 5х5.    \n",
    "2. ПРоверим, что матрица орбатима: либо определитель матрицы (детерминант) не равен 0, либо должно выполняться условие:\n",
    "$$ P * P^{-1} = E$$\n",
    "3. Умножим матрицу целевых признаков на матрицу P\n",
    "$$ X * P$$\n",
    "4. Произведем обучение модели на преобразованных признаках.\n",
    "5. Сравним метрики R2 на исходных данных и признаках, чтобы убедиться в сохранении качества работы модели."
   ]
  },
  {
   "cell_type": "markdown",
   "metadata": {},
   "source": [
    "**Обоснование**\n",
    "\n",
    "Из доказательства в блоке 2 знаем, что если умножить признаки на обратимую матрицу, то качество работы линейной модели на преобразованных признаках не изменится"
   ]
  },
  {
   "cell_type": "markdown",
   "metadata": {},
   "source": [
    "## Проверка алгоритма"
   ]
  },
  {
   "cell_type": "markdown",
   "metadata": {},
   "source": [
    "Разобьем данные на признаки и целевой признак **Страховые выплаты**"
   ]
  },
  {
   "cell_type": "code",
   "execution_count": 95,
   "metadata": {
    "scrolled": false
   },
   "outputs": [
    {
     "data": {
      "text/html": [
       "<div>\n",
       "<style scoped>\n",
       "    .dataframe tbody tr th:only-of-type {\n",
       "        vertical-align: middle;\n",
       "    }\n",
       "\n",
       "    .dataframe tbody tr th {\n",
       "        vertical-align: top;\n",
       "    }\n",
       "\n",
       "    .dataframe thead th {\n",
       "        text-align: right;\n",
       "    }\n",
       "</style>\n",
       "<table border=\"1\" class=\"dataframe\">\n",
       "  <thead>\n",
       "    <tr style=\"text-align: right;\">\n",
       "      <th></th>\n",
       "      <th>Пол</th>\n",
       "      <th>Возраст</th>\n",
       "      <th>Зарплата</th>\n",
       "      <th>Члены семьи</th>\n",
       "    </tr>\n",
       "  </thead>\n",
       "  <tbody>\n",
       "    <tr>\n",
       "      <th>0</th>\n",
       "      <td>1</td>\n",
       "      <td>41.0</td>\n",
       "      <td>49600.0</td>\n",
       "      <td>1</td>\n",
       "    </tr>\n",
       "    <tr>\n",
       "      <th>1</th>\n",
       "      <td>0</td>\n",
       "      <td>46.0</td>\n",
       "      <td>38000.0</td>\n",
       "      <td>1</td>\n",
       "    </tr>\n",
       "    <tr>\n",
       "      <th>2</th>\n",
       "      <td>0</td>\n",
       "      <td>29.0</td>\n",
       "      <td>21000.0</td>\n",
       "      <td>0</td>\n",
       "    </tr>\n",
       "    <tr>\n",
       "      <th>3</th>\n",
       "      <td>0</td>\n",
       "      <td>21.0</td>\n",
       "      <td>41700.0</td>\n",
       "      <td>2</td>\n",
       "    </tr>\n",
       "    <tr>\n",
       "      <th>4</th>\n",
       "      <td>1</td>\n",
       "      <td>28.0</td>\n",
       "      <td>26100.0</td>\n",
       "      <td>0</td>\n",
       "    </tr>\n",
       "    <tr>\n",
       "      <th>...</th>\n",
       "      <td>...</td>\n",
       "      <td>...</td>\n",
       "      <td>...</td>\n",
       "      <td>...</td>\n",
       "    </tr>\n",
       "    <tr>\n",
       "      <th>4995</th>\n",
       "      <td>0</td>\n",
       "      <td>28.0</td>\n",
       "      <td>35700.0</td>\n",
       "      <td>2</td>\n",
       "    </tr>\n",
       "    <tr>\n",
       "      <th>4996</th>\n",
       "      <td>0</td>\n",
       "      <td>34.0</td>\n",
       "      <td>52400.0</td>\n",
       "      <td>1</td>\n",
       "    </tr>\n",
       "    <tr>\n",
       "      <th>4997</th>\n",
       "      <td>0</td>\n",
       "      <td>20.0</td>\n",
       "      <td>33900.0</td>\n",
       "      <td>2</td>\n",
       "    </tr>\n",
       "    <tr>\n",
       "      <th>4998</th>\n",
       "      <td>1</td>\n",
       "      <td>22.0</td>\n",
       "      <td>32700.0</td>\n",
       "      <td>3</td>\n",
       "    </tr>\n",
       "    <tr>\n",
       "      <th>4999</th>\n",
       "      <td>1</td>\n",
       "      <td>28.0</td>\n",
       "      <td>40600.0</td>\n",
       "      <td>1</td>\n",
       "    </tr>\n",
       "  </tbody>\n",
       "</table>\n",
       "<p>5000 rows × 4 columns</p>\n",
       "</div>"
      ],
      "text/plain": [
       "      Пол  Возраст  Зарплата  Члены семьи\n",
       "0       1     41.0   49600.0            1\n",
       "1       0     46.0   38000.0            1\n",
       "2       0     29.0   21000.0            0\n",
       "3       0     21.0   41700.0            2\n",
       "4       1     28.0   26100.0            0\n",
       "...   ...      ...       ...          ...\n",
       "4995    0     28.0   35700.0            2\n",
       "4996    0     34.0   52400.0            1\n",
       "4997    0     20.0   33900.0            2\n",
       "4998    1     22.0   32700.0            3\n",
       "4999    1     28.0   40600.0            1\n",
       "\n",
       "[5000 rows x 4 columns]"
      ]
     },
     "execution_count": 95,
     "metadata": {},
     "output_type": "execute_result"
    }
   ],
   "source": [
    "features = data.drop('Страховые выплаты', axis=1)\n",
    "features"
   ]
  },
  {
   "cell_type": "code",
   "execution_count": 96,
   "metadata": {
    "scrolled": true
   },
   "outputs": [
    {
     "data": {
      "text/plain": [
       "0       0\n",
       "1       1\n",
       "2       0\n",
       "3       0\n",
       "4       0\n",
       "       ..\n",
       "4995    0\n",
       "4996    0\n",
       "4997    0\n",
       "4998    0\n",
       "4999    0\n",
       "Name: Страховые выплаты, Length: 5000, dtype: int64"
      ]
     },
     "execution_count": 96,
     "metadata": {},
     "output_type": "execute_result"
    }
   ],
   "source": [
    "target = data['Страховые выплаты']\n",
    "target"
   ]
  },
  {
   "cell_type": "markdown",
   "metadata": {},
   "source": [
    "Добавим в признаци столбец, заполненный единицами:"
   ]
  },
  {
   "cell_type": "code",
   "execution_count": 97,
   "metadata": {
    "scrolled": false
   },
   "outputs": [
    {
     "data": {
      "text/plain": [
       "array([[1.00e+00, 1.00e+00, 4.10e+01, 4.96e+04, 1.00e+00],\n",
       "       [1.00e+00, 0.00e+00, 4.60e+01, 3.80e+04, 1.00e+00],\n",
       "       [1.00e+00, 0.00e+00, 2.90e+01, 2.10e+04, 0.00e+00],\n",
       "       ...,\n",
       "       [1.00e+00, 0.00e+00, 2.00e+01, 3.39e+04, 2.00e+00],\n",
       "       [1.00e+00, 1.00e+00, 2.20e+01, 3.27e+04, 3.00e+00],\n",
       "       [1.00e+00, 1.00e+00, 2.80e+01, 4.06e+04, 1.00e+00]])"
      ]
     },
     "execution_count": 97,
     "metadata": {},
     "output_type": "execute_result"
    }
   ],
   "source": [
    "X = np.concatenate((np.ones((features.shape[0], 1)), features), axis=1)\n",
    "X"
   ]
  },
  {
   "cell_type": "code",
   "execution_count": 98,
   "metadata": {},
   "outputs": [],
   "source": [
    "y = target"
   ]
  },
  {
   "cell_type": "markdown",
   "metadata": {},
   "source": [
    "Создадим случайную матрицу размером 5х5, т.к. у нас 4 признака и нулевой столбец заполнен единицами"
   ]
  },
  {
   "cell_type": "code",
   "execution_count": 99,
   "metadata": {
    "scrolled": false
   },
   "outputs": [
    {
     "data": {
      "text/plain": [
       "array([[19, 17, 20,  9, 24],\n",
       "       [ 8, 12,  2, 16, 11],\n",
       "       [ 7, 23,  2,  5, 24],\n",
       "       [ 8, 13, 13,  3, 13],\n",
       "       [23, 10, 20, 15,  8]])"
      ]
     },
     "execution_count": 99,
     "metadata": {},
     "output_type": "execute_result"
    }
   ],
   "source": [
    "P = np.random.randint(1,25, (5,5))\n",
    "P"
   ]
  },
  {
   "cell_type": "markdown",
   "metadata": {},
   "source": [
    "проверим, что матрица **P** обратима, найдем определитель матрицы (детерминант):"
   ]
  },
  {
   "cell_type": "code",
   "execution_count": 100,
   "metadata": {},
   "outputs": [
    {
     "data": {
      "text/plain": [
       "-274850.0000000002"
      ]
     },
     "execution_count": 100,
     "metadata": {},
     "output_type": "execute_result"
    }
   ],
   "source": [
    "np.linalg.det(P)"
   ]
  },
  {
   "cell_type": "markdown",
   "metadata": {},
   "source": [
    "Т.к. определитель матрицы не равен нулю можно сделать вывод, что матрица P обратима"
   ]
  },
  {
   "cell_type": "markdown",
   "metadata": {},
   "source": [
    "Умножим полученную матрицу признаков на обратимую матрицу P."
   ]
  },
  {
   "cell_type": "code",
   "execution_count": 101,
   "metadata": {
    "scrolled": true
   },
   "outputs": [
    {
     "data": {
      "text/plain": [
       "array([[397137., 645782., 644924., 149045., 645827.],\n",
       "       [304364., 495085., 494132., 114254., 495136.],\n",
       "       [168222., 273684., 273078.,  63154., 273720.],\n",
       "       ...,\n",
       "       [271405., 441197., 440800., 101839., 441220.],\n",
       "       [261850., 425665., 425226.,  98280., 425687.],\n",
       "       [325046., 528483., 527898., 121980., 528515.]])"
      ]
     },
     "execution_count": 101,
     "metadata": {},
     "output_type": "execute_result"
    }
   ],
   "source": [
    "XP = X @ P\n",
    "XP"
   ]
  },
  {
   "cell_type": "code",
   "execution_count": 102,
   "metadata": {},
   "outputs": [],
   "source": [
    "model = LinearRegression()"
   ]
  },
  {
   "cell_type": "markdown",
   "metadata": {},
   "source": [
    "Обучим модель на исходных признаках"
   ]
  },
  {
   "cell_type": "code",
   "execution_count": 103,
   "metadata": {},
   "outputs": [
    {
     "data": {
      "text/plain": [
       "LinearRegression()"
      ]
     },
     "execution_count": 103,
     "metadata": {},
     "output_type": "execute_result"
    }
   ],
   "source": [
    "model.fit(X, y)"
   ]
  },
  {
   "cell_type": "code",
   "execution_count": 104,
   "metadata": {},
   "outputs": [],
   "source": [
    "pred_x = model.predict(X)"
   ]
  },
  {
   "cell_type": "markdown",
   "metadata": {},
   "source": [
    "Обучим модель на преобразованных данных"
   ]
  },
  {
   "cell_type": "code",
   "execution_count": 105,
   "metadata": {},
   "outputs": [
    {
     "data": {
      "text/plain": [
       "LinearRegression()"
      ]
     },
     "execution_count": 105,
     "metadata": {},
     "output_type": "execute_result"
    }
   ],
   "source": [
    "model.fit(XP, y)"
   ]
  },
  {
   "cell_type": "code",
   "execution_count": 106,
   "metadata": {},
   "outputs": [],
   "source": [
    "pred_xp = model.predict(XP)"
   ]
  },
  {
   "cell_type": "markdown",
   "metadata": {},
   "source": [
    "Проверим изменилось ли у нас качество работы модели применив метрику R2 на данных до преобразования и после:"
   ]
  },
  {
   "cell_type": "code",
   "execution_count": 107,
   "metadata": {},
   "outputs": [
    {
     "name": "stdout",
     "output_type": "stream",
     "text": [
      "метрика r2_score для признаков:\n",
      " - до преобразования равна 0.42495\n",
      " - после преобразования 0.42495\n"
     ]
    }
   ],
   "source": [
    "print(f'метрика r2_score для признаков:\\n'\n",
    "      f' - до преобразования равна {\"{:,.5f}\".format(r2_score(y, pred_x))}\\n'\n",
    "      f' - после преобразования {\"{:,.5f}\".format(r2_score(y, pred_xp))}')"
   ]
  },
  {
   "cell_type": "markdown",
   "metadata": {},
   "source": [
    "**Вывод:**  \n",
    "Таким образом можно сделать вывод, что при перемножении признаков на обратимую матрицу результат работы модели линейной регрессии не изменится, что доказывается при расчете метрики R2."
   ]
  },
  {
   "cell_type": "markdown",
   "metadata": {},
   "source": [
    "## Вывод"
   ]
  },
  {
   "cell_type": "markdown",
   "metadata": {},
   "source": [
    "В нашем распоряжении были данные клиентов страховой компании \"Хоть потоп\".  \n",
    "Было необходимо разработать алгоритм преобразования данных, чтобы защитить персональную информацию клиентов компании.  \n",
    "\n",
    "В ходе выполнения проекта первоначально загрузили и изучили данные. \n",
    "При проверке данных на наличие корреляции не было выяслено явно коррелирующих признаков.\n",
    "\n",
    "Далее доказали, что при умножении признаков на обратимую матрицу качество линейной регрессии не изменится.\n",
    "\n",
    "В результате чего для защиты персональной информации было принято создать случайную обратимую матрицу и обучить модель на первоначальных данных и преобразованных.\n",
    "\n",
    "Для оценки работы модели использовали метрику R2, в результате чего получили одинаковые значения метрики на первоначальных  и преобразованных данных.  \n",
    "\n",
    "Таким образом мы выполнили задачу по защите персональных данных клиентов и доказали, что качество предсказаний не ухудшится."
   ]
  }
 ],
 "metadata": {
  "ExecuteTimeLog": [
   {
    "duration": 630,
    "start_time": "2022-12-18T20:33:01.800Z"
   },
   {
    "duration": 100,
    "start_time": "2022-12-18T20:34:51.664Z"
   },
   {
    "duration": 22,
    "start_time": "2022-12-18T20:35:10.821Z"
   },
   {
    "duration": 23,
    "start_time": "2022-12-18T20:35:51.794Z"
   },
   {
    "duration": 103,
    "start_time": "2022-12-18T20:36:29.763Z"
   },
   {
    "duration": 106,
    "start_time": "2022-12-18T20:36:34.494Z"
   },
   {
    "duration": 680,
    "start_time": "2022-12-18T20:36:45.185Z"
   },
   {
    "duration": 98,
    "start_time": "2022-12-18T20:36:49.240Z"
   },
   {
    "duration": 100,
    "start_time": "2022-12-18T20:37:16.499Z"
   },
   {
    "duration": 4,
    "start_time": "2022-12-18T20:37:48.965Z"
   },
   {
    "duration": 3,
    "start_time": "2022-12-18T20:37:53.720Z"
   },
   {
    "duration": 15,
    "start_time": "2022-12-18T20:37:57.523Z"
   },
   {
    "duration": 93,
    "start_time": "2022-12-18T20:38:38.272Z"
   },
   {
    "duration": 6,
    "start_time": "2022-12-18T20:39:33.183Z"
   },
   {
    "duration": 64,
    "start_time": "2022-12-19T10:37:27.754Z"
   },
   {
    "duration": 1497,
    "start_time": "2022-12-19T10:37:32.614Z"
   },
   {
    "duration": 119,
    "start_time": "2022-12-19T10:37:34.114Z"
   },
   {
    "duration": 80,
    "start_time": "2022-12-19T10:37:37.275Z"
   },
   {
    "duration": 9,
    "start_time": "2022-12-19T10:37:54.876Z"
   },
   {
    "duration": 3,
    "start_time": "2022-12-19T10:38:32.860Z"
   },
   {
    "duration": 34,
    "start_time": "2022-12-19T10:38:33.770Z"
   },
   {
    "duration": 3,
    "start_time": "2022-12-19T10:38:38.299Z"
   },
   {
    "duration": 5,
    "start_time": "2022-12-19T10:38:41.432Z"
   },
   {
    "duration": 9,
    "start_time": "2022-12-19T10:43:53.775Z"
   },
   {
    "duration": 83,
    "start_time": "2022-12-19T10:44:07.608Z"
   },
   {
    "duration": 10,
    "start_time": "2022-12-19T10:44:10.935Z"
   },
   {
    "duration": 10,
    "start_time": "2022-12-19T10:44:13.683Z"
   },
   {
    "duration": 6,
    "start_time": "2022-12-19T10:44:17.664Z"
   },
   {
    "duration": 65,
    "start_time": "2022-12-19T10:44:28.463Z"
   },
   {
    "duration": 11,
    "start_time": "2022-12-19T10:44:32.743Z"
   },
   {
    "duration": 3,
    "start_time": "2022-12-19T10:44:42.015Z"
   },
   {
    "duration": 39,
    "start_time": "2022-12-19T10:44:42.623Z"
   },
   {
    "duration": 10,
    "start_time": "2022-12-19T10:44:49.335Z"
   },
   {
    "duration": 2,
    "start_time": "2022-12-19T10:44:55.099Z"
   },
   {
    "duration": 5,
    "start_time": "2022-12-19T10:45:00.503Z"
   },
   {
    "duration": 4,
    "start_time": "2022-12-19T10:46:52.409Z"
   },
   {
    "duration": 10,
    "start_time": "2022-12-19T10:47:00.368Z"
   },
   {
    "duration": 2,
    "start_time": "2022-12-19T10:47:05.746Z"
   },
   {
    "duration": 5,
    "start_time": "2022-12-19T10:47:08.945Z"
   },
   {
    "duration": 81,
    "start_time": "2022-12-19T10:47:34.544Z"
   },
   {
    "duration": 4,
    "start_time": "2022-12-19T10:48:01.433Z"
   },
   {
    "duration": 16,
    "start_time": "2022-12-19T10:48:04.596Z"
   },
   {
    "duration": 4,
    "start_time": "2022-12-19T10:48:16.457Z"
   },
   {
    "duration": 19,
    "start_time": "2022-12-19T10:48:19.770Z"
   },
   {
    "duration": 3,
    "start_time": "2022-12-19T10:48:28.936Z"
   },
   {
    "duration": 32,
    "start_time": "2022-12-19T10:48:28.961Z"
   },
   {
    "duration": 1265,
    "start_time": "2022-12-19T10:48:46.931Z"
   },
   {
    "duration": 40,
    "start_time": "2022-12-19T10:48:48.659Z"
   },
   {
    "duration": 5,
    "start_time": "2022-12-19T10:48:52.304Z"
   },
   {
    "duration": 6,
    "start_time": "2022-12-19T10:48:54.120Z"
   },
   {
    "duration": 5,
    "start_time": "2022-12-19T10:49:23.025Z"
   },
   {
    "duration": 179,
    "start_time": "2022-12-19T10:49:23.704Z"
   },
   {
    "duration": 5,
    "start_time": "2022-12-19T10:50:06.705Z"
   },
   {
    "duration": 3,
    "start_time": "2022-12-19T10:50:20.442Z"
   },
   {
    "duration": 5,
    "start_time": "2022-12-19T10:50:25.560Z"
   },
   {
    "duration": 81,
    "start_time": "2022-12-19T10:50:37.625Z"
   },
   {
    "duration": 79,
    "start_time": "2022-12-19T10:50:49.609Z"
   },
   {
    "duration": 5,
    "start_time": "2022-12-19T10:51:06.804Z"
   },
   {
    "duration": 5,
    "start_time": "2022-12-19T10:51:09.321Z"
   },
   {
    "duration": 4,
    "start_time": "2022-12-19T10:51:09.792Z"
   },
   {
    "duration": 5,
    "start_time": "2022-12-19T10:51:11.104Z"
   },
   {
    "duration": 4,
    "start_time": "2022-12-19T10:51:27.417Z"
   },
   {
    "duration": 5,
    "start_time": "2022-12-19T10:51:31.682Z"
   },
   {
    "duration": 1573,
    "start_time": "2022-12-20T03:53:31.772Z"
   },
   {
    "duration": 91,
    "start_time": "2022-12-20T03:53:33.348Z"
   },
   {
    "duration": 5,
    "start_time": "2022-12-20T03:53:43.066Z"
   },
   {
    "duration": 4,
    "start_time": "2022-12-20T03:53:43.982Z"
   },
   {
    "duration": 6,
    "start_time": "2022-12-20T03:54:22.464Z"
   },
   {
    "duration": 4,
    "start_time": "2022-12-20T03:55:36.324Z"
   },
   {
    "duration": 123,
    "start_time": "2022-12-20T03:56:09.951Z"
   },
   {
    "duration": 4,
    "start_time": "2022-12-20T03:56:43.694Z"
   },
   {
    "duration": 4,
    "start_time": "2022-12-20T03:56:44.913Z"
   },
   {
    "duration": 3,
    "start_time": "2022-12-20T03:56:46.170Z"
   },
   {
    "duration": 4,
    "start_time": "2022-12-20T03:56:54.130Z"
   },
   {
    "duration": 4,
    "start_time": "2022-12-20T03:58:33.622Z"
   },
   {
    "duration": 4,
    "start_time": "2022-12-20T03:59:06.624Z"
   },
   {
    "duration": 1296,
    "start_time": "2022-12-20T03:59:23.468Z"
   },
   {
    "duration": 38,
    "start_time": "2022-12-20T03:59:24.766Z"
   },
   {
    "duration": 4,
    "start_time": "2022-12-20T03:59:29.284Z"
   },
   {
    "duration": 4,
    "start_time": "2022-12-20T03:59:34.928Z"
   },
   {
    "duration": 5,
    "start_time": "2022-12-20T03:59:41.937Z"
   },
   {
    "duration": 4,
    "start_time": "2022-12-20T04:00:16.968Z"
   },
   {
    "duration": 4,
    "start_time": "2022-12-20T04:00:19.339Z"
   },
   {
    "duration": 5,
    "start_time": "2022-12-20T04:01:01.150Z"
   },
   {
    "duration": 63,
    "start_time": "2022-12-20T04:01:51.825Z"
   },
   {
    "duration": 5,
    "start_time": "2022-12-20T04:01:57.538Z"
   },
   {
    "duration": 4,
    "start_time": "2022-12-20T04:03:05.404Z"
   },
   {
    "duration": 5,
    "start_time": "2022-12-20T04:07:22.051Z"
   },
   {
    "duration": 166,
    "start_time": "2022-12-20T04:08:29.337Z"
   },
   {
    "duration": 6,
    "start_time": "2022-12-20T04:09:08.317Z"
   },
   {
    "duration": 11,
    "start_time": "2022-12-20T04:09:21.729Z"
   },
   {
    "duration": 5,
    "start_time": "2022-12-20T04:09:43.680Z"
   },
   {
    "duration": 4,
    "start_time": "2022-12-20T04:10:10.280Z"
   },
   {
    "duration": 4,
    "start_time": "2022-12-20T04:10:10.761Z"
   },
   {
    "duration": 7,
    "start_time": "2022-12-20T04:10:11.377Z"
   },
   {
    "duration": 5,
    "start_time": "2022-12-20T04:10:14.369Z"
   },
   {
    "duration": 6,
    "start_time": "2022-12-20T04:10:15.898Z"
   },
   {
    "duration": 5,
    "start_time": "2022-12-20T04:10:19.040Z"
   },
   {
    "duration": 6,
    "start_time": "2022-12-20T04:10:19.486Z"
   },
   {
    "duration": 5,
    "start_time": "2022-12-20T04:10:52.831Z"
   },
   {
    "duration": 6,
    "start_time": "2022-12-20T04:10:55.097Z"
   },
   {
    "duration": 5,
    "start_time": "2022-12-20T04:10:55.578Z"
   },
   {
    "duration": 5,
    "start_time": "2022-12-20T04:10:56.146Z"
   },
   {
    "duration": 5,
    "start_time": "2022-12-20T04:11:05.868Z"
   },
   {
    "duration": 7,
    "start_time": "2022-12-20T04:11:07.149Z"
   },
   {
    "duration": 5,
    "start_time": "2022-12-20T04:11:12.178Z"
   },
   {
    "duration": 7,
    "start_time": "2022-12-20T04:11:13.009Z"
   },
   {
    "duration": 5,
    "start_time": "2022-12-20T04:11:13.572Z"
   },
   {
    "duration": 7,
    "start_time": "2022-12-20T04:11:13.987Z"
   },
   {
    "duration": 5,
    "start_time": "2022-12-20T04:11:26.105Z"
   },
   {
    "duration": 5,
    "start_time": "2022-12-20T04:11:27.229Z"
   },
   {
    "duration": 5,
    "start_time": "2022-12-20T04:13:16.089Z"
   },
   {
    "duration": 4,
    "start_time": "2022-12-20T04:13:16.863Z"
   },
   {
    "duration": 6,
    "start_time": "2022-12-20T04:13:17.307Z"
   },
   {
    "duration": 5,
    "start_time": "2022-12-20T04:13:17.695Z"
   },
   {
    "duration": 5,
    "start_time": "2022-12-20T04:13:18.766Z"
   },
   {
    "duration": 6,
    "start_time": "2022-12-20T04:13:28.527Z"
   },
   {
    "duration": 6,
    "start_time": "2022-12-20T04:13:28.737Z"
   },
   {
    "duration": 1501,
    "start_time": "2022-12-20T11:27:19.444Z"
   },
   {
    "duration": 135,
    "start_time": "2022-12-20T11:27:20.947Z"
   },
   {
    "duration": 22,
    "start_time": "2022-12-20T11:27:21.084Z"
   },
   {
    "duration": 4,
    "start_time": "2022-12-20T11:38:18.157Z"
   },
   {
    "duration": 4,
    "start_time": "2022-12-20T11:38:33.434Z"
   },
   {
    "duration": 3,
    "start_time": "2022-12-20T11:38:48.864Z"
   },
   {
    "duration": 14,
    "start_time": "2022-12-20T11:38:52.745Z"
   },
   {
    "duration": 2,
    "start_time": "2022-12-20T11:39:00.368Z"
   },
   {
    "duration": 9,
    "start_time": "2022-12-20T11:39:09.354Z"
   },
   {
    "duration": 5,
    "start_time": "2022-12-20T11:39:14.689Z"
   },
   {
    "duration": 14,
    "start_time": "2022-12-20T11:39:22.304Z"
   },
   {
    "duration": 3,
    "start_time": "2022-12-20T11:40:31.733Z"
   },
   {
    "duration": 102,
    "start_time": "2022-12-20T11:41:42.811Z"
   },
   {
    "duration": 6,
    "start_time": "2022-12-20T11:42:01.634Z"
   },
   {
    "duration": 12,
    "start_time": "2022-12-20T11:42:05.223Z"
   },
   {
    "duration": 3,
    "start_time": "2022-12-20T11:43:43.074Z"
   },
   {
    "duration": 5,
    "start_time": "2022-12-20T11:43:46.760Z"
   },
   {
    "duration": 3,
    "start_time": "2022-12-20T11:44:08.816Z"
   },
   {
    "duration": 73,
    "start_time": "2022-12-20T11:44:45.313Z"
   },
   {
    "duration": 3,
    "start_time": "2022-12-20T11:45:52.357Z"
   },
   {
    "duration": 4,
    "start_time": "2022-12-20T11:45:55.559Z"
   },
   {
    "duration": 70,
    "start_time": "2022-12-20T11:46:49.259Z"
   },
   {
    "duration": 4,
    "start_time": "2022-12-20T11:47:05.593Z"
   },
   {
    "duration": 5,
    "start_time": "2022-12-20T11:49:06.462Z"
   },
   {
    "duration": 1428,
    "start_time": "2022-12-21T03:51:26.557Z"
   },
   {
    "duration": 107,
    "start_time": "2022-12-21T03:51:27.986Z"
   },
   {
    "duration": 20,
    "start_time": "2022-12-21T03:51:28.095Z"
   },
   {
    "duration": 4,
    "start_time": "2022-12-21T03:52:16.503Z"
   },
   {
    "duration": 5,
    "start_time": "2022-12-21T03:53:10.966Z"
   },
   {
    "duration": 3,
    "start_time": "2022-12-21T03:54:59.753Z"
   },
   {
    "duration": 12,
    "start_time": "2022-12-21T03:55:27.163Z"
   },
   {
    "duration": 5,
    "start_time": "2022-12-21T03:55:40.542Z"
   },
   {
    "duration": 77,
    "start_time": "2022-12-21T03:56:41.621Z"
   },
   {
    "duration": 12,
    "start_time": "2022-12-21T03:56:48.388Z"
   },
   {
    "duration": 3,
    "start_time": "2022-12-21T04:06:45.116Z"
   },
   {
    "duration": 6,
    "start_time": "2022-12-21T04:06:51.982Z"
   },
   {
    "duration": 2,
    "start_time": "2022-12-21T04:07:05.006Z"
   },
   {
    "duration": 2,
    "start_time": "2022-12-21T04:08:06.698Z"
   },
   {
    "duration": 4,
    "start_time": "2022-12-21T04:08:12.118Z"
   },
   {
    "duration": 3,
    "start_time": "2022-12-21T04:09:01.265Z"
   },
   {
    "duration": 2,
    "start_time": "2022-12-21T04:09:22.000Z"
   },
   {
    "duration": 9,
    "start_time": "2022-12-21T04:11:06.545Z"
   },
   {
    "duration": 123,
    "start_time": "2022-12-21T04:11:34.840Z"
   },
   {
    "duration": 12,
    "start_time": "2022-12-21T04:11:40.393Z"
   },
   {
    "duration": 5,
    "start_time": "2022-12-21T04:11:45.318Z"
   },
   {
    "duration": 7,
    "start_time": "2022-12-21T04:12:49.113Z"
   },
   {
    "duration": 5,
    "start_time": "2022-12-21T04:17:37.946Z"
   },
   {
    "duration": 4,
    "start_time": "2022-12-21T04:18:02.614Z"
   },
   {
    "duration": 75,
    "start_time": "2022-12-21T04:18:10.369Z"
   },
   {
    "duration": 4,
    "start_time": "2022-12-21T04:18:14.108Z"
   },
   {
    "duration": 4,
    "start_time": "2022-12-21T04:20:58.503Z"
   },
   {
    "duration": 4,
    "start_time": "2022-12-21T04:21:16.491Z"
   },
   {
    "duration": 6,
    "start_time": "2022-12-21T04:21:37.474Z"
   },
   {
    "duration": 6,
    "start_time": "2022-12-21T04:23:31.572Z"
   },
   {
    "duration": 3,
    "start_time": "2022-12-21T04:23:32.693Z"
   },
   {
    "duration": 5,
    "start_time": "2022-12-21T04:23:33.449Z"
   },
   {
    "duration": 3,
    "start_time": "2022-12-21T04:24:18.503Z"
   },
   {
    "duration": 6,
    "start_time": "2022-12-21T04:24:19.207Z"
   },
   {
    "duration": 5,
    "start_time": "2022-12-21T04:24:19.650Z"
   },
   {
    "duration": 5,
    "start_time": "2022-12-21T04:24:20.000Z"
   },
   {
    "duration": 1522,
    "start_time": "2022-12-21T10:31:37.918Z"
   },
   {
    "duration": 89,
    "start_time": "2022-12-21T10:31:39.442Z"
   },
   {
    "duration": 22,
    "start_time": "2022-12-21T10:31:39.532Z"
   },
   {
    "duration": 211,
    "start_time": "2022-12-21T10:31:40.046Z"
   },
   {
    "duration": 96,
    "start_time": "2022-12-21T10:32:13.451Z"
   },
   {
    "duration": 105,
    "start_time": "2022-12-21T10:32:38.231Z"
   },
   {
    "duration": 95,
    "start_time": "2022-12-21T10:32:51.760Z"
   },
   {
    "duration": 5,
    "start_time": "2022-12-21T10:33:06.957Z"
   },
   {
    "duration": 8,
    "start_time": "2022-12-21T10:34:52.891Z"
   },
   {
    "duration": 9,
    "start_time": "2022-12-21T10:35:05.300Z"
   },
   {
    "duration": 13,
    "start_time": "2022-12-21T10:35:13.389Z"
   },
   {
    "duration": 5,
    "start_time": "2022-12-21T10:35:13.649Z"
   },
   {
    "duration": 5,
    "start_time": "2022-12-21T10:35:14.089Z"
   },
   {
    "duration": 5,
    "start_time": "2022-12-21T10:35:14.315Z"
   },
   {
    "duration": 5,
    "start_time": "2022-12-21T10:35:14.663Z"
   },
   {
    "duration": 3,
    "start_time": "2022-12-21T10:35:14.867Z"
   },
   {
    "duration": 9,
    "start_time": "2022-12-21T10:35:15.350Z"
   },
   {
    "duration": 11,
    "start_time": "2022-12-21T10:35:15.587Z"
   },
   {
    "duration": 9,
    "start_time": "2022-12-21T10:35:15.850Z"
   },
   {
    "duration": 11,
    "start_time": "2022-12-21T10:35:16.717Z"
   },
   {
    "duration": 9,
    "start_time": "2022-12-21T10:35:17.049Z"
   },
   {
    "duration": 4,
    "start_time": "2022-12-21T10:35:47.187Z"
   },
   {
    "duration": 10,
    "start_time": "2022-12-21T10:35:51.231Z"
   },
   {
    "duration": 8,
    "start_time": "2022-12-21T10:35:51.847Z"
   },
   {
    "duration": 8,
    "start_time": "2022-12-21T10:35:52.489Z"
   },
   {
    "duration": 7,
    "start_time": "2022-12-21T10:35:52.811Z"
   },
   {
    "duration": 5,
    "start_time": "2022-12-21T10:35:53.159Z"
   },
   {
    "duration": 5,
    "start_time": "2022-12-21T10:36:13.361Z"
   },
   {
    "duration": 5,
    "start_time": "2022-12-21T10:36:20.720Z"
   },
   {
    "duration": 6,
    "start_time": "2022-12-21T10:39:39.421Z"
   },
   {
    "duration": 5,
    "start_time": "2022-12-21T10:39:57.509Z"
   },
   {
    "duration": 48,
    "start_time": "2022-12-21T10:41:43.080Z"
   },
   {
    "duration": 6,
    "start_time": "2022-12-21T10:42:48.501Z"
   },
   {
    "duration": 10,
    "start_time": "2022-12-21T10:43:58.047Z"
   },
   {
    "duration": 5,
    "start_time": "2022-12-21T10:44:04.009Z"
   },
   {
    "duration": 9,
    "start_time": "2022-12-21T10:45:32.352Z"
   },
   {
    "duration": 11,
    "start_time": "2022-12-21T10:45:38.830Z"
   },
   {
    "duration": 49,
    "start_time": "2022-12-21T10:47:11.911Z"
   },
   {
    "duration": 1543,
    "start_time": "2022-12-21T20:45:53.372Z"
   },
   {
    "duration": 95,
    "start_time": "2022-12-21T20:45:54.917Z"
   },
   {
    "duration": 25,
    "start_time": "2022-12-21T20:45:55.013Z"
   },
   {
    "duration": 124,
    "start_time": "2022-12-21T20:45:55.040Z"
   },
   {
    "duration": 111,
    "start_time": "2022-12-21T20:45:55.166Z"
   },
   {
    "duration": 10,
    "start_time": "2022-12-21T20:45:55.278Z"
   },
   {
    "duration": 117,
    "start_time": "2022-12-21T20:45:55.290Z"
   },
   {
    "duration": 14,
    "start_time": "2022-12-21T20:45:55.409Z"
   },
   {
    "duration": 39,
    "start_time": "2022-12-21T20:45:55.424Z"
   },
   {
    "duration": 28,
    "start_time": "2022-12-21T20:45:55.465Z"
   },
   {
    "duration": 18,
    "start_time": "2022-12-21T20:45:55.494Z"
   },
   {
    "duration": 43,
    "start_time": "2022-12-21T20:45:55.514Z"
   },
   {
    "duration": 16,
    "start_time": "2022-12-21T20:45:55.559Z"
   },
   {
    "duration": 37,
    "start_time": "2022-12-21T20:45:55.577Z"
   },
   {
    "duration": 14,
    "start_time": "2022-12-21T20:45:55.615Z"
   },
   {
    "duration": 102,
    "start_time": "2022-12-21T20:45:55.631Z"
   },
   {
    "duration": 6,
    "start_time": "2022-12-21T20:45:55.735Z"
   },
   {
    "duration": 10,
    "start_time": "2022-12-21T20:45:55.742Z"
   },
   {
    "duration": 174,
    "start_time": "2022-12-21T20:45:55.754Z"
   },
   {
    "duration": 104,
    "start_time": "2022-12-21T20:45:55.930Z"
   },
   {
    "duration": 90,
    "start_time": "2022-12-21T20:45:56.036Z"
   },
   {
    "duration": 197,
    "start_time": "2022-12-21T20:45:56.128Z"
   },
   {
    "duration": 4,
    "start_time": "2022-12-21T20:49:08.909Z"
   },
   {
    "duration": 2,
    "start_time": "2022-12-21T20:49:15.136Z"
   },
   {
    "duration": 4,
    "start_time": "2022-12-21T20:49:23.946Z"
   },
   {
    "duration": 39,
    "start_time": "2022-12-21T20:50:00.435Z"
   },
   {
    "duration": 106,
    "start_time": "2022-12-21T20:51:17.234Z"
   },
   {
    "duration": 105,
    "start_time": "2022-12-21T20:52:50.736Z"
   },
   {
    "duration": 105,
    "start_time": "2022-12-21T20:53:10.740Z"
   },
   {
    "duration": 121,
    "start_time": "2022-12-21T20:53:19.274Z"
   },
   {
    "duration": 124,
    "start_time": "2022-12-21T20:53:35.944Z"
   },
   {
    "duration": 95,
    "start_time": "2022-12-21T20:53:44.216Z"
   },
   {
    "duration": 147,
    "start_time": "2022-12-21T20:53:48.202Z"
   },
   {
    "duration": 5,
    "start_time": "2022-12-21T20:53:59.756Z"
   },
   {
    "duration": 110,
    "start_time": "2022-12-21T20:55:44.773Z"
   },
   {
    "duration": 19,
    "start_time": "2022-12-21T20:55:52.449Z"
   },
   {
    "duration": 11,
    "start_time": "2022-12-21T20:56:15.559Z"
   },
   {
    "duration": 17,
    "start_time": "2022-12-21T20:56:34.136Z"
   },
   {
    "duration": 12,
    "start_time": "2022-12-21T20:56:50.296Z"
   },
   {
    "duration": 6,
    "start_time": "2022-12-21T20:57:18.186Z"
   },
   {
    "duration": 13,
    "start_time": "2022-12-21T20:57:41.950Z"
   },
   {
    "duration": 145,
    "start_time": "2022-12-21T20:57:53.483Z"
   },
   {
    "duration": 130,
    "start_time": "2022-12-21T20:58:58.167Z"
   },
   {
    "duration": 163,
    "start_time": "2022-12-21T20:59:58.707Z"
   },
   {
    "duration": 2083,
    "start_time": "2022-12-22T11:18:15.301Z"
   },
   {
    "duration": 162,
    "start_time": "2022-12-22T11:18:17.385Z"
   },
   {
    "duration": 24,
    "start_time": "2022-12-22T11:18:17.549Z"
   },
   {
    "duration": 322,
    "start_time": "2022-12-22T11:18:17.636Z"
   },
   {
    "duration": 177,
    "start_time": "2022-12-22T11:18:17.962Z"
   },
   {
    "duration": 17,
    "start_time": "2022-12-22T11:18:18.141Z"
   },
   {
    "duration": 211,
    "start_time": "2022-12-22T11:18:18.159Z"
   },
   {
    "duration": 400,
    "start_time": "2022-12-22T11:18:18.372Z"
   },
   {
    "duration": 81,
    "start_time": "2022-12-22T11:18:18.774Z"
   },
   {
    "duration": 77,
    "start_time": "2022-12-22T11:18:18.860Z"
   },
   {
    "duration": 34,
    "start_time": "2022-12-22T11:18:18.944Z"
   },
   {
    "duration": 19,
    "start_time": "2022-12-22T11:18:18.980Z"
   },
   {
    "duration": 63,
    "start_time": "2022-12-22T11:18:19.001Z"
   },
   {
    "duration": 10,
    "start_time": "2022-12-22T11:18:19.066Z"
   },
   {
    "duration": 58,
    "start_time": "2022-12-22T11:18:19.078Z"
   },
   {
    "duration": 40,
    "start_time": "2022-12-22T11:18:19.138Z"
   },
   {
    "duration": 59,
    "start_time": "2022-12-22T11:18:19.180Z"
   },
   {
    "duration": 30,
    "start_time": "2022-12-22T11:18:19.245Z"
   },
   {
    "duration": 189,
    "start_time": "2022-12-22T11:18:19.277Z"
   },
   {
    "duration": 203,
    "start_time": "2022-12-22T11:18:19.467Z"
   },
   {
    "duration": 65,
    "start_time": "2022-12-22T11:18:19.673Z"
   },
   {
    "duration": 11,
    "start_time": "2022-12-22T11:18:19.740Z"
   },
   {
    "duration": 78,
    "start_time": "2022-12-22T20:16:53.757Z"
   },
   {
    "duration": 1485,
    "start_time": "2022-12-22T20:37:51.830Z"
   },
   {
    "duration": 129,
    "start_time": "2022-12-22T20:37:53.317Z"
   },
   {
    "duration": 24,
    "start_time": "2022-12-22T20:37:53.448Z"
   },
   {
    "duration": 111,
    "start_time": "2022-12-22T20:37:53.474Z"
   },
   {
    "duration": 119,
    "start_time": "2022-12-22T20:37:53.587Z"
   },
   {
    "duration": 15,
    "start_time": "2022-12-22T20:37:53.707Z"
   },
   {
    "duration": 109,
    "start_time": "2022-12-22T20:37:53.724Z"
   },
   {
    "duration": 151,
    "start_time": "2022-12-22T20:37:53.835Z"
   },
   {
    "duration": 10,
    "start_time": "2022-12-22T20:37:53.988Z"
   },
   {
    "duration": 28,
    "start_time": "2022-12-22T20:37:54.000Z"
   },
   {
    "duration": 5,
    "start_time": "2022-12-22T20:37:54.030Z"
   },
   {
    "duration": 6,
    "start_time": "2022-12-22T20:37:54.037Z"
   },
   {
    "duration": 9,
    "start_time": "2022-12-22T20:37:54.045Z"
   },
   {
    "duration": 7,
    "start_time": "2022-12-22T20:37:54.056Z"
   },
   {
    "duration": 9,
    "start_time": "2022-12-22T20:37:54.065Z"
   },
   {
    "duration": 92,
    "start_time": "2022-12-22T20:37:54.075Z"
   },
   {
    "duration": 5,
    "start_time": "2022-12-22T20:38:23.097Z"
   },
   {
    "duration": 2,
    "start_time": "2022-12-22T20:38:24.345Z"
   },
   {
    "duration": 29,
    "start_time": "2022-12-22T20:38:25.197Z"
   },
   {
    "duration": 4,
    "start_time": "2022-12-22T20:38:25.734Z"
   },
   {
    "duration": 6,
    "start_time": "2022-12-22T20:38:28.911Z"
   },
   {
    "duration": 4,
    "start_time": "2022-12-22T20:38:29.115Z"
   },
   {
    "duration": 6,
    "start_time": "2022-12-22T20:38:29.946Z"
   },
   {
    "duration": 2943,
    "start_time": "2022-12-22T20:39:19.999Z"
   },
   {
    "duration": 18,
    "start_time": "2022-12-22T20:39:37.269Z"
   },
   {
    "duration": 163,
    "start_time": "2022-12-22T20:40:22.821Z"
   },
   {
    "duration": 83,
    "start_time": "2022-12-22T20:40:32.280Z"
   },
   {
    "duration": 3,
    "start_time": "2022-12-22T20:40:54.717Z"
   },
   {
    "duration": 9,
    "start_time": "2022-12-22T20:40:59.033Z"
   },
   {
    "duration": 12,
    "start_time": "2022-12-22T20:46:18.964Z"
   },
   {
    "duration": 8,
    "start_time": "2022-12-22T20:46:27.027Z"
   },
   {
    "duration": 9,
    "start_time": "2022-12-22T20:46:38.901Z"
   },
   {
    "duration": 84,
    "start_time": "2022-12-22T20:47:38.553Z"
   },
   {
    "duration": 1184,
    "start_time": "2022-12-22T20:47:49.543Z"
   },
   {
    "duration": 1126,
    "start_time": "2022-12-22T20:47:59.363Z"
   },
   {
    "duration": 9,
    "start_time": "2022-12-22T20:50:02.125Z"
   },
   {
    "duration": 10,
    "start_time": "2022-12-22T20:50:20.786Z"
   },
   {
    "duration": 451,
    "start_time": "2022-12-22T20:50:35.604Z"
   },
   {
    "duration": 10,
    "start_time": "2022-12-22T20:50:44.584Z"
   },
   {
    "duration": 380,
    "start_time": "2022-12-22T20:50:48.024Z"
   },
   {
    "duration": 366,
    "start_time": "2022-12-22T20:51:19.915Z"
   },
   {
    "duration": 397,
    "start_time": "2022-12-22T20:51:26.503Z"
   },
   {
    "duration": 90,
    "start_time": "2022-12-22T20:58:49.559Z"
   },
   {
    "duration": 1941,
    "start_time": "2022-12-22T21:01:20.849Z"
   },
   {
    "duration": 3,
    "start_time": "2022-12-22T21:01:22.793Z"
   },
   {
    "duration": 43,
    "start_time": "2022-12-22T21:01:22.798Z"
   },
   {
    "duration": 23,
    "start_time": "2022-12-22T21:01:22.843Z"
   },
   {
    "duration": 98,
    "start_time": "2022-12-22T21:01:22.867Z"
   },
   {
    "duration": 108,
    "start_time": "2022-12-22T21:01:22.966Z"
   },
   {
    "duration": 9,
    "start_time": "2022-12-22T21:01:23.076Z"
   },
   {
    "duration": 116,
    "start_time": "2022-12-22T21:01:23.086Z"
   },
   {
    "duration": 144,
    "start_time": "2022-12-22T21:01:23.203Z"
   },
   {
    "duration": 10,
    "start_time": "2022-12-22T21:01:23.349Z"
   },
   {
    "duration": 93,
    "start_time": "2022-12-22T21:01:23.360Z"
   },
   {
    "duration": 10,
    "start_time": "2022-12-22T21:01:23.454Z"
   },
   {
    "duration": 405,
    "start_time": "2022-12-22T21:01:23.466Z"
   },
   {
    "duration": 16,
    "start_time": "2022-12-22T21:11:22.832Z"
   },
   {
    "duration": 9,
    "start_time": "2022-12-22T21:11:40.079Z"
   },
   {
    "duration": 11,
    "start_time": "2022-12-22T21:11:51.153Z"
   },
   {
    "duration": 9,
    "start_time": "2022-12-22T21:12:41.475Z"
   },
   {
    "duration": 10,
    "start_time": "2022-12-22T21:13:19.710Z"
   },
   {
    "duration": 11,
    "start_time": "2022-12-22T21:13:24.133Z"
   },
   {
    "duration": 11,
    "start_time": "2022-12-22T21:13:39.945Z"
   },
   {
    "duration": 76,
    "start_time": "2022-12-22T21:14:38.922Z"
   },
   {
    "duration": 11,
    "start_time": "2022-12-22T21:14:42.972Z"
   },
   {
    "duration": 12,
    "start_time": "2022-12-22T21:14:55.616Z"
   },
   {
    "duration": 12,
    "start_time": "2022-12-22T21:15:11.465Z"
   },
   {
    "duration": 5,
    "start_time": "2022-12-22T21:15:25.311Z"
   },
   {
    "duration": 4,
    "start_time": "2022-12-22T21:15:32.304Z"
   },
   {
    "duration": 11,
    "start_time": "2022-12-22T21:15:41.626Z"
   },
   {
    "duration": 10,
    "start_time": "2022-12-22T21:15:49.645Z"
   },
   {
    "duration": 11,
    "start_time": "2022-12-22T21:15:58.146Z"
   },
   {
    "duration": 5,
    "start_time": "2022-12-22T21:16:07.565Z"
   },
   {
    "duration": 10,
    "start_time": "2022-12-22T21:16:10.130Z"
   },
   {
    "duration": 5,
    "start_time": "2022-12-22T21:16:15.353Z"
   },
   {
    "duration": 6,
    "start_time": "2022-12-22T21:16:43.568Z"
   },
   {
    "duration": 16,
    "start_time": "2022-12-22T21:16:59.038Z"
   },
   {
    "duration": 76,
    "start_time": "2022-12-22T21:17:04.870Z"
   },
   {
    "duration": 11,
    "start_time": "2022-12-22T21:17:08.343Z"
   },
   {
    "duration": 3253,
    "start_time": "2022-12-22T21:17:13.372Z"
   },
   {
    "duration": 2097,
    "start_time": "2022-12-22T21:17:57.319Z"
   },
   {
    "duration": 5,
    "start_time": "2022-12-22T21:17:59.419Z"
   },
   {
    "duration": 40,
    "start_time": "2022-12-22T21:17:59.426Z"
   },
   {
    "duration": 25,
    "start_time": "2022-12-22T21:17:59.468Z"
   },
   {
    "duration": 109,
    "start_time": "2022-12-22T21:17:59.495Z"
   },
   {
    "duration": 130,
    "start_time": "2022-12-22T21:17:59.606Z"
   },
   {
    "duration": 13,
    "start_time": "2022-12-22T21:17:59.738Z"
   },
   {
    "duration": 493,
    "start_time": "2022-12-22T21:17:59.753Z"
   },
   {
    "duration": 164,
    "start_time": "2022-12-22T21:18:00.247Z"
   },
   {
    "duration": 18,
    "start_time": "2022-12-22T21:18:00.414Z"
   },
   {
    "duration": 101,
    "start_time": "2022-12-22T21:18:00.433Z"
   },
   {
    "duration": 10,
    "start_time": "2022-12-22T21:18:00.536Z"
   },
   {
    "duration": 418,
    "start_time": "2022-12-22T21:18:00.547Z"
   },
   {
    "duration": 13,
    "start_time": "2022-12-22T21:18:00.967Z"
   },
   {
    "duration": 10,
    "start_time": "2022-12-22T21:18:00.982Z"
   },
   {
    "duration": 13,
    "start_time": "2022-12-22T21:18:00.994Z"
   },
   {
    "duration": 15,
    "start_time": "2022-12-22T21:18:01.009Z"
   },
   {
    "duration": 29,
    "start_time": "2022-12-22T21:18:01.026Z"
   },
   {
    "duration": 7,
    "start_time": "2022-12-22T21:18:01.056Z"
   },
   {
    "duration": 22,
    "start_time": "2022-12-22T21:18:01.065Z"
   },
   {
    "duration": 15,
    "start_time": "2022-12-22T21:18:01.089Z"
   },
   {
    "duration": 40,
    "start_time": "2022-12-22T21:18:01.106Z"
   },
   {
    "duration": 179,
    "start_time": "2022-12-22T21:18:01.152Z"
   },
   {
    "duration": 190,
    "start_time": "2022-12-22T21:18:01.333Z"
   },
   {
    "duration": 5,
    "start_time": "2022-12-22T21:18:01.525Z"
   },
   {
    "duration": 201,
    "start_time": "2022-12-22T21:18:01.532Z"
   }
  ],
  "kernelspec": {
   "display_name": "Python 3 (ipykernel)",
   "language": "python",
   "name": "python3"
  },
  "language_info": {
   "codemirror_mode": {
    "name": "ipython",
    "version": 3
   },
   "file_extension": ".py",
   "mimetype": "text/x-python",
   "name": "python",
   "nbconvert_exporter": "python",
   "pygments_lexer": "ipython3",
   "version": "3.9.12"
  },
  "toc": {
   "base_numbering": 1,
   "nav_menu": {},
   "number_sections": true,
   "sideBar": true,
   "skip_h1_title": true,
   "title_cell": "Содержание",
   "title_sidebar": "Contents",
   "toc_cell": true,
   "toc_position": {
    "height": "640px",
    "left": "240px",
    "top": "112.229px",
    "width": "196.333px"
   },
   "toc_section_display": true,
   "toc_window_display": true
  }
 },
 "nbformat": 4,
 "nbformat_minor": 2
}
