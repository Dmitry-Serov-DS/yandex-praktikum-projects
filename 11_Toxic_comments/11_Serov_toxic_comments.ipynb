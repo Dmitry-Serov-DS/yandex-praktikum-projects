{
 "cells": [
  {
   "cell_type": "markdown",
   "metadata": {
    "toc": true
   },
   "source": [
    "<h1>Содержание<span class=\"tocSkip\"></span></h1>\n",
    "<div class=\"toc\"><ul class=\"toc-item\"><li><span><a href=\"#Постановка-задачи\" data-toc-modified-id=\"Постановка-задачи-1\"><span class=\"toc-item-num\">1&nbsp;&nbsp;</span>Постановка задачи</a></span></li><li><span><a href=\"#Подготовка\" data-toc-modified-id=\"Подготовка-2\"><span class=\"toc-item-num\">2&nbsp;&nbsp;</span>Подготовка</a></span><ul class=\"toc-item\"><li><span><a href=\"#Загрузка-и-знакомство-с-данными\" data-toc-modified-id=\"Загрузка-и-знакомство-с-данными-2.1\"><span class=\"toc-item-num\">2.1&nbsp;&nbsp;</span>Загрузка и знакомство с данными</a></span></li><li><span><a href=\"#Лемматизация-текста\" data-toc-modified-id=\"Лемматизация-текста-2.2\"><span class=\"toc-item-num\">2.2&nbsp;&nbsp;</span>Лемматизация текста</a></span><ul class=\"toc-item\"><li><span><a href=\"#Напишем-функцию-clear_text.\" data-toc-modified-id=\"Напишем-функцию-clear_text.-2.2.1\"><span class=\"toc-item-num\">2.2.1&nbsp;&nbsp;</span>Напишем функцию <strong>clear_text.</strong></a></span></li><li><span><a href=\"#Напишем-функцию-spacy_nlp.\" data-toc-modified-id=\"Напишем-функцию-spacy_nlp.-2.2.2\"><span class=\"toc-item-num\">2.2.2&nbsp;&nbsp;</span>Напишем функцию <strong>spacy_nlp.</strong></a></span></li></ul></li><li><span><a href=\"#Разобьем-данные-на-тренировочную,-валидационную-и-текстовую-выборки\" data-toc-modified-id=\"Разобьем-данные-на-тренировочную,-валидационную-и-текстовую-выборки-2.3\"><span class=\"toc-item-num\">2.3&nbsp;&nbsp;</span>Разобьем данные на тренировочную, валидационную и текстовую выборки</a></span></li></ul></li><li><span><a href=\"#Обучение\" data-toc-modified-id=\"Обучение-3\"><span class=\"toc-item-num\">3&nbsp;&nbsp;</span>Обучение</a></span><ul class=\"toc-item\"><li><ul class=\"toc-item\"><li><span><a href=\"#Подбор-гиперпараметров-для-Логистической-регрессии\" data-toc-modified-id=\"Подбор-гиперпараметров-для-Логистической-регрессии-3.0.1\"><span class=\"toc-item-num\">3.0.1&nbsp;&nbsp;</span>Подбор гиперпараметров для Логистической регрессии</a></span></li><li><span><a href=\"#Подбор-гиперпараметров-для-LightGBM\" data-toc-modified-id=\"Подбор-гиперпараметров-для-LightGBM-3.0.2\"><span class=\"toc-item-num\">3.0.2&nbsp;&nbsp;</span>Подбор гиперпараметров для LightGBM</a></span></li><li><span><a href=\"#Подбор-гиперпараметров-для-SVM\" data-toc-modified-id=\"Подбор-гиперпараметров-для-SVM-3.0.3\"><span class=\"toc-item-num\">3.0.3&nbsp;&nbsp;</span>Подбор гиперпараметров для SVM</a></span></li><li><span><a href=\"#Проверка-моделей-на-валидационной-выборке\" data-toc-modified-id=\"Проверка-моделей-на-валидационной-выборке-3.0.4\"><span class=\"toc-item-num\">3.0.4&nbsp;&nbsp;</span>Проверка моделей на валидационной выборке</a></span></li></ul></li></ul></li><li><span><a href=\"#Проверка-лучшей-модели-на-тестовых-данных\" data-toc-modified-id=\"Проверка-лучшей-модели-на-тестовых-данных-4\"><span class=\"toc-item-num\">4&nbsp;&nbsp;</span>Проверка лучшей модели на тестовых данных</a></span></li><li><span><a href=\"#Выводы\" data-toc-modified-id=\"Выводы-5\"><span class=\"toc-item-num\">5&nbsp;&nbsp;</span>Выводы</a></span></li></ul></div>"
   ]
  },
  {
   "cell_type": "markdown",
   "metadata": {},
   "source": [
    "# Проект для «Викишоп»"
   ]
  },
  {
   "cell_type": "markdown",
   "metadata": {},
   "source": [
    "Интернет-магазин «Викишоп» запускает новый сервис. Теперь пользователи могут редактировать и дополнять описания товаров, как в вики-сообществах. То есть клиенты предлагают свои правки и комментируют изменения других. Магазину нужен инструмент, который будет искать токсичные комментарии и отправлять их на модерацию. \n",
    "\n",
    "Обучите модель классифицировать комментарии на позитивные и негативные. В вашем распоряжении набор данных с разметкой о токсичности правок.\n",
    "\n",
    "Постройте модель со значением метрики качества *F1* не меньше 0.75. \n",
    "\n",
    "**Инструкция по выполнению проекта**\n",
    "\n",
    "1. Загрузите и подготовьте данные.\n",
    "2. Обучите разные модели. \n",
    "3. Сделайте выводы.\n",
    "\n",
    "**Описание данных**\n",
    "\n",
    "Данные находятся в файле `toxic_comments.csv`. Столбец *text* в нём содержит текст комментария, а *toxic* — целевой признак."
   ]
  },
  {
   "cell_type": "markdown",
   "metadata": {},
   "source": [
    "## Постановка задачи"
   ]
  },
  {
   "cell_type": "markdown",
   "metadata": {},
   "source": [
    "В нашем распоржении данные интернет магазина \"Викишоп\", которые содержат описание товаров. Пользователи могут дополнять и редактивровать описания товаров, а также комментировать описания других пользователей.  \n",
    "\n",
    "Нам необходимо построить модель, которая будет определять токсичность комментария и отправлять его на модерацию.\n",
    "\n",
    "**Цель задачи:** разработать модель, которая покажет значение метрики качества *F1* не менее 0.75"
   ]
  },
  {
   "cell_type": "markdown",
   "metadata": {},
   "source": [
    "## Подготовка"
   ]
  },
  {
   "cell_type": "code",
   "execution_count": 1,
   "metadata": {},
   "outputs": [],
   "source": [
    "#отключим предупреждения\n",
    "import warnings\n",
    "warnings.filterwarnings(\"ignore\")"
   ]
  },
  {
   "cell_type": "code",
   "execution_count": 2,
   "metadata": {},
   "outputs": [],
   "source": [
    "#импортируем необходимые библиотеки\n",
    "import pandas as pd\n",
    "import numpy as np\n",
    "import seaborn as sns\n",
    "import matplotlib.pyplot as plt\n",
    "import time\n",
    "from matplotlib.pyplot import figure\n",
    "\n",
    "from nltk.corpus import stopwords as nltk_stopwords\n",
    "import nltk\n",
    "from nltk import pos_tag\n",
    "\n",
    "from sklearn.model_selection import train_test_split\n",
    "from sklearn.linear_model import LogisticRegression\n",
    "from sklearn.feature_extraction.text import TfidfVectorizer \n",
    "from sklearn.model_selection import GridSearchCV\n",
    "from sklearn.metrics import f1_score\n",
    "import re\n",
    "\n",
    "from lightgbm import LGBMClassifier\n",
    "from sklearn import svm\n",
    "\n",
    "import spacy\n",
    "nlp = spacy.load(\"en_core_web_sm\")"
   ]
  },
  {
   "cell_type": "code",
   "execution_count": 3,
   "metadata": {},
   "outputs": [
    {
     "name": "stderr",
     "output_type": "stream",
     "text": [
      "[nltk_data] Downloading package wordnet to\n",
      "[nltk_data]     C:\\Users\\Мария\\AppData\\Roaming\\nltk_data...\n",
      "[nltk_data]   Package wordnet is already up-to-date!\n",
      "[nltk_data] Downloading package averaged_perceptron_tagger to\n",
      "[nltk_data]     C:\\Users\\Мария\\AppData\\Roaming\\nltk_data...\n",
      "[nltk_data]   Package averaged_perceptron_tagger is already up-to-\n",
      "[nltk_data]       date!\n"
     ]
    },
    {
     "data": {
      "text/plain": [
       "True"
      ]
     },
     "execution_count": 3,
     "metadata": {},
     "output_type": "execute_result"
    }
   ],
   "source": [
    "nltk.download('wordnet')\n",
    "nltk.download('averaged_perceptron_tagger')"
   ]
  },
  {
   "cell_type": "code",
   "execution_count": 4,
   "metadata": {},
   "outputs": [
    {
     "name": "stderr",
     "output_type": "stream",
     "text": [
      "[nltk_data] Downloading package stopwords to\n",
      "[nltk_data]     C:\\Users\\Мария\\AppData\\Roaming\\nltk_data...\n",
      "[nltk_data]   Package stopwords is already up-to-date!\n"
     ]
    }
   ],
   "source": [
    "nltk.download('stopwords')\n",
    "stopwords = set(nltk_stopwords.words('english'))"
   ]
  },
  {
   "cell_type": "markdown",
   "metadata": {},
   "source": [
    "### Загрузка и знакомство с данными"
   ]
  },
  {
   "cell_type": "markdown",
   "metadata": {},
   "source": [
    "Сохраним данные в датафрейм"
   ]
  },
  {
   "cell_type": "code",
   "execution_count": 5,
   "metadata": {},
   "outputs": [],
   "source": [
    "data = pd.read_csv('toxic_comments.csv')"
   ]
  },
  {
   "cell_type": "markdown",
   "metadata": {},
   "source": [
    "Выведем первые 5 строк, чтобы убедиться в корректности прочитанного файла и посмотрим какие есть данные"
   ]
  },
  {
   "cell_type": "code",
   "execution_count": 6,
   "metadata": {
    "scrolled": true
   },
   "outputs": [
    {
     "data": {
      "text/html": [
       "<div>\n",
       "<style scoped>\n",
       "    .dataframe tbody tr th:only-of-type {\n",
       "        vertical-align: middle;\n",
       "    }\n",
       "\n",
       "    .dataframe tbody tr th {\n",
       "        vertical-align: top;\n",
       "    }\n",
       "\n",
       "    .dataframe thead th {\n",
       "        text-align: right;\n",
       "    }\n",
       "</style>\n",
       "<table border=\"1\" class=\"dataframe\">\n",
       "  <thead>\n",
       "    <tr style=\"text-align: right;\">\n",
       "      <th></th>\n",
       "      <th>Unnamed: 0</th>\n",
       "      <th>text</th>\n",
       "      <th>toxic</th>\n",
       "    </tr>\n",
       "  </thead>\n",
       "  <tbody>\n",
       "    <tr>\n",
       "      <th>0</th>\n",
       "      <td>0</td>\n",
       "      <td>Explanation\\nWhy the edits made under my usern...</td>\n",
       "      <td>0</td>\n",
       "    </tr>\n",
       "    <tr>\n",
       "      <th>1</th>\n",
       "      <td>1</td>\n",
       "      <td>D'aww! He matches this background colour I'm s...</td>\n",
       "      <td>0</td>\n",
       "    </tr>\n",
       "    <tr>\n",
       "      <th>2</th>\n",
       "      <td>2</td>\n",
       "      <td>Hey man, I'm really not trying to edit war. It...</td>\n",
       "      <td>0</td>\n",
       "    </tr>\n",
       "    <tr>\n",
       "      <th>3</th>\n",
       "      <td>3</td>\n",
       "      <td>\"\\nMore\\nI can't make any real suggestions on ...</td>\n",
       "      <td>0</td>\n",
       "    </tr>\n",
       "    <tr>\n",
       "      <th>4</th>\n",
       "      <td>4</td>\n",
       "      <td>You, sir, are my hero. Any chance you remember...</td>\n",
       "      <td>0</td>\n",
       "    </tr>\n",
       "  </tbody>\n",
       "</table>\n",
       "</div>"
      ],
      "text/plain": [
       "   Unnamed: 0                                               text  toxic\n",
       "0           0  Explanation\\nWhy the edits made under my usern...      0\n",
       "1           1  D'aww! He matches this background colour I'm s...      0\n",
       "2           2  Hey man, I'm really not trying to edit war. It...      0\n",
       "3           3  \"\\nMore\\nI can't make any real suggestions on ...      0\n",
       "4           4  You, sir, are my hero. Any chance you remember...      0"
      ]
     },
     "execution_count": 6,
     "metadata": {},
     "output_type": "execute_result"
    }
   ],
   "source": [
    "data.head()"
   ]
  },
  {
   "cell_type": "markdown",
   "metadata": {},
   "source": [
    "Выведем информацию о датафрейме"
   ]
  },
  {
   "cell_type": "code",
   "execution_count": 7,
   "metadata": {},
   "outputs": [
    {
     "name": "stdout",
     "output_type": "stream",
     "text": [
      "<class 'pandas.core.frame.DataFrame'>\n",
      "RangeIndex: 159292 entries, 0 to 159291\n",
      "Data columns (total 3 columns):\n",
      " #   Column      Non-Null Count   Dtype \n",
      "---  ------      --------------   ----- \n",
      " 0   Unnamed: 0  159292 non-null  int64 \n",
      " 1   text        159292 non-null  object\n",
      " 2   toxic       159292 non-null  int64 \n",
      "dtypes: int64(2), object(1)\n",
      "memory usage: 3.6+ MB\n"
     ]
    }
   ],
   "source": [
    "data.info()"
   ]
  },
  {
   "cell_type": "markdown",
   "metadata": {},
   "source": [
    "Проверим значеи в столбце \"Unnamed: 0\". "
   ]
  },
  {
   "cell_type": "code",
   "execution_count": 8,
   "metadata": {
    "scrolled": true
   },
   "outputs": [
    {
     "data": {
      "text/plain": [
       "0      0\n",
       "1      1\n",
       "2      2\n",
       "3      3\n",
       "4      4\n",
       "5      5\n",
       "6      6\n",
       "7      7\n",
       "8      8\n",
       "9      9\n",
       "10    10\n",
       "11    11\n",
       "12    12\n",
       "13    13\n",
       "14    14\n",
       "15    15\n",
       "16    16\n",
       "17    17\n",
       "18    18\n",
       "19    19\n",
       "Name: Unnamed: 0, dtype: int64"
      ]
     },
     "execution_count": 8,
     "metadata": {},
     "output_type": "execute_result"
    }
   ],
   "source": [
    "data['Unnamed: 0'].head(20)"
   ]
  },
  {
   "cell_type": "markdown",
   "metadata": {},
   "source": [
    "Видим, что данные повторяют индексы, удалим столбец **Unnamed: 0** из датафрейма"
   ]
  },
  {
   "cell_type": "code",
   "execution_count": 9,
   "metadata": {
    "scrolled": true
   },
   "outputs": [],
   "source": [
    "data.drop('Unnamed: 0', axis=1, inplace=True)"
   ]
  },
  {
   "cell_type": "markdown",
   "metadata": {},
   "source": [
    "Проверим распределение данных по целевому признаку"
   ]
  },
  {
   "cell_type": "code",
   "execution_count": 10,
   "metadata": {},
   "outputs": [
    {
     "data": {
      "image/png": "[encoded data removed]",
      "text/plain": [
       "<Figure size 432x360 with 1 Axes>"
      ]
     },
     "metadata": {
      "needs_background": "light"
     },
     "output_type": "display_data"
    }
   ],
   "source": [
    "fig, ax = plt.subplots(figsize=(6,5))\n",
    "\n",
    "ax = pd.DataFrame(data.toxic.value_counts(), columns=['toxic']).plot(kind='bar', ax=ax)\n",
    "plt.title('Распределение целевого признака')\n",
    "plt.xlabel('toxic')\n",
    "plt.xticks(rotation=0)\n",
    "for i, count in enumerate(data.toxic.value_counts()):\n",
    "    ax.text(i,count,round(count, 1),  verticalalignment='bottom', horizontalalignment='center')\n",
    "plt.show()"
   ]
  },
  {
   "cell_type": "markdown",
   "metadata": {},
   "source": [
    "Видим, что данные не сбалансированные. Доля \"токсичных комментариев составляет 10,1%. Учтем это при разбиении на выборки и при создании моделей машинного обучения."
   ]
  },
  {
   "cell_type": "markdown",
   "metadata": {},
   "source": [
    "### Лемматизация текста"
   ]
  },
  {
   "cell_type": "markdown",
   "metadata": {},
   "source": [
    "Создадим корпус лемматизированых текстов. Для этого напишу функции очистки текста от \"лишних\" символов и функцию лемматизации"
   ]
  },
  {
   "cell_type": "markdown",
   "metadata": {},
   "source": [
    "#### Напишем функцию **clear_text.**  \n",
    "На вход она будет получать строку из всех комментариев.  \n",
    "На выходе получим стороку, в которой останутся только латинские буквы"
   ]
  },
  {
   "cell_type": "code",
   "execution_count": 11,
   "metadata": {},
   "outputs": [],
   "source": [
    "def clear_text(text):\n",
    "    list = re.sub(r'[^a-zA-Z]', ' ', text)\n",
    "    list = list.split()\n",
    "    return \" \".join(list)"
   ]
  },
  {
   "cell_type": "markdown",
   "metadata": {},
   "source": [
    "#### Напишем функцию **spacy_nlp.**  \n",
    "На вход она будет получать строку из всех комментариев.  \n",
    "На выходе получим лемматиированную строку"
   ]
  },
  {
   "cell_type": "code",
   "execution_count": 12,
   "metadata": {},
   "outputs": [],
   "source": [
    "def spacy_nlp(text):\n",
    "    doc = nlp(text)\n",
    "    lemm_text = \" \".join([token.lemma_ for token in doc])\n",
    "    return lemm_text"
   ]
  },
  {
   "cell_type": "markdown",
   "metadata": {},
   "source": [
    "Применим обе функции к каждому тексту и сохраним результаты в переменной **corpus_lemm.**  \n",
    "Дополнительно приведем тексты к нижнему регистру."
   ]
  },
  {
   "cell_type": "markdown",
   "metadata": {},
   "source": [
    "Применим функцию **clear_text** к столбцу с комментариями"
   ]
  },
  {
   "cell_type": "code",
   "execution_count": 13,
   "metadata": {},
   "outputs": [
    {
     "name": "stdout",
     "output_type": "stream",
     "text": [
      "CPU times: total: 13.6 s\n",
      "Wall time: 13.7 s\n"
     ]
    }
   ],
   "source": [
    "%%time\n",
    "data['text'] = data['text'].apply(clear_text)"
   ]
  },
  {
   "cell_type": "markdown",
   "metadata": {},
   "source": [
    "Создадим новый столбец **lemm** в датафрейме, который будет содержать лемматизированный текст.  \n",
    "\n",
    "<b> Предупреждение: ячейка выполнялась 2 часа 37 минут </b>"
   ]
  },
  {
   "cell_type": "code",
   "execution_count": 14,
   "metadata": {},
   "outputs": [
    {
     "name": "stdout",
     "output_type": "stream",
     "text": [
      "CPU times: total: 2h 39min 58s\n",
      "Wall time: 2h 40min 7s\n"
     ]
    }
   ],
   "source": [
    "%%time\n",
    "data['lemm'] = data['text'].apply(spacy_nlp)"
   ]
  },
  {
   "cell_type": "markdown",
   "metadata": {},
   "source": [
    "CPU times: user 38min 16s, sys: 10.8 s, total: 38min 27s\n",
    "Wall time: 38min 28s"
   ]
  },
  {
   "cell_type": "markdown",
   "metadata": {},
   "source": [
    "### Разобьем данные на тренировочную, валидационную и текстовую выборки"
   ]
  },
  {
   "cell_type": "markdown",
   "metadata": {},
   "source": [
    "Признаками для обучения модели у нас будут закодированные слова в величины TF-IDF, Целевой признак возьмем из столбца **toxic.**"
   ]
  },
  {
   "cell_type": "code",
   "execution_count": 15,
   "metadata": {},
   "outputs": [],
   "source": [
    "# выделим целевой признак из столбца toxic\n",
    "target = data.toxic"
   ]
  },
  {
   "cell_type": "markdown",
   "metadata": {},
   "source": [
    "C помощью метода TfidfVectorizer произведем кодирование слов в велечины TF-IDF"
   ]
  },
  {
   "cell_type": "code",
   "execution_count": 16,
   "metadata": {},
   "outputs": [],
   "source": [
    "count_tf_idf = TfidfVectorizer(stop_words=stopwords) "
   ]
  },
  {
   "cell_type": "markdown",
   "metadata": {},
   "source": [
    "Разделим данные на тренировочную и временную выборки, чтобы далее временну выборку разделить на валидационную и тестовую"
   ]
  },
  {
   "cell_type": "code",
   "execution_count": 17,
   "metadata": {},
   "outputs": [],
   "source": [
    "features_train, features_temp, target_train, target_temp = train_test_split(data['lemm'],target, test_size=0.4, random_state=12345, stratify=target)"
   ]
  },
  {
   "cell_type": "code",
   "execution_count": 18,
   "metadata": {},
   "outputs": [],
   "source": [
    "features_valid, features_test, target_valid, target_test = train_test_split(features_temp,target_temp, test_size=0.5, random_state=12345, stratify=target_temp)"
   ]
  },
  {
   "cell_type": "markdown",
   "metadata": {},
   "source": [
    "Проверим размеры полученных выборок и корректно ли сработала стратификация по целевому признаку"
   ]
  },
  {
   "cell_type": "code",
   "execution_count": 19,
   "metadata": {},
   "outputs": [
    {
     "data": {
      "text/plain": [
       "'размер тренировочной выборки (95575,), количество целевого признака = 1 = 9712, (0.102)'"
      ]
     },
     "metadata": {},
     "output_type": "display_data"
    },
    {
     "data": {
      "text/plain": [
       "'размер валидационной выборки (31858,), количество целевого признака = 1 = 3237, (0.102)'"
      ]
     },
     "metadata": {},
     "output_type": "display_data"
    },
    {
     "data": {
      "text/plain": [
       "'размер тестовой выборки (31859,), количество целевого признака = 1 = 3237, (0.102)'"
      ]
     },
     "metadata": {},
     "output_type": "display_data"
    }
   ],
   "source": [
    "display(f'размер тренировочной выборки {features_train.shape}, количество целевого признака = 1 = {target_train.sum()}, ({round(target_train.sum()/features_train.shape[0],3)})')\n",
    "display(f'размер валидационной выборки {features_valid.shape}, количество целевого признака = 1 = {target_valid.sum()}, ({round(target_valid.sum()/features_valid.shape[0],3)})')\n",
    "display(f'размер тестовой выборки {features_test.shape}, количество целевого признака = 1 = {target_test.sum()}, ({round(target_test.sum()/features_test.shape[0],3)})')"
   ]
  },
  {
   "cell_type": "markdown",
   "metadata": {},
   "source": [
    "Обучим **TfidfVectorizer** на тренировочной выборке и сразу применим трансформ для нее"
   ]
  },
  {
   "cell_type": "code",
   "execution_count": 20,
   "metadata": {},
   "outputs": [],
   "source": [
    "tf_idf_train = count_tf_idf.fit_transform(features_train.values)"
   ]
  },
  {
   "cell_type": "markdown",
   "metadata": {},
   "source": [
    "Применим метод трансформ для валидационной и тестовых выборок"
   ]
  },
  {
   "cell_type": "code",
   "execution_count": 21,
   "metadata": {},
   "outputs": [],
   "source": [
    "tf_idf_valid = count_tf_idf.transform(features_valid.values)"
   ]
  },
  {
   "cell_type": "code",
   "execution_count": 22,
   "metadata": {},
   "outputs": [
    {
     "name": "stdout",
     "output_type": "stream",
     "text": [
      "CPU times: total: 4.61 s\n",
      "Wall time: 4.59 s\n"
     ]
    }
   ],
   "source": [
    "%%time\n",
    "tf_idf_test = count_tf_idf.transform(features_test.values)"
   ]
  },
  {
   "cell_type": "markdown",
   "metadata": {},
   "source": [
    "Проверим размеры полученных матриц"
   ]
  },
  {
   "cell_type": "code",
   "execution_count": 23,
   "metadata": {},
   "outputs": [
    {
     "data": {
      "text/plain": [
       "(95575, 116207)"
      ]
     },
     "execution_count": 23,
     "metadata": {},
     "output_type": "execute_result"
    }
   ],
   "source": [
    "tf_idf_train.shape"
   ]
  },
  {
   "cell_type": "code",
   "execution_count": 24,
   "metadata": {},
   "outputs": [
    {
     "data": {
      "text/plain": [
       "(31858, 116207)"
      ]
     },
     "execution_count": 24,
     "metadata": {},
     "output_type": "execute_result"
    }
   ],
   "source": [
    "tf_idf_valid.shape"
   ]
  },
  {
   "cell_type": "code",
   "execution_count": 25,
   "metadata": {},
   "outputs": [
    {
     "data": {
      "text/plain": [
       "(31859, 116207)"
      ]
     },
     "execution_count": 25,
     "metadata": {},
     "output_type": "execute_result"
    }
   ],
   "source": [
    "tf_idf_test.shape"
   ]
  },
  {
   "cell_type": "markdown",
   "metadata": {},
   "source": [
    "Из полученных размеров видно, что кодирование признаков, на которых будет обучаться модель прошло корректно"
   ]
  },
  {
   "cell_type": "markdown",
   "metadata": {},
   "source": [
    "## Обучение"
   ]
  },
  {
   "cell_type": "markdown",
   "metadata": {},
   "source": [
    "Будем рассматривать работу трех моделей машинного обучения:\n",
    "- Логистическую регрессию;\n",
    "- LightGBM;\n",
    "- SVM.\n",
    "\n",
    "Объявим словари с указанием гиперпараметров, которые будем перебирать используя алгоритм GridSearchCV"
   ]
  },
  {
   "cell_type": "code",
   "execution_count": 26,
   "metadata": {},
   "outputs": [],
   "source": [
    "# для lgbm\n",
    "params_log = { 'penalty': ['l1', 'l2'],\n",
    "                'solver' : ['newton-cg', 'liblinear'],\n",
    "                'max_iter' : [1, 10], \n",
    "                'C': np.logspace(-4, 4, 10)}"
   ]
  },
  {
   "cell_type": "code",
   "execution_count": 36,
   "metadata": {},
   "outputs": [],
   "source": [
    "#для lgbm\n",
    "params_lgbm = {'n_estimators':[100, 300],\n",
    "              'max_depth': [10],\n",
    "             'learning_rate': [0.5, 0.8],\n",
    "             'num_iterations' : [10, 40]\n",
    "              }"
   ]
  },
  {
   "cell_type": "markdown",
   "metadata": {},
   "source": [
    "#### Подбор гиперпараметров для Логистической регрессии"
   ]
  },
  {
   "cell_type": "code",
   "execution_count": 28,
   "metadata": {},
   "outputs": [],
   "source": [
    "# Объявим модель логистической регрессии\n",
    "model_log = LogisticRegression(n_jobs = -1, class_weight='balanced')"
   ]
  },
  {
   "cell_type": "code",
   "execution_count": 29,
   "metadata": {},
   "outputs": [],
   "source": [
    "# Создадим \n",
    "grid_log = GridSearchCV(estimator=model_log, param_grid=params_log, cv=5, scoring='f1')"
   ]
  },
  {
   "cell_type": "code",
   "execution_count": 30,
   "metadata": {
    "scrolled": false
   },
   "outputs": [
    {
     "name": "stdout",
     "output_type": "stream",
     "text": [
      "CPU times: total: 37min 12s\n",
      "Wall time: 19min 39s\n"
     ]
    },
    {
     "data": {
      "text/plain": [
       "GridSearchCV(cv=5,\n",
       "             estimator=LogisticRegression(class_weight='balanced', n_jobs=-1),\n",
       "             param_grid={'C': array([1.00000000e-04, 7.74263683e-04, 5.99484250e-03, 4.64158883e-02,\n",
       "       3.59381366e-01, 2.78255940e+00, 2.15443469e+01, 1.66810054e+02,\n",
       "       1.29154967e+03, 1.00000000e+04]),\n",
       "                         'max_iter': [1, 10], 'penalty': ['l1', 'l2'],\n",
       "                         'solver': ['newton-cg', 'liblinear']},\n",
       "             scoring='f1')"
      ]
     },
     "execution_count": 30,
     "metadata": {},
     "output_type": "execute_result"
    }
   ],
   "source": [
    "%%time\n",
    "grid_log.fit(tf_idf_train, target_train)"
   ]
  },
  {
   "cell_type": "code",
   "execution_count": 31,
   "metadata": {},
   "outputs": [
    {
     "data": {
      "text/plain": [
       "{'C': 2.782559402207126,\n",
       " 'max_iter': 10,\n",
       " 'penalty': 'l1',\n",
       " 'solver': 'liblinear'}"
      ]
     },
     "execution_count": 31,
     "metadata": {},
     "output_type": "execute_result"
    }
   ],
   "source": [
    "grid_log.best_params_"
   ]
  },
  {
   "cell_type": "code",
   "execution_count": 32,
   "metadata": {
    "scrolled": false
   },
   "outputs": [
    {
     "data": {
      "text/plain": [
       "LogisticRegression(C=2.782559402207126, class_weight='balanced', max_iter=10,\n",
       "                   n_jobs=-1, penalty='l1', solver='liblinear')"
      ]
     },
     "execution_count": 32,
     "metadata": {},
     "output_type": "execute_result"
    }
   ],
   "source": [
    "# сохраним модель Логистической регрессии с наилучшими гиперпараметрами для дальнейшей проверки на кроссвалидации\n",
    "model_log = grid_log.best_estimator_\n",
    "model_log"
   ]
  },
  {
   "cell_type": "markdown",
   "metadata": {},
   "source": [
    "#### Подбор гиперпараметров для LightGBM"
   ]
  },
  {
   "cell_type": "code",
   "execution_count": 33,
   "metadata": {},
   "outputs": [
    {
     "data": {
      "text/plain": [
       "LGBMClassifier()"
      ]
     },
     "execution_count": 33,
     "metadata": {},
     "output_type": "execute_result"
    }
   ],
   "source": [
    "# Объявим модель LightGBM\n",
    "model_lgbm = LGBMClassifier(n_jobs=-1)\n",
    "model_lgbm"
   ]
  },
  {
   "cell_type": "code",
   "execution_count": 37,
   "metadata": {
    "scrolled": true
   },
   "outputs": [],
   "source": [
    "grid_lgbm = GridSearchCV(estimator=model_lgbm, param_grid=params_lgbm, cv=5, scoring='f1')"
   ]
  },
  {
   "cell_type": "code",
   "execution_count": 38,
   "metadata": {},
   "outputs": [
    {
     "name": "stdout",
     "output_type": "stream",
     "text": [
      "CPU times: total: 49min 7s\n",
      "Wall time: 14min 44s\n"
     ]
    },
    {
     "data": {
      "text/plain": [
       "GridSearchCV(cv=5, estimator=LGBMClassifier(),\n",
       "             param_grid={'learning_rate': [0.5, 0.8], 'max_depth': [10],\n",
       "                         'n_estimators': [100, 300],\n",
       "                         'num_iterations': [10, 40]},\n",
       "             scoring='f1')"
      ]
     },
     "execution_count": 38,
     "metadata": {},
     "output_type": "execute_result"
    }
   ],
   "source": [
    "%%time\n",
    "grid_lgbm.fit(tf_idf_train, target_train)"
   ]
  },
  {
   "cell_type": "code",
   "execution_count": 39,
   "metadata": {},
   "outputs": [
    {
     "data": {
      "text/plain": [
       "{'learning_rate': 0.5,\n",
       " 'max_depth': 10,\n",
       " 'n_estimators': 100,\n",
       " 'num_iterations': 40}"
      ]
     },
     "execution_count": 39,
     "metadata": {},
     "output_type": "execute_result"
    }
   ],
   "source": [
    "# выведем наилучшие параметры модели LightGBM\n",
    "grid_lgbm.best_params_"
   ]
  },
  {
   "cell_type": "code",
   "execution_count": 40,
   "metadata": {},
   "outputs": [],
   "source": [
    "# сохраним модель LightGBM с наилучшими гиперпараметрами для дальнейшей проверки на кроссвалидации\n",
    "model_lgbm = grid_lgbm.best_estimator_"
   ]
  },
  {
   "cell_type": "markdown",
   "metadata": {},
   "source": [
    "#### Подбор гиперпараметров для SVM"
   ]
  },
  {
   "cell_type": "markdown",
   "metadata": {},
   "source": [
    "объевим модель. Гиперпараметры подбирать не стал, т.к. пытался сделать это, но гридсеч не выполнился даже за 12 часов"
   ]
  },
  {
   "cell_type": "code",
   "execution_count": 41,
   "metadata": {},
   "outputs": [],
   "source": [
    "# Объявим модель SVM\n",
    "model_svm = svm.SVC(random_state=12345)"
   ]
  },
  {
   "cell_type": "markdown",
   "metadata": {},
   "source": [
    "#### Проверка моделей на валидационной выборке"
   ]
  },
  {
   "cell_type": "markdown",
   "metadata": {},
   "source": [
    "Создадим словарь с обученными моделями"
   ]
  },
  {
   "cell_type": "code",
   "execution_count": 42,
   "metadata": {},
   "outputs": [],
   "source": [
    "dict = {'LightGBM' : model_lgbm ,\n",
    "        'linear' : model_log,\n",
    "        'svm' : model_svm\n",
    "       }"
   ]
  },
  {
   "cell_type": "markdown",
   "metadata": {},
   "source": [
    "Создадим датафрейм, в который в дальнейшем сохраним результаты проверки работы моделей на валидационной выборке"
   ]
  },
  {
   "cell_type": "code",
   "execution_count": 43,
   "metadata": {},
   "outputs": [
    {
     "data": {
      "text/html": [
       "<div>\n",
       "<style scoped>\n",
       "    .dataframe tbody tr th:only-of-type {\n",
       "        vertical-align: middle;\n",
       "    }\n",
       "\n",
       "    .dataframe tbody tr th {\n",
       "        vertical-align: top;\n",
       "    }\n",
       "\n",
       "    .dataframe thead th {\n",
       "        text-align: right;\n",
       "    }\n",
       "</style>\n",
       "<table border=\"1\" class=\"dataframe\">\n",
       "  <thead>\n",
       "    <tr style=\"text-align: right;\">\n",
       "      <th></th>\n",
       "      <th>model</th>\n",
       "      <th>F1</th>\n",
       "      <th>time_fit</th>\n",
       "    </tr>\n",
       "  </thead>\n",
       "  <tbody>\n",
       "    <tr>\n",
       "      <th>LightGBM</th>\n",
       "      <td>NaN</td>\n",
       "      <td>NaN</td>\n",
       "      <td>NaN</td>\n",
       "    </tr>\n",
       "    <tr>\n",
       "      <th>linear</th>\n",
       "      <td>NaN</td>\n",
       "      <td>NaN</td>\n",
       "      <td>NaN</td>\n",
       "    </tr>\n",
       "    <tr>\n",
       "      <th>svm</th>\n",
       "      <td>NaN</td>\n",
       "      <td>NaN</td>\n",
       "      <td>NaN</td>\n",
       "    </tr>\n",
       "  </tbody>\n",
       "</table>\n",
       "</div>"
      ],
      "text/plain": [
       "         model   F1 time_fit\n",
       "LightGBM   NaN  NaN      NaN\n",
       "linear     NaN  NaN      NaN\n",
       "svm        NaN  NaN      NaN"
      ]
     },
     "execution_count": 43,
     "metadata": {},
     "output_type": "execute_result"
    }
   ],
   "source": [
    "results = pd.DataFrame(index = dict.keys(), columns=['model', 'F1', 'time_fit'])\n",
    "results"
   ]
  },
  {
   "cell_type": "markdown",
   "metadata": {},
   "source": [
    "Сделаем цикл, на каждой итерации которого каждая модель обучится на тренировочных данных и сделает предсказание на валидационной выборке.  \n",
    "После этого посчитаем метрику **F1** и время обучения модели.\n",
    "Сохраним все данные в таблицу **results**"
   ]
  },
  {
   "cell_type": "code",
   "execution_count": 44,
   "metadata": {
    "scrolled": true
   },
   "outputs": [
    {
     "name": "stdout",
     "output_type": "stream",
     "text": [
      "LGBMClassifier(learning_rate=0.5, max_depth=10, num_iterations=40)\n",
      "37.83\n",
      "f1 - {0.752}\n",
      "LogisticRegression(C=2.782559402207126, class_weight='balanced', max_iter=10,\n",
      "                   n_jobs=-1, penalty='l1', solver='liblinear')\n",
      "6.03\n",
      "f1 - {0.77}\n",
      "SVC(random_state=12345)\n",
      "3312.75\n",
      "f1 - {0.752}\n",
      "CPU times: total: 57min 10s\n",
      "Wall time: 55min 56s\n"
     ]
    }
   ],
   "source": [
    "%%time\n",
    "for index, model in dict.items():\n",
    "    pred = []\n",
    "    f1 = 0\n",
    "    results.loc[index]['model'] = index\n",
    "    print(model)\n",
    "    time_start = time.time() # фиксируем время начала обучения\n",
    "    model.fit(tf_idf_train, target_train)\n",
    "    pred = model.predict(tf_idf_valid)\n",
    "    f1 = f1_score(target_valid, pred)    \n",
    "    results.loc[index]['time_fit'] = round((time.time() - time_start),2)\n",
    "    results.loc[index]['F1'] = round(abs(f1),3)\n",
    "    print(results.loc[index]['time_fit'])\n",
    "    print('f1 -', {results.loc[index]['F1']})"
   ]
  },
  {
   "cell_type": "markdown",
   "metadata": {},
   "source": [
    "Выведем полученые результаты на экран, отсортируем модели по возрастанию метрики **F1.**"
   ]
  },
  {
   "cell_type": "code",
   "execution_count": 45,
   "metadata": {},
   "outputs": [],
   "source": [
    "results.sort_values(by='F1', ascending=True, inplace=True)"
   ]
  },
  {
   "cell_type": "markdown",
   "metadata": {},
   "source": [
    "Отрисуем данную таблицу"
   ]
  },
  {
   "cell_type": "code",
   "execution_count": 46,
   "metadata": {},
   "outputs": [
    {
     "data": {
      "image/png": "[encoded data removed]",
      "text/plain": [
       "<Figure size 720x360 with 1 Axes>"
      ]
     },
     "metadata": {
      "needs_background": "light"
     },
     "output_type": "display_data"
    }
   ],
   "source": [
    "fig, ax = plt.subplots(figsize=(10,5))\n",
    "ax = sns.barplot(data=results, x='model', y='F1')\n",
    "for i, metrics in enumerate(results.F1):\n",
    "    ax.text(i,metrics,round(metrics, 3),  verticalalignment='bottom', horizontalalignment='center')\n",
    "for i, time in enumerate(results.time_fit):\n",
    "    ax.text(i,metrics/2,round(time, 1),  verticalalignment='bottom', horizontalalignment='center')    \n",
    "plt.title('Метрика F1 в разрезе моделей предсказаний')\n",
    "plt.xlabel('Модель')\n",
    "plt.show()"
   ]
  },
  {
   "cell_type": "markdown",
   "metadata": {},
   "source": [
    "**Вывод:**  \n",
    "По результатам работы моделей на валидационной выборке видим, что наилучшую метрику F1 показала модель **Логистическая регрессия.**\n",
    "В результате для проверки на тестовых данных будем использовать ее."
   ]
  },
  {
   "cell_type": "markdown",
   "metadata": {},
   "source": [
    "## Проверка лучшей модели на тестовых данных"
   ]
  },
  {
   "cell_type": "code",
   "execution_count": 47,
   "metadata": {},
   "outputs": [],
   "source": [
    "pred_test = model_log.predict(tf_idf_test)"
   ]
  },
  {
   "cell_type": "code",
   "execution_count": 48,
   "metadata": {},
   "outputs": [
    {
     "data": {
      "text/plain": [
       "'Результат метрики F1 наилучшей модели равен 0.756'"
      ]
     },
     "execution_count": 48,
     "metadata": {},
     "output_type": "execute_result"
    }
   ],
   "source": [
    "f1_test = f1_score(target_test,pred_test)\n",
    "f'Результат метрики F1 наилучшей модели равен {round(f1_test, 3)}'"
   ]
  },
  {
   "cell_type": "markdown",
   "metadata": {},
   "source": [
    "## Выводы"
   ]
  },
  {
   "cell_type": "markdown",
   "metadata": {},
   "source": [
    "В нашем распоржении были данные интернет магазина \"Викишоп\", которые содержат описание товаров.  \n",
    "Пользователи могут дополнять и редактивровать описания товаров, а также комментировать описания других пользователей.\n",
    "\n",
    "Нам было необходимо построить модель, которая будет определять токсичность комментария и отправлять его на модерацию.\n",
    "\n",
    "Цель задачи: разработать модель, которая покажет значение метрики качества F1 не менее 0.75\n",
    "\n",
    "В самом начале выполнения проекта были загружены имеющиеся данные. \n",
    "Данные содержали столбец с текстами комментариев, признаком токсичен комментарий или нет и \"лишний\" столбец, дублирующий индексы.  \n",
    "\n",
    "Столбец с текстами комментариев был обработан:\n",
    "- текст был очищен от \"лишних\" символов, оставили только латинские буквы. Привели текст в нижний регистр.\n",
    "- текст был лемматизирован используя SPACY.\n",
    "\n",
    "Далее используя алгоритм подбора гиперпараметров **GridSearchCV** мы подобрали гиперпараметры для двух моделей машинного обучения:\n",
    "- Логистическую регрессию;\n",
    "- LightGBM;\n",
    "\n",
    "Также обучили модель SVM на стандартных гиперпараметрах.\n",
    "\n",
    "В результате проверки работы модели на валидационной выборке лучшие результаты метрики **F1** показала модель **Логистическая регрессия.**  \n",
    "\n",
    "При итоговой проверке работы модели на тестовой выборке было получено значение метрики **F1 = 0,756 **.\n",
    "\n",
    "Целевая задача проекта выполнена."
   ]
  }
 ],
 "metadata": {
  "ExecuteTimeLog": [
   {
    "duration": 769,
    "start_time": "2023-01-31T10:20:51.601Z"
   },
   {
    "duration": 2343,
    "start_time": "2023-01-31T10:21:21.762Z"
   },
   {
    "duration": 10,
    "start_time": "2023-01-31T10:21:30.137Z"
   },
   {
    "duration": 34,
    "start_time": "2023-01-31T10:21:49.559Z"
   },
   {
    "duration": 95,
    "start_time": "2023-01-31T10:22:34.559Z"
   },
   {
    "duration": 9,
    "start_time": "2023-01-31T10:22:50.669Z"
   },
   {
    "duration": 7,
    "start_time": "2023-01-31T10:23:17.769Z"
   },
   {
    "duration": 16,
    "start_time": "2023-01-31T10:23:59.976Z"
   },
   {
    "duration": 1874,
    "start_time": "2023-01-31T10:25:17.209Z"
   },
   {
    "duration": 45,
    "start_time": "2023-01-31T10:25:30.319Z"
   },
   {
    "duration": 1132,
    "start_time": "2023-01-31T10:25:50.219Z"
   },
   {
    "duration": 2333,
    "start_time": "2023-01-31T10:25:51.353Z"
   },
   {
    "duration": 18,
    "start_time": "2023-01-31T10:25:57.473Z"
   },
   {
    "duration": 1893,
    "start_time": "2023-01-31T10:26:00.139Z"
   },
   {
    "duration": 4,
    "start_time": "2023-01-31T10:26:04.713Z"
   },
   {
    "duration": 4,
    "start_time": "2023-01-31T10:26:36.747Z"
   },
   {
    "duration": 4,
    "start_time": "2023-01-31T10:27:55.930Z"
   },
   {
    "duration": 64,
    "start_time": "2023-01-31T10:28:16.139Z"
   },
   {
    "duration": 8,
    "start_time": "2023-01-31T10:28:41.218Z"
   },
   {
    "duration": 4,
    "start_time": "2023-01-31T10:28:45.806Z"
   },
   {
    "duration": 4,
    "start_time": "2023-01-31T10:28:52.386Z"
   },
   {
    "duration": 4,
    "start_time": "2023-01-31T10:29:05.299Z"
   },
   {
    "duration": 1422,
    "start_time": "2023-01-31T10:31:55.698Z"
   },
   {
    "duration": 2126,
    "start_time": "2023-01-31T10:32:15.921Z"
   },
   {
    "duration": 249,
    "start_time": "2023-01-31T10:32:44.099Z"
   },
   {
    "duration": 237449,
    "start_time": "2023-01-31T10:32:49.128Z"
   },
   {
    "duration": 46,
    "start_time": "2023-01-31T10:37:39.193Z"
   },
   {
    "duration": 4,
    "start_time": "2023-01-31T10:37:48.189Z"
   },
   {
    "duration": 63,
    "start_time": "2023-01-31T10:38:05.630Z"
   },
   {
    "duration": 2386,
    "start_time": "2023-01-31T10:38:15.847Z"
   },
   {
    "duration": 2647,
    "start_time": "2023-01-31T10:38:18.235Z"
   },
   {
    "duration": 3,
    "start_time": "2023-01-31T10:38:30.269Z"
   },
   {
    "duration": 1868,
    "start_time": "2023-01-31T10:38:37.769Z"
   },
   {
    "duration": 242209,
    "start_time": "2023-01-31T10:38:41.411Z"
   },
   {
    "duration": 51,
    "start_time": "2023-01-31T10:42:56.048Z"
   },
   {
    "duration": 12,
    "start_time": "2023-01-31T10:42:57.561Z"
   },
   {
    "duration": 52,
    "start_time": "2023-01-31T10:43:52.315Z"
   },
   {
    "duration": 45,
    "start_time": "2023-01-31T10:43:59.460Z"
   },
   {
    "duration": 36,
    "start_time": "2023-01-31T10:44:17.588Z"
   },
   {
    "duration": 46,
    "start_time": "2023-01-31T10:45:24.488Z"
   },
   {
    "duration": 2892,
    "start_time": "2023-01-31T19:15:03.190Z"
   },
   {
    "duration": 241,
    "start_time": "2023-01-31T19:16:02.881Z"
   },
   {
    "duration": 104,
    "start_time": "2023-01-31T19:16:07.233Z"
   },
   {
    "duration": 1625,
    "start_time": "2023-01-31T19:16:33.404Z"
   },
   {
    "duration": 293,
    "start_time": "2023-01-31T19:16:38.241Z"
   },
   {
    "duration": 2943,
    "start_time": "2023-02-02T10:33:38.110Z"
   },
   {
    "duration": 2549,
    "start_time": "2023-02-02T10:33:41.055Z"
   },
   {
    "duration": 20,
    "start_time": "2023-02-02T10:33:43.607Z"
   },
   {
    "duration": 49,
    "start_time": "2023-02-02T10:33:43.629Z"
   },
   {
    "duration": 13,
    "start_time": "2023-02-02T10:33:46.439Z"
   },
   {
    "duration": 6,
    "start_time": "2023-02-02T10:33:49.590Z"
   },
   {
    "duration": 20,
    "start_time": "2023-02-02T10:33:53.569Z"
   },
   {
    "duration": 8,
    "start_time": "2023-02-02T10:34:36.294Z"
   },
   {
    "duration": 11,
    "start_time": "2023-02-02T10:34:40.071Z"
   },
   {
    "duration": 5,
    "start_time": "2023-02-02T10:34:46.170Z"
   },
   {
    "duration": 28,
    "start_time": "2023-02-02T10:36:44.110Z"
   },
   {
    "duration": 73,
    "start_time": "2023-02-02T10:36:57.646Z"
   },
   {
    "duration": 27,
    "start_time": "2023-02-02T10:37:03.416Z"
   },
   {
    "duration": 12,
    "start_time": "2023-02-02T10:37:11.693Z"
   },
   {
    "duration": 3,
    "start_time": "2023-02-02T10:37:41.871Z"
   },
   {
    "duration": 18,
    "start_time": "2023-02-02T10:37:46.399Z"
   },
   {
    "duration": 199,
    "start_time": "2023-02-02T10:38:06.782Z"
   },
   {
    "duration": 7,
    "start_time": "2023-02-02T10:38:20.726Z"
   },
   {
    "duration": 9,
    "start_time": "2023-02-02T10:38:26.439Z"
   },
   {
    "duration": 10,
    "start_time": "2023-02-02T10:39:53.126Z"
   },
   {
    "duration": 14,
    "start_time": "2023-02-02T10:39:57.072Z"
   },
   {
    "duration": 401,
    "start_time": "2023-02-02T10:40:08.067Z"
   },
   {
    "duration": 5,
    "start_time": "2023-02-02T10:40:09.961Z"
   },
   {
    "duration": 4,
    "start_time": "2023-02-02T10:44:33.480Z"
   },
   {
    "duration": 77,
    "start_time": "2023-02-02T10:45:55.352Z"
   },
   {
    "duration": 3,
    "start_time": "2023-02-02T10:46:55.408Z"
   },
   {
    "duration": 4,
    "start_time": "2023-02-02T10:47:16.160Z"
   },
   {
    "duration": 11,
    "start_time": "2023-02-02T10:49:57.905Z"
   },
   {
    "duration": 10,
    "start_time": "2023-02-02T10:50:06.512Z"
   },
   {
    "duration": 19078,
    "start_time": "2023-02-02T10:50:22.704Z"
   },
   {
    "duration": 4,
    "start_time": "2023-02-02T10:50:41.784Z"
   },
   {
    "duration": 6,
    "start_time": "2023-02-02T10:51:20.112Z"
   },
   {
    "duration": 73,
    "start_time": "2023-02-02T10:51:35.271Z"
   },
   {
    "duration": 3,
    "start_time": "2023-02-02T10:51:39.009Z"
   },
   {
    "duration": 3,
    "start_time": "2023-02-02T10:51:48.848Z"
   },
   {
    "duration": 4,
    "start_time": "2023-02-02T10:52:00.159Z"
   },
   {
    "duration": 19021,
    "start_time": "2023-02-02T10:52:04.313Z"
   },
   {
    "duration": 4,
    "start_time": "2023-02-02T10:53:31.209Z"
   },
   {
    "duration": 487,
    "start_time": "2023-02-02T10:59:45.921Z"
   },
   {
    "duration": 6,
    "start_time": "2023-02-02T11:00:04.993Z"
   },
   {
    "duration": 3,
    "start_time": "2023-02-02T11:02:17.409Z"
   },
   {
    "duration": 2542,
    "start_time": "2023-02-02T11:02:18.697Z"
   },
   {
    "duration": 3,
    "start_time": "2023-02-02T11:02:23.154Z"
   },
   {
    "duration": 3,
    "start_time": "2023-02-02T11:04:29.276Z"
   },
   {
    "duration": 66,
    "start_time": "2023-02-02T11:04:43.249Z"
   },
   {
    "duration": 5,
    "start_time": "2023-02-02T11:04:56.914Z"
   },
   {
    "duration": 1945,
    "start_time": "2023-02-02T11:05:03.161Z"
   },
   {
    "duration": 5,
    "start_time": "2023-02-02T11:05:08.249Z"
   },
   {
    "duration": 90,
    "start_time": "2023-02-02T11:06:06.587Z"
   },
   {
    "duration": 12,
    "start_time": "2023-02-02T11:06:12.666Z"
   },
   {
    "duration": 5,
    "start_time": "2023-02-02T11:06:16.209Z"
   },
   {
    "duration": 3,
    "start_time": "2023-02-02T11:07:06.010Z"
   },
   {
    "duration": 3,
    "start_time": "2023-02-02T11:07:07.074Z"
   },
   {
    "duration": 47,
    "start_time": "2023-02-02T11:07:13.057Z"
   },
   {
    "duration": 2867,
    "start_time": "2023-02-02T11:07:23.921Z"
   },
   {
    "duration": 2392,
    "start_time": "2023-02-02T11:07:26.790Z"
   },
   {
    "duration": 10,
    "start_time": "2023-02-02T11:07:29.184Z"
   },
   {
    "duration": 34,
    "start_time": "2023-02-02T11:07:29.196Z"
   },
   {
    "duration": 13,
    "start_time": "2023-02-02T11:07:29.231Z"
   },
   {
    "duration": 8,
    "start_time": "2023-02-02T11:07:29.245Z"
   },
   {
    "duration": 21,
    "start_time": "2023-02-02T11:07:29.255Z"
   },
   {
    "duration": 10,
    "start_time": "2023-02-02T11:07:29.277Z"
   },
   {
    "duration": 10,
    "start_time": "2023-02-02T11:07:29.289Z"
   },
   {
    "duration": 48,
    "start_time": "2023-02-02T11:07:29.302Z"
   },
   {
    "duration": 26,
    "start_time": "2023-02-02T11:07:29.351Z"
   },
   {
    "duration": 3,
    "start_time": "2023-02-02T11:07:29.379Z"
   },
   {
    "duration": 14,
    "start_time": "2023-02-02T11:07:29.383Z"
   },
   {
    "duration": 8,
    "start_time": "2023-02-02T11:07:29.399Z"
   },
   {
    "duration": 42,
    "start_time": "2023-02-02T11:07:29.408Z"
   },
   {
    "duration": 411,
    "start_time": "2023-02-02T11:07:32.259Z"
   },
   {
    "duration": 5,
    "start_time": "2023-02-02T11:07:33.233Z"
   },
   {
    "duration": 3,
    "start_time": "2023-02-02T11:07:42.002Z"
   },
   {
    "duration": 2,
    "start_time": "2023-02-02T11:07:42.546Z"
   },
   {
    "duration": 3239,
    "start_time": "2023-02-02T11:07:44.753Z"
   },
   {
    "duration": 4,
    "start_time": "2023-02-02T11:08:01.266Z"
   },
   {
    "duration": 5,
    "start_time": "2023-02-02T11:08:08.994Z"
   },
   {
    "duration": 4,
    "start_time": "2023-02-02T11:08:11.001Z"
   },
   {
    "duration": 4,
    "start_time": "2023-02-02T11:08:43.874Z"
   },
   {
    "duration": 4,
    "start_time": "2023-02-02T11:09:18.186Z"
   },
   {
    "duration": 3,
    "start_time": "2023-02-02T11:09:21.641Z"
   },
   {
    "duration": 4,
    "start_time": "2023-02-02T11:09:24.937Z"
   },
   {
    "duration": 4,
    "start_time": "2023-02-02T11:09:31.681Z"
   },
   {
    "duration": 5,
    "start_time": "2023-02-02T11:10:16.010Z"
   },
   {
    "duration": 4,
    "start_time": "2023-02-02T11:10:25.473Z"
   },
   {
    "duration": 4,
    "start_time": "2023-02-02T11:10:38.130Z"
   },
   {
    "duration": 7,
    "start_time": "2023-02-02T11:10:55.595Z"
   },
   {
    "duration": 4,
    "start_time": "2023-02-02T11:12:01.370Z"
   },
   {
    "duration": 130,
    "start_time": "2023-02-02T11:12:19.946Z"
   },
   {
    "duration": 4,
    "start_time": "2023-02-02T11:12:23.563Z"
   },
   {
    "duration": 11,
    "start_time": "2023-02-02T11:12:24.066Z"
   },
   {
    "duration": 4,
    "start_time": "2023-02-02T11:12:56.715Z"
   },
   {
    "duration": 689,
    "start_time": "2023-02-02T11:12:56.986Z"
   },
   {
    "duration": 3,
    "start_time": "2023-02-02T11:13:03.483Z"
   },
   {
    "duration": 3,
    "start_time": "2023-02-02T11:13:03.650Z"
   },
   {
    "duration": 9,
    "start_time": "2023-02-02T11:13:06.715Z"
   },
   {
    "duration": 3,
    "start_time": "2023-02-02T11:13:07.731Z"
   },
   {
    "duration": 4,
    "start_time": "2023-02-02T11:13:24.283Z"
   },
   {
    "duration": 92,
    "start_time": "2023-02-02T11:14:48.788Z"
   },
   {
    "duration": 5,
    "start_time": "2023-02-02T11:14:54.165Z"
   },
   {
    "duration": 5,
    "start_time": "2023-02-02T11:14:55.028Z"
   },
   {
    "duration": 4,
    "start_time": "2023-02-02T11:15:03.931Z"
   },
   {
    "duration": 2959,
    "start_time": "2023-02-02T18:05:54.996Z"
   },
   {
    "duration": 485,
    "start_time": "2023-02-02T18:05:57.957Z"
   },
   {
    "duration": 2390,
    "start_time": "2023-02-02T18:05:58.444Z"
   },
   {
    "duration": 9,
    "start_time": "2023-02-02T18:06:00.836Z"
   },
   {
    "duration": 34,
    "start_time": "2023-02-02T18:06:45.712Z"
   },
   {
    "duration": 11,
    "start_time": "2023-02-02T18:06:45.950Z"
   },
   {
    "duration": 7,
    "start_time": "2023-02-02T18:06:46.207Z"
   },
   {
    "duration": 18,
    "start_time": "2023-02-02T18:06:46.478Z"
   },
   {
    "duration": 8,
    "start_time": "2023-02-02T18:06:48.012Z"
   },
   {
    "duration": 4,
    "start_time": "2023-02-02T18:06:48.225Z"
   },
   {
    "duration": 32,
    "start_time": "2023-02-02T18:06:48.442Z"
   },
   {
    "duration": 28,
    "start_time": "2023-02-02T18:06:50.037Z"
   },
   {
    "duration": 4,
    "start_time": "2023-02-02T18:06:50.321Z"
   },
   {
    "duration": 8,
    "start_time": "2023-02-02T18:06:50.575Z"
   },
   {
    "duration": 12,
    "start_time": "2023-02-02T18:06:51.146Z"
   },
   {
    "duration": 11,
    "start_time": "2023-02-02T18:06:52.093Z"
   },
   {
    "duration": 438,
    "start_time": "2023-02-02T18:06:56.692Z"
   },
   {
    "duration": 4,
    "start_time": "2023-02-02T18:06:57.294Z"
   },
   {
    "duration": 3,
    "start_time": "2023-02-02T18:06:59.779Z"
   },
   {
    "duration": 3,
    "start_time": "2023-02-02T18:07:00.711Z"
   },
   {
    "duration": 3411,
    "start_time": "2023-02-02T18:07:02.192Z"
   },
   {
    "duration": 4,
    "start_time": "2023-02-02T18:07:05.605Z"
   },
   {
    "duration": 6,
    "start_time": "2023-02-02T18:07:23.149Z"
   },
   {
    "duration": 4,
    "start_time": "2023-02-02T18:07:23.575Z"
   },
   {
    "duration": 4,
    "start_time": "2023-02-02T18:07:34.809Z"
   },
   {
    "duration": 4,
    "start_time": "2023-02-02T18:07:55.695Z"
   },
   {
    "duration": 4,
    "start_time": "2023-02-02T18:08:07.028Z"
   },
   {
    "duration": 3,
    "start_time": "2023-02-02T18:10:06.100Z"
   },
   {
    "duration": 3,
    "start_time": "2023-02-02T18:10:16.621Z"
   },
   {
    "duration": 4,
    "start_time": "2023-02-02T18:10:19.552Z"
   },
   {
    "duration": 4,
    "start_time": "2023-02-02T18:10:23.531Z"
   },
   {
    "duration": 4,
    "start_time": "2023-02-02T18:13:40.827Z"
   },
   {
    "duration": 3,
    "start_time": "2023-02-02T18:14:08.708Z"
   },
   {
    "duration": 4,
    "start_time": "2023-02-02T18:14:09.214Z"
   },
   {
    "duration": 4,
    "start_time": "2023-02-02T18:14:17.423Z"
   },
   {
    "duration": 2783,
    "start_time": "2023-02-02T18:14:34.000Z"
   },
   {
    "duration": 236,
    "start_time": "2023-02-02T18:14:36.786Z"
   },
   {
    "duration": 823,
    "start_time": "2023-02-02T18:14:37.024Z"
   },
   {
    "duration": 11,
    "start_time": "2023-02-02T18:14:37.849Z"
   },
   {
    "duration": 35,
    "start_time": "2023-02-02T18:14:37.861Z"
   },
   {
    "duration": 10,
    "start_time": "2023-02-02T18:14:40.396Z"
   },
   {
    "duration": 6,
    "start_time": "2023-02-02T18:14:41.171Z"
   },
   {
    "duration": 17,
    "start_time": "2023-02-02T18:14:41.920Z"
   },
   {
    "duration": 8,
    "start_time": "2023-02-02T18:14:45.293Z"
   },
   {
    "duration": 6,
    "start_time": "2023-02-02T18:14:46.548Z"
   },
   {
    "duration": 30,
    "start_time": "2023-02-02T18:14:46.868Z"
   },
   {
    "duration": 28,
    "start_time": "2023-02-02T18:14:47.423Z"
   },
   {
    "duration": 3,
    "start_time": "2023-02-02T18:14:50.086Z"
   },
   {
    "duration": 12,
    "start_time": "2023-02-02T18:14:50.512Z"
   },
   {
    "duration": 13,
    "start_time": "2023-02-02T18:14:51.949Z"
   },
   {
    "duration": 15,
    "start_time": "2023-02-02T18:14:52.325Z"
   },
   {
    "duration": 166,
    "start_time": "2023-02-02T18:17:20.987Z"
   },
   {
    "duration": 414,
    "start_time": "2023-02-02T18:17:27.921Z"
   },
   {
    "duration": 24,
    "start_time": "2023-02-02T18:17:28.337Z"
   },
   {
    "duration": 3,
    "start_time": "2023-02-02T18:17:30.725Z"
   },
   {
    "duration": 12,
    "start_time": "2023-02-02T18:17:31.093Z"
   },
   {
    "duration": 3,
    "start_time": "2023-02-02T18:17:38.069Z"
   },
   {
    "duration": 3,
    "start_time": "2023-02-02T18:17:43.392Z"
   },
   {
    "duration": 13,
    "start_time": "2023-02-02T18:17:43.704Z"
   },
   {
    "duration": 3,
    "start_time": "2023-02-02T18:17:50.602Z"
   },
   {
    "duration": 3,
    "start_time": "2023-02-02T18:17:51.376Z"
   },
   {
    "duration": 720,
    "start_time": "2023-02-02T18:17:51.837Z"
   },
   {
    "duration": 3,
    "start_time": "2023-02-02T18:18:01.660Z"
   },
   {
    "duration": 4,
    "start_time": "2023-02-02T18:18:11.589Z"
   },
   {
    "duration": 3,
    "start_time": "2023-02-02T18:18:18.285Z"
   },
   {
    "duration": 5,
    "start_time": "2023-02-02T18:18:19.265Z"
   },
   {
    "duration": 4,
    "start_time": "2023-02-02T18:18:23.791Z"
   },
   {
    "duration": 21,
    "start_time": "2023-02-02T18:18:26.316Z"
   },
   {
    "duration": 21129,
    "start_time": "2023-02-02T18:18:41.011Z"
   },
   {
    "duration": 3,
    "start_time": "2023-02-02T18:19:21.454Z"
   },
   {
    "duration": 3,
    "start_time": "2023-02-02T18:19:26.243Z"
   },
   {
    "duration": 1228,
    "start_time": "2023-02-02T18:19:27.552Z"
   },
   {
    "duration": 3,
    "start_time": "2023-02-02T18:19:32.510Z"
   },
   {
    "duration": 7074,
    "start_time": "2023-02-02T18:19:35.403Z"
   },
   {
    "duration": 3,
    "start_time": "2023-02-02T18:20:12.518Z"
   },
   {
    "duration": 7198,
    "start_time": "2023-02-02T18:20:38.239Z"
   },
   {
    "duration": 4,
    "start_time": "2023-02-02T18:22:50.119Z"
   },
   {
    "duration": 3,
    "start_time": "2023-02-02T18:23:03.262Z"
   },
   {
    "duration": 4,
    "start_time": "2023-02-02T18:23:19.307Z"
   },
   {
    "duration": 7,
    "start_time": "2023-02-02T18:23:27.816Z"
   },
   {
    "duration": 4,
    "start_time": "2023-02-02T18:23:31.234Z"
   },
   {
    "duration": 5,
    "start_time": "2023-02-02T18:23:47.060Z"
   },
   {
    "duration": 3,
    "start_time": "2023-02-02T18:24:07.664Z"
   },
   {
    "duration": 802,
    "start_time": "2023-02-02T18:24:25.111Z"
   },
   {
    "duration": 4,
    "start_time": "2023-02-02T18:24:38.327Z"
   },
   {
    "duration": 4,
    "start_time": "2023-02-02T18:24:42.143Z"
   },
   {
    "duration": 2049,
    "start_time": "2023-02-02T18:25:27.400Z"
   },
   {
    "duration": 5,
    "start_time": "2023-02-02T18:25:36.367Z"
   },
   {
    "duration": 4,
    "start_time": "2023-02-02T18:25:56.640Z"
   },
   {
    "duration": 30,
    "start_time": "2023-02-02T18:26:38.573Z"
   },
   {
    "duration": 1609,
    "start_time": "2023-02-02T18:26:58.121Z"
   },
   {
    "duration": 4,
    "start_time": "2023-02-02T18:27:10.611Z"
   },
   {
    "duration": 3,
    "start_time": "2023-02-02T18:27:50.634Z"
   },
   {
    "duration": 3,
    "start_time": "2023-02-02T18:31:03.143Z"
   },
   {
    "duration": 5,
    "start_time": "2023-02-02T18:31:04.398Z"
   },
   {
    "duration": 4,
    "start_time": "2023-02-02T18:31:06.735Z"
   },
   {
    "duration": 3,
    "start_time": "2023-02-02T18:31:28.393Z"
   },
   {
    "duration": 4,
    "start_time": "2023-02-02T18:31:42.207Z"
   },
   {
    "duration": 11,
    "start_time": "2023-02-02T18:32:17.393Z"
   },
   {
    "duration": 3,
    "start_time": "2023-02-02T18:32:32.562Z"
   },
   {
    "duration": 14,
    "start_time": "2023-02-02T18:32:35.526Z"
   },
   {
    "duration": 12,
    "start_time": "2023-02-02T18:32:52.247Z"
   },
   {
    "duration": 9,
    "start_time": "2023-02-02T18:33:03.935Z"
   },
   {
    "duration": 12,
    "start_time": "2023-02-02T18:33:12.060Z"
   },
   {
    "duration": 20,
    "start_time": "2023-02-02T18:33:26.777Z"
   },
   {
    "duration": 5,
    "start_time": "2023-02-02T18:33:40.817Z"
   },
   {
    "duration": 4,
    "start_time": "2023-02-02T18:33:50.539Z"
   },
   {
    "duration": 4,
    "start_time": "2023-02-02T18:34:04.232Z"
   },
   {
    "duration": 4,
    "start_time": "2023-02-02T18:34:17.423Z"
   },
   {
    "duration": 3,
    "start_time": "2023-02-02T18:34:20.131Z"
   },
   {
    "duration": 803,
    "start_time": "2023-02-02T18:34:22.816Z"
   },
   {
    "duration": 4,
    "start_time": "2023-02-02T18:34:38.189Z"
   },
   {
    "duration": 5,
    "start_time": "2023-02-02T18:34:58.786Z"
   },
   {
    "duration": 3,
    "start_time": "2023-02-02T18:37:35.760Z"
   },
   {
    "duration": 21,
    "start_time": "2023-02-02T18:38:01.281Z"
   },
   {
    "duration": 22,
    "start_time": "2023-02-02T18:38:08.916Z"
   },
   {
    "duration": 11,
    "start_time": "2023-02-02T18:39:41.057Z"
   },
   {
    "duration": 20,
    "start_time": "2023-02-02T18:40:21.215Z"
   },
   {
    "duration": 16,
    "start_time": "2023-02-02T18:41:02.085Z"
   },
   {
    "duration": 4,
    "start_time": "2023-02-02T18:42:06.921Z"
   },
   {
    "duration": 6,
    "start_time": "2023-02-02T18:42:44.609Z"
   },
   {
    "duration": 3,
    "start_time": "2023-02-02T18:42:55.586Z"
   },
   {
    "duration": 14,
    "start_time": "2023-02-02T18:44:12.038Z"
   },
   {
    "duration": 5,
    "start_time": "2023-02-02T18:44:16.362Z"
   },
   {
    "duration": 2,
    "start_time": "2023-02-02T18:45:02.583Z"
   },
   {
    "duration": 19,
    "start_time": "2023-02-02T18:45:35.644Z"
   },
   {
    "duration": 398,
    "start_time": "2023-02-02T18:46:40.739Z"
   },
   {
    "duration": 1602,
    "start_time": "2023-02-02T18:46:50.804Z"
   },
   {
    "duration": 1766,
    "start_time": "2023-02-02T18:47:04.044Z"
   },
   {
    "duration": 4,
    "start_time": "2023-02-02T18:47:07.365Z"
   },
   {
    "duration": 5,
    "start_time": "2023-02-02T18:47:17.610Z"
   },
   {
    "duration": 1715,
    "start_time": "2023-02-02T18:47:35.347Z"
   },
   {
    "duration": 6,
    "start_time": "2023-02-02T18:47:37.064Z"
   },
   {
    "duration": 411,
    "start_time": "2023-02-02T18:47:51.851Z"
   },
   {
    "duration": 5,
    "start_time": "2023-02-02T18:47:58.572Z"
   },
   {
    "duration": 90,
    "start_time": "2023-02-02T18:48:57.349Z"
   },
   {
    "duration": 4,
    "start_time": "2023-02-02T18:49:01.270Z"
   },
   {
    "duration": 3,
    "start_time": "2023-02-02T18:49:14.017Z"
   },
   {
    "duration": 4,
    "start_time": "2023-02-02T18:49:42.819Z"
   },
   {
    "duration": 22,
    "start_time": "2023-02-02T18:49:54.854Z"
   },
   {
    "duration": 5,
    "start_time": "2023-02-02T18:50:08.391Z"
   },
   {
    "duration": 6688,
    "start_time": "2023-02-02T18:50:21.033Z"
   },
   {
    "duration": 3,
    "start_time": "2023-02-02T18:50:52.365Z"
   },
   {
    "duration": 27,
    "start_time": "2023-02-02T18:51:10.359Z"
   },
   {
    "duration": 10,
    "start_time": "2023-02-02T18:51:15.773Z"
   },
   {
    "duration": 6,
    "start_time": "2023-02-02T18:53:04.741Z"
   },
   {
    "duration": 4,
    "start_time": "2023-02-02T18:53:24.336Z"
   },
   {
    "duration": 5,
    "start_time": "2023-02-02T18:54:19.936Z"
   },
   {
    "duration": 6,
    "start_time": "2023-02-02T18:55:18.580Z"
   },
   {
    "duration": 3,
    "start_time": "2023-02-02T18:55:52.715Z"
   },
   {
    "duration": 3,
    "start_time": "2023-02-02T18:56:00.694Z"
   },
   {
    "duration": 3,
    "start_time": "2023-02-02T18:56:57.852Z"
   },
   {
    "duration": 3,
    "start_time": "2023-02-02T18:56:58.261Z"
   },
   {
    "duration": 3,
    "start_time": "2023-02-02T18:56:58.458Z"
   },
   {
    "duration": 4,
    "start_time": "2023-02-02T19:03:13.454Z"
   },
   {
    "duration": 4,
    "start_time": "2023-02-02T19:03:25.581Z"
   },
   {
    "duration": 6,
    "start_time": "2023-02-02T19:03:56.514Z"
   },
   {
    "duration": 3,
    "start_time": "2023-02-02T19:04:19.232Z"
   },
   {
    "duration": 2220,
    "start_time": "2023-02-02T19:05:25.803Z"
   },
   {
    "duration": 267,
    "start_time": "2023-02-02T19:05:28.025Z"
   },
   {
    "duration": 6,
    "start_time": "2023-02-02T19:05:28.294Z"
   },
   {
    "duration": 2418,
    "start_time": "2023-02-02T19:05:28.302Z"
   },
   {
    "duration": 13,
    "start_time": "2023-02-02T19:05:30.721Z"
   },
   {
    "duration": 44,
    "start_time": "2023-02-02T19:05:30.736Z"
   },
   {
    "duration": 31,
    "start_time": "2023-02-02T19:05:30.782Z"
   },
   {
    "duration": 10,
    "start_time": "2023-02-02T19:05:30.815Z"
   },
   {
    "duration": 43,
    "start_time": "2023-02-02T19:05:30.828Z"
   },
   {
    "duration": 19,
    "start_time": "2023-02-02T19:05:30.874Z"
   },
   {
    "duration": 25,
    "start_time": "2023-02-02T19:05:30.896Z"
   },
   {
    "duration": 55,
    "start_time": "2023-02-02T19:05:30.924Z"
   },
   {
    "duration": 30,
    "start_time": "2023-02-02T19:05:30.981Z"
   },
   {
    "duration": 4,
    "start_time": "2023-02-02T19:05:31.013Z"
   },
   {
    "duration": 127,
    "start_time": "2023-02-02T19:05:31.019Z"
   },
   {
    "duration": 69,
    "start_time": "2023-02-02T19:05:31.148Z"
   },
   {
    "duration": 40,
    "start_time": "2023-02-02T19:05:31.219Z"
   },
   {
    "duration": 448,
    "start_time": "2023-02-02T19:05:31.261Z"
   },
   {
    "duration": 11,
    "start_time": "2023-02-02T19:05:31.711Z"
   },
   {
    "duration": 3,
    "start_time": "2023-02-02T19:05:31.723Z"
   },
   {
    "duration": 1277,
    "start_time": "2023-02-02T19:05:31.728Z"
   },
   {
    "duration": 3,
    "start_time": "2023-02-02T19:05:33.007Z"
   },
   {
    "duration": 142,
    "start_time": "2023-02-02T19:05:33.012Z"
   },
   {
    "duration": 0,
    "start_time": "2023-02-02T19:05:33.156Z"
   },
   {
    "duration": 0,
    "start_time": "2023-02-02T19:05:33.157Z"
   },
   {
    "duration": 0,
    "start_time": "2023-02-02T19:05:33.158Z"
   },
   {
    "duration": 0,
    "start_time": "2023-02-02T19:05:33.160Z"
   },
   {
    "duration": 0,
    "start_time": "2023-02-02T19:05:33.161Z"
   },
   {
    "duration": 0,
    "start_time": "2023-02-02T19:05:33.162Z"
   },
   {
    "duration": 0,
    "start_time": "2023-02-02T19:05:33.163Z"
   },
   {
    "duration": 0,
    "start_time": "2023-02-02T19:05:33.165Z"
   },
   {
    "duration": 0,
    "start_time": "2023-02-02T19:05:33.165Z"
   },
   {
    "duration": 0,
    "start_time": "2023-02-02T19:05:33.166Z"
   },
   {
    "duration": 0,
    "start_time": "2023-02-02T19:05:33.168Z"
   },
   {
    "duration": 0,
    "start_time": "2023-02-02T19:05:33.169Z"
   },
   {
    "duration": 0,
    "start_time": "2023-02-02T19:05:33.170Z"
   },
   {
    "duration": 3,
    "start_time": "2023-02-02T19:05:48.272Z"
   },
   {
    "duration": 6470,
    "start_time": "2023-02-02T19:05:48.531Z"
   },
   {
    "duration": 0,
    "start_time": "2023-02-02T19:05:55.003Z"
   },
   {
    "duration": 0,
    "start_time": "2023-02-02T19:05:55.005Z"
   },
   {
    "duration": 0,
    "start_time": "2023-02-02T19:05:55.005Z"
   },
   {
    "duration": 0,
    "start_time": "2023-02-02T19:05:55.007Z"
   },
   {
    "duration": 3,
    "start_time": "2023-02-02T19:06:11.596Z"
   },
   {
    "duration": 3,
    "start_time": "2023-02-02T19:06:12.021Z"
   },
   {
    "duration": 1645,
    "start_time": "2023-02-02T19:06:12.443Z"
   },
   {
    "duration": 4,
    "start_time": "2023-02-02T19:06:20.385Z"
   },
   {
    "duration": 4,
    "start_time": "2023-02-02T19:06:26.022Z"
   },
   {
    "duration": 3,
    "start_time": "2023-02-02T19:06:26.550Z"
   },
   {
    "duration": 423,
    "start_time": "2023-02-02T19:06:27.066Z"
   },
   {
    "duration": 1617,
    "start_time": "2023-02-02T19:06:27.879Z"
   },
   {
    "duration": 4,
    "start_time": "2023-02-02T19:06:29.498Z"
   },
   {
    "duration": 370,
    "start_time": "2023-02-02T19:06:29.504Z"
   },
   {
    "duration": 4,
    "start_time": "2023-02-02T19:06:29.877Z"
   },
   {
    "duration": 3,
    "start_time": "2023-02-02T19:06:47.668Z"
   },
   {
    "duration": 2,
    "start_time": "2023-02-02T19:06:48.673Z"
   },
   {
    "duration": 3,
    "start_time": "2023-02-02T19:06:48.932Z"
   },
   {
    "duration": 3,
    "start_time": "2023-02-02T19:06:49.451Z"
   },
   {
    "duration": 3,
    "start_time": "2023-02-02T19:06:52.182Z"
   },
   {
    "duration": 6,
    "start_time": "2023-02-02T19:07:01.346Z"
   },
   {
    "duration": 3,
    "start_time": "2023-02-02T19:07:48.752Z"
   },
   {
    "duration": 72976,
    "start_time": "2023-02-02T19:08:32.556Z"
   },
   {
    "duration": 4,
    "start_time": "2023-02-02T19:10:00.995Z"
   },
   {
    "duration": 4,
    "start_time": "2023-02-02T19:10:22.151Z"
   },
   {
    "duration": 9886,
    "start_time": "2023-02-02T19:10:29.438Z"
   },
   {
    "duration": 4,
    "start_time": "2023-02-02T19:10:39.327Z"
   },
   {
    "duration": 10,
    "start_time": "2023-02-02T19:10:39.332Z"
   },
   {
    "duration": 5,
    "start_time": "2023-02-02T19:11:53.974Z"
   },
   {
    "duration": 4,
    "start_time": "2023-02-02T19:12:17.610Z"
   },
   {
    "duration": 2910,
    "start_time": "2023-02-02T19:12:43.103Z"
   },
   {
    "duration": 5,
    "start_time": "2023-02-02T19:12:57.922Z"
   },
   {
    "duration": 2,
    "start_time": "2023-02-02T19:13:08.156Z"
   },
   {
    "duration": 4,
    "start_time": "2023-02-02T19:13:13.111Z"
   },
   {
    "duration": 846,
    "start_time": "2023-02-02T19:13:43.775Z"
   },
   {
    "duration": 4,
    "start_time": "2023-02-02T19:14:11.246Z"
   },
   {
    "duration": 4,
    "start_time": "2023-02-02T19:14:23.238Z"
   },
   {
    "duration": 5,
    "start_time": "2023-02-02T19:14:54.097Z"
   },
   {
    "duration": 4,
    "start_time": "2023-02-02T19:14:54.661Z"
   },
   {
    "duration": 296025,
    "start_time": "2023-02-02T19:14:56.831Z"
   },
   {
    "duration": 27,
    "start_time": "2023-02-02T19:19:52.859Z"
   },
   {
    "duration": 983794,
    "start_time": "2023-02-02T19:20:47.289Z"
   },
   {
    "duration": 282,
    "start_time": "2023-02-02T19:37:46.273Z"
   },
   {
    "duration": 18,
    "start_time": "2023-02-02T19:39:31.101Z"
   },
   {
    "duration": 6,
    "start_time": "2023-02-02T19:39:52.371Z"
   },
   {
    "duration": 122,
    "start_time": "2023-02-02T19:40:15.520Z"
   },
   {
    "duration": 5,
    "start_time": "2023-02-02T19:40:16.681Z"
   },
   {
    "duration": 8,
    "start_time": "2023-02-02T19:40:19.237Z"
   },
   {
    "duration": 3,
    "start_time": "2023-02-02T19:42:33.578Z"
   },
   {
    "duration": 3,
    "start_time": "2023-02-02T19:44:24.453Z"
   },
   {
    "duration": 26,
    "start_time": "2023-02-02T19:44:33.308Z"
   },
   {
    "duration": 11,
    "start_time": "2023-02-02T19:44:39.271Z"
   },
   {
    "duration": 5,
    "start_time": "2023-02-02T19:47:07.820Z"
   },
   {
    "duration": 232142,
    "start_time": "2023-02-02T19:48:00.109Z"
   },
   {
    "duration": 3,
    "start_time": "2023-02-02T19:53:43.001Z"
   },
   {
    "duration": 15,
    "start_time": "2023-02-02T19:53:43.971Z"
   },
   {
    "duration": 25,
    "start_time": "2023-02-02T19:53:44.492Z"
   },
   {
    "duration": 1947,
    "start_time": "2023-02-02T19:55:44.409Z"
   },
   {
    "duration": 267,
    "start_time": "2023-02-02T19:55:46.359Z"
   },
   {
    "duration": 8,
    "start_time": "2023-02-02T19:55:46.632Z"
   },
   {
    "duration": 969,
    "start_time": "2023-02-02T19:55:46.643Z"
   },
   {
    "duration": 18,
    "start_time": "2023-02-02T19:55:47.614Z"
   },
   {
    "duration": 41,
    "start_time": "2023-02-02T19:55:47.634Z"
   },
   {
    "duration": 13,
    "start_time": "2023-02-02T19:55:47.677Z"
   },
   {
    "duration": 6,
    "start_time": "2023-02-02T19:55:47.692Z"
   },
   {
    "duration": 42,
    "start_time": "2023-02-02T19:55:47.700Z"
   },
   {
    "duration": 7,
    "start_time": "2023-02-02T19:55:47.745Z"
   },
   {
    "duration": 4,
    "start_time": "2023-02-02T19:55:47.754Z"
   },
   {
    "duration": 34,
    "start_time": "2023-02-02T19:55:47.759Z"
   },
   {
    "duration": 56,
    "start_time": "2023-02-02T19:55:47.795Z"
   },
   {
    "duration": 3,
    "start_time": "2023-02-02T19:55:47.853Z"
   },
   {
    "duration": 26,
    "start_time": "2023-02-02T19:55:47.858Z"
   },
   {
    "duration": 19,
    "start_time": "2023-02-02T19:55:47.885Z"
   },
   {
    "duration": 13,
    "start_time": "2023-02-02T19:55:47.906Z"
   },
   {
    "duration": 464,
    "start_time": "2023-02-02T19:55:47.921Z"
   },
   {
    "duration": 9,
    "start_time": "2023-02-02T19:55:48.387Z"
   },
   {
    "duration": 4,
    "start_time": "2023-02-02T19:55:48.398Z"
   },
   {
    "duration": 1364,
    "start_time": "2023-02-02T19:55:48.404Z"
   },
   {
    "duration": 3,
    "start_time": "2023-02-02T19:55:49.770Z"
   },
   {
    "duration": 7,
    "start_time": "2023-02-02T19:55:49.774Z"
   },
   {
    "duration": 1833,
    "start_time": "2023-02-02T19:55:49.783Z"
   },
   {
    "duration": 8,
    "start_time": "2023-02-02T19:55:51.619Z"
   },
   {
    "duration": 25,
    "start_time": "2023-02-02T19:55:51.630Z"
   },
   {
    "duration": 6,
    "start_time": "2023-02-02T19:55:51.657Z"
   },
   {
    "duration": 447,
    "start_time": "2023-02-02T19:55:51.668Z"
   },
   {
    "duration": 1802,
    "start_time": "2023-02-02T19:55:52.117Z"
   },
   {
    "duration": 20,
    "start_time": "2023-02-02T19:55:53.921Z"
   },
   {
    "duration": 441,
    "start_time": "2023-02-02T19:55:53.943Z"
   },
   {
    "duration": 5,
    "start_time": "2023-02-02T19:55:54.387Z"
   },
   {
    "duration": 12,
    "start_time": "2023-02-02T19:55:54.394Z"
   },
   {
    "duration": 30,
    "start_time": "2023-02-02T19:55:54.408Z"
   },
   {
    "duration": 33,
    "start_time": "2023-02-02T19:55:54.440Z"
   },
   {
    "duration": 19,
    "start_time": "2023-02-02T19:55:54.475Z"
   },
   {
    "duration": 11,
    "start_time": "2023-02-02T19:55:54.497Z"
   },
   {
    "duration": 49,
    "start_time": "2023-02-02T19:55:54.511Z"
   },
   {
    "duration": 91960,
    "start_time": "2023-02-02T19:55:54.562Z"
   },
   {
    "duration": 15,
    "start_time": "2023-02-02T19:57:26.524Z"
   },
   {
    "duration": 16,
    "start_time": "2023-02-02T19:57:26.540Z"
   },
   {
    "duration": 20372,
    "start_time": "2023-02-02T19:57:26.557Z"
   },
   {
    "duration": 88,
    "start_time": "2023-02-02T19:57:46.934Z"
   },
   {
    "duration": 13,
    "start_time": "2023-02-02T19:57:47.031Z"
   },
   {
    "duration": 150,
    "start_time": "2023-02-02T19:57:47.046Z"
   },
   {
    "duration": 0,
    "start_time": "2023-02-02T19:57:47.197Z"
   },
   {
    "duration": 0,
    "start_time": "2023-02-02T19:57:47.199Z"
   },
   {
    "duration": 0,
    "start_time": "2023-02-02T19:57:47.200Z"
   },
   {
    "duration": 0,
    "start_time": "2023-02-02T19:57:47.201Z"
   },
   {
    "duration": 8,
    "start_time": "2023-02-02T19:58:45.216Z"
   },
   {
    "duration": 5,
    "start_time": "2023-02-02T19:58:51.271Z"
   },
   {
    "duration": 3,
    "start_time": "2023-02-02T19:58:58.349Z"
   },
   {
    "duration": 16,
    "start_time": "2023-02-02T19:59:19.219Z"
   },
   {
    "duration": 10,
    "start_time": "2023-02-02T19:59:29.487Z"
   },
   {
    "duration": 1829232,
    "start_time": "2023-02-02T19:59:30.707Z"
   },
   {
    "duration": 80,
    "start_time": "2023-02-02T20:29:59.942Z"
   },
   {
    "duration": 8,
    "start_time": "2023-02-03T03:53:03.486Z"
   },
   {
    "duration": 4,
    "start_time": "2023-02-03T10:50:48.788Z"
   },
   {
    "duration": 1747,
    "start_time": "2023-02-03T10:55:17.140Z"
   },
   {
    "duration": 4,
    "start_time": "2023-02-03T10:56:18.418Z"
   },
   {
    "duration": 4,
    "start_time": "2023-02-03T10:56:19.447Z"
   },
   {
    "duration": 705,
    "start_time": "2023-02-03T10:56:21.211Z"
   },
   {
    "duration": 6,
    "start_time": "2023-02-03T10:56:24.272Z"
   },
   {
    "duration": 3685,
    "start_time": "2023-02-03T10:56:29.128Z"
   },
   {
    "duration": 9,
    "start_time": "2023-02-03T10:56:32.816Z"
   },
   {
    "duration": 787,
    "start_time": "2023-02-03T10:57:01.339Z"
   },
   {
    "duration": 8,
    "start_time": "2023-02-03T10:57:34.047Z"
   },
   {
    "duration": 33,
    "start_time": "2023-02-03T10:57:56.315Z"
   },
   {
    "duration": 11,
    "start_time": "2023-02-03T10:58:11.509Z"
   },
   {
    "duration": 137,
    "start_time": "2023-02-03T10:58:17.280Z"
   },
   {
    "duration": 16,
    "start_time": "2023-02-03T10:58:26.838Z"
   },
   {
    "duration": 12,
    "start_time": "2023-02-03T10:59:06.270Z"
   },
   {
    "duration": 18,
    "start_time": "2023-02-03T10:59:10.304Z"
   },
   {
    "duration": 8,
    "start_time": "2023-02-03T10:59:23.174Z"
   },
   {
    "duration": 9,
    "start_time": "2023-02-03T10:59:39.041Z"
   },
   {
    "duration": 12,
    "start_time": "2023-02-03T11:00:46.389Z"
   },
   {
    "duration": 13,
    "start_time": "2023-02-03T11:00:54.009Z"
   },
   {
    "duration": 9,
    "start_time": "2023-02-03T11:00:56.917Z"
   },
   {
    "duration": 4,
    "start_time": "2023-02-03T11:00:59.728Z"
   },
   {
    "duration": 4,
    "start_time": "2023-02-03T11:01:28.024Z"
   },
   {
    "duration": 5,
    "start_time": "2023-02-03T11:01:33.728Z"
   },
   {
    "duration": 5,
    "start_time": "2023-02-03T11:02:00.397Z"
   },
   {
    "duration": 65,
    "start_time": "2023-02-03T11:02:43.379Z"
   },
   {
    "duration": 17,
    "start_time": "2023-02-03T11:03:09.659Z"
   },
   {
    "duration": 7,
    "start_time": "2023-02-03T11:03:30.412Z"
   },
   {
    "duration": 5,
    "start_time": "2023-02-03T11:03:32.519Z"
   },
   {
    "duration": 6,
    "start_time": "2023-02-03T11:03:33.856Z"
   },
   {
    "duration": 1934,
    "start_time": "2023-02-03T11:06:13.521Z"
   },
   {
    "duration": 44,
    "start_time": "2023-02-03T11:07:23.833Z"
   },
   {
    "duration": 2,
    "start_time": "2023-02-03T11:09:49.256Z"
   },
   {
    "duration": 3,
    "start_time": "2023-02-03T11:09:55.334Z"
   },
   {
    "duration": 8745,
    "start_time": "2023-02-03T11:09:57.336Z"
   },
   {
    "duration": 4,
    "start_time": "2023-02-03T11:10:08.109Z"
   },
   {
    "duration": 42,
    "start_time": "2023-02-03T11:13:18.479Z"
   },
   {
    "duration": 11,
    "start_time": "2023-02-03T11:14:27.688Z"
   },
   {
    "duration": 134,
    "start_time": "2023-02-03T11:14:32.178Z"
   },
   {
    "duration": 6,
    "start_time": "2023-02-03T11:14:42.179Z"
   },
   {
    "duration": 102,
    "start_time": "2023-02-03T11:15:05.509Z"
   },
   {
    "duration": 6,
    "start_time": "2023-02-03T11:15:24.389Z"
   },
   {
    "duration": 5,
    "start_time": "2023-02-03T11:15:32.265Z"
   },
   {
    "duration": 6,
    "start_time": "2023-02-03T11:15:36.179Z"
   },
   {
    "duration": 100,
    "start_time": "2023-02-03T11:15:48.058Z"
   },
   {
    "duration": 103,
    "start_time": "2023-02-03T11:15:54.628Z"
   },
   {
    "duration": 93,
    "start_time": "2023-02-03T11:16:03.199Z"
   },
   {
    "duration": 91,
    "start_time": "2023-02-03T11:16:17.489Z"
   },
   {
    "duration": 100,
    "start_time": "2023-02-03T11:16:25.539Z"
   },
   {
    "duration": 85,
    "start_time": "2023-02-03T11:16:30.516Z"
   },
   {
    "duration": 95,
    "start_time": "2023-02-03T11:16:36.488Z"
   },
   {
    "duration": 113,
    "start_time": "2023-02-03T11:17:15.151Z"
   },
   {
    "duration": 3,
    "start_time": "2023-02-03T11:17:29.509Z"
   },
   {
    "duration": 6,
    "start_time": "2023-02-03T11:17:32.649Z"
   },
   {
    "duration": 11,
    "start_time": "2023-02-03T11:17:48.011Z"
   },
   {
    "duration": 11,
    "start_time": "2023-02-03T11:17:55.499Z"
   },
   {
    "duration": 10,
    "start_time": "2023-02-03T11:18:07.377Z"
   },
   {
    "duration": 9,
    "start_time": "2023-02-03T11:18:11.328Z"
   },
   {
    "duration": 50,
    "start_time": "2023-02-03T11:18:27.878Z"
   },
   {
    "duration": 106,
    "start_time": "2023-02-03T11:18:37.980Z"
   },
   {
    "duration": 98,
    "start_time": "2023-02-03T11:18:44.589Z"
   },
   {
    "duration": 17,
    "start_time": "2023-02-03T11:19:06.748Z"
   },
   {
    "duration": 16,
    "start_time": "2023-02-03T11:19:09.073Z"
   },
   {
    "duration": 7,
    "start_time": "2023-02-03T11:19:28.608Z"
   },
   {
    "duration": 101,
    "start_time": "2023-02-03T11:19:38.864Z"
   },
   {
    "duration": 5,
    "start_time": "2023-02-03T11:19:59.220Z"
   },
   {
    "duration": 143,
    "start_time": "2023-02-03T11:20:09.529Z"
   },
   {
    "duration": 149,
    "start_time": "2023-02-03T11:20:16.230Z"
   },
   {
    "duration": 141,
    "start_time": "2023-02-03T11:20:21.778Z"
   },
   {
    "duration": 110,
    "start_time": "2023-02-03T11:20:25.989Z"
   },
   {
    "duration": 113,
    "start_time": "2023-02-03T11:20:49.408Z"
   },
   {
    "duration": 6,
    "start_time": "2023-02-03T11:21:03.967Z"
   },
   {
    "duration": 4,
    "start_time": "2023-02-03T11:21:55.820Z"
   },
   {
    "duration": 117,
    "start_time": "2023-02-03T11:22:01.869Z"
   },
   {
    "duration": 112,
    "start_time": "2023-02-03T11:22:30.020Z"
   },
   {
    "duration": 126,
    "start_time": "2023-02-03T11:23:14.524Z"
   },
   {
    "duration": 124,
    "start_time": "2023-02-03T11:23:22.200Z"
   },
   {
    "duration": 51,
    "start_time": "2023-02-03T11:23:36.278Z"
   },
   {
    "duration": 50,
    "start_time": "2023-02-03T11:23:39.629Z"
   },
   {
    "duration": 117,
    "start_time": "2023-02-03T11:23:45.920Z"
   },
   {
    "duration": 124,
    "start_time": "2023-02-03T11:23:49.619Z"
   },
   {
    "duration": 116,
    "start_time": "2023-02-03T11:24:04.769Z"
   },
   {
    "duration": 114,
    "start_time": "2023-02-03T11:24:55.639Z"
   },
   {
    "duration": 218,
    "start_time": "2023-02-03T11:25:35.390Z"
   },
   {
    "duration": 214,
    "start_time": "2023-02-03T11:25:52.078Z"
   },
   {
    "duration": 125,
    "start_time": "2023-02-03T11:26:19.360Z"
   },
   {
    "duration": 126,
    "start_time": "2023-02-03T11:26:24.736Z"
   },
   {
    "duration": 132,
    "start_time": "2023-02-03T11:27:08.548Z"
   },
   {
    "duration": 142,
    "start_time": "2023-02-03T11:27:21.329Z"
   },
   {
    "duration": 151,
    "start_time": "2023-02-03T11:27:24.918Z"
   },
   {
    "duration": 143,
    "start_time": "2023-02-03T11:27:28.687Z"
   },
   {
    "duration": 3,
    "start_time": "2023-02-03T11:27:55.484Z"
   },
   {
    "duration": 3,
    "start_time": "2023-02-03T11:27:57.279Z"
   },
   {
    "duration": 13,
    "start_time": "2023-02-03T11:27:59.308Z"
   },
   {
    "duration": 2,
    "start_time": "2023-02-03T11:28:23.430Z"
   },
   {
    "duration": 4,
    "start_time": "2023-02-03T11:28:24.758Z"
   },
   {
    "duration": 8,
    "start_time": "2023-02-05T19:24:36.059Z"
   },
   {
    "duration": 2418,
    "start_time": "2023-02-05T19:24:36.277Z"
   },
   {
    "duration": 4,
    "start_time": "2023-02-05T19:26:41.375Z"
   },
   {
    "duration": 3,
    "start_time": "2023-02-05T19:26:44.911Z"
   },
   {
    "duration": 131,
    "start_time": "2023-02-05T19:26:53.041Z"
   },
   {
    "duration": 1149,
    "start_time": "2023-02-05T19:27:02.829Z"
   },
   {
    "duration": 11,
    "start_time": "2023-02-05T19:27:03.980Z"
   },
   {
    "duration": 3556,
    "start_time": "2023-02-05T19:27:05.055Z"
   },
   {
    "duration": 9,
    "start_time": "2023-02-05T19:27:08.613Z"
   },
   {
    "duration": 67,
    "start_time": "2023-02-05T19:27:08.624Z"
   },
   {
    "duration": 5,
    "start_time": "2023-02-05T19:27:08.694Z"
   },
   {
    "duration": 40,
    "start_time": "2023-02-05T19:27:08.702Z"
   },
   {
    "duration": 170,
    "start_time": "2023-02-05T19:27:11.275Z"
   },
   {
    "duration": 1870,
    "start_time": "2023-02-05T19:27:15.798Z"
   },
   {
    "duration": 1503,
    "start_time": "2023-02-05T19:27:22.101Z"
   },
   {
    "duration": 18,
    "start_time": "2023-02-05T19:27:49.872Z"
   },
   {
    "duration": 4,
    "start_time": "2023-02-05T19:32:04.826Z"
   },
   {
    "duration": 6,
    "start_time": "2023-02-05T19:32:08.658Z"
   },
   {
    "duration": 5,
    "start_time": "2023-02-05T19:32:25.253Z"
   },
   {
    "duration": 96645,
    "start_time": "2023-02-05T19:32:39.678Z"
   },
   {
    "duration": 4,
    "start_time": "2023-02-05T19:34:16.325Z"
   },
   {
    "duration": 4,
    "start_time": "2023-02-05T19:34:56.418Z"
   },
   {
    "duration": 4,
    "start_time": "2023-02-05T19:35:14.471Z"
   },
   {
    "duration": 3,
    "start_time": "2023-02-05T19:35:54.771Z"
   },
   {
    "duration": 4,
    "start_time": "2023-02-05T19:35:55.870Z"
   },
   {
    "duration": 93,
    "start_time": "2023-02-05T19:36:09.453Z"
   },
   {
    "duration": 6112,
    "start_time": "2023-02-05T19:36:10.558Z"
   },
   {
    "duration": 6,
    "start_time": "2023-02-05T19:36:20.357Z"
   },
   {
    "duration": 1372,
    "start_time": "2023-02-05T19:36:25.770Z"
   },
   {
    "duration": 5,
    "start_time": "2023-02-05T19:36:28.301Z"
   },
   {
    "duration": 3,
    "start_time": "2023-02-05T19:36:42.284Z"
   },
   {
    "duration": 2,
    "start_time": "2023-02-05T19:36:46.754Z"
   },
   {
    "duration": 5,
    "start_time": "2023-02-05T19:36:50.036Z"
   },
   {
    "duration": 4,
    "start_time": "2023-02-05T19:36:59.892Z"
   },
   {
    "duration": 3,
    "start_time": "2023-02-05T19:37:03.683Z"
   },
   {
    "duration": 3,
    "start_time": "2023-02-05T19:37:07.056Z"
   },
   {
    "duration": 252097,
    "start_time": "2023-02-05T19:37:07.652Z"
   },
   {
    "duration": 72,
    "start_time": "2023-02-05T19:41:19.759Z"
   },
   {
    "duration": 6,
    "start_time": "2023-02-05T19:41:19.840Z"
   },
   {
    "duration": 19974,
    "start_time": "2023-02-05T19:41:30.838Z"
   },
   {
    "duration": 5,
    "start_time": "2023-02-05T19:41:56.564Z"
   },
   {
    "duration": 4,
    "start_time": "2023-02-05T19:42:03.181Z"
   },
   {
    "duration": 3,
    "start_time": "2023-02-05T19:42:17.916Z"
   },
   {
    "duration": 3,
    "start_time": "2023-02-05T19:42:20.748Z"
   },
   {
    "duration": 145,
    "start_time": "2023-02-05T19:42:35.215Z"
   },
   {
    "duration": 17,
    "start_time": "2023-02-05T19:42:40.223Z"
   },
   {
    "duration": 47,
    "start_time": "2023-02-05T20:31:32.575Z"
   },
   {
    "duration": 3,
    "start_time": "2023-02-05T20:31:43.192Z"
   },
   {
    "duration": 2390,
    "start_time": "2023-02-05T20:31:43.198Z"
   },
   {
    "duration": 403,
    "start_time": "2023-02-05T20:31:45.590Z"
   },
   {
    "duration": 12,
    "start_time": "2023-02-05T20:31:45.995Z"
   },
   {
    "duration": 3668,
    "start_time": "2023-02-05T20:31:46.009Z"
   },
   {
    "duration": 10,
    "start_time": "2023-02-05T20:31:49.679Z"
   },
   {
    "duration": 35,
    "start_time": "2023-02-05T20:31:49.690Z"
   },
   {
    "duration": 15,
    "start_time": "2023-02-05T20:31:49.727Z"
   },
   {
    "duration": 23,
    "start_time": "2023-02-05T20:31:49.744Z"
   },
   {
    "duration": 175,
    "start_time": "2023-02-05T20:31:49.769Z"
   },
   {
    "duration": 2002,
    "start_time": "2023-02-05T20:31:49.947Z"
   },
   {
    "duration": 4,
    "start_time": "2023-02-05T20:31:51.951Z"
   },
   {
    "duration": 8,
    "start_time": "2023-02-05T20:31:51.957Z"
   },
   {
    "duration": 92325,
    "start_time": "2023-02-05T20:31:51.966Z"
   },
   {
    "duration": 4,
    "start_time": "2023-02-05T20:33:24.293Z"
   },
   {
    "duration": 8,
    "start_time": "2023-02-05T20:33:24.299Z"
   },
   {
    "duration": 127,
    "start_time": "2023-02-05T20:33:24.309Z"
   },
   {
    "duration": 6081,
    "start_time": "2023-02-05T20:33:24.438Z"
   },
   {
    "duration": 6,
    "start_time": "2023-02-05T20:33:30.521Z"
   },
   {
    "duration": 1547,
    "start_time": "2023-02-05T20:33:30.528Z"
   },
   {
    "duration": 7,
    "start_time": "2023-02-05T20:33:32.077Z"
   },
   {
    "duration": 6,
    "start_time": "2023-02-05T20:33:32.085Z"
   },
   {
    "duration": 4,
    "start_time": "2023-02-05T20:33:32.093Z"
   },
   {
    "duration": 5,
    "start_time": "2023-02-05T20:33:32.099Z"
   },
   {
    "duration": 6,
    "start_time": "2023-02-05T20:33:32.106Z"
   },
   {
    "duration": 18,
    "start_time": "2023-02-05T20:33:32.114Z"
   },
   {
    "duration": 10,
    "start_time": "2023-02-05T20:33:32.140Z"
   },
   {
    "duration": 251389,
    "start_time": "2023-02-05T20:33:32.153Z"
   },
   {
    "duration": 18,
    "start_time": "2023-02-05T20:37:43.626Z"
   },
   {
    "duration": 6,
    "start_time": "2023-02-05T20:37:43.646Z"
   },
   {
    "duration": 9,
    "start_time": "2023-02-05T20:37:43.653Z"
   },
   {
    "duration": 6,
    "start_time": "2023-02-05T20:37:43.664Z"
   },
   {
    "duration": 13,
    "start_time": "2023-02-05T20:37:43.672Z"
   },
   {
    "duration": 12,
    "start_time": "2023-02-05T20:37:43.687Z"
   },
   {
    "duration": 11,
    "start_time": "2023-02-05T20:37:43.739Z"
   },
   {
    "duration": 11,
    "start_time": "2023-02-05T20:37:43.752Z"
   },
   {
    "duration": 45,
    "start_time": "2023-02-06T04:03:03.936Z"
   },
   {
    "duration": 8,
    "start_time": "2023-02-06T08:45:12.711Z"
   },
   {
    "duration": 2057,
    "start_time": "2023-02-06T08:45:12.722Z"
   },
   {
    "duration": 688,
    "start_time": "2023-02-06T08:45:14.782Z"
   },
   {
    "duration": 7,
    "start_time": "2023-02-06T08:45:15.472Z"
   },
   {
    "duration": 2370,
    "start_time": "2023-02-06T08:45:15.482Z"
   },
   {
    "duration": 9,
    "start_time": "2023-02-06T08:45:17.854Z"
   },
   {
    "duration": 35,
    "start_time": "2023-02-06T08:45:17.865Z"
   },
   {
    "duration": 5,
    "start_time": "2023-02-06T08:45:17.902Z"
   },
   {
    "duration": 29,
    "start_time": "2023-02-06T08:45:17.909Z"
   },
   {
    "duration": 198,
    "start_time": "2023-02-06T08:45:17.940Z"
   },
   {
    "duration": 1819,
    "start_time": "2023-02-06T08:45:18.141Z"
   },
   {
    "duration": 28,
    "start_time": "2023-02-06T08:45:19.962Z"
   },
   {
    "duration": 4,
    "start_time": "2023-02-06T08:45:19.992Z"
   },
   {
    "duration": 88688,
    "start_time": "2023-02-06T08:45:19.998Z"
   },
   {
    "duration": 3,
    "start_time": "2023-02-06T08:46:48.691Z"
   },
   {
    "duration": 8,
    "start_time": "2023-02-06T08:46:48.695Z"
   },
   {
    "duration": 139,
    "start_time": "2023-02-06T08:46:48.705Z"
   },
   {
    "duration": 5881,
    "start_time": "2023-02-06T08:46:48.845Z"
   },
   {
    "duration": 4,
    "start_time": "2023-02-06T08:46:54.729Z"
   },
   {
    "duration": 1643,
    "start_time": "2023-02-06T08:46:54.735Z"
   },
   {
    "duration": 4,
    "start_time": "2023-02-06T08:46:56.380Z"
   },
   {
    "duration": 20,
    "start_time": "2023-02-06T08:46:56.385Z"
   },
   {
    "duration": 29,
    "start_time": "2023-02-06T08:46:56.406Z"
   },
   {
    "duration": 12,
    "start_time": "2023-02-06T08:46:56.437Z"
   },
   {
    "duration": 18,
    "start_time": "2023-02-06T08:46:56.451Z"
   },
   {
    "duration": 6,
    "start_time": "2023-02-06T08:46:56.471Z"
   },
   {
    "duration": 22,
    "start_time": "2023-02-06T08:46:56.479Z"
   },
   {
    "duration": 3,
    "start_time": "2023-02-06T09:42:20.154Z"
   },
   {
    "duration": 6,
    "start_time": "2023-02-06T09:42:20.164Z"
   },
   {
    "duration": 19,
    "start_time": "2023-02-06T09:42:20.172Z"
   },
   {
    "duration": 5,
    "start_time": "2023-02-06T09:42:20.193Z"
   },
   {
    "duration": 734,
    "start_time": "2023-02-06T09:42:20.200Z"
   },
   {
    "duration": 7,
    "start_time": "2023-02-06T09:42:20.937Z"
   },
   {
    "duration": 38,
    "start_time": "2023-02-06T09:42:20.945Z"
   },
   {
    "duration": 5,
    "start_time": "2023-02-06T09:42:20.992Z"
   },
   {
    "duration": 19,
    "start_time": "2023-02-06T09:42:20.999Z"
   },
   {
    "duration": 168,
    "start_time": "2023-02-06T09:42:21.020Z"
   },
   {
    "duration": 9,
    "start_time": "2023-02-06T09:42:44.098Z"
   },
   {
    "duration": 2,
    "start_time": "2023-02-06T09:43:06.989Z"
   },
   {
    "duration": 1635,
    "start_time": "2023-02-06T09:43:07.040Z"
   },
   {
    "duration": 278,
    "start_time": "2023-02-06T09:43:08.676Z"
   },
   {
    "duration": 5,
    "start_time": "2023-02-06T09:43:08.956Z"
   },
   {
    "duration": 2237,
    "start_time": "2023-02-06T09:43:08.962Z"
   },
   {
    "duration": 10,
    "start_time": "2023-02-06T09:43:11.201Z"
   },
   {
    "duration": 34,
    "start_time": "2023-02-06T09:43:11.213Z"
   },
   {
    "duration": 5,
    "start_time": "2023-02-06T09:43:11.249Z"
   },
   {
    "duration": 36,
    "start_time": "2023-02-06T09:43:11.256Z"
   },
   {
    "duration": 159,
    "start_time": "2023-02-06T09:43:11.293Z"
   },
   {
    "duration": 1773,
    "start_time": "2023-02-06T09:43:11.454Z"
   },
   {
    "duration": 15,
    "start_time": "2023-02-06T09:43:13.230Z"
   },
   {
    "duration": 13,
    "start_time": "2023-02-06T09:43:13.247Z"
   },
   {
    "duration": 85779,
    "start_time": "2023-02-06T09:43:13.262Z"
   },
   {
    "duration": 3,
    "start_time": "2023-02-06T09:44:39.045Z"
   },
   {
    "duration": 7,
    "start_time": "2023-02-06T09:44:39.050Z"
   },
   {
    "duration": 108,
    "start_time": "2023-02-06T09:44:39.059Z"
   },
   {
    "duration": 5416,
    "start_time": "2023-02-06T09:44:39.169Z"
   },
   {
    "duration": 8,
    "start_time": "2023-02-06T09:44:44.586Z"
   },
   {
    "duration": 1287,
    "start_time": "2023-02-06T09:44:44.596Z"
   },
   {
    "duration": 7,
    "start_time": "2023-02-06T09:44:45.884Z"
   },
   {
    "duration": 5,
    "start_time": "2023-02-06T09:44:45.892Z"
   },
   {
    "duration": 10,
    "start_time": "2023-02-06T09:44:45.899Z"
   },
   {
    "duration": 5,
    "start_time": "2023-02-06T09:44:45.911Z"
   },
   {
    "duration": 4,
    "start_time": "2023-02-06T09:44:45.918Z"
   },
   {
    "duration": 5,
    "start_time": "2023-02-06T09:44:45.923Z"
   },
   {
    "duration": 13,
    "start_time": "2023-02-06T09:44:45.930Z"
   },
   {
    "duration": 2039816,
    "start_time": "2023-02-06T09:44:45.945Z"
   },
   {
    "duration": 8,
    "start_time": "2023-02-06T10:18:45.762Z"
   },
   {
    "duration": 160,
    "start_time": "2023-02-06T10:18:45.771Z"
   },
   {
    "duration": 8,
    "start_time": "2023-02-06T18:47:16.687Z"
   },
   {
    "duration": 1845,
    "start_time": "2023-02-06T18:47:16.697Z"
   },
   {
    "duration": 874,
    "start_time": "2023-02-06T18:47:18.544Z"
   },
   {
    "duration": 7,
    "start_time": "2023-02-06T18:47:19.420Z"
   },
   {
    "duration": 3571,
    "start_time": "2023-02-06T18:47:19.429Z"
   },
   {
    "duration": 11,
    "start_time": "2023-02-06T18:47:23.002Z"
   },
   {
    "duration": 34,
    "start_time": "2023-02-06T18:47:23.015Z"
   },
   {
    "duration": 7,
    "start_time": "2023-02-06T18:47:23.051Z"
   },
   {
    "duration": 23,
    "start_time": "2023-02-06T18:47:23.060Z"
   },
   {
    "duration": 179,
    "start_time": "2023-02-06T18:47:23.085Z"
   },
   {
    "duration": 1893,
    "start_time": "2023-02-06T18:47:23.266Z"
   },
   {
    "duration": 8,
    "start_time": "2023-02-06T18:47:25.160Z"
   },
   {
    "duration": 6,
    "start_time": "2023-02-06T18:47:25.170Z"
   },
   {
    "duration": 87404,
    "start_time": "2023-02-06T18:47:25.177Z"
   },
   {
    "duration": 3,
    "start_time": "2023-02-06T18:48:52.583Z"
   },
   {
    "duration": 16,
    "start_time": "2023-02-06T18:48:52.587Z"
   },
   {
    "duration": 116,
    "start_time": "2023-02-06T18:48:52.606Z"
   },
   {
    "duration": 5959,
    "start_time": "2023-02-06T18:48:52.724Z"
   },
   {
    "duration": 4,
    "start_time": "2023-02-06T18:48:58.685Z"
   },
   {
    "duration": 1415,
    "start_time": "2023-02-06T18:48:58.691Z"
   },
   {
    "duration": 4,
    "start_time": "2023-02-06T18:49:00.108Z"
   },
   {
    "duration": 22,
    "start_time": "2023-02-06T18:49:00.116Z"
   },
   {
    "duration": 36,
    "start_time": "2023-02-06T18:49:00.139Z"
   },
   {
    "duration": 16,
    "start_time": "2023-02-06T18:49:00.177Z"
   },
   {
    "duration": 27,
    "start_time": "2023-02-06T18:49:00.195Z"
   },
   {
    "duration": 4,
    "start_time": "2023-02-06T18:49:18.780Z"
   },
   {
    "duration": 3,
    "start_time": "2023-02-06T18:49:27.199Z"
   },
   {
    "duration": 2,
    "start_time": "2023-02-06T18:49:29.052Z"
   },
   {
    "duration": 10,
    "start_time": "2023-02-06T18:49:30.377Z"
   },
   {
    "duration": 8,
    "start_time": "2023-02-06T18:51:29.094Z"
   },
   {
    "duration": 1814,
    "start_time": "2023-02-06T18:51:29.110Z"
   },
   {
    "duration": 566,
    "start_time": "2023-02-06T18:51:30.926Z"
   },
   {
    "duration": 5,
    "start_time": "2023-02-06T18:51:31.494Z"
   },
   {
    "duration": 3563,
    "start_time": "2023-02-06T18:51:31.501Z"
   },
   {
    "duration": 10,
    "start_time": "2023-02-06T18:51:35.066Z"
   },
   {
    "duration": 42,
    "start_time": "2023-02-06T18:51:35.080Z"
   },
   {
    "duration": 5,
    "start_time": "2023-02-06T18:51:35.124Z"
   },
   {
    "duration": 20,
    "start_time": "2023-02-06T18:51:35.130Z"
   },
   {
    "duration": 181,
    "start_time": "2023-02-06T18:51:35.152Z"
   },
   {
    "duration": 1891,
    "start_time": "2023-02-06T18:51:35.336Z"
   },
   {
    "duration": 6,
    "start_time": "2023-02-06T18:51:37.229Z"
   },
   {
    "duration": 9,
    "start_time": "2023-02-06T18:51:37.237Z"
   },
   {
    "duration": 89337,
    "start_time": "2023-02-06T18:51:37.247Z"
   },
   {
    "duration": 3,
    "start_time": "2023-02-06T18:53:06.585Z"
   },
   {
    "duration": 15,
    "start_time": "2023-02-06T18:53:06.590Z"
   },
   {
    "duration": 101,
    "start_time": "2023-02-06T18:53:06.608Z"
   },
   {
    "duration": 5693,
    "start_time": "2023-02-06T18:53:06.710Z"
   },
   {
    "duration": 5,
    "start_time": "2023-02-06T18:53:12.405Z"
   },
   {
    "duration": 1338,
    "start_time": "2023-02-06T18:53:12.420Z"
   },
   {
    "duration": 4,
    "start_time": "2023-02-06T18:53:13.760Z"
   },
   {
    "duration": 15,
    "start_time": "2023-02-06T18:53:13.766Z"
   },
   {
    "duration": 17,
    "start_time": "2023-02-06T18:53:13.783Z"
   },
   {
    "duration": 19,
    "start_time": "2023-02-06T18:53:13.801Z"
   },
   {
    "duration": 3,
    "start_time": "2023-02-06T18:53:13.822Z"
   },
   {
    "duration": 10,
    "start_time": "2023-02-06T18:53:13.826Z"
   },
   {
    "duration": 17,
    "start_time": "2023-02-06T18:53:13.837Z"
   },
   {
    "duration": 7,
    "start_time": "2023-02-06T18:53:59.780Z"
   },
   {
    "duration": 1788,
    "start_time": "2023-02-06T18:53:59.789Z"
   },
   {
    "duration": 367,
    "start_time": "2023-02-06T18:54:01.579Z"
   },
   {
    "duration": 6,
    "start_time": "2023-02-06T18:54:01.948Z"
   },
   {
    "duration": 3677,
    "start_time": "2023-02-06T18:54:01.957Z"
   },
   {
    "duration": 9,
    "start_time": "2023-02-06T18:54:05.638Z"
   },
   {
    "duration": 45,
    "start_time": "2023-02-06T18:54:05.649Z"
   },
   {
    "duration": 5,
    "start_time": "2023-02-06T18:54:05.696Z"
   },
   {
    "duration": 34,
    "start_time": "2023-02-06T18:54:05.703Z"
   },
   {
    "duration": 166,
    "start_time": "2023-02-06T18:54:05.739Z"
   },
   {
    "duration": 1912,
    "start_time": "2023-02-06T18:54:05.909Z"
   },
   {
    "duration": 5,
    "start_time": "2023-02-06T18:54:07.823Z"
   },
   {
    "duration": 9,
    "start_time": "2023-02-06T18:54:07.829Z"
   },
   {
    "duration": 88491,
    "start_time": "2023-02-06T18:54:07.840Z"
   },
   {
    "duration": 3,
    "start_time": "2023-02-06T18:55:36.332Z"
   },
   {
    "duration": 5,
    "start_time": "2023-02-06T18:55:36.338Z"
   },
   {
    "duration": 116,
    "start_time": "2023-02-06T18:55:36.345Z"
   },
   {
    "duration": 5615,
    "start_time": "2023-02-06T18:55:36.463Z"
   },
   {
    "duration": 4,
    "start_time": "2023-02-06T18:55:42.079Z"
   },
   {
    "duration": 1319,
    "start_time": "2023-02-06T18:55:42.085Z"
   },
   {
    "duration": 7,
    "start_time": "2023-02-06T18:55:43.406Z"
   },
   {
    "duration": 13,
    "start_time": "2023-02-06T18:55:43.415Z"
   },
   {
    "duration": 7,
    "start_time": "2023-02-06T18:55:43.430Z"
   },
   {
    "duration": 11,
    "start_time": "2023-02-06T18:55:43.439Z"
   },
   {
    "duration": 13,
    "start_time": "2023-02-06T18:55:43.451Z"
   },
   {
    "duration": 5,
    "start_time": "2023-02-06T18:55:43.466Z"
   },
   {
    "duration": 11,
    "start_time": "2023-02-06T18:55:43.473Z"
   },
   {
    "duration": 49,
    "start_time": "2023-02-06T18:56:51.491Z"
   },
   {
    "duration": 1903965,
    "start_time": "2023-02-06T18:57:37.638Z"
   },
   {
    "duration": 8,
    "start_time": "2023-02-06T19:29:51.746Z"
   },
   {
    "duration": 3,
    "start_time": "2023-02-06T19:31:35.569Z"
   },
   {
    "duration": 2,
    "start_time": "2023-02-06T19:31:39.754Z"
   },
   {
    "duration": 8,
    "start_time": "2023-02-06T19:32:19.029Z"
   },
   {
    "duration": 1635,
    "start_time": "2023-02-06T19:32:19.038Z"
   },
   {
    "duration": 244,
    "start_time": "2023-02-06T19:32:20.676Z"
   },
   {
    "duration": 6,
    "start_time": "2023-02-06T19:32:20.922Z"
   },
   {
    "duration": 758,
    "start_time": "2023-02-06T19:32:20.930Z"
   },
   {
    "duration": 18,
    "start_time": "2023-02-06T19:32:21.689Z"
   },
   {
    "duration": 42,
    "start_time": "2023-02-06T19:32:21.709Z"
   },
   {
    "duration": 5,
    "start_time": "2023-02-06T19:32:21.753Z"
   },
   {
    "duration": 18,
    "start_time": "2023-02-06T19:32:21.759Z"
   },
   {
    "duration": 171,
    "start_time": "2023-02-06T19:32:21.778Z"
   },
   {
    "duration": 1865,
    "start_time": "2023-02-06T19:32:21.951Z"
   },
   {
    "duration": 5,
    "start_time": "2023-02-06T19:32:23.818Z"
   },
   {
    "duration": 5,
    "start_time": "2023-02-06T19:32:23.824Z"
   },
   {
    "duration": 82937,
    "start_time": "2023-02-06T19:32:23.830Z"
   },
   {
    "duration": 3,
    "start_time": "2023-02-06T19:33:46.768Z"
   },
   {
    "duration": 6,
    "start_time": "2023-02-06T19:33:46.773Z"
   },
   {
    "duration": 101,
    "start_time": "2023-02-06T19:33:46.780Z"
   },
   {
    "duration": 5122,
    "start_time": "2023-02-06T19:33:46.882Z"
   },
   {
    "duration": 4,
    "start_time": "2023-02-06T19:33:52.006Z"
   },
   {
    "duration": 1263,
    "start_time": "2023-02-06T19:33:52.011Z"
   },
   {
    "duration": 4,
    "start_time": "2023-02-06T19:33:53.275Z"
   },
   {
    "duration": 5,
    "start_time": "2023-02-06T19:33:53.281Z"
   },
   {
    "duration": 5,
    "start_time": "2023-02-06T19:33:53.288Z"
   },
   {
    "duration": 3,
    "start_time": "2023-02-06T19:34:50.677Z"
   },
   {
    "duration": 187280,
    "start_time": "2023-02-06T19:34:50.958Z"
   },
   {
    "duration": 4,
    "start_time": "2023-02-06T19:37:58.240Z"
   },
   {
    "duration": 6,
    "start_time": "2023-02-06T19:37:58.245Z"
   },
   {
    "duration": 5033,
    "start_time": "2023-02-06T19:37:58.253Z"
   },
   {
    "duration": 4,
    "start_time": "2023-02-06T19:38:03.287Z"
   },
   {
    "duration": 43,
    "start_time": "2023-02-06T19:38:03.292Z"
   },
   {
    "duration": 4,
    "start_time": "2023-02-06T19:44:36.670Z"
   },
   {
    "duration": 6,
    "start_time": "2023-02-06T19:46:21.700Z"
   },
   {
    "duration": 45,
    "start_time": "2023-02-06T19:46:56.696Z"
   },
   {
    "duration": 3,
    "start_time": "2023-02-06T19:47:01.520Z"
   },
   {
    "duration": 131,
    "start_time": "2023-02-06T19:47:08.570Z"
   },
   {
    "duration": 5,
    "start_time": "2023-02-06T19:47:17.064Z"
   },
   {
    "duration": 50,
    "start_time": "2023-02-06T19:51:12.732Z"
   },
   {
    "duration": 3,
    "start_time": "2023-02-06T19:51:17.382Z"
   },
   {
    "duration": 1688,
    "start_time": "2023-02-06T19:51:17.391Z"
   },
   {
    "duration": 376,
    "start_time": "2023-02-06T19:51:19.080Z"
   },
   {
    "duration": 6,
    "start_time": "2023-02-06T19:51:19.457Z"
   },
   {
    "duration": 3308,
    "start_time": "2023-02-06T19:51:19.465Z"
   },
   {
    "duration": 9,
    "start_time": "2023-02-06T19:51:22.774Z"
   },
   {
    "duration": 32,
    "start_time": "2023-02-06T19:51:22.785Z"
   },
   {
    "duration": 4,
    "start_time": "2023-02-06T19:51:22.819Z"
   },
   {
    "duration": 19,
    "start_time": "2023-02-06T19:51:22.825Z"
   },
   {
    "duration": 166,
    "start_time": "2023-02-06T19:51:22.845Z"
   },
   {
    "duration": 1918,
    "start_time": "2023-02-06T19:51:23.014Z"
   },
   {
    "duration": 5,
    "start_time": "2023-02-06T19:51:24.933Z"
   },
   {
    "duration": 6,
    "start_time": "2023-02-06T19:51:24.939Z"
   },
   {
    "duration": 81963,
    "start_time": "2023-02-06T19:51:24.946Z"
   },
   {
    "duration": 2,
    "start_time": "2023-02-06T19:52:46.911Z"
   },
   {
    "duration": 8,
    "start_time": "2023-02-06T19:52:46.915Z"
   },
   {
    "duration": 99,
    "start_time": "2023-02-06T19:52:46.925Z"
   },
   {
    "duration": 5156,
    "start_time": "2023-02-06T19:52:47.026Z"
   },
   {
    "duration": 3,
    "start_time": "2023-02-06T19:52:52.184Z"
   },
   {
    "duration": 1253,
    "start_time": "2023-02-06T19:52:52.189Z"
   },
   {
    "duration": 4,
    "start_time": "2023-02-06T19:52:53.444Z"
   },
   {
    "duration": 16,
    "start_time": "2023-02-06T19:52:53.450Z"
   },
   {
    "duration": 10,
    "start_time": "2023-02-06T19:52:53.468Z"
   },
   {
    "duration": 45,
    "start_time": "2023-02-06T19:52:53.479Z"
   },
   {
    "duration": 3,
    "start_time": "2023-02-06T19:54:51.572Z"
   },
   {
    "duration": 5,
    "start_time": "2023-02-06T19:55:03.559Z"
   },
   {
    "duration": 4,
    "start_time": "2023-02-06T19:55:16.427Z"
   },
   {
    "duration": 3,
    "start_time": "2023-02-06T19:55:20.508Z"
   },
   {
    "duration": 52,
    "start_time": "2023-02-06T19:56:14.575Z"
   },
   {
    "duration": 7,
    "start_time": "2023-02-06T19:59:53.294Z"
   },
   {
    "duration": 3,
    "start_time": "2023-02-06T19:59:57.994Z"
   },
   {
    "duration": 1674,
    "start_time": "2023-02-06T19:59:58.002Z"
   },
   {
    "duration": 273,
    "start_time": "2023-02-06T19:59:59.678Z"
   },
   {
    "duration": 6,
    "start_time": "2023-02-06T19:59:59.953Z"
   },
   {
    "duration": 3589,
    "start_time": "2023-02-06T19:59:59.961Z"
   },
   {
    "duration": 9,
    "start_time": "2023-02-06T20:00:03.552Z"
   },
   {
    "duration": 33,
    "start_time": "2023-02-06T20:00:03.562Z"
   },
   {
    "duration": 16,
    "start_time": "2023-02-06T20:00:03.597Z"
   },
   {
    "duration": 19,
    "start_time": "2023-02-06T20:00:03.614Z"
   },
   {
    "duration": 154,
    "start_time": "2023-02-06T20:00:03.635Z"
   },
   {
    "duration": 1938,
    "start_time": "2023-02-06T20:00:03.792Z"
   },
   {
    "duration": 6,
    "start_time": "2023-02-06T20:00:05.731Z"
   },
   {
    "duration": 9,
    "start_time": "2023-02-06T20:00:05.739Z"
   },
   {
    "duration": 80019,
    "start_time": "2023-02-06T20:00:05.750Z"
   },
   {
    "duration": 3,
    "start_time": "2023-02-06T20:01:25.771Z"
   },
   {
    "duration": 12,
    "start_time": "2023-02-06T20:01:25.775Z"
   },
   {
    "duration": 102,
    "start_time": "2023-02-06T20:01:25.788Z"
   },
   {
    "duration": 5163,
    "start_time": "2023-02-06T20:01:25.892Z"
   },
   {
    "duration": 3,
    "start_time": "2023-02-06T20:01:31.057Z"
   },
   {
    "duration": 1234,
    "start_time": "2023-02-06T20:01:31.062Z"
   },
   {
    "duration": 7,
    "start_time": "2023-02-06T20:01:32.298Z"
   },
   {
    "duration": 6,
    "start_time": "2023-02-06T20:01:32.307Z"
   },
   {
    "duration": 4,
    "start_time": "2023-02-06T20:01:32.315Z"
   },
   {
    "duration": 9,
    "start_time": "2023-02-06T20:01:32.321Z"
   },
   {
    "duration": 8,
    "start_time": "2023-02-06T20:01:32.332Z"
   },
   {
    "duration": 3,
    "start_time": "2023-02-06T20:07:34.672Z"
   },
   {
    "duration": 5,
    "start_time": "2023-02-06T20:07:38.040Z"
   },
   {
    "duration": 4,
    "start_time": "2023-02-06T20:07:41.771Z"
   },
   {
    "duration": 4,
    "start_time": "2023-02-06T20:07:44.118Z"
   },
   {
    "duration": 7,
    "start_time": "2023-02-06T20:20:04.545Z"
   },
   {
    "duration": 1632,
    "start_time": "2023-02-06T20:20:04.555Z"
   },
   {
    "duration": 312,
    "start_time": "2023-02-06T20:20:06.189Z"
   },
   {
    "duration": 8,
    "start_time": "2023-02-06T20:20:06.503Z"
   },
   {
    "duration": 3589,
    "start_time": "2023-02-06T20:20:06.514Z"
   },
   {
    "duration": 10,
    "start_time": "2023-02-06T20:20:10.105Z"
   },
   {
    "duration": 40,
    "start_time": "2023-02-06T20:20:10.117Z"
   },
   {
    "duration": 4,
    "start_time": "2023-02-06T20:20:10.159Z"
   },
   {
    "duration": 20,
    "start_time": "2023-02-06T20:20:10.165Z"
   },
   {
    "duration": 180,
    "start_time": "2023-02-06T20:20:10.187Z"
   },
   {
    "duration": 1958,
    "start_time": "2023-02-06T20:20:10.369Z"
   },
   {
    "duration": 5,
    "start_time": "2023-02-06T20:20:12.328Z"
   },
   {
    "duration": 5,
    "start_time": "2023-02-06T20:20:12.334Z"
   },
   {
    "duration": 83188,
    "start_time": "2023-02-06T20:20:12.341Z"
   },
   {
    "duration": 2,
    "start_time": "2023-02-06T20:21:35.531Z"
   },
   {
    "duration": 13,
    "start_time": "2023-02-06T20:21:35.535Z"
   },
   {
    "duration": 97,
    "start_time": "2023-02-06T20:21:35.551Z"
   },
   {
    "duration": 5253,
    "start_time": "2023-02-06T20:21:35.650Z"
   },
   {
    "duration": 4,
    "start_time": "2023-02-06T20:21:40.905Z"
   },
   {
    "duration": 1200,
    "start_time": "2023-02-06T20:21:40.911Z"
   },
   {
    "duration": 4,
    "start_time": "2023-02-06T20:21:42.113Z"
   },
   {
    "duration": 3,
    "start_time": "2023-02-06T20:22:08.815Z"
   },
   {
    "duration": 148,
    "start_time": "2023-02-06T20:22:13.425Z"
   },
   {
    "duration": 2,
    "start_time": "2023-02-06T20:22:52.895Z"
   },
   {
    "duration": 10,
    "start_time": "2023-02-06T20:22:58.561Z"
   },
   {
    "duration": 3,
    "start_time": "2023-02-06T20:23:01.844Z"
   },
   {
    "duration": 3,
    "start_time": "2023-02-06T20:23:06.185Z"
   },
   {
    "duration": 2247161,
    "start_time": "2023-02-06T20:23:12.396Z"
   },
   {
    "duration": 13,
    "start_time": "2023-02-06T21:00:39.559Z"
   },
   {
    "duration": 0,
    "start_time": "2023-02-06T21:00:39.574Z"
   },
   {
    "duration": 7,
    "start_time": "2023-02-07T18:25:18.816Z"
   },
   {
    "duration": 1962,
    "start_time": "2023-02-07T18:25:19.444Z"
   },
   {
    "duration": 810,
    "start_time": "2023-02-07T18:25:23.892Z"
   },
   {
    "duration": 5,
    "start_time": "2023-02-07T18:25:24.704Z"
   },
   {
    "duration": 2457,
    "start_time": "2023-02-07T18:26:38.735Z"
   },
   {
    "duration": 11,
    "start_time": "2023-02-07T18:26:41.194Z"
   },
   {
    "duration": 34,
    "start_time": "2023-02-07T18:26:41.207Z"
   },
   {
    "duration": 4,
    "start_time": "2023-02-07T18:26:41.243Z"
   },
   {
    "duration": 17,
    "start_time": "2023-02-07T18:26:44.000Z"
   },
   {
    "duration": 151,
    "start_time": "2023-02-07T18:26:45.935Z"
   },
   {
    "duration": 3368,
    "start_time": "2023-02-07T18:26:49.352Z"
   },
   {
    "duration": 8,
    "start_time": "2023-02-07T18:28:11.012Z"
   },
   {
    "duration": 2959,
    "start_time": "2023-02-07T18:28:11.022Z"
   },
   {
    "duration": 339,
    "start_time": "2023-02-07T18:28:13.982Z"
   },
   {
    "duration": 13,
    "start_time": "2023-02-07T18:28:14.323Z"
   },
   {
    "duration": 2431,
    "start_time": "2023-02-07T18:28:14.340Z"
   },
   {
    "duration": 10,
    "start_time": "2023-02-07T18:28:16.773Z"
   },
   {
    "duration": 36,
    "start_time": "2023-02-07T18:28:16.785Z"
   },
   {
    "duration": 5,
    "start_time": "2023-02-07T18:28:16.823Z"
   },
   {
    "duration": 23,
    "start_time": "2023-02-07T18:28:16.829Z"
   },
   {
    "duration": 174,
    "start_time": "2023-02-07T18:28:16.855Z"
   },
   {
    "duration": 2010,
    "start_time": "2023-02-07T18:28:22.653Z"
   },
   {
    "duration": 3,
    "start_time": "2023-02-07T18:28:45.612Z"
   },
   {
    "duration": 3,
    "start_time": "2023-02-07T18:28:49.110Z"
   },
   {
    "duration": 8,
    "start_time": "2023-02-07T18:32:45.583Z"
   },
   {
    "duration": 3511,
    "start_time": "2023-02-07T18:32:54.566Z"
   },
   {
    "duration": 557,
    "start_time": "2023-02-07T18:35:57.209Z"
   },
   {
    "duration": 1076,
    "start_time": "2023-02-07T18:36:00.961Z"
   },
   {
    "duration": 1018,
    "start_time": "2023-02-07T18:36:02.040Z"
   },
   {
    "duration": 6,
    "start_time": "2023-02-07T18:36:03.060Z"
   },
   {
    "duration": 3482,
    "start_time": "2023-02-07T18:36:03.960Z"
   },
   {
    "duration": 12,
    "start_time": "2023-02-07T18:36:07.444Z"
   },
   {
    "duration": 33,
    "start_time": "2023-02-07T18:36:07.458Z"
   },
   {
    "duration": 5,
    "start_time": "2023-02-07T18:36:07.493Z"
   },
   {
    "duration": 41,
    "start_time": "2023-02-07T18:36:07.500Z"
   },
   {
    "duration": 219,
    "start_time": "2023-02-07T18:36:07.543Z"
   },
   {
    "duration": 150,
    "start_time": "2023-02-07T18:36:09.448Z"
   },
   {
    "duration": 2041,
    "start_time": "2023-02-07T18:36:11.948Z"
   },
   {
    "duration": 3,
    "start_time": "2023-02-07T18:36:16.317Z"
   },
   {
    "duration": 3,
    "start_time": "2023-02-07T18:36:18.258Z"
   },
   {
    "duration": 3,
    "start_time": "2023-02-07T18:37:50.625Z"
   },
   {
    "duration": 378,
    "start_time": "2023-02-07T18:38:03.119Z"
   },
   {
    "duration": 43,
    "start_time": "2023-02-07T18:39:00.372Z"
   },
   {
    "duration": 19,
    "start_time": "2023-02-07T18:39:03.157Z"
   },
   {
    "duration": 34,
    "start_time": "2023-02-07T18:39:23.177Z"
   },
   {
    "duration": 4,
    "start_time": "2023-02-07T18:39:32.306Z"
   },
   {
    "duration": 22,
    "start_time": "2023-02-07T18:39:49.612Z"
   },
   {
    "duration": 32,
    "start_time": "2023-02-07T18:39:54.929Z"
   },
   {
    "duration": 34,
    "start_time": "2023-02-07T18:40:01.778Z"
   },
   {
    "duration": 13,
    "start_time": "2023-02-07T18:40:10.567Z"
   },
   {
    "duration": 4,
    "start_time": "2023-02-07T18:40:17.768Z"
   },
   {
    "duration": 71,
    "start_time": "2023-02-07T18:40:44.251Z"
   },
   {
    "duration": 7,
    "start_time": "2023-02-07T18:40:49.152Z"
   },
   {
    "duration": 3,
    "start_time": "2023-02-07T18:41:19.294Z"
   },
   {
    "duration": 15,
    "start_time": "2023-02-07T18:41:19.303Z"
   },
   {
    "duration": 476,
    "start_time": "2023-02-07T18:41:19.322Z"
   },
   {
    "duration": 6,
    "start_time": "2023-02-07T18:41:19.800Z"
   },
   {
    "duration": 16,
    "start_time": "2023-02-07T18:41:19.809Z"
   },
   {
    "duration": 15,
    "start_time": "2023-02-07T18:41:19.827Z"
   },
   {
    "duration": 885,
    "start_time": "2023-02-07T18:41:19.843Z"
   },
   {
    "duration": 10,
    "start_time": "2023-02-07T18:41:20.730Z"
   },
   {
    "duration": 33,
    "start_time": "2023-02-07T18:41:20.742Z"
   },
   {
    "duration": 5,
    "start_time": "2023-02-07T18:41:20.777Z"
   },
   {
    "duration": 17,
    "start_time": "2023-02-07T18:41:20.783Z"
   },
   {
    "duration": 185,
    "start_time": "2023-02-07T18:41:20.802Z"
   },
   {
    "duration": 10,
    "start_time": "2023-02-07T18:41:51.194Z"
   },
   {
    "duration": 3724,
    "start_time": "2023-02-07T18:41:51.206Z"
   },
   {
    "duration": 495,
    "start_time": "2023-02-07T18:41:54.932Z"
   },
   {
    "duration": 850,
    "start_time": "2023-02-07T18:41:55.429Z"
   },
   {
    "duration": 201,
    "start_time": "2023-02-07T18:41:56.282Z"
   },
   {
    "duration": 7,
    "start_time": "2023-02-07T18:41:56.485Z"
   },
   {
    "duration": 3719,
    "start_time": "2023-02-07T18:41:56.494Z"
   },
   {
    "duration": 14,
    "start_time": "2023-02-07T18:42:00.215Z"
   },
   {
    "duration": 43,
    "start_time": "2023-02-07T18:42:00.232Z"
   },
   {
    "duration": 24,
    "start_time": "2023-02-07T18:42:00.277Z"
   },
   {
    "duration": 35,
    "start_time": "2023-02-07T18:42:00.303Z"
   },
   {
    "duration": 174,
    "start_time": "2023-02-07T18:42:00.340Z"
   },
   {
    "duration": 2033,
    "start_time": "2023-02-07T18:42:00.516Z"
   },
   {
    "duration": 5,
    "start_time": "2023-02-07T18:42:02.551Z"
   },
   {
    "duration": 14,
    "start_time": "2023-02-07T18:42:02.558Z"
   },
   {
    "duration": 7,
    "start_time": "2023-02-07T18:42:02.574Z"
   },
   {
    "duration": 24,
    "start_time": "2023-02-07T18:42:04.035Z"
   },
   {
    "duration": 605672,
    "start_time": "2023-02-07T18:42:15.165Z"
   },
   {
    "duration": 4124,
    "start_time": "2023-02-07T18:53:33.286Z"
   },
   {
    "duration": 5,
    "start_time": "2023-02-07T18:53:48.495Z"
   },
   {
    "duration": 2308741,
    "start_time": "2023-02-07T18:53:54.938Z"
   },
   {
    "duration": 3,
    "start_time": "2023-02-07T19:32:39.689Z"
   },
   {
    "duration": 3,
    "start_time": "2023-02-07T19:32:43.081Z"
   },
   {
    "duration": 19,
    "start_time": "2023-02-07T19:33:04.418Z"
   },
   {
    "duration": 69,
    "start_time": "2023-02-07T19:33:31.601Z"
   },
   {
    "duration": 31,
    "start_time": "2023-02-07T19:34:40.930Z"
   },
   {
    "duration": 4,
    "start_time": "2023-02-07T19:35:02.252Z"
   },
   {
    "duration": 21,
    "start_time": "2023-02-07T19:35:51.736Z"
   },
   {
    "duration": 7,
    "start_time": "2023-02-07T19:36:01.969Z"
   },
   {
    "duration": 45,
    "start_time": "2023-02-07T19:37:07.295Z"
   },
   {
    "duration": 8,
    "start_time": "2023-02-07T19:37:12.641Z"
   },
   {
    "duration": 7,
    "start_time": "2023-02-07T19:37:22.243Z"
   },
   {
    "duration": 7,
    "start_time": "2023-02-07T19:37:54.878Z"
   },
   {
    "duration": 51,
    "start_time": "2023-02-07T19:38:11.787Z"
   },
   {
    "duration": 8,
    "start_time": "2023-02-07T19:38:24.221Z"
   },
   {
    "duration": 7,
    "start_time": "2023-02-07T19:38:28.645Z"
   },
   {
    "duration": 8,
    "start_time": "2023-02-07T19:39:33.972Z"
   },
   {
    "duration": 10,
    "start_time": "2023-02-07T19:39:49.532Z"
   },
   {
    "duration": 9,
    "start_time": "2023-02-07T19:40:43.549Z"
   },
   {
    "duration": 6865,
    "start_time": "2023-02-07T19:41:32.659Z"
   },
   {
    "duration": 4,
    "start_time": "2023-02-07T19:41:47.034Z"
   },
   {
    "duration": 4,
    "start_time": "2023-02-07T19:41:50.865Z"
   },
   {
    "duration": 4,
    "start_time": "2023-02-07T19:42:10.933Z"
   },
   {
    "duration": 4,
    "start_time": "2023-02-07T19:42:13.670Z"
   },
   {
    "duration": 4,
    "start_time": "2023-02-07T19:42:19.392Z"
   },
   {
    "duration": 3,
    "start_time": "2023-02-07T19:42:26.404Z"
   },
   {
    "duration": 4,
    "start_time": "2023-02-07T19:42:28.636Z"
   },
   {
    "duration": 3,
    "start_time": "2023-02-07T19:42:42.568Z"
   },
   {
    "duration": 51,
    "start_time": "2023-02-07T19:42:53.336Z"
   },
   {
    "duration": 46,
    "start_time": "2023-02-10T10:46:50.882Z"
   }
  ],
  "kernelspec": {
   "display_name": "Python 3 (ipykernel)",
   "language": "python",
   "name": "python3"
  },
  "language_info": {
   "codemirror_mode": {
    "name": "ipython",
    "version": 3
   },
   "file_extension": ".py",
   "mimetype": "text/x-python",
   "name": "python",
   "nbconvert_exporter": "python",
   "pygments_lexer": "ipython3",
   "version": "3.9.12"
  },
  "toc": {
   "base_numbering": 1,
   "nav_menu": {},
   "number_sections": true,
   "sideBar": true,
   "skip_h1_title": true,
   "title_cell": "Содержание",
   "title_sidebar": "Contents",
   "toc_cell": true,
   "toc_position": {
    "height": "calc(100% - 180px)",
    "left": "10px",
    "top": "150px",
    "width": "302.363px"
   },
   "toc_section_display": true,
   "toc_window_display": true
  }
 },
 "nbformat": 4,
 "nbformat_minor": 2
}
